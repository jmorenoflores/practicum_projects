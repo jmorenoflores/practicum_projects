{
 "cells": [
  {
   "cell_type": "markdown",
   "metadata": {},
   "source": [
    "# Project: Passenger's preferences and external factors on ride-sharing rides\n",
    "\n",
    "## Purpose of project: \n",
    "A new ride-sharing company that's launching in Chicago wanted to find patterns in the available information. In this project, we analyzed the provied information to understand the passenger preferences and the impact of external factors on rides.\n",
    "\n",
    "## part 1 of project. \n",
    "For this part of the project, we wrote a code to parse the data on weather in Chicago in November 2017 from the website:\n",
    "[https://code.s3.yandex.net/data-analyst-eng/chicago_weather_2017.html]\n",
    "The name of the DataFrame was saved in the variable weather_records, and it was be specified as : attrs={\"id\": \"weather_records\"}. "
   ]
  },
  {
   "cell_type": "code",
   "execution_count": 3,
   "metadata": {},
   "outputs": [],
   "source": [
    "import requests\n",
    "from bs4 import BeautifulSoup\n",
    "import pandas as pd"
   ]
  },
  {
   "cell_type": "code",
   "execution_count": 4,
   "metadata": {},
   "outputs": [
    {
     "name": "stdout",
     "output_type": "stream",
     "text": [
      "           Date and time Temperature       Description\n",
      "0    2017-11-01 00:00:00     276.150     broken clouds\n",
      "1    2017-11-01 01:00:00     275.700  scattered clouds\n",
      "2    2017-11-01 02:00:00     275.610   overcast clouds\n",
      "3    2017-11-01 03:00:00     275.350     broken clouds\n",
      "4    2017-11-01 04:00:00     275.240     broken clouds\n",
      "..                   ...         ...               ...\n",
      "692  2017-11-29 20:00:00     281.340        few clouds\n",
      "693  2017-11-29 21:00:00     281.690      sky is clear\n",
      "694  2017-11-29 22:00:00     281.070        few clouds\n",
      "695  2017-11-29 23:00:00     280.060      sky is clear\n",
      "696  2017-11-30 00:00:00     278.460      sky is clear\n",
      "\n",
      "[697 rows x 3 columns]\n"
     ]
    }
   ],
   "source": [
    "URL= 'https://code.s3.yandex.net/data-analyst-eng/chicago_weather_2017.html'\n",
    "req=requests.get(URL)\n",
    "soup=BeautifulSoup(req.text,'lxml')\n",
    "weather_records_text=soup.find('table', attrs={\"id\":\"weather_records\"})\n",
    "heading_table=[]\n",
    "for row in weather_records_text.find_all('th'):\n",
    "    heading_table.append(row.text)\n",
    "#print(heading_table)\n",
    "\n",
    "body_table=[]\n",
    "for row in weather_records_text.find_all('tr'):\n",
    "    if not row.find_all('th'):\n",
    "        body_table.append([element.text for element in row.find_all('td')])\n",
    "\n",
    "#print(body_table)\n",
    "\n",
    "weather_records=pd.DataFrame(body_table, columns=heading_table)\n",
    "print(weather_records)"
   ]
  }
 ],
 "metadata": {
  "kernelspec": {
   "display_name": "Python 3.10.1 64-bit",
   "language": "python",
   "name": "python3"
  },
  "language_info": {
   "codemirror_mode": {
    "name": "ipython",
    "version": 3
   },
   "file_extension": ".py",
   "mimetype": "text/x-python",
   "name": "python",
   "nbconvert_exporter": "python",
   "pygments_lexer": "ipython3",
   "version": "3.10.1"
  },
  "orig_nbformat": 4,
  "vscode": {
   "interpreter": {
    "hash": "42b7a8269543bcb579cd7b7725932418ba11ca9773c942937c2bd4311fe78df7"
   }
  }
 },
 "nbformat": 4,
 "nbformat_minor": 2
}
