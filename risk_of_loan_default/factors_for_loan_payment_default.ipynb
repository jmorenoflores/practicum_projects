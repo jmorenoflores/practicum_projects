{
 "cells": [
  {
   "cell_type": "markdown",
   "metadata": {},
   "source": [
    "# Project: Analyzing Borrowers’ Risk of Loan Defaulting\n",
    "\n",
    "__Purpose of project:__\n",
    "\n",
    "\n",
    "The loan division of a bank had provided data of their customers to find out if a customer's marital status and number of children have an inpact on whether they will default on a loan. The bank already has some data on customers’ credit worthiness. \n",
    "The purpose of this report is to analyze the relationship between default rate on loans and  marital status and/or the number of children. This report was used to analyze if there is a increasing default rate on a loan as the number of children increase; as well as if being a widow, widower, divorced, or unmaried has a higher default rate compared to individuals who are married or in a civil partnership. \n",
    "\n",
    "Thi report will be considered when building a credit score for a potential customer. A credit score is used to evaluate the ability of a potential borrower to repay their loan. "
   ]
  },
  {
   "cell_type": "markdown",
   "metadata": {},
   "source": [
    "__Libraries used in analysis:__\n"
   ]
  },
  {
   "cell_type": "code",
   "execution_count": 1,
   "metadata": {},
   "outputs": [],
   "source": [
    "import pandas as pd\n",
    "import numpy as np\n",
    "import math\n",
    "import matplotlib.pyplot as plt"
   ]
  },
  {
   "cell_type": "markdown",
   "metadata": {},
   "source": [
    "__Data used for credit scoring/ borrower's risk analysis:__"
   ]
  },
  {
   "cell_type": "code",
   "execution_count": 2,
   "metadata": {},
   "outputs": [],
   "source": [
    "data= pd.read_csv('/datasets/credit_scoring_eng.csv')"
   ]
  },
  {
   "cell_type": "markdown",
   "metadata": {},
   "source": [
    "## Data exploration\n",
    "\n",
    "The data in the CSV file was composed of 12 columns ad 21525 rows. In which, each row corresponds to one customer's information on number of children, number of days employed, age, information on education status, information on family status, gender, information on income, and purpose of loan."
   ]
  },
  {
   "cell_type": "markdown",
   "metadata": {},
   "source": [
    "**Description of the columns in data**\n",
    "- `children` - the number of children in the family\n",
    "- `days_employed` - work experience in days\n",
    "- `dob_years` - client's age in years\n",
    "- `education` - client's education\n",
    "- `education_id` - education identifier\n",
    "- `family_status` - marital status\n",
    "- `family_status_id` - marital status identifier\n",
    "- `gender` - gender of the client\n",
    "- `income_type` - type of employment\n",
    "- `debt` - was there any debt on loan repayment\n",
    "- `total_income` - monthly income\n",
    "- `purpose` - the purpose of obtaining a loan\n"
   ]
  },
  {
   "cell_type": "code",
   "execution_count": 3,
   "metadata": {
    "scrolled": true
   },
   "outputs": [
    {
     "data": {
      "text/html": [
       "<div>\n",
       "<style scoped>\n",
       "    .dataframe tbody tr th:only-of-type {\n",
       "        vertical-align: middle;\n",
       "    }\n",
       "\n",
       "    .dataframe tbody tr th {\n",
       "        vertical-align: top;\n",
       "    }\n",
       "\n",
       "    .dataframe thead th {\n",
       "        text-align: right;\n",
       "    }\n",
       "</style>\n",
       "<table border=\"1\" class=\"dataframe\">\n",
       "  <thead>\n",
       "    <tr style=\"text-align: right;\">\n",
       "      <th></th>\n",
       "      <th>children</th>\n",
       "      <th>days_employed</th>\n",
       "      <th>dob_years</th>\n",
       "      <th>education</th>\n",
       "      <th>education_id</th>\n",
       "      <th>family_status</th>\n",
       "      <th>family_status_id</th>\n",
       "      <th>gender</th>\n",
       "      <th>income_type</th>\n",
       "      <th>debt</th>\n",
       "      <th>total_income</th>\n",
       "      <th>purpose</th>\n",
       "    </tr>\n",
       "  </thead>\n",
       "  <tbody>\n",
       "    <tr>\n",
       "      <th>0</th>\n",
       "      <td>1</td>\n",
       "      <td>-8437.673028</td>\n",
       "      <td>42</td>\n",
       "      <td>bachelor's degree</td>\n",
       "      <td>0</td>\n",
       "      <td>married</td>\n",
       "      <td>0</td>\n",
       "      <td>F</td>\n",
       "      <td>employee</td>\n",
       "      <td>0</td>\n",
       "      <td>40620.102</td>\n",
       "      <td>purchase of the house</td>\n",
       "    </tr>\n",
       "    <tr>\n",
       "      <th>1</th>\n",
       "      <td>1</td>\n",
       "      <td>-4024.803754</td>\n",
       "      <td>36</td>\n",
       "      <td>secondary education</td>\n",
       "      <td>1</td>\n",
       "      <td>married</td>\n",
       "      <td>0</td>\n",
       "      <td>F</td>\n",
       "      <td>employee</td>\n",
       "      <td>0</td>\n",
       "      <td>17932.802</td>\n",
       "      <td>car purchase</td>\n",
       "    </tr>\n",
       "    <tr>\n",
       "      <th>2</th>\n",
       "      <td>0</td>\n",
       "      <td>-5623.422610</td>\n",
       "      <td>33</td>\n",
       "      <td>Secondary Education</td>\n",
       "      <td>1</td>\n",
       "      <td>married</td>\n",
       "      <td>0</td>\n",
       "      <td>M</td>\n",
       "      <td>employee</td>\n",
       "      <td>0</td>\n",
       "      <td>23341.752</td>\n",
       "      <td>purchase of the house</td>\n",
       "    </tr>\n",
       "    <tr>\n",
       "      <th>3</th>\n",
       "      <td>3</td>\n",
       "      <td>-4124.747207</td>\n",
       "      <td>32</td>\n",
       "      <td>secondary education</td>\n",
       "      <td>1</td>\n",
       "      <td>married</td>\n",
       "      <td>0</td>\n",
       "      <td>M</td>\n",
       "      <td>employee</td>\n",
       "      <td>0</td>\n",
       "      <td>42820.568</td>\n",
       "      <td>supplementary education</td>\n",
       "    </tr>\n",
       "    <tr>\n",
       "      <th>4</th>\n",
       "      <td>0</td>\n",
       "      <td>340266.072047</td>\n",
       "      <td>53</td>\n",
       "      <td>secondary education</td>\n",
       "      <td>1</td>\n",
       "      <td>civil partnership</td>\n",
       "      <td>1</td>\n",
       "      <td>F</td>\n",
       "      <td>retiree</td>\n",
       "      <td>0</td>\n",
       "      <td>25378.572</td>\n",
       "      <td>to have a wedding</td>\n",
       "    </tr>\n",
       "    <tr>\n",
       "      <th>5</th>\n",
       "      <td>0</td>\n",
       "      <td>-926.185831</td>\n",
       "      <td>27</td>\n",
       "      <td>bachelor's degree</td>\n",
       "      <td>0</td>\n",
       "      <td>civil partnership</td>\n",
       "      <td>1</td>\n",
       "      <td>M</td>\n",
       "      <td>business</td>\n",
       "      <td>0</td>\n",
       "      <td>40922.170</td>\n",
       "      <td>purchase of the house</td>\n",
       "    </tr>\n",
       "    <tr>\n",
       "      <th>6</th>\n",
       "      <td>0</td>\n",
       "      <td>-2879.202052</td>\n",
       "      <td>43</td>\n",
       "      <td>bachelor's degree</td>\n",
       "      <td>0</td>\n",
       "      <td>married</td>\n",
       "      <td>0</td>\n",
       "      <td>F</td>\n",
       "      <td>business</td>\n",
       "      <td>0</td>\n",
       "      <td>38484.156</td>\n",
       "      <td>housing transactions</td>\n",
       "    </tr>\n",
       "    <tr>\n",
       "      <th>7</th>\n",
       "      <td>0</td>\n",
       "      <td>-152.779569</td>\n",
       "      <td>50</td>\n",
       "      <td>SECONDARY EDUCATION</td>\n",
       "      <td>1</td>\n",
       "      <td>married</td>\n",
       "      <td>0</td>\n",
       "      <td>M</td>\n",
       "      <td>employee</td>\n",
       "      <td>0</td>\n",
       "      <td>21731.829</td>\n",
       "      <td>education</td>\n",
       "    </tr>\n",
       "    <tr>\n",
       "      <th>8</th>\n",
       "      <td>2</td>\n",
       "      <td>-6929.865299</td>\n",
       "      <td>35</td>\n",
       "      <td>BACHELOR'S DEGREE</td>\n",
       "      <td>0</td>\n",
       "      <td>civil partnership</td>\n",
       "      <td>1</td>\n",
       "      <td>F</td>\n",
       "      <td>employee</td>\n",
       "      <td>0</td>\n",
       "      <td>15337.093</td>\n",
       "      <td>having a wedding</td>\n",
       "    </tr>\n",
       "    <tr>\n",
       "      <th>9</th>\n",
       "      <td>0</td>\n",
       "      <td>-2188.756445</td>\n",
       "      <td>41</td>\n",
       "      <td>secondary education</td>\n",
       "      <td>1</td>\n",
       "      <td>married</td>\n",
       "      <td>0</td>\n",
       "      <td>M</td>\n",
       "      <td>employee</td>\n",
       "      <td>0</td>\n",
       "      <td>23108.150</td>\n",
       "      <td>purchase of the house for my family</td>\n",
       "    </tr>\n",
       "    <tr>\n",
       "      <th>10</th>\n",
       "      <td>2</td>\n",
       "      <td>-4171.483647</td>\n",
       "      <td>36</td>\n",
       "      <td>bachelor's degree</td>\n",
       "      <td>0</td>\n",
       "      <td>married</td>\n",
       "      <td>0</td>\n",
       "      <td>M</td>\n",
       "      <td>business</td>\n",
       "      <td>0</td>\n",
       "      <td>18230.959</td>\n",
       "      <td>buy real estate</td>\n",
       "    </tr>\n",
       "    <tr>\n",
       "      <th>11</th>\n",
       "      <td>0</td>\n",
       "      <td>-792.701887</td>\n",
       "      <td>40</td>\n",
       "      <td>secondary education</td>\n",
       "      <td>1</td>\n",
       "      <td>married</td>\n",
       "      <td>0</td>\n",
       "      <td>F</td>\n",
       "      <td>employee</td>\n",
       "      <td>0</td>\n",
       "      <td>12331.077</td>\n",
       "      <td>buy commercial real estate</td>\n",
       "    </tr>\n",
       "    <tr>\n",
       "      <th>12</th>\n",
       "      <td>0</td>\n",
       "      <td>NaN</td>\n",
       "      <td>65</td>\n",
       "      <td>secondary education</td>\n",
       "      <td>1</td>\n",
       "      <td>civil partnership</td>\n",
       "      <td>1</td>\n",
       "      <td>M</td>\n",
       "      <td>retiree</td>\n",
       "      <td>0</td>\n",
       "      <td>NaN</td>\n",
       "      <td>to have a wedding</td>\n",
       "    </tr>\n",
       "    <tr>\n",
       "      <th>13</th>\n",
       "      <td>0</td>\n",
       "      <td>-1846.641941</td>\n",
       "      <td>54</td>\n",
       "      <td>some college</td>\n",
       "      <td>2</td>\n",
       "      <td>married</td>\n",
       "      <td>0</td>\n",
       "      <td>F</td>\n",
       "      <td>employee</td>\n",
       "      <td>0</td>\n",
       "      <td>20873.317</td>\n",
       "      <td>car purchase</td>\n",
       "    </tr>\n",
       "    <tr>\n",
       "      <th>14</th>\n",
       "      <td>0</td>\n",
       "      <td>-1844.956182</td>\n",
       "      <td>56</td>\n",
       "      <td>bachelor's degree</td>\n",
       "      <td>0</td>\n",
       "      <td>civil partnership</td>\n",
       "      <td>1</td>\n",
       "      <td>F</td>\n",
       "      <td>business</td>\n",
       "      <td>1</td>\n",
       "      <td>26420.466</td>\n",
       "      <td>buy residential real estate</td>\n",
       "    </tr>\n",
       "  </tbody>\n",
       "</table>\n",
       "</div>"
      ],
      "text/plain": [
       "    children  days_employed  dob_years            education  education_id  \\\n",
       "0          1   -8437.673028         42    bachelor's degree             0   \n",
       "1          1   -4024.803754         36  secondary education             1   \n",
       "2          0   -5623.422610         33  Secondary Education             1   \n",
       "3          3   -4124.747207         32  secondary education             1   \n",
       "4          0  340266.072047         53  secondary education             1   \n",
       "5          0    -926.185831         27    bachelor's degree             0   \n",
       "6          0   -2879.202052         43    bachelor's degree             0   \n",
       "7          0    -152.779569         50  SECONDARY EDUCATION             1   \n",
       "8          2   -6929.865299         35    BACHELOR'S DEGREE             0   \n",
       "9          0   -2188.756445         41  secondary education             1   \n",
       "10         2   -4171.483647         36    bachelor's degree             0   \n",
       "11         0    -792.701887         40  secondary education             1   \n",
       "12         0            NaN         65  secondary education             1   \n",
       "13         0   -1846.641941         54         some college             2   \n",
       "14         0   -1844.956182         56    bachelor's degree             0   \n",
       "\n",
       "        family_status  family_status_id gender income_type  debt  \\\n",
       "0             married                 0      F    employee     0   \n",
       "1             married                 0      F    employee     0   \n",
       "2             married                 0      M    employee     0   \n",
       "3             married                 0      M    employee     0   \n",
       "4   civil partnership                 1      F     retiree     0   \n",
       "5   civil partnership                 1      M    business     0   \n",
       "6             married                 0      F    business     0   \n",
       "7             married                 0      M    employee     0   \n",
       "8   civil partnership                 1      F    employee     0   \n",
       "9             married                 0      M    employee     0   \n",
       "10            married                 0      M    business     0   \n",
       "11            married                 0      F    employee     0   \n",
       "12  civil partnership                 1      M     retiree     0   \n",
       "13            married                 0      F    employee     0   \n",
       "14  civil partnership                 1      F    business     1   \n",
       "\n",
       "    total_income                              purpose  \n",
       "0      40620.102                purchase of the house  \n",
       "1      17932.802                         car purchase  \n",
       "2      23341.752                purchase of the house  \n",
       "3      42820.568              supplementary education  \n",
       "4      25378.572                    to have a wedding  \n",
       "5      40922.170                purchase of the house  \n",
       "6      38484.156                 housing transactions  \n",
       "7      21731.829                            education  \n",
       "8      15337.093                     having a wedding  \n",
       "9      23108.150  purchase of the house for my family  \n",
       "10     18230.959                      buy real estate  \n",
       "11     12331.077           buy commercial real estate  \n",
       "12           NaN                    to have a wedding  \n",
       "13     20873.317                         car purchase  \n",
       "14     26420.466          buy residential real estate  "
      ]
     },
     "execution_count": 3,
     "metadata": {},
     "output_type": "execute_result"
    }
   ],
   "source": [
    "# first 15 rows of data\n",
    "\n",
    "data.head(15)"
   ]
  },
  {
   "cell_type": "code",
   "execution_count": 4,
   "metadata": {},
   "outputs": [
    {
     "data": {
      "text/plain": [
       "(21525, 12)"
      ]
     },
     "execution_count": 4,
     "metadata": {},
     "output_type": "execute_result"
    }
   ],
   "source": [
    "# data DataFrame dimensions \n",
    "data.shape"
   ]
  },
  {
   "cell_type": "markdown",
   "metadata": {},
   "source": [
    "### Checking for Null Values in Columns"
   ]
  },
  {
   "cell_type": "code",
   "execution_count": 5,
   "metadata": {
    "scrolled": true
   },
   "outputs": [
    {
     "name": "stdout",
     "output_type": "stream",
     "text": [
      "<class 'pandas.core.frame.DataFrame'>\n",
      "RangeIndex: 21525 entries, 0 to 21524\n",
      "Data columns (total 12 columns):\n",
      " #   Column            Non-Null Count  Dtype  \n",
      "---  ------            --------------  -----  \n",
      " 0   children          21525 non-null  int64  \n",
      " 1   days_employed     19351 non-null  float64\n",
      " 2   dob_years         21525 non-null  int64  \n",
      " 3   education         21525 non-null  object \n",
      " 4   education_id      21525 non-null  int64  \n",
      " 5   family_status     21525 non-null  object \n",
      " 6   family_status_id  21525 non-null  int64  \n",
      " 7   gender            21525 non-null  object \n",
      " 8   income_type       21525 non-null  object \n",
      " 9   debt              21525 non-null  int64  \n",
      " 10  total_income      19351 non-null  float64\n",
      " 11  purpose           21525 non-null  object \n",
      "dtypes: float64(2), int64(5), object(5)\n",
      "memory usage: 2.0+ MB\n",
      "None\n"
     ]
    }
   ],
   "source": [
    "# info on data DataFrame\n",
    "print(data.info())"
   ]
  },
  {
   "cell_type": "code",
   "execution_count": 6,
   "metadata": {
    "scrolled": false
   },
   "outputs": [
    {
     "data": {
      "text/html": [
       "<div>\n",
       "<style scoped>\n",
       "    .dataframe tbody tr th:only-of-type {\n",
       "        vertical-align: middle;\n",
       "    }\n",
       "\n",
       "    .dataframe tbody tr th {\n",
       "        vertical-align: top;\n",
       "    }\n",
       "\n",
       "    .dataframe thead th {\n",
       "        text-align: right;\n",
       "    }\n",
       "</style>\n",
       "<table border=\"1\" class=\"dataframe\">\n",
       "  <thead>\n",
       "    <tr style=\"text-align: right;\">\n",
       "      <th></th>\n",
       "      <th>children</th>\n",
       "      <th>days_employed</th>\n",
       "      <th>dob_years</th>\n",
       "      <th>education</th>\n",
       "      <th>education_id</th>\n",
       "      <th>family_status</th>\n",
       "      <th>family_status_id</th>\n",
       "      <th>gender</th>\n",
       "      <th>income_type</th>\n",
       "      <th>debt</th>\n",
       "      <th>total_income</th>\n",
       "      <th>purpose</th>\n",
       "    </tr>\n",
       "  </thead>\n",
       "  <tbody>\n",
       "    <tr>\n",
       "      <th>12</th>\n",
       "      <td>0</td>\n",
       "      <td>NaN</td>\n",
       "      <td>65</td>\n",
       "      <td>secondary education</td>\n",
       "      <td>1</td>\n",
       "      <td>civil partnership</td>\n",
       "      <td>1</td>\n",
       "      <td>M</td>\n",
       "      <td>retiree</td>\n",
       "      <td>0</td>\n",
       "      <td>NaN</td>\n",
       "      <td>to have a wedding</td>\n",
       "    </tr>\n",
       "    <tr>\n",
       "      <th>26</th>\n",
       "      <td>0</td>\n",
       "      <td>NaN</td>\n",
       "      <td>41</td>\n",
       "      <td>secondary education</td>\n",
       "      <td>1</td>\n",
       "      <td>married</td>\n",
       "      <td>0</td>\n",
       "      <td>M</td>\n",
       "      <td>civil servant</td>\n",
       "      <td>0</td>\n",
       "      <td>NaN</td>\n",
       "      <td>education</td>\n",
       "    </tr>\n",
       "    <tr>\n",
       "      <th>29</th>\n",
       "      <td>0</td>\n",
       "      <td>NaN</td>\n",
       "      <td>63</td>\n",
       "      <td>secondary education</td>\n",
       "      <td>1</td>\n",
       "      <td>unmarried</td>\n",
       "      <td>4</td>\n",
       "      <td>F</td>\n",
       "      <td>retiree</td>\n",
       "      <td>0</td>\n",
       "      <td>NaN</td>\n",
       "      <td>building a real estate</td>\n",
       "    </tr>\n",
       "    <tr>\n",
       "      <th>41</th>\n",
       "      <td>0</td>\n",
       "      <td>NaN</td>\n",
       "      <td>50</td>\n",
       "      <td>secondary education</td>\n",
       "      <td>1</td>\n",
       "      <td>married</td>\n",
       "      <td>0</td>\n",
       "      <td>F</td>\n",
       "      <td>civil servant</td>\n",
       "      <td>0</td>\n",
       "      <td>NaN</td>\n",
       "      <td>second-hand car purchase</td>\n",
       "    </tr>\n",
       "    <tr>\n",
       "      <th>55</th>\n",
       "      <td>0</td>\n",
       "      <td>NaN</td>\n",
       "      <td>54</td>\n",
       "      <td>secondary education</td>\n",
       "      <td>1</td>\n",
       "      <td>civil partnership</td>\n",
       "      <td>1</td>\n",
       "      <td>F</td>\n",
       "      <td>retiree</td>\n",
       "      <td>1</td>\n",
       "      <td>NaN</td>\n",
       "      <td>to have a wedding</td>\n",
       "    </tr>\n",
       "    <tr>\n",
       "      <th>...</th>\n",
       "      <td>...</td>\n",
       "      <td>...</td>\n",
       "      <td>...</td>\n",
       "      <td>...</td>\n",
       "      <td>...</td>\n",
       "      <td>...</td>\n",
       "      <td>...</td>\n",
       "      <td>...</td>\n",
       "      <td>...</td>\n",
       "      <td>...</td>\n",
       "      <td>...</td>\n",
       "      <td>...</td>\n",
       "    </tr>\n",
       "    <tr>\n",
       "      <th>21489</th>\n",
       "      <td>2</td>\n",
       "      <td>NaN</td>\n",
       "      <td>47</td>\n",
       "      <td>Secondary Education</td>\n",
       "      <td>1</td>\n",
       "      <td>married</td>\n",
       "      <td>0</td>\n",
       "      <td>M</td>\n",
       "      <td>business</td>\n",
       "      <td>0</td>\n",
       "      <td>NaN</td>\n",
       "      <td>purchase of a car</td>\n",
       "    </tr>\n",
       "    <tr>\n",
       "      <th>21495</th>\n",
       "      <td>1</td>\n",
       "      <td>NaN</td>\n",
       "      <td>50</td>\n",
       "      <td>secondary education</td>\n",
       "      <td>1</td>\n",
       "      <td>civil partnership</td>\n",
       "      <td>1</td>\n",
       "      <td>F</td>\n",
       "      <td>employee</td>\n",
       "      <td>0</td>\n",
       "      <td>NaN</td>\n",
       "      <td>wedding ceremony</td>\n",
       "    </tr>\n",
       "    <tr>\n",
       "      <th>21497</th>\n",
       "      <td>0</td>\n",
       "      <td>NaN</td>\n",
       "      <td>48</td>\n",
       "      <td>BACHELOR'S DEGREE</td>\n",
       "      <td>0</td>\n",
       "      <td>married</td>\n",
       "      <td>0</td>\n",
       "      <td>F</td>\n",
       "      <td>business</td>\n",
       "      <td>0</td>\n",
       "      <td>NaN</td>\n",
       "      <td>building a property</td>\n",
       "    </tr>\n",
       "    <tr>\n",
       "      <th>21502</th>\n",
       "      <td>1</td>\n",
       "      <td>NaN</td>\n",
       "      <td>42</td>\n",
       "      <td>secondary education</td>\n",
       "      <td>1</td>\n",
       "      <td>married</td>\n",
       "      <td>0</td>\n",
       "      <td>F</td>\n",
       "      <td>employee</td>\n",
       "      <td>0</td>\n",
       "      <td>NaN</td>\n",
       "      <td>building a real estate</td>\n",
       "    </tr>\n",
       "    <tr>\n",
       "      <th>21510</th>\n",
       "      <td>2</td>\n",
       "      <td>NaN</td>\n",
       "      <td>28</td>\n",
       "      <td>secondary education</td>\n",
       "      <td>1</td>\n",
       "      <td>married</td>\n",
       "      <td>0</td>\n",
       "      <td>F</td>\n",
       "      <td>employee</td>\n",
       "      <td>0</td>\n",
       "      <td>NaN</td>\n",
       "      <td>car purchase</td>\n",
       "    </tr>\n",
       "  </tbody>\n",
       "</table>\n",
       "<p>2174 rows × 12 columns</p>\n",
       "</div>"
      ],
      "text/plain": [
       "       children  days_employed  dob_years            education  education_id  \\\n",
       "12            0            NaN         65  secondary education             1   \n",
       "26            0            NaN         41  secondary education             1   \n",
       "29            0            NaN         63  secondary education             1   \n",
       "41            0            NaN         50  secondary education             1   \n",
       "55            0            NaN         54  secondary education             1   \n",
       "...         ...            ...        ...                  ...           ...   \n",
       "21489         2            NaN         47  Secondary Education             1   \n",
       "21495         1            NaN         50  secondary education             1   \n",
       "21497         0            NaN         48    BACHELOR'S DEGREE             0   \n",
       "21502         1            NaN         42  secondary education             1   \n",
       "21510         2            NaN         28  secondary education             1   \n",
       "\n",
       "           family_status  family_status_id gender    income_type  debt  \\\n",
       "12     civil partnership                 1      M        retiree     0   \n",
       "26               married                 0      M  civil servant     0   \n",
       "29             unmarried                 4      F        retiree     0   \n",
       "41               married                 0      F  civil servant     0   \n",
       "55     civil partnership                 1      F        retiree     1   \n",
       "...                  ...               ...    ...            ...   ...   \n",
       "21489            married                 0      M       business     0   \n",
       "21495  civil partnership                 1      F       employee     0   \n",
       "21497            married                 0      F       business     0   \n",
       "21502            married                 0      F       employee     0   \n",
       "21510            married                 0      F       employee     0   \n",
       "\n",
       "       total_income                   purpose  \n",
       "12              NaN         to have a wedding  \n",
       "26              NaN                 education  \n",
       "29              NaN    building a real estate  \n",
       "41              NaN  second-hand car purchase  \n",
       "55              NaN         to have a wedding  \n",
       "...             ...                       ...  \n",
       "21489           NaN         purchase of a car  \n",
       "21495           NaN          wedding ceremony  \n",
       "21497           NaN       building a property  \n",
       "21502           NaN    building a real estate  \n",
       "21510           NaN              car purchase  \n",
       "\n",
       "[2174 rows x 12 columns]"
      ]
     },
     "execution_count": 6,
     "metadata": {},
     "output_type": "execute_result"
    }
   ],
   "source": [
    "# Below is the filtered table with missing values in the the first column with missing data\n",
    "\n",
    "data[data.days_employed.isnull()]"
   ]
  },
  {
   "cell_type": "markdown",
   "metadata": {},
   "source": [
    "### Summary of Null Values in Columns\n",
    "\n",
    "\n",
    "The columns that had missing values include:  days_employed and total_income, which both have 2,174 missing values. \n",
    "The rows with missing values in the columns 'days_employed' also contain missing values in the column 'total_income'. This prediction was evaluated by conducting the following lines of code: \n",
    "\n",
    "__data[data.days_employed.isnull()]__ , which printed a DataFrame with 2171 rows.                                                 \n",
    "__data[data.total_income.isnull()]__ , which printed a DataFrame with 2171 rows. To verify the claim about each row with missing values in 'days_employed' column also had missing values in 'total_income' column, the following lines were run: \n",
    "\n",
    "__data[data.days_employed.isnull()&data.total_income.isnull()]__, which resulted in a DataFrame with 2174 rows. \n",
    "__data[data.days_employed.notnull()&data.total_income.notnull()]__, which resulted in a DataFrame with 19351 rows. \n",
    "__data[data.days_employed.isnull()&data.total_income.notnull()]__ , which resulted in an empty DataFrame. \n",
    "__data[data.days_employed.notnull()&data.total_income.isnull()]__ ,which resulted in an empty DataFrame. \n",
    "\n",
    "These lines of code confirm the claim that each row with missing values in the 'days_employed' column also has missing values in 'total_income' column.\n"
   ]
  },
  {
   "cell_type": "code",
   "execution_count": 7,
   "metadata": {},
   "outputs": [
    {
     "name": "stdout",
     "output_type": "stream",
     "text": [
      "length of dataframa where days_employed does not have null values and total_income does not  have null values\n",
      "19351\n",
      "\n",
      "length of dataframa where days_employed has null values and total_income has null values\n",
      "2174\n",
      "\n",
      "length of dataframa where days_employed has null values and total_income does not have null values\n",
      "0\n",
      "\n",
      "percentage of missing rows: 10.1 %\n"
     ]
    }
   ],
   "source": [
    "# Applying multiple conditions for filtering data and look at the number of rows in the filtered table.\n",
    "\n",
    "#size of df where there are not missing values in both 'days_employed' and 'total_income' column\n",
    "print('length of dataframa where days_employed does not have null values and total_income does not  have null values')\n",
    "print(len(data[data.days_employed.notnull()&data.total_income.notnull()]))\n",
    "print()\n",
    "print('length of dataframa where days_employed has null values and total_income has null values')\n",
    "print(len(data[data.days_employed.isnull()&data.total_income.isnull()]))\n",
    "print()\n",
    "print('length of dataframa where days_employed has null values and total_income does not have null values')\n",
    "print(len(data[data.days_employed.isnull()&data.total_income.notnull()]))\n",
    "print()\n",
    "missing_percentage =round((len(data[data.days_employed.isnull()&data.total_income.isnull()]))*100/len(data),2)\n",
    "print ('percentage of missing rows:',missing_percentage,'%')"
   ]
  },
  {
   "cell_type": "markdown",
   "metadata": {},
   "source": [
    "### Intermediate conclusion\n",
    "\n",
    "\n",
    "\n",
    "Based on the length of filtered DataFrames, such as: \n",
    "\n",
    "__data[data.days_employed.notnull()&data.total_income.notnull()]__ ,\n",
    "\n",
    "__data[data.days_employed.isnull()&data.total_income.isnull()]__ ,\n",
    "\n",
    "and __data[data.days_employed.isnull()&data.total_income.notnull()]__ , \n",
    "\n",
    "the missing values in columns 'days_employed' and 'total_income' are equal to the number of rows that contain null values in both of these columns. The number of rows that do not contain null values in the column 'days_employed', but have null values in 'total_income' is equal to zero. This means that in each row, in which there is a null value in the 'days_employed' column, there is also a null value in the 'total_income' column. \n",
    "\n",
    "\n",
    "\n",
    "Since 2171 missing values out of 21525 is approximately 10% of the total values, then the missining values represent a significant amount of the total values. One characteristic about the missing values is that If the customer has a value of graduate school, then there was not a missing value. \n",
    "\n",
    "Below is the original distribution of missing value rate by categories of education, income type, and family status. "
   ]
  },
  {
   "cell_type": "markdown",
   "metadata": {},
   "source": [
    "### Distrubution of Missing values per categories of education, income type, and family status. \n",
    "\n",
    "Based on the distribution of missing values per education type, people who received up to a secondary education had the greatest missing rate, with 70.8% of the missing values for days employed and total income. Consequently, people who received up to a bachelor's degree education had 25% of the missing values days employed and total income. Meanwhile, people who received a graduate degree education, they did not present any missing values. \n",
    "\n",
    "Similarly, the distribution for missing values per family status had the majority of the missing values in people who were married, with 56.9% of the missing values in total income and days employed. People in a civil partnership and who were unmarried had 20.3% and 13.3% of the missing data, respectively, on days employed and missing values. \n",
    "\n",
    "For the missing values versus income type distribution, there was a similar distribution compated to the missing values versus income type distribution; people who were employed, had a business and were retired represented 50.8%, 23.4%, and 19%, respectively, of the missing values for days employed and total income."
   ]
  },
  {
   "cell_type": "code",
   "execution_count": 8,
   "metadata": {
    "scrolled": false
   },
   "outputs": [
    {
     "name": "stdout",
     "output_type": "stream",
     "text": [
      "Distribution of null values by categories of income type\n",
      "employee         0.508280\n",
      "business         0.233671\n",
      "retiree          0.189972\n",
      "civil servant    0.067617\n",
      "entrepreneur     0.000460\n",
      "Name: income_type, dtype: float64\n",
      "\n",
      "Distribution of null values by categories of education\n",
      "secondary education    0.708372\n",
      "bachelor's degree      0.250230\n",
      "some college           0.031739\n",
      "primary education      0.009660\n",
      "Name: education, dtype: float64\n",
      "\n",
      "Distribution of null values by categories of family status\n",
      "married              0.568997\n",
      "civil partnership    0.203312\n",
      "unmarried            0.132475\n",
      "divorced             0.051518\n",
      "widow / widower      0.043698\n",
      "Name: family_status, dtype: float64\n"
     ]
    },
    {
     "name": "stderr",
     "output_type": "stream",
     "text": [
      "/tmp/ipykernel_76/3023196680.py:3: SettingWithCopyWarning: \n",
      "A value is trying to be set on a copy of a slice from a DataFrame.\n",
      "Try using .loc[row_indexer,col_indexer] = value instead\n",
      "\n",
      "See the caveats in the documentation: https://pandas.pydata.org/pandas-docs/stable/user_guide/indexing.html#returning-a-view-versus-a-copy\n",
      "  nan_data['education']=data.education.str.lower()\n"
     ]
    }
   ],
   "source": [
    "# Checking distribution\n",
    "nan_data = data[data['days_employed'].isnull()]\n",
    "nan_data['education']=data.education.str.lower()\n",
    "\n",
    "print('Distribution of null values by categories of income type')\n",
    "print (nan_data['income_type'].value_counts(normalize = True))\n",
    "print()\n",
    "print('Distribution of null values by categories of education')\n",
    "print (nan_data['education'].value_counts(normalize = True))\n",
    "print()\n",
    "print('Distribution of null values by categories of family status')\n",
    "print (nan_data['family_status'].value_counts(normalize = True))\n"
   ]
  },
  {
   "cell_type": "markdown",
   "metadata": {},
   "source": [
    "### Possible reasons for missing values in data\n",
    "\n",
    "\n",
    "Based on the distribution for missing data per education, family status, and income type, the people who have no longer a partner (divorced and widow/widower) have the smallest percentages of missing values. Similarly, people who have never had a partner (unmarried) only account for 13.3% of the missing values for days employed and total income. On the other hand, people who are involved with a partner, either a civil partnership or married, have the largest percentages of missing data. Based on this pattern, one possible reason for missing values in data could be the marital status of the person. In a similar note, people who are not currently employed or working for a company (students, people on paternity/maternity leave, entrepreneurs, and civil servants) present small percentages of missing data; however, people who are currently or were previously employed (retirees, people owning a business, or employees) have the largest percentages of missing data. In contrast with income type and family status, the distribution for missing data versus education level does not present a pattern that would suggest a reason for the missing values in data. For instance, people who completed a graduate level education have 0% of missing data; however, people completed up to a bachelors degree have the second biggest percentage of missing data. If there was a pattern in education, we would predict that as education level increases, the percentage of missing data would decrease. With that said, the distribution of missing values per education level does not present a pattern with percentage of missing data. "
   ]
  },
  {
   "cell_type": "markdown",
   "metadata": {},
   "source": [
    "### Intermediate conclusion\n",
    "\n",
    "To test how the distribution of missing values for type of education, income type, and family status differs from the original distribution in the original dataset, the coding cell below summarizes the percentages of education, income and family status type from the data. As we observed, the percentages of education type did not present a significant difference between distribution of data with missing values and original data. For instance, people who were employees represented the highest percentage in the original dataset, followed by people in business and retirees; These three income types represented 51.6%, 23.7% and 17.8%, respectively, for the original data. A similar distribution for employees, business people, and retirees was shown in the dataset with missing values, with percentage values of 50.8%, 23.4%, and 19%. \n",
    "\n",
    "Similarly to income type, the distribution of education type did not show a significant difference between the percentage values of the original dataset and the data with missing values. In the original dataset, the education types that had the highest percentage values in the distribution wer secondary education and bachelor's degree, with values of 70.6% and 24.4%, respectively. In the dataset with missing values, secondary education and bachelor's degree had the highest values in the distrubtion, with values of 70.8% and 25%, respectively. \n",
    "\n",
    "In comparison to education type and income type, the distribution of family status also did not have a significant difference between the percentage values of the original dataset and the dataset with missing values. In both distributions, the people who were married or in a civil partnership had the highest percentage values. In the original dataset, the percentage values for people who were married and in a civil partnership represented 57.5% and 19.4%, respectively. Similarly, in the dataset with missing values, people who were married and in a civil partnership represented 56.8% and 20.3%, respectively. "
   ]
  },
  {
   "cell_type": "code",
   "execution_count": 9,
   "metadata": {},
   "outputs": [
    {
     "name": "stdout",
     "output_type": "stream",
     "text": [
      "Distribution of values per categories in income type\n",
      "employee                       0.516562\n",
      "business                       0.236237\n",
      "retiree                        0.179141\n",
      "civil servant                  0.067782\n",
      "unemployed                     0.000093\n",
      "entrepreneur                   0.000093\n",
      "student                        0.000046\n",
      "paternity / maternity leave    0.000046\n",
      "Name: income_type, dtype: float64\n",
      "\n",
      "Distribution of values per categories in education\n",
      "secondary education    0.707689\n",
      "bachelor's degree      0.244367\n",
      "some college           0.034564\n",
      "primary education      0.013101\n",
      "graduate degree        0.000279\n",
      "Name: education, dtype: float64\n",
      "\n",
      "Distribution of values per categories in family status\n",
      "married              0.575145\n",
      "civil partnership    0.194053\n",
      "unmarried            0.130685\n",
      "divorced             0.055517\n",
      "widow / widower      0.044599\n",
      "Name: family_status, dtype: float64\n"
     ]
    }
   ],
   "source": [
    "# Checking the distribution in the whole dataset\n",
    "\n",
    "original_dataset = data\n",
    "original_dataset['education']=data.education.str.lower()\n",
    "print('Distribution of values per categories in income type')\n",
    "print (original_dataset['income_type'].value_counts(normalize = True))\n",
    "print()\n",
    "print('Distribution of values per categories in education')\n",
    "print (original_dataset['education'].value_counts(normalize = True))\n",
    "print()\n",
    "print('Distribution of values per categories in family status')\n",
    "print (original_dataset['family_status'].value_counts(normalize = True))"
   ]
  },
  {
   "cell_type": "code",
   "execution_count": 10,
   "metadata": {
    "scrolled": true
   },
   "outputs": [
    {
     "name": "stdout",
     "output_type": "stream",
     "text": [
      "Distribution of values per categories in debt column\n",
      "0    0.919117\n",
      "1    0.080883\n",
      "Name: debt, dtype: float64\n",
      "\n",
      "Distribution of missing values per categories in debt column\n",
      "0    0.921803\n",
      "1    0.078197\n",
      "Name: debt, dtype: float64\n",
      "\n",
      "Distribution of values per categories in gender column\n",
      "F      0.661370\n",
      "M      0.338583\n",
      "XNA    0.000046\n",
      "Name: gender, dtype: float64\n",
      "\n",
      "Distribution of missing values per categories in gender column\n",
      "F    0.682613\n",
      "M    0.317387\n",
      "Name: gender, dtype: float64\n"
     ]
    }
   ],
   "source": [
    "# Checking for other patterns - explain which\n",
    "\n",
    "print('Distribution of values per categories in debt column')\n",
    "print (original_dataset['debt'].value_counts(normalize = True))\n",
    "print()\n",
    "print('Distribution of missing values per categories in debt column')\n",
    "print (nan_data['debt'].value_counts(normalize = True))\n",
    "print()\n",
    "print('Distribution of values per categories in gender column')\n",
    "print (original_dataset['gender'].value_counts(normalize = True))\n",
    "print()\n",
    "print('Distribution of missing values per categories in gender column')\n",
    "print (nan_data['gender'].value_counts(normalize = True))"
   ]
  },
  {
   "cell_type": "markdown",
   "metadata": {},
   "source": [
    "### Conclusion\n",
    "\n",
    "Overall, the distribution of missing values shows a particular pattern in which people who are married or in a civil partnership have the highest number of missing values in both the original dataset and the dataset with missing values. The percentage values for family status did not differ significantly in both distributions. On the same note, people who completed up to a secondary eduction or a bachelor's degree represented the highest percentage values in both the original dataset and the dataset with missing values. The percentage values for education did not differ significantly in both distributions. In comparison to education type and family status, income type also did not present a significant difference between the distributions of the original dataset and the dataset with missing values. In the previous coding cell, the distribution of debt status and gender type also did not present a significant difference between the distributions of the original dataset and the dataset with missing values. Both the original dataset and the dataset with missing values showed that about 92% of the people in both datasets paid their loan; and that females acount for 66% and 68% of percent values in the original dataset and the dataset with missing values, respectively. So overall conclusion here, the missing values is probably a random error. There is no pattern or corelation here."
   ]
  },
  {
   "cell_type": "markdown",
   "metadata": {},
   "source": [
    "## Data transformation\n",
    "\n",
    "In this section, we transfomed the data to ensure that there are not errors in the values of all the columns. \n",
    "\n",
    "### education column \n",
    "\n",
    "The column 'education' had repeated categories in different formats: uppercase and lowercase. To solve this problem, all the categories were converted to lowercase."
   ]
  },
  {
   "cell_type": "code",
   "execution_count": 11,
   "metadata": {},
   "outputs": [
    {
     "name": "stdout",
     "output_type": "stream",
     "text": [
      "[\"bachelor's degree\" 'secondary education' 'some college'\n",
      " 'primary education' 'graduate degree']\n"
     ]
    }
   ],
   "source": [
    "# all values in education column to check if and what spellings will need to be fixed\n",
    "print(data.education.unique())"
   ]
  },
  {
   "cell_type": "code",
   "execution_count": 12,
   "metadata": {
    "scrolled": true
   },
   "outputs": [],
   "source": [
    "# Fix of the registers \n",
    "data['education']=data.education.str.lower()"
   ]
  },
  {
   "cell_type": "code",
   "execution_count": 13,
   "metadata": {},
   "outputs": [
    {
     "name": "stdout",
     "output_type": "stream",
     "text": [
      "[\"bachelor's degree\" 'secondary education' 'some college'\n",
      " 'primary education' 'graduate degree']\n"
     ]
    }
   ],
   "source": [
    "# Checking all the values in the column to make sure were fixed\n",
    "print(data.education.unique())"
   ]
  },
  {
   "cell_type": "markdown",
   "metadata": {},
   "source": [
    "### children column"
   ]
  },
  {
   "cell_type": "markdown",
   "metadata": {},
   "source": [
    "The 'children' column had values 0f (-1) and 20, which are nonsense values. "
   ]
  },
  {
   "cell_type": "code",
   "execution_count": 14,
   "metadata": {},
   "outputs": [
    {
     "name": "stdout",
     "output_type": "stream",
     "text": [
      "[ 1  0  3  2 -1  4 20  5]\n"
     ]
    }
   ],
   "source": [
    "# the distribution of values in the `children` column\n",
    "print(data.children.unique())"
   ]
  },
  {
   "cell_type": "markdown",
   "metadata": {},
   "source": [
    "The negative value (-1) is most likely an input error.\n",
    "Similarly, the value 20 could also be a data entry error. Since rows with these values only account for less than 1% (0.57%) of the data, the rows with these values were dropped. We are uncertain about the occurrence of these errors in number of children. "
   ]
  },
  {
   "cell_type": "code",
   "execution_count": 15,
   "metadata": {},
   "outputs": [
    {
     "name": "stdout",
     "output_type": "stream",
     "text": [
      "0.57\n"
     ]
    }
   ],
   "source": [
    "#dropping rows with children equal to (-1) and 20 values\n",
    "print(round(len(data.loc[(data.children==20) | (data.children==-1)])*100/len(data),2))\n",
    "data= data.loc[(data['children'] != 20) & (data['children'] != -1)]"
   ]
  },
  {
   "cell_type": "code",
   "execution_count": 16,
   "metadata": {},
   "outputs": [
    {
     "name": "stdout",
     "output_type": "stream",
     "text": [
      "[1 0 3 2 4 5]\n"
     ]
    }
   ],
   "source": [
    "# Checking the `children` column again to make sure it's all fixed\n",
    "print(data.children.unique())"
   ]
  },
  {
   "cell_type": "markdown",
   "metadata": {},
   "source": [
    "### days_employed column"
   ]
  },
  {
   "cell_type": "markdown",
   "metadata": {},
   "source": [
    "The values in the `days_employed` column contained negative values. These values could be a result of using a formula in the incorrect order to calculate amount of days. Since the general formula to calculate the amount of days employed is (final date of employment-initial start date), the result of using this formula in the incorrect order would result in a negative input, with the same magnitude as if were used in the correct order. Therefore, the values in the `days_employed` were fixed by replacing them with their magnitude. "
   ]
  },
  {
   "cell_type": "code",
   "execution_count": 17,
   "metadata": {},
   "outputs": [
    {
     "name": "stdout",
     "output_type": "stream",
     "text": [
      "[-8437.67302776 -4024.80375385 -5623.42261023 ... -2113.3468877\n",
      " -3112.4817052  -1984.50758853]\n"
     ]
    }
   ],
   "source": [
    "# problematic data in `days_employed`\n",
    "print(data.days_employed.unique())"
   ]
  },
  {
   "cell_type": "markdown",
   "metadata": {},
   "source": [
    "\n",
    "The number of days are floats and some values are negative; the values were fixed by replacing them with the value of their magnitude. \n",
    "The unknown values will be evaluated and rounded as integers in the `Restoring values in days_employed` section of the report. "
   ]
  },
  {
   "cell_type": "code",
   "execution_count": 18,
   "metadata": {},
   "outputs": [
    {
     "name": "stderr",
     "output_type": "stream",
     "text": [
      "/tmp/ipykernel_76/866075963.py:2: SettingWithCopyWarning: \n",
      "A value is trying to be set on a copy of a slice from a DataFrame.\n",
      "Try using .loc[row_indexer,col_indexer] = value instead\n",
      "\n",
      "See the caveats in the documentation: https://pandas.pydata.org/pandas-docs/stable/user_guide/indexing.html#returning-a-view-versus-a-copy\n",
      "  data['days_employed']=data.days_employed.abs()\n"
     ]
    }
   ],
   "source": [
    "# Addressing the problematic values\n",
    "data['days_employed']=data.days_employed.abs()"
   ]
  },
  {
   "cell_type": "code",
   "execution_count": 19,
   "metadata": {},
   "outputs": [
    {
     "name": "stdout",
     "output_type": "stream",
     "text": [
      "[8437.67302776 4024.80375385 5623.42261023 ... 2113.3468877  3112.4817052\n",
      " 1984.50758853]\n"
     ]
    }
   ],
   "source": [
    "# Checking the result to make sure it's fixed\n",
    "print(data.days_employed.unique())"
   ]
  },
  {
   "cell_type": "markdown",
   "metadata": {},
   "source": [
    "### dob_years column"
   ]
  },
  {
   "cell_type": "markdown",
   "metadata": {},
   "source": [
    "\n",
    "The `dob_years` column had values of zero that are nonsense in data about loans, specially for rows in which the individual was married, divorced, or married. "
   ]
  },
  {
   "cell_type": "code",
   "execution_count": 20,
   "metadata": {
    "scrolled": true
   },
   "outputs": [
    {
     "data": {
      "text/html": [
       "<div>\n",
       "<style scoped>\n",
       "    .dataframe tbody tr th:only-of-type {\n",
       "        vertical-align: middle;\n",
       "    }\n",
       "\n",
       "    .dataframe tbody tr th {\n",
       "        vertical-align: top;\n",
       "    }\n",
       "\n",
       "    .dataframe thead th {\n",
       "        text-align: right;\n",
       "    }\n",
       "</style>\n",
       "<table border=\"1\" class=\"dataframe\">\n",
       "  <thead>\n",
       "    <tr style=\"text-align: right;\">\n",
       "      <th></th>\n",
       "      <th>children</th>\n",
       "      <th>days_employed</th>\n",
       "      <th>dob_years</th>\n",
       "      <th>education</th>\n",
       "      <th>education_id</th>\n",
       "      <th>family_status</th>\n",
       "      <th>family_status_id</th>\n",
       "      <th>gender</th>\n",
       "      <th>income_type</th>\n",
       "      <th>debt</th>\n",
       "      <th>total_income</th>\n",
       "      <th>purpose</th>\n",
       "    </tr>\n",
       "  </thead>\n",
       "  <tbody>\n",
       "    <tr>\n",
       "      <th>99</th>\n",
       "      <td>0</td>\n",
       "      <td>346541.618895</td>\n",
       "      <td>0</td>\n",
       "      <td>secondary education</td>\n",
       "      <td>1</td>\n",
       "      <td>married</td>\n",
       "      <td>0</td>\n",
       "      <td>F</td>\n",
       "      <td>retiree</td>\n",
       "      <td>0</td>\n",
       "      <td>11406.644</td>\n",
       "      <td>car</td>\n",
       "    </tr>\n",
       "    <tr>\n",
       "      <th>149</th>\n",
       "      <td>0</td>\n",
       "      <td>2664.273168</td>\n",
       "      <td>0</td>\n",
       "      <td>secondary education</td>\n",
       "      <td>1</td>\n",
       "      <td>divorced</td>\n",
       "      <td>3</td>\n",
       "      <td>F</td>\n",
       "      <td>employee</td>\n",
       "      <td>0</td>\n",
       "      <td>11228.230</td>\n",
       "      <td>housing transactions</td>\n",
       "    </tr>\n",
       "    <tr>\n",
       "      <th>270</th>\n",
       "      <td>3</td>\n",
       "      <td>1872.663186</td>\n",
       "      <td>0</td>\n",
       "      <td>secondary education</td>\n",
       "      <td>1</td>\n",
       "      <td>married</td>\n",
       "      <td>0</td>\n",
       "      <td>F</td>\n",
       "      <td>employee</td>\n",
       "      <td>0</td>\n",
       "      <td>16346.633</td>\n",
       "      <td>housing renovation</td>\n",
       "    </tr>\n",
       "    <tr>\n",
       "      <th>578</th>\n",
       "      <td>0</td>\n",
       "      <td>397856.565013</td>\n",
       "      <td>0</td>\n",
       "      <td>secondary education</td>\n",
       "      <td>1</td>\n",
       "      <td>married</td>\n",
       "      <td>0</td>\n",
       "      <td>F</td>\n",
       "      <td>retiree</td>\n",
       "      <td>0</td>\n",
       "      <td>15619.310</td>\n",
       "      <td>construction of own property</td>\n",
       "    </tr>\n",
       "    <tr>\n",
       "      <th>1040</th>\n",
       "      <td>0</td>\n",
       "      <td>1158.029561</td>\n",
       "      <td>0</td>\n",
       "      <td>bachelor's degree</td>\n",
       "      <td>0</td>\n",
       "      <td>divorced</td>\n",
       "      <td>3</td>\n",
       "      <td>F</td>\n",
       "      <td>business</td>\n",
       "      <td>0</td>\n",
       "      <td>48639.062</td>\n",
       "      <td>to own a car</td>\n",
       "    </tr>\n",
       "    <tr>\n",
       "      <th>...</th>\n",
       "      <td>...</td>\n",
       "      <td>...</td>\n",
       "      <td>...</td>\n",
       "      <td>...</td>\n",
       "      <td>...</td>\n",
       "      <td>...</td>\n",
       "      <td>...</td>\n",
       "      <td>...</td>\n",
       "      <td>...</td>\n",
       "      <td>...</td>\n",
       "      <td>...</td>\n",
       "      <td>...</td>\n",
       "    </tr>\n",
       "    <tr>\n",
       "      <th>19829</th>\n",
       "      <td>0</td>\n",
       "      <td>NaN</td>\n",
       "      <td>0</td>\n",
       "      <td>secondary education</td>\n",
       "      <td>1</td>\n",
       "      <td>married</td>\n",
       "      <td>0</td>\n",
       "      <td>F</td>\n",
       "      <td>employee</td>\n",
       "      <td>0</td>\n",
       "      <td>NaN</td>\n",
       "      <td>housing</td>\n",
       "    </tr>\n",
       "    <tr>\n",
       "      <th>20462</th>\n",
       "      <td>0</td>\n",
       "      <td>338734.868540</td>\n",
       "      <td>0</td>\n",
       "      <td>secondary education</td>\n",
       "      <td>1</td>\n",
       "      <td>married</td>\n",
       "      <td>0</td>\n",
       "      <td>F</td>\n",
       "      <td>retiree</td>\n",
       "      <td>0</td>\n",
       "      <td>41471.027</td>\n",
       "      <td>purchase of my own house</td>\n",
       "    </tr>\n",
       "    <tr>\n",
       "      <th>20577</th>\n",
       "      <td>0</td>\n",
       "      <td>331741.271455</td>\n",
       "      <td>0</td>\n",
       "      <td>secondary education</td>\n",
       "      <td>1</td>\n",
       "      <td>unmarried</td>\n",
       "      <td>4</td>\n",
       "      <td>F</td>\n",
       "      <td>retiree</td>\n",
       "      <td>0</td>\n",
       "      <td>20766.202</td>\n",
       "      <td>property</td>\n",
       "    </tr>\n",
       "    <tr>\n",
       "      <th>21179</th>\n",
       "      <td>2</td>\n",
       "      <td>108.967042</td>\n",
       "      <td>0</td>\n",
       "      <td>bachelor's degree</td>\n",
       "      <td>0</td>\n",
       "      <td>married</td>\n",
       "      <td>0</td>\n",
       "      <td>M</td>\n",
       "      <td>business</td>\n",
       "      <td>0</td>\n",
       "      <td>38512.321</td>\n",
       "      <td>building a real estate</td>\n",
       "    </tr>\n",
       "    <tr>\n",
       "      <th>21313</th>\n",
       "      <td>0</td>\n",
       "      <td>1268.487728</td>\n",
       "      <td>0</td>\n",
       "      <td>secondary education</td>\n",
       "      <td>1</td>\n",
       "      <td>unmarried</td>\n",
       "      <td>4</td>\n",
       "      <td>M</td>\n",
       "      <td>employee</td>\n",
       "      <td>0</td>\n",
       "      <td>24387.070</td>\n",
       "      <td>housing transactions</td>\n",
       "    </tr>\n",
       "  </tbody>\n",
       "</table>\n",
       "<p>100 rows × 12 columns</p>\n",
       "</div>"
      ],
      "text/plain": [
       "       children  days_employed  dob_years            education  education_id  \\\n",
       "99            0  346541.618895          0  secondary education             1   \n",
       "149           0    2664.273168          0  secondary education             1   \n",
       "270           3    1872.663186          0  secondary education             1   \n",
       "578           0  397856.565013          0  secondary education             1   \n",
       "1040          0    1158.029561          0    bachelor's degree             0   \n",
       "...         ...            ...        ...                  ...           ...   \n",
       "19829         0            NaN          0  secondary education             1   \n",
       "20462         0  338734.868540          0  secondary education             1   \n",
       "20577         0  331741.271455          0  secondary education             1   \n",
       "21179         2     108.967042          0    bachelor's degree             0   \n",
       "21313         0    1268.487728          0  secondary education             1   \n",
       "\n",
       "      family_status  family_status_id gender income_type  debt  total_income  \\\n",
       "99          married                 0      F     retiree     0     11406.644   \n",
       "149        divorced                 3      F    employee     0     11228.230   \n",
       "270         married                 0      F    employee     0     16346.633   \n",
       "578         married                 0      F     retiree     0     15619.310   \n",
       "1040       divorced                 3      F    business     0     48639.062   \n",
       "...             ...               ...    ...         ...   ...           ...   \n",
       "19829       married                 0      F    employee     0           NaN   \n",
       "20462       married                 0      F     retiree     0     41471.027   \n",
       "20577     unmarried                 4      F     retiree     0     20766.202   \n",
       "21179       married                 0      M    business     0     38512.321   \n",
       "21313     unmarried                 4      M    employee     0     24387.070   \n",
       "\n",
       "                            purpose  \n",
       "99                              car  \n",
       "149            housing transactions  \n",
       "270              housing renovation  \n",
       "578    construction of own property  \n",
       "1040                   to own a car  \n",
       "...                             ...  \n",
       "19829                       housing  \n",
       "20462      purchase of my own house  \n",
       "20577                      property  \n",
       "21179        building a real estate  \n",
       "21313          housing transactions  \n",
       "\n",
       "[100 rows x 12 columns]"
      ]
     },
     "execution_count": 20,
     "metadata": {},
     "output_type": "execute_result"
    }
   ],
   "source": [
    "# Checking the `dob_years` for suspicious values and count the percentage\n",
    "\n",
    "sorted(data.dob_years.unique())\n",
    "data.loc[data['dob_years']==0]\n",
    "# data.income_type.unique()"
   ]
  },
  {
   "cell_type": "markdown",
   "metadata": {},
   "source": [
    "\n",
    "\n",
    "Since the number of rows that have values of zero for age only account for 0.47% of the data, then these rows will be dropped because we don't know the source of error. Dropping these rows will not be a significant influence in our overall results. \n"
   ]
  },
  {
   "cell_type": "code",
   "execution_count": 21,
   "metadata": {
    "scrolled": true
   },
   "outputs": [
    {
     "name": "stderr",
     "output_type": "stream",
     "text": [
      "/opt/conda/lib/python3.9/site-packages/pandas/core/frame.py:4308: SettingWithCopyWarning: \n",
      "A value is trying to be set on a copy of a slice from a DataFrame\n",
      "\n",
      "See the caveats in the documentation: https://pandas.pydata.org/pandas-docs/stable/user_guide/indexing.html#returning-a-view-versus-a-copy\n",
      "  return super().drop(\n"
     ]
    }
   ],
   "source": [
    "#dropping the rows with age value of 0\n",
    "len(data.loc[data['dob_years']==0])*100/len(data) \n",
    "data.drop(data.loc[data.dob_years==0].index, inplace= True)"
   ]
  },
  {
   "cell_type": "code",
   "execution_count": 22,
   "metadata": {},
   "outputs": [
    {
     "data": {
      "text/plain": [
       "array([42, 36, 33, 32, 53, 27, 43, 50, 35, 41, 40, 65, 54, 56, 26, 48, 24,\n",
       "       21, 57, 67, 28, 63, 62, 47, 34, 68, 25, 31, 30, 20, 49, 37, 45, 61,\n",
       "       64, 44, 52, 46, 23, 38, 39, 51, 59, 29, 60, 55, 58, 71, 22, 73, 66,\n",
       "       69, 19, 72, 70, 74, 75])"
      ]
     },
     "execution_count": 22,
     "metadata": {},
     "output_type": "execute_result"
    }
   ],
   "source": [
    "# Checking the result to make sure it's fixed\n",
    "data.dob_years.unique()"
   ]
  },
  {
   "cell_type": "markdown",
   "metadata": {},
   "source": [
    "### family_status column"
   ]
  },
  {
   "cell_type": "markdown",
   "metadata": {},
   "source": [
    "The values in the `family_status` column have spaces. Each of the unique values that had spaces in them were formatted in snake_case format. "
   ]
  },
  {
   "cell_type": "code",
   "execution_count": 23,
   "metadata": {},
   "outputs": [
    {
     "data": {
      "text/plain": [
       "array(['married', 'civil partnership', 'widow / widower', 'divorced',\n",
       "       'unmarried'], dtype=object)"
      ]
     },
     "execution_count": 23,
     "metadata": {},
     "output_type": "execute_result"
    }
   ],
   "source": [
    "# values for the column\n",
    "data.family_status.unique()"
   ]
  },
  {
   "cell_type": "code",
   "execution_count": 24,
   "metadata": {},
   "outputs": [
    {
     "name": "stderr",
     "output_type": "stream",
     "text": [
      "/opt/conda/lib/python3.9/site-packages/pandas/core/series.py:4509: SettingWithCopyWarning: \n",
      "A value is trying to be set on a copy of a slice from a DataFrame\n",
      "\n",
      "See the caveats in the documentation: https://pandas.pydata.org/pandas-docs/stable/user_guide/indexing.html#returning-a-view-versus-a-copy\n",
      "  return super().replace(\n"
     ]
    }
   ],
   "source": [
    "# Addressing the problematic values in `family_status`\n",
    "\n",
    "data.family_status.replace('civil partnership','civil_partnership', inplace=True)\n",
    "data.family_status.replace('widow / widower','widow_or_widower', inplace=True)"
   ]
  },
  {
   "cell_type": "code",
   "execution_count": 25,
   "metadata": {},
   "outputs": [
    {
     "data": {
      "text/plain": [
       "array(['married', 'civil_partnership', 'widow_or_widower', 'divorced',\n",
       "       'unmarried'], dtype=object)"
      ]
     },
     "execution_count": 25,
     "metadata": {},
     "output_type": "execute_result"
    }
   ],
   "source": [
    "# Checking the result to make sure it's fixed\n",
    "data.family_status.unique()\n"
   ]
  },
  {
   "cell_type": "markdown",
   "metadata": {},
   "source": [
    "### gender column"
   ]
  },
  {
   "cell_type": "markdown",
   "metadata": {},
   "source": [
    "The `gender` column had 'XNA' values, which could mean that the gender was not inputted; there was not information about the gender of the person; or the gender which the person identified as was not available as an input. There is only one row in the data that contains this value for gender. Dropping this row will not be a significant influence in our analysis. "
   ]
  },
  {
   "cell_type": "code",
   "execution_count": 26,
   "metadata": {},
   "outputs": [
    {
     "name": "stdout",
     "output_type": "stream",
     "text": [
      "['F' 'M' 'XNA']\n"
     ]
    },
    {
     "data": {
      "text/plain": [
       "1"
      ]
     },
     "execution_count": 26,
     "metadata": {},
     "output_type": "execute_result"
    }
   ],
   "source": [
    "# values in the column\n",
    "print(data.gender.unique())\n",
    "len(data.loc[data.gender=='XNA'])"
   ]
  },
  {
   "cell_type": "code",
   "execution_count": 27,
   "metadata": {},
   "outputs": [],
   "source": [
    "# Dropping row with value 'XNA' in gender column\n",
    "data.drop(data.loc[data.gender=='XNA'].index, inplace= True)"
   ]
  },
  {
   "cell_type": "code",
   "execution_count": 28,
   "metadata": {},
   "outputs": [
    {
     "data": {
      "text/plain": [
       "array(['F', 'M'], dtype=object)"
      ]
     },
     "execution_count": 28,
     "metadata": {},
     "output_type": "execute_result"
    }
   ],
   "source": [
    "# Checking the result to make sure it's fixed, if problem exists\n",
    "data.gender.unique()"
   ]
  },
  {
   "cell_type": "markdown",
   "metadata": {},
   "source": [
    "### income_type column"
   ]
  },
  {
   "cell_type": "markdown",
   "metadata": {},
   "source": [
    "The values in the `income_type` column have spaces. Each of the unique values that had spaces in them were formatted in snake_case format."
   ]
  },
  {
   "cell_type": "code",
   "execution_count": 29,
   "metadata": {},
   "outputs": [
    {
     "data": {
      "text/plain": [
       "array(['employee', 'retiree', 'business', 'civil servant', 'unemployed',\n",
       "       'entrepreneur', 'student', 'paternity / maternity leave'],\n",
       "      dtype=object)"
      ]
     },
     "execution_count": 29,
     "metadata": {},
     "output_type": "execute_result"
    }
   ],
   "source": [
    "# values in the column\n",
    "data.income_type.unique()"
   ]
  },
  {
   "cell_type": "code",
   "execution_count": 30,
   "metadata": {},
   "outputs": [],
   "source": [
    "# Addressing the problematic values\n",
    "data.income_type.replace('civil servant','civil_servant',inplace=True)\n",
    "data.income_type.replace('paternity / maternity leave','paternity_or_maternity_leave',inplace=True)"
   ]
  },
  {
   "cell_type": "code",
   "execution_count": 31,
   "metadata": {},
   "outputs": [
    {
     "data": {
      "text/plain": [
       "array(['employee', 'retiree', 'business', 'civil_servant', 'unemployed',\n",
       "       'entrepreneur', 'student', 'paternity_or_maternity_leave'],\n",
       "      dtype=object)"
      ]
     },
     "execution_count": 31,
     "metadata": {},
     "output_type": "execute_result"
    }
   ],
   "source": [
    "# Checking the result to make sure it's fixed\n",
    "\n",
    "data.income_type.unique()"
   ]
  },
  {
   "cell_type": "markdown",
   "metadata": {},
   "source": [
    "### checking for duplicates"
   ]
  },
  {
   "cell_type": "markdown",
   "metadata": {},
   "source": [
    "__Duplicated data__\n",
    "The duplicated rows were dropped because it could mean that the information was inputted more than once. There were in total of 54 duplicates, and their contribution to the data is less than 1%; therefore, dropping these rows will not significantly influence our analysis. "
   ]
  },
  {
   "cell_type": "code",
   "execution_count": 32,
   "metadata": {},
   "outputs": [
    {
     "name": "stdout",
     "output_type": "stream",
     "text": [
      "0.33331768461574574\n"
     ]
    }
   ],
   "source": [
    "#Checking duplicates\n",
    "duplicate_data=data[data.duplicated(keep='last')]\n",
    "print(len(duplicate_data)*100/len(data))"
   ]
  },
  {
   "cell_type": "code",
   "execution_count": 33,
   "metadata": {},
   "outputs": [
    {
     "name": "stderr",
     "output_type": "stream",
     "text": [
      "/tmp/ipykernel_76/1515868590.py:2: SettingWithCopyWarning: \n",
      "A value is trying to be set on a copy of a slice from a DataFrame\n",
      "\n",
      "See the caveats in the documentation: https://pandas.pydata.org/pandas-docs/stable/user_guide/indexing.html#returning-a-view-versus-a-copy\n",
      "  data.drop_duplicates(keep=False, inplace=True)\n"
     ]
    }
   ],
   "source": [
    "# Addressinf the duplicates\n",
    "data.drop_duplicates(keep=False, inplace=True)"
   ]
  },
  {
   "cell_type": "code",
   "execution_count": 34,
   "metadata": {},
   "outputs": [
    {
     "name": "stdout",
     "output_type": "stream",
     "text": [
      "Empty DataFrame\n",
      "Columns: [children, days_employed, dob_years, education, education_id, family_status, family_status_id, gender, income_type, debt, total_income, purpose]\n",
      "Index: []\n"
     ]
    }
   ],
   "source": [
    "# Last check whether there are any duplicates\n",
    "duplicate_data=data[data.duplicated(keep='last')]\n",
    "print(duplicate_data)"
   ]
  },
  {
   "cell_type": "code",
   "execution_count": 35,
   "metadata": {},
   "outputs": [
    {
     "name": "stdout",
     "output_type": "stream",
     "text": [
      "<class 'pandas.core.frame.DataFrame'>\n",
      "Int64Index: 21164 entries, 0 to 21524\n",
      "Data columns (total 12 columns):\n",
      " #   Column            Non-Null Count  Dtype  \n",
      "---  ------            --------------  -----  \n",
      " 0   children          21164 non-null  int64  \n",
      " 1   days_employed     19149 non-null  float64\n",
      " 2   dob_years         21164 non-null  int64  \n",
      " 3   education         21164 non-null  object \n",
      " 4   education_id      21164 non-null  int64  \n",
      " 5   family_status     21164 non-null  object \n",
      " 6   family_status_id  21164 non-null  int64  \n",
      " 7   gender            21164 non-null  object \n",
      " 8   income_type       21164 non-null  object \n",
      " 9   debt              21164 non-null  int64  \n",
      " 10  total_income      19149 non-null  float64\n",
      " 11  purpose           21164 non-null  object \n",
      "dtypes: float64(2), int64(5), object(5)\n",
      "memory usage: 2.1+ MB\n",
      "None\n",
      "Empty DataFrame\n",
      "Columns: [children, days_employed, dob_years, education, education_id, family_status, family_status_id, gender, income_type, debt, total_income, purpose]\n",
      "Index: []\n"
     ]
    }
   ],
   "source": [
    "# size of the dataset after first manipulations \n",
    "print(data.info())\n",
    "print(data[data.days_employed.notnull()&data.total_income.isnull()])"
   ]
  },
  {
   "cell_type": "markdown",
   "metadata": {},
   "source": [
    "\n",
    "After dropping duplicates, the number of rows from the original data decreased by 1.67% . Again, by using the line of code: data[data.days_employed.notnull()&data.total_income.isnull()] , we observed that for each missing value in 'days_employed', there is a missing value in the 'total_income' column. "
   ]
  },
  {
   "cell_type": "markdown",
   "metadata": {},
   "source": [
    "# Working with missing values"
   ]
  },
  {
   "cell_type": "markdown",
   "metadata": {},
   "source": [
    "### Restoring missing values in `total_income`"
   ]
  },
  {
   "cell_type": "markdown",
   "metadata": {},
   "source": [
    "The age_categorization function was created to create the `age_category` column to describe the age range that each person belongs to. These age ranges were used as indices in the `median_income_pivot`, which examines the median income per income_type and education."
   ]
  },
  {
   "cell_type": "code",
   "execution_count": 36,
   "metadata": {
    "scrolled": true
   },
   "outputs": [],
   "source": [
    "#function that calculates the age category\n",
    "def age_categorization(row):\n",
    "    age=row['dob_years']\n",
    " \n",
    "    if age < 30:\n",
    "        return('20s')\n",
    "    if 30<= age <40:\n",
    "        return('30s')\n",
    "    if 40<= age <50:\n",
    "        return('40s')\n",
    "    if 50<= age <60:\n",
    "        return('50s')\n",
    "    if 60<= age <70:\n",
    "        return('60s')\n",
    "    if age >=60:\n",
    "        return('70s_or_older')"
   ]
  },
  {
   "cell_type": "code",
   "execution_count": 37,
   "metadata": {},
   "outputs": [
    {
     "data": {
      "text/plain": [
       "'40s'"
      ]
     },
     "execution_count": 37,
     "metadata": {},
     "output_type": "execute_result"
    }
   ],
   "source": [
    "# Testing if the function works\n",
    "row_values=[45]\n",
    "row_columns=['dob_years']\n",
    "row=pd.Series(data=row_values,index=row_columns)\n",
    "age_categorization(row)"
   ]
  },
  {
   "cell_type": "code",
   "execution_count": 38,
   "metadata": {},
   "outputs": [
    {
     "name": "stderr",
     "output_type": "stream",
     "text": [
      "/tmp/ipykernel_76/789463299.py:2: SettingWithCopyWarning: \n",
      "A value is trying to be set on a copy of a slice from a DataFrame.\n",
      "Try using .loc[row_indexer,col_indexer] = value instead\n",
      "\n",
      "See the caveats in the documentation: https://pandas.pydata.org/pandas-docs/stable/user_guide/indexing.html#returning-a-view-versus-a-copy\n",
      "  data['age_category']=data.apply(age_categorization,axis=1)\n"
     ]
    }
   ],
   "source": [
    "# Creating new column based on function\n",
    "data['age_category']=data.apply(age_categorization,axis=1)"
   ]
  },
  {
   "cell_type": "code",
   "execution_count": 39,
   "metadata": {},
   "outputs": [
    {
     "data": {
      "text/html": [
       "<div>\n",
       "<style scoped>\n",
       "    .dataframe tbody tr th:only-of-type {\n",
       "        vertical-align: middle;\n",
       "    }\n",
       "\n",
       "    .dataframe tbody tr th {\n",
       "        vertical-align: top;\n",
       "    }\n",
       "\n",
       "    .dataframe thead th {\n",
       "        text-align: right;\n",
       "    }\n",
       "</style>\n",
       "<table border=\"1\" class=\"dataframe\">\n",
       "  <thead>\n",
       "    <tr style=\"text-align: right;\">\n",
       "      <th></th>\n",
       "      <th>children</th>\n",
       "      <th>days_employed</th>\n",
       "      <th>dob_years</th>\n",
       "      <th>education</th>\n",
       "      <th>education_id</th>\n",
       "      <th>family_status</th>\n",
       "      <th>family_status_id</th>\n",
       "      <th>gender</th>\n",
       "      <th>income_type</th>\n",
       "      <th>debt</th>\n",
       "      <th>total_income</th>\n",
       "      <th>purpose</th>\n",
       "      <th>age_category</th>\n",
       "    </tr>\n",
       "  </thead>\n",
       "  <tbody>\n",
       "    <tr>\n",
       "      <th>0</th>\n",
       "      <td>1</td>\n",
       "      <td>8437.673028</td>\n",
       "      <td>42</td>\n",
       "      <td>bachelor's degree</td>\n",
       "      <td>0</td>\n",
       "      <td>married</td>\n",
       "      <td>0</td>\n",
       "      <td>F</td>\n",
       "      <td>employee</td>\n",
       "      <td>0</td>\n",
       "      <td>40620.102</td>\n",
       "      <td>purchase of the house</td>\n",
       "      <td>40s</td>\n",
       "    </tr>\n",
       "    <tr>\n",
       "      <th>1</th>\n",
       "      <td>1</td>\n",
       "      <td>4024.803754</td>\n",
       "      <td>36</td>\n",
       "      <td>secondary education</td>\n",
       "      <td>1</td>\n",
       "      <td>married</td>\n",
       "      <td>0</td>\n",
       "      <td>F</td>\n",
       "      <td>employee</td>\n",
       "      <td>0</td>\n",
       "      <td>17932.802</td>\n",
       "      <td>car purchase</td>\n",
       "      <td>30s</td>\n",
       "    </tr>\n",
       "    <tr>\n",
       "      <th>2</th>\n",
       "      <td>0</td>\n",
       "      <td>5623.422610</td>\n",
       "      <td>33</td>\n",
       "      <td>secondary education</td>\n",
       "      <td>1</td>\n",
       "      <td>married</td>\n",
       "      <td>0</td>\n",
       "      <td>M</td>\n",
       "      <td>employee</td>\n",
       "      <td>0</td>\n",
       "      <td>23341.752</td>\n",
       "      <td>purchase of the house</td>\n",
       "      <td>30s</td>\n",
       "    </tr>\n",
       "    <tr>\n",
       "      <th>3</th>\n",
       "      <td>3</td>\n",
       "      <td>4124.747207</td>\n",
       "      <td>32</td>\n",
       "      <td>secondary education</td>\n",
       "      <td>1</td>\n",
       "      <td>married</td>\n",
       "      <td>0</td>\n",
       "      <td>M</td>\n",
       "      <td>employee</td>\n",
       "      <td>0</td>\n",
       "      <td>42820.568</td>\n",
       "      <td>supplementary education</td>\n",
       "      <td>30s</td>\n",
       "    </tr>\n",
       "    <tr>\n",
       "      <th>4</th>\n",
       "      <td>0</td>\n",
       "      <td>340266.072047</td>\n",
       "      <td>53</td>\n",
       "      <td>secondary education</td>\n",
       "      <td>1</td>\n",
       "      <td>civil_partnership</td>\n",
       "      <td>1</td>\n",
       "      <td>F</td>\n",
       "      <td>retiree</td>\n",
       "      <td>0</td>\n",
       "      <td>25378.572</td>\n",
       "      <td>to have a wedding</td>\n",
       "      <td>50s</td>\n",
       "    </tr>\n",
       "  </tbody>\n",
       "</table>\n",
       "</div>"
      ],
      "text/plain": [
       "   children  days_employed  dob_years            education  education_id  \\\n",
       "0         1    8437.673028         42    bachelor's degree             0   \n",
       "1         1    4024.803754         36  secondary education             1   \n",
       "2         0    5623.422610         33  secondary education             1   \n",
       "3         3    4124.747207         32  secondary education             1   \n",
       "4         0  340266.072047         53  secondary education             1   \n",
       "\n",
       "       family_status  family_status_id gender income_type  debt  total_income  \\\n",
       "0            married                 0      F    employee     0     40620.102   \n",
       "1            married                 0      F    employee     0     17932.802   \n",
       "2            married                 0      M    employee     0     23341.752   \n",
       "3            married                 0      M    employee     0     42820.568   \n",
       "4  civil_partnership                 1      F     retiree     0     25378.572   \n",
       "\n",
       "                   purpose age_category  \n",
       "0    purchase of the house          40s  \n",
       "1             car purchase          30s  \n",
       "2    purchase of the house          30s  \n",
       "3  supplementary education          30s  \n",
       "4        to have a wedding          50s  "
      ]
     },
     "execution_count": 39,
     "metadata": {},
     "output_type": "execute_result"
    }
   ],
   "source": [
    "# Checking how values in the new column\n",
    "data.head()"
   ]
  },
  {
   "cell_type": "markdown",
   "metadata": {},
   "source": [
    "The `no_nan_values` table was used to find the distribution of the 'total_income' column without having missing data."
   ]
  },
  {
   "cell_type": "code",
   "execution_count": 40,
   "metadata": {},
   "outputs": [
    {
     "data": {
      "text/html": [
       "<div>\n",
       "<style scoped>\n",
       "    .dataframe tbody tr th:only-of-type {\n",
       "        vertical-align: middle;\n",
       "    }\n",
       "\n",
       "    .dataframe tbody tr th {\n",
       "        vertical-align: top;\n",
       "    }\n",
       "\n",
       "    .dataframe thead th {\n",
       "        text-align: right;\n",
       "    }\n",
       "</style>\n",
       "<table border=\"1\" class=\"dataframe\">\n",
       "  <thead>\n",
       "    <tr style=\"text-align: right;\">\n",
       "      <th></th>\n",
       "      <th>children</th>\n",
       "      <th>days_employed</th>\n",
       "      <th>dob_years</th>\n",
       "      <th>education</th>\n",
       "      <th>education_id</th>\n",
       "      <th>family_status</th>\n",
       "      <th>family_status_id</th>\n",
       "      <th>gender</th>\n",
       "      <th>income_type</th>\n",
       "      <th>debt</th>\n",
       "      <th>total_income</th>\n",
       "      <th>purpose</th>\n",
       "      <th>age_category</th>\n",
       "    </tr>\n",
       "  </thead>\n",
       "  <tbody>\n",
       "    <tr>\n",
       "      <th>0</th>\n",
       "      <td>1</td>\n",
       "      <td>8437.673028</td>\n",
       "      <td>42</td>\n",
       "      <td>bachelor's degree</td>\n",
       "      <td>0</td>\n",
       "      <td>married</td>\n",
       "      <td>0</td>\n",
       "      <td>F</td>\n",
       "      <td>employee</td>\n",
       "      <td>0</td>\n",
       "      <td>40620.102</td>\n",
       "      <td>purchase of the house</td>\n",
       "      <td>40s</td>\n",
       "    </tr>\n",
       "    <tr>\n",
       "      <th>1</th>\n",
       "      <td>1</td>\n",
       "      <td>4024.803754</td>\n",
       "      <td>36</td>\n",
       "      <td>secondary education</td>\n",
       "      <td>1</td>\n",
       "      <td>married</td>\n",
       "      <td>0</td>\n",
       "      <td>F</td>\n",
       "      <td>employee</td>\n",
       "      <td>0</td>\n",
       "      <td>17932.802</td>\n",
       "      <td>car purchase</td>\n",
       "      <td>30s</td>\n",
       "    </tr>\n",
       "    <tr>\n",
       "      <th>2</th>\n",
       "      <td>0</td>\n",
       "      <td>5623.422610</td>\n",
       "      <td>33</td>\n",
       "      <td>secondary education</td>\n",
       "      <td>1</td>\n",
       "      <td>married</td>\n",
       "      <td>0</td>\n",
       "      <td>M</td>\n",
       "      <td>employee</td>\n",
       "      <td>0</td>\n",
       "      <td>23341.752</td>\n",
       "      <td>purchase of the house</td>\n",
       "      <td>30s</td>\n",
       "    </tr>\n",
       "    <tr>\n",
       "      <th>3</th>\n",
       "      <td>3</td>\n",
       "      <td>4124.747207</td>\n",
       "      <td>32</td>\n",
       "      <td>secondary education</td>\n",
       "      <td>1</td>\n",
       "      <td>married</td>\n",
       "      <td>0</td>\n",
       "      <td>M</td>\n",
       "      <td>employee</td>\n",
       "      <td>0</td>\n",
       "      <td>42820.568</td>\n",
       "      <td>supplementary education</td>\n",
       "      <td>30s</td>\n",
       "    </tr>\n",
       "    <tr>\n",
       "      <th>4</th>\n",
       "      <td>0</td>\n",
       "      <td>340266.072047</td>\n",
       "      <td>53</td>\n",
       "      <td>secondary education</td>\n",
       "      <td>1</td>\n",
       "      <td>civil_partnership</td>\n",
       "      <td>1</td>\n",
       "      <td>F</td>\n",
       "      <td>retiree</td>\n",
       "      <td>0</td>\n",
       "      <td>25378.572</td>\n",
       "      <td>to have a wedding</td>\n",
       "      <td>50s</td>\n",
       "    </tr>\n",
       "    <tr>\n",
       "      <th>...</th>\n",
       "      <td>...</td>\n",
       "      <td>...</td>\n",
       "      <td>...</td>\n",
       "      <td>...</td>\n",
       "      <td>...</td>\n",
       "      <td>...</td>\n",
       "      <td>...</td>\n",
       "      <td>...</td>\n",
       "      <td>...</td>\n",
       "      <td>...</td>\n",
       "      <td>...</td>\n",
       "      <td>...</td>\n",
       "      <td>...</td>\n",
       "    </tr>\n",
       "    <tr>\n",
       "      <th>21520</th>\n",
       "      <td>1</td>\n",
       "      <td>4529.316663</td>\n",
       "      <td>43</td>\n",
       "      <td>secondary education</td>\n",
       "      <td>1</td>\n",
       "      <td>civil_partnership</td>\n",
       "      <td>1</td>\n",
       "      <td>F</td>\n",
       "      <td>business</td>\n",
       "      <td>0</td>\n",
       "      <td>35966.698</td>\n",
       "      <td>housing transactions</td>\n",
       "      <td>40s</td>\n",
       "    </tr>\n",
       "    <tr>\n",
       "      <th>21521</th>\n",
       "      <td>0</td>\n",
       "      <td>343937.404131</td>\n",
       "      <td>67</td>\n",
       "      <td>secondary education</td>\n",
       "      <td>1</td>\n",
       "      <td>married</td>\n",
       "      <td>0</td>\n",
       "      <td>F</td>\n",
       "      <td>retiree</td>\n",
       "      <td>0</td>\n",
       "      <td>24959.969</td>\n",
       "      <td>purchase of a car</td>\n",
       "      <td>60s</td>\n",
       "    </tr>\n",
       "    <tr>\n",
       "      <th>21522</th>\n",
       "      <td>1</td>\n",
       "      <td>2113.346888</td>\n",
       "      <td>38</td>\n",
       "      <td>secondary education</td>\n",
       "      <td>1</td>\n",
       "      <td>civil_partnership</td>\n",
       "      <td>1</td>\n",
       "      <td>M</td>\n",
       "      <td>employee</td>\n",
       "      <td>1</td>\n",
       "      <td>14347.610</td>\n",
       "      <td>property</td>\n",
       "      <td>30s</td>\n",
       "    </tr>\n",
       "    <tr>\n",
       "      <th>21523</th>\n",
       "      <td>3</td>\n",
       "      <td>3112.481705</td>\n",
       "      <td>38</td>\n",
       "      <td>secondary education</td>\n",
       "      <td>1</td>\n",
       "      <td>married</td>\n",
       "      <td>0</td>\n",
       "      <td>M</td>\n",
       "      <td>employee</td>\n",
       "      <td>1</td>\n",
       "      <td>39054.888</td>\n",
       "      <td>buying my own car</td>\n",
       "      <td>30s</td>\n",
       "    </tr>\n",
       "    <tr>\n",
       "      <th>21524</th>\n",
       "      <td>2</td>\n",
       "      <td>1984.507589</td>\n",
       "      <td>40</td>\n",
       "      <td>secondary education</td>\n",
       "      <td>1</td>\n",
       "      <td>married</td>\n",
       "      <td>0</td>\n",
       "      <td>F</td>\n",
       "      <td>employee</td>\n",
       "      <td>0</td>\n",
       "      <td>13127.587</td>\n",
       "      <td>to buy a car</td>\n",
       "      <td>40s</td>\n",
       "    </tr>\n",
       "  </tbody>\n",
       "</table>\n",
       "<p>19149 rows × 13 columns</p>\n",
       "</div>"
      ],
      "text/plain": [
       "       children  days_employed  dob_years            education  education_id  \\\n",
       "0             1    8437.673028         42    bachelor's degree             0   \n",
       "1             1    4024.803754         36  secondary education             1   \n",
       "2             0    5623.422610         33  secondary education             1   \n",
       "3             3    4124.747207         32  secondary education             1   \n",
       "4             0  340266.072047         53  secondary education             1   \n",
       "...         ...            ...        ...                  ...           ...   \n",
       "21520         1    4529.316663         43  secondary education             1   \n",
       "21521         0  343937.404131         67  secondary education             1   \n",
       "21522         1    2113.346888         38  secondary education             1   \n",
       "21523         3    3112.481705         38  secondary education             1   \n",
       "21524         2    1984.507589         40  secondary education             1   \n",
       "\n",
       "           family_status  family_status_id gender income_type  debt  \\\n",
       "0                married                 0      F    employee     0   \n",
       "1                married                 0      F    employee     0   \n",
       "2                married                 0      M    employee     0   \n",
       "3                married                 0      M    employee     0   \n",
       "4      civil_partnership                 1      F     retiree     0   \n",
       "...                  ...               ...    ...         ...   ...   \n",
       "21520  civil_partnership                 1      F    business     0   \n",
       "21521            married                 0      F     retiree     0   \n",
       "21522  civil_partnership                 1      M    employee     1   \n",
       "21523            married                 0      M    employee     1   \n",
       "21524            married                 0      F    employee     0   \n",
       "\n",
       "       total_income                  purpose age_category  \n",
       "0         40620.102    purchase of the house          40s  \n",
       "1         17932.802             car purchase          30s  \n",
       "2         23341.752    purchase of the house          30s  \n",
       "3         42820.568  supplementary education          30s  \n",
       "4         25378.572        to have a wedding          50s  \n",
       "...             ...                      ...          ...  \n",
       "21520     35966.698     housing transactions          40s  \n",
       "21521     24959.969        purchase of a car          60s  \n",
       "21522     14347.610                 property          30s  \n",
       "21523     39054.888        buying my own car          30s  \n",
       "21524     13127.587             to buy a car          40s  \n",
       "\n",
       "[19149 rows x 13 columns]"
      ]
     },
     "execution_count": 40,
     "metadata": {},
     "output_type": "execute_result"
    }
   ],
   "source": [
    "#table without missing values in the `Total_income` column. \n",
    "no_nan_values= data.dropna()\n",
    "no_nan_values"
   ]
  },
  {
   "cell_type": "markdown",
   "metadata": {},
   "source": [
    "#### Distribution of values of factors that affect income\n",
    "Below are the distributions of factors that affect income in the following pivot tables. "
   ]
  },
  {
   "cell_type": "code",
   "execution_count": 41,
   "metadata": {},
   "outputs": [
    {
     "data": {
      "text/html": [
       "<div>\n",
       "<style scoped>\n",
       "    .dataframe tbody tr th:only-of-type {\n",
       "        vertical-align: middle;\n",
       "    }\n",
       "\n",
       "    .dataframe tbody tr th {\n",
       "        vertical-align: top;\n",
       "    }\n",
       "\n",
       "    .dataframe thead th {\n",
       "        text-align: right;\n",
       "    }\n",
       "</style>\n",
       "<table border=\"1\" class=\"dataframe\">\n",
       "  <thead>\n",
       "    <tr style=\"text-align: right;\">\n",
       "      <th></th>\n",
       "      <th>min</th>\n",
       "      <th>median</th>\n",
       "      <th>mean</th>\n",
       "      <th>max</th>\n",
       "    </tr>\n",
       "    <tr>\n",
       "      <th>age_category</th>\n",
       "      <th></th>\n",
       "      <th></th>\n",
       "      <th></th>\n",
       "      <th></th>\n",
       "    </tr>\n",
       "  </thead>\n",
       "  <tbody>\n",
       "    <tr>\n",
       "      <th>20s</th>\n",
       "      <td>4494.861</td>\n",
       "      <td>22765.2935</td>\n",
       "      <td>25544.231203</td>\n",
       "      <td>131588.163</td>\n",
       "    </tr>\n",
       "    <tr>\n",
       "      <th>30s</th>\n",
       "      <td>3392.845</td>\n",
       "      <td>24699.5815</td>\n",
       "      <td>28314.525654</td>\n",
       "      <td>352136.354</td>\n",
       "    </tr>\n",
       "    <tr>\n",
       "      <th>40s</th>\n",
       "      <td>4036.463</td>\n",
       "      <td>24772.3820</td>\n",
       "      <td>28575.427654</td>\n",
       "      <td>362496.645</td>\n",
       "    </tr>\n",
       "    <tr>\n",
       "      <th>50s</th>\n",
       "      <td>3306.762</td>\n",
       "      <td>22195.8470</td>\n",
       "      <td>25807.707523</td>\n",
       "      <td>195686.797</td>\n",
       "    </tr>\n",
       "    <tr>\n",
       "      <th>60s</th>\n",
       "      <td>3471.216</td>\n",
       "      <td>19811.3260</td>\n",
       "      <td>23236.985508</td>\n",
       "      <td>274402.943</td>\n",
       "    </tr>\n",
       "    <tr>\n",
       "      <th>70s_or_older</th>\n",
       "      <td>3595.641</td>\n",
       "      <td>18751.3240</td>\n",
       "      <td>20125.658331</td>\n",
       "      <td>57508.032</td>\n",
       "    </tr>\n",
       "  </tbody>\n",
       "</table>\n",
       "</div>"
      ],
      "text/plain": [
       "                   min      median          mean         max\n",
       "age_category                                                \n",
       "20s           4494.861  22765.2935  25544.231203  131588.163\n",
       "30s           3392.845  24699.5815  28314.525654  352136.354\n",
       "40s           4036.463  24772.3820  28575.427654  362496.645\n",
       "50s           3306.762  22195.8470  25807.707523  195686.797\n",
       "60s           3471.216  19811.3260  23236.985508  274402.943\n",
       "70s_or_older  3595.641  18751.3240  20125.658331   57508.032"
      ]
     },
     "execution_count": 41,
     "metadata": {},
     "output_type": "execute_result"
    }
   ],
   "source": [
    "# the distribution values for income based on age_category\n",
    "no_nan_values.groupby('age_category')['total_income'].agg(['min','median','mean','max'])"
   ]
  },
  {
   "cell_type": "code",
   "execution_count": 42,
   "metadata": {},
   "outputs": [
    {
     "data": {
      "text/html": [
       "<div>\n",
       "<style scoped>\n",
       "    .dataframe tbody tr th:only-of-type {\n",
       "        vertical-align: middle;\n",
       "    }\n",
       "\n",
       "    .dataframe tbody tr th {\n",
       "        vertical-align: top;\n",
       "    }\n",
       "\n",
       "    .dataframe thead th {\n",
       "        text-align: right;\n",
       "    }\n",
       "</style>\n",
       "<table border=\"1\" class=\"dataframe\">\n",
       "  <thead>\n",
       "    <tr style=\"text-align: right;\">\n",
       "      <th></th>\n",
       "      <th>min</th>\n",
       "      <th>median</th>\n",
       "      <th>mean</th>\n",
       "      <th>max</th>\n",
       "    </tr>\n",
       "    <tr>\n",
       "      <th>education</th>\n",
       "      <th></th>\n",
       "      <th></th>\n",
       "      <th></th>\n",
       "      <th></th>\n",
       "    </tr>\n",
       "  </thead>\n",
       "  <tbody>\n",
       "    <tr>\n",
       "      <th>bachelor's degree</th>\n",
       "      <td>5148.514</td>\n",
       "      <td>28086.5425</td>\n",
       "      <td>33197.258790</td>\n",
       "      <td>362496.645</td>\n",
       "    </tr>\n",
       "    <tr>\n",
       "      <th>graduate degree</th>\n",
       "      <td>15800.399</td>\n",
       "      <td>25161.5835</td>\n",
       "      <td>27960.024667</td>\n",
       "      <td>42945.794</td>\n",
       "    </tr>\n",
       "    <tr>\n",
       "      <th>primary education</th>\n",
       "      <td>4049.374</td>\n",
       "      <td>18741.9760</td>\n",
       "      <td>21144.882211</td>\n",
       "      <td>78410.774</td>\n",
       "    </tr>\n",
       "    <tr>\n",
       "      <th>secondary education</th>\n",
       "      <td>3306.762</td>\n",
       "      <td>21832.2410</td>\n",
       "      <td>24594.390815</td>\n",
       "      <td>276204.162</td>\n",
       "    </tr>\n",
       "    <tr>\n",
       "      <th>some college</th>\n",
       "      <td>5514.581</td>\n",
       "      <td>25618.4640</td>\n",
       "      <td>29028.844227</td>\n",
       "      <td>153349.533</td>\n",
       "    </tr>\n",
       "  </tbody>\n",
       "</table>\n",
       "</div>"
      ],
      "text/plain": [
       "                           min      median          mean         max\n",
       "education                                                           \n",
       "bachelor's degree     5148.514  28086.5425  33197.258790  362496.645\n",
       "graduate degree      15800.399  25161.5835  27960.024667   42945.794\n",
       "primary education     4049.374  18741.9760  21144.882211   78410.774\n",
       "secondary education   3306.762  21832.2410  24594.390815  276204.162\n",
       "some college          5514.581  25618.4640  29028.844227  153349.533"
      ]
     },
     "execution_count": 42,
     "metadata": {},
     "output_type": "execute_result"
    }
   ],
   "source": [
    "# the distribution values for income based on education\n",
    "no_nan_values.groupby('education')['total_income'].agg(['min','median','mean','max'])"
   ]
  },
  {
   "cell_type": "code",
   "execution_count": 43,
   "metadata": {},
   "outputs": [
    {
     "data": {
      "text/html": [
       "<div>\n",
       "<style scoped>\n",
       "    .dataframe tbody tr th:only-of-type {\n",
       "        vertical-align: middle;\n",
       "    }\n",
       "\n",
       "    .dataframe tbody tr th {\n",
       "        vertical-align: top;\n",
       "    }\n",
       "\n",
       "    .dataframe thead th {\n",
       "        text-align: right;\n",
       "    }\n",
       "</style>\n",
       "<table border=\"1\" class=\"dataframe\">\n",
       "  <thead>\n",
       "    <tr style=\"text-align: right;\">\n",
       "      <th></th>\n",
       "      <th>min</th>\n",
       "      <th>median</th>\n",
       "      <th>mean</th>\n",
       "      <th>max</th>\n",
       "    </tr>\n",
       "    <tr>\n",
       "      <th>income_type</th>\n",
       "      <th></th>\n",
       "      <th></th>\n",
       "      <th></th>\n",
       "      <th></th>\n",
       "    </tr>\n",
       "  </thead>\n",
       "  <tbody>\n",
       "    <tr>\n",
       "      <th>business</th>\n",
       "      <td>4592.450</td>\n",
       "      <td>27594.6410</td>\n",
       "      <td>32424.420789</td>\n",
       "      <td>362496.645</td>\n",
       "    </tr>\n",
       "    <tr>\n",
       "      <th>civil_servant</th>\n",
       "      <td>4672.012</td>\n",
       "      <td>24076.1150</td>\n",
       "      <td>27336.442546</td>\n",
       "      <td>145672.235</td>\n",
       "    </tr>\n",
       "    <tr>\n",
       "      <th>employee</th>\n",
       "      <td>3418.824</td>\n",
       "      <td>22815.1035</td>\n",
       "      <td>25822.872585</td>\n",
       "      <td>276204.162</td>\n",
       "    </tr>\n",
       "    <tr>\n",
       "      <th>entrepreneur</th>\n",
       "      <td>79866.103</td>\n",
       "      <td>79866.1030</td>\n",
       "      <td>79866.103000</td>\n",
       "      <td>79866.103</td>\n",
       "    </tr>\n",
       "    <tr>\n",
       "      <th>paternity_or_maternity_leave</th>\n",
       "      <td>8612.661</td>\n",
       "      <td>8612.6610</td>\n",
       "      <td>8612.661000</td>\n",
       "      <td>8612.661</td>\n",
       "    </tr>\n",
       "    <tr>\n",
       "      <th>retiree</th>\n",
       "      <td>3306.762</td>\n",
       "      <td>18959.6260</td>\n",
       "      <td>21950.722935</td>\n",
       "      <td>117616.523</td>\n",
       "    </tr>\n",
       "    <tr>\n",
       "      <th>student</th>\n",
       "      <td>15712.260</td>\n",
       "      <td>15712.2600</td>\n",
       "      <td>15712.260000</td>\n",
       "      <td>15712.260</td>\n",
       "    </tr>\n",
       "    <tr>\n",
       "      <th>unemployed</th>\n",
       "      <td>9593.119</td>\n",
       "      <td>21014.3605</td>\n",
       "      <td>21014.360500</td>\n",
       "      <td>32435.602</td>\n",
       "    </tr>\n",
       "  </tbody>\n",
       "</table>\n",
       "</div>"
      ],
      "text/plain": [
       "                                    min      median          mean         max\n",
       "income_type                                                                  \n",
       "business                       4592.450  27594.6410  32424.420789  362496.645\n",
       "civil_servant                  4672.012  24076.1150  27336.442546  145672.235\n",
       "employee                       3418.824  22815.1035  25822.872585  276204.162\n",
       "entrepreneur                  79866.103  79866.1030  79866.103000   79866.103\n",
       "paternity_or_maternity_leave   8612.661   8612.6610   8612.661000    8612.661\n",
       "retiree                        3306.762  18959.6260  21950.722935  117616.523\n",
       "student                       15712.260  15712.2600  15712.260000   15712.260\n",
       "unemployed                     9593.119  21014.3605  21014.360500   32435.602"
      ]
     },
     "execution_count": 43,
     "metadata": {},
     "output_type": "execute_result"
    }
   ],
   "source": [
    "# the distribution values for income based on income type\n",
    "no_nan_values.groupby('income_type')['total_income'].agg(['min','median','mean','max'])"
   ]
  },
  {
   "cell_type": "code",
   "execution_count": 44,
   "metadata": {},
   "outputs": [
    {
     "data": {
      "text/html": [
       "<div>\n",
       "<style scoped>\n",
       "    .dataframe tbody tr th:only-of-type {\n",
       "        vertical-align: middle;\n",
       "    }\n",
       "\n",
       "    .dataframe tbody tr th {\n",
       "        vertical-align: top;\n",
       "    }\n",
       "\n",
       "    .dataframe thead th {\n",
       "        text-align: right;\n",
       "    }\n",
       "</style>\n",
       "<table border=\"1\" class=\"dataframe\">\n",
       "  <thead>\n",
       "    <tr style=\"text-align: right;\">\n",
       "      <th></th>\n",
       "      <th>min</th>\n",
       "      <th>median</th>\n",
       "      <th>mean</th>\n",
       "      <th>max</th>\n",
       "    </tr>\n",
       "    <tr>\n",
       "      <th>gender</th>\n",
       "      <th></th>\n",
       "      <th></th>\n",
       "      <th></th>\n",
       "      <th></th>\n",
       "    </tr>\n",
       "  </thead>\n",
       "  <tbody>\n",
       "    <tr>\n",
       "      <th>F</th>\n",
       "      <td>3306.762</td>\n",
       "      <td>21465.6375</td>\n",
       "      <td>24666.721477</td>\n",
       "      <td>274402.943</td>\n",
       "    </tr>\n",
       "    <tr>\n",
       "      <th>M</th>\n",
       "      <td>3392.845</td>\n",
       "      <td>26828.2450</td>\n",
       "      <td>30913.888696</td>\n",
       "      <td>362496.645</td>\n",
       "    </tr>\n",
       "  </tbody>\n",
       "</table>\n",
       "</div>"
      ],
      "text/plain": [
       "             min      median          mean         max\n",
       "gender                                                \n",
       "F       3306.762  21465.6375  24666.721477  274402.943\n",
       "M       3392.845  26828.2450  30913.888696  362496.645"
      ]
     },
     "execution_count": 44,
     "metadata": {},
     "output_type": "execute_result"
    }
   ],
   "source": [
    "# the distribution values for income based on genderr\n",
    "no_nan_values.groupby('gender')['total_income'].agg(['min','median','mean','max'])"
   ]
  },
  {
   "cell_type": "markdown",
   "metadata": {},
   "source": [
    "#### intermediate conclusion\n",
    "Based on the distribution of income type, median will be used because mean is affected by outliers. Although gender is an influential factor in total_income, the type of job or source of income, education and age have considerably more difference in total income. The median values values of total_income for the pivot tables below were used, since our distributions showed outliers. "
   ]
  },
  {
   "cell_type": "markdown",
   "metadata": {},
   "source": [
    "The `median_income_pivot` categorized the median income per age, income type and education level. However, there are some null values in this table. To take into account these null values, the `income_type_education_pivot` table was used as a second resource to use in a situation that there's a null value in `median_income_table`, for a person who has a missing total income value. The `income_type_education_pivot` table categorizes the median income per income type and education. Similarly to `median_income_pivot`, the `income_type_education_pivot`also presents some null values for their indices. As a third resource, we used the `income_type_pivot` table, which categorizes the median total income per income_type. \n",
    "\n",
    "The `filling_missing_income_in_data` function was created to fill in the missing total income values in the 'total_income' column depending on the person's age category, income type and education. Inside the function, each of these pivot tables were assigned a variable name that describes the ranking to use them as a resource to find missing data. For instance, the `median_income_pivot` table was assigned the `first_resource` variable name. The `filling_missing_income_in_data` function also prevents error for people whose income type is not listed in the `first_resource` pivot table. For instance, people who had mising income, and were in their 50s and were entrepreneurs did not have a category in for entrepreneurship in the `filling_missing_income_in_data`. Therefore, try and except attributes were used to look in the `second_resource` table and prevent errors. "
   ]
  },
  {
   "cell_type": "code",
   "execution_count": 45,
   "metadata": {
    "scrolled": false
   },
   "outputs": [
    {
     "data": {
      "text/html": [
       "<div>\n",
       "<style scoped>\n",
       "    .dataframe tbody tr th:only-of-type {\n",
       "        vertical-align: middle;\n",
       "    }\n",
       "\n",
       "    .dataframe tbody tr th {\n",
       "        vertical-align: top;\n",
       "    }\n",
       "\n",
       "    .dataframe thead th {\n",
       "        text-align: right;\n",
       "    }\n",
       "</style>\n",
       "<table border=\"1\" class=\"dataframe\">\n",
       "  <thead>\n",
       "    <tr style=\"text-align: right;\">\n",
       "      <th></th>\n",
       "      <th>education</th>\n",
       "      <th>bachelor's degree</th>\n",
       "      <th>graduate degree</th>\n",
       "      <th>primary education</th>\n",
       "      <th>secondary education</th>\n",
       "      <th>some college</th>\n",
       "    </tr>\n",
       "    <tr>\n",
       "      <th>age_category</th>\n",
       "      <th>income_type</th>\n",
       "      <th></th>\n",
       "      <th></th>\n",
       "      <th></th>\n",
       "      <th></th>\n",
       "      <th></th>\n",
       "    </tr>\n",
       "  </thead>\n",
       "  <tbody>\n",
       "    <tr>\n",
       "      <th rowspan=\"6\" valign=\"top\">20s</th>\n",
       "      <th>business</th>\n",
       "      <td>28250.284</td>\n",
       "      <td>missing</td>\n",
       "      <td>24210.196</td>\n",
       "      <td>23846.311</td>\n",
       "      <td>25542.585</td>\n",
       "    </tr>\n",
       "    <tr>\n",
       "      <th>civil_servant</th>\n",
       "      <td>24483.1205</td>\n",
       "      <td>missing</td>\n",
       "      <td>30563.383</td>\n",
       "      <td>21857.0015</td>\n",
       "      <td>21297.703</td>\n",
       "    </tr>\n",
       "    <tr>\n",
       "      <th>employee</th>\n",
       "      <td>24142.603</td>\n",
       "      <td>missing</td>\n",
       "      <td>24583.5965</td>\n",
       "      <td>20189.558</td>\n",
       "      <td>21852.577</td>\n",
       "    </tr>\n",
       "    <tr>\n",
       "      <th>entrepreneur</th>\n",
       "      <td>79866.103</td>\n",
       "      <td>missing</td>\n",
       "      <td>missing</td>\n",
       "      <td>missing</td>\n",
       "      <td>missing</td>\n",
       "    </tr>\n",
       "    <tr>\n",
       "      <th>retiree</th>\n",
       "      <td>34394.128</td>\n",
       "      <td>missing</td>\n",
       "      <td>missing</td>\n",
       "      <td>12807.071</td>\n",
       "      <td>missing</td>\n",
       "    </tr>\n",
       "    <tr>\n",
       "      <th>student</th>\n",
       "      <td>15712.26</td>\n",
       "      <td>missing</td>\n",
       "      <td>missing</td>\n",
       "      <td>missing</td>\n",
       "      <td>missing</td>\n",
       "    </tr>\n",
       "    <tr>\n",
       "      <th rowspan=\"6\" valign=\"top\">30s</th>\n",
       "      <th>business</th>\n",
       "      <td>32639.6155</td>\n",
       "      <td>missing</td>\n",
       "      <td>20030.226</td>\n",
       "      <td>26225.8565</td>\n",
       "      <td>29985.268</td>\n",
       "    </tr>\n",
       "    <tr>\n",
       "      <th>civil_servant</th>\n",
       "      <td>27956.2445</td>\n",
       "      <td>17822.757</td>\n",
       "      <td>21150.696</td>\n",
       "      <td>20834.434</td>\n",
       "      <td>30672.718</td>\n",
       "    </tr>\n",
       "    <tr>\n",
       "      <th>employee</th>\n",
       "      <td>26773.885</td>\n",
       "      <td>18551.846</td>\n",
       "      <td>19546.341</td>\n",
       "      <td>22083.6365</td>\n",
       "      <td>26913.823</td>\n",
       "    </tr>\n",
       "    <tr>\n",
       "      <th>paternity_or_maternity_leave</th>\n",
       "      <td>missing</td>\n",
       "      <td>missing</td>\n",
       "      <td>missing</td>\n",
       "      <td>8612.661</td>\n",
       "      <td>missing</td>\n",
       "    </tr>\n",
       "    <tr>\n",
       "      <th>retiree</th>\n",
       "      <td>30117.883</td>\n",
       "      <td>missing</td>\n",
       "      <td>14138.866</td>\n",
       "      <td>18495.774</td>\n",
       "      <td>missing</td>\n",
       "    </tr>\n",
       "    <tr>\n",
       "      <th>unemployed</th>\n",
       "      <td>missing</td>\n",
       "      <td>missing</td>\n",
       "      <td>missing</td>\n",
       "      <td>9593.119</td>\n",
       "      <td>missing</td>\n",
       "    </tr>\n",
       "    <tr>\n",
       "      <th rowspan=\"5\" valign=\"top\">40s</th>\n",
       "      <th>business</th>\n",
       "      <td>34592.045</td>\n",
       "      <td>missing</td>\n",
       "      <td>27929.098</td>\n",
       "      <td>26132.921</td>\n",
       "      <td>35282.094</td>\n",
       "    </tr>\n",
       "    <tr>\n",
       "      <th>civil_servant</th>\n",
       "      <td>28425.481</td>\n",
       "      <td>missing</td>\n",
       "      <td>78410.774</td>\n",
       "      <td>22450.766</td>\n",
       "      <td>26587.674</td>\n",
       "    </tr>\n",
       "    <tr>\n",
       "      <th>employee</th>\n",
       "      <td>27497.588</td>\n",
       "      <td>31771.321</td>\n",
       "      <td>21132.3895</td>\n",
       "      <td>22221.9355</td>\n",
       "      <td>26846.2815</td>\n",
       "    </tr>\n",
       "    <tr>\n",
       "      <th>retiree</th>\n",
       "      <td>31828.7485</td>\n",
       "      <td>missing</td>\n",
       "      <td>15708.433</td>\n",
       "      <td>22263.986</td>\n",
       "      <td>8199.59</td>\n",
       "    </tr>\n",
       "    <tr>\n",
       "      <th>unemployed</th>\n",
       "      <td>32435.602</td>\n",
       "      <td>missing</td>\n",
       "      <td>missing</td>\n",
       "      <td>missing</td>\n",
       "      <td>missing</td>\n",
       "    </tr>\n",
       "    <tr>\n",
       "      <th rowspan=\"4\" valign=\"top\">50s</th>\n",
       "      <th>business</th>\n",
       "      <td>35415.771</td>\n",
       "      <td>missing</td>\n",
       "      <td>23066.131</td>\n",
       "      <td>24449.6465</td>\n",
       "      <td>33073.763</td>\n",
       "    </tr>\n",
       "    <tr>\n",
       "      <th>civil_servant</th>\n",
       "      <td>28366.568</td>\n",
       "      <td>missing</td>\n",
       "      <td>12709.2755</td>\n",
       "      <td>21256.299</td>\n",
       "      <td>missing</td>\n",
       "    </tr>\n",
       "    <tr>\n",
       "      <th>employee</th>\n",
       "      <td>27471.936</td>\n",
       "      <td>42945.794</td>\n",
       "      <td>14599.258</td>\n",
       "      <td>21762.1655</td>\n",
       "      <td>22644.3135</td>\n",
       "    </tr>\n",
       "    <tr>\n",
       "      <th>retiree</th>\n",
       "      <td>22805.7985</td>\n",
       "      <td>missing</td>\n",
       "      <td>17104.925</td>\n",
       "      <td>18805.1185</td>\n",
       "      <td>17973.623</td>\n",
       "    </tr>\n",
       "    <tr>\n",
       "      <th rowspan=\"4\" valign=\"top\">60s</th>\n",
       "      <th>business</th>\n",
       "      <td>30849.5425</td>\n",
       "      <td>missing</td>\n",
       "      <td>missing</td>\n",
       "      <td>27142.1265</td>\n",
       "      <td>37146.535</td>\n",
       "    </tr>\n",
       "    <tr>\n",
       "      <th>civil_servant</th>\n",
       "      <td>27117.841</td>\n",
       "      <td>missing</td>\n",
       "      <td>missing</td>\n",
       "      <td>22756.936</td>\n",
       "      <td>missing</td>\n",
       "    </tr>\n",
       "    <tr>\n",
       "      <th>employee</th>\n",
       "      <td>27969.0405</td>\n",
       "      <td>missing</td>\n",
       "      <td>26188.242</td>\n",
       "      <td>21311.4815</td>\n",
       "      <td>28993.934</td>\n",
       "    </tr>\n",
       "    <tr>\n",
       "      <th>retiree</th>\n",
       "      <td>23522.6545</td>\n",
       "      <td>28334.215</td>\n",
       "      <td>16415.785</td>\n",
       "      <td>17934.836</td>\n",
       "      <td>25908.0145</td>\n",
       "    </tr>\n",
       "    <tr>\n",
       "      <th rowspan=\"4\" valign=\"top\">70s_or_older</th>\n",
       "      <th>business</th>\n",
       "      <td>36808.968</td>\n",
       "      <td>missing</td>\n",
       "      <td>missing</td>\n",
       "      <td>24259.687</td>\n",
       "      <td>missing</td>\n",
       "    </tr>\n",
       "    <tr>\n",
       "      <th>civil_servant</th>\n",
       "      <td>57508.032</td>\n",
       "      <td>missing</td>\n",
       "      <td>missing</td>\n",
       "      <td>19530.6775</td>\n",
       "      <td>missing</td>\n",
       "    </tr>\n",
       "    <tr>\n",
       "      <th>employee</th>\n",
       "      <td>missing</td>\n",
       "      <td>missing</td>\n",
       "      <td>missing</td>\n",
       "      <td>24660.901</td>\n",
       "      <td>missing</td>\n",
       "    </tr>\n",
       "    <tr>\n",
       "      <th>retiree</th>\n",
       "      <td>22009.315</td>\n",
       "      <td>missing</td>\n",
       "      <td>15013.505</td>\n",
       "      <td>17543.248</td>\n",
       "      <td>14479.193</td>\n",
       "    </tr>\n",
       "  </tbody>\n",
       "</table>\n",
       "</div>"
      ],
      "text/plain": [
       "education                                 bachelor's degree graduate degree  \\\n",
       "age_category income_type                                                      \n",
       "20s          business                             28250.284         missing   \n",
       "             civil_servant                       24483.1205         missing   \n",
       "             employee                             24142.603         missing   \n",
       "             entrepreneur                         79866.103         missing   \n",
       "             retiree                              34394.128         missing   \n",
       "             student                               15712.26         missing   \n",
       "30s          business                            32639.6155         missing   \n",
       "             civil_servant                       27956.2445       17822.757   \n",
       "             employee                             26773.885       18551.846   \n",
       "             paternity_or_maternity_leave           missing         missing   \n",
       "             retiree                              30117.883         missing   \n",
       "             unemployed                             missing         missing   \n",
       "40s          business                             34592.045         missing   \n",
       "             civil_servant                        28425.481         missing   \n",
       "             employee                             27497.588       31771.321   \n",
       "             retiree                             31828.7485         missing   \n",
       "             unemployed                           32435.602         missing   \n",
       "50s          business                             35415.771         missing   \n",
       "             civil_servant                        28366.568         missing   \n",
       "             employee                             27471.936       42945.794   \n",
       "             retiree                             22805.7985         missing   \n",
       "60s          business                            30849.5425         missing   \n",
       "             civil_servant                        27117.841         missing   \n",
       "             employee                            27969.0405         missing   \n",
       "             retiree                             23522.6545       28334.215   \n",
       "70s_or_older business                             36808.968         missing   \n",
       "             civil_servant                        57508.032         missing   \n",
       "             employee                               missing         missing   \n",
       "             retiree                              22009.315         missing   \n",
       "\n",
       "education                                 primary education  \\\n",
       "age_category income_type                                      \n",
       "20s          business                             24210.196   \n",
       "             civil_servant                        30563.383   \n",
       "             employee                            24583.5965   \n",
       "             entrepreneur                           missing   \n",
       "             retiree                                missing   \n",
       "             student                                missing   \n",
       "30s          business                             20030.226   \n",
       "             civil_servant                        21150.696   \n",
       "             employee                             19546.341   \n",
       "             paternity_or_maternity_leave           missing   \n",
       "             retiree                              14138.866   \n",
       "             unemployed                             missing   \n",
       "40s          business                             27929.098   \n",
       "             civil_servant                        78410.774   \n",
       "             employee                            21132.3895   \n",
       "             retiree                              15708.433   \n",
       "             unemployed                             missing   \n",
       "50s          business                             23066.131   \n",
       "             civil_servant                       12709.2755   \n",
       "             employee                             14599.258   \n",
       "             retiree                              17104.925   \n",
       "60s          business                               missing   \n",
       "             civil_servant                          missing   \n",
       "             employee                             26188.242   \n",
       "             retiree                              16415.785   \n",
       "70s_or_older business                               missing   \n",
       "             civil_servant                          missing   \n",
       "             employee                               missing   \n",
       "             retiree                              15013.505   \n",
       "\n",
       "education                                 secondary education some college  \n",
       "age_category income_type                                                    \n",
       "20s          business                               23846.311    25542.585  \n",
       "             civil_servant                         21857.0015    21297.703  \n",
       "             employee                               20189.558    21852.577  \n",
       "             entrepreneur                             missing      missing  \n",
       "             retiree                                12807.071      missing  \n",
       "             student                                  missing      missing  \n",
       "30s          business                              26225.8565    29985.268  \n",
       "             civil_servant                          20834.434    30672.718  \n",
       "             employee                              22083.6365    26913.823  \n",
       "             paternity_or_maternity_leave            8612.661      missing  \n",
       "             retiree                                18495.774      missing  \n",
       "             unemployed                              9593.119      missing  \n",
       "40s          business                               26132.921    35282.094  \n",
       "             civil_servant                          22450.766    26587.674  \n",
       "             employee                              22221.9355   26846.2815  \n",
       "             retiree                                22263.986      8199.59  \n",
       "             unemployed                               missing      missing  \n",
       "50s          business                              24449.6465    33073.763  \n",
       "             civil_servant                          21256.299      missing  \n",
       "             employee                              21762.1655   22644.3135  \n",
       "             retiree                               18805.1185    17973.623  \n",
       "60s          business                              27142.1265    37146.535  \n",
       "             civil_servant                          22756.936      missing  \n",
       "             employee                              21311.4815    28993.934  \n",
       "             retiree                                17934.836   25908.0145  \n",
       "70s_or_older business                               24259.687      missing  \n",
       "             civil_servant                         19530.6775      missing  \n",
       "             employee                               24660.901      missing  \n",
       "             retiree                                17543.248    14479.193  "
      ]
     },
     "execution_count": 45,
     "metadata": {},
     "output_type": "execute_result"
    }
   ],
   "source": [
    "median_income_pivot=no_nan_values.pivot_table(\n",
    "index=['age_category','income_type'],\n",
    "columns='education',\n",
    "values='total_income',\n",
    "aggfunc='median', fill_value='missing')\n",
    "\n",
    "\n",
    "income_type_education_pivot=no_nan_values.pivot_table(\n",
    "index='income_type',\n",
    "columns='education',\n",
    "values='total_income',\n",
    "aggfunc='median', fill_value='missing')\n",
    "\n",
    "\n",
    "income_type_pivot=no_nan_values.pivot_table(\n",
    "index='income_type',\n",
    "values='total_income',\n",
    "aggfunc='median', fill_value='missing')\n",
    "\n",
    "median_income_pivot"
   ]
  },
  {
   "cell_type": "code",
   "execution_count": 46,
   "metadata": {
    "scrolled": true
   },
   "outputs": [
    {
     "data": {
      "text/html": [
       "<div>\n",
       "<style scoped>\n",
       "    .dataframe tbody tr th:only-of-type {\n",
       "        vertical-align: middle;\n",
       "    }\n",
       "\n",
       "    .dataframe tbody tr th {\n",
       "        vertical-align: top;\n",
       "    }\n",
       "\n",
       "    .dataframe thead th {\n",
       "        text-align: right;\n",
       "    }\n",
       "</style>\n",
       "<table border=\"1\" class=\"dataframe\">\n",
       "  <thead>\n",
       "    <tr style=\"text-align: right;\">\n",
       "      <th>education</th>\n",
       "      <th>bachelor's degree</th>\n",
       "      <th>graduate degree</th>\n",
       "      <th>primary education</th>\n",
       "      <th>secondary education</th>\n",
       "      <th>some college</th>\n",
       "    </tr>\n",
       "    <tr>\n",
       "      <th>income_type</th>\n",
       "      <th></th>\n",
       "      <th></th>\n",
       "      <th></th>\n",
       "      <th></th>\n",
       "      <th></th>\n",
       "    </tr>\n",
       "  </thead>\n",
       "  <tbody>\n",
       "    <tr>\n",
       "      <th>business</th>\n",
       "      <td>32285.664</td>\n",
       "      <td>missing</td>\n",
       "      <td>21887.825</td>\n",
       "      <td>25441.23</td>\n",
       "      <td>28778.744</td>\n",
       "    </tr>\n",
       "    <tr>\n",
       "      <th>civil_servant</th>\n",
       "      <td>27564.459</td>\n",
       "      <td>17822.757</td>\n",
       "      <td>23734.287</td>\n",
       "      <td>21864.475</td>\n",
       "      <td>25694.775</td>\n",
       "    </tr>\n",
       "    <tr>\n",
       "      <th>employee</th>\n",
       "      <td>26587.423</td>\n",
       "      <td>31771.321</td>\n",
       "      <td>20159.186</td>\n",
       "      <td>21841.813</td>\n",
       "      <td>24209.43</td>\n",
       "    </tr>\n",
       "    <tr>\n",
       "      <th>entrepreneur</th>\n",
       "      <td>79866.103</td>\n",
       "      <td>missing</td>\n",
       "      <td>missing</td>\n",
       "      <td>missing</td>\n",
       "      <td>missing</td>\n",
       "    </tr>\n",
       "    <tr>\n",
       "      <th>paternity_or_maternity_leave</th>\n",
       "      <td>missing</td>\n",
       "      <td>missing</td>\n",
       "      <td>missing</td>\n",
       "      <td>8612.661</td>\n",
       "      <td>missing</td>\n",
       "    </tr>\n",
       "    <tr>\n",
       "      <th>retiree</th>\n",
       "      <td>23030.247</td>\n",
       "      <td>28334.215</td>\n",
       "      <td>16415.785</td>\n",
       "      <td>18372.071</td>\n",
       "      <td>19221.903</td>\n",
       "    </tr>\n",
       "    <tr>\n",
       "      <th>student</th>\n",
       "      <td>15712.26</td>\n",
       "      <td>missing</td>\n",
       "      <td>missing</td>\n",
       "      <td>missing</td>\n",
       "      <td>missing</td>\n",
       "    </tr>\n",
       "    <tr>\n",
       "      <th>unemployed</th>\n",
       "      <td>32435.602</td>\n",
       "      <td>missing</td>\n",
       "      <td>missing</td>\n",
       "      <td>9593.119</td>\n",
       "      <td>missing</td>\n",
       "    </tr>\n",
       "  </tbody>\n",
       "</table>\n",
       "</div>"
      ],
      "text/plain": [
       "education                    bachelor's degree graduate degree  \\\n",
       "income_type                                                      \n",
       "business                             32285.664         missing   \n",
       "civil_servant                        27564.459       17822.757   \n",
       "employee                             26587.423       31771.321   \n",
       "entrepreneur                         79866.103         missing   \n",
       "paternity_or_maternity_leave           missing         missing   \n",
       "retiree                              23030.247       28334.215   \n",
       "student                               15712.26         missing   \n",
       "unemployed                           32435.602         missing   \n",
       "\n",
       "education                    primary education secondary education  \\\n",
       "income_type                                                          \n",
       "business                             21887.825            25441.23   \n",
       "civil_servant                        23734.287           21864.475   \n",
       "employee                             20159.186           21841.813   \n",
       "entrepreneur                           missing             missing   \n",
       "paternity_or_maternity_leave           missing            8612.661   \n",
       "retiree                              16415.785           18372.071   \n",
       "student                                missing             missing   \n",
       "unemployed                             missing            9593.119   \n",
       "\n",
       "education                    some college  \n",
       "income_type                                \n",
       "business                        28778.744  \n",
       "civil_servant                   25694.775  \n",
       "employee                         24209.43  \n",
       "entrepreneur                      missing  \n",
       "paternity_or_maternity_leave      missing  \n",
       "retiree                         19221.903  \n",
       "student                           missing  \n",
       "unemployed                        missing  "
      ]
     },
     "execution_count": 46,
     "metadata": {},
     "output_type": "execute_result"
    }
   ],
   "source": [
    "income_type_education_pivot"
   ]
  },
  {
   "cell_type": "code",
   "execution_count": 47,
   "metadata": {},
   "outputs": [
    {
     "data": {
      "text/html": [
       "<div>\n",
       "<style scoped>\n",
       "    .dataframe tbody tr th:only-of-type {\n",
       "        vertical-align: middle;\n",
       "    }\n",
       "\n",
       "    .dataframe tbody tr th {\n",
       "        vertical-align: top;\n",
       "    }\n",
       "\n",
       "    .dataframe thead th {\n",
       "        text-align: right;\n",
       "    }\n",
       "</style>\n",
       "<table border=\"1\" class=\"dataframe\">\n",
       "  <thead>\n",
       "    <tr style=\"text-align: right;\">\n",
       "      <th></th>\n",
       "      <th>total_income</th>\n",
       "    </tr>\n",
       "    <tr>\n",
       "      <th>income_type</th>\n",
       "      <th></th>\n",
       "    </tr>\n",
       "  </thead>\n",
       "  <tbody>\n",
       "    <tr>\n",
       "      <th>business</th>\n",
       "      <td>27594.6410</td>\n",
       "    </tr>\n",
       "    <tr>\n",
       "      <th>civil_servant</th>\n",
       "      <td>24076.1150</td>\n",
       "    </tr>\n",
       "    <tr>\n",
       "      <th>employee</th>\n",
       "      <td>22815.1035</td>\n",
       "    </tr>\n",
       "    <tr>\n",
       "      <th>entrepreneur</th>\n",
       "      <td>79866.1030</td>\n",
       "    </tr>\n",
       "    <tr>\n",
       "      <th>paternity_or_maternity_leave</th>\n",
       "      <td>8612.6610</td>\n",
       "    </tr>\n",
       "    <tr>\n",
       "      <th>retiree</th>\n",
       "      <td>18959.6260</td>\n",
       "    </tr>\n",
       "    <tr>\n",
       "      <th>student</th>\n",
       "      <td>15712.2600</td>\n",
       "    </tr>\n",
       "    <tr>\n",
       "      <th>unemployed</th>\n",
       "      <td>21014.3605</td>\n",
       "    </tr>\n",
       "  </tbody>\n",
       "</table>\n",
       "</div>"
      ],
      "text/plain": [
       "                              total_income\n",
       "income_type                               \n",
       "business                        27594.6410\n",
       "civil_servant                   24076.1150\n",
       "employee                        22815.1035\n",
       "entrepreneur                    79866.1030\n",
       "paternity_or_maternity_leave     8612.6610\n",
       "retiree                         18959.6260\n",
       "student                         15712.2600\n",
       "unemployed                      21014.3605"
      ]
     },
     "execution_count": 47,
     "metadata": {},
     "output_type": "execute_result"
    }
   ],
   "source": [
    "income_type_pivot"
   ]
  },
  {
   "cell_type": "code",
   "execution_count": 48,
   "metadata": {},
   "outputs": [],
   "source": [
    "#  function used for filling in missing values\n",
    "def filling_missing_income_in_data(row):\n",
    "    income_type=row['income_type']\n",
    "    total_income=row['total_income']\n",
    "    education=row['education']\n",
    "    age_category=row['age_category']\n",
    "    \n",
    "    first_resource=median_income_pivot\n",
    "    second_resource=income_type_education_pivot\n",
    "    third_resource= income_type_pivot\n",
    "    \n",
    "    if total_income != 'missing':\n",
    "        return total_income\n",
    "    \n",
    "    try:\n",
    "        if total_income =='missing':\n",
    "            if first_resource.loc[(age_category,income_type),education]=='missing':\n",
    "                if second_resource.loc[income_type,education]=='missing':\n",
    "                    return third_resource.loc[income_type]\n",
    "                return second_resource.loc[income_type,education]\n",
    "            return first_resource.loc[(age_category,income_type),education]\n",
    "    \n",
    "    except:\n",
    "        if total_income =='missing':\n",
    "            if second_resource.loc[income_type,education]=='missing':\n",
    "                return third_resource.loc[income_type]\n",
    "            return second_resource.loc[income_type,education]"
   ]
  },
  {
   "cell_type": "code",
   "execution_count": 49,
   "metadata": {},
   "outputs": [
    {
     "data": {
      "text/plain": [
       "28250.284"
      ]
     },
     "execution_count": 49,
     "metadata": {},
     "output_type": "execute_result"
    }
   ],
   "source": [
    "# Checking if the function works\n",
    "\n",
    "row_values=['20s','business',\"bachelor's degree\", 'missing']\n",
    "row_columns=['age_category','income_type','education','total_income']\n",
    "row=pd.Series(data=row_values,index=row_columns)\n",
    "filling_missing_income_in_data(row)\n"
   ]
  },
  {
   "cell_type": "code",
   "execution_count": 50,
   "metadata": {},
   "outputs": [
    {
     "name": "stderr",
     "output_type": "stream",
     "text": [
      "/opt/conda/lib/python3.9/site-packages/pandas/core/series.py:4463: SettingWithCopyWarning: \n",
      "A value is trying to be set on a copy of a slice from a DataFrame\n",
      "\n",
      "See the caveats in the documentation: https://pandas.pydata.org/pandas-docs/stable/user_guide/indexing.html#returning-a-view-versus-a-copy\n",
      "  return super().fillna(\n",
      "/tmp/ipykernel_76/2475972195.py:3: SettingWithCopyWarning: \n",
      "A value is trying to be set on a copy of a slice from a DataFrame.\n",
      "Try using .loc[row_indexer,col_indexer] = value instead\n",
      "\n",
      "See the caveats in the documentation: https://pandas.pydata.org/pandas-docs/stable/user_guide/indexing.html#returning-a-view-versus-a-copy\n",
      "  data['total_income']=data.apply(filling_missing_income_in_data,axis=1)\n",
      "/tmp/ipykernel_76/2475972195.py:4: SettingWithCopyWarning: \n",
      "A value is trying to be set on a copy of a slice from a DataFrame.\n",
      "Try using .loc[row_indexer,col_indexer] = value instead\n",
      "\n",
      "See the caveats in the documentation: https://pandas.pydata.org/pandas-docs/stable/user_guide/indexing.html#returning-a-view-versus-a-copy\n",
      "  data['total_income']=data['total_income'].round(2)\n"
     ]
    }
   ],
   "source": [
    "# Applying it to every row\n",
    "data.total_income.fillna('missing',inplace=True)\n",
    "data['total_income']=data.apply(filling_missing_income_in_data,axis=1)\n",
    "data['total_income']=data['total_income'].round(2)\n"
   ]
  },
  {
   "cell_type": "code",
   "execution_count": 51,
   "metadata": {},
   "outputs": [
    {
     "data": {
      "text/html": [
       "<div>\n",
       "<style scoped>\n",
       "    .dataframe tbody tr th:only-of-type {\n",
       "        vertical-align: middle;\n",
       "    }\n",
       "\n",
       "    .dataframe tbody tr th {\n",
       "        vertical-align: top;\n",
       "    }\n",
       "\n",
       "    .dataframe thead th {\n",
       "        text-align: right;\n",
       "    }\n",
       "</style>\n",
       "<table border=\"1\" class=\"dataframe\">\n",
       "  <thead>\n",
       "    <tr style=\"text-align: right;\">\n",
       "      <th></th>\n",
       "      <th>children</th>\n",
       "      <th>days_employed</th>\n",
       "      <th>dob_years</th>\n",
       "      <th>education</th>\n",
       "      <th>education_id</th>\n",
       "      <th>family_status</th>\n",
       "      <th>family_status_id</th>\n",
       "      <th>gender</th>\n",
       "      <th>income_type</th>\n",
       "      <th>debt</th>\n",
       "      <th>total_income</th>\n",
       "      <th>purpose</th>\n",
       "      <th>age_category</th>\n",
       "    </tr>\n",
       "  </thead>\n",
       "  <tbody>\n",
       "    <tr>\n",
       "      <th>0</th>\n",
       "      <td>1</td>\n",
       "      <td>8437.673028</td>\n",
       "      <td>42</td>\n",
       "      <td>bachelor's degree</td>\n",
       "      <td>0</td>\n",
       "      <td>married</td>\n",
       "      <td>0</td>\n",
       "      <td>F</td>\n",
       "      <td>employee</td>\n",
       "      <td>0</td>\n",
       "      <td>40620.10</td>\n",
       "      <td>purchase of the house</td>\n",
       "      <td>40s</td>\n",
       "    </tr>\n",
       "    <tr>\n",
       "      <th>1</th>\n",
       "      <td>1</td>\n",
       "      <td>4024.803754</td>\n",
       "      <td>36</td>\n",
       "      <td>secondary education</td>\n",
       "      <td>1</td>\n",
       "      <td>married</td>\n",
       "      <td>0</td>\n",
       "      <td>F</td>\n",
       "      <td>employee</td>\n",
       "      <td>0</td>\n",
       "      <td>17932.80</td>\n",
       "      <td>car purchase</td>\n",
       "      <td>30s</td>\n",
       "    </tr>\n",
       "    <tr>\n",
       "      <th>2</th>\n",
       "      <td>0</td>\n",
       "      <td>5623.422610</td>\n",
       "      <td>33</td>\n",
       "      <td>secondary education</td>\n",
       "      <td>1</td>\n",
       "      <td>married</td>\n",
       "      <td>0</td>\n",
       "      <td>M</td>\n",
       "      <td>employee</td>\n",
       "      <td>0</td>\n",
       "      <td>23341.75</td>\n",
       "      <td>purchase of the house</td>\n",
       "      <td>30s</td>\n",
       "    </tr>\n",
       "    <tr>\n",
       "      <th>3</th>\n",
       "      <td>3</td>\n",
       "      <td>4124.747207</td>\n",
       "      <td>32</td>\n",
       "      <td>secondary education</td>\n",
       "      <td>1</td>\n",
       "      <td>married</td>\n",
       "      <td>0</td>\n",
       "      <td>M</td>\n",
       "      <td>employee</td>\n",
       "      <td>0</td>\n",
       "      <td>42820.57</td>\n",
       "      <td>supplementary education</td>\n",
       "      <td>30s</td>\n",
       "    </tr>\n",
       "    <tr>\n",
       "      <th>4</th>\n",
       "      <td>0</td>\n",
       "      <td>340266.072047</td>\n",
       "      <td>53</td>\n",
       "      <td>secondary education</td>\n",
       "      <td>1</td>\n",
       "      <td>civil_partnership</td>\n",
       "      <td>1</td>\n",
       "      <td>F</td>\n",
       "      <td>retiree</td>\n",
       "      <td>0</td>\n",
       "      <td>25378.57</td>\n",
       "      <td>to have a wedding</td>\n",
       "      <td>50s</td>\n",
       "    </tr>\n",
       "    <tr>\n",
       "      <th>5</th>\n",
       "      <td>0</td>\n",
       "      <td>926.185831</td>\n",
       "      <td>27</td>\n",
       "      <td>bachelor's degree</td>\n",
       "      <td>0</td>\n",
       "      <td>civil_partnership</td>\n",
       "      <td>1</td>\n",
       "      <td>M</td>\n",
       "      <td>business</td>\n",
       "      <td>0</td>\n",
       "      <td>40922.17</td>\n",
       "      <td>purchase of the house</td>\n",
       "      <td>20s</td>\n",
       "    </tr>\n",
       "    <tr>\n",
       "      <th>6</th>\n",
       "      <td>0</td>\n",
       "      <td>2879.202052</td>\n",
       "      <td>43</td>\n",
       "      <td>bachelor's degree</td>\n",
       "      <td>0</td>\n",
       "      <td>married</td>\n",
       "      <td>0</td>\n",
       "      <td>F</td>\n",
       "      <td>business</td>\n",
       "      <td>0</td>\n",
       "      <td>38484.16</td>\n",
       "      <td>housing transactions</td>\n",
       "      <td>40s</td>\n",
       "    </tr>\n",
       "    <tr>\n",
       "      <th>7</th>\n",
       "      <td>0</td>\n",
       "      <td>152.779569</td>\n",
       "      <td>50</td>\n",
       "      <td>secondary education</td>\n",
       "      <td>1</td>\n",
       "      <td>married</td>\n",
       "      <td>0</td>\n",
       "      <td>M</td>\n",
       "      <td>employee</td>\n",
       "      <td>0</td>\n",
       "      <td>21731.83</td>\n",
       "      <td>education</td>\n",
       "      <td>50s</td>\n",
       "    </tr>\n",
       "    <tr>\n",
       "      <th>8</th>\n",
       "      <td>2</td>\n",
       "      <td>6929.865299</td>\n",
       "      <td>35</td>\n",
       "      <td>bachelor's degree</td>\n",
       "      <td>0</td>\n",
       "      <td>civil_partnership</td>\n",
       "      <td>1</td>\n",
       "      <td>F</td>\n",
       "      <td>employee</td>\n",
       "      <td>0</td>\n",
       "      <td>15337.09</td>\n",
       "      <td>having a wedding</td>\n",
       "      <td>30s</td>\n",
       "    </tr>\n",
       "    <tr>\n",
       "      <th>9</th>\n",
       "      <td>0</td>\n",
       "      <td>2188.756445</td>\n",
       "      <td>41</td>\n",
       "      <td>secondary education</td>\n",
       "      <td>1</td>\n",
       "      <td>married</td>\n",
       "      <td>0</td>\n",
       "      <td>M</td>\n",
       "      <td>employee</td>\n",
       "      <td>0</td>\n",
       "      <td>23108.15</td>\n",
       "      <td>purchase of the house for my family</td>\n",
       "      <td>40s</td>\n",
       "    </tr>\n",
       "  </tbody>\n",
       "</table>\n",
       "</div>"
      ],
      "text/plain": [
       "   children  days_employed  dob_years            education  education_id  \\\n",
       "0         1    8437.673028         42    bachelor's degree             0   \n",
       "1         1    4024.803754         36  secondary education             1   \n",
       "2         0    5623.422610         33  secondary education             1   \n",
       "3         3    4124.747207         32  secondary education             1   \n",
       "4         0  340266.072047         53  secondary education             1   \n",
       "5         0     926.185831         27    bachelor's degree             0   \n",
       "6         0    2879.202052         43    bachelor's degree             0   \n",
       "7         0     152.779569         50  secondary education             1   \n",
       "8         2    6929.865299         35    bachelor's degree             0   \n",
       "9         0    2188.756445         41  secondary education             1   \n",
       "\n",
       "       family_status  family_status_id gender income_type  debt  total_income  \\\n",
       "0            married                 0      F    employee     0      40620.10   \n",
       "1            married                 0      F    employee     0      17932.80   \n",
       "2            married                 0      M    employee     0      23341.75   \n",
       "3            married                 0      M    employee     0      42820.57   \n",
       "4  civil_partnership                 1      F     retiree     0      25378.57   \n",
       "5  civil_partnership                 1      M    business     0      40922.17   \n",
       "6            married                 0      F    business     0      38484.16   \n",
       "7            married                 0      M    employee     0      21731.83   \n",
       "8  civil_partnership                 1      F    employee     0      15337.09   \n",
       "9            married                 0      M    employee     0      23108.15   \n",
       "\n",
       "                               purpose age_category  \n",
       "0                purchase of the house          40s  \n",
       "1                         car purchase          30s  \n",
       "2                purchase of the house          30s  \n",
       "3              supplementary education          30s  \n",
       "4                    to have a wedding          50s  \n",
       "5                purchase of the house          20s  \n",
       "6                 housing transactions          40s  \n",
       "7                            education          50s  \n",
       "8                     having a wedding          30s  \n",
       "9  purchase of the house for my family          40s  "
      ]
     },
     "execution_count": 51,
     "metadata": {},
     "output_type": "execute_result"
    }
   ],
   "source": [
    "# Checking if we got any errors\n",
    "data.head(10)"
   ]
  },
  {
   "cell_type": "code",
   "execution_count": 52,
   "metadata": {},
   "outputs": [
    {
     "name": "stdout",
     "output_type": "stream",
     "text": [
      "<class 'pandas.core.frame.DataFrame'>\n",
      "Int64Index: 21164 entries, 0 to 21524\n",
      "Data columns (total 13 columns):\n",
      " #   Column            Non-Null Count  Dtype  \n",
      "---  ------            --------------  -----  \n",
      " 0   children          21164 non-null  int64  \n",
      " 1   days_employed     19149 non-null  float64\n",
      " 2   dob_years         21164 non-null  int64  \n",
      " 3   education         21164 non-null  object \n",
      " 4   education_id      21164 non-null  int64  \n",
      " 5   family_status     21164 non-null  object \n",
      " 6   family_status_id  21164 non-null  int64  \n",
      " 7   gender            21164 non-null  object \n",
      " 8   income_type       21164 non-null  object \n",
      " 9   debt              21164 non-null  int64  \n",
      " 10  total_income      21164 non-null  float64\n",
      " 11  purpose           21164 non-null  object \n",
      " 12  age_category      21164 non-null  object \n",
      "dtypes: float64(2), int64(5), object(6)\n",
      "memory usage: 2.3+ MB\n"
     ]
    }
   ],
   "source": [
    "# Checking the number of entries in the columns\n",
    "\n",
    "data.info()"
   ]
  },
  {
   "cell_type": "markdown",
   "metadata": {},
   "source": [
    "###  Restoring values in `days_employed`"
   ]
  },
  {
   "cell_type": "markdown",
   "metadata": {},
   "source": [
    "The parameter used to to categorize the distribution of number of days employed was the income_type column. The values used to replace missing values were median values because the there were outliers in the distribution. "
   ]
  },
  {
   "cell_type": "code",
   "execution_count": 53,
   "metadata": {
    "pycharm": {
     "name": "#%%\n"
    }
   },
   "outputs": [
    {
     "data": {
      "text/html": [
       "<div>\n",
       "<style scoped>\n",
       "    .dataframe tbody tr th:only-of-type {\n",
       "        vertical-align: middle;\n",
       "    }\n",
       "\n",
       "    .dataframe tbody tr th {\n",
       "        vertical-align: top;\n",
       "    }\n",
       "\n",
       "    .dataframe thead th {\n",
       "        text-align: right;\n",
       "    }\n",
       "</style>\n",
       "<table border=\"1\" class=\"dataframe\">\n",
       "  <thead>\n",
       "    <tr style=\"text-align: right;\">\n",
       "      <th></th>\n",
       "      <th>min</th>\n",
       "      <th>median</th>\n",
       "      <th>mean</th>\n",
       "      <th>max</th>\n",
       "    </tr>\n",
       "    <tr>\n",
       "      <th>income_type</th>\n",
       "      <th></th>\n",
       "      <th></th>\n",
       "      <th></th>\n",
       "      <th></th>\n",
       "    </tr>\n",
       "  </thead>\n",
       "  <tbody>\n",
       "    <tr>\n",
       "      <th>business</th>\n",
       "      <td>30.195337</td>\n",
       "      <td>1555.993659</td>\n",
       "      <td>2119.512866</td>\n",
       "      <td>17615.563266</td>\n",
       "    </tr>\n",
       "    <tr>\n",
       "      <th>civil_servant</th>\n",
       "      <td>39.954170</td>\n",
       "      <td>2672.903939</td>\n",
       "      <td>3392.119263</td>\n",
       "      <td>15193.032201</td>\n",
       "    </tr>\n",
       "    <tr>\n",
       "      <th>employee</th>\n",
       "      <td>24.141633</td>\n",
       "      <td>1573.791064</td>\n",
       "      <td>2325.740892</td>\n",
       "      <td>18388.949901</td>\n",
       "    </tr>\n",
       "    <tr>\n",
       "      <th>entrepreneur</th>\n",
       "      <td>520.848083</td>\n",
       "      <td>520.848083</td>\n",
       "      <td>520.848083</td>\n",
       "      <td>520.848083</td>\n",
       "    </tr>\n",
       "    <tr>\n",
       "      <th>paternity_or_maternity_leave</th>\n",
       "      <td>3296.759962</td>\n",
       "      <td>3296.759962</td>\n",
       "      <td>3296.759962</td>\n",
       "      <td>3296.759962</td>\n",
       "    </tr>\n",
       "    <tr>\n",
       "      <th>retiree</th>\n",
       "      <td>328728.720605</td>\n",
       "      <td>365269.100414</td>\n",
       "      <td>365037.486121</td>\n",
       "      <td>401755.400475</td>\n",
       "    </tr>\n",
       "    <tr>\n",
       "      <th>student</th>\n",
       "      <td>578.751554</td>\n",
       "      <td>578.751554</td>\n",
       "      <td>578.751554</td>\n",
       "      <td>578.751554</td>\n",
       "    </tr>\n",
       "    <tr>\n",
       "      <th>unemployed</th>\n",
       "      <td>337524.466835</td>\n",
       "      <td>366413.652744</td>\n",
       "      <td>366413.652744</td>\n",
       "      <td>395302.838654</td>\n",
       "    </tr>\n",
       "  </tbody>\n",
       "</table>\n",
       "</div>"
      ],
      "text/plain": [
       "                                        min         median           mean  \\\n",
       "income_type                                                                 \n",
       "business                          30.195337    1555.993659    2119.512866   \n",
       "civil_servant                     39.954170    2672.903939    3392.119263   \n",
       "employee                          24.141633    1573.791064    2325.740892   \n",
       "entrepreneur                     520.848083     520.848083     520.848083   \n",
       "paternity_or_maternity_leave    3296.759962    3296.759962    3296.759962   \n",
       "retiree                       328728.720605  365269.100414  365037.486121   \n",
       "student                          578.751554     578.751554     578.751554   \n",
       "unemployed                    337524.466835  366413.652744  366413.652744   \n",
       "\n",
       "                                        max  \n",
       "income_type                                  \n",
       "business                       17615.563266  \n",
       "civil_servant                  15193.032201  \n",
       "employee                       18388.949901  \n",
       "entrepreneur                     520.848083  \n",
       "paternity_or_maternity_leave    3296.759962  \n",
       "retiree                       401755.400475  \n",
       "student                          578.751554  \n",
       "unemployed                    395302.838654  "
      ]
     },
     "execution_count": 53,
     "metadata": {},
     "output_type": "execute_result"
    }
   ],
   "source": [
    "# Distribution of `days_employed` medians based on income type\n",
    "days_employed_age_group=data.groupby('income_type')['days_employed'].agg(['min','median','mean','max'])\n",
    "days_employed_age_group"
   ]
  },
  {
   "cell_type": "code",
   "execution_count": 54,
   "metadata": {},
   "outputs": [],
   "source": [
    "# Let's write a function that calculates means or medians (depending on your decision) based on your identified parameter\n",
    "def age_employed_function(row):\n",
    "    income_type=row['income_type']\n",
    "    days_employed=row['days_employed']\n",
    "    \n",
    "    if days_employed =='missing':\n",
    "        return days_employed_age_group['median'][income_type]\n",
    "    return days_employed"
   ]
  },
  {
   "cell_type": "code",
   "execution_count": 55,
   "metadata": {},
   "outputs": [
    {
     "data": {
      "text/plain": [
       "1555.993659260394"
      ]
     },
     "execution_count": 55,
     "metadata": {},
     "output_type": "execute_result"
    }
   ],
   "source": [
    "# Checking that the function works\n",
    "row_values=['business','missing']\n",
    "row_columns=['income_type','days_employed']\n",
    "row=pd.Series(data=row_values,index=row_columns)\n",
    "age_employed_function(row)"
   ]
  },
  {
   "cell_type": "code",
   "execution_count": 56,
   "metadata": {},
   "outputs": [
    {
     "name": "stderr",
     "output_type": "stream",
     "text": [
      "/opt/conda/lib/python3.9/site-packages/pandas/core/series.py:4463: SettingWithCopyWarning: \n",
      "A value is trying to be set on a copy of a slice from a DataFrame\n",
      "\n",
      "See the caveats in the documentation: https://pandas.pydata.org/pandas-docs/stable/user_guide/indexing.html#returning-a-view-versus-a-copy\n",
      "  return super().fillna(\n",
      "/tmp/ipykernel_76/2630126215.py:4: SettingWithCopyWarning: \n",
      "A value is trying to be set on a copy of a slice from a DataFrame.\n",
      "Try using .loc[row_indexer,col_indexer] = value instead\n",
      "\n",
      "See the caveats in the documentation: https://pandas.pydata.org/pandas-docs/stable/user_guide/indexing.html#returning-a-view-versus-a-copy\n",
      "  data['days_employed']=data.apply(age_employed_function,axis=1)\n",
      "/tmp/ipykernel_76/2630126215.py:8: SettingWithCopyWarning: \n",
      "A value is trying to be set on a copy of a slice from a DataFrame.\n",
      "Try using .loc[row_indexer,col_indexer] = value instead\n",
      "\n",
      "See the caveats in the documentation: https://pandas.pydata.org/pandas-docs/stable/user_guide/indexing.html#returning-a-view-versus-a-copy\n",
      "  data['days_employed']=data['days_employed'].astype('int')\n"
     ]
    }
   ],
   "source": [
    "# Applying function to the income_type\n",
    "\n",
    "data.days_employed.fillna('missing',inplace=True)\n",
    "data['days_employed']=data.apply(age_employed_function,axis=1)\n",
    "\n",
    "data.loc[data['days_employed']=='missing']\n",
    "\n",
    "data['days_employed']=data['days_employed'].astype('int')\n"
   ]
  },
  {
   "cell_type": "code",
   "execution_count": 57,
   "metadata": {},
   "outputs": [
    {
     "data": {
      "text/html": [
       "<div>\n",
       "<style scoped>\n",
       "    .dataframe tbody tr th:only-of-type {\n",
       "        vertical-align: middle;\n",
       "    }\n",
       "\n",
       "    .dataframe tbody tr th {\n",
       "        vertical-align: top;\n",
       "    }\n",
       "\n",
       "    .dataframe thead th {\n",
       "        text-align: right;\n",
       "    }\n",
       "</style>\n",
       "<table border=\"1\" class=\"dataframe\">\n",
       "  <thead>\n",
       "    <tr style=\"text-align: right;\">\n",
       "      <th></th>\n",
       "      <th>children</th>\n",
       "      <th>days_employed</th>\n",
       "      <th>dob_years</th>\n",
       "      <th>education</th>\n",
       "      <th>education_id</th>\n",
       "      <th>family_status</th>\n",
       "      <th>family_status_id</th>\n",
       "      <th>gender</th>\n",
       "      <th>income_type</th>\n",
       "      <th>debt</th>\n",
       "      <th>total_income</th>\n",
       "      <th>purpose</th>\n",
       "      <th>age_category</th>\n",
       "    </tr>\n",
       "  </thead>\n",
       "  <tbody>\n",
       "    <tr>\n",
       "      <th>0</th>\n",
       "      <td>1</td>\n",
       "      <td>8437</td>\n",
       "      <td>42</td>\n",
       "      <td>bachelor's degree</td>\n",
       "      <td>0</td>\n",
       "      <td>married</td>\n",
       "      <td>0</td>\n",
       "      <td>F</td>\n",
       "      <td>employee</td>\n",
       "      <td>0</td>\n",
       "      <td>40620.10</td>\n",
       "      <td>purchase of the house</td>\n",
       "      <td>40s</td>\n",
       "    </tr>\n",
       "    <tr>\n",
       "      <th>1</th>\n",
       "      <td>1</td>\n",
       "      <td>4024</td>\n",
       "      <td>36</td>\n",
       "      <td>secondary education</td>\n",
       "      <td>1</td>\n",
       "      <td>married</td>\n",
       "      <td>0</td>\n",
       "      <td>F</td>\n",
       "      <td>employee</td>\n",
       "      <td>0</td>\n",
       "      <td>17932.80</td>\n",
       "      <td>car purchase</td>\n",
       "      <td>30s</td>\n",
       "    </tr>\n",
       "    <tr>\n",
       "      <th>2</th>\n",
       "      <td>0</td>\n",
       "      <td>5623</td>\n",
       "      <td>33</td>\n",
       "      <td>secondary education</td>\n",
       "      <td>1</td>\n",
       "      <td>married</td>\n",
       "      <td>0</td>\n",
       "      <td>M</td>\n",
       "      <td>employee</td>\n",
       "      <td>0</td>\n",
       "      <td>23341.75</td>\n",
       "      <td>purchase of the house</td>\n",
       "      <td>30s</td>\n",
       "    </tr>\n",
       "    <tr>\n",
       "      <th>3</th>\n",
       "      <td>3</td>\n",
       "      <td>4124</td>\n",
       "      <td>32</td>\n",
       "      <td>secondary education</td>\n",
       "      <td>1</td>\n",
       "      <td>married</td>\n",
       "      <td>0</td>\n",
       "      <td>M</td>\n",
       "      <td>employee</td>\n",
       "      <td>0</td>\n",
       "      <td>42820.57</td>\n",
       "      <td>supplementary education</td>\n",
       "      <td>30s</td>\n",
       "    </tr>\n",
       "    <tr>\n",
       "      <th>4</th>\n",
       "      <td>0</td>\n",
       "      <td>340266</td>\n",
       "      <td>53</td>\n",
       "      <td>secondary education</td>\n",
       "      <td>1</td>\n",
       "      <td>civil_partnership</td>\n",
       "      <td>1</td>\n",
       "      <td>F</td>\n",
       "      <td>retiree</td>\n",
       "      <td>0</td>\n",
       "      <td>25378.57</td>\n",
       "      <td>to have a wedding</td>\n",
       "      <td>50s</td>\n",
       "    </tr>\n",
       "  </tbody>\n",
       "</table>\n",
       "</div>"
      ],
      "text/plain": [
       "   children  days_employed  dob_years            education  education_id  \\\n",
       "0         1           8437         42    bachelor's degree             0   \n",
       "1         1           4024         36  secondary education             1   \n",
       "2         0           5623         33  secondary education             1   \n",
       "3         3           4124         32  secondary education             1   \n",
       "4         0         340266         53  secondary education             1   \n",
       "\n",
       "       family_status  family_status_id gender income_type  debt  total_income  \\\n",
       "0            married                 0      F    employee     0      40620.10   \n",
       "1            married                 0      F    employee     0      17932.80   \n",
       "2            married                 0      M    employee     0      23341.75   \n",
       "3            married                 0      M    employee     0      42820.57   \n",
       "4  civil_partnership                 1      F     retiree     0      25378.57   \n",
       "\n",
       "                   purpose age_category  \n",
       "0    purchase of the house          40s  \n",
       "1             car purchase          30s  \n",
       "2    purchase of the house          30s  \n",
       "3  supplementary education          30s  \n",
       "4        to have a wedding          50s  "
      ]
     },
     "execution_count": 57,
     "metadata": {},
     "output_type": "execute_result"
    }
   ],
   "source": [
    "# Check if function worked\n",
    "data.head()\n"
   ]
  },
  {
   "cell_type": "code",
   "execution_count": 58,
   "metadata": {},
   "outputs": [
    {
     "name": "stdout",
     "output_type": "stream",
     "text": [
      "<class 'pandas.core.frame.DataFrame'>\n",
      "Int64Index: 21164 entries, 0 to 21524\n",
      "Data columns (total 13 columns):\n",
      " #   Column            Non-Null Count  Dtype  \n",
      "---  ------            --------------  -----  \n",
      " 0   children          21164 non-null  int64  \n",
      " 1   days_employed     21164 non-null  int64  \n",
      " 2   dob_years         21164 non-null  int64  \n",
      " 3   education         21164 non-null  object \n",
      " 4   education_id      21164 non-null  int64  \n",
      " 5   family_status     21164 non-null  object \n",
      " 6   family_status_id  21164 non-null  int64  \n",
      " 7   gender            21164 non-null  object \n",
      " 8   income_type       21164 non-null  object \n",
      " 9   debt              21164 non-null  int64  \n",
      " 10  total_income      21164 non-null  float64\n",
      " 11  purpose           21164 non-null  object \n",
      " 12  age_category      21164 non-null  object \n",
      "dtypes: float64(1), int64(6), object(6)\n",
      "memory usage: 2.8+ MB\n"
     ]
    }
   ],
   "source": [
    "# Checking  the entries in all columns to make sure we fixed all missing values\n",
    "\n",
    "data.info()"
   ]
  },
  {
   "cell_type": "markdown",
   "metadata": {},
   "source": [
    "## Categorization of data\n",
    "\n",
    "To test the hypothesis, the values in the 'purpose' column were categorized in the following categories: 'housing', 'vehicle', 'education', 'event_or_ceremony', or 'business'. The categories were assigned based on the description in the 'pupose' column. "
   ]
  },
  {
   "cell_type": "code",
   "execution_count": 59,
   "metadata": {
    "scrolled": false
   },
   "outputs": [
    {
     "data": {
      "text/plain": [
       "['purchase of the house',\n",
       " 'car purchase',\n",
       " 'supplementary education',\n",
       " 'to have a wedding',\n",
       " 'housing transactions',\n",
       " 'education',\n",
       " 'having a wedding',\n",
       " 'purchase of the house for my family',\n",
       " 'buy real estate',\n",
       " 'buy commercial real estate',\n",
       " 'buy residential real estate',\n",
       " 'construction of own property',\n",
       " 'property',\n",
       " 'building a property',\n",
       " 'buying a second-hand car',\n",
       " 'buying my own car',\n",
       " 'transactions with commercial real estate',\n",
       " 'building a real estate',\n",
       " 'housing',\n",
       " 'transactions with my real estate',\n",
       " 'cars',\n",
       " 'to become educated',\n",
       " 'second-hand car purchase',\n",
       " 'getting an education',\n",
       " 'car',\n",
       " 'wedding ceremony',\n",
       " 'to get a supplementary education',\n",
       " 'purchase of my own house',\n",
       " 'real estate transactions',\n",
       " 'getting higher education',\n",
       " 'to own a car',\n",
       " 'purchase of a car',\n",
       " 'profile education',\n",
       " 'university education',\n",
       " 'buying property for renting out',\n",
       " 'to buy a car',\n",
       " 'housing renovation',\n",
       " 'going to university']"
      ]
     },
     "execution_count": 59,
     "metadata": {},
     "output_type": "execute_result"
    }
   ],
   "source": [
    "# Printing the values for your selected data for categorization\n",
    "data['purpose'].unique().tolist()"
   ]
  },
  {
   "cell_type": "markdown",
   "metadata": {},
   "source": [
    "The 'purpose_categ' function was used to insert a purpose category value in the 'pupose_category' column. The function was created based on unique values in the 'purpose' column. "
   ]
  },
  {
   "cell_type": "code",
   "execution_count": 60,
   "metadata": {},
   "outputs": [],
   "source": [
    "def purpose_categ(purpose):\n",
    "    \n",
    "    if 'car' in purpose:\n",
    "        return 'car'\n",
    "    if 'wedding' in purpose:\n",
    "        return 'event_or_ceremony'\n",
    "    if 'educat' in purpose or 'university' in purpose:\n",
    "        return 'education'\n",
    "    return 'housing_or_property'"
   ]
  },
  {
   "cell_type": "code",
   "execution_count": 61,
   "metadata": {
    "scrolled": true
   },
   "outputs": [
    {
     "name": "stderr",
     "output_type": "stream",
     "text": [
      "/tmp/ipykernel_76/1045536722.py:3: SettingWithCopyWarning: \n",
      "A value is trying to be set on a copy of a slice from a DataFrame.\n",
      "Try using .loc[row_indexer,col_indexer] = value instead\n",
      "\n",
      "See the caveats in the documentation: https://pandas.pydata.org/pandas-docs/stable/user_guide/indexing.html#returning-a-view-versus-a-copy\n",
      "  data['purpose_category'] = data['purpose'].apply(purpose_categ)\n"
     ]
    },
    {
     "data": {
      "text/plain": [
       "array(['housing_or_property', 'car', 'education', 'event_or_ceremony'],\n",
       "      dtype=object)"
      ]
     },
     "execution_count": 61,
     "metadata": {},
     "output_type": "execute_result"
    }
   ],
   "source": [
    "# unique values in 'purpose_category' column\n",
    "\n",
    "data['purpose_category'] = data['purpose'].apply(purpose_categ)\n",
    "data.purpose_category.unique()"
   ]
  },
  {
   "cell_type": "code",
   "execution_count": 62,
   "metadata": {},
   "outputs": [
    {
     "data": {
      "text/html": [
       "<div>\n",
       "<style scoped>\n",
       "    .dataframe tbody tr th:only-of-type {\n",
       "        vertical-align: middle;\n",
       "    }\n",
       "\n",
       "    .dataframe tbody tr th {\n",
       "        vertical-align: top;\n",
       "    }\n",
       "\n",
       "    .dataframe thead th {\n",
       "        text-align: right;\n",
       "    }\n",
       "</style>\n",
       "<table border=\"1\" class=\"dataframe\">\n",
       "  <thead>\n",
       "    <tr style=\"text-align: right;\">\n",
       "      <th>purpose_category</th>\n",
       "      <th>car</th>\n",
       "      <th>education</th>\n",
       "      <th>event_or_ceremony</th>\n",
       "      <th>housing_or_property</th>\n",
       "    </tr>\n",
       "    <tr>\n",
       "      <th>income_type</th>\n",
       "      <th></th>\n",
       "      <th></th>\n",
       "      <th></th>\n",
       "      <th></th>\n",
       "    </tr>\n",
       "  </thead>\n",
       "  <tbody>\n",
       "    <tr>\n",
       "      <th>business</th>\n",
       "      <td>32271.168636</td>\n",
       "      <td>30363.907722</td>\n",
       "      <td>32253.594427</td>\n",
       "      <td>32503.224033</td>\n",
       "    </tr>\n",
       "    <tr>\n",
       "      <th>civil_servant</th>\n",
       "      <td>26714.221802</td>\n",
       "      <td>27241.318775</td>\n",
       "      <td>27636.418333</td>\n",
       "      <td>26979.051119</td>\n",
       "    </tr>\n",
       "    <tr>\n",
       "      <th>employee</th>\n",
       "      <td>25460.926038</td>\n",
       "      <td>25387.885897</td>\n",
       "      <td>24957.380527</td>\n",
       "      <td>25763.479377</td>\n",
       "    </tr>\n",
       "    <tr>\n",
       "      <th>entrepreneur</th>\n",
       "      <td>NaN</td>\n",
       "      <td>NaN</td>\n",
       "      <td>79866.100000</td>\n",
       "      <td>79866.100000</td>\n",
       "    </tr>\n",
       "    <tr>\n",
       "      <th>paternity_or_maternity_leave</th>\n",
       "      <td>8612.660000</td>\n",
       "      <td>NaN</td>\n",
       "      <td>NaN</td>\n",
       "      <td>NaN</td>\n",
       "    </tr>\n",
       "    <tr>\n",
       "      <th>retiree</th>\n",
       "      <td>21457.933804</td>\n",
       "      <td>21851.113225</td>\n",
       "      <td>22277.578978</td>\n",
       "      <td>21606.522082</td>\n",
       "    </tr>\n",
       "    <tr>\n",
       "      <th>student</th>\n",
       "      <td>NaN</td>\n",
       "      <td>NaN</td>\n",
       "      <td>NaN</td>\n",
       "      <td>15712.260000</td>\n",
       "    </tr>\n",
       "    <tr>\n",
       "      <th>unemployed</th>\n",
       "      <td>NaN</td>\n",
       "      <td>NaN</td>\n",
       "      <td>NaN</td>\n",
       "      <td>21014.360000</td>\n",
       "    </tr>\n",
       "  </tbody>\n",
       "</table>\n",
       "</div>"
      ],
      "text/plain": [
       "purpose_category                       car     education  event_or_ceremony  \\\n",
       "income_type                                                                   \n",
       "business                      32271.168636  30363.907722       32253.594427   \n",
       "civil_servant                 26714.221802  27241.318775       27636.418333   \n",
       "employee                      25460.926038  25387.885897       24957.380527   \n",
       "entrepreneur                           NaN           NaN       79866.100000   \n",
       "paternity_or_maternity_leave   8612.660000           NaN                NaN   \n",
       "retiree                       21457.933804  21851.113225       22277.578978   \n",
       "student                                NaN           NaN                NaN   \n",
       "unemployed                             NaN           NaN                NaN   \n",
       "\n",
       "purpose_category              housing_or_property  \n",
       "income_type                                        \n",
       "business                             32503.224033  \n",
       "civil_servant                        26979.051119  \n",
       "employee                             25763.479377  \n",
       "entrepreneur                         79866.100000  \n",
       "paternity_or_maternity_leave                  NaN  \n",
       "retiree                              21606.522082  \n",
       "student                              15712.260000  \n",
       "unemployed                           21014.360000  "
      ]
     },
     "execution_count": 62,
     "metadata": {},
     "output_type": "execute_result"
    }
   ],
   "source": [
    "# Looking through all the numerical data in your selected column for categorization\n",
    "income_purpose_pivot= data.pivot_table(index='income_type',columns='purpose_category',values='total_income',aggfunc='mean')\n",
    "income_purpose_pivot"
   ]
  },
  {
   "cell_type": "code",
   "execution_count": 63,
   "metadata": {},
   "outputs": [
    {
     "data": {
      "text/html": [
       "<div>\n",
       "<style scoped>\n",
       "    .dataframe tbody tr th:only-of-type {\n",
       "        vertical-align: middle;\n",
       "    }\n",
       "\n",
       "    .dataframe tbody tr th {\n",
       "        vertical-align: top;\n",
       "    }\n",
       "\n",
       "    .dataframe thead th {\n",
       "        text-align: right;\n",
       "    }\n",
       "</style>\n",
       "<table border=\"1\" class=\"dataframe\">\n",
       "  <thead>\n",
       "    <tr style=\"text-align: right;\">\n",
       "      <th></th>\n",
       "      <th>mean</th>\n",
       "      <th>median</th>\n",
       "      <th>max</th>\n",
       "    </tr>\n",
       "    <tr>\n",
       "      <th>purpose_category</th>\n",
       "      <th></th>\n",
       "      <th></th>\n",
       "      <th></th>\n",
       "    </tr>\n",
       "  </thead>\n",
       "  <tbody>\n",
       "    <tr>\n",
       "      <th>car</th>\n",
       "      <td>26468.444297</td>\n",
       "      <td>22781.770</td>\n",
       "      <td>228469.51</td>\n",
       "    </tr>\n",
       "    <tr>\n",
       "      <th>education</th>\n",
       "      <td>26060.893936</td>\n",
       "      <td>22705.800</td>\n",
       "      <td>276204.16</td>\n",
       "    </tr>\n",
       "    <tr>\n",
       "      <th>event_or_ceremony</th>\n",
       "      <td>26330.949596</td>\n",
       "      <td>22881.195</td>\n",
       "      <td>273809.48</td>\n",
       "    </tr>\n",
       "    <tr>\n",
       "      <th>housing_or_property</th>\n",
       "      <td>26716.673076</td>\n",
       "      <td>23195.505</td>\n",
       "      <td>362496.64</td>\n",
       "    </tr>\n",
       "  </tbody>\n",
       "</table>\n",
       "</div>"
      ],
      "text/plain": [
       "                             mean     median        max\n",
       "purpose_category                                       \n",
       "car                  26468.444297  22781.770  228469.51\n",
       "education            26060.893936  22705.800  276204.16\n",
       "event_or_ceremony    26330.949596  22881.195  273809.48\n",
       "housing_or_property  26716.673076  23195.505  362496.64"
      ]
     },
     "execution_count": 63,
     "metadata": {},
     "output_type": "execute_result"
    }
   ],
   "source": [
    "# Getting summary statistics for the column\n",
    "\n",
    "purpose_pivot= data.pivot_table(index='age_category',columns='purpose_category',values='total_income',aggfunc='mean')\n",
    "\n",
    "data.groupby('purpose_category')['total_income'].agg(['mean','median', 'max'])\n"
   ]
  },
  {
   "cell_type": "markdown",
   "metadata": {},
   "source": [
    "## Checking the Hypotheses\n"
   ]
  },
  {
   "cell_type": "markdown",
   "metadata": {},
   "source": [
    "**Question: Is there a correlation between having children and paying back on time?**"
   ]
  },
  {
   "cell_type": "code",
   "execution_count": 64,
   "metadata": {},
   "outputs": [
    {
     "data": {
      "text/html": [
       "<div>\n",
       "<style scoped>\n",
       "    .dataframe tbody tr th:only-of-type {\n",
       "        vertical-align: middle;\n",
       "    }\n",
       "\n",
       "    .dataframe tbody tr th {\n",
       "        vertical-align: top;\n",
       "    }\n",
       "\n",
       "    .dataframe thead th {\n",
       "        text-align: right;\n",
       "    }\n",
       "</style>\n",
       "<table border=\"1\" class=\"dataframe\">\n",
       "  <thead>\n",
       "    <tr style=\"text-align: right;\">\n",
       "      <th></th>\n",
       "      <th>children</th>\n",
       "      <th>default_rate_%</th>\n",
       "    </tr>\n",
       "  </thead>\n",
       "  <tbody>\n",
       "    <tr>\n",
       "      <th>0</th>\n",
       "      <td>0</td>\n",
       "      <td>7.57</td>\n",
       "    </tr>\n",
       "    <tr>\n",
       "      <th>1</th>\n",
       "      <td>1</td>\n",
       "      <td>9.22</td>\n",
       "    </tr>\n",
       "    <tr>\n",
       "      <th>2</th>\n",
       "      <td>2</td>\n",
       "      <td>9.53</td>\n",
       "    </tr>\n",
       "    <tr>\n",
       "      <th>3</th>\n",
       "      <td>3</td>\n",
       "      <td>8.23</td>\n",
       "    </tr>\n",
       "    <tr>\n",
       "      <th>4</th>\n",
       "      <td>4</td>\n",
       "      <td>9.76</td>\n",
       "    </tr>\n",
       "    <tr>\n",
       "      <th>5</th>\n",
       "      <td>5</td>\n",
       "      <td>0.00</td>\n",
       "    </tr>\n",
       "  </tbody>\n",
       "</table>\n",
       "</div>"
      ],
      "text/plain": [
       "   children  default_rate_%\n",
       "0         0            7.57\n",
       "1         1            9.22\n",
       "2         2            9.53\n",
       "3         3            8.23\n",
       "4         4            9.76\n",
       "5         5            0.00"
      ]
     },
     "execution_count": 64,
     "metadata": {},
     "output_type": "execute_result"
    }
   ],
   "source": [
    "# Check the children data and paying back on time\n",
    "\n",
    "children=[0,1,2,3,4,5]\n",
    "default_children_rate=[]\n",
    "\n",
    "for x in children:\n",
    "    default_total=data.loc[(data['debt']==1) & (data['children']==x)]\n",
    "    default_length_total=len(default_total)\n",
    "    \n",
    "    all_total=data.loc[data['children']==x]\n",
    "    length_all_total=len(all_total)\n",
    "    \n",
    "    default_r=round((default_length_total/length_all_total)*100,2)\n",
    "    default_children_rate.append(default_r)\n",
    "\n",
    "\n",
    "\n",
    "default_rate_children={'children':children,\n",
    "                 'default_rate_%': default_children_rate\n",
    "}\n",
    "\n",
    "default_rate_children_table=pd.DataFrame(default_rate_children)\n",
    "default_rate_children_table"
   ]
  },
  {
   "cell_type": "markdown",
   "metadata": {},
   "source": [
    "**Conclusion**\n",
    "\n",
    "Based on the default_rate_children_table table, the default rate is higher for people who have four children, followed by people who have two and one children, with a default rate of 9.8%, 9.5%, and 9.2%, repectively. On the other hand, people who had five children presented the lowest default rate with a 0% value. People who had no children or three presented a 7.6% and 8.2% default rate, respectively. Overall, there was not a signinficant difference, on average, greater than 9.8% default rate among the number of children. \n"
   ]
  },
  {
   "cell_type": "markdown",
   "metadata": {},
   "source": [
    "**Question: Is there a correlation between family status and paying back on time?**"
   ]
  },
  {
   "cell_type": "code",
   "execution_count": 65,
   "metadata": {},
   "outputs": [
    {
     "name": "stdout",
     "output_type": "stream",
     "text": [
      "[7.58, 9.37, 6.56, 7.12, 9.79]\n"
     ]
    },
    {
     "data": {
      "text/html": [
       "<div>\n",
       "<style scoped>\n",
       "    .dataframe tbody tr th:only-of-type {\n",
       "        vertical-align: middle;\n",
       "    }\n",
       "\n",
       "    .dataframe tbody tr th {\n",
       "        vertical-align: top;\n",
       "    }\n",
       "\n",
       "    .dataframe thead th {\n",
       "        text-align: right;\n",
       "    }\n",
       "</style>\n",
       "<table border=\"1\" class=\"dataframe\">\n",
       "  <thead>\n",
       "    <tr style=\"text-align: right;\">\n",
       "      <th></th>\n",
       "      <th>family_status</th>\n",
       "      <th>default_rate_%</th>\n",
       "    </tr>\n",
       "  </thead>\n",
       "  <tbody>\n",
       "    <tr>\n",
       "      <th>4</th>\n",
       "      <td>unmarried</td>\n",
       "      <td>9.79</td>\n",
       "    </tr>\n",
       "    <tr>\n",
       "      <th>1</th>\n",
       "      <td>civil_partnership</td>\n",
       "      <td>9.37</td>\n",
       "    </tr>\n",
       "    <tr>\n",
       "      <th>0</th>\n",
       "      <td>married</td>\n",
       "      <td>7.58</td>\n",
       "    </tr>\n",
       "    <tr>\n",
       "      <th>3</th>\n",
       "      <td>divorced</td>\n",
       "      <td>7.12</td>\n",
       "    </tr>\n",
       "    <tr>\n",
       "      <th>2</th>\n",
       "      <td>widow_or_widower</td>\n",
       "      <td>6.56</td>\n",
       "    </tr>\n",
       "  </tbody>\n",
       "</table>\n",
       "</div>"
      ],
      "text/plain": [
       "       family_status  default_rate_%\n",
       "4          unmarried            9.79\n",
       "1  civil_partnership            9.37\n",
       "0            married            7.58\n",
       "3           divorced            7.12\n",
       "2   widow_or_widower            6.56"
      ]
     },
     "execution_count": 65,
     "metadata": {},
     "output_type": "execute_result"
    }
   ],
   "source": [
    "# Check the family status data and paying back on time\n",
    "\n",
    "\n",
    "family_status= ['married', 'civil_partnership', 'widow_or_widower', 'divorced', 'unmarried']\n",
    "\n",
    "family_status_default_count=[]\n",
    "for x in family_status:\n",
    "    default_total=data.loc[(data['debt']==1) & (data['family_status']==x)]\n",
    "    default_length_total=len(default_total)\n",
    "    \n",
    "    all_total=data.loc[data['family_status']==x]\n",
    "    length_all_total=len(all_total)\n",
    "    \n",
    "    default_r=round((default_length_total/length_all_total)*100,2)\n",
    "    family_status_default_count.append(default_r)\n",
    "\n",
    "print(family_status_default_count)\n",
    "# Calculating default-rate based on family status\n",
    "\n",
    "default_rate_family_dictionary={'family_status':family_status,\n",
    "                 'default_rate_%': family_status_default_count\n",
    "}\n",
    "\n",
    "default_rate_family=pd.DataFrame(default_rate_family_dictionary)\n",
    "default_rate_family.sort_values('default_rate_%',ascending=False)"
   ]
  },
  {
   "cell_type": "markdown",
   "metadata": {},
   "source": [
    "**Conclusion**\n",
    "\n",
    "Based on the default_rate_family table, people who were unmarried or involved in a civil partnership presented the highest default rates, with default rate values of 9.8% and 9.4% respectively. With that said, the people who were widowers/widows,  divorced, or married had the lowest three ranks in default rate, with values of 6.6%, 7.1%, and 7.6% respectively. "
   ]
  },
  {
   "cell_type": "markdown",
   "metadata": {},
   "source": [
    "**Is there a correlation between income level and paying back on time?**"
   ]
  },
  {
   "cell_type": "code",
   "execution_count": 66,
   "metadata": {},
   "outputs": [
    {
     "name": "stderr",
     "output_type": "stream",
     "text": [
      "/tmp/ipykernel_76/623441471.py:24: SettingWithCopyWarning: \n",
      "A value is trying to be set on a copy of a slice from a DataFrame.\n",
      "Try using .loc[row_indexer,col_indexer] = value instead\n",
      "\n",
      "See the caveats in the documentation: https://pandas.pydata.org/pandas-docs/stable/user_guide/indexing.html#returning-a-view-versus-a-copy\n",
      "  total_income['income_level_category']=total_income.apply(income_level,axis=1)\n"
     ]
    },
    {
     "data": {
      "text/html": [
       "<div>\n",
       "<style scoped>\n",
       "    .dataframe tbody tr th:only-of-type {\n",
       "        vertical-align: middle;\n",
       "    }\n",
       "\n",
       "    .dataframe tbody tr th {\n",
       "        vertical-align: top;\n",
       "    }\n",
       "\n",
       "    .dataframe thead th {\n",
       "        text-align: right;\n",
       "    }\n",
       "</style>\n",
       "<table border=\"1\" class=\"dataframe\">\n",
       "  <thead>\n",
       "    <tr style=\"text-align: right;\">\n",
       "      <th></th>\n",
       "      <th>income_level</th>\n",
       "      <th>default_rate_%</th>\n",
       "    </tr>\n",
       "  </thead>\n",
       "  <tbody>\n",
       "    <tr>\n",
       "      <th>6</th>\n",
       "      <td>301K_and_up</td>\n",
       "      <td>50.00</td>\n",
       "    </tr>\n",
       "    <tr>\n",
       "      <th>0</th>\n",
       "      <td>0K-50K</td>\n",
       "      <td>8.23</td>\n",
       "    </tr>\n",
       "    <tr>\n",
       "      <th>1</th>\n",
       "      <td>51K-100K</td>\n",
       "      <td>6.93</td>\n",
       "    </tr>\n",
       "    <tr>\n",
       "      <th>3</th>\n",
       "      <td>151K-200K</td>\n",
       "      <td>5.88</td>\n",
       "    </tr>\n",
       "    <tr>\n",
       "      <th>2</th>\n",
       "      <td>101K-150K</td>\n",
       "      <td>5.71</td>\n",
       "    </tr>\n",
       "    <tr>\n",
       "      <th>4</th>\n",
       "      <td>201K-250K</td>\n",
       "      <td>0.00</td>\n",
       "    </tr>\n",
       "    <tr>\n",
       "      <th>5</th>\n",
       "      <td>251K-300K</td>\n",
       "      <td>0.00</td>\n",
       "    </tr>\n",
       "  </tbody>\n",
       "</table>\n",
       "</div>"
      ],
      "text/plain": [
       "  income_level  default_rate_%\n",
       "6  301K_and_up           50.00\n",
       "0       0K-50K            8.23\n",
       "1     51K-100K            6.93\n",
       "3    151K-200K            5.88\n",
       "2    101K-150K            5.71\n",
       "4    201K-250K            0.00\n",
       "5    251K-300K            0.00"
      ]
     },
     "execution_count": 66,
     "metadata": {},
     "output_type": "execute_result"
    }
   ],
   "source": [
    "### Check the income level data and paying back on time\n",
    "\n",
    "total_income=data[['total_income','debt']]\n",
    "\n",
    "def income_level(row):\n",
    "    total_income=row['total_income']\n",
    "    \n",
    "    if total_income >0 and total_income<51000:\n",
    "        return '0K-50K'\n",
    "    if total_income >=51000 and total_income<101000:\n",
    "        return '51K-100K'\n",
    "    if total_income >=101000 and total_income<151000:\n",
    "        return '101K-150K'\n",
    "    if total_income >=151000 and total_income<201000:\n",
    "        return '151K-200K'\n",
    "    if total_income >=201000 and total_income<251000:\n",
    "        return '201K-250K'\n",
    "    if total_income >=251000 and total_income<301000:\n",
    "        return '251K-300K'\n",
    "    if total_income >=301000: \n",
    "        return '301K_and_up'\n",
    "    \n",
    "    \n",
    "total_income['income_level_category']=total_income.apply(income_level,axis=1)\n",
    "\n",
    "\n",
    "total_income_category=['0K-50K','51K-100K','101K-150K','151K-200K','201K-250K', '251K-300K','301K_and_up']\n",
    "\n",
    "total_income_default_rate=[]\n",
    "for x in total_income_category:\n",
    "    default_total=data.loc[(total_income['debt']==1) & (total_income['income_level_category']==x)]\n",
    "    default_length_total=len(default_total)\n",
    "    \n",
    "    all_total=data.loc[total_income['income_level_category']==x]\n",
    "    length_all_total=len(all_total)\n",
    "    \n",
    "    default_r=round((default_length_total/length_all_total)*100,2)\n",
    "    total_income_default_rate.append(default_r)\n",
    "\n",
    "loan_default_income_dictionary={'income_level':total_income_category,'default_rate_%':total_income_default_rate\n",
    "    \n",
    "}\n",
    "\n",
    "loan_default_income_level_df=pd.DataFrame(loan_default_income_dictionary)\n",
    "loan_default_income_level_df.sort_values('default_rate_%',ascending=False)"
   ]
  },
  {
   "cell_type": "markdown",
   "metadata": {},
   "source": [
    "**Conclusion**\n",
    "\n",
    "Based on the loan_default_income_level_df table, the income levels between 301,000 and above presented the highest default rate with a 50% value. On the other hand, the income levels that presented te lowest default rate were people who earned between 201,000 and 300,000 monthly. With that said, the rest of the income levels, with exception of 201,000 and above, presented range of default rate between 5.7% and 8.2%. "
   ]
  },
  {
   "cell_type": "markdown",
   "metadata": {},
   "source": [
    "**How does credit purpose affect the default rate?**"
   ]
  },
  {
   "cell_type": "code",
   "execution_count": 67,
   "metadata": {},
   "outputs": [
    {
     "data": {
      "text/html": [
       "<div>\n",
       "<style scoped>\n",
       "    .dataframe tbody tr th:only-of-type {\n",
       "        vertical-align: middle;\n",
       "    }\n",
       "\n",
       "    .dataframe tbody tr th {\n",
       "        vertical-align: top;\n",
       "    }\n",
       "\n",
       "    .dataframe thead th {\n",
       "        text-align: right;\n",
       "    }\n",
       "</style>\n",
       "<table border=\"1\" class=\"dataframe\">\n",
       "  <thead>\n",
       "    <tr style=\"text-align: right;\">\n",
       "      <th></th>\n",
       "      <th>purpose_category</th>\n",
       "      <th>default_rate_%</th>\n",
       "    </tr>\n",
       "  </thead>\n",
       "  <tbody>\n",
       "    <tr>\n",
       "      <th>0</th>\n",
       "      <td>housing_or_property</td>\n",
       "      <td>7.28</td>\n",
       "    </tr>\n",
       "    <tr>\n",
       "      <th>1</th>\n",
       "      <td>car</td>\n",
       "      <td>9.34</td>\n",
       "    </tr>\n",
       "    <tr>\n",
       "      <th>2</th>\n",
       "      <td>education</td>\n",
       "      <td>9.32</td>\n",
       "    </tr>\n",
       "    <tr>\n",
       "      <th>3</th>\n",
       "      <td>event_or_ceremony</td>\n",
       "      <td>7.95</td>\n",
       "    </tr>\n",
       "  </tbody>\n",
       "</table>\n",
       "</div>"
      ],
      "text/plain": [
       "      purpose_category  default_rate_%\n",
       "0  housing_or_property            7.28\n",
       "1                  car            9.34\n",
       "2            education            9.32\n",
       "3    event_or_ceremony            7.95"
      ]
     },
     "execution_count": 67,
     "metadata": {},
     "output_type": "execute_result"
    }
   ],
   "source": [
    "# Check the percentages for default rate for each credit purpose and analyze them\n",
    "\n",
    "purpose_category=['housing_or_property', 'car', 'education', 'event_or_ceremony']\n",
    "\n",
    "default_rate=[]\n",
    "for x in purpose_category:\n",
    "    default_total=data.loc[(data['debt']==1) & (data['purpose_category']==x)]\n",
    "    default_length_total=len(default_total)\n",
    "    \n",
    "    all_total=data.loc[data['purpose_category']==x]\n",
    "    length_all_total=len(all_total)\n",
    "    \n",
    "    default_r=round((default_length_total/length_all_total)*100,2)\n",
    "    default_rate.append(default_r)\n",
    "\n",
    "purpose_default_rate_dictionary={'purpose_category':purpose_category,'default_rate_%':default_rate}\n",
    "purpose_default_rate_df=pd.DataFrame(purpose_default_rate_dictionary)\n",
    "purpose_default_rate_df"
   ]
  },
  {
   "cell_type": "markdown",
   "metadata": {},
   "source": [
    "**Conclusion**\n",
    "\n",
    "Based on the `purpose_default_rate_df` table, the purpose category that presented the highest default rate was vehicles with a 9.34%, followed by education with a default rate of 9.32%. The rest of the categories: housing_or_property and event_or_ceremony, presented range in default rate between 7.28% and 7.95%, respectively. "
   ]
  },
  {
   "cell_type": "markdown",
   "metadata": {},
   "source": [
    "# General Conclusion \n",
    "\n",
    "\n",
    "As observed in the `Checking the hypothesis` section, the distribution of default rate per number of children did not show a general trend of default rate increase as number of children increases. This does not support the hypothesis we had at the beginning of the analysis. The distribution showed that people who have 1,2, or 4 children have the highest percentage probability to a loan with 9.2%, 9.5%, and 9.8% default rate, respectively. In contrast, people who have 5 children have the lowest default rate to pay loan. The default rate descreases gradually as the number of children increase, with the exception of people who have 3 children, as they have a 8.2% default rate, but the default rate decreases to 0% when we get to 5 children. Overall, the default rate per number of children did not vary significantly for people who have 0 to 4 children. \n",
    "\n",
    "In addition, the distribution of defaul rate per marital status does not support our initial hypothesis of the analysis. We did not see a higher default rate to a loan for widowers/widows, unmarried or divorced. In fact, people who were unmarried presented the highest default rate, above people who were married or in a civil partnership. One aspect we observed in this analysis is that divorced and widowers/widows have the lowest two rankings in defult rate, among the family status categories. However, there is not siginificant different, on average, greater than 3.3% default rate among the family status categories. "
   ]
  }
 ],
 "metadata": {
  "ExecuteTimeLog": [
   {
    "duration": 2741,
    "start_time": "2021-10-21T01:08:49.480Z"
   },
   {
    "duration": 52,
    "start_time": "2021-10-21T01:08:53.315Z"
   },
   {
    "duration": 49,
    "start_time": "2021-10-21T01:08:57.432Z"
   },
   {
    "duration": 70,
    "start_time": "2021-10-21T01:09:07.706Z"
   },
   {
    "duration": 2956,
    "start_time": "2022-02-22T02:29:05.260Z"
   },
   {
    "duration": 99,
    "start_time": "2022-02-22T02:29:27.791Z"
   },
   {
    "duration": 50,
    "start_time": "2022-02-22T02:31:11.542Z"
   },
   {
    "duration": 17,
    "start_time": "2022-02-22T02:31:17.825Z"
   },
   {
    "duration": 12,
    "start_time": "2022-02-22T02:31:48.389Z"
   },
   {
    "duration": 4,
    "start_time": "2022-02-22T02:34:01.248Z"
   },
   {
    "duration": 257,
    "start_time": "2022-02-22T02:34:29.924Z"
   },
   {
    "duration": 4,
    "start_time": "2022-02-22T02:34:34.477Z"
   },
   {
    "duration": 27,
    "start_time": "2022-02-22T02:34:46.793Z"
   },
   {
    "duration": 18,
    "start_time": "2022-02-22T02:35:02.410Z"
   },
   {
    "duration": 17,
    "start_time": "2022-02-22T02:35:07.532Z"
   },
   {
    "duration": 5,
    "start_time": "2022-02-22T02:35:42.288Z"
   },
   {
    "duration": 4,
    "start_time": "2022-02-22T04:44:42.371Z"
   },
   {
    "duration": 4,
    "start_time": "2022-02-22T04:59:03.797Z"
   },
   {
    "duration": 8,
    "start_time": "2022-02-22T04:59:48.143Z"
   },
   {
    "duration": 10,
    "start_time": "2022-02-22T05:06:27.136Z"
   },
   {
    "duration": 8,
    "start_time": "2022-02-22T05:08:30.184Z"
   },
   {
    "duration": 239,
    "start_time": "2022-02-22T05:08:40.589Z"
   },
   {
    "duration": 7,
    "start_time": "2022-02-22T05:09:11.854Z"
   },
   {
    "duration": 7,
    "start_time": "2022-02-22T05:09:49.407Z"
   },
   {
    "duration": 7,
    "start_time": "2022-02-22T05:09:55.258Z"
   },
   {
    "duration": 15,
    "start_time": "2022-02-22T05:12:57.377Z"
   },
   {
    "duration": 13,
    "start_time": "2022-02-22T05:13:05.882Z"
   },
   {
    "duration": 17,
    "start_time": "2022-02-22T05:13:28.628Z"
   },
   {
    "duration": 3,
    "start_time": "2022-02-22T05:14:09.134Z"
   },
   {
    "duration": 50,
    "start_time": "2022-02-22T05:15:36.889Z"
   },
   {
    "duration": 52,
    "start_time": "2022-02-22T05:24:10.159Z"
   },
   {
    "duration": 52,
    "start_time": "2022-02-22T05:24:18.989Z"
   },
   {
    "duration": 1938,
    "start_time": "2022-02-22T05:24:47.428Z"
   },
   {
    "duration": 57,
    "start_time": "2022-02-22T05:25:09.049Z"
   },
   {
    "duration": 21,
    "start_time": "2022-02-22T05:28:36.946Z"
   },
   {
    "duration": 82,
    "start_time": "2022-02-22T05:28:50.655Z"
   },
   {
    "duration": 68,
    "start_time": "2022-02-22T05:28:58.203Z"
   },
   {
    "duration": 91,
    "start_time": "2022-02-22T05:29:27.765Z"
   },
   {
    "duration": 63,
    "start_time": "2022-02-22T05:29:32.143Z"
   },
   {
    "duration": 20,
    "start_time": "2022-02-22T05:29:53.180Z"
   },
   {
    "duration": 53,
    "start_time": "2022-02-22T05:33:01.437Z"
   },
   {
    "duration": 37,
    "start_time": "2022-02-22T05:39:37.108Z"
   },
   {
    "duration": 14,
    "start_time": "2022-02-22T05:39:58.666Z"
   },
   {
    "duration": 38,
    "start_time": "2022-02-22T05:40:18.733Z"
   },
   {
    "duration": 34,
    "start_time": "2022-02-22T05:41:17.272Z"
   },
   {
    "duration": 14,
    "start_time": "2022-02-22T05:41:45.277Z"
   },
   {
    "duration": 35,
    "start_time": "2022-02-22T05:42:34.916Z"
   },
   {
    "duration": 18,
    "start_time": "2022-02-22T05:45:20.607Z"
   },
   {
    "duration": 54,
    "start_time": "2022-02-22T05:48:39.170Z"
   },
   {
    "duration": 14,
    "start_time": "2022-02-22T05:52:53.728Z"
   },
   {
    "duration": 241,
    "start_time": "2022-02-22T05:54:44.876Z"
   },
   {
    "duration": 13,
    "start_time": "2022-02-22T05:54:50.543Z"
   },
   {
    "duration": 293,
    "start_time": "2022-02-22T05:55:00.622Z"
   },
   {
    "duration": 9,
    "start_time": "2022-02-22T05:55:20.878Z"
   },
   {
    "duration": 10,
    "start_time": "2022-02-22T05:55:43.398Z"
   },
   {
    "duration": 11,
    "start_time": "2022-02-22T05:56:01.300Z"
   },
   {
    "duration": 8,
    "start_time": "2022-02-22T05:56:12.020Z"
   },
   {
    "duration": 102,
    "start_time": "2022-02-22T05:56:49.751Z"
   },
   {
    "duration": 13,
    "start_time": "2022-02-22T05:56:54.430Z"
   },
   {
    "duration": 15,
    "start_time": "2022-02-22T05:59:07.538Z"
   },
   {
    "duration": 16,
    "start_time": "2022-02-22T05:59:17.199Z"
   },
   {
    "duration": 13,
    "start_time": "2022-02-22T05:59:26.468Z"
   },
   {
    "duration": 15,
    "start_time": "2022-02-22T05:59:45.220Z"
   },
   {
    "duration": 7,
    "start_time": "2022-02-22T06:00:09.170Z"
   },
   {
    "duration": 7,
    "start_time": "2022-02-22T06:00:31.232Z"
   },
   {
    "duration": 18,
    "start_time": "2022-02-22T06:00:36.194Z"
   },
   {
    "duration": 35,
    "start_time": "2022-02-22T06:03:08.198Z"
   },
   {
    "duration": 39,
    "start_time": "2022-02-22T06:03:24.732Z"
   },
   {
    "duration": 34,
    "start_time": "2022-02-22T06:03:42.470Z"
   },
   {
    "duration": 38,
    "start_time": "2022-02-22T06:04:07.839Z"
   },
   {
    "duration": 14,
    "start_time": "2022-02-22T06:04:23.477Z"
   },
   {
    "duration": 14,
    "start_time": "2022-02-22T06:04:35.087Z"
   },
   {
    "duration": 19,
    "start_time": "2022-02-22T06:05:28.903Z"
   },
   {
    "duration": 23,
    "start_time": "2022-02-22T06:06:02.279Z"
   },
   {
    "duration": 20,
    "start_time": "2022-02-22T06:06:04.306Z"
   },
   {
    "duration": 37,
    "start_time": "2022-02-22T06:27:40.690Z"
   },
   {
    "duration": 174,
    "start_time": "2022-02-22T18:15:13.328Z"
   },
   {
    "duration": 92,
    "start_time": "2022-02-22T18:15:23.315Z"
   },
   {
    "duration": 328,
    "start_time": "2022-02-22T18:15:55.425Z"
   },
   {
    "duration": 863,
    "start_time": "2022-02-22T18:16:01.238Z"
   },
   {
    "duration": 24,
    "start_time": "2022-02-22T18:16:04.063Z"
   },
   {
    "duration": 21,
    "start_time": "2022-02-22T18:16:28.347Z"
   },
   {
    "duration": 21,
    "start_time": "2022-02-22T18:16:39.611Z"
   },
   {
    "duration": 84,
    "start_time": "2022-02-22T18:16:48.997Z"
   },
   {
    "duration": 1238,
    "start_time": "2022-02-22T18:17:09.683Z"
   },
   {
    "duration": 1365,
    "start_time": "2022-02-22T18:17:14.322Z"
   },
   {
    "duration": 60,
    "start_time": "2022-02-22T18:17:51.583Z"
   },
   {
    "duration": 54,
    "start_time": "2022-02-22T18:18:26.635Z"
   },
   {
    "duration": 25,
    "start_time": "2022-02-22T18:19:23.900Z"
   },
   {
    "duration": 29,
    "start_time": "2022-02-22T18:21:23.345Z"
   },
   {
    "duration": 35,
    "start_time": "2022-02-22T18:21:52.246Z"
   },
   {
    "duration": 92,
    "start_time": "2022-02-22T18:23:09.451Z"
   },
   {
    "duration": 144,
    "start_time": "2022-02-22T18:23:44.965Z"
   },
   {
    "duration": 89,
    "start_time": "2022-02-22T18:24:39.806Z"
   },
   {
    "duration": 98,
    "start_time": "2022-02-22T18:24:44.387Z"
   },
   {
    "duration": 89,
    "start_time": "2022-02-22T18:25:06.897Z"
   },
   {
    "duration": 100,
    "start_time": "2022-02-22T18:25:14.276Z"
   },
   {
    "duration": 97,
    "start_time": "2022-02-22T18:25:39.648Z"
   },
   {
    "duration": 2320,
    "start_time": "2022-02-22T18:26:18.202Z"
   },
   {
    "duration": 17,
    "start_time": "2022-02-22T18:26:55.473Z"
   },
   {
    "duration": 1818,
    "start_time": "2022-02-22T18:29:02.365Z"
   },
   {
    "duration": 94,
    "start_time": "2022-02-22T18:29:30.977Z"
   },
   {
    "duration": 22,
    "start_time": "2022-02-22T18:30:16.864Z"
   },
   {
    "duration": 19,
    "start_time": "2022-02-22T18:32:41.159Z"
   },
   {
    "duration": 35,
    "start_time": "2022-02-22T18:33:19.478Z"
   },
   {
    "duration": 21,
    "start_time": "2022-02-22T18:33:48.469Z"
   },
   {
    "duration": 39,
    "start_time": "2022-02-22T18:35:14.949Z"
   },
   {
    "duration": 24,
    "start_time": "2022-02-22T18:36:15.245Z"
   },
   {
    "duration": 28,
    "start_time": "2022-02-22T18:36:39.496Z"
   },
   {
    "duration": 21,
    "start_time": "2022-02-22T18:37:04.727Z"
   },
   {
    "duration": 34,
    "start_time": "2022-02-22T18:38:26.912Z"
   },
   {
    "duration": 22,
    "start_time": "2022-02-22T18:38:35.866Z"
   },
   {
    "duration": 43,
    "start_time": "2022-02-22T18:39:12.207Z"
   },
   {
    "duration": 40,
    "start_time": "2022-02-22T18:40:01.176Z"
   },
   {
    "duration": 68,
    "start_time": "2022-02-22T18:42:27.918Z"
   },
   {
    "duration": 79,
    "start_time": "2022-02-22T18:43:20.216Z"
   },
   {
    "duration": 86,
    "start_time": "2022-02-22T18:45:23.861Z"
   },
   {
    "duration": 119,
    "start_time": "2022-02-22T18:46:07.723Z"
   },
   {
    "duration": 118,
    "start_time": "2022-02-22T18:47:09.471Z"
   },
   {
    "duration": 129,
    "start_time": "2022-02-22T18:47:54.287Z"
   },
   {
    "duration": 151,
    "start_time": "2022-02-22T18:49:17.839Z"
   },
   {
    "duration": 350,
    "start_time": "2022-02-22T18:50:29.539Z"
   },
   {
    "duration": 170,
    "start_time": "2022-02-22T18:50:54.968Z"
   },
   {
    "duration": 21,
    "start_time": "2022-02-22T18:51:50.264Z"
   },
   {
    "duration": 293,
    "start_time": "2022-02-22T18:52:14.585Z"
   },
   {
    "duration": 315,
    "start_time": "2022-02-22T18:52:26.498Z"
   },
   {
    "duration": 28,
    "start_time": "2022-02-22T18:53:01.407Z"
   },
   {
    "duration": 286,
    "start_time": "2022-02-22T18:53:36.741Z"
   },
   {
    "duration": 278,
    "start_time": "2022-02-22T18:54:01.653Z"
   },
   {
    "duration": 27,
    "start_time": "2022-02-22T18:54:16.841Z"
   },
   {
    "duration": 396,
    "start_time": "2022-02-22T18:54:25.575Z"
   },
   {
    "duration": 29,
    "start_time": "2022-02-22T18:55:13.386Z"
   },
   {
    "duration": 18,
    "start_time": "2022-02-22T18:56:19.023Z"
   },
   {
    "duration": 7120,
    "start_time": "2022-02-22T18:57:38.478Z"
   },
   {
    "duration": 21,
    "start_time": "2022-02-22T18:58:29.919Z"
   },
   {
    "duration": 325,
    "start_time": "2022-02-22T18:59:44.619Z"
   },
   {
    "duration": 25,
    "start_time": "2022-02-22T19:00:16.470Z"
   },
   {
    "duration": 26,
    "start_time": "2022-02-22T19:00:27.649Z"
   },
   {
    "duration": 18,
    "start_time": "2022-02-22T19:00:44.096Z"
   },
   {
    "duration": 297,
    "start_time": "2022-02-22T19:01:05.914Z"
   },
   {
    "duration": 30,
    "start_time": "2022-02-22T19:01:24.978Z"
   },
   {
    "duration": 30,
    "start_time": "2022-02-22T19:01:41.037Z"
   },
   {
    "duration": 31,
    "start_time": "2022-02-22T19:02:18.936Z"
   },
   {
    "duration": 31,
    "start_time": "2022-02-22T19:02:51.624Z"
   },
   {
    "duration": 31,
    "start_time": "2022-02-22T19:04:29.533Z"
   },
   {
    "duration": 31,
    "start_time": "2022-02-22T19:05:11.609Z"
   },
   {
    "duration": 30,
    "start_time": "2022-02-22T19:05:37.718Z"
   },
   {
    "duration": 51,
    "start_time": "2022-02-22T19:07:17.645Z"
   },
   {
    "duration": 40,
    "start_time": "2022-02-22T19:08:48.206Z"
   },
   {
    "duration": 36,
    "start_time": "2022-02-22T19:09:40.127Z"
   },
   {
    "duration": 41,
    "start_time": "2022-02-22T19:10:00.421Z"
   },
   {
    "duration": 38,
    "start_time": "2022-02-22T19:10:22.817Z"
   },
   {
    "duration": 219,
    "start_time": "2022-02-23T00:00:23.628Z"
   },
   {
    "duration": 209,
    "start_time": "2022-02-23T00:00:29.898Z"
   },
   {
    "duration": 682,
    "start_time": "2022-02-23T00:00:36.651Z"
   },
   {
    "duration": 10,
    "start_time": "2022-02-23T00:00:39.066Z"
   },
   {
    "duration": 4,
    "start_time": "2022-02-23T00:00:41.948Z"
   },
   {
    "duration": 17,
    "start_time": "2022-02-23T00:00:43.352Z"
   },
   {
    "duration": 36,
    "start_time": "2022-02-23T00:00:45.157Z"
   },
   {
    "duration": 37,
    "start_time": "2022-02-23T00:00:47.687Z"
   },
   {
    "duration": 5,
    "start_time": "2022-02-23T00:00:51.486Z"
   },
   {
    "duration": 207,
    "start_time": "2022-02-23T00:02:49.348Z"
   },
   {
    "duration": 187,
    "start_time": "2022-02-23T00:03:22.575Z"
   },
   {
    "duration": 236,
    "start_time": "2022-02-23T00:06:26.708Z"
   },
   {
    "duration": 45,
    "start_time": "2022-02-23T00:07:12.306Z"
   },
   {
    "duration": 8,
    "start_time": "2022-02-23T00:07:14.463Z"
   },
   {
    "duration": 21,
    "start_time": "2022-02-23T00:07:16.485Z"
   },
   {
    "duration": 28,
    "start_time": "2022-02-23T00:07:18.414Z"
   },
   {
    "duration": 3,
    "start_time": "2022-02-23T00:07:20.179Z"
   },
   {
    "duration": 176,
    "start_time": "2022-02-23T00:07:21.100Z"
   },
   {
    "duration": 7,
    "start_time": "2022-02-23T00:10:33.441Z"
   },
   {
    "duration": 9,
    "start_time": "2022-02-23T00:12:17.508Z"
   },
   {
    "duration": 416,
    "start_time": "2022-02-23T00:13:29.932Z"
   },
   {
    "duration": 9,
    "start_time": "2022-02-23T00:13:50.960Z"
   },
   {
    "duration": 11,
    "start_time": "2022-02-23T00:14:14.875Z"
   },
   {
    "duration": 16,
    "start_time": "2022-02-23T00:15:06.601Z"
   },
   {
    "duration": 11,
    "start_time": "2022-02-23T00:15:13.111Z"
   },
   {
    "duration": 201,
    "start_time": "2022-02-23T00:15:31.116Z"
   },
   {
    "duration": 13,
    "start_time": "2022-02-23T00:15:44.646Z"
   },
   {
    "duration": 59,
    "start_time": "2022-02-23T00:19:38.894Z"
   },
   {
    "duration": 2,
    "start_time": "2022-02-23T00:20:15.055Z"
   },
   {
    "duration": 14,
    "start_time": "2022-02-23T00:20:34.948Z"
   },
   {
    "duration": 65,
    "start_time": "2022-02-23T00:21:10.065Z"
   },
   {
    "duration": 16,
    "start_time": "2022-02-23T00:21:51.188Z"
   },
   {
    "duration": 27,
    "start_time": "2022-02-23T00:24:51.549Z"
   },
   {
    "duration": 4,
    "start_time": "2022-02-23T00:30:34.811Z"
   },
   {
    "duration": 10,
    "start_time": "2022-02-23T00:32:49.336Z"
   },
   {
    "duration": 5,
    "start_time": "2022-02-23T00:32:58.754Z"
   },
   {
    "duration": 28,
    "start_time": "2022-02-23T00:34:04.578Z"
   },
   {
    "duration": 24,
    "start_time": "2022-02-23T00:34:13.444Z"
   },
   {
    "duration": 27,
    "start_time": "2022-02-23T00:34:31.752Z"
   },
   {
    "duration": 4,
    "start_time": "2022-02-23T00:35:24.674Z"
   },
   {
    "duration": 574,
    "start_time": "2022-02-24T01:02:31.042Z"
   },
   {
    "duration": 58,
    "start_time": "2022-02-24T01:03:57.883Z"
   },
   {
    "duration": 284,
    "start_time": "2022-02-24T01:04:12.332Z"
   },
   {
    "duration": 638,
    "start_time": "2022-02-24T01:04:18.366Z"
   },
   {
    "duration": 10,
    "start_time": "2022-02-24T01:04:22.444Z"
   },
   {
    "duration": 4,
    "start_time": "2022-02-24T01:04:30.747Z"
   },
   {
    "duration": 8,
    "start_time": "2022-02-24T01:04:36.652Z"
   },
   {
    "duration": 5,
    "start_time": "2022-02-24T01:04:38.089Z"
   },
   {
    "duration": 9,
    "start_time": "2022-02-24T01:04:47.666Z"
   },
   {
    "duration": 10,
    "start_time": "2022-02-24T01:04:49.047Z"
   },
   {
    "duration": 11,
    "start_time": "2022-02-24T01:04:50.391Z"
   },
   {
    "duration": 6,
    "start_time": "2022-02-24T01:04:57.271Z"
   },
   {
    "duration": 4,
    "start_time": "2022-02-24T01:04:58.244Z"
   },
   {
    "duration": 9,
    "start_time": "2022-02-24T01:05:05.670Z"
   },
   {
    "duration": 4,
    "start_time": "2022-02-24T01:05:06.935Z"
   },
   {
    "duration": 4,
    "start_time": "2022-02-24T01:05:07.985Z"
   },
   {
    "duration": 4,
    "start_time": "2022-02-24T01:05:11.386Z"
   },
   {
    "duration": 4,
    "start_time": "2022-02-24T01:05:13.143Z"
   },
   {
    "duration": 9,
    "start_time": "2022-02-24T01:05:14.719Z"
   },
   {
    "duration": 38,
    "start_time": "2022-02-24T01:05:28.781Z"
   },
   {
    "duration": 9,
    "start_time": "2022-02-24T01:05:39.820Z"
   },
   {
    "duration": 4,
    "start_time": "2022-02-24T01:05:42.871Z"
   },
   {
    "duration": 4,
    "start_time": "2022-02-24T01:05:44.801Z"
   },
   {
    "duration": 9,
    "start_time": "2022-02-24T01:05:46.766Z"
   },
   {
    "duration": 4,
    "start_time": "2022-02-24T01:05:48.554Z"
   },
   {
    "duration": 8,
    "start_time": "2022-02-24T01:05:56.961Z"
   },
   {
    "duration": 4,
    "start_time": "2022-02-24T01:05:58.427Z"
   },
   {
    "duration": 4,
    "start_time": "2022-02-24T01:06:01.545Z"
   },
   {
    "duration": 38,
    "start_time": "2022-02-24T01:06:17.168Z"
   },
   {
    "duration": 11,
    "start_time": "2022-02-24T01:06:23.322Z"
   },
   {
    "duration": 28,
    "start_time": "2022-02-24T01:06:24.079Z"
   },
   {
    "duration": 4,
    "start_time": "2022-02-24T01:06:26.313Z"
   },
   {
    "duration": 9,
    "start_time": "2022-02-24T01:06:28.267Z"
   },
   {
    "duration": 4,
    "start_time": "2022-02-24T01:06:29.259Z"
   },
   {
    "duration": 4,
    "start_time": "2022-02-24T01:07:05.652Z"
   },
   {
    "duration": 216,
    "start_time": "2022-02-24T01:11:10.406Z"
   },
   {
    "duration": 193,
    "start_time": "2022-02-24T01:13:31.169Z"
   },
   {
    "duration": 12,
    "start_time": "2022-02-24T01:13:46.347Z"
   },
   {
    "duration": 192,
    "start_time": "2022-02-24T01:13:55.458Z"
   },
   {
    "duration": 176,
    "start_time": "2022-02-24T01:14:04.008Z"
   },
   {
    "duration": 7,
    "start_time": "2022-02-24T01:14:29.537Z"
   },
   {
    "duration": 8,
    "start_time": "2022-02-24T01:14:36.757Z"
   },
   {
    "duration": 5,
    "start_time": "2022-02-24T01:14:47.734Z"
   },
   {
    "duration": 8,
    "start_time": "2022-02-24T01:14:54.857Z"
   },
   {
    "duration": 5,
    "start_time": "2022-02-24T01:14:56.762Z"
   },
   {
    "duration": 7,
    "start_time": "2022-02-24T01:15:13.045Z"
   },
   {
    "duration": 4,
    "start_time": "2022-02-24T01:15:17.224Z"
   },
   {
    "duration": 6,
    "start_time": "2022-02-24T01:15:26.731Z"
   },
   {
    "duration": 4,
    "start_time": "2022-02-24T01:15:28.053Z"
   },
   {
    "duration": 4,
    "start_time": "2022-02-24T01:15:30.864Z"
   },
   {
    "duration": 5,
    "start_time": "2022-02-24T01:15:52.121Z"
   },
   {
    "duration": 4,
    "start_time": "2022-02-24T01:16:03.647Z"
   },
   {
    "duration": 5,
    "start_time": "2022-02-24T01:16:04.811Z"
   },
   {
    "duration": 5,
    "start_time": "2022-02-24T01:16:05.973Z"
   },
   {
    "duration": 4,
    "start_time": "2022-02-24T01:16:11.197Z"
   },
   {
    "duration": 5,
    "start_time": "2022-02-24T01:16:12.124Z"
   },
   {
    "duration": 5,
    "start_time": "2022-02-24T01:16:12.323Z"
   },
   {
    "duration": 5,
    "start_time": "2022-02-24T01:16:13.816Z"
   },
   {
    "duration": 5,
    "start_time": "2022-02-24T01:16:14.897Z"
   },
   {
    "duration": 4,
    "start_time": "2022-02-24T01:16:28.855Z"
   },
   {
    "duration": 6,
    "start_time": "2022-02-24T01:16:29.834Z"
   },
   {
    "duration": 5,
    "start_time": "2022-02-24T01:16:30.807Z"
   },
   {
    "duration": 4,
    "start_time": "2022-02-24T01:17:01.514Z"
   },
   {
    "duration": 203,
    "start_time": "2022-02-24T01:17:57.934Z"
   },
   {
    "duration": 175,
    "start_time": "2022-02-24T01:18:21.938Z"
   },
   {
    "duration": 5,
    "start_time": "2022-02-24T01:18:27.524Z"
   },
   {
    "duration": 6,
    "start_time": "2022-02-24T01:18:50.481Z"
   },
   {
    "duration": 394,
    "start_time": "2022-02-24T01:19:51.329Z"
   },
   {
    "duration": -955,
    "start_time": "2022-02-24T01:20:09.528Z"
   },
   {
    "duration": 4920,
    "start_time": "2022-02-24T01:20:09.743Z"
   },
   {
    "duration": 58,
    "start_time": "2022-02-24T01:20:49.742Z"
   },
   {
    "duration": 4551,
    "start_time": "2022-02-24T01:21:25.405Z"
   },
   {
    "duration": 4245,
    "start_time": "2022-02-24T01:21:39.781Z"
   },
   {
    "duration": 20,
    "start_time": "2022-02-24T01:22:24.719Z"
   },
   {
    "duration": 2,
    "start_time": "2022-02-24T01:24:53.954Z"
   },
   {
    "duration": 5,
    "start_time": "2022-02-24T01:25:16.276Z"
   },
   {
    "duration": 196,
    "start_time": "2022-02-24T01:29:56.072Z"
   },
   {
    "duration": 9,
    "start_time": "2022-02-24T01:30:09.406Z"
   },
   {
    "duration": 7,
    "start_time": "2022-02-24T01:31:43.863Z"
   },
   {
    "duration": 8,
    "start_time": "2022-02-24T01:31:50.868Z"
   },
   {
    "duration": 1277,
    "start_time": "2022-02-24T01:56:39.576Z"
   },
   {
    "duration": 193,
    "start_time": "2022-02-24T01:58:42.497Z"
   },
   {
    "duration": 8,
    "start_time": "2022-02-24T01:59:08.129Z"
   },
   {
    "duration": 232,
    "start_time": "2022-02-24T02:00:27.453Z"
   },
   {
    "duration": 186,
    "start_time": "2022-02-24T02:00:47.277Z"
   },
   {
    "duration": 8,
    "start_time": "2022-02-24T02:00:58.537Z"
   },
   {
    "duration": 9,
    "start_time": "2022-02-24T02:02:01.952Z"
   },
   {
    "duration": 10,
    "start_time": "2022-02-24T02:02:48.948Z"
   },
   {
    "duration": 62,
    "start_time": "2022-02-24T02:03:53.287Z"
   },
   {
    "duration": 5787,
    "start_time": "2022-02-24T02:04:00.012Z"
   },
   {
    "duration": 8,
    "start_time": "2022-02-24T02:07:53.608Z"
   },
   {
    "duration": 6,
    "start_time": "2022-02-24T02:21:51.581Z"
   },
   {
    "duration": 5,
    "start_time": "2022-02-24T02:22:26.003Z"
   },
   {
    "duration": 6,
    "start_time": "2022-02-24T02:22:40.896Z"
   },
   {
    "duration": 196,
    "start_time": "2022-02-24T02:25:42.955Z"
   },
   {
    "duration": 5,
    "start_time": "2022-02-24T02:25:49.321Z"
   },
   {
    "duration": 5,
    "start_time": "2022-02-24T02:26:54.107Z"
   },
   {
    "duration": 445,
    "start_time": "2022-02-24T12:15:21.340Z"
   },
   {
    "duration": 1309,
    "start_time": "2022-02-24T12:15:27.821Z"
   },
   {
    "duration": 19,
    "start_time": "2022-02-24T12:15:34.678Z"
   },
   {
    "duration": 9,
    "start_time": "2022-02-24T12:15:46.821Z"
   },
   {
    "duration": 9,
    "start_time": "2022-02-24T12:16:02.826Z"
   },
   {
    "duration": 53,
    "start_time": "2022-02-24T12:16:19.073Z"
   },
   {
    "duration": 9,
    "start_time": "2022-02-24T12:16:48.684Z"
   },
   {
    "duration": 8,
    "start_time": "2022-02-24T12:18:01.319Z"
   },
   {
    "duration": 437,
    "start_time": "2022-02-24T12:18:03.610Z"
   },
   {
    "duration": 6,
    "start_time": "2022-02-24T12:18:08.074Z"
   },
   {
    "duration": 12,
    "start_time": "2022-02-24T12:18:09.335Z"
   },
   {
    "duration": 5,
    "start_time": "2022-02-24T12:18:10.293Z"
   },
   {
    "duration": 7,
    "start_time": "2022-02-24T12:18:11.943Z"
   },
   {
    "duration": 372,
    "start_time": "2022-02-24T12:18:13.712Z"
   },
   {
    "duration": 5,
    "start_time": "2022-02-24T12:18:17.491Z"
   },
   {
    "duration": 56,
    "start_time": "2022-02-24T12:18:22.571Z"
   },
   {
    "duration": 12,
    "start_time": "2022-02-24T12:18:25.305Z"
   },
   {
    "duration": 5,
    "start_time": "2022-02-24T12:18:26.601Z"
   },
   {
    "duration": 15,
    "start_time": "2022-02-24T12:18:27.488Z"
   },
   {
    "duration": 39,
    "start_time": "2022-02-24T12:18:29.409Z"
   },
   {
    "duration": 98,
    "start_time": "2022-02-24T12:18:32.023Z"
   },
   {
    "duration": 3,
    "start_time": "2022-02-24T12:18:34.482Z"
   },
   {
    "duration": 21,
    "start_time": "2022-02-24T12:18:35.191Z"
   },
   {
    "duration": 3,
    "start_time": "2022-02-24T12:18:37.032Z"
   },
   {
    "duration": 3,
    "start_time": "2022-02-24T12:18:38.739Z"
   },
   {
    "duration": 4,
    "start_time": "2022-02-24T12:18:39.700Z"
   },
   {
    "duration": 6,
    "start_time": "2022-02-24T12:18:41.779Z"
   },
   {
    "duration": 14,
    "start_time": "2022-02-24T12:18:43.692Z"
   },
   {
    "duration": 40,
    "start_time": "2022-02-24T12:18:45.030Z"
   },
   {
    "duration": 5,
    "start_time": "2022-02-24T12:18:47.116Z"
   },
   {
    "duration": 12,
    "start_time": "2022-02-24T12:18:48.941Z"
   },
   {
    "duration": 5,
    "start_time": "2022-02-24T12:18:50.472Z"
   },
   {
    "duration": 6,
    "start_time": "2022-02-24T12:18:52.517Z"
   },
   {
    "duration": 6,
    "start_time": "2022-02-24T12:18:56.754Z"
   },
   {
    "duration": 379,
    "start_time": "2022-02-24T12:18:59.699Z"
   },
   {
    "duration": 7,
    "start_time": "2022-02-24T12:19:06.254Z"
   },
   {
    "duration": 386,
    "start_time": "2022-02-24T12:19:07.581Z"
   },
   {
    "duration": 7,
    "start_time": "2022-02-24T12:19:37.598Z"
   },
   {
    "duration": 6,
    "start_time": "2022-02-24T12:19:47.494Z"
   },
   {
    "duration": 16,
    "start_time": "2022-02-24T12:19:54.573Z"
   },
   {
    "duration": 137,
    "start_time": "2022-02-24T12:31:37.737Z"
   },
   {
    "duration": 214,
    "start_time": "2022-02-24T12:31:56.598Z"
   },
   {
    "duration": 133,
    "start_time": "2022-02-24T12:32:06.871Z"
   },
   {
    "duration": 123,
    "start_time": "2022-02-24T12:32:17.236Z"
   },
   {
    "duration": 124,
    "start_time": "2022-02-24T12:32:22.350Z"
   },
   {
    "duration": 17,
    "start_time": "2022-02-24T12:32:30.237Z"
   },
   {
    "duration": 29,
    "start_time": "2022-02-24T12:32:54.567Z"
   },
   {
    "duration": 23,
    "start_time": "2022-02-24T12:33:00.399Z"
   },
   {
    "duration": 57,
    "start_time": "2022-02-24T12:36:47.247Z"
   },
   {
    "duration": 57,
    "start_time": "2022-02-24T12:37:02.112Z"
   },
   {
    "duration": 53,
    "start_time": "2022-02-24T12:37:14.139Z"
   },
   {
    "duration": 7,
    "start_time": "2022-02-24T12:37:28.362Z"
   },
   {
    "duration": 6,
    "start_time": "2022-02-24T12:37:39.274Z"
   },
   {
    "duration": 7,
    "start_time": "2022-02-24T12:37:57.678Z"
   },
   {
    "duration": 33,
    "start_time": "2022-02-24T12:45:48.359Z"
   },
   {
    "duration": 383,
    "start_time": "2022-02-24T12:49:18.976Z"
   },
   {
    "duration": 183,
    "start_time": "2022-02-24T12:49:30.878Z"
   },
   {
    "duration": 155,
    "start_time": "2022-02-24T12:49:35.247Z"
   },
   {
    "duration": 31,
    "start_time": "2022-02-24T12:49:46.742Z"
   },
   {
    "duration": 27,
    "start_time": "2022-02-24T12:50:04.263Z"
   },
   {
    "duration": 34,
    "start_time": "2022-02-24T12:50:24.224Z"
   },
   {
    "duration": 17,
    "start_time": "2022-02-24T12:50:29.359Z"
   },
   {
    "duration": 19,
    "start_time": "2022-02-24T12:50:30.550Z"
   },
   {
    "duration": 39,
    "start_time": "2022-02-24T12:50:32.917Z"
   },
   {
    "duration": 23,
    "start_time": "2022-02-24T12:51:46.504Z"
   },
   {
    "duration": 23,
    "start_time": "2022-02-24T12:51:48.664Z"
   },
   {
    "duration": 50,
    "start_time": "2022-02-24T12:52:05.714Z"
   },
   {
    "duration": 31,
    "start_time": "2022-02-24T12:52:19.897Z"
   },
   {
    "duration": 380,
    "start_time": "2022-02-24T12:52:30.769Z"
   },
   {
    "duration": 146,
    "start_time": "2022-02-24T12:52:58.146Z"
   },
   {
    "duration": 4,
    "start_time": "2022-02-24T12:53:04.343Z"
   },
   {
    "duration": 19,
    "start_time": "2022-02-24T12:53:19.290Z"
   },
   {
    "duration": 15,
    "start_time": "2022-02-24T12:53:24.495Z"
   },
   {
    "duration": 6,
    "start_time": "2022-02-24T12:59:27.539Z"
   },
   {
    "duration": 9,
    "start_time": "2022-02-24T12:59:39.689Z"
   },
   {
    "duration": 7,
    "start_time": "2022-02-24T13:12:45.007Z"
   },
   {
    "duration": 5,
    "start_time": "2022-02-24T13:12:46.826Z"
   },
   {
    "duration": 67,
    "start_time": "2022-02-24T13:13:14.820Z"
   },
   {
    "duration": 12,
    "start_time": "2022-02-24T13:13:17.036Z"
   },
   {
    "duration": 4,
    "start_time": "2022-02-24T13:13:18.963Z"
   },
   {
    "duration": 24,
    "start_time": "2022-02-24T13:13:20.765Z"
   },
   {
    "duration": 33,
    "start_time": "2022-02-24T13:13:22.450Z"
   },
   {
    "duration": 38,
    "start_time": "2022-02-24T13:13:27.122Z"
   },
   {
    "duration": 3,
    "start_time": "2022-02-24T13:13:30.849Z"
   },
   {
    "duration": 21,
    "start_time": "2022-02-24T13:13:32.366Z"
   },
   {
    "duration": 5,
    "start_time": "2022-02-24T13:13:35.452Z"
   },
   {
    "duration": 15,
    "start_time": "2022-02-24T13:13:37.617Z"
   },
   {
    "duration": 41,
    "start_time": "2022-02-24T13:13:39.000Z"
   },
   {
    "duration": 7,
    "start_time": "2022-02-24T13:13:41.982Z"
   },
   {
    "duration": 12,
    "start_time": "2022-02-24T13:13:44.040Z"
   },
   {
    "duration": 6,
    "start_time": "2022-02-24T13:13:44.880Z"
   },
   {
    "duration": 7,
    "start_time": "2022-02-24T13:13:45.938Z"
   },
   {
    "duration": 383,
    "start_time": "2022-02-24T13:13:54.624Z"
   },
   {
    "duration": 456,
    "start_time": "2022-02-24T13:14:04.517Z"
   },
   {
    "duration": 391,
    "start_time": "2022-02-24T13:14:37.300Z"
   },
   {
    "duration": 378,
    "start_time": "2022-02-24T13:14:54.021Z"
   },
   {
    "duration": 407,
    "start_time": "2022-02-24T13:15:05.130Z"
   },
   {
    "duration": 385,
    "start_time": "2022-02-24T13:15:33.936Z"
   },
   {
    "duration": 648,
    "start_time": "2022-02-24T13:15:41.892Z"
   },
   {
    "duration": 385,
    "start_time": "2022-02-24T13:16:25.610Z"
   },
   {
    "duration": 203,
    "start_time": "2022-02-24T13:18:17.531Z"
   },
   {
    "duration": 422,
    "start_time": "2022-02-24T13:18:27.844Z"
   },
   {
    "duration": 379,
    "start_time": "2022-02-24T13:18:40.744Z"
   },
   {
    "duration": 5,
    "start_time": "2022-02-24T13:20:06.376Z"
   },
   {
    "duration": 6,
    "start_time": "2022-02-24T13:20:09.072Z"
   },
   {
    "duration": 10,
    "start_time": "2022-02-24T13:20:14.150Z"
   },
   {
    "duration": 53,
    "start_time": "2022-02-24T13:20:17.394Z"
   },
   {
    "duration": 8,
    "start_time": "2022-02-24T13:20:20.878Z"
   },
   {
    "duration": 6,
    "start_time": "2022-02-24T13:20:22.953Z"
   },
   {
    "duration": 7,
    "start_time": "2022-02-24T13:20:25.860Z"
   },
   {
    "duration": 7,
    "start_time": "2022-02-24T13:20:27.749Z"
   },
   {
    "duration": 34,
    "start_time": "2022-02-24T13:20:29.523Z"
   },
   {
    "duration": 24,
    "start_time": "2022-02-24T13:20:32.994Z"
   },
   {
    "duration": 25,
    "start_time": "2022-02-24T13:20:34.061Z"
   },
   {
    "duration": 19,
    "start_time": "2022-02-24T13:20:35.680Z"
   },
   {
    "duration": 9,
    "start_time": "2022-02-24T13:20:42.241Z"
   },
   {
    "duration": 23,
    "start_time": "2022-02-24T13:23:48.647Z"
   },
   {
    "duration": 214,
    "start_time": "2022-02-25T01:13:13.179Z"
   },
   {
    "duration": 691,
    "start_time": "2022-02-25T01:13:20.097Z"
   },
   {
    "duration": 20,
    "start_time": "2022-02-25T01:13:21.671Z"
   },
   {
    "duration": 3,
    "start_time": "2022-02-25T01:13:23.784Z"
   },
   {
    "duration": 11,
    "start_time": "2022-02-25T01:13:24.793Z"
   },
   {
    "duration": 22,
    "start_time": "2022-02-25T01:13:26.656Z"
   },
   {
    "duration": 27,
    "start_time": "2022-02-25T01:13:28.940Z"
   },
   {
    "duration": 14,
    "start_time": "2022-02-25T01:13:32.859Z"
   },
   {
    "duration": 5,
    "start_time": "2022-02-25T01:13:36.195Z"
   },
   {
    "duration": 12,
    "start_time": "2022-02-25T01:13:38.924Z"
   },
   {
    "duration": 28,
    "start_time": "2022-02-25T01:13:39.660Z"
   },
   {
    "duration": 3,
    "start_time": "2022-02-25T01:13:42.006Z"
   },
   {
    "duration": 9,
    "start_time": "2022-02-25T01:13:43.776Z"
   },
   {
    "duration": 5,
    "start_time": "2022-02-25T01:13:47.877Z"
   },
   {
    "duration": 5,
    "start_time": "2022-02-25T01:13:49.008Z"
   },
   {
    "duration": 4,
    "start_time": "2022-02-25T01:13:50.605Z"
   },
   {
    "duration": 5,
    "start_time": "2022-02-25T01:13:51.951Z"
   },
   {
    "duration": 7,
    "start_time": "2022-02-25T01:13:53.067Z"
   },
   {
    "duration": 35,
    "start_time": "2022-02-25T01:13:54.899Z"
   },
   {
    "duration": 4,
    "start_time": "2022-02-25T01:13:56.791Z"
   },
   {
    "duration": 5,
    "start_time": "2022-02-25T01:13:57.832Z"
   },
   {
    "duration": 5,
    "start_time": "2022-02-25T01:13:59.705Z"
   },
   {
    "duration": 5,
    "start_time": "2022-02-25T01:14:01.485Z"
   },
   {
    "duration": 22,
    "start_time": "2022-02-25T01:14:03.280Z"
   },
   {
    "duration": 16,
    "start_time": "2022-02-25T01:14:05.411Z"
   },
   {
    "duration": 16,
    "start_time": "2022-02-25T01:14:06.312Z"
   },
   {
    "duration": 11,
    "start_time": "2022-02-25T01:14:07.166Z"
   },
   {
    "duration": 10,
    "start_time": "2022-02-25T01:14:08.893Z"
   },
   {
    "duration": 58,
    "start_time": "2022-02-25T01:14:13.201Z"
   },
   {
    "duration": 55,
    "start_time": "2022-02-25T01:18:33.094Z"
   },
   {
    "duration": 44,
    "start_time": "2022-02-25T01:18:45.204Z"
   },
   {
    "duration": 52,
    "start_time": "2022-02-25T01:18:59.460Z"
   },
   {
    "duration": 59,
    "start_time": "2022-02-25T01:19:46.638Z"
   },
   {
    "duration": 11,
    "start_time": "2022-02-25T01:20:16.187Z"
   },
   {
    "duration": 16,
    "start_time": "2022-02-25T01:26:57.259Z"
   },
   {
    "duration": 27,
    "start_time": "2022-02-25T01:27:59.121Z"
   },
   {
    "duration": 223,
    "start_time": "2022-02-25T01:29:46.763Z"
   },
   {
    "duration": 12,
    "start_time": "2022-02-25T01:31:02.082Z"
   },
   {
    "duration": 12,
    "start_time": "2022-02-25T01:31:10.211Z"
   },
   {
    "duration": 15,
    "start_time": "2022-02-25T01:31:32.040Z"
   },
   {
    "duration": 202,
    "start_time": "2022-02-25T01:32:40.915Z"
   },
   {
    "duration": 197,
    "start_time": "2022-02-25T01:33:10.276Z"
   },
   {
    "duration": 30,
    "start_time": "2022-02-25T01:33:24.391Z"
   },
   {
    "duration": 29,
    "start_time": "2022-02-25T01:33:36.773Z"
   },
   {
    "duration": 41,
    "start_time": "2022-02-25T01:34:23.867Z"
   },
   {
    "duration": 30,
    "start_time": "2022-02-25T01:34:30.782Z"
   },
   {
    "duration": 403,
    "start_time": "2022-02-25T01:34:37.552Z"
   },
   {
    "duration": 196,
    "start_time": "2022-02-25T01:34:47.420Z"
   },
   {
    "duration": 13,
    "start_time": "2022-02-25T01:34:56.748Z"
   },
   {
    "duration": 9,
    "start_time": "2022-02-25T01:35:26.170Z"
   },
   {
    "duration": 7,
    "start_time": "2022-02-25T01:35:38.446Z"
   },
   {
    "duration": 10,
    "start_time": "2022-02-25T01:35:49.519Z"
   },
   {
    "duration": 6,
    "start_time": "2022-02-25T01:36:42.572Z"
   },
   {
    "duration": 5,
    "start_time": "2022-02-25T01:36:52.462Z"
   },
   {
    "duration": 41,
    "start_time": "2022-02-25T01:37:09.265Z"
   },
   {
    "duration": 15,
    "start_time": "2022-02-25T01:37:11.608Z"
   },
   {
    "duration": 4,
    "start_time": "2022-02-25T01:37:14.302Z"
   },
   {
    "duration": 11,
    "start_time": "2022-02-25T01:37:15.340Z"
   },
   {
    "duration": 22,
    "start_time": "2022-02-25T01:37:17.487Z"
   },
   {
    "duration": 28,
    "start_time": "2022-02-25T01:37:19.651Z"
   },
   {
    "duration": 16,
    "start_time": "2022-02-25T01:37:23.469Z"
   },
   {
    "duration": 5,
    "start_time": "2022-02-25T01:37:26.877Z"
   },
   {
    "duration": 11,
    "start_time": "2022-02-25T01:37:29.129Z"
   },
   {
    "duration": 28,
    "start_time": "2022-02-25T01:37:30.385Z"
   },
   {
    "duration": 4,
    "start_time": "2022-02-25T01:37:32.862Z"
   },
   {
    "duration": 9,
    "start_time": "2022-02-25T01:37:34.589Z"
   },
   {
    "duration": 4,
    "start_time": "2022-02-25T01:37:36.559Z"
   },
   {
    "duration": 5,
    "start_time": "2022-02-25T01:37:38.194Z"
   },
   {
    "duration": 3,
    "start_time": "2022-02-25T01:37:40.167Z"
   },
   {
    "duration": 4,
    "start_time": "2022-02-25T01:37:41.301Z"
   },
   {
    "duration": 5,
    "start_time": "2022-02-25T01:37:43.198Z"
   },
   {
    "duration": 36,
    "start_time": "2022-02-25T01:37:50.322Z"
   },
   {
    "duration": 4,
    "start_time": "2022-02-25T01:37:52.922Z"
   },
   {
    "duration": 5,
    "start_time": "2022-02-25T01:37:55.187Z"
   },
   {
    "duration": 4,
    "start_time": "2022-02-25T01:37:56.943Z"
   },
   {
    "duration": 5,
    "start_time": "2022-02-25T01:37:58.984Z"
   },
   {
    "duration": 23,
    "start_time": "2022-02-25T01:38:00.921Z"
   },
   {
    "duration": 15,
    "start_time": "2022-02-25T01:38:03.615Z"
   },
   {
    "duration": 19,
    "start_time": "2022-02-25T01:38:04.868Z"
   },
   {
    "duration": 12,
    "start_time": "2022-02-25T01:38:06.656Z"
   },
   {
    "duration": 9,
    "start_time": "2022-02-25T01:38:12.910Z"
   },
   {
    "duration": 24,
    "start_time": "2022-02-25T01:40:01.014Z"
   },
   {
    "duration": 255,
    "start_time": "2022-02-25T01:40:30.897Z"
   },
   {
    "duration": 198,
    "start_time": "2022-02-25T01:40:54.126Z"
   },
   {
    "duration": 26,
    "start_time": "2022-02-25T01:42:09.626Z"
   },
   {
    "duration": 26,
    "start_time": "2022-02-25T01:42:21.411Z"
   },
   {
    "duration": 11,
    "start_time": "2022-02-25T01:42:51.936Z"
   },
   {
    "duration": 16,
    "start_time": "2022-02-25T01:43:27.790Z"
   },
   {
    "duration": 11,
    "start_time": "2022-02-25T01:46:19.774Z"
   },
   {
    "duration": 10,
    "start_time": "2022-02-25T01:46:26.422Z"
   },
   {
    "duration": 24,
    "start_time": "2022-02-25T01:46:37.254Z"
   },
   {
    "duration": 8,
    "start_time": "2022-02-25T01:47:12.139Z"
   },
   {
    "duration": 8,
    "start_time": "2022-02-25T01:47:18.960Z"
   },
   {
    "duration": 7,
    "start_time": "2022-02-25T01:47:38.473Z"
   },
   {
    "duration": 7,
    "start_time": "2022-02-25T01:48:30.737Z"
   },
   {
    "duration": 8,
    "start_time": "2022-02-25T01:51:16.773Z"
   },
   {
    "duration": 7,
    "start_time": "2022-02-25T01:51:46.252Z"
   },
   {
    "duration": 9,
    "start_time": "2022-02-25T01:52:15.343Z"
   },
   {
    "duration": 8,
    "start_time": "2022-02-25T01:52:21.115Z"
   },
   {
    "duration": 8,
    "start_time": "2022-02-25T01:52:36.341Z"
   },
   {
    "duration": 6,
    "start_time": "2022-02-25T01:53:19.146Z"
   },
   {
    "duration": 8,
    "start_time": "2022-02-25T01:53:26.782Z"
   },
   {
    "duration": 7,
    "start_time": "2022-02-25T01:53:37.891Z"
   },
   {
    "duration": 6,
    "start_time": "2022-02-25T01:54:10.835Z"
   },
   {
    "duration": 7,
    "start_time": "2022-02-25T01:54:20.989Z"
   },
   {
    "duration": 6,
    "start_time": "2022-02-25T01:54:30.614Z"
   },
   {
    "duration": 7,
    "start_time": "2022-02-25T01:55:19.702Z"
   },
   {
    "duration": 7,
    "start_time": "2022-02-25T01:55:29.531Z"
   },
   {
    "duration": 9,
    "start_time": "2022-02-25T01:55:53.337Z"
   },
   {
    "duration": 6,
    "start_time": "2022-02-25T01:57:18.063Z"
   },
   {
    "duration": 7,
    "start_time": "2022-02-25T01:57:27.833Z"
   },
   {
    "duration": 7,
    "start_time": "2022-02-25T01:57:36.346Z"
   },
   {
    "duration": 9,
    "start_time": "2022-02-25T02:03:09.615Z"
   },
   {
    "duration": 9,
    "start_time": "2022-02-25T02:04:49.502Z"
   },
   {
    "duration": 15,
    "start_time": "2022-02-25T02:05:10.493Z"
   },
   {
    "duration": 16,
    "start_time": "2022-02-25T02:06:39.163Z"
   },
   {
    "duration": 10,
    "start_time": "2022-02-25T02:07:09.666Z"
   },
   {
    "duration": 22,
    "start_time": "2022-02-25T02:15:22.495Z"
   },
   {
    "duration": 27,
    "start_time": "2022-02-25T02:15:36.085Z"
   },
   {
    "duration": 38,
    "start_time": "2022-02-25T02:20:11.938Z"
   },
   {
    "duration": 38,
    "start_time": "2022-02-25T02:20:24.001Z"
   },
   {
    "duration": 38,
    "start_time": "2022-02-25T02:27:24.631Z"
   },
   {
    "duration": 205,
    "start_time": "2022-02-25T02:32:58.459Z"
   },
   {
    "duration": 62,
    "start_time": "2022-02-25T02:33:04.516Z"
   },
   {
    "duration": 190,
    "start_time": "2022-02-25T02:33:06.512Z"
   },
   {
    "duration": 65,
    "start_time": "2022-02-25T02:33:56.258Z"
   },
   {
    "duration": 58,
    "start_time": "2022-02-25T02:34:16.955Z"
   },
   {
    "duration": 68,
    "start_time": "2022-02-25T02:34:52.255Z"
   },
   {
    "duration": 4,
    "start_time": "2022-02-25T02:35:18.133Z"
   },
   {
    "duration": 5838,
    "start_time": "2022-02-25T02:35:23.108Z"
   },
   {
    "duration": 7443,
    "start_time": "2022-02-25T02:35:54.572Z"
   },
   {
    "duration": 200,
    "start_time": "2022-02-25T02:36:19.937Z"
   },
   {
    "duration": 202,
    "start_time": "2022-02-25T02:36:54.259Z"
   },
   {
    "duration": 6512,
    "start_time": "2022-02-25T02:37:12.429Z"
   },
   {
    "duration": 33,
    "start_time": "2022-02-25T02:41:05.439Z"
   },
   {
    "duration": 31,
    "start_time": "2022-02-25T02:41:21.484Z"
   },
   {
    "duration": 37,
    "start_time": "2022-02-25T02:41:26.200Z"
   },
   {
    "duration": 676,
    "start_time": "2022-02-26T00:18:15.912Z"
   },
   {
    "duration": 21,
    "start_time": "2022-02-26T00:18:17.826Z"
   },
   {
    "duration": 4,
    "start_time": "2022-02-26T00:18:20.193Z"
   },
   {
    "duration": 16,
    "start_time": "2022-02-26T00:18:21.289Z"
   },
   {
    "duration": 23,
    "start_time": "2022-02-26T00:18:22.916Z"
   },
   {
    "duration": 28,
    "start_time": "2022-02-26T00:18:25.122Z"
   },
   {
    "duration": 16,
    "start_time": "2022-02-26T00:18:28.451Z"
   },
   {
    "duration": 5,
    "start_time": "2022-02-26T00:18:32.803Z"
   },
   {
    "duration": 11,
    "start_time": "2022-02-26T00:18:34.834Z"
   },
   {
    "duration": 31,
    "start_time": "2022-02-26T00:18:36.067Z"
   },
   {
    "duration": 5,
    "start_time": "2022-02-26T00:18:38.709Z"
   },
   {
    "duration": 10,
    "start_time": "2022-02-26T00:18:39.863Z"
   },
   {
    "duration": 4,
    "start_time": "2022-02-26T00:18:42.270Z"
   },
   {
    "duration": 5,
    "start_time": "2022-02-26T00:18:44.864Z"
   },
   {
    "duration": 4,
    "start_time": "2022-02-26T00:18:46.574Z"
   },
   {
    "duration": 5,
    "start_time": "2022-02-26T00:18:47.409Z"
   },
   {
    "duration": 7,
    "start_time": "2022-02-26T00:18:49.299Z"
   },
   {
    "duration": 38,
    "start_time": "2022-02-26T00:18:52.724Z"
   },
   {
    "duration": 6,
    "start_time": "2022-02-26T00:18:55.816Z"
   },
   {
    "duration": 6,
    "start_time": "2022-02-26T00:18:57.910Z"
   },
   {
    "duration": 2,
    "start_time": "2022-02-26T00:18:59.540Z"
   },
   {
    "duration": 5,
    "start_time": "2022-02-26T00:19:00.771Z"
   },
   {
    "duration": 4,
    "start_time": "2022-02-26T00:19:02.614Z"
   },
   {
    "duration": 26,
    "start_time": "2022-02-26T00:19:05.106Z"
   },
   {
    "duration": 16,
    "start_time": "2022-02-26T00:19:08.625Z"
   },
   {
    "duration": 19,
    "start_time": "2022-02-26T00:19:09.332Z"
   },
   {
    "duration": 347,
    "start_time": "2022-02-26T00:19:18.067Z"
   },
   {
    "duration": 507,
    "start_time": "2022-02-26T00:20:03.205Z"
   },
   {
    "duration": 40,
    "start_time": "2022-02-26T00:20:33.385Z"
   },
   {
    "duration": 9,
    "start_time": "2022-02-26T00:20:48.895Z"
   },
   {
    "duration": 8334,
    "start_time": "2022-02-26T00:20:51.817Z"
   },
   {
    "duration": 9135,
    "start_time": "2022-02-26T00:23:36.817Z"
   },
   {
    "duration": 6,
    "start_time": "2022-02-26T00:26:20.235Z"
   },
   {
    "duration": 543,
    "start_time": "2022-02-26T00:26:23.498Z"
   },
   {
    "duration": 4,
    "start_time": "2022-02-26T00:28:04.117Z"
   },
   {
    "duration": 532,
    "start_time": "2022-02-26T00:28:08.128Z"
   },
   {
    "duration": 4,
    "start_time": "2022-02-26T00:28:51.072Z"
   },
   {
    "duration": 8283,
    "start_time": "2022-02-26T00:28:52.891Z"
   },
   {
    "duration": 38,
    "start_time": "2022-02-26T00:38:51.548Z"
   },
   {
    "duration": 40,
    "start_time": "2022-02-26T00:40:24.823Z"
   },
   {
    "duration": 32,
    "start_time": "2022-02-26T00:40:38.297Z"
   },
   {
    "duration": 40,
    "start_time": "2022-02-26T00:40:59.371Z"
   },
   {
    "duration": 4,
    "start_time": "2022-02-26T00:47:20.152Z"
   },
   {
    "duration": 7913,
    "start_time": "2022-02-26T00:47:26.403Z"
   },
   {
    "duration": 4,
    "start_time": "2022-02-26T00:48:14.976Z"
   },
   {
    "duration": 617,
    "start_time": "2022-02-26T00:48:17.855Z"
   },
   {
    "duration": 4,
    "start_time": "2022-02-26T00:48:38.204Z"
   },
   {
    "duration": 598,
    "start_time": "2022-02-26T00:48:39.516Z"
   },
   {
    "duration": 4,
    "start_time": "2022-02-26T00:48:48.919Z"
   },
   {
    "duration": 20,
    "start_time": "2022-02-26T00:48:50.580Z"
   },
   {
    "duration": 3,
    "start_time": "2022-02-26T00:49:11.377Z"
   },
   {
    "duration": 21,
    "start_time": "2022-02-26T00:49:12.630Z"
   },
   {
    "duration": 42,
    "start_time": "2022-02-26T00:52:04.277Z"
   },
   {
    "duration": 250,
    "start_time": "2022-02-26T00:52:33.573Z"
   },
   {
    "duration": 238,
    "start_time": "2022-02-26T00:52:49.541Z"
   },
   {
    "duration": 4,
    "start_time": "2022-02-26T00:52:53.365Z"
   },
   {
    "duration": 516,
    "start_time": "2022-02-26T00:52:55.168Z"
   },
   {
    "duration": 7,
    "start_time": "2022-02-26T00:53:24.805Z"
   },
   {
    "duration": 497,
    "start_time": "2022-02-26T00:53:27.531Z"
   },
   {
    "duration": 4,
    "start_time": "2022-02-26T00:53:49.727Z"
   },
   {
    "duration": 21,
    "start_time": "2022-02-26T00:53:51.410Z"
   },
   {
    "duration": 4,
    "start_time": "2022-02-26T00:54:50.641Z"
   },
   {
    "duration": 23,
    "start_time": "2022-02-26T00:54:52.026Z"
   },
   {
    "duration": 4,
    "start_time": "2022-02-26T00:55:57.663Z"
   },
   {
    "duration": 20,
    "start_time": "2022-02-26T00:55:59.465Z"
   },
   {
    "duration": 20,
    "start_time": "2022-02-26T00:56:55.626Z"
   },
   {
    "duration": 22,
    "start_time": "2022-02-26T00:57:13.570Z"
   },
   {
    "duration": 4,
    "start_time": "2022-02-26T00:57:16.616Z"
   },
   {
    "duration": 5,
    "start_time": "2022-02-26T00:57:19.402Z"
   },
   {
    "duration": 22,
    "start_time": "2022-02-26T00:57:21.163Z"
   },
   {
    "duration": 21,
    "start_time": "2022-02-26T00:57:22.899Z"
   },
   {
    "duration": 20,
    "start_time": "2022-02-26T00:57:23.793Z"
   },
   {
    "duration": 5,
    "start_time": "2022-02-26T00:57:33.685Z"
   },
   {
    "duration": 19,
    "start_time": "2022-02-26T00:57:35.217Z"
   },
   {
    "duration": 4,
    "start_time": "2022-02-26T00:57:47.467Z"
   },
   {
    "duration": 21,
    "start_time": "2022-02-26T00:57:48.811Z"
   },
   {
    "duration": 5,
    "start_time": "2022-02-26T00:58:40.228Z"
   },
   {
    "duration": 712,
    "start_time": "2022-02-26T00:58:41.889Z"
   },
   {
    "duration": 5,
    "start_time": "2022-02-26T00:58:52.230Z"
   },
   {
    "duration": 18,
    "start_time": "2022-02-26T00:58:53.695Z"
   },
   {
    "duration": 5,
    "start_time": "2022-02-26T00:59:06.847Z"
   },
   {
    "duration": 17,
    "start_time": "2022-02-26T00:59:08.573Z"
   },
   {
    "duration": 38,
    "start_time": "2022-02-26T01:02:22.140Z"
   },
   {
    "duration": 105,
    "start_time": "2022-02-26T01:04:20.367Z"
   },
   {
    "duration": 5,
    "start_time": "2022-02-26T01:04:28.866Z"
   },
   {
    "duration": 20,
    "start_time": "2022-02-26T01:04:30.426Z"
   },
   {
    "duration": 6,
    "start_time": "2022-02-26T01:05:44.132Z"
   },
   {
    "duration": 19,
    "start_time": "2022-02-26T01:05:45.535Z"
   },
   {
    "duration": 39,
    "start_time": "2022-02-26T01:10:16.005Z"
   },
   {
    "duration": 34,
    "start_time": "2022-02-26T01:10:24.915Z"
   },
   {
    "duration": 91,
    "start_time": "2022-02-26T01:11:52.468Z"
   },
   {
    "duration": 80,
    "start_time": "2022-02-26T01:11:58.919Z"
   },
   {
    "duration": 292,
    "start_time": "2022-02-26T01:12:21.246Z"
   },
   {
    "duration": 268,
    "start_time": "2022-02-26T01:14:19.106Z"
   },
   {
    "duration": 34,
    "start_time": "2022-02-26T01:14:44.502Z"
   },
   {
    "duration": 37,
    "start_time": "2022-02-26T01:14:58.534Z"
   },
   {
    "duration": 34,
    "start_time": "2022-02-26T01:15:09.340Z"
   },
   {
    "duration": 21,
    "start_time": "2022-02-26T01:28:24.810Z"
   },
   {
    "duration": 5,
    "start_time": "2022-02-26T01:28:48.593Z"
   },
   {
    "duration": 34,
    "start_time": "2022-02-26T01:28:50.355Z"
   },
   {
    "duration": 33,
    "start_time": "2022-02-26T01:29:03.849Z"
   },
   {
    "duration": 39,
    "start_time": "2022-02-26T01:29:40.097Z"
   },
   {
    "duration": 31,
    "start_time": "2022-02-26T01:30:20.267Z"
   },
   {
    "duration": 34,
    "start_time": "2022-02-26T01:30:28.441Z"
   },
   {
    "duration": 589,
    "start_time": "2022-02-27T05:17:28.082Z"
   },
   {
    "duration": 9,
    "start_time": "2022-02-27T05:20:12.525Z"
   },
   {
    "duration": 3,
    "start_time": "2022-02-27T05:20:20.441Z"
   },
   {
    "duration": 4,
    "start_time": "2022-02-27T05:20:28.900Z"
   },
   {
    "duration": 5,
    "start_time": "2022-02-27T05:20:39.005Z"
   },
   {
    "duration": 15,
    "start_time": "2022-02-27T05:28:05.725Z"
   },
   {
    "duration": 3,
    "start_time": "2022-02-27T05:28:07.910Z"
   },
   {
    "duration": 12,
    "start_time": "2022-02-27T05:28:08.902Z"
   },
   {
    "duration": 26,
    "start_time": "2022-02-27T05:28:12.227Z"
   },
   {
    "duration": 2,
    "start_time": "2022-02-27T05:28:14.790Z"
   },
   {
    "duration": 269,
    "start_time": "2022-02-27T05:28:15.821Z"
   },
   {
    "duration": 2,
    "start_time": "2022-02-27T05:28:21.270Z"
   },
   {
    "duration": 2,
    "start_time": "2022-02-27T05:28:22.118Z"
   },
   {
    "duration": 4,
    "start_time": "2022-02-27T05:28:24.808Z"
   },
   {
    "duration": 26,
    "start_time": "2022-02-27T05:28:26.438Z"
   },
   {
    "duration": 3,
    "start_time": "2022-02-27T05:28:28.759Z"
   },
   {
    "duration": 8,
    "start_time": "2022-02-27T05:28:30.792Z"
   },
   {
    "duration": 3,
    "start_time": "2022-02-27T05:28:31.853Z"
   },
   {
    "duration": 5,
    "start_time": "2022-02-27T05:28:33.813Z"
   },
   {
    "duration": 4,
    "start_time": "2022-02-27T05:28:35.498Z"
   },
   {
    "duration": 4,
    "start_time": "2022-02-27T05:28:36.564Z"
   },
   {
    "duration": 6,
    "start_time": "2022-02-27T05:28:38.703Z"
   },
   {
    "duration": 36,
    "start_time": "2022-02-27T05:28:40.740Z"
   },
   {
    "duration": 4,
    "start_time": "2022-02-27T05:28:42.845Z"
   },
   {
    "duration": 5,
    "start_time": "2022-02-27T05:28:44.155Z"
   },
   {
    "duration": 4,
    "start_time": "2022-02-27T05:28:46.694Z"
   },
   {
    "duration": 4,
    "start_time": "2022-02-27T05:28:49.089Z"
   },
   {
    "duration": 21,
    "start_time": "2022-02-27T05:28:52.960Z"
   },
   {
    "duration": 14,
    "start_time": "2022-02-27T05:28:56.683Z"
   },
   {
    "duration": 16,
    "start_time": "2022-02-27T05:28:57.494Z"
   },
   {
    "duration": 10,
    "start_time": "2022-02-27T05:28:58.468Z"
   },
   {
    "duration": 15,
    "start_time": "2022-02-27T05:29:04.528Z"
   },
   {
    "duration": 15,
    "start_time": "2022-02-27T05:29:05.343Z"
   },
   {
    "duration": 11,
    "start_time": "2022-02-27T05:29:06.793Z"
   },
   {
    "duration": 11,
    "start_time": "2022-02-27T05:29:15.986Z"
   },
   {
    "duration": 14,
    "start_time": "2022-02-27T05:29:41.546Z"
   },
   {
    "duration": 14,
    "start_time": "2022-02-27T05:29:46.500Z"
   },
   {
    "duration": 14,
    "start_time": "2022-02-27T05:29:47.921Z"
   },
   {
    "duration": 11,
    "start_time": "2022-02-27T05:29:49.305Z"
   },
   {
    "duration": 35,
    "start_time": "2022-02-27T05:30:18.617Z"
   },
   {
    "duration": 13,
    "start_time": "2022-02-27T05:30:20.278Z"
   },
   {
    "duration": 3,
    "start_time": "2022-02-27T05:30:22.385Z"
   },
   {
    "duration": 11,
    "start_time": "2022-02-27T05:30:25.040Z"
   },
   {
    "duration": 21,
    "start_time": "2022-02-27T05:30:26.788Z"
   },
   {
    "duration": 26,
    "start_time": "2022-02-27T05:30:30.556Z"
   },
   {
    "duration": 14,
    "start_time": "2022-02-27T05:30:33.478Z"
   },
   {
    "duration": 4,
    "start_time": "2022-02-27T05:30:37.962Z"
   },
   {
    "duration": 23,
    "start_time": "2022-02-27T05:30:39.923Z"
   },
   {
    "duration": 4,
    "start_time": "2022-02-27T05:30:42.934Z"
   },
   {
    "duration": 9,
    "start_time": "2022-02-27T05:30:44.641Z"
   },
   {
    "duration": 3,
    "start_time": "2022-02-27T05:30:45.809Z"
   },
   {
    "duration": 5,
    "start_time": "2022-02-27T05:30:47.489Z"
   },
   {
    "duration": 4,
    "start_time": "2022-02-27T05:30:49.253Z"
   },
   {
    "duration": 5,
    "start_time": "2022-02-27T05:30:50.011Z"
   },
   {
    "duration": 5,
    "start_time": "2022-02-27T05:30:51.778Z"
   },
   {
    "duration": 35,
    "start_time": "2022-02-27T05:30:54.020Z"
   },
   {
    "duration": 4,
    "start_time": "2022-02-27T05:31:04.500Z"
   },
   {
    "duration": 4,
    "start_time": "2022-02-27T05:31:06.752Z"
   },
   {
    "duration": 5,
    "start_time": "2022-02-27T05:31:09.708Z"
   },
   {
    "duration": 4,
    "start_time": "2022-02-27T05:31:12.785Z"
   },
   {
    "duration": 20,
    "start_time": "2022-02-27T05:31:14.827Z"
   },
   {
    "duration": 14,
    "start_time": "2022-02-27T05:31:19.968Z"
   },
   {
    "duration": 15,
    "start_time": "2022-02-27T05:31:21.001Z"
   },
   {
    "duration": 11,
    "start_time": "2022-02-27T05:31:22.285Z"
   },
   {
    "duration": 44,
    "start_time": "2022-02-27T05:31:29.105Z"
   },
   {
    "duration": 22,
    "start_time": "2022-02-27T05:31:32.987Z"
   },
   {
    "duration": 8,
    "start_time": "2022-02-27T05:33:33.387Z"
   },
   {
    "duration": 4,
    "start_time": "2022-02-27T05:33:55.951Z"
   },
   {
    "duration": 9,
    "start_time": "2022-02-27T05:33:57.422Z"
   },
   {
    "duration": 34,
    "start_time": "2022-02-27T05:33:58.668Z"
   },
   {
    "duration": 8,
    "start_time": "2022-02-27T05:34:06.789Z"
   },
   {
    "duration": 4,
    "start_time": "2022-02-27T05:34:08.279Z"
   },
   {
    "duration": 4,
    "start_time": "2022-02-27T05:34:11.257Z"
   },
   {
    "duration": 6,
    "start_time": "2022-02-27T05:34:12.566Z"
   },
   {
    "duration": 34,
    "start_time": "2022-02-27T05:34:16.004Z"
   },
   {
    "duration": 4,
    "start_time": "2022-02-27T05:34:19.052Z"
   },
   {
    "duration": 5,
    "start_time": "2022-02-27T05:34:21.291Z"
   },
   {
    "duration": 6,
    "start_time": "2022-02-27T05:34:23.856Z"
   },
   {
    "duration": 4,
    "start_time": "2022-02-27T05:34:26.393Z"
   },
   {
    "duration": 27,
    "start_time": "2022-02-27T05:34:28.666Z"
   },
   {
    "duration": 14,
    "start_time": "2022-02-27T05:34:32.311Z"
   },
   {
    "duration": 24,
    "start_time": "2022-02-27T05:34:33.465Z"
   },
   {
    "duration": 11,
    "start_time": "2022-02-27T05:34:35.832Z"
   },
   {
    "duration": 49,
    "start_time": "2022-02-27T05:34:43.743Z"
   },
   {
    "duration": 9,
    "start_time": "2022-02-27T05:34:47.249Z"
   },
   {
    "duration": 249,
    "start_time": "2022-02-27T05:36:21.427Z"
   },
   {
    "duration": 10,
    "start_time": "2022-02-27T05:36:31.097Z"
   },
   {
    "duration": 9,
    "start_time": "2022-02-27T05:43:55.063Z"
   },
   {
    "duration": 9,
    "start_time": "2022-02-27T05:44:16.516Z"
   },
   {
    "duration": 189,
    "start_time": "2022-02-27T05:45:31.280Z"
   },
   {
    "duration": 9,
    "start_time": "2022-02-27T05:45:41.540Z"
   },
   {
    "duration": 67,
    "start_time": "2022-02-27T05:50:11.977Z"
   },
   {
    "duration": 61,
    "start_time": "2022-02-27T05:50:27.327Z"
   },
   {
    "duration": 73,
    "start_time": "2022-02-27T05:51:01.546Z"
   },
   {
    "duration": 63,
    "start_time": "2022-02-27T05:51:02.281Z"
   },
   {
    "duration": 57,
    "start_time": "2022-02-27T05:52:11.399Z"
   },
   {
    "duration": 100,
    "start_time": "2022-02-27T05:52:20.262Z"
   },
   {
    "duration": 62,
    "start_time": "2022-02-27T05:52:36.645Z"
   },
   {
    "duration": 11,
    "start_time": "2022-02-27T05:53:05.496Z"
   },
   {
    "duration": 11,
    "start_time": "2022-02-27T05:54:22.394Z"
   },
   {
    "duration": 16,
    "start_time": "2022-02-27T05:56:41.965Z"
   },
   {
    "duration": 18,
    "start_time": "2022-02-27T05:57:02.343Z"
   },
   {
    "duration": 23,
    "start_time": "2022-02-27T05:57:10.698Z"
   },
   {
    "duration": 23,
    "start_time": "2022-02-27T06:03:55.361Z"
   },
   {
    "duration": 248,
    "start_time": "2022-02-27T06:10:14.834Z"
   },
   {
    "duration": 24,
    "start_time": "2022-02-27T06:10:37.835Z"
   },
   {
    "duration": 23,
    "start_time": "2022-02-27T06:13:20.553Z"
   },
   {
    "duration": 23,
    "start_time": "2022-02-27T06:16:03.060Z"
   },
   {
    "duration": 22,
    "start_time": "2022-02-27T06:17:51.227Z"
   },
   {
    "duration": 468,
    "start_time": "2022-02-27T06:21:57.010Z"
   },
   {
    "duration": 61,
    "start_time": "2022-02-27T06:24:59.176Z"
   },
   {
    "duration": 4872,
    "start_time": "2022-02-27T06:25:19.305Z"
   },
   {
    "duration": 26,
    "start_time": "2022-02-27T06:26:34.439Z"
   },
   {
    "duration": 10,
    "start_time": "2022-02-27T06:27:20.846Z"
   },
   {
    "duration": 24,
    "start_time": "2022-02-27T06:38:22.335Z"
   },
   {
    "duration": 25,
    "start_time": "2022-02-27T06:40:46.686Z"
   },
   {
    "duration": 67,
    "start_time": "2022-02-27T06:47:31.170Z"
   },
   {
    "duration": 1277,
    "start_time": "2022-02-27T06:47:39.716Z"
   },
   {
    "duration": 174,
    "start_time": "2022-02-27T06:48:21.421Z"
   },
   {
    "duration": 2393,
    "start_time": "2022-02-27T06:48:38.435Z"
   },
   {
    "duration": 12,
    "start_time": "2022-02-27T06:49:17.747Z"
   },
   {
    "duration": 6,
    "start_time": "2022-02-27T06:49:52.238Z"
   },
   {
    "duration": 6,
    "start_time": "2022-02-27T06:50:16.714Z"
   },
   {
    "duration": 7,
    "start_time": "2022-02-27T07:02:55.932Z"
   },
   {
    "duration": 7,
    "start_time": "2022-02-27T07:03:05.564Z"
   },
   {
    "duration": 5,
    "start_time": "2022-02-27T07:03:29.971Z"
   },
   {
    "duration": 204,
    "start_time": "2022-02-27T07:03:48.362Z"
   },
   {
    "duration": 230,
    "start_time": "2022-02-27T07:04:16.429Z"
   },
   {
    "duration": 6,
    "start_time": "2022-02-27T07:04:57.331Z"
   },
   {
    "duration": 208,
    "start_time": "2022-02-27T07:05:13.701Z"
   },
   {
    "duration": 5,
    "start_time": "2022-02-27T07:05:23.455Z"
   },
   {
    "duration": 7,
    "start_time": "2022-02-27T07:05:26.245Z"
   },
   {
    "duration": 196,
    "start_time": "2022-02-27T07:15:45.333Z"
   },
   {
    "duration": 6,
    "start_time": "2022-02-27T07:15:53.654Z"
   },
   {
    "duration": 196,
    "start_time": "2022-02-27T07:22:28.335Z"
   },
   {
    "duration": 7,
    "start_time": "2022-02-27T07:22:35.707Z"
   },
   {
    "duration": 6,
    "start_time": "2022-02-27T07:29:53.249Z"
   },
   {
    "duration": 67,
    "start_time": "2022-02-27T07:30:21.619Z"
   },
   {
    "duration": 4,
    "start_time": "2022-02-27T07:30:30.477Z"
   },
   {
    "duration": 4,
    "start_time": "2022-02-27T07:30:35.883Z"
   },
   {
    "duration": 4,
    "start_time": "2022-02-27T07:30:41.742Z"
   },
   {
    "duration": 3,
    "start_time": "2022-02-27T07:30:45.906Z"
   },
   {
    "duration": 4,
    "start_time": "2022-02-27T07:34:30.840Z"
   },
   {
    "duration": 5,
    "start_time": "2022-02-27T07:35:13.776Z"
   },
   {
    "duration": 4,
    "start_time": "2022-02-27T07:35:23.664Z"
   },
   {
    "duration": 6,
    "start_time": "2022-02-27T07:37:20.954Z"
   },
   {
    "duration": 5,
    "start_time": "2022-02-27T07:37:27.512Z"
   },
   {
    "duration": 5,
    "start_time": "2022-02-27T07:37:29.964Z"
   },
   {
    "duration": 14,
    "start_time": "2022-02-27T07:37:34.897Z"
   },
   {
    "duration": 15,
    "start_time": "2022-02-27T07:37:36.909Z"
   },
   {
    "duration": 14,
    "start_time": "2022-02-27T07:37:45.841Z"
   },
   {
    "duration": 15,
    "start_time": "2022-02-27T07:37:47.105Z"
   },
   {
    "duration": 11,
    "start_time": "2022-02-27T07:37:49.970Z"
   },
   {
    "duration": 15,
    "start_time": "2022-02-27T07:38:00.297Z"
   },
   {
    "duration": 11,
    "start_time": "2022-02-27T07:38:09.891Z"
   },
   {
    "duration": 4,
    "start_time": "2022-02-27T07:38:25.333Z"
   },
   {
    "duration": -344,
    "start_time": "2022-02-27T07:38:44.536Z"
   },
   {
    "duration": 4,
    "start_time": "2022-02-27T07:42:07.315Z"
   },
   {
    "duration": 394,
    "start_time": "2022-02-27T07:42:10.186Z"
   },
   {
    "duration": 1545,
    "start_time": "2022-02-27T07:42:59.123Z"
   },
   {
    "duration": 4,
    "start_time": "2022-02-27T07:43:32.535Z"
   },
   {
    "duration": 3,
    "start_time": "2022-02-27T07:43:37.453Z"
   },
   {
    "duration": 4,
    "start_time": "2022-02-27T07:48:40.520Z"
   },
   {
    "duration": 370,
    "start_time": "2022-02-27T07:48:43.848Z"
   },
   {
    "duration": 4,
    "start_time": "2022-02-27T07:49:00.966Z"
   },
   {
    "duration": 3,
    "start_time": "2022-02-27T07:49:02.961Z"
   },
   {
    "duration": 970,
    "start_time": "2022-02-27T07:49:29.148Z"
   },
   {
    "duration": 4,
    "start_time": "2022-02-27T07:52:32.205Z"
   },
   {
    "duration": 440,
    "start_time": "2022-02-27T07:52:55.342Z"
   },
   {
    "duration": 380,
    "start_time": "2022-02-27T07:54:25.482Z"
   },
   {
    "duration": 5322,
    "start_time": "2022-02-27T07:54:38.068Z"
   },
   {
    "duration": 3,
    "start_time": "2022-02-27T07:58:38.755Z"
   },
   {
    "duration": 4,
    "start_time": "2022-02-27T08:00:46.525Z"
   },
   {
    "duration": 214,
    "start_time": "2022-02-27T08:00:49.544Z"
   },
   {
    "duration": 13,
    "start_time": "2022-02-27T08:01:03.682Z"
   },
   {
    "duration": 370,
    "start_time": "2022-02-27T08:01:45.298Z"
   },
   {
    "duration": 2,
    "start_time": "2022-02-27T08:02:27.422Z"
   },
   {
    "duration": 5,
    "start_time": "2022-02-27T08:04:15.135Z"
   },
   {
    "duration": 4,
    "start_time": "2022-02-27T08:04:27.091Z"
   },
   {
    "duration": 4,
    "start_time": "2022-02-27T08:06:34.624Z"
   },
   {
    "duration": 6,
    "start_time": "2022-02-27T08:06:49.277Z"
   },
   {
    "duration": 24,
    "start_time": "2022-02-27T08:07:03.455Z"
   },
   {
    "duration": 28,
    "start_time": "2022-02-27T08:07:11.594Z"
   },
   {
    "duration": 8,
    "start_time": "2022-02-27T08:09:01.151Z"
   },
   {
    "duration": 7,
    "start_time": "2022-02-27T08:09:18.958Z"
   },
   {
    "duration": 186,
    "start_time": "2022-02-27T08:11:56.589Z"
   },
   {
    "duration": 7,
    "start_time": "2022-02-27T08:13:04.515Z"
   },
   {
    "duration": 7,
    "start_time": "2022-02-27T08:13:35.242Z"
   },
   {
    "duration": 8,
    "start_time": "2022-02-27T08:14:25.246Z"
   },
   {
    "duration": 7,
    "start_time": "2022-02-27T08:14:45.144Z"
   },
   {
    "duration": 7,
    "start_time": "2022-02-27T08:14:56.806Z"
   },
   {
    "duration": 67,
    "start_time": "2022-02-27T08:17:32.421Z"
   },
   {
    "duration": 14,
    "start_time": "2022-02-27T08:17:37.629Z"
   },
   {
    "duration": 15,
    "start_time": "2022-02-27T08:18:18.405Z"
   },
   {
    "duration": 13,
    "start_time": "2022-02-27T08:18:53.004Z"
   },
   {
    "duration": 348,
    "start_time": "2022-02-27T08:22:38.049Z"
   },
   {
    "duration": 258,
    "start_time": "2022-02-27T08:22:50.047Z"
   },
   {
    "duration": 14,
    "start_time": "2022-02-27T08:22:56.616Z"
   },
   {
    "duration": 84,
    "start_time": "2022-02-27T08:56:37.022Z"
   },
   {
    "duration": 4,
    "start_time": "2022-02-27T08:56:50.402Z"
   },
   {
    "duration": 351,
    "start_time": "2022-02-27T08:58:19.712Z"
   },
   {
    "duration": 364,
    "start_time": "2022-02-27T08:58:34.751Z"
   },
   {
    "duration": 352,
    "start_time": "2022-02-27T09:00:00.771Z"
   },
   {
    "duration": 4,
    "start_time": "2022-02-27T09:00:32.881Z"
   },
   {
    "duration": 363,
    "start_time": "2022-02-27T09:00:34.817Z"
   },
   {
    "duration": 360,
    "start_time": "2022-02-27T09:00:46.485Z"
   },
   {
    "duration": 4,
    "start_time": "2022-02-27T09:01:49.596Z"
   },
   {
    "duration": 359,
    "start_time": "2022-02-27T09:01:50.928Z"
   },
   {
    "duration": 4,
    "start_time": "2022-02-27T09:01:56.898Z"
   },
   {
    "duration": 358,
    "start_time": "2022-02-27T09:01:58.127Z"
   },
   {
    "duration": 5,
    "start_time": "2022-02-27T09:02:26.112Z"
   },
   {
    "duration": 360,
    "start_time": "2022-02-27T09:02:27.754Z"
   },
   {
    "duration": 4,
    "start_time": "2022-02-27T09:02:47.070Z"
   },
   {
    "duration": 384,
    "start_time": "2022-02-27T09:02:50.393Z"
   },
   {
    "duration": 369,
    "start_time": "2022-02-27T09:03:00.838Z"
   },
   {
    "duration": 4,
    "start_time": "2022-02-27T09:03:31.937Z"
   },
   {
    "duration": 383,
    "start_time": "2022-02-27T09:03:33.651Z"
   },
   {
    "duration": 4,
    "start_time": "2022-02-27T09:03:42.909Z"
   },
   {
    "duration": 409,
    "start_time": "2022-02-27T09:03:44.137Z"
   },
   {
    "duration": 4,
    "start_time": "2022-02-27T09:04:43.823Z"
   },
   {
    "duration": 355,
    "start_time": "2022-02-27T09:04:46.259Z"
   },
   {
    "duration": 4,
    "start_time": "2022-02-27T09:04:58.496Z"
   },
   {
    "duration": 593,
    "start_time": "2022-02-27T09:04:59.962Z"
   },
   {
    "duration": 4,
    "start_time": "2022-02-27T09:06:17.404Z"
   },
   {
    "duration": 469,
    "start_time": "2022-02-27T09:06:19.370Z"
   },
   {
    "duration": 9,
    "start_time": "2022-02-27T09:09:29.458Z"
   },
   {
    "duration": 359,
    "start_time": "2022-02-27T09:09:30.828Z"
   },
   {
    "duration": 40,
    "start_time": "2022-02-27T09:12:22.226Z"
   },
   {
    "duration": 5,
    "start_time": "2022-02-27T09:13:06.473Z"
   },
   {
    "duration": 452,
    "start_time": "2022-02-27T09:13:07.897Z"
   },
   {
    "duration": 4,
    "start_time": "2022-02-27T09:16:11.540Z"
   },
   {
    "duration": 367,
    "start_time": "2022-02-27T09:16:13.516Z"
   },
   {
    "duration": 372,
    "start_time": "2022-02-27T09:18:25.943Z"
   },
   {
    "duration": 27,
    "start_time": "2022-02-27T09:19:32.822Z"
   },
   {
    "duration": 11,
    "start_time": "2022-02-27T09:19:40.293Z"
   },
   {
    "duration": 5,
    "start_time": "2022-02-27T09:19:47.727Z"
   },
   {
    "duration": 4,
    "start_time": "2022-02-27T09:19:49.276Z"
   },
   {
    "duration": 5,
    "start_time": "2022-02-27T09:19:50.266Z"
   },
   {
    "duration": 380,
    "start_time": "2022-02-27T09:20:06.263Z"
   },
   {
    "duration": 339,
    "start_time": "2022-02-27T09:21:29.576Z"
   },
   {
    "duration": 3866,
    "start_time": "2022-02-27T09:21:45.687Z"
   },
   {
    "duration": 400,
    "start_time": "2022-02-27T09:22:06.416Z"
   },
   {
    "duration": 343,
    "start_time": "2022-02-27T09:22:30.976Z"
   },
   {
    "duration": 330,
    "start_time": "2022-02-27T09:22:51.934Z"
   },
   {
    "duration": 363,
    "start_time": "2022-02-27T09:23:52.414Z"
   },
   {
    "duration": 411,
    "start_time": "2022-02-27T09:23:58.220Z"
   },
   {
    "duration": 376,
    "start_time": "2022-02-27T09:24:18.306Z"
   },
   {
    "duration": 38,
    "start_time": "2022-02-27T09:26:01.685Z"
   },
   {
    "duration": 14,
    "start_time": "2022-02-27T09:26:04.140Z"
   },
   {
    "duration": 4,
    "start_time": "2022-02-27T09:26:12.235Z"
   },
   {
    "duration": 11,
    "start_time": "2022-02-27T09:26:13.342Z"
   },
   {
    "duration": 21,
    "start_time": "2022-02-27T09:26:15.116Z"
   },
   {
    "duration": 26,
    "start_time": "2022-02-27T09:26:17.573Z"
   },
   {
    "duration": 15,
    "start_time": "2022-02-27T09:26:24.412Z"
   },
   {
    "duration": 4,
    "start_time": "2022-02-27T09:26:27.700Z"
   },
   {
    "duration": 9,
    "start_time": "2022-02-27T09:26:29.982Z"
   },
   {
    "duration": 26,
    "start_time": "2022-02-27T09:26:31.177Z"
   },
   {
    "duration": 3,
    "start_time": "2022-02-27T09:26:34.088Z"
   },
   {
    "duration": 8,
    "start_time": "2022-02-27T09:26:35.307Z"
   },
   {
    "duration": 4,
    "start_time": "2022-02-27T09:26:37.153Z"
   },
   {
    "duration": 4,
    "start_time": "2022-02-27T09:26:39.294Z"
   },
   {
    "duration": 4,
    "start_time": "2022-02-27T09:26:41.256Z"
   },
   {
    "duration": 5,
    "start_time": "2022-02-27T09:26:42.683Z"
   },
   {
    "duration": 5,
    "start_time": "2022-02-27T09:26:44.799Z"
   },
   {
    "duration": 34,
    "start_time": "2022-02-27T09:26:47.705Z"
   },
   {
    "duration": 5,
    "start_time": "2022-02-27T09:26:50.005Z"
   },
   {
    "duration": 4,
    "start_time": "2022-02-27T09:26:51.545Z"
   },
   {
    "duration": 5,
    "start_time": "2022-02-27T09:26:53.471Z"
   },
   {
    "duration": 5,
    "start_time": "2022-02-27T09:26:54.515Z"
   },
   {
    "duration": 4,
    "start_time": "2022-02-27T09:26:56.502Z"
   },
   {
    "duration": 2,
    "start_time": "2022-02-27T09:26:58.067Z"
   },
   {
    "duration": 3,
    "start_time": "2022-02-27T09:26:59.108Z"
   },
   {
    "duration": 5,
    "start_time": "2022-02-27T09:27:00.633Z"
   },
   {
    "duration": 5,
    "start_time": "2022-02-27T09:27:02.488Z"
   },
   {
    "duration": 5,
    "start_time": "2022-02-27T09:27:04.388Z"
   },
   {
    "duration": 25,
    "start_time": "2022-02-27T09:27:05.942Z"
   },
   {
    "duration": 15,
    "start_time": "2022-02-27T09:27:09.469Z"
   },
   {
    "duration": 16,
    "start_time": "2022-02-27T09:27:10.775Z"
   },
   {
    "duration": 12,
    "start_time": "2022-02-27T09:27:16.496Z"
   },
   {
    "duration": 72,
    "start_time": "2022-02-27T09:27:23.562Z"
   },
   {
    "duration": 5,
    "start_time": "2022-02-27T09:27:26.928Z"
   },
   {
    "duration": 233,
    "start_time": "2022-02-27T09:27:30.538Z"
   },
   {
    "duration": 13,
    "start_time": "2022-02-27T09:27:33.363Z"
   },
   {
    "duration": 28,
    "start_time": "2022-02-27T09:27:41.593Z"
   },
   {
    "duration": 14,
    "start_time": "2022-02-27T09:27:44.927Z"
   },
   {
    "duration": 13,
    "start_time": "2022-02-27T09:27:47.251Z"
   },
   {
    "duration": 13,
    "start_time": "2022-02-27T09:27:49.059Z"
   },
   {
    "duration": 4,
    "start_time": "2022-02-27T09:27:50.883Z"
   },
   {
    "duration": 357,
    "start_time": "2022-02-27T09:27:53.073Z"
   },
   {
    "duration": 348,
    "start_time": "2022-02-27T09:28:44.738Z"
   },
   {
    "duration": 346,
    "start_time": "2022-02-27T09:28:58.783Z"
   },
   {
    "duration": 11,
    "start_time": "2022-02-27T09:29:44.940Z"
   },
   {
    "duration": 348,
    "start_time": "2022-02-27T09:34:42.724Z"
   },
   {
    "duration": 61,
    "start_time": "2022-02-27T09:43:48.310Z"
   },
   {
    "duration": 24,
    "start_time": "2022-02-27T09:43:57.465Z"
   },
   {
    "duration": 16,
    "start_time": "2022-02-27T09:46:36.319Z"
   },
   {
    "duration": 18,
    "start_time": "2022-02-27T09:46:46.325Z"
   },
   {
    "duration": 15,
    "start_time": "2022-02-27T09:47:07.123Z"
   },
   {
    "duration": 17,
    "start_time": "2022-02-27T09:47:53.124Z"
   },
   {
    "duration": 18,
    "start_time": "2022-02-27T09:48:14.724Z"
   },
   {
    "duration": 22,
    "start_time": "2022-02-27T09:48:20.662Z"
   },
   {
    "duration": 49,
    "start_time": "2022-02-27T09:49:14.548Z"
   },
   {
    "duration": 23,
    "start_time": "2022-02-27T09:50:35.809Z"
   },
   {
    "duration": 27,
    "start_time": "2022-02-27T09:50:50.148Z"
   },
   {
    "duration": 21,
    "start_time": "2022-02-27T09:51:22.558Z"
   },
   {
    "duration": 1426,
    "start_time": "2022-02-27T09:52:09.690Z"
   },
   {
    "duration": 22,
    "start_time": "2022-02-27T09:52:29.955Z"
   },
   {
    "duration": 24,
    "start_time": "2022-02-27T09:56:04.296Z"
   },
   {
    "duration": 234,
    "start_time": "2022-02-27T09:57:21.331Z"
   },
   {
    "duration": 219,
    "start_time": "2022-02-27T09:58:11.704Z"
   },
   {
    "duration": 19,
    "start_time": "2022-02-27T09:59:01.124Z"
   },
   {
    "duration": 28,
    "start_time": "2022-02-27T09:59:15.712Z"
   },
   {
    "duration": 1266,
    "start_time": "2022-02-27T09:59:48.380Z"
   },
   {
    "duration": 27,
    "start_time": "2022-02-27T10:00:05.480Z"
   },
   {
    "duration": 22,
    "start_time": "2022-02-27T10:00:59.827Z"
   },
   {
    "duration": 29,
    "start_time": "2022-02-27T10:01:11.136Z"
   },
   {
    "duration": 20,
    "start_time": "2022-02-27T10:01:31.021Z"
   },
   {
    "duration": 75,
    "start_time": "2022-02-27T10:02:03.882Z"
   },
   {
    "duration": 27,
    "start_time": "2022-02-27T10:02:29.437Z"
   },
   {
    "duration": 19,
    "start_time": "2022-02-27T10:05:34.802Z"
   },
   {
    "duration": 15,
    "start_time": "2022-02-27T10:05:39.487Z"
   },
   {
    "duration": 18,
    "start_time": "2022-02-27T10:06:49.375Z"
   },
   {
    "duration": 19,
    "start_time": "2022-02-27T10:07:02.183Z"
   },
   {
    "duration": 22,
    "start_time": "2022-02-27T10:07:07.397Z"
   },
   {
    "duration": 21,
    "start_time": "2022-02-27T10:08:41.394Z"
   },
   {
    "duration": 19,
    "start_time": "2022-02-27T10:08:53.261Z"
   },
   {
    "duration": 22,
    "start_time": "2022-02-27T10:09:03.746Z"
   },
   {
    "duration": 21,
    "start_time": "2022-02-27T10:21:19.881Z"
   },
   {
    "duration": 3,
    "start_time": "2022-02-27T10:22:58.232Z"
   },
   {
    "duration": 373,
    "start_time": "2022-02-27T10:22:59.457Z"
   },
   {
    "duration": 3,
    "start_time": "2022-02-27T10:23:34.184Z"
   },
   {
    "duration": 428,
    "start_time": "2022-02-27T10:23:35.070Z"
   },
   {
    "duration": 411,
    "start_time": "2022-02-27T10:24:16.433Z"
   },
   {
    "duration": 381,
    "start_time": "2022-02-27T10:24:38.065Z"
   },
   {
    "duration": 398,
    "start_time": "2022-02-27T10:25:23.922Z"
   },
   {
    "duration": 38,
    "start_time": "2022-02-27T10:25:52.479Z"
   },
   {
    "duration": 14,
    "start_time": "2022-02-27T10:25:54.869Z"
   },
   {
    "duration": 3,
    "start_time": "2022-02-27T10:25:56.626Z"
   },
   {
    "duration": 11,
    "start_time": "2022-02-27T10:25:57.615Z"
   },
   {
    "duration": 20,
    "start_time": "2022-02-27T10:25:59.407Z"
   },
   {
    "duration": 29,
    "start_time": "2022-02-27T10:26:01.759Z"
   },
   {
    "duration": 16,
    "start_time": "2022-02-27T10:26:05.369Z"
   },
   {
    "duration": 4,
    "start_time": "2022-02-27T10:26:09.090Z"
   },
   {
    "duration": 10,
    "start_time": "2022-02-27T10:26:10.903Z"
   },
   {
    "duration": 32,
    "start_time": "2022-02-27T10:26:11.851Z"
   },
   {
    "duration": 3,
    "start_time": "2022-02-27T10:26:14.523Z"
   },
   {
    "duration": 8,
    "start_time": "2022-02-27T10:26:16.125Z"
   },
   {
    "duration": 4,
    "start_time": "2022-02-27T10:26:17.052Z"
   },
   {
    "duration": 5,
    "start_time": "2022-02-27T10:26:18.468Z"
   },
   {
    "duration": 4,
    "start_time": "2022-02-27T10:26:19.855Z"
   },
   {
    "duration": 5,
    "start_time": "2022-02-27T10:26:20.542Z"
   },
   {
    "duration": 5,
    "start_time": "2022-02-27T10:26:22.075Z"
   },
   {
    "duration": 36,
    "start_time": "2022-02-27T10:26:25.367Z"
   },
   {
    "duration": 4,
    "start_time": "2022-02-27T10:26:27.214Z"
   },
   {
    "duration": 5,
    "start_time": "2022-02-27T10:26:28.373Z"
   },
   {
    "duration": 6,
    "start_time": "2022-02-27T10:26:29.585Z"
   },
   {
    "duration": 5,
    "start_time": "2022-02-27T10:26:31.400Z"
   },
   {
    "duration": 5,
    "start_time": "2022-02-27T10:26:32.484Z"
   },
   {
    "duration": 2,
    "start_time": "2022-02-27T10:26:34.174Z"
   },
   {
    "duration": 2,
    "start_time": "2022-02-27T10:26:34.916Z"
   },
   {
    "duration": 5,
    "start_time": "2022-02-27T10:26:36.549Z"
   },
   {
    "duration": 4,
    "start_time": "2022-02-27T10:26:37.473Z"
   },
   {
    "duration": 5,
    "start_time": "2022-02-27T10:26:38.395Z"
   },
   {
    "duration": 22,
    "start_time": "2022-02-27T10:26:40.115Z"
   },
   {
    "duration": 16,
    "start_time": "2022-02-27T10:26:42.900Z"
   },
   {
    "duration": 18,
    "start_time": "2022-02-27T10:26:43.705Z"
   },
   {
    "duration": 12,
    "start_time": "2022-02-27T10:26:44.824Z"
   },
   {
    "duration": 64,
    "start_time": "2022-02-27T10:26:46.688Z"
   },
   {
    "duration": 5,
    "start_time": "2022-02-27T10:26:48.724Z"
   },
   {
    "duration": 3,
    "start_time": "2022-02-27T10:26:51.814Z"
   },
   {
    "duration": 247,
    "start_time": "2022-02-27T10:26:52.542Z"
   },
   {
    "duration": 13,
    "start_time": "2022-02-27T10:26:53.334Z"
   },
   {
    "duration": 29,
    "start_time": "2022-02-27T10:26:55.208Z"
   },
   {
    "duration": 14,
    "start_time": "2022-02-27T10:26:57.242Z"
   },
   {
    "duration": 13,
    "start_time": "2022-02-27T10:26:59.126Z"
   },
   {
    "duration": 16,
    "start_time": "2022-02-27T10:27:00.858Z"
   },
   {
    "duration": 4,
    "start_time": "2022-02-27T10:27:02.788Z"
   },
   {
    "duration": 389,
    "start_time": "2022-02-27T10:27:05.136Z"
   },
   {
    "duration": 12,
    "start_time": "2022-02-27T10:27:08.629Z"
   },
   {
    "duration": 20,
    "start_time": "2022-02-27T10:27:10.796Z"
   },
   {
    "duration": 3,
    "start_time": "2022-02-27T10:27:12.937Z"
   },
   {
    "duration": 408,
    "start_time": "2022-02-27T10:27:15.914Z"
   },
   {
    "duration": 4,
    "start_time": "2022-02-27T10:27:19.865Z"
   },
   {
    "duration": 388,
    "start_time": "2022-02-27T10:27:21.144Z"
   },
   {
    "duration": 613,
    "start_time": "2022-02-28T02:55:37.733Z"
   },
   {
    "duration": 19,
    "start_time": "2022-02-28T02:55:38.717Z"
   },
   {
    "duration": 3,
    "start_time": "2022-02-28T02:55:38.905Z"
   },
   {
    "duration": 11,
    "start_time": "2022-02-28T02:55:39.262Z"
   },
   {
    "duration": 20,
    "start_time": "2022-02-28T02:55:39.628Z"
   },
   {
    "duration": 26,
    "start_time": "2022-02-28T02:55:39.976Z"
   },
   {
    "duration": 2,
    "start_time": "2022-02-28T02:55:40.308Z"
   },
   {
    "duration": 15,
    "start_time": "2022-02-28T02:55:40.504Z"
   },
   {
    "duration": 2,
    "start_time": "2022-02-28T02:55:40.860Z"
   },
   {
    "duration": 3,
    "start_time": "2022-02-28T02:55:41.245Z"
   },
   {
    "duration": 3,
    "start_time": "2022-02-28T02:55:41.625Z"
   },
   {
    "duration": 4,
    "start_time": "2022-02-28T02:55:42.170Z"
   },
   {
    "duration": 10,
    "start_time": "2022-02-28T02:55:42.364Z"
   },
   {
    "duration": 25,
    "start_time": "2022-02-28T02:55:42.541Z"
   },
   {
    "duration": 3,
    "start_time": "2022-02-28T02:55:42.921Z"
   },
   {
    "duration": 8,
    "start_time": "2022-02-28T02:55:43.290Z"
   },
   {
    "duration": 4,
    "start_time": "2022-02-28T02:55:43.493Z"
   },
   {
    "duration": 4,
    "start_time": "2022-02-28T02:55:43.857Z"
   },
   {
    "duration": 4,
    "start_time": "2022-02-28T02:55:44.219Z"
   },
   {
    "duration": 5,
    "start_time": "2022-02-28T02:55:44.421Z"
   },
   {
    "duration": 6,
    "start_time": "2022-02-28T02:55:44.742Z"
   },
   {
    "duration": 33,
    "start_time": "2022-02-28T02:55:45.131Z"
   },
   {
    "duration": 5,
    "start_time": "2022-02-28T02:55:45.361Z"
   },
   {
    "duration": 4,
    "start_time": "2022-02-28T02:55:45.668Z"
   },
   {
    "duration": 5,
    "start_time": "2022-02-28T02:55:45.844Z"
   },
   {
    "duration": 6,
    "start_time": "2022-02-28T02:55:46.024Z"
   },
   {
    "duration": 4,
    "start_time": "2022-02-28T02:55:46.429Z"
   },
   {
    "duration": 2,
    "start_time": "2022-02-28T02:55:46.643Z"
   },
   {
    "duration": 2,
    "start_time": "2022-02-28T02:55:46.791Z"
   },
   {
    "duration": 4,
    "start_time": "2022-02-28T02:55:47.167Z"
   },
   {
    "duration": 5,
    "start_time": "2022-02-28T02:55:47.381Z"
   },
   {
    "duration": 5,
    "start_time": "2022-02-28T02:55:47.559Z"
   },
   {
    "duration": 23,
    "start_time": "2022-02-28T02:55:47.937Z"
   },
   {
    "duration": 16,
    "start_time": "2022-02-28T02:55:48.132Z"
   },
   {
    "duration": 18,
    "start_time": "2022-02-28T02:55:48.331Z"
   },
   {
    "duration": 11,
    "start_time": "2022-02-28T02:55:48.559Z"
   },
   {
    "duration": 58,
    "start_time": "2022-02-28T02:55:49.258Z"
   },
   {
    "duration": 4,
    "start_time": "2022-02-28T02:55:49.845Z"
   },
   {
    "duration": 3,
    "start_time": "2022-02-28T02:55:50.057Z"
   },
   {
    "duration": 210,
    "start_time": "2022-02-28T02:55:50.266Z"
   },
   {
    "duration": 12,
    "start_time": "2022-02-28T02:55:50.478Z"
   },
   {
    "duration": 28,
    "start_time": "2022-02-28T02:55:51.112Z"
   },
   {
    "duration": 15,
    "start_time": "2022-02-28T02:55:51.314Z"
   },
   {
    "duration": 14,
    "start_time": "2022-02-28T02:55:51.723Z"
   },
   {
    "duration": 13,
    "start_time": "2022-02-28T02:55:51.958Z"
   },
   {
    "duration": 4,
    "start_time": "2022-02-28T02:55:52.568Z"
   },
   {
    "duration": 342,
    "start_time": "2022-02-28T02:55:52.799Z"
   },
   {
    "duration": 3,
    "start_time": "2022-02-28T02:55:53.142Z"
   },
   {
    "duration": 2,
    "start_time": "2022-02-28T02:55:53.170Z"
   },
   {
    "duration": 3,
    "start_time": "2022-02-28T02:55:53.593Z"
   },
   {
    "duration": 11,
    "start_time": "2022-02-28T02:55:53.976Z"
   },
   {
    "duration": 20,
    "start_time": "2022-02-28T02:55:55.383Z"
   },
   {
    "duration": 3,
    "start_time": "2022-02-28T02:55:55.917Z"
   },
   {
    "duration": 3,
    "start_time": "2022-02-28T02:55:56.739Z"
   },
   {
    "duration": 592,
    "start_time": "2022-02-28T02:56:01.645Z"
   },
   {
    "duration": 345,
    "start_time": "2022-02-28T02:56:42.161Z"
   },
   {
    "duration": 337,
    "start_time": "2022-02-28T02:57:17.876Z"
   },
   {
    "duration": 345,
    "start_time": "2022-02-28T02:57:27.935Z"
   },
   {
    "duration": 3,
    "start_time": "2022-02-28T02:57:41.182Z"
   },
   {
    "duration": 338,
    "start_time": "2022-02-28T02:57:42.437Z"
   },
   {
    "duration": 335,
    "start_time": "2022-02-28T02:57:45.759Z"
   },
   {
    "duration": 335,
    "start_time": "2022-02-28T02:58:47.485Z"
   },
   {
    "duration": 321,
    "start_time": "2022-02-28T02:59:47.246Z"
   },
   {
    "duration": 321,
    "start_time": "2022-02-28T02:59:53.779Z"
   },
   {
    "duration": 493,
    "start_time": "2022-02-28T03:00:37.453Z"
   },
   {
    "duration": 336,
    "start_time": "2022-02-28T03:00:49.165Z"
   },
   {
    "duration": 325,
    "start_time": "2022-02-28T03:01:03.509Z"
   },
   {
    "duration": 512,
    "start_time": "2022-02-28T03:01:52.820Z"
   },
   {
    "duration": 344,
    "start_time": "2022-02-28T03:02:08.254Z"
   },
   {
    "duration": 321,
    "start_time": "2022-02-28T03:02:17.874Z"
   },
   {
    "duration": 321,
    "start_time": "2022-02-28T03:03:04.083Z"
   },
   {
    "duration": 492,
    "start_time": "2022-02-28T03:03:12.684Z"
   },
   {
    "duration": 514,
    "start_time": "2022-02-28T03:03:23.299Z"
   },
   {
    "duration": 2,
    "start_time": "2022-02-28T03:03:31.807Z"
   },
   {
    "duration": 3,
    "start_time": "2022-02-28T03:03:32.973Z"
   },
   {
    "duration": 2,
    "start_time": "2022-02-28T03:03:33.373Z"
   },
   {
    "duration": 3,
    "start_time": "2022-02-28T03:03:34.491Z"
   },
   {
    "duration": 14,
    "start_time": "2022-02-28T03:03:49.120Z"
   },
   {
    "duration": 321,
    "start_time": "2022-02-28T03:04:15.613Z"
   },
   {
    "duration": 320,
    "start_time": "2022-02-28T03:04:36.896Z"
   },
   {
    "duration": 12,
    "start_time": "2022-02-28T03:09:02.924Z"
   },
   {
    "duration": 5,
    "start_time": "2022-02-28T04:50:27.969Z"
   },
   {
    "duration": 5,
    "start_time": "2022-02-28T05:25:02.361Z"
   },
   {
    "duration": 5,
    "start_time": "2022-02-28T05:25:54.405Z"
   },
   {
    "duration": 172,
    "start_time": "2022-02-28T05:42:53.934Z"
   },
   {
    "duration": 8,
    "start_time": "2022-02-28T05:43:00.099Z"
   },
   {
    "duration": 233,
    "start_time": "2022-02-28T05:43:02.053Z"
   },
   {
    "duration": 5417,
    "start_time": "2022-02-28T05:47:14.894Z"
   },
   {
    "duration": 8,
    "start_time": "2022-02-28T05:48:40.319Z"
   },
   {
    "duration": 220,
    "start_time": "2022-02-28T05:48:42.314Z"
   },
   {
    "duration": 7,
    "start_time": "2022-02-28T05:48:53.813Z"
   },
   {
    "duration": 225,
    "start_time": "2022-02-28T05:49:15.405Z"
   },
   {
    "duration": 21,
    "start_time": "2022-02-28T06:04:36.484Z"
   },
   {
    "duration": 19,
    "start_time": "2022-02-28T06:06:44.428Z"
   },
   {
    "duration": 20,
    "start_time": "2022-02-28T06:11:19.854Z"
   },
   {
    "duration": 19,
    "start_time": "2022-02-28T06:15:12.013Z"
   },
   {
    "duration": 196,
    "start_time": "2022-02-28T06:15:25.470Z"
   },
   {
    "duration": 19,
    "start_time": "2022-02-28T06:15:29.279Z"
   },
   {
    "duration": 19,
    "start_time": "2022-02-28T07:33:43.380Z"
   },
   {
    "duration": 30,
    "start_time": "2022-02-28T07:34:56.739Z"
   },
   {
    "duration": 26,
    "start_time": "2022-02-28T07:36:12.199Z"
   },
   {
    "duration": 72,
    "start_time": "2022-02-28T07:47:42.020Z"
   },
   {
    "duration": 5,
    "start_time": "2022-02-28T07:48:19.610Z"
   },
   {
    "duration": 448,
    "start_time": "2022-02-28T07:49:08.501Z"
   },
   {
    "duration": 4,
    "start_time": "2022-02-28T07:49:51.179Z"
   },
   {
    "duration": 328,
    "start_time": "2022-02-28T07:49:52.602Z"
   },
   {
    "duration": 334,
    "start_time": "2022-02-28T07:53:48.192Z"
   },
   {
    "duration": 196,
    "start_time": "2022-02-28T07:54:30.877Z"
   },
   {
    "duration": 240,
    "start_time": "2022-02-28T07:55:01.813Z"
   },
   {
    "duration": 191,
    "start_time": "2022-02-28T07:55:55.693Z"
   },
   {
    "duration": 5,
    "start_time": "2022-02-28T07:56:42.622Z"
   },
   {
    "duration": 7,
    "start_time": "2022-02-28T07:56:50.409Z"
   },
   {
    "duration": 5,
    "start_time": "2022-02-28T07:57:53.727Z"
   },
   {
    "duration": 4,
    "start_time": "2022-02-28T07:58:17.900Z"
   },
   {
    "duration": 22,
    "start_time": "2022-02-28T07:58:24.752Z"
   },
   {
    "duration": 8,
    "start_time": "2022-02-28T07:59:06.803Z"
   },
   {
    "duration": 233,
    "start_time": "2022-02-28T08:01:06.731Z"
   },
   {
    "duration": 4,
    "start_time": "2022-02-28T08:02:27.211Z"
   },
   {
    "duration": 20,
    "start_time": "2022-02-28T08:02:31.390Z"
   },
   {
    "duration": 4,
    "start_time": "2022-02-28T08:02:43.865Z"
   },
   {
    "duration": 11,
    "start_time": "2022-02-28T08:03:02.550Z"
   },
   {
    "duration": 451,
    "start_time": "2022-02-28T08:08:39.309Z"
   },
   {
    "duration": 27,
    "start_time": "2022-02-28T08:09:05.881Z"
   },
   {
    "duration": 762,
    "start_time": "2022-02-28T08:11:27.738Z"
   },
   {
    "duration": 730,
    "start_time": "2022-02-28T08:11:31.726Z"
   },
   {
    "duration": 28,
    "start_time": "2022-02-28T08:11:55.046Z"
   },
   {
    "duration": 30,
    "start_time": "2022-02-28T08:13:15.146Z"
   },
   {
    "duration": 12,
    "start_time": "2022-02-28T08:13:53.628Z"
   },
   {
    "duration": 13,
    "start_time": "2022-02-28T08:17:04.807Z"
   },
   {
    "duration": 12,
    "start_time": "2022-02-28T08:17:38.982Z"
   },
   {
    "duration": 399,
    "start_time": "2022-02-28T08:18:23.810Z"
   },
   {
    "duration": 12,
    "start_time": "2022-02-28T08:18:32.796Z"
   },
   {
    "duration": 12,
    "start_time": "2022-02-28T08:19:07.923Z"
   },
   {
    "duration": 15,
    "start_time": "2022-02-28T08:20:29.060Z"
   },
   {
    "duration": 21,
    "start_time": "2022-02-28T08:21:19.124Z"
   },
   {
    "duration": 22,
    "start_time": "2022-02-28T08:21:27.873Z"
   },
   {
    "duration": 25,
    "start_time": "2022-02-28T08:24:10.031Z"
   },
   {
    "duration": 303,
    "start_time": "2022-02-28T08:26:31.493Z"
   },
   {
    "duration": 28,
    "start_time": "2022-02-28T08:26:53.616Z"
   },
   {
    "duration": 35,
    "start_time": "2022-02-28T08:27:46.801Z"
   },
   {
    "duration": 36,
    "start_time": "2022-02-28T08:28:10.047Z"
   },
   {
    "duration": 5,
    "start_time": "2022-02-28T08:31:37.536Z"
   },
   {
    "duration": 151,
    "start_time": "2022-02-28T08:32:05.984Z"
   },
   {
    "duration": 207,
    "start_time": "2022-02-28T08:32:15.381Z"
   },
   {
    "duration": 4,
    "start_time": "2022-02-28T08:32:26.603Z"
   },
   {
    "duration": 289,
    "start_time": "2022-02-28T08:49:26.611Z"
   },
   {
    "duration": 200,
    "start_time": "2022-02-28T08:49:58.697Z"
   },
   {
    "duration": 37,
    "start_time": "2022-02-28T08:50:16.307Z"
   },
   {
    "duration": 44,
    "start_time": "2022-02-28T08:53:24.592Z"
   },
   {
    "duration": 35,
    "start_time": "2022-02-28T08:57:09.323Z"
   },
   {
    "duration": 31,
    "start_time": "2022-02-28T08:57:45.443Z"
   },
   {
    "duration": 37,
    "start_time": "2022-02-28T08:59:11.689Z"
   },
   {
    "duration": 33,
    "start_time": "2022-02-28T09:00:04.185Z"
   },
   {
    "duration": 41,
    "start_time": "2022-02-28T09:01:21.508Z"
   },
   {
    "duration": 42,
    "start_time": "2022-02-28T09:02:35.795Z"
   },
   {
    "duration": 184,
    "start_time": "2022-02-28T09:04:26.382Z"
   },
   {
    "duration": 6,
    "start_time": "2022-02-28T09:04:47.305Z"
   },
   {
    "duration": 17,
    "start_time": "2022-02-28T09:32:23.431Z"
   },
   {
    "duration": 162,
    "start_time": "2022-02-28T09:39:17.871Z"
   },
   {
    "duration": 4831,
    "start_time": "2022-02-28T09:45:51.603Z"
   },
   {
    "duration": 6297,
    "start_time": "2022-02-28T09:48:51.753Z"
   },
   {
    "duration": 9,
    "start_time": "2022-02-28T09:56:51.950Z"
   },
   {
    "duration": 14,
    "start_time": "2022-02-28T09:57:35.773Z"
   },
   {
    "duration": 208,
    "start_time": "2022-02-28T10:18:10.162Z"
   },
   {
    "duration": 79,
    "start_time": "2022-02-28T10:19:44.753Z"
   },
   {
    "duration": 75,
    "start_time": "2022-02-28T10:19:53.057Z"
   },
   {
    "duration": 201,
    "start_time": "2022-02-28T10:20:07.038Z"
   },
   {
    "duration": 2,
    "start_time": "2022-02-28T10:21:28.796Z"
   },
   {
    "duration": 8,
    "start_time": "2022-02-28T10:33:27.717Z"
   },
   {
    "duration": 3,
    "start_time": "2022-02-28T10:44:36.715Z"
   },
   {
    "duration": 904,
    "start_time": "2022-02-28T10:44:49.125Z"
   },
   {
    "duration": 1065,
    "start_time": "2022-02-28T10:45:00.285Z"
   },
   {
    "duration": 4625,
    "start_time": "2022-02-28T10:45:55.071Z"
   },
   {
    "duration": 223,
    "start_time": "2022-02-28T10:47:46.682Z"
   },
   {
    "duration": 381,
    "start_time": "2022-02-28T10:50:45.463Z"
   },
   {
    "duration": 416,
    "start_time": "2022-02-28T10:51:12.014Z"
   },
   {
    "duration": 372,
    "start_time": "2022-02-28T10:51:44.594Z"
   },
   {
    "duration": 441,
    "start_time": "2022-02-28T10:52:05.954Z"
   },
   {
    "duration": 406,
    "start_time": "2022-02-28T10:52:26.920Z"
   },
   {
    "duration": 211,
    "start_time": "2022-02-28T10:52:36.205Z"
   },
   {
    "duration": 215,
    "start_time": "2022-02-28T10:53:05.830Z"
   },
   {
    "duration": 4952,
    "start_time": "2022-02-28T10:58:27.184Z"
   },
   {
    "duration": 7959,
    "start_time": "2022-02-28T10:59:09.047Z"
   },
   {
    "duration": 271,
    "start_time": "2022-02-28T10:59:55.409Z"
   },
   {
    "duration": 378,
    "start_time": "2022-02-28T13:08:45.419Z"
   },
   {
    "duration": 617,
    "start_time": "2022-02-28T13:08:55.382Z"
   },
   {
    "duration": 17,
    "start_time": "2022-02-28T13:08:56.001Z"
   },
   {
    "duration": 4,
    "start_time": "2022-02-28T13:08:56.020Z"
   },
   {
    "duration": 10,
    "start_time": "2022-02-28T13:08:56.723Z"
   },
   {
    "duration": 17,
    "start_time": "2022-02-28T13:08:57.251Z"
   },
   {
    "duration": 24,
    "start_time": "2022-02-28T13:08:57.649Z"
   },
   {
    "duration": 2,
    "start_time": "2022-02-28T13:08:58.016Z"
   },
   {
    "duration": 13,
    "start_time": "2022-02-28T13:08:58.210Z"
   },
   {
    "duration": 2,
    "start_time": "2022-02-28T13:08:58.619Z"
   },
   {
    "duration": 2,
    "start_time": "2022-02-28T13:08:59.015Z"
   },
   {
    "duration": 2,
    "start_time": "2022-02-28T13:08:59.431Z"
   },
   {
    "duration": 4,
    "start_time": "2022-02-28T13:09:00.027Z"
   },
   {
    "duration": 9,
    "start_time": "2022-02-28T13:09:00.416Z"
   },
   {
    "duration": 24,
    "start_time": "2022-02-28T13:09:00.621Z"
   },
   {
    "duration": 4,
    "start_time": "2022-02-28T13:09:01.348Z"
   },
   {
    "duration": 9,
    "start_time": "2022-02-28T13:09:01.949Z"
   },
   {
    "duration": 3,
    "start_time": "2022-02-28T13:09:02.178Z"
   },
   {
    "duration": 4,
    "start_time": "2022-02-28T13:09:02.568Z"
   },
   {
    "duration": 3,
    "start_time": "2022-02-28T13:09:02.980Z"
   },
   {
    "duration": 4,
    "start_time": "2022-02-28T13:09:03.185Z"
   },
   {
    "duration": 6,
    "start_time": "2022-02-28T13:09:03.605Z"
   },
   {
    "duration": 31,
    "start_time": "2022-02-28T13:09:04.027Z"
   },
   {
    "duration": 4,
    "start_time": "2022-02-28T13:09:04.237Z"
   },
   {
    "duration": 4,
    "start_time": "2022-02-28T13:09:04.701Z"
   },
   {
    "duration": 5,
    "start_time": "2022-02-28T13:09:04.948Z"
   },
   {
    "duration": 5,
    "start_time": "2022-02-28T13:09:05.197Z"
   },
   {
    "duration": 5,
    "start_time": "2022-02-28T13:09:05.830Z"
   },
   {
    "duration": 2,
    "start_time": "2022-02-28T13:09:06.049Z"
   },
   {
    "duration": 2,
    "start_time": "2022-02-28T13:09:06.272Z"
   },
   {
    "duration": 5,
    "start_time": "2022-02-28T13:09:06.685Z"
   },
   {
    "duration": 5,
    "start_time": "2022-02-28T13:09:06.975Z"
   },
   {
    "duration": 5,
    "start_time": "2022-02-28T13:09:07.164Z"
   },
   {
    "duration": 20,
    "start_time": "2022-02-28T13:09:07.686Z"
   },
   {
    "duration": 13,
    "start_time": "2022-02-28T13:09:08.093Z"
   },
   {
    "duration": 14,
    "start_time": "2022-02-28T13:09:08.328Z"
   },
   {
    "duration": 9,
    "start_time": "2022-02-28T13:09:08.574Z"
   },
   {
    "duration": 96,
    "start_time": "2022-02-28T13:09:10.176Z"
   },
   {
    "duration": 4,
    "start_time": "2022-02-28T13:09:13.728Z"
   },
   {
    "duration": 2,
    "start_time": "2022-02-28T13:09:14.887Z"
   },
   {
    "duration": 211,
    "start_time": "2022-02-28T13:09:15.480Z"
   },
   {
    "duration": 10,
    "start_time": "2022-02-28T13:09:16.099Z"
   },
   {
    "duration": 26,
    "start_time": "2022-02-28T13:09:21.146Z"
   },
   {
    "duration": 11,
    "start_time": "2022-02-28T13:09:21.173Z"
   },
   {
    "duration": 12,
    "start_time": "2022-02-28T13:09:22.647Z"
   },
   {
    "duration": 11,
    "start_time": "2022-02-28T13:09:22.817Z"
   },
   {
    "duration": 4,
    "start_time": "2022-02-28T13:09:23.340Z"
   },
   {
    "duration": 331,
    "start_time": "2022-02-28T13:09:23.514Z"
   },
   {
    "duration": 2,
    "start_time": "2022-02-28T13:09:23.847Z"
   },
   {
    "duration": 1,
    "start_time": "2022-02-28T13:09:23.879Z"
   },
   {
    "duration": 2,
    "start_time": "2022-02-28T13:09:24.272Z"
   },
   {
    "duration": 11,
    "start_time": "2022-02-28T13:09:24.957Z"
   },
   {
    "duration": 18,
    "start_time": "2022-02-28T13:09:26.174Z"
   },
   {
    "duration": 2,
    "start_time": "2022-02-28T13:09:26.397Z"
   },
   {
    "duration": 3,
    "start_time": "2022-02-28T13:09:27.072Z"
   },
   {
    "duration": 330,
    "start_time": "2022-02-28T13:09:27.258Z"
   },
   {
    "duration": 2,
    "start_time": "2022-02-28T13:09:27.590Z"
   },
   {
    "duration": 5,
    "start_time": "2022-02-28T13:09:27.593Z"
   },
   {
    "duration": 2,
    "start_time": "2022-02-28T13:09:27.782Z"
   },
   {
    "duration": 10,
    "start_time": "2022-02-28T13:09:28.140Z"
   },
   {
    "duration": 5,
    "start_time": "2022-02-28T13:09:28.481Z"
   },
   {
    "duration": 2,
    "start_time": "2022-02-28T13:09:28.854Z"
   },
   {
    "duration": 6,
    "start_time": "2022-02-28T13:09:29.251Z"
   },
   {
    "duration": 207,
    "start_time": "2022-02-28T13:09:29.423Z"
   },
   {
    "duration": 22,
    "start_time": "2022-02-28T13:09:29.811Z"
   },
   {
    "duration": 384,
    "start_time": "2022-02-28T13:09:29.990Z"
   },
   {
    "duration": -1120,
    "start_time": "2022-02-28T13:09:31.495Z"
   },
   {
    "duration": 285,
    "start_time": "2022-02-28T13:09:30.509Z"
   },
   {
    "duration": -1035,
    "start_time": "2022-02-28T13:09:31.830Z"
   },
   {
    "duration": 8050,
    "start_time": "2022-02-28T13:09:31.295Z"
   },
   {
    "duration": -1280,
    "start_time": "2022-02-28T13:09:40.627Z"
   },
   {
    "duration": -1295,
    "start_time": "2022-02-28T13:09:40.642Z"
   },
   {
    "duration": -1303,
    "start_time": "2022-02-28T13:09:40.652Z"
   },
   {
    "duration": 7447,
    "start_time": "2022-02-28T13:10:10.517Z"
   },
   {
    "duration": 38,
    "start_time": "2022-02-28T13:10:39.546Z"
   },
   {
    "duration": 12,
    "start_time": "2022-02-28T13:10:41.557Z"
   },
   {
    "duration": 4,
    "start_time": "2022-02-28T13:10:44.871Z"
   },
   {
    "duration": 9,
    "start_time": "2022-02-28T13:10:46.936Z"
   },
   {
    "duration": 20,
    "start_time": "2022-02-28T13:10:48.630Z"
   },
   {
    "duration": 24,
    "start_time": "2022-02-28T13:10:51.521Z"
   },
   {
    "duration": 14,
    "start_time": "2022-02-28T13:10:54.897Z"
   },
   {
    "duration": 3,
    "start_time": "2022-02-28T13:10:59.504Z"
   },
   {
    "duration": 9,
    "start_time": "2022-02-28T13:11:01.377Z"
   },
   {
    "duration": 23,
    "start_time": "2022-02-28T13:11:02.500Z"
   },
   {
    "duration": 4,
    "start_time": "2022-02-28T13:11:05.649Z"
   },
   {
    "duration": 7,
    "start_time": "2022-02-28T13:11:06.967Z"
   },
   {
    "duration": 4,
    "start_time": "2022-02-28T13:11:07.777Z"
   },
   {
    "duration": 4,
    "start_time": "2022-02-28T13:11:10.025Z"
   },
   {
    "duration": 4,
    "start_time": "2022-02-28T13:11:11.991Z"
   },
   {
    "duration": 5,
    "start_time": "2022-02-28T13:11:14.047Z"
   },
   {
    "duration": 31,
    "start_time": "2022-02-28T13:11:15.972Z"
   },
   {
    "duration": 4,
    "start_time": "2022-02-28T13:11:18.267Z"
   },
   {
    "duration": 5,
    "start_time": "2022-02-28T13:11:21.616Z"
   },
   {
    "duration": 5,
    "start_time": "2022-02-28T13:11:24.196Z"
   },
   {
    "duration": 3,
    "start_time": "2022-02-28T13:11:27.285Z"
   },
   {
    "duration": 4,
    "start_time": "2022-02-28T13:11:30.522Z"
   },
   {
    "duration": 2,
    "start_time": "2022-02-28T13:11:31.827Z"
   },
   {
    "duration": 4,
    "start_time": "2022-02-28T13:11:33.655Z"
   },
   {
    "duration": 5,
    "start_time": "2022-02-28T13:11:35.869Z"
   },
   {
    "duration": 5,
    "start_time": "2022-02-28T13:11:36.805Z"
   },
   {
    "duration": 19,
    "start_time": "2022-02-28T13:11:39.437Z"
   },
   {
    "duration": 13,
    "start_time": "2022-02-28T13:11:41.686Z"
   },
   {
    "duration": 15,
    "start_time": "2022-02-28T13:11:42.714Z"
   },
   {
    "duration": 11,
    "start_time": "2022-02-28T13:11:44.378Z"
   },
   {
    "duration": 95,
    "start_time": "2022-02-28T13:11:46.525Z"
   },
   {
    "duration": 4,
    "start_time": "2022-02-28T13:11:58.019Z"
   },
   {
    "duration": 228,
    "start_time": "2022-02-28T13:12:01.529Z"
   },
   {
    "duration": 25,
    "start_time": "2022-02-28T13:12:04.735Z"
   },
   {
    "duration": 13,
    "start_time": "2022-02-28T13:12:06.814Z"
   },
   {
    "duration": 12,
    "start_time": "2022-02-28T13:12:09.720Z"
   },
   {
    "duration": 11,
    "start_time": "2022-02-28T13:12:11.986Z"
   },
   {
    "duration": 3,
    "start_time": "2022-02-28T13:12:14.290Z"
   },
   {
    "duration": 333,
    "start_time": "2022-02-28T13:12:16.609Z"
   },
   {
    "duration": 12,
    "start_time": "2022-02-28T13:12:20.706Z"
   },
   {
    "duration": 19,
    "start_time": "2022-02-28T13:12:22.926Z"
   },
   {
    "duration": 3,
    "start_time": "2022-02-28T13:12:27.000Z"
   },
   {
    "duration": 336,
    "start_time": "2022-02-28T13:12:28.943Z"
   },
   {
    "duration": 4,
    "start_time": "2022-02-28T13:12:39.075Z"
   },
   {
    "duration": 6,
    "start_time": "2022-02-28T13:12:42.373Z"
   },
   {
    "duration": 210,
    "start_time": "2022-02-28T13:12:45.154Z"
   },
   {
    "duration": 22,
    "start_time": "2022-02-28T13:12:47.258Z"
   },
   {
    "duration": 291,
    "start_time": "2022-02-28T13:12:49.616Z"
   },
   {
    "duration": 22,
    "start_time": "2022-02-28T13:13:06.400Z"
   },
   {
    "duration": 3,
    "start_time": "2022-02-28T13:13:08.873Z"
   },
   {
    "duration": 320,
    "start_time": "2022-02-28T13:13:12.229Z"
   },
   {
    "duration": 9,
    "start_time": "2022-02-28T13:13:15.939Z"
   },
   {
    "duration": 27,
    "start_time": "2022-02-28T13:13:18.365Z"
   },
   {
    "duration": 35,
    "start_time": "2022-02-28T13:13:20.790Z"
   },
   {
    "duration": 234,
    "start_time": "2022-02-28T13:13:23.177Z"
   },
   {
    "duration": 49,
    "start_time": "2022-02-28T13:14:36.273Z"
   },
   {
    "duration": 4,
    "start_time": "2022-02-28T13:14:46.152Z"
   },
   {
    "duration": 8,
    "start_time": "2022-02-28T13:14:48.471Z"
   },
   {
    "duration": 4,
    "start_time": "2022-02-28T13:14:49.306Z"
   },
   {
    "duration": 3,
    "start_time": "2022-02-28T13:14:53.223Z"
   },
   {
    "duration": 4,
    "start_time": "2022-02-28T13:14:54.626Z"
   },
   {
    "duration": 5,
    "start_time": "2022-02-28T13:14:57.996Z"
   },
   {
    "duration": 33,
    "start_time": "2022-02-28T13:15:03.387Z"
   },
   {
    "duration": 4,
    "start_time": "2022-02-28T13:15:05.636Z"
   },
   {
    "duration": 10044,
    "start_time": "2022-02-28T13:15:15.445Z"
   },
   {
    "duration": 40,
    "start_time": "2022-02-28T13:15:37.485Z"
   },
   {
    "duration": 41,
    "start_time": "2022-02-28T13:15:45.538Z"
   },
   {
    "duration": 39,
    "start_time": "2022-02-28T13:15:48.936Z"
   },
   {
    "duration": 12,
    "start_time": "2022-02-28T13:15:50.957Z"
   },
   {
    "duration": 2,
    "start_time": "2022-02-28T13:15:53.274Z"
   },
   {
    "duration": 11,
    "start_time": "2022-02-28T13:15:54.593Z"
   },
   {
    "duration": 18,
    "start_time": "2022-02-28T13:15:56.779Z"
   },
   {
    "duration": 24,
    "start_time": "2022-02-28T13:15:59.754Z"
   },
   {
    "duration": 13,
    "start_time": "2022-02-28T13:16:02.537Z"
   },
   {
    "duration": 3,
    "start_time": "2022-02-28T13:16:07.840Z"
   },
   {
    "duration": 9,
    "start_time": "2022-02-28T13:16:09.695Z"
   },
   {
    "duration": 23,
    "start_time": "2022-02-28T13:16:10.605Z"
   },
   {
    "duration": 4,
    "start_time": "2022-02-28T13:16:13.820Z"
   },
   {
    "duration": 9,
    "start_time": "2022-02-28T13:16:17.480Z"
   },
   {
    "duration": 4,
    "start_time": "2022-02-28T13:16:18.549Z"
   },
   {
    "duration": 4,
    "start_time": "2022-02-28T13:16:20.249Z"
   },
   {
    "duration": 4,
    "start_time": "2022-02-28T13:16:22.100Z"
   },
   {
    "duration": 5,
    "start_time": "2022-02-28T13:16:23.130Z"
   },
   {
    "duration": 32,
    "start_time": "2022-02-28T13:16:27.997Z"
   },
   {
    "duration": 4,
    "start_time": "2022-02-28T13:16:30.235Z"
   },
   {
    "duration": 4,
    "start_time": "2022-02-28T13:16:33.439Z"
   },
   {
    "duration": 4,
    "start_time": "2022-02-28T13:16:35.452Z"
   },
   {
    "duration": 4,
    "start_time": "2022-02-28T13:16:36.275Z"
   },
   {
    "duration": 4,
    "start_time": "2022-02-28T13:16:38.945Z"
   },
   {
    "duration": 5,
    "start_time": "2022-02-28T13:16:41.127Z"
   },
   {
    "duration": 4,
    "start_time": "2022-02-28T13:16:43.573Z"
   },
   {
    "duration": 4,
    "start_time": "2022-02-28T13:16:44.762Z"
   },
   {
    "duration": 20,
    "start_time": "2022-02-28T13:16:48.167Z"
   },
   {
    "duration": 12,
    "start_time": "2022-02-28T13:16:50.781Z"
   },
   {
    "duration": 14,
    "start_time": "2022-02-28T13:16:51.626Z"
   },
   {
    "duration": 9,
    "start_time": "2022-02-28T13:16:53.220Z"
   },
   {
    "duration": 95,
    "start_time": "2022-02-28T13:16:55.792Z"
   },
   {
    "duration": 6,
    "start_time": "2022-02-28T13:16:59.008Z"
   },
   {
    "duration": 198,
    "start_time": "2022-02-28T13:17:03.403Z"
   },
   {
    "duration": 11,
    "start_time": "2022-02-28T13:17:05.137Z"
   },
   {
    "duration": 27,
    "start_time": "2022-02-28T13:17:11.315Z"
   },
   {
    "duration": 12,
    "start_time": "2022-02-28T13:17:13.564Z"
   },
   {
    "duration": 11,
    "start_time": "2022-02-28T13:17:16.225Z"
   },
   {
    "duration": 11,
    "start_time": "2022-02-28T13:17:18.562Z"
   },
   {
    "duration": 4,
    "start_time": "2022-02-28T13:17:20.252Z"
   },
   {
    "duration": 331,
    "start_time": "2022-02-28T13:17:22.505Z"
   },
   {
    "duration": 10,
    "start_time": "2022-02-28T13:17:27.479Z"
   },
   {
    "duration": 18,
    "start_time": "2022-02-28T13:17:31.521Z"
   },
   {
    "duration": 3,
    "start_time": "2022-02-28T13:17:35.533Z"
   },
   {
    "duration": 337,
    "start_time": "2022-02-28T13:17:38.693Z"
   },
   {
    "duration": 10,
    "start_time": "2022-02-28T13:17:41.994Z"
   },
   {
    "duration": 7,
    "start_time": "2022-02-28T13:17:49.476Z"
   },
   {
    "duration": 209,
    "start_time": "2022-02-28T13:17:52.832Z"
   },
   {
    "duration": 21,
    "start_time": "2022-02-28T13:17:54.759Z"
   },
   {
    "duration": 21,
    "start_time": "2022-02-28T13:17:57.467Z"
   },
   {
    "duration": 4,
    "start_time": "2022-02-28T13:18:00.361Z"
   },
   {
    "duration": 318,
    "start_time": "2022-02-28T13:18:02.917Z"
   },
   {
    "duration": 12,
    "start_time": "2022-02-28T13:18:05.835Z"
   },
   {
    "duration": 28,
    "start_time": "2022-02-28T13:18:08.179Z"
   },
   {
    "duration": 35,
    "start_time": "2022-02-28T13:18:10.888Z"
   },
   {
    "duration": 230,
    "start_time": "2022-02-28T13:18:14.013Z"
   },
   {
    "duration": 320,
    "start_time": "2022-02-28T13:19:03.962Z"
   },
   {
    "duration": 320,
    "start_time": "2022-02-28T13:19:38.825Z"
   },
   {
    "duration": 317,
    "start_time": "2022-02-28T13:20:38.244Z"
   },
   {
    "duration": 326,
    "start_time": "2022-02-28T13:21:32.781Z"
   },
   {
    "duration": 239,
    "start_time": "2022-02-28T13:25:46.486Z"
   },
   {
    "duration": 239,
    "start_time": "2022-02-28T13:26:55.225Z"
   },
   {
    "duration": 243,
    "start_time": "2022-02-28T13:27:09.940Z"
   },
   {
    "duration": 232,
    "start_time": "2022-02-28T13:27:19.562Z"
   },
   {
    "duration": 230,
    "start_time": "2022-02-28T13:27:47.535Z"
   },
   {
    "duration": 232,
    "start_time": "2022-02-28T13:28:14.202Z"
   },
   {
    "duration": 316,
    "start_time": "2022-02-28T13:28:38.822Z"
   },
   {
    "duration": 276,
    "start_time": "2022-02-28T13:48:23.527Z"
   },
   {
    "duration": 284,
    "start_time": "2022-02-28T13:49:25.996Z"
   },
   {
    "duration": 281,
    "start_time": "2022-02-28T13:52:40.392Z"
   },
   {
    "duration": 278,
    "start_time": "2022-02-28T13:56:26.771Z"
   },
   {
    "duration": 289,
    "start_time": "2022-02-28T13:56:44.079Z"
   },
   {
    "duration": 307,
    "start_time": "2022-02-28T13:57:07.789Z"
   },
   {
    "duration": 4,
    "start_time": "2022-02-28T14:14:22.772Z"
   },
   {
    "duration": 355,
    "start_time": "2022-02-28T14:19:36.257Z"
   },
   {
    "duration": 33,
    "start_time": "2022-02-28T14:20:31.471Z"
   },
   {
    "duration": 34,
    "start_time": "2022-02-28T14:21:02.018Z"
   },
   {
    "duration": 625,
    "start_time": "2022-03-02T00:23:02.150Z"
   },
   {
    "duration": 28,
    "start_time": "2022-03-02T00:43:18.304Z"
   },
   {
    "duration": 14,
    "start_time": "2022-03-02T00:43:26.349Z"
   },
   {
    "duration": 4,
    "start_time": "2022-03-02T00:43:30.435Z"
   },
   {
    "duration": 10,
    "start_time": "2022-03-02T00:43:33.921Z"
   },
   {
    "duration": 12,
    "start_time": "2022-03-02T00:48:10.513Z"
   },
   {
    "duration": 76,
    "start_time": "2022-03-02T00:54:09.875Z"
   },
   {
    "duration": 248,
    "start_time": "2022-03-02T00:55:22.034Z"
   },
   {
    "duration": 15,
    "start_time": "2022-03-02T00:55:36.814Z"
   },
   {
    "duration": 15,
    "start_time": "2022-03-02T00:55:55.265Z"
   },
   {
    "duration": 13,
    "start_time": "2022-03-02T00:56:33.306Z"
   },
   {
    "duration": 13,
    "start_time": "2022-03-02T00:56:38.096Z"
   },
   {
    "duration": 181,
    "start_time": "2022-03-02T01:00:44.127Z"
   },
   {
    "duration": 206,
    "start_time": "2022-03-02T01:00:59.956Z"
   },
   {
    "duration": 477,
    "start_time": "2022-03-02T01:01:17.221Z"
   },
   {
    "duration": 2537,
    "start_time": "2022-03-02T01:02:19.635Z"
   },
   {
    "duration": 4,
    "start_time": "2022-03-02T01:05:12.028Z"
   },
   {
    "duration": 10,
    "start_time": "2022-03-02T01:05:13.456Z"
   },
   {
    "duration": 28,
    "start_time": "2022-03-02T01:05:14.811Z"
   },
   {
    "duration": 17,
    "start_time": "2022-03-02T01:05:23.330Z"
   },
   {
    "duration": 9,
    "start_time": "2022-03-02T01:09:34.178Z"
   },
   {
    "duration": 4,
    "start_time": "2022-03-02T01:09:36.108Z"
   },
   {
    "duration": 9,
    "start_time": "2022-03-02T01:09:39.698Z"
   },
   {
    "duration": 4,
    "start_time": "2022-03-02T01:09:42.024Z"
   },
   {
    "duration": 5,
    "start_time": "2022-03-02T01:16:31.667Z"
   },
   {
    "duration": 4,
    "start_time": "2022-03-02T01:21:11.890Z"
   },
   {
    "duration": 5,
    "start_time": "2022-03-02T01:21:13.112Z"
   },
   {
    "duration": 24,
    "start_time": "2022-03-02T01:23:25.024Z"
   },
   {
    "duration": 23,
    "start_time": "2022-03-02T01:24:29.419Z"
   },
   {
    "duration": 34,
    "start_time": "2022-03-02T01:32:13.493Z"
   },
   {
    "duration": 5,
    "start_time": "2022-03-02T01:32:18.794Z"
   },
   {
    "duration": 5,
    "start_time": "2022-03-02T01:34:22.794Z"
   },
   {
    "duration": 6,
    "start_time": "2022-03-02T01:34:26.338Z"
   },
   {
    "duration": 5,
    "start_time": "2022-03-02T01:34:28.498Z"
   },
   {
    "duration": 5,
    "start_time": "2022-03-02T01:36:18.172Z"
   },
   {
    "duration": 6,
    "start_time": "2022-03-02T01:36:19.987Z"
   },
   {
    "duration": 5,
    "start_time": "2022-03-02T01:36:21.231Z"
   },
   {
    "duration": 21,
    "start_time": "2022-03-02T01:36:37.854Z"
   },
   {
    "duration": 21,
    "start_time": "2022-03-02T01:39:39.470Z"
   },
   {
    "duration": 13,
    "start_time": "2022-03-02T01:39:43.341Z"
   },
   {
    "duration": 17,
    "start_time": "2022-03-02T01:39:44.828Z"
   },
   {
    "duration": 11,
    "start_time": "2022-03-02T01:40:12.424Z"
   },
   {
    "duration": 196,
    "start_time": "2022-03-02T01:49:16.476Z"
   },
   {
    "duration": 199,
    "start_time": "2022-03-02T01:49:53.352Z"
   },
   {
    "duration": 193,
    "start_time": "2022-03-02T01:50:30.644Z"
   },
   {
    "duration": 12,
    "start_time": "2022-03-02T01:50:47.299Z"
   },
   {
    "duration": 15,
    "start_time": "2022-03-02T01:52:55.829Z"
   },
   {
    "duration": 186,
    "start_time": "2022-03-02T02:00:26.076Z"
   },
   {
    "duration": 4,
    "start_time": "2022-03-02T02:00:54.993Z"
   },
   {
    "duration": 221,
    "start_time": "2022-03-02T02:00:56.468Z"
   },
   {
    "duration": 13,
    "start_time": "2022-03-02T02:00:59.109Z"
   },
   {
    "duration": 194,
    "start_time": "2022-03-02T02:01:21.840Z"
   },
   {
    "duration": 462,
    "start_time": "2022-03-02T02:01:31.008Z"
   },
   {
    "duration": 437,
    "start_time": "2022-03-02T02:01:52.969Z"
   },
   {
    "duration": 187,
    "start_time": "2022-03-02T02:02:11.362Z"
   },
   {
    "duration": 4,
    "start_time": "2022-03-02T02:11:11.487Z"
   },
   {
    "duration": 23,
    "start_time": "2022-03-02T02:31:50.908Z"
   },
   {
    "duration": 194,
    "start_time": "2022-03-02T02:31:53.311Z"
   },
   {
    "duration": 4,
    "start_time": "2022-03-02T02:32:01.327Z"
   },
   {
    "duration": 354,
    "start_time": "2022-03-02T02:32:04.006Z"
   },
   {
    "duration": 24,
    "start_time": "2022-03-02T02:32:06.092Z"
   },
   {
    "duration": 3,
    "start_time": "2022-03-02T02:32:10.696Z"
   },
   {
    "duration": 4,
    "start_time": "2022-03-02T02:34:06.264Z"
   },
   {
    "duration": 17,
    "start_time": "2022-03-02T02:35:57.206Z"
   },
   {
    "duration": 604,
    "start_time": "2022-03-04T00:07:52.375Z"
   },
   {
    "duration": 20,
    "start_time": "2022-03-04T00:07:55.548Z"
   },
   {
    "duration": 3,
    "start_time": "2022-03-04T00:07:57.480Z"
   },
   {
    "duration": 11,
    "start_time": "2022-03-04T00:07:58.391Z"
   },
   {
    "duration": 22,
    "start_time": "2022-03-04T00:08:01.300Z"
   },
   {
    "duration": 13,
    "start_time": "2022-03-04T00:08:02.806Z"
   },
   {
    "duration": 2,
    "start_time": "2022-03-04T00:08:05.339Z"
   },
   {
    "duration": 2779,
    "start_time": "2022-03-04T00:08:06.151Z"
   },
   {
    "duration": 4,
    "start_time": "2022-03-04T00:08:10.526Z"
   },
   {
    "duration": 10,
    "start_time": "2022-03-04T00:08:12.314Z"
   },
   {
    "duration": 19,
    "start_time": "2022-03-04T00:08:13.078Z"
   },
   {
    "duration": 4,
    "start_time": "2022-03-04T00:08:15.150Z"
   },
   {
    "duration": 9,
    "start_time": "2022-03-04T00:08:16.305Z"
   },
   {
    "duration": 4,
    "start_time": "2022-03-04T00:08:18.450Z"
   },
   {
    "duration": 5,
    "start_time": "2022-03-04T00:08:21.161Z"
   },
   {
    "duration": 4,
    "start_time": "2022-03-04T00:08:22.350Z"
   },
   {
    "duration": 4,
    "start_time": "2022-03-04T00:08:23.142Z"
   },
   {
    "duration": 23,
    "start_time": "2022-03-04T00:08:25.620Z"
   },
   {
    "duration": 36,
    "start_time": "2022-03-04T00:08:28.522Z"
   },
   {
    "duration": 5,
    "start_time": "2022-03-04T00:08:30.536Z"
   },
   {
    "duration": 5,
    "start_time": "2022-03-04T00:08:32.526Z"
   },
   {
    "duration": 6,
    "start_time": "2022-03-04T00:08:33.811Z"
   },
   {
    "duration": 4,
    "start_time": "2022-03-04T00:08:36.452Z"
   },
   {
    "duration": 5,
    "start_time": "2022-03-04T00:08:38.674Z"
   },
   {
    "duration": 5,
    "start_time": "2022-03-04T00:08:47.651Z"
   },
   {
    "duration": 5,
    "start_time": "2022-03-04T00:08:48.834Z"
   },
   {
    "duration": 4,
    "start_time": "2022-03-04T00:08:50.664Z"
   },
   {
    "duration": 22,
    "start_time": "2022-03-04T00:08:51.794Z"
   },
   {
    "duration": 15,
    "start_time": "2022-03-04T00:08:54.400Z"
   },
   {
    "duration": 18,
    "start_time": "2022-03-04T00:08:55.286Z"
   },
   {
    "duration": 15,
    "start_time": "2022-03-04T00:08:57.792Z"
   },
   {
    "duration": 3,
    "start_time": "2022-03-04T00:09:43.863Z"
   },
   {
    "duration": 4,
    "start_time": "2022-03-04T00:09:44.874Z"
   },
   {
    "duration": 225,
    "start_time": "2022-03-04T00:09:45.965Z"
   },
   {
    "duration": 13,
    "start_time": "2022-03-04T00:09:48.066Z"
   },
   {
    "duration": 28,
    "start_time": "2022-03-04T00:09:54.072Z"
   },
   {
    "duration": 3,
    "start_time": "2022-03-04T00:17:31.142Z"
   },
   {
    "duration": 5,
    "start_time": "2022-03-04T00:17:33.002Z"
   },
   {
    "duration": 213,
    "start_time": "2022-03-04T00:17:34.798Z"
   },
   {
    "duration": 12,
    "start_time": "2022-03-04T00:17:36.343Z"
   },
   {
    "duration": 30,
    "start_time": "2022-03-04T00:17:40.822Z"
   },
   {
    "duration": 15,
    "start_time": "2022-03-04T00:17:42.745Z"
   },
   {
    "duration": 14,
    "start_time": "2022-03-04T00:17:44.152Z"
   },
   {
    "duration": 14,
    "start_time": "2022-03-04T00:17:45.839Z"
   },
   {
    "duration": 5,
    "start_time": "2022-03-04T00:17:52.657Z"
   },
   {
    "duration": 5,
    "start_time": "2022-03-04T00:18:31.129Z"
   },
   {
    "duration": 344,
    "start_time": "2022-03-04T00:18:32.773Z"
   },
   {
    "duration": 24,
    "start_time": "2022-03-04T00:18:33.918Z"
   },
   {
    "duration": 8,
    "start_time": "2022-03-04T00:22:13.323Z"
   },
   {
    "duration": 12,
    "start_time": "2022-03-04T00:22:22.871Z"
   },
   {
    "duration": 13,
    "start_time": "2022-03-04T00:22:38.408Z"
   },
   {
    "duration": 3,
    "start_time": "2022-03-04T00:25:13.354Z"
   },
   {
    "duration": 388,
    "start_time": "2022-03-04T00:25:15.558Z"
   },
   {
    "duration": 13,
    "start_time": "2022-03-04T00:26:30.047Z"
   },
   {
    "duration": 13,
    "start_time": "2022-03-04T00:26:36.652Z"
   },
   {
    "duration": 61,
    "start_time": "2022-03-04T00:28:06.240Z"
   },
   {
    "duration": 5,
    "start_time": "2022-03-04T00:28:16.486Z"
   },
   {
    "duration": 350,
    "start_time": "2022-03-04T00:28:22.570Z"
   },
   {
    "duration": 13,
    "start_time": "2022-03-04T00:28:23.558Z"
   },
   {
    "duration": 13,
    "start_time": "2022-03-04T00:28:25.308Z"
   },
   {
    "duration": 5,
    "start_time": "2022-03-04T00:32:07.272Z"
   },
   {
    "duration": 7,
    "start_time": "2022-03-04T00:34:56.720Z"
   },
   {
    "duration": 230,
    "start_time": "2022-03-04T00:34:59.212Z"
   },
   {
    "duration": 26,
    "start_time": "2022-03-04T00:37:45.501Z"
   },
   {
    "duration": 2603,
    "start_time": "2022-03-04T01:05:54.861Z"
   },
   {
    "duration": 2440,
    "start_time": "2022-03-04T01:06:22.644Z"
   },
   {
    "duration": 2412,
    "start_time": "2022-03-04T01:08:35.600Z"
   },
   {
    "duration": 8,
    "start_time": "2022-03-04T01:08:44.242Z"
   },
   {
    "duration": 6,
    "start_time": "2022-03-04T01:10:16.293Z"
   },
   {
    "duration": 5,
    "start_time": "2022-03-04T01:11:09.802Z"
   },
   {
    "duration": 9,
    "start_time": "2022-03-04T01:11:23.934Z"
   },
   {
    "duration": 9,
    "start_time": "2022-03-04T01:11:26.911Z"
   },
   {
    "duration": 12,
    "start_time": "2022-03-04T01:11:30.387Z"
   },
   {
    "duration": 41,
    "start_time": "2022-03-04T01:11:37.321Z"
   },
   {
    "duration": 13,
    "start_time": "2022-03-04T01:11:39.809Z"
   },
   {
    "duration": 10,
    "start_time": "2022-03-04T01:11:43.980Z"
   },
   {
    "duration": 22,
    "start_time": "2022-03-04T01:11:46.932Z"
   },
   {
    "duration": 14,
    "start_time": "2022-03-04T01:11:50.910Z"
   },
   {
    "duration": 12,
    "start_time": "2022-03-04T01:11:53.678Z"
   },
   {
    "duration": 21,
    "start_time": "2022-03-04T01:12:03.309Z"
   },
   {
    "duration": 331,
    "start_time": "2022-03-05T00:56:51.268Z"
   },
   {
    "duration": 557,
    "start_time": "2022-03-05T00:56:57.352Z"
   },
   {
    "duration": 355,
    "start_time": "2022-03-05T00:57:07.182Z"
   },
   {
    "duration": 19,
    "start_time": "2022-03-05T00:57:37.839Z"
   },
   {
    "duration": 287,
    "start_time": "2022-03-05T00:58:09.105Z"
   },
   {
    "duration": 7,
    "start_time": "2022-03-05T00:58:15.818Z"
   },
   {
    "duration": 8,
    "start_time": "2022-03-05T00:58:34.944Z"
   },
   {
    "duration": 9,
    "start_time": "2022-03-05T00:59:02.045Z"
   },
   {
    "duration": 8,
    "start_time": "2022-03-05T00:59:13.154Z"
   },
   {
    "duration": 314,
    "start_time": "2022-03-05T00:59:29.878Z"
   },
   {
    "duration": 8,
    "start_time": "2022-03-05T00:59:36.315Z"
   },
   {
    "duration": 288,
    "start_time": "2022-03-05T00:59:56.595Z"
   },
   {
    "duration": 8,
    "start_time": "2022-03-05T01:00:05.868Z"
   },
   {
    "duration": 7,
    "start_time": "2022-03-05T01:00:21.138Z"
   },
   {
    "duration": 315,
    "start_time": "2022-03-05T01:00:43.252Z"
   },
   {
    "duration": 306,
    "start_time": "2022-03-05T01:01:49.667Z"
   },
   {
    "duration": 4,
    "start_time": "2022-03-05T01:02:35.267Z"
   },
   {
    "duration": 6,
    "start_time": "2022-03-05T01:02:43.933Z"
   },
   {
    "duration": 8,
    "start_time": "2022-03-05T01:02:54.927Z"
   },
   {
    "duration": 8,
    "start_time": "2022-03-05T01:03:55.751Z"
   },
   {
    "duration": 285,
    "start_time": "2022-03-05T01:04:57.466Z"
   },
   {
    "duration": 9,
    "start_time": "2022-03-05T01:05:10.857Z"
   },
   {
    "duration": 7,
    "start_time": "2022-03-05T01:05:29.580Z"
   },
   {
    "duration": 8,
    "start_time": "2022-03-05T01:05:55.313Z"
   },
   {
    "duration": 97,
    "start_time": "2022-03-05T01:08:43.059Z"
   },
   {
    "duration": 18,
    "start_time": "2022-03-05T01:09:37.701Z"
   },
   {
    "duration": 14,
    "start_time": "2022-03-05T01:10:15.545Z"
   },
   {
    "duration": 10,
    "start_time": "2022-03-05T01:10:27.990Z"
   },
   {
    "duration": 9,
    "start_time": "2022-03-05T01:10:38.042Z"
   },
   {
    "duration": 4,
    "start_time": "2022-03-05T01:12:06.965Z"
   },
   {
    "duration": 5,
    "start_time": "2022-03-05T01:15:18.889Z"
   },
   {
    "duration": 6,
    "start_time": "2022-03-05T01:16:31.531Z"
   },
   {
    "duration": 5,
    "start_time": "2022-03-05T01:16:58.808Z"
   },
   {
    "duration": 18,
    "start_time": "2022-03-05T01:21:10.907Z"
   },
   {
    "duration": 7,
    "start_time": "2022-03-05T01:21:29.224Z"
   },
   {
    "duration": 101,
    "start_time": "2022-03-05T01:21:48.073Z"
   },
   {
    "duration": 19,
    "start_time": "2022-03-05T01:22:06.293Z"
   },
   {
    "duration": 306,
    "start_time": "2022-03-05T01:22:51.910Z"
   },
   {
    "duration": 316,
    "start_time": "2022-03-05T01:23:50.011Z"
   },
   {
    "duration": 301,
    "start_time": "2022-03-05T01:24:13.664Z"
   },
   {
    "duration": 288,
    "start_time": "2022-03-05T01:24:58.286Z"
   },
   {
    "duration": 352,
    "start_time": "2022-03-05T01:25:21.612Z"
   },
   {
    "duration": 352,
    "start_time": "2022-03-05T01:25:48.408Z"
   },
   {
    "duration": 24,
    "start_time": "2022-03-05T01:25:57.564Z"
   },
   {
    "duration": 30,
    "start_time": "2022-03-05T01:26:07.385Z"
   },
   {
    "duration": 311,
    "start_time": "2022-03-05T01:27:22.923Z"
   },
   {
    "duration": 11,
    "start_time": "2022-03-05T01:27:49.436Z"
   },
   {
    "duration": 11,
    "start_time": "2022-03-05T01:29:33.691Z"
   },
   {
    "duration": 12,
    "start_time": "2022-03-05T01:29:47.458Z"
   },
   {
    "duration": 104,
    "start_time": "2022-03-05T01:30:47.776Z"
   },
   {
    "duration": 25,
    "start_time": "2022-03-05T01:30:57.332Z"
   },
   {
    "duration": 27,
    "start_time": "2022-03-05T01:31:42.124Z"
   },
   {
    "duration": 15,
    "start_time": "2022-03-05T01:32:15.647Z"
   },
   {
    "duration": 15,
    "start_time": "2022-03-05T01:32:34.023Z"
   },
   {
    "duration": 21,
    "start_time": "2022-03-05T01:34:10.485Z"
   },
   {
    "duration": 20,
    "start_time": "2022-03-05T01:34:18.555Z"
   },
   {
    "duration": 19,
    "start_time": "2022-03-05T01:34:29.870Z"
   },
   {
    "duration": 19,
    "start_time": "2022-03-05T01:36:10.848Z"
   },
   {
    "duration": 20,
    "start_time": "2022-03-05T01:36:28.724Z"
   },
   {
    "duration": 21,
    "start_time": "2022-03-05T02:27:57.651Z"
   },
   {
    "duration": 108,
    "start_time": "2022-03-05T02:28:41.069Z"
   },
   {
    "duration": 109,
    "start_time": "2022-03-05T02:29:41.507Z"
   },
   {
    "duration": 19,
    "start_time": "2022-03-05T02:30:11.144Z"
   },
   {
    "duration": 19,
    "start_time": "2022-03-05T02:31:42.726Z"
   },
   {
    "duration": 23,
    "start_time": "2022-03-05T02:31:51.229Z"
   },
   {
    "duration": 21,
    "start_time": "2022-03-05T02:32:14.936Z"
   },
   {
    "duration": 23,
    "start_time": "2022-03-05T02:32:32.688Z"
   },
   {
    "duration": 22,
    "start_time": "2022-03-05T02:34:19.873Z"
   },
   {
    "duration": 30,
    "start_time": "2022-03-05T02:34:31.199Z"
   },
   {
    "duration": 329,
    "start_time": "2022-03-05T02:38:01.916Z"
   },
   {
    "duration": 367,
    "start_time": "2022-03-05T02:38:11.691Z"
   },
   {
    "duration": 37,
    "start_time": "2022-03-05T02:38:33.702Z"
   },
   {
    "duration": 29,
    "start_time": "2022-03-05T02:38:46.202Z"
   },
   {
    "duration": 41,
    "start_time": "2022-03-05T02:40:58.058Z"
   },
   {
    "duration": 784,
    "start_time": "2022-03-06T23:47:33.333Z"
   },
   {
    "duration": 31,
    "start_time": "2022-03-06T23:47:36.045Z"
   },
   {
    "duration": 5,
    "start_time": "2022-03-06T23:47:38.833Z"
   },
   {
    "duration": 14,
    "start_time": "2022-03-06T23:47:40.884Z"
   },
   {
    "duration": 80,
    "start_time": "2022-03-06T23:59:16.141Z"
   },
   {
    "duration": 73,
    "start_time": "2022-03-06T23:59:44.891Z"
   },
   {
    "duration": 71,
    "start_time": "2022-03-07T00:39:56.008Z"
   },
   {
    "duration": 73,
    "start_time": "2022-03-07T00:40:13.764Z"
   },
   {
    "duration": 73,
    "start_time": "2022-03-07T00:41:17.995Z"
   },
   {
    "duration": 80,
    "start_time": "2022-03-07T00:42:11.892Z"
   },
   {
    "duration": 645,
    "start_time": "2022-03-07T02:32:42.664Z"
   },
   {
    "duration": 62,
    "start_time": "2022-03-07T02:34:24.395Z"
   },
   {
    "duration": 68,
    "start_time": "2022-03-07T02:38:17.991Z"
   },
   {
    "duration": 81,
    "start_time": "2022-03-07T02:38:32.405Z"
   },
   {
    "duration": 75,
    "start_time": "2022-03-07T02:38:43.537Z"
   },
   {
    "duration": 75,
    "start_time": "2022-03-07T02:40:10.493Z"
   },
   {
    "duration": 336,
    "start_time": "2022-03-07T02:40:48.888Z"
   },
   {
    "duration": 73,
    "start_time": "2022-03-07T02:40:58.732Z"
   },
   {
    "duration": 81,
    "start_time": "2022-03-07T02:41:11.488Z"
   },
   {
    "duration": 278,
    "start_time": "2022-03-07T02:41:31.892Z"
   },
   {
    "duration": 283,
    "start_time": "2022-03-07T02:43:06.643Z"
   },
   {
    "duration": 291,
    "start_time": "2022-03-07T02:44:07.047Z"
   },
   {
    "duration": 80,
    "start_time": "2022-03-07T02:44:27.831Z"
   },
   {
    "duration": 77,
    "start_time": "2022-03-07T02:44:49.745Z"
   },
   {
    "duration": 287,
    "start_time": "2022-03-07T02:45:06.938Z"
   },
   {
    "duration": 276,
    "start_time": "2022-03-07T02:45:12.883Z"
   },
   {
    "duration": 79,
    "start_time": "2022-03-07T02:45:29.084Z"
   },
   {
    "duration": 279,
    "start_time": "2022-03-07T02:46:39.090Z"
   },
   {
    "duration": 76,
    "start_time": "2022-03-07T02:47:35.592Z"
   },
   {
    "duration": 79,
    "start_time": "2022-03-07T02:47:53.339Z"
   },
   {
    "duration": 88,
    "start_time": "2022-03-07T02:48:01.508Z"
   },
   {
    "duration": 75,
    "start_time": "2022-03-07T02:48:14.232Z"
   },
   {
    "duration": 21,
    "start_time": "2022-03-07T02:54:19.883Z"
   },
   {
    "duration": 58,
    "start_time": "2022-03-07T02:54:29.041Z"
   },
   {
    "duration": 256,
    "start_time": "2022-03-09T01:36:11.220Z"
   },
   {
    "duration": 225,
    "start_time": "2022-03-09T01:36:18.497Z"
   },
   {
    "duration": 656,
    "start_time": "2022-03-09T01:36:21.761Z"
   },
   {
    "duration": 25,
    "start_time": "2022-03-09T01:36:23.722Z"
   },
   {
    "duration": 4,
    "start_time": "2022-03-09T01:36:25.531Z"
   },
   {
    "duration": 14,
    "start_time": "2022-03-09T01:36:26.589Z"
   },
   {
    "duration": 25,
    "start_time": "2022-03-09T01:36:28.700Z"
   },
   {
    "duration": 17,
    "start_time": "2022-03-09T01:36:31.178Z"
   },
   {
    "duration": 66,
    "start_time": "2022-03-09T01:36:33.332Z"
   },
   {
    "duration": 24,
    "start_time": "2022-03-09T01:36:38.868Z"
   },
   {
    "duration": 29,
    "start_time": "2022-03-09T01:36:44.138Z"
   },
   {
    "duration": 298,
    "start_time": "2022-03-09T01:49:32.832Z"
   },
   {
    "duration": 246,
    "start_time": "2022-03-09T01:49:41.878Z"
   },
   {
    "duration": 5577,
    "start_time": "2022-03-09T01:49:58.677Z"
   },
   {
    "duration": 44,
    "start_time": "2022-03-09T01:51:20.532Z"
   },
   {
    "duration": 41,
    "start_time": "2022-03-09T01:51:28.481Z"
   },
   {
    "duration": 47,
    "start_time": "2022-03-09T01:51:38.172Z"
   },
   {
    "duration": 46,
    "start_time": "2022-03-09T01:52:49.193Z"
   },
   {
    "duration": 214,
    "start_time": "2022-03-09T01:54:13.972Z"
   },
   {
    "duration": 5,
    "start_time": "2022-03-09T02:04:07.631Z"
   },
   {
    "duration": 7,
    "start_time": "2022-03-09T02:10:19.621Z"
   },
   {
    "duration": 6,
    "start_time": "2022-03-09T02:12:17.223Z"
   },
   {
    "duration": 9,
    "start_time": "2022-03-09T05:55:20.076Z"
   },
   {
    "duration": 9,
    "start_time": "2022-03-09T05:56:02.962Z"
   },
   {
    "duration": 655,
    "start_time": "2022-03-09T05:56:25.701Z"
   },
   {
    "duration": 9,
    "start_time": "2022-03-09T05:56:41.910Z"
   },
   {
    "duration": 8,
    "start_time": "2022-03-09T05:57:15.948Z"
   },
   {
    "duration": 8,
    "start_time": "2022-03-09T05:57:36.925Z"
   },
   {
    "duration": 8,
    "start_time": "2022-03-09T05:58:42.019Z"
   },
   {
    "duration": 8,
    "start_time": "2022-03-09T05:58:49.845Z"
   },
   {
    "duration": 13,
    "start_time": "2022-03-09T06:05:09.085Z"
   },
   {
    "duration": 11,
    "start_time": "2022-03-09T06:05:36.439Z"
   },
   {
    "duration": 742,
    "start_time": "2022-03-09T06:11:16.635Z"
   },
   {
    "duration": 32,
    "start_time": "2022-03-09T06:11:20.341Z"
   },
   {
    "duration": 4,
    "start_time": "2022-03-09T06:11:23.452Z"
   },
   {
    "duration": 14,
    "start_time": "2022-03-09T06:11:25.287Z"
   },
   {
    "duration": 33,
    "start_time": "2022-03-09T06:11:29.624Z"
   },
   {
    "duration": 18,
    "start_time": "2022-03-09T06:11:32.968Z"
   },
   {
    "duration": 84,
    "start_time": "2022-03-09T06:11:34.926Z"
   },
   {
    "duration": 72,
    "start_time": "2022-03-09T06:11:45.529Z"
   },
   {
    "duration": 12,
    "start_time": "2022-03-09T06:11:48.242Z"
   },
   {
    "duration": 6,
    "start_time": "2022-03-09T06:11:57.883Z"
   },
   {
    "duration": 11,
    "start_time": "2022-03-09T06:11:59.791Z"
   },
   {
    "duration": 27,
    "start_time": "2022-03-09T06:12:01.704Z"
   },
   {
    "duration": 5,
    "start_time": "2022-03-09T06:12:03.824Z"
   },
   {
    "duration": 12,
    "start_time": "2022-03-09T06:12:05.743Z"
   },
   {
    "duration": 6,
    "start_time": "2022-03-09T06:12:06.831Z"
   },
   {
    "duration": 7,
    "start_time": "2022-03-09T06:12:08.728Z"
   },
   {
    "duration": 5,
    "start_time": "2022-03-09T06:12:10.430Z"
   },
   {
    "duration": 6,
    "start_time": "2022-03-09T06:12:11.331Z"
   },
   {
    "duration": 35,
    "start_time": "2022-03-09T06:12:13.856Z"
   },
   {
    "duration": 50,
    "start_time": "2022-03-09T06:12:16.402Z"
   },
   {
    "duration": 7,
    "start_time": "2022-03-09T06:15:02.601Z"
   },
   {
    "duration": 8,
    "start_time": "2022-03-09T06:15:06.722Z"
   },
   {
    "duration": 7,
    "start_time": "2022-03-09T06:15:08.078Z"
   },
   {
    "duration": 7,
    "start_time": "2022-03-09T06:15:09.213Z"
   },
   {
    "duration": 8,
    "start_time": "2022-03-09T06:15:11.200Z"
   },
   {
    "duration": 7,
    "start_time": "2022-03-09T06:15:17.431Z"
   },
   {
    "duration": 6,
    "start_time": "2022-03-09T06:15:21.723Z"
   },
   {
    "duration": 7,
    "start_time": "2022-03-09T06:15:28.625Z"
   },
   {
    "duration": 35,
    "start_time": "2022-03-09T06:15:30.685Z"
   },
   {
    "duration": 23,
    "start_time": "2022-03-09T06:15:33.859Z"
   },
   {
    "duration": 27,
    "start_time": "2022-03-09T06:15:35.561Z"
   },
   {
    "duration": 21,
    "start_time": "2022-03-09T06:15:38.169Z"
   },
   {
    "duration": 4,
    "start_time": "2022-03-09T06:15:42.907Z"
   },
   {
    "duration": 7,
    "start_time": "2022-03-09T06:15:45.378Z"
   },
   {
    "duration": 370,
    "start_time": "2022-03-09T06:15:48.982Z"
   },
   {
    "duration": 18,
    "start_time": "2022-03-09T06:15:50.113Z"
   },
   {
    "duration": 43,
    "start_time": "2022-03-09T06:15:52.839Z"
   },
   {
    "duration": 21,
    "start_time": "2022-03-09T06:15:56.680Z"
   },
   {
    "duration": 21,
    "start_time": "2022-03-09T06:15:59.087Z"
   },
   {
    "duration": 18,
    "start_time": "2022-03-09T06:16:03.616Z"
   },
   {
    "duration": 6,
    "start_time": "2022-03-09T06:16:06.440Z"
   },
   {
    "duration": 7,
    "start_time": "2022-03-09T06:16:08.896Z"
   },
   {
    "duration": 584,
    "start_time": "2022-03-09T06:16:11.611Z"
   },
   {
    "duration": 40,
    "start_time": "2022-03-09T06:16:13.840Z"
   },
   {
    "duration": 15,
    "start_time": "2022-03-09T06:16:17.670Z"
   },
   {
    "duration": 21,
    "start_time": "2022-03-09T06:16:21.617Z"
   },
   {
    "duration": 3,
    "start_time": "2022-03-09T06:16:24.675Z"
   },
   {
    "duration": 4,
    "start_time": "2022-03-09T06:16:27.251Z"
   },
   {
    "duration": 6,
    "start_time": "2022-03-09T06:16:29.302Z"
   },
   {
    "duration": 624,
    "start_time": "2022-03-09T06:16:31.188Z"
   },
   {
    "duration": 18,
    "start_time": "2022-03-09T06:16:35.615Z"
   },
   {
    "duration": 15,
    "start_time": "2022-03-09T06:16:37.968Z"
   },
   {
    "duration": 8,
    "start_time": "2022-03-09T06:16:42.803Z"
   },
   {
    "duration": 11,
    "start_time": "2022-03-09T06:16:45.315Z"
   },
   {
    "duration": 392,
    "start_time": "2022-03-09T06:16:48.255Z"
   },
   {
    "duration": 37,
    "start_time": "2022-03-09T06:16:49.993Z"
   },
   {
    "duration": 37,
    "start_time": "2022-03-09T06:16:52.067Z"
   },
   {
    "duration": 6,
    "start_time": "2022-03-09T06:16:54.348Z"
   },
   {
    "duration": 578,
    "start_time": "2022-03-09T06:16:56.917Z"
   },
   {
    "duration": 11,
    "start_time": "2022-03-09T06:17:07.998Z"
   },
   {
    "duration": 47,
    "start_time": "2022-03-09T06:17:17.150Z"
   },
   {
    "duration": 60,
    "start_time": "2022-03-09T06:17:22.741Z"
   },
   {
    "duration": 503,
    "start_time": "2022-03-09T06:17:29.128Z"
   },
   {
    "duration": 51,
    "start_time": "2022-03-09T06:17:36.203Z"
   },
   {
    "duration": 800,
    "start_time": "2022-03-09T20:23:04.348Z"
   },
   {
    "duration": 32,
    "start_time": "2022-03-09T20:23:09.859Z"
   },
   {
    "duration": 17,
    "start_time": "2022-03-09T20:23:27.926Z"
   },
   {
    "duration": 5,
    "start_time": "2022-03-09T20:23:29.696Z"
   },
   {
    "duration": 14,
    "start_time": "2022-03-09T20:23:30.840Z"
   },
   {
    "duration": 33,
    "start_time": "2022-03-09T20:23:32.415Z"
   },
   {
    "duration": 21,
    "start_time": "2022-03-09T20:24:06.196Z"
   },
   {
    "duration": 89,
    "start_time": "2022-03-09T20:28:03.772Z"
   },
   {
    "duration": 74,
    "start_time": "2022-03-09T20:37:45.309Z"
   },
   {
    "duration": 6,
    "start_time": "2022-03-09T20:46:13.779Z"
   },
   {
    "duration": 12,
    "start_time": "2022-03-09T20:46:15.290Z"
   },
   {
    "duration": 28,
    "start_time": "2022-03-09T20:46:16.429Z"
   },
   {
    "duration": 5,
    "start_time": "2022-03-09T20:46:17.898Z"
   },
   {
    "duration": 11,
    "start_time": "2022-03-09T20:46:19.460Z"
   },
   {
    "duration": 5,
    "start_time": "2022-03-09T20:46:21.172Z"
   },
   {
    "duration": 6,
    "start_time": "2022-03-09T20:46:22.796Z"
   },
   {
    "duration": 5,
    "start_time": "2022-03-09T20:46:24.389Z"
   },
   {
    "duration": 6,
    "start_time": "2022-03-09T20:46:25.224Z"
   },
   {
    "duration": 37,
    "start_time": "2022-03-09T20:46:26.914Z"
   },
   {
    "duration": 62,
    "start_time": "2022-03-09T20:46:29.062Z"
   },
   {
    "duration": 6,
    "start_time": "2022-03-09T20:46:31.092Z"
   },
   {
    "duration": 7,
    "start_time": "2022-03-09T20:46:32.315Z"
   },
   {
    "duration": 7,
    "start_time": "2022-03-09T20:46:35.121Z"
   },
   {
    "duration": 8,
    "start_time": "2022-03-09T20:46:37.091Z"
   },
   {
    "duration": 7,
    "start_time": "2022-03-09T20:46:39.775Z"
   },
   {
    "duration": 7,
    "start_time": "2022-03-09T20:46:41.770Z"
   },
   {
    "duration": 7,
    "start_time": "2022-03-09T20:46:43.354Z"
   },
   {
    "duration": 6,
    "start_time": "2022-03-09T20:46:44.285Z"
   },
   {
    "duration": 34,
    "start_time": "2022-03-09T20:46:45.835Z"
   },
   {
    "duration": 24,
    "start_time": "2022-03-09T20:46:48.194Z"
   },
   {
    "duration": 25,
    "start_time": "2022-03-09T20:46:49.613Z"
   },
   {
    "duration": 21,
    "start_time": "2022-03-09T20:46:51.327Z"
   },
   {
    "duration": 5,
    "start_time": "2022-03-09T20:46:56.082Z"
   },
   {
    "duration": 7,
    "start_time": "2022-03-09T20:46:58.742Z"
   },
   {
    "duration": 393,
    "start_time": "2022-03-09T20:46:59.720Z"
   },
   {
    "duration": 20,
    "start_time": "2022-03-09T20:47:01.250Z"
   },
   {
    "duration": 45,
    "start_time": "2022-03-09T20:47:02.880Z"
   },
   {
    "duration": 7,
    "start_time": "2022-03-09T20:48:02.237Z"
   },
   {
    "duration": 26,
    "start_time": "2022-03-09T20:48:06.911Z"
   },
   {
    "duration": 26,
    "start_time": "2022-03-09T20:48:07.914Z"
   },
   {
    "duration": 20,
    "start_time": "2022-03-09T20:48:08.865Z"
   },
   {
    "duration": 4,
    "start_time": "2022-03-09T20:48:11.046Z"
   },
   {
    "duration": 6,
    "start_time": "2022-03-09T20:48:12.889Z"
   },
   {
    "duration": 474,
    "start_time": "2022-03-09T20:48:13.978Z"
   },
   {
    "duration": 18,
    "start_time": "2022-03-09T20:48:14.886Z"
   },
   {
    "duration": 45,
    "start_time": "2022-03-09T20:48:16.826Z"
   },
   {
    "duration": 22,
    "start_time": "2022-03-09T20:48:18.822Z"
   },
   {
    "duration": 21,
    "start_time": "2022-03-09T20:48:20.661Z"
   },
   {
    "duration": 21,
    "start_time": "2022-03-09T20:48:22.421Z"
   },
   {
    "duration": 7,
    "start_time": "2022-03-09T20:48:24.097Z"
   },
   {
    "duration": 7,
    "start_time": "2022-03-09T20:48:26.821Z"
   },
   {
    "duration": 795,
    "start_time": "2022-03-09T20:48:28.689Z"
   },
   {
    "duration": 57,
    "start_time": "2022-03-09T20:48:29.650Z"
   },
   {
    "duration": 18,
    "start_time": "2022-03-09T20:48:31.659Z"
   },
   {
    "duration": 20,
    "start_time": "2022-03-09T20:48:38.928Z"
   },
   {
    "duration": 4,
    "start_time": "2022-03-09T20:48:40.831Z"
   },
   {
    "duration": 5,
    "start_time": "2022-03-09T20:48:41.664Z"
   },
   {
    "duration": 4,
    "start_time": "2022-03-09T20:48:54.495Z"
   },
   {
    "duration": 7,
    "start_time": "2022-03-09T20:48:55.594Z"
   },
   {
    "duration": 668,
    "start_time": "2022-03-09T20:48:57.647Z"
   },
   {
    "duration": 20,
    "start_time": "2022-03-09T20:48:59.873Z"
   },
   {
    "duration": 16,
    "start_time": "2022-03-09T20:49:02.164Z"
   },
   {
    "duration": 8,
    "start_time": "2022-03-09T20:49:04.115Z"
   },
   {
    "duration": 11,
    "start_time": "2022-03-09T20:49:06.357Z"
   },
   {
    "duration": 438,
    "start_time": "2022-03-09T20:49:09.823Z"
   },
   {
    "duration": 35,
    "start_time": "2022-03-09T20:49:12.807Z"
   },
   {
    "duration": 35,
    "start_time": "2022-03-09T20:49:15.308Z"
   },
   {
    "duration": 6,
    "start_time": "2022-03-09T20:49:18.620Z"
   },
   {
    "duration": 627,
    "start_time": "2022-03-09T20:49:24.729Z"
   },
   {
    "duration": 10,
    "start_time": "2022-03-09T20:49:28.951Z"
   },
   {
    "duration": 45,
    "start_time": "2022-03-09T20:49:32.062Z"
   },
   {
    "duration": 56,
    "start_time": "2022-03-09T20:49:35.287Z"
   },
   {
    "duration": 557,
    "start_time": "2022-03-09T20:49:38.807Z"
   },
   {
    "duration": 837,
    "start_time": "2022-03-09T22:37:34.755Z"
   },
   {
    "duration": 31,
    "start_time": "2022-03-09T22:37:35.595Z"
   },
   {
    "duration": 20,
    "start_time": "2022-03-09T22:37:35.629Z"
   },
   {
    "duration": 30,
    "start_time": "2022-03-09T22:37:35.652Z"
   },
   {
    "duration": 45,
    "start_time": "2022-03-09T22:37:35.685Z"
   },
   {
    "duration": 19,
    "start_time": "2022-03-09T22:37:35.733Z"
   },
   {
    "duration": 109,
    "start_time": "2022-03-09T22:37:35.754Z"
   },
   {
    "duration": 83,
    "start_time": "2022-03-09T22:37:35.866Z"
   },
   {
    "duration": 32,
    "start_time": "2022-03-09T22:37:35.953Z"
   },
   {
    "duration": 12,
    "start_time": "2022-03-09T22:37:35.989Z"
   },
   {
    "duration": 14,
    "start_time": "2022-03-09T22:37:36.004Z"
   },
   {
    "duration": 29,
    "start_time": "2022-03-09T22:37:36.020Z"
   },
   {
    "duration": 32,
    "start_time": "2022-03-09T22:37:36.052Z"
   },
   {
    "duration": 17,
    "start_time": "2022-03-09T22:37:36.087Z"
   },
   {
    "duration": 4,
    "start_time": "2022-03-09T22:37:36.107Z"
   },
   {
    "duration": 12,
    "start_time": "2022-03-09T22:37:36.114Z"
   },
   {
    "duration": 4,
    "start_time": "2022-03-09T22:37:36.128Z"
   },
   {
    "duration": 9,
    "start_time": "2022-03-09T22:37:36.134Z"
   },
   {
    "duration": 68,
    "start_time": "2022-03-09T22:37:36.146Z"
   },
   {
    "duration": 78,
    "start_time": "2022-03-09T22:37:36.216Z"
   },
   {
    "duration": 8,
    "start_time": "2022-03-09T22:37:36.297Z"
   },
   {
    "duration": 9,
    "start_time": "2022-03-09T22:37:36.308Z"
   },
   {
    "duration": 10,
    "start_time": "2022-03-09T22:37:36.320Z"
   },
   {
    "duration": 12,
    "start_time": "2022-03-09T22:37:36.332Z"
   },
   {
    "duration": 8,
    "start_time": "2022-03-09T22:37:36.381Z"
   },
   {
    "duration": 9,
    "start_time": "2022-03-09T22:37:36.392Z"
   },
   {
    "duration": 6,
    "start_time": "2022-03-09T22:37:36.407Z"
   },
   {
    "duration": 9,
    "start_time": "2022-03-09T22:37:36.416Z"
   },
   {
    "duration": 9,
    "start_time": "2022-03-09T22:37:36.428Z"
   },
   {
    "duration": 43,
    "start_time": "2022-03-09T22:37:36.439Z"
   },
   {
    "duration": 34,
    "start_time": "2022-03-09T22:37:36.484Z"
   },
   {
    "duration": 24,
    "start_time": "2022-03-09T22:37:36.520Z"
   },
   {
    "duration": 53,
    "start_time": "2022-03-09T22:37:36.546Z"
   },
   {
    "duration": 18,
    "start_time": "2022-03-09T22:37:36.602Z"
   },
   {
    "duration": 4,
    "start_time": "2022-03-09T22:37:36.623Z"
   },
   {
    "duration": 10,
    "start_time": "2022-03-09T22:37:36.629Z"
   },
   {
    "duration": 399,
    "start_time": "2022-03-09T22:37:36.641Z"
   },
   {
    "duration": 19,
    "start_time": "2022-03-09T22:37:37.043Z"
   },
   {
    "duration": 63,
    "start_time": "2022-03-09T22:37:37.065Z"
   },
   {
    "duration": 23,
    "start_time": "2022-03-09T22:37:37.131Z"
   },
   {
    "duration": 48,
    "start_time": "2022-03-09T22:37:37.157Z"
   },
   {
    "duration": 36,
    "start_time": "2022-03-09T22:37:37.208Z"
   },
   {
    "duration": 6,
    "start_time": "2022-03-09T22:37:37.247Z"
   },
   {
    "duration": 38,
    "start_time": "2022-03-09T22:37:37.256Z"
   },
   {
    "duration": 600,
    "start_time": "2022-03-09T22:37:37.297Z"
   },
   {
    "duration": 34,
    "start_time": "2022-03-09T22:37:37.900Z"
   },
   {
    "duration": 18,
    "start_time": "2022-03-09T22:37:37.937Z"
   },
   {
    "duration": 41,
    "start_time": "2022-03-09T22:37:37.957Z"
   },
   {
    "duration": 4,
    "start_time": "2022-03-09T22:37:38.000Z"
   },
   {
    "duration": 13,
    "start_time": "2022-03-09T22:37:38.007Z"
   },
   {
    "duration": 620,
    "start_time": "2022-03-09T22:37:38.022Z"
   },
   {
    "duration": 18,
    "start_time": "2022-03-09T22:37:38.645Z"
   },
   {
    "duration": 30,
    "start_time": "2022-03-09T22:37:38.666Z"
   },
   {
    "duration": 15,
    "start_time": "2022-03-09T22:37:38.698Z"
   },
   {
    "duration": 11,
    "start_time": "2022-03-09T22:37:38.716Z"
   },
   {
    "duration": 422,
    "start_time": "2022-03-09T22:37:38.729Z"
   },
   {
    "duration": 48,
    "start_time": "2022-03-09T22:37:39.153Z"
   },
   {
    "duration": 35,
    "start_time": "2022-03-09T22:37:39.204Z"
   },
   {
    "duration": 5,
    "start_time": "2022-03-09T22:37:39.242Z"
   },
   {
    "duration": 627,
    "start_time": "2022-03-09T22:37:39.249Z"
   },
   {
    "duration": 9,
    "start_time": "2022-03-09T22:37:39.879Z"
   },
   {
    "duration": 62,
    "start_time": "2022-03-09T22:37:39.891Z"
   },
   {
    "duration": 74,
    "start_time": "2022-03-09T22:37:39.956Z"
   },
   {
    "duration": 524,
    "start_time": "2022-03-09T22:37:40.032Z"
   },
   {
    "duration": 64,
    "start_time": "2022-03-09T22:37:40.558Z"
   },
   {
    "duration": 35,
    "start_time": "2022-03-09T23:22:28.879Z"
   },
   {
    "duration": 5,
    "start_time": "2022-03-09T23:25:26.276Z"
   },
   {
    "duration": 10,
    "start_time": "2022-03-09T23:29:56.530Z"
   },
   {
    "duration": 51,
    "start_time": "2022-03-09T23:30:21.095Z"
   },
   {
    "duration": 11,
    "start_time": "2022-03-09T23:30:26.743Z"
   },
   {
    "duration": 888,
    "start_time": "2022-03-10T10:33:00.174Z"
   },
   {
    "duration": 23,
    "start_time": "2022-03-10T10:33:01.064Z"
   },
   {
    "duration": 28,
    "start_time": "2022-03-10T10:33:01.090Z"
   },
   {
    "duration": 21,
    "start_time": "2022-03-10T10:33:01.121Z"
   },
   {
    "duration": 34,
    "start_time": "2022-03-10T10:33:01.144Z"
   },
   {
    "duration": 14,
    "start_time": "2022-03-10T10:33:01.180Z"
   },
   {
    "duration": 702,
    "start_time": "2022-03-10T10:33:01.196Z"
   },
   {
    "duration": 2048,
    "start_time": "2022-03-10T10:32:59.854Z"
   },
   {
    "duration": 2038,
    "start_time": "2022-03-10T10:32:59.865Z"
   },
   {
    "duration": 2027,
    "start_time": "2022-03-10T10:32:59.877Z"
   },
   {
    "duration": 1996,
    "start_time": "2022-03-10T10:32:59.909Z"
   },
   {
    "duration": 1993,
    "start_time": "2022-03-10T10:32:59.913Z"
   },
   {
    "duration": 1990,
    "start_time": "2022-03-10T10:32:59.917Z"
   },
   {
    "duration": 1979,
    "start_time": "2022-03-10T10:32:59.929Z"
   },
   {
    "duration": 1977,
    "start_time": "2022-03-10T10:32:59.933Z"
   },
   {
    "duration": 1968,
    "start_time": "2022-03-10T10:32:59.943Z"
   },
   {
    "duration": 1965,
    "start_time": "2022-03-10T10:32:59.947Z"
   },
   {
    "duration": 1960,
    "start_time": "2022-03-10T10:32:59.953Z"
   },
   {
    "duration": 1951,
    "start_time": "2022-03-10T10:32:59.963Z"
   },
   {
    "duration": 1948,
    "start_time": "2022-03-10T10:32:59.968Z"
   },
   {
    "duration": 1939,
    "start_time": "2022-03-10T10:32:59.978Z"
   },
   {
    "duration": 1936,
    "start_time": "2022-03-10T10:32:59.982Z"
   },
   {
    "duration": 1927,
    "start_time": "2022-03-10T10:32:59.992Z"
   },
   {
    "duration": 1923,
    "start_time": "2022-03-10T10:32:59.996Z"
   },
   {
    "duration": 1921,
    "start_time": "2022-03-10T10:33:00.000Z"
   },
   {
    "duration": 1908,
    "start_time": "2022-03-10T10:33:00.013Z"
   },
   {
    "duration": 1905,
    "start_time": "2022-03-10T10:33:00.017Z"
   },
   {
    "duration": 1895,
    "start_time": "2022-03-10T10:33:00.028Z"
   },
   {
    "duration": 1892,
    "start_time": "2022-03-10T10:33:00.032Z"
   },
   {
    "duration": 1882,
    "start_time": "2022-03-10T10:33:00.043Z"
   },
   {
    "duration": 1879,
    "start_time": "2022-03-10T10:33:00.047Z"
   },
   {
    "duration": 1775,
    "start_time": "2022-03-10T10:33:00.152Z"
   },
   {
    "duration": 1772,
    "start_time": "2022-03-10T10:33:00.156Z"
   },
   {
    "duration": 1769,
    "start_time": "2022-03-10T10:33:00.160Z"
   },
   {
    "duration": 1767,
    "start_time": "2022-03-10T10:33:00.163Z"
   },
   {
    "duration": 1764,
    "start_time": "2022-03-10T10:33:00.167Z"
   },
   {
    "duration": 1754,
    "start_time": "2022-03-10T10:33:00.178Z"
   },
   {
    "duration": 1750,
    "start_time": "2022-03-10T10:33:00.182Z"
   },
   {
    "duration": 1742,
    "start_time": "2022-03-10T10:33:00.191Z"
   },
   {
    "duration": 1738,
    "start_time": "2022-03-10T10:33:00.196Z"
   },
   {
    "duration": 1736,
    "start_time": "2022-03-10T10:33:00.199Z"
   },
   {
    "duration": 1726,
    "start_time": "2022-03-10T10:33:00.210Z"
   },
   {
    "duration": 1724,
    "start_time": "2022-03-10T10:33:00.214Z"
   },
   {
    "duration": 1716,
    "start_time": "2022-03-10T10:33:00.224Z"
   },
   {
    "duration": 1712,
    "start_time": "2022-03-10T10:33:00.228Z"
   },
   {
    "duration": 1710,
    "start_time": "2022-03-10T10:33:00.231Z"
   },
   {
    "duration": 1699,
    "start_time": "2022-03-10T10:33:00.243Z"
   },
   {
    "duration": 1696,
    "start_time": "2022-03-10T10:33:00.247Z"
   },
   {
    "duration": 1727,
    "start_time": "2022-03-10T10:33:00.250Z"
   },
   {
    "duration": 1717,
    "start_time": "2022-03-10T10:33:00.261Z"
   },
   {
    "duration": 1714,
    "start_time": "2022-03-10T10:33:00.265Z"
   },
   {
    "duration": 1706,
    "start_time": "2022-03-10T10:33:00.274Z"
   },
   {
    "duration": 1704,
    "start_time": "2022-03-10T10:33:00.277Z"
   },
   {
    "duration": 1701,
    "start_time": "2022-03-10T10:33:00.281Z"
   },
   {
    "duration": 1698,
    "start_time": "2022-03-10T10:33:00.285Z"
   },
   {
    "duration": 1689,
    "start_time": "2022-03-10T10:33:00.296Z"
   },
   {
    "duration": 1686,
    "start_time": "2022-03-10T10:33:00.300Z"
   },
   {
    "duration": 1677,
    "start_time": "2022-03-10T10:33:00.310Z"
   },
   {
    "duration": 1674,
    "start_time": "2022-03-10T10:33:00.314Z"
   },
   {
    "duration": 1671,
    "start_time": "2022-03-10T10:33:00.318Z"
   },
   {
    "duration": 1663,
    "start_time": "2022-03-10T10:33:00.327Z"
   },
   {
    "duration": 1660,
    "start_time": "2022-03-10T10:33:00.332Z"
   },
   {
    "duration": 1653,
    "start_time": "2022-03-10T10:33:00.340Z"
   },
   {
    "duration": 1650,
    "start_time": "2022-03-10T10:33:00.344Z"
   },
   {
    "duration": 1647,
    "start_time": "2022-03-10T10:33:00.348Z"
   },
   {
    "duration": 343,
    "start_time": "2022-03-10T10:34:09.799Z"
   },
   {
    "duration": 61,
    "start_time": "2022-03-10T10:35:22.258Z"
   },
   {
    "duration": 46,
    "start_time": "2022-03-10T10:35:49.316Z"
   },
   {
    "duration": 15,
    "start_time": "2022-03-10T10:35:49.364Z"
   },
   {
    "duration": 10,
    "start_time": "2022-03-10T10:35:49.382Z"
   },
   {
    "duration": 16,
    "start_time": "2022-03-10T10:35:49.394Z"
   },
   {
    "duration": 25,
    "start_time": "2022-03-10T10:35:49.412Z"
   },
   {
    "duration": 39,
    "start_time": "2022-03-10T10:35:49.439Z"
   },
   {
    "duration": 63,
    "start_time": "2022-03-10T10:35:49.480Z"
   },
   {
    "duration": 77,
    "start_time": "2022-03-10T10:35:49.545Z"
   },
   {
    "duration": 8,
    "start_time": "2022-03-10T10:35:49.624Z"
   },
   {
    "duration": 14,
    "start_time": "2022-03-10T10:35:49.634Z"
   },
   {
    "duration": 11,
    "start_time": "2022-03-10T10:35:49.650Z"
   },
   {
    "duration": 32,
    "start_time": "2022-03-10T10:35:49.662Z"
   },
   {
    "duration": 4,
    "start_time": "2022-03-10T10:35:49.696Z"
   },
   {
    "duration": 23,
    "start_time": "2022-03-10T10:35:49.701Z"
   },
   {
    "duration": 6,
    "start_time": "2022-03-10T10:35:49.725Z"
   },
   {
    "duration": 10,
    "start_time": "2022-03-10T10:35:49.732Z"
   },
   {
    "duration": 6,
    "start_time": "2022-03-10T10:35:49.744Z"
   },
   {
    "duration": 8,
    "start_time": "2022-03-10T10:35:49.752Z"
   },
   {
    "duration": 24,
    "start_time": "2022-03-10T10:35:49.777Z"
   },
   {
    "duration": 39,
    "start_time": "2022-03-10T10:35:49.802Z"
   },
   {
    "duration": 4,
    "start_time": "2022-03-10T10:35:49.843Z"
   },
   {
    "duration": 32,
    "start_time": "2022-03-10T10:35:49.849Z"
   },
   {
    "duration": 5,
    "start_time": "2022-03-10T10:35:49.885Z"
   },
   {
    "duration": 9,
    "start_time": "2022-03-10T10:35:49.893Z"
   },
   {
    "duration": 6,
    "start_time": "2022-03-10T10:35:49.903Z"
   },
   {
    "duration": 6,
    "start_time": "2022-03-10T10:35:49.911Z"
   },
   {
    "duration": 6,
    "start_time": "2022-03-10T10:35:49.919Z"
   },
   {
    "duration": 14,
    "start_time": "2022-03-10T10:35:49.927Z"
   },
   {
    "duration": 8,
    "start_time": "2022-03-10T10:35:49.943Z"
   },
   {
    "duration": 27,
    "start_time": "2022-03-10T10:35:49.953Z"
   },
   {
    "duration": 26,
    "start_time": "2022-03-10T10:35:49.982Z"
   },
   {
    "duration": 18,
    "start_time": "2022-03-10T10:35:50.010Z"
   },
   {
    "duration": 21,
    "start_time": "2022-03-10T10:35:50.029Z"
   },
   {
    "duration": 17,
    "start_time": "2022-03-10T10:35:50.078Z"
   },
   {
    "duration": 5,
    "start_time": "2022-03-10T10:35:50.097Z"
   },
   {
    "duration": 8,
    "start_time": "2022-03-10T10:35:50.103Z"
   },
   {
    "duration": 280,
    "start_time": "2022-03-10T10:35:50.113Z"
   },
   {
    "duration": 15,
    "start_time": "2022-03-10T10:35:50.395Z"
   },
   {
    "duration": 33,
    "start_time": "2022-03-10T10:35:50.412Z"
   },
   {
    "duration": 37,
    "start_time": "2022-03-10T10:35:50.448Z"
   },
   {
    "duration": 15,
    "start_time": "2022-03-10T10:35:50.488Z"
   },
   {
    "duration": 15,
    "start_time": "2022-03-10T10:35:50.505Z"
   },
   {
    "duration": 6,
    "start_time": "2022-03-10T10:35:50.522Z"
   },
   {
    "duration": 10,
    "start_time": "2022-03-10T10:35:50.530Z"
   },
   {
    "duration": 426,
    "start_time": "2022-03-10T10:35:50.542Z"
   },
   {
    "duration": 31,
    "start_time": "2022-03-10T10:35:50.969Z"
   },
   {
    "duration": 14,
    "start_time": "2022-03-10T10:35:51.002Z"
   },
   {
    "duration": 16,
    "start_time": "2022-03-10T10:35:51.017Z"
   },
   {
    "duration": 3,
    "start_time": "2022-03-10T10:35:51.035Z"
   },
   {
    "duration": 38,
    "start_time": "2022-03-10T10:35:51.040Z"
   },
   {
    "duration": 418,
    "start_time": "2022-03-10T10:35:51.080Z"
   },
   {
    "duration": 13,
    "start_time": "2022-03-10T10:35:51.500Z"
   },
   {
    "duration": 16,
    "start_time": "2022-03-10T10:35:51.515Z"
   },
   {
    "duration": 6,
    "start_time": "2022-03-10T10:35:51.533Z"
   },
   {
    "duration": 8,
    "start_time": "2022-03-10T10:35:51.540Z"
   },
   {
    "duration": 294,
    "start_time": "2022-03-10T10:35:51.550Z"
   },
   {
    "duration": 36,
    "start_time": "2022-03-10T10:35:51.845Z"
   },
   {
    "duration": 25,
    "start_time": "2022-03-10T10:35:51.882Z"
   },
   {
    "duration": 4,
    "start_time": "2022-03-10T10:35:51.909Z"
   },
   {
    "duration": 419,
    "start_time": "2022-03-10T10:35:51.914Z"
   },
   {
    "duration": 8,
    "start_time": "2022-03-10T10:35:52.335Z"
   },
   {
    "duration": 51,
    "start_time": "2022-03-10T10:35:52.345Z"
   },
   {
    "duration": 43,
    "start_time": "2022-03-10T10:35:52.398Z"
   },
   {
    "duration": 379,
    "start_time": "2022-03-10T10:35:52.443Z"
   },
   {
    "duration": 54,
    "start_time": "2022-03-10T10:35:52.824Z"
   },
   {
    "duration": 51,
    "start_time": "2022-03-10T13:15:14.528Z"
   },
   {
    "duration": 14,
    "start_time": "2022-03-10T13:16:28.236Z"
   },
   {
    "duration": 3,
    "start_time": "2022-03-10T13:16:37.410Z"
   },
   {
    "duration": 6,
    "start_time": "2022-03-10T13:16:42.537Z"
   },
   {
    "duration": 14,
    "start_time": "2022-03-10T13:17:39.719Z"
   },
   {
    "duration": 415,
    "start_time": "2022-03-10T13:17:46.013Z"
   },
   {
    "duration": 13,
    "start_time": "2022-03-10T13:17:49.096Z"
   },
   {
    "duration": 47,
    "start_time": "2022-03-10T13:18:07.169Z"
   },
   {
    "duration": 15,
    "start_time": "2022-03-10T13:18:07.218Z"
   },
   {
    "duration": 15,
    "start_time": "2022-03-10T13:18:07.235Z"
   },
   {
    "duration": 42,
    "start_time": "2022-03-10T13:18:07.252Z"
   },
   {
    "duration": 40,
    "start_time": "2022-03-10T13:18:07.295Z"
   },
   {
    "duration": 23,
    "start_time": "2022-03-10T13:18:07.337Z"
   },
   {
    "duration": 69,
    "start_time": "2022-03-10T13:18:07.362Z"
   },
   {
    "duration": 74,
    "start_time": "2022-03-10T13:18:07.433Z"
   },
   {
    "duration": 8,
    "start_time": "2022-03-10T13:18:07.510Z"
   },
   {
    "duration": 33,
    "start_time": "2022-03-10T13:18:07.521Z"
   },
   {
    "duration": 21,
    "start_time": "2022-03-10T13:18:07.556Z"
   },
   {
    "duration": 44,
    "start_time": "2022-03-10T13:18:07.579Z"
   },
   {
    "duration": 9,
    "start_time": "2022-03-10T13:18:07.625Z"
   },
   {
    "duration": 16,
    "start_time": "2022-03-10T13:18:07.636Z"
   },
   {
    "duration": 25,
    "start_time": "2022-03-10T13:18:07.654Z"
   },
   {
    "duration": 15,
    "start_time": "2022-03-10T13:18:07.681Z"
   },
   {
    "duration": 21,
    "start_time": "2022-03-10T13:18:07.697Z"
   },
   {
    "duration": 25,
    "start_time": "2022-03-10T13:18:07.720Z"
   },
   {
    "duration": 27,
    "start_time": "2022-03-10T13:18:07.747Z"
   },
   {
    "duration": 39,
    "start_time": "2022-03-10T13:18:07.776Z"
   },
   {
    "duration": 13,
    "start_time": "2022-03-10T13:18:07.817Z"
   },
   {
    "duration": 19,
    "start_time": "2022-03-10T13:18:07.832Z"
   },
   {
    "duration": 34,
    "start_time": "2022-03-10T13:18:07.854Z"
   },
   {
    "duration": 24,
    "start_time": "2022-03-10T13:18:07.890Z"
   },
   {
    "duration": 30,
    "start_time": "2022-03-10T13:18:07.916Z"
   },
   {
    "duration": 19,
    "start_time": "2022-03-10T13:18:07.948Z"
   },
   {
    "duration": 26,
    "start_time": "2022-03-10T13:18:07.973Z"
   },
   {
    "duration": 32,
    "start_time": "2022-03-10T13:18:08.002Z"
   },
   {
    "duration": 38,
    "start_time": "2022-03-10T13:18:08.036Z"
   },
   {
    "duration": 66,
    "start_time": "2022-03-10T13:18:08.076Z"
   },
   {
    "duration": 46,
    "start_time": "2022-03-10T13:18:08.144Z"
   },
   {
    "duration": 15,
    "start_time": "2022-03-10T13:18:08.192Z"
   },
   {
    "duration": 21,
    "start_time": "2022-03-10T13:18:08.209Z"
   },
   {
    "duration": 17,
    "start_time": "2022-03-10T13:18:08.231Z"
   },
   {
    "duration": 11,
    "start_time": "2022-03-10T13:18:08.250Z"
   },
   {
    "duration": 33,
    "start_time": "2022-03-10T13:18:08.263Z"
   },
   {
    "duration": 270,
    "start_time": "2022-03-10T13:18:08.298Z"
   },
   {
    "duration": 13,
    "start_time": "2022-03-10T13:18:08.570Z"
   },
   {
    "duration": 64,
    "start_time": "2022-03-10T13:18:08.584Z"
   },
   {
    "duration": 15,
    "start_time": "2022-03-10T13:18:08.649Z"
   },
   {
    "duration": 16,
    "start_time": "2022-03-10T13:18:08.665Z"
   },
   {
    "duration": 29,
    "start_time": "2022-03-10T13:18:08.682Z"
   },
   {
    "duration": 7,
    "start_time": "2022-03-10T13:18:08.713Z"
   },
   {
    "duration": 30,
    "start_time": "2022-03-10T13:18:08.722Z"
   },
   {
    "duration": 410,
    "start_time": "2022-03-10T13:18:08.754Z"
   },
   {
    "duration": 30,
    "start_time": "2022-03-10T13:18:09.166Z"
   },
   {
    "duration": 22,
    "start_time": "2022-03-10T13:18:09.198Z"
   },
   {
    "duration": 21,
    "start_time": "2022-03-10T13:18:09.222Z"
   },
   {
    "duration": 13,
    "start_time": "2022-03-10T13:18:09.244Z"
   },
   {
    "duration": 14,
    "start_time": "2022-03-10T13:18:09.259Z"
   },
   {
    "duration": 437,
    "start_time": "2022-03-10T13:18:09.275Z"
   },
   {
    "duration": 13,
    "start_time": "2022-03-10T13:18:09.714Z"
   },
   {
    "duration": 22,
    "start_time": "2022-03-10T13:18:09.729Z"
   },
   {
    "duration": 28,
    "start_time": "2022-03-10T13:18:09.753Z"
   },
   {
    "duration": 16,
    "start_time": "2022-03-10T13:18:09.783Z"
   },
   {
    "duration": 279,
    "start_time": "2022-03-10T13:18:09.801Z"
   },
   {
    "duration": 25,
    "start_time": "2022-03-10T13:18:10.081Z"
   },
   {
    "duration": 25,
    "start_time": "2022-03-10T13:18:10.108Z"
   },
   {
    "duration": 5,
    "start_time": "2022-03-10T13:18:10.135Z"
   },
   {
    "duration": 439,
    "start_time": "2022-03-10T13:18:10.142Z"
   },
   {
    "duration": 8,
    "start_time": "2022-03-10T13:18:10.583Z"
   },
   {
    "duration": 44,
    "start_time": "2022-03-10T13:18:10.592Z"
   },
   {
    "duration": 55,
    "start_time": "2022-03-10T13:18:10.638Z"
   },
   {
    "duration": 368,
    "start_time": "2022-03-10T13:18:10.695Z"
   },
   {
    "duration": 49,
    "start_time": "2022-03-10T13:18:11.065Z"
   },
   {
    "duration": 657,
    "start_time": "2022-03-13T01:18:24.367Z"
   },
   {
    "duration": 58,
    "start_time": "2022-03-13T01:18:26.115Z"
   },
   {
    "duration": 44,
    "start_time": "2022-03-13T01:19:33.589Z"
   },
   {
    "duration": 21,
    "start_time": "2022-03-13T01:23:41.561Z"
   },
   {
    "duration": 36,
    "start_time": "2022-03-13T01:24:45.456Z"
   },
   {
    "duration": 22,
    "start_time": "2022-03-13T01:25:56.893Z"
   },
   {
    "duration": 18,
    "start_time": "2022-03-13T01:26:23.968Z"
   },
   {
    "duration": 23,
    "start_time": "2022-03-13T01:30:37.939Z"
   },
   {
    "duration": 21,
    "start_time": "2022-03-13T01:31:12.452Z"
   },
   {
    "duration": 4,
    "start_time": "2022-03-13T01:37:28.617Z"
   },
   {
    "duration": 4,
    "start_time": "2022-03-13T01:37:36.800Z"
   },
   {
    "duration": 9,
    "start_time": "2022-03-13T01:37:45.564Z"
   },
   {
    "duration": 5,
    "start_time": "2022-03-13T01:37:47.905Z"
   },
   {
    "duration": 105,
    "start_time": "2022-03-13T01:39:28.827Z"
   },
   {
    "duration": 7,
    "start_time": "2022-03-13T01:39:45.622Z"
   },
   {
    "duration": 14,
    "start_time": "2022-03-13T01:40:00.666Z"
   },
   {
    "duration": 13,
    "start_time": "2022-03-13T01:40:16.639Z"
   },
   {
    "duration": 30,
    "start_time": "2022-03-13T01:40:34.162Z"
   },
   {
    "duration": 6,
    "start_time": "2022-03-13T01:40:51.527Z"
   },
   {
    "duration": 2067,
    "start_time": "2022-03-13T01:44:59.704Z"
   },
   {
    "duration": 270,
    "start_time": "2022-03-13T01:45:07.593Z"
   },
   {
    "duration": 13,
    "start_time": "2022-03-13T01:45:12.995Z"
   },
   {
    "duration": 6,
    "start_time": "2022-03-13T01:45:42.693Z"
   },
   {
    "duration": 7,
    "start_time": "2022-03-13T01:45:47.176Z"
   },
   {
    "duration": 7,
    "start_time": "2022-03-13T01:45:51.712Z"
   },
   {
    "duration": 14,
    "start_time": "2022-03-13T01:47:13.778Z"
   },
   {
    "duration": 4,
    "start_time": "2022-03-13T01:49:07.829Z"
   },
   {
    "duration": 16,
    "start_time": "2022-03-13T01:49:11.629Z"
   },
   {
    "duration": 273,
    "start_time": "2022-03-13T01:51:41.239Z"
   },
   {
    "duration": 5,
    "start_time": "2022-03-13T01:51:50.173Z"
   },
   {
    "duration": 6,
    "start_time": "2022-03-13T01:52:00.220Z"
   },
   {
    "duration": 258,
    "start_time": "2022-03-13T01:52:12.005Z"
   },
   {
    "duration": 260,
    "start_time": "2022-03-13T01:52:16.529Z"
   },
   {
    "duration": 6,
    "start_time": "2022-03-13T01:52:27.040Z"
   },
   {
    "duration": 6,
    "start_time": "2022-03-13T01:52:59.407Z"
   },
   {
    "duration": 6,
    "start_time": "2022-03-13T01:53:07.834Z"
   },
   {
    "duration": 8,
    "start_time": "2022-03-13T01:53:50.816Z"
   },
   {
    "duration": 7,
    "start_time": "2022-03-13T01:54:01.470Z"
   },
   {
    "duration": 8,
    "start_time": "2022-03-13T01:54:18.125Z"
   },
   {
    "duration": 90,
    "start_time": "2022-03-13T01:54:44.258Z"
   },
   {
    "duration": 109,
    "start_time": "2022-03-13T01:55:04.983Z"
   },
   {
    "duration": 7,
    "start_time": "2022-03-13T01:55:15.606Z"
   },
   {
    "duration": 7,
    "start_time": "2022-03-13T01:55:37.272Z"
   },
   {
    "duration": 277,
    "start_time": "2022-03-13T01:57:21.475Z"
   },
   {
    "duration": 264,
    "start_time": "2022-03-13T01:57:52.601Z"
   },
   {
    "duration": 289,
    "start_time": "2022-03-13T01:58:55.922Z"
   },
   {
    "duration": 270,
    "start_time": "2022-03-13T01:59:14.155Z"
   },
   {
    "duration": 273,
    "start_time": "2022-03-13T01:59:20.081Z"
   },
   {
    "duration": 274,
    "start_time": "2022-03-13T02:00:20.752Z"
   },
   {
    "duration": 265,
    "start_time": "2022-03-13T02:00:39.206Z"
   },
   {
    "duration": 10,
    "start_time": "2022-03-13T02:02:03.929Z"
   },
   {
    "duration": 12,
    "start_time": "2022-03-13T02:02:38.667Z"
   },
   {
    "duration": 5,
    "start_time": "2022-03-13T02:02:44.865Z"
   },
   {
    "duration": 15,
    "start_time": "2022-03-13T02:02:57.040Z"
   },
   {
    "duration": 5,
    "start_time": "2022-03-13T02:02:58.335Z"
   },
   {
    "duration": 4,
    "start_time": "2022-03-13T02:02:59.684Z"
   },
   {
    "duration": 10,
    "start_time": "2022-03-13T02:03:17.465Z"
   },
   {
    "duration": 8,
    "start_time": "2022-03-13T02:03:33.729Z"
   },
   {
    "duration": 4,
    "start_time": "2022-03-13T02:03:35.132Z"
   },
   {
    "duration": 9,
    "start_time": "2022-03-13T02:03:59.505Z"
   },
   {
    "duration": 4,
    "start_time": "2022-03-13T02:04:01.300Z"
   },
   {
    "duration": 4,
    "start_time": "2022-03-13T02:04:04.173Z"
   },
   {
    "duration": 3,
    "start_time": "2022-03-13T02:04:30.551Z"
   },
   {
    "duration": 3,
    "start_time": "2022-03-13T02:04:32.561Z"
   },
   {
    "duration": 54,
    "start_time": "2022-03-13T02:04:34.082Z"
   },
   {
    "duration": 21,
    "start_time": "2022-03-13T02:04:39.310Z"
   },
   {
    "duration": 5,
    "start_time": "2022-03-13T02:04:44.584Z"
   },
   {
    "duration": 9,
    "start_time": "2022-03-13T02:04:46.173Z"
   },
   {
    "duration": 6,
    "start_time": "2022-03-13T02:04:48.416Z"
   },
   {
    "duration": 4,
    "start_time": "2022-03-13T02:04:52.696Z"
   },
   {
    "duration": 11,
    "start_time": "2022-03-13T02:04:57.392Z"
   },
   {
    "duration": 4,
    "start_time": "2022-03-13T02:05:00.734Z"
   },
   {
    "duration": 14,
    "start_time": "2022-03-13T02:05:15.984Z"
   },
   {
    "duration": 4,
    "start_time": "2022-03-13T02:05:17.967Z"
   },
   {
    "duration": 11,
    "start_time": "2022-03-13T02:05:20.868Z"
   },
   {
    "duration": 4,
    "start_time": "2022-03-13T02:05:22.178Z"
   },
   {
    "duration": 13,
    "start_time": "2022-03-13T02:05:57.620Z"
   },
   {
    "duration": 4,
    "start_time": "2022-03-13T02:06:00.341Z"
   },
   {
    "duration": 89,
    "start_time": "2022-03-13T02:06:33.510Z"
   },
   {
    "duration": 7,
    "start_time": "2022-03-13T02:06:39.411Z"
   },
   {
    "duration": 6,
    "start_time": "2022-03-13T02:06:41.080Z"
   },
   {
    "duration": 7,
    "start_time": "2022-03-13T02:06:42.832Z"
   },
   {
    "duration": 6,
    "start_time": "2022-03-13T02:06:51.917Z"
   },
   {
    "duration": 6,
    "start_time": "2022-03-13T02:06:57.644Z"
   },
   {
    "duration": 6,
    "start_time": "2022-03-13T02:07:05.317Z"
   },
   {
    "duration": 6,
    "start_time": "2022-03-13T02:07:10.045Z"
   },
   {
    "duration": 4,
    "start_time": "2022-03-13T02:07:14.895Z"
   },
   {
    "duration": 43,
    "start_time": "2022-03-13T02:08:31.735Z"
   },
   {
    "duration": 12,
    "start_time": "2022-03-13T02:08:42.487Z"
   },
   {
    "duration": 6,
    "start_time": "2022-03-13T02:08:45.208Z"
   },
   {
    "duration": 12,
    "start_time": "2022-03-13T02:08:47.025Z"
   },
   {
    "duration": 5,
    "start_time": "2022-03-13T02:08:48.166Z"
   },
   {
    "duration": 5,
    "start_time": "2022-03-13T02:09:17.067Z"
   },
   {
    "duration": 11,
    "start_time": "2022-03-13T02:09:18.827Z"
   },
   {
    "duration": 5,
    "start_time": "2022-03-13T02:09:21.169Z"
   },
   {
    "duration": 5,
    "start_time": "2022-03-13T02:09:26.942Z"
   },
   {
    "duration": 45,
    "start_time": "2022-03-13T02:09:40.682Z"
   },
   {
    "duration": 36,
    "start_time": "2022-03-13T02:09:41.549Z"
   },
   {
    "duration": 35,
    "start_time": "2022-03-13T02:09:42.854Z"
   },
   {
    "duration": 5,
    "start_time": "2022-03-13T02:09:50.111Z"
   },
   {
    "duration": 10,
    "start_time": "2022-03-13T02:09:56.762Z"
   },
   {
    "duration": 5,
    "start_time": "2022-03-13T02:09:58.219Z"
   },
   {
    "duration": 5,
    "start_time": "2022-03-13T02:10:01.228Z"
   },
   {
    "duration": 6,
    "start_time": "2022-03-13T02:10:06.219Z"
   },
   {
    "duration": 95,
    "start_time": "2022-03-13T02:11:33.004Z"
   },
   {
    "duration": 13,
    "start_time": "2022-03-13T02:11:42.442Z"
   },
   {
    "duration": 345,
    "start_time": "2022-03-13T02:11:57.032Z"
   },
   {
    "duration": 13,
    "start_time": "2022-03-13T02:12:08.239Z"
   },
   {
    "duration": 275,
    "start_time": "2022-03-13T02:12:10.480Z"
   },
   {
    "duration": 267,
    "start_time": "2022-03-13T02:12:27.957Z"
   },
   {
    "duration": 11,
    "start_time": "2022-03-13T02:12:31.265Z"
   },
   {
    "duration": 271,
    "start_time": "2022-03-13T02:12:32.684Z"
   },
   {
    "duration": 12,
    "start_time": "2022-03-13T02:12:51.161Z"
   },
   {
    "duration": 44,
    "start_time": "2022-03-13T02:12:57.261Z"
   },
   {
    "duration": 11,
    "start_time": "2022-03-13T02:13:02.427Z"
   },
   {
    "duration": 3,
    "start_time": "2022-03-13T02:13:11.276Z"
   },
   {
    "duration": 12,
    "start_time": "2022-03-13T02:13:34.792Z"
   },
   {
    "duration": 45,
    "start_time": "2022-03-13T02:14:08.648Z"
   },
   {
    "duration": 4,
    "start_time": "2022-03-13T02:14:17.354Z"
   },
   {
    "duration": 12,
    "start_time": "2022-03-13T02:14:25.754Z"
   },
   {
    "duration": 12,
    "start_time": "2022-03-13T02:14:37.090Z"
   },
   {
    "duration": 11,
    "start_time": "2022-03-13T02:14:38.636Z"
   },
   {
    "duration": 10,
    "start_time": "2022-03-13T02:15:07.237Z"
   },
   {
    "duration": 44,
    "start_time": "2022-03-13T02:15:12.987Z"
   },
   {
    "duration": 11,
    "start_time": "2022-03-13T02:15:21.626Z"
   },
   {
    "duration": 12,
    "start_time": "2022-03-13T02:15:26.298Z"
   },
   {
    "duration": 17,
    "start_time": "2022-03-13T02:16:35.644Z"
   },
   {
    "duration": 53,
    "start_time": "2022-03-13T02:16:42.881Z"
   },
   {
    "duration": 4,
    "start_time": "2022-03-13T02:16:53.809Z"
   },
   {
    "duration": 16,
    "start_time": "2022-03-13T02:16:58.698Z"
   },
   {
    "duration": 13,
    "start_time": "2022-03-13T02:17:02.745Z"
   },
   {
    "duration": 4,
    "start_time": "2022-03-13T02:17:43.684Z"
   },
   {
    "duration": 7,
    "start_time": "2022-03-13T02:18:33.665Z"
   },
   {
    "duration": 7,
    "start_time": "2022-03-13T02:18:35.295Z"
   },
   {
    "duration": 45,
    "start_time": "2022-03-13T02:18:43.330Z"
   },
   {
    "duration": 4,
    "start_time": "2022-03-13T02:18:50.218Z"
   },
   {
    "duration": 7,
    "start_time": "2022-03-13T02:18:52.037Z"
   },
   {
    "duration": 13,
    "start_time": "2022-03-13T02:19:23.395Z"
   },
   {
    "duration": 4,
    "start_time": "2022-03-13T02:19:26.203Z"
   },
   {
    "duration": 15,
    "start_time": "2022-03-13T02:19:40.031Z"
   },
   {
    "duration": 261,
    "start_time": "2022-03-13T02:19:42.075Z"
   },
   {
    "duration": 277,
    "start_time": "2022-03-13T02:19:51.653Z"
   },
   {
    "duration": 284,
    "start_time": "2022-03-13T02:20:32.716Z"
   },
   {
    "duration": 397,
    "start_time": "2022-03-13T02:20:34.983Z"
   },
   {
    "duration": 293,
    "start_time": "2022-03-13T02:20:45.517Z"
   },
   {
    "duration": 45,
    "start_time": "2022-03-13T02:20:55.174Z"
   },
   {
    "duration": 9,
    "start_time": "2022-03-13T02:21:02.789Z"
   },
   {
    "duration": 4,
    "start_time": "2022-03-13T02:21:05.956Z"
   },
   {
    "duration": 10,
    "start_time": "2022-03-13T02:22:20.469Z"
   },
   {
    "duration": 4,
    "start_time": "2022-03-13T02:22:24.382Z"
   },
   {
    "duration": 277,
    "start_time": "2022-03-13T02:22:32.492Z"
   },
   {
    "duration": 13,
    "start_time": "2022-03-13T02:22:38.023Z"
   },
   {
    "duration": 4,
    "start_time": "2022-03-13T02:23:40.514Z"
   },
   {
    "duration": 23,
    "start_time": "2022-03-13T02:25:09.668Z"
   },
   {
    "duration": 6,
    "start_time": "2022-03-13T02:25:24.909Z"
   },
   {
    "duration": 6,
    "start_time": "2022-03-13T02:25:58.360Z"
   },
   {
    "duration": 5,
    "start_time": "2022-03-13T02:26:06.724Z"
   },
   {
    "duration": 7,
    "start_time": "2022-03-13T02:26:15.374Z"
   },
   {
    "duration": 27,
    "start_time": "2022-03-13T02:27:15.816Z"
   },
   {
    "duration": 8,
    "start_time": "2022-03-13T02:31:42.708Z"
   },
   {
    "duration": 5,
    "start_time": "2022-03-13T02:31:44.574Z"
   },
   {
    "duration": 11,
    "start_time": "2022-03-13T02:31:54.592Z"
   },
   {
    "duration": 5,
    "start_time": "2022-03-13T02:32:31.548Z"
   },
   {
    "duration": 5,
    "start_time": "2022-03-13T02:36:18.433Z"
   },
   {
    "duration": 14,
    "start_time": "2022-03-13T02:36:41.164Z"
   },
   {
    "duration": 8,
    "start_time": "2022-03-13T02:36:58.687Z"
   },
   {
    "duration": 9,
    "start_time": "2022-03-13T02:37:27.672Z"
   },
   {
    "duration": 8,
    "start_time": "2022-03-13T02:39:32.428Z"
   },
   {
    "duration": 5,
    "start_time": "2022-03-13T02:39:42.648Z"
   },
   {
    "duration": 24,
    "start_time": "2022-03-13T02:40:16.031Z"
   },
   {
    "duration": 105,
    "start_time": "2022-03-13T02:40:37.616Z"
   },
   {
    "duration": 17,
    "start_time": "2022-03-13T02:40:47.682Z"
   },
   {
    "duration": 15,
    "start_time": "2022-03-13T02:41:28.095Z"
   },
   {
    "duration": 15,
    "start_time": "2022-03-13T02:41:35.020Z"
   },
   {
    "duration": 16,
    "start_time": "2022-03-13T02:42:36.710Z"
   },
   {
    "duration": 17,
    "start_time": "2022-03-13T02:42:39.269Z"
   },
   {
    "duration": 16,
    "start_time": "2022-03-13T02:42:42.245Z"
   },
   {
    "duration": 15,
    "start_time": "2022-03-13T02:42:47.500Z"
   },
   {
    "duration": 3,
    "start_time": "2022-03-13T03:06:47.212Z"
   },
   {
    "duration": 3,
    "start_time": "2022-03-13T03:06:57.499Z"
   },
   {
    "duration": 6,
    "start_time": "2022-03-13T03:07:09.666Z"
   },
   {
    "duration": 4,
    "start_time": "2022-03-13T03:07:19.688Z"
   },
   {
    "duration": 260,
    "start_time": "2022-03-13T04:31:40.837Z"
   },
   {
    "duration": 30,
    "start_time": "2022-03-13T04:31:43.557Z"
   },
   {
    "duration": 15,
    "start_time": "2022-03-13T04:31:45.870Z"
   },
   {
    "duration": 14,
    "start_time": "2022-03-13T04:31:48.361Z"
   },
   {
    "duration": 16,
    "start_time": "2022-03-13T04:31:51.544Z"
   },
   {
    "duration": 5,
    "start_time": "2022-03-13T04:32:06.596Z"
   },
   {
    "duration": 4,
    "start_time": "2022-03-13T04:32:07.747Z"
   },
   {
    "duration": 5,
    "start_time": "2022-03-13T04:32:08.669Z"
   },
   {
    "duration": 5,
    "start_time": "2022-03-13T04:32:12.943Z"
   },
   {
    "duration": 5,
    "start_time": "2022-03-13T04:32:14.752Z"
   },
   {
    "duration": 11,
    "start_time": "2022-03-13T04:32:15.771Z"
   },
   {
    "duration": 5,
    "start_time": "2022-03-13T04:32:16.817Z"
   },
   {
    "duration": 5,
    "start_time": "2022-03-13T04:32:48.481Z"
   },
   {
    "duration": 5,
    "start_time": "2022-03-13T04:32:50.961Z"
   },
   {
    "duration": 5,
    "start_time": "2022-03-13T04:32:53.144Z"
   },
   {
    "duration": 5,
    "start_time": "2022-03-13T04:32:55.240Z"
   },
   {
    "duration": 18,
    "start_time": "2022-03-13T04:32:59.314Z"
   },
   {
    "duration": 17,
    "start_time": "2022-03-13T04:33:02.149Z"
   },
   {
    "duration": 18,
    "start_time": "2022-03-13T04:33:12.128Z"
   },
   {
    "duration": 16,
    "start_time": "2022-03-13T04:33:14.400Z"
   },
   {
    "duration": 17,
    "start_time": "2022-03-13T04:33:18.653Z"
   },
   {
    "duration": 2,
    "start_time": "2022-03-13T04:33:38.966Z"
   },
   {
    "duration": 54,
    "start_time": "2022-03-13T04:33:40.636Z"
   },
   {
    "duration": 5,
    "start_time": "2022-03-13T04:33:48.033Z"
   },
   {
    "duration": 11,
    "start_time": "2022-03-13T04:33:49.846Z"
   },
   {
    "duration": 5,
    "start_time": "2022-03-13T04:33:51.197Z"
   },
   {
    "duration": 4,
    "start_time": "2022-03-13T04:33:53.334Z"
   },
   {
    "duration": 10,
    "start_time": "2022-03-13T04:33:55.427Z"
   },
   {
    "duration": 4,
    "start_time": "2022-03-13T04:33:57.266Z"
   },
   {
    "duration": 5,
    "start_time": "2022-03-13T04:34:04.874Z"
   },
   {
    "duration": 4,
    "start_time": "2022-03-13T04:34:06.190Z"
   },
   {
    "duration": 5,
    "start_time": "2022-03-13T04:34:07.712Z"
   },
   {
    "duration": 24,
    "start_time": "2022-03-13T04:34:10.871Z"
   },
   {
    "duration": 9,
    "start_time": "2022-03-13T04:34:15.101Z"
   },
   {
    "duration": 4,
    "start_time": "2022-03-13T04:34:16.719Z"
   },
   {
    "duration": 5,
    "start_time": "2022-03-13T04:34:18.899Z"
   },
   {
    "duration": 5,
    "start_time": "2022-03-13T04:34:20.472Z"
   },
   {
    "duration": 5,
    "start_time": "2022-03-13T04:34:21.796Z"
   },
   {
    "duration": 8,
    "start_time": "2022-03-13T04:34:24.873Z"
   },
   {
    "duration": 8,
    "start_time": "2022-03-13T04:34:26.773Z"
   },
   {
    "duration": 5,
    "start_time": "2022-03-13T04:34:27.647Z"
   },
   {
    "duration": 5,
    "start_time": "2022-03-13T04:34:29.452Z"
   },
   {
    "duration": 5,
    "start_time": "2022-03-13T04:34:31.291Z"
   },
   {
    "duration": 5,
    "start_time": "2022-03-13T04:34:32.038Z"
   },
   {
    "duration": 18,
    "start_time": "2022-03-13T04:34:34.072Z"
   },
   {
    "duration": 16,
    "start_time": "2022-03-13T04:34:35.846Z"
   },
   {
    "duration": 17,
    "start_time": "2022-03-13T04:34:39.596Z"
   },
   {
    "duration": 17,
    "start_time": "2022-03-13T04:34:55.635Z"
   },
   {
    "duration": 15,
    "start_time": "2022-03-13T04:34:57.393Z"
   },
   {
    "duration": 3,
    "start_time": "2022-03-13T04:35:04.791Z"
   },
   {
    "duration": 5,
    "start_time": "2022-03-13T04:35:06.817Z"
   },
   {
    "duration": 4,
    "start_time": "2022-03-13T04:41:23.232Z"
   },
   {
    "duration": 7659,
    "start_time": "2022-03-13T04:41:25.486Z"
   },
   {
    "duration": 283,
    "start_time": "2022-03-13T04:42:02.753Z"
   },
   {
    "duration": 5,
    "start_time": "2022-03-13T04:42:21.596Z"
   },
   {
    "duration": 4,
    "start_time": "2022-03-13T04:43:33.345Z"
   },
   {
    "duration": 5,
    "start_time": "2022-03-13T04:43:35.217Z"
   },
   {
    "duration": 16,
    "start_time": "2022-03-13T04:44:22.552Z"
   },
   {
    "duration": 33,
    "start_time": "2022-03-13T04:44:26.669Z"
   },
   {
    "duration": 16,
    "start_time": "2022-03-13T04:44:28.434Z"
   },
   {
    "duration": 15,
    "start_time": "2022-03-13T04:44:30.387Z"
   },
   {
    "duration": 14,
    "start_time": "2022-03-13T04:44:33.167Z"
   },
   {
    "duration": 4,
    "start_time": "2022-03-13T04:47:26.310Z"
   },
   {
    "duration": 6,
    "start_time": "2022-03-13T04:47:41.918Z"
   },
   {
    "duration": 6,
    "start_time": "2022-03-13T04:47:47.984Z"
   },
   {
    "duration": 348,
    "start_time": "2022-03-13T04:47:57.750Z"
   },
   {
    "duration": 14,
    "start_time": "2022-03-13T04:47:59.938Z"
   },
   {
    "duration": 32,
    "start_time": "2022-03-13T04:49:25.280Z"
   },
   {
    "duration": 4,
    "start_time": "2022-03-13T04:52:14.337Z"
   },
   {
    "duration": 5,
    "start_time": "2022-03-13T04:52:59.207Z"
   },
   {
    "duration": 528,
    "start_time": "2022-03-13T04:53:08.968Z"
   },
   {
    "duration": 14,
    "start_time": "2022-03-13T04:53:10.124Z"
   },
   {
    "duration": 33,
    "start_time": "2022-03-13T04:53:35.626Z"
   },
   {
    "duration": 15,
    "start_time": "2022-03-13T04:53:38.921Z"
   },
   {
    "duration": 15,
    "start_time": "2022-03-13T04:53:53.807Z"
   },
   {
    "duration": 15,
    "start_time": "2022-03-13T04:53:55.936Z"
   },
   {
    "duration": 7897,
    "start_time": "2022-03-13T05:01:33.897Z"
   },
   {
    "duration": -1490,
    "start_time": "2022-03-13T05:02:13.815Z"
   },
   {
    "duration": -1497,
    "start_time": "2022-03-13T05:02:13.823Z"
   },
   {
    "duration": 4,
    "start_time": "2022-03-13T05:02:17.684Z"
   },
   {
    "duration": 5,
    "start_time": "2022-03-13T05:02:19.537Z"
   },
   {
    "duration": 228,
    "start_time": "2022-03-13T05:02:24.407Z"
   },
   {
    "duration": 14,
    "start_time": "2022-03-13T05:02:26.061Z"
   },
   {
    "duration": 32,
    "start_time": "2022-03-13T05:03:01.516Z"
   },
   {
    "duration": 16,
    "start_time": "2022-03-13T05:03:05.535Z"
   },
   {
    "duration": 15,
    "start_time": "2022-03-13T05:03:08.846Z"
   },
   {
    "duration": 14,
    "start_time": "2022-03-13T05:04:10.993Z"
   },
   {
    "duration": 21,
    "start_time": "2022-03-13T05:10:01.918Z"
   },
   {
    "duration": 31,
    "start_time": "2022-03-13T05:10:13.742Z"
   },
   {
    "duration": 14,
    "start_time": "2022-03-13T05:11:30.291Z"
   },
   {
    "duration": 42,
    "start_time": "2022-03-13T05:15:40.318Z"
   },
   {
    "duration": 45,
    "start_time": "2022-03-13T05:16:13.865Z"
   },
   {
    "duration": 52,
    "start_time": "2022-03-13T05:42:35.931Z"
   },
   {
    "duration": 44,
    "start_time": "2022-03-13T05:43:55.483Z"
   },
   {
    "duration": 48,
    "start_time": "2022-03-13T05:47:05.930Z"
   },
   {
    "duration": 39,
    "start_time": "2022-03-13T05:47:32.186Z"
   },
   {
    "duration": 663,
    "start_time": "2022-03-13T05:52:52.684Z"
   },
   {
    "duration": 703,
    "start_time": "2022-03-13T05:53:00.111Z"
   },
   {
    "duration": 669,
    "start_time": "2022-03-13T05:53:21.059Z"
   },
   {
    "duration": 42,
    "start_time": "2022-03-13T05:54:28.902Z"
   },
   {
    "duration": 52,
    "start_time": "2022-03-13T05:54:43.730Z"
   },
   {
    "duration": 83,
    "start_time": "2022-03-13T05:55:08.020Z"
   },
   {
    "duration": 53,
    "start_time": "2022-03-13T05:55:27.073Z"
   },
   {
    "duration": 53,
    "start_time": "2022-03-13T05:55:45.301Z"
   },
   {
    "duration": 53,
    "start_time": "2022-03-13T05:56:10.067Z"
   },
   {
    "duration": 45,
    "start_time": "2022-03-13T05:56:20.372Z"
   },
   {
    "duration": 318,
    "start_time": "2022-03-13T06:03:05.679Z"
   },
   {
    "duration": 50,
    "start_time": "2022-03-13T06:06:08.060Z"
   },
   {
    "duration": 48,
    "start_time": "2022-03-13T06:06:25.301Z"
   },
   {
    "duration": 46,
    "start_time": "2022-03-13T06:06:33.589Z"
   },
   {
    "duration": 342,
    "start_time": "2022-03-13T06:11:58.935Z"
   },
   {
    "duration": 276,
    "start_time": "2022-03-13T06:12:15.322Z"
   },
   {
    "duration": 280,
    "start_time": "2022-03-13T06:12:50.993Z"
   },
   {
    "duration": 81,
    "start_time": "2022-03-13T06:13:00.955Z"
   },
   {
    "duration": 5,
    "start_time": "2022-03-13T06:13:17.549Z"
   },
   {
    "duration": 7497,
    "start_time": "2022-03-13T06:13:19.425Z"
   },
   {
    "duration": 7473,
    "start_time": "2022-03-13T06:13:29.417Z"
   },
   {
    "duration": 6,
    "start_time": "2022-03-13T06:14:07.199Z"
   },
   {
    "duration": 305,
    "start_time": "2022-03-13T06:15:00.273Z"
   },
   {
    "duration": 6088,
    "start_time": "2022-03-13T06:15:11.248Z"
   },
   {
    "duration": -1526,
    "start_time": "2022-03-13T06:15:18.864Z"
   },
   {
    "duration": 6076,
    "start_time": "2022-03-13T06:16:23.886Z"
   },
   {
    "duration": 54,
    "start_time": "2022-03-13T06:17:05.473Z"
   },
   {
    "duration": 5,
    "start_time": "2022-03-13T06:24:00.188Z"
   },
   {
    "duration": 7,
    "start_time": "2022-03-13T06:24:02.508Z"
   },
   {
    "duration": 5604,
    "start_time": "2022-03-13T06:24:03.967Z"
   },
   {
    "duration": 5,
    "start_time": "2022-03-13T06:28:28.221Z"
   },
   {
    "duration": 88,
    "start_time": "2022-03-13T06:30:46.808Z"
   },
   {
    "duration": 107,
    "start_time": "2022-03-13T06:31:15.493Z"
   },
   {
    "duration": 378,
    "start_time": "2022-03-13T06:31:29.077Z"
   },
   {
    "duration": 5,
    "start_time": "2022-03-13T06:31:53.138Z"
   },
   {
    "duration": 6,
    "start_time": "2022-03-13T06:32:38.138Z"
   },
   {
    "duration": 1511,
    "start_time": "2022-03-13T06:32:43.679Z"
   },
   {
    "duration": 640,
    "start_time": "2022-03-13T06:32:45.624Z"
   },
   {
    "duration": 24,
    "start_time": "2022-03-13T06:32:50.825Z"
   },
   {
    "duration": 13,
    "start_time": "2022-03-13T06:33:04.767Z"
   },
   {
    "duration": 6,
    "start_time": "2022-03-13T06:33:57.170Z"
   },
   {
    "duration": 11,
    "start_time": "2022-03-13T06:34:20.466Z"
   },
   {
    "duration": 270,
    "start_time": "2022-03-13T06:34:40.496Z"
   },
   {
    "duration": 25,
    "start_time": "2022-03-13T06:34:44.348Z"
   },
   {
    "duration": 605,
    "start_time": "2022-03-13T06:34:55.414Z"
   },
   {
    "duration": 26,
    "start_time": "2022-03-13T06:34:57.225Z"
   },
   {
    "duration": 25,
    "start_time": "2022-03-13T06:35:42.893Z"
   },
   {
    "duration": 14,
    "start_time": "2022-03-13T06:35:48.191Z"
   },
   {
    "duration": 57,
    "start_time": "2022-03-13T06:36:47.962Z"
   },
   {
    "duration": 53,
    "start_time": "2022-03-13T06:41:48.734Z"
   },
   {
    "duration": 5,
    "start_time": "2022-03-13T06:41:51.569Z"
   },
   {
    "duration": 6,
    "start_time": "2022-03-13T06:41:53.972Z"
   },
   {
    "duration": 625,
    "start_time": "2022-03-13T06:41:56.193Z"
   },
   {
    "duration": 24,
    "start_time": "2022-03-13T06:41:59.112Z"
   },
   {
    "duration": 292,
    "start_time": "2022-03-13T06:43:47.237Z"
   },
   {
    "duration": 639,
    "start_time": "2022-03-13T06:43:53.965Z"
   },
   {
    "duration": 690,
    "start_time": "2022-03-13T06:44:12.834Z"
   },
   {
    "duration": 670,
    "start_time": "2022-03-13T06:45:00.242Z"
   },
   {
    "duration": 2,
    "start_time": "2022-03-13T06:45:10.450Z"
   },
   {
    "duration": 721,
    "start_time": "2022-03-13T06:45:14.922Z"
   },
   {
    "duration": 3,
    "start_time": "2022-03-13T06:45:54.452Z"
   },
   {
    "duration": 3,
    "start_time": "2022-03-13T06:45:58.168Z"
   },
   {
    "duration": 5,
    "start_time": "2022-03-13T06:46:04.502Z"
   },
   {
    "duration": 2,
    "start_time": "2022-03-13T06:46:20.041Z"
   },
   {
    "duration": 6,
    "start_time": "2022-03-13T06:46:28.464Z"
   },
   {
    "duration": 297,
    "start_time": "2022-03-13T06:46:38.412Z"
   },
   {
    "duration": 646,
    "start_time": "2022-03-13T06:46:57.530Z"
   },
   {
    "duration": 732,
    "start_time": "2022-03-13T06:47:11.360Z"
   },
   {
    "duration": 15,
    "start_time": "2022-03-13T06:47:36.109Z"
   },
   {
    "duration": 17,
    "start_time": "2022-03-13T06:48:00.576Z"
   },
   {
    "duration": 636,
    "start_time": "2022-03-13T06:48:15.722Z"
   },
   {
    "duration": 8,
    "start_time": "2022-03-13T06:49:12.375Z"
   },
   {
    "duration": 275,
    "start_time": "2022-03-13T06:49:14.091Z"
   },
   {
    "duration": 99,
    "start_time": "2022-03-13T06:50:19.565Z"
   },
   {
    "duration": 6,
    "start_time": "2022-03-13T06:50:24.526Z"
   },
   {
    "duration": 6,
    "start_time": "2022-03-13T06:50:31.306Z"
   },
   {
    "duration": 6,
    "start_time": "2022-03-13T06:50:36.910Z"
   },
   {
    "duration": 281,
    "start_time": "2022-03-13T06:51:06.300Z"
   },
   {
    "duration": 257,
    "start_time": "2022-03-13T06:51:57.212Z"
   },
   {
    "duration": 6,
    "start_time": "2022-03-13T06:53:08.829Z"
   },
   {
    "duration": 270,
    "start_time": "2022-03-13T06:53:14.770Z"
   },
   {
    "duration": 8,
    "start_time": "2022-03-13T06:54:21.849Z"
   },
   {
    "duration": 296,
    "start_time": "2022-03-13T06:54:26.171Z"
   },
   {
    "duration": 3,
    "start_time": "2022-03-13T06:57:31.869Z"
   },
   {
    "duration": 55,
    "start_time": "2022-03-13T06:57:33.459Z"
   },
   {
    "duration": 5,
    "start_time": "2022-03-13T06:57:40.933Z"
   },
   {
    "duration": 11,
    "start_time": "2022-03-13T06:57:42.566Z"
   },
   {
    "duration": 5,
    "start_time": "2022-03-13T06:57:45.082Z"
   },
   {
    "duration": 4,
    "start_time": "2022-03-13T06:57:47.471Z"
   },
   {
    "duration": 11,
    "start_time": "2022-03-13T06:57:49.055Z"
   },
   {
    "duration": 4,
    "start_time": "2022-03-13T06:57:50.663Z"
   },
   {
    "duration": 5,
    "start_time": "2022-03-13T06:57:53.228Z"
   },
   {
    "duration": 4,
    "start_time": "2022-03-13T06:57:55.125Z"
   },
   {
    "duration": 7,
    "start_time": "2022-03-13T06:58:01.335Z"
   },
   {
    "duration": 25,
    "start_time": "2022-03-13T06:58:04.769Z"
   },
   {
    "duration": 10,
    "start_time": "2022-03-13T06:58:07.882Z"
   },
   {
    "duration": 6,
    "start_time": "2022-03-13T06:58:08.818Z"
   },
   {
    "duration": 5,
    "start_time": "2022-03-13T06:58:11.574Z"
   },
   {
    "duration": 6,
    "start_time": "2022-03-13T06:58:13.287Z"
   },
   {
    "duration": 5,
    "start_time": "2022-03-13T06:58:14.518Z"
   },
   {
    "duration": 8,
    "start_time": "2022-03-13T06:58:16.642Z"
   },
   {
    "duration": 7,
    "start_time": "2022-03-13T06:58:18.645Z"
   },
   {
    "duration": 5,
    "start_time": "2022-03-13T06:58:19.681Z"
   },
   {
    "duration": 5,
    "start_time": "2022-03-13T06:58:23.971Z"
   },
   {
    "duration": 6,
    "start_time": "2022-03-13T06:58:25.268Z"
   },
   {
    "duration": 5,
    "start_time": "2022-03-13T06:58:26.576Z"
   },
   {
    "duration": 16,
    "start_time": "2022-03-13T06:58:29.430Z"
   },
   {
    "duration": 16,
    "start_time": "2022-03-13T06:58:31.755Z"
   },
   {
    "duration": 17,
    "start_time": "2022-03-13T06:58:32.750Z"
   },
   {
    "duration": 14,
    "start_time": "2022-03-13T06:58:34.866Z"
   },
   {
    "duration": 4,
    "start_time": "2022-03-13T06:58:37.982Z"
   },
   {
    "duration": 5,
    "start_time": "2022-03-13T06:58:39.925Z"
   },
   {
    "duration": 229,
    "start_time": "2022-03-13T06:58:42.156Z"
   },
   {
    "duration": 15,
    "start_time": "2022-03-13T06:58:43.794Z"
   },
   {
    "duration": 33,
    "start_time": "2022-03-13T06:58:47.487Z"
   },
   {
    "duration": 15,
    "start_time": "2022-03-13T06:58:49.923Z"
   },
   {
    "duration": 14,
    "start_time": "2022-03-13T06:58:51.985Z"
   },
   {
    "duration": 14,
    "start_time": "2022-03-13T06:58:54.208Z"
   },
   {
    "duration": 14,
    "start_time": "2022-03-13T06:58:56.288Z"
   },
   {
    "duration": 55,
    "start_time": "2022-03-13T06:59:01.012Z"
   },
   {
    "duration": 5,
    "start_time": "2022-03-13T06:59:04.658Z"
   },
   {
    "duration": 7,
    "start_time": "2022-03-13T06:59:07.130Z"
   },
   {
    "duration": 1475,
    "start_time": "2022-03-13T06:59:08.576Z"
   },
   {
    "duration": 25,
    "start_time": "2022-03-13T06:59:11.738Z"
   },
   {
    "duration": 13,
    "start_time": "2022-03-13T06:59:14.391Z"
   },
   {
    "duration": 16,
    "start_time": "2022-03-13T06:59:18.912Z"
   },
   {
    "duration": 3,
    "start_time": "2022-03-13T07:00:40.192Z"
   },
   {
    "duration": 8217,
    "start_time": "2022-03-13T07:00:43.319Z"
   },
   {
    "duration": -1408,
    "start_time": "2022-03-13T07:00:52.946Z"
   },
   {
    "duration": -1423,
    "start_time": "2022-03-13T07:00:52.961Z"
   },
   {
    "duration": 16,
    "start_time": "2022-03-13T07:02:57.663Z"
   },
   {
    "duration": 4,
    "start_time": "2022-03-13T07:03:02.036Z"
   },
   {
    "duration": 5,
    "start_time": "2022-03-13T07:03:04.149Z"
   },
   {
    "duration": 14,
    "start_time": "2022-03-13T07:06:21.911Z"
   },
   {
    "duration": 15,
    "start_time": "2022-03-13T07:09:51.838Z"
   },
   {
    "duration": 4,
    "start_time": "2022-03-13T07:11:15.457Z"
   },
   {
    "duration": 6,
    "start_time": "2022-03-13T07:11:17.881Z"
   },
   {
    "duration": 378,
    "start_time": "2022-03-13T07:11:19.539Z"
   },
   {
    "duration": 13,
    "start_time": "2022-03-13T07:11:21.438Z"
   },
   {
    "duration": 13,
    "start_time": "2022-03-13T07:11:36.863Z"
   },
   {
    "duration": 364,
    "start_time": "2022-03-13T07:12:09.896Z"
   },
   {
    "duration": 7,
    "start_time": "2022-03-13T07:12:13.756Z"
   },
   {
    "duration": 262,
    "start_time": "2022-03-13T07:12:16.838Z"
   },
   {
    "duration": 29,
    "start_time": "2022-03-13T07:13:02.112Z"
   },
   {
    "duration": 27,
    "start_time": "2022-03-13T07:13:09.074Z"
   },
   {
    "duration": 27,
    "start_time": "2022-03-13T07:25:20.396Z"
   },
   {
    "duration": 26,
    "start_time": "2022-03-13T07:25:42.823Z"
   },
   {
    "duration": 39,
    "start_time": "2022-03-13T07:26:48.434Z"
   },
   {
    "duration": 87,
    "start_time": "2022-03-13T07:31:33.410Z"
   },
   {
    "duration": 104,
    "start_time": "2022-03-13T07:31:42.088Z"
   },
   {
    "duration": 78,
    "start_time": "2022-03-13T07:31:47.939Z"
   },
   {
    "duration": 92,
    "start_time": "2022-03-13T07:31:53.389Z"
   },
   {
    "duration": 13,
    "start_time": "2022-03-13T07:33:45.078Z"
   },
   {
    "duration": 37,
    "start_time": "2022-03-13T07:38:51.305Z"
   },
   {
    "duration": 276,
    "start_time": "2022-03-13T07:39:22.151Z"
   },
   {
    "duration": 373,
    "start_time": "2022-03-13T07:41:05.414Z"
   },
   {
    "duration": 36,
    "start_time": "2022-03-13T07:41:47.268Z"
   },
   {
    "duration": 17,
    "start_time": "2022-03-13T07:49:42.085Z"
   },
   {
    "duration": 8,
    "start_time": "2022-03-13T07:52:03.944Z"
   },
   {
    "duration": 14,
    "start_time": "2022-03-13T07:52:58.932Z"
   },
   {
    "duration": 997,
    "start_time": "2022-03-13T07:59:15.465Z"
   },
   {
    "duration": 3,
    "start_time": "2022-03-13T07:59:51.537Z"
   },
   {
    "duration": 3,
    "start_time": "2022-03-13T08:01:12.943Z"
   },
   {
    "duration": 4,
    "start_time": "2022-03-13T08:01:24.432Z"
   },
   {
    "duration": 265,
    "start_time": "2022-03-13T08:01:53.896Z"
   },
   {
    "duration": 257,
    "start_time": "2022-03-13T08:02:15.412Z"
   },
   {
    "duration": 289,
    "start_time": "2022-03-13T08:02:35.544Z"
   },
   {
    "duration": 270,
    "start_time": "2022-03-13T08:02:41.962Z"
   },
   {
    "duration": 1491,
    "start_time": "2022-03-13T08:03:25.979Z"
   },
   {
    "duration": 4,
    "start_time": "2022-03-13T08:04:12.873Z"
   },
   {
    "duration": 4,
    "start_time": "2022-03-13T08:04:18.652Z"
   },
   {
    "duration": 5,
    "start_time": "2022-03-13T08:04:23.755Z"
   },
   {
    "duration": 5,
    "start_time": "2022-03-13T08:04:31.646Z"
   },
   {
    "duration": 4,
    "start_time": "2022-03-13T08:04:49.134Z"
   },
   {
    "duration": 5,
    "start_time": "2022-03-13T08:06:18.474Z"
   },
   {
    "duration": 4,
    "start_time": "2022-03-13T08:06:27.343Z"
   },
   {
    "duration": 6,
    "start_time": "2022-03-13T08:07:19.489Z"
   },
   {
    "duration": 274,
    "start_time": "2022-03-13T08:08:24.368Z"
   },
   {
    "duration": 3,
    "start_time": "2022-03-13T08:09:20.995Z"
   },
   {
    "duration": 6,
    "start_time": "2022-03-13T08:09:54.559Z"
   },
   {
    "duration": 5,
    "start_time": "2022-03-13T08:10:21.003Z"
   },
   {
    "duration": 619,
    "start_time": "2022-03-13T20:58:01.629Z"
   },
   {
    "duration": 39,
    "start_time": "2022-03-13T20:58:04.105Z"
   },
   {
    "duration": 23,
    "start_time": "2022-03-13T20:58:15.737Z"
   },
   {
    "duration": 13,
    "start_time": "2022-03-13T20:58:22.377Z"
   },
   {
    "duration": 22,
    "start_time": "2022-03-13T21:00:21.007Z"
   },
   {
    "duration": 13,
    "start_time": "2022-03-13T21:04:50.506Z"
   },
   {
    "duration": 12,
    "start_time": "2022-03-13T21:04:58.426Z"
   },
   {
    "duration": 3,
    "start_time": "2022-03-13T21:17:08.422Z"
   },
   {
    "duration": 39,
    "start_time": "2022-03-13T21:17:10.452Z"
   },
   {
    "duration": 20,
    "start_time": "2022-03-13T21:17:13.504Z"
   },
   {
    "duration": 4,
    "start_time": "2022-03-13T21:17:16.527Z"
   },
   {
    "duration": 12,
    "start_time": "2022-03-13T21:17:18.440Z"
   },
   {
    "duration": 28,
    "start_time": "2022-03-13T21:17:20.759Z"
   },
   {
    "duration": 12,
    "start_time": "2022-03-13T21:17:23.536Z"
   },
   {
    "duration": 19,
    "start_time": "2022-03-13T21:17:25.968Z"
   },
   {
    "duration": 21,
    "start_time": "2022-03-13T21:17:30.036Z"
   },
   {
    "duration": 14,
    "start_time": "2022-03-13T21:17:33.434Z"
   },
   {
    "duration": 5,
    "start_time": "2022-03-13T21:17:49.462Z"
   },
   {
    "duration": 11,
    "start_time": "2022-03-13T21:17:56.789Z"
   },
   {
    "duration": 5,
    "start_time": "2022-03-13T21:17:58.827Z"
   },
   {
    "duration": 4,
    "start_time": "2022-03-13T21:18:02.371Z"
   },
   {
    "duration": 35,
    "start_time": "2022-03-13T21:18:07.539Z"
   },
   {
    "duration": 4,
    "start_time": "2022-03-13T21:18:13.723Z"
   },
   {
    "duration": 9,
    "start_time": "2022-03-13T21:18:15.235Z"
   },
   {
    "duration": 5,
    "start_time": "2022-03-13T21:18:17.579Z"
   },
   {
    "duration": 3,
    "start_time": "2022-03-13T21:18:21.679Z"
   },
   {
    "duration": 10,
    "start_time": "2022-03-13T21:18:24.632Z"
   },
   {
    "duration": 4,
    "start_time": "2022-03-13T21:18:26.407Z"
   },
   {
    "duration": 5,
    "start_time": "2022-03-13T21:19:06.533Z"
   },
   {
    "duration": 3,
    "start_time": "2022-03-13T21:19:12.110Z"
   },
   {
    "duration": 5,
    "start_time": "2022-03-13T21:19:13.917Z"
   },
   {
    "duration": 24,
    "start_time": "2022-03-13T21:20:18.369Z"
   },
   {
    "duration": 9,
    "start_time": "2022-03-13T21:20:30.271Z"
   },
   {
    "duration": 5,
    "start_time": "2022-03-13T21:20:31.925Z"
   },
   {
    "duration": 6,
    "start_time": "2022-03-13T21:20:39.613Z"
   },
   {
    "duration": 5,
    "start_time": "2022-03-13T21:20:40.862Z"
   },
   {
    "duration": 5,
    "start_time": "2022-03-13T21:20:42.013Z"
   },
   {
    "duration": 8,
    "start_time": "2022-03-13T21:21:12.478Z"
   },
   {
    "duration": 9,
    "start_time": "2022-03-13T21:21:15.738Z"
   },
   {
    "duration": 5,
    "start_time": "2022-03-13T21:21:17.483Z"
   },
   {
    "duration": 5,
    "start_time": "2022-03-13T21:21:54.066Z"
   },
   {
    "duration": 4,
    "start_time": "2022-03-13T21:21:55.385Z"
   },
   {
    "duration": 5,
    "start_time": "2022-03-13T21:21:57.633Z"
   },
   {
    "duration": 16,
    "start_time": "2022-03-13T21:22:17.303Z"
   },
   {
    "duration": 26,
    "start_time": "2022-03-13T21:22:39.415Z"
   },
   {
    "duration": 24,
    "start_time": "2022-03-13T21:22:44.098Z"
   },
   {
    "duration": 21,
    "start_time": "2022-03-13T21:22:47.529Z"
   },
   {
    "duration": 6,
    "start_time": "2022-03-13T21:23:53.037Z"
   },
   {
    "duration": 6,
    "start_time": "2022-03-13T21:23:56.320Z"
   },
   {
    "duration": 240,
    "start_time": "2022-03-13T21:24:00.498Z"
   },
   {
    "duration": 12,
    "start_time": "2022-03-13T21:24:06.421Z"
   },
   {
    "duration": 29,
    "start_time": "2022-03-13T21:24:51.064Z"
   },
   {
    "duration": 14,
    "start_time": "2022-03-13T21:24:57.348Z"
   },
   {
    "duration": 15,
    "start_time": "2022-03-13T21:25:00.020Z"
   },
   {
    "duration": 14,
    "start_time": "2022-03-13T21:25:01.905Z"
   },
   {
    "duration": 13,
    "start_time": "2022-03-13T21:25:03.972Z"
   },
   {
    "duration": 56,
    "start_time": "2022-03-13T21:27:51.036Z"
   },
   {
    "duration": 8,
    "start_time": "2022-03-13T21:27:59.544Z"
   },
   {
    "duration": 9,
    "start_time": "2022-03-13T21:28:12.442Z"
   },
   {
    "duration": 2534,
    "start_time": "2022-03-13T21:28:19.455Z"
   },
   {
    "duration": 36,
    "start_time": "2022-03-13T21:28:24.687Z"
   },
   {
    "duration": 14,
    "start_time": "2022-03-13T21:28:29.875Z"
   },
   {
    "duration": 14,
    "start_time": "2022-03-13T21:28:38.128Z"
   },
   {
    "duration": 3,
    "start_time": "2022-03-13T21:28:43.207Z"
   },
   {
    "duration": 6,
    "start_time": "2022-03-13T21:28:47.076Z"
   },
   {
    "duration": 389,
    "start_time": "2022-03-13T21:28:49.506Z"
   },
   {
    "duration": 14,
    "start_time": "2022-03-13T21:28:53.065Z"
   },
   {
    "duration": 13,
    "start_time": "2022-03-13T21:28:55.260Z"
   },
   {
    "duration": 5,
    "start_time": "2022-03-13T21:29:11.404Z"
   },
   {
    "duration": 7,
    "start_time": "2022-03-13T21:29:15.914Z"
   },
   {
    "duration": 229,
    "start_time": "2022-03-13T21:29:25.477Z"
   },
   {
    "duration": 27,
    "start_time": "2022-03-13T21:29:29.445Z"
   },
   {
    "duration": 24,
    "start_time": "2022-03-13T21:29:31.837Z"
   },
   {
    "duration": 686,
    "start_time": "2022-03-14T05:56:28.019Z"
   },
   {
    "duration": 56,
    "start_time": "2022-03-14T05:56:30.010Z"
   },
   {
    "duration": 22,
    "start_time": "2022-03-14T05:56:31.970Z"
   },
   {
    "duration": 4,
    "start_time": "2022-03-14T05:56:34.580Z"
   },
   {
    "duration": 12,
    "start_time": "2022-03-14T05:56:36.173Z"
   },
   {
    "duration": 22,
    "start_time": "2022-03-14T05:56:37.867Z"
   },
   {
    "duration": 17,
    "start_time": "2022-03-14T05:56:40.792Z"
   },
   {
    "duration": 55,
    "start_time": "2022-03-14T05:56:42.610Z"
   },
   {
    "duration": 23,
    "start_time": "2022-03-14T05:56:45.763Z"
   },
   {
    "duration": 16,
    "start_time": "2022-03-14T05:56:48.846Z"
   },
   {
    "duration": 5,
    "start_time": "2022-03-14T05:56:51.865Z"
   },
   {
    "duration": 3,
    "start_time": "2022-03-14T05:57:02.051Z"
   },
   {
    "duration": 39,
    "start_time": "2022-03-14T05:57:03.314Z"
   },
   {
    "duration": 5,
    "start_time": "2022-03-14T05:57:18.067Z"
   },
   {
    "duration": 11,
    "start_time": "2022-03-14T05:57:19.393Z"
   },
   {
    "duration": 5,
    "start_time": "2022-03-14T05:57:21.022Z"
   },
   {
    "duration": 5,
    "start_time": "2022-03-14T05:57:22.588Z"
   },
   {
    "duration": 11,
    "start_time": "2022-03-14T05:57:24.398Z"
   },
   {
    "duration": 4,
    "start_time": "2022-03-14T05:57:25.752Z"
   },
   {
    "duration": 5,
    "start_time": "2022-03-14T05:57:27.903Z"
   },
   {
    "duration": 3,
    "start_time": "2022-03-14T05:57:29.097Z"
   },
   {
    "duration": 4,
    "start_time": "2022-03-14T05:57:29.972Z"
   },
   {
    "duration": 23,
    "start_time": "2022-03-14T05:57:31.960Z"
   },
   {
    "duration": 9,
    "start_time": "2022-03-14T05:57:34.494Z"
   },
   {
    "duration": 5,
    "start_time": "2022-03-14T05:57:35.567Z"
   },
   {
    "duration": 6,
    "start_time": "2022-03-14T05:57:37.844Z"
   },
   {
    "duration": 5,
    "start_time": "2022-03-14T05:57:39.267Z"
   },
   {
    "duration": 5,
    "start_time": "2022-03-14T05:57:40.300Z"
   },
   {
    "duration": 9,
    "start_time": "2022-03-14T05:57:42.552Z"
   },
   {
    "duration": 9,
    "start_time": "2022-03-14T05:57:44.222Z"
   },
   {
    "duration": 6,
    "start_time": "2022-03-14T05:57:45.898Z"
   },
   {
    "duration": 6,
    "start_time": "2022-03-14T05:57:47.931Z"
   },
   {
    "duration": 5,
    "start_time": "2022-03-14T05:57:49.079Z"
   },
   {
    "duration": 6,
    "start_time": "2022-03-14T05:57:50.301Z"
   },
   {
    "duration": 18,
    "start_time": "2022-03-14T05:57:52.634Z"
   },
   {
    "duration": 18,
    "start_time": "2022-03-14T05:57:53.822Z"
   },
   {
    "duration": 18,
    "start_time": "2022-03-14T05:57:55.074Z"
   },
   {
    "duration": 16,
    "start_time": "2022-03-14T05:57:57.195Z"
   },
   {
    "duration": 4,
    "start_time": "2022-03-14T05:58:00.294Z"
   },
   {
    "duration": 6,
    "start_time": "2022-03-14T05:58:02.227Z"
   },
   {
    "duration": 251,
    "start_time": "2022-03-14T05:58:03.801Z"
   },
   {
    "duration": 14,
    "start_time": "2022-03-14T05:58:04.764Z"
   },
   {
    "duration": 32,
    "start_time": "2022-03-14T05:58:06.582Z"
   },
   {
    "duration": 16,
    "start_time": "2022-03-14T05:58:08.777Z"
   },
   {
    "duration": 16,
    "start_time": "2022-03-14T05:58:09.916Z"
   },
   {
    "duration": 14,
    "start_time": "2022-03-14T05:58:12.167Z"
   },
   {
    "duration": 58,
    "start_time": "2022-03-14T05:58:14.338Z"
   },
   {
    "duration": 6,
    "start_time": "2022-03-14T05:58:17.376Z"
   },
   {
    "duration": 7,
    "start_time": "2022-03-14T05:58:19.760Z"
   },
   {
    "duration": 1455,
    "start_time": "2022-03-14T05:58:21.061Z"
   },
   {
    "duration": 25,
    "start_time": "2022-03-14T05:58:22.518Z"
   },
   {
    "duration": 13,
    "start_time": "2022-03-14T05:58:26.043Z"
   },
   {
    "duration": 15,
    "start_time": "2022-03-14T05:58:32.006Z"
   },
   {
    "duration": 4,
    "start_time": "2022-03-14T05:58:33.807Z"
   },
   {
    "duration": 6,
    "start_time": "2022-03-14T05:58:35.349Z"
   },
   {
    "duration": 389,
    "start_time": "2022-03-14T05:58:36.242Z"
   },
   {
    "duration": 15,
    "start_time": "2022-03-14T05:58:38.640Z"
   },
   {
    "duration": 15,
    "start_time": "2022-03-14T05:58:40.578Z"
   },
   {
    "duration": 7,
    "start_time": "2022-03-14T05:58:44.781Z"
   },
   {
    "duration": 8,
    "start_time": "2022-03-14T05:58:46.580Z"
   },
   {
    "duration": 246,
    "start_time": "2022-03-14T05:58:48.962Z"
   },
   {
    "duration": 29,
    "start_time": "2022-03-14T05:58:51.132Z"
   },
   {
    "duration": 28,
    "start_time": "2022-03-14T05:58:53.300Z"
   },
   {
    "duration": 29,
    "start_time": "2022-03-14T05:58:56.075Z"
   },
   {
    "duration": 38,
    "start_time": "2022-03-14T05:59:00.604Z"
   },
   {
    "duration": 371,
    "start_time": "2022-03-14T05:59:13.193Z"
   },
   {
    "duration": 35,
    "start_time": "2022-03-14T05:59:19.354Z"
   },
   {
    "duration": 37,
    "start_time": "2022-03-14T05:59:29.500Z"
   },
   {
    "duration": 667,
    "start_time": "2022-03-14T06:01:25.149Z"
   },
   {
    "duration": 809,
    "start_time": "2022-03-14T06:03:02.709Z"
   },
   {
    "duration": 370,
    "start_time": "2022-03-14T06:03:39.711Z"
   },
   {
    "duration": 372,
    "start_time": "2022-03-14T06:04:32.837Z"
   },
   {
    "duration": 895,
    "start_time": "2022-03-14T06:05:14.592Z"
   },
   {
    "duration": 374,
    "start_time": "2022-03-14T06:06:55.883Z"
   },
   {
    "duration": 558,
    "start_time": "2022-03-14T23:38:07.995Z"
   },
   {
    "duration": 46,
    "start_time": "2022-03-14T23:38:08.555Z"
   },
   {
    "duration": 21,
    "start_time": "2022-03-14T23:38:08.604Z"
   },
   {
    "duration": 3,
    "start_time": "2022-03-14T23:38:08.627Z"
   },
   {
    "duration": 12,
    "start_time": "2022-03-14T23:38:08.632Z"
   },
   {
    "duration": 20,
    "start_time": "2022-03-14T23:38:08.659Z"
   },
   {
    "duration": 13,
    "start_time": "2022-03-14T23:38:08.681Z"
   },
   {
    "duration": 22,
    "start_time": "2022-03-14T23:38:08.698Z"
   },
   {
    "duration": 55,
    "start_time": "2022-03-14T23:38:08.723Z"
   },
   {
    "duration": 13,
    "start_time": "2022-03-14T23:38:08.780Z"
   },
   {
    "duration": 5,
    "start_time": "2022-03-14T23:38:08.795Z"
   },
   {
    "duration": 12,
    "start_time": "2022-03-14T23:38:08.802Z"
   },
   {
    "duration": 5,
    "start_time": "2022-03-14T23:38:08.815Z"
   },
   {
    "duration": 40,
    "start_time": "2022-03-14T23:38:08.822Z"
   },
   {
    "duration": 11,
    "start_time": "2022-03-14T23:38:08.864Z"
   },
   {
    "duration": 4,
    "start_time": "2022-03-14T23:38:08.877Z"
   },
   {
    "duration": 9,
    "start_time": "2022-03-14T23:38:08.883Z"
   },
   {
    "duration": 5,
    "start_time": "2022-03-14T23:38:08.894Z"
   },
   {
    "duration": 5,
    "start_time": "2022-03-14T23:38:08.901Z"
   },
   {
    "duration": 67,
    "start_time": "2022-03-14T23:38:08.907Z"
   },
   {
    "duration": 12,
    "start_time": "2022-03-14T23:38:08.976Z"
   },
   {
    "duration": 5,
    "start_time": "2022-03-14T23:38:08.990Z"
   },
   {
    "duration": 4,
    "start_time": "2022-03-14T23:38:09.000Z"
   },
   {
    "duration": 8,
    "start_time": "2022-03-14T23:38:09.007Z"
   },
   {
    "duration": 4,
    "start_time": "2022-03-14T23:38:09.017Z"
   },
   {
    "duration": 44,
    "start_time": "2022-03-14T23:38:09.022Z"
   },
   {
    "duration": 10,
    "start_time": "2022-03-14T23:38:09.068Z"
   },
   {
    "duration": 5,
    "start_time": "2022-03-14T23:38:09.079Z"
   },
   {
    "duration": 6,
    "start_time": "2022-03-14T23:38:09.086Z"
   },
   {
    "duration": 6,
    "start_time": "2022-03-14T23:38:09.094Z"
   },
   {
    "duration": 5,
    "start_time": "2022-03-14T23:38:09.102Z"
   },
   {
    "duration": 61,
    "start_time": "2022-03-14T23:38:09.109Z"
   },
   {
    "duration": 15,
    "start_time": "2022-03-14T23:38:09.172Z"
   },
   {
    "duration": 15,
    "start_time": "2022-03-14T23:38:09.189Z"
   },
   {
    "duration": 12,
    "start_time": "2022-03-14T23:38:09.206Z"
   },
   {
    "duration": 4,
    "start_time": "2022-03-14T23:38:09.220Z"
   },
   {
    "duration": 39,
    "start_time": "2022-03-14T23:38:09.225Z"
   },
   {
    "duration": 235,
    "start_time": "2022-03-14T23:38:09.265Z"
   },
   {
    "duration": 13,
    "start_time": "2022-03-14T23:38:09.502Z"
   },
   {
    "duration": 43,
    "start_time": "2022-03-14T23:38:09.517Z"
   },
   {
    "duration": 14,
    "start_time": "2022-03-14T23:38:09.561Z"
   },
   {
    "duration": 13,
    "start_time": "2022-03-14T23:38:09.576Z"
   },
   {
    "duration": 13,
    "start_time": "2022-03-14T23:38:09.590Z"
   },
   {
    "duration": 12,
    "start_time": "2022-03-14T23:38:09.605Z"
   },
   {
    "duration": 82,
    "start_time": "2022-03-14T23:38:09.618Z"
   },
   {
    "duration": 5,
    "start_time": "2022-03-14T23:38:09.702Z"
   },
   {
    "duration": 9,
    "start_time": "2022-03-14T23:38:09.709Z"
   },
   {
    "duration": 1417,
    "start_time": "2022-03-14T23:38:09.720Z"
   },
   {
    "duration": 28,
    "start_time": "2022-03-14T23:38:11.139Z"
   },
   {
    "duration": 14,
    "start_time": "2022-03-14T23:38:11.168Z"
   },
   {
    "duration": 13,
    "start_time": "2022-03-14T23:38:11.184Z"
   },
   {
    "duration": 3,
    "start_time": "2022-03-14T23:38:11.199Z"
   },
   {
    "duration": 12,
    "start_time": "2022-03-14T23:38:11.203Z"
   },
   {
    "duration": 393,
    "start_time": "2022-03-14T23:38:11.217Z"
   },
   {
    "duration": 13,
    "start_time": "2022-03-14T23:38:11.612Z"
   },
   {
    "duration": 14,
    "start_time": "2022-03-14T23:38:11.627Z"
   },
   {
    "duration": 7,
    "start_time": "2022-03-14T23:38:11.660Z"
   },
   {
    "duration": 10,
    "start_time": "2022-03-14T23:38:11.669Z"
   },
   {
    "duration": 263,
    "start_time": "2022-03-14T23:38:11.681Z"
   },
   {
    "duration": 37,
    "start_time": "2022-03-14T23:38:11.946Z"
   },
   {
    "duration": 26,
    "start_time": "2022-03-14T23:38:11.985Z"
   },
   {
    "duration": 47,
    "start_time": "2022-03-14T23:38:12.013Z"
   },
   {
    "duration": 34,
    "start_time": "2022-03-14T23:38:12.062Z"
   },
   {
    "duration": 376,
    "start_time": "2022-03-14T23:38:12.098Z"
   },
   {
    "duration": 35,
    "start_time": "2022-03-14T23:38:12.476Z"
   },
   {
    "duration": 9,
    "start_time": "2022-03-15T00:25:55.796Z"
   },
   {
    "duration": 601,
    "start_time": "2022-03-15T02:24:09.131Z"
   },
   {
    "duration": 43,
    "start_time": "2022-03-15T02:24:11.488Z"
   },
   {
    "duration": 21,
    "start_time": "2022-03-15T02:24:12.220Z"
   },
   {
    "duration": 4,
    "start_time": "2022-03-15T02:24:12.380Z"
   },
   {
    "duration": 12,
    "start_time": "2022-03-15T02:24:12.727Z"
   },
   {
    "duration": 21,
    "start_time": "2022-03-15T02:24:13.070Z"
   },
   {
    "duration": 14,
    "start_time": "2022-03-15T02:24:13.615Z"
   },
   {
    "duration": 24,
    "start_time": "2022-03-15T02:24:14.194Z"
   },
   {
    "duration": 20,
    "start_time": "2022-03-15T02:24:14.934Z"
   },
   {
    "duration": 14,
    "start_time": "2022-03-15T02:24:15.341Z"
   },
   {
    "duration": 5,
    "start_time": "2022-03-15T02:24:16.401Z"
   },
   {
    "duration": 12,
    "start_time": "2022-03-15T02:24:16.621Z"
   },
   {
    "duration": 5,
    "start_time": "2022-03-15T02:24:16.997Z"
   },
   {
    "duration": 4,
    "start_time": "2022-03-15T02:24:17.569Z"
   },
   {
    "duration": 9,
    "start_time": "2022-03-15T02:24:17.974Z"
   },
   {
    "duration": 3,
    "start_time": "2022-03-15T02:24:18.195Z"
   },
   {
    "duration": 5,
    "start_time": "2022-03-15T02:24:18.749Z"
   },
   {
    "duration": 4,
    "start_time": "2022-03-15T02:24:19.114Z"
   },
   {
    "duration": 4,
    "start_time": "2022-03-15T02:24:19.340Z"
   },
   {
    "duration": 21,
    "start_time": "2022-03-15T02:24:19.870Z"
   },
   {
    "duration": 11,
    "start_time": "2022-03-15T02:24:20.250Z"
   },
   {
    "duration": 5,
    "start_time": "2022-03-15T02:24:20.419Z"
   },
   {
    "duration": 5,
    "start_time": "2022-03-15T02:24:21.009Z"
   },
   {
    "duration": 7,
    "start_time": "2022-03-15T02:24:21.210Z"
   },
   {
    "duration": 5,
    "start_time": "2022-03-15T02:24:21.397Z"
   },
   {
    "duration": 8,
    "start_time": "2022-03-15T02:24:22.011Z"
   },
   {
    "duration": 9,
    "start_time": "2022-03-15T02:24:22.412Z"
   },
   {
    "duration": 5,
    "start_time": "2022-03-15T02:24:22.618Z"
   },
   {
    "duration": 5,
    "start_time": "2022-03-15T02:24:23.241Z"
   },
   {
    "duration": 5,
    "start_time": "2022-03-15T02:24:25.451Z"
   },
   {
    "duration": 4,
    "start_time": "2022-03-15T02:24:25.663Z"
   },
   {
    "duration": 14,
    "start_time": "2022-03-15T02:24:26.253Z"
   },
   {
    "duration": 16,
    "start_time": "2022-03-15T02:24:26.445Z"
   },
   {
    "duration": 15,
    "start_time": "2022-03-15T02:24:26.616Z"
   },
   {
    "duration": 13,
    "start_time": "2022-03-15T02:24:26.827Z"
   },
   {
    "duration": 3,
    "start_time": "2022-03-15T02:24:28.205Z"
   },
   {
    "duration": 5,
    "start_time": "2022-03-15T02:24:28.422Z"
   },
   {
    "duration": 228,
    "start_time": "2022-03-15T02:24:28.627Z"
   },
   {
    "duration": 12,
    "start_time": "2022-03-15T02:24:28.857Z"
   },
   {
    "duration": 27,
    "start_time": "2022-03-15T02:24:29.342Z"
   },
   {
    "duration": 13,
    "start_time": "2022-03-15T02:24:29.705Z"
   },
   {
    "duration": 13,
    "start_time": "2022-03-15T02:24:29.900Z"
   },
   {
    "duration": 13,
    "start_time": "2022-03-15T02:24:30.098Z"
   },
   {
    "duration": 12,
    "start_time": "2022-03-15T02:24:30.321Z"
   },
   {
    "duration": 49,
    "start_time": "2022-03-15T02:24:31.138Z"
   },
   {
    "duration": 5,
    "start_time": "2022-03-15T02:24:31.321Z"
   },
   {
    "duration": 6,
    "start_time": "2022-03-15T02:24:31.717Z"
   },
   {
    "duration": 1337,
    "start_time": "2022-03-15T02:24:31.948Z"
   },
   {
    "duration": 20,
    "start_time": "2022-03-15T02:24:33.287Z"
   },
   {
    "duration": 13,
    "start_time": "2022-03-15T02:24:33.308Z"
   },
   {
    "duration": 12,
    "start_time": "2022-03-15T02:24:33.322Z"
   },
   {
    "duration": 3,
    "start_time": "2022-03-15T02:24:33.367Z"
   },
   {
    "duration": 5,
    "start_time": "2022-03-15T02:24:33.576Z"
   },
   {
    "duration": 361,
    "start_time": "2022-03-15T02:24:33.788Z"
   },
   {
    "duration": 17,
    "start_time": "2022-03-15T02:24:34.151Z"
   },
   {
    "duration": 12,
    "start_time": "2022-03-15T02:24:34.170Z"
   },
   {
    "duration": 5,
    "start_time": "2022-03-15T02:24:34.788Z"
   },
   {
    "duration": 8,
    "start_time": "2022-03-15T02:24:35.192Z"
   },
   {
    "duration": 258,
    "start_time": "2022-03-15T02:24:35.607Z"
   },
   {
    "duration": 22,
    "start_time": "2022-03-15T02:24:35.867Z"
   },
   {
    "duration": 25,
    "start_time": "2022-03-15T02:24:36.012Z"
   },
   {
    "duration": 26,
    "start_time": "2022-03-15T02:24:37.396Z"
   },
   {
    "duration": 36,
    "start_time": "2022-03-15T02:24:38.416Z"
   },
   {
    "duration": 335,
    "start_time": "2022-03-15T02:24:39.476Z"
   },
   {
    "duration": 31,
    "start_time": "2022-03-15T02:24:40.505Z"
   },
   {
    "duration": 76,
    "start_time": "2022-03-15T02:35:43.321Z"
   },
   {
    "duration": 286,
    "start_time": "2022-03-15T02:35:55.302Z"
   },
   {
    "duration": 254,
    "start_time": "2022-03-15T02:36:48.923Z"
   },
   {
    "duration": 34,
    "start_time": "2022-03-15T02:36:58.989Z"
   },
   {
    "duration": 266,
    "start_time": "2022-03-15T02:38:45.863Z"
   },
   {
    "duration": 262,
    "start_time": "2022-03-15T02:39:51.409Z"
   },
   {
    "duration": 529,
    "start_time": "2022-03-15T02:41:07.150Z"
   },
   {
    "duration": 414,
    "start_time": "2022-03-15T02:41:42.738Z"
   },
   {
    "duration": 564,
    "start_time": "2022-03-15T11:54:09.343Z"
   },
   {
    "duration": 44,
    "start_time": "2022-03-15T11:54:09.909Z"
   },
   {
    "duration": 21,
    "start_time": "2022-03-15T11:54:09.957Z"
   },
   {
    "duration": 5,
    "start_time": "2022-03-15T11:54:09.980Z"
   },
   {
    "duration": 13,
    "start_time": "2022-03-15T11:54:09.987Z"
   },
   {
    "duration": 45,
    "start_time": "2022-03-15T11:54:10.002Z"
   },
   {
    "duration": 14,
    "start_time": "2022-03-15T11:54:10.049Z"
   },
   {
    "duration": 21,
    "start_time": "2022-03-15T11:54:10.065Z"
   },
   {
    "duration": 45,
    "start_time": "2022-03-15T11:54:10.089Z"
   },
   {
    "duration": 13,
    "start_time": "2022-03-15T11:54:10.137Z"
   },
   {
    "duration": 5,
    "start_time": "2022-03-15T11:54:10.151Z"
   },
   {
    "duration": 16,
    "start_time": "2022-03-15T11:54:10.158Z"
   },
   {
    "duration": 10,
    "start_time": "2022-03-15T11:54:10.176Z"
   },
   {
    "duration": 9,
    "start_time": "2022-03-15T11:54:10.187Z"
   },
   {
    "duration": 36,
    "start_time": "2022-03-15T11:54:10.197Z"
   },
   {
    "duration": 3,
    "start_time": "2022-03-15T11:54:10.235Z"
   },
   {
    "duration": 12,
    "start_time": "2022-03-15T11:54:10.240Z"
   },
   {
    "duration": 7,
    "start_time": "2022-03-15T11:54:10.254Z"
   },
   {
    "duration": 8,
    "start_time": "2022-03-15T11:54:10.262Z"
   },
   {
    "duration": 26,
    "start_time": "2022-03-15T11:54:10.271Z"
   },
   {
    "duration": 10,
    "start_time": "2022-03-15T11:54:10.299Z"
   },
   {
    "duration": 24,
    "start_time": "2022-03-15T11:54:10.310Z"
   },
   {
    "duration": 8,
    "start_time": "2022-03-15T11:54:10.335Z"
   },
   {
    "duration": 8,
    "start_time": "2022-03-15T11:54:10.344Z"
   },
   {
    "duration": 4,
    "start_time": "2022-03-15T11:54:10.354Z"
   },
   {
    "duration": 8,
    "start_time": "2022-03-15T11:54:10.359Z"
   },
   {
    "duration": 8,
    "start_time": "2022-03-15T11:54:10.371Z"
   },
   {
    "duration": 4,
    "start_time": "2022-03-15T11:54:10.382Z"
   },
   {
    "duration": 46,
    "start_time": "2022-03-15T11:54:10.388Z"
   },
   {
    "duration": 5,
    "start_time": "2022-03-15T11:54:10.435Z"
   },
   {
    "duration": 7,
    "start_time": "2022-03-15T11:54:10.441Z"
   },
   {
    "duration": 15,
    "start_time": "2022-03-15T11:54:10.449Z"
   },
   {
    "duration": 14,
    "start_time": "2022-03-15T11:54:10.466Z"
   },
   {
    "duration": 14,
    "start_time": "2022-03-15T11:54:10.481Z"
   },
   {
    "duration": 45,
    "start_time": "2022-03-15T11:54:10.497Z"
   },
   {
    "duration": 4,
    "start_time": "2022-03-15T11:54:10.543Z"
   },
   {
    "duration": 9,
    "start_time": "2022-03-15T11:54:10.548Z"
   },
   {
    "duration": 218,
    "start_time": "2022-03-15T11:54:10.558Z"
   },
   {
    "duration": 12,
    "start_time": "2022-03-15T11:54:10.778Z"
   },
   {
    "duration": 30,
    "start_time": "2022-03-15T11:54:10.791Z"
   },
   {
    "duration": 21,
    "start_time": "2022-03-15T11:54:10.822Z"
   },
   {
    "duration": 12,
    "start_time": "2022-03-15T11:54:10.845Z"
   },
   {
    "duration": 12,
    "start_time": "2022-03-15T11:54:10.859Z"
   },
   {
    "duration": 12,
    "start_time": "2022-03-15T11:54:10.872Z"
   },
   {
    "duration": 81,
    "start_time": "2022-03-15T11:54:10.886Z"
   },
   {
    "duration": 5,
    "start_time": "2022-03-15T11:54:10.969Z"
   },
   {
    "duration": 8,
    "start_time": "2022-03-15T11:54:10.976Z"
   },
   {
    "duration": 1320,
    "start_time": "2022-03-15T11:54:10.986Z"
   },
   {
    "duration": 31,
    "start_time": "2022-03-15T11:54:12.307Z"
   },
   {
    "duration": 36,
    "start_time": "2022-03-15T11:54:12.339Z"
   },
   {
    "duration": 12,
    "start_time": "2022-03-15T11:54:12.377Z"
   },
   {
    "duration": 3,
    "start_time": "2022-03-15T11:54:12.391Z"
   },
   {
    "duration": 7,
    "start_time": "2022-03-15T11:54:12.395Z"
   },
   {
    "duration": 340,
    "start_time": "2022-03-15T11:54:12.403Z"
   },
   {
    "duration": 11,
    "start_time": "2022-03-15T11:54:12.745Z"
   },
   {
    "duration": 14,
    "start_time": "2022-03-15T11:54:12.758Z"
   },
   {
    "duration": 5,
    "start_time": "2022-03-15T11:54:12.773Z"
   },
   {
    "duration": 8,
    "start_time": "2022-03-15T11:54:12.779Z"
   },
   {
    "duration": 246,
    "start_time": "2022-03-15T11:54:12.788Z"
   },
   {
    "duration": 23,
    "start_time": "2022-03-15T11:54:13.035Z"
   },
   {
    "duration": 21,
    "start_time": "2022-03-15T11:54:13.060Z"
   },
   {
    "duration": 22,
    "start_time": "2022-03-15T11:54:13.083Z"
   },
   {
    "duration": 59,
    "start_time": "2022-03-15T11:54:13.106Z"
   },
   {
    "duration": 263,
    "start_time": "2022-03-15T11:54:13.166Z"
   },
   {
    "duration": 32,
    "start_time": "2022-03-15T11:54:13.433Z"
   }
  ],
  "kernelspec": {
   "display_name": "Python 3 (ipykernel)",
   "language": "python",
   "name": "python3"
  },
  "language_info": {
   "codemirror_mode": {
    "name": "ipython",
    "version": 3
   },
   "file_extension": ".py",
   "mimetype": "text/x-python",
   "name": "python",
   "nbconvert_exporter": "python",
   "pygments_lexer": "ipython3",
   "version": "3.9.5"
  },
  "toc": {
   "base_numbering": 1,
   "nav_menu": {},
   "number_sections": true,
   "sideBar": true,
   "skip_h1_title": true,
   "title_cell": "Table of Contents",
   "title_sidebar": "Contents",
   "toc_cell": false,
   "toc_position": {},
   "toc_section_display": true,
   "toc_window_display": false
  }
 },
 "nbformat": 4,
 "nbformat_minor": 2
}
