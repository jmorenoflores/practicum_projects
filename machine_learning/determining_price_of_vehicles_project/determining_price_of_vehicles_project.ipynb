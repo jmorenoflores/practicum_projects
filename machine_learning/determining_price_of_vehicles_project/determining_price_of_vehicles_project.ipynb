{
 "cells": [
  {
   "cell_type": "markdown",
   "metadata": {},
   "source": [
    "# ML Model for Rusty Bargain Used Cars Service \n",
    "Rusty Bargain used car sales service is developing an app to attract new customers. In that app, you can quickly find out the market value of your car. You have access to historical data: technical specifications, trim versions, and prices. For this project, we built the model to determine the value. \n",
    "\n",
    "Rusty Bargain was interested in the following:\n",
    "\n",
    "- the quality of the prediction;\n",
    "- the speed of the prediction;\n",
    "- the time required for training\n",
    "\n",
    "For this project, we trained different models with various hyperparameters (some models had various implementations of gradient boosting.) The main point of this step was to compare gradient boosting methods with random forest, decision tree, and linear regression. Similarly, we analyzed the speed and quality of the models and used the RMSE metric to evaluate the models. Since the Linear regression model is not very good for hyperparameter tuning, we used it as a sanity check of other methods. Somethign we kept in mind is that if gradient boosting performs worse than linear regression, something definitely went wrong."
   ]
  },
  {
   "cell_type": "markdown",
   "metadata": {},
   "source": [
    "## Libraries used for Analysis"
   ]
  },
  {
   "cell_type": "code",
   "execution_count": 1,
   "metadata": {},
   "outputs": [],
   "source": [
    "import pandas as pd\n",
    "import numpy as np\n",
    "import matplotlib.pyplot as plt\n",
    "from sklearn.preprocessing import OrdinalEncoder, StandardScaler\n",
    "from lightgbm import LGBMRegressor\n",
    "from sklearn.model_selection import train_test_split, GridSearchCV, RandomizedSearchCV\n",
    "from sklearn.metrics import mean_squared_error\n",
    "from datetime import datetime as dt\n",
    "from sklearn.ensemble import RandomForestRegressor \n",
    "from sklearn.tree import DecisionTreeRegressor\n",
    "from sklearn.metrics import make_scorer\n",
    "import lightgbm as lbt\n",
    "from catboost import CatBoostRegressor\n",
    "from xgboost import XGBRegressor \n",
    "from sklearn.linear_model import LinearRegression\n",
    "\n",
    "%config InlineBackend.figure_format = 'retina'\n",
    "plt.style.use('seaborn')\n",
    "\n",
    "\n",
    "import warnings\n",
    "warnings.filterwarnings(\"ignore\", category=RuntimeWarning) "
   ]
  },
  {
   "cell_type": "markdown",
   "metadata": {},
   "source": [
    "## Data preparation\n",
    "The CV provided by Rusty Bargain was saved in the __data__ variable as a pandas DataFrame. The dataframe contained a total of 16 columns and 354369 entried, each representing information about an used vehicle. Below is a description of the columns: \n",
    "- DateCrawled — date profile was downloaded from the database\n",
    "- VehicleType — vehicle body type\n",
    "- RegistrationYear — vehicle registration year\n",
    "- Gearbox — gearbox type\n",
    "- Power — power (hp)\n",
    "- Model — vehicle model\n",
    "- Mileage — mileage (measured in km due to dataset's regional specifics)\n",
    "- RegistrationMonth — vehicle registration month\n",
    "- FuelType — fuel type\n",
    "- Brand — vehicle brand\n",
    "- NotRepaired — vehicle repaired or not\n",
    "- DateCreated — date of profile creation\n",
    "- NumberOfPictures — number of vehicle pictures\n",
    "- PostalCode — postal code of profile owner (user)\n",
    "- LastSeen — date of the last activity of the user\n",
    "- Price — price (Euro)"
   ]
  },
  {
   "cell_type": "code",
   "execution_count": 2,
   "metadata": {},
   "outputs": [
    {
     "data": {
      "text/html": [
       "<div>\n",
       "<style scoped>\n",
       "    .dataframe tbody tr th:only-of-type {\n",
       "        vertical-align: middle;\n",
       "    }\n",
       "\n",
       "    .dataframe tbody tr th {\n",
       "        vertical-align: top;\n",
       "    }\n",
       "\n",
       "    .dataframe thead th {\n",
       "        text-align: right;\n",
       "    }\n",
       "</style>\n",
       "<table border=\"1\" class=\"dataframe\">\n",
       "  <thead>\n",
       "    <tr style=\"text-align: right;\">\n",
       "      <th></th>\n",
       "      <th>DateCrawled</th>\n",
       "      <th>Price</th>\n",
       "      <th>VehicleType</th>\n",
       "      <th>RegistrationYear</th>\n",
       "      <th>Gearbox</th>\n",
       "      <th>Power</th>\n",
       "      <th>Model</th>\n",
       "      <th>Mileage</th>\n",
       "      <th>RegistrationMonth</th>\n",
       "      <th>FuelType</th>\n",
       "      <th>Brand</th>\n",
       "      <th>NotRepaired</th>\n",
       "      <th>DateCreated</th>\n",
       "      <th>NumberOfPictures</th>\n",
       "      <th>PostalCode</th>\n",
       "      <th>LastSeen</th>\n",
       "    </tr>\n",
       "  </thead>\n",
       "  <tbody>\n",
       "    <tr>\n",
       "      <th>0</th>\n",
       "      <td>24/03/2016 11:52</td>\n",
       "      <td>480</td>\n",
       "      <td>NaN</td>\n",
       "      <td>1993</td>\n",
       "      <td>manual</td>\n",
       "      <td>0</td>\n",
       "      <td>golf</td>\n",
       "      <td>150000</td>\n",
       "      <td>0</td>\n",
       "      <td>petrol</td>\n",
       "      <td>volkswagen</td>\n",
       "      <td>NaN</td>\n",
       "      <td>24/03/2016 00:00</td>\n",
       "      <td>0</td>\n",
       "      <td>70435</td>\n",
       "      <td>07/04/2016 03:16</td>\n",
       "    </tr>\n",
       "    <tr>\n",
       "      <th>1</th>\n",
       "      <td>24/03/2016 10:58</td>\n",
       "      <td>18300</td>\n",
       "      <td>coupe</td>\n",
       "      <td>2011</td>\n",
       "      <td>manual</td>\n",
       "      <td>190</td>\n",
       "      <td>NaN</td>\n",
       "      <td>125000</td>\n",
       "      <td>5</td>\n",
       "      <td>gasoline</td>\n",
       "      <td>audi</td>\n",
       "      <td>yes</td>\n",
       "      <td>24/03/2016 00:00</td>\n",
       "      <td>0</td>\n",
       "      <td>66954</td>\n",
       "      <td>07/04/2016 01:46</td>\n",
       "    </tr>\n",
       "    <tr>\n",
       "      <th>2</th>\n",
       "      <td>14/03/2016 12:52</td>\n",
       "      <td>9800</td>\n",
       "      <td>suv</td>\n",
       "      <td>2004</td>\n",
       "      <td>auto</td>\n",
       "      <td>163</td>\n",
       "      <td>grand</td>\n",
       "      <td>125000</td>\n",
       "      <td>8</td>\n",
       "      <td>gasoline</td>\n",
       "      <td>jeep</td>\n",
       "      <td>NaN</td>\n",
       "      <td>14/03/2016 00:00</td>\n",
       "      <td>0</td>\n",
       "      <td>90480</td>\n",
       "      <td>05/04/2016 12:47</td>\n",
       "    </tr>\n",
       "    <tr>\n",
       "      <th>3</th>\n",
       "      <td>17/03/2016 16:54</td>\n",
       "      <td>1500</td>\n",
       "      <td>small</td>\n",
       "      <td>2001</td>\n",
       "      <td>manual</td>\n",
       "      <td>75</td>\n",
       "      <td>golf</td>\n",
       "      <td>150000</td>\n",
       "      <td>6</td>\n",
       "      <td>petrol</td>\n",
       "      <td>volkswagen</td>\n",
       "      <td>no</td>\n",
       "      <td>17/03/2016 00:00</td>\n",
       "      <td>0</td>\n",
       "      <td>91074</td>\n",
       "      <td>17/03/2016 17:40</td>\n",
       "    </tr>\n",
       "    <tr>\n",
       "      <th>4</th>\n",
       "      <td>31/03/2016 17:25</td>\n",
       "      <td>3600</td>\n",
       "      <td>small</td>\n",
       "      <td>2008</td>\n",
       "      <td>manual</td>\n",
       "      <td>69</td>\n",
       "      <td>fabia</td>\n",
       "      <td>90000</td>\n",
       "      <td>7</td>\n",
       "      <td>gasoline</td>\n",
       "      <td>skoda</td>\n",
       "      <td>no</td>\n",
       "      <td>31/03/2016 00:00</td>\n",
       "      <td>0</td>\n",
       "      <td>60437</td>\n",
       "      <td>06/04/2016 10:17</td>\n",
       "    </tr>\n",
       "  </tbody>\n",
       "</table>\n",
       "</div>"
      ],
      "text/plain": [
       "        DateCrawled  Price VehicleType  RegistrationYear Gearbox  Power  \\\n",
       "0  24/03/2016 11:52    480         NaN              1993  manual      0   \n",
       "1  24/03/2016 10:58  18300       coupe              2011  manual    190   \n",
       "2  14/03/2016 12:52   9800         suv              2004    auto    163   \n",
       "3  17/03/2016 16:54   1500       small              2001  manual     75   \n",
       "4  31/03/2016 17:25   3600       small              2008  manual     69   \n",
       "\n",
       "   Model  Mileage  RegistrationMonth  FuelType       Brand NotRepaired  \\\n",
       "0   golf   150000                  0    petrol  volkswagen         NaN   \n",
       "1    NaN   125000                  5  gasoline        audi         yes   \n",
       "2  grand   125000                  8  gasoline        jeep         NaN   \n",
       "3   golf   150000                  6    petrol  volkswagen          no   \n",
       "4  fabia    90000                  7  gasoline       skoda          no   \n",
       "\n",
       "        DateCreated  NumberOfPictures  PostalCode          LastSeen  \n",
       "0  24/03/2016 00:00                 0       70435  07/04/2016 03:16  \n",
       "1  24/03/2016 00:00                 0       66954  07/04/2016 01:46  \n",
       "2  14/03/2016 00:00                 0       90480  05/04/2016 12:47  \n",
       "3  17/03/2016 00:00                 0       91074  17/03/2016 17:40  \n",
       "4  31/03/2016 00:00                 0       60437  06/04/2016 10:17  "
      ]
     },
     "execution_count": 2,
     "metadata": {},
     "output_type": "execute_result"
    }
   ],
   "source": [
    "data = pd.read_csv('/datasets/car_data.csv')\n",
    "data.head()"
   ]
  },
  {
   "cell_type": "code",
   "execution_count": 3,
   "metadata": {},
   "outputs": [
    {
     "name": "stdout",
     "output_type": "stream",
     "text": [
      "<class 'pandas.core.frame.DataFrame'>\n",
      "RangeIndex: 354369 entries, 0 to 354368\n",
      "Data columns (total 16 columns):\n",
      " #   Column             Non-Null Count   Dtype \n",
      "---  ------             --------------   ----- \n",
      " 0   DateCrawled        354369 non-null  object\n",
      " 1   Price              354369 non-null  int64 \n",
      " 2   VehicleType        316879 non-null  object\n",
      " 3   RegistrationYear   354369 non-null  int64 \n",
      " 4   Gearbox            334536 non-null  object\n",
      " 5   Power              354369 non-null  int64 \n",
      " 6   Model              334664 non-null  object\n",
      " 7   Mileage            354369 non-null  int64 \n",
      " 8   RegistrationMonth  354369 non-null  int64 \n",
      " 9   FuelType           321474 non-null  object\n",
      " 10  Brand              354369 non-null  object\n",
      " 11  NotRepaired        283215 non-null  object\n",
      " 12  DateCreated        354369 non-null  object\n",
      " 13  NumberOfPictures   354369 non-null  int64 \n",
      " 14  PostalCode         354369 non-null  int64 \n",
      " 15  LastSeen           354369 non-null  object\n",
      "dtypes: int64(7), object(9)\n",
      "memory usage: 43.3+ MB\n"
     ]
    }
   ],
   "source": [
    "data.info()"
   ]
  },
  {
   "cell_type": "markdown",
   "metadata": {},
   "source": [
    "The columns that contained missing values include: \n",
    "- VehicleType\n",
    "- Gearbox\n",
    "- Model \n",
    "- FuelType\n",
    "- NotRepaired\n",
    "\n"
   ]
  },
  {
   "cell_type": "markdown",
   "metadata": {},
   "source": [
    "### fixing column names\n",
    "\n",
    "In this section, we changed the the column names to all lowercase."
   ]
  },
  {
   "cell_type": "code",
   "execution_count": 4,
   "metadata": {},
   "outputs": [
    {
     "data": {
      "text/plain": [
       "Index(['datecrawled', 'price', 'vehicletype', 'registrationyear', 'gearbox',\n",
       "       'power', 'model', 'mileage', 'registrationmonth', 'fueltype', 'brand',\n",
       "       'notrepaired', 'datecreated', 'numberofpictures', 'postalcode',\n",
       "       'lastseen'],\n",
       "      dtype='object')"
      ]
     },
     "execution_count": 4,
     "metadata": {},
     "output_type": "execute_result"
    }
   ],
   "source": [
    "data.columns = data.columns.str.lower()\n",
    "data.columns"
   ]
  },
  {
   "cell_type": "markdown",
   "metadata": {},
   "source": [
    "### datecrawled column \n",
    "In the section, we checked for the data type, errors in data, missing values or anomalies in each of the columns. The __datecrawled__ column did not have any missing values or anomalies. However, the date type was changed to datetime64[ns]. "
   ]
  },
  {
   "cell_type": "code",
   "execution_count": 5,
   "metadata": {
    "scrolled": true
   },
   "outputs": [
    {
     "data": {
      "text/plain": [
       "0        2016-03-24 11:52:00\n",
       "1        2016-03-24 10:58:00\n",
       "2        2016-03-14 12:52:00\n",
       "3        2016-03-17 16:54:00\n",
       "4        2016-03-31 17:25:00\n",
       "                 ...        \n",
       "354364   2016-03-21 09:50:00\n",
       "354365   2016-03-14 17:48:00\n",
       "354366   2016-03-05 19:56:00\n",
       "354367   2016-03-19 18:57:00\n",
       "354368   2016-03-20 19:41:00\n",
       "Name: datecrawled, Length: 354369, dtype: datetime64[ns]"
      ]
     },
     "execution_count": 5,
     "metadata": {},
     "output_type": "execute_result"
    }
   ],
   "source": [
    "data['datecrawled'] = pd.to_datetime(data['datecrawled'], format = '%d/%m/%Y %H:%M')\n",
    "data.datecrawled"
   ]
  },
  {
   "cell_type": "code",
   "execution_count": 6,
   "metadata": {
    "scrolled": true
   },
   "outputs": [
    {
     "data": {
      "text/html": [
       "<div>\n",
       "<style scoped>\n",
       "    .dataframe tbody tr th:only-of-type {\n",
       "        vertical-align: middle;\n",
       "    }\n",
       "\n",
       "    .dataframe tbody tr th {\n",
       "        vertical-align: top;\n",
       "    }\n",
       "\n",
       "    .dataframe thead th {\n",
       "        text-align: right;\n",
       "    }\n",
       "</style>\n",
       "<table border=\"1\" class=\"dataframe\">\n",
       "  <thead>\n",
       "    <tr style=\"text-align: right;\">\n",
       "      <th></th>\n",
       "      <th>datecrawled</th>\n",
       "      <th>price</th>\n",
       "      <th>vehicletype</th>\n",
       "      <th>registrationyear</th>\n",
       "      <th>gearbox</th>\n",
       "      <th>power</th>\n",
       "      <th>model</th>\n",
       "      <th>mileage</th>\n",
       "      <th>registrationmonth</th>\n",
       "      <th>fueltype</th>\n",
       "      <th>brand</th>\n",
       "      <th>notrepaired</th>\n",
       "      <th>datecreated</th>\n",
       "      <th>numberofpictures</th>\n",
       "      <th>postalcode</th>\n",
       "      <th>lastseen</th>\n",
       "    </tr>\n",
       "  </thead>\n",
       "  <tbody>\n",
       "  </tbody>\n",
       "</table>\n",
       "</div>"
      ],
      "text/plain": [
       "Empty DataFrame\n",
       "Columns: [datecrawled, price, vehicletype, registrationyear, gearbox, power, model, mileage, registrationmonth, fueltype, brand, notrepaired, datecreated, numberofpictures, postalcode, lastseen]\n",
       "Index: []"
      ]
     },
     "execution_count": 6,
     "metadata": {},
     "output_type": "execute_result"
    }
   ],
   "source": [
    "data.query('datecrawled.isna()')"
   ]
  },
  {
   "cell_type": "markdown",
   "metadata": {},
   "source": [
    "However, this column does not act as a variable that affects the price of a vehicle. Therefore, it was dropped. "
   ]
  },
  {
   "cell_type": "code",
   "execution_count": 7,
   "metadata": {},
   "outputs": [
    {
     "data": {
      "text/html": [
       "<div>\n",
       "<style scoped>\n",
       "    .dataframe tbody tr th:only-of-type {\n",
       "        vertical-align: middle;\n",
       "    }\n",
       "\n",
       "    .dataframe tbody tr th {\n",
       "        vertical-align: top;\n",
       "    }\n",
       "\n",
       "    .dataframe thead th {\n",
       "        text-align: right;\n",
       "    }\n",
       "</style>\n",
       "<table border=\"1\" class=\"dataframe\">\n",
       "  <thead>\n",
       "    <tr style=\"text-align: right;\">\n",
       "      <th></th>\n",
       "      <th>price</th>\n",
       "      <th>vehicletype</th>\n",
       "      <th>registrationyear</th>\n",
       "      <th>gearbox</th>\n",
       "      <th>power</th>\n",
       "      <th>model</th>\n",
       "      <th>mileage</th>\n",
       "      <th>registrationmonth</th>\n",
       "      <th>fueltype</th>\n",
       "      <th>brand</th>\n",
       "      <th>notrepaired</th>\n",
       "      <th>datecreated</th>\n",
       "      <th>numberofpictures</th>\n",
       "      <th>postalcode</th>\n",
       "      <th>lastseen</th>\n",
       "    </tr>\n",
       "  </thead>\n",
       "  <tbody>\n",
       "    <tr>\n",
       "      <th>0</th>\n",
       "      <td>480</td>\n",
       "      <td>NaN</td>\n",
       "      <td>1993</td>\n",
       "      <td>manual</td>\n",
       "      <td>0</td>\n",
       "      <td>golf</td>\n",
       "      <td>150000</td>\n",
       "      <td>0</td>\n",
       "      <td>petrol</td>\n",
       "      <td>volkswagen</td>\n",
       "      <td>NaN</td>\n",
       "      <td>24/03/2016 00:00</td>\n",
       "      <td>0</td>\n",
       "      <td>70435</td>\n",
       "      <td>07/04/2016 03:16</td>\n",
       "    </tr>\n",
       "    <tr>\n",
       "      <th>1</th>\n",
       "      <td>18300</td>\n",
       "      <td>coupe</td>\n",
       "      <td>2011</td>\n",
       "      <td>manual</td>\n",
       "      <td>190</td>\n",
       "      <td>NaN</td>\n",
       "      <td>125000</td>\n",
       "      <td>5</td>\n",
       "      <td>gasoline</td>\n",
       "      <td>audi</td>\n",
       "      <td>yes</td>\n",
       "      <td>24/03/2016 00:00</td>\n",
       "      <td>0</td>\n",
       "      <td>66954</td>\n",
       "      <td>07/04/2016 01:46</td>\n",
       "    </tr>\n",
       "    <tr>\n",
       "      <th>2</th>\n",
       "      <td>9800</td>\n",
       "      <td>suv</td>\n",
       "      <td>2004</td>\n",
       "      <td>auto</td>\n",
       "      <td>163</td>\n",
       "      <td>grand</td>\n",
       "      <td>125000</td>\n",
       "      <td>8</td>\n",
       "      <td>gasoline</td>\n",
       "      <td>jeep</td>\n",
       "      <td>NaN</td>\n",
       "      <td>14/03/2016 00:00</td>\n",
       "      <td>0</td>\n",
       "      <td>90480</td>\n",
       "      <td>05/04/2016 12:47</td>\n",
       "    </tr>\n",
       "    <tr>\n",
       "      <th>3</th>\n",
       "      <td>1500</td>\n",
       "      <td>small</td>\n",
       "      <td>2001</td>\n",
       "      <td>manual</td>\n",
       "      <td>75</td>\n",
       "      <td>golf</td>\n",
       "      <td>150000</td>\n",
       "      <td>6</td>\n",
       "      <td>petrol</td>\n",
       "      <td>volkswagen</td>\n",
       "      <td>no</td>\n",
       "      <td>17/03/2016 00:00</td>\n",
       "      <td>0</td>\n",
       "      <td>91074</td>\n",
       "      <td>17/03/2016 17:40</td>\n",
       "    </tr>\n",
       "    <tr>\n",
       "      <th>4</th>\n",
       "      <td>3600</td>\n",
       "      <td>small</td>\n",
       "      <td>2008</td>\n",
       "      <td>manual</td>\n",
       "      <td>69</td>\n",
       "      <td>fabia</td>\n",
       "      <td>90000</td>\n",
       "      <td>7</td>\n",
       "      <td>gasoline</td>\n",
       "      <td>skoda</td>\n",
       "      <td>no</td>\n",
       "      <td>31/03/2016 00:00</td>\n",
       "      <td>0</td>\n",
       "      <td>60437</td>\n",
       "      <td>06/04/2016 10:17</td>\n",
       "    </tr>\n",
       "    <tr>\n",
       "      <th>...</th>\n",
       "      <td>...</td>\n",
       "      <td>...</td>\n",
       "      <td>...</td>\n",
       "      <td>...</td>\n",
       "      <td>...</td>\n",
       "      <td>...</td>\n",
       "      <td>...</td>\n",
       "      <td>...</td>\n",
       "      <td>...</td>\n",
       "      <td>...</td>\n",
       "      <td>...</td>\n",
       "      <td>...</td>\n",
       "      <td>...</td>\n",
       "      <td>...</td>\n",
       "      <td>...</td>\n",
       "    </tr>\n",
       "    <tr>\n",
       "      <th>354364</th>\n",
       "      <td>0</td>\n",
       "      <td>NaN</td>\n",
       "      <td>2005</td>\n",
       "      <td>manual</td>\n",
       "      <td>0</td>\n",
       "      <td>colt</td>\n",
       "      <td>150000</td>\n",
       "      <td>7</td>\n",
       "      <td>petrol</td>\n",
       "      <td>mitsubishi</td>\n",
       "      <td>yes</td>\n",
       "      <td>21/03/2016 00:00</td>\n",
       "      <td>0</td>\n",
       "      <td>2694</td>\n",
       "      <td>21/03/2016 10:42</td>\n",
       "    </tr>\n",
       "    <tr>\n",
       "      <th>354365</th>\n",
       "      <td>2200</td>\n",
       "      <td>NaN</td>\n",
       "      <td>2005</td>\n",
       "      <td>NaN</td>\n",
       "      <td>0</td>\n",
       "      <td>NaN</td>\n",
       "      <td>20000</td>\n",
       "      <td>1</td>\n",
       "      <td>NaN</td>\n",
       "      <td>sonstige_autos</td>\n",
       "      <td>NaN</td>\n",
       "      <td>14/03/2016 00:00</td>\n",
       "      <td>0</td>\n",
       "      <td>39576</td>\n",
       "      <td>06/04/2016 00:46</td>\n",
       "    </tr>\n",
       "    <tr>\n",
       "      <th>354366</th>\n",
       "      <td>1199</td>\n",
       "      <td>convertible</td>\n",
       "      <td>2000</td>\n",
       "      <td>auto</td>\n",
       "      <td>101</td>\n",
       "      <td>fortwo</td>\n",
       "      <td>125000</td>\n",
       "      <td>3</td>\n",
       "      <td>petrol</td>\n",
       "      <td>smart</td>\n",
       "      <td>no</td>\n",
       "      <td>05/03/2016 00:00</td>\n",
       "      <td>0</td>\n",
       "      <td>26135</td>\n",
       "      <td>11/03/2016 18:17</td>\n",
       "    </tr>\n",
       "    <tr>\n",
       "      <th>354367</th>\n",
       "      <td>9200</td>\n",
       "      <td>bus</td>\n",
       "      <td>1996</td>\n",
       "      <td>manual</td>\n",
       "      <td>102</td>\n",
       "      <td>transporter</td>\n",
       "      <td>150000</td>\n",
       "      <td>3</td>\n",
       "      <td>gasoline</td>\n",
       "      <td>volkswagen</td>\n",
       "      <td>no</td>\n",
       "      <td>19/03/2016 00:00</td>\n",
       "      <td>0</td>\n",
       "      <td>87439</td>\n",
       "      <td>07/04/2016 07:15</td>\n",
       "    </tr>\n",
       "    <tr>\n",
       "      <th>354368</th>\n",
       "      <td>3400</td>\n",
       "      <td>wagon</td>\n",
       "      <td>2002</td>\n",
       "      <td>manual</td>\n",
       "      <td>100</td>\n",
       "      <td>golf</td>\n",
       "      <td>150000</td>\n",
       "      <td>6</td>\n",
       "      <td>gasoline</td>\n",
       "      <td>volkswagen</td>\n",
       "      <td>NaN</td>\n",
       "      <td>20/03/2016 00:00</td>\n",
       "      <td>0</td>\n",
       "      <td>40764</td>\n",
       "      <td>24/03/2016 12:45</td>\n",
       "    </tr>\n",
       "  </tbody>\n",
       "</table>\n",
       "<p>354369 rows × 15 columns</p>\n",
       "</div>"
      ],
      "text/plain": [
       "        price  vehicletype  registrationyear gearbox  power        model  \\\n",
       "0         480          NaN              1993  manual      0         golf   \n",
       "1       18300        coupe              2011  manual    190          NaN   \n",
       "2        9800          suv              2004    auto    163        grand   \n",
       "3        1500        small              2001  manual     75         golf   \n",
       "4        3600        small              2008  manual     69        fabia   \n",
       "...       ...          ...               ...     ...    ...          ...   \n",
       "354364      0          NaN              2005  manual      0         colt   \n",
       "354365   2200          NaN              2005     NaN      0          NaN   \n",
       "354366   1199  convertible              2000    auto    101       fortwo   \n",
       "354367   9200          bus              1996  manual    102  transporter   \n",
       "354368   3400        wagon              2002  manual    100         golf   \n",
       "\n",
       "        mileage  registrationmonth  fueltype           brand notrepaired  \\\n",
       "0        150000                  0    petrol      volkswagen         NaN   \n",
       "1        125000                  5  gasoline            audi         yes   \n",
       "2        125000                  8  gasoline            jeep         NaN   \n",
       "3        150000                  6    petrol      volkswagen          no   \n",
       "4         90000                  7  gasoline           skoda          no   \n",
       "...         ...                ...       ...             ...         ...   \n",
       "354364   150000                  7    petrol      mitsubishi         yes   \n",
       "354365    20000                  1       NaN  sonstige_autos         NaN   \n",
       "354366   125000                  3    petrol           smart          no   \n",
       "354367   150000                  3  gasoline      volkswagen          no   \n",
       "354368   150000                  6  gasoline      volkswagen         NaN   \n",
       "\n",
       "             datecreated  numberofpictures  postalcode          lastseen  \n",
       "0       24/03/2016 00:00                 0       70435  07/04/2016 03:16  \n",
       "1       24/03/2016 00:00                 0       66954  07/04/2016 01:46  \n",
       "2       14/03/2016 00:00                 0       90480  05/04/2016 12:47  \n",
       "3       17/03/2016 00:00                 0       91074  17/03/2016 17:40  \n",
       "4       31/03/2016 00:00                 0       60437  06/04/2016 10:17  \n",
       "...                  ...               ...         ...               ...  \n",
       "354364  21/03/2016 00:00                 0        2694  21/03/2016 10:42  \n",
       "354365  14/03/2016 00:00                 0       39576  06/04/2016 00:46  \n",
       "354366  05/03/2016 00:00                 0       26135  11/03/2016 18:17  \n",
       "354367  19/03/2016 00:00                 0       87439  07/04/2016 07:15  \n",
       "354368  20/03/2016 00:00                 0       40764  24/03/2016 12:45  \n",
       "\n",
       "[354369 rows x 15 columns]"
      ]
     },
     "execution_count": 7,
     "metadata": {},
     "output_type": "execute_result"
    }
   ],
   "source": [
    "data = data.drop('datecrawled', axis=1)\n",
    "data"
   ]
  },
  {
   "cell_type": "markdown",
   "metadata": {},
   "source": [
    "### price column\n",
    "\n",
    "The price column did not present any errors in date (e.g. negative values) or missing values. Below is the distribution of the price values. "
   ]
  },
  {
   "cell_type": "code",
   "execution_count": 8,
   "metadata": {
    "scrolled": true
   },
   "outputs": [
    {
     "data": {
      "text/html": [
       "<div>\n",
       "<style scoped>\n",
       "    .dataframe tbody tr th:only-of-type {\n",
       "        vertical-align: middle;\n",
       "    }\n",
       "\n",
       "    .dataframe tbody tr th {\n",
       "        vertical-align: top;\n",
       "    }\n",
       "\n",
       "    .dataframe thead th {\n",
       "        text-align: right;\n",
       "    }\n",
       "</style>\n",
       "<table border=\"1\" class=\"dataframe\">\n",
       "  <thead>\n",
       "    <tr style=\"text-align: right;\">\n",
       "      <th></th>\n",
       "      <th>price</th>\n",
       "      <th>vehicletype</th>\n",
       "      <th>registrationyear</th>\n",
       "      <th>gearbox</th>\n",
       "      <th>power</th>\n",
       "      <th>model</th>\n",
       "      <th>mileage</th>\n",
       "      <th>registrationmonth</th>\n",
       "      <th>fueltype</th>\n",
       "      <th>brand</th>\n",
       "      <th>notrepaired</th>\n",
       "      <th>datecreated</th>\n",
       "      <th>numberofpictures</th>\n",
       "      <th>postalcode</th>\n",
       "      <th>lastseen</th>\n",
       "    </tr>\n",
       "  </thead>\n",
       "  <tbody>\n",
       "  </tbody>\n",
       "</table>\n",
       "</div>"
      ],
      "text/plain": [
       "Empty DataFrame\n",
       "Columns: [price, vehicletype, registrationyear, gearbox, power, model, mileage, registrationmonth, fueltype, brand, notrepaired, datecreated, numberofpictures, postalcode, lastseen]\n",
       "Index: []"
      ]
     },
     "execution_count": 8,
     "metadata": {},
     "output_type": "execute_result"
    }
   ],
   "source": [
    "data.query('price.isna()')"
   ]
  },
  {
   "cell_type": "code",
   "execution_count": 9,
   "metadata": {},
   "outputs": [
    {
     "data": {
      "image/png": "[encoded data removed]",
      "text/plain": [
       "<Figure size 576x936 with 1 Axes>"
      ]
     },
     "metadata": {
      "image/png": {
       "height": 752,
       "width": 510
      }
     },
     "output_type": "display_data"
    },
    {
     "data": {
      "text/plain": [
       "count    354369.000000\n",
       "mean       4416.656776\n",
       "std        4514.158514\n",
       "min           0.000000\n",
       "25%        1050.000000\n",
       "50%        2700.000000\n",
       "75%        6400.000000\n",
       "max       20000.000000\n",
       "Name: price, dtype: float64"
      ]
     },
     "execution_count": 9,
     "metadata": {},
     "output_type": "execute_result"
    }
   ],
   "source": [
    "data.price.plot(kind='box', figsize=(8,13))\n",
    "plt.ylabel('price(Eruros)')\n",
    "plt.title('Distribution of price column values')\n",
    "plt.show()\n",
    "data.price.describe()"
   ]
  },
  {
   "cell_type": "markdown",
   "metadata": {},
   "source": [
    "### vehicletype column\n",
    "The __vehicletype__ column had a total of 37490 rows with missing values, which accounted for 10.6% of the data for this column. The missing values for this column were replaced with 'unknown' value to maintain a data type of object.  "
   ]
  },
  {
   "cell_type": "code",
   "execution_count": 10,
   "metadata": {
    "scrolled": false
   },
   "outputs": [
    {
     "name": "stdout",
     "output_type": "stream",
     "text": [
      "10.57936783409384\n"
     ]
    },
    {
     "data": {
      "text/html": [
       "<div>\n",
       "<style scoped>\n",
       "    .dataframe tbody tr th:only-of-type {\n",
       "        vertical-align: middle;\n",
       "    }\n",
       "\n",
       "    .dataframe tbody tr th {\n",
       "        vertical-align: top;\n",
       "    }\n",
       "\n",
       "    .dataframe thead th {\n",
       "        text-align: right;\n",
       "    }\n",
       "</style>\n",
       "<table border=\"1\" class=\"dataframe\">\n",
       "  <thead>\n",
       "    <tr style=\"text-align: right;\">\n",
       "      <th></th>\n",
       "      <th>price</th>\n",
       "      <th>vehicletype</th>\n",
       "      <th>registrationyear</th>\n",
       "      <th>gearbox</th>\n",
       "      <th>power</th>\n",
       "      <th>model</th>\n",
       "      <th>mileage</th>\n",
       "      <th>registrationmonth</th>\n",
       "      <th>fueltype</th>\n",
       "      <th>brand</th>\n",
       "      <th>notrepaired</th>\n",
       "      <th>datecreated</th>\n",
       "      <th>numberofpictures</th>\n",
       "      <th>postalcode</th>\n",
       "      <th>lastseen</th>\n",
       "    </tr>\n",
       "  </thead>\n",
       "  <tbody>\n",
       "    <tr>\n",
       "      <th>0</th>\n",
       "      <td>480</td>\n",
       "      <td>NaN</td>\n",
       "      <td>1993</td>\n",
       "      <td>manual</td>\n",
       "      <td>0</td>\n",
       "      <td>golf</td>\n",
       "      <td>150000</td>\n",
       "      <td>0</td>\n",
       "      <td>petrol</td>\n",
       "      <td>volkswagen</td>\n",
       "      <td>NaN</td>\n",
       "      <td>24/03/2016 00:00</td>\n",
       "      <td>0</td>\n",
       "      <td>70435</td>\n",
       "      <td>07/04/2016 03:16</td>\n",
       "    </tr>\n",
       "    <tr>\n",
       "      <th>16</th>\n",
       "      <td>300</td>\n",
       "      <td>NaN</td>\n",
       "      <td>2016</td>\n",
       "      <td>NaN</td>\n",
       "      <td>60</td>\n",
       "      <td>polo</td>\n",
       "      <td>150000</td>\n",
       "      <td>0</td>\n",
       "      <td>petrol</td>\n",
       "      <td>volkswagen</td>\n",
       "      <td>NaN</td>\n",
       "      <td>01/04/2016 00:00</td>\n",
       "      <td>0</td>\n",
       "      <td>38871</td>\n",
       "      <td>01/04/2016 12:46</td>\n",
       "    </tr>\n",
       "    <tr>\n",
       "      <th>22</th>\n",
       "      <td>2900</td>\n",
       "      <td>NaN</td>\n",
       "      <td>2018</td>\n",
       "      <td>manual</td>\n",
       "      <td>90</td>\n",
       "      <td>meriva</td>\n",
       "      <td>150000</td>\n",
       "      <td>5</td>\n",
       "      <td>petrol</td>\n",
       "      <td>opel</td>\n",
       "      <td>no</td>\n",
       "      <td>23/03/2016 00:00</td>\n",
       "      <td>0</td>\n",
       "      <td>49716</td>\n",
       "      <td>31/03/2016 01:16</td>\n",
       "    </tr>\n",
       "    <tr>\n",
       "      <th>26</th>\n",
       "      <td>5555</td>\n",
       "      <td>NaN</td>\n",
       "      <td>2017</td>\n",
       "      <td>manual</td>\n",
       "      <td>125</td>\n",
       "      <td>c4</td>\n",
       "      <td>125000</td>\n",
       "      <td>4</td>\n",
       "      <td>NaN</td>\n",
       "      <td>citroen</td>\n",
       "      <td>no</td>\n",
       "      <td>10/03/2016 00:00</td>\n",
       "      <td>0</td>\n",
       "      <td>31139</td>\n",
       "      <td>16/03/2016 09:16</td>\n",
       "    </tr>\n",
       "    <tr>\n",
       "      <th>31</th>\n",
       "      <td>899</td>\n",
       "      <td>NaN</td>\n",
       "      <td>2016</td>\n",
       "      <td>manual</td>\n",
       "      <td>60</td>\n",
       "      <td>clio</td>\n",
       "      <td>150000</td>\n",
       "      <td>6</td>\n",
       "      <td>petrol</td>\n",
       "      <td>renault</td>\n",
       "      <td>NaN</td>\n",
       "      <td>29/03/2016 00:00</td>\n",
       "      <td>0</td>\n",
       "      <td>37075</td>\n",
       "      <td>29/03/2016 17:43</td>\n",
       "    </tr>\n",
       "    <tr>\n",
       "      <th>...</th>\n",
       "      <td>...</td>\n",
       "      <td>...</td>\n",
       "      <td>...</td>\n",
       "      <td>...</td>\n",
       "      <td>...</td>\n",
       "      <td>...</td>\n",
       "      <td>...</td>\n",
       "      <td>...</td>\n",
       "      <td>...</td>\n",
       "      <td>...</td>\n",
       "      <td>...</td>\n",
       "      <td>...</td>\n",
       "      <td>...</td>\n",
       "      <td>...</td>\n",
       "      <td>...</td>\n",
       "    </tr>\n",
       "    <tr>\n",
       "      <th>354346</th>\n",
       "      <td>2600</td>\n",
       "      <td>NaN</td>\n",
       "      <td>2005</td>\n",
       "      <td>auto</td>\n",
       "      <td>0</td>\n",
       "      <td>c_klasse</td>\n",
       "      <td>150000</td>\n",
       "      <td>9</td>\n",
       "      <td>NaN</td>\n",
       "      <td>mercedes_benz</td>\n",
       "      <td>NaN</td>\n",
       "      <td>07/03/2016 00:00</td>\n",
       "      <td>0</td>\n",
       "      <td>61169</td>\n",
       "      <td>08/03/2016 21:28</td>\n",
       "    </tr>\n",
       "    <tr>\n",
       "      <th>354351</th>\n",
       "      <td>1900</td>\n",
       "      <td>NaN</td>\n",
       "      <td>2000</td>\n",
       "      <td>manual</td>\n",
       "      <td>110</td>\n",
       "      <td>NaN</td>\n",
       "      <td>150000</td>\n",
       "      <td>7</td>\n",
       "      <td>NaN</td>\n",
       "      <td>volkswagen</td>\n",
       "      <td>no</td>\n",
       "      <td>11/03/2016 00:00</td>\n",
       "      <td>0</td>\n",
       "      <td>87700</td>\n",
       "      <td>12/03/2016 14:16</td>\n",
       "    </tr>\n",
       "    <tr>\n",
       "      <th>354361</th>\n",
       "      <td>5250</td>\n",
       "      <td>NaN</td>\n",
       "      <td>2016</td>\n",
       "      <td>auto</td>\n",
       "      <td>150</td>\n",
       "      <td>159</td>\n",
       "      <td>150000</td>\n",
       "      <td>12</td>\n",
       "      <td>NaN</td>\n",
       "      <td>alfa_romeo</td>\n",
       "      <td>no</td>\n",
       "      <td>09/03/2016 00:00</td>\n",
       "      <td>0</td>\n",
       "      <td>51371</td>\n",
       "      <td>13/03/2016 01:44</td>\n",
       "    </tr>\n",
       "    <tr>\n",
       "      <th>354364</th>\n",
       "      <td>0</td>\n",
       "      <td>NaN</td>\n",
       "      <td>2005</td>\n",
       "      <td>manual</td>\n",
       "      <td>0</td>\n",
       "      <td>colt</td>\n",
       "      <td>150000</td>\n",
       "      <td>7</td>\n",
       "      <td>petrol</td>\n",
       "      <td>mitsubishi</td>\n",
       "      <td>yes</td>\n",
       "      <td>21/03/2016 00:00</td>\n",
       "      <td>0</td>\n",
       "      <td>2694</td>\n",
       "      <td>21/03/2016 10:42</td>\n",
       "    </tr>\n",
       "    <tr>\n",
       "      <th>354365</th>\n",
       "      <td>2200</td>\n",
       "      <td>NaN</td>\n",
       "      <td>2005</td>\n",
       "      <td>NaN</td>\n",
       "      <td>0</td>\n",
       "      <td>NaN</td>\n",
       "      <td>20000</td>\n",
       "      <td>1</td>\n",
       "      <td>NaN</td>\n",
       "      <td>sonstige_autos</td>\n",
       "      <td>NaN</td>\n",
       "      <td>14/03/2016 00:00</td>\n",
       "      <td>0</td>\n",
       "      <td>39576</td>\n",
       "      <td>06/04/2016 00:46</td>\n",
       "    </tr>\n",
       "  </tbody>\n",
       "</table>\n",
       "<p>37490 rows × 15 columns</p>\n",
       "</div>"
      ],
      "text/plain": [
       "        price vehicletype  registrationyear gearbox  power     model  mileage  \\\n",
       "0         480         NaN              1993  manual      0      golf   150000   \n",
       "16        300         NaN              2016     NaN     60      polo   150000   \n",
       "22       2900         NaN              2018  manual     90    meriva   150000   \n",
       "26       5555         NaN              2017  manual    125        c4   125000   \n",
       "31        899         NaN              2016  manual     60      clio   150000   \n",
       "...       ...         ...               ...     ...    ...       ...      ...   \n",
       "354346   2600         NaN              2005    auto      0  c_klasse   150000   \n",
       "354351   1900         NaN              2000  manual    110       NaN   150000   \n",
       "354361   5250         NaN              2016    auto    150       159   150000   \n",
       "354364      0         NaN              2005  manual      0      colt   150000   \n",
       "354365   2200         NaN              2005     NaN      0       NaN    20000   \n",
       "\n",
       "        registrationmonth fueltype           brand notrepaired  \\\n",
       "0                       0   petrol      volkswagen         NaN   \n",
       "16                      0   petrol      volkswagen         NaN   \n",
       "22                      5   petrol            opel          no   \n",
       "26                      4      NaN         citroen          no   \n",
       "31                      6   petrol         renault         NaN   \n",
       "...                   ...      ...             ...         ...   \n",
       "354346                  9      NaN   mercedes_benz         NaN   \n",
       "354351                  7      NaN      volkswagen          no   \n",
       "354361                 12      NaN      alfa_romeo          no   \n",
       "354364                  7   petrol      mitsubishi         yes   \n",
       "354365                  1      NaN  sonstige_autos         NaN   \n",
       "\n",
       "             datecreated  numberofpictures  postalcode          lastseen  \n",
       "0       24/03/2016 00:00                 0       70435  07/04/2016 03:16  \n",
       "16      01/04/2016 00:00                 0       38871  01/04/2016 12:46  \n",
       "22      23/03/2016 00:00                 0       49716  31/03/2016 01:16  \n",
       "26      10/03/2016 00:00                 0       31139  16/03/2016 09:16  \n",
       "31      29/03/2016 00:00                 0       37075  29/03/2016 17:43  \n",
       "...                  ...               ...         ...               ...  \n",
       "354346  07/03/2016 00:00                 0       61169  08/03/2016 21:28  \n",
       "354351  11/03/2016 00:00                 0       87700  12/03/2016 14:16  \n",
       "354361  09/03/2016 00:00                 0       51371  13/03/2016 01:44  \n",
       "354364  21/03/2016 00:00                 0        2694  21/03/2016 10:42  \n",
       "354365  14/03/2016 00:00                 0       39576  06/04/2016 00:46  \n",
       "\n",
       "[37490 rows x 15 columns]"
      ]
     },
     "execution_count": 10,
     "metadata": {},
     "output_type": "execute_result"
    }
   ],
   "source": [
    "print(len(data.query('vehicletype.isna()'))/len(data) * 100)\n",
    "data.query('vehicletype.isna()')"
   ]
  },
  {
   "cell_type": "code",
   "execution_count": 11,
   "metadata": {},
   "outputs": [
    {
     "name": "stdout",
     "output_type": "stream",
     "text": [
      "['unknown' 'coupe' 'suv' 'small' 'sedan' 'convertible' 'bus' 'wagon'\n",
      " 'other']\n",
      "<class 'pandas.core.frame.DataFrame'>\n",
      "RangeIndex: 354369 entries, 0 to 354368\n",
      "Data columns (total 15 columns):\n",
      " #   Column             Non-Null Count   Dtype \n",
      "---  ------             --------------   ----- \n",
      " 0   price              354369 non-null  int64 \n",
      " 1   vehicletype        354369 non-null  object\n",
      " 2   registrationyear   354369 non-null  int64 \n",
      " 3   gearbox            334536 non-null  object\n",
      " 4   power              354369 non-null  int64 \n",
      " 5   model              334664 non-null  object\n",
      " 6   mileage            354369 non-null  int64 \n",
      " 7   registrationmonth  354369 non-null  int64 \n",
      " 8   fueltype           321474 non-null  object\n",
      " 9   brand              354369 non-null  object\n",
      " 10  notrepaired        283215 non-null  object\n",
      " 11  datecreated        354369 non-null  object\n",
      " 12  numberofpictures   354369 non-null  int64 \n",
      " 13  postalcode         354369 non-null  int64 \n",
      " 14  lastseen           354369 non-null  object\n",
      "dtypes: int64(7), object(8)\n",
      "memory usage: 40.6+ MB\n"
     ]
    }
   ],
   "source": [
    "data.vehicletype.fillna('unknown', inplace=True)\n",
    "print(data.vehicletype.unique())\n",
    "data.info()"
   ]
  },
  {
   "cell_type": "markdown",
   "metadata": {},
   "source": [
    "### registrationyear column\n",
    "\n",
    "The __registration_year__ column did not present any mising values. The data type was changed to int64 data type. "
   ]
  },
  {
   "cell_type": "code",
   "execution_count": 12,
   "metadata": {},
   "outputs": [
    {
     "data": {
      "text/plain": [
       "count    354369.000000\n",
       "mean       2004.234448\n",
       "std          90.227958\n",
       "min        1000.000000\n",
       "25%        1999.000000\n",
       "50%        2003.000000\n",
       "75%        2008.000000\n",
       "max        9999.000000\n",
       "Name: registrationyear, dtype: float64"
      ]
     },
     "execution_count": 12,
     "metadata": {},
     "output_type": "execute_result"
    }
   ],
   "source": [
    "data.registrationyear.describe()"
   ]
  },
  {
   "cell_type": "code",
   "execution_count": 13,
   "metadata": {},
   "outputs": [
    {
     "name": "stdout",
     "output_type": "stream",
     "text": [
      "0    1993\n",
      "1    2011\n",
      "2    2004\n",
      "3    2001\n",
      "4    2008\n",
      "Name: registrationyear, dtype: int64\n"
     ]
    }
   ],
   "source": [
    "data['registrationyear'] = data['registrationyear'].astype('int')\n",
    "print(data.registrationyear.head(5))\n"
   ]
  },
  {
   "cell_type": "code",
   "execution_count": 14,
   "metadata": {
    "scrolled": false
   },
   "outputs": [
    {
     "data": {
      "text/html": [
       "<div>\n",
       "<style scoped>\n",
       "    .dataframe tbody tr th:only-of-type {\n",
       "        vertical-align: middle;\n",
       "    }\n",
       "\n",
       "    .dataframe tbody tr th {\n",
       "        vertical-align: top;\n",
       "    }\n",
       "\n",
       "    .dataframe thead th {\n",
       "        text-align: right;\n",
       "    }\n",
       "</style>\n",
       "<table border=\"1\" class=\"dataframe\">\n",
       "  <thead>\n",
       "    <tr style=\"text-align: right;\">\n",
       "      <th></th>\n",
       "      <th>price</th>\n",
       "      <th>vehicletype</th>\n",
       "      <th>registrationyear</th>\n",
       "      <th>gearbox</th>\n",
       "      <th>power</th>\n",
       "      <th>model</th>\n",
       "      <th>mileage</th>\n",
       "      <th>registrationmonth</th>\n",
       "      <th>fueltype</th>\n",
       "      <th>brand</th>\n",
       "      <th>notrepaired</th>\n",
       "      <th>datecreated</th>\n",
       "      <th>numberofpictures</th>\n",
       "      <th>postalcode</th>\n",
       "      <th>lastseen</th>\n",
       "    </tr>\n",
       "  </thead>\n",
       "  <tbody>\n",
       "    <tr>\n",
       "      <th>622</th>\n",
       "      <td>0</td>\n",
       "      <td>unknown</td>\n",
       "      <td>1111</td>\n",
       "      <td>NaN</td>\n",
       "      <td>0</td>\n",
       "      <td>NaN</td>\n",
       "      <td>5000</td>\n",
       "      <td>0</td>\n",
       "      <td>NaN</td>\n",
       "      <td>opel</td>\n",
       "      <td>NaN</td>\n",
       "      <td>16/03/2016 00:00</td>\n",
       "      <td>0</td>\n",
       "      <td>44628</td>\n",
       "      <td>20/03/2016 16:44</td>\n",
       "    </tr>\n",
       "    <tr>\n",
       "      <th>12946</th>\n",
       "      <td>49</td>\n",
       "      <td>unknown</td>\n",
       "      <td>5000</td>\n",
       "      <td>NaN</td>\n",
       "      <td>0</td>\n",
       "      <td>golf</td>\n",
       "      <td>5000</td>\n",
       "      <td>12</td>\n",
       "      <td>NaN</td>\n",
       "      <td>volkswagen</td>\n",
       "      <td>NaN</td>\n",
       "      <td>29/03/2016 00:00</td>\n",
       "      <td>0</td>\n",
       "      <td>74523</td>\n",
       "      <td>06/04/2016 04:16</td>\n",
       "    </tr>\n",
       "    <tr>\n",
       "      <th>15147</th>\n",
       "      <td>0</td>\n",
       "      <td>unknown</td>\n",
       "      <td>9999</td>\n",
       "      <td>NaN</td>\n",
       "      <td>0</td>\n",
       "      <td>NaN</td>\n",
       "      <td>10000</td>\n",
       "      <td>0</td>\n",
       "      <td>NaN</td>\n",
       "      <td>sonstige_autos</td>\n",
       "      <td>NaN</td>\n",
       "      <td>13/03/2016 00:00</td>\n",
       "      <td>0</td>\n",
       "      <td>32689</td>\n",
       "      <td>21/03/2016 23:46</td>\n",
       "    </tr>\n",
       "    <tr>\n",
       "      <th>15870</th>\n",
       "      <td>1700</td>\n",
       "      <td>unknown</td>\n",
       "      <td>3200</td>\n",
       "      <td>NaN</td>\n",
       "      <td>0</td>\n",
       "      <td>NaN</td>\n",
       "      <td>5000</td>\n",
       "      <td>0</td>\n",
       "      <td>NaN</td>\n",
       "      <td>sonstige_autos</td>\n",
       "      <td>NaN</td>\n",
       "      <td>02/04/2016 00:00</td>\n",
       "      <td>0</td>\n",
       "      <td>33649</td>\n",
       "      <td>06/04/2016 09:46</td>\n",
       "    </tr>\n",
       "    <tr>\n",
       "      <th>16062</th>\n",
       "      <td>190</td>\n",
       "      <td>unknown</td>\n",
       "      <td>1000</td>\n",
       "      <td>NaN</td>\n",
       "      <td>0</td>\n",
       "      <td>mondeo</td>\n",
       "      <td>5000</td>\n",
       "      <td>0</td>\n",
       "      <td>NaN</td>\n",
       "      <td>ford</td>\n",
       "      <td>NaN</td>\n",
       "      <td>29/03/2016 00:00</td>\n",
       "      <td>0</td>\n",
       "      <td>47166</td>\n",
       "      <td>06/04/2016 10:44</td>\n",
       "    </tr>\n",
       "    <tr>\n",
       "      <th>...</th>\n",
       "      <td>...</td>\n",
       "      <td>...</td>\n",
       "      <td>...</td>\n",
       "      <td>...</td>\n",
       "      <td>...</td>\n",
       "      <td>...</td>\n",
       "      <td>...</td>\n",
       "      <td>...</td>\n",
       "      <td>...</td>\n",
       "      <td>...</td>\n",
       "      <td>...</td>\n",
       "      <td>...</td>\n",
       "      <td>...</td>\n",
       "      <td>...</td>\n",
       "      <td>...</td>\n",
       "    </tr>\n",
       "    <tr>\n",
       "      <th>340548</th>\n",
       "      <td>0</td>\n",
       "      <td>unknown</td>\n",
       "      <td>3500</td>\n",
       "      <td>manual</td>\n",
       "      <td>75</td>\n",
       "      <td>NaN</td>\n",
       "      <td>5000</td>\n",
       "      <td>3</td>\n",
       "      <td>petrol</td>\n",
       "      <td>sonstige_autos</td>\n",
       "      <td>NaN</td>\n",
       "      <td>02/04/2016 00:00</td>\n",
       "      <td>0</td>\n",
       "      <td>96465</td>\n",
       "      <td>04/04/2016 15:17</td>\n",
       "    </tr>\n",
       "    <tr>\n",
       "      <th>340759</th>\n",
       "      <td>700</td>\n",
       "      <td>unknown</td>\n",
       "      <td>1600</td>\n",
       "      <td>manual</td>\n",
       "      <td>1600</td>\n",
       "      <td>a3</td>\n",
       "      <td>150000</td>\n",
       "      <td>4</td>\n",
       "      <td>petrol</td>\n",
       "      <td>audi</td>\n",
       "      <td>no</td>\n",
       "      <td>04/04/2016 00:00</td>\n",
       "      <td>0</td>\n",
       "      <td>86343</td>\n",
       "      <td>05/04/2016 06:44</td>\n",
       "    </tr>\n",
       "    <tr>\n",
       "      <th>341791</th>\n",
       "      <td>1</td>\n",
       "      <td>unknown</td>\n",
       "      <td>3000</td>\n",
       "      <td>NaN</td>\n",
       "      <td>0</td>\n",
       "      <td>zafira</td>\n",
       "      <td>5000</td>\n",
       "      <td>0</td>\n",
       "      <td>NaN</td>\n",
       "      <td>opel</td>\n",
       "      <td>NaN</td>\n",
       "      <td>28/03/2016 00:00</td>\n",
       "      <td>0</td>\n",
       "      <td>26624</td>\n",
       "      <td>02/04/2016 22:17</td>\n",
       "    </tr>\n",
       "    <tr>\n",
       "      <th>348830</th>\n",
       "      <td>1</td>\n",
       "      <td>unknown</td>\n",
       "      <td>1000</td>\n",
       "      <td>NaN</td>\n",
       "      <td>1000</td>\n",
       "      <td>NaN</td>\n",
       "      <td>150000</td>\n",
       "      <td>0</td>\n",
       "      <td>NaN</td>\n",
       "      <td>sonstige_autos</td>\n",
       "      <td>NaN</td>\n",
       "      <td>21/03/2016 00:00</td>\n",
       "      <td>0</td>\n",
       "      <td>41472</td>\n",
       "      <td>05/04/2016 14:18</td>\n",
       "    </tr>\n",
       "    <tr>\n",
       "      <th>351682</th>\n",
       "      <td>11500</td>\n",
       "      <td>unknown</td>\n",
       "      <td>1800</td>\n",
       "      <td>NaN</td>\n",
       "      <td>16</td>\n",
       "      <td>other</td>\n",
       "      <td>5000</td>\n",
       "      <td>6</td>\n",
       "      <td>petrol</td>\n",
       "      <td>fiat</td>\n",
       "      <td>NaN</td>\n",
       "      <td>11/03/2016 00:00</td>\n",
       "      <td>0</td>\n",
       "      <td>16515</td>\n",
       "      <td>05/04/2016 19:47</td>\n",
       "    </tr>\n",
       "  </tbody>\n",
       "</table>\n",
       "<p>171 rows × 15 columns</p>\n",
       "</div>"
      ],
      "text/plain": [
       "        price vehicletype  registrationyear gearbox  power   model  mileage  \\\n",
       "622         0     unknown              1111     NaN      0     NaN     5000   \n",
       "12946      49     unknown              5000     NaN      0    golf     5000   \n",
       "15147       0     unknown              9999     NaN      0     NaN    10000   \n",
       "15870    1700     unknown              3200     NaN      0     NaN     5000   \n",
       "16062     190     unknown              1000     NaN      0  mondeo     5000   \n",
       "...       ...         ...               ...     ...    ...     ...      ...   \n",
       "340548      0     unknown              3500  manual     75     NaN     5000   \n",
       "340759    700     unknown              1600  manual   1600      a3   150000   \n",
       "341791      1     unknown              3000     NaN      0  zafira     5000   \n",
       "348830      1     unknown              1000     NaN   1000     NaN   150000   \n",
       "351682  11500     unknown              1800     NaN     16   other     5000   \n",
       "\n",
       "        registrationmonth fueltype           brand notrepaired  \\\n",
       "622                     0      NaN            opel         NaN   \n",
       "12946                  12      NaN      volkswagen         NaN   \n",
       "15147                   0      NaN  sonstige_autos         NaN   \n",
       "15870                   0      NaN  sonstige_autos         NaN   \n",
       "16062                   0      NaN            ford         NaN   \n",
       "...                   ...      ...             ...         ...   \n",
       "340548                  3   petrol  sonstige_autos         NaN   \n",
       "340759                  4   petrol            audi          no   \n",
       "341791                  0      NaN            opel         NaN   \n",
       "348830                  0      NaN  sonstige_autos         NaN   \n",
       "351682                  6   petrol            fiat         NaN   \n",
       "\n",
       "             datecreated  numberofpictures  postalcode          lastseen  \n",
       "622     16/03/2016 00:00                 0       44628  20/03/2016 16:44  \n",
       "12946   29/03/2016 00:00                 0       74523  06/04/2016 04:16  \n",
       "15147   13/03/2016 00:00                 0       32689  21/03/2016 23:46  \n",
       "15870   02/04/2016 00:00                 0       33649  06/04/2016 09:46  \n",
       "16062   29/03/2016 00:00                 0       47166  06/04/2016 10:44  \n",
       "...                  ...               ...         ...               ...  \n",
       "340548  02/04/2016 00:00                 0       96465  04/04/2016 15:17  \n",
       "340759  04/04/2016 00:00                 0       86343  05/04/2016 06:44  \n",
       "341791  28/03/2016 00:00                 0       26624  02/04/2016 22:17  \n",
       "348830  21/03/2016 00:00                 0       41472  05/04/2016 14:18  \n",
       "351682  11/03/2016 00:00                 0       16515  05/04/2016 19:47  \n",
       "\n",
       "[171 rows x 15 columns]"
      ]
     },
     "execution_count": 14,
     "metadata": {},
     "output_type": "execute_result"
    }
   ],
   "source": [
    "#errors in column \n",
    "data.query('registrationyear < 1903 or registrationyear > 2022')"
   ]
  },
  {
   "cell_type": "markdown",
   "metadata": {},
   "source": [
    "### gearbox column\n",
    "\n",
    "The __gearbox__ column had a total 19833 rows that contained missing values. These NaN values were replaced with 'unknown' value to maintain an object data type for the column. "
   ]
  },
  {
   "cell_type": "code",
   "execution_count": 15,
   "metadata": {
    "scrolled": false
   },
   "outputs": [
    {
     "data": {
      "text/html": [
       "<div>\n",
       "<style scoped>\n",
       "    .dataframe tbody tr th:only-of-type {\n",
       "        vertical-align: middle;\n",
       "    }\n",
       "\n",
       "    .dataframe tbody tr th {\n",
       "        vertical-align: top;\n",
       "    }\n",
       "\n",
       "    .dataframe thead th {\n",
       "        text-align: right;\n",
       "    }\n",
       "</style>\n",
       "<table border=\"1\" class=\"dataframe\">\n",
       "  <thead>\n",
       "    <tr style=\"text-align: right;\">\n",
       "      <th></th>\n",
       "      <th>price</th>\n",
       "      <th>vehicletype</th>\n",
       "      <th>registrationyear</th>\n",
       "      <th>gearbox</th>\n",
       "      <th>power</th>\n",
       "      <th>model</th>\n",
       "      <th>mileage</th>\n",
       "      <th>registrationmonth</th>\n",
       "      <th>fueltype</th>\n",
       "      <th>brand</th>\n",
       "      <th>notrepaired</th>\n",
       "      <th>datecreated</th>\n",
       "      <th>numberofpictures</th>\n",
       "      <th>postalcode</th>\n",
       "      <th>lastseen</th>\n",
       "    </tr>\n",
       "  </thead>\n",
       "  <tbody>\n",
       "    <tr>\n",
       "      <th>15</th>\n",
       "      <td>450</td>\n",
       "      <td>small</td>\n",
       "      <td>1910</td>\n",
       "      <td>NaN</td>\n",
       "      <td>0</td>\n",
       "      <td>ka</td>\n",
       "      <td>5000</td>\n",
       "      <td>0</td>\n",
       "      <td>petrol</td>\n",
       "      <td>ford</td>\n",
       "      <td>NaN</td>\n",
       "      <td>11/03/2016 00:00</td>\n",
       "      <td>0</td>\n",
       "      <td>24148</td>\n",
       "      <td>19/03/2016 08:46</td>\n",
       "    </tr>\n",
       "    <tr>\n",
       "      <th>16</th>\n",
       "      <td>300</td>\n",
       "      <td>unknown</td>\n",
       "      <td>2016</td>\n",
       "      <td>NaN</td>\n",
       "      <td>60</td>\n",
       "      <td>polo</td>\n",
       "      <td>150000</td>\n",
       "      <td>0</td>\n",
       "      <td>petrol</td>\n",
       "      <td>volkswagen</td>\n",
       "      <td>NaN</td>\n",
       "      <td>01/04/2016 00:00</td>\n",
       "      <td>0</td>\n",
       "      <td>38871</td>\n",
       "      <td>01/04/2016 12:46</td>\n",
       "    </tr>\n",
       "    <tr>\n",
       "      <th>32</th>\n",
       "      <td>245</td>\n",
       "      <td>sedan</td>\n",
       "      <td>1994</td>\n",
       "      <td>NaN</td>\n",
       "      <td>0</td>\n",
       "      <td>golf</td>\n",
       "      <td>150000</td>\n",
       "      <td>2</td>\n",
       "      <td>petrol</td>\n",
       "      <td>volkswagen</td>\n",
       "      <td>no</td>\n",
       "      <td>15/03/2016 00:00</td>\n",
       "      <td>0</td>\n",
       "      <td>44145</td>\n",
       "      <td>17/03/2016 18:17</td>\n",
       "    </tr>\n",
       "    <tr>\n",
       "      <th>37</th>\n",
       "      <td>1500</td>\n",
       "      <td>unknown</td>\n",
       "      <td>2016</td>\n",
       "      <td>NaN</td>\n",
       "      <td>0</td>\n",
       "      <td>kangoo</td>\n",
       "      <td>150000</td>\n",
       "      <td>1</td>\n",
       "      <td>gasoline</td>\n",
       "      <td>renault</td>\n",
       "      <td>no</td>\n",
       "      <td>28/03/2016 00:00</td>\n",
       "      <td>0</td>\n",
       "      <td>46483</td>\n",
       "      <td>30/03/2016 09:18</td>\n",
       "    </tr>\n",
       "    <tr>\n",
       "      <th>40</th>\n",
       "      <td>0</td>\n",
       "      <td>unknown</td>\n",
       "      <td>1990</td>\n",
       "      <td>NaN</td>\n",
       "      <td>0</td>\n",
       "      <td>corsa</td>\n",
       "      <td>150000</td>\n",
       "      <td>1</td>\n",
       "      <td>petrol</td>\n",
       "      <td>opel</td>\n",
       "      <td>NaN</td>\n",
       "      <td>26/03/2016 00:00</td>\n",
       "      <td>0</td>\n",
       "      <td>56412</td>\n",
       "      <td>27/03/2016 17:43</td>\n",
       "    </tr>\n",
       "    <tr>\n",
       "      <th>...</th>\n",
       "      <td>...</td>\n",
       "      <td>...</td>\n",
       "      <td>...</td>\n",
       "      <td>...</td>\n",
       "      <td>...</td>\n",
       "      <td>...</td>\n",
       "      <td>...</td>\n",
       "      <td>...</td>\n",
       "      <td>...</td>\n",
       "      <td>...</td>\n",
       "      <td>...</td>\n",
       "      <td>...</td>\n",
       "      <td>...</td>\n",
       "      <td>...</td>\n",
       "      <td>...</td>\n",
       "    </tr>\n",
       "    <tr>\n",
       "      <th>354288</th>\n",
       "      <td>3300</td>\n",
       "      <td>wagon</td>\n",
       "      <td>2006</td>\n",
       "      <td>NaN</td>\n",
       "      <td>0</td>\n",
       "      <td>touran</td>\n",
       "      <td>150000</td>\n",
       "      <td>7</td>\n",
       "      <td>gasoline</td>\n",
       "      <td>volkswagen</td>\n",
       "      <td>NaN</td>\n",
       "      <td>16/03/2016 00:00</td>\n",
       "      <td>0</td>\n",
       "      <td>12057</td>\n",
       "      <td>17/03/2016 12:17</td>\n",
       "    </tr>\n",
       "    <tr>\n",
       "      <th>354305</th>\n",
       "      <td>3500</td>\n",
       "      <td>unknown</td>\n",
       "      <td>1995</td>\n",
       "      <td>NaN</td>\n",
       "      <td>0</td>\n",
       "      <td>polo</td>\n",
       "      <td>150000</td>\n",
       "      <td>0</td>\n",
       "      <td>NaN</td>\n",
       "      <td>volkswagen</td>\n",
       "      <td>NaN</td>\n",
       "      <td>03/04/2016 00:00</td>\n",
       "      <td>0</td>\n",
       "      <td>74579</td>\n",
       "      <td>05/04/2016 12:44</td>\n",
       "    </tr>\n",
       "    <tr>\n",
       "      <th>354329</th>\n",
       "      <td>350</td>\n",
       "      <td>small</td>\n",
       "      <td>1996</td>\n",
       "      <td>NaN</td>\n",
       "      <td>65</td>\n",
       "      <td>punto</td>\n",
       "      <td>150000</td>\n",
       "      <td>0</td>\n",
       "      <td>NaN</td>\n",
       "      <td>fiat</td>\n",
       "      <td>NaN</td>\n",
       "      <td>30/03/2016 00:00</td>\n",
       "      <td>0</td>\n",
       "      <td>25436</td>\n",
       "      <td>07/04/2016 13:50</td>\n",
       "    </tr>\n",
       "    <tr>\n",
       "      <th>354338</th>\n",
       "      <td>180</td>\n",
       "      <td>unknown</td>\n",
       "      <td>1995</td>\n",
       "      <td>NaN</td>\n",
       "      <td>0</td>\n",
       "      <td>NaN</td>\n",
       "      <td>125000</td>\n",
       "      <td>3</td>\n",
       "      <td>petrol</td>\n",
       "      <td>opel</td>\n",
       "      <td>NaN</td>\n",
       "      <td>31/03/2016 00:00</td>\n",
       "      <td>0</td>\n",
       "      <td>41470</td>\n",
       "      <td>06/04/2016 14:18</td>\n",
       "    </tr>\n",
       "    <tr>\n",
       "      <th>354365</th>\n",
       "      <td>2200</td>\n",
       "      <td>unknown</td>\n",
       "      <td>2005</td>\n",
       "      <td>NaN</td>\n",
       "      <td>0</td>\n",
       "      <td>NaN</td>\n",
       "      <td>20000</td>\n",
       "      <td>1</td>\n",
       "      <td>NaN</td>\n",
       "      <td>sonstige_autos</td>\n",
       "      <td>NaN</td>\n",
       "      <td>14/03/2016 00:00</td>\n",
       "      <td>0</td>\n",
       "      <td>39576</td>\n",
       "      <td>06/04/2016 00:46</td>\n",
       "    </tr>\n",
       "  </tbody>\n",
       "</table>\n",
       "<p>19833 rows × 15 columns</p>\n",
       "</div>"
      ],
      "text/plain": [
       "        price vehicletype  registrationyear gearbox  power   model  mileage  \\\n",
       "15        450       small              1910     NaN      0      ka     5000   \n",
       "16        300     unknown              2016     NaN     60    polo   150000   \n",
       "32        245       sedan              1994     NaN      0    golf   150000   \n",
       "37       1500     unknown              2016     NaN      0  kangoo   150000   \n",
       "40          0     unknown              1990     NaN      0   corsa   150000   \n",
       "...       ...         ...               ...     ...    ...     ...      ...   \n",
       "354288   3300       wagon              2006     NaN      0  touran   150000   \n",
       "354305   3500     unknown              1995     NaN      0    polo   150000   \n",
       "354329    350       small              1996     NaN     65   punto   150000   \n",
       "354338    180     unknown              1995     NaN      0     NaN   125000   \n",
       "354365   2200     unknown              2005     NaN      0     NaN    20000   \n",
       "\n",
       "        registrationmonth  fueltype           brand notrepaired  \\\n",
       "15                      0    petrol            ford         NaN   \n",
       "16                      0    petrol      volkswagen         NaN   \n",
       "32                      2    petrol      volkswagen          no   \n",
       "37                      1  gasoline         renault          no   \n",
       "40                      1    petrol            opel         NaN   \n",
       "...                   ...       ...             ...         ...   \n",
       "354288                  7  gasoline      volkswagen         NaN   \n",
       "354305                  0       NaN      volkswagen         NaN   \n",
       "354329                  0       NaN            fiat         NaN   \n",
       "354338                  3    petrol            opel         NaN   \n",
       "354365                  1       NaN  sonstige_autos         NaN   \n",
       "\n",
       "             datecreated  numberofpictures  postalcode          lastseen  \n",
       "15      11/03/2016 00:00                 0       24148  19/03/2016 08:46  \n",
       "16      01/04/2016 00:00                 0       38871  01/04/2016 12:46  \n",
       "32      15/03/2016 00:00                 0       44145  17/03/2016 18:17  \n",
       "37      28/03/2016 00:00                 0       46483  30/03/2016 09:18  \n",
       "40      26/03/2016 00:00                 0       56412  27/03/2016 17:43  \n",
       "...                  ...               ...         ...               ...  \n",
       "354288  16/03/2016 00:00                 0       12057  17/03/2016 12:17  \n",
       "354305  03/04/2016 00:00                 0       74579  05/04/2016 12:44  \n",
       "354329  30/03/2016 00:00                 0       25436  07/04/2016 13:50  \n",
       "354338  31/03/2016 00:00                 0       41470  06/04/2016 14:18  \n",
       "354365  14/03/2016 00:00                 0       39576  06/04/2016 00:46  \n",
       "\n",
       "[19833 rows x 15 columns]"
      ]
     },
     "execution_count": 15,
     "metadata": {},
     "output_type": "execute_result"
    }
   ],
   "source": [
    "data.query('gearbox.isna()')"
   ]
  },
  {
   "cell_type": "code",
   "execution_count": 16,
   "metadata": {},
   "outputs": [
    {
     "data": {
      "text/plain": [
       "array(['manual', 'auto', 'unknown'], dtype=object)"
      ]
     },
     "execution_count": 16,
     "metadata": {},
     "output_type": "execute_result"
    }
   ],
   "source": [
    "data.gearbox.fillna('unknown', inplace=True)\n",
    "data.gearbox.unique()"
   ]
  },
  {
   "cell_type": "markdown",
   "metadata": {},
   "source": [
    "### power column\n",
    "\n",
    "The power column did not present any missing values; however, according to AutoSnout.com, the vehicles' horsepower ranges up to  1,888 hp. Therefore, the values that were greater than this value were removed from the column. "
   ]
  },
  {
   "cell_type": "code",
   "execution_count": 17,
   "metadata": {
    "scrolled": false
   },
   "outputs": [
    {
     "data": {
      "text/plain": [
       "array([    0,     1,     2,     3,     4,     5,     6,     7,     8,\n",
       "           9,    10,    11,    12,    13,    14,    15,    16,    17,\n",
       "          18,    19,    20,    21,    22,    23,    24,    25,    26,\n",
       "          27,    28,    29,    30,    31,    32,    33,    34,    35,\n",
       "          36,    37,    38,    39,    40,    41,    42,    43,    44,\n",
       "          45,    46,    47,    48,    49,    50,    51,    52,    53,\n",
       "          54,    55,    56,    57,    58,    59,    60,    61,    62,\n",
       "          63,    64,    65,    66,    67,    68,    69,    70,    71,\n",
       "          72,    73,    74,    75,    76,    77,    78,    79,    80,\n",
       "          81,    82,    83,    84,    85,    86,    87,    88,    89,\n",
       "          90,    91,    92,    93,    94,    95,    96,    97,    98,\n",
       "          99,   100,   101,   102,   103,   104,   105,   106,   107,\n",
       "         108,   109,   110,   111,   112,   113,   114,   115,   116,\n",
       "         117,   118,   119,   120,   121,   122,   123,   124,   125,\n",
       "         126,   127,   128,   129,   130,   131,   132,   133,   134,\n",
       "         135,   136,   137,   138,   139,   140,   141,   142,   143,\n",
       "         144,   145,   146,   147,   148,   149,   150,   151,   152,\n",
       "         153,   154,   155,   156,   157,   158,   159,   160,   161,\n",
       "         162,   163,   164,   165,   166,   167,   168,   169,   170,\n",
       "         171,   172,   173,   174,   175,   176,   177,   178,   179,\n",
       "         180,   181,   182,   183,   184,   185,   186,   187,   188,\n",
       "         189,   190,   191,   192,   193,   194,   195,   196,   197,\n",
       "         198,   199,   200,   201,   202,   203,   204,   205,   206,\n",
       "         207,   208,   209,   210,   211,   212,   213,   214,   215,\n",
       "         216,   217,   218,   219,   220,   221,   222,   223,   224,\n",
       "         225,   226,   227,   228,   229,   230,   231,   232,   233,\n",
       "         234,   235,   236,   237,   238,   239,   240,   241,   242,\n",
       "         243,   244,   245,   246,   247,   248,   249,   250,   251,\n",
       "         252,   253,   254,   255,   256,   257,   258,   259,   260,\n",
       "         261,   262,   264,   265,   266,   267,   268,   269,   270,\n",
       "         271,   272,   273,   274,   275,   276,   277,   278,   279,\n",
       "         280,   281,   282,   283,   284,   285,   286,   287,   288,\n",
       "         289,   290,   292,   293,   294,   295,   296,   297,   298,\n",
       "         299,   300,   301,   303,   304,   305,   306,   307,   308,\n",
       "         309,   310,   311,   313,   314,   315,   316,   317,   318,\n",
       "         320,   321,   322,   323,   324,   325,   326,   327,   328,\n",
       "         329,   330,   331,   332,   333,   334,   335,   336,   337,\n",
       "         338,   339,   340,   341,   343,   344,   345,   346,   347,\n",
       "         348,   349,   350,   351,   352,   353,   354,   355,   356,\n",
       "         357,   358,   360,   361,   362,   363,   364,   365,   367,\n",
       "         368,   370,   371,   374,   375,   376,   377,   379,   380,\n",
       "         381,   382,   385,   386,   387,   388,   390,   392,   394,\n",
       "         396,   398,   399,   400,   401,   402,   405,   408,   409,\n",
       "         411,   416,   420,   421,   425,   426,   428,   430,   431,\n",
       "         435,   440,   442,   445,   449,   450,   454,   457,   459,\n",
       "         460,   475,   476,   485,   487,   489,   490,   500,   504,\n",
       "         505,   507,   508,   510,   514,   515,   517,   519,   520,\n",
       "         521,   525,   530,   540,   541,   544,   550,   551,   553,\n",
       "         560,   572,   574,   579,   580,   584,   585,   599,   600,\n",
       "         601,   602,   603,   604,   606,   607,   610,   612,   620,\n",
       "         640,   645,   650,   651,   671,   678,   682,   685,   696,\n",
       "         700,   702,   703,   732,   743,   750,   751,   754,   771,\n",
       "         776,   800,   805,   808,   850,   851,   871,   900,   901,\n",
       "         902,   903,   907,   909,   923,   950,   952,   953,   960,\n",
       "         998,   999,  1000,  1001,  1002,  1003,  1004,  1005,  1011,\n",
       "        1012,  1016,  1017,  1021,  1024,  1054,  1055,  1056,  1062,\n",
       "        1079,  1082,  1090,  1100,  1102,  1103,  1105,  1111,  1115,\n",
       "        1120,  1149,  1151,  1158,  1160,  1162,  1164,  1199,  1200,\n",
       "        1202,  1221,  1223,  1230,  1239,  1240,  1241,  1250,  1252,\n",
       "        1256,  1275,  1288,  1299,  1300,  1312,  1317,  1324,  1339,\n",
       "        1351,  1360,  1362,  1363,  1367,  1390,  1394,  1398,  1399,\n",
       "        1400,  1401,  1403,  1405,  1416,  1432,  1433,  1436,  1500,\n",
       "        1501,  1502,  1503,  1506,  1521,  1548,  1595,  1596,  1597,\n",
       "        1598,  1600,  1625,  1631,  1653,  1659,  1689,  1700,  1701,\n",
       "        1703,  1704,  1707,  1753,  1771,  1779,  1780,  1781,  1783,\n",
       "        1793,  1796,  1799,  1800,  1801,  1870,  1895,  1896,  1900,\n",
       "        1910,  1920,  1922,  1933,  1937,  1968,  1986,  1988,  1992,\n",
       "        1993,  1995,  1998,  1999,  2000,  2004,  2005,  2007,  2009,\n",
       "        2016,  2017,  2018,  2172,  2200,  2201,  2331,  2340,  2389,\n",
       "        2402,  2461,  2598,  2729,  2789,  2792,  2799,  3000,  3199,\n",
       "        3454,  3500,  3750,  4400,  4507,  4700,  5000,  5411,  5420,\n",
       "        5575,  5809,  5815,  5867,  6006,  6010,  6011,  6012,  6018,\n",
       "        6045,  6062,  6226,  6512,  6920,  7508,  7511,  7512,  7515,\n",
       "        7518,  7529,  7544,  8011,  8259,  8404,  8500,  9000,  9007,\n",
       "        9010,  9011,  9012,  9013,  9710, 10000, 10110, 10218, 10311,\n",
       "       10317, 10520, 10522, 10710, 10910, 10912, 11011, 11025, 11111,\n",
       "       11509, 11530, 11635, 12012, 12510, 12512, 12684, 13616, 13636,\n",
       "       14009, 15001, 15016, 15017, 15020, 15033, 16011, 16051, 16311,\n",
       "       16312, 17011, 17019, 17410, 17700, 17932, 19208, 19211, 19312,\n",
       "       20000])"
      ]
     },
     "execution_count": 17,
     "metadata": {},
     "output_type": "execute_result"
    }
   ],
   "source": [
    "data.power.sort_values().unique()"
   ]
  },
  {
   "cell_type": "code",
   "execution_count": 18,
   "metadata": {},
   "outputs": [],
   "source": [
    "data.drop(data.query('power > 1888').index, inplace=True)\n",
    "data.reset_index(drop=True, inplace =True)\n"
   ]
  },
  {
   "cell_type": "code",
   "execution_count": 19,
   "metadata": {
    "scrolled": false
   },
   "outputs": [
    {
     "data": {
      "text/plain": [
       "count    354225.000000\n",
       "mean        107.208743\n",
       "std          70.044310\n",
       "min           0.000000\n",
       "25%          69.000000\n",
       "50%         105.000000\n",
       "75%         142.000000\n",
       "max        1870.000000\n",
       "Name: power, dtype: float64"
      ]
     },
     "execution_count": 19,
     "metadata": {},
     "output_type": "execute_result"
    },
    {
     "data": {
      "image/png": "[encoded data removed]",
      "text/plain": [
       "<Figure size 576x936 with 1 Axes>"
      ]
     },
     "metadata": {
      "image/png": {
       "height": 752,
       "width": 504
      }
     },
     "output_type": "display_data"
    }
   ],
   "source": [
    "data.power.plot(kind='box',figsize=(8,13))\n",
    "plt.ylabel('power (horsepower)')\n",
    "plt.title('Distribution of power column values, boxplot')\n",
    "data.power.describe()\n"
   ]
  },
  {
   "cell_type": "markdown",
   "metadata": {},
   "source": [
    "### model column\n",
    "\n",
    "The __model__ colum had a total of 19,630 rows with missing values. The missing values were replaced with 'unknown' labels to maintain an object data type in the column. "
   ]
  },
  {
   "cell_type": "code",
   "execution_count": 20,
   "metadata": {},
   "outputs": [
    {
     "data": {
      "text/html": [
       "<div>\n",
       "<style scoped>\n",
       "    .dataframe tbody tr th:only-of-type {\n",
       "        vertical-align: middle;\n",
       "    }\n",
       "\n",
       "    .dataframe tbody tr th {\n",
       "        vertical-align: top;\n",
       "    }\n",
       "\n",
       "    .dataframe thead th {\n",
       "        text-align: right;\n",
       "    }\n",
       "</style>\n",
       "<table border=\"1\" class=\"dataframe\">\n",
       "  <thead>\n",
       "    <tr style=\"text-align: right;\">\n",
       "      <th></th>\n",
       "      <th>price</th>\n",
       "      <th>vehicletype</th>\n",
       "      <th>registrationyear</th>\n",
       "      <th>gearbox</th>\n",
       "      <th>power</th>\n",
       "      <th>model</th>\n",
       "      <th>mileage</th>\n",
       "      <th>registrationmonth</th>\n",
       "      <th>fueltype</th>\n",
       "      <th>brand</th>\n",
       "      <th>notrepaired</th>\n",
       "      <th>datecreated</th>\n",
       "      <th>numberofpictures</th>\n",
       "      <th>postalcode</th>\n",
       "      <th>lastseen</th>\n",
       "    </tr>\n",
       "  </thead>\n",
       "  <tbody>\n",
       "    <tr>\n",
       "      <th>1</th>\n",
       "      <td>18300</td>\n",
       "      <td>coupe</td>\n",
       "      <td>2011</td>\n",
       "      <td>manual</td>\n",
       "      <td>190</td>\n",
       "      <td>NaN</td>\n",
       "      <td>125000</td>\n",
       "      <td>5</td>\n",
       "      <td>gasoline</td>\n",
       "      <td>audi</td>\n",
       "      <td>yes</td>\n",
       "      <td>24/03/2016 00:00</td>\n",
       "      <td>0</td>\n",
       "      <td>66954</td>\n",
       "      <td>07/04/2016 01:46</td>\n",
       "    </tr>\n",
       "    <tr>\n",
       "      <th>59</th>\n",
       "      <td>1</td>\n",
       "      <td>suv</td>\n",
       "      <td>1994</td>\n",
       "      <td>manual</td>\n",
       "      <td>286</td>\n",
       "      <td>NaN</td>\n",
       "      <td>150000</td>\n",
       "      <td>11</td>\n",
       "      <td>NaN</td>\n",
       "      <td>sonstige_autos</td>\n",
       "      <td>NaN</td>\n",
       "      <td>29/03/2016 00:00</td>\n",
       "      <td>0</td>\n",
       "      <td>53721</td>\n",
       "      <td>06/04/2016 01:44</td>\n",
       "    </tr>\n",
       "    <tr>\n",
       "      <th>81</th>\n",
       "      <td>350</td>\n",
       "      <td>small</td>\n",
       "      <td>1997</td>\n",
       "      <td>manual</td>\n",
       "      <td>54</td>\n",
       "      <td>NaN</td>\n",
       "      <td>150000</td>\n",
       "      <td>3</td>\n",
       "      <td>NaN</td>\n",
       "      <td>fiat</td>\n",
       "      <td>yes</td>\n",
       "      <td>03/04/2016 00:00</td>\n",
       "      <td>0</td>\n",
       "      <td>45665</td>\n",
       "      <td>05/04/2016 11:47</td>\n",
       "    </tr>\n",
       "    <tr>\n",
       "      <th>115</th>\n",
       "      <td>0</td>\n",
       "      <td>small</td>\n",
       "      <td>1999</td>\n",
       "      <td>unknown</td>\n",
       "      <td>0</td>\n",
       "      <td>NaN</td>\n",
       "      <td>5000</td>\n",
       "      <td>0</td>\n",
       "      <td>petrol</td>\n",
       "      <td>volkswagen</td>\n",
       "      <td>NaN</td>\n",
       "      <td>20/03/2016 00:00</td>\n",
       "      <td>0</td>\n",
       "      <td>37520</td>\n",
       "      <td>07/04/2016 02:45</td>\n",
       "    </tr>\n",
       "    <tr>\n",
       "      <th>135</th>\n",
       "      <td>1450</td>\n",
       "      <td>sedan</td>\n",
       "      <td>1992</td>\n",
       "      <td>manual</td>\n",
       "      <td>136</td>\n",
       "      <td>NaN</td>\n",
       "      <td>150000</td>\n",
       "      <td>0</td>\n",
       "      <td>NaN</td>\n",
       "      <td>audi</td>\n",
       "      <td>no</td>\n",
       "      <td>27/03/2016 00:00</td>\n",
       "      <td>0</td>\n",
       "      <td>38709</td>\n",
       "      <td>05/04/2016 20:17</td>\n",
       "    </tr>\n",
       "    <tr>\n",
       "      <th>...</th>\n",
       "      <td>...</td>\n",
       "      <td>...</td>\n",
       "      <td>...</td>\n",
       "      <td>...</td>\n",
       "      <td>...</td>\n",
       "      <td>...</td>\n",
       "      <td>...</td>\n",
       "      <td>...</td>\n",
       "      <td>...</td>\n",
       "      <td>...</td>\n",
       "      <td>...</td>\n",
       "      <td>...</td>\n",
       "      <td>...</td>\n",
       "      <td>...</td>\n",
       "      <td>...</td>\n",
       "    </tr>\n",
       "    <tr>\n",
       "      <th>354101</th>\n",
       "      <td>560</td>\n",
       "      <td>small</td>\n",
       "      <td>2001</td>\n",
       "      <td>auto</td>\n",
       "      <td>170</td>\n",
       "      <td>NaN</td>\n",
       "      <td>90000</td>\n",
       "      <td>0</td>\n",
       "      <td>petrol</td>\n",
       "      <td>fiat</td>\n",
       "      <td>yes</td>\n",
       "      <td>07/03/2016 00:00</td>\n",
       "      <td>0</td>\n",
       "      <td>55743</td>\n",
       "      <td>12/03/2016 21:45</td>\n",
       "    </tr>\n",
       "    <tr>\n",
       "      <th>354177</th>\n",
       "      <td>9400</td>\n",
       "      <td>wagon</td>\n",
       "      <td>2007</td>\n",
       "      <td>manual</td>\n",
       "      <td>200</td>\n",
       "      <td>NaN</td>\n",
       "      <td>150000</td>\n",
       "      <td>4</td>\n",
       "      <td>gasoline</td>\n",
       "      <td>sonstige_autos</td>\n",
       "      <td>yes</td>\n",
       "      <td>15/03/2016 00:00</td>\n",
       "      <td>0</td>\n",
       "      <td>91186</td>\n",
       "      <td>17/03/2016 08:16</td>\n",
       "    </tr>\n",
       "    <tr>\n",
       "      <th>354194</th>\n",
       "      <td>180</td>\n",
       "      <td>unknown</td>\n",
       "      <td>1995</td>\n",
       "      <td>unknown</td>\n",
       "      <td>0</td>\n",
       "      <td>NaN</td>\n",
       "      <td>125000</td>\n",
       "      <td>3</td>\n",
       "      <td>petrol</td>\n",
       "      <td>opel</td>\n",
       "      <td>NaN</td>\n",
       "      <td>31/03/2016 00:00</td>\n",
       "      <td>0</td>\n",
       "      <td>41470</td>\n",
       "      <td>06/04/2016 14:18</td>\n",
       "    </tr>\n",
       "    <tr>\n",
       "      <th>354207</th>\n",
       "      <td>1900</td>\n",
       "      <td>unknown</td>\n",
       "      <td>2000</td>\n",
       "      <td>manual</td>\n",
       "      <td>110</td>\n",
       "      <td>NaN</td>\n",
       "      <td>150000</td>\n",
       "      <td>7</td>\n",
       "      <td>NaN</td>\n",
       "      <td>volkswagen</td>\n",
       "      <td>no</td>\n",
       "      <td>11/03/2016 00:00</td>\n",
       "      <td>0</td>\n",
       "      <td>87700</td>\n",
       "      <td>12/03/2016 14:16</td>\n",
       "    </tr>\n",
       "    <tr>\n",
       "      <th>354221</th>\n",
       "      <td>2200</td>\n",
       "      <td>unknown</td>\n",
       "      <td>2005</td>\n",
       "      <td>unknown</td>\n",
       "      <td>0</td>\n",
       "      <td>NaN</td>\n",
       "      <td>20000</td>\n",
       "      <td>1</td>\n",
       "      <td>NaN</td>\n",
       "      <td>sonstige_autos</td>\n",
       "      <td>NaN</td>\n",
       "      <td>14/03/2016 00:00</td>\n",
       "      <td>0</td>\n",
       "      <td>39576</td>\n",
       "      <td>06/04/2016 00:46</td>\n",
       "    </tr>\n",
       "  </tbody>\n",
       "</table>\n",
       "<p>19687 rows × 15 columns</p>\n",
       "</div>"
      ],
      "text/plain": [
       "        price vehicletype  registrationyear  gearbox  power model  mileage  \\\n",
       "1       18300       coupe              2011   manual    190   NaN   125000   \n",
       "59          1         suv              1994   manual    286   NaN   150000   \n",
       "81        350       small              1997   manual     54   NaN   150000   \n",
       "115         0       small              1999  unknown      0   NaN     5000   \n",
       "135      1450       sedan              1992   manual    136   NaN   150000   \n",
       "...       ...         ...               ...      ...    ...   ...      ...   \n",
       "354101    560       small              2001     auto    170   NaN    90000   \n",
       "354177   9400       wagon              2007   manual    200   NaN   150000   \n",
       "354194    180     unknown              1995  unknown      0   NaN   125000   \n",
       "354207   1900     unknown              2000   manual    110   NaN   150000   \n",
       "354221   2200     unknown              2005  unknown      0   NaN    20000   \n",
       "\n",
       "        registrationmonth  fueltype           brand notrepaired  \\\n",
       "1                       5  gasoline            audi         yes   \n",
       "59                     11       NaN  sonstige_autos         NaN   \n",
       "81                      3       NaN            fiat         yes   \n",
       "115                     0    petrol      volkswagen         NaN   \n",
       "135                     0       NaN            audi          no   \n",
       "...                   ...       ...             ...         ...   \n",
       "354101                  0    petrol            fiat         yes   \n",
       "354177                  4  gasoline  sonstige_autos         yes   \n",
       "354194                  3    petrol            opel         NaN   \n",
       "354207                  7       NaN      volkswagen          no   \n",
       "354221                  1       NaN  sonstige_autos         NaN   \n",
       "\n",
       "             datecreated  numberofpictures  postalcode          lastseen  \n",
       "1       24/03/2016 00:00                 0       66954  07/04/2016 01:46  \n",
       "59      29/03/2016 00:00                 0       53721  06/04/2016 01:44  \n",
       "81      03/04/2016 00:00                 0       45665  05/04/2016 11:47  \n",
       "115     20/03/2016 00:00                 0       37520  07/04/2016 02:45  \n",
       "135     27/03/2016 00:00                 0       38709  05/04/2016 20:17  \n",
       "...                  ...               ...         ...               ...  \n",
       "354101  07/03/2016 00:00                 0       55743  12/03/2016 21:45  \n",
       "354177  15/03/2016 00:00                 0       91186  17/03/2016 08:16  \n",
       "354194  31/03/2016 00:00                 0       41470  06/04/2016 14:18  \n",
       "354207  11/03/2016 00:00                 0       87700  12/03/2016 14:16  \n",
       "354221  14/03/2016 00:00                 0       39576  06/04/2016 00:46  \n",
       "\n",
       "[19687 rows x 15 columns]"
      ]
     },
     "execution_count": 20,
     "metadata": {},
     "output_type": "execute_result"
    }
   ],
   "source": [
    "data.query('model.isna()')"
   ]
  },
  {
   "cell_type": "code",
   "execution_count": 21,
   "metadata": {},
   "outputs": [
    {
     "name": "stdout",
     "output_type": "stream",
     "text": [
      "['100', '145', '147', '156', '159', '1_reihe', '1er', '200', '2_reihe', '300c', '3_reihe', '3er', '4_reihe', '500', '5_reihe', '5er', '601', '6_reihe', '6er', '7er', '80', '850', '90', '900', '9000', '911', 'a1', 'a2', 'a3', 'a4', 'a5', 'a6', 'a8', 'a_klasse', 'accord', 'agila', 'alhambra', 'almera', 'altea', 'amarok', 'antara', 'arosa', 'astra', 'auris', 'avensis', 'aveo', 'aygo', 'b_klasse', 'b_max', 'beetle', 'berlingo', 'bora', 'boxster', 'bravo', 'c1', 'c2', 'c3', 'c4', 'c5', 'c_klasse', 'c_max', 'c_reihe', 'caddy', 'calibra', 'captiva', 'carisma', 'carnival', 'cayenne', 'cc', 'ceed', 'charade', 'cherokee', 'citigo', 'civic', 'cl', 'clio', 'clk', 'clubman', 'colt', 'combo', 'cooper', 'cordoba', 'corolla', 'corsa', 'cr_reihe', 'croma', 'crossfire', 'cuore', 'cx_reihe', 'defender', 'delta', 'discovery', 'doblo', 'ducato', 'duster', 'e_klasse', 'elefantino', 'eos', 'escort', 'espace', 'exeo', 'fabia', 'fiesta', 'focus', 'forester', 'forfour', 'fortwo', 'fox', 'freelander', 'fusion', 'g_klasse', 'galant', 'galaxy', 'getz', 'gl', 'glk', 'golf', 'grand', 'i3', 'i_reihe', 'ibiza', 'impreza', 'insignia', 'jazz', 'jetta', 'jimny', 'juke', 'justy', 'ka', 'kadett', 'kaefer', 'kalina', 'kalos', 'kangoo', 'kappa', 'kuga', 'laguna', 'lancer', 'lanos', 'legacy', 'leon', 'lodgy', 'logan', 'lupo', 'lybra', 'm_klasse', 'm_reihe', 'materia', 'matiz', 'megane', 'meriva', 'micra', 'mii', 'modus', 'mondeo', 'move', 'musa', 'mustang', 'mx_reihe', 'navara', 'niva', 'note', 'nubira', 'octavia', 'omega', 'one', 'other', 'outlander', 'pajero', 'panda', 'passat', 'phaeton', 'picanto', 'polo', 'primera', 'ptcruiser', 'punto', 'q3', 'q5', 'q7', 'qashqai', 'r19', 'range_rover', 'range_rover_evoque', 'range_rover_sport', 'rangerover', 'rav', 'rio', 'roadster', 'roomster', 'rx_reihe', 's60', 's_klasse', 's_max', 's_type', 'samara', 'sandero', 'santa', 'scenic', 'scirocco', 'seicento', 'serie_1', 'serie_2', 'serie_3', 'sharan', 'signum', 'sirion', 'sl', 'slk', 'sorento', 'spark', 'spider', 'sportage', 'sprinter', 'stilo', 'superb', 'swift', 'terios', 'tigra', 'tiguan', 'toledo', 'touareg', 'touran', 'transit', 'transporter', 'tt', 'tucson', 'twingo', 'unknown', 'up', 'v40', 'v50', 'v60', 'v70', 'v_klasse', 'vectra', 'verso', 'viano', 'vito', 'vivaro', 'voyager', 'wrangler', 'x_reihe', 'x_trail', 'x_type', 'xc_reihe', 'yaris', 'yeti', 'ypsilon', 'z_reihe', 'zafira']\n"
     ]
    }
   ],
   "source": [
    "data.model.fillna('unknown', inplace=True)\n",
    "print(sorted(data.model.unique()))"
   ]
  },
  {
   "cell_type": "code",
   "execution_count": 22,
   "metadata": {},
   "outputs": [
    {
     "name": "stdout",
     "output_type": "stream",
     "text": [
      "<class 'pandas.core.frame.DataFrame'>\n",
      "RangeIndex: 354225 entries, 0 to 354224\n",
      "Data columns (total 15 columns):\n",
      " #   Column             Non-Null Count   Dtype \n",
      "---  ------             --------------   ----- \n",
      " 0   price              354225 non-null  int64 \n",
      " 1   vehicletype        354225 non-null  object\n",
      " 2   registrationyear   354225 non-null  int64 \n",
      " 3   gearbox            354225 non-null  object\n",
      " 4   power              354225 non-null  int64 \n",
      " 5   model              354225 non-null  object\n",
      " 6   mileage            354225 non-null  int64 \n",
      " 7   registrationmonth  354225 non-null  int64 \n",
      " 8   fueltype           321360 non-null  object\n",
      " 9   brand              354225 non-null  object\n",
      " 10  notrepaired        283129 non-null  object\n",
      " 11  datecreated        354225 non-null  object\n",
      " 12  numberofpictures   354225 non-null  int64 \n",
      " 13  postalcode         354225 non-null  int64 \n",
      " 14  lastseen           354225 non-null  object\n",
      "dtypes: int64(7), object(8)\n",
      "memory usage: 40.5+ MB\n"
     ]
    }
   ],
   "source": [
    "data.info()"
   ]
  },
  {
   "cell_type": "markdown",
   "metadata": {},
   "source": [
    "### mileage column\n",
    "\n",
    "The __mileage__ column did not have any missing values or errors in data. The int64 data type was correct for this column. "
   ]
  },
  {
   "cell_type": "code",
   "execution_count": 23,
   "metadata": {},
   "outputs": [
    {
     "data": {
      "text/plain": [
       "array([150000, 125000,  90000,  40000,  30000,  70000,   5000, 100000,\n",
       "        60000,  20000,  80000,  50000,  10000])"
      ]
     },
     "execution_count": 23,
     "metadata": {},
     "output_type": "execute_result"
    }
   ],
   "source": [
    "data.mileage.unique()"
   ]
  },
  {
   "cell_type": "markdown",
   "metadata": {},
   "source": [
    "### registrationmonth\n",
    "\n",
    "The __registrationmonth__ column did not present any missing values or errors in the data. The data type int64 was correct. "
   ]
  },
  {
   "cell_type": "code",
   "execution_count": 24,
   "metadata": {},
   "outputs": [
    {
     "data": {
      "text/plain": [
       "array([ 0,  5,  8,  6,  7, 10, 12, 11,  2,  3,  1,  4,  9])"
      ]
     },
     "execution_count": 24,
     "metadata": {},
     "output_type": "execute_result"
    }
   ],
   "source": [
    "data.registrationmonth.unique()"
   ]
  },
  {
   "cell_type": "markdown",
   "metadata": {},
   "source": [
    "### fueltype\n",
    "\n",
    "The __fueltype__ column had a total of 23,767 missing values in the column. The missing values were replaced with 'unknown' values to maintain a data type of object in the column. "
   ]
  },
  {
   "cell_type": "code",
   "execution_count": 25,
   "metadata": {},
   "outputs": [
    {
     "data": {
      "text/html": [
       "<div>\n",
       "<style scoped>\n",
       "    .dataframe tbody tr th:only-of-type {\n",
       "        vertical-align: middle;\n",
       "    }\n",
       "\n",
       "    .dataframe tbody tr th {\n",
       "        vertical-align: top;\n",
       "    }\n",
       "\n",
       "    .dataframe thead th {\n",
       "        text-align: right;\n",
       "    }\n",
       "</style>\n",
       "<table border=\"1\" class=\"dataframe\">\n",
       "  <thead>\n",
       "    <tr style=\"text-align: right;\">\n",
       "      <th></th>\n",
       "      <th>price</th>\n",
       "      <th>vehicletype</th>\n",
       "      <th>registrationyear</th>\n",
       "      <th>gearbox</th>\n",
       "      <th>power</th>\n",
       "      <th>model</th>\n",
       "      <th>mileage</th>\n",
       "      <th>registrationmonth</th>\n",
       "      <th>fueltype</th>\n",
       "      <th>brand</th>\n",
       "      <th>notrepaired</th>\n",
       "      <th>datecreated</th>\n",
       "      <th>numberofpictures</th>\n",
       "      <th>postalcode</th>\n",
       "      <th>lastseen</th>\n",
       "    </tr>\n",
       "  </thead>\n",
       "  <tbody>\n",
       "    <tr>\n",
       "      <th>9</th>\n",
       "      <td>999</td>\n",
       "      <td>small</td>\n",
       "      <td>1998</td>\n",
       "      <td>manual</td>\n",
       "      <td>101</td>\n",
       "      <td>golf</td>\n",
       "      <td>150000</td>\n",
       "      <td>0</td>\n",
       "      <td>NaN</td>\n",
       "      <td>volkswagen</td>\n",
       "      <td>NaN</td>\n",
       "      <td>17/03/2016 00:00</td>\n",
       "      <td>0</td>\n",
       "      <td>27472</td>\n",
       "      <td>31/03/2016 17:17</td>\n",
       "    </tr>\n",
       "    <tr>\n",
       "      <th>13</th>\n",
       "      <td>2500</td>\n",
       "      <td>wagon</td>\n",
       "      <td>2004</td>\n",
       "      <td>manual</td>\n",
       "      <td>131</td>\n",
       "      <td>passat</td>\n",
       "      <td>150000</td>\n",
       "      <td>2</td>\n",
       "      <td>NaN</td>\n",
       "      <td>volkswagen</td>\n",
       "      <td>no</td>\n",
       "      <td>21/03/2016 00:00</td>\n",
       "      <td>0</td>\n",
       "      <td>90762</td>\n",
       "      <td>23/03/2016 02:50</td>\n",
       "    </tr>\n",
       "    <tr>\n",
       "      <th>26</th>\n",
       "      <td>5555</td>\n",
       "      <td>unknown</td>\n",
       "      <td>2017</td>\n",
       "      <td>manual</td>\n",
       "      <td>125</td>\n",
       "      <td>c4</td>\n",
       "      <td>125000</td>\n",
       "      <td>4</td>\n",
       "      <td>NaN</td>\n",
       "      <td>citroen</td>\n",
       "      <td>no</td>\n",
       "      <td>10/03/2016 00:00</td>\n",
       "      <td>0</td>\n",
       "      <td>31139</td>\n",
       "      <td>16/03/2016 09:16</td>\n",
       "    </tr>\n",
       "    <tr>\n",
       "      <th>36</th>\n",
       "      <td>1600</td>\n",
       "      <td>other</td>\n",
       "      <td>1991</td>\n",
       "      <td>manual</td>\n",
       "      <td>75</td>\n",
       "      <td>kadett</td>\n",
       "      <td>70000</td>\n",
       "      <td>0</td>\n",
       "      <td>NaN</td>\n",
       "      <td>opel</td>\n",
       "      <td>NaN</td>\n",
       "      <td>11/03/2016 00:00</td>\n",
       "      <td>0</td>\n",
       "      <td>2943</td>\n",
       "      <td>07/04/2016 03:46</td>\n",
       "    </tr>\n",
       "    <tr>\n",
       "      <th>41</th>\n",
       "      <td>7500</td>\n",
       "      <td>sedan</td>\n",
       "      <td>2002</td>\n",
       "      <td>auto</td>\n",
       "      <td>306</td>\n",
       "      <td>e_klasse</td>\n",
       "      <td>150000</td>\n",
       "      <td>4</td>\n",
       "      <td>NaN</td>\n",
       "      <td>mercedes_benz</td>\n",
       "      <td>NaN</td>\n",
       "      <td>30/03/2016 00:00</td>\n",
       "      <td>0</td>\n",
       "      <td>33649</td>\n",
       "      <td>03/04/2016 11:44</td>\n",
       "    </tr>\n",
       "    <tr>\n",
       "      <th>...</th>\n",
       "      <td>...</td>\n",
       "      <td>...</td>\n",
       "      <td>...</td>\n",
       "      <td>...</td>\n",
       "      <td>...</td>\n",
       "      <td>...</td>\n",
       "      <td>...</td>\n",
       "      <td>...</td>\n",
       "      <td>...</td>\n",
       "      <td>...</td>\n",
       "      <td>...</td>\n",
       "      <td>...</td>\n",
       "      <td>...</td>\n",
       "      <td>...</td>\n",
       "      <td>...</td>\n",
       "    </tr>\n",
       "    <tr>\n",
       "      <th>354195</th>\n",
       "      <td>3850</td>\n",
       "      <td>convertible</td>\n",
       "      <td>2006</td>\n",
       "      <td>manual</td>\n",
       "      <td>108</td>\n",
       "      <td>2_reihe</td>\n",
       "      <td>125000</td>\n",
       "      <td>2</td>\n",
       "      <td>NaN</td>\n",
       "      <td>peugeot</td>\n",
       "      <td>no</td>\n",
       "      <td>20/03/2016 00:00</td>\n",
       "      <td>0</td>\n",
       "      <td>53947</td>\n",
       "      <td>26/03/2016 21:18</td>\n",
       "    </tr>\n",
       "    <tr>\n",
       "      <th>354202</th>\n",
       "      <td>2600</td>\n",
       "      <td>unknown</td>\n",
       "      <td>2005</td>\n",
       "      <td>auto</td>\n",
       "      <td>0</td>\n",
       "      <td>c_klasse</td>\n",
       "      <td>150000</td>\n",
       "      <td>9</td>\n",
       "      <td>NaN</td>\n",
       "      <td>mercedes_benz</td>\n",
       "      <td>NaN</td>\n",
       "      <td>07/03/2016 00:00</td>\n",
       "      <td>0</td>\n",
       "      <td>61169</td>\n",
       "      <td>08/03/2016 21:28</td>\n",
       "    </tr>\n",
       "    <tr>\n",
       "      <th>354207</th>\n",
       "      <td>1900</td>\n",
       "      <td>unknown</td>\n",
       "      <td>2000</td>\n",
       "      <td>manual</td>\n",
       "      <td>110</td>\n",
       "      <td>unknown</td>\n",
       "      <td>150000</td>\n",
       "      <td>7</td>\n",
       "      <td>NaN</td>\n",
       "      <td>volkswagen</td>\n",
       "      <td>no</td>\n",
       "      <td>11/03/2016 00:00</td>\n",
       "      <td>0</td>\n",
       "      <td>87700</td>\n",
       "      <td>12/03/2016 14:16</td>\n",
       "    </tr>\n",
       "    <tr>\n",
       "      <th>354217</th>\n",
       "      <td>5250</td>\n",
       "      <td>unknown</td>\n",
       "      <td>2016</td>\n",
       "      <td>auto</td>\n",
       "      <td>150</td>\n",
       "      <td>159</td>\n",
       "      <td>150000</td>\n",
       "      <td>12</td>\n",
       "      <td>NaN</td>\n",
       "      <td>alfa_romeo</td>\n",
       "      <td>no</td>\n",
       "      <td>09/03/2016 00:00</td>\n",
       "      <td>0</td>\n",
       "      <td>51371</td>\n",
       "      <td>13/03/2016 01:44</td>\n",
       "    </tr>\n",
       "    <tr>\n",
       "      <th>354221</th>\n",
       "      <td>2200</td>\n",
       "      <td>unknown</td>\n",
       "      <td>2005</td>\n",
       "      <td>unknown</td>\n",
       "      <td>0</td>\n",
       "      <td>unknown</td>\n",
       "      <td>20000</td>\n",
       "      <td>1</td>\n",
       "      <td>NaN</td>\n",
       "      <td>sonstige_autos</td>\n",
       "      <td>NaN</td>\n",
       "      <td>14/03/2016 00:00</td>\n",
       "      <td>0</td>\n",
       "      <td>39576</td>\n",
       "      <td>06/04/2016 00:46</td>\n",
       "    </tr>\n",
       "  </tbody>\n",
       "</table>\n",
       "<p>32865 rows × 15 columns</p>\n",
       "</div>"
      ],
      "text/plain": [
       "        price  vehicletype  registrationyear  gearbox  power     model  \\\n",
       "9         999        small              1998   manual    101      golf   \n",
       "13       2500        wagon              2004   manual    131    passat   \n",
       "26       5555      unknown              2017   manual    125        c4   \n",
       "36       1600        other              1991   manual     75    kadett   \n",
       "41       7500        sedan              2002     auto    306  e_klasse   \n",
       "...       ...          ...               ...      ...    ...       ...   \n",
       "354195   3850  convertible              2006   manual    108   2_reihe   \n",
       "354202   2600      unknown              2005     auto      0  c_klasse   \n",
       "354207   1900      unknown              2000   manual    110   unknown   \n",
       "354217   5250      unknown              2016     auto    150       159   \n",
       "354221   2200      unknown              2005  unknown      0   unknown   \n",
       "\n",
       "        mileage  registrationmonth fueltype           brand notrepaired  \\\n",
       "9        150000                  0      NaN      volkswagen         NaN   \n",
       "13       150000                  2      NaN      volkswagen          no   \n",
       "26       125000                  4      NaN         citroen          no   \n",
       "36        70000                  0      NaN            opel         NaN   \n",
       "41       150000                  4      NaN   mercedes_benz         NaN   \n",
       "...         ...                ...      ...             ...         ...   \n",
       "354195   125000                  2      NaN         peugeot          no   \n",
       "354202   150000                  9      NaN   mercedes_benz         NaN   \n",
       "354207   150000                  7      NaN      volkswagen          no   \n",
       "354217   150000                 12      NaN      alfa_romeo          no   \n",
       "354221    20000                  1      NaN  sonstige_autos         NaN   \n",
       "\n",
       "             datecreated  numberofpictures  postalcode          lastseen  \n",
       "9       17/03/2016 00:00                 0       27472  31/03/2016 17:17  \n",
       "13      21/03/2016 00:00                 0       90762  23/03/2016 02:50  \n",
       "26      10/03/2016 00:00                 0       31139  16/03/2016 09:16  \n",
       "36      11/03/2016 00:00                 0        2943  07/04/2016 03:46  \n",
       "41      30/03/2016 00:00                 0       33649  03/04/2016 11:44  \n",
       "...                  ...               ...         ...               ...  \n",
       "354195  20/03/2016 00:00                 0       53947  26/03/2016 21:18  \n",
       "354202  07/03/2016 00:00                 0       61169  08/03/2016 21:28  \n",
       "354207  11/03/2016 00:00                 0       87700  12/03/2016 14:16  \n",
       "354217  09/03/2016 00:00                 0       51371  13/03/2016 01:44  \n",
       "354221  14/03/2016 00:00                 0       39576  06/04/2016 00:46  \n",
       "\n",
       "[32865 rows x 15 columns]"
      ]
     },
     "execution_count": 25,
     "metadata": {},
     "output_type": "execute_result"
    }
   ],
   "source": [
    "data.query('fueltype.isna()')"
   ]
  },
  {
   "cell_type": "code",
   "execution_count": 26,
   "metadata": {},
   "outputs": [
    {
     "data": {
      "text/plain": [
       "array(['petrol', 'gasoline', 'unknown', 'lpg', 'other', 'hybrid', 'cng',\n",
       "       'electric'], dtype=object)"
      ]
     },
     "execution_count": 26,
     "metadata": {},
     "output_type": "execute_result"
    }
   ],
   "source": [
    "data.fueltype.fillna('unknown', inplace = True)\n",
    "data.fueltype.unique()"
   ]
  },
  {
   "cell_type": "markdown",
   "metadata": {},
   "source": [
    "### brand column\n",
    "\n",
    "The __brand__ column did not present any missing values or errors in the data. The data type object was correct for this column."
   ]
  },
  {
   "cell_type": "code",
   "execution_count": 27,
   "metadata": {},
   "outputs": [
    {
     "data": {
      "text/plain": [
       "array(['volkswagen', 'audi', 'jeep', 'skoda', 'bmw', 'peugeot', 'ford',\n",
       "       'mazda', 'nissan', 'renault', 'mercedes_benz', 'opel', 'seat',\n",
       "       'citroen', 'honda', 'fiat', 'mini', 'smart', 'hyundai',\n",
       "       'sonstige_autos', 'alfa_romeo', 'subaru', 'volvo', 'mitsubishi',\n",
       "       'kia', 'suzuki', 'lancia', 'toyota', 'chevrolet', 'dacia',\n",
       "       'daihatsu', 'trabant', 'saab', 'chrysler', 'jaguar', 'daewoo',\n",
       "       'porsche', 'rover', 'land_rover', 'lada'], dtype=object)"
      ]
     },
     "execution_count": 27,
     "metadata": {},
     "output_type": "execute_result"
    }
   ],
   "source": [
    "data.brand.unique()"
   ]
  },
  {
   "cell_type": "markdown",
   "metadata": {},
   "source": [
    "### notrepaired column\n",
    "The __notrepaired__ column had a total of 71,007 missing values in the column. The missing values were replaced with an 'unknown' values to maintain an object data type in the column. "
   ]
  },
  {
   "cell_type": "code",
   "execution_count": 28,
   "metadata": {},
   "outputs": [
    {
     "data": {
      "text/html": [
       "<div>\n",
       "<style scoped>\n",
       "    .dataframe tbody tr th:only-of-type {\n",
       "        vertical-align: middle;\n",
       "    }\n",
       "\n",
       "    .dataframe tbody tr th {\n",
       "        vertical-align: top;\n",
       "    }\n",
       "\n",
       "    .dataframe thead th {\n",
       "        text-align: right;\n",
       "    }\n",
       "</style>\n",
       "<table border=\"1\" class=\"dataframe\">\n",
       "  <thead>\n",
       "    <tr style=\"text-align: right;\">\n",
       "      <th></th>\n",
       "      <th>price</th>\n",
       "      <th>vehicletype</th>\n",
       "      <th>registrationyear</th>\n",
       "      <th>gearbox</th>\n",
       "      <th>power</th>\n",
       "      <th>model</th>\n",
       "      <th>mileage</th>\n",
       "      <th>registrationmonth</th>\n",
       "      <th>fueltype</th>\n",
       "      <th>brand</th>\n",
       "      <th>notrepaired</th>\n",
       "      <th>datecreated</th>\n",
       "      <th>numberofpictures</th>\n",
       "      <th>postalcode</th>\n",
       "      <th>lastseen</th>\n",
       "    </tr>\n",
       "  </thead>\n",
       "  <tbody>\n",
       "    <tr>\n",
       "      <th>0</th>\n",
       "      <td>480</td>\n",
       "      <td>unknown</td>\n",
       "      <td>1993</td>\n",
       "      <td>manual</td>\n",
       "      <td>0</td>\n",
       "      <td>golf</td>\n",
       "      <td>150000</td>\n",
       "      <td>0</td>\n",
       "      <td>petrol</td>\n",
       "      <td>volkswagen</td>\n",
       "      <td>NaN</td>\n",
       "      <td>24/03/2016 00:00</td>\n",
       "      <td>0</td>\n",
       "      <td>70435</td>\n",
       "      <td>07/04/2016 03:16</td>\n",
       "    </tr>\n",
       "    <tr>\n",
       "      <th>2</th>\n",
       "      <td>9800</td>\n",
       "      <td>suv</td>\n",
       "      <td>2004</td>\n",
       "      <td>auto</td>\n",
       "      <td>163</td>\n",
       "      <td>grand</td>\n",
       "      <td>125000</td>\n",
       "      <td>8</td>\n",
       "      <td>gasoline</td>\n",
       "      <td>jeep</td>\n",
       "      <td>NaN</td>\n",
       "      <td>14/03/2016 00:00</td>\n",
       "      <td>0</td>\n",
       "      <td>90480</td>\n",
       "      <td>05/04/2016 12:47</td>\n",
       "    </tr>\n",
       "    <tr>\n",
       "      <th>8</th>\n",
       "      <td>14500</td>\n",
       "      <td>bus</td>\n",
       "      <td>2014</td>\n",
       "      <td>manual</td>\n",
       "      <td>125</td>\n",
       "      <td>c_max</td>\n",
       "      <td>30000</td>\n",
       "      <td>8</td>\n",
       "      <td>petrol</td>\n",
       "      <td>ford</td>\n",
       "      <td>NaN</td>\n",
       "      <td>04/04/2016 00:00</td>\n",
       "      <td>0</td>\n",
       "      <td>94505</td>\n",
       "      <td>04/04/2016 23:42</td>\n",
       "    </tr>\n",
       "    <tr>\n",
       "      <th>9</th>\n",
       "      <td>999</td>\n",
       "      <td>small</td>\n",
       "      <td>1998</td>\n",
       "      <td>manual</td>\n",
       "      <td>101</td>\n",
       "      <td>golf</td>\n",
       "      <td>150000</td>\n",
       "      <td>0</td>\n",
       "      <td>unknown</td>\n",
       "      <td>volkswagen</td>\n",
       "      <td>NaN</td>\n",
       "      <td>17/03/2016 00:00</td>\n",
       "      <td>0</td>\n",
       "      <td>27472</td>\n",
       "      <td>31/03/2016 17:17</td>\n",
       "    </tr>\n",
       "    <tr>\n",
       "      <th>12</th>\n",
       "      <td>999</td>\n",
       "      <td>wagon</td>\n",
       "      <td>1995</td>\n",
       "      <td>manual</td>\n",
       "      <td>115</td>\n",
       "      <td>passat</td>\n",
       "      <td>150000</td>\n",
       "      <td>11</td>\n",
       "      <td>petrol</td>\n",
       "      <td>volkswagen</td>\n",
       "      <td>NaN</td>\n",
       "      <td>15/03/2016 00:00</td>\n",
       "      <td>0</td>\n",
       "      <td>37269</td>\n",
       "      <td>01/04/2016 13:16</td>\n",
       "    </tr>\n",
       "    <tr>\n",
       "      <th>...</th>\n",
       "      <td>...</td>\n",
       "      <td>...</td>\n",
       "      <td>...</td>\n",
       "      <td>...</td>\n",
       "      <td>...</td>\n",
       "      <td>...</td>\n",
       "      <td>...</td>\n",
       "      <td>...</td>\n",
       "      <td>...</td>\n",
       "      <td>...</td>\n",
       "      <td>...</td>\n",
       "      <td>...</td>\n",
       "      <td>...</td>\n",
       "      <td>...</td>\n",
       "      <td>...</td>\n",
       "    </tr>\n",
       "    <tr>\n",
       "      <th>354205</th>\n",
       "      <td>5999</td>\n",
       "      <td>wagon</td>\n",
       "      <td>2005</td>\n",
       "      <td>manual</td>\n",
       "      <td>140</td>\n",
       "      <td>a4</td>\n",
       "      <td>150000</td>\n",
       "      <td>4</td>\n",
       "      <td>gasoline</td>\n",
       "      <td>audi</td>\n",
       "      <td>NaN</td>\n",
       "      <td>16/03/2016 00:00</td>\n",
       "      <td>0</td>\n",
       "      <td>56472</td>\n",
       "      <td>18/03/2016 11:30</td>\n",
       "    </tr>\n",
       "    <tr>\n",
       "      <th>354212</th>\n",
       "      <td>999</td>\n",
       "      <td>convertible</td>\n",
       "      <td>2000</td>\n",
       "      <td>manual</td>\n",
       "      <td>95</td>\n",
       "      <td>megane</td>\n",
       "      <td>150000</td>\n",
       "      <td>4</td>\n",
       "      <td>petrol</td>\n",
       "      <td>renault</td>\n",
       "      <td>NaN</td>\n",
       "      <td>04/04/2016 00:00</td>\n",
       "      <td>0</td>\n",
       "      <td>88477</td>\n",
       "      <td>06/04/2016 12:44</td>\n",
       "    </tr>\n",
       "    <tr>\n",
       "      <th>354213</th>\n",
       "      <td>1690</td>\n",
       "      <td>wagon</td>\n",
       "      <td>2004</td>\n",
       "      <td>manual</td>\n",
       "      <td>55</td>\n",
       "      <td>fabia</td>\n",
       "      <td>150000</td>\n",
       "      <td>4</td>\n",
       "      <td>petrol</td>\n",
       "      <td>skoda</td>\n",
       "      <td>NaN</td>\n",
       "      <td>09/03/2016 00:00</td>\n",
       "      <td>0</td>\n",
       "      <td>18246</td>\n",
       "      <td>04/04/2016 08:15</td>\n",
       "    </tr>\n",
       "    <tr>\n",
       "      <th>354221</th>\n",
       "      <td>2200</td>\n",
       "      <td>unknown</td>\n",
       "      <td>2005</td>\n",
       "      <td>unknown</td>\n",
       "      <td>0</td>\n",
       "      <td>unknown</td>\n",
       "      <td>20000</td>\n",
       "      <td>1</td>\n",
       "      <td>unknown</td>\n",
       "      <td>sonstige_autos</td>\n",
       "      <td>NaN</td>\n",
       "      <td>14/03/2016 00:00</td>\n",
       "      <td>0</td>\n",
       "      <td>39576</td>\n",
       "      <td>06/04/2016 00:46</td>\n",
       "    </tr>\n",
       "    <tr>\n",
       "      <th>354224</th>\n",
       "      <td>3400</td>\n",
       "      <td>wagon</td>\n",
       "      <td>2002</td>\n",
       "      <td>manual</td>\n",
       "      <td>100</td>\n",
       "      <td>golf</td>\n",
       "      <td>150000</td>\n",
       "      <td>6</td>\n",
       "      <td>gasoline</td>\n",
       "      <td>volkswagen</td>\n",
       "      <td>NaN</td>\n",
       "      <td>20/03/2016 00:00</td>\n",
       "      <td>0</td>\n",
       "      <td>40764</td>\n",
       "      <td>24/03/2016 12:45</td>\n",
       "    </tr>\n",
       "  </tbody>\n",
       "</table>\n",
       "<p>71096 rows × 15 columns</p>\n",
       "</div>"
      ],
      "text/plain": [
       "        price  vehicletype  registrationyear  gearbox  power    model  \\\n",
       "0         480      unknown              1993   manual      0     golf   \n",
       "2        9800          suv              2004     auto    163    grand   \n",
       "8       14500          bus              2014   manual    125    c_max   \n",
       "9         999        small              1998   manual    101     golf   \n",
       "12        999        wagon              1995   manual    115   passat   \n",
       "...       ...          ...               ...      ...    ...      ...   \n",
       "354205   5999        wagon              2005   manual    140       a4   \n",
       "354212    999  convertible              2000   manual     95   megane   \n",
       "354213   1690        wagon              2004   manual     55    fabia   \n",
       "354221   2200      unknown              2005  unknown      0  unknown   \n",
       "354224   3400        wagon              2002   manual    100     golf   \n",
       "\n",
       "        mileage  registrationmonth  fueltype           brand notrepaired  \\\n",
       "0        150000                  0    petrol      volkswagen         NaN   \n",
       "2        125000                  8  gasoline            jeep         NaN   \n",
       "8         30000                  8    petrol            ford         NaN   \n",
       "9        150000                  0   unknown      volkswagen         NaN   \n",
       "12       150000                 11    petrol      volkswagen         NaN   \n",
       "...         ...                ...       ...             ...         ...   \n",
       "354205   150000                  4  gasoline            audi         NaN   \n",
       "354212   150000                  4    petrol         renault         NaN   \n",
       "354213   150000                  4    petrol           skoda         NaN   \n",
       "354221    20000                  1   unknown  sonstige_autos         NaN   \n",
       "354224   150000                  6  gasoline      volkswagen         NaN   \n",
       "\n",
       "             datecreated  numberofpictures  postalcode          lastseen  \n",
       "0       24/03/2016 00:00                 0       70435  07/04/2016 03:16  \n",
       "2       14/03/2016 00:00                 0       90480  05/04/2016 12:47  \n",
       "8       04/04/2016 00:00                 0       94505  04/04/2016 23:42  \n",
       "9       17/03/2016 00:00                 0       27472  31/03/2016 17:17  \n",
       "12      15/03/2016 00:00                 0       37269  01/04/2016 13:16  \n",
       "...                  ...               ...         ...               ...  \n",
       "354205  16/03/2016 00:00                 0       56472  18/03/2016 11:30  \n",
       "354212  04/04/2016 00:00                 0       88477  06/04/2016 12:44  \n",
       "354213  09/03/2016 00:00                 0       18246  04/04/2016 08:15  \n",
       "354221  14/03/2016 00:00                 0       39576  06/04/2016 00:46  \n",
       "354224  20/03/2016 00:00                 0       40764  24/03/2016 12:45  \n",
       "\n",
       "[71096 rows x 15 columns]"
      ]
     },
     "execution_count": 28,
     "metadata": {},
     "output_type": "execute_result"
    }
   ],
   "source": [
    "data.query('notrepaired.isna()')"
   ]
  },
  {
   "cell_type": "code",
   "execution_count": 29,
   "metadata": {},
   "outputs": [
    {
     "data": {
      "text/plain": [
       "array(['unknown', 'yes', 'no'], dtype=object)"
      ]
     },
     "execution_count": 29,
     "metadata": {},
     "output_type": "execute_result"
    }
   ],
   "source": [
    "data.notrepaired.fillna('unknown', inplace = True)\n",
    "data.notrepaired.unique()"
   ]
  },
  {
   "cell_type": "markdown",
   "metadata": {},
   "source": [
    "### datecreated column\n",
    "The __datecreated__ column did not present any missing values and the data type was changed to datetime64[ns]. "
   ]
  },
  {
   "cell_type": "code",
   "execution_count": 30,
   "metadata": {},
   "outputs": [
    {
     "data": {
      "text/plain": [
       "0   2016-03-24\n",
       "1   2016-03-24\n",
       "2   2016-03-14\n",
       "3   2016-03-17\n",
       "4   2016-03-31\n",
       "5   2016-04-04\n",
       "6   2016-04-01\n",
       "7   2016-03-21\n",
       "8   2016-04-04\n",
       "9   2016-03-17\n",
       "Name: datecreated, dtype: datetime64[ns]"
      ]
     },
     "execution_count": 30,
     "metadata": {},
     "output_type": "execute_result"
    }
   ],
   "source": [
    "data['datecreated'] = pd.to_datetime(data['datecreated'], format = '%d/%m/%Y %H:%M')\n",
    "data.datecreated.head(10)"
   ]
  },
  {
   "cell_type": "markdown",
   "metadata": {},
   "source": [
    "However, this column does not act as a variable that affects the price of a vehicle. Therefore, it was dropped. "
   ]
  },
  {
   "cell_type": "code",
   "execution_count": 31,
   "metadata": {},
   "outputs": [
    {
     "data": {
      "text/html": [
       "<div>\n",
       "<style scoped>\n",
       "    .dataframe tbody tr th:only-of-type {\n",
       "        vertical-align: middle;\n",
       "    }\n",
       "\n",
       "    .dataframe tbody tr th {\n",
       "        vertical-align: top;\n",
       "    }\n",
       "\n",
       "    .dataframe thead th {\n",
       "        text-align: right;\n",
       "    }\n",
       "</style>\n",
       "<table border=\"1\" class=\"dataframe\">\n",
       "  <thead>\n",
       "    <tr style=\"text-align: right;\">\n",
       "      <th></th>\n",
       "      <th>price</th>\n",
       "      <th>vehicletype</th>\n",
       "      <th>registrationyear</th>\n",
       "      <th>gearbox</th>\n",
       "      <th>power</th>\n",
       "      <th>model</th>\n",
       "      <th>mileage</th>\n",
       "      <th>registrationmonth</th>\n",
       "      <th>fueltype</th>\n",
       "      <th>brand</th>\n",
       "      <th>notrepaired</th>\n",
       "      <th>numberofpictures</th>\n",
       "      <th>postalcode</th>\n",
       "      <th>lastseen</th>\n",
       "    </tr>\n",
       "  </thead>\n",
       "  <tbody>\n",
       "    <tr>\n",
       "      <th>0</th>\n",
       "      <td>480</td>\n",
       "      <td>unknown</td>\n",
       "      <td>1993</td>\n",
       "      <td>manual</td>\n",
       "      <td>0</td>\n",
       "      <td>golf</td>\n",
       "      <td>150000</td>\n",
       "      <td>0</td>\n",
       "      <td>petrol</td>\n",
       "      <td>volkswagen</td>\n",
       "      <td>unknown</td>\n",
       "      <td>0</td>\n",
       "      <td>70435</td>\n",
       "      <td>07/04/2016 03:16</td>\n",
       "    </tr>\n",
       "    <tr>\n",
       "      <th>1</th>\n",
       "      <td>18300</td>\n",
       "      <td>coupe</td>\n",
       "      <td>2011</td>\n",
       "      <td>manual</td>\n",
       "      <td>190</td>\n",
       "      <td>unknown</td>\n",
       "      <td>125000</td>\n",
       "      <td>5</td>\n",
       "      <td>gasoline</td>\n",
       "      <td>audi</td>\n",
       "      <td>yes</td>\n",
       "      <td>0</td>\n",
       "      <td>66954</td>\n",
       "      <td>07/04/2016 01:46</td>\n",
       "    </tr>\n",
       "    <tr>\n",
       "      <th>2</th>\n",
       "      <td>9800</td>\n",
       "      <td>suv</td>\n",
       "      <td>2004</td>\n",
       "      <td>auto</td>\n",
       "      <td>163</td>\n",
       "      <td>grand</td>\n",
       "      <td>125000</td>\n",
       "      <td>8</td>\n",
       "      <td>gasoline</td>\n",
       "      <td>jeep</td>\n",
       "      <td>unknown</td>\n",
       "      <td>0</td>\n",
       "      <td>90480</td>\n",
       "      <td>05/04/2016 12:47</td>\n",
       "    </tr>\n",
       "    <tr>\n",
       "      <th>3</th>\n",
       "      <td>1500</td>\n",
       "      <td>small</td>\n",
       "      <td>2001</td>\n",
       "      <td>manual</td>\n",
       "      <td>75</td>\n",
       "      <td>golf</td>\n",
       "      <td>150000</td>\n",
       "      <td>6</td>\n",
       "      <td>petrol</td>\n",
       "      <td>volkswagen</td>\n",
       "      <td>no</td>\n",
       "      <td>0</td>\n",
       "      <td>91074</td>\n",
       "      <td>17/03/2016 17:40</td>\n",
       "    </tr>\n",
       "    <tr>\n",
       "      <th>4</th>\n",
       "      <td>3600</td>\n",
       "      <td>small</td>\n",
       "      <td>2008</td>\n",
       "      <td>manual</td>\n",
       "      <td>69</td>\n",
       "      <td>fabia</td>\n",
       "      <td>90000</td>\n",
       "      <td>7</td>\n",
       "      <td>gasoline</td>\n",
       "      <td>skoda</td>\n",
       "      <td>no</td>\n",
       "      <td>0</td>\n",
       "      <td>60437</td>\n",
       "      <td>06/04/2016 10:17</td>\n",
       "    </tr>\n",
       "    <tr>\n",
       "      <th>...</th>\n",
       "      <td>...</td>\n",
       "      <td>...</td>\n",
       "      <td>...</td>\n",
       "      <td>...</td>\n",
       "      <td>...</td>\n",
       "      <td>...</td>\n",
       "      <td>...</td>\n",
       "      <td>...</td>\n",
       "      <td>...</td>\n",
       "      <td>...</td>\n",
       "      <td>...</td>\n",
       "      <td>...</td>\n",
       "      <td>...</td>\n",
       "      <td>...</td>\n",
       "    </tr>\n",
       "    <tr>\n",
       "      <th>354220</th>\n",
       "      <td>0</td>\n",
       "      <td>unknown</td>\n",
       "      <td>2005</td>\n",
       "      <td>manual</td>\n",
       "      <td>0</td>\n",
       "      <td>colt</td>\n",
       "      <td>150000</td>\n",
       "      <td>7</td>\n",
       "      <td>petrol</td>\n",
       "      <td>mitsubishi</td>\n",
       "      <td>yes</td>\n",
       "      <td>0</td>\n",
       "      <td>2694</td>\n",
       "      <td>21/03/2016 10:42</td>\n",
       "    </tr>\n",
       "    <tr>\n",
       "      <th>354221</th>\n",
       "      <td>2200</td>\n",
       "      <td>unknown</td>\n",
       "      <td>2005</td>\n",
       "      <td>unknown</td>\n",
       "      <td>0</td>\n",
       "      <td>unknown</td>\n",
       "      <td>20000</td>\n",
       "      <td>1</td>\n",
       "      <td>unknown</td>\n",
       "      <td>sonstige_autos</td>\n",
       "      <td>unknown</td>\n",
       "      <td>0</td>\n",
       "      <td>39576</td>\n",
       "      <td>06/04/2016 00:46</td>\n",
       "    </tr>\n",
       "    <tr>\n",
       "      <th>354222</th>\n",
       "      <td>1199</td>\n",
       "      <td>convertible</td>\n",
       "      <td>2000</td>\n",
       "      <td>auto</td>\n",
       "      <td>101</td>\n",
       "      <td>fortwo</td>\n",
       "      <td>125000</td>\n",
       "      <td>3</td>\n",
       "      <td>petrol</td>\n",
       "      <td>smart</td>\n",
       "      <td>no</td>\n",
       "      <td>0</td>\n",
       "      <td>26135</td>\n",
       "      <td>11/03/2016 18:17</td>\n",
       "    </tr>\n",
       "    <tr>\n",
       "      <th>354223</th>\n",
       "      <td>9200</td>\n",
       "      <td>bus</td>\n",
       "      <td>1996</td>\n",
       "      <td>manual</td>\n",
       "      <td>102</td>\n",
       "      <td>transporter</td>\n",
       "      <td>150000</td>\n",
       "      <td>3</td>\n",
       "      <td>gasoline</td>\n",
       "      <td>volkswagen</td>\n",
       "      <td>no</td>\n",
       "      <td>0</td>\n",
       "      <td>87439</td>\n",
       "      <td>07/04/2016 07:15</td>\n",
       "    </tr>\n",
       "    <tr>\n",
       "      <th>354224</th>\n",
       "      <td>3400</td>\n",
       "      <td>wagon</td>\n",
       "      <td>2002</td>\n",
       "      <td>manual</td>\n",
       "      <td>100</td>\n",
       "      <td>golf</td>\n",
       "      <td>150000</td>\n",
       "      <td>6</td>\n",
       "      <td>gasoline</td>\n",
       "      <td>volkswagen</td>\n",
       "      <td>unknown</td>\n",
       "      <td>0</td>\n",
       "      <td>40764</td>\n",
       "      <td>24/03/2016 12:45</td>\n",
       "    </tr>\n",
       "  </tbody>\n",
       "</table>\n",
       "<p>354225 rows × 14 columns</p>\n",
       "</div>"
      ],
      "text/plain": [
       "        price  vehicletype  registrationyear  gearbox  power        model  \\\n",
       "0         480      unknown              1993   manual      0         golf   \n",
       "1       18300        coupe              2011   manual    190      unknown   \n",
       "2        9800          suv              2004     auto    163        grand   \n",
       "3        1500        small              2001   manual     75         golf   \n",
       "4        3600        small              2008   manual     69        fabia   \n",
       "...       ...          ...               ...      ...    ...          ...   \n",
       "354220      0      unknown              2005   manual      0         colt   \n",
       "354221   2200      unknown              2005  unknown      0      unknown   \n",
       "354222   1199  convertible              2000     auto    101       fortwo   \n",
       "354223   9200          bus              1996   manual    102  transporter   \n",
       "354224   3400        wagon              2002   manual    100         golf   \n",
       "\n",
       "        mileage  registrationmonth  fueltype           brand notrepaired  \\\n",
       "0        150000                  0    petrol      volkswagen     unknown   \n",
       "1        125000                  5  gasoline            audi         yes   \n",
       "2        125000                  8  gasoline            jeep     unknown   \n",
       "3        150000                  6    petrol      volkswagen          no   \n",
       "4         90000                  7  gasoline           skoda          no   \n",
       "...         ...                ...       ...             ...         ...   \n",
       "354220   150000                  7    petrol      mitsubishi         yes   \n",
       "354221    20000                  1   unknown  sonstige_autos     unknown   \n",
       "354222   125000                  3    petrol           smart          no   \n",
       "354223   150000                  3  gasoline      volkswagen          no   \n",
       "354224   150000                  6  gasoline      volkswagen     unknown   \n",
       "\n",
       "        numberofpictures  postalcode          lastseen  \n",
       "0                      0       70435  07/04/2016 03:16  \n",
       "1                      0       66954  07/04/2016 01:46  \n",
       "2                      0       90480  05/04/2016 12:47  \n",
       "3                      0       91074  17/03/2016 17:40  \n",
       "4                      0       60437  06/04/2016 10:17  \n",
       "...                  ...         ...               ...  \n",
       "354220                 0        2694  21/03/2016 10:42  \n",
       "354221                 0       39576  06/04/2016 00:46  \n",
       "354222                 0       26135  11/03/2016 18:17  \n",
       "354223                 0       87439  07/04/2016 07:15  \n",
       "354224                 0       40764  24/03/2016 12:45  \n",
       "\n",
       "[354225 rows x 14 columns]"
      ]
     },
     "execution_count": 31,
     "metadata": {},
     "output_type": "execute_result"
    }
   ],
   "source": [
    "data = data.drop('datecreated', axis=1)\n",
    "data"
   ]
  },
  {
   "cell_type": "markdown",
   "metadata": {},
   "source": [
    "### numberofpictures\n",
    "The __numberofpictures__ column did not present any missing values or errors in the column. However, this column does not act as a variable that affects the price of a vehicle. Therefore, it was dropped. "
   ]
  },
  {
   "cell_type": "code",
   "execution_count": 32,
   "metadata": {},
   "outputs": [
    {
     "data": {
      "text/plain": [
       "array([0])"
      ]
     },
     "execution_count": 32,
     "metadata": {},
     "output_type": "execute_result"
    }
   ],
   "source": [
    "data.numberofpictures.unique()"
   ]
  },
  {
   "cell_type": "code",
   "execution_count": 33,
   "metadata": {},
   "outputs": [
    {
     "data": {
      "text/html": [
       "<div>\n",
       "<style scoped>\n",
       "    .dataframe tbody tr th:only-of-type {\n",
       "        vertical-align: middle;\n",
       "    }\n",
       "\n",
       "    .dataframe tbody tr th {\n",
       "        vertical-align: top;\n",
       "    }\n",
       "\n",
       "    .dataframe thead th {\n",
       "        text-align: right;\n",
       "    }\n",
       "</style>\n",
       "<table border=\"1\" class=\"dataframe\">\n",
       "  <thead>\n",
       "    <tr style=\"text-align: right;\">\n",
       "      <th></th>\n",
       "      <th>price</th>\n",
       "      <th>vehicletype</th>\n",
       "      <th>registrationyear</th>\n",
       "      <th>gearbox</th>\n",
       "      <th>power</th>\n",
       "      <th>model</th>\n",
       "      <th>mileage</th>\n",
       "      <th>registrationmonth</th>\n",
       "      <th>fueltype</th>\n",
       "      <th>brand</th>\n",
       "      <th>notrepaired</th>\n",
       "      <th>postalcode</th>\n",
       "      <th>lastseen</th>\n",
       "    </tr>\n",
       "  </thead>\n",
       "  <tbody>\n",
       "    <tr>\n",
       "      <th>0</th>\n",
       "      <td>480</td>\n",
       "      <td>unknown</td>\n",
       "      <td>1993</td>\n",
       "      <td>manual</td>\n",
       "      <td>0</td>\n",
       "      <td>golf</td>\n",
       "      <td>150000</td>\n",
       "      <td>0</td>\n",
       "      <td>petrol</td>\n",
       "      <td>volkswagen</td>\n",
       "      <td>unknown</td>\n",
       "      <td>70435</td>\n",
       "      <td>07/04/2016 03:16</td>\n",
       "    </tr>\n",
       "    <tr>\n",
       "      <th>1</th>\n",
       "      <td>18300</td>\n",
       "      <td>coupe</td>\n",
       "      <td>2011</td>\n",
       "      <td>manual</td>\n",
       "      <td>190</td>\n",
       "      <td>unknown</td>\n",
       "      <td>125000</td>\n",
       "      <td>5</td>\n",
       "      <td>gasoline</td>\n",
       "      <td>audi</td>\n",
       "      <td>yes</td>\n",
       "      <td>66954</td>\n",
       "      <td>07/04/2016 01:46</td>\n",
       "    </tr>\n",
       "    <tr>\n",
       "      <th>2</th>\n",
       "      <td>9800</td>\n",
       "      <td>suv</td>\n",
       "      <td>2004</td>\n",
       "      <td>auto</td>\n",
       "      <td>163</td>\n",
       "      <td>grand</td>\n",
       "      <td>125000</td>\n",
       "      <td>8</td>\n",
       "      <td>gasoline</td>\n",
       "      <td>jeep</td>\n",
       "      <td>unknown</td>\n",
       "      <td>90480</td>\n",
       "      <td>05/04/2016 12:47</td>\n",
       "    </tr>\n",
       "    <tr>\n",
       "      <th>3</th>\n",
       "      <td>1500</td>\n",
       "      <td>small</td>\n",
       "      <td>2001</td>\n",
       "      <td>manual</td>\n",
       "      <td>75</td>\n",
       "      <td>golf</td>\n",
       "      <td>150000</td>\n",
       "      <td>6</td>\n",
       "      <td>petrol</td>\n",
       "      <td>volkswagen</td>\n",
       "      <td>no</td>\n",
       "      <td>91074</td>\n",
       "      <td>17/03/2016 17:40</td>\n",
       "    </tr>\n",
       "    <tr>\n",
       "      <th>4</th>\n",
       "      <td>3600</td>\n",
       "      <td>small</td>\n",
       "      <td>2008</td>\n",
       "      <td>manual</td>\n",
       "      <td>69</td>\n",
       "      <td>fabia</td>\n",
       "      <td>90000</td>\n",
       "      <td>7</td>\n",
       "      <td>gasoline</td>\n",
       "      <td>skoda</td>\n",
       "      <td>no</td>\n",
       "      <td>60437</td>\n",
       "      <td>06/04/2016 10:17</td>\n",
       "    </tr>\n",
       "    <tr>\n",
       "      <th>...</th>\n",
       "      <td>...</td>\n",
       "      <td>...</td>\n",
       "      <td>...</td>\n",
       "      <td>...</td>\n",
       "      <td>...</td>\n",
       "      <td>...</td>\n",
       "      <td>...</td>\n",
       "      <td>...</td>\n",
       "      <td>...</td>\n",
       "      <td>...</td>\n",
       "      <td>...</td>\n",
       "      <td>...</td>\n",
       "      <td>...</td>\n",
       "    </tr>\n",
       "    <tr>\n",
       "      <th>354220</th>\n",
       "      <td>0</td>\n",
       "      <td>unknown</td>\n",
       "      <td>2005</td>\n",
       "      <td>manual</td>\n",
       "      <td>0</td>\n",
       "      <td>colt</td>\n",
       "      <td>150000</td>\n",
       "      <td>7</td>\n",
       "      <td>petrol</td>\n",
       "      <td>mitsubishi</td>\n",
       "      <td>yes</td>\n",
       "      <td>2694</td>\n",
       "      <td>21/03/2016 10:42</td>\n",
       "    </tr>\n",
       "    <tr>\n",
       "      <th>354221</th>\n",
       "      <td>2200</td>\n",
       "      <td>unknown</td>\n",
       "      <td>2005</td>\n",
       "      <td>unknown</td>\n",
       "      <td>0</td>\n",
       "      <td>unknown</td>\n",
       "      <td>20000</td>\n",
       "      <td>1</td>\n",
       "      <td>unknown</td>\n",
       "      <td>sonstige_autos</td>\n",
       "      <td>unknown</td>\n",
       "      <td>39576</td>\n",
       "      <td>06/04/2016 00:46</td>\n",
       "    </tr>\n",
       "    <tr>\n",
       "      <th>354222</th>\n",
       "      <td>1199</td>\n",
       "      <td>convertible</td>\n",
       "      <td>2000</td>\n",
       "      <td>auto</td>\n",
       "      <td>101</td>\n",
       "      <td>fortwo</td>\n",
       "      <td>125000</td>\n",
       "      <td>3</td>\n",
       "      <td>petrol</td>\n",
       "      <td>smart</td>\n",
       "      <td>no</td>\n",
       "      <td>26135</td>\n",
       "      <td>11/03/2016 18:17</td>\n",
       "    </tr>\n",
       "    <tr>\n",
       "      <th>354223</th>\n",
       "      <td>9200</td>\n",
       "      <td>bus</td>\n",
       "      <td>1996</td>\n",
       "      <td>manual</td>\n",
       "      <td>102</td>\n",
       "      <td>transporter</td>\n",
       "      <td>150000</td>\n",
       "      <td>3</td>\n",
       "      <td>gasoline</td>\n",
       "      <td>volkswagen</td>\n",
       "      <td>no</td>\n",
       "      <td>87439</td>\n",
       "      <td>07/04/2016 07:15</td>\n",
       "    </tr>\n",
       "    <tr>\n",
       "      <th>354224</th>\n",
       "      <td>3400</td>\n",
       "      <td>wagon</td>\n",
       "      <td>2002</td>\n",
       "      <td>manual</td>\n",
       "      <td>100</td>\n",
       "      <td>golf</td>\n",
       "      <td>150000</td>\n",
       "      <td>6</td>\n",
       "      <td>gasoline</td>\n",
       "      <td>volkswagen</td>\n",
       "      <td>unknown</td>\n",
       "      <td>40764</td>\n",
       "      <td>24/03/2016 12:45</td>\n",
       "    </tr>\n",
       "  </tbody>\n",
       "</table>\n",
       "<p>354225 rows × 13 columns</p>\n",
       "</div>"
      ],
      "text/plain": [
       "        price  vehicletype  registrationyear  gearbox  power        model  \\\n",
       "0         480      unknown              1993   manual      0         golf   \n",
       "1       18300        coupe              2011   manual    190      unknown   \n",
       "2        9800          suv              2004     auto    163        grand   \n",
       "3        1500        small              2001   manual     75         golf   \n",
       "4        3600        small              2008   manual     69        fabia   \n",
       "...       ...          ...               ...      ...    ...          ...   \n",
       "354220      0      unknown              2005   manual      0         colt   \n",
       "354221   2200      unknown              2005  unknown      0      unknown   \n",
       "354222   1199  convertible              2000     auto    101       fortwo   \n",
       "354223   9200          bus              1996   manual    102  transporter   \n",
       "354224   3400        wagon              2002   manual    100         golf   \n",
       "\n",
       "        mileage  registrationmonth  fueltype           brand notrepaired  \\\n",
       "0        150000                  0    petrol      volkswagen     unknown   \n",
       "1        125000                  5  gasoline            audi         yes   \n",
       "2        125000                  8  gasoline            jeep     unknown   \n",
       "3        150000                  6    petrol      volkswagen          no   \n",
       "4         90000                  7  gasoline           skoda          no   \n",
       "...         ...                ...       ...             ...         ...   \n",
       "354220   150000                  7    petrol      mitsubishi         yes   \n",
       "354221    20000                  1   unknown  sonstige_autos     unknown   \n",
       "354222   125000                  3    petrol           smart          no   \n",
       "354223   150000                  3  gasoline      volkswagen          no   \n",
       "354224   150000                  6  gasoline      volkswagen     unknown   \n",
       "\n",
       "        postalcode          lastseen  \n",
       "0            70435  07/04/2016 03:16  \n",
       "1            66954  07/04/2016 01:46  \n",
       "2            90480  05/04/2016 12:47  \n",
       "3            91074  17/03/2016 17:40  \n",
       "4            60437  06/04/2016 10:17  \n",
       "...            ...               ...  \n",
       "354220        2694  21/03/2016 10:42  \n",
       "354221       39576  06/04/2016 00:46  \n",
       "354222       26135  11/03/2016 18:17  \n",
       "354223       87439  07/04/2016 07:15  \n",
       "354224       40764  24/03/2016 12:45  \n",
       "\n",
       "[354225 rows x 13 columns]"
      ]
     },
     "execution_count": 33,
     "metadata": {},
     "output_type": "execute_result"
    }
   ],
   "source": [
    "data = data.drop('numberofpictures', axis=1)\n",
    "data"
   ]
  },
  {
   "cell_type": "markdown",
   "metadata": {},
   "source": [
    "### postalcode column\n",
    "The __postalcode__ column did not present any missing values in the data or errors. "
   ]
  },
  {
   "cell_type": "code",
   "execution_count": 34,
   "metadata": {
    "scrolled": true
   },
   "outputs": [
    {
     "data": {
      "text/plain": [
       "array([70435, 66954, 90480, ..., 38528, 38325, 31096])"
      ]
     },
     "execution_count": 34,
     "metadata": {},
     "output_type": "execute_result"
    }
   ],
   "source": [
    "data.postalcode.unique()"
   ]
  },
  {
   "cell_type": "markdown",
   "metadata": {},
   "source": [
    "However, this column does not act as a variable that affects the price of a vehicle. Therefore, it was dropped. "
   ]
  },
  {
   "cell_type": "code",
   "execution_count": 35,
   "metadata": {},
   "outputs": [
    {
     "data": {
      "text/html": [
       "<div>\n",
       "<style scoped>\n",
       "    .dataframe tbody tr th:only-of-type {\n",
       "        vertical-align: middle;\n",
       "    }\n",
       "\n",
       "    .dataframe tbody tr th {\n",
       "        vertical-align: top;\n",
       "    }\n",
       "\n",
       "    .dataframe thead th {\n",
       "        text-align: right;\n",
       "    }\n",
       "</style>\n",
       "<table border=\"1\" class=\"dataframe\">\n",
       "  <thead>\n",
       "    <tr style=\"text-align: right;\">\n",
       "      <th></th>\n",
       "      <th>price</th>\n",
       "      <th>vehicletype</th>\n",
       "      <th>registrationyear</th>\n",
       "      <th>gearbox</th>\n",
       "      <th>power</th>\n",
       "      <th>model</th>\n",
       "      <th>mileage</th>\n",
       "      <th>registrationmonth</th>\n",
       "      <th>fueltype</th>\n",
       "      <th>brand</th>\n",
       "      <th>notrepaired</th>\n",
       "      <th>lastseen</th>\n",
       "    </tr>\n",
       "  </thead>\n",
       "  <tbody>\n",
       "    <tr>\n",
       "      <th>0</th>\n",
       "      <td>480</td>\n",
       "      <td>unknown</td>\n",
       "      <td>1993</td>\n",
       "      <td>manual</td>\n",
       "      <td>0</td>\n",
       "      <td>golf</td>\n",
       "      <td>150000</td>\n",
       "      <td>0</td>\n",
       "      <td>petrol</td>\n",
       "      <td>volkswagen</td>\n",
       "      <td>unknown</td>\n",
       "      <td>07/04/2016 03:16</td>\n",
       "    </tr>\n",
       "    <tr>\n",
       "      <th>1</th>\n",
       "      <td>18300</td>\n",
       "      <td>coupe</td>\n",
       "      <td>2011</td>\n",
       "      <td>manual</td>\n",
       "      <td>190</td>\n",
       "      <td>unknown</td>\n",
       "      <td>125000</td>\n",
       "      <td>5</td>\n",
       "      <td>gasoline</td>\n",
       "      <td>audi</td>\n",
       "      <td>yes</td>\n",
       "      <td>07/04/2016 01:46</td>\n",
       "    </tr>\n",
       "    <tr>\n",
       "      <th>2</th>\n",
       "      <td>9800</td>\n",
       "      <td>suv</td>\n",
       "      <td>2004</td>\n",
       "      <td>auto</td>\n",
       "      <td>163</td>\n",
       "      <td>grand</td>\n",
       "      <td>125000</td>\n",
       "      <td>8</td>\n",
       "      <td>gasoline</td>\n",
       "      <td>jeep</td>\n",
       "      <td>unknown</td>\n",
       "      <td>05/04/2016 12:47</td>\n",
       "    </tr>\n",
       "    <tr>\n",
       "      <th>3</th>\n",
       "      <td>1500</td>\n",
       "      <td>small</td>\n",
       "      <td>2001</td>\n",
       "      <td>manual</td>\n",
       "      <td>75</td>\n",
       "      <td>golf</td>\n",
       "      <td>150000</td>\n",
       "      <td>6</td>\n",
       "      <td>petrol</td>\n",
       "      <td>volkswagen</td>\n",
       "      <td>no</td>\n",
       "      <td>17/03/2016 17:40</td>\n",
       "    </tr>\n",
       "    <tr>\n",
       "      <th>4</th>\n",
       "      <td>3600</td>\n",
       "      <td>small</td>\n",
       "      <td>2008</td>\n",
       "      <td>manual</td>\n",
       "      <td>69</td>\n",
       "      <td>fabia</td>\n",
       "      <td>90000</td>\n",
       "      <td>7</td>\n",
       "      <td>gasoline</td>\n",
       "      <td>skoda</td>\n",
       "      <td>no</td>\n",
       "      <td>06/04/2016 10:17</td>\n",
       "    </tr>\n",
       "    <tr>\n",
       "      <th>...</th>\n",
       "      <td>...</td>\n",
       "      <td>...</td>\n",
       "      <td>...</td>\n",
       "      <td>...</td>\n",
       "      <td>...</td>\n",
       "      <td>...</td>\n",
       "      <td>...</td>\n",
       "      <td>...</td>\n",
       "      <td>...</td>\n",
       "      <td>...</td>\n",
       "      <td>...</td>\n",
       "      <td>...</td>\n",
       "    </tr>\n",
       "    <tr>\n",
       "      <th>354220</th>\n",
       "      <td>0</td>\n",
       "      <td>unknown</td>\n",
       "      <td>2005</td>\n",
       "      <td>manual</td>\n",
       "      <td>0</td>\n",
       "      <td>colt</td>\n",
       "      <td>150000</td>\n",
       "      <td>7</td>\n",
       "      <td>petrol</td>\n",
       "      <td>mitsubishi</td>\n",
       "      <td>yes</td>\n",
       "      <td>21/03/2016 10:42</td>\n",
       "    </tr>\n",
       "    <tr>\n",
       "      <th>354221</th>\n",
       "      <td>2200</td>\n",
       "      <td>unknown</td>\n",
       "      <td>2005</td>\n",
       "      <td>unknown</td>\n",
       "      <td>0</td>\n",
       "      <td>unknown</td>\n",
       "      <td>20000</td>\n",
       "      <td>1</td>\n",
       "      <td>unknown</td>\n",
       "      <td>sonstige_autos</td>\n",
       "      <td>unknown</td>\n",
       "      <td>06/04/2016 00:46</td>\n",
       "    </tr>\n",
       "    <tr>\n",
       "      <th>354222</th>\n",
       "      <td>1199</td>\n",
       "      <td>convertible</td>\n",
       "      <td>2000</td>\n",
       "      <td>auto</td>\n",
       "      <td>101</td>\n",
       "      <td>fortwo</td>\n",
       "      <td>125000</td>\n",
       "      <td>3</td>\n",
       "      <td>petrol</td>\n",
       "      <td>smart</td>\n",
       "      <td>no</td>\n",
       "      <td>11/03/2016 18:17</td>\n",
       "    </tr>\n",
       "    <tr>\n",
       "      <th>354223</th>\n",
       "      <td>9200</td>\n",
       "      <td>bus</td>\n",
       "      <td>1996</td>\n",
       "      <td>manual</td>\n",
       "      <td>102</td>\n",
       "      <td>transporter</td>\n",
       "      <td>150000</td>\n",
       "      <td>3</td>\n",
       "      <td>gasoline</td>\n",
       "      <td>volkswagen</td>\n",
       "      <td>no</td>\n",
       "      <td>07/04/2016 07:15</td>\n",
       "    </tr>\n",
       "    <tr>\n",
       "      <th>354224</th>\n",
       "      <td>3400</td>\n",
       "      <td>wagon</td>\n",
       "      <td>2002</td>\n",
       "      <td>manual</td>\n",
       "      <td>100</td>\n",
       "      <td>golf</td>\n",
       "      <td>150000</td>\n",
       "      <td>6</td>\n",
       "      <td>gasoline</td>\n",
       "      <td>volkswagen</td>\n",
       "      <td>unknown</td>\n",
       "      <td>24/03/2016 12:45</td>\n",
       "    </tr>\n",
       "  </tbody>\n",
       "</table>\n",
       "<p>354225 rows × 12 columns</p>\n",
       "</div>"
      ],
      "text/plain": [
       "        price  vehicletype  registrationyear  gearbox  power        model  \\\n",
       "0         480      unknown              1993   manual      0         golf   \n",
       "1       18300        coupe              2011   manual    190      unknown   \n",
       "2        9800          suv              2004     auto    163        grand   \n",
       "3        1500        small              2001   manual     75         golf   \n",
       "4        3600        small              2008   manual     69        fabia   \n",
       "...       ...          ...               ...      ...    ...          ...   \n",
       "354220      0      unknown              2005   manual      0         colt   \n",
       "354221   2200      unknown              2005  unknown      0      unknown   \n",
       "354222   1199  convertible              2000     auto    101       fortwo   \n",
       "354223   9200          bus              1996   manual    102  transporter   \n",
       "354224   3400        wagon              2002   manual    100         golf   \n",
       "\n",
       "        mileage  registrationmonth  fueltype           brand notrepaired  \\\n",
       "0        150000                  0    petrol      volkswagen     unknown   \n",
       "1        125000                  5  gasoline            audi         yes   \n",
       "2        125000                  8  gasoline            jeep     unknown   \n",
       "3        150000                  6    petrol      volkswagen          no   \n",
       "4         90000                  7  gasoline           skoda          no   \n",
       "...         ...                ...       ...             ...         ...   \n",
       "354220   150000                  7    petrol      mitsubishi         yes   \n",
       "354221    20000                  1   unknown  sonstige_autos     unknown   \n",
       "354222   125000                  3    petrol           smart          no   \n",
       "354223   150000                  3  gasoline      volkswagen          no   \n",
       "354224   150000                  6  gasoline      volkswagen     unknown   \n",
       "\n",
       "                lastseen  \n",
       "0       07/04/2016 03:16  \n",
       "1       07/04/2016 01:46  \n",
       "2       05/04/2016 12:47  \n",
       "3       17/03/2016 17:40  \n",
       "4       06/04/2016 10:17  \n",
       "...                  ...  \n",
       "354220  21/03/2016 10:42  \n",
       "354221  06/04/2016 00:46  \n",
       "354222  11/03/2016 18:17  \n",
       "354223  07/04/2016 07:15  \n",
       "354224  24/03/2016 12:45  \n",
       "\n",
       "[354225 rows x 12 columns]"
      ]
     },
     "execution_count": 35,
     "metadata": {},
     "output_type": "execute_result"
    }
   ],
   "source": [
    "data = data.drop('postalcode', axis=1)\n",
    "data"
   ]
  },
  {
   "cell_type": "markdown",
   "metadata": {},
   "source": [
    "### lastseen column\n",
    "\n",
    "The __lastseen__ column did not present any missing values or errors in the data. The data type of the column was changed to datetime64[ns]. "
   ]
  },
  {
   "cell_type": "code",
   "execution_count": 36,
   "metadata": {},
   "outputs": [
    {
     "data": {
      "text/plain": [
       "0         07/04/2016 03:16\n",
       "1         07/04/2016 01:46\n",
       "2         05/04/2016 12:47\n",
       "3         17/03/2016 17:40\n",
       "4         06/04/2016 10:17\n",
       "                ...       \n",
       "354220    21/03/2016 10:42\n",
       "354221    06/04/2016 00:46\n",
       "354222    11/03/2016 18:17\n",
       "354223    07/04/2016 07:15\n",
       "354224    24/03/2016 12:45\n",
       "Name: lastseen, Length: 354225, dtype: object"
      ]
     },
     "execution_count": 36,
     "metadata": {},
     "output_type": "execute_result"
    }
   ],
   "source": [
    "data.lastseen"
   ]
  },
  {
   "cell_type": "code",
   "execution_count": 37,
   "metadata": {
    "scrolled": true
   },
   "outputs": [
    {
     "data": {
      "text/plain": [
       "0        2016-04-07 03:16:00\n",
       "1        2016-04-07 01:46:00\n",
       "2        2016-04-05 12:47:00\n",
       "3        2016-03-17 17:40:00\n",
       "4        2016-04-06 10:17:00\n",
       "                 ...        \n",
       "354220   2016-03-21 10:42:00\n",
       "354221   2016-04-06 00:46:00\n",
       "354222   2016-03-11 18:17:00\n",
       "354223   2016-04-07 07:15:00\n",
       "354224   2016-03-24 12:45:00\n",
       "Name: lastseen, Length: 354225, dtype: datetime64[ns]"
      ]
     },
     "execution_count": 37,
     "metadata": {},
     "output_type": "execute_result"
    }
   ],
   "source": [
    "data['lastseen'] = pd.to_datetime(data['lastseen'], format = '%d/%m/%Y %H:%M')\n",
    "data.lastseen"
   ]
  },
  {
   "cell_type": "markdown",
   "metadata": {},
   "source": [
    "However, this column does not act as a variable that affects the price of a vehicle. Therefore, it was dropped. "
   ]
  },
  {
   "cell_type": "code",
   "execution_count": 38,
   "metadata": {},
   "outputs": [
    {
     "data": {
      "text/html": [
       "<div>\n",
       "<style scoped>\n",
       "    .dataframe tbody tr th:only-of-type {\n",
       "        vertical-align: middle;\n",
       "    }\n",
       "\n",
       "    .dataframe tbody tr th {\n",
       "        vertical-align: top;\n",
       "    }\n",
       "\n",
       "    .dataframe thead th {\n",
       "        text-align: right;\n",
       "    }\n",
       "</style>\n",
       "<table border=\"1\" class=\"dataframe\">\n",
       "  <thead>\n",
       "    <tr style=\"text-align: right;\">\n",
       "      <th></th>\n",
       "      <th>price</th>\n",
       "      <th>vehicletype</th>\n",
       "      <th>registrationyear</th>\n",
       "      <th>gearbox</th>\n",
       "      <th>power</th>\n",
       "      <th>model</th>\n",
       "      <th>mileage</th>\n",
       "      <th>registrationmonth</th>\n",
       "      <th>fueltype</th>\n",
       "      <th>brand</th>\n",
       "      <th>notrepaired</th>\n",
       "    </tr>\n",
       "  </thead>\n",
       "  <tbody>\n",
       "    <tr>\n",
       "      <th>0</th>\n",
       "      <td>480</td>\n",
       "      <td>unknown</td>\n",
       "      <td>1993</td>\n",
       "      <td>manual</td>\n",
       "      <td>0</td>\n",
       "      <td>golf</td>\n",
       "      <td>150000</td>\n",
       "      <td>0</td>\n",
       "      <td>petrol</td>\n",
       "      <td>volkswagen</td>\n",
       "      <td>unknown</td>\n",
       "    </tr>\n",
       "    <tr>\n",
       "      <th>1</th>\n",
       "      <td>18300</td>\n",
       "      <td>coupe</td>\n",
       "      <td>2011</td>\n",
       "      <td>manual</td>\n",
       "      <td>190</td>\n",
       "      <td>unknown</td>\n",
       "      <td>125000</td>\n",
       "      <td>5</td>\n",
       "      <td>gasoline</td>\n",
       "      <td>audi</td>\n",
       "      <td>yes</td>\n",
       "    </tr>\n",
       "    <tr>\n",
       "      <th>2</th>\n",
       "      <td>9800</td>\n",
       "      <td>suv</td>\n",
       "      <td>2004</td>\n",
       "      <td>auto</td>\n",
       "      <td>163</td>\n",
       "      <td>grand</td>\n",
       "      <td>125000</td>\n",
       "      <td>8</td>\n",
       "      <td>gasoline</td>\n",
       "      <td>jeep</td>\n",
       "      <td>unknown</td>\n",
       "    </tr>\n",
       "    <tr>\n",
       "      <th>3</th>\n",
       "      <td>1500</td>\n",
       "      <td>small</td>\n",
       "      <td>2001</td>\n",
       "      <td>manual</td>\n",
       "      <td>75</td>\n",
       "      <td>golf</td>\n",
       "      <td>150000</td>\n",
       "      <td>6</td>\n",
       "      <td>petrol</td>\n",
       "      <td>volkswagen</td>\n",
       "      <td>no</td>\n",
       "    </tr>\n",
       "    <tr>\n",
       "      <th>4</th>\n",
       "      <td>3600</td>\n",
       "      <td>small</td>\n",
       "      <td>2008</td>\n",
       "      <td>manual</td>\n",
       "      <td>69</td>\n",
       "      <td>fabia</td>\n",
       "      <td>90000</td>\n",
       "      <td>7</td>\n",
       "      <td>gasoline</td>\n",
       "      <td>skoda</td>\n",
       "      <td>no</td>\n",
       "    </tr>\n",
       "    <tr>\n",
       "      <th>...</th>\n",
       "      <td>...</td>\n",
       "      <td>...</td>\n",
       "      <td>...</td>\n",
       "      <td>...</td>\n",
       "      <td>...</td>\n",
       "      <td>...</td>\n",
       "      <td>...</td>\n",
       "      <td>...</td>\n",
       "      <td>...</td>\n",
       "      <td>...</td>\n",
       "      <td>...</td>\n",
       "    </tr>\n",
       "    <tr>\n",
       "      <th>354220</th>\n",
       "      <td>0</td>\n",
       "      <td>unknown</td>\n",
       "      <td>2005</td>\n",
       "      <td>manual</td>\n",
       "      <td>0</td>\n",
       "      <td>colt</td>\n",
       "      <td>150000</td>\n",
       "      <td>7</td>\n",
       "      <td>petrol</td>\n",
       "      <td>mitsubishi</td>\n",
       "      <td>yes</td>\n",
       "    </tr>\n",
       "    <tr>\n",
       "      <th>354221</th>\n",
       "      <td>2200</td>\n",
       "      <td>unknown</td>\n",
       "      <td>2005</td>\n",
       "      <td>unknown</td>\n",
       "      <td>0</td>\n",
       "      <td>unknown</td>\n",
       "      <td>20000</td>\n",
       "      <td>1</td>\n",
       "      <td>unknown</td>\n",
       "      <td>sonstige_autos</td>\n",
       "      <td>unknown</td>\n",
       "    </tr>\n",
       "    <tr>\n",
       "      <th>354222</th>\n",
       "      <td>1199</td>\n",
       "      <td>convertible</td>\n",
       "      <td>2000</td>\n",
       "      <td>auto</td>\n",
       "      <td>101</td>\n",
       "      <td>fortwo</td>\n",
       "      <td>125000</td>\n",
       "      <td>3</td>\n",
       "      <td>petrol</td>\n",
       "      <td>smart</td>\n",
       "      <td>no</td>\n",
       "    </tr>\n",
       "    <tr>\n",
       "      <th>354223</th>\n",
       "      <td>9200</td>\n",
       "      <td>bus</td>\n",
       "      <td>1996</td>\n",
       "      <td>manual</td>\n",
       "      <td>102</td>\n",
       "      <td>transporter</td>\n",
       "      <td>150000</td>\n",
       "      <td>3</td>\n",
       "      <td>gasoline</td>\n",
       "      <td>volkswagen</td>\n",
       "      <td>no</td>\n",
       "    </tr>\n",
       "    <tr>\n",
       "      <th>354224</th>\n",
       "      <td>3400</td>\n",
       "      <td>wagon</td>\n",
       "      <td>2002</td>\n",
       "      <td>manual</td>\n",
       "      <td>100</td>\n",
       "      <td>golf</td>\n",
       "      <td>150000</td>\n",
       "      <td>6</td>\n",
       "      <td>gasoline</td>\n",
       "      <td>volkswagen</td>\n",
       "      <td>unknown</td>\n",
       "    </tr>\n",
       "  </tbody>\n",
       "</table>\n",
       "<p>354225 rows × 11 columns</p>\n",
       "</div>"
      ],
      "text/plain": [
       "        price  vehicletype  registrationyear  gearbox  power        model  \\\n",
       "0         480      unknown              1993   manual      0         golf   \n",
       "1       18300        coupe              2011   manual    190      unknown   \n",
       "2        9800          suv              2004     auto    163        grand   \n",
       "3        1500        small              2001   manual     75         golf   \n",
       "4        3600        small              2008   manual     69        fabia   \n",
       "...       ...          ...               ...      ...    ...          ...   \n",
       "354220      0      unknown              2005   manual      0         colt   \n",
       "354221   2200      unknown              2005  unknown      0      unknown   \n",
       "354222   1199  convertible              2000     auto    101       fortwo   \n",
       "354223   9200          bus              1996   manual    102  transporter   \n",
       "354224   3400        wagon              2002   manual    100         golf   \n",
       "\n",
       "        mileage  registrationmonth  fueltype           brand notrepaired  \n",
       "0        150000                  0    petrol      volkswagen     unknown  \n",
       "1        125000                  5  gasoline            audi         yes  \n",
       "2        125000                  8  gasoline            jeep     unknown  \n",
       "3        150000                  6    petrol      volkswagen          no  \n",
       "4         90000                  7  gasoline           skoda          no  \n",
       "...         ...                ...       ...             ...         ...  \n",
       "354220   150000                  7    petrol      mitsubishi         yes  \n",
       "354221    20000                  1   unknown  sonstige_autos     unknown  \n",
       "354222   125000                  3    petrol           smart          no  \n",
       "354223   150000                  3  gasoline      volkswagen          no  \n",
       "354224   150000                  6  gasoline      volkswagen     unknown  \n",
       "\n",
       "[354225 rows x 11 columns]"
      ]
     },
     "execution_count": 38,
     "metadata": {},
     "output_type": "execute_result"
    }
   ],
   "source": [
    "data = data.drop('lastseen', axis=1)\n",
    "data"
   ]
  },
  {
   "cell_type": "markdown",
   "metadata": {},
   "source": [
    "### data after fixing errors in column "
   ]
  },
  {
   "cell_type": "code",
   "execution_count": 39,
   "metadata": {},
   "outputs": [
    {
     "data": {
      "text/html": [
       "<div>\n",
       "<style scoped>\n",
       "    .dataframe tbody tr th:only-of-type {\n",
       "        vertical-align: middle;\n",
       "    }\n",
       "\n",
       "    .dataframe tbody tr th {\n",
       "        vertical-align: top;\n",
       "    }\n",
       "\n",
       "    .dataframe thead th {\n",
       "        text-align: right;\n",
       "    }\n",
       "</style>\n",
       "<table border=\"1\" class=\"dataframe\">\n",
       "  <thead>\n",
       "    <tr style=\"text-align: right;\">\n",
       "      <th></th>\n",
       "      <th>price</th>\n",
       "      <th>vehicletype</th>\n",
       "      <th>registrationyear</th>\n",
       "      <th>gearbox</th>\n",
       "      <th>power</th>\n",
       "      <th>model</th>\n",
       "      <th>mileage</th>\n",
       "      <th>registrationmonth</th>\n",
       "      <th>fueltype</th>\n",
       "      <th>brand</th>\n",
       "      <th>notrepaired</th>\n",
       "    </tr>\n",
       "  </thead>\n",
       "  <tbody>\n",
       "    <tr>\n",
       "      <th>0</th>\n",
       "      <td>480</td>\n",
       "      <td>unknown</td>\n",
       "      <td>1993</td>\n",
       "      <td>manual</td>\n",
       "      <td>0</td>\n",
       "      <td>golf</td>\n",
       "      <td>150000</td>\n",
       "      <td>0</td>\n",
       "      <td>petrol</td>\n",
       "      <td>volkswagen</td>\n",
       "      <td>unknown</td>\n",
       "    </tr>\n",
       "    <tr>\n",
       "      <th>1</th>\n",
       "      <td>18300</td>\n",
       "      <td>coupe</td>\n",
       "      <td>2011</td>\n",
       "      <td>manual</td>\n",
       "      <td>190</td>\n",
       "      <td>unknown</td>\n",
       "      <td>125000</td>\n",
       "      <td>5</td>\n",
       "      <td>gasoline</td>\n",
       "      <td>audi</td>\n",
       "      <td>yes</td>\n",
       "    </tr>\n",
       "    <tr>\n",
       "      <th>2</th>\n",
       "      <td>9800</td>\n",
       "      <td>suv</td>\n",
       "      <td>2004</td>\n",
       "      <td>auto</td>\n",
       "      <td>163</td>\n",
       "      <td>grand</td>\n",
       "      <td>125000</td>\n",
       "      <td>8</td>\n",
       "      <td>gasoline</td>\n",
       "      <td>jeep</td>\n",
       "      <td>unknown</td>\n",
       "    </tr>\n",
       "    <tr>\n",
       "      <th>3</th>\n",
       "      <td>1500</td>\n",
       "      <td>small</td>\n",
       "      <td>2001</td>\n",
       "      <td>manual</td>\n",
       "      <td>75</td>\n",
       "      <td>golf</td>\n",
       "      <td>150000</td>\n",
       "      <td>6</td>\n",
       "      <td>petrol</td>\n",
       "      <td>volkswagen</td>\n",
       "      <td>no</td>\n",
       "    </tr>\n",
       "    <tr>\n",
       "      <th>4</th>\n",
       "      <td>3600</td>\n",
       "      <td>small</td>\n",
       "      <td>2008</td>\n",
       "      <td>manual</td>\n",
       "      <td>69</td>\n",
       "      <td>fabia</td>\n",
       "      <td>90000</td>\n",
       "      <td>7</td>\n",
       "      <td>gasoline</td>\n",
       "      <td>skoda</td>\n",
       "      <td>no</td>\n",
       "    </tr>\n",
       "    <tr>\n",
       "      <th>5</th>\n",
       "      <td>650</td>\n",
       "      <td>sedan</td>\n",
       "      <td>1995</td>\n",
       "      <td>manual</td>\n",
       "      <td>102</td>\n",
       "      <td>3er</td>\n",
       "      <td>150000</td>\n",
       "      <td>10</td>\n",
       "      <td>petrol</td>\n",
       "      <td>bmw</td>\n",
       "      <td>yes</td>\n",
       "    </tr>\n",
       "    <tr>\n",
       "      <th>6</th>\n",
       "      <td>2200</td>\n",
       "      <td>convertible</td>\n",
       "      <td>2004</td>\n",
       "      <td>manual</td>\n",
       "      <td>109</td>\n",
       "      <td>2_reihe</td>\n",
       "      <td>150000</td>\n",
       "      <td>8</td>\n",
       "      <td>petrol</td>\n",
       "      <td>peugeot</td>\n",
       "      <td>no</td>\n",
       "    </tr>\n",
       "    <tr>\n",
       "      <th>7</th>\n",
       "      <td>0</td>\n",
       "      <td>sedan</td>\n",
       "      <td>1980</td>\n",
       "      <td>manual</td>\n",
       "      <td>50</td>\n",
       "      <td>other</td>\n",
       "      <td>40000</td>\n",
       "      <td>7</td>\n",
       "      <td>petrol</td>\n",
       "      <td>volkswagen</td>\n",
       "      <td>no</td>\n",
       "    </tr>\n",
       "    <tr>\n",
       "      <th>8</th>\n",
       "      <td>14500</td>\n",
       "      <td>bus</td>\n",
       "      <td>2014</td>\n",
       "      <td>manual</td>\n",
       "      <td>125</td>\n",
       "      <td>c_max</td>\n",
       "      <td>30000</td>\n",
       "      <td>8</td>\n",
       "      <td>petrol</td>\n",
       "      <td>ford</td>\n",
       "      <td>unknown</td>\n",
       "    </tr>\n",
       "    <tr>\n",
       "      <th>9</th>\n",
       "      <td>999</td>\n",
       "      <td>small</td>\n",
       "      <td>1998</td>\n",
       "      <td>manual</td>\n",
       "      <td>101</td>\n",
       "      <td>golf</td>\n",
       "      <td>150000</td>\n",
       "      <td>0</td>\n",
       "      <td>unknown</td>\n",
       "      <td>volkswagen</td>\n",
       "      <td>unknown</td>\n",
       "    </tr>\n",
       "  </tbody>\n",
       "</table>\n",
       "</div>"
      ],
      "text/plain": [
       "   price  vehicletype  registrationyear gearbox  power    model  mileage  \\\n",
       "0    480      unknown              1993  manual      0     golf   150000   \n",
       "1  18300        coupe              2011  manual    190  unknown   125000   \n",
       "2   9800          suv              2004    auto    163    grand   125000   \n",
       "3   1500        small              2001  manual     75     golf   150000   \n",
       "4   3600        small              2008  manual     69    fabia    90000   \n",
       "5    650        sedan              1995  manual    102      3er   150000   \n",
       "6   2200  convertible              2004  manual    109  2_reihe   150000   \n",
       "7      0        sedan              1980  manual     50    other    40000   \n",
       "8  14500          bus              2014  manual    125    c_max    30000   \n",
       "9    999        small              1998  manual    101     golf   150000   \n",
       "\n",
       "   registrationmonth  fueltype       brand notrepaired  \n",
       "0                  0    petrol  volkswagen     unknown  \n",
       "1                  5  gasoline        audi         yes  \n",
       "2                  8  gasoline        jeep     unknown  \n",
       "3                  6    petrol  volkswagen          no  \n",
       "4                  7  gasoline       skoda          no  \n",
       "5                 10    petrol         bmw         yes  \n",
       "6                  8    petrol     peugeot          no  \n",
       "7                  7    petrol  volkswagen          no  \n",
       "8                  8    petrol        ford     unknown  \n",
       "9                  0   unknown  volkswagen     unknown  "
      ]
     },
     "execution_count": 39,
     "metadata": {},
     "output_type": "execute_result"
    }
   ],
   "source": [
    "data.head(10)"
   ]
  },
  {
   "cell_type": "code",
   "execution_count": 40,
   "metadata": {},
   "outputs": [
    {
     "name": "stdout",
     "output_type": "stream",
     "text": [
      "<class 'pandas.core.frame.DataFrame'>\n",
      "RangeIndex: 354225 entries, 0 to 354224\n",
      "Data columns (total 11 columns):\n",
      " #   Column             Non-Null Count   Dtype \n",
      "---  ------             --------------   ----- \n",
      " 0   price              354225 non-null  int64 \n",
      " 1   vehicletype        354225 non-null  object\n",
      " 2   registrationyear   354225 non-null  int64 \n",
      " 3   gearbox            354225 non-null  object\n",
      " 4   power              354225 non-null  int64 \n",
      " 5   model              354225 non-null  object\n",
      " 6   mileage            354225 non-null  int64 \n",
      " 7   registrationmonth  354225 non-null  int64 \n",
      " 8   fueltype           354225 non-null  object\n",
      " 9   brand              354225 non-null  object\n",
      " 10  notrepaired        354225 non-null  object\n",
      "dtypes: int64(5), object(6)\n",
      "memory usage: 29.7+ MB\n"
     ]
    }
   ],
   "source": [
    "data.info()"
   ]
  },
  {
   "cell_type": "markdown",
   "metadata": {},
   "source": [
    "## Model training"
   ]
  },
  {
   "cell_type": "markdown",
   "metadata": {},
   "source": [
    "### Preparing datasets for model training\n",
    "In this section, we prepated the data for training and testing of the models. The data used for the linear regression models was transfomed by means of One-Hot-Encoding. The data was saved in the variable __data_ohe__. \n",
    "\n",
    "For DecisionTree models, we transformed the data by means of Encoder. We used two different types of transformed data: scaled and non-scaled transformed data. \n",
    "\n",
    "For CatBoost and LightGBM model, we tranformed the values from the columns : `datecrawled`, `lastseen` and `datecreated` similarly to the way we transformed these same columns in __data_ohe__. "
   ]
  },
  {
   "cell_type": "code",
   "execution_count": 41,
   "metadata": {},
   "outputs": [],
   "source": [
    "#types of columns in data DataFrame\n",
    "numerical_columns= data[['registrationyear', 'power', 'mileage', 'registrationmonth']]\n",
    "\n",
    "categorical_columns = data[[\n",
    "     'vehicletype', 'gearbox', 'model', 'fueltype', \n",
    "    'brand', 'notrepaired']]\n",
    "\n",
    "target = data['price']"
   ]
  },
  {
   "cell_type": "code",
   "execution_count": 42,
   "metadata": {},
   "outputs": [],
   "source": [
    "# OHE for linear regression \n",
    "categorical_ohe = pd.get_dummies(categorical_columns, drop_first = True)\n",
    "data_ohe = categorical_ohe\n",
    "data_ohe[['registrationyear', 'power', 'mileage', 'registrationmonth']] = numerical_columns \n"
   ]
  },
  {
   "cell_type": "code",
   "execution_count": 43,
   "metadata": {},
   "outputs": [
    {
     "data": {
      "text/html": [
       "<div>\n",
       "<style scoped>\n",
       "    .dataframe tbody tr th:only-of-type {\n",
       "        vertical-align: middle;\n",
       "    }\n",
       "\n",
       "    .dataframe tbody tr th {\n",
       "        vertical-align: top;\n",
       "    }\n",
       "\n",
       "    .dataframe thead th {\n",
       "        text-align: right;\n",
       "    }\n",
       "</style>\n",
       "<table border=\"1\" class=\"dataframe\">\n",
       "  <thead>\n",
       "    <tr style=\"text-align: right;\">\n",
       "      <th></th>\n",
       "      <th>vehicletype</th>\n",
       "      <th>gearbox</th>\n",
       "      <th>model</th>\n",
       "      <th>fueltype</th>\n",
       "      <th>brand</th>\n",
       "      <th>notrepaired</th>\n",
       "      <th>registrationyear</th>\n",
       "      <th>power</th>\n",
       "      <th>mileage</th>\n",
       "      <th>registrationmonth</th>\n",
       "      <th>price</th>\n",
       "    </tr>\n",
       "  </thead>\n",
       "  <tbody>\n",
       "    <tr>\n",
       "      <th>0</th>\n",
       "      <td>7.0</td>\n",
       "      <td>1.0</td>\n",
       "      <td>116.0</td>\n",
       "      <td>6.0</td>\n",
       "      <td>38.0</td>\n",
       "      <td>1.0</td>\n",
       "      <td>1993</td>\n",
       "      <td>0</td>\n",
       "      <td>150000</td>\n",
       "      <td>0</td>\n",
       "      <td>480</td>\n",
       "    </tr>\n",
       "    <tr>\n",
       "      <th>1</th>\n",
       "      <td>2.0</td>\n",
       "      <td>1.0</td>\n",
       "      <td>228.0</td>\n",
       "      <td>2.0</td>\n",
       "      <td>1.0</td>\n",
       "      <td>2.0</td>\n",
       "      <td>2011</td>\n",
       "      <td>190</td>\n",
       "      <td>125000</td>\n",
       "      <td>5</td>\n",
       "      <td>18300</td>\n",
       "    </tr>\n",
       "    <tr>\n",
       "      <th>2</th>\n",
       "      <td>6.0</td>\n",
       "      <td>0.0</td>\n",
       "      <td>117.0</td>\n",
       "      <td>2.0</td>\n",
       "      <td>14.0</td>\n",
       "      <td>1.0</td>\n",
       "      <td>2004</td>\n",
       "      <td>163</td>\n",
       "      <td>125000</td>\n",
       "      <td>8</td>\n",
       "      <td>9800</td>\n",
       "    </tr>\n",
       "  </tbody>\n",
       "</table>\n",
       "</div>"
      ],
      "text/plain": [
       "   vehicletype  gearbox  model  fueltype  brand  notrepaired  \\\n",
       "0          7.0      1.0  116.0       6.0   38.0          1.0   \n",
       "1          2.0      1.0  228.0       2.0    1.0          2.0   \n",
       "2          6.0      0.0  117.0       2.0   14.0          1.0   \n",
       "\n",
       "   registrationyear  power  mileage  registrationmonth  price  \n",
       "0              1993      0   150000                  0    480  \n",
       "1              2011    190   125000                  5  18300  \n",
       "2              2004    163   125000                  8   9800  "
      ]
     },
     "execution_count": 43,
     "metadata": {},
     "output_type": "execute_result"
    }
   ],
   "source": [
    "#OrdinalEncoding, non-scaled for DecisionTree models\n",
    "encoder = OrdinalEncoder()\n",
    "data_ordinal = pd.DataFrame(encoder.fit_transform(categorical_columns), columns = categorical_columns.columns)\n",
    "data_ordinal[['registrationyear', 'power', 'mileage', 'registrationmonth']] = numerical_columns\n",
    "data_ordinal['price'] = data['price']\n",
    "data_ordinal.head(3)"
   ]
  },
  {
   "cell_type": "code",
   "execution_count": 44,
   "metadata": {
    "scrolled": false
   },
   "outputs": [
    {
     "data": {
      "text/html": [
       "<div>\n",
       "<style scoped>\n",
       "    .dataframe tbody tr th:only-of-type {\n",
       "        vertical-align: middle;\n",
       "    }\n",
       "\n",
       "    .dataframe tbody tr th {\n",
       "        vertical-align: top;\n",
       "    }\n",
       "\n",
       "    .dataframe thead th {\n",
       "        text-align: right;\n",
       "    }\n",
       "</style>\n",
       "<table border=\"1\" class=\"dataframe\">\n",
       "  <thead>\n",
       "    <tr style=\"text-align: right;\">\n",
       "      <th></th>\n",
       "      <th>vehicletype</th>\n",
       "      <th>gearbox</th>\n",
       "      <th>model</th>\n",
       "      <th>fueltype</th>\n",
       "      <th>brand</th>\n",
       "      <th>notrepaired</th>\n",
       "      <th>registrationyear</th>\n",
       "      <th>power</th>\n",
       "      <th>mileage</th>\n",
       "      <th>registrationmonth</th>\n",
       "      <th>price</th>\n",
       "    </tr>\n",
       "  </thead>\n",
       "  <tbody>\n",
       "    <tr>\n",
       "      <th>0</th>\n",
       "      <td>0.942872</td>\n",
       "      <td>0.275812</td>\n",
       "      <td>0.003526</td>\n",
       "      <td>0.565495</td>\n",
       "      <td>1.285571</td>\n",
       "      <td>0.893936</td>\n",
       "      <td>-0.124584</td>\n",
       "      <td>-1.530587</td>\n",
       "      <td>0.574835</td>\n",
       "      <td>-1.533607</td>\n",
       "      <td>480</td>\n",
       "    </tr>\n",
       "    <tr>\n",
       "      <th>1</th>\n",
       "      <td>-1.151893</td>\n",
       "      <td>0.275812</td>\n",
       "      <td>1.518618</td>\n",
       "      <td>-1.558624</td>\n",
       "      <td>-1.496417</td>\n",
       "      <td>2.394235</td>\n",
       "      <td>0.075216</td>\n",
       "      <td>1.181986</td>\n",
       "      <td>-0.084781</td>\n",
       "      <td>-0.191788</td>\n",
       "      <td>18300</td>\n",
       "    </tr>\n",
       "    <tr>\n",
       "      <th>2</th>\n",
       "      <td>0.523919</td>\n",
       "      <td>-1.828557</td>\n",
       "      <td>0.017053</td>\n",
       "      <td>-1.558624</td>\n",
       "      <td>-0.518962</td>\n",
       "      <td>0.893936</td>\n",
       "      <td>-0.002484</td>\n",
       "      <td>0.796515</td>\n",
       "      <td>-0.084781</td>\n",
       "      <td>0.613304</td>\n",
       "      <td>9800</td>\n",
       "    </tr>\n",
       "    <tr>\n",
       "      <th>3</th>\n",
       "      <td>0.104966</td>\n",
       "      <td>0.275812</td>\n",
       "      <td>0.003526</td>\n",
       "      <td>0.565495</td>\n",
       "      <td>1.285571</td>\n",
       "      <td>-0.606362</td>\n",
       "      <td>-0.035784</td>\n",
       "      <td>-0.459834</td>\n",
       "      <td>0.574835</td>\n",
       "      <td>0.076576</td>\n",
       "      <td>1500</td>\n",
       "    </tr>\n",
       "    <tr>\n",
       "      <th>4</th>\n",
       "      <td>0.104966</td>\n",
       "      <td>0.275812</td>\n",
       "      <td>-0.199389</td>\n",
       "      <td>-1.558624</td>\n",
       "      <td>0.759249</td>\n",
       "      <td>-0.606362</td>\n",
       "      <td>0.041916</td>\n",
       "      <td>-0.545495</td>\n",
       "      <td>-1.008243</td>\n",
       "      <td>0.344940</td>\n",
       "      <td>3600</td>\n",
       "    </tr>\n",
       "    <tr>\n",
       "      <th>...</th>\n",
       "      <td>...</td>\n",
       "      <td>...</td>\n",
       "      <td>...</td>\n",
       "      <td>...</td>\n",
       "      <td>...</td>\n",
       "      <td>...</td>\n",
       "      <td>...</td>\n",
       "      <td>...</td>\n",
       "      <td>...</td>\n",
       "      <td>...</td>\n",
       "      <td>...</td>\n",
       "    </tr>\n",
       "    <tr>\n",
       "      <th>354220</th>\n",
       "      <td>0.942872</td>\n",
       "      <td>0.275812</td>\n",
       "      <td>-0.510524</td>\n",
       "      <td>0.565495</td>\n",
       "      <td>0.082549</td>\n",
       "      <td>2.394235</td>\n",
       "      <td>0.008616</td>\n",
       "      <td>-1.530587</td>\n",
       "      <td>0.574835</td>\n",
       "      <td>0.344940</td>\n",
       "      <td>0</td>\n",
       "    </tr>\n",
       "    <tr>\n",
       "      <th>354221</th>\n",
       "      <td>0.942872</td>\n",
       "      <td>2.380181</td>\n",
       "      <td>1.518618</td>\n",
       "      <td>1.096525</td>\n",
       "      <td>0.909626</td>\n",
       "      <td>0.893936</td>\n",
       "      <td>0.008616</td>\n",
       "      <td>-1.530587</td>\n",
       "      <td>-2.855167</td>\n",
       "      <td>-1.265243</td>\n",
       "      <td>2200</td>\n",
       "    </tr>\n",
       "    <tr>\n",
       "      <th>354222</th>\n",
       "      <td>-1.570846</td>\n",
       "      <td>-1.828557</td>\n",
       "      <td>-0.131751</td>\n",
       "      <td>0.565495</td>\n",
       "      <td>0.834438</td>\n",
       "      <td>-0.606362</td>\n",
       "      <td>-0.046884</td>\n",
       "      <td>-0.088640</td>\n",
       "      <td>-0.084781</td>\n",
       "      <td>-0.728516</td>\n",
       "      <td>1199</td>\n",
       "    </tr>\n",
       "    <tr>\n",
       "      <th>354223</th>\n",
       "      <td>-1.989799</td>\n",
       "      <td>0.275812</td>\n",
       "      <td>1.464507</td>\n",
       "      <td>-1.558624</td>\n",
       "      <td>1.285571</td>\n",
       "      <td>-0.606362</td>\n",
       "      <td>-0.091284</td>\n",
       "      <td>-0.074364</td>\n",
       "      <td>0.574835</td>\n",
       "      <td>-0.728516</td>\n",
       "      <td>9200</td>\n",
       "    </tr>\n",
       "    <tr>\n",
       "      <th>354224</th>\n",
       "      <td>1.361825</td>\n",
       "      <td>0.275812</td>\n",
       "      <td>0.003526</td>\n",
       "      <td>-1.558624</td>\n",
       "      <td>1.285571</td>\n",
       "      <td>0.893936</td>\n",
       "      <td>-0.024684</td>\n",
       "      <td>-0.102917</td>\n",
       "      <td>0.574835</td>\n",
       "      <td>0.076576</td>\n",
       "      <td>3400</td>\n",
       "    </tr>\n",
       "  </tbody>\n",
       "</table>\n",
       "<p>354225 rows × 11 columns</p>\n",
       "</div>"
      ],
      "text/plain": [
       "        vehicletype   gearbox     model  fueltype     brand  notrepaired  \\\n",
       "0          0.942872  0.275812  0.003526  0.565495  1.285571     0.893936   \n",
       "1         -1.151893  0.275812  1.518618 -1.558624 -1.496417     2.394235   \n",
       "2          0.523919 -1.828557  0.017053 -1.558624 -0.518962     0.893936   \n",
       "3          0.104966  0.275812  0.003526  0.565495  1.285571    -0.606362   \n",
       "4          0.104966  0.275812 -0.199389 -1.558624  0.759249    -0.606362   \n",
       "...             ...       ...       ...       ...       ...          ...   \n",
       "354220     0.942872  0.275812 -0.510524  0.565495  0.082549     2.394235   \n",
       "354221     0.942872  2.380181  1.518618  1.096525  0.909626     0.893936   \n",
       "354222    -1.570846 -1.828557 -0.131751  0.565495  0.834438    -0.606362   \n",
       "354223    -1.989799  0.275812  1.464507 -1.558624  1.285571    -0.606362   \n",
       "354224     1.361825  0.275812  0.003526 -1.558624  1.285571     0.893936   \n",
       "\n",
       "        registrationyear     power   mileage  registrationmonth  price  \n",
       "0              -0.124584 -1.530587  0.574835          -1.533607    480  \n",
       "1               0.075216  1.181986 -0.084781          -0.191788  18300  \n",
       "2              -0.002484  0.796515 -0.084781           0.613304   9800  \n",
       "3              -0.035784 -0.459834  0.574835           0.076576   1500  \n",
       "4               0.041916 -0.545495 -1.008243           0.344940   3600  \n",
       "...                  ...       ...       ...                ...    ...  \n",
       "354220          0.008616 -1.530587  0.574835           0.344940      0  \n",
       "354221          0.008616 -1.530587 -2.855167          -1.265243   2200  \n",
       "354222         -0.046884 -0.088640 -0.084781          -0.728516   1199  \n",
       "354223         -0.091284 -0.074364  0.574835          -0.728516   9200  \n",
       "354224         -0.024684 -0.102917  0.574835           0.076576   3400  \n",
       "\n",
       "[354225 rows x 11 columns]"
      ]
     },
     "execution_count": 44,
     "metadata": {},
     "output_type": "execute_result"
    }
   ],
   "source": [
    "#OrdinalEncoding, scaled for DecisionTree models\n",
    "data_ordinal_scaled = pd.DataFrame(encoder.fit_transform(categorical_columns), columns = categorical_columns.columns)\n",
    "data_ordinal_scaled[['registrationyear', 'power', 'mileage', 'registrationmonth']] = numerical_columns\n",
    "\n",
    "scaler = StandardScaler()\n",
    "data_ordinal_scaled =pd.DataFrame(scaler.fit_transform(data_ordinal_scaled), columns = data_ordinal_scaled.columns)\n",
    "data_ordinal_scaled['price'] = data['price']\n",
    "data_ordinal_scaled"
   ]
  },
  {
   "cell_type": "code",
   "execution_count": 45,
   "metadata": {
    "scrolled": true
   },
   "outputs": [
    {
     "data": {
      "text/html": [
       "<div>\n",
       "<style scoped>\n",
       "    .dataframe tbody tr th:only-of-type {\n",
       "        vertical-align: middle;\n",
       "    }\n",
       "\n",
       "    .dataframe tbody tr th {\n",
       "        vertical-align: top;\n",
       "    }\n",
       "\n",
       "    .dataframe thead th {\n",
       "        text-align: right;\n",
       "    }\n",
       "</style>\n",
       "<table border=\"1\" class=\"dataframe\">\n",
       "  <thead>\n",
       "    <tr style=\"text-align: right;\">\n",
       "      <th></th>\n",
       "      <th>price</th>\n",
       "      <th>vehicletype</th>\n",
       "      <th>registrationyear</th>\n",
       "      <th>gearbox</th>\n",
       "      <th>power</th>\n",
       "      <th>model</th>\n",
       "      <th>mileage</th>\n",
       "      <th>registrationmonth</th>\n",
       "      <th>fueltype</th>\n",
       "      <th>brand</th>\n",
       "      <th>notrepaired</th>\n",
       "    </tr>\n",
       "  </thead>\n",
       "  <tbody>\n",
       "    <tr>\n",
       "      <th>0</th>\n",
       "      <td>480</td>\n",
       "      <td>unknown</td>\n",
       "      <td>1993</td>\n",
       "      <td>manual</td>\n",
       "      <td>0</td>\n",
       "      <td>golf</td>\n",
       "      <td>150000</td>\n",
       "      <td>0</td>\n",
       "      <td>petrol</td>\n",
       "      <td>volkswagen</td>\n",
       "      <td>unknown</td>\n",
       "    </tr>\n",
       "    <tr>\n",
       "      <th>1</th>\n",
       "      <td>18300</td>\n",
       "      <td>coupe</td>\n",
       "      <td>2011</td>\n",
       "      <td>manual</td>\n",
       "      <td>190</td>\n",
       "      <td>unknown</td>\n",
       "      <td>125000</td>\n",
       "      <td>5</td>\n",
       "      <td>gasoline</td>\n",
       "      <td>audi</td>\n",
       "      <td>yes</td>\n",
       "    </tr>\n",
       "    <tr>\n",
       "      <th>2</th>\n",
       "      <td>9800</td>\n",
       "      <td>suv</td>\n",
       "      <td>2004</td>\n",
       "      <td>auto</td>\n",
       "      <td>163</td>\n",
       "      <td>grand</td>\n",
       "      <td>125000</td>\n",
       "      <td>8</td>\n",
       "      <td>gasoline</td>\n",
       "      <td>jeep</td>\n",
       "      <td>unknown</td>\n",
       "    </tr>\n",
       "  </tbody>\n",
       "</table>\n",
       "</div>"
      ],
      "text/plain": [
       "   price vehicletype  registrationyear gearbox  power    model  mileage  \\\n",
       "0    480     unknown              1993  manual      0     golf   150000   \n",
       "1  18300       coupe              2011  manual    190  unknown   125000   \n",
       "2   9800         suv              2004    auto    163    grand   125000   \n",
       "\n",
       "   registrationmonth  fueltype       brand notrepaired  \n",
       "0                  0    petrol  volkswagen     unknown  \n",
       "1                  5  gasoline        audi         yes  \n",
       "2                  8  gasoline        jeep     unknown  "
      ]
     },
     "execution_count": 45,
     "metadata": {},
     "output_type": "execute_result"
    }
   ],
   "source": [
    "# original data for CatBoost\n",
    "data_original = data\n",
    "data_original.head(3)\n"
   ]
  },
  {
   "cell_type": "code",
   "execution_count": 46,
   "metadata": {},
   "outputs": [
    {
     "name": "stdout",
     "output_type": "stream",
     "text": [
      "<class 'pandas.core.frame.DataFrame'>\n",
      "RangeIndex: 354225 entries, 0 to 354224\n",
      "Data columns (total 11 columns):\n",
      " #   Column             Non-Null Count   Dtype \n",
      "---  ------             --------------   ----- \n",
      " 0   price              354225 non-null  int64 \n",
      " 1   vehicletype        354225 non-null  object\n",
      " 2   registrationyear   354225 non-null  int64 \n",
      " 3   gearbox            354225 non-null  object\n",
      " 4   power              354225 non-null  int64 \n",
      " 5   model              354225 non-null  object\n",
      " 6   mileage            354225 non-null  int64 \n",
      " 7   registrationmonth  354225 non-null  int64 \n",
      " 8   fueltype           354225 non-null  object\n",
      " 9   brand              354225 non-null  object\n",
      " 10  notrepaired        354225 non-null  object\n",
      "dtypes: int64(5), object(6)\n",
      "memory usage: 29.7+ MB\n"
     ]
    }
   ],
   "source": [
    "data_original.info()"
   ]
  },
  {
   "cell_type": "markdown",
   "metadata": {},
   "source": [
    "### RandomForestRegressor Model, Non-Scaled Features Data"
   ]
  },
  {
   "cell_type": "code",
   "execution_count": 47,
   "metadata": {},
   "outputs": [
    {
     "name": "stdout",
     "output_type": "stream",
     "text": [
      "features_train dimensions (212535, 10)\n",
      "\n",
      "features_test dimensions (70845, 10)\n",
      "\n",
      "features_validation dimensions (70845, 10)\n",
      "\n",
      "target_train dimensions (212535,)\n",
      "\n",
      "target_test dimensions (70845,)\n",
      "\n",
      "target_validation dimensions (70845,)\n"
     ]
    }
   ],
   "source": [
    "#creating features and target\n",
    "x_rf = data_ordinal.drop('price', axis=1)\n",
    "y_rf = data_ordinal['price']\n",
    "\n",
    "x_train_rf, x_remaining_rf, y_train_rf, y_remaining_rf =  train_test_split(\n",
    "    x_rf, y_rf , test_size=0.40, random_state = 12345)\n",
    "\n",
    "x_test_rf, x_valid_rf, y_test_rf, y_valid_rf =  train_test_split(\n",
    "    x_remaining_rf, y_remaining_rf , test_size=0.5, random_state = 12345)\n",
    "\n",
    "print('features_train dimensions', x_train_rf.shape)\n",
    "print()\n",
    "print('features_test dimensions', x_test_rf.shape)\n",
    "print()\n",
    "print('features_validation dimensions', x_valid_rf.shape)\n",
    "print()\n",
    "print('target_train dimensions', y_train_rf.shape)\n",
    "print()\n",
    "print('target_test dimensions', y_test_rf.shape)\n",
    "print()\n",
    "print('target_validation dimensions', y_valid_rf.shape)"
   ]
  },
  {
   "cell_type": "code",
   "execution_count": 48,
   "metadata": {},
   "outputs": [],
   "source": [
    "#defining parameters\n",
    "n_estimators = list(np.arange(25,35,1))\n",
    "max_features = ['auto', 'sqrt']\n",
    "max_depth = list(np.arange(20,28,1))\n",
    "min_samples_split = list(np.arange(1,7,1))\n",
    "min_samples_leaf = list(np.arange(1,9,1))\n",
    "bootstrap = [False, True]\n",
    "\n",
    "params_grid = {'n_estimators' : n_estimators,\n",
    "              'max_features' : max_features,\n",
    "              'max_depth' : max_depth, \n",
    "              'min_samples_split' : min_samples_split,\n",
    "              'min_samples_leaf' : min_samples_leaf,\n",
    "              'bootstrap' : bootstrap}\n"
   ]
  },
  {
   "cell_type": "code",
   "execution_count": 49,
   "metadata": {
    "scrolled": true
   },
   "outputs": [
    {
     "name": "stdout",
     "output_type": "stream",
     "text": [
      "Fitting 5 folds for each of 10 candidates, totalling 50 fits\n",
      "[CV] END bootstrap=True, max_depth=21, max_features=sqrt, min_samples_leaf=5, min_samples_split=1, n_estimators=31; total time=   0.0s\n",
      "[CV] END bootstrap=True, max_depth=21, max_features=sqrt, min_samples_leaf=5, min_samples_split=1, n_estimators=31; total time=   0.0s\n",
      "[CV] END bootstrap=True, max_depth=21, max_features=sqrt, min_samples_leaf=5, min_samples_split=1, n_estimators=31; total time=   0.0s\n",
      "[CV] END bootstrap=True, max_depth=21, max_features=sqrt, min_samples_leaf=5, min_samples_split=1, n_estimators=31; total time=   0.0s\n",
      "[CV] END bootstrap=True, max_depth=21, max_features=sqrt, min_samples_leaf=5, min_samples_split=1, n_estimators=31; total time=   0.0s\n",
      "[CV] END bootstrap=False, max_depth=22, max_features=sqrt, min_samples_leaf=1, min_samples_split=5, n_estimators=29; total time=   5.9s\n",
      "[CV] END bootstrap=False, max_depth=22, max_features=sqrt, min_samples_leaf=1, min_samples_split=5, n_estimators=29; total time=   5.9s\n",
      "[CV] END bootstrap=False, max_depth=22, max_features=sqrt, min_samples_leaf=1, min_samples_split=5, n_estimators=29; total time=   5.8s\n",
      "[CV] END bootstrap=False, max_depth=22, max_features=sqrt, min_samples_leaf=1, min_samples_split=5, n_estimators=29; total time=   5.9s\n",
      "[CV] END bootstrap=False, max_depth=22, max_features=sqrt, min_samples_leaf=1, min_samples_split=5, n_estimators=29; total time=   5.9s\n",
      "[CV] END bootstrap=True, max_depth=20, max_features=auto, min_samples_leaf=7, min_samples_split=4, n_estimators=29; total time=   8.9s\n",
      "[CV] END bootstrap=True, max_depth=20, max_features=auto, min_samples_leaf=7, min_samples_split=4, n_estimators=29; total time=   8.8s\n",
      "[CV] END bootstrap=True, max_depth=20, max_features=auto, min_samples_leaf=7, min_samples_split=4, n_estimators=29; total time=   8.8s\n",
      "[CV] END bootstrap=True, max_depth=20, max_features=auto, min_samples_leaf=7, min_samples_split=4, n_estimators=29; total time=   8.9s\n",
      "[CV] END bootstrap=True, max_depth=20, max_features=auto, min_samples_leaf=7, min_samples_split=4, n_estimators=29; total time=   8.9s\n",
      "[CV] END bootstrap=False, max_depth=27, max_features=sqrt, min_samples_leaf=2, min_samples_split=2, n_estimators=27; total time=   5.6s\n",
      "[CV] END bootstrap=False, max_depth=27, max_features=sqrt, min_samples_leaf=2, min_samples_split=2, n_estimators=27; total time=   5.7s\n",
      "[CV] END bootstrap=False, max_depth=27, max_features=sqrt, min_samples_leaf=2, min_samples_split=2, n_estimators=27; total time=   5.7s\n",
      "[CV] END bootstrap=False, max_depth=27, max_features=sqrt, min_samples_leaf=2, min_samples_split=2, n_estimators=27; total time=   6.2s\n",
      "[CV] END bootstrap=False, max_depth=27, max_features=sqrt, min_samples_leaf=2, min_samples_split=2, n_estimators=27; total time=   5.7s\n",
      "[CV] END bootstrap=True, max_depth=24, max_features=auto, min_samples_leaf=3, min_samples_split=2, n_estimators=33; total time=  11.4s\n",
      "[CV] END bootstrap=True, max_depth=24, max_features=auto, min_samples_leaf=3, min_samples_split=2, n_estimators=33; total time=  11.5s\n",
      "[CV] END bootstrap=True, max_depth=24, max_features=auto, min_samples_leaf=3, min_samples_split=2, n_estimators=33; total time=  11.4s\n",
      "[CV] END bootstrap=True, max_depth=24, max_features=auto, min_samples_leaf=3, min_samples_split=2, n_estimators=33; total time=  11.5s\n",
      "[CV] END bootstrap=True, max_depth=24, max_features=auto, min_samples_leaf=3, min_samples_split=2, n_estimators=33; total time=  11.5s\n",
      "[CV] END bootstrap=False, max_depth=26, max_features=sqrt, min_samples_leaf=6, min_samples_split=5, n_estimators=30; total time=   5.2s\n",
      "[CV] END bootstrap=False, max_depth=26, max_features=sqrt, min_samples_leaf=6, min_samples_split=5, n_estimators=30; total time=   5.2s\n",
      "[CV] END bootstrap=False, max_depth=26, max_features=sqrt, min_samples_leaf=6, min_samples_split=5, n_estimators=30; total time=   5.4s\n",
      "[CV] END bootstrap=False, max_depth=26, max_features=sqrt, min_samples_leaf=6, min_samples_split=5, n_estimators=30; total time=   5.2s\n",
      "[CV] END bootstrap=False, max_depth=26, max_features=sqrt, min_samples_leaf=6, min_samples_split=5, n_estimators=30; total time=   6.1s\n",
      "[CV] END bootstrap=False, max_depth=23, max_features=sqrt, min_samples_leaf=7, min_samples_split=3, n_estimators=26; total time=   4.4s\n",
      "[CV] END bootstrap=False, max_depth=23, max_features=sqrt, min_samples_leaf=7, min_samples_split=3, n_estimators=26; total time=   4.6s\n",
      "[CV] END bootstrap=False, max_depth=23, max_features=sqrt, min_samples_leaf=7, min_samples_split=3, n_estimators=26; total time=   4.7s\n",
      "[CV] END bootstrap=False, max_depth=23, max_features=sqrt, min_samples_leaf=7, min_samples_split=3, n_estimators=26; total time=   4.4s\n",
      "[CV] END bootstrap=False, max_depth=23, max_features=sqrt, min_samples_leaf=7, min_samples_split=3, n_estimators=26; total time=   4.4s\n",
      "[CV] END bootstrap=True, max_depth=23, max_features=sqrt, min_samples_leaf=8, min_samples_split=2, n_estimators=34; total time=   3.9s\n",
      "[CV] END bootstrap=True, max_depth=23, max_features=sqrt, min_samples_leaf=8, min_samples_split=2, n_estimators=34; total time=   4.8s\n",
      "[CV] END bootstrap=True, max_depth=23, max_features=sqrt, min_samples_leaf=8, min_samples_split=2, n_estimators=34; total time=   5.6s\n",
      "[CV] END bootstrap=True, max_depth=23, max_features=sqrt, min_samples_leaf=8, min_samples_split=2, n_estimators=34; total time=   5.9s\n",
      "[CV] END bootstrap=True, max_depth=23, max_features=sqrt, min_samples_leaf=8, min_samples_split=2, n_estimators=34; total time=   4.6s\n",
      "[CV] END bootstrap=False, max_depth=27, max_features=auto, min_samples_leaf=1, min_samples_split=6, n_estimators=32; total time=  20.7s\n",
      "[CV] END bootstrap=False, max_depth=27, max_features=auto, min_samples_leaf=1, min_samples_split=6, n_estimators=32; total time=  24.4s\n",
      "[CV] END bootstrap=False, max_depth=27, max_features=auto, min_samples_leaf=1, min_samples_split=6, n_estimators=32; total time=  18.2s\n",
      "[CV] END bootstrap=False, max_depth=27, max_features=auto, min_samples_leaf=1, min_samples_split=6, n_estimators=32; total time=  18.6s\n",
      "[CV] END bootstrap=False, max_depth=27, max_features=auto, min_samples_leaf=1, min_samples_split=6, n_estimators=32; total time=  18.2s\n",
      "[CV] END bootstrap=True, max_depth=27, max_features=auto, min_samples_leaf=8, min_samples_split=4, n_estimators=25; total time=   7.7s\n",
      "[CV] END bootstrap=True, max_depth=27, max_features=auto, min_samples_leaf=8, min_samples_split=4, n_estimators=25; total time=   7.7s\n",
      "[CV] END bootstrap=True, max_depth=27, max_features=auto, min_samples_leaf=8, min_samples_split=4, n_estimators=25; total time=   7.8s\n",
      "[CV] END bootstrap=True, max_depth=27, max_features=auto, min_samples_leaf=8, min_samples_split=4, n_estimators=25; total time=   7.8s\n",
      "[CV] END bootstrap=True, max_depth=27, max_features=auto, min_samples_leaf=8, min_samples_split=4, n_estimators=25; total time=   7.8s\n"
     ]
    },
    {
     "name": "stderr",
     "output_type": "stream",
     "text": [
      "/opt/conda/lib/python3.9/site-packages/sklearn/model_selection/_search.py:918: UserWarning: One or more of the test scores are non-finite: [           nan -1757.56721813 -1825.00132791 -1755.94227256\n",
      " -1794.37484279 -1788.17162866 -1801.57039739 -1842.25041414\n",
      " -2230.87555311 -1833.20874577]\n",
      "  warnings.warn(\n",
      "/opt/conda/lib/python3.9/site-packages/sklearn/model_selection/_search.py:918: UserWarning: One or more of the train scores are non-finite: [           nan  -812.90611851 -1518.23791976  -925.6614516\n",
      " -1222.28033317 -1429.22083242 -1483.77862331 -1649.67673522\n",
      "  -937.87343588 -1550.31268934]\n",
      "  warnings.warn(\n"
     ]
    },
    {
     "data": {
      "text/plain": [
       "RandomizedSearchCV(cv=5, estimator=RandomForestRegressor(random_state=12345),\n",
       "                   param_distributions={'bootstrap': [False, True],\n",
       "                                        'max_depth': [20, 21, 22, 23, 24, 25,\n",
       "                                                      26, 27],\n",
       "                                        'max_features': ['auto', 'sqrt'],\n",
       "                                        'min_samples_leaf': [1, 2, 3, 4, 5, 6,\n",
       "                                                             7, 8],\n",
       "                                        'min_samples_split': [1, 2, 3, 4, 5, 6],\n",
       "                                        'n_estimators': [25, 26, 27, 28, 29, 30,\n",
       "                                                         31, 32, 33, 34]},\n",
       "                   return_train_score=True,\n",
       "                   scoring='neg_root_mean_squared_error', verbose=2)"
      ]
     },
     "execution_count": 49,
     "metadata": {},
     "output_type": "execute_result"
    }
   ],
   "source": [
    "# import warnings filter\n",
    "from warnings import simplefilter\n",
    "# ignore all future warnings\n",
    "simplefilter(action='ignore', category=FutureWarning)\n",
    "\n",
    "rf_model = RandomForestRegressor(random_state=12345)\n",
    "rmse_scorer = 'neg_root_mean_squared_error'\n",
    "rf_random = RandomizedSearchCV(estimator = rf_model, \n",
    "                       param_distributions = params_grid,\n",
    "                       cv = 5, \n",
    "                       scoring= rmse_scorer,\n",
    "                        verbose=2,\n",
    "                       return_train_score=True)\n",
    "rf_random.fit(x_train_rf, y_train_rf)"
   ]
  },
  {
   "cell_type": "code",
   "execution_count": 50,
   "metadata": {},
   "outputs": [
    {
     "name": "stdout",
     "output_type": "stream",
     "text": [
      "{'n_estimators': 27, 'min_samples_split': 2, 'min_samples_leaf': 2, 'max_features': 'sqrt', 'max_depth': 27, 'bootstrap': False}\n"
     ]
    }
   ],
   "source": [
    "print(rf_random.best_params_)\n",
    "rf_n_estimators = rf_random.best_params_['n_estimators']\n",
    "rf_min_samples_split =  rf_random.best_params_['min_samples_split']\n",
    "rf_min_samples_leaf = rf_random.best_params_['min_samples_leaf']\n",
    "rf_max_features = rf_random.best_params_['max_features']\n",
    "rf_max_depth= rf_random.best_params_['max_depth']\n",
    "rf_bootstrap = rf_random.best_params_['bootstrap']"
   ]
  },
  {
   "cell_type": "code",
   "execution_count": 51,
   "metadata": {},
   "outputs": [],
   "source": [
    "rf_model_best_params = RandomForestRegressor(n_estimators = rf_n_estimators , \n",
    "                                             min_samples_split = rf_min_samples_split , \n",
    "                                             min_samples_leaf = rf_min_samples_leaf , \n",
    "                                             max_features = rf_max_features, \n",
    "                                             max_depth = rf_max_depth, \n",
    "                                             bootstrap = rf_bootstrap, \n",
    "                                            random_state = 12345)"
   ]
  },
  {
   "cell_type": "code",
   "execution_count": 52,
   "metadata": {},
   "outputs": [
    {
     "name": "stdout",
     "output_type": "stream",
     "text": [
      "CPU times: user 6.77 s, sys: 67.9 ms, total: 6.84 s\n",
      "Wall time: 6.87 s\n"
     ]
    },
    {
     "data": {
      "text/plain": [
       "RandomForestRegressor(bootstrap=False, max_depth=27, max_features='sqrt',\n",
       "                      min_samples_leaf=2, n_estimators=27, random_state=12345)"
      ]
     },
     "execution_count": 52,
     "metadata": {},
     "output_type": "execute_result"
    }
   ],
   "source": [
    "%%time\n",
    "rf_model_best_params.fit(x_train_rf, y_train_rf)\n"
   ]
  },
  {
   "cell_type": "code",
   "execution_count": 53,
   "metadata": {},
   "outputs": [
    {
     "name": "stdout",
     "output_type": "stream",
     "text": [
      "CPU times: user 548 ms, sys: 0 ns, total: 548 ms\n",
      "Wall time: 553 ms\n"
     ]
    }
   ],
   "source": [
    "%%time\n",
    "y_predict_rf_valid = rf_model_best_params.predict(x_valid_rf)\n"
   ]
  },
  {
   "cell_type": "code",
   "execution_count": 54,
   "metadata": {},
   "outputs": [
    {
     "name": "stdout",
     "output_type": "stream",
     "text": [
      "RMSE for model :  1726.3280264898942\n"
     ]
    }
   ],
   "source": [
    "RMSE_rf_ns = mean_squared_error(y_valid_rf, y_predict_rf_valid)**0.5\n",
    "print ('RMSE for model : ', RMSE_rf_ns)"
   ]
  },
  {
   "cell_type": "markdown",
   "metadata": {},
   "source": [
    "### RandomForestRegressor Model, Scaled Features Data"
   ]
  },
  {
   "cell_type": "code",
   "execution_count": 55,
   "metadata": {},
   "outputs": [
    {
     "name": "stdout",
     "output_type": "stream",
     "text": [
      "features_train dimensions (212535, 10)\n",
      "\n",
      "features_test dimensions (70845, 10)\n",
      "\n",
      "features_validation dimensions (70845, 10)\n",
      "\n",
      "target_train dimensions (212535,)\n",
      "\n",
      "target_test dimensions (70845,)\n",
      "\n",
      "target_validation dimensions (70845,)\n"
     ]
    }
   ],
   "source": [
    "#creating features and target\n",
    "x_rf_s = data_ordinal_scaled.drop('price', axis=1)\n",
    "y_rf_s = data_ordinal_scaled['price']\n",
    "\n",
    "x_train_rf_s, x_remaining_rf_s, y_train_rf_s, y_remaining_rf_s =  train_test_split(\n",
    "    x_rf_s, y_rf_s , test_size=0.4, random_state = 12345)\n",
    "\n",
    "x_valid_rf_s, x_test_rf_s, y_valid_rf_s, y_test_rf_s =  train_test_split(\n",
    "    x_remaining_rf_s, y_remaining_rf_s , test_size=0.5, random_state = 12345)\n",
    "\n",
    "print('features_train dimensions', x_train_rf_s.shape)\n",
    "print()\n",
    "print('features_test dimensions', x_test_rf_s.shape)\n",
    "print()\n",
    "print('features_validation dimensions', x_valid_rf_s.shape)\n",
    "print()\n",
    "print('target_train dimensions', y_train_rf_s.shape)\n",
    "print()\n",
    "print('target_test dimensions', y_test_rf_s.shape)\n",
    "print()\n",
    "print('target_validation dimensions', y_valid_rf_s.shape)"
   ]
  },
  {
   "cell_type": "code",
   "execution_count": 56,
   "metadata": {},
   "outputs": [],
   "source": [
    "#defining parameters\n",
    "n_estimators_s = list(np.arange(25,35,1))\n",
    "max_features_s = ['auto', 'sqrt']\n",
    "max_depth_s = list(np.arange(20,28,1))\n",
    "min_samples_split_s = list(np.arange(1,7,1))\n",
    "min_samples_leaf_s = list(np.arange(1,9,1))\n",
    "bootstrap_s = [False, True]\n",
    "\n",
    "params_grid_s = {'n_estimators' : n_estimators_s,\n",
    "              'max_features' : max_features_s,\n",
    "              'max_depth' : max_depth_s, \n",
    "              'min_samples_split' : min_samples_split_s,\n",
    "              'min_samples_leaf' : min_samples_leaf_s,\n",
    "              'bootstrap' : bootstrap_s}"
   ]
  },
  {
   "cell_type": "code",
   "execution_count": 57,
   "metadata": {
    "scrolled": true
   },
   "outputs": [
    {
     "name": "stdout",
     "output_type": "stream",
     "text": [
      "Fitting 5 folds for each of 10 candidates, totalling 50 fits\n",
      "[CV] END bootstrap=True, max_depth=20, max_features=sqrt, min_samples_leaf=3, min_samples_split=1, n_estimators=28; total time=   0.0s\n",
      "[CV] END bootstrap=True, max_depth=20, max_features=sqrt, min_samples_leaf=3, min_samples_split=1, n_estimators=28; total time=   0.0s\n",
      "[CV] END bootstrap=True, max_depth=20, max_features=sqrt, min_samples_leaf=3, min_samples_split=1, n_estimators=28; total time=   0.0s\n",
      "[CV] END bootstrap=True, max_depth=20, max_features=sqrt, min_samples_leaf=3, min_samples_split=1, n_estimators=28; total time=   0.0s\n",
      "[CV] END bootstrap=True, max_depth=20, max_features=sqrt, min_samples_leaf=3, min_samples_split=1, n_estimators=28; total time=   0.0s\n",
      "[CV] END bootstrap=True, max_depth=22, max_features=sqrt, min_samples_leaf=6, min_samples_split=3, n_estimators=28; total time=   3.3s\n",
      "[CV] END bootstrap=True, max_depth=22, max_features=sqrt, min_samples_leaf=6, min_samples_split=3, n_estimators=28; total time=   3.2s\n",
      "[CV] END bootstrap=True, max_depth=22, max_features=sqrt, min_samples_leaf=6, min_samples_split=3, n_estimators=28; total time=   3.2s\n",
      "[CV] END bootstrap=True, max_depth=22, max_features=sqrt, min_samples_leaf=6, min_samples_split=3, n_estimators=28; total time=   3.3s\n",
      "[CV] END bootstrap=True, max_depth=22, max_features=sqrt, min_samples_leaf=6, min_samples_split=3, n_estimators=28; total time=   3.2s\n",
      "[CV] END bootstrap=False, max_depth=22, max_features=auto, min_samples_leaf=3, min_samples_split=5, n_estimators=34; total time=  18.0s\n",
      "[CV] END bootstrap=False, max_depth=22, max_features=auto, min_samples_leaf=3, min_samples_split=5, n_estimators=34; total time=  17.7s\n",
      "[CV] END bootstrap=False, max_depth=22, max_features=auto, min_samples_leaf=3, min_samples_split=5, n_estimators=34; total time=  17.7s\n",
      "[CV] END bootstrap=False, max_depth=22, max_features=auto, min_samples_leaf=3, min_samples_split=5, n_estimators=34; total time=  17.7s\n",
      "[CV] END bootstrap=False, max_depth=22, max_features=auto, min_samples_leaf=3, min_samples_split=5, n_estimators=34; total time=  17.7s\n",
      "[CV] END bootstrap=False, max_depth=25, max_features=sqrt, min_samples_leaf=7, min_samples_split=3, n_estimators=33; total time=   5.5s\n",
      "[CV] END bootstrap=False, max_depth=25, max_features=sqrt, min_samples_leaf=7, min_samples_split=3, n_estimators=33; total time=   5.7s\n",
      "[CV] END bootstrap=False, max_depth=25, max_features=sqrt, min_samples_leaf=7, min_samples_split=3, n_estimators=33; total time=   5.6s\n",
      "[CV] END bootstrap=False, max_depth=25, max_features=sqrt, min_samples_leaf=7, min_samples_split=3, n_estimators=33; total time=   5.6s\n",
      "[CV] END bootstrap=False, max_depth=25, max_features=sqrt, min_samples_leaf=7, min_samples_split=3, n_estimators=33; total time=   5.7s\n",
      "[CV] END bootstrap=False, max_depth=26, max_features=sqrt, min_samples_leaf=6, min_samples_split=2, n_estimators=30; total time=   5.3s\n",
      "[CV] END bootstrap=False, max_depth=26, max_features=sqrt, min_samples_leaf=6, min_samples_split=2, n_estimators=30; total time=   5.3s\n",
      "[CV] END bootstrap=False, max_depth=26, max_features=sqrt, min_samples_leaf=6, min_samples_split=2, n_estimators=30; total time=   5.4s\n",
      "[CV] END bootstrap=False, max_depth=26, max_features=sqrt, min_samples_leaf=6, min_samples_split=2, n_estimators=30; total time=   5.3s\n",
      "[CV] END bootstrap=False, max_depth=26, max_features=sqrt, min_samples_leaf=6, min_samples_split=2, n_estimators=30; total time=   5.3s\n",
      "[CV] END bootstrap=False, max_depth=23, max_features=sqrt, min_samples_leaf=4, min_samples_split=3, n_estimators=26; total time=   4.8s\n",
      "[CV] END bootstrap=False, max_depth=23, max_features=sqrt, min_samples_leaf=4, min_samples_split=3, n_estimators=26; total time=   4.7s\n",
      "[CV] END bootstrap=False, max_depth=23, max_features=sqrt, min_samples_leaf=4, min_samples_split=3, n_estimators=26; total time=   4.8s\n",
      "[CV] END bootstrap=False, max_depth=23, max_features=sqrt, min_samples_leaf=4, min_samples_split=3, n_estimators=26; total time=   4.8s\n",
      "[CV] END bootstrap=False, max_depth=23, max_features=sqrt, min_samples_leaf=4, min_samples_split=3, n_estimators=26; total time=   4.8s\n",
      "[CV] END bootstrap=False, max_depth=22, max_features=sqrt, min_samples_leaf=5, min_samples_split=2, n_estimators=26; total time=   4.5s\n",
      "[CV] END bootstrap=False, max_depth=22, max_features=sqrt, min_samples_leaf=5, min_samples_split=2, n_estimators=26; total time=   4.5s\n",
      "[CV] END bootstrap=False, max_depth=22, max_features=sqrt, min_samples_leaf=5, min_samples_split=2, n_estimators=26; total time=   4.6s\n",
      "[CV] END bootstrap=False, max_depth=22, max_features=sqrt, min_samples_leaf=5, min_samples_split=2, n_estimators=26; total time=   4.5s\n",
      "[CV] END bootstrap=False, max_depth=22, max_features=sqrt, min_samples_leaf=5, min_samples_split=2, n_estimators=26; total time=   4.5s\n",
      "[CV] END bootstrap=True, max_depth=26, max_features=sqrt, min_samples_leaf=6, min_samples_split=3, n_estimators=33; total time=   3.8s\n",
      "[CV] END bootstrap=True, max_depth=26, max_features=sqrt, min_samples_leaf=6, min_samples_split=3, n_estimators=33; total time=   3.9s\n",
      "[CV] END bootstrap=True, max_depth=26, max_features=sqrt, min_samples_leaf=6, min_samples_split=3, n_estimators=33; total time=   3.9s\n",
      "[CV] END bootstrap=True, max_depth=26, max_features=sqrt, min_samples_leaf=6, min_samples_split=3, n_estimators=33; total time=   3.9s\n",
      "[CV] END bootstrap=True, max_depth=26, max_features=sqrt, min_samples_leaf=6, min_samples_split=3, n_estimators=33; total time=   3.9s\n",
      "[CV] END bootstrap=True, max_depth=25, max_features=sqrt, min_samples_leaf=2, min_samples_split=4, n_estimators=25; total time=   3.5s\n",
      "[CV] END bootstrap=True, max_depth=25, max_features=sqrt, min_samples_leaf=2, min_samples_split=4, n_estimators=25; total time=   3.5s\n",
      "[CV] END bootstrap=True, max_depth=25, max_features=sqrt, min_samples_leaf=2, min_samples_split=4, n_estimators=25; total time=   3.5s\n",
      "[CV] END bootstrap=True, max_depth=25, max_features=sqrt, min_samples_leaf=2, min_samples_split=4, n_estimators=25; total time=   3.9s\n",
      "[CV] END bootstrap=True, max_depth=25, max_features=sqrt, min_samples_leaf=2, min_samples_split=4, n_estimators=25; total time=   3.5s\n",
      "[CV] END bootstrap=True, max_depth=20, max_features=auto, min_samples_leaf=5, min_samples_split=1, n_estimators=33; total time=   0.0s\n",
      "[CV] END bootstrap=True, max_depth=20, max_features=auto, min_samples_leaf=5, min_samples_split=1, n_estimators=33; total time=   0.0s\n",
      "[CV] END bootstrap=True, max_depth=20, max_features=auto, min_samples_leaf=5, min_samples_split=1, n_estimators=33; total time=   0.0s\n",
      "[CV] END bootstrap=True, max_depth=20, max_features=auto, min_samples_leaf=5, min_samples_split=1, n_estimators=33; total time=   0.0s\n",
      "[CV] END bootstrap=True, max_depth=20, max_features=auto, min_samples_leaf=5, min_samples_split=1, n_estimators=33; total time=   0.0s\n"
     ]
    },
    {
     "name": "stderr",
     "output_type": "stream",
     "text": [
      "/opt/conda/lib/python3.9/site-packages/sklearn/model_selection/_search.py:918: UserWarning: One or more of the test scores are non-finite: [           nan -1823.55778124 -2121.78314235 -1796.88555148\n",
      " -1788.1832479  -1767.36208836 -1781.11891504 -1823.60273133\n",
      " -1772.65868474            nan]\n",
      "  warnings.warn(\n",
      "/opt/conda/lib/python3.9/site-packages/sklearn/model_selection/_search.py:918: UserWarning: One or more of the train scores are non-finite: [           nan -1583.61635944 -1205.6795901  -1478.45013267\n",
      " -1429.22083242 -1283.37149921 -1372.38131432 -1581.51367641\n",
      " -1213.90247964            nan]\n",
      "  warnings.warn(\n"
     ]
    },
    {
     "data": {
      "text/plain": [
       "RandomizedSearchCV(cv=5, estimator=RandomForestRegressor(random_state=12345),\n",
       "                   param_distributions={'bootstrap': [False, True],\n",
       "                                        'max_depth': [20, 21, 22, 23, 24, 25,\n",
       "                                                      26, 27],\n",
       "                                        'max_features': ['auto', 'sqrt'],\n",
       "                                        'min_samples_leaf': [1, 2, 3, 4, 5, 6,\n",
       "                                                             7, 8],\n",
       "                                        'min_samples_split': [1, 2, 3, 4, 5, 6],\n",
       "                                        'n_estimators': [25, 26, 27, 28, 29, 30,\n",
       "                                                         31, 32, 33, 34]},\n",
       "                   return_train_score=True,\n",
       "                   scoring='neg_root_mean_squared_error', verbose=2)"
      ]
     },
     "execution_count": 57,
     "metadata": {},
     "output_type": "execute_result"
    }
   ],
   "source": [
    "rf_model_s = RandomForestRegressor(random_state=12345)\n",
    "rf_random_s = RandomizedSearchCV(estimator = rf_model_s, \n",
    "                       param_distributions = params_grid_s,\n",
    "                       cv = 5, \n",
    "                       scoring= rmse_scorer,\n",
    "                       verbose = 2, \n",
    "                       return_train_score=True)\n",
    "rf_random_s.fit(x_train_rf_s, y_train_rf_s)"
   ]
  },
  {
   "cell_type": "code",
   "execution_count": 58,
   "metadata": {},
   "outputs": [
    {
     "name": "stdout",
     "output_type": "stream",
     "text": [
      "{'n_estimators': 26, 'min_samples_split': 3, 'min_samples_leaf': 4, 'max_features': 'sqrt', 'max_depth': 23, 'bootstrap': False}\n"
     ]
    }
   ],
   "source": [
    "print(rf_random_s.best_params_)\n",
    "rf_n_estimators_s = rf_random_s.best_params_['n_estimators']\n",
    "rf_min_samples_split_s =  rf_random_s.best_params_['min_samples_split']\n",
    "rf_min_samples_leaf_s = rf_random_s.best_params_['min_samples_leaf']\n",
    "rf_max_features_s = rf_random_s.best_params_['max_features']\n",
    "rf_max_depth_s= rf_random_s.best_params_['max_depth']\n",
    "rf_bootstrap_s = rf_random.best_params_['bootstrap']"
   ]
  },
  {
   "cell_type": "code",
   "execution_count": 59,
   "metadata": {},
   "outputs": [],
   "source": [
    "rf_model_best_params_s = RandomForestRegressor(n_estimators = rf_n_estimators_s , \n",
    "                                             min_samples_split = rf_min_samples_split_s , \n",
    "                                             min_samples_leaf = rf_min_samples_leaf_s , \n",
    "                                             max_features = rf_max_features_s, \n",
    "                                             max_depth = rf_max_depth_s, \n",
    "                                             bootstrap = rf_bootstrap_s, \n",
    "                                            random_state = 12345)\n"
   ]
  },
  {
   "cell_type": "code",
   "execution_count": 60,
   "metadata": {},
   "outputs": [
    {
     "name": "stdout",
     "output_type": "stream",
     "text": [
      "CPU times: user 5.79 s, sys: 52 ms, total: 5.84 s\n",
      "Wall time: 5.89 s\n"
     ]
    },
    {
     "data": {
      "text/plain": [
       "RandomForestRegressor(bootstrap=False, max_depth=23, max_features='sqrt',\n",
       "                      min_samples_leaf=4, min_samples_split=3, n_estimators=26,\n",
       "                      random_state=12345)"
      ]
     },
     "execution_count": 60,
     "metadata": {},
     "output_type": "execute_result"
    }
   ],
   "source": [
    "%%time\n",
    "rf_model_best_params_s.fit(x_train_rf_s, y_train_rf_s)\n"
   ]
  },
  {
   "cell_type": "code",
   "execution_count": 61,
   "metadata": {},
   "outputs": [
    {
     "name": "stdout",
     "output_type": "stream",
     "text": [
      "CPU times: user 403 ms, sys: 0 ns, total: 403 ms\n",
      "Wall time: 412 ms\n"
     ]
    }
   ],
   "source": [
    "%%time\n",
    "y_predict_rf_s_valid = rf_model_best_params_s.predict(x_valid_rf_s)\n"
   ]
  },
  {
   "cell_type": "code",
   "execution_count": 62,
   "metadata": {},
   "outputs": [
    {
     "name": "stdout",
     "output_type": "stream",
     "text": [
      "RMSE for model :  1760.8724869436403\n"
     ]
    }
   ],
   "source": [
    "RMSE_rf_s = mean_squared_error(y_valid_rf_s, y_predict_rf_s_valid)**0.5\n",
    "print ('RMSE for model : ', RMSE_rf_s)"
   ]
  },
  {
   "cell_type": "markdown",
   "metadata": {},
   "source": [
    "### DecisionTreeRegressor Model, Non-scaled Features Data"
   ]
  },
  {
   "cell_type": "code",
   "execution_count": 63,
   "metadata": {
    "scrolled": true
   },
   "outputs": [
    {
     "name": "stdout",
     "output_type": "stream",
     "text": [
      "features_train dimensions (212535, 10)\n",
      "\n",
      "features_test dimensions (70845, 10)\n",
      "\n",
      "features_validation dimensions (70845, 10)\n",
      "\n",
      "target_train dimensions (212535,)\n",
      "\n",
      "target_test dimensions (70845,)\n",
      "\n",
      "target_validation dimensions (70845,)\n"
     ]
    }
   ],
   "source": [
    "#creating features and target\n",
    "x_dt = data_ordinal.drop('price', axis=1)\n",
    "y_dt = data_ordinal['price']\n",
    "\n",
    "x_train_dt, x_remaining_dt, y_train_dt, y_remaining_dt = train_test_split(\n",
    "    x_dt, y_dt , test_size=0.4, random_state = 12345)\n",
    "\n",
    "x_valid_dt, x_test_dt, y_valid_dt, y_test_dt = train_test_split(\n",
    "    x_remaining_dt, y_remaining_dt , test_size=0.5, random_state = 12345)\n",
    "\n",
    "print('features_train dimensions', x_train_dt.shape)\n",
    "print()\n",
    "print('features_test dimensions', x_test_dt.shape)\n",
    "print()\n",
    "print('features_validation dimensions', x_valid_dt.shape)\n",
    "print()\n",
    "print('target_train dimensions', y_train_dt.shape)\n",
    "print()\n",
    "print('target_test dimensions', y_test_dt.shape)\n",
    "print()\n",
    "print('target_validation dimensions', y_valid_dt.shape)"
   ]
  },
  {
   "cell_type": "code",
   "execution_count": 64,
   "metadata": {},
   "outputs": [],
   "source": [
    "#defining parameters\n",
    "\n",
    "max_features_dt = ['auto', 'sqrt', 'log2']\n",
    "max_depth_dt = list(np.arange(1,50,1))\n",
    "max_depth_dt.append('None')\n",
    "min_samples_split_dt = list(np.arange(1,50,2))\n",
    "min_samples_leaf_dt = list(np.arange(1,50,2))\n",
    "splitter_dt = ['best', 'random']\n",
    "\n",
    "params_grid_dt = { 'max_features' : max_features_dt,\n",
    "              'max_depth' : max_depth_dt, \n",
    "              'min_samples_split' : min_samples_split_dt,\n",
    "              'min_samples_leaf' : min_samples_leaf_dt,\n",
    "              'splitter' : splitter_dt }"
   ]
  },
  {
   "cell_type": "code",
   "execution_count": 65,
   "metadata": {
    "scrolled": true
   },
   "outputs": [
    {
     "name": "stdout",
     "output_type": "stream",
     "text": [
      "Fitting 5 folds for each of 10 candidates, totalling 50 fits\n",
      "[CV] END max_depth=1, max_features=auto, min_samples_leaf=29, min_samples_split=15, splitter=best; total time=   0.1s\n",
      "[CV] END max_depth=1, max_features=auto, min_samples_leaf=29, min_samples_split=15, splitter=best; total time=   0.1s\n",
      "[CV] END max_depth=1, max_features=auto, min_samples_leaf=29, min_samples_split=15, splitter=best; total time=   0.1s\n",
      "[CV] END max_depth=1, max_features=auto, min_samples_leaf=29, min_samples_split=15, splitter=best; total time=   0.1s\n",
      "[CV] END max_depth=1, max_features=auto, min_samples_leaf=29, min_samples_split=15, splitter=best; total time=   0.0s\n",
      "[CV] END max_depth=None, max_features=log2, min_samples_leaf=31, min_samples_split=49, splitter=random; total time=   0.0s\n",
      "[CV] END max_depth=None, max_features=log2, min_samples_leaf=31, min_samples_split=49, splitter=random; total time=   0.0s\n",
      "[CV] END max_depth=None, max_features=log2, min_samples_leaf=31, min_samples_split=49, splitter=random; total time=   0.0s\n",
      "[CV] END max_depth=None, max_features=log2, min_samples_leaf=31, min_samples_split=49, splitter=random; total time=   0.0s\n",
      "[CV] END max_depth=None, max_features=log2, min_samples_leaf=31, min_samples_split=49, splitter=random; total time=   0.0s\n",
      "[CV] END max_depth=27, max_features=log2, min_samples_leaf=29, min_samples_split=31, splitter=best; total time=   0.2s\n",
      "[CV] END max_depth=27, max_features=log2, min_samples_leaf=29, min_samples_split=31, splitter=best; total time=   0.2s\n",
      "[CV] END max_depth=27, max_features=log2, min_samples_leaf=29, min_samples_split=31, splitter=best; total time=   0.2s\n",
      "[CV] END max_depth=27, max_features=log2, min_samples_leaf=29, min_samples_split=31, splitter=best; total time=   0.2s\n",
      "[CV] END max_depth=27, max_features=log2, min_samples_leaf=29, min_samples_split=31, splitter=best; total time=   0.2s\n",
      "[CV] END max_depth=3, max_features=sqrt, min_samples_leaf=45, min_samples_split=49, splitter=random; total time=   0.0s\n",
      "[CV] END max_depth=3, max_features=sqrt, min_samples_leaf=45, min_samples_split=49, splitter=random; total time=   0.0s\n",
      "[CV] END max_depth=3, max_features=sqrt, min_samples_leaf=45, min_samples_split=49, splitter=random; total time=   0.0s\n",
      "[CV] END max_depth=3, max_features=sqrt, min_samples_leaf=45, min_samples_split=49, splitter=random; total time=   0.0s\n",
      "[CV] END max_depth=3, max_features=sqrt, min_samples_leaf=45, min_samples_split=49, splitter=random; total time=   0.0s\n",
      "[CV] END max_depth=18, max_features=auto, min_samples_leaf=47, min_samples_split=41, splitter=best; total time=   0.4s\n",
      "[CV] END max_depth=18, max_features=auto, min_samples_leaf=47, min_samples_split=41, splitter=best; total time=   0.4s\n",
      "[CV] END max_depth=18, max_features=auto, min_samples_leaf=47, min_samples_split=41, splitter=best; total time=   0.4s\n",
      "[CV] END max_depth=18, max_features=auto, min_samples_leaf=47, min_samples_split=41, splitter=best; total time=   0.4s\n",
      "[CV] END max_depth=18, max_features=auto, min_samples_leaf=47, min_samples_split=41, splitter=best; total time=   0.4s\n",
      "[CV] END max_depth=15, max_features=sqrt, min_samples_leaf=19, min_samples_split=45, splitter=random; total time=   0.1s\n",
      "[CV] END max_depth=15, max_features=sqrt, min_samples_leaf=19, min_samples_split=45, splitter=random; total time=   0.1s\n",
      "[CV] END max_depth=15, max_features=sqrt, min_samples_leaf=19, min_samples_split=45, splitter=random; total time=   0.1s\n",
      "[CV] END max_depth=15, max_features=sqrt, min_samples_leaf=19, min_samples_split=45, splitter=random; total time=   0.1s\n",
      "[CV] END max_depth=15, max_features=sqrt, min_samples_leaf=19, min_samples_split=45, splitter=random; total time=   0.1s\n",
      "[CV] END max_depth=16, max_features=auto, min_samples_leaf=13, min_samples_split=5, splitter=random; total time=   0.2s\n",
      "[CV] END max_depth=16, max_features=auto, min_samples_leaf=13, min_samples_split=5, splitter=random; total time=   0.2s\n",
      "[CV] END max_depth=16, max_features=auto, min_samples_leaf=13, min_samples_split=5, splitter=random; total time=   0.2s\n",
      "[CV] END max_depth=16, max_features=auto, min_samples_leaf=13, min_samples_split=5, splitter=random; total time=   0.2s\n",
      "[CV] END max_depth=16, max_features=auto, min_samples_leaf=13, min_samples_split=5, splitter=random; total time=   0.2s\n",
      "[CV] END max_depth=15, max_features=sqrt, min_samples_leaf=45, min_samples_split=17, splitter=best; total time=   0.1s\n",
      "[CV] END max_depth=15, max_features=sqrt, min_samples_leaf=45, min_samples_split=17, splitter=best; total time=   0.2s\n",
      "[CV] END max_depth=15, max_features=sqrt, min_samples_leaf=45, min_samples_split=17, splitter=best; total time=   0.1s\n",
      "[CV] END max_depth=15, max_features=sqrt, min_samples_leaf=45, min_samples_split=17, splitter=best; total time=   0.1s\n",
      "[CV] END max_depth=15, max_features=sqrt, min_samples_leaf=45, min_samples_split=17, splitter=best; total time=   0.1s\n",
      "[CV] END max_depth=35, max_features=log2, min_samples_leaf=27, min_samples_split=21, splitter=random; total time=   0.1s\n",
      "[CV] END max_depth=35, max_features=log2, min_samples_leaf=27, min_samples_split=21, splitter=random; total time=   0.1s\n",
      "[CV] END max_depth=35, max_features=log2, min_samples_leaf=27, min_samples_split=21, splitter=random; total time=   0.1s\n",
      "[CV] END max_depth=35, max_features=log2, min_samples_leaf=27, min_samples_split=21, splitter=random; total time=   0.1s\n",
      "[CV] END max_depth=35, max_features=log2, min_samples_leaf=27, min_samples_split=21, splitter=random; total time=   0.1s\n",
      "[CV] END max_depth=18, max_features=log2, min_samples_leaf=41, min_samples_split=9, splitter=random; total time=   0.1s\n",
      "[CV] END max_depth=18, max_features=log2, min_samples_leaf=41, min_samples_split=9, splitter=random; total time=   0.1s\n",
      "[CV] END max_depth=18, max_features=log2, min_samples_leaf=41, min_samples_split=9, splitter=random; total time=   0.1s\n",
      "[CV] END max_depth=18, max_features=log2, min_samples_leaf=41, min_samples_split=9, splitter=random; total time=   0.1s\n",
      "[CV] END max_depth=18, max_features=log2, min_samples_leaf=41, min_samples_split=9, splitter=random; total time=   0.1s\n"
     ]
    },
    {
     "name": "stderr",
     "output_type": "stream",
     "text": [
      "/opt/conda/lib/python3.9/site-packages/sklearn/model_selection/_search.py:918: UserWarning: One or more of the test scores are non-finite: [-3792.54554053            nan -2182.83215465 -4124.89644925\n",
      " -2049.62748817 -3001.03720379 -2281.8223626  -2214.7076863\n",
      " -2883.28890655 -3051.91151368]\n",
      "  warnings.warn(\n",
      "/opt/conda/lib/python3.9/site-packages/sklearn/model_selection/_search.py:918: UserWarning: One or more of the train scores are non-finite: [-3792.52193518            nan -2069.99212254 -4124.53129874\n",
      " -1950.25395386 -2958.12540216 -2140.51759712 -2140.23631998\n",
      " -2844.69707202 -3017.33969892]\n",
      "  warnings.warn(\n"
     ]
    },
    {
     "data": {
      "text/plain": [
       "RandomizedSearchCV(cv=5, estimator=DecisionTreeRegressor(random_state=12345),\n",
       "                   param_distributions={'max_depth': [1, 2, 3, 4, 5, 6, 7, 8, 9,\n",
       "                                                      10, 11, 12, 13, 14, 15,\n",
       "                                                      16, 17, 18, 19, 20, 21,\n",
       "                                                      22, 23, 24, 25, 26, 27,\n",
       "                                                      28, 29, 30, ...],\n",
       "                                        'max_features': ['auto', 'sqrt',\n",
       "                                                         'log2'],\n",
       "                                        'min_samples_leaf': [1, 3, 5, 7, 9, 11,\n",
       "                                                             13, 15, 17, 19, 21,\n",
       "                                                             23, 25, 27, 29, 31,\n",
       "                                                             33, 35, 37, 39, 41,\n",
       "                                                             43, 45, 47, 49],\n",
       "                                        'min_samples_split': [1, 3, 5, 7, 9, 11,\n",
       "                                                              13, 15, 17, 19,\n",
       "                                                              21, 23, 25, 27,\n",
       "                                                              29, 31, 33, 35,\n",
       "                                                              37, 39, 41, 43,\n",
       "                                                              45, 47, 49],\n",
       "                                        'splitter': ['best', 'random']},\n",
       "                   return_train_score=True,\n",
       "                   scoring='neg_root_mean_squared_error', verbose=2)"
      ]
     },
     "execution_count": 65,
     "metadata": {},
     "output_type": "execute_result"
    }
   ],
   "source": [
    "dt_model = DecisionTreeRegressor(random_state=12345)\n",
    "dt_random = RandomizedSearchCV(estimator = dt_model, \n",
    "                       param_distributions = params_grid_dt,\n",
    "                       cv = 5, \n",
    "                       scoring= rmse_scorer,\n",
    "                       verbose = 2, \n",
    "                       return_train_score=True)\n",
    "dt_random.fit(x_train_dt, y_train_dt)"
   ]
  },
  {
   "cell_type": "code",
   "execution_count": 66,
   "metadata": {},
   "outputs": [
    {
     "name": "stdout",
     "output_type": "stream",
     "text": [
      "{'splitter': 'best', 'min_samples_split': 41, 'min_samples_leaf': 47, 'max_features': 'auto', 'max_depth': 18}\n"
     ]
    }
   ],
   "source": [
    "print(dt_random.best_params_)\n",
    "\n",
    "dt_min_samples_split =  dt_random.best_params_['min_samples_split']\n",
    "dt_min_samples_leaf = dt_random.best_params_['min_samples_leaf']\n",
    "dt_max_features = dt_random.best_params_['max_features']\n",
    "dt_max_depth= dt_random.best_params_['max_depth']\n",
    "dt_splitter = dt_random.best_params_['splitter']"
   ]
  },
  {
   "cell_type": "code",
   "execution_count": 67,
   "metadata": {},
   "outputs": [],
   "source": [
    "dt_model_best_params = DecisionTreeRegressor(min_samples_split = dt_min_samples_split , \n",
    "                                             min_samples_leaf = dt_min_samples_leaf , \n",
    "                                             max_features = dt_max_features, \n",
    "                                             max_depth = dt_max_depth, \n",
    "                                             random_state = 12345)\n"
   ]
  },
  {
   "cell_type": "code",
   "execution_count": 68,
   "metadata": {},
   "outputs": [
    {
     "name": "stdout",
     "output_type": "stream",
     "text": [
      "CPU times: user 525 ms, sys: 0 ns, total: 525 ms\n",
      "Wall time: 530 ms\n"
     ]
    },
    {
     "data": {
      "text/plain": [
       "DecisionTreeRegressor(max_depth=18, max_features='auto', min_samples_leaf=47,\n",
       "                      min_samples_split=41, random_state=12345)"
      ]
     },
     "execution_count": 68,
     "metadata": {},
     "output_type": "execute_result"
    }
   ],
   "source": [
    "%%time\n",
    "dt_model_best_params.fit(x_train_dt, y_train_dt)\n"
   ]
  },
  {
   "cell_type": "code",
   "execution_count": 69,
   "metadata": {},
   "outputs": [
    {
     "name": "stdout",
     "output_type": "stream",
     "text": [
      "CPU times: user 3 µs, sys: 0 ns, total: 3 µs\n",
      "Wall time: 5.01 µs\n"
     ]
    }
   ],
   "source": [
    "%time\n",
    "y_predict_dt_valid = dt_model_best_params.predict(x_valid_dt)\n"
   ]
  },
  {
   "cell_type": "code",
   "execution_count": 70,
   "metadata": {},
   "outputs": [
    {
     "name": "stdout",
     "output_type": "stream",
     "text": [
      "RMSE for model :  2045.842144402617\n"
     ]
    }
   ],
   "source": [
    "RMSE_dt_ns = mean_squared_error(y_valid_dt, y_predict_dt_valid)**0.5\n",
    "print ('RMSE for model : ', RMSE_dt_ns)"
   ]
  },
  {
   "cell_type": "markdown",
   "metadata": {},
   "source": [
    "### DecisionTreeRegressor Model, scaled Features Data"
   ]
  },
  {
   "cell_type": "code",
   "execution_count": 71,
   "metadata": {},
   "outputs": [
    {
     "name": "stdout",
     "output_type": "stream",
     "text": [
      "features_train dimensions (212535, 10)\n",
      "\n",
      "features_test dimensions (70845, 10)\n",
      "\n",
      "features_validation dimensions (70845, 10)\n",
      "\n",
      "target_train dimensions (212535,)\n",
      "\n",
      "target_test dimensions (70845,)\n",
      "\n",
      "target_valid dimensions (70845,)\n"
     ]
    }
   ],
   "source": [
    "#creating features and target\n",
    "x_dt_s = data_ordinal_scaled.drop('price', axis=1)\n",
    "y_dt_s = data_ordinal_scaled['price']\n",
    "\n",
    "x_train_dts, x_remaining_dts, y_train_dts, y_remaining_dts =  train_test_split(\n",
    "    x_dt_s, y_dt_s , test_size=0.4, random_state = 12345)\n",
    "\n",
    "x_valid_dts, x_test_dts, y_valid_dts, y_test_dts =  train_test_split(\n",
    "    x_remaining_dts, y_remaining_dts , test_size=0.5, random_state = 12345)\n",
    "\n",
    "print('features_train dimensions', x_train_dts.shape)\n",
    "print()\n",
    "print('features_test dimensions', x_test_dts.shape)\n",
    "print()\n",
    "print('features_validation dimensions', x_valid_dts.shape)\n",
    "print()\n",
    "print('target_train dimensions', y_train_dts.shape)\n",
    "print()\n",
    "print('target_test dimensions', y_test_dts.shape)\n",
    "print()\n",
    "print('target_valid dimensions', y_valid_dts.shape)"
   ]
  },
  {
   "cell_type": "code",
   "execution_count": 72,
   "metadata": {},
   "outputs": [],
   "source": [
    "#defining parameters\n",
    "\n",
    "max_features_dts = ['auto', 'sqrt', 'log2']\n",
    "max_depth_dts = list(np.arange(1,50,1))\n",
    "max_depth_dts.append('None')\n",
    "min_samples_split_dts = list(np.arange(1,50,2))\n",
    "min_samples_leaf_dts = list(np.arange(1,50,2))\n",
    "splitter_dts = ['best', 'random']\n",
    "\n",
    "params_grid_dts = { 'max_features' : max_features_dts,\n",
    "              'max_depth' : max_depth_dts, \n",
    "              'min_samples_split' : min_samples_split_dts,\n",
    "              'min_samples_leaf' : min_samples_leaf_dts,\n",
    "              'splitter' : splitter_dts }"
   ]
  },
  {
   "cell_type": "code",
   "execution_count": 73,
   "metadata": {
    "scrolled": true
   },
   "outputs": [
    {
     "name": "stdout",
     "output_type": "stream",
     "text": [
      "Fitting 5 folds for each of 10 candidates, totalling 50 fits\n",
      "[CV] END max_depth=45, max_features=auto, min_samples_leaf=21, min_samples_split=45, splitter=random; total time=   0.2s\n",
      "[CV] END max_depth=45, max_features=auto, min_samples_leaf=21, min_samples_split=45, splitter=random; total time=   0.2s\n",
      "[CV] END max_depth=45, max_features=auto, min_samples_leaf=21, min_samples_split=45, splitter=random; total time=   0.2s\n",
      "[CV] END max_depth=45, max_features=auto, min_samples_leaf=21, min_samples_split=45, splitter=random; total time=   0.2s\n",
      "[CV] END max_depth=45, max_features=auto, min_samples_leaf=21, min_samples_split=45, splitter=random; total time=   0.2s\n",
      "[CV] END max_depth=5, max_features=sqrt, min_samples_leaf=45, min_samples_split=43, splitter=best; total time=   0.1s\n",
      "[CV] END max_depth=5, max_features=sqrt, min_samples_leaf=45, min_samples_split=43, splitter=best; total time=   0.1s\n",
      "[CV] END max_depth=5, max_features=sqrt, min_samples_leaf=45, min_samples_split=43, splitter=best; total time=   0.1s\n",
      "[CV] END max_depth=5, max_features=sqrt, min_samples_leaf=45, min_samples_split=43, splitter=best; total time=   0.1s\n",
      "[CV] END max_depth=5, max_features=sqrt, min_samples_leaf=45, min_samples_split=43, splitter=best; total time=   0.1s\n",
      "[CV] END max_depth=49, max_features=log2, min_samples_leaf=7, min_samples_split=45, splitter=random; total time=   0.1s\n",
      "[CV] END max_depth=49, max_features=log2, min_samples_leaf=7, min_samples_split=45, splitter=random; total time=   0.1s\n",
      "[CV] END max_depth=49, max_features=log2, min_samples_leaf=7, min_samples_split=45, splitter=random; total time=   0.1s\n",
      "[CV] END max_depth=49, max_features=log2, min_samples_leaf=7, min_samples_split=45, splitter=random; total time=   0.1s\n",
      "[CV] END max_depth=49, max_features=log2, min_samples_leaf=7, min_samples_split=45, splitter=random; total time=   0.1s\n",
      "[CV] END max_depth=4, max_features=auto, min_samples_leaf=29, min_samples_split=37, splitter=random; total time=   0.1s\n",
      "[CV] END max_depth=4, max_features=auto, min_samples_leaf=29, min_samples_split=37, splitter=random; total time=   0.1s\n",
      "[CV] END max_depth=4, max_features=auto, min_samples_leaf=29, min_samples_split=37, splitter=random; total time=   0.1s\n",
      "[CV] END max_depth=4, max_features=auto, min_samples_leaf=29, min_samples_split=37, splitter=random; total time=   0.1s\n",
      "[CV] END max_depth=4, max_features=auto, min_samples_leaf=29, min_samples_split=37, splitter=random; total time=   0.1s\n",
      "[CV] END max_depth=31, max_features=auto, min_samples_leaf=5, min_samples_split=23, splitter=best; total time=   0.5s\n",
      "[CV] END max_depth=31, max_features=auto, min_samples_leaf=5, min_samples_split=23, splitter=best; total time=   0.5s\n",
      "[CV] END max_depth=31, max_features=auto, min_samples_leaf=5, min_samples_split=23, splitter=best; total time=   0.5s\n",
      "[CV] END max_depth=31, max_features=auto, min_samples_leaf=5, min_samples_split=23, splitter=best; total time=   0.5s\n",
      "[CV] END max_depth=31, max_features=auto, min_samples_leaf=5, min_samples_split=23, splitter=best; total time=   0.5s\n",
      "[CV] END max_depth=20, max_features=log2, min_samples_leaf=13, min_samples_split=27, splitter=best; total time=   0.2s\n",
      "[CV] END max_depth=20, max_features=log2, min_samples_leaf=13, min_samples_split=27, splitter=best; total time=   0.2s\n",
      "[CV] END max_depth=20, max_features=log2, min_samples_leaf=13, min_samples_split=27, splitter=best; total time=   0.2s\n",
      "[CV] END max_depth=20, max_features=log2, min_samples_leaf=13, min_samples_split=27, splitter=best; total time=   0.2s\n",
      "[CV] END max_depth=20, max_features=log2, min_samples_leaf=13, min_samples_split=27, splitter=best; total time=   0.2s\n",
      "[CV] END max_depth=48, max_features=auto, min_samples_leaf=19, min_samples_split=35, splitter=best; total time=   0.4s\n",
      "[CV] END max_depth=48, max_features=auto, min_samples_leaf=19, min_samples_split=35, splitter=best; total time=   0.4s\n",
      "[CV] END max_depth=48, max_features=auto, min_samples_leaf=19, min_samples_split=35, splitter=best; total time=   0.5s\n",
      "[CV] END max_depth=48, max_features=auto, min_samples_leaf=19, min_samples_split=35, splitter=best; total time=   0.4s\n",
      "[CV] END max_depth=48, max_features=auto, min_samples_leaf=19, min_samples_split=35, splitter=best; total time=   0.5s\n",
      "[CV] END max_depth=None, max_features=log2, min_samples_leaf=37, min_samples_split=43, splitter=random; total time=   0.0s\n",
      "[CV] END max_depth=None, max_features=log2, min_samples_leaf=37, min_samples_split=43, splitter=random; total time=   0.0s\n",
      "[CV] END max_depth=None, max_features=log2, min_samples_leaf=37, min_samples_split=43, splitter=random; total time=   0.0s\n",
      "[CV] END max_depth=None, max_features=log2, min_samples_leaf=37, min_samples_split=43, splitter=random; total time=   0.0s\n",
      "[CV] END max_depth=None, max_features=log2, min_samples_leaf=37, min_samples_split=43, splitter=random; total time=   0.0s\n",
      "[CV] END max_depth=5, max_features=log2, min_samples_leaf=37, min_samples_split=41, splitter=random; total time=   0.0s\n",
      "[CV] END max_depth=5, max_features=log2, min_samples_leaf=37, min_samples_split=41, splitter=random; total time=   0.0s\n",
      "[CV] END max_depth=5, max_features=log2, min_samples_leaf=37, min_samples_split=41, splitter=random; total time=   0.0s\n",
      "[CV] END max_depth=5, max_features=log2, min_samples_leaf=37, min_samples_split=41, splitter=random; total time=   0.0s\n",
      "[CV] END max_depth=5, max_features=log2, min_samples_leaf=37, min_samples_split=41, splitter=random; total time=   0.0s\n",
      "[CV] END max_depth=25, max_features=log2, min_samples_leaf=21, min_samples_split=3, splitter=random; total time=   0.1s\n",
      "[CV] END max_depth=25, max_features=log2, min_samples_leaf=21, min_samples_split=3, splitter=random; total time=   0.1s\n",
      "[CV] END max_depth=25, max_features=log2, min_samples_leaf=21, min_samples_split=3, splitter=random; total time=   0.1s\n",
      "[CV] END max_depth=25, max_features=log2, min_samples_leaf=21, min_samples_split=3, splitter=random; total time=   0.1s\n",
      "[CV] END max_depth=25, max_features=log2, min_samples_leaf=21, min_samples_split=3, splitter=random; total time=   0.1s\n"
     ]
    },
    {
     "name": "stderr",
     "output_type": "stream",
     "text": [
      "/opt/conda/lib/python3.9/site-packages/sklearn/model_selection/_search.py:918: UserWarning: One or more of the test scores are non-finite: [-2286.39387811 -2818.4272654  -2764.03746791 -3582.12796584\n",
      " -2005.74335473 -2121.4698635  -2000.24275022            nan\n",
      " -3918.10578986 -2941.89873282]\n",
      "  warnings.warn(\n",
      "/opt/conda/lib/python3.9/site-packages/sklearn/model_selection/_search.py:918: UserWarning: One or more of the train scores are non-finite: [-2171.01191821 -2812.81874054 -2665.65868829 -3577.82960875\n",
      " -1560.82043172 -1910.37307244 -1783.49557898            nan\n",
      " -3911.79594579 -2894.41057001]\n",
      "  warnings.warn(\n"
     ]
    },
    {
     "data": {
      "text/plain": [
       "RandomizedSearchCV(cv=5, estimator=DecisionTreeRegressor(random_state=12345),\n",
       "                   param_distributions={'max_depth': [1, 2, 3, 4, 5, 6, 7, 8, 9,\n",
       "                                                      10, 11, 12, 13, 14, 15,\n",
       "                                                      16, 17, 18, 19, 20, 21,\n",
       "                                                      22, 23, 24, 25, 26, 27,\n",
       "                                                      28, 29, 30, ...],\n",
       "                                        'max_features': ['auto', 'sqrt',\n",
       "                                                         'log2'],\n",
       "                                        'min_samples_leaf': [1, 3, 5, 7, 9, 11,\n",
       "                                                             13, 15, 17, 19, 21,\n",
       "                                                             23, 25, 27, 29, 31,\n",
       "                                                             33, 35, 37, 39, 41,\n",
       "                                                             43, 45, 47, 49],\n",
       "                                        'min_samples_split': [1, 3, 5, 7, 9, 11,\n",
       "                                                              13, 15, 17, 19,\n",
       "                                                              21, 23, 25, 27,\n",
       "                                                              29, 31, 33, 35,\n",
       "                                                              37, 39, 41, 43,\n",
       "                                                              45, 47, 49],\n",
       "                                        'splitter': ['best', 'random']},\n",
       "                   return_train_score=True,\n",
       "                   scoring='neg_root_mean_squared_error', verbose=2)"
      ]
     },
     "execution_count": 73,
     "metadata": {},
     "output_type": "execute_result"
    }
   ],
   "source": [
    "dts_model = DecisionTreeRegressor(random_state=12345)\n",
    "dts_random = RandomizedSearchCV(estimator = dts_model, \n",
    "                       param_distributions = params_grid_dts,\n",
    "                       cv = 5, \n",
    "                       scoring= rmse_scorer,\n",
    "                       verbose = 2, \n",
    "                       return_train_score=True)\n",
    "dts_random.fit(x_train_dts, y_train_dts)"
   ]
  },
  {
   "cell_type": "code",
   "execution_count": 74,
   "metadata": {},
   "outputs": [
    {
     "name": "stdout",
     "output_type": "stream",
     "text": [
      "{'splitter': 'best', 'min_samples_split': 35, 'min_samples_leaf': 19, 'max_features': 'auto', 'max_depth': 48}\n"
     ]
    }
   ],
   "source": [
    "print(dts_random.best_params_)\n",
    "\n",
    "dts_min_samples_split =  dts_random.best_params_['min_samples_split']\n",
    "dts_min_samples_leaf = dts_random.best_params_['min_samples_leaf']\n",
    "dts_max_features = dts_random.best_params_['max_features']\n",
    "dts_max_depth= dts_random.best_params_['max_depth']\n",
    "dts_splitter = dts_random.best_params_['splitter']"
   ]
  },
  {
   "cell_type": "code",
   "execution_count": 75,
   "metadata": {
    "scrolled": true
   },
   "outputs": [],
   "source": [
    "dts_model_best_params = DecisionTreeRegressor(min_samples_split = dts_min_samples_split , \n",
    "                                             min_samples_leaf = dts_min_samples_leaf , \n",
    "                                             max_features = dts_max_features, \n",
    "                                             max_depth = dts_max_depth, \n",
    "                                             random_state = 12345)\n"
   ]
  },
  {
   "cell_type": "code",
   "execution_count": 76,
   "metadata": {},
   "outputs": [
    {
     "name": "stdout",
     "output_type": "stream",
     "text": [
      "CPU times: user 583 ms, sys: 0 ns, total: 583 ms\n",
      "Wall time: 591 ms\n"
     ]
    },
    {
     "data": {
      "text/plain": [
       "DecisionTreeRegressor(max_depth=48, max_features='auto', min_samples_leaf=19,\n",
       "                      min_samples_split=35, random_state=12345)"
      ]
     },
     "execution_count": 76,
     "metadata": {},
     "output_type": "execute_result"
    }
   ],
   "source": [
    "%%time\n",
    "dts_model_best_params.fit(x_train_dts, y_train_dts)\n"
   ]
  },
  {
   "cell_type": "code",
   "execution_count": 77,
   "metadata": {},
   "outputs": [
    {
     "name": "stdout",
     "output_type": "stream",
     "text": [
      "CPU times: user 14 ms, sys: 0 ns, total: 14 ms\n",
      "Wall time: 15.4 ms\n"
     ]
    }
   ],
   "source": [
    "%%time\n",
    "y_predict_dts_valid = dts_model_best_params.predict(x_valid_dts)\n"
   ]
  },
  {
   "cell_type": "code",
   "execution_count": 78,
   "metadata": {},
   "outputs": [
    {
     "name": "stdout",
     "output_type": "stream",
     "text": [
      "RMSE for model :  1986.9763635463937\n"
     ]
    }
   ],
   "source": [
    "RMSE_dt_s = mean_squared_error(y_valid_dts, y_predict_dts_valid)**0.5\n",
    "print ('RMSE for model : ', RMSE_dt_s)"
   ]
  },
  {
   "cell_type": "markdown",
   "metadata": {},
   "source": [
    "### CatboostRegressor"
   ]
  },
  {
   "cell_type": "code",
   "execution_count": 79,
   "metadata": {},
   "outputs": [
    {
     "name": "stdout",
     "output_type": "stream",
     "text": [
      "features_train dimensions (212535, 10)\n",
      "\n",
      "features_test dimensions (70845, 10)\n",
      "\n",
      "features_valid dimensions (70845, 10)\n",
      "\n",
      "target_train dimensions (212535,)\n",
      "\n",
      "target_test dimensions (70845,)\n",
      "\n",
      "target_valid dimensions (70845,)\n"
     ]
    }
   ],
   "source": [
    "# creating data for CatBoostRegressorModel model \n",
    "x_cat = data_original.drop('price', axis=1)\n",
    "y_cat = data_original['price']\n",
    "\n",
    "\n",
    "x_train_cat, x_remaining_cat, y_train_cat, y_remaining_cat =  train_test_split(\n",
    "    x_cat, y_cat , test_size=0.4, random_state = 12345)\n",
    "\n",
    "x_valid_cat, x_test_cat, y_valid_cat, y_test_cat =  train_test_split(\n",
    "    x_remaining_cat, y_remaining_cat , test_size=0.5, random_state = 12345)\n",
    "\n",
    "print('features_train dimensions', x_train_cat.shape)\n",
    "print()\n",
    "print('features_test dimensions', x_test_cat.shape)\n",
    "print()\n",
    "print('features_valid dimensions', x_valid_cat.shape)\n",
    "print()\n",
    "print('target_train dimensions', y_train_cat.shape)\n",
    "print()\n",
    "print('target_test dimensions', y_test_cat.shape)\n",
    "print()\n",
    "print('target_valid dimensions', y_valid_cat.shape)"
   ]
  },
  {
   "cell_type": "code",
   "execution_count": 81,
   "metadata": {
    "scrolled": true
   },
   "outputs": [
    {
     "name": "stdout",
     "output_type": "stream",
     "text": [
      "Fitting 5 folds for each of 10 candidates, totalling 50 fits\n",
      "Learning rate set to 0.5\n",
      "0:\tlearn: 3203.2466544\ttotal: 131ms\tremaining: 10.4s\n",
      "1:\tlearn: 2687.9032258\ttotal: 210ms\tremaining: 8.19s\n",
      "2:\tlearn: 2481.1692539\ttotal: 273ms\tremaining: 7.01s\n",
      "3:\tlearn: 2355.6823321\ttotal: 336ms\tremaining: 6.39s\n",
      "4:\tlearn: 2261.1415423\ttotal: 399ms\tremaining: 5.98s\n",
      "5:\tlearn: 2226.6151330\ttotal: 468ms\tremaining: 5.77s\n",
      "6:\tlearn: 2189.2295802\ttotal: 529ms\tremaining: 5.51s\n",
      "7:\tlearn: 2110.0075860\ttotal: 591ms\tremaining: 5.32s\n",
      "8:\tlearn: 2074.1464091\ttotal: 649ms\tremaining: 5.12s\n",
      "9:\tlearn: 2059.6131520\ttotal: 712ms\tremaining: 4.98s\n",
      "10:\tlearn: 2034.7913207\ttotal: 782ms\tremaining: 4.91s\n",
      "11:\tlearn: 2024.0113640\ttotal: 848ms\tremaining: 4.8s\n",
      "12:\tlearn: 1993.8975104\ttotal: 909ms\tremaining: 4.68s\n",
      "13:\tlearn: 1976.3291910\ttotal: 968ms\tremaining: 4.56s\n",
      "14:\tlearn: 1964.3828785\ttotal: 1.03s\tremaining: 4.46s\n",
      "15:\tlearn: 1954.7887746\ttotal: 1.09s\tremaining: 4.37s\n",
      "16:\tlearn: 1946.7996689\ttotal: 1.16s\tremaining: 4.29s\n",
      "17:\tlearn: 1941.9157200\ttotal: 1.22s\tremaining: 4.2s\n",
      "18:\tlearn: 1936.5327615\ttotal: 1.28s\tremaining: 4.12s\n",
      "19:\tlearn: 1930.7841913\ttotal: 1.34s\tremaining: 4.03s\n",
      "20:\tlearn: 1921.1170398\ttotal: 1.41s\tremaining: 3.95s\n",
      "21:\tlearn: 1914.2119337\ttotal: 1.47s\tremaining: 3.87s\n",
      "22:\tlearn: 1909.8341012\ttotal: 1.53s\tremaining: 3.79s\n",
      "23:\tlearn: 1905.3566643\ttotal: 1.59s\tremaining: 3.72s\n",
      "24:\tlearn: 1901.7711442\ttotal: 1.65s\tremaining: 3.63s\n",
      "25:\tlearn: 1895.7155570\ttotal: 1.72s\tremaining: 3.57s\n",
      "26:\tlearn: 1893.0833895\ttotal: 1.79s\tremaining: 3.51s\n",
      "27:\tlearn: 1889.1498167\ttotal: 1.87s\tremaining: 3.48s\n",
      "28:\tlearn: 1884.8968669\ttotal: 1.94s\tremaining: 3.41s\n",
      "29:\tlearn: 1879.4280235\ttotal: 2s\tremaining: 3.33s\n",
      "30:\tlearn: 1874.8687047\ttotal: 2.06s\tremaining: 3.25s\n",
      "31:\tlearn: 1871.9118600\ttotal: 2.12s\tremaining: 3.18s\n",
      "32:\tlearn: 1866.6400150\ttotal: 2.19s\tremaining: 3.11s\n",
      "33:\tlearn: 1863.5643015\ttotal: 2.25s\tremaining: 3.04s\n",
      "34:\tlearn: 1860.0454097\ttotal: 2.3s\tremaining: 2.96s\n",
      "35:\tlearn: 1855.3387087\ttotal: 2.37s\tremaining: 2.89s\n",
      "36:\tlearn: 1853.4544912\ttotal: 2.43s\tremaining: 2.82s\n",
      "37:\tlearn: 1850.8570215\ttotal: 2.5s\tremaining: 2.76s\n",
      "38:\tlearn: 1848.7878341\ttotal: 2.56s\tremaining: 2.69s\n",
      "39:\tlearn: 1845.8678349\ttotal: 2.62s\tremaining: 2.62s\n",
      "40:\tlearn: 1844.2345064\ttotal: 2.68s\tremaining: 2.55s\n",
      "41:\tlearn: 1840.9283667\ttotal: 2.75s\tremaining: 2.49s\n",
      "42:\tlearn: 1836.1773353\ttotal: 2.82s\tremaining: 2.42s\n",
      "43:\tlearn: 1832.0500475\ttotal: 2.88s\tremaining: 2.36s\n",
      "44:\tlearn: 1828.9636384\ttotal: 2.94s\tremaining: 2.29s\n",
      "45:\tlearn: 1825.7525064\ttotal: 3.01s\tremaining: 2.22s\n",
      "46:\tlearn: 1824.4580329\ttotal: 3.09s\tremaining: 2.17s\n",
      "47:\tlearn: 1821.7320827\ttotal: 3.16s\tremaining: 2.1s\n",
      "48:\tlearn: 1819.0447800\ttotal: 3.22s\tremaining: 2.04s\n",
      "49:\tlearn: 1814.8466844\ttotal: 3.28s\tremaining: 1.97s\n",
      "50:\tlearn: 1812.2536487\ttotal: 3.35s\tremaining: 1.9s\n",
      "51:\tlearn: 1808.9593434\ttotal: 3.41s\tremaining: 1.83s\n",
      "52:\tlearn: 1805.5134227\ttotal: 3.47s\tremaining: 1.77s\n",
      "53:\tlearn: 1803.4433323\ttotal: 3.53s\tremaining: 1.7s\n",
      "54:\tlearn: 1802.1473703\ttotal: 3.6s\tremaining: 1.64s\n",
      "55:\tlearn: 1799.1707280\ttotal: 3.66s\tremaining: 1.57s\n",
      "56:\tlearn: 1796.0385601\ttotal: 3.72s\tremaining: 1.5s\n",
      "57:\tlearn: 1794.1390855\ttotal: 3.79s\tremaining: 1.44s\n",
      "58:\tlearn: 1792.4576273\ttotal: 3.88s\tremaining: 1.38s\n",
      "59:\tlearn: 1790.0593133\ttotal: 3.94s\tremaining: 1.31s\n",
      "60:\tlearn: 1788.7502796\ttotal: 4.01s\tremaining: 1.25s\n",
      "61:\tlearn: 1788.1919823\ttotal: 4.07s\tremaining: 1.18s\n",
      "62:\tlearn: 1784.4150055\ttotal: 4.13s\tremaining: 1.11s\n",
      "63:\tlearn: 1782.6316606\ttotal: 4.19s\tremaining: 1.05s\n",
      "64:\tlearn: 1780.4337458\ttotal: 4.25s\tremaining: 982ms\n",
      "65:\tlearn: 1779.0393391\ttotal: 4.32s\tremaining: 915ms\n",
      "66:\tlearn: 1777.3723145\ttotal: 4.38s\tremaining: 850ms\n",
      "67:\tlearn: 1776.6947547\ttotal: 4.46s\tremaining: 786ms\n",
      "68:\tlearn: 1775.9278141\ttotal: 4.52s\tremaining: 720ms\n",
      "69:\tlearn: 1774.6718936\ttotal: 4.58s\tremaining: 654ms\n",
      "70:\tlearn: 1771.0727499\ttotal: 4.64s\tremaining: 589ms\n",
      "71:\tlearn: 1767.2816691\ttotal: 4.71s\tremaining: 523ms\n",
      "72:\tlearn: 1766.7903391\ttotal: 4.77s\tremaining: 457ms\n",
      "73:\tlearn: 1764.5114281\ttotal: 4.85s\tremaining: 393ms\n",
      "74:\tlearn: 1762.8196514\ttotal: 4.91s\tremaining: 327ms\n",
      "75:\tlearn: 1760.8503228\ttotal: 4.97s\tremaining: 262ms\n",
      "76:\tlearn: 1759.6811802\ttotal: 5.03s\tremaining: 196ms\n",
      "77:\tlearn: 1758.7419947\ttotal: 5.1s\tremaining: 131ms\n",
      "78:\tlearn: 1758.3751281\ttotal: 5.16s\tremaining: 65.3ms\n",
      "79:\tlearn: 1756.6220849\ttotal: 5.22s\tremaining: 0us\n",
      "[CV] END .......iterations=80, max_depth=8, model_size_reg=8; total time=   5.7s\n",
      "Learning rate set to 0.5\n",
      "0:\tlearn: 3191.4474107\ttotal: 89.4ms\tremaining: 7.07s\n",
      "1:\tlearn: 2665.8397114\ttotal: 160ms\tremaining: 6.23s\n",
      "2:\tlearn: 2446.7667430\ttotal: 222ms\tremaining: 5.69s\n",
      "3:\tlearn: 2302.5185724\ttotal: 284ms\tremaining: 5.4s\n",
      "4:\tlearn: 2243.6288246\ttotal: 343ms\tremaining: 5.15s\n",
      "5:\tlearn: 2196.8696065\ttotal: 413ms\tremaining: 5.09s\n",
      "6:\tlearn: 2161.2850821\ttotal: 478ms\tremaining: 4.99s\n",
      "7:\tlearn: 2094.5631317\ttotal: 538ms\tremaining: 4.84s\n",
      "8:\tlearn: 2062.9881570\ttotal: 598ms\tremaining: 4.71s\n",
      "9:\tlearn: 2043.4060850\ttotal: 680ms\tremaining: 4.76s\n",
      "10:\tlearn: 2033.5620695\ttotal: 743ms\tremaining: 4.66s\n",
      "11:\tlearn: 2024.6363331\ttotal: 806ms\tremaining: 4.57s\n",
      "12:\tlearn: 1991.3959395\ttotal: 866ms\tremaining: 4.46s\n",
      "13:\tlearn: 1975.4924157\ttotal: 926ms\tremaining: 4.37s\n",
      "14:\tlearn: 1962.4252700\ttotal: 990ms\tremaining: 4.29s\n",
      "15:\tlearn: 1955.0541505\ttotal: 1.05s\tremaining: 4.21s\n",
      "16:\tlearn: 1944.7410813\ttotal: 1.12s\tremaining: 4.15s\n",
      "17:\tlearn: 1936.8013031\ttotal: 1.18s\tremaining: 4.08s\n",
      "18:\tlearn: 1927.7371767\ttotal: 1.24s\tremaining: 3.99s\n",
      "19:\tlearn: 1922.6687601\ttotal: 1.3s\tremaining: 3.92s\n",
      "20:\tlearn: 1917.1122469\ttotal: 1.36s\tremaining: 3.84s\n",
      "21:\tlearn: 1914.2448702\ttotal: 1.43s\tremaining: 3.77s\n",
      "22:\tlearn: 1909.3325438\ttotal: 1.5s\tremaining: 3.71s\n",
      "23:\tlearn: 1900.7707792\ttotal: 1.56s\tremaining: 3.65s\n",
      "24:\tlearn: 1893.1450109\ttotal: 1.63s\tremaining: 3.58s\n",
      "25:\tlearn: 1886.8640646\ttotal: 1.69s\tremaining: 3.51s\n",
      "26:\tlearn: 1879.2251969\ttotal: 1.75s\tremaining: 3.44s\n",
      "27:\tlearn: 1874.5446002\ttotal: 1.82s\tremaining: 3.38s\n",
      "28:\tlearn: 1870.5452152\ttotal: 1.88s\tremaining: 3.31s\n",
      "29:\tlearn: 1866.3366076\ttotal: 1.94s\tremaining: 3.24s\n",
      "30:\tlearn: 1862.8714124\ttotal: 2.01s\tremaining: 3.18s\n",
      "31:\tlearn: 1857.0787498\ttotal: 2.08s\tremaining: 3.13s\n",
      "32:\tlearn: 1853.0715598\ttotal: 2.15s\tremaining: 3.06s\n",
      "33:\tlearn: 1851.1122394\ttotal: 2.21s\tremaining: 2.99s\n",
      "34:\tlearn: 1846.8578711\ttotal: 2.28s\tremaining: 2.93s\n",
      "35:\tlearn: 1843.1324477\ttotal: 2.34s\tremaining: 2.86s\n",
      "36:\tlearn: 1840.0287585\ttotal: 2.4s\tremaining: 2.79s\n",
      "37:\tlearn: 1838.3166922\ttotal: 2.47s\tremaining: 2.73s\n",
      "38:\tlearn: 1833.3970472\ttotal: 2.53s\tremaining: 2.66s\n",
      "39:\tlearn: 1831.6205935\ttotal: 2.59s\tremaining: 2.59s\n",
      "40:\tlearn: 1829.4334485\ttotal: 2.65s\tremaining: 2.52s\n",
      "41:\tlearn: 1825.8769850\ttotal: 2.71s\tremaining: 2.46s\n",
      "42:\tlearn: 1822.0940650\ttotal: 2.78s\tremaining: 2.39s\n",
      "43:\tlearn: 1818.2260070\ttotal: 2.84s\tremaining: 2.32s\n",
      "44:\tlearn: 1815.4078994\ttotal: 2.9s\tremaining: 2.26s\n",
      "45:\tlearn: 1813.3390570\ttotal: 2.97s\tremaining: 2.19s\n",
      "46:\tlearn: 1810.4241280\ttotal: 3.03s\tremaining: 2.13s\n",
      "47:\tlearn: 1808.5335212\ttotal: 3.09s\tremaining: 2.06s\n",
      "48:\tlearn: 1807.6260086\ttotal: 3.16s\tremaining: 2s\n",
      "49:\tlearn: 1805.1897710\ttotal: 3.22s\tremaining: 1.93s\n",
      "50:\tlearn: 1803.6383633\ttotal: 3.28s\tremaining: 1.87s\n",
      "51:\tlearn: 1802.1598535\ttotal: 3.35s\tremaining: 1.81s\n",
      "52:\tlearn: 1800.4762489\ttotal: 3.42s\tremaining: 1.74s\n",
      "53:\tlearn: 1799.3975627\ttotal: 3.48s\tremaining: 1.68s\n",
      "54:\tlearn: 1795.8651696\ttotal: 3.55s\tremaining: 1.61s\n",
      "55:\tlearn: 1794.0161502\ttotal: 3.61s\tremaining: 1.55s\n",
      "56:\tlearn: 1791.7776725\ttotal: 3.67s\tremaining: 1.48s\n",
      "57:\tlearn: 1789.4972951\ttotal: 3.73s\tremaining: 1.42s\n",
      "58:\tlearn: 1787.4034378\ttotal: 3.79s\tremaining: 1.35s\n",
      "59:\tlearn: 1784.9506553\ttotal: 3.86s\tremaining: 1.29s\n",
      "60:\tlearn: 1782.5666148\ttotal: 3.92s\tremaining: 1.22s\n",
      "61:\tlearn: 1782.1611434\ttotal: 3.99s\tremaining: 1.16s\n",
      "62:\tlearn: 1778.5900425\ttotal: 4.06s\tremaining: 1.1s\n",
      "63:\tlearn: 1776.3046167\ttotal: 4.14s\tremaining: 1.03s\n",
      "64:\tlearn: 1775.0525280\ttotal: 4.21s\tremaining: 971ms\n",
      "65:\tlearn: 1773.7645891\ttotal: 4.27s\tremaining: 906ms\n",
      "66:\tlearn: 1773.3997713\ttotal: 4.33s\tremaining: 840ms\n",
      "67:\tlearn: 1771.8029129\ttotal: 4.39s\tremaining: 775ms\n",
      "68:\tlearn: 1770.1105236\ttotal: 4.45s\tremaining: 710ms\n",
      "69:\tlearn: 1768.2594797\ttotal: 4.51s\tremaining: 645ms\n",
      "70:\tlearn: 1766.5649522\ttotal: 4.58s\tremaining: 580ms\n",
      "71:\tlearn: 1765.1300665\ttotal: 4.64s\tremaining: 515ms\n",
      "72:\tlearn: 1764.9749779\ttotal: 4.7s\tremaining: 451ms\n",
      "73:\tlearn: 1762.7056394\ttotal: 4.76s\tremaining: 386ms\n",
      "74:\tlearn: 1761.1869562\ttotal: 4.82s\tremaining: 322ms\n",
      "75:\tlearn: 1759.1098644\ttotal: 4.89s\tremaining: 257ms\n",
      "76:\tlearn: 1756.6136562\ttotal: 4.95s\tremaining: 193ms\n",
      "77:\tlearn: 1755.7248867\ttotal: 5.01s\tremaining: 128ms\n",
      "78:\tlearn: 1753.5939937\ttotal: 5.08s\tremaining: 64.3ms\n",
      "79:\tlearn: 1751.4851290\ttotal: 5.14s\tremaining: 0us\n",
      "[CV] END .......iterations=80, max_depth=8, model_size_reg=8; total time=   5.5s\n",
      "Learning rate set to 0.5\n",
      "0:\tlearn: 3196.4102955\ttotal: 67.3ms\tremaining: 5.32s\n",
      "1:\tlearn: 2661.3296270\ttotal: 136ms\tremaining: 5.31s\n",
      "2:\tlearn: 2427.5965157\ttotal: 201ms\tremaining: 5.16s\n",
      "3:\tlearn: 2292.6389994\ttotal: 263ms\tremaining: 5s\n",
      "4:\tlearn: 2236.1868154\ttotal: 321ms\tremaining: 4.82s\n",
      "5:\tlearn: 2191.6095578\ttotal: 399ms\tremaining: 4.92s\n",
      "6:\tlearn: 2160.7658561\ttotal: 462ms\tremaining: 4.82s\n",
      "7:\tlearn: 2087.3025883\ttotal: 538ms\tremaining: 4.84s\n",
      "8:\tlearn: 2046.6791422\ttotal: 597ms\tremaining: 4.71s\n",
      "9:\tlearn: 2032.2475346\ttotal: 656ms\tremaining: 4.59s\n",
      "10:\tlearn: 2019.2087752\ttotal: 718ms\tremaining: 4.5s\n",
      "11:\tlearn: 2009.2197635\ttotal: 780ms\tremaining: 4.42s\n",
      "12:\tlearn: 1998.9607040\ttotal: 843ms\tremaining: 4.34s\n",
      "13:\tlearn: 1972.1640507\ttotal: 903ms\tremaining: 4.25s\n",
      "14:\tlearn: 1955.3414454\ttotal: 961ms\tremaining: 4.17s\n",
      "15:\tlearn: 1943.4200882\ttotal: 1.02s\tremaining: 4.09s\n",
      "16:\tlearn: 1939.6956204\ttotal: 1.08s\tremaining: 4.02s\n",
      "17:\tlearn: 1931.8684818\ttotal: 1.14s\tremaining: 3.94s\n",
      "18:\tlearn: 1922.5152386\ttotal: 1.21s\tremaining: 3.89s\n",
      "19:\tlearn: 1917.6154375\ttotal: 1.27s\tremaining: 3.82s\n",
      "20:\tlearn: 1913.0945164\ttotal: 1.33s\tremaining: 3.75s\n",
      "21:\tlearn: 1908.7852313\ttotal: 1.4s\tremaining: 3.69s\n",
      "22:\tlearn: 1904.0113228\ttotal: 1.46s\tremaining: 3.62s\n",
      "23:\tlearn: 1900.1786503\ttotal: 1.54s\tremaining: 3.59s\n",
      "24:\tlearn: 1894.9855959\ttotal: 1.6s\tremaining: 3.52s\n",
      "25:\tlearn: 1890.3607320\ttotal: 1.67s\tremaining: 3.46s\n",
      "26:\tlearn: 1885.2104981\ttotal: 1.73s\tremaining: 3.39s\n",
      "27:\tlearn: 1879.1061505\ttotal: 1.79s\tremaining: 3.33s\n",
      "28:\tlearn: 1874.6598900\ttotal: 1.85s\tremaining: 3.26s\n",
      "29:\tlearn: 1872.3691444\ttotal: 1.92s\tremaining: 3.2s\n",
      "30:\tlearn: 1867.5482345\ttotal: 1.98s\tremaining: 3.14s\n",
      "31:\tlearn: 1865.2731843\ttotal: 2.05s\tremaining: 3.08s\n",
      "32:\tlearn: 1861.2597232\ttotal: 2.12s\tremaining: 3.01s\n",
      "33:\tlearn: 1858.6865159\ttotal: 2.18s\tremaining: 2.95s\n",
      "34:\tlearn: 1854.2720991\ttotal: 2.25s\tremaining: 2.89s\n",
      "35:\tlearn: 1850.5137066\ttotal: 2.31s\tremaining: 2.82s\n",
      "36:\tlearn: 1844.6845726\ttotal: 2.38s\tremaining: 2.77s\n",
      "37:\tlearn: 1840.1032739\ttotal: 2.45s\tremaining: 2.71s\n",
      "38:\tlearn: 1838.0778298\ttotal: 2.52s\tremaining: 2.65s\n",
      "39:\tlearn: 1835.7626293\ttotal: 2.59s\tremaining: 2.59s\n",
      "40:\tlearn: 1833.7754465\ttotal: 2.65s\tremaining: 2.52s\n",
      "41:\tlearn: 1830.9422988\ttotal: 2.71s\tremaining: 2.46s\n",
      "42:\tlearn: 1827.4888498\ttotal: 2.78s\tremaining: 2.39s\n",
      "43:\tlearn: 1825.3048522\ttotal: 2.84s\tremaining: 2.33s\n",
      "44:\tlearn: 1823.1412491\ttotal: 2.91s\tremaining: 2.26s\n",
      "45:\tlearn: 1820.5333929\ttotal: 2.97s\tremaining: 2.19s\n",
      "46:\tlearn: 1817.6969003\ttotal: 3.03s\tremaining: 2.13s\n",
      "47:\tlearn: 1816.1957686\ttotal: 3.1s\tremaining: 2.06s\n",
      "48:\tlearn: 1813.5601024\ttotal: 3.16s\tremaining: 2s\n",
      "49:\tlearn: 1811.4556377\ttotal: 3.22s\tremaining: 1.93s\n",
      "50:\tlearn: 1809.1771077\ttotal: 3.29s\tremaining: 1.87s\n",
      "51:\tlearn: 1807.7198409\ttotal: 3.35s\tremaining: 1.8s\n",
      "52:\tlearn: 1806.4198337\ttotal: 3.41s\tremaining: 1.74s\n",
      "53:\tlearn: 1805.4318041\ttotal: 3.5s\tremaining: 1.68s\n",
      "54:\tlearn: 1804.6499896\ttotal: 3.56s\tremaining: 1.62s\n",
      "55:\tlearn: 1802.8377009\ttotal: 3.63s\tremaining: 1.56s\n",
      "56:\tlearn: 1799.2836449\ttotal: 3.69s\tremaining: 1.49s\n",
      "57:\tlearn: 1797.2789807\ttotal: 3.75s\tremaining: 1.42s\n",
      "58:\tlearn: 1794.8489063\ttotal: 3.82s\tremaining: 1.36s\n",
      "59:\tlearn: 1792.6473318\ttotal: 3.88s\tremaining: 1.29s\n",
      "60:\tlearn: 1790.8773017\ttotal: 3.95s\tremaining: 1.23s\n",
      "61:\tlearn: 1788.3986239\ttotal: 4.02s\tremaining: 1.17s\n",
      "62:\tlearn: 1785.7049294\ttotal: 4.1s\tremaining: 1.1s\n",
      "63:\tlearn: 1783.3960506\ttotal: 4.16s\tremaining: 1.04s\n",
      "64:\tlearn: 1781.7322857\ttotal: 4.22s\tremaining: 973ms\n",
      "65:\tlearn: 1779.2516295\ttotal: 4.28s\tremaining: 908ms\n",
      "66:\tlearn: 1777.6085868\ttotal: 4.35s\tremaining: 844ms\n",
      "67:\tlearn: 1776.8295820\ttotal: 4.42s\tremaining: 780ms\n",
      "68:\tlearn: 1773.9528796\ttotal: 4.49s\tremaining: 716ms\n",
      "69:\tlearn: 1771.9032562\ttotal: 4.55s\tremaining: 650ms\n",
      "70:\tlearn: 1770.4303978\ttotal: 4.62s\tremaining: 586ms\n",
      "71:\tlearn: 1768.9535256\ttotal: 4.68s\tremaining: 520ms\n",
      "72:\tlearn: 1767.5699374\ttotal: 4.74s\tremaining: 455ms\n",
      "73:\tlearn: 1766.4424638\ttotal: 4.81s\tremaining: 390ms\n",
      "74:\tlearn: 1762.8611921\ttotal: 4.87s\tremaining: 325ms\n",
      "75:\tlearn: 1761.3147444\ttotal: 4.94s\tremaining: 260ms\n",
      "76:\tlearn: 1760.2339263\ttotal: 5.01s\tremaining: 195ms\n",
      "77:\tlearn: 1758.3453784\ttotal: 5.07s\tremaining: 130ms\n",
      "78:\tlearn: 1756.9016689\ttotal: 5.13s\tremaining: 65ms\n",
      "79:\tlearn: 1755.7940699\ttotal: 5.2s\tremaining: 0us\n",
      "[CV] END .......iterations=80, max_depth=8, model_size_reg=8; total time=   5.6s\n",
      "Learning rate set to 0.5\n",
      "0:\tlearn: 3201.6582600\ttotal: 68.7ms\tremaining: 5.42s\n",
      "1:\tlearn: 2676.3600611\ttotal: 139ms\tremaining: 5.41s\n",
      "2:\tlearn: 2439.1953449\ttotal: 207ms\tremaining: 5.3s\n",
      "3:\tlearn: 2296.3839484\ttotal: 272ms\tremaining: 5.18s\n",
      "4:\tlearn: 2238.0807532\ttotal: 333ms\tremaining: 4.99s\n",
      "5:\tlearn: 2196.4971747\ttotal: 401ms\tremaining: 4.95s\n",
      "6:\tlearn: 2162.3535433\ttotal: 467ms\tremaining: 4.87s\n",
      "7:\tlearn: 2148.2907308\ttotal: 527ms\tremaining: 4.74s\n",
      "8:\tlearn: 2082.9331616\ttotal: 595ms\tremaining: 4.69s\n",
      "9:\tlearn: 2054.2565339\ttotal: 662ms\tremaining: 4.63s\n",
      "10:\tlearn: 2041.3913341\ttotal: 722ms\tremaining: 4.53s\n",
      "11:\tlearn: 2028.8191135\ttotal: 784ms\tremaining: 4.44s\n",
      "12:\tlearn: 2016.4531491\ttotal: 857ms\tremaining: 4.42s\n",
      "13:\tlearn: 1985.1789058\ttotal: 920ms\tremaining: 4.33s\n",
      "14:\tlearn: 1968.5650965\ttotal: 978ms\tremaining: 4.24s\n",
      "15:\tlearn: 1958.7760765\ttotal: 1.04s\tremaining: 4.16s\n",
      "16:\tlearn: 1948.9620210\ttotal: 1.1s\tremaining: 4.07s\n",
      "17:\tlearn: 1943.1242580\ttotal: 1.16s\tremaining: 3.99s\n",
      "18:\tlearn: 1938.4299411\ttotal: 1.22s\tremaining: 3.93s\n",
      "19:\tlearn: 1930.9223520\ttotal: 1.29s\tremaining: 3.86s\n",
      "20:\tlearn: 1924.4925747\ttotal: 1.35s\tremaining: 3.78s\n",
      "21:\tlearn: 1919.0382794\ttotal: 1.41s\tremaining: 3.71s\n",
      "22:\tlearn: 1915.2400210\ttotal: 1.47s\tremaining: 3.64s\n",
      "23:\tlearn: 1910.3023345\ttotal: 1.53s\tremaining: 3.58s\n",
      "24:\tlearn: 1905.4614772\ttotal: 1.6s\tremaining: 3.51s\n",
      "25:\tlearn: 1900.4118202\ttotal: 1.66s\tremaining: 3.44s\n",
      "26:\tlearn: 1894.9214665\ttotal: 1.72s\tremaining: 3.37s\n",
      "27:\tlearn: 1889.2747272\ttotal: 1.78s\tremaining: 3.31s\n",
      "28:\tlearn: 1884.0657030\ttotal: 1.85s\tremaining: 3.25s\n",
      "29:\tlearn: 1879.3439018\ttotal: 1.92s\tremaining: 3.2s\n",
      "30:\tlearn: 1873.1253678\ttotal: 1.98s\tremaining: 3.14s\n",
      "31:\tlearn: 1869.6432072\ttotal: 2.05s\tremaining: 3.07s\n",
      "32:\tlearn: 1864.5251725\ttotal: 2.11s\tremaining: 3s\n",
      "33:\tlearn: 1860.1724260\ttotal: 2.17s\tremaining: 2.94s\n",
      "34:\tlearn: 1854.8767177\ttotal: 2.24s\tremaining: 2.88s\n",
      "35:\tlearn: 1851.3283141\ttotal: 2.3s\tremaining: 2.81s\n",
      "36:\tlearn: 1847.0023198\ttotal: 2.36s\tremaining: 2.75s\n",
      "37:\tlearn: 1842.5489242\ttotal: 2.42s\tremaining: 2.68s\n",
      "38:\tlearn: 1839.6852333\ttotal: 2.49s\tremaining: 2.61s\n",
      "39:\tlearn: 1837.1328712\ttotal: 2.55s\tremaining: 2.55s\n",
      "40:\tlearn: 1834.7678538\ttotal: 2.63s\tremaining: 2.5s\n",
      "41:\tlearn: 1831.6498582\ttotal: 2.69s\tremaining: 2.43s\n",
      "42:\tlearn: 1829.7290919\ttotal: 2.75s\tremaining: 2.37s\n",
      "43:\tlearn: 1826.6097342\ttotal: 2.81s\tremaining: 2.3s\n",
      "44:\tlearn: 1823.8398810\ttotal: 2.89s\tremaining: 2.25s\n",
      "45:\tlearn: 1821.8382606\ttotal: 2.95s\tremaining: 2.18s\n",
      "46:\tlearn: 1820.2190430\ttotal: 3.01s\tremaining: 2.12s\n",
      "47:\tlearn: 1818.6151214\ttotal: 3.07s\tremaining: 2.05s\n",
      "48:\tlearn: 1815.4890929\ttotal: 3.13s\tremaining: 1.98s\n",
      "49:\tlearn: 1813.1681781\ttotal: 3.19s\tremaining: 1.92s\n",
      "50:\tlearn: 1811.5812454\ttotal: 3.26s\tremaining: 1.85s\n",
      "51:\tlearn: 1806.9266159\ttotal: 3.32s\tremaining: 1.79s\n",
      "52:\tlearn: 1804.0475275\ttotal: 3.38s\tremaining: 1.72s\n",
      "53:\tlearn: 1801.6095340\ttotal: 3.45s\tremaining: 1.66s\n",
      "54:\tlearn: 1800.0642075\ttotal: 3.52s\tremaining: 1.6s\n",
      "55:\tlearn: 1797.2182401\ttotal: 3.58s\tremaining: 1.53s\n",
      "56:\tlearn: 1794.8894121\ttotal: 3.64s\tremaining: 1.47s\n",
      "57:\tlearn: 1793.0244360\ttotal: 3.7s\tremaining: 1.41s\n",
      "58:\tlearn: 1791.8420617\ttotal: 3.77s\tremaining: 1.34s\n",
      "59:\tlearn: 1790.5235277\ttotal: 3.83s\tremaining: 1.28s\n",
      "60:\tlearn: 1788.0226995\ttotal: 3.9s\tremaining: 1.21s\n",
      "61:\tlearn: 1786.9256771\ttotal: 3.96s\tremaining: 1.15s\n",
      "62:\tlearn: 1785.9004404\ttotal: 4.02s\tremaining: 1.08s\n",
      "63:\tlearn: 1784.0927858\ttotal: 4.08s\tremaining: 1.02s\n",
      "64:\tlearn: 1783.6990236\ttotal: 4.15s\tremaining: 958ms\n",
      "65:\tlearn: 1780.8861862\ttotal: 4.21s\tremaining: 894ms\n",
      "66:\tlearn: 1777.0533529\ttotal: 4.28s\tremaining: 830ms\n",
      "67:\tlearn: 1775.8810224\ttotal: 4.34s\tremaining: 766ms\n",
      "68:\tlearn: 1774.7373848\ttotal: 4.4s\tremaining: 702ms\n",
      "69:\tlearn: 1771.4102583\ttotal: 4.47s\tremaining: 638ms\n",
      "70:\tlearn: 1769.2674550\ttotal: 4.53s\tremaining: 574ms\n",
      "71:\tlearn: 1767.9136200\ttotal: 4.61s\tremaining: 513ms\n",
      "72:\tlearn: 1765.0641868\ttotal: 4.67s\tremaining: 448ms\n",
      "73:\tlearn: 1763.2767525\ttotal: 4.74s\tremaining: 384ms\n",
      "74:\tlearn: 1761.0165283\ttotal: 4.8s\tremaining: 320ms\n",
      "75:\tlearn: 1760.6675104\ttotal: 4.87s\tremaining: 256ms\n",
      "76:\tlearn: 1758.6928864\ttotal: 4.93s\tremaining: 192ms\n",
      "77:\tlearn: 1756.9733910\ttotal: 4.99s\tremaining: 128ms\n",
      "78:\tlearn: 1755.2087045\ttotal: 5.06s\tremaining: 64ms\n",
      "79:\tlearn: 1753.2959003\ttotal: 5.12s\tremaining: 0us\n",
      "[CV] END .......iterations=80, max_depth=8, model_size_reg=8; total time=   5.5s\n",
      "Learning rate set to 0.5\n",
      "0:\tlearn: 3191.3110041\ttotal: 68.1ms\tremaining: 5.38s\n",
      "1:\tlearn: 2674.7584244\ttotal: 138ms\tremaining: 5.38s\n",
      "2:\tlearn: 2443.8128427\ttotal: 202ms\tremaining: 5.19s\n",
      "3:\tlearn: 2301.9478508\ttotal: 270ms\tremaining: 5.13s\n",
      "4:\tlearn: 2246.8886924\ttotal: 335ms\tremaining: 5.02s\n",
      "5:\tlearn: 2202.0251077\ttotal: 400ms\tremaining: 4.93s\n",
      "6:\tlearn: 2169.1348957\ttotal: 468ms\tremaining: 4.88s\n",
      "7:\tlearn: 2092.7917536\ttotal: 534ms\tremaining: 4.8s\n",
      "8:\tlearn: 2063.6607104\ttotal: 598ms\tremaining: 4.72s\n",
      "9:\tlearn: 2040.4733419\ttotal: 661ms\tremaining: 4.62s\n",
      "10:\tlearn: 2030.0426769\ttotal: 728ms\tremaining: 4.56s\n",
      "11:\tlearn: 1999.7872567\ttotal: 787ms\tremaining: 4.46s\n",
      "12:\tlearn: 1979.6236105\ttotal: 845ms\tremaining: 4.35s\n",
      "13:\tlearn: 1971.7762855\ttotal: 903ms\tremaining: 4.26s\n",
      "14:\tlearn: 1959.0774569\ttotal: 988ms\tremaining: 4.28s\n",
      "15:\tlearn: 1953.5024021\ttotal: 1.05s\tremaining: 4.21s\n",
      "16:\tlearn: 1947.6623820\ttotal: 1.11s\tremaining: 4.13s\n",
      "17:\tlearn: 1936.9654021\ttotal: 1.17s\tremaining: 4.04s\n",
      "18:\tlearn: 1933.3651183\ttotal: 1.24s\tremaining: 3.97s\n",
      "19:\tlearn: 1929.0997813\ttotal: 1.3s\tremaining: 3.91s\n",
      "20:\tlearn: 1922.3406528\ttotal: 1.37s\tremaining: 3.84s\n",
      "21:\tlearn: 1916.8191760\ttotal: 1.43s\tremaining: 3.77s\n",
      "22:\tlearn: 1912.4716660\ttotal: 1.49s\tremaining: 3.7s\n",
      "23:\tlearn: 1903.8482235\ttotal: 1.55s\tremaining: 3.62s\n",
      "24:\tlearn: 1900.2924787\ttotal: 1.62s\tremaining: 3.56s\n",
      "25:\tlearn: 1894.1476657\ttotal: 1.68s\tremaining: 3.48s\n",
      "26:\tlearn: 1890.1726267\ttotal: 1.74s\tremaining: 3.41s\n",
      "27:\tlearn: 1882.3839381\ttotal: 1.8s\tremaining: 3.34s\n",
      "28:\tlearn: 1875.4566334\ttotal: 1.86s\tremaining: 3.27s\n",
      "29:\tlearn: 1871.7671756\ttotal: 1.93s\tremaining: 3.21s\n",
      "30:\tlearn: 1863.2662880\ttotal: 1.99s\tremaining: 3.15s\n",
      "31:\tlearn: 1859.1867296\ttotal: 2.06s\tremaining: 3.08s\n",
      "32:\tlearn: 1853.6694694\ttotal: 2.12s\tremaining: 3.02s\n",
      "33:\tlearn: 1849.5688808\ttotal: 2.18s\tremaining: 2.95s\n",
      "34:\tlearn: 1844.5877940\ttotal: 2.25s\tremaining: 2.89s\n",
      "35:\tlearn: 1842.0502174\ttotal: 2.31s\tremaining: 2.82s\n",
      "36:\tlearn: 1839.8383536\ttotal: 2.38s\tremaining: 2.76s\n",
      "37:\tlearn: 1835.5945922\ttotal: 2.44s\tremaining: 2.69s\n",
      "38:\tlearn: 1833.7443608\ttotal: 2.5s\tremaining: 2.63s\n",
      "39:\tlearn: 1830.6651185\ttotal: 2.58s\tremaining: 2.58s\n",
      "40:\tlearn: 1827.1300987\ttotal: 2.66s\tremaining: 2.53s\n",
      "41:\tlearn: 1824.6531886\ttotal: 2.73s\tremaining: 2.47s\n",
      "42:\tlearn: 1823.3691191\ttotal: 2.8s\tremaining: 2.41s\n",
      "43:\tlearn: 1819.2281961\ttotal: 2.86s\tremaining: 2.34s\n",
      "44:\tlearn: 1813.4626594\ttotal: 2.92s\tremaining: 2.27s\n",
      "45:\tlearn: 1809.6187245\ttotal: 3s\tremaining: 2.21s\n",
      "46:\tlearn: 1808.7420054\ttotal: 3.06s\tremaining: 2.15s\n",
      "47:\tlearn: 1806.0287881\ttotal: 3.13s\tremaining: 2.09s\n",
      "48:\tlearn: 1802.2252159\ttotal: 3.19s\tremaining: 2.02s\n",
      "49:\tlearn: 1798.9136333\ttotal: 3.26s\tremaining: 1.96s\n",
      "50:\tlearn: 1795.9701119\ttotal: 3.33s\tremaining: 1.89s\n",
      "51:\tlearn: 1792.3901171\ttotal: 3.39s\tremaining: 1.83s\n",
      "52:\tlearn: 1788.8273745\ttotal: 3.45s\tremaining: 1.76s\n",
      "53:\tlearn: 1786.5175606\ttotal: 3.52s\tremaining: 1.7s\n",
      "54:\tlearn: 1784.3175661\ttotal: 3.6s\tremaining: 1.63s\n",
      "55:\tlearn: 1780.4265885\ttotal: 3.66s\tremaining: 1.57s\n",
      "56:\tlearn: 1778.7172573\ttotal: 3.72s\tremaining: 1.5s\n",
      "57:\tlearn: 1777.1048874\ttotal: 3.78s\tremaining: 1.43s\n",
      "58:\tlearn: 1776.6334841\ttotal: 3.84s\tremaining: 1.37s\n",
      "59:\tlearn: 1775.3940705\ttotal: 3.91s\tremaining: 1.3s\n",
      "60:\tlearn: 1772.6068863\ttotal: 3.97s\tremaining: 1.24s\n",
      "61:\tlearn: 1769.3277130\ttotal: 4.04s\tremaining: 1.17s\n",
      "62:\tlearn: 1766.8608403\ttotal: 4.1s\tremaining: 1.11s\n",
      "63:\tlearn: 1766.3404062\ttotal: 4.16s\tremaining: 1.04s\n",
      "64:\tlearn: 1766.2452272\ttotal: 4.22s\tremaining: 975ms\n",
      "65:\tlearn: 1764.7113179\ttotal: 4.29s\tremaining: 911ms\n",
      "66:\tlearn: 1762.1899741\ttotal: 4.36s\tremaining: 846ms\n",
      "67:\tlearn: 1760.0248793\ttotal: 4.42s\tremaining: 780ms\n",
      "68:\tlearn: 1757.1945794\ttotal: 4.48s\tremaining: 715ms\n",
      "69:\tlearn: 1754.3694404\ttotal: 4.54s\tremaining: 649ms\n",
      "70:\tlearn: 1753.1735143\ttotal: 4.61s\tremaining: 585ms\n",
      "71:\tlearn: 1752.9160153\ttotal: 4.67s\tremaining: 519ms\n",
      "72:\tlearn: 1751.0042056\ttotal: 4.74s\tremaining: 454ms\n",
      "73:\tlearn: 1750.1536678\ttotal: 4.8s\tremaining: 389ms\n",
      "74:\tlearn: 1749.0046043\ttotal: 4.86s\tremaining: 324ms\n",
      "75:\tlearn: 1747.0833201\ttotal: 4.92s\tremaining: 259ms\n",
      "76:\tlearn: 1745.1647377\ttotal: 4.99s\tremaining: 194ms\n",
      "77:\tlearn: 1743.8192396\ttotal: 5.05s\tremaining: 129ms\n",
      "78:\tlearn: 1741.8911679\ttotal: 5.11s\tremaining: 64.7ms\n",
      "79:\tlearn: 1740.7096828\ttotal: 5.17s\tremaining: 0us\n",
      "[CV] END .......iterations=80, max_depth=8, model_size_reg=8; total time=   5.5s\n",
      "Learning rate set to 0.5\n",
      "0:\tlearn: 4514.0787030\ttotal: 12.7ms\tremaining: 242ms\n",
      "1:\tlearn: 4514.0787030\ttotal: 25ms\tremaining: 225ms\n",
      "2:\tlearn: 4514.0787030\ttotal: 37.2ms\tremaining: 211ms\n",
      "3:\tlearn: 4514.0787030\ttotal: 49.8ms\tremaining: 199ms\n",
      "4:\tlearn: 4514.0787030\ttotal: 62.2ms\tremaining: 187ms\n",
      "5:\tlearn: 4514.0787030\ttotal: 74.7ms\tremaining: 174ms\n",
      "6:\tlearn: 4514.0787030\ttotal: 86.8ms\tremaining: 161ms\n",
      "7:\tlearn: 4514.0787030\ttotal: 99.1ms\tremaining: 149ms\n",
      "8:\tlearn: 4514.0787030\ttotal: 112ms\tremaining: 136ms\n",
      "9:\tlearn: 4514.0787030\ttotal: 124ms\tremaining: 124ms\n",
      "10:\tlearn: 4514.0787030\ttotal: 136ms\tremaining: 111ms\n",
      "11:\tlearn: 4514.0787030\ttotal: 149ms\tremaining: 99ms\n",
      "12:\tlearn: 4514.0787030\ttotal: 161ms\tremaining: 86.8ms\n",
      "13:\tlearn: 4514.0787030\ttotal: 174ms\tremaining: 74.4ms\n",
      "14:\tlearn: 4514.0787030\ttotal: 186ms\tremaining: 62ms\n",
      "15:\tlearn: 4514.0787030\ttotal: 199ms\tremaining: 49.7ms\n",
      "16:\tlearn: 4514.0787030\ttotal: 211ms\tremaining: 37.3ms\n",
      "17:\tlearn: 4514.0787030\ttotal: 223ms\tremaining: 24.8ms\n",
      "18:\tlearn: 4514.0787030\ttotal: 235ms\tremaining: 12.4ms\n",
      "19:\tlearn: 4514.0787030\ttotal: 247ms\tremaining: 0us\n",
      "[CV] END ......iterations=20, max_depth=0, model_size_reg=18; total time=   0.6s\n",
      "Learning rate set to 0.5\n",
      "0:\tlearn: 4520.4075704\ttotal: 12.1ms\tremaining: 231ms\n",
      "1:\tlearn: 4520.4075704\ttotal: 24.6ms\tremaining: 222ms\n",
      "2:\tlearn: 4520.4075704\ttotal: 36.8ms\tremaining: 208ms\n",
      "3:\tlearn: 4520.4075704\ttotal: 49ms\tremaining: 196ms\n",
      "4:\tlearn: 4520.4075704\ttotal: 61.9ms\tremaining: 186ms\n",
      "5:\tlearn: 4520.4075704\ttotal: 74.6ms\tremaining: 174ms\n",
      "6:\tlearn: 4520.4075704\ttotal: 87.4ms\tremaining: 162ms\n",
      "7:\tlearn: 4520.4075704\ttotal: 100ms\tremaining: 150ms\n",
      "8:\tlearn: 4520.4075704\ttotal: 112ms\tremaining: 137ms\n",
      "9:\tlearn: 4520.4075704\ttotal: 125ms\tremaining: 125ms\n",
      "10:\tlearn: 4520.4075704\ttotal: 138ms\tremaining: 113ms\n",
      "11:\tlearn: 4520.4075704\ttotal: 152ms\tremaining: 101ms\n",
      "12:\tlearn: 4520.4075704\ttotal: 165ms\tremaining: 88.8ms\n",
      "13:\tlearn: 4520.4075704\ttotal: 179ms\tremaining: 76.8ms\n",
      "14:\tlearn: 4520.4075704\ttotal: 192ms\tremaining: 64ms\n",
      "15:\tlearn: 4520.4075704\ttotal: 205ms\tremaining: 51.2ms\n",
      "16:\tlearn: 4520.4075704\ttotal: 217ms\tremaining: 38.3ms\n",
      "17:\tlearn: 4520.4075704\ttotal: 232ms\tremaining: 25.7ms\n",
      "18:\tlearn: 4520.4075704\ttotal: 244ms\tremaining: 12.8ms\n",
      "19:\tlearn: 4520.4075704\ttotal: 256ms\tremaining: 0us\n",
      "[CV] END ......iterations=20, max_depth=0, model_size_reg=18; total time=   0.6s\n",
      "Learning rate set to 0.5\n",
      "0:\tlearn: 4520.5689857\ttotal: 12.1ms\tremaining: 230ms\n",
      "1:\tlearn: 4520.5689857\ttotal: 24.4ms\tremaining: 220ms\n",
      "2:\tlearn: 4520.5689857\ttotal: 36.9ms\tremaining: 209ms\n",
      "3:\tlearn: 4520.5689857\ttotal: 49.3ms\tremaining: 197ms\n",
      "4:\tlearn: 4520.5689857\ttotal: 61.8ms\tremaining: 185ms\n",
      "5:\tlearn: 4520.5689857\ttotal: 74.1ms\tremaining: 173ms\n",
      "6:\tlearn: 4520.5689857\ttotal: 86.3ms\tremaining: 160ms\n",
      "7:\tlearn: 4520.5689857\ttotal: 102ms\tremaining: 153ms\n",
      "8:\tlearn: 4520.5689857\ttotal: 118ms\tremaining: 144ms\n",
      "9:\tlearn: 4520.5689857\ttotal: 130ms\tremaining: 130ms\n",
      "10:\tlearn: 4520.5689857\ttotal: 145ms\tremaining: 119ms\n",
      "11:\tlearn: 4520.5689857\ttotal: 158ms\tremaining: 105ms\n",
      "12:\tlearn: 4520.5689857\ttotal: 170ms\tremaining: 91.5ms\n",
      "13:\tlearn: 4520.5689857\ttotal: 182ms\tremaining: 77.9ms\n",
      "14:\tlearn: 4520.5689857\ttotal: 196ms\tremaining: 65.4ms\n",
      "15:\tlearn: 4520.5689857\ttotal: 213ms\tremaining: 53.2ms\n",
      "16:\tlearn: 4520.5689857\ttotal: 226ms\tremaining: 39.8ms\n",
      "17:\tlearn: 4520.5689857\ttotal: 238ms\tremaining: 26.4ms\n",
      "18:\tlearn: 4520.5689857\ttotal: 250ms\tremaining: 13.2ms\n",
      "19:\tlearn: 4520.5689857\ttotal: 262ms\tremaining: 0us\n",
      "[CV] END ......iterations=20, max_depth=0, model_size_reg=18; total time=   0.6s\n",
      "Learning rate set to 0.5\n",
      "0:\tlearn: 4518.2974125\ttotal: 12.1ms\tremaining: 230ms\n",
      "1:\tlearn: 4518.2974125\ttotal: 24.3ms\tremaining: 219ms\n",
      "2:\tlearn: 4518.2974125\ttotal: 36.3ms\tremaining: 205ms\n",
      "3:\tlearn: 4518.2974125\ttotal: 48.6ms\tremaining: 194ms\n",
      "4:\tlearn: 4518.2974125\ttotal: 60.8ms\tremaining: 182ms\n",
      "5:\tlearn: 4518.2974125\ttotal: 73ms\tremaining: 170ms\n",
      "6:\tlearn: 4518.2974125\ttotal: 85.4ms\tremaining: 159ms\n",
      "7:\tlearn: 4518.2974125\ttotal: 99.4ms\tremaining: 149ms\n",
      "8:\tlearn: 4518.2974125\ttotal: 112ms\tremaining: 137ms\n",
      "9:\tlearn: 4518.2974125\ttotal: 124ms\tremaining: 124ms\n",
      "10:\tlearn: 4518.2974125\ttotal: 136ms\tremaining: 112ms\n",
      "11:\tlearn: 4518.2974125\ttotal: 148ms\tremaining: 98.9ms\n",
      "12:\tlearn: 4518.2974125\ttotal: 162ms\tremaining: 87.1ms\n",
      "13:\tlearn: 4518.2974125\ttotal: 174ms\tremaining: 74.5ms\n",
      "14:\tlearn: 4518.2974125\ttotal: 186ms\tremaining: 61.9ms\n",
      "15:\tlearn: 4518.2974125\ttotal: 198ms\tremaining: 49.5ms\n",
      "16:\tlearn: 4518.2974125\ttotal: 210ms\tremaining: 37.1ms\n",
      "17:\tlearn: 4518.2974125\ttotal: 222ms\tremaining: 24.7ms\n",
      "18:\tlearn: 4518.2974125\ttotal: 234ms\tremaining: 12.3ms\n",
      "19:\tlearn: 4518.2974125\ttotal: 246ms\tremaining: 0us\n",
      "[CV] END ......iterations=20, max_depth=0, model_size_reg=18; total time=   0.6s\n",
      "Learning rate set to 0.5\n",
      "0:\tlearn: 4513.1574383\ttotal: 12.1ms\tremaining: 229ms\n",
      "1:\tlearn: 4513.1574383\ttotal: 24.3ms\tremaining: 219ms\n",
      "2:\tlearn: 4513.1574383\ttotal: 36.7ms\tremaining: 208ms\n",
      "3:\tlearn: 4513.1574383\ttotal: 49.1ms\tremaining: 196ms\n",
      "4:\tlearn: 4513.1574383\ttotal: 61.3ms\tremaining: 184ms\n",
      "5:\tlearn: 4513.1574383\ttotal: 74ms\tremaining: 173ms\n",
      "6:\tlearn: 4513.1574383\ttotal: 86.5ms\tremaining: 161ms\n",
      "7:\tlearn: 4513.1574383\ttotal: 98.9ms\tremaining: 148ms\n",
      "8:\tlearn: 4513.1574383\ttotal: 112ms\tremaining: 136ms\n",
      "9:\tlearn: 4513.1574383\ttotal: 124ms\tremaining: 124ms\n",
      "10:\tlearn: 4513.1574383\ttotal: 137ms\tremaining: 112ms\n",
      "11:\tlearn: 4513.1574383\ttotal: 149ms\tremaining: 99.5ms\n",
      "12:\tlearn: 4513.1574383\ttotal: 162ms\tremaining: 87.4ms\n",
      "13:\tlearn: 4513.1574383\ttotal: 175ms\tremaining: 75ms\n",
      "14:\tlearn: 4513.1574383\ttotal: 187ms\tremaining: 62.5ms\n",
      "15:\tlearn: 4513.1574383\ttotal: 200ms\tremaining: 49.9ms\n",
      "16:\tlearn: 4513.1574383\ttotal: 212ms\tremaining: 37.4ms\n",
      "17:\tlearn: 4513.1574383\ttotal: 224ms\tremaining: 24.9ms\n",
      "18:\tlearn: 4513.1574383\ttotal: 237ms\tremaining: 12.5ms\n",
      "19:\tlearn: 4513.1574383\ttotal: 249ms\tremaining: 0us\n",
      "[CV] END ......iterations=20, max_depth=0, model_size_reg=18; total time=   0.6s\n",
      "Learning rate set to 0.5\n",
      "0:\tlearn: 4514.0787030\ttotal: 12.1ms\tremaining: 1.2s\n",
      "1:\tlearn: 4514.0787030\ttotal: 24.1ms\tremaining: 1.18s\n",
      "2:\tlearn: 4514.0787030\ttotal: 36.5ms\tremaining: 1.18s\n",
      "3:\tlearn: 4514.0787030\ttotal: 54.2ms\tremaining: 1.3s\n",
      "4:\tlearn: 4514.0787030\ttotal: 66.9ms\tremaining: 1.27s\n",
      "5:\tlearn: 4514.0787030\ttotal: 79.1ms\tremaining: 1.24s\n",
      "6:\tlearn: 4514.0787030\ttotal: 91.1ms\tremaining: 1.21s\n",
      "7:\tlearn: 4514.0787030\ttotal: 103ms\tremaining: 1.19s\n",
      "8:\tlearn: 4514.0787030\ttotal: 116ms\tremaining: 1.17s\n",
      "9:\tlearn: 4514.0787030\ttotal: 128ms\tremaining: 1.15s\n",
      "10:\tlearn: 4514.0787030\ttotal: 140ms\tremaining: 1.13s\n",
      "11:\tlearn: 4514.0787030\ttotal: 152ms\tremaining: 1.12s\n",
      "12:\tlearn: 4514.0787030\ttotal: 165ms\tremaining: 1.1s\n",
      "13:\tlearn: 4514.0787030\ttotal: 176ms\tremaining: 1.08s\n",
      "14:\tlearn: 4514.0787030\ttotal: 189ms\tremaining: 1.07s\n",
      "15:\tlearn: 4514.0787030\ttotal: 202ms\tremaining: 1.06s\n",
      "16:\tlearn: 4514.0787030\ttotal: 215ms\tremaining: 1.05s\n",
      "17:\tlearn: 4514.0787030\ttotal: 227ms\tremaining: 1.03s\n",
      "18:\tlearn: 4514.0787030\ttotal: 239ms\tremaining: 1.02s\n",
      "19:\tlearn: 4514.0787030\ttotal: 251ms\tremaining: 1s\n",
      "20:\tlearn: 4514.0787030\ttotal: 264ms\tremaining: 993ms\n",
      "21:\tlearn: 4514.0787030\ttotal: 276ms\tremaining: 979ms\n",
      "22:\tlearn: 4514.0787030\ttotal: 288ms\tremaining: 965ms\n",
      "23:\tlearn: 4514.0787030\ttotal: 300ms\tremaining: 951ms\n",
      "24:\tlearn: 4514.0787030\ttotal: 312ms\tremaining: 937ms\n",
      "25:\tlearn: 4514.0787030\ttotal: 325ms\tremaining: 924ms\n",
      "26:\tlearn: 4514.0787030\ttotal: 337ms\tremaining: 911ms\n",
      "27:\tlearn: 4514.0787030\ttotal: 349ms\tremaining: 898ms\n",
      "28:\tlearn: 4514.0787030\ttotal: 364ms\tremaining: 891ms\n",
      "29:\tlearn: 4514.0787030\ttotal: 376ms\tremaining: 877ms\n",
      "30:\tlearn: 4514.0787030\ttotal: 390ms\tremaining: 869ms\n",
      "31:\tlearn: 4514.0787030\ttotal: 403ms\tremaining: 855ms\n",
      "32:\tlearn: 4514.0787030\ttotal: 415ms\tremaining: 843ms\n",
      "33:\tlearn: 4514.0787030\ttotal: 427ms\tremaining: 830ms\n",
      "34:\tlearn: 4514.0787030\ttotal: 440ms\tremaining: 818ms\n",
      "35:\tlearn: 4514.0787030\ttotal: 452ms\tremaining: 804ms\n",
      "36:\tlearn: 4514.0787030\ttotal: 465ms\tremaining: 792ms\n",
      "37:\tlearn: 4514.0787030\ttotal: 478ms\tremaining: 780ms\n",
      "38:\tlearn: 4514.0787030\ttotal: 492ms\tremaining: 770ms\n",
      "39:\tlearn: 4514.0787030\ttotal: 505ms\tremaining: 757ms\n",
      "40:\tlearn: 4514.0787030\ttotal: 517ms\tremaining: 744ms\n",
      "41:\tlearn: 4514.0787030\ttotal: 529ms\tremaining: 731ms\n",
      "42:\tlearn: 4514.0787030\ttotal: 542ms\tremaining: 719ms\n",
      "43:\tlearn: 4514.0787030\ttotal: 555ms\tremaining: 706ms\n",
      "44:\tlearn: 4514.0787030\ttotal: 569ms\tremaining: 695ms\n",
      "45:\tlearn: 4514.0787030\ttotal: 584ms\tremaining: 685ms\n",
      "46:\tlearn: 4514.0787030\ttotal: 597ms\tremaining: 673ms\n",
      "47:\tlearn: 4514.0787030\ttotal: 609ms\tremaining: 660ms\n",
      "48:\tlearn: 4514.0787030\ttotal: 621ms\tremaining: 647ms\n",
      "49:\tlearn: 4514.0787030\ttotal: 634ms\tremaining: 634ms\n",
      "50:\tlearn: 4514.0787030\ttotal: 646ms\tremaining: 621ms\n",
      "51:\tlearn: 4514.0787030\ttotal: 659ms\tremaining: 608ms\n",
      "52:\tlearn: 4514.0787030\ttotal: 671ms\tremaining: 595ms\n",
      "53:\tlearn: 4514.0787030\ttotal: 683ms\tremaining: 582ms\n",
      "54:\tlearn: 4514.0787030\ttotal: 695ms\tremaining: 569ms\n",
      "55:\tlearn: 4514.0787030\ttotal: 709ms\tremaining: 557ms\n",
      "56:\tlearn: 4514.0787030\ttotal: 721ms\tremaining: 544ms\n",
      "57:\tlearn: 4514.0787030\ttotal: 733ms\tremaining: 531ms\n",
      "58:\tlearn: 4514.0787030\ttotal: 745ms\tremaining: 518ms\n",
      "59:\tlearn: 4514.0787030\ttotal: 757ms\tremaining: 505ms\n",
      "60:\tlearn: 4514.0787030\ttotal: 770ms\tremaining: 492ms\n",
      "61:\tlearn: 4514.0787030\ttotal: 785ms\tremaining: 481ms\n",
      "62:\tlearn: 4514.0787030\ttotal: 797ms\tremaining: 468ms\n",
      "63:\tlearn: 4514.0787030\ttotal: 809ms\tremaining: 455ms\n",
      "64:\tlearn: 4514.0787030\ttotal: 822ms\tremaining: 443ms\n",
      "65:\tlearn: 4514.0787030\ttotal: 835ms\tremaining: 430ms\n",
      "66:\tlearn: 4514.0787030\ttotal: 848ms\tremaining: 418ms\n",
      "67:\tlearn: 4514.0787030\ttotal: 860ms\tremaining: 405ms\n",
      "68:\tlearn: 4514.0787030\ttotal: 874ms\tremaining: 393ms\n",
      "69:\tlearn: 4514.0787030\ttotal: 888ms\tremaining: 381ms\n",
      "70:\tlearn: 4514.0787030\ttotal: 900ms\tremaining: 368ms\n",
      "71:\tlearn: 4514.0787030\ttotal: 912ms\tremaining: 355ms\n",
      "72:\tlearn: 4514.0787030\ttotal: 924ms\tremaining: 342ms\n",
      "73:\tlearn: 4514.0787030\ttotal: 938ms\tremaining: 329ms\n",
      "74:\tlearn: 4514.0787030\ttotal: 950ms\tremaining: 317ms\n",
      "75:\tlearn: 4514.0787030\ttotal: 962ms\tremaining: 304ms\n",
      "76:\tlearn: 4514.0787030\ttotal: 974ms\tremaining: 291ms\n",
      "77:\tlearn: 4514.0787030\ttotal: 990ms\tremaining: 279ms\n",
      "78:\tlearn: 4514.0787030\ttotal: 1s\tremaining: 266ms\n",
      "79:\tlearn: 4514.0787030\ttotal: 1.01s\tremaining: 254ms\n",
      "80:\tlearn: 4514.0787030\ttotal: 1.03s\tremaining: 241ms\n",
      "81:\tlearn: 4514.0787030\ttotal: 1.04s\tremaining: 228ms\n",
      "82:\tlearn: 4514.0787030\ttotal: 1.06s\tremaining: 216ms\n",
      "83:\tlearn: 4514.0787030\ttotal: 1.07s\tremaining: 204ms\n",
      "84:\tlearn: 4514.0787030\ttotal: 1.08s\tremaining: 191ms\n",
      "85:\tlearn: 4514.0787030\ttotal: 1.1s\tremaining: 179ms\n",
      "86:\tlearn: 4514.0787030\ttotal: 1.11s\tremaining: 166ms\n",
      "87:\tlearn: 4514.0787030\ttotal: 1.12s\tremaining: 153ms\n",
      "88:\tlearn: 4514.0787030\ttotal: 1.14s\tremaining: 140ms\n",
      "89:\tlearn: 4514.0787030\ttotal: 1.15s\tremaining: 128ms\n",
      "90:\tlearn: 4514.0787030\ttotal: 1.16s\tremaining: 115ms\n",
      "91:\tlearn: 4514.0787030\ttotal: 1.17s\tremaining: 102ms\n",
      "92:\tlearn: 4514.0787030\ttotal: 1.19s\tremaining: 89.3ms\n",
      "93:\tlearn: 4514.0787030\ttotal: 1.2s\tremaining: 76.6ms\n",
      "94:\tlearn: 4514.0787030\ttotal: 1.21s\tremaining: 63.8ms\n",
      "95:\tlearn: 4514.0787030\ttotal: 1.23s\tremaining: 51ms\n",
      "96:\tlearn: 4514.0787030\ttotal: 1.24s\tremaining: 38.3ms\n",
      "97:\tlearn: 4514.0787030\ttotal: 1.25s\tremaining: 25.6ms\n",
      "98:\tlearn: 4514.0787030\ttotal: 1.26s\tremaining: 12.8ms\n",
      "99:\tlearn: 4514.0787030\ttotal: 1.28s\tremaining: 0us\n",
      "[CV] END ......iterations=100, max_depth=0, model_size_reg=6; total time=   1.6s\n",
      "Learning rate set to 0.5\n",
      "0:\tlearn: 4520.4075704\ttotal: 12.2ms\tremaining: 1.21s\n",
      "1:\tlearn: 4520.4075704\ttotal: 24.7ms\tremaining: 1.21s\n",
      "2:\tlearn: 4520.4075704\ttotal: 36.9ms\tremaining: 1.19s\n",
      "3:\tlearn: 4520.4075704\ttotal: 49.6ms\tremaining: 1.19s\n",
      "4:\tlearn: 4520.4075704\ttotal: 62ms\tremaining: 1.18s\n",
      "5:\tlearn: 4520.4075704\ttotal: 74.5ms\tremaining: 1.17s\n",
      "6:\tlearn: 4520.4075704\ttotal: 86.7ms\tremaining: 1.15s\n",
      "7:\tlearn: 4520.4075704\ttotal: 99.1ms\tremaining: 1.14s\n",
      "8:\tlearn: 4520.4075704\ttotal: 113ms\tremaining: 1.14s\n",
      "9:\tlearn: 4520.4075704\ttotal: 125ms\tremaining: 1.13s\n",
      "10:\tlearn: 4520.4075704\ttotal: 137ms\tremaining: 1.11s\n",
      "11:\tlearn: 4520.4075704\ttotal: 149ms\tremaining: 1.09s\n",
      "12:\tlearn: 4520.4075704\ttotal: 162ms\tremaining: 1.09s\n",
      "13:\tlearn: 4520.4075704\ttotal: 176ms\tremaining: 1.08s\n",
      "14:\tlearn: 4520.4075704\ttotal: 188ms\tremaining: 1.06s\n",
      "15:\tlearn: 4520.4075704\ttotal: 202ms\tremaining: 1.06s\n",
      "16:\tlearn: 4520.4075704\ttotal: 214ms\tremaining: 1.05s\n",
      "17:\tlearn: 4520.4075704\ttotal: 226ms\tremaining: 1.03s\n",
      "18:\tlearn: 4520.4075704\ttotal: 238ms\tremaining: 1.01s\n",
      "19:\tlearn: 4520.4075704\ttotal: 250ms\tremaining: 999ms\n",
      "20:\tlearn: 4520.4075704\ttotal: 262ms\tremaining: 986ms\n",
      "21:\tlearn: 4520.4075704\ttotal: 274ms\tremaining: 971ms\n",
      "22:\tlearn: 4520.4075704\ttotal: 288ms\tremaining: 963ms\n",
      "23:\tlearn: 4520.4075704\ttotal: 302ms\tremaining: 956ms\n",
      "24:\tlearn: 4520.4075704\ttotal: 314ms\tremaining: 943ms\n",
      "25:\tlearn: 4520.4075704\ttotal: 329ms\tremaining: 937ms\n",
      "26:\tlearn: 4520.4075704\ttotal: 341ms\tremaining: 923ms\n",
      "27:\tlearn: 4520.4075704\ttotal: 354ms\tremaining: 909ms\n",
      "28:\tlearn: 4520.4075704\ttotal: 366ms\tremaining: 897ms\n",
      "29:\tlearn: 4520.4075704\ttotal: 379ms\tremaining: 883ms\n",
      "30:\tlearn: 4520.4075704\ttotal: 391ms\tremaining: 869ms\n",
      "31:\tlearn: 4520.4075704\ttotal: 405ms\tremaining: 861ms\n",
      "32:\tlearn: 4520.4075704\ttotal: 417ms\tremaining: 847ms\n",
      "33:\tlearn: 4520.4075704\ttotal: 431ms\tremaining: 837ms\n",
      "34:\tlearn: 4520.4075704\ttotal: 444ms\tremaining: 824ms\n",
      "35:\tlearn: 4520.4075704\ttotal: 456ms\tremaining: 811ms\n",
      "36:\tlearn: 4520.4075704\ttotal: 469ms\tremaining: 799ms\n",
      "37:\tlearn: 4520.4075704\ttotal: 482ms\tremaining: 786ms\n",
      "38:\tlearn: 4520.4075704\ttotal: 494ms\tremaining: 772ms\n",
      "39:\tlearn: 4520.4075704\ttotal: 506ms\tremaining: 759ms\n",
      "40:\tlearn: 4520.4075704\ttotal: 518ms\tremaining: 746ms\n",
      "41:\tlearn: 4520.4075704\ttotal: 531ms\tremaining: 733ms\n",
      "42:\tlearn: 4520.4075704\ttotal: 543ms\tremaining: 720ms\n",
      "43:\tlearn: 4520.4075704\ttotal: 555ms\tremaining: 707ms\n",
      "44:\tlearn: 4520.4075704\ttotal: 568ms\tremaining: 695ms\n",
      "45:\tlearn: 4520.4075704\ttotal: 581ms\tremaining: 682ms\n",
      "46:\tlearn: 4520.4075704\ttotal: 595ms\tremaining: 671ms\n",
      "47:\tlearn: 4520.4075704\ttotal: 607ms\tremaining: 658ms\n",
      "48:\tlearn: 4520.4075704\ttotal: 620ms\tremaining: 645ms\n",
      "49:\tlearn: 4520.4075704\ttotal: 632ms\tremaining: 632ms\n",
      "50:\tlearn: 4520.4075704\ttotal: 644ms\tremaining: 619ms\n",
      "51:\tlearn: 4520.4075704\ttotal: 657ms\tremaining: 607ms\n",
      "52:\tlearn: 4520.4075704\ttotal: 669ms\tremaining: 593ms\n",
      "53:\tlearn: 4520.4075704\ttotal: 681ms\tremaining: 580ms\n",
      "54:\tlearn: 4520.4075704\ttotal: 696ms\tremaining: 569ms\n",
      "55:\tlearn: 4520.4075704\ttotal: 708ms\tremaining: 557ms\n",
      "56:\tlearn: 4520.4075704\ttotal: 721ms\tremaining: 544ms\n",
      "57:\tlearn: 4520.4075704\ttotal: 733ms\tremaining: 531ms\n",
      "58:\tlearn: 4520.4075704\ttotal: 745ms\tremaining: 518ms\n",
      "59:\tlearn: 4520.4075704\ttotal: 758ms\tremaining: 505ms\n",
      "60:\tlearn: 4520.4075704\ttotal: 770ms\tremaining: 493ms\n",
      "61:\tlearn: 4520.4075704\ttotal: 783ms\tremaining: 480ms\n",
      "62:\tlearn: 4520.4075704\ttotal: 796ms\tremaining: 468ms\n",
      "63:\tlearn: 4520.4075704\ttotal: 809ms\tremaining: 455ms\n",
      "64:\tlearn: 4520.4075704\ttotal: 824ms\tremaining: 443ms\n",
      "65:\tlearn: 4520.4075704\ttotal: 836ms\tremaining: 431ms\n",
      "66:\tlearn: 4520.4075704\ttotal: 848ms\tremaining: 418ms\n",
      "67:\tlearn: 4520.4075704\ttotal: 861ms\tremaining: 405ms\n",
      "68:\tlearn: 4520.4075704\ttotal: 873ms\tremaining: 392ms\n",
      "69:\tlearn: 4520.4075704\ttotal: 885ms\tremaining: 379ms\n",
      "70:\tlearn: 4520.4075704\ttotal: 897ms\tremaining: 366ms\n",
      "71:\tlearn: 4520.4075704\ttotal: 909ms\tremaining: 354ms\n",
      "72:\tlearn: 4520.4075704\ttotal: 922ms\tremaining: 341ms\n",
      "73:\tlearn: 4520.4075704\ttotal: 934ms\tremaining: 328ms\n",
      "74:\tlearn: 4520.4075704\ttotal: 946ms\tremaining: 315ms\n",
      "75:\tlearn: 4520.4075704\ttotal: 958ms\tremaining: 303ms\n",
      "76:\tlearn: 4520.4075704\ttotal: 971ms\tremaining: 290ms\n",
      "77:\tlearn: 4520.4075704\ttotal: 983ms\tremaining: 277ms\n",
      "78:\tlearn: 4520.4075704\ttotal: 997ms\tremaining: 265ms\n",
      "79:\tlearn: 4520.4075704\ttotal: 1.01s\tremaining: 252ms\n",
      "80:\tlearn: 4520.4075704\ttotal: 1.02s\tremaining: 240ms\n",
      "81:\tlearn: 4520.4075704\ttotal: 1.03s\tremaining: 227ms\n",
      "82:\tlearn: 4520.4075704\ttotal: 1.05s\tremaining: 214ms\n",
      "83:\tlearn: 4520.4075704\ttotal: 1.06s\tremaining: 202ms\n",
      "84:\tlearn: 4520.4075704\ttotal: 1.07s\tremaining: 189ms\n",
      "85:\tlearn: 4520.4075704\ttotal: 1.08s\tremaining: 176ms\n",
      "86:\tlearn: 4520.4075704\ttotal: 1.1s\tremaining: 164ms\n",
      "87:\tlearn: 4520.4075704\ttotal: 1.11s\tremaining: 151ms\n",
      "88:\tlearn: 4520.4075704\ttotal: 1.12s\tremaining: 139ms\n",
      "89:\tlearn: 4520.4075704\ttotal: 1.13s\tremaining: 126ms\n",
      "90:\tlearn: 4520.4075704\ttotal: 1.14s\tremaining: 113ms\n",
      "91:\tlearn: 4520.4075704\ttotal: 1.16s\tremaining: 101ms\n",
      "92:\tlearn: 4520.4075704\ttotal: 1.17s\tremaining: 88.1ms\n",
      "93:\tlearn: 4520.4075704\ttotal: 1.18s\tremaining: 75.5ms\n",
      "94:\tlearn: 4520.4075704\ttotal: 1.2s\tremaining: 63ms\n",
      "95:\tlearn: 4520.4075704\ttotal: 1.21s\tremaining: 50.4ms\n",
      "96:\tlearn: 4520.4075704\ttotal: 1.22s\tremaining: 37.8ms\n",
      "97:\tlearn: 4520.4075704\ttotal: 1.23s\tremaining: 25.2ms\n",
      "98:\tlearn: 4520.4075704\ttotal: 1.25s\tremaining: 12.6ms\n",
      "99:\tlearn: 4520.4075704\ttotal: 1.26s\tremaining: 0us\n",
      "[CV] END ......iterations=100, max_depth=0, model_size_reg=6; total time=   1.6s\n",
      "Learning rate set to 0.5\n",
      "0:\tlearn: 4520.5689857\ttotal: 11.9ms\tremaining: 1.18s\n",
      "1:\tlearn: 4520.5689857\ttotal: 24.3ms\tremaining: 1.19s\n",
      "2:\tlearn: 4520.5689857\ttotal: 36.5ms\tremaining: 1.18s\n",
      "3:\tlearn: 4520.5689857\ttotal: 51.5ms\tremaining: 1.24s\n",
      "4:\tlearn: 4520.5689857\ttotal: 64.7ms\tremaining: 1.23s\n",
      "5:\tlearn: 4520.5689857\ttotal: 77.2ms\tremaining: 1.21s\n",
      "6:\tlearn: 4520.5689857\ttotal: 89.6ms\tremaining: 1.19s\n",
      "7:\tlearn: 4520.5689857\ttotal: 102ms\tremaining: 1.18s\n",
      "8:\tlearn: 4520.5689857\ttotal: 115ms\tremaining: 1.16s\n",
      "9:\tlearn: 4520.5689857\ttotal: 127ms\tremaining: 1.14s\n",
      "10:\tlearn: 4520.5689857\ttotal: 139ms\tremaining: 1.12s\n",
      "11:\tlearn: 4520.5689857\ttotal: 152ms\tremaining: 1.11s\n",
      "12:\tlearn: 4520.5689857\ttotal: 164ms\tremaining: 1.1s\n",
      "13:\tlearn: 4520.5689857\ttotal: 176ms\tremaining: 1.08s\n",
      "14:\tlearn: 4520.5689857\ttotal: 188ms\tremaining: 1.07s\n",
      "15:\tlearn: 4520.5689857\ttotal: 203ms\tremaining: 1.06s\n",
      "16:\tlearn: 4520.5689857\ttotal: 216ms\tremaining: 1.05s\n",
      "17:\tlearn: 4520.5689857\ttotal: 228ms\tremaining: 1.04s\n",
      "18:\tlearn: 4520.5689857\ttotal: 240ms\tremaining: 1.02s\n",
      "19:\tlearn: 4520.5689857\ttotal: 253ms\tremaining: 1.01s\n",
      "20:\tlearn: 4520.5689857\ttotal: 265ms\tremaining: 997ms\n",
      "21:\tlearn: 4520.5689857\ttotal: 277ms\tremaining: 984ms\n",
      "22:\tlearn: 4520.5689857\ttotal: 290ms\tremaining: 971ms\n",
      "23:\tlearn: 4520.5689857\ttotal: 305ms\tremaining: 964ms\n",
      "24:\tlearn: 4520.5689857\ttotal: 317ms\tremaining: 951ms\n",
      "25:\tlearn: 4520.5689857\ttotal: 330ms\tremaining: 938ms\n",
      "26:\tlearn: 4520.5689857\ttotal: 342ms\tremaining: 925ms\n",
      "27:\tlearn: 4520.5689857\ttotal: 355ms\tremaining: 913ms\n",
      "28:\tlearn: 4520.5689857\ttotal: 368ms\tremaining: 900ms\n",
      "29:\tlearn: 4520.5689857\ttotal: 382ms\tremaining: 890ms\n",
      "30:\tlearn: 4520.5689857\ttotal: 397ms\tremaining: 883ms\n",
      "31:\tlearn: 4520.5689857\ttotal: 409ms\tremaining: 870ms\n",
      "32:\tlearn: 4520.5689857\ttotal: 422ms\tremaining: 856ms\n",
      "33:\tlearn: 4520.5689857\ttotal: 434ms\tremaining: 842ms\n",
      "34:\tlearn: 4520.5689857\ttotal: 446ms\tremaining: 829ms\n",
      "35:\tlearn: 4520.5689857\ttotal: 459ms\tremaining: 816ms\n",
      "36:\tlearn: 4520.5689857\ttotal: 472ms\tremaining: 803ms\n",
      "37:\tlearn: 4520.5689857\ttotal: 485ms\tremaining: 791ms\n",
      "38:\tlearn: 4520.5689857\ttotal: 497ms\tremaining: 778ms\n",
      "39:\tlearn: 4520.5689857\ttotal: 512ms\tremaining: 768ms\n",
      "40:\tlearn: 4520.5689857\ttotal: 527ms\tremaining: 759ms\n",
      "41:\tlearn: 4520.5689857\ttotal: 544ms\tremaining: 751ms\n",
      "42:\tlearn: 4520.5689857\ttotal: 560ms\tremaining: 743ms\n",
      "43:\tlearn: 4520.5689857\ttotal: 573ms\tremaining: 729ms\n",
      "44:\tlearn: 4520.5689857\ttotal: 593ms\tremaining: 725ms\n",
      "45:\tlearn: 4520.5689857\ttotal: 606ms\tremaining: 712ms\n",
      "46:\tlearn: 4520.5689857\ttotal: 619ms\tremaining: 698ms\n",
      "47:\tlearn: 4520.5689857\ttotal: 632ms\tremaining: 685ms\n",
      "48:\tlearn: 4520.5689857\ttotal: 645ms\tremaining: 671ms\n",
      "49:\tlearn: 4520.5689857\ttotal: 657ms\tremaining: 657ms\n",
      "50:\tlearn: 4520.5689857\ttotal: 669ms\tremaining: 643ms\n",
      "51:\tlearn: 4520.5689857\ttotal: 682ms\tremaining: 629ms\n",
      "52:\tlearn: 4520.5689857\ttotal: 694ms\tremaining: 615ms\n",
      "53:\tlearn: 4520.5689857\ttotal: 706ms\tremaining: 601ms\n",
      "54:\tlearn: 4520.5689857\ttotal: 718ms\tremaining: 587ms\n",
      "55:\tlearn: 4520.5689857\ttotal: 731ms\tremaining: 574ms\n",
      "56:\tlearn: 4520.5689857\ttotal: 743ms\tremaining: 560ms\n",
      "57:\tlearn: 4520.5689857\ttotal: 756ms\tremaining: 547ms\n",
      "58:\tlearn: 4520.5689857\ttotal: 768ms\tremaining: 534ms\n",
      "59:\tlearn: 4520.5689857\ttotal: 780ms\tremaining: 520ms\n",
      "60:\tlearn: 4520.5689857\ttotal: 795ms\tremaining: 508ms\n",
      "61:\tlearn: 4520.5689857\ttotal: 807ms\tremaining: 494ms\n",
      "62:\tlearn: 4520.5689857\ttotal: 820ms\tremaining: 481ms\n",
      "63:\tlearn: 4520.5689857\ttotal: 833ms\tremaining: 468ms\n",
      "64:\tlearn: 4520.5689857\ttotal: 845ms\tremaining: 455ms\n",
      "65:\tlearn: 4520.5689857\ttotal: 858ms\tremaining: 442ms\n",
      "66:\tlearn: 4520.5689857\ttotal: 870ms\tremaining: 429ms\n",
      "67:\tlearn: 4520.5689857\ttotal: 882ms\tremaining: 415ms\n",
      "68:\tlearn: 4520.5689857\ttotal: 896ms\tremaining: 403ms\n",
      "69:\tlearn: 4520.5689857\ttotal: 909ms\tremaining: 390ms\n",
      "70:\tlearn: 4520.5689857\ttotal: 921ms\tremaining: 376ms\n",
      "71:\tlearn: 4520.5689857\ttotal: 933ms\tremaining: 363ms\n",
      "72:\tlearn: 4520.5689857\ttotal: 946ms\tremaining: 350ms\n",
      "73:\tlearn: 4520.5689857\ttotal: 958ms\tremaining: 337ms\n",
      "74:\tlearn: 4520.5689857\ttotal: 970ms\tremaining: 323ms\n",
      "75:\tlearn: 4520.5689857\ttotal: 982ms\tremaining: 310ms\n",
      "76:\tlearn: 4520.5689857\ttotal: 997ms\tremaining: 298ms\n",
      "77:\tlearn: 4520.5689857\ttotal: 1.01s\tremaining: 285ms\n",
      "78:\tlearn: 4520.5689857\ttotal: 1.02s\tremaining: 272ms\n",
      "79:\tlearn: 4520.5689857\ttotal: 1.03s\tremaining: 259ms\n",
      "80:\tlearn: 4520.5689857\ttotal: 1.05s\tremaining: 246ms\n",
      "81:\tlearn: 4520.5689857\ttotal: 1.06s\tremaining: 233ms\n",
      "82:\tlearn: 4520.5689857\ttotal: 1.07s\tremaining: 220ms\n",
      "83:\tlearn: 4520.5689857\ttotal: 1.08s\tremaining: 207ms\n",
      "84:\tlearn: 4520.5689857\ttotal: 1.1s\tremaining: 194ms\n",
      "85:\tlearn: 4520.5689857\ttotal: 1.11s\tremaining: 181ms\n",
      "86:\tlearn: 4520.5689857\ttotal: 1.12s\tremaining: 168ms\n",
      "87:\tlearn: 4520.5689857\ttotal: 1.13s\tremaining: 155ms\n",
      "88:\tlearn: 4520.5689857\ttotal: 1.15s\tremaining: 142ms\n",
      "89:\tlearn: 4520.5689857\ttotal: 1.16s\tremaining: 129ms\n",
      "90:\tlearn: 4520.5689857\ttotal: 1.17s\tremaining: 116ms\n",
      "91:\tlearn: 4520.5689857\ttotal: 1.18s\tremaining: 103ms\n",
      "92:\tlearn: 4520.5689857\ttotal: 1.2s\tremaining: 90.3ms\n",
      "93:\tlearn: 4520.5689857\ttotal: 1.21s\tremaining: 77.4ms\n",
      "94:\tlearn: 4520.5689857\ttotal: 1.22s\tremaining: 64.5ms\n",
      "95:\tlearn: 4520.5689857\ttotal: 1.24s\tremaining: 51.6ms\n",
      "96:\tlearn: 4520.5689857\ttotal: 1.25s\tremaining: 38.7ms\n",
      "97:\tlearn: 4520.5689857\ttotal: 1.26s\tremaining: 25.8ms\n",
      "98:\tlearn: 4520.5689857\ttotal: 1.27s\tremaining: 12.9ms\n",
      "99:\tlearn: 4520.5689857\ttotal: 1.29s\tremaining: 0us\n",
      "[CV] END ......iterations=100, max_depth=0, model_size_reg=6; total time=   1.6s\n",
      "Learning rate set to 0.5\n",
      "0:\tlearn: 4518.2974125\ttotal: 12.1ms\tremaining: 1.2s\n",
      "1:\tlearn: 4518.2974125\ttotal: 24.6ms\tremaining: 1.21s\n",
      "2:\tlearn: 4518.2974125\ttotal: 37.1ms\tremaining: 1.2s\n",
      "3:\tlearn: 4518.2974125\ttotal: 49.4ms\tremaining: 1.19s\n",
      "4:\tlearn: 4518.2974125\ttotal: 61.6ms\tremaining: 1.17s\n",
      "5:\tlearn: 4518.2974125\ttotal: 73.8ms\tremaining: 1.16s\n",
      "6:\tlearn: 4518.2974125\ttotal: 86.1ms\tremaining: 1.14s\n",
      "7:\tlearn: 4518.2974125\ttotal: 98.7ms\tremaining: 1.13s\n",
      "8:\tlearn: 4518.2974125\ttotal: 112ms\tremaining: 1.13s\n",
      "9:\tlearn: 4518.2974125\ttotal: 124ms\tremaining: 1.12s\n",
      "10:\tlearn: 4518.2974125\ttotal: 136ms\tremaining: 1.1s\n",
      "11:\tlearn: 4518.2974125\ttotal: 149ms\tremaining: 1.09s\n",
      "12:\tlearn: 4518.2974125\ttotal: 165ms\tremaining: 1.11s\n",
      "13:\tlearn: 4518.2974125\ttotal: 180ms\tremaining: 1.11s\n",
      "14:\tlearn: 4518.2974125\ttotal: 195ms\tremaining: 1.1s\n",
      "15:\tlearn: 4518.2974125\ttotal: 207ms\tremaining: 1.09s\n",
      "16:\tlearn: 4518.2974125\ttotal: 219ms\tremaining: 1.07s\n",
      "17:\tlearn: 4518.2974125\ttotal: 232ms\tremaining: 1.05s\n",
      "18:\tlearn: 4518.2974125\ttotal: 244ms\tremaining: 1.04s\n",
      "19:\tlearn: 4518.2974125\ttotal: 257ms\tremaining: 1.03s\n",
      "20:\tlearn: 4518.2974125\ttotal: 269ms\tremaining: 1.01s\n",
      "21:\tlearn: 4518.2974125\ttotal: 282ms\tremaining: 1s\n",
      "22:\tlearn: 4518.2974125\ttotal: 297ms\tremaining: 995ms\n",
      "23:\tlearn: 4518.2974125\ttotal: 310ms\tremaining: 982ms\n",
      "24:\tlearn: 4518.2974125\ttotal: 323ms\tremaining: 968ms\n",
      "25:\tlearn: 4518.2974125\ttotal: 335ms\tremaining: 954ms\n",
      "26:\tlearn: 4518.2974125\ttotal: 348ms\tremaining: 940ms\n",
      "27:\tlearn: 4518.2974125\ttotal: 360ms\tremaining: 925ms\n",
      "28:\tlearn: 4518.2974125\ttotal: 372ms\tremaining: 912ms\n",
      "29:\tlearn: 4518.2974125\ttotal: 385ms\tremaining: 898ms\n",
      "30:\tlearn: 4518.2974125\ttotal: 401ms\tremaining: 893ms\n",
      "31:\tlearn: 4518.2974125\ttotal: 413ms\tremaining: 878ms\n",
      "32:\tlearn: 4518.2974125\ttotal: 426ms\tremaining: 864ms\n",
      "33:\tlearn: 4518.2974125\ttotal: 438ms\tremaining: 850ms\n",
      "34:\tlearn: 4518.2974125\ttotal: 450ms\tremaining: 836ms\n",
      "35:\tlearn: 4518.2974125\ttotal: 462ms\tremaining: 821ms\n",
      "36:\tlearn: 4518.2974125\ttotal: 474ms\tremaining: 807ms\n",
      "37:\tlearn: 4518.2974125\ttotal: 486ms\tremaining: 794ms\n",
      "38:\tlearn: 4518.2974125\ttotal: 500ms\tremaining: 781ms\n",
      "39:\tlearn: 4518.2974125\ttotal: 512ms\tremaining: 768ms\n",
      "40:\tlearn: 4518.2974125\ttotal: 524ms\tremaining: 754ms\n",
      "41:\tlearn: 4518.2974125\ttotal: 536ms\tremaining: 740ms\n",
      "42:\tlearn: 4518.2974125\ttotal: 548ms\tremaining: 726ms\n",
      "43:\tlearn: 4518.2974125\ttotal: 560ms\tremaining: 713ms\n",
      "44:\tlearn: 4518.2974125\ttotal: 572ms\tremaining: 699ms\n",
      "45:\tlearn: 4518.2974125\ttotal: 585ms\tremaining: 686ms\n",
      "46:\tlearn: 4518.2974125\ttotal: 602ms\tremaining: 679ms\n",
      "47:\tlearn: 4518.2974125\ttotal: 615ms\tremaining: 666ms\n",
      "48:\tlearn: 4518.2974125\ttotal: 627ms\tremaining: 653ms\n",
      "49:\tlearn: 4518.2974125\ttotal: 639ms\tremaining: 639ms\n",
      "50:\tlearn: 4518.2974125\ttotal: 652ms\tremaining: 626ms\n",
      "51:\tlearn: 4518.2974125\ttotal: 664ms\tremaining: 613ms\n",
      "52:\tlearn: 4518.2974125\ttotal: 676ms\tremaining: 599ms\n",
      "53:\tlearn: 4518.2974125\ttotal: 687ms\tremaining: 585ms\n",
      "54:\tlearn: 4518.2974125\ttotal: 699ms\tremaining: 572ms\n",
      "55:\tlearn: 4518.2974125\ttotal: 711ms\tremaining: 559ms\n",
      "56:\tlearn: 4518.2974125\ttotal: 724ms\tremaining: 546ms\n",
      "57:\tlearn: 4518.2974125\ttotal: 736ms\tremaining: 533ms\n",
      "58:\tlearn: 4518.2974125\ttotal: 752ms\tremaining: 523ms\n",
      "59:\tlearn: 4518.2974125\ttotal: 766ms\tremaining: 510ms\n",
      "60:\tlearn: 4518.2974125\ttotal: 779ms\tremaining: 498ms\n",
      "61:\tlearn: 4518.2974125\ttotal: 793ms\tremaining: 486ms\n",
      "62:\tlearn: 4518.2974125\ttotal: 805ms\tremaining: 473ms\n",
      "63:\tlearn: 4518.2974125\ttotal: 818ms\tremaining: 460ms\n",
      "64:\tlearn: 4518.2974125\ttotal: 831ms\tremaining: 447ms\n",
      "65:\tlearn: 4518.2974125\ttotal: 843ms\tremaining: 434ms\n",
      "66:\tlearn: 4518.2974125\ttotal: 856ms\tremaining: 422ms\n",
      "67:\tlearn: 4518.2974125\ttotal: 869ms\tremaining: 409ms\n",
      "68:\tlearn: 4518.2974125\ttotal: 882ms\tremaining: 396ms\n",
      "69:\tlearn: 4518.2974125\ttotal: 896ms\tremaining: 384ms\n",
      "70:\tlearn: 4518.2974125\ttotal: 908ms\tremaining: 371ms\n",
      "71:\tlearn: 4518.2974125\ttotal: 920ms\tremaining: 358ms\n",
      "72:\tlearn: 4518.2974125\ttotal: 933ms\tremaining: 345ms\n",
      "73:\tlearn: 4518.2974125\ttotal: 946ms\tremaining: 332ms\n",
      "74:\tlearn: 4518.2974125\ttotal: 959ms\tremaining: 320ms\n",
      "75:\tlearn: 4518.2974125\ttotal: 971ms\tremaining: 307ms\n",
      "76:\tlearn: 4518.2974125\ttotal: 987ms\tremaining: 295ms\n",
      "77:\tlearn: 4518.2974125\ttotal: 1s\tremaining: 282ms\n",
      "78:\tlearn: 4518.2974125\ttotal: 1.01s\tremaining: 269ms\n",
      "79:\tlearn: 4518.2974125\ttotal: 1.02s\tremaining: 256ms\n",
      "80:\tlearn: 4518.2974125\ttotal: 1.04s\tremaining: 243ms\n",
      "81:\tlearn: 4518.2974125\ttotal: 1.05s\tremaining: 230ms\n",
      "82:\tlearn: 4518.2974125\ttotal: 1.06s\tremaining: 217ms\n",
      "83:\tlearn: 4518.2974125\ttotal: 1.07s\tremaining: 204ms\n",
      "84:\tlearn: 4518.2974125\ttotal: 1.08s\tremaining: 192ms\n",
      "85:\tlearn: 4518.2974125\ttotal: 1.1s\tremaining: 179ms\n",
      "86:\tlearn: 4518.2974125\ttotal: 1.11s\tremaining: 166ms\n",
      "87:\tlearn: 4518.2974125\ttotal: 1.12s\tremaining: 153ms\n",
      "88:\tlearn: 4518.2974125\ttotal: 1.14s\tremaining: 140ms\n",
      "89:\tlearn: 4518.2974125\ttotal: 1.15s\tremaining: 128ms\n",
      "90:\tlearn: 4518.2974125\ttotal: 1.16s\tremaining: 115ms\n",
      "91:\tlearn: 4518.2974125\ttotal: 1.17s\tremaining: 102ms\n",
      "92:\tlearn: 4518.2974125\ttotal: 1.19s\tremaining: 89.5ms\n",
      "93:\tlearn: 4518.2974125\ttotal: 1.2s\tremaining: 76.7ms\n",
      "94:\tlearn: 4518.2974125\ttotal: 1.21s\tremaining: 63.9ms\n",
      "95:\tlearn: 4518.2974125\ttotal: 1.23s\tremaining: 51.1ms\n",
      "96:\tlearn: 4518.2974125\ttotal: 1.24s\tremaining: 38.3ms\n",
      "97:\tlearn: 4518.2974125\ttotal: 1.25s\tremaining: 25.5ms\n",
      "98:\tlearn: 4518.2974125\ttotal: 1.26s\tremaining: 12.7ms\n",
      "99:\tlearn: 4518.2974125\ttotal: 1.27s\tremaining: 0us\n",
      "[CV] END ......iterations=100, max_depth=0, model_size_reg=6; total time=   1.6s\n",
      "Learning rate set to 0.5\n",
      "0:\tlearn: 4513.1574383\ttotal: 12.1ms\tremaining: 1.2s\n",
      "1:\tlearn: 4513.1574383\ttotal: 24.3ms\tremaining: 1.19s\n",
      "2:\tlearn: 4513.1574383\ttotal: 36.9ms\tremaining: 1.19s\n",
      "3:\tlearn: 4513.1574383\ttotal: 49.4ms\tremaining: 1.19s\n",
      "4:\tlearn: 4513.1574383\ttotal: 61.6ms\tremaining: 1.17s\n",
      "5:\tlearn: 4513.1574383\ttotal: 74ms\tremaining: 1.16s\n",
      "6:\tlearn: 4513.1574383\ttotal: 86.8ms\tremaining: 1.15s\n",
      "7:\tlearn: 4513.1574383\ttotal: 99.5ms\tremaining: 1.14s\n",
      "8:\tlearn: 4513.1574383\ttotal: 112ms\tremaining: 1.13s\n",
      "9:\tlearn: 4513.1574383\ttotal: 124ms\tremaining: 1.12s\n",
      "10:\tlearn: 4513.1574383\ttotal: 137ms\tremaining: 1.11s\n",
      "11:\tlearn: 4513.1574383\ttotal: 150ms\tremaining: 1.1s\n",
      "12:\tlearn: 4513.1574383\ttotal: 163ms\tremaining: 1.09s\n",
      "13:\tlearn: 4513.1574383\ttotal: 177ms\tremaining: 1.09s\n",
      "14:\tlearn: 4513.1574383\ttotal: 190ms\tremaining: 1.07s\n",
      "15:\tlearn: 4513.1574383\ttotal: 203ms\tremaining: 1.07s\n",
      "16:\tlearn: 4513.1574383\ttotal: 218ms\tremaining: 1.06s\n",
      "17:\tlearn: 4513.1574383\ttotal: 230ms\tremaining: 1.05s\n",
      "18:\tlearn: 4513.1574383\ttotal: 242ms\tremaining: 1.03s\n",
      "19:\tlearn: 4513.1574383\ttotal: 254ms\tremaining: 1.01s\n",
      "20:\tlearn: 4513.1574383\ttotal: 266ms\tremaining: 1000ms\n",
      "21:\tlearn: 4513.1574383\ttotal: 278ms\tremaining: 986ms\n",
      "22:\tlearn: 4513.1574383\ttotal: 290ms\tremaining: 972ms\n",
      "23:\tlearn: 4513.1574383\ttotal: 302ms\tremaining: 958ms\n",
      "24:\tlearn: 4513.1574383\ttotal: 315ms\tremaining: 944ms\n",
      "25:\tlearn: 4513.1574383\ttotal: 327ms\tremaining: 930ms\n",
      "26:\tlearn: 4513.1574383\ttotal: 339ms\tremaining: 917ms\n",
      "27:\tlearn: 4513.1574383\ttotal: 352ms\tremaining: 904ms\n",
      "28:\tlearn: 4513.1574383\ttotal: 364ms\tremaining: 891ms\n",
      "29:\tlearn: 4513.1574383\ttotal: 380ms\tremaining: 887ms\n",
      "30:\tlearn: 4513.1574383\ttotal: 395ms\tremaining: 879ms\n",
      "31:\tlearn: 4513.1574383\ttotal: 407ms\tremaining: 865ms\n",
      "32:\tlearn: 4513.1574383\ttotal: 423ms\tremaining: 858ms\n",
      "33:\tlearn: 4513.1574383\ttotal: 435ms\tremaining: 845ms\n",
      "34:\tlearn: 4513.1574383\ttotal: 447ms\tremaining: 831ms\n",
      "35:\tlearn: 4513.1574383\ttotal: 467ms\tremaining: 830ms\n",
      "36:\tlearn: 4513.1574383\ttotal: 480ms\tremaining: 816ms\n",
      "37:\tlearn: 4513.1574383\ttotal: 492ms\tremaining: 803ms\n",
      "38:\tlearn: 4513.1574383\ttotal: 504ms\tremaining: 789ms\n",
      "39:\tlearn: 4513.1574383\ttotal: 517ms\tremaining: 775ms\n",
      "40:\tlearn: 4513.1574383\ttotal: 529ms\tremaining: 762ms\n",
      "41:\tlearn: 4513.1574383\ttotal: 541ms\tremaining: 748ms\n",
      "42:\tlearn: 4513.1574383\ttotal: 555ms\tremaining: 735ms\n",
      "43:\tlearn: 4513.1574383\ttotal: 567ms\tremaining: 722ms\n",
      "44:\tlearn: 4513.1574383\ttotal: 580ms\tremaining: 709ms\n",
      "45:\tlearn: 4513.1574383\ttotal: 593ms\tremaining: 696ms\n",
      "46:\tlearn: 4513.1574383\ttotal: 605ms\tremaining: 682ms\n",
      "47:\tlearn: 4513.1574383\ttotal: 617ms\tremaining: 669ms\n",
      "48:\tlearn: 4513.1574383\ttotal: 630ms\tremaining: 655ms\n",
      "49:\tlearn: 4513.1574383\ttotal: 642ms\tremaining: 642ms\n",
      "50:\tlearn: 4513.1574383\ttotal: 654ms\tremaining: 628ms\n",
      "51:\tlearn: 4513.1574383\ttotal: 666ms\tremaining: 615ms\n",
      "52:\tlearn: 4513.1574383\ttotal: 678ms\tremaining: 601ms\n",
      "53:\tlearn: 4513.1574383\ttotal: 690ms\tremaining: 588ms\n",
      "54:\tlearn: 4513.1574383\ttotal: 702ms\tremaining: 574ms\n",
      "55:\tlearn: 4513.1574383\ttotal: 714ms\tremaining: 561ms\n",
      "56:\tlearn: 4513.1574383\ttotal: 726ms\tremaining: 548ms\n",
      "57:\tlearn: 4513.1574383\ttotal: 739ms\tremaining: 535ms\n",
      "58:\tlearn: 4513.1574383\ttotal: 751ms\tremaining: 522ms\n",
      "59:\tlearn: 4513.1574383\ttotal: 763ms\tremaining: 509ms\n",
      "60:\tlearn: 4513.1574383\ttotal: 775ms\tremaining: 496ms\n",
      "61:\tlearn: 4513.1574383\ttotal: 788ms\tremaining: 483ms\n",
      "62:\tlearn: 4513.1574383\ttotal: 800ms\tremaining: 470ms\n",
      "63:\tlearn: 4513.1574383\ttotal: 814ms\tremaining: 458ms\n",
      "64:\tlearn: 4513.1574383\ttotal: 826ms\tremaining: 445ms\n",
      "65:\tlearn: 4513.1574383\ttotal: 840ms\tremaining: 433ms\n",
      "66:\tlearn: 4513.1574383\ttotal: 852ms\tremaining: 420ms\n",
      "67:\tlearn: 4513.1574383\ttotal: 864ms\tremaining: 407ms\n",
      "68:\tlearn: 4513.1574383\ttotal: 877ms\tremaining: 394ms\n",
      "69:\tlearn: 4513.1574383\ttotal: 889ms\tremaining: 381ms\n",
      "70:\tlearn: 4513.1574383\ttotal: 901ms\tremaining: 368ms\n",
      "71:\tlearn: 4513.1574383\ttotal: 915ms\tremaining: 356ms\n",
      "72:\tlearn: 4513.1574383\ttotal: 928ms\tremaining: 343ms\n",
      "73:\tlearn: 4513.1574383\ttotal: 940ms\tremaining: 330ms\n",
      "74:\tlearn: 4513.1574383\ttotal: 952ms\tremaining: 317ms\n",
      "75:\tlearn: 4513.1574383\ttotal: 965ms\tremaining: 305ms\n",
      "76:\tlearn: 4513.1574383\ttotal: 977ms\tremaining: 292ms\n",
      "77:\tlearn: 4513.1574383\ttotal: 992ms\tremaining: 280ms\n",
      "78:\tlearn: 4513.1574383\ttotal: 1.01s\tremaining: 268ms\n",
      "79:\tlearn: 4513.1574383\ttotal: 1.02s\tremaining: 256ms\n",
      "80:\tlearn: 4513.1574383\ttotal: 1.03s\tremaining: 243ms\n",
      "81:\tlearn: 4513.1574383\ttotal: 1.05s\tremaining: 230ms\n",
      "82:\tlearn: 4513.1574383\ttotal: 1.06s\tremaining: 217ms\n",
      "83:\tlearn: 4513.1574383\ttotal: 1.07s\tremaining: 204ms\n",
      "84:\tlearn: 4513.1574383\ttotal: 1.08s\tremaining: 191ms\n",
      "85:\tlearn: 4513.1574383\ttotal: 1.1s\tremaining: 179ms\n",
      "86:\tlearn: 4513.1574383\ttotal: 1.11s\tremaining: 166ms\n",
      "87:\tlearn: 4513.1574383\ttotal: 1.12s\tremaining: 153ms\n",
      "88:\tlearn: 4513.1574383\ttotal: 1.13s\tremaining: 140ms\n",
      "89:\tlearn: 4513.1574383\ttotal: 1.15s\tremaining: 127ms\n",
      "90:\tlearn: 4513.1574383\ttotal: 1.16s\tremaining: 115ms\n",
      "91:\tlearn: 4513.1574383\ttotal: 1.17s\tremaining: 102ms\n",
      "92:\tlearn: 4513.1574383\ttotal: 1.19s\tremaining: 89.4ms\n",
      "93:\tlearn: 4513.1574383\ttotal: 1.2s\tremaining: 76.6ms\n",
      "94:\tlearn: 4513.1574383\ttotal: 1.21s\tremaining: 63.9ms\n",
      "95:\tlearn: 4513.1574383\ttotal: 1.23s\tremaining: 51.1ms\n",
      "96:\tlearn: 4513.1574383\ttotal: 1.24s\tremaining: 38.3ms\n",
      "97:\tlearn: 4513.1574383\ttotal: 1.25s\tremaining: 25.5ms\n",
      "98:\tlearn: 4513.1574383\ttotal: 1.26s\tremaining: 12.8ms\n",
      "99:\tlearn: 4513.1574383\ttotal: 1.27s\tremaining: 0us\n",
      "[CV] END ......iterations=100, max_depth=0, model_size_reg=6; total time=   1.6s\n",
      "Learning rate set to 0.5\n",
      "0:\tlearn: 3128.3719962\ttotal: 127ms\tremaining: 10s\n",
      "1:\tlearn: 2585.8371255\ttotal: 256ms\tremaining: 9.99s\n",
      "2:\tlearn: 2355.9553204\ttotal: 377ms\tremaining: 9.68s\n",
      "3:\tlearn: 2232.2081664\ttotal: 500ms\tremaining: 9.49s\n",
      "4:\tlearn: 2149.7753048\ttotal: 625ms\tremaining: 9.38s\n",
      "5:\tlearn: 2045.6628501\ttotal: 745ms\tremaining: 9.18s\n",
      "6:\tlearn: 2005.4269990\ttotal: 859ms\tremaining: 8.96s\n",
      "7:\tlearn: 1967.0175577\ttotal: 984ms\tremaining: 8.85s\n",
      "8:\tlearn: 1921.9786147\ttotal: 1.1s\tremaining: 8.7s\n",
      "9:\tlearn: 1892.6195425\ttotal: 1.22s\tremaining: 8.55s\n",
      "10:\tlearn: 1879.1135531\ttotal: 1.35s\tremaining: 8.48s\n",
      "11:\tlearn: 1864.7537349\ttotal: 1.48s\tremaining: 8.36s\n",
      "12:\tlearn: 1849.9092286\ttotal: 1.6s\tremaining: 8.25s\n",
      "13:\tlearn: 1834.0454938\ttotal: 1.72s\tremaining: 8.1s\n",
      "14:\tlearn: 1822.7604479\ttotal: 1.84s\tremaining: 7.96s\n",
      "15:\tlearn: 1814.9977867\ttotal: 1.97s\tremaining: 7.89s\n",
      "16:\tlearn: 1803.8714665\ttotal: 2.11s\tremaining: 7.81s\n",
      "17:\tlearn: 1796.5019715\ttotal: 2.23s\tremaining: 7.68s\n",
      "18:\tlearn: 1789.5303191\ttotal: 2.37s\tremaining: 7.6s\n",
      "19:\tlearn: 1780.3449961\ttotal: 2.49s\tremaining: 7.46s\n",
      "20:\tlearn: 1776.3533490\ttotal: 2.61s\tremaining: 7.34s\n",
      "21:\tlearn: 1768.3663613\ttotal: 2.74s\tremaining: 7.22s\n",
      "22:\tlearn: 1761.7816698\ttotal: 2.86s\tremaining: 7.1s\n",
      "23:\tlearn: 1753.9451948\ttotal: 2.98s\tremaining: 6.97s\n",
      "24:\tlearn: 1744.2515726\ttotal: 3.1s\tremaining: 6.82s\n",
      "25:\tlearn: 1738.2770852\ttotal: 3.22s\tremaining: 6.69s\n",
      "26:\tlearn: 1735.1208588\ttotal: 3.36s\tremaining: 6.6s\n",
      "27:\tlearn: 1727.7470529\ttotal: 3.49s\tremaining: 6.47s\n",
      "28:\tlearn: 1722.6388448\ttotal: 3.61s\tremaining: 6.35s\n",
      "29:\tlearn: 1714.4862541\ttotal: 3.74s\tremaining: 6.23s\n",
      "30:\tlearn: 1704.3763543\ttotal: 3.86s\tremaining: 6.09s\n",
      "31:\tlearn: 1694.7067328\ttotal: 3.98s\tremaining: 5.97s\n",
      "32:\tlearn: 1688.2723749\ttotal: 4.1s\tremaining: 5.84s\n",
      "33:\tlearn: 1680.4922676\ttotal: 4.22s\tremaining: 5.71s\n",
      "34:\tlearn: 1676.1705176\ttotal: 4.38s\tremaining: 5.63s\n",
      "35:\tlearn: 1672.6734578\ttotal: 4.5s\tremaining: 5.5s\n",
      "36:\tlearn: 1668.3998409\ttotal: 4.63s\tremaining: 5.38s\n",
      "37:\tlearn: 1668.2175988\ttotal: 4.76s\tremaining: 5.26s\n",
      "38:\tlearn: 1660.6644471\ttotal: 4.88s\tremaining: 5.13s\n",
      "39:\tlearn: 1653.3506263\ttotal: 4.99s\tremaining: 4.99s\n",
      "40:\tlearn: 1649.7750697\ttotal: 5.11s\tremaining: 4.86s\n",
      "41:\tlearn: 1642.1449321\ttotal: 5.26s\tremaining: 4.76s\n",
      "42:\tlearn: 1639.7815146\ttotal: 5.38s\tremaining: 4.63s\n",
      "43:\tlearn: 1634.6102636\ttotal: 5.51s\tremaining: 4.5s\n",
      "44:\tlearn: 1629.9193185\ttotal: 5.64s\tremaining: 4.39s\n",
      "45:\tlearn: 1629.2670668\ttotal: 5.72s\tremaining: 4.23s\n",
      "46:\tlearn: 1628.5983103\ttotal: 5.84s\tremaining: 4.1s\n",
      "47:\tlearn: 1625.5049976\ttotal: 5.96s\tremaining: 3.97s\n",
      "48:\tlearn: 1621.5865912\ttotal: 6.07s\tremaining: 3.84s\n",
      "49:\tlearn: 1621.2002239\ttotal: 6.15s\tremaining: 3.69s\n",
      "50:\tlearn: 1615.0754032\ttotal: 6.27s\tremaining: 3.57s\n",
      "51:\tlearn: 1611.7016035\ttotal: 6.4s\tremaining: 3.45s\n",
      "52:\tlearn: 1608.9674456\ttotal: 6.53s\tremaining: 3.33s\n",
      "53:\tlearn: 1603.5941584\ttotal: 6.65s\tremaining: 3.2s\n",
      "54:\tlearn: 1600.3315552\ttotal: 6.78s\tremaining: 3.08s\n",
      "55:\tlearn: 1595.5373210\ttotal: 6.89s\tremaining: 2.95s\n",
      "56:\tlearn: 1589.3745777\ttotal: 7.01s\tremaining: 2.83s\n",
      "57:\tlearn: 1584.8657578\ttotal: 7.13s\tremaining: 2.71s\n",
      "58:\tlearn: 1579.5561101\ttotal: 7.26s\tremaining: 2.58s\n",
      "59:\tlearn: 1577.5008945\ttotal: 7.39s\tremaining: 2.46s\n",
      "60:\tlearn: 1571.9222278\ttotal: 7.51s\tremaining: 2.34s\n",
      "61:\tlearn: 1569.7960557\ttotal: 7.63s\tremaining: 2.22s\n",
      "62:\tlearn: 1566.2949007\ttotal: 7.76s\tremaining: 2.09s\n",
      "63:\tlearn: 1563.8733023\ttotal: 7.88s\tremaining: 1.97s\n",
      "64:\tlearn: 1559.1512165\ttotal: 8.01s\tremaining: 1.85s\n",
      "65:\tlearn: 1555.2493466\ttotal: 8.13s\tremaining: 1.72s\n",
      "66:\tlearn: 1551.5067718\ttotal: 8.26s\tremaining: 1.6s\n",
      "67:\tlearn: 1535.6633379\ttotal: 8.38s\tremaining: 1.48s\n",
      "68:\tlearn: 1525.4855168\ttotal: 8.52s\tremaining: 1.36s\n",
      "69:\tlearn: 1519.1915098\ttotal: 8.65s\tremaining: 1.24s\n",
      "70:\tlearn: 1510.9959905\ttotal: 8.78s\tremaining: 1.11s\n",
      "71:\tlearn: 1502.7812815\ttotal: 8.9s\tremaining: 989ms\n",
      "72:\tlearn: 1496.2802941\ttotal: 9.02s\tremaining: 865ms\n",
      "73:\tlearn: 1492.9382522\ttotal: 9.14s\tremaining: 741ms\n",
      "74:\tlearn: 1485.3158660\ttotal: 9.27s\tremaining: 618ms\n",
      "75:\tlearn: 1478.5060364\ttotal: 9.4s\tremaining: 495ms\n",
      "76:\tlearn: 1473.8570879\ttotal: 9.52s\tremaining: 371ms\n",
      "77:\tlearn: 1469.0624224\ttotal: 9.65s\tremaining: 247ms\n",
      "78:\tlearn: 1465.7744006\ttotal: 9.78s\tremaining: 124ms\n",
      "79:\tlearn: 1463.0221634\ttotal: 9.9s\tremaining: 0us\n",
      "[CV] END ......iterations=80, max_depth=12, model_size_reg=4; total time=  10.3s\n",
      "Learning rate set to 0.5\n",
      "0:\tlearn: 3121.4192977\ttotal: 121ms\tremaining: 9.53s\n",
      "1:\tlearn: 2584.5155691\ttotal: 259ms\tremaining: 10.1s\n",
      "2:\tlearn: 2358.2020149\ttotal: 377ms\tremaining: 9.67s\n",
      "3:\tlearn: 2217.3933357\ttotal: 491ms\tremaining: 9.32s\n",
      "4:\tlearn: 2103.1446668\ttotal: 605ms\tremaining: 9.08s\n",
      "5:\tlearn: 2030.8216577\ttotal: 725ms\tremaining: 8.94s\n",
      "6:\tlearn: 1968.4425276\ttotal: 846ms\tremaining: 8.82s\n",
      "7:\tlearn: 1933.0343247\ttotal: 973ms\tremaining: 8.75s\n",
      "8:\tlearn: 1920.0633041\ttotal: 1.1s\tremaining: 8.65s\n",
      "9:\tlearn: 1887.6283122\ttotal: 1.21s\tremaining: 8.5s\n",
      "10:\tlearn: 1873.6550784\ttotal: 1.34s\tremaining: 8.4s\n",
      "11:\tlearn: 1864.8551411\ttotal: 1.46s\tremaining: 8.28s\n",
      "12:\tlearn: 1851.0448141\ttotal: 1.59s\tremaining: 8.18s\n",
      "13:\tlearn: 1836.7968081\ttotal: 1.71s\tremaining: 8.04s\n",
      "14:\tlearn: 1811.6683142\ttotal: 1.84s\tremaining: 7.96s\n",
      "15:\tlearn: 1801.7641878\ttotal: 1.95s\tremaining: 7.81s\n",
      "16:\tlearn: 1792.2178739\ttotal: 2.09s\tremaining: 7.76s\n",
      "17:\tlearn: 1784.3224091\ttotal: 2.23s\tremaining: 7.68s\n",
      "18:\tlearn: 1780.5517285\ttotal: 2.35s\tremaining: 7.56s\n",
      "19:\tlearn: 1769.6576566\ttotal: 2.48s\tremaining: 7.43s\n",
      "20:\tlearn: 1761.4897505\ttotal: 2.6s\tremaining: 7.3s\n",
      "21:\tlearn: 1752.8236294\ttotal: 2.71s\tremaining: 7.16s\n",
      "22:\tlearn: 1750.2503616\ttotal: 2.84s\tremaining: 7.04s\n",
      "23:\tlearn: 1742.3867715\ttotal: 2.96s\tremaining: 6.92s\n",
      "24:\tlearn: 1732.3514372\ttotal: 3.09s\tremaining: 6.79s\n",
      "25:\tlearn: 1725.5614202\ttotal: 3.21s\tremaining: 6.67s\n",
      "26:\tlearn: 1716.6582355\ttotal: 3.33s\tremaining: 6.54s\n",
      "27:\tlearn: 1712.2265541\ttotal: 3.46s\tremaining: 6.43s\n",
      "28:\tlearn: 1705.9053517\ttotal: 3.58s\tremaining: 6.3s\n",
      "29:\tlearn: 1697.1734060\ttotal: 3.7s\tremaining: 6.17s\n",
      "30:\tlearn: 1691.8388103\ttotal: 3.85s\tremaining: 6.09s\n",
      "31:\tlearn: 1685.1339295\ttotal: 3.99s\tremaining: 5.98s\n",
      "32:\tlearn: 1681.8997433\ttotal: 4.12s\tremaining: 5.87s\n",
      "33:\tlearn: 1675.6537726\ttotal: 4.33s\tremaining: 5.85s\n",
      "34:\tlearn: 1668.9592976\ttotal: 4.45s\tremaining: 5.72s\n",
      "35:\tlearn: 1667.2000608\ttotal: 4.57s\tremaining: 5.59s\n",
      "36:\tlearn: 1662.0444137\ttotal: 4.7s\tremaining: 5.46s\n",
      "37:\tlearn: 1654.9030053\ttotal: 4.84s\tremaining: 5.34s\n",
      "38:\tlearn: 1651.4065842\ttotal: 4.96s\tremaining: 5.21s\n",
      "39:\tlearn: 1642.4430543\ttotal: 5.1s\tremaining: 5.1s\n",
      "40:\tlearn: 1638.8621056\ttotal: 5.21s\tremaining: 4.96s\n",
      "41:\tlearn: 1635.8219692\ttotal: 5.34s\tremaining: 4.83s\n",
      "42:\tlearn: 1629.5789529\ttotal: 5.49s\tremaining: 4.72s\n",
      "43:\tlearn: 1628.7842998\ttotal: 5.68s\tremaining: 4.64s\n",
      "44:\tlearn: 1624.1230157\ttotal: 5.88s\tremaining: 4.57s\n",
      "45:\tlearn: 1619.4917626\ttotal: 6.07s\tremaining: 4.49s\n",
      "46:\tlearn: 1613.3943777\ttotal: 6.27s\tremaining: 4.4s\n",
      "47:\tlearn: 1607.2786783\ttotal: 6.42s\tremaining: 4.28s\n",
      "48:\tlearn: 1603.9069204\ttotal: 6.55s\tremaining: 4.14s\n",
      "49:\tlearn: 1600.2573963\ttotal: 6.67s\tremaining: 4s\n",
      "50:\tlearn: 1598.6993742\ttotal: 6.79s\tremaining: 3.86s\n",
      "51:\tlearn: 1594.0356100\ttotal: 6.95s\tremaining: 3.74s\n",
      "52:\tlearn: 1588.7522011\ttotal: 7.15s\tremaining: 3.64s\n",
      "53:\tlearn: 1585.5074612\ttotal: 7.27s\tremaining: 3.5s\n",
      "54:\tlearn: 1581.9652730\ttotal: 7.39s\tremaining: 3.36s\n",
      "55:\tlearn: 1577.8087456\ttotal: 7.53s\tremaining: 3.23s\n",
      "56:\tlearn: 1574.3951205\ttotal: 7.66s\tremaining: 3.09s\n",
      "57:\tlearn: 1569.2052492\ttotal: 7.79s\tremaining: 2.95s\n",
      "58:\tlearn: 1564.8062737\ttotal: 7.91s\tremaining: 2.82s\n",
      "59:\tlearn: 1562.6943262\ttotal: 8.04s\tremaining: 2.68s\n",
      "60:\tlearn: 1559.7737929\ttotal: 8.18s\tremaining: 2.55s\n",
      "61:\tlearn: 1557.4374921\ttotal: 8.32s\tremaining: 2.42s\n",
      "62:\tlearn: 1549.6833902\ttotal: 8.46s\tremaining: 2.28s\n",
      "63:\tlearn: 1547.4262644\ttotal: 8.59s\tremaining: 2.15s\n",
      "64:\tlearn: 1542.5666190\ttotal: 8.72s\tremaining: 2.01s\n",
      "65:\tlearn: 1540.6740028\ttotal: 8.84s\tremaining: 1.88s\n",
      "66:\tlearn: 1537.3237363\ttotal: 8.97s\tremaining: 1.74s\n",
      "67:\tlearn: 1533.2068832\ttotal: 9.1s\tremaining: 1.6s\n",
      "68:\tlearn: 1530.8003365\ttotal: 9.23s\tremaining: 1.47s\n",
      "69:\tlearn: 1527.5425235\ttotal: 9.36s\tremaining: 1.34s\n",
      "70:\tlearn: 1524.1139561\ttotal: 9.49s\tremaining: 1.2s\n",
      "71:\tlearn: 1509.5509741\ttotal: 9.62s\tremaining: 1.07s\n",
      "72:\tlearn: 1499.3763084\ttotal: 9.74s\tremaining: 934ms\n",
      "73:\tlearn: 1492.6818482\ttotal: 9.87s\tremaining: 800ms\n",
      "74:\tlearn: 1485.7790858\ttotal: 9.99s\tremaining: 666ms\n",
      "75:\tlearn: 1479.9067236\ttotal: 10.1s\tremaining: 533ms\n",
      "76:\tlearn: 1474.2506633\ttotal: 10.3s\tremaining: 399ms\n",
      "77:\tlearn: 1469.6504538\ttotal: 10.4s\tremaining: 266ms\n",
      "78:\tlearn: 1465.8615071\ttotal: 10.5s\tremaining: 133ms\n",
      "79:\tlearn: 1461.6218816\ttotal: 10.6s\tremaining: 0us\n",
      "[CV] END ......iterations=80, max_depth=12, model_size_reg=4; total time=  11.0s\n",
      "Learning rate set to 0.5\n",
      "0:\tlearn: 3139.0063044\ttotal: 120ms\tremaining: 9.48s\n",
      "1:\tlearn: 2579.0833601\ttotal: 257ms\tremaining: 10s\n",
      "2:\tlearn: 2350.7797054\ttotal: 381ms\tremaining: 9.77s\n",
      "3:\tlearn: 2219.2666400\ttotal: 502ms\tremaining: 9.54s\n",
      "4:\tlearn: 2092.6241776\ttotal: 629ms\tremaining: 9.43s\n",
      "5:\tlearn: 2047.5650729\ttotal: 750ms\tremaining: 9.24s\n",
      "6:\tlearn: 1991.8304212\ttotal: 870ms\tremaining: 9.07s\n",
      "7:\tlearn: 1945.9426044\ttotal: 1.01s\tremaining: 9.1s\n",
      "8:\tlearn: 1910.5675379\ttotal: 1.13s\tremaining: 8.93s\n",
      "9:\tlearn: 1889.7975679\ttotal: 1.26s\tremaining: 8.83s\n",
      "10:\tlearn: 1877.7081922\ttotal: 1.38s\tremaining: 8.65s\n",
      "11:\tlearn: 1864.5521696\ttotal: 1.5s\tremaining: 8.53s\n",
      "12:\tlearn: 1852.1752551\ttotal: 1.63s\tremaining: 8.38s\n",
      "13:\tlearn: 1839.7610436\ttotal: 1.74s\tremaining: 8.22s\n",
      "14:\tlearn: 1831.0958942\ttotal: 1.87s\tremaining: 8.09s\n",
      "15:\tlearn: 1823.8640654\ttotal: 1.98s\tremaining: 7.93s\n",
      "16:\tlearn: 1814.1761598\ttotal: 2.12s\tremaining: 7.87s\n",
      "17:\tlearn: 1803.5618441\ttotal: 2.25s\tremaining: 7.76s\n",
      "18:\tlearn: 1792.3510718\ttotal: 2.38s\tremaining: 7.64s\n",
      "19:\tlearn: 1783.9232391\ttotal: 2.6s\tremaining: 7.8s\n",
      "20:\tlearn: 1778.1466622\ttotal: 2.83s\tremaining: 7.96s\n",
      "21:\tlearn: 1762.0013748\ttotal: 2.97s\tremaining: 7.82s\n",
      "22:\tlearn: 1752.8992963\ttotal: 3.09s\tremaining: 7.67s\n",
      "23:\tlearn: 1748.1674275\ttotal: 3.22s\tremaining: 7.52s\n",
      "24:\tlearn: 1741.9700339\ttotal: 3.43s\tremaining: 7.54s\n",
      "25:\tlearn: 1733.0507729\ttotal: 3.67s\tremaining: 7.62s\n",
      "26:\tlearn: 1724.3553099\ttotal: 3.88s\tremaining: 7.61s\n",
      "27:\tlearn: 1714.3189219\ttotal: 4.03s\tremaining: 7.49s\n",
      "28:\tlearn: 1706.9529182\ttotal: 4.17s\tremaining: 7.33s\n",
      "29:\tlearn: 1701.0636464\ttotal: 4.29s\tremaining: 7.15s\n",
      "30:\tlearn: 1698.4398054\ttotal: 4.41s\tremaining: 6.98s\n",
      "31:\tlearn: 1691.0712751\ttotal: 4.55s\tremaining: 6.83s\n",
      "32:\tlearn: 1685.6188340\ttotal: 4.68s\tremaining: 6.67s\n",
      "33:\tlearn: 1679.5489070\ttotal: 4.8s\tremaining: 6.49s\n",
      "34:\tlearn: 1672.7988191\ttotal: 4.93s\tremaining: 6.33s\n",
      "35:\tlearn: 1668.7093336\ttotal: 5.05s\tremaining: 6.18s\n",
      "36:\tlearn: 1660.3495588\ttotal: 5.19s\tremaining: 6.03s\n",
      "37:\tlearn: 1656.8780680\ttotal: 5.32s\tremaining: 5.88s\n",
      "38:\tlearn: 1653.2929155\ttotal: 5.59s\tremaining: 5.87s\n",
      "39:\tlearn: 1646.2242945\ttotal: 5.91s\tremaining: 5.91s\n",
      "40:\tlearn: 1641.7293132\ttotal: 6.12s\tremaining: 5.82s\n",
      "41:\tlearn: 1638.6451947\ttotal: 6.24s\tremaining: 5.65s\n",
      "42:\tlearn: 1634.1930451\ttotal: 6.37s\tremaining: 5.48s\n",
      "43:\tlearn: 1631.3911978\ttotal: 6.5s\tremaining: 5.32s\n",
      "44:\tlearn: 1626.1479883\ttotal: 6.62s\tremaining: 5.15s\n",
      "45:\tlearn: 1621.9432020\ttotal: 6.74s\tremaining: 4.98s\n",
      "46:\tlearn: 1615.0093035\ttotal: 6.87s\tremaining: 4.82s\n",
      "47:\tlearn: 1611.8935208\ttotal: 6.99s\tremaining: 4.66s\n",
      "48:\tlearn: 1605.6614243\ttotal: 7.12s\tremaining: 4.51s\n",
      "49:\tlearn: 1600.6875340\ttotal: 7.24s\tremaining: 4.34s\n",
      "50:\tlearn: 1596.5077295\ttotal: 7.36s\tremaining: 4.18s\n",
      "51:\tlearn: 1594.4667357\ttotal: 7.48s\tremaining: 4.03s\n",
      "52:\tlearn: 1588.5972442\ttotal: 7.6s\tremaining: 3.87s\n",
      "53:\tlearn: 1586.1856006\ttotal: 7.72s\tremaining: 3.72s\n",
      "54:\tlearn: 1582.0063692\ttotal: 7.85s\tremaining: 3.57s\n",
      "55:\tlearn: 1578.5437983\ttotal: 7.97s\tremaining: 3.42s\n",
      "56:\tlearn: 1575.7876054\ttotal: 8.11s\tremaining: 3.27s\n",
      "57:\tlearn: 1572.5672609\ttotal: 8.24s\tremaining: 3.12s\n",
      "58:\tlearn: 1569.1230095\ttotal: 8.36s\tremaining: 2.98s\n",
      "59:\tlearn: 1567.1225819\ttotal: 8.48s\tremaining: 2.83s\n",
      "60:\tlearn: 1564.9820765\ttotal: 8.61s\tremaining: 2.68s\n",
      "61:\tlearn: 1562.5968860\ttotal: 8.73s\tremaining: 2.54s\n",
      "62:\tlearn: 1559.0892988\ttotal: 8.85s\tremaining: 2.39s\n",
      "63:\tlearn: 1555.6955946\ttotal: 8.98s\tremaining: 2.24s\n",
      "64:\tlearn: 1540.1944825\ttotal: 9.1s\tremaining: 2.1s\n",
      "65:\tlearn: 1529.6768540\ttotal: 9.24s\tremaining: 1.96s\n",
      "66:\tlearn: 1520.0835348\ttotal: 9.36s\tremaining: 1.81s\n",
      "67:\tlearn: 1512.6971155\ttotal: 9.48s\tremaining: 1.67s\n",
      "68:\tlearn: 1500.5964822\ttotal: 9.61s\tremaining: 1.53s\n",
      "69:\tlearn: 1496.2532998\ttotal: 9.73s\tremaining: 1.39s\n",
      "70:\tlearn: 1491.6071134\ttotal: 9.85s\tremaining: 1.25s\n",
      "71:\tlearn: 1487.0083917\ttotal: 9.97s\tremaining: 1.11s\n",
      "72:\tlearn: 1482.5312925\ttotal: 10.1s\tremaining: 968ms\n",
      "73:\tlearn: 1476.8077765\ttotal: 10.2s\tremaining: 829ms\n",
      "74:\tlearn: 1471.5751536\ttotal: 10.4s\tremaining: 691ms\n",
      "75:\tlearn: 1466.6150723\ttotal: 10.5s\tremaining: 552ms\n",
      "76:\tlearn: 1462.1040153\ttotal: 10.6s\tremaining: 413ms\n",
      "77:\tlearn: 1456.1860473\ttotal: 10.7s\tremaining: 275ms\n",
      "78:\tlearn: 1450.1863045\ttotal: 10.9s\tremaining: 137ms\n",
      "79:\tlearn: 1448.1567476\ttotal: 11s\tremaining: 0us\n",
      "[CV] END ......iterations=80, max_depth=12, model_size_reg=4; total time=  11.4s\n",
      "Learning rate set to 0.5\n",
      "0:\tlearn: 3134.2949634\ttotal: 129ms\tremaining: 10.2s\n",
      "1:\tlearn: 2582.4316740\ttotal: 258ms\tremaining: 10s\n",
      "2:\tlearn: 2356.4988373\ttotal: 375ms\tremaining: 9.63s\n",
      "3:\tlearn: 2220.3672015\ttotal: 494ms\tremaining: 9.39s\n",
      "4:\tlearn: 2105.8004758\ttotal: 634ms\tremaining: 9.51s\n",
      "5:\tlearn: 2050.3549710\ttotal: 755ms\tremaining: 9.31s\n",
      "6:\tlearn: 1998.1195348\ttotal: 877ms\tremaining: 9.15s\n",
      "7:\tlearn: 1943.3166426\ttotal: 996ms\tremaining: 8.96s\n",
      "8:\tlearn: 1916.1948567\ttotal: 1.15s\tremaining: 9.08s\n",
      "9:\tlearn: 1898.3666322\ttotal: 1.28s\tremaining: 8.94s\n",
      "10:\tlearn: 1886.5320030\ttotal: 1.41s\tremaining: 8.85s\n",
      "11:\tlearn: 1877.5396338\ttotal: 1.53s\tremaining: 8.7s\n",
      "12:\tlearn: 1865.3947651\ttotal: 1.67s\tremaining: 8.59s\n",
      "13:\tlearn: 1849.5869479\ttotal: 1.79s\tremaining: 8.43s\n",
      "14:\tlearn: 1841.5817346\ttotal: 1.91s\tremaining: 8.27s\n",
      "15:\tlearn: 1825.0578576\ttotal: 2.05s\tremaining: 8.2s\n",
      "16:\tlearn: 1809.4966093\ttotal: 2.18s\tremaining: 8.07s\n",
      "17:\tlearn: 1801.5603615\ttotal: 2.31s\tremaining: 7.94s\n",
      "18:\tlearn: 1789.4413511\ttotal: 2.42s\tremaining: 7.78s\n",
      "19:\tlearn: 1780.9213411\ttotal: 2.55s\tremaining: 7.65s\n",
      "20:\tlearn: 1776.1104503\ttotal: 2.68s\tremaining: 7.52s\n",
      "21:\tlearn: 1770.7275619\ttotal: 2.8s\tremaining: 7.39s\n",
      "22:\tlearn: 1756.4207979\ttotal: 2.92s\tremaining: 7.25s\n",
      "23:\tlearn: 1749.0753077\ttotal: 3.04s\tremaining: 7.11s\n",
      "24:\tlearn: 1739.4880904\ttotal: 3.17s\tremaining: 6.97s\n",
      "25:\tlearn: 1733.9782724\ttotal: 3.29s\tremaining: 6.82s\n",
      "26:\tlearn: 1727.8520865\ttotal: 3.42s\tremaining: 6.72s\n",
      "27:\tlearn: 1721.4788705\ttotal: 3.55s\tremaining: 6.59s\n",
      "28:\tlearn: 1714.8562751\ttotal: 3.68s\tremaining: 6.46s\n",
      "29:\tlearn: 1707.6107372\ttotal: 3.8s\tremaining: 6.33s\n",
      "30:\tlearn: 1700.0977200\ttotal: 3.92s\tremaining: 6.2s\n",
      "31:\tlearn: 1697.0545979\ttotal: 4.04s\tremaining: 6.07s\n",
      "32:\tlearn: 1688.6034791\ttotal: 4.17s\tremaining: 5.93s\n",
      "33:\tlearn: 1683.2403909\ttotal: 4.29s\tremaining: 5.8s\n",
      "34:\tlearn: 1676.2041061\ttotal: 4.4s\tremaining: 5.66s\n",
      "35:\tlearn: 1668.3699617\ttotal: 4.52s\tremaining: 5.52s\n",
      "36:\tlearn: 1662.9865442\ttotal: 4.64s\tremaining: 5.39s\n",
      "37:\tlearn: 1658.2251278\ttotal: 4.78s\tremaining: 5.28s\n",
      "38:\tlearn: 1652.0152632\ttotal: 4.9s\tremaining: 5.15s\n",
      "39:\tlearn: 1646.9319099\ttotal: 5.02s\tremaining: 5.02s\n",
      "40:\tlearn: 1642.4034656\ttotal: 5.15s\tremaining: 4.9s\n",
      "41:\tlearn: 1637.8602435\ttotal: 5.26s\tremaining: 4.76s\n",
      "42:\tlearn: 1634.4067415\ttotal: 5.39s\tremaining: 4.64s\n",
      "43:\tlearn: 1627.9534945\ttotal: 5.51s\tremaining: 4.51s\n",
      "44:\tlearn: 1624.8944815\ttotal: 5.64s\tremaining: 4.38s\n",
      "45:\tlearn: 1622.2465853\ttotal: 5.78s\tremaining: 4.27s\n",
      "46:\tlearn: 1615.3366810\ttotal: 5.89s\tremaining: 4.13s\n",
      "47:\tlearn: 1610.0360027\ttotal: 6.01s\tremaining: 4.01s\n",
      "48:\tlearn: 1605.7008006\ttotal: 6.14s\tremaining: 3.88s\n",
      "49:\tlearn: 1605.4317597\ttotal: 6.21s\tremaining: 3.73s\n",
      "50:\tlearn: 1603.0710014\ttotal: 6.34s\tremaining: 3.6s\n",
      "51:\tlearn: 1596.9277530\ttotal: 6.46s\tremaining: 3.48s\n",
      "52:\tlearn: 1594.6452185\ttotal: 6.58s\tremaining: 3.35s\n",
      "53:\tlearn: 1592.3316684\ttotal: 6.7s\tremaining: 3.23s\n",
      "54:\tlearn: 1588.6459507\ttotal: 6.83s\tremaining: 3.11s\n",
      "55:\tlearn: 1586.5196035\ttotal: 6.96s\tremaining: 2.98s\n",
      "56:\tlearn: 1579.9690842\ttotal: 7.08s\tremaining: 2.86s\n",
      "57:\tlearn: 1577.9388033\ttotal: 7.21s\tremaining: 2.73s\n",
      "58:\tlearn: 1572.6183879\ttotal: 7.33s\tremaining: 2.61s\n",
      "59:\tlearn: 1567.9975808\ttotal: 7.46s\tremaining: 2.49s\n",
      "60:\tlearn: 1564.1828128\ttotal: 7.59s\tremaining: 2.36s\n",
      "61:\tlearn: 1562.4580158\ttotal: 7.71s\tremaining: 2.24s\n",
      "62:\tlearn: 1558.8873185\ttotal: 7.85s\tremaining: 2.12s\n",
      "63:\tlearn: 1557.5813943\ttotal: 7.98s\tremaining: 1.99s\n",
      "64:\tlearn: 1540.8687993\ttotal: 8.11s\tremaining: 1.87s\n",
      "65:\tlearn: 1531.7010315\ttotal: 8.23s\tremaining: 1.75s\n",
      "66:\tlearn: 1524.8757627\ttotal: 8.36s\tremaining: 1.62s\n",
      "67:\tlearn: 1518.7727306\ttotal: 8.48s\tremaining: 1.5s\n",
      "68:\tlearn: 1511.5908805\ttotal: 8.6s\tremaining: 1.37s\n",
      "69:\tlearn: 1506.9473919\ttotal: 8.72s\tremaining: 1.25s\n",
      "70:\tlearn: 1499.3704172\ttotal: 8.85s\tremaining: 1.12s\n",
      "71:\tlearn: 1493.4486965\ttotal: 8.98s\tremaining: 998ms\n",
      "72:\tlearn: 1485.2748625\ttotal: 9.11s\tremaining: 873ms\n",
      "73:\tlearn: 1480.1294091\ttotal: 9.24s\tremaining: 749ms\n",
      "74:\tlearn: 1478.3102860\ttotal: 9.37s\tremaining: 625ms\n",
      "75:\tlearn: 1475.6820124\ttotal: 9.49s\tremaining: 500ms\n",
      "76:\tlearn: 1470.1546471\ttotal: 9.61s\tremaining: 374ms\n",
      "77:\tlearn: 1468.5155433\ttotal: 9.73s\tremaining: 249ms\n",
      "78:\tlearn: 1464.5657080\ttotal: 9.86s\tremaining: 125ms\n",
      "79:\tlearn: 1461.8151743\ttotal: 9.98s\tremaining: 0us\n",
      "[CV] END ......iterations=80, max_depth=12, model_size_reg=4; total time=  10.4s\n",
      "Learning rate set to 0.5\n",
      "0:\tlearn: 3119.9468852\ttotal: 118ms\tremaining: 9.36s\n",
      "1:\tlearn: 2584.0763578\ttotal: 250ms\tremaining: 9.76s\n",
      "2:\tlearn: 2355.7391428\ttotal: 369ms\tremaining: 9.48s\n",
      "3:\tlearn: 2219.1392566\ttotal: 514ms\tremaining: 9.77s\n",
      "4:\tlearn: 2097.2397173\ttotal: 681ms\tremaining: 10.2s\n",
      "5:\tlearn: 2044.8741848\ttotal: 818ms\tremaining: 10.1s\n",
      "6:\tlearn: 1998.9446271\ttotal: 941ms\tremaining: 9.81s\n",
      "7:\tlearn: 1943.7609927\ttotal: 1.06s\tremaining: 9.58s\n",
      "8:\tlearn: 1915.3828853\ttotal: 1.18s\tremaining: 9.35s\n",
      "9:\tlearn: 1896.9369115\ttotal: 1.33s\tremaining: 9.29s\n",
      "10:\tlearn: 1883.1337253\ttotal: 1.47s\tremaining: 9.22s\n",
      "11:\tlearn: 1871.9069786\ttotal: 1.6s\tremaining: 9.09s\n",
      "12:\tlearn: 1856.5884461\ttotal: 1.73s\tremaining: 8.93s\n",
      "13:\tlearn: 1841.8078955\ttotal: 1.86s\tremaining: 8.75s\n",
      "14:\tlearn: 1821.7932920\ttotal: 1.98s\tremaining: 8.6s\n",
      "15:\tlearn: 1808.2197670\ttotal: 2.11s\tremaining: 8.42s\n",
      "16:\tlearn: 1796.0164097\ttotal: 2.22s\tremaining: 8.24s\n",
      "17:\tlearn: 1785.3482128\ttotal: 2.35s\tremaining: 8.1s\n",
      "18:\tlearn: 1774.8171070\ttotal: 2.48s\tremaining: 7.96s\n",
      "19:\tlearn: 1766.8835105\ttotal: 2.6s\tremaining: 7.8s\n",
      "20:\tlearn: 1761.9547378\ttotal: 2.73s\tremaining: 7.66s\n",
      "21:\tlearn: 1756.7363290\ttotal: 2.87s\tremaining: 7.56s\n",
      "22:\tlearn: 1749.2121531\ttotal: 2.99s\tremaining: 7.41s\n",
      "23:\tlearn: 1742.7220752\ttotal: 3.11s\tremaining: 7.26s\n",
      "24:\tlearn: 1734.0221764\ttotal: 3.24s\tremaining: 7.13s\n",
      "25:\tlearn: 1725.2143622\ttotal: 3.39s\tremaining: 7.04s\n",
      "26:\tlearn: 1719.5113704\ttotal: 3.52s\tremaining: 6.9s\n",
      "27:\tlearn: 1710.1544354\ttotal: 3.64s\tremaining: 6.76s\n",
      "28:\tlearn: 1704.9710792\ttotal: 3.77s\tremaining: 6.64s\n",
      "29:\tlearn: 1695.3441862\ttotal: 3.9s\tremaining: 6.5s\n",
      "30:\tlearn: 1687.4054956\ttotal: 4.03s\tremaining: 6.36s\n",
      "31:\tlearn: 1681.9696118\ttotal: 4.15s\tremaining: 6.23s\n",
      "32:\tlearn: 1676.1568934\ttotal: 4.28s\tremaining: 6.1s\n",
      "33:\tlearn: 1668.3294583\ttotal: 4.42s\tremaining: 5.97s\n",
      "34:\tlearn: 1664.8849881\ttotal: 4.53s\tremaining: 5.83s\n",
      "35:\tlearn: 1660.2827723\ttotal: 4.66s\tremaining: 5.69s\n",
      "36:\tlearn: 1657.1972122\ttotal: 4.79s\tremaining: 5.56s\n",
      "37:\tlearn: 1653.7120274\ttotal: 4.91s\tremaining: 5.42s\n",
      "38:\tlearn: 1653.5197399\ttotal: 5.03s\tremaining: 5.29s\n",
      "39:\tlearn: 1648.9947626\ttotal: 5.15s\tremaining: 5.15s\n",
      "40:\tlearn: 1641.0305114\ttotal: 5.28s\tremaining: 5.02s\n",
      "41:\tlearn: 1635.9065817\ttotal: 5.4s\tremaining: 4.89s\n",
      "42:\tlearn: 1630.1420748\ttotal: 5.52s\tremaining: 4.75s\n",
      "43:\tlearn: 1624.2490051\ttotal: 5.64s\tremaining: 4.61s\n",
      "44:\tlearn: 1620.3558030\ttotal: 5.76s\tremaining: 4.48s\n",
      "45:\tlearn: 1613.3252367\ttotal: 5.88s\tremaining: 4.35s\n",
      "46:\tlearn: 1606.3172861\ttotal: 6s\tremaining: 4.21s\n",
      "47:\tlearn: 1606.0871790\ttotal: 6.13s\tremaining: 4.08s\n",
      "48:\tlearn: 1601.6917200\ttotal: 6.24s\tremaining: 3.95s\n",
      "49:\tlearn: 1596.8025694\ttotal: 6.36s\tremaining: 3.82s\n",
      "50:\tlearn: 1595.7897207\ttotal: 6.49s\tremaining: 3.69s\n",
      "51:\tlearn: 1590.3882557\ttotal: 6.61s\tremaining: 3.56s\n",
      "52:\tlearn: 1587.6006866\ttotal: 6.73s\tremaining: 3.43s\n",
      "53:\tlearn: 1582.8180638\ttotal: 6.88s\tremaining: 3.31s\n",
      "54:\tlearn: 1580.0513908\ttotal: 6.99s\tremaining: 3.18s\n",
      "55:\tlearn: 1578.5530681\ttotal: 7.11s\tremaining: 3.04s\n",
      "56:\tlearn: 1573.7172452\ttotal: 7.22s\tremaining: 2.92s\n",
      "57:\tlearn: 1570.3824430\ttotal: 7.35s\tremaining: 2.79s\n",
      "58:\tlearn: 1566.4090387\ttotal: 7.47s\tremaining: 2.66s\n",
      "59:\tlearn: 1563.1828697\ttotal: 7.6s\tremaining: 2.53s\n",
      "60:\tlearn: 1558.1555904\ttotal: 7.73s\tremaining: 2.41s\n",
      "61:\tlearn: 1553.5519176\ttotal: 7.85s\tremaining: 2.28s\n",
      "62:\tlearn: 1539.3707859\ttotal: 7.98s\tremaining: 2.15s\n",
      "63:\tlearn: 1528.9735350\ttotal: 8.1s\tremaining: 2.03s\n",
      "64:\tlearn: 1517.9042467\ttotal: 8.22s\tremaining: 1.9s\n",
      "65:\tlearn: 1510.7927417\ttotal: 8.34s\tremaining: 1.77s\n",
      "66:\tlearn: 1504.8759985\ttotal: 8.47s\tremaining: 1.64s\n",
      "67:\tlearn: 1499.8884251\ttotal: 8.59s\tremaining: 1.52s\n",
      "68:\tlearn: 1493.1958223\ttotal: 8.72s\tremaining: 1.39s\n",
      "69:\tlearn: 1489.3260018\ttotal: 8.85s\tremaining: 1.26s\n",
      "70:\tlearn: 1486.5439985\ttotal: 8.97s\tremaining: 1.14s\n",
      "71:\tlearn: 1483.3851219\ttotal: 9.1s\tremaining: 1.01s\n",
      "72:\tlearn: 1478.1685384\ttotal: 9.21s\tremaining: 884ms\n",
      "73:\tlearn: 1475.0608423\ttotal: 9.34s\tremaining: 758ms\n",
      "74:\tlearn: 1470.5701124\ttotal: 9.48s\tremaining: 632ms\n",
      "75:\tlearn: 1465.4336938\ttotal: 9.6s\tremaining: 505ms\n",
      "76:\tlearn: 1459.8897551\ttotal: 9.71s\tremaining: 379ms\n",
      "77:\tlearn: 1457.1793940\ttotal: 9.84s\tremaining: 252ms\n",
      "78:\tlearn: 1455.3444374\ttotal: 9.95s\tremaining: 126ms\n",
      "79:\tlearn: 1450.3844790\ttotal: 10.1s\tremaining: 0us\n",
      "[CV] END ......iterations=80, max_depth=12, model_size_reg=4; total time=  10.5s\n",
      "Learning rate set to 0.5\n",
      "0:\tlearn: 3463.1689409\ttotal: 57ms\tremaining: 5.65s\n",
      "1:\tlearn: 2966.2872234\ttotal: 92.1ms\tremaining: 4.51s\n",
      "2:\tlearn: 2707.7791017\ttotal: 139ms\tremaining: 4.48s\n",
      "3:\tlearn: 2580.8145405\ttotal: 174ms\tremaining: 4.18s\n",
      "4:\tlearn: 2484.0167579\ttotal: 224ms\tremaining: 4.25s\n",
      "5:\tlearn: 2437.2039871\ttotal: 261ms\tremaining: 4.08s\n",
      "6:\tlearn: 2370.5638091\ttotal: 298ms\tremaining: 3.96s\n",
      "7:\tlearn: 2337.0509935\ttotal: 338ms\tremaining: 3.88s\n",
      "8:\tlearn: 2312.3623019\ttotal: 372ms\tremaining: 3.77s\n",
      "9:\tlearn: 2278.2138018\ttotal: 410ms\tremaining: 3.69s\n",
      "10:\tlearn: 2262.0550227\ttotal: 446ms\tremaining: 3.6s\n",
      "11:\tlearn: 2243.8239969\ttotal: 484ms\tremaining: 3.54s\n",
      "12:\tlearn: 2232.5826885\ttotal: 521ms\tremaining: 3.49s\n",
      "13:\tlearn: 2224.2290735\ttotal: 556ms\tremaining: 3.42s\n",
      "14:\tlearn: 2212.8376009\ttotal: 592ms\tremaining: 3.35s\n",
      "15:\tlearn: 2207.7068295\ttotal: 641ms\tremaining: 3.36s\n",
      "16:\tlearn: 2203.5718799\ttotal: 684ms\tremaining: 3.34s\n",
      "17:\tlearn: 2197.4346335\ttotal: 720ms\tremaining: 3.28s\n",
      "18:\tlearn: 2192.0941985\ttotal: 763ms\tremaining: 3.25s\n",
      "19:\tlearn: 2184.4557767\ttotal: 799ms\tremaining: 3.2s\n",
      "20:\tlearn: 2178.6432085\ttotal: 836ms\tremaining: 3.14s\n",
      "21:\tlearn: 2172.6213894\ttotal: 874ms\tremaining: 3.1s\n",
      "22:\tlearn: 2168.0609955\ttotal: 913ms\tremaining: 3.06s\n",
      "23:\tlearn: 2165.7146816\ttotal: 949ms\tremaining: 3.01s\n",
      "24:\tlearn: 2162.1400614\ttotal: 985ms\tremaining: 2.96s\n",
      "25:\tlearn: 2159.5977998\ttotal: 1.02s\tremaining: 2.91s\n",
      "26:\tlearn: 2156.4329762\ttotal: 1.06s\tremaining: 2.87s\n",
      "27:\tlearn: 2151.6858725\ttotal: 1.1s\tremaining: 2.82s\n",
      "28:\tlearn: 2145.6300219\ttotal: 1.13s\tremaining: 2.77s\n",
      "29:\tlearn: 2142.3454026\ttotal: 1.17s\tremaining: 2.73s\n",
      "30:\tlearn: 2138.6829829\ttotal: 1.21s\tremaining: 2.68s\n",
      "31:\tlearn: 2136.0372153\ttotal: 1.24s\tremaining: 2.64s\n",
      "32:\tlearn: 2132.6183819\ttotal: 1.28s\tremaining: 2.6s\n",
      "33:\tlearn: 2130.0543445\ttotal: 1.31s\tremaining: 2.55s\n",
      "34:\tlearn: 2128.2182209\ttotal: 1.35s\tremaining: 2.51s\n",
      "35:\tlearn: 2124.9217107\ttotal: 1.39s\tremaining: 2.47s\n",
      "36:\tlearn: 2123.0863623\ttotal: 1.43s\tremaining: 2.43s\n",
      "37:\tlearn: 2118.4094713\ttotal: 1.47s\tremaining: 2.39s\n",
      "38:\tlearn: 2114.0321087\ttotal: 1.5s\tremaining: 2.35s\n",
      "39:\tlearn: 2112.1600464\ttotal: 1.54s\tremaining: 2.31s\n",
      "40:\tlearn: 2110.9597664\ttotal: 1.58s\tremaining: 2.27s\n",
      "41:\tlearn: 2108.6125886\ttotal: 1.62s\tremaining: 2.23s\n",
      "42:\tlearn: 2106.4607268\ttotal: 1.65s\tremaining: 2.19s\n",
      "43:\tlearn: 2061.8810813\ttotal: 1.69s\tremaining: 2.15s\n",
      "44:\tlearn: 2041.9371507\ttotal: 1.73s\tremaining: 2.11s\n",
      "45:\tlearn: 2032.6994956\ttotal: 1.77s\tremaining: 2.08s\n",
      "46:\tlearn: 2029.2575229\ttotal: 1.81s\tremaining: 2.04s\n",
      "47:\tlearn: 2023.1896207\ttotal: 1.84s\tremaining: 2s\n",
      "48:\tlearn: 2020.2193875\ttotal: 1.88s\tremaining: 1.96s\n",
      "49:\tlearn: 2017.1912100\ttotal: 1.92s\tremaining: 1.92s\n",
      "50:\tlearn: 2013.5426955\ttotal: 1.95s\tremaining: 1.88s\n",
      "51:\tlearn: 2011.7298279\ttotal: 1.99s\tremaining: 1.84s\n",
      "52:\tlearn: 2010.5147558\ttotal: 2.03s\tremaining: 1.8s\n",
      "53:\tlearn: 2008.9347447\ttotal: 2.08s\tremaining: 1.77s\n",
      "54:\tlearn: 2006.6902445\ttotal: 2.11s\tremaining: 1.73s\n",
      "55:\tlearn: 2004.1832332\ttotal: 2.15s\tremaining: 1.69s\n",
      "56:\tlearn: 2003.3475568\ttotal: 2.19s\tremaining: 1.65s\n",
      "57:\tlearn: 2002.0189025\ttotal: 2.22s\tremaining: 1.61s\n",
      "58:\tlearn: 2000.9689348\ttotal: 2.26s\tremaining: 1.57s\n",
      "59:\tlearn: 1997.4001713\ttotal: 2.3s\tremaining: 1.53s\n",
      "60:\tlearn: 1995.3173053\ttotal: 2.33s\tremaining: 1.49s\n",
      "61:\tlearn: 1993.3819719\ttotal: 2.37s\tremaining: 1.45s\n",
      "62:\tlearn: 1992.6671437\ttotal: 2.4s\tremaining: 1.41s\n",
      "63:\tlearn: 1991.3547065\ttotal: 2.44s\tremaining: 1.37s\n",
      "64:\tlearn: 1988.9487686\ttotal: 2.48s\tremaining: 1.33s\n",
      "65:\tlearn: 1986.9097706\ttotal: 2.52s\tremaining: 1.3s\n",
      "66:\tlearn: 1985.7983580\ttotal: 2.55s\tremaining: 1.25s\n",
      "67:\tlearn: 1982.3247464\ttotal: 2.59s\tremaining: 1.22s\n",
      "68:\tlearn: 1981.1016551\ttotal: 2.62s\tremaining: 1.18s\n",
      "69:\tlearn: 1977.9762516\ttotal: 2.66s\tremaining: 1.14s\n",
      "70:\tlearn: 1976.8295389\ttotal: 2.7s\tremaining: 1.1s\n",
      "71:\tlearn: 1976.7472657\ttotal: 2.74s\tremaining: 1.06s\n",
      "72:\tlearn: 1976.6848674\ttotal: 2.78s\tremaining: 1.03s\n",
      "73:\tlearn: 1976.0064873\ttotal: 2.81s\tremaining: 989ms\n",
      "74:\tlearn: 1975.3108491\ttotal: 2.85s\tremaining: 951ms\n",
      "75:\tlearn: 1974.5099233\ttotal: 2.89s\tremaining: 912ms\n",
      "76:\tlearn: 1973.1286538\ttotal: 2.93s\tremaining: 874ms\n",
      "77:\tlearn: 1972.8365167\ttotal: 2.97s\tremaining: 837ms\n",
      "78:\tlearn: 1971.9226488\ttotal: 3s\tremaining: 798ms\n",
      "79:\tlearn: 1971.0103409\ttotal: 3.04s\tremaining: 760ms\n",
      "80:\tlearn: 1970.5152123\ttotal: 3.08s\tremaining: 723ms\n",
      "81:\tlearn: 1969.2918196\ttotal: 3.12s\tremaining: 684ms\n",
      "82:\tlearn: 1968.5234617\ttotal: 3.15s\tremaining: 646ms\n",
      "83:\tlearn: 1968.4517727\ttotal: 3.19s\tremaining: 608ms\n",
      "84:\tlearn: 1966.9935853\ttotal: 3.23s\tremaining: 570ms\n",
      "85:\tlearn: 1965.1608901\ttotal: 3.26s\tremaining: 531ms\n",
      "86:\tlearn: 1963.9807529\ttotal: 3.3s\tremaining: 493ms\n",
      "87:\tlearn: 1963.4499220\ttotal: 3.34s\tremaining: 455ms\n",
      "88:\tlearn: 1962.8440447\ttotal: 3.37s\tremaining: 417ms\n",
      "89:\tlearn: 1961.2149389\ttotal: 3.41s\tremaining: 379ms\n",
      "90:\tlearn: 1960.0679160\ttotal: 3.44s\tremaining: 341ms\n",
      "91:\tlearn: 1959.0615666\ttotal: 3.48s\tremaining: 303ms\n",
      "92:\tlearn: 1958.7146831\ttotal: 3.52s\tremaining: 265ms\n",
      "93:\tlearn: 1957.4958962\ttotal: 3.56s\tremaining: 227ms\n",
      "94:\tlearn: 1955.3870409\ttotal: 3.59s\tremaining: 189ms\n",
      "95:\tlearn: 1954.8490980\ttotal: 3.63s\tremaining: 151ms\n",
      "96:\tlearn: 1954.1486681\ttotal: 3.67s\tremaining: 113ms\n",
      "97:\tlearn: 1953.3723358\ttotal: 3.71s\tremaining: 75.8ms\n",
      "98:\tlearn: 1952.8985590\ttotal: 3.75s\tremaining: 37.9ms\n",
      "99:\tlearn: 1952.2341232\ttotal: 3.79s\tremaining: 0us\n",
      "[CV] END .....iterations=100, max_depth=4, model_size_reg=18; total time=   4.2s\n",
      "Learning rate set to 0.5\n",
      "0:\tlearn: 3454.0041009\ttotal: 44.1ms\tremaining: 4.37s\n",
      "1:\tlearn: 2951.7800563\ttotal: 78.6ms\tremaining: 3.85s\n",
      "2:\tlearn: 2698.9933184\ttotal: 125ms\tremaining: 4.03s\n",
      "3:\tlearn: 2571.6735484\ttotal: 160ms\tremaining: 3.85s\n",
      "4:\tlearn: 2482.2469182\ttotal: 209ms\tremaining: 3.97s\n",
      "5:\tlearn: 2439.6700718\ttotal: 247ms\tremaining: 3.86s\n",
      "6:\tlearn: 2370.2726432\ttotal: 284ms\tremaining: 3.77s\n",
      "7:\tlearn: 2341.2608066\ttotal: 320ms\tremaining: 3.68s\n",
      "8:\tlearn: 2305.8625793\ttotal: 357ms\tremaining: 3.61s\n",
      "9:\tlearn: 2287.7421527\ttotal: 394ms\tremaining: 3.54s\n",
      "10:\tlearn: 2274.4859439\ttotal: 434ms\tremaining: 3.51s\n",
      "11:\tlearn: 2250.9990596\ttotal: 479ms\tremaining: 3.51s\n",
      "12:\tlearn: 2233.7012915\ttotal: 518ms\tremaining: 3.46s\n",
      "13:\tlearn: 2224.7797368\ttotal: 556ms\tremaining: 3.42s\n",
      "14:\tlearn: 2215.9774833\ttotal: 593ms\tremaining: 3.36s\n",
      "15:\tlearn: 2210.0076548\ttotal: 634ms\tremaining: 3.33s\n",
      "16:\tlearn: 2205.0916458\ttotal: 668ms\tremaining: 3.26s\n",
      "17:\tlearn: 2193.7560583\ttotal: 707ms\tremaining: 3.22s\n",
      "18:\tlearn: 2190.7943256\ttotal: 745ms\tremaining: 3.17s\n",
      "19:\tlearn: 2183.6199910\ttotal: 784ms\tremaining: 3.14s\n",
      "20:\tlearn: 2177.2829191\ttotal: 820ms\tremaining: 3.09s\n",
      "21:\tlearn: 2171.1450287\ttotal: 858ms\tremaining: 3.04s\n",
      "22:\tlearn: 2166.7843343\ttotal: 893ms\tremaining: 2.99s\n",
      "23:\tlearn: 2163.0184178\ttotal: 931ms\tremaining: 2.95s\n",
      "24:\tlearn: 2157.9284259\ttotal: 966ms\tremaining: 2.9s\n",
      "25:\tlearn: 2155.1527351\ttotal: 1.01s\tremaining: 2.87s\n",
      "26:\tlearn: 2151.7335617\ttotal: 1.04s\tremaining: 2.82s\n",
      "27:\tlearn: 2148.0215923\ttotal: 1.08s\tremaining: 2.77s\n",
      "28:\tlearn: 2144.6738718\ttotal: 1.11s\tremaining: 2.73s\n",
      "29:\tlearn: 2140.2341308\ttotal: 1.15s\tremaining: 2.69s\n",
      "30:\tlearn: 2136.6660842\ttotal: 1.19s\tremaining: 2.64s\n",
      "31:\tlearn: 2134.3397040\ttotal: 1.22s\tremaining: 2.6s\n",
      "32:\tlearn: 2131.9925410\ttotal: 1.26s\tremaining: 2.56s\n",
      "33:\tlearn: 2127.0280074\ttotal: 1.3s\tremaining: 2.52s\n",
      "34:\tlearn: 2083.6255861\ttotal: 1.34s\tremaining: 2.48s\n",
      "35:\tlearn: 2067.9486917\ttotal: 1.37s\tremaining: 2.44s\n",
      "36:\tlearn: 2055.7708640\ttotal: 1.41s\tremaining: 2.4s\n",
      "37:\tlearn: 2049.0953545\ttotal: 1.44s\tremaining: 2.36s\n",
      "38:\tlearn: 2044.3290216\ttotal: 1.48s\tremaining: 2.32s\n",
      "39:\tlearn: 2040.6533933\ttotal: 1.52s\tremaining: 2.28s\n",
      "40:\tlearn: 2037.3570998\ttotal: 1.56s\tremaining: 2.24s\n",
      "41:\tlearn: 2035.4916287\ttotal: 1.59s\tremaining: 2.2s\n",
      "42:\tlearn: 2032.8878041\ttotal: 1.63s\tremaining: 2.16s\n",
      "43:\tlearn: 2029.6287192\ttotal: 1.67s\tremaining: 2.12s\n",
      "44:\tlearn: 2025.9197253\ttotal: 1.72s\tremaining: 2.1s\n",
      "45:\tlearn: 2023.5754871\ttotal: 1.75s\tremaining: 2.06s\n",
      "46:\tlearn: 2019.4770180\ttotal: 1.79s\tremaining: 2.02s\n",
      "47:\tlearn: 2016.7651145\ttotal: 1.83s\tremaining: 1.98s\n",
      "48:\tlearn: 2015.1387948\ttotal: 1.87s\tremaining: 1.94s\n",
      "49:\tlearn: 2013.9338168\ttotal: 1.9s\tremaining: 1.9s\n",
      "50:\tlearn: 2012.4340222\ttotal: 1.94s\tremaining: 1.86s\n",
      "51:\tlearn: 2011.1608407\ttotal: 1.98s\tremaining: 1.82s\n",
      "52:\tlearn: 2010.4216171\ttotal: 2.01s\tremaining: 1.78s\n",
      "53:\tlearn: 2007.3770952\ttotal: 2.05s\tremaining: 1.75s\n",
      "54:\tlearn: 2005.5593276\ttotal: 2.09s\tremaining: 1.71s\n",
      "55:\tlearn: 2003.7558955\ttotal: 2.13s\tremaining: 1.67s\n",
      "56:\tlearn: 2002.2253987\ttotal: 2.16s\tremaining: 1.63s\n",
      "57:\tlearn: 2000.1140722\ttotal: 2.2s\tremaining: 1.59s\n",
      "58:\tlearn: 1999.2342165\ttotal: 2.23s\tremaining: 1.55s\n",
      "59:\tlearn: 1997.2338571\ttotal: 2.27s\tremaining: 1.51s\n",
      "60:\tlearn: 1996.1565479\ttotal: 2.31s\tremaining: 1.48s\n",
      "61:\tlearn: 1994.6366243\ttotal: 2.34s\tremaining: 1.44s\n",
      "62:\tlearn: 1992.9171580\ttotal: 2.38s\tremaining: 1.4s\n",
      "63:\tlearn: 1990.9985894\ttotal: 2.42s\tremaining: 1.36s\n",
      "64:\tlearn: 1989.1266359\ttotal: 2.45s\tremaining: 1.32s\n",
      "65:\tlearn: 1987.8409814\ttotal: 2.49s\tremaining: 1.28s\n",
      "66:\tlearn: 1986.4605839\ttotal: 2.53s\tremaining: 1.25s\n",
      "67:\tlearn: 1985.3755890\ttotal: 2.57s\tremaining: 1.21s\n",
      "68:\tlearn: 1984.8214580\ttotal: 2.6s\tremaining: 1.17s\n",
      "69:\tlearn: 1983.7574938\ttotal: 2.65s\tremaining: 1.14s\n",
      "70:\tlearn: 1982.2326934\ttotal: 2.69s\tremaining: 1.1s\n",
      "71:\tlearn: 1981.0290727\ttotal: 2.73s\tremaining: 1.06s\n",
      "72:\tlearn: 1980.1596561\ttotal: 2.77s\tremaining: 1.02s\n",
      "73:\tlearn: 1974.6905261\ttotal: 2.81s\tremaining: 986ms\n",
      "74:\tlearn: 1973.0338876\ttotal: 2.84s\tremaining: 947ms\n",
      "75:\tlearn: 1972.2087923\ttotal: 2.88s\tremaining: 909ms\n",
      "76:\tlearn: 1970.7242398\ttotal: 2.91s\tremaining: 870ms\n",
      "77:\tlearn: 1970.1794239\ttotal: 2.95s\tremaining: 833ms\n",
      "78:\tlearn: 1969.8138003\ttotal: 2.99s\tremaining: 794ms\n",
      "79:\tlearn: 1968.2472815\ttotal: 3.02s\tremaining: 756ms\n",
      "80:\tlearn: 1966.9820919\ttotal: 3.06s\tremaining: 717ms\n",
      "81:\tlearn: 1966.1165464\ttotal: 3.09s\tremaining: 679ms\n",
      "82:\tlearn: 1964.8026820\ttotal: 3.13s\tremaining: 642ms\n",
      "83:\tlearn: 1963.8735982\ttotal: 3.17s\tremaining: 604ms\n",
      "84:\tlearn: 1963.1076703\ttotal: 3.21s\tremaining: 566ms\n",
      "85:\tlearn: 1962.0782583\ttotal: 3.25s\tremaining: 528ms\n",
      "86:\tlearn: 1961.4010895\ttotal: 3.28s\tremaining: 490ms\n",
      "87:\tlearn: 1960.9921414\ttotal: 3.32s\tremaining: 452ms\n",
      "88:\tlearn: 1960.3427832\ttotal: 3.36s\tremaining: 415ms\n",
      "89:\tlearn: 1959.3565159\ttotal: 3.39s\tremaining: 377ms\n",
      "90:\tlearn: 1958.8268009\ttotal: 3.43s\tremaining: 339ms\n",
      "91:\tlearn: 1944.4156600\ttotal: 3.46s\tremaining: 301ms\n",
      "92:\tlearn: 1939.6450998\ttotal: 3.5s\tremaining: 264ms\n",
      "93:\tlearn: 1935.4550432\ttotal: 3.54s\tremaining: 226ms\n",
      "94:\tlearn: 1933.5716468\ttotal: 3.58s\tremaining: 188ms\n",
      "95:\tlearn: 1930.8615590\ttotal: 3.61s\tremaining: 150ms\n",
      "96:\tlearn: 1929.3753614\ttotal: 3.65s\tremaining: 113ms\n",
      "97:\tlearn: 1927.2586916\ttotal: 3.69s\tremaining: 75.3ms\n",
      "98:\tlearn: 1926.3158781\ttotal: 3.74s\tremaining: 37.7ms\n",
      "99:\tlearn: 1924.4261317\ttotal: 3.78s\tremaining: 0us\n",
      "[CV] END .....iterations=100, max_depth=4, model_size_reg=18; total time=   4.2s\n",
      "Learning rate set to 0.5\n",
      "0:\tlearn: 3452.8935212\ttotal: 43.8ms\tremaining: 4.33s\n",
      "1:\tlearn: 2949.6658165\ttotal: 79.1ms\tremaining: 3.88s\n",
      "2:\tlearn: 2682.0409694\ttotal: 129ms\tremaining: 4.17s\n",
      "3:\tlearn: 2566.0849169\ttotal: 165ms\tremaining: 3.96s\n",
      "4:\tlearn: 2474.7184384\ttotal: 215ms\tremaining: 4.09s\n",
      "5:\tlearn: 2431.1243409\ttotal: 253ms\tremaining: 3.96s\n",
      "6:\tlearn: 2368.5950659\ttotal: 293ms\tremaining: 3.9s\n",
      "7:\tlearn: 2344.1794898\ttotal: 332ms\tremaining: 3.82s\n",
      "8:\tlearn: 2302.3773826\ttotal: 369ms\tremaining: 3.73s\n",
      "9:\tlearn: 2285.5591645\ttotal: 405ms\tremaining: 3.64s\n",
      "10:\tlearn: 2267.7322777\ttotal: 441ms\tremaining: 3.57s\n",
      "11:\tlearn: 2251.5381180\ttotal: 482ms\tremaining: 3.54s\n",
      "12:\tlearn: 2237.6885585\ttotal: 519ms\tremaining: 3.47s\n",
      "13:\tlearn: 2222.4173235\ttotal: 555ms\tremaining: 3.41s\n",
      "14:\tlearn: 2210.6848984\ttotal: 591ms\tremaining: 3.35s\n",
      "15:\tlearn: 2202.6484694\ttotal: 629ms\tremaining: 3.3s\n",
      "16:\tlearn: 2194.7245297\ttotal: 668ms\tremaining: 3.26s\n",
      "17:\tlearn: 2188.0834536\ttotal: 704ms\tremaining: 3.21s\n",
      "18:\tlearn: 2184.2052202\ttotal: 741ms\tremaining: 3.16s\n",
      "19:\tlearn: 2176.6909215\ttotal: 777ms\tremaining: 3.11s\n",
      "20:\tlearn: 2172.1848774\ttotal: 815ms\tremaining: 3.06s\n",
      "21:\tlearn: 2170.3340556\ttotal: 851ms\tremaining: 3.02s\n",
      "22:\tlearn: 2162.5614032\ttotal: 886ms\tremaining: 2.97s\n",
      "23:\tlearn: 2160.1369371\ttotal: 924ms\tremaining: 2.92s\n",
      "24:\tlearn: 2156.6688720\ttotal: 961ms\tremaining: 2.88s\n",
      "25:\tlearn: 2151.3135485\ttotal: 995ms\tremaining: 2.83s\n",
      "26:\tlearn: 2147.3098461\ttotal: 1.03s\tremaining: 2.8s\n",
      "27:\tlearn: 2142.2514080\ttotal: 1.07s\tremaining: 2.76s\n",
      "28:\tlearn: 2139.1736030\ttotal: 1.12s\tremaining: 2.75s\n",
      "29:\tlearn: 2134.1089685\ttotal: 1.16s\tremaining: 2.71s\n",
      "30:\tlearn: 2131.2955632\ttotal: 1.2s\tremaining: 2.66s\n",
      "31:\tlearn: 2128.5737695\ttotal: 1.24s\tremaining: 2.63s\n",
      "32:\tlearn: 2125.9756205\ttotal: 1.27s\tremaining: 2.59s\n",
      "33:\tlearn: 2122.5650396\ttotal: 1.32s\tremaining: 2.56s\n",
      "34:\tlearn: 2120.1889730\ttotal: 1.35s\tremaining: 2.52s\n",
      "35:\tlearn: 2116.1238974\ttotal: 1.41s\tremaining: 2.5s\n",
      "36:\tlearn: 2112.0322676\ttotal: 1.45s\tremaining: 2.46s\n",
      "37:\tlearn: 2109.0162976\ttotal: 1.49s\tremaining: 2.42s\n",
      "38:\tlearn: 2105.9286747\ttotal: 1.52s\tremaining: 2.38s\n",
      "39:\tlearn: 2103.1610268\ttotal: 1.56s\tremaining: 2.34s\n",
      "40:\tlearn: 2101.5002090\ttotal: 1.59s\tremaining: 2.3s\n",
      "41:\tlearn: 2099.3286628\ttotal: 1.63s\tremaining: 2.25s\n",
      "42:\tlearn: 2056.5683332\ttotal: 1.67s\tremaining: 2.21s\n",
      "43:\tlearn: 2040.4697922\ttotal: 1.71s\tremaining: 2.17s\n",
      "44:\tlearn: 2026.8196243\ttotal: 1.74s\tremaining: 2.13s\n",
      "45:\tlearn: 2021.3638655\ttotal: 1.78s\tremaining: 2.09s\n",
      "46:\tlearn: 2018.1769331\ttotal: 1.81s\tremaining: 2.05s\n",
      "47:\tlearn: 2014.5964022\ttotal: 1.85s\tremaining: 2.01s\n",
      "48:\tlearn: 2012.4299882\ttotal: 1.89s\tremaining: 1.97s\n",
      "49:\tlearn: 2010.2355809\ttotal: 1.93s\tremaining: 1.93s\n",
      "50:\tlearn: 2007.2965981\ttotal: 1.97s\tremaining: 1.9s\n",
      "51:\tlearn: 2005.4613761\ttotal: 2.02s\tremaining: 1.86s\n",
      "52:\tlearn: 2002.5303517\ttotal: 2.05s\tremaining: 1.82s\n",
      "53:\tlearn: 2000.6928772\ttotal: 2.09s\tremaining: 1.78s\n",
      "54:\tlearn: 1999.5334092\ttotal: 2.13s\tremaining: 1.74s\n",
      "55:\tlearn: 1996.4234995\ttotal: 2.17s\tremaining: 1.7s\n",
      "56:\tlearn: 1994.2738914\ttotal: 2.2s\tremaining: 1.66s\n",
      "57:\tlearn: 1992.8028532\ttotal: 2.24s\tremaining: 1.62s\n",
      "58:\tlearn: 1990.3746382\ttotal: 2.28s\tremaining: 1.58s\n",
      "59:\tlearn: 1988.6417265\ttotal: 2.32s\tremaining: 1.54s\n",
      "60:\tlearn: 1987.4978117\ttotal: 2.37s\tremaining: 1.51s\n",
      "61:\tlearn: 1985.8554052\ttotal: 2.4s\tremaining: 1.47s\n",
      "62:\tlearn: 1984.2227350\ttotal: 2.44s\tremaining: 1.43s\n",
      "63:\tlearn: 1981.7459914\ttotal: 2.48s\tremaining: 1.39s\n",
      "64:\tlearn: 1980.8369193\ttotal: 2.52s\tremaining: 1.35s\n",
      "65:\tlearn: 1979.2339867\ttotal: 2.55s\tremaining: 1.31s\n",
      "66:\tlearn: 1976.7680921\ttotal: 2.59s\tremaining: 1.28s\n",
      "67:\tlearn: 1974.8786697\ttotal: 2.63s\tremaining: 1.24s\n",
      "68:\tlearn: 1973.8586560\ttotal: 2.66s\tremaining: 1.2s\n",
      "69:\tlearn: 1972.8505629\ttotal: 2.7s\tremaining: 1.16s\n",
      "70:\tlearn: 1971.3587190\ttotal: 2.73s\tremaining: 1.12s\n",
      "71:\tlearn: 1970.4018404\ttotal: 2.77s\tremaining: 1.08s\n",
      "72:\tlearn: 1969.3520211\ttotal: 2.81s\tremaining: 1.04s\n",
      "73:\tlearn: 1967.9668414\ttotal: 2.84s\tremaining: 999ms\n",
      "74:\tlearn: 1967.2200279\ttotal: 2.88s\tremaining: 960ms\n",
      "75:\tlearn: 1965.9409744\ttotal: 2.92s\tremaining: 921ms\n",
      "76:\tlearn: 1965.1561066\ttotal: 2.95s\tremaining: 882ms\n",
      "77:\tlearn: 1964.3466032\ttotal: 2.99s\tremaining: 843ms\n",
      "78:\tlearn: 1963.2889009\ttotal: 3.03s\tremaining: 805ms\n",
      "79:\tlearn: 1962.6822533\ttotal: 3.06s\tremaining: 766ms\n",
      "80:\tlearn: 1961.5663541\ttotal: 3.1s\tremaining: 727ms\n",
      "81:\tlearn: 1960.2689183\ttotal: 3.14s\tremaining: 689ms\n",
      "82:\tlearn: 1959.7924104\ttotal: 3.17s\tremaining: 650ms\n",
      "83:\tlearn: 1959.1001440\ttotal: 3.21s\tremaining: 611ms\n",
      "84:\tlearn: 1958.3078227\ttotal: 3.25s\tremaining: 574ms\n",
      "85:\tlearn: 1957.5404218\ttotal: 3.29s\tremaining: 536ms\n",
      "86:\tlearn: 1956.9034425\ttotal: 3.33s\tremaining: 497ms\n",
      "87:\tlearn: 1956.1588466\ttotal: 3.37s\tremaining: 459ms\n",
      "88:\tlearn: 1955.6166905\ttotal: 3.41s\tremaining: 421ms\n",
      "89:\tlearn: 1954.9216223\ttotal: 3.44s\tremaining: 383ms\n",
      "90:\tlearn: 1954.0387660\ttotal: 3.48s\tremaining: 344ms\n",
      "91:\tlearn: 1953.2967071\ttotal: 3.52s\tremaining: 306ms\n",
      "92:\tlearn: 1952.7797657\ttotal: 3.56s\tremaining: 268ms\n",
      "93:\tlearn: 1952.6509606\ttotal: 3.59s\tremaining: 229ms\n",
      "94:\tlearn: 1952.0006028\ttotal: 3.63s\tremaining: 191ms\n",
      "95:\tlearn: 1951.0192095\ttotal: 3.67s\tremaining: 153ms\n",
      "96:\tlearn: 1949.7168987\ttotal: 3.71s\tremaining: 115ms\n",
      "97:\tlearn: 1948.4558927\ttotal: 3.75s\tremaining: 76.4ms\n",
      "98:\tlearn: 1947.9815250\ttotal: 3.78s\tremaining: 38.2ms\n",
      "99:\tlearn: 1947.4095332\ttotal: 3.82s\tremaining: 0us\n",
      "[CV] END .....iterations=100, max_depth=4, model_size_reg=18; total time=   4.2s\n",
      "Learning rate set to 0.5\n",
      "0:\tlearn: 3457.8985479\ttotal: 46.4ms\tremaining: 4.59s\n",
      "1:\tlearn: 2957.6621695\ttotal: 82.4ms\tremaining: 4.04s\n",
      "2:\tlearn: 2701.5803368\ttotal: 129ms\tremaining: 4.18s\n",
      "3:\tlearn: 2573.0059242\ttotal: 175ms\tremaining: 4.21s\n",
      "4:\tlearn: 2477.8620551\ttotal: 225ms\tremaining: 4.27s\n",
      "5:\tlearn: 2430.6454769\ttotal: 261ms\tremaining: 4.09s\n",
      "6:\tlearn: 2362.0070346\ttotal: 298ms\tremaining: 3.96s\n",
      "7:\tlearn: 2332.3798151\ttotal: 334ms\tremaining: 3.84s\n",
      "8:\tlearn: 2298.1305841\ttotal: 371ms\tremaining: 3.75s\n",
      "9:\tlearn: 2278.0483316\ttotal: 408ms\tremaining: 3.67s\n",
      "10:\tlearn: 2262.5938626\ttotal: 446ms\tremaining: 3.6s\n",
      "11:\tlearn: 2238.0959112\ttotal: 483ms\tremaining: 3.54s\n",
      "12:\tlearn: 2226.4350033\ttotal: 521ms\tremaining: 3.48s\n",
      "13:\tlearn: 2218.7181279\ttotal: 559ms\tremaining: 3.44s\n",
      "14:\tlearn: 2208.1754182\ttotal: 610ms\tremaining: 3.46s\n",
      "15:\tlearn: 2199.2030051\ttotal: 646ms\tremaining: 3.39s\n",
      "16:\tlearn: 2194.0310308\ttotal: 685ms\tremaining: 3.35s\n",
      "17:\tlearn: 2187.9653594\ttotal: 721ms\tremaining: 3.29s\n",
      "18:\tlearn: 2179.6647727\ttotal: 758ms\tremaining: 3.23s\n",
      "19:\tlearn: 2173.0226344\ttotal: 794ms\tremaining: 3.18s\n",
      "20:\tlearn: 2169.3466061\ttotal: 830ms\tremaining: 3.12s\n",
      "21:\tlearn: 2168.0557600\ttotal: 867ms\tremaining: 3.07s\n",
      "22:\tlearn: 2162.2828532\ttotal: 902ms\tremaining: 3.02s\n",
      "23:\tlearn: 2158.4512685\ttotal: 940ms\tremaining: 2.98s\n",
      "24:\tlearn: 2154.6719929\ttotal: 978ms\tremaining: 2.94s\n",
      "25:\tlearn: 2146.8222812\ttotal: 1.01s\tremaining: 2.88s\n",
      "26:\tlearn: 2143.9437771\ttotal: 1.07s\tremaining: 2.89s\n",
      "27:\tlearn: 2141.9461135\ttotal: 1.1s\tremaining: 2.84s\n",
      "28:\tlearn: 2136.1714365\ttotal: 1.14s\tremaining: 2.79s\n",
      "29:\tlearn: 2134.4248211\ttotal: 1.18s\tremaining: 2.76s\n",
      "30:\tlearn: 2129.7473698\ttotal: 1.22s\tremaining: 2.71s\n",
      "31:\tlearn: 2128.0896886\ttotal: 1.25s\tremaining: 2.66s\n",
      "32:\tlearn: 2125.1986337\ttotal: 1.29s\tremaining: 2.62s\n",
      "33:\tlearn: 2122.7256314\ttotal: 1.33s\tremaining: 2.58s\n",
      "34:\tlearn: 2117.4400001\ttotal: 1.37s\tremaining: 2.54s\n",
      "35:\tlearn: 2114.8893846\ttotal: 1.4s\tremaining: 2.5s\n",
      "36:\tlearn: 2112.1388553\ttotal: 1.44s\tremaining: 2.45s\n",
      "37:\tlearn: 2110.2540852\ttotal: 1.48s\tremaining: 2.41s\n",
      "38:\tlearn: 2108.0595247\ttotal: 1.51s\tremaining: 2.37s\n",
      "39:\tlearn: 2106.7411452\ttotal: 1.55s\tremaining: 2.32s\n",
      "40:\tlearn: 2104.0760548\ttotal: 1.58s\tremaining: 2.28s\n",
      "41:\tlearn: 2100.3013527\ttotal: 1.62s\tremaining: 2.24s\n",
      "42:\tlearn: 2097.3435826\ttotal: 1.66s\tremaining: 2.2s\n",
      "43:\tlearn: 2093.3445518\ttotal: 1.69s\tremaining: 2.15s\n",
      "44:\tlearn: 2089.9906751\ttotal: 1.73s\tremaining: 2.11s\n",
      "45:\tlearn: 2088.7146734\ttotal: 1.77s\tremaining: 2.08s\n",
      "46:\tlearn: 2086.7334096\ttotal: 1.8s\tremaining: 2.04s\n",
      "47:\tlearn: 2046.8408700\ttotal: 1.84s\tremaining: 1.99s\n",
      "48:\tlearn: 2033.1963065\ttotal: 1.88s\tremaining: 1.95s\n",
      "49:\tlearn: 2023.8982766\ttotal: 1.91s\tremaining: 1.91s\n",
      "50:\tlearn: 2019.4224890\ttotal: 1.96s\tremaining: 1.88s\n",
      "51:\tlearn: 2013.8547638\ttotal: 1.99s\tremaining: 1.84s\n",
      "52:\tlearn: 2011.0054261\ttotal: 2.03s\tremaining: 1.8s\n",
      "53:\tlearn: 2008.5120431\ttotal: 2.07s\tremaining: 1.76s\n",
      "54:\tlearn: 2005.7057865\ttotal: 2.1s\tremaining: 1.72s\n",
      "55:\tlearn: 2002.6266323\ttotal: 2.14s\tremaining: 1.68s\n",
      "56:\tlearn: 2001.5530028\ttotal: 2.18s\tremaining: 1.65s\n",
      "57:\tlearn: 1999.1355812\ttotal: 2.22s\tremaining: 1.61s\n",
      "58:\tlearn: 1996.9427859\ttotal: 2.25s\tremaining: 1.56s\n",
      "59:\tlearn: 1993.9642790\ttotal: 2.29s\tremaining: 1.53s\n",
      "60:\tlearn: 1990.8879596\ttotal: 2.32s\tremaining: 1.49s\n",
      "61:\tlearn: 1989.2060194\ttotal: 2.36s\tremaining: 1.45s\n",
      "62:\tlearn: 1987.8869559\ttotal: 2.4s\tremaining: 1.41s\n",
      "63:\tlearn: 1986.5435756\ttotal: 2.43s\tremaining: 1.37s\n",
      "64:\tlearn: 1985.0150339\ttotal: 2.47s\tremaining: 1.33s\n",
      "65:\tlearn: 1983.9105541\ttotal: 2.51s\tremaining: 1.29s\n",
      "66:\tlearn: 1982.4854466\ttotal: 2.54s\tremaining: 1.25s\n",
      "67:\tlearn: 1980.4326141\ttotal: 2.58s\tremaining: 1.21s\n",
      "68:\tlearn: 1979.0100002\ttotal: 2.62s\tremaining: 1.18s\n",
      "69:\tlearn: 1977.5495126\ttotal: 2.65s\tremaining: 1.14s\n",
      "70:\tlearn: 1975.3963124\ttotal: 2.69s\tremaining: 1.1s\n",
      "71:\tlearn: 1975.0376439\ttotal: 2.73s\tremaining: 1.06s\n",
      "72:\tlearn: 1974.6858149\ttotal: 2.76s\tremaining: 1.02s\n",
      "73:\tlearn: 1973.6436179\ttotal: 2.8s\tremaining: 983ms\n",
      "74:\tlearn: 1972.9269933\ttotal: 2.84s\tremaining: 946ms\n",
      "75:\tlearn: 1971.5803952\ttotal: 2.88s\tremaining: 909ms\n",
      "76:\tlearn: 1970.8881913\ttotal: 2.91s\tremaining: 871ms\n",
      "77:\tlearn: 1970.4423656\ttotal: 2.95s\tremaining: 833ms\n",
      "78:\tlearn: 1969.6958850\ttotal: 2.99s\tremaining: 796ms\n",
      "79:\tlearn: 1968.8879328\ttotal: 3.04s\tremaining: 759ms\n",
      "80:\tlearn: 1968.1526372\ttotal: 3.07s\tremaining: 721ms\n",
      "81:\tlearn: 1967.6176245\ttotal: 3.11s\tremaining: 683ms\n",
      "82:\tlearn: 1966.0138930\ttotal: 3.15s\tremaining: 645ms\n",
      "83:\tlearn: 1963.4991065\ttotal: 3.19s\tremaining: 607ms\n",
      "84:\tlearn: 1962.4320101\ttotal: 3.22s\tremaining: 569ms\n",
      "85:\tlearn: 1961.4431516\ttotal: 3.26s\tremaining: 530ms\n",
      "86:\tlearn: 1960.9247430\ttotal: 3.29s\tremaining: 492ms\n",
      "87:\tlearn: 1959.2458768\ttotal: 3.33s\tremaining: 454ms\n",
      "88:\tlearn: 1958.3162468\ttotal: 3.37s\tremaining: 416ms\n",
      "89:\tlearn: 1957.9676956\ttotal: 3.4s\tremaining: 378ms\n",
      "90:\tlearn: 1957.2141078\ttotal: 3.44s\tremaining: 340ms\n",
      "91:\tlearn: 1956.5027871\ttotal: 3.47s\tremaining: 302ms\n",
      "92:\tlearn: 1955.9142764\ttotal: 3.51s\tremaining: 264ms\n",
      "93:\tlearn: 1955.5415366\ttotal: 3.54s\tremaining: 226ms\n",
      "94:\tlearn: 1954.4222799\ttotal: 3.58s\tremaining: 189ms\n",
      "95:\tlearn: 1953.8403390\ttotal: 3.62s\tremaining: 151ms\n",
      "96:\tlearn: 1952.8087525\ttotal: 3.65s\tremaining: 113ms\n",
      "97:\tlearn: 1951.9388970\ttotal: 3.69s\tremaining: 75.4ms\n",
      "98:\tlearn: 1951.1516337\ttotal: 3.73s\tremaining: 37.7ms\n",
      "99:\tlearn: 1950.6188049\ttotal: 3.77s\tremaining: 0us\n",
      "[CV] END .....iterations=100, max_depth=4, model_size_reg=18; total time=   4.1s\n",
      "Learning rate set to 0.5\n",
      "0:\tlearn: 3450.5065087\ttotal: 44.1ms\tremaining: 4.37s\n",
      "1:\tlearn: 2949.3121614\ttotal: 78.7ms\tremaining: 3.86s\n",
      "2:\tlearn: 2698.2247270\ttotal: 125ms\tremaining: 4.03s\n",
      "3:\tlearn: 2570.4662075\ttotal: 160ms\tremaining: 3.83s\n",
      "4:\tlearn: 2479.4871264\ttotal: 210ms\tremaining: 3.98s\n",
      "5:\tlearn: 2436.4778232\ttotal: 245ms\tremaining: 3.84s\n",
      "6:\tlearn: 2363.9928246\ttotal: 283ms\tremaining: 3.75s\n",
      "7:\tlearn: 2334.4710784\ttotal: 318ms\tremaining: 3.66s\n",
      "8:\tlearn: 2298.6635420\ttotal: 356ms\tremaining: 3.6s\n",
      "9:\tlearn: 2279.1800179\ttotal: 394ms\tremaining: 3.54s\n",
      "10:\tlearn: 2255.6875045\ttotal: 432ms\tremaining: 3.49s\n",
      "11:\tlearn: 2243.7664085\ttotal: 472ms\tremaining: 3.46s\n",
      "12:\tlearn: 2225.8337788\ttotal: 508ms\tremaining: 3.4s\n",
      "13:\tlearn: 2211.2906343\ttotal: 544ms\tremaining: 3.34s\n",
      "14:\tlearn: 2202.0918364\ttotal: 579ms\tremaining: 3.28s\n",
      "15:\tlearn: 2194.2669662\ttotal: 616ms\tremaining: 3.23s\n",
      "16:\tlearn: 2184.8690483\ttotal: 651ms\tremaining: 3.18s\n",
      "17:\tlearn: 2179.5490148\ttotal: 689ms\tremaining: 3.14s\n",
      "18:\tlearn: 2174.9225701\ttotal: 746ms\tremaining: 3.18s\n",
      "19:\tlearn: 2168.4945197\ttotal: 786ms\tremaining: 3.14s\n",
      "20:\tlearn: 2164.1925561\ttotal: 821ms\tremaining: 3.09s\n",
      "21:\tlearn: 2161.2112943\ttotal: 859ms\tremaining: 3.05s\n",
      "22:\tlearn: 2156.3952051\ttotal: 896ms\tremaining: 3s\n",
      "23:\tlearn: 2151.8111755\ttotal: 934ms\tremaining: 2.96s\n",
      "24:\tlearn: 2149.0422422\ttotal: 970ms\tremaining: 2.91s\n",
      "25:\tlearn: 2145.7594978\ttotal: 1s\tremaining: 2.86s\n",
      "26:\tlearn: 2143.8598015\ttotal: 1.04s\tremaining: 2.82s\n",
      "27:\tlearn: 2142.2873362\ttotal: 1.08s\tremaining: 2.79s\n",
      "28:\tlearn: 2137.5653414\ttotal: 1.12s\tremaining: 2.74s\n",
      "29:\tlearn: 2135.0700483\ttotal: 1.16s\tremaining: 2.7s\n",
      "30:\tlearn: 2131.2045292\ttotal: 1.19s\tremaining: 2.65s\n",
      "31:\tlearn: 2126.9700042\ttotal: 1.23s\tremaining: 2.61s\n",
      "32:\tlearn: 2122.7928043\ttotal: 1.26s\tremaining: 2.57s\n",
      "33:\tlearn: 2117.8467152\ttotal: 1.3s\tremaining: 2.52s\n",
      "34:\tlearn: 2114.6152956\ttotal: 1.34s\tremaining: 2.48s\n",
      "35:\tlearn: 2112.2026426\ttotal: 1.37s\tremaining: 2.44s\n",
      "36:\tlearn: 2109.9398999\ttotal: 1.41s\tremaining: 2.4s\n",
      "37:\tlearn: 2107.6667735\ttotal: 1.45s\tremaining: 2.36s\n",
      "38:\tlearn: 2103.6822748\ttotal: 1.48s\tremaining: 2.32s\n",
      "39:\tlearn: 2100.2567600\ttotal: 1.52s\tremaining: 2.28s\n",
      "40:\tlearn: 2096.2606543\ttotal: 1.56s\tremaining: 2.24s\n",
      "41:\tlearn: 2095.1483777\ttotal: 1.59s\tremaining: 2.2s\n",
      "42:\tlearn: 2093.4245568\ttotal: 1.63s\tremaining: 2.16s\n",
      "43:\tlearn: 2049.7227428\ttotal: 1.67s\tremaining: 2.12s\n",
      "44:\tlearn: 2033.9137206\ttotal: 1.7s\tremaining: 2.08s\n",
      "45:\tlearn: 2024.4600907\ttotal: 1.74s\tremaining: 2.04s\n",
      "46:\tlearn: 2020.4746268\ttotal: 1.78s\tremaining: 2.01s\n",
      "47:\tlearn: 2014.9521443\ttotal: 1.81s\tremaining: 1.97s\n",
      "48:\tlearn: 2012.0174847\ttotal: 1.85s\tremaining: 1.93s\n",
      "49:\tlearn: 2010.0198103\ttotal: 1.89s\tremaining: 1.89s\n",
      "50:\tlearn: 2007.1900720\ttotal: 1.93s\tremaining: 1.85s\n",
      "51:\tlearn: 2004.2931525\ttotal: 1.97s\tremaining: 1.81s\n",
      "52:\tlearn: 2002.1775292\ttotal: 2s\tremaining: 1.77s\n",
      "53:\tlearn: 2000.7904484\ttotal: 2.04s\tremaining: 1.74s\n",
      "54:\tlearn: 1998.7309896\ttotal: 2.08s\tremaining: 1.7s\n",
      "55:\tlearn: 1997.4878364\ttotal: 2.11s\tremaining: 1.66s\n",
      "56:\tlearn: 1995.8419676\ttotal: 2.15s\tremaining: 1.63s\n",
      "57:\tlearn: 1993.2421163\ttotal: 2.19s\tremaining: 1.58s\n",
      "58:\tlearn: 1990.2986130\ttotal: 2.22s\tremaining: 1.55s\n",
      "59:\tlearn: 1989.0059422\ttotal: 2.26s\tremaining: 1.51s\n",
      "60:\tlearn: 1987.9927276\ttotal: 2.3s\tremaining: 1.47s\n",
      "61:\tlearn: 1986.6263786\ttotal: 2.34s\tremaining: 1.43s\n",
      "62:\tlearn: 1984.3315678\ttotal: 2.37s\tremaining: 1.39s\n",
      "63:\tlearn: 1983.4535442\ttotal: 2.41s\tremaining: 1.36s\n",
      "64:\tlearn: 1981.8773364\ttotal: 2.46s\tremaining: 1.32s\n",
      "65:\tlearn: 1981.1132341\ttotal: 2.5s\tremaining: 1.29s\n",
      "66:\tlearn: 1978.5110001\ttotal: 2.54s\tremaining: 1.25s\n",
      "67:\tlearn: 1977.6677877\ttotal: 2.58s\tremaining: 1.21s\n",
      "68:\tlearn: 1975.9132817\ttotal: 2.61s\tremaining: 1.17s\n",
      "69:\tlearn: 1974.7277661\ttotal: 2.66s\tremaining: 1.14s\n",
      "70:\tlearn: 1974.0179636\ttotal: 2.7s\tremaining: 1.1s\n",
      "71:\tlearn: 1973.1181920\ttotal: 2.74s\tremaining: 1.06s\n",
      "72:\tlearn: 1971.8516282\ttotal: 2.78s\tremaining: 1.03s\n",
      "73:\tlearn: 1971.4130643\ttotal: 2.82s\tremaining: 990ms\n",
      "74:\tlearn: 1970.3554652\ttotal: 2.85s\tremaining: 952ms\n",
      "75:\tlearn: 1968.9418698\ttotal: 2.89s\tremaining: 914ms\n",
      "76:\tlearn: 1967.7959550\ttotal: 2.94s\tremaining: 877ms\n",
      "77:\tlearn: 1966.9257569\ttotal: 2.97s\tremaining: 839ms\n",
      "78:\tlearn: 1966.3110709\ttotal: 3.01s\tremaining: 801ms\n",
      "79:\tlearn: 1965.4425749\ttotal: 3.06s\tremaining: 764ms\n",
      "80:\tlearn: 1964.8681951\ttotal: 3.09s\tremaining: 725ms\n",
      "81:\tlearn: 1964.3637296\ttotal: 3.13s\tremaining: 687ms\n",
      "82:\tlearn: 1964.1306706\ttotal: 3.17s\tremaining: 649ms\n",
      "83:\tlearn: 1962.0179759\ttotal: 3.2s\tremaining: 610ms\n",
      "84:\tlearn: 1960.7431272\ttotal: 3.24s\tremaining: 572ms\n",
      "85:\tlearn: 1960.1007064\ttotal: 3.28s\tremaining: 534ms\n",
      "86:\tlearn: 1959.2053892\ttotal: 3.33s\tremaining: 497ms\n",
      "87:\tlearn: 1958.3220033\ttotal: 3.37s\tremaining: 459ms\n",
      "88:\tlearn: 1956.7166816\ttotal: 3.4s\tremaining: 420ms\n",
      "89:\tlearn: 1955.5692758\ttotal: 3.44s\tremaining: 382ms\n",
      "90:\tlearn: 1954.8744473\ttotal: 3.48s\tremaining: 344ms\n",
      "91:\tlearn: 1953.7330683\ttotal: 3.52s\tremaining: 306ms\n",
      "92:\tlearn: 1952.7012673\ttotal: 3.55s\tremaining: 267ms\n",
      "93:\tlearn: 1952.4939566\ttotal: 3.6s\tremaining: 230ms\n",
      "94:\tlearn: 1952.0595736\ttotal: 3.63s\tremaining: 191ms\n",
      "95:\tlearn: 1951.6557591\ttotal: 3.67s\tremaining: 153ms\n",
      "96:\tlearn: 1950.6312130\ttotal: 3.71s\tremaining: 115ms\n",
      "97:\tlearn: 1949.5122651\ttotal: 3.75s\tremaining: 76.5ms\n",
      "98:\tlearn: 1948.2081283\ttotal: 3.79s\tremaining: 38.3ms\n",
      "99:\tlearn: 1947.3288827\ttotal: 3.83s\tremaining: 0us\n",
      "[CV] END .....iterations=100, max_depth=4, model_size_reg=18; total time=   4.2s\n",
      "Learning rate set to 0.5\n",
      "0:\tlearn: 3066.4380223\ttotal: 215ms\tremaining: 21.3s\n",
      "1:\tlearn: 2432.2418857\ttotal: 347ms\tremaining: 17s\n",
      "2:\tlearn: 2157.0318668\ttotal: 481ms\tremaining: 15.6s\n",
      "3:\tlearn: 2018.5304946\ttotal: 604ms\tremaining: 14.5s\n",
      "4:\tlearn: 1948.3379422\ttotal: 724ms\tremaining: 13.8s\n",
      "5:\tlearn: 1907.0213493\ttotal: 840ms\tremaining: 13.2s\n",
      "6:\tlearn: 1871.6826380\ttotal: 965ms\tremaining: 12.8s\n",
      "7:\tlearn: 1851.8901498\ttotal: 1.09s\tremaining: 12.5s\n",
      "8:\tlearn: 1829.3858594\ttotal: 1.21s\tremaining: 12.3s\n",
      "9:\tlearn: 1806.5470464\ttotal: 1.33s\tremaining: 12s\n",
      "10:\tlearn: 1786.0981660\ttotal: 1.45s\tremaining: 11.8s\n",
      "11:\tlearn: 1776.1330402\ttotal: 1.59s\tremaining: 11.6s\n",
      "12:\tlearn: 1767.4046801\ttotal: 1.71s\tremaining: 11.4s\n",
      "13:\tlearn: 1759.1630327\ttotal: 1.83s\tremaining: 11.3s\n",
      "14:\tlearn: 1745.0902580\ttotal: 1.96s\tremaining: 11.1s\n",
      "15:\tlearn: 1733.7068691\ttotal: 2.08s\tremaining: 10.9s\n",
      "16:\tlearn: 1725.0639254\ttotal: 2.2s\tremaining: 10.8s\n",
      "17:\tlearn: 1718.4603852\ttotal: 2.32s\tremaining: 10.6s\n",
      "18:\tlearn: 1710.7276479\ttotal: 2.45s\tremaining: 10.5s\n",
      "19:\tlearn: 1701.5794173\ttotal: 2.58s\tremaining: 10.3s\n",
      "20:\tlearn: 1695.2917885\ttotal: 2.71s\tremaining: 10.2s\n",
      "21:\tlearn: 1678.2061156\ttotal: 2.84s\tremaining: 10.1s\n",
      "22:\tlearn: 1672.3257088\ttotal: 2.96s\tremaining: 9.93s\n",
      "23:\tlearn: 1660.9669605\ttotal: 3.08s\tremaining: 9.77s\n",
      "24:\tlearn: 1652.0204245\ttotal: 3.21s\tremaining: 9.63s\n",
      "25:\tlearn: 1645.6136530\ttotal: 3.33s\tremaining: 9.47s\n",
      "26:\tlearn: 1636.2514932\ttotal: 3.45s\tremaining: 9.33s\n",
      "27:\tlearn: 1628.8205241\ttotal: 3.57s\tremaining: 9.19s\n",
      "28:\tlearn: 1623.5807817\ttotal: 3.7s\tremaining: 9.06s\n",
      "29:\tlearn: 1617.7495282\ttotal: 3.81s\tremaining: 8.9s\n",
      "30:\tlearn: 1610.9440007\ttotal: 3.93s\tremaining: 8.75s\n",
      "31:\tlearn: 1599.5395952\ttotal: 4.05s\tremaining: 8.61s\n",
      "32:\tlearn: 1589.7587349\ttotal: 4.18s\tremaining: 8.48s\n",
      "33:\tlearn: 1583.1100948\ttotal: 4.3s\tremaining: 8.34s\n",
      "34:\tlearn: 1576.5640612\ttotal: 4.43s\tremaining: 8.22s\n",
      "35:\tlearn: 1573.5992504\ttotal: 4.55s\tremaining: 8.09s\n",
      "36:\tlearn: 1566.6629251\ttotal: 4.67s\tremaining: 7.96s\n",
      "37:\tlearn: 1563.9051081\ttotal: 4.79s\tremaining: 7.82s\n",
      "38:\tlearn: 1556.1023533\ttotal: 4.91s\tremaining: 7.68s\n",
      "39:\tlearn: 1553.2171724\ttotal: 5.02s\tremaining: 7.53s\n",
      "40:\tlearn: 1546.4811000\ttotal: 5.13s\tremaining: 7.39s\n",
      "41:\tlearn: 1543.3762129\ttotal: 5.25s\tremaining: 7.25s\n",
      "42:\tlearn: 1539.5574666\ttotal: 5.37s\tremaining: 7.12s\n",
      "43:\tlearn: 1537.7681649\ttotal: 5.49s\tremaining: 6.99s\n",
      "44:\tlearn: 1533.3063454\ttotal: 5.62s\tremaining: 6.87s\n",
      "45:\tlearn: 1528.8115543\ttotal: 5.74s\tremaining: 6.74s\n",
      "46:\tlearn: 1523.1426077\ttotal: 5.87s\tremaining: 6.62s\n",
      "47:\tlearn: 1517.9137097\ttotal: 5.99s\tremaining: 6.49s\n",
      "48:\tlearn: 1510.5146041\ttotal: 6.11s\tremaining: 6.36s\n",
      "49:\tlearn: 1508.2646235\ttotal: 6.23s\tremaining: 6.23s\n",
      "50:\tlearn: 1503.1070273\ttotal: 6.35s\tremaining: 6.1s\n",
      "51:\tlearn: 1500.9571126\ttotal: 6.47s\tremaining: 5.97s\n",
      "52:\tlearn: 1499.6974909\ttotal: 6.6s\tremaining: 5.85s\n",
      "53:\tlearn: 1497.6431778\ttotal: 6.73s\tremaining: 5.74s\n",
      "54:\tlearn: 1493.6451345\ttotal: 6.85s\tremaining: 5.61s\n",
      "55:\tlearn: 1485.4267242\ttotal: 6.98s\tremaining: 5.48s\n",
      "56:\tlearn: 1483.4483604\ttotal: 7.1s\tremaining: 5.36s\n",
      "57:\tlearn: 1478.0963917\ttotal: 7.23s\tremaining: 5.24s\n",
      "58:\tlearn: 1475.8668505\ttotal: 7.35s\tremaining: 5.11s\n",
      "59:\tlearn: 1471.8664996\ttotal: 7.47s\tremaining: 4.98s\n",
      "60:\tlearn: 1470.2341328\ttotal: 7.6s\tremaining: 4.86s\n",
      "61:\tlearn: 1470.0447137\ttotal: 7.72s\tremaining: 4.73s\n",
      "62:\tlearn: 1464.5578819\ttotal: 7.85s\tremaining: 4.61s\n",
      "63:\tlearn: 1460.2980628\ttotal: 7.99s\tremaining: 4.49s\n",
      "64:\tlearn: 1452.5415997\ttotal: 8.14s\tremaining: 4.39s\n",
      "65:\tlearn: 1449.7529559\ttotal: 8.27s\tremaining: 4.26s\n",
      "66:\tlearn: 1447.5285116\ttotal: 8.42s\tremaining: 4.15s\n",
      "67:\tlearn: 1445.7013530\ttotal: 8.54s\tremaining: 4.02s\n",
      "68:\tlearn: 1443.5222999\ttotal: 8.67s\tremaining: 3.9s\n",
      "69:\tlearn: 1440.7306060\ttotal: 8.8s\tremaining: 3.77s\n",
      "70:\tlearn: 1437.7735097\ttotal: 8.94s\tremaining: 3.65s\n",
      "71:\tlearn: 1432.4041268\ttotal: 9.07s\tremaining: 3.53s\n",
      "72:\tlearn: 1430.7059255\ttotal: 9.2s\tremaining: 3.4s\n",
      "73:\tlearn: 1428.4023599\ttotal: 9.33s\tremaining: 3.28s\n",
      "74:\tlearn: 1424.9765871\ttotal: 9.46s\tremaining: 3.15s\n",
      "75:\tlearn: 1421.8894327\ttotal: 9.59s\tremaining: 3.03s\n",
      "76:\tlearn: 1421.4766023\ttotal: 9.72s\tremaining: 2.9s\n",
      "77:\tlearn: 1417.8711265\ttotal: 9.85s\tremaining: 2.78s\n",
      "78:\tlearn: 1411.7721676\ttotal: 9.97s\tremaining: 2.65s\n",
      "79:\tlearn: 1407.2605855\ttotal: 10.1s\tremaining: 2.52s\n",
      "80:\tlearn: 1403.4662673\ttotal: 10.2s\tremaining: 2.4s\n",
      "81:\tlearn: 1400.7102583\ttotal: 10.3s\tremaining: 2.27s\n",
      "82:\tlearn: 1398.7900773\ttotal: 10.5s\tremaining: 2.15s\n",
      "83:\tlearn: 1394.4557037\ttotal: 10.6s\tremaining: 2.02s\n",
      "84:\tlearn: 1392.5602980\ttotal: 10.7s\tremaining: 1.89s\n",
      "85:\tlearn: 1388.7508209\ttotal: 10.8s\tremaining: 1.77s\n",
      "86:\tlearn: 1385.1192201\ttotal: 11s\tremaining: 1.64s\n",
      "87:\tlearn: 1383.9001062\ttotal: 11.1s\tremaining: 1.51s\n",
      "88:\tlearn: 1378.4841548\ttotal: 11.2s\tremaining: 1.39s\n",
      "89:\tlearn: 1377.5080565\ttotal: 11.3s\tremaining: 1.26s\n",
      "90:\tlearn: 1375.5501547\ttotal: 11.5s\tremaining: 1.13s\n",
      "91:\tlearn: 1373.1069549\ttotal: 11.6s\tremaining: 1.01s\n",
      "92:\tlearn: 1370.8896361\ttotal: 11.7s\tremaining: 882ms\n",
      "93:\tlearn: 1367.5707245\ttotal: 11.8s\tremaining: 756ms\n",
      "94:\tlearn: 1362.5576106\ttotal: 12s\tremaining: 630ms\n",
      "95:\tlearn: 1359.0978837\ttotal: 12.1s\tremaining: 504ms\n",
      "96:\tlearn: 1357.9432917\ttotal: 12.2s\tremaining: 378ms\n",
      "97:\tlearn: 1355.5948281\ttotal: 12.3s\tremaining: 252ms\n",
      "98:\tlearn: 1353.9314574\ttotal: 12.5s\tremaining: 126ms\n",
      "99:\tlearn: 1352.6115573\ttotal: 12.6s\tremaining: 0us\n",
      "[CV] END .....iterations=100, max_depth=12, model_size_reg=0; total time=  13.0s\n",
      "Learning rate set to 0.5\n",
      "0:\tlearn: 3067.1879629\ttotal: 138ms\tremaining: 13.6s\n",
      "1:\tlearn: 2435.1890043\ttotal: 261ms\tremaining: 12.8s\n",
      "2:\tlearn: 2137.9597097\ttotal: 387ms\tremaining: 12.5s\n",
      "3:\tlearn: 2017.3121187\ttotal: 524ms\tremaining: 12.6s\n",
      "4:\tlearn: 1952.0795132\ttotal: 644ms\tremaining: 12.2s\n",
      "5:\tlearn: 1913.7104147\ttotal: 765ms\tremaining: 12s\n",
      "6:\tlearn: 1885.2990238\ttotal: 883ms\tremaining: 11.7s\n",
      "7:\tlearn: 1857.8978470\ttotal: 1.01s\tremaining: 11.6s\n",
      "8:\tlearn: 1832.8891545\ttotal: 1.12s\tremaining: 11.3s\n",
      "9:\tlearn: 1818.4592256\ttotal: 1.26s\tremaining: 11.3s\n",
      "10:\tlearn: 1805.3566120\ttotal: 1.38s\tremaining: 11.2s\n",
      "11:\tlearn: 1786.9157862\ttotal: 1.51s\tremaining: 11.1s\n",
      "12:\tlearn: 1766.7719687\ttotal: 1.63s\tremaining: 10.9s\n",
      "13:\tlearn: 1757.6986759\ttotal: 1.76s\tremaining: 10.8s\n",
      "14:\tlearn: 1746.6041081\ttotal: 1.88s\tremaining: 10.6s\n",
      "15:\tlearn: 1729.1651330\ttotal: 2s\tremaining: 10.5s\n",
      "16:\tlearn: 1721.8015433\ttotal: 2.12s\tremaining: 10.3s\n",
      "17:\tlearn: 1715.7509483\ttotal: 2.24s\tremaining: 10.2s\n",
      "18:\tlearn: 1703.6647651\ttotal: 2.37s\tremaining: 10.1s\n",
      "19:\tlearn: 1693.9380070\ttotal: 2.49s\tremaining: 9.95s\n",
      "20:\tlearn: 1685.5575879\ttotal: 2.62s\tremaining: 9.84s\n",
      "21:\tlearn: 1679.0580831\ttotal: 2.74s\tremaining: 9.72s\n",
      "22:\tlearn: 1669.5202154\ttotal: 2.86s\tremaining: 9.58s\n",
      "23:\tlearn: 1664.9534971\ttotal: 2.98s\tremaining: 9.43s\n",
      "24:\tlearn: 1657.6895819\ttotal: 3.1s\tremaining: 9.3s\n",
      "25:\tlearn: 1647.8546202\ttotal: 3.23s\tremaining: 9.21s\n",
      "26:\tlearn: 1644.6751523\ttotal: 3.36s\tremaining: 9.09s\n",
      "27:\tlearn: 1635.6422744\ttotal: 3.48s\tremaining: 8.95s\n",
      "28:\tlearn: 1622.8979529\ttotal: 3.61s\tremaining: 8.84s\n",
      "29:\tlearn: 1616.9418812\ttotal: 3.73s\tremaining: 8.72s\n",
      "30:\tlearn: 1611.1362559\ttotal: 3.85s\tremaining: 8.58s\n",
      "31:\tlearn: 1604.5903178\ttotal: 3.97s\tremaining: 8.44s\n",
      "32:\tlearn: 1600.3835082\ttotal: 4.1s\tremaining: 8.32s\n",
      "33:\tlearn: 1595.8209429\ttotal: 4.22s\tremaining: 8.19s\n",
      "34:\tlearn: 1590.9394918\ttotal: 4.34s\tremaining: 8.06s\n",
      "35:\tlearn: 1586.4089884\ttotal: 4.46s\tremaining: 7.93s\n",
      "36:\tlearn: 1580.5581217\ttotal: 4.59s\tremaining: 7.82s\n",
      "37:\tlearn: 1578.9674052\ttotal: 4.72s\tremaining: 7.7s\n",
      "38:\tlearn: 1575.1774550\ttotal: 4.84s\tremaining: 7.58s\n",
      "39:\tlearn: 1571.0823362\ttotal: 4.98s\tremaining: 7.47s\n",
      "40:\tlearn: 1562.4963671\ttotal: 5.09s\tremaining: 7.33s\n",
      "41:\tlearn: 1557.5185896\ttotal: 5.23s\tremaining: 7.23s\n",
      "42:\tlearn: 1551.8334764\ttotal: 5.35s\tremaining: 7.09s\n",
      "43:\tlearn: 1545.0174320\ttotal: 5.47s\tremaining: 6.96s\n",
      "44:\tlearn: 1541.1132372\ttotal: 5.59s\tremaining: 6.83s\n",
      "45:\tlearn: 1537.7748007\ttotal: 5.72s\tremaining: 6.72s\n",
      "46:\tlearn: 1536.5063800\ttotal: 5.86s\tremaining: 6.61s\n",
      "47:\tlearn: 1533.0354911\ttotal: 5.98s\tremaining: 6.48s\n",
      "48:\tlearn: 1530.0444675\ttotal: 6.1s\tremaining: 6.35s\n",
      "49:\tlearn: 1525.5243341\ttotal: 6.22s\tremaining: 6.22s\n",
      "50:\tlearn: 1521.3060484\ttotal: 6.35s\tremaining: 6.1s\n",
      "51:\tlearn: 1518.1973250\ttotal: 6.47s\tremaining: 5.97s\n",
      "52:\tlearn: 1516.5494610\ttotal: 6.59s\tremaining: 5.84s\n",
      "53:\tlearn: 1507.6573443\ttotal: 6.73s\tremaining: 5.73s\n",
      "54:\tlearn: 1505.6340102\ttotal: 6.85s\tremaining: 5.61s\n",
      "55:\tlearn: 1499.8659031\ttotal: 6.97s\tremaining: 5.48s\n",
      "56:\tlearn: 1494.3344837\ttotal: 7.09s\tremaining: 5.35s\n",
      "57:\tlearn: 1489.3285020\ttotal: 7.22s\tremaining: 5.23s\n",
      "58:\tlearn: 1485.7726771\ttotal: 7.34s\tremaining: 5.1s\n",
      "59:\tlearn: 1483.7474903\ttotal: 7.46s\tremaining: 4.97s\n",
      "60:\tlearn: 1479.4946511\ttotal: 7.58s\tremaining: 4.85s\n",
      "61:\tlearn: 1478.5372998\ttotal: 7.72s\tremaining: 4.73s\n",
      "62:\tlearn: 1475.0012161\ttotal: 7.84s\tremaining: 4.61s\n",
      "63:\tlearn: 1471.1866400\ttotal: 7.96s\tremaining: 4.48s\n",
      "64:\tlearn: 1467.5954383\ttotal: 8.08s\tremaining: 4.35s\n",
      "65:\tlearn: 1464.1147418\ttotal: 8.2s\tremaining: 4.23s\n",
      "66:\tlearn: 1462.5700701\ttotal: 8.33s\tremaining: 4.1s\n",
      "67:\tlearn: 1459.9287861\ttotal: 8.45s\tremaining: 3.97s\n",
      "68:\tlearn: 1457.6918392\ttotal: 8.57s\tremaining: 3.85s\n",
      "69:\tlearn: 1456.3586125\ttotal: 8.7s\tremaining: 3.73s\n",
      "70:\tlearn: 1450.4208655\ttotal: 8.84s\tremaining: 3.61s\n",
      "71:\tlearn: 1447.3274830\ttotal: 8.95s\tremaining: 3.48s\n",
      "72:\tlearn: 1442.3605657\ttotal: 9.07s\tremaining: 3.35s\n",
      "73:\tlearn: 1437.8955526\ttotal: 9.2s\tremaining: 3.23s\n",
      "74:\tlearn: 1434.9879583\ttotal: 9.32s\tremaining: 3.11s\n",
      "75:\tlearn: 1432.3900924\ttotal: 9.44s\tremaining: 2.98s\n",
      "76:\tlearn: 1431.0269368\ttotal: 9.57s\tremaining: 2.86s\n",
      "77:\tlearn: 1428.7139157\ttotal: 9.7s\tremaining: 2.74s\n",
      "78:\tlearn: 1424.7425280\ttotal: 9.82s\tremaining: 2.61s\n",
      "79:\tlearn: 1420.6629994\ttotal: 9.94s\tremaining: 2.48s\n",
      "80:\tlearn: 1416.9013225\ttotal: 10.1s\tremaining: 2.36s\n",
      "81:\tlearn: 1415.6857592\ttotal: 10.2s\tremaining: 2.24s\n",
      "82:\tlearn: 1411.1544924\ttotal: 10.3s\tremaining: 2.11s\n",
      "83:\tlearn: 1408.7711411\ttotal: 10.4s\tremaining: 1.99s\n",
      "84:\tlearn: 1403.5604290\ttotal: 10.6s\tremaining: 1.86s\n",
      "85:\tlearn: 1401.7261330\ttotal: 10.7s\tremaining: 1.74s\n",
      "86:\tlearn: 1399.1817843\ttotal: 10.8s\tremaining: 1.61s\n",
      "87:\tlearn: 1396.3118982\ttotal: 10.9s\tremaining: 1.49s\n",
      "88:\tlearn: 1393.6950658\ttotal: 11s\tremaining: 1.36s\n",
      "89:\tlearn: 1390.6105905\ttotal: 11.2s\tremaining: 1.24s\n",
      "90:\tlearn: 1385.6483530\ttotal: 11.3s\tremaining: 1.12s\n",
      "91:\tlearn: 1383.0723559\ttotal: 11.4s\tremaining: 993ms\n",
      "92:\tlearn: 1380.1785076\ttotal: 11.5s\tremaining: 869ms\n",
      "93:\tlearn: 1378.9472470\ttotal: 11.7s\tremaining: 745ms\n",
      "94:\tlearn: 1376.6171782\ttotal: 11.8s\tremaining: 621ms\n",
      "95:\tlearn: 1375.7212580\ttotal: 11.9s\tremaining: 497ms\n",
      "96:\tlearn: 1373.6596852\ttotal: 12s\tremaining: 372ms\n",
      "97:\tlearn: 1372.4779841\ttotal: 12.2s\tremaining: 248ms\n",
      "98:\tlearn: 1370.5021172\ttotal: 12.3s\tremaining: 124ms\n",
      "99:\tlearn: 1368.3692927\ttotal: 12.4s\tremaining: 0us\n",
      "[CV] END .....iterations=100, max_depth=12, model_size_reg=0; total time=  12.8s\n",
      "Learning rate set to 0.5\n",
      "0:\tlearn: 3069.5356271\ttotal: 156ms\tremaining: 15.4s\n",
      "1:\tlearn: 2389.7186219\ttotal: 277ms\tremaining: 13.6s\n",
      "2:\tlearn: 2127.6055699\ttotal: 392ms\tremaining: 12.7s\n",
      "3:\tlearn: 2004.4814986\ttotal: 508ms\tremaining: 12.2s\n",
      "4:\tlearn: 1943.2283939\ttotal: 621ms\tremaining: 11.8s\n",
      "5:\tlearn: 1901.6030447\ttotal: 749ms\tremaining: 11.7s\n",
      "6:\tlearn: 1880.2068720\ttotal: 873ms\tremaining: 11.6s\n",
      "7:\tlearn: 1852.8846687\ttotal: 992ms\tremaining: 11.4s\n",
      "8:\tlearn: 1839.9489923\ttotal: 1.11s\tremaining: 11.2s\n",
      "9:\tlearn: 1820.0989317\ttotal: 1.23s\tremaining: 11.1s\n",
      "10:\tlearn: 1805.2841120\ttotal: 1.36s\tremaining: 11s\n",
      "11:\tlearn: 1789.1290421\ttotal: 1.48s\tremaining: 10.8s\n",
      "12:\tlearn: 1774.1315759\ttotal: 1.6s\tremaining: 10.7s\n",
      "13:\tlearn: 1763.1579097\ttotal: 1.74s\tremaining: 10.7s\n",
      "14:\tlearn: 1751.5980412\ttotal: 1.89s\tremaining: 10.7s\n",
      "15:\tlearn: 1742.0317629\ttotal: 2.02s\tremaining: 10.6s\n",
      "16:\tlearn: 1729.3453302\ttotal: 2.17s\tremaining: 10.6s\n",
      "17:\tlearn: 1717.0507379\ttotal: 2.29s\tremaining: 10.5s\n",
      "18:\tlearn: 1710.7453980\ttotal: 2.42s\tremaining: 10.3s\n",
      "19:\tlearn: 1703.5255935\ttotal: 2.54s\tremaining: 10.2s\n",
      "20:\tlearn: 1694.3049812\ttotal: 2.67s\tremaining: 10s\n",
      "21:\tlearn: 1687.0930466\ttotal: 2.81s\tremaining: 9.97s\n",
      "22:\tlearn: 1680.9328498\ttotal: 2.93s\tremaining: 9.82s\n",
      "23:\tlearn: 1673.0482189\ttotal: 3.05s\tremaining: 9.66s\n",
      "24:\tlearn: 1661.4106512\ttotal: 3.17s\tremaining: 9.53s\n",
      "25:\tlearn: 1654.4464013\ttotal: 3.3s\tremaining: 9.4s\n",
      "26:\tlearn: 1647.0448033\ttotal: 3.42s\tremaining: 9.26s\n",
      "27:\tlearn: 1641.2222568\ttotal: 3.54s\tremaining: 9.12s\n",
      "28:\tlearn: 1635.1054556\ttotal: 3.66s\tremaining: 8.96s\n",
      "29:\tlearn: 1631.3702596\ttotal: 3.79s\tremaining: 8.85s\n",
      "30:\tlearn: 1625.3659031\ttotal: 3.91s\tremaining: 8.7s\n",
      "31:\tlearn: 1621.1523994\ttotal: 4.03s\tremaining: 8.56s\n",
      "32:\tlearn: 1612.2297529\ttotal: 4.15s\tremaining: 8.43s\n",
      "33:\tlearn: 1605.5046083\ttotal: 4.27s\tremaining: 8.29s\n",
      "34:\tlearn: 1601.7092833\ttotal: 4.38s\tremaining: 8.14s\n",
      "35:\tlearn: 1597.2932077\ttotal: 4.5s\tremaining: 8s\n",
      "36:\tlearn: 1588.0719378\ttotal: 4.62s\tremaining: 7.87s\n",
      "37:\tlearn: 1581.7649888\ttotal: 4.74s\tremaining: 7.74s\n",
      "38:\tlearn: 1577.7570783\ttotal: 4.87s\tremaining: 7.61s\n",
      "39:\tlearn: 1570.5876170\ttotal: 4.99s\tremaining: 7.49s\n",
      "40:\tlearn: 1567.5318575\ttotal: 5.1s\tremaining: 7.34s\n",
      "41:\tlearn: 1562.9494788\ttotal: 5.22s\tremaining: 7.21s\n",
      "42:\tlearn: 1558.9484730\ttotal: 5.34s\tremaining: 7.08s\n",
      "43:\tlearn: 1553.5318917\ttotal: 5.47s\tremaining: 6.96s\n",
      "44:\tlearn: 1547.4984778\ttotal: 5.59s\tremaining: 6.83s\n",
      "45:\tlearn: 1538.4835133\ttotal: 5.71s\tremaining: 6.7s\n",
      "46:\tlearn: 1534.8921916\ttotal: 5.85s\tremaining: 6.6s\n",
      "47:\tlearn: 1531.3514386\ttotal: 5.97s\tremaining: 6.47s\n",
      "48:\tlearn: 1529.4509173\ttotal: 6.09s\tremaining: 6.34s\n",
      "49:\tlearn: 1525.2462602\ttotal: 6.22s\tremaining: 6.22s\n",
      "50:\tlearn: 1524.1750492\ttotal: 6.34s\tremaining: 6.09s\n",
      "51:\tlearn: 1518.4435559\ttotal: 6.45s\tremaining: 5.96s\n",
      "52:\tlearn: 1512.5246890\ttotal: 6.6s\tremaining: 5.85s\n",
      "53:\tlearn: 1509.9986917\ttotal: 6.72s\tremaining: 5.73s\n",
      "54:\tlearn: 1507.9753688\ttotal: 6.85s\tremaining: 5.6s\n",
      "55:\tlearn: 1501.1830734\ttotal: 6.97s\tremaining: 5.48s\n",
      "56:\tlearn: 1499.4867902\ttotal: 7.09s\tremaining: 5.35s\n",
      "57:\tlearn: 1496.7822930\ttotal: 7.21s\tremaining: 5.22s\n",
      "58:\tlearn: 1489.8376265\ttotal: 7.33s\tremaining: 5.1s\n",
      "59:\tlearn: 1487.4699686\ttotal: 7.46s\tremaining: 4.97s\n",
      "60:\tlearn: 1481.9229685\ttotal: 7.58s\tremaining: 4.85s\n",
      "61:\tlearn: 1479.2539971\ttotal: 7.7s\tremaining: 4.72s\n",
      "62:\tlearn: 1477.4858978\ttotal: 7.83s\tremaining: 4.6s\n",
      "63:\tlearn: 1472.6040173\ttotal: 7.95s\tremaining: 4.47s\n",
      "64:\tlearn: 1469.8753101\ttotal: 8.07s\tremaining: 4.35s\n",
      "65:\tlearn: 1466.0783334\ttotal: 8.21s\tremaining: 4.23s\n",
      "66:\tlearn: 1463.3190927\ttotal: 8.33s\tremaining: 4.1s\n",
      "67:\tlearn: 1459.2615844\ttotal: 8.45s\tremaining: 3.97s\n",
      "68:\tlearn: 1456.0289714\ttotal: 8.57s\tremaining: 3.85s\n",
      "69:\tlearn: 1453.8717316\ttotal: 8.69s\tremaining: 3.72s\n",
      "70:\tlearn: 1448.9628621\ttotal: 8.82s\tremaining: 3.6s\n",
      "71:\tlearn: 1444.5568655\ttotal: 8.96s\tremaining: 3.49s\n",
      "72:\tlearn: 1439.8146171\ttotal: 9.09s\tremaining: 3.36s\n",
      "73:\tlearn: 1435.3056814\ttotal: 9.21s\tremaining: 3.24s\n",
      "74:\tlearn: 1432.7112607\ttotal: 9.34s\tremaining: 3.11s\n",
      "75:\tlearn: 1429.6722161\ttotal: 9.47s\tremaining: 2.99s\n",
      "76:\tlearn: 1428.1344269\ttotal: 9.6s\tremaining: 2.87s\n",
      "77:\tlearn: 1424.7928293\ttotal: 9.73s\tremaining: 2.74s\n",
      "78:\tlearn: 1421.4561671\ttotal: 9.87s\tremaining: 2.62s\n",
      "79:\tlearn: 1418.8447179\ttotal: 9.99s\tremaining: 2.5s\n",
      "80:\tlearn: 1416.1170869\ttotal: 10.1s\tremaining: 2.37s\n",
      "81:\tlearn: 1414.1089410\ttotal: 10.2s\tremaining: 2.25s\n",
      "82:\tlearn: 1412.6060125\ttotal: 10.4s\tremaining: 2.12s\n",
      "83:\tlearn: 1411.2790246\ttotal: 10.5s\tremaining: 2s\n",
      "84:\tlearn: 1408.3730825\ttotal: 10.6s\tremaining: 1.87s\n",
      "85:\tlearn: 1403.7079235\ttotal: 10.7s\tremaining: 1.75s\n",
      "86:\tlearn: 1400.2477280\ttotal: 10.9s\tremaining: 1.62s\n",
      "87:\tlearn: 1397.0665839\ttotal: 11s\tremaining: 1.5s\n",
      "88:\tlearn: 1393.5060562\ttotal: 11.1s\tremaining: 1.37s\n",
      "89:\tlearn: 1391.2726815\ttotal: 11.2s\tremaining: 1.25s\n",
      "90:\tlearn: 1387.0814831\ttotal: 11.3s\tremaining: 1.12s\n",
      "91:\tlearn: 1384.3247914\ttotal: 11.5s\tremaining: 997ms\n",
      "92:\tlearn: 1382.3133986\ttotal: 11.6s\tremaining: 873ms\n",
      "93:\tlearn: 1378.7933712\ttotal: 11.7s\tremaining: 748ms\n",
      "94:\tlearn: 1376.6452373\ttotal: 11.9s\tremaining: 625ms\n",
      "95:\tlearn: 1374.8156254\ttotal: 12s\tremaining: 500ms\n",
      "96:\tlearn: 1371.8092087\ttotal: 12.1s\tremaining: 375ms\n",
      "97:\tlearn: 1371.3338219\ttotal: 12.2s\tremaining: 249ms\n",
      "98:\tlearn: 1368.8705663\ttotal: 12.3s\tremaining: 125ms\n",
      "99:\tlearn: 1366.7430648\ttotal: 12.5s\tremaining: 0us\n",
      "[CV] END .....iterations=100, max_depth=12, model_size_reg=0; total time=  12.9s\n",
      "Learning rate set to 0.5\n",
      "0:\tlearn: 3064.9234263\ttotal: 141ms\tremaining: 13.9s\n",
      "1:\tlearn: 2425.1856988\ttotal: 266ms\tremaining: 13s\n",
      "2:\tlearn: 2150.6880712\ttotal: 389ms\tremaining: 12.6s\n",
      "3:\tlearn: 2022.2892085\ttotal: 506ms\tremaining: 12.1s\n",
      "4:\tlearn: 1954.1109924\ttotal: 624ms\tremaining: 11.9s\n",
      "5:\tlearn: 1910.4477401\ttotal: 752ms\tremaining: 11.8s\n",
      "6:\tlearn: 1884.8679015\ttotal: 875ms\tremaining: 11.6s\n",
      "7:\tlearn: 1860.6742683\ttotal: 1s\tremaining: 11.5s\n",
      "8:\tlearn: 1845.0770407\ttotal: 1.12s\tremaining: 11.4s\n",
      "9:\tlearn: 1834.5739120\ttotal: 1.25s\tremaining: 11.2s\n",
      "10:\tlearn: 1822.3800469\ttotal: 1.36s\tremaining: 11s\n",
      "11:\tlearn: 1804.7261707\ttotal: 1.48s\tremaining: 10.9s\n",
      "12:\tlearn: 1787.5965583\ttotal: 1.61s\tremaining: 10.8s\n",
      "13:\tlearn: 1776.3532208\ttotal: 1.74s\tremaining: 10.7s\n",
      "14:\tlearn: 1764.4719468\ttotal: 1.87s\tremaining: 10.6s\n",
      "15:\tlearn: 1751.5722868\ttotal: 1.99s\tremaining: 10.4s\n",
      "16:\tlearn: 1741.7914419\ttotal: 2.11s\tremaining: 10.3s\n",
      "17:\tlearn: 1731.2928572\ttotal: 2.23s\tremaining: 10.2s\n",
      "18:\tlearn: 1718.7473510\ttotal: 2.35s\tremaining: 10s\n",
      "19:\tlearn: 1712.4548291\ttotal: 2.47s\tremaining: 9.87s\n",
      "20:\tlearn: 1697.5248999\ttotal: 2.58s\tremaining: 9.72s\n",
      "21:\tlearn: 1688.1918958\ttotal: 2.71s\tremaining: 9.63s\n",
      "22:\tlearn: 1681.6196848\ttotal: 2.84s\tremaining: 9.51s\n",
      "23:\tlearn: 1674.4540563\ttotal: 2.97s\tremaining: 9.4s\n",
      "24:\tlearn: 1665.2581605\ttotal: 3.1s\tremaining: 9.3s\n",
      "25:\tlearn: 1654.2827087\ttotal: 3.22s\tremaining: 9.16s\n",
      "26:\tlearn: 1647.2963343\ttotal: 3.33s\tremaining: 9.02s\n",
      "27:\tlearn: 1635.4440254\ttotal: 3.46s\tremaining: 8.89s\n",
      "28:\tlearn: 1628.6340728\ttotal: 3.58s\tremaining: 8.77s\n",
      "29:\tlearn: 1618.3160672\ttotal: 3.71s\tremaining: 8.67s\n",
      "30:\tlearn: 1611.3846407\ttotal: 3.85s\tremaining: 8.56s\n",
      "31:\tlearn: 1603.2849372\ttotal: 3.99s\tremaining: 8.47s\n",
      "32:\tlearn: 1595.9054196\ttotal: 4.11s\tremaining: 8.34s\n",
      "33:\tlearn: 1591.2647405\ttotal: 4.23s\tremaining: 8.21s\n",
      "34:\tlearn: 1586.6496517\ttotal: 4.34s\tremaining: 8.06s\n",
      "35:\tlearn: 1582.3881159\ttotal: 4.47s\tremaining: 7.94s\n",
      "36:\tlearn: 1576.8024476\ttotal: 4.59s\tremaining: 7.81s\n",
      "37:\tlearn: 1572.2731232\ttotal: 4.7s\tremaining: 7.68s\n",
      "38:\tlearn: 1569.9770363\ttotal: 4.83s\tremaining: 7.55s\n",
      "39:\tlearn: 1566.0664043\ttotal: 4.95s\tremaining: 7.42s\n",
      "40:\tlearn: 1558.0822728\ttotal: 5.07s\tremaining: 7.3s\n",
      "41:\tlearn: 1555.6097564\ttotal: 5.19s\tremaining: 7.17s\n",
      "42:\tlearn: 1550.8565565\ttotal: 5.31s\tremaining: 7.04s\n",
      "43:\tlearn: 1543.6518764\ttotal: 5.43s\tremaining: 6.91s\n",
      "44:\tlearn: 1540.0014531\ttotal: 5.55s\tremaining: 6.79s\n",
      "45:\tlearn: 1534.6037917\ttotal: 5.67s\tremaining: 6.66s\n",
      "46:\tlearn: 1531.2092554\ttotal: 5.81s\tremaining: 6.55s\n",
      "47:\tlearn: 1529.6367656\ttotal: 5.94s\tremaining: 6.44s\n",
      "48:\tlearn: 1525.8285059\ttotal: 6.07s\tremaining: 6.31s\n",
      "49:\tlearn: 1522.3326399\ttotal: 6.19s\tremaining: 6.19s\n",
      "50:\tlearn: 1516.4197634\ttotal: 6.3s\tremaining: 6.06s\n",
      "51:\tlearn: 1509.9348448\ttotal: 6.42s\tremaining: 5.93s\n",
      "52:\tlearn: 1504.6423007\ttotal: 6.55s\tremaining: 5.8s\n",
      "53:\tlearn: 1500.5786424\ttotal: 6.67s\tremaining: 5.68s\n",
      "54:\tlearn: 1497.4505349\ttotal: 6.79s\tremaining: 5.55s\n",
      "55:\tlearn: 1493.0955786\ttotal: 6.9s\tremaining: 5.42s\n",
      "56:\tlearn: 1484.1675112\ttotal: 7.04s\tremaining: 5.31s\n",
      "57:\tlearn: 1480.0260653\ttotal: 7.17s\tremaining: 5.19s\n",
      "58:\tlearn: 1476.8282046\ttotal: 7.28s\tremaining: 5.06s\n",
      "59:\tlearn: 1475.6316100\ttotal: 7.4s\tremaining: 4.94s\n",
      "60:\tlearn: 1471.7074986\ttotal: 7.52s\tremaining: 4.81s\n",
      "61:\tlearn: 1465.8193571\ttotal: 7.66s\tremaining: 4.69s\n",
      "62:\tlearn: 1462.4281655\ttotal: 7.78s\tremaining: 4.57s\n",
      "63:\tlearn: 1458.9628261\ttotal: 7.9s\tremaining: 4.44s\n",
      "64:\tlearn: 1457.1679792\ttotal: 8.03s\tremaining: 4.32s\n",
      "65:\tlearn: 1452.5466206\ttotal: 8.15s\tremaining: 4.2s\n",
      "66:\tlearn: 1450.6104376\ttotal: 8.27s\tremaining: 4.07s\n",
      "67:\tlearn: 1449.1275451\ttotal: 8.39s\tremaining: 3.95s\n",
      "68:\tlearn: 1446.1771476\ttotal: 8.52s\tremaining: 3.83s\n",
      "69:\tlearn: 1442.7819743\ttotal: 8.65s\tremaining: 3.71s\n",
      "70:\tlearn: 1441.5587954\ttotal: 8.78s\tremaining: 3.59s\n",
      "71:\tlearn: 1437.3645408\ttotal: 8.91s\tremaining: 3.46s\n",
      "72:\tlearn: 1432.0152364\ttotal: 9.04s\tremaining: 3.35s\n",
      "73:\tlearn: 1430.3549955\ttotal: 9.18s\tremaining: 3.22s\n",
      "74:\tlearn: 1428.6245583\ttotal: 9.3s\tremaining: 3.1s\n",
      "75:\tlearn: 1426.1924759\ttotal: 9.42s\tremaining: 2.97s\n",
      "76:\tlearn: 1422.4014044\ttotal: 9.54s\tremaining: 2.85s\n",
      "77:\tlearn: 1420.5579651\ttotal: 9.68s\tremaining: 2.73s\n",
      "78:\tlearn: 1416.3539017\ttotal: 9.8s\tremaining: 2.61s\n",
      "79:\tlearn: 1413.7890051\ttotal: 9.93s\tremaining: 2.48s\n",
      "80:\tlearn: 1409.0798696\ttotal: 10.1s\tremaining: 2.37s\n",
      "81:\tlearn: 1405.6023971\ttotal: 10.2s\tremaining: 2.24s\n",
      "82:\tlearn: 1403.8437348\ttotal: 10.3s\tremaining: 2.12s\n",
      "83:\tlearn: 1401.5132194\ttotal: 10.5s\tremaining: 1.99s\n",
      "84:\tlearn: 1397.5847874\ttotal: 10.6s\tremaining: 1.87s\n",
      "85:\tlearn: 1396.8015882\ttotal: 10.7s\tremaining: 1.74s\n",
      "86:\tlearn: 1392.4898872\ttotal: 10.8s\tremaining: 1.62s\n",
      "87:\tlearn: 1389.9391495\ttotal: 10.9s\tremaining: 1.49s\n",
      "88:\tlearn: 1388.5847323\ttotal: 11.1s\tremaining: 1.37s\n",
      "89:\tlearn: 1386.9542642\ttotal: 11.2s\tremaining: 1.25s\n",
      "90:\tlearn: 1385.5683343\ttotal: 11.3s\tremaining: 1.12s\n",
      "91:\tlearn: 1382.7947664\ttotal: 11.4s\tremaining: 996ms\n",
      "92:\tlearn: 1382.1686809\ttotal: 11.6s\tremaining: 871ms\n",
      "93:\tlearn: 1378.8481243\ttotal: 11.7s\tremaining: 747ms\n",
      "94:\tlearn: 1375.5072018\ttotal: 11.8s\tremaining: 622ms\n",
      "95:\tlearn: 1372.8546586\ttotal: 11.9s\tremaining: 498ms\n",
      "96:\tlearn: 1369.5450094\ttotal: 12.1s\tremaining: 373ms\n",
      "97:\tlearn: 1367.1178669\ttotal: 12.2s\tremaining: 249ms\n",
      "98:\tlearn: 1364.1292226\ttotal: 12.3s\tremaining: 124ms\n",
      "99:\tlearn: 1361.1713530\ttotal: 12.5s\tremaining: 0us\n",
      "[CV] END .....iterations=100, max_depth=12, model_size_reg=0; total time=  12.9s\n",
      "Learning rate set to 0.5\n",
      "0:\tlearn: 3069.0178396\ttotal: 147ms\tremaining: 14.6s\n",
      "1:\tlearn: 2410.6347100\ttotal: 264ms\tremaining: 12.9s\n",
      "2:\tlearn: 2150.6527769\ttotal: 381ms\tremaining: 12.3s\n",
      "3:\tlearn: 2010.1664796\ttotal: 502ms\tremaining: 12s\n",
      "4:\tlearn: 1943.7172790\ttotal: 618ms\tremaining: 11.7s\n",
      "5:\tlearn: 1903.7170755\ttotal: 734ms\tremaining: 11.5s\n",
      "6:\tlearn: 1877.4013327\ttotal: 876ms\tremaining: 11.6s\n",
      "7:\tlearn: 1849.2919473\ttotal: 1.01s\tremaining: 11.6s\n",
      "8:\tlearn: 1831.3411004\ttotal: 1.13s\tremaining: 11.4s\n",
      "9:\tlearn: 1819.0372915\ttotal: 1.25s\tremaining: 11.2s\n",
      "10:\tlearn: 1795.1313198\ttotal: 1.36s\tremaining: 11s\n",
      "11:\tlearn: 1782.1369859\ttotal: 1.49s\tremaining: 10.9s\n",
      "12:\tlearn: 1769.7090976\ttotal: 1.62s\tremaining: 10.8s\n",
      "13:\tlearn: 1757.3261692\ttotal: 1.73s\tremaining: 10.6s\n",
      "14:\tlearn: 1744.4669110\ttotal: 1.86s\tremaining: 10.5s\n",
      "15:\tlearn: 1728.6998569\ttotal: 2s\tremaining: 10.5s\n",
      "16:\tlearn: 1716.6068948\ttotal: 2.11s\tremaining: 10.3s\n",
      "17:\tlearn: 1704.3666104\ttotal: 2.23s\tremaining: 10.2s\n",
      "18:\tlearn: 1699.7098993\ttotal: 2.35s\tremaining: 10s\n",
      "19:\tlearn: 1694.9192472\ttotal: 2.48s\tremaining: 9.91s\n",
      "20:\tlearn: 1688.4474762\ttotal: 2.59s\tremaining: 9.75s\n",
      "21:\tlearn: 1682.9989058\ttotal: 2.71s\tremaining: 9.61s\n",
      "22:\tlearn: 1677.3267362\ttotal: 2.83s\tremaining: 9.47s\n",
      "23:\tlearn: 1671.9185947\ttotal: 2.95s\tremaining: 9.35s\n",
      "24:\tlearn: 1665.4999501\ttotal: 3.08s\tremaining: 9.23s\n",
      "25:\tlearn: 1657.8143407\ttotal: 3.2s\tremaining: 9.11s\n",
      "26:\tlearn: 1644.8835098\ttotal: 3.32s\tremaining: 8.97s\n",
      "27:\tlearn: 1636.6913513\ttotal: 3.44s\tremaining: 8.85s\n",
      "28:\tlearn: 1631.8543455\ttotal: 3.57s\tremaining: 8.74s\n",
      "29:\tlearn: 1626.6647312\ttotal: 3.69s\tremaining: 8.62s\n",
      "30:\tlearn: 1615.5534678\ttotal: 3.81s\tremaining: 8.48s\n",
      "31:\tlearn: 1605.7149399\ttotal: 3.94s\tremaining: 8.38s\n",
      "32:\tlearn: 1597.8761054\ttotal: 4.07s\tremaining: 8.27s\n",
      "33:\tlearn: 1594.7892267\ttotal: 4.19s\tremaining: 8.14s\n",
      "34:\tlearn: 1590.2891966\ttotal: 4.31s\tremaining: 8.01s\n",
      "35:\tlearn: 1582.7635307\ttotal: 4.43s\tremaining: 7.88s\n",
      "36:\tlearn: 1576.9206499\ttotal: 4.55s\tremaining: 7.75s\n",
      "37:\tlearn: 1570.2221853\ttotal: 4.67s\tremaining: 7.62s\n",
      "38:\tlearn: 1566.2355423\ttotal: 4.78s\tremaining: 7.48s\n",
      "39:\tlearn: 1559.9653529\ttotal: 4.9s\tremaining: 7.35s\n",
      "40:\tlearn: 1553.9221598\ttotal: 5.02s\tremaining: 7.22s\n",
      "41:\tlearn: 1551.4689937\ttotal: 5.14s\tremaining: 7.1s\n",
      "42:\tlearn: 1544.6126076\ttotal: 5.26s\tremaining: 6.97s\n",
      "43:\tlearn: 1536.9806221\ttotal: 5.37s\tremaining: 6.84s\n",
      "44:\tlearn: 1528.8155879\ttotal: 5.5s\tremaining: 6.73s\n",
      "45:\tlearn: 1527.2349362\ttotal: 5.66s\tremaining: 6.64s\n",
      "46:\tlearn: 1516.4396721\ttotal: 5.78s\tremaining: 6.51s\n",
      "47:\tlearn: 1510.2697761\ttotal: 5.9s\tremaining: 6.39s\n",
      "48:\tlearn: 1505.4131597\ttotal: 6.03s\tremaining: 6.28s\n",
      "49:\tlearn: 1498.5027336\ttotal: 6.18s\tremaining: 6.18s\n",
      "50:\tlearn: 1495.7005587\ttotal: 6.3s\tremaining: 6.05s\n",
      "51:\tlearn: 1491.8371925\ttotal: 6.42s\tremaining: 5.93s\n",
      "52:\tlearn: 1486.3931513\ttotal: 6.57s\tremaining: 5.83s\n",
      "53:\tlearn: 1481.2309749\ttotal: 6.69s\tremaining: 5.7s\n",
      "54:\tlearn: 1478.0420328\ttotal: 6.81s\tremaining: 5.57s\n",
      "55:\tlearn: 1474.0711392\ttotal: 6.93s\tremaining: 5.45s\n",
      "56:\tlearn: 1473.7506829\ttotal: 7.05s\tremaining: 5.32s\n",
      "57:\tlearn: 1473.0566754\ttotal: 7.19s\tremaining: 5.2s\n",
      "58:\tlearn: 1471.6544867\ttotal: 7.3s\tremaining: 5.07s\n",
      "59:\tlearn: 1471.5682723\ttotal: 7.42s\tremaining: 4.95s\n",
      "60:\tlearn: 1467.1511258\ttotal: 7.54s\tremaining: 4.82s\n",
      "61:\tlearn: 1463.1397103\ttotal: 7.67s\tremaining: 4.7s\n",
      "62:\tlearn: 1462.9064104\ttotal: 7.78s\tremaining: 4.57s\n",
      "63:\tlearn: 1458.3527154\ttotal: 7.91s\tremaining: 4.45s\n",
      "64:\tlearn: 1456.9380546\ttotal: 8.04s\tremaining: 4.33s\n",
      "65:\tlearn: 1453.4037832\ttotal: 8.17s\tremaining: 4.21s\n",
      "66:\tlearn: 1450.6060975\ttotal: 8.28s\tremaining: 4.08s\n",
      "67:\tlearn: 1450.5956801\ttotal: 8.37s\tremaining: 3.94s\n",
      "68:\tlearn: 1447.2660909\ttotal: 8.49s\tremaining: 3.81s\n",
      "69:\tlearn: 1444.3805235\ttotal: 8.61s\tremaining: 3.69s\n",
      "70:\tlearn: 1439.8340980\ttotal: 8.73s\tremaining: 3.56s\n",
      "71:\tlearn: 1437.2851882\ttotal: 8.85s\tremaining: 3.44s\n",
      "72:\tlearn: 1434.3913872\ttotal: 8.97s\tremaining: 3.32s\n",
      "73:\tlearn: 1429.9846536\ttotal: 9.09s\tremaining: 3.19s\n",
      "74:\tlearn: 1427.9787433\ttotal: 9.22s\tremaining: 3.07s\n",
      "75:\tlearn: 1424.3493062\ttotal: 9.34s\tremaining: 2.95s\n",
      "76:\tlearn: 1421.4975502\ttotal: 9.47s\tremaining: 2.83s\n",
      "77:\tlearn: 1413.7222511\ttotal: 9.59s\tremaining: 2.7s\n",
      "78:\tlearn: 1411.2392576\ttotal: 9.72s\tremaining: 2.58s\n",
      "79:\tlearn: 1404.0879471\ttotal: 9.85s\tremaining: 2.46s\n",
      "80:\tlearn: 1398.7702511\ttotal: 9.98s\tremaining: 2.34s\n",
      "81:\tlearn: 1394.2774104\ttotal: 10.1s\tremaining: 2.22s\n",
      "82:\tlearn: 1389.8961762\ttotal: 10.2s\tremaining: 2.1s\n",
      "83:\tlearn: 1387.0523865\ttotal: 10.4s\tremaining: 1.98s\n",
      "84:\tlearn: 1386.5272519\ttotal: 10.5s\tremaining: 1.85s\n",
      "85:\tlearn: 1382.9951247\ttotal: 10.6s\tremaining: 1.73s\n",
      "86:\tlearn: 1380.2475904\ttotal: 10.7s\tremaining: 1.6s\n",
      "87:\tlearn: 1378.6334323\ttotal: 10.9s\tremaining: 1.48s\n",
      "88:\tlearn: 1376.1185065\ttotal: 11s\tremaining: 1.36s\n",
      "89:\tlearn: 1373.3993874\ttotal: 11.1s\tremaining: 1.23s\n",
      "90:\tlearn: 1368.1152863\ttotal: 11.2s\tremaining: 1.11s\n",
      "91:\tlearn: 1366.8592545\ttotal: 11.3s\tremaining: 987ms\n",
      "92:\tlearn: 1365.1144479\ttotal: 11.5s\tremaining: 864ms\n",
      "93:\tlearn: 1361.7209089\ttotal: 11.6s\tremaining: 740ms\n",
      "94:\tlearn: 1358.2257090\ttotal: 11.7s\tremaining: 617ms\n",
      "95:\tlearn: 1357.1086711\ttotal: 11.8s\tremaining: 493ms\n",
      "96:\tlearn: 1353.4422113\ttotal: 12s\tremaining: 371ms\n",
      "97:\tlearn: 1349.9278780\ttotal: 12.1s\tremaining: 247ms\n",
      "98:\tlearn: 1347.2731869\ttotal: 12.2s\tremaining: 124ms\n",
      "99:\tlearn: 1344.9607297\ttotal: 12.3s\tremaining: 0us\n",
      "[CV] END .....iterations=100, max_depth=12, model_size_reg=0; total time=  12.8s\n",
      "Learning rate set to 0.5\n",
      "0:\tlearn: 3463.1689409\ttotal: 47.5ms\tremaining: 903ms\n",
      "1:\tlearn: 2966.2872234\ttotal: 83.5ms\tremaining: 751ms\n",
      "2:\tlearn: 2707.7791017\ttotal: 131ms\tremaining: 745ms\n",
      "3:\tlearn: 2551.3478638\ttotal: 171ms\tremaining: 683ms\n",
      "4:\tlearn: 2448.5550563\ttotal: 223ms\tremaining: 670ms\n",
      "5:\tlearn: 2392.0002891\ttotal: 263ms\tremaining: 614ms\n",
      "6:\tlearn: 2356.9880271\ttotal: 299ms\tremaining: 556ms\n",
      "7:\tlearn: 2325.8032176\ttotal: 336ms\tremaining: 504ms\n",
      "8:\tlearn: 2304.8039306\ttotal: 375ms\tremaining: 458ms\n",
      "9:\tlearn: 2287.6733558\ttotal: 420ms\tremaining: 420ms\n",
      "10:\tlearn: 2273.3071324\ttotal: 455ms\tremaining: 372ms\n",
      "11:\tlearn: 2217.4482284\ttotal: 492ms\tremaining: 328ms\n",
      "12:\tlearn: 2190.1600871\ttotal: 533ms\tremaining: 287ms\n",
      "13:\tlearn: 2172.9284241\ttotal: 568ms\tremaining: 244ms\n",
      "14:\tlearn: 2163.8020216\ttotal: 609ms\tremaining: 203ms\n",
      "15:\tlearn: 2156.4290134\ttotal: 646ms\tremaining: 161ms\n",
      "16:\tlearn: 2145.3367127\ttotal: 683ms\tremaining: 121ms\n",
      "17:\tlearn: 2136.5320048\ttotal: 721ms\tremaining: 80.1ms\n",
      "18:\tlearn: 2124.8170959\ttotal: 761ms\tremaining: 40ms\n",
      "19:\tlearn: 2096.8396713\ttotal: 795ms\tremaining: 0us\n",
      "[CV] END .......iterations=20, max_depth=4, model_size_reg=8; total time=   1.1s\n",
      "Learning rate set to 0.5\n",
      "0:\tlearn: 3454.0041009\ttotal: 43.6ms\tremaining: 829ms\n",
      "1:\tlearn: 2951.7800563\ttotal: 78.2ms\tremaining: 704ms\n",
      "2:\tlearn: 2698.9933184\ttotal: 125ms\tremaining: 711ms\n",
      "3:\tlearn: 2543.6715178\ttotal: 164ms\tremaining: 658ms\n",
      "4:\tlearn: 2440.5642776\ttotal: 214ms\tremaining: 643ms\n",
      "5:\tlearn: 2384.7043264\ttotal: 251ms\tremaining: 586ms\n",
      "6:\tlearn: 2353.6357279\ttotal: 288ms\tremaining: 535ms\n",
      "7:\tlearn: 2321.4917648\ttotal: 325ms\tremaining: 488ms\n",
      "8:\tlearn: 2295.4485795\ttotal: 366ms\tremaining: 447ms\n",
      "9:\tlearn: 2278.9599563\ttotal: 405ms\tremaining: 405ms\n",
      "10:\tlearn: 2266.6051948\ttotal: 443ms\tremaining: 362ms\n",
      "11:\tlearn: 2211.7507726\ttotal: 481ms\tremaining: 321ms\n",
      "12:\tlearn: 2187.0313674\ttotal: 517ms\tremaining: 278ms\n",
      "13:\tlearn: 2167.4470747\ttotal: 552ms\tremaining: 237ms\n",
      "14:\tlearn: 2159.3105673\ttotal: 591ms\tremaining: 197ms\n",
      "15:\tlearn: 2152.4634976\ttotal: 628ms\tremaining: 157ms\n",
      "16:\tlearn: 2145.9810472\ttotal: 665ms\tremaining: 117ms\n",
      "17:\tlearn: 2132.2293606\ttotal: 701ms\tremaining: 77.9ms\n",
      "18:\tlearn: 2126.8102469\ttotal: 738ms\tremaining: 38.8ms\n",
      "19:\tlearn: 2098.7902699\ttotal: 775ms\tremaining: 0us\n",
      "[CV] END .......iterations=20, max_depth=4, model_size_reg=8; total time=   1.1s\n",
      "Learning rate set to 0.5\n",
      "0:\tlearn: 3452.8935212\ttotal: 47.9ms\tremaining: 910ms\n",
      "1:\tlearn: 2949.6658165\ttotal: 95.3ms\tremaining: 858ms\n",
      "2:\tlearn: 2682.0409694\ttotal: 144ms\tremaining: 815ms\n",
      "3:\tlearn: 2534.8050375\ttotal: 183ms\tremaining: 733ms\n",
      "4:\tlearn: 2436.0531338\ttotal: 221ms\tremaining: 664ms\n",
      "5:\tlearn: 2376.8621579\ttotal: 264ms\tremaining: 616ms\n",
      "6:\tlearn: 2329.5135127\ttotal: 302ms\tremaining: 560ms\n",
      "7:\tlearn: 2305.0100369\ttotal: 337ms\tremaining: 506ms\n",
      "8:\tlearn: 2277.9001356\ttotal: 388ms\tremaining: 474ms\n",
      "9:\tlearn: 2262.9386924\ttotal: 424ms\tremaining: 424ms\n",
      "10:\tlearn: 2205.2330439\ttotal: 459ms\tremaining: 376ms\n",
      "11:\tlearn: 2180.1363936\ttotal: 497ms\tremaining: 331ms\n",
      "12:\tlearn: 2168.8757570\ttotal: 542ms\tremaining: 292ms\n",
      "13:\tlearn: 2147.7895239\ttotal: 579ms\tremaining: 248ms\n",
      "14:\tlearn: 2135.7097734\ttotal: 616ms\tremaining: 205ms\n",
      "15:\tlearn: 2128.0461924\ttotal: 654ms\tremaining: 163ms\n",
      "16:\tlearn: 2116.2810873\ttotal: 697ms\tremaining: 123ms\n",
      "17:\tlearn: 2111.6903228\ttotal: 732ms\tremaining: 81.4ms\n",
      "18:\tlearn: 2104.7826849\ttotal: 769ms\tremaining: 40.5ms\n",
      "19:\tlearn: 2100.7682743\ttotal: 804ms\tremaining: 0us\n",
      "[CV] END .......iterations=20, max_depth=4, model_size_reg=8; total time=   1.2s\n",
      "Learning rate set to 0.5\n",
      "0:\tlearn: 3457.8985479\ttotal: 47ms\tremaining: 892ms\n",
      "1:\tlearn: 2957.6621695\ttotal: 81.7ms\tremaining: 736ms\n",
      "2:\tlearn: 2701.5803368\ttotal: 129ms\tremaining: 731ms\n",
      "3:\tlearn: 2543.8265353\ttotal: 169ms\tremaining: 678ms\n",
      "4:\tlearn: 2439.0950907\ttotal: 214ms\tremaining: 642ms\n",
      "5:\tlearn: 2384.4396423\ttotal: 253ms\tremaining: 590ms\n",
      "6:\tlearn: 2345.4771703\ttotal: 293ms\tremaining: 544ms\n",
      "7:\tlearn: 2320.5556539\ttotal: 329ms\tremaining: 494ms\n",
      "8:\tlearn: 2296.1457412\ttotal: 375ms\tremaining: 458ms\n",
      "9:\tlearn: 2281.5529314\ttotal: 413ms\tremaining: 413ms\n",
      "10:\tlearn: 2222.6375134\ttotal: 451ms\tremaining: 369ms\n",
      "11:\tlearn: 2193.9845485\ttotal: 486ms\tremaining: 324ms\n",
      "12:\tlearn: 2177.5841928\ttotal: 520ms\tremaining: 280ms\n",
      "13:\tlearn: 2164.4304349\ttotal: 557ms\tremaining: 239ms\n",
      "14:\tlearn: 2154.9528814\ttotal: 597ms\tremaining: 199ms\n",
      "15:\tlearn: 2146.8019610\ttotal: 637ms\tremaining: 159ms\n",
      "16:\tlearn: 2141.9964374\ttotal: 673ms\tremaining: 119ms\n",
      "17:\tlearn: 2113.2225737\ttotal: 708ms\tremaining: 78.6ms\n",
      "18:\tlearn: 2101.5033363\ttotal: 744ms\tremaining: 39.1ms\n",
      "19:\tlearn: 2090.8907583\ttotal: 780ms\tremaining: 0us\n",
      "[CV] END .......iterations=20, max_depth=4, model_size_reg=8; total time=   1.1s\n",
      "Learning rate set to 0.5\n",
      "0:\tlearn: 3450.5065087\ttotal: 43.8ms\tremaining: 833ms\n",
      "1:\tlearn: 2949.3121614\ttotal: 86.8ms\tremaining: 781ms\n",
      "2:\tlearn: 2698.2247270\ttotal: 176ms\tremaining: 1s\n",
      "3:\tlearn: 2541.1790979\ttotal: 217ms\tremaining: 868ms\n",
      "4:\tlearn: 2437.4186231\ttotal: 304ms\tremaining: 912ms\n",
      "5:\tlearn: 2380.9749809\ttotal: 448ms\tremaining: 1.04s\n",
      "6:\tlearn: 2349.9855385\ttotal: 556ms\tremaining: 1.03s\n",
      "7:\tlearn: 2317.8401376\ttotal: 605ms\tremaining: 908ms\n",
      "8:\tlearn: 2296.5111601\ttotal: 699ms\tremaining: 854ms\n",
      "9:\tlearn: 2270.8693675\ttotal: 780ms\tremaining: 780ms\n",
      "10:\tlearn: 2257.2748863\ttotal: 815ms\tremaining: 667ms\n",
      "11:\tlearn: 2201.4794551\ttotal: 866ms\tremaining: 577ms\n",
      "12:\tlearn: 2179.3855363\ttotal: 901ms\tremaining: 485ms\n",
      "13:\tlearn: 2162.6570962\ttotal: 935ms\tremaining: 401ms\n",
      "14:\tlearn: 2152.3158911\ttotal: 972ms\tremaining: 324ms\n",
      "15:\tlearn: 2138.7727195\ttotal: 1.01s\tremaining: 252ms\n",
      "16:\tlearn: 2124.2109633\ttotal: 1.05s\tremaining: 185ms\n",
      "17:\tlearn: 2117.1821640\ttotal: 1.08s\tremaining: 120ms\n",
      "18:\tlearn: 2090.4014221\ttotal: 1.12s\tremaining: 59.1ms\n",
      "19:\tlearn: 2078.8137285\ttotal: 1.16s\tremaining: 0us\n",
      "[CV] END .......iterations=20, max_depth=4, model_size_reg=8; total time=   1.5s\n",
      "Learning rate set to 0.5\n",
      "0:\tlearn: 3669.5799224\ttotal: 32.5ms\tremaining: 2.57s\n",
      "1:\tlearn: 3313.8496365\ttotal: 73.1ms\tremaining: 2.85s\n",
      "2:\tlearn: 3033.5208943\ttotal: 98.2ms\tremaining: 2.52s\n",
      "3:\tlearn: 2862.9972096\ttotal: 133ms\tremaining: 2.53s\n",
      "4:\tlearn: 2773.0693174\ttotal: 159ms\tremaining: 2.39s\n",
      "5:\tlearn: 2684.9521206\ttotal: 186ms\tremaining: 2.29s\n",
      "6:\tlearn: 2643.0404760\ttotal: 215ms\tremaining: 2.24s\n",
      "7:\tlearn: 2592.4927793\ttotal: 240ms\tremaining: 2.16s\n",
      "8:\tlearn: 2560.3303699\ttotal: 265ms\tremaining: 2.09s\n",
      "9:\tlearn: 2508.5489611\ttotal: 291ms\tremaining: 2.03s\n",
      "10:\tlearn: 2485.5156339\ttotal: 316ms\tremaining: 1.98s\n",
      "11:\tlearn: 2471.5588025\ttotal: 341ms\tremaining: 1.93s\n",
      "12:\tlearn: 2444.2365215\ttotal: 368ms\tremaining: 1.9s\n",
      "13:\tlearn: 2431.7754525\ttotal: 395ms\tremaining: 1.86s\n",
      "14:\tlearn: 2409.7991234\ttotal: 420ms\tremaining: 1.82s\n",
      "15:\tlearn: 2399.9043959\ttotal: 444ms\tremaining: 1.77s\n",
      "16:\tlearn: 2389.7459054\ttotal: 474ms\tremaining: 1.76s\n",
      "17:\tlearn: 2381.8405957\ttotal: 499ms\tremaining: 1.72s\n",
      "18:\tlearn: 2372.3407745\ttotal: 523ms\tremaining: 1.68s\n",
      "19:\tlearn: 2360.7347994\ttotal: 550ms\tremaining: 1.65s\n",
      "20:\tlearn: 2351.3644252\ttotal: 574ms\tremaining: 1.61s\n",
      "21:\tlearn: 2340.2763563\ttotal: 604ms\tremaining: 1.59s\n",
      "22:\tlearn: 2328.1460274\ttotal: 630ms\tremaining: 1.56s\n",
      "23:\tlearn: 2321.8806869\ttotal: 655ms\tremaining: 1.53s\n",
      "24:\tlearn: 2314.2058533\ttotal: 680ms\tremaining: 1.5s\n",
      "25:\tlearn: 2308.4021858\ttotal: 704ms\tremaining: 1.46s\n",
      "26:\tlearn: 2304.4472029\ttotal: 729ms\tremaining: 1.43s\n",
      "27:\tlearn: 2299.4214693\ttotal: 753ms\tremaining: 1.4s\n",
      "28:\tlearn: 2295.1071661\ttotal: 778ms\tremaining: 1.37s\n",
      "29:\tlearn: 2287.7736812\ttotal: 805ms\tremaining: 1.34s\n",
      "30:\tlearn: 2282.8713581\ttotal: 830ms\tremaining: 1.31s\n",
      "31:\tlearn: 2277.5718124\ttotal: 857ms\tremaining: 1.28s\n",
      "32:\tlearn: 2272.5772620\ttotal: 883ms\tremaining: 1.26s\n",
      "33:\tlearn: 2267.5319663\ttotal: 908ms\tremaining: 1.23s\n",
      "34:\tlearn: 2262.8472705\ttotal: 931ms\tremaining: 1.2s\n",
      "35:\tlearn: 2260.5330168\ttotal: 956ms\tremaining: 1.17s\n",
      "36:\tlearn: 2258.7903806\ttotal: 983ms\tremaining: 1.14s\n",
      "37:\tlearn: 2253.4077311\ttotal: 1.01s\tremaining: 1.11s\n",
      "38:\tlearn: 2251.6985681\ttotal: 1.03s\tremaining: 1.08s\n",
      "39:\tlearn: 2247.1084338\ttotal: 1.06s\tremaining: 1.06s\n",
      "40:\tlearn: 2244.0222880\ttotal: 1.08s\tremaining: 1.03s\n",
      "41:\tlearn: 2242.3797113\ttotal: 1.11s\tremaining: 1s\n",
      "42:\tlearn: 2238.6702295\ttotal: 1.13s\tremaining: 974ms\n",
      "43:\tlearn: 2236.0212496\ttotal: 1.16s\tremaining: 947ms\n",
      "44:\tlearn: 2231.9296791\ttotal: 1.18s\tremaining: 919ms\n",
      "45:\tlearn: 2230.3396320\ttotal: 1.21s\tremaining: 892ms\n",
      "46:\tlearn: 2225.7503121\ttotal: 1.23s\tremaining: 866ms\n",
      "47:\tlearn: 2223.0781942\ttotal: 1.26s\tremaining: 838ms\n",
      "48:\tlearn: 2221.1416789\ttotal: 1.28s\tremaining: 812ms\n",
      "49:\tlearn: 2218.4392634\ttotal: 1.31s\tremaining: 784ms\n",
      "50:\tlearn: 2216.0351815\ttotal: 1.33s\tremaining: 758ms\n",
      "51:\tlearn: 2214.1365266\ttotal: 1.36s\tremaining: 731ms\n",
      "52:\tlearn: 2213.3227638\ttotal: 1.38s\tremaining: 704ms\n",
      "53:\tlearn: 2210.7908783\ttotal: 1.4s\tremaining: 676ms\n",
      "54:\tlearn: 2208.2519776\ttotal: 1.43s\tremaining: 650ms\n",
      "55:\tlearn: 2206.5638383\ttotal: 1.46s\tremaining: 624ms\n",
      "56:\tlearn: 2205.7218113\ttotal: 1.49s\tremaining: 600ms\n",
      "57:\tlearn: 2204.6276357\ttotal: 1.51s\tremaining: 574ms\n",
      "58:\tlearn: 2166.2958777\ttotal: 1.54s\tremaining: 547ms\n",
      "59:\tlearn: 2153.5552599\ttotal: 1.56s\tremaining: 522ms\n",
      "60:\tlearn: 2142.8913401\ttotal: 1.59s\tremaining: 495ms\n",
      "61:\tlearn: 2136.0153039\ttotal: 1.61s\tremaining: 468ms\n",
      "62:\tlearn: 2133.9005249\ttotal: 1.64s\tremaining: 442ms\n",
      "63:\tlearn: 2130.8331606\ttotal: 1.66s\tremaining: 416ms\n",
      "64:\tlearn: 2128.6646467\ttotal: 1.69s\tremaining: 390ms\n",
      "65:\tlearn: 2126.9462783\ttotal: 1.72s\tremaining: 364ms\n",
      "66:\tlearn: 2125.6248519\ttotal: 1.74s\tremaining: 338ms\n",
      "67:\tlearn: 2124.7201260\ttotal: 1.76s\tremaining: 312ms\n",
      "68:\tlearn: 2123.4160538\ttotal: 1.79s\tremaining: 285ms\n",
      "69:\tlearn: 2121.4178903\ttotal: 1.81s\tremaining: 259ms\n",
      "70:\tlearn: 2120.1268670\ttotal: 1.84s\tremaining: 233ms\n",
      "71:\tlearn: 2119.0776854\ttotal: 1.86s\tremaining: 207ms\n",
      "72:\tlearn: 2117.1384190\ttotal: 1.89s\tremaining: 181ms\n",
      "73:\tlearn: 2116.0765217\ttotal: 1.91s\tremaining: 155ms\n",
      "74:\tlearn: 2114.5790809\ttotal: 1.94s\tremaining: 129ms\n",
      "75:\tlearn: 2112.7741086\ttotal: 1.96s\tremaining: 103ms\n",
      "76:\tlearn: 2110.3609046\ttotal: 1.99s\tremaining: 77.4ms\n",
      "77:\tlearn: 2109.7131504\ttotal: 2.01s\tremaining: 51.6ms\n",
      "78:\tlearn: 2109.1551876\ttotal: 2.04s\tremaining: 25.8ms\n",
      "79:\tlearn: 2104.2758762\ttotal: 2.07s\tremaining: 0us\n",
      "[CV] END ......iterations=80, max_depth=2, model_size_reg=16; total time=   2.4s\n",
      "Learning rate set to 0.5\n",
      "0:\tlearn: 3669.7551674\ttotal: 32.8ms\tremaining: 2.59s\n",
      "1:\tlearn: 3313.4518715\ttotal: 67.1ms\tremaining: 2.62s\n",
      "2:\tlearn: 3033.8955385\ttotal: 91.8ms\tremaining: 2.36s\n",
      "3:\tlearn: 2860.5522390\ttotal: 127ms\tremaining: 2.41s\n",
      "4:\tlearn: 2770.2905733\ttotal: 152ms\tremaining: 2.29s\n",
      "5:\tlearn: 2682.1072079\ttotal: 179ms\tremaining: 2.21s\n",
      "6:\tlearn: 2640.7700606\ttotal: 205ms\tremaining: 2.13s\n",
      "7:\tlearn: 2604.2748264\ttotal: 230ms\tremaining: 2.07s\n",
      "8:\tlearn: 2541.0072063\ttotal: 255ms\tremaining: 2.02s\n",
      "9:\tlearn: 2484.8103962\ttotal: 280ms\tremaining: 1.96s\n",
      "10:\tlearn: 2465.2071259\ttotal: 307ms\tremaining: 1.92s\n",
      "11:\tlearn: 2452.2445090\ttotal: 332ms\tremaining: 1.88s\n",
      "12:\tlearn: 2430.0913488\ttotal: 359ms\tremaining: 1.85s\n",
      "13:\tlearn: 2412.2687397\ttotal: 383ms\tremaining: 1.81s\n",
      "14:\tlearn: 2400.6898635\ttotal: 409ms\tremaining: 1.77s\n",
      "15:\tlearn: 2393.3044545\ttotal: 434ms\tremaining: 1.74s\n",
      "16:\tlearn: 2385.3833484\ttotal: 458ms\tremaining: 1.7s\n",
      "17:\tlearn: 2372.2964344\ttotal: 484ms\tremaining: 1.67s\n",
      "18:\tlearn: 2352.5005065\ttotal: 509ms\tremaining: 1.63s\n",
      "19:\tlearn: 2343.8332992\ttotal: 533ms\tremaining: 1.6s\n",
      "20:\tlearn: 2339.0095137\ttotal: 558ms\tremaining: 1.57s\n",
      "21:\tlearn: 2330.5118708\ttotal: 583ms\tremaining: 1.54s\n",
      "22:\tlearn: 2325.6138125\ttotal: 608ms\tremaining: 1.51s\n",
      "23:\tlearn: 2314.7689264\ttotal: 635ms\tremaining: 1.48s\n",
      "24:\tlearn: 2310.3483889\ttotal: 662ms\tremaining: 1.46s\n",
      "25:\tlearn: 2303.9276275\ttotal: 686ms\tremaining: 1.42s\n",
      "26:\tlearn: 2301.1409576\ttotal: 711ms\tremaining: 1.4s\n",
      "27:\tlearn: 2297.1685668\ttotal: 736ms\tremaining: 1.37s\n",
      "28:\tlearn: 2287.4654623\ttotal: 761ms\tremaining: 1.34s\n",
      "29:\tlearn: 2284.5363048\ttotal: 786ms\tremaining: 1.31s\n",
      "30:\tlearn: 2279.8677178\ttotal: 810ms\tremaining: 1.28s\n",
      "31:\tlearn: 2277.8514607\ttotal: 835ms\tremaining: 1.25s\n",
      "32:\tlearn: 2274.8452251\ttotal: 860ms\tremaining: 1.22s\n",
      "33:\tlearn: 2268.3161628\ttotal: 888ms\tremaining: 1.2s\n",
      "34:\tlearn: 2261.1955973\ttotal: 912ms\tremaining: 1.17s\n",
      "35:\tlearn: 2255.9286100\ttotal: 943ms\tremaining: 1.15s\n",
      "36:\tlearn: 2251.0167072\ttotal: 968ms\tremaining: 1.12s\n",
      "37:\tlearn: 2247.9128107\ttotal: 995ms\tremaining: 1.1s\n",
      "38:\tlearn: 2245.4420982\ttotal: 1.02s\tremaining: 1.07s\n",
      "39:\tlearn: 2243.9126776\ttotal: 1.05s\tremaining: 1.05s\n",
      "40:\tlearn: 2242.8417471\ttotal: 1.07s\tremaining: 1.02s\n",
      "41:\tlearn: 2236.7739144\ttotal: 1.1s\tremaining: 998ms\n",
      "42:\tlearn: 2234.0752383\ttotal: 1.13s\tremaining: 974ms\n",
      "43:\tlearn: 2232.0748964\ttotal: 1.16s\tremaining: 947ms\n",
      "44:\tlearn: 2230.5886135\ttotal: 1.18s\tremaining: 921ms\n",
      "45:\tlearn: 2229.2261867\ttotal: 1.21s\tremaining: 894ms\n",
      "46:\tlearn: 2225.8712117\ttotal: 1.23s\tremaining: 867ms\n",
      "47:\tlearn: 2222.8008964\ttotal: 1.26s\tremaining: 839ms\n",
      "48:\tlearn: 2221.5387778\ttotal: 1.29s\tremaining: 814ms\n",
      "49:\tlearn: 2219.3204851\ttotal: 1.31s\tremaining: 786ms\n",
      "50:\tlearn: 2215.5119834\ttotal: 1.33s\tremaining: 758ms\n",
      "51:\tlearn: 2210.7661791\ttotal: 1.36s\tremaining: 732ms\n",
      "52:\tlearn: 2209.7332825\ttotal: 1.38s\tremaining: 705ms\n",
      "53:\tlearn: 2207.5931686\ttotal: 1.41s\tremaining: 678ms\n",
      "54:\tlearn: 2205.7711920\ttotal: 1.43s\tremaining: 652ms\n",
      "55:\tlearn: 2204.2388801\ttotal: 1.46s\tremaining: 626ms\n",
      "56:\tlearn: 2203.1397030\ttotal: 1.49s\tremaining: 601ms\n",
      "57:\tlearn: 2201.9393321\ttotal: 1.51s\tremaining: 574ms\n",
      "58:\tlearn: 2201.0364522\ttotal: 1.54s\tremaining: 548ms\n",
      "59:\tlearn: 2199.7955983\ttotal: 1.56s\tremaining: 521ms\n",
      "60:\tlearn: 2196.3567851\ttotal: 1.59s\tremaining: 496ms\n",
      "61:\tlearn: 2158.1882216\ttotal: 1.62s\tremaining: 470ms\n",
      "62:\tlearn: 2146.3412436\ttotal: 1.64s\tremaining: 444ms\n",
      "63:\tlearn: 2137.0071986\ttotal: 1.67s\tremaining: 417ms\n",
      "64:\tlearn: 2131.1310602\ttotal: 1.69s\tremaining: 391ms\n",
      "65:\tlearn: 2126.5351435\ttotal: 1.72s\tremaining: 365ms\n",
      "66:\tlearn: 2124.4351121\ttotal: 1.74s\tremaining: 338ms\n",
      "67:\tlearn: 2120.3065635\ttotal: 1.77s\tremaining: 312ms\n",
      "68:\tlearn: 2118.3700559\ttotal: 1.79s\tremaining: 286ms\n",
      "69:\tlearn: 2115.4104946\ttotal: 1.82s\tremaining: 260ms\n",
      "70:\tlearn: 2113.5337471\ttotal: 1.84s\tremaining: 234ms\n",
      "71:\tlearn: 2111.8346000\ttotal: 1.87s\tremaining: 208ms\n",
      "72:\tlearn: 2110.3495358\ttotal: 1.9s\tremaining: 182ms\n",
      "73:\tlearn: 2108.9024257\ttotal: 1.92s\tremaining: 156ms\n",
      "74:\tlearn: 2107.3055292\ttotal: 1.95s\tremaining: 130ms\n",
      "75:\tlearn: 2105.4985378\ttotal: 1.97s\tremaining: 104ms\n",
      "76:\tlearn: 2102.9165624\ttotal: 2s\tremaining: 77.8ms\n",
      "77:\tlearn: 2101.0989505\ttotal: 2.02s\tremaining: 51.8ms\n",
      "78:\tlearn: 2099.1491306\ttotal: 2.04s\tremaining: 25.9ms\n",
      "79:\tlearn: 2097.3729059\ttotal: 2.07s\tremaining: 0us\n",
      "[CV] END ......iterations=80, max_depth=2, model_size_reg=16; total time=   2.5s\n",
      "Learning rate set to 0.5\n",
      "0:\tlearn: 3668.7848001\ttotal: 32.5ms\tremaining: 2.56s\n",
      "1:\tlearn: 3312.2481782\ttotal: 70ms\tremaining: 2.73s\n",
      "2:\tlearn: 3031.8445254\ttotal: 94.8ms\tremaining: 2.43s\n",
      "3:\tlearn: 2856.7647741\ttotal: 129ms\tremaining: 2.45s\n",
      "4:\tlearn: 2766.3931958\ttotal: 155ms\tremaining: 2.33s\n",
      "5:\tlearn: 2684.3859432\ttotal: 182ms\tremaining: 2.24s\n",
      "6:\tlearn: 2640.6772980\ttotal: 207ms\tremaining: 2.16s\n",
      "7:\tlearn: 2603.8460729\ttotal: 232ms\tremaining: 2.09s\n",
      "8:\tlearn: 2539.7220185\ttotal: 258ms\tremaining: 2.04s\n",
      "9:\tlearn: 2484.7339180\ttotal: 283ms\tremaining: 1.98s\n",
      "10:\tlearn: 2463.9914025\ttotal: 308ms\tremaining: 1.93s\n",
      "11:\tlearn: 2448.7115367\ttotal: 333ms\tremaining: 1.89s\n",
      "12:\tlearn: 2424.3052463\ttotal: 362ms\tremaining: 1.86s\n",
      "13:\tlearn: 2413.8268345\ttotal: 391ms\tremaining: 1.84s\n",
      "14:\tlearn: 2403.6433426\ttotal: 420ms\tremaining: 1.82s\n",
      "15:\tlearn: 2396.2985823\ttotal: 445ms\tremaining: 1.78s\n",
      "16:\tlearn: 2382.2013702\ttotal: 472ms\tremaining: 1.75s\n",
      "17:\tlearn: 2359.1517752\ttotal: 501ms\tremaining: 1.73s\n",
      "18:\tlearn: 2349.9764996\ttotal: 532ms\tremaining: 1.71s\n",
      "19:\tlearn: 2341.0385907\ttotal: 563ms\tremaining: 1.69s\n",
      "20:\tlearn: 2335.1533906\ttotal: 594ms\tremaining: 1.67s\n",
      "21:\tlearn: 2322.9576135\ttotal: 619ms\tremaining: 1.63s\n",
      "22:\tlearn: 2315.2331201\ttotal: 645ms\tremaining: 1.6s\n",
      "23:\tlearn: 2309.3951297\ttotal: 670ms\tremaining: 1.56s\n",
      "24:\tlearn: 2302.0863309\ttotal: 696ms\tremaining: 1.53s\n",
      "25:\tlearn: 2297.5399847\ttotal: 720ms\tremaining: 1.5s\n",
      "26:\tlearn: 2293.1348550\ttotal: 745ms\tremaining: 1.46s\n",
      "27:\tlearn: 2290.1224805\ttotal: 770ms\tremaining: 1.43s\n",
      "28:\tlearn: 2285.9065239\ttotal: 796ms\tremaining: 1.4s\n",
      "29:\tlearn: 2278.6177893\ttotal: 821ms\tremaining: 1.37s\n",
      "30:\tlearn: 2275.9923480\ttotal: 854ms\tremaining: 1.35s\n",
      "31:\tlearn: 2265.9093854\ttotal: 880ms\tremaining: 1.32s\n",
      "32:\tlearn: 2259.6493404\ttotal: 905ms\tremaining: 1.29s\n",
      "33:\tlearn: 2257.6186228\ttotal: 930ms\tremaining: 1.26s\n",
      "34:\tlearn: 2255.3113910\ttotal: 956ms\tremaining: 1.23s\n",
      "35:\tlearn: 2251.0838789\ttotal: 980ms\tremaining: 1.2s\n",
      "36:\tlearn: 2247.1183621\ttotal: 1.01s\tremaining: 1.17s\n",
      "37:\tlearn: 2241.9264006\ttotal: 1.03s\tremaining: 1.14s\n",
      "38:\tlearn: 2239.5650712\ttotal: 1.07s\tremaining: 1.13s\n",
      "39:\tlearn: 2237.9413618\ttotal: 1.1s\tremaining: 1.1s\n",
      "40:\tlearn: 2232.5182477\ttotal: 1.12s\tremaining: 1.07s\n",
      "41:\tlearn: 2229.0621310\ttotal: 1.15s\tremaining: 1.04s\n",
      "42:\tlearn: 2226.9423041\ttotal: 1.17s\tremaining: 1.01s\n",
      "43:\tlearn: 2225.1343371\ttotal: 1.2s\tremaining: 980ms\n",
      "44:\tlearn: 2221.3953419\ttotal: 1.22s\tremaining: 951ms\n",
      "45:\tlearn: 2218.3377233\ttotal: 1.25s\tremaining: 922ms\n",
      "46:\tlearn: 2217.4591564\ttotal: 1.27s\tremaining: 894ms\n",
      "47:\tlearn: 2215.2715829\ttotal: 1.3s\tremaining: 865ms\n",
      "48:\tlearn: 2214.0553849\ttotal: 1.32s\tremaining: 836ms\n",
      "49:\tlearn: 2213.2052538\ttotal: 1.35s\tremaining: 809ms\n",
      "50:\tlearn: 2174.3658034\ttotal: 1.38s\tremaining: 785ms\n",
      "51:\tlearn: 2161.4521653\ttotal: 1.41s\tremaining: 758ms\n",
      "52:\tlearn: 2154.0408646\ttotal: 1.44s\tremaining: 735ms\n",
      "53:\tlearn: 2147.8775817\ttotal: 1.47s\tremaining: 708ms\n",
      "54:\tlearn: 2145.4249186\ttotal: 1.5s\tremaining: 680ms\n",
      "55:\tlearn: 2143.4390239\ttotal: 1.52s\tremaining: 652ms\n",
      "56:\tlearn: 2142.5959541\ttotal: 1.54s\tremaining: 624ms\n",
      "57:\tlearn: 2139.9496032\ttotal: 1.57s\tremaining: 595ms\n",
      "58:\tlearn: 2138.0517869\ttotal: 1.59s\tremaining: 567ms\n",
      "59:\tlearn: 2135.6266696\ttotal: 1.62s\tremaining: 539ms\n",
      "60:\tlearn: 2131.8744024\ttotal: 1.64s\tremaining: 511ms\n",
      "61:\tlearn: 2129.5729456\ttotal: 1.67s\tremaining: 484ms\n",
      "62:\tlearn: 2127.4668267\ttotal: 1.69s\tremaining: 456ms\n",
      "63:\tlearn: 2126.2825773\ttotal: 1.72s\tremaining: 429ms\n",
      "64:\tlearn: 2124.6359804\ttotal: 1.74s\tremaining: 401ms\n",
      "65:\tlearn: 2121.9395921\ttotal: 1.76s\tremaining: 374ms\n",
      "66:\tlearn: 2120.5778337\ttotal: 1.79s\tremaining: 347ms\n",
      "67:\tlearn: 2118.2680326\ttotal: 1.81s\tremaining: 320ms\n",
      "68:\tlearn: 2114.8275708\ttotal: 1.84s\tremaining: 293ms\n",
      "69:\tlearn: 2113.6679577\ttotal: 1.86s\tremaining: 266ms\n",
      "70:\tlearn: 2112.0862094\ttotal: 1.89s\tremaining: 239ms\n",
      "71:\tlearn: 2111.6081646\ttotal: 1.91s\tremaining: 212ms\n",
      "72:\tlearn: 2110.1000092\ttotal: 1.94s\tremaining: 186ms\n",
      "73:\tlearn: 2107.9931769\ttotal: 1.96s\tremaining: 159ms\n",
      "74:\tlearn: 2106.9090369\ttotal: 1.99s\tremaining: 133ms\n",
      "75:\tlearn: 2106.2592181\ttotal: 2.01s\tremaining: 106ms\n",
      "76:\tlearn: 2104.9795975\ttotal: 2.04s\tremaining: 79.4ms\n",
      "77:\tlearn: 2103.6102111\ttotal: 2.06s\tremaining: 52.9ms\n",
      "78:\tlearn: 2102.2336672\ttotal: 2.09s\tremaining: 26.5ms\n",
      "79:\tlearn: 2101.4422382\ttotal: 2.12s\tremaining: 0us\n",
      "[CV] END ......iterations=80, max_depth=2, model_size_reg=16; total time=   2.5s\n",
      "Learning rate set to 0.5\n",
      "0:\tlearn: 3667.5739388\ttotal: 32.7ms\tremaining: 2.58s\n",
      "1:\tlearn: 3311.7720841\ttotal: 67.7ms\tremaining: 2.64s\n",
      "2:\tlearn: 3030.7803542\ttotal: 93.1ms\tremaining: 2.39s\n",
      "3:\tlearn: 2856.9732561\ttotal: 128ms\tremaining: 2.43s\n",
      "4:\tlearn: 2767.0745502\ttotal: 154ms\tremaining: 2.3s\n",
      "5:\tlearn: 2678.8035806\ttotal: 180ms\tremaining: 2.22s\n",
      "6:\tlearn: 2636.7403654\ttotal: 210ms\tremaining: 2.19s\n",
      "7:\tlearn: 2599.5383438\ttotal: 236ms\tremaining: 2.13s\n",
      "8:\tlearn: 2535.6308007\ttotal: 263ms\tremaining: 2.07s\n",
      "9:\tlearn: 2478.9876339\ttotal: 288ms\tremaining: 2.01s\n",
      "10:\tlearn: 2455.6186541\ttotal: 313ms\tremaining: 1.96s\n",
      "11:\tlearn: 2442.5905744\ttotal: 338ms\tremaining: 1.92s\n",
      "12:\tlearn: 2419.3352323\ttotal: 365ms\tremaining: 1.88s\n",
      "13:\tlearn: 2404.0612223\ttotal: 389ms\tremaining: 1.83s\n",
      "14:\tlearn: 2392.7820829\ttotal: 413ms\tremaining: 1.79s\n",
      "15:\tlearn: 2384.7582468\ttotal: 440ms\tremaining: 1.76s\n",
      "16:\tlearn: 2376.2459830\ttotal: 467ms\tremaining: 1.73s\n",
      "17:\tlearn: 2361.7999935\ttotal: 491ms\tremaining: 1.69s\n",
      "18:\tlearn: 2348.4154365\ttotal: 517ms\tremaining: 1.66s\n",
      "19:\tlearn: 2341.8522849\ttotal: 541ms\tremaining: 1.62s\n",
      "20:\tlearn: 2327.1211841\ttotal: 565ms\tremaining: 1.59s\n",
      "21:\tlearn: 2321.8230076\ttotal: 590ms\tremaining: 1.55s\n",
      "22:\tlearn: 2315.5107748\ttotal: 615ms\tremaining: 1.52s\n",
      "23:\tlearn: 2307.7626296\ttotal: 641ms\tremaining: 1.5s\n",
      "24:\tlearn: 2298.9287447\ttotal: 665ms\tremaining: 1.46s\n",
      "25:\tlearn: 2294.3564703\ttotal: 690ms\tremaining: 1.43s\n",
      "26:\tlearn: 2284.5820448\ttotal: 714ms\tremaining: 1.4s\n",
      "27:\tlearn: 2280.4584087\ttotal: 740ms\tremaining: 1.37s\n",
      "28:\tlearn: 2277.6137900\ttotal: 770ms\tremaining: 1.35s\n",
      "29:\tlearn: 2270.9061737\ttotal: 797ms\tremaining: 1.33s\n",
      "30:\tlearn: 2266.6057922\ttotal: 821ms\tremaining: 1.3s\n",
      "31:\tlearn: 2264.2485254\ttotal: 848ms\tremaining: 1.27s\n",
      "32:\tlearn: 2260.1214879\ttotal: 873ms\tremaining: 1.24s\n",
      "33:\tlearn: 2252.7488274\ttotal: 897ms\tremaining: 1.21s\n",
      "34:\tlearn: 2248.4652784\ttotal: 922ms\tremaining: 1.19s\n",
      "35:\tlearn: 2241.1390895\ttotal: 948ms\tremaining: 1.16s\n",
      "36:\tlearn: 2238.5585052\ttotal: 973ms\tremaining: 1.13s\n",
      "37:\tlearn: 2236.4101204\ttotal: 999ms\tremaining: 1.1s\n",
      "38:\tlearn: 2234.6716524\ttotal: 1.02s\tremaining: 1.07s\n",
      "39:\tlearn: 2233.8719836\ttotal: 1.05s\tremaining: 1.05s\n",
      "40:\tlearn: 2231.2123966\ttotal: 1.07s\tremaining: 1.02s\n",
      "41:\tlearn: 2228.7904088\ttotal: 1.1s\tremaining: 993ms\n",
      "42:\tlearn: 2226.3693814\ttotal: 1.12s\tremaining: 965ms\n",
      "43:\tlearn: 2223.2877660\ttotal: 1.15s\tremaining: 938ms\n",
      "44:\tlearn: 2222.1387874\ttotal: 1.17s\tremaining: 910ms\n",
      "45:\tlearn: 2219.4888858\ttotal: 1.2s\tremaining: 883ms\n",
      "46:\tlearn: 2218.3024172\ttotal: 1.22s\tremaining: 857ms\n",
      "47:\tlearn: 2213.8000182\ttotal: 1.25s\tremaining: 831ms\n",
      "48:\tlearn: 2210.4001393\ttotal: 1.27s\tremaining: 803ms\n",
      "49:\tlearn: 2206.4900253\ttotal: 1.29s\tremaining: 776ms\n",
      "50:\tlearn: 2203.3282287\ttotal: 1.32s\tremaining: 749ms\n",
      "51:\tlearn: 2202.2841713\ttotal: 1.35s\tremaining: 725ms\n",
      "52:\tlearn: 2200.8276329\ttotal: 1.37s\tremaining: 699ms\n",
      "53:\tlearn: 2200.1473179\ttotal: 1.4s\tremaining: 672ms\n",
      "54:\tlearn: 2198.1750103\ttotal: 1.42s\tremaining: 645ms\n",
      "55:\tlearn: 2197.0668268\ttotal: 1.44s\tremaining: 619ms\n",
      "56:\tlearn: 2195.3301665\ttotal: 1.47s\tremaining: 594ms\n",
      "57:\tlearn: 2191.2008641\ttotal: 1.5s\tremaining: 568ms\n",
      "58:\tlearn: 2190.1118566\ttotal: 1.52s\tremaining: 542ms\n",
      "59:\tlearn: 2189.1135691\ttotal: 1.55s\tremaining: 516ms\n",
      "60:\tlearn: 2152.1118337\ttotal: 1.57s\tremaining: 490ms\n",
      "61:\tlearn: 2136.6970737\ttotal: 1.59s\tremaining: 463ms\n",
      "62:\tlearn: 2129.0371990\ttotal: 1.62s\tremaining: 437ms\n",
      "63:\tlearn: 2123.6578401\ttotal: 1.64s\tremaining: 411ms\n",
      "64:\tlearn: 2119.8177473\ttotal: 1.67s\tremaining: 385ms\n",
      "65:\tlearn: 2117.5074450\ttotal: 1.69s\tremaining: 359ms\n",
      "66:\tlearn: 2115.5939790\ttotal: 1.72s\tremaining: 334ms\n",
      "67:\tlearn: 2113.0899702\ttotal: 1.75s\tremaining: 308ms\n",
      "68:\tlearn: 2110.6807752\ttotal: 1.78s\tremaining: 283ms\n",
      "69:\tlearn: 2109.2977251\ttotal: 1.8s\tremaining: 257ms\n",
      "70:\tlearn: 2107.5274737\ttotal: 1.82s\tremaining: 231ms\n",
      "71:\tlearn: 2106.0147445\ttotal: 1.85s\tremaining: 205ms\n",
      "72:\tlearn: 2104.6958771\ttotal: 1.87s\tremaining: 180ms\n",
      "73:\tlearn: 2103.3598353\ttotal: 1.9s\tremaining: 154ms\n",
      "74:\tlearn: 2102.0671446\ttotal: 1.93s\tremaining: 128ms\n",
      "75:\tlearn: 2100.2779583\ttotal: 1.95s\tremaining: 103ms\n",
      "76:\tlearn: 2098.4554029\ttotal: 1.98s\tremaining: 77ms\n",
      "77:\tlearn: 2096.6380719\ttotal: 2s\tremaining: 51.4ms\n",
      "78:\tlearn: 2095.4521183\ttotal: 2.03s\tremaining: 25.7ms\n",
      "79:\tlearn: 2094.1833296\ttotal: 2.05s\tremaining: 0us\n",
      "[CV] END ......iterations=80, max_depth=2, model_size_reg=16; total time=   2.4s\n",
      "Learning rate set to 0.5\n",
      "0:\tlearn: 3661.8153751\ttotal: 32.7ms\tremaining: 2.58s\n",
      "1:\tlearn: 3308.6344411\ttotal: 66.7ms\tremaining: 2.6s\n",
      "2:\tlearn: 3026.6960829\ttotal: 91ms\tremaining: 2.33s\n",
      "3:\tlearn: 2855.9736378\ttotal: 125ms\tremaining: 2.38s\n",
      "4:\tlearn: 2764.9894583\ttotal: 150ms\tremaining: 2.25s\n",
      "5:\tlearn: 2675.8073012\ttotal: 181ms\tremaining: 2.24s\n",
      "6:\tlearn: 2633.7643952\ttotal: 218ms\tremaining: 2.28s\n",
      "7:\tlearn: 2600.3776142\ttotal: 246ms\tremaining: 2.21s\n",
      "8:\tlearn: 2531.9947169\ttotal: 271ms\tremaining: 2.14s\n",
      "9:\tlearn: 2481.2843072\ttotal: 296ms\tremaining: 2.07s\n",
      "10:\tlearn: 2460.5542829\ttotal: 322ms\tremaining: 2.02s\n",
      "11:\tlearn: 2446.3078044\ttotal: 348ms\tremaining: 1.97s\n",
      "12:\tlearn: 2423.4751099\ttotal: 374ms\tremaining: 1.93s\n",
      "13:\tlearn: 2406.4381212\ttotal: 398ms\tremaining: 1.88s\n",
      "14:\tlearn: 2394.9000438\ttotal: 423ms\tremaining: 1.83s\n",
      "15:\tlearn: 2386.3137917\ttotal: 450ms\tremaining: 1.8s\n",
      "16:\tlearn: 2377.8289624\ttotal: 475ms\tremaining: 1.76s\n",
      "17:\tlearn: 2365.8829824\ttotal: 504ms\tremaining: 1.74s\n",
      "18:\tlearn: 2347.8753786\ttotal: 530ms\tremaining: 1.7s\n",
      "19:\tlearn: 2340.0972605\ttotal: 555ms\tremaining: 1.66s\n",
      "20:\tlearn: 2333.0206704\ttotal: 580ms\tremaining: 1.63s\n",
      "21:\tlearn: 2325.8674697\ttotal: 605ms\tremaining: 1.59s\n",
      "22:\tlearn: 2314.9601891\ttotal: 629ms\tremaining: 1.56s\n",
      "23:\tlearn: 2309.1446315\ttotal: 653ms\tremaining: 1.52s\n",
      "24:\tlearn: 2304.2842368\ttotal: 679ms\tremaining: 1.49s\n",
      "25:\tlearn: 2297.4509965\ttotal: 703ms\tremaining: 1.46s\n",
      "26:\tlearn: 2290.7346602\ttotal: 729ms\tremaining: 1.43s\n",
      "27:\tlearn: 2286.3038796\ttotal: 753ms\tremaining: 1.4s\n",
      "28:\tlearn: 2282.5831095\ttotal: 778ms\tremaining: 1.37s\n",
      "29:\tlearn: 2279.0892402\ttotal: 803ms\tremaining: 1.34s\n",
      "30:\tlearn: 2274.3550995\ttotal: 827ms\tremaining: 1.31s\n",
      "31:\tlearn: 2271.8869980\ttotal: 854ms\tremaining: 1.28s\n",
      "32:\tlearn: 2267.4026023\ttotal: 880ms\tremaining: 1.25s\n",
      "33:\tlearn: 2254.0925954\ttotal: 906ms\tremaining: 1.23s\n",
      "34:\tlearn: 2252.1735113\ttotal: 930ms\tremaining: 1.2s\n",
      "35:\tlearn: 2250.2412606\ttotal: 954ms\tremaining: 1.17s\n",
      "36:\tlearn: 2248.0223434\ttotal: 978ms\tremaining: 1.14s\n",
      "37:\tlearn: 2246.5443014\ttotal: 1s\tremaining: 1.11s\n",
      "38:\tlearn: 2242.7176747\ttotal: 1.02s\tremaining: 1.08s\n",
      "39:\tlearn: 2240.0115250\ttotal: 1.05s\tremaining: 1.05s\n",
      "40:\tlearn: 2236.6192903\ttotal: 1.07s\tremaining: 1.02s\n",
      "41:\tlearn: 2231.9450678\ttotal: 1.1s\tremaining: 994ms\n",
      "42:\tlearn: 2228.6261632\ttotal: 1.13s\tremaining: 970ms\n",
      "43:\tlearn: 2226.9928609\ttotal: 1.15s\tremaining: 943ms\n",
      "44:\tlearn: 2224.7215663\ttotal: 1.18s\tremaining: 915ms\n",
      "45:\tlearn: 2221.9420811\ttotal: 1.2s\tremaining: 888ms\n",
      "46:\tlearn: 2218.0723158\ttotal: 1.23s\tremaining: 864ms\n",
      "47:\tlearn: 2215.2990189\ttotal: 1.26s\tremaining: 837ms\n",
      "48:\tlearn: 2213.2742274\ttotal: 1.28s\tremaining: 810ms\n",
      "49:\tlearn: 2208.9694794\ttotal: 1.31s\tremaining: 784ms\n",
      "50:\tlearn: 2207.4228418\ttotal: 1.33s\tremaining: 759ms\n",
      "51:\tlearn: 2206.3798104\ttotal: 1.36s\tremaining: 732ms\n",
      "52:\tlearn: 2204.9864734\ttotal: 1.38s\tremaining: 705ms\n",
      "53:\tlearn: 2202.2097870\ttotal: 1.41s\tremaining: 678ms\n",
      "54:\tlearn: 2200.3702104\ttotal: 1.43s\tremaining: 651ms\n",
      "55:\tlearn: 2198.2606213\ttotal: 1.46s\tremaining: 625ms\n",
      "56:\tlearn: 2196.7576656\ttotal: 1.48s\tremaining: 599ms\n",
      "57:\tlearn: 2195.8834218\ttotal: 1.51s\tremaining: 572ms\n",
      "58:\tlearn: 2191.8651480\ttotal: 1.53s\tremaining: 546ms\n",
      "59:\tlearn: 2190.2552292\ttotal: 1.56s\tremaining: 519ms\n",
      "60:\tlearn: 2149.9721855\ttotal: 1.58s\tremaining: 493ms\n",
      "61:\tlearn: 2135.2078183\ttotal: 1.61s\tremaining: 468ms\n",
      "62:\tlearn: 2127.3526881\ttotal: 1.63s\tremaining: 441ms\n",
      "63:\tlearn: 2122.0776850\ttotal: 1.66s\tremaining: 415ms\n",
      "64:\tlearn: 2118.3463037\ttotal: 1.68s\tremaining: 389ms\n",
      "65:\tlearn: 2116.3732474\ttotal: 1.71s\tremaining: 362ms\n",
      "66:\tlearn: 2114.0606605\ttotal: 1.74s\tremaining: 337ms\n",
      "67:\tlearn: 2113.2803831\ttotal: 1.76s\tremaining: 311ms\n",
      "68:\tlearn: 2112.0477247\ttotal: 1.78s\tremaining: 285ms\n",
      "69:\tlearn: 2109.3029913\ttotal: 1.81s\tremaining: 258ms\n",
      "70:\tlearn: 2107.7046727\ttotal: 1.83s\tremaining: 232ms\n",
      "71:\tlearn: 2106.5570699\ttotal: 1.86s\tremaining: 206ms\n",
      "72:\tlearn: 2104.8415177\ttotal: 1.88s\tremaining: 180ms\n",
      "73:\tlearn: 2102.7015328\ttotal: 1.91s\tremaining: 155ms\n",
      "74:\tlearn: 2101.6792212\ttotal: 1.94s\tremaining: 129ms\n",
      "75:\tlearn: 2100.3841186\ttotal: 1.96s\tremaining: 103ms\n",
      "76:\tlearn: 2099.2113348\ttotal: 1.98s\tremaining: 77.3ms\n",
      "77:\tlearn: 2097.8379581\ttotal: 2.01s\tremaining: 51.5ms\n",
      "78:\tlearn: 2095.7542216\ttotal: 2.03s\tremaining: 25.7ms\n",
      "79:\tlearn: 2095.0680897\ttotal: 2.06s\tremaining: 0us\n",
      "[CV] END ......iterations=80, max_depth=2, model_size_reg=16; total time=   2.4s\n",
      "Learning rate set to 0.5\n",
      "0:\tlearn: 3430.4688668\ttotal: 49.9ms\tremaining: 948ms\n",
      "1:\tlearn: 2925.6433145\ttotal: 94.1ms\tremaining: 847ms\n",
      "2:\tlearn: 2614.2672984\ttotal: 130ms\tremaining: 739ms\n",
      "3:\tlearn: 2469.5416566\ttotal: 177ms\tremaining: 709ms\n",
      "4:\tlearn: 2371.1717821\ttotal: 218ms\tremaining: 653ms\n",
      "5:\tlearn: 2305.9558476\ttotal: 255ms\tremaining: 595ms\n",
      "6:\tlearn: 2268.3516681\ttotal: 291ms\tremaining: 541ms\n",
      "7:\tlearn: 2237.4049692\ttotal: 331ms\tremaining: 496ms\n",
      "8:\tlearn: 2208.3176559\ttotal: 366ms\tremaining: 448ms\n",
      "9:\tlearn: 2188.6154943\ttotal: 403ms\tremaining: 403ms\n",
      "10:\tlearn: 2168.1719218\ttotal: 437ms\tremaining: 358ms\n",
      "11:\tlearn: 2153.0872038\ttotal: 476ms\tremaining: 317ms\n",
      "12:\tlearn: 2140.7776016\ttotal: 513ms\tremaining: 276ms\n",
      "13:\tlearn: 2130.7622143\ttotal: 549ms\tremaining: 235ms\n",
      "14:\tlearn: 2119.8319508\ttotal: 587ms\tremaining: 196ms\n",
      "15:\tlearn: 2109.6053778\ttotal: 624ms\tremaining: 156ms\n",
      "16:\tlearn: 2099.0716975\ttotal: 665ms\tremaining: 117ms\n",
      "17:\tlearn: 2093.3826414\ttotal: 704ms\tremaining: 78.2ms\n",
      "18:\tlearn: 2078.8915987\ttotal: 742ms\tremaining: 39ms\n",
      "19:\tlearn: 2071.2361571\ttotal: 780ms\tremaining: 0us\n",
      "[CV] END .......iterations=20, max_depth=4, model_size_reg=0; total time=   1.1s\n",
      "Learning rate set to 0.5\n",
      "0:\tlearn: 3429.9205386\ttotal: 54.1ms\tremaining: 1.03s\n",
      "1:\tlearn: 2926.7569796\ttotal: 96.8ms\tremaining: 872ms\n",
      "2:\tlearn: 2662.7384703\ttotal: 142ms\tremaining: 807ms\n",
      "3:\tlearn: 2512.9493064\ttotal: 186ms\tremaining: 746ms\n",
      "4:\tlearn: 2382.7981805\ttotal: 223ms\tremaining: 669ms\n",
      "5:\tlearn: 2316.2873871\ttotal: 262ms\tremaining: 610ms\n",
      "6:\tlearn: 2279.2815606\ttotal: 297ms\tremaining: 552ms\n",
      "7:\tlearn: 2247.7475789\ttotal: 335ms\tremaining: 503ms\n",
      "8:\tlearn: 2227.9123896\ttotal: 371ms\tremaining: 454ms\n",
      "9:\tlearn: 2208.2822888\ttotal: 416ms\tremaining: 416ms\n",
      "10:\tlearn: 2188.9264212\ttotal: 453ms\tremaining: 371ms\n",
      "11:\tlearn: 2168.9365621\ttotal: 491ms\tremaining: 327ms\n",
      "12:\tlearn: 2152.4257525\ttotal: 527ms\tremaining: 284ms\n",
      "13:\tlearn: 2135.9486011\ttotal: 564ms\tremaining: 242ms\n",
      "14:\tlearn: 2125.2240689\ttotal: 601ms\tremaining: 200ms\n",
      "15:\tlearn: 2113.2193104\ttotal: 636ms\tremaining: 159ms\n",
      "16:\tlearn: 2095.9739825\ttotal: 673ms\tremaining: 119ms\n",
      "17:\tlearn: 2089.3332908\ttotal: 710ms\tremaining: 78.9ms\n",
      "18:\tlearn: 2083.3765912\ttotal: 747ms\tremaining: 39.3ms\n",
      "19:\tlearn: 2078.4293001\ttotal: 784ms\tremaining: 0us\n",
      "[CV] END .......iterations=20, max_depth=4, model_size_reg=0; total time=   1.2s\n",
      "Learning rate set to 0.5\n",
      "0:\tlearn: 3428.8836980\ttotal: 54.6ms\tremaining: 1.04s\n",
      "1:\tlearn: 2929.7754312\ttotal: 102ms\tremaining: 922ms\n",
      "2:\tlearn: 2613.8613745\ttotal: 157ms\tremaining: 889ms\n",
      "3:\tlearn: 2464.4159797\ttotal: 210ms\tremaining: 840ms\n",
      "4:\tlearn: 2361.8319102\ttotal: 263ms\tremaining: 789ms\n",
      "5:\tlearn: 2305.9638884\ttotal: 300ms\tremaining: 700ms\n",
      "6:\tlearn: 2258.0239028\ttotal: 338ms\tremaining: 627ms\n",
      "7:\tlearn: 2228.5193152\ttotal: 381ms\tremaining: 571ms\n",
      "8:\tlearn: 2206.5589719\ttotal: 416ms\tremaining: 509ms\n",
      "9:\tlearn: 2187.5841853\ttotal: 464ms\tremaining: 464ms\n",
      "10:\tlearn: 2166.6276036\ttotal: 500ms\tremaining: 409ms\n",
      "11:\tlearn: 2151.9789125\ttotal: 535ms\tremaining: 357ms\n",
      "12:\tlearn: 2136.5435619\ttotal: 572ms\tremaining: 308ms\n",
      "13:\tlearn: 2115.8073977\ttotal: 608ms\tremaining: 261ms\n",
      "14:\tlearn: 2108.1196239\ttotal: 645ms\tremaining: 215ms\n",
      "15:\tlearn: 2093.8668923\ttotal: 687ms\tremaining: 172ms\n",
      "16:\tlearn: 2084.7675155\ttotal: 736ms\tremaining: 130ms\n",
      "17:\tlearn: 2073.5047327\ttotal: 771ms\tremaining: 85.7ms\n",
      "18:\tlearn: 2066.6553133\ttotal: 810ms\tremaining: 42.6ms\n",
      "19:\tlearn: 2060.4350855\ttotal: 844ms\tremaining: 0us\n",
      "[CV] END .......iterations=20, max_depth=4, model_size_reg=0; total time=   1.2s\n",
      "Learning rate set to 0.5\n",
      "0:\tlearn: 3423.9823031\ttotal: 49.9ms\tremaining: 949ms\n",
      "1:\tlearn: 2917.4580308\ttotal: 94.6ms\tremaining: 851ms\n",
      "2:\tlearn: 2607.6215811\ttotal: 130ms\tremaining: 739ms\n",
      "3:\tlearn: 2462.3177625\ttotal: 175ms\tremaining: 699ms\n",
      "4:\tlearn: 2360.8110834\ttotal: 215ms\tremaining: 645ms\n",
      "5:\tlearn: 2295.2847793\ttotal: 253ms\tremaining: 590ms\n",
      "6:\tlearn: 2257.8160483\ttotal: 288ms\tremaining: 536ms\n",
      "7:\tlearn: 2227.9314122\ttotal: 326ms\tremaining: 489ms\n",
      "8:\tlearn: 2203.4081886\ttotal: 362ms\tremaining: 442ms\n",
      "9:\tlearn: 2183.6670468\ttotal: 403ms\tremaining: 403ms\n",
      "10:\tlearn: 2160.9846642\ttotal: 440ms\tremaining: 360ms\n",
      "11:\tlearn: 2145.5322736\ttotal: 477ms\tremaining: 318ms\n",
      "12:\tlearn: 2134.0509945\ttotal: 513ms\tremaining: 276ms\n",
      "13:\tlearn: 2116.3210792\ttotal: 547ms\tremaining: 234ms\n",
      "14:\tlearn: 2104.3907849\ttotal: 582ms\tremaining: 194ms\n",
      "15:\tlearn: 2096.0052259\ttotal: 619ms\tremaining: 155ms\n",
      "16:\tlearn: 2087.4576189\ttotal: 654ms\tremaining: 115ms\n",
      "17:\tlearn: 2078.4141359\ttotal: 692ms\tremaining: 76.8ms\n",
      "18:\tlearn: 2070.6739157\ttotal: 728ms\tremaining: 38.3ms\n",
      "19:\tlearn: 2061.1607508\ttotal: 765ms\tremaining: 0us\n",
      "[CV] END .......iterations=20, max_depth=4, model_size_reg=0; total time=   1.1s\n",
      "Learning rate set to 0.5\n",
      "0:\tlearn: 3425.7621738\ttotal: 47.7ms\tremaining: 907ms\n",
      "1:\tlearn: 2919.7926562\ttotal: 87.7ms\tremaining: 789ms\n",
      "2:\tlearn: 2658.3887224\ttotal: 134ms\tremaining: 757ms\n",
      "3:\tlearn: 2503.5941618\ttotal: 177ms\tremaining: 709ms\n",
      "4:\tlearn: 2395.1295904\ttotal: 214ms\tremaining: 642ms\n",
      "5:\tlearn: 2321.8209976\ttotal: 254ms\tremaining: 593ms\n",
      "6:\tlearn: 2286.1633068\ttotal: 290ms\tremaining: 538ms\n",
      "7:\tlearn: 2240.5537205\ttotal: 325ms\tremaining: 487ms\n",
      "8:\tlearn: 2213.7688718\ttotal: 361ms\tremaining: 441ms\n",
      "9:\tlearn: 2182.9095793\ttotal: 397ms\tremaining: 397ms\n",
      "10:\tlearn: 2165.8499812\ttotal: 436ms\tremaining: 357ms\n",
      "11:\tlearn: 2155.0862502\ttotal: 473ms\tremaining: 315ms\n",
      "12:\tlearn: 2136.2701846\ttotal: 512ms\tremaining: 276ms\n",
      "13:\tlearn: 2122.9244221\ttotal: 548ms\tremaining: 235ms\n",
      "14:\tlearn: 2112.5615620\ttotal: 585ms\tremaining: 195ms\n",
      "15:\tlearn: 2102.7333694\ttotal: 626ms\tremaining: 156ms\n",
      "16:\tlearn: 2089.7895755\ttotal: 662ms\tremaining: 117ms\n",
      "17:\tlearn: 2082.4623190\ttotal: 700ms\tremaining: 77.8ms\n",
      "18:\tlearn: 2074.5965012\ttotal: 738ms\tremaining: 38.9ms\n",
      "19:\tlearn: 2066.7199182\ttotal: 774ms\tremaining: 0us\n",
      "[CV] END .......iterations=20, max_depth=4, model_size_reg=0; total time=   1.1s\n",
      "[CV] END .......iterations=0, max_depth=10, model_size_reg=6; total time=   0.1s\n",
      "[CV] END .......iterations=0, max_depth=10, model_size_reg=6; total time=   0.1s\n",
      "[CV] END .......iterations=0, max_depth=10, model_size_reg=6; total time=   0.1s\n",
      "[CV] END .......iterations=0, max_depth=10, model_size_reg=6; total time=   0.2s\n",
      "[CV] END .......iterations=0, max_depth=10, model_size_reg=6; total time=   0.1s\n"
     ]
    },
    {
     "name": "stderr",
     "output_type": "stream",
     "text": [
      "/opt/conda/lib/python3.9/site-packages/sklearn/model_selection/_search.py:918: UserWarning: One or more of the test scores are non-finite: [-1851.94338052 -4517.29389233 -4517.29389233 -1800.36784466\n",
      " -1957.38658621 -1795.47961713 -2093.61670221 -2101.19550056\n",
      " -2065.29862433            nan]\n",
      "  warnings.warn(\n",
      "/opt/conda/lib/python3.9/site-packages/sklearn/model_selection/_search.py:918: UserWarning: One or more of the train scores are non-finite: [-1750.45871265 -4517.30202199 -4517.30202199 -1505.23316679\n",
      " -1936.41218089 -1424.76006769 -2088.45083315 -2093.73550158\n",
      " -2059.27155132            nan]\n",
      "  warnings.warn(\n"
     ]
    },
    {
     "name": "stdout",
     "output_type": "stream",
     "text": [
      "Learning rate set to 0.5\n",
      "0:\tlearn: 3062.8895982\ttotal: 200ms\tremaining: 19.8s\n",
      "1:\tlearn: 2406.7648256\ttotal: 348ms\tremaining: 17s\n",
      "2:\tlearn: 2136.5612541\ttotal: 495ms\tremaining: 16s\n",
      "3:\tlearn: 2023.0282324\ttotal: 628ms\tremaining: 15.1s\n",
      "4:\tlearn: 1949.2096127\ttotal: 769ms\tremaining: 14.6s\n",
      "5:\tlearn: 1917.9514290\ttotal: 904ms\tremaining: 14.2s\n",
      "6:\tlearn: 1895.0460004\ttotal: 1.05s\tremaining: 14s\n",
      "7:\tlearn: 1875.7416712\ttotal: 1.19s\tremaining: 13.7s\n",
      "8:\tlearn: 1858.8376009\ttotal: 1.34s\tremaining: 13.6s\n",
      "9:\tlearn: 1843.9266491\ttotal: 1.49s\tremaining: 13.4s\n",
      "10:\tlearn: 1826.9547575\ttotal: 1.64s\tremaining: 13.3s\n",
      "11:\tlearn: 1817.2226174\ttotal: 1.79s\tremaining: 13.1s\n",
      "12:\tlearn: 1803.6546117\ttotal: 1.93s\tremaining: 12.9s\n",
      "13:\tlearn: 1790.8051615\ttotal: 2.06s\tremaining: 12.7s\n",
      "14:\tlearn: 1782.8367832\ttotal: 2.21s\tremaining: 12.5s\n",
      "15:\tlearn: 1771.4625554\ttotal: 2.36s\tremaining: 12.4s\n",
      "16:\tlearn: 1761.1769329\ttotal: 2.5s\tremaining: 12.2s\n",
      "17:\tlearn: 1735.1310014\ttotal: 2.65s\tremaining: 12.1s\n",
      "18:\tlearn: 1722.6311706\ttotal: 2.79s\tremaining: 11.9s\n",
      "19:\tlearn: 1716.2568852\ttotal: 2.94s\tremaining: 11.7s\n",
      "20:\tlearn: 1705.5238236\ttotal: 3.08s\tremaining: 11.6s\n",
      "21:\tlearn: 1700.9983017\ttotal: 3.23s\tremaining: 11.5s\n",
      "22:\tlearn: 1690.8825745\ttotal: 3.38s\tremaining: 11.3s\n",
      "23:\tlearn: 1679.5137390\ttotal: 3.52s\tremaining: 11.2s\n",
      "24:\tlearn: 1668.9132259\ttotal: 3.67s\tremaining: 11s\n",
      "25:\tlearn: 1662.5219954\ttotal: 3.83s\tremaining: 10.9s\n",
      "26:\tlearn: 1655.0047518\ttotal: 3.97s\tremaining: 10.7s\n",
      "27:\tlearn: 1647.3056449\ttotal: 4.11s\tremaining: 10.6s\n",
      "28:\tlearn: 1643.7651057\ttotal: 4.26s\tremaining: 10.4s\n",
      "29:\tlearn: 1634.8814719\ttotal: 4.41s\tremaining: 10.3s\n",
      "30:\tlearn: 1622.9421425\ttotal: 4.57s\tremaining: 10.2s\n",
      "31:\tlearn: 1618.3756194\ttotal: 4.72s\tremaining: 10s\n",
      "32:\tlearn: 1610.7959704\ttotal: 4.86s\tremaining: 9.86s\n",
      "33:\tlearn: 1605.5269089\ttotal: 5s\tremaining: 9.7s\n",
      "34:\tlearn: 1600.8125398\ttotal: 5.14s\tremaining: 9.55s\n",
      "35:\tlearn: 1598.8942514\ttotal: 5.28s\tremaining: 9.39s\n",
      "36:\tlearn: 1591.7986205\ttotal: 5.45s\tremaining: 9.28s\n",
      "37:\tlearn: 1583.5283632\ttotal: 5.6s\tremaining: 9.14s\n",
      "38:\tlearn: 1575.4739096\ttotal: 5.76s\tremaining: 9.01s\n",
      "39:\tlearn: 1573.3882237\ttotal: 5.9s\tremaining: 8.86s\n",
      "40:\tlearn: 1570.3548194\ttotal: 6.06s\tremaining: 8.72s\n",
      "41:\tlearn: 1562.4897696\ttotal: 6.21s\tremaining: 8.57s\n",
      "42:\tlearn: 1556.3500067\ttotal: 6.38s\tremaining: 8.46s\n",
      "43:\tlearn: 1551.5633772\ttotal: 6.53s\tremaining: 8.31s\n",
      "44:\tlearn: 1550.4453191\ttotal: 6.67s\tremaining: 8.16s\n",
      "45:\tlearn: 1546.6451402\ttotal: 6.82s\tremaining: 8.01s\n",
      "46:\tlearn: 1546.2215320\ttotal: 6.96s\tremaining: 7.85s\n",
      "47:\tlearn: 1542.1759123\ttotal: 7.11s\tremaining: 7.7s\n",
      "48:\tlearn: 1537.5200265\ttotal: 7.25s\tremaining: 7.55s\n",
      "49:\tlearn: 1533.1019070\ttotal: 7.4s\tremaining: 7.4s\n",
      "50:\tlearn: 1530.6654454\ttotal: 7.54s\tremaining: 7.24s\n",
      "51:\tlearn: 1529.7599065\ttotal: 7.71s\tremaining: 7.11s\n",
      "52:\tlearn: 1528.6551915\ttotal: 7.85s\tremaining: 6.96s\n",
      "53:\tlearn: 1526.1743395\ttotal: 7.99s\tremaining: 6.8s\n",
      "54:\tlearn: 1523.4808116\ttotal: 8.12s\tremaining: 6.64s\n",
      "55:\tlearn: 1518.2472233\ttotal: 8.26s\tremaining: 6.49s\n",
      "56:\tlearn: 1513.0714734\ttotal: 8.4s\tremaining: 6.34s\n",
      "57:\tlearn: 1509.3399773\ttotal: 8.55s\tremaining: 6.19s\n",
      "58:\tlearn: 1504.5859687\ttotal: 8.7s\tremaining: 6.04s\n",
      "59:\tlearn: 1501.5271097\ttotal: 8.84s\tremaining: 5.89s\n",
      "60:\tlearn: 1501.4522601\ttotal: 8.97s\tremaining: 5.74s\n",
      "61:\tlearn: 1497.4100435\ttotal: 9.11s\tremaining: 5.58s\n",
      "62:\tlearn: 1494.7442696\ttotal: 9.25s\tremaining: 5.43s\n",
      "63:\tlearn: 1494.6273565\ttotal: 9.38s\tremaining: 5.28s\n",
      "64:\tlearn: 1490.1900848\ttotal: 9.52s\tremaining: 5.13s\n",
      "65:\tlearn: 1489.3616236\ttotal: 9.71s\tremaining: 5s\n",
      "66:\tlearn: 1486.4687412\ttotal: 9.86s\tremaining: 4.85s\n",
      "67:\tlearn: 1483.4754245\ttotal: 10s\tremaining: 4.71s\n",
      "68:\tlearn: 1481.0517919\ttotal: 10.1s\tremaining: 4.55s\n",
      "69:\tlearn: 1479.1064326\ttotal: 10.3s\tremaining: 4.41s\n",
      "70:\tlearn: 1477.1354607\ttotal: 10.4s\tremaining: 4.26s\n",
      "71:\tlearn: 1473.1976807\ttotal: 10.6s\tremaining: 4.11s\n",
      "72:\tlearn: 1469.6496345\ttotal: 10.7s\tremaining: 3.96s\n",
      "73:\tlearn: 1469.5738894\ttotal: 10.8s\tremaining: 3.81s\n",
      "74:\tlearn: 1468.2274905\ttotal: 11s\tremaining: 3.66s\n",
      "75:\tlearn: 1466.9224987\ttotal: 11.1s\tremaining: 3.51s\n",
      "76:\tlearn: 1465.2006698\ttotal: 11.3s\tremaining: 3.37s\n",
      "77:\tlearn: 1463.0567097\ttotal: 11.4s\tremaining: 3.22s\n",
      "78:\tlearn: 1459.7336081\ttotal: 11.6s\tremaining: 3.08s\n",
      "79:\tlearn: 1457.2658319\ttotal: 11.7s\tremaining: 2.93s\n",
      "80:\tlearn: 1454.5142442\ttotal: 11.9s\tremaining: 2.78s\n",
      "81:\tlearn: 1454.3985249\ttotal: 12s\tremaining: 2.64s\n",
      "82:\tlearn: 1452.8162781\ttotal: 12.2s\tremaining: 2.49s\n",
      "83:\tlearn: 1451.6036708\ttotal: 12.3s\tremaining: 2.34s\n",
      "84:\tlearn: 1449.6085127\ttotal: 12.4s\tremaining: 2.2s\n",
      "85:\tlearn: 1448.0821022\ttotal: 12.6s\tremaining: 2.05s\n",
      "86:\tlearn: 1446.1144308\ttotal: 12.7s\tremaining: 1.9s\n",
      "87:\tlearn: 1445.7918689\ttotal: 12.9s\tremaining: 1.75s\n",
      "88:\tlearn: 1444.8340318\ttotal: 13s\tremaining: 1.61s\n",
      "89:\tlearn: 1441.6084854\ttotal: 13.2s\tremaining: 1.46s\n",
      "90:\tlearn: 1440.5342323\ttotal: 13.3s\tremaining: 1.31s\n",
      "91:\tlearn: 1436.5420458\ttotal: 13.4s\tremaining: 1.17s\n",
      "92:\tlearn: 1434.8466485\ttotal: 13.6s\tremaining: 1.02s\n",
      "93:\tlearn: 1431.6679315\ttotal: 13.7s\tremaining: 877ms\n",
      "94:\tlearn: 1427.9576428\ttotal: 13.9s\tremaining: 731ms\n",
      "95:\tlearn: 1425.8771379\ttotal: 14s\tremaining: 584ms\n",
      "96:\tlearn: 1425.3901607\ttotal: 14.2s\tremaining: 438ms\n",
      "97:\tlearn: 1422.4892293\ttotal: 14.3s\tremaining: 292ms\n",
      "98:\tlearn: 1420.3385678\ttotal: 14.5s\tremaining: 146ms\n",
      "99:\tlearn: 1418.9631787\ttotal: 14.6s\tremaining: 0us\n"
     ]
    },
    {
     "data": {
      "text/plain": [
       "{'model_size_reg': 0, 'max_depth': 12, 'iterations': 100}"
      ]
     },
     "execution_count": 81,
     "metadata": {},
     "output_type": "execute_result"
    }
   ],
   "source": [
    "\n",
    "cat_features_cat = ['vehicletype', 'gearbox', 'model', 'fueltype', \n",
    "    'brand', 'notrepaired']\n",
    "\n",
    "cat_model = CatBoostRegressor(random_seed=12345, cat_features = cat_features_cat)\n",
    "parameters_cat = {'iterations' : list(np.arange(0,101,20)), \n",
    "                'model_size_reg' : list(np.arange(0,20,2)),\n",
    "                'max_depth' : list(np.arange(0,16,2))}\n",
    "\n",
    "random_cat = RandomizedSearchCV(estimator = cat_model, \n",
    "                       param_distributions = parameters_cat,\n",
    "                       cv = 5, \n",
    "                       scoring= rmse_scorer,\n",
    "                       verbose = 2, \n",
    "                       return_train_score=True)\n",
    "random_cat.fit(x_train_cat, y_train_cat)\n",
    "random_cat.best_params_"
   ]
  },
  {
   "cell_type": "code",
   "execution_count": 82,
   "metadata": {},
   "outputs": [
    {
     "data": {
      "text/plain": [
       "{'model_size_reg': 0, 'max_depth': 12, 'iterations': 100}"
      ]
     },
     "execution_count": 82,
     "metadata": {},
     "output_type": "execute_result"
    }
   ],
   "source": [
    "random_cat.best_params_"
   ]
  },
  {
   "cell_type": "code",
   "execution_count": 83,
   "metadata": {},
   "outputs": [],
   "source": [
    "cat_features_cat = [ 'vehicletype', 'gearbox', 'model', 'fueltype', \n",
    "    'brand', 'notrepaired']\n",
    "\n",
    "cat_model_best = CatBoostRegressor(loss_function = 'RMSE',\n",
    "                                   random_seed = 12345,\n",
    "                                   iterations = random_cat.best_params_['iterations'],\n",
    "                                   model_size_reg = random_cat.best_params_['model_size_reg'], \n",
    "                                   max_depth = random_cat.best_params_['max_depth'])\n",
    "\n"
   ]
  },
  {
   "cell_type": "code",
   "execution_count": 84,
   "metadata": {},
   "outputs": [
    {
     "name": "stdout",
     "output_type": "stream",
     "text": [
      "Learning rate set to 0.5\n",
      "0:\tlearn: 3062.8895982\ttotal: 198ms\tremaining: 19.6s\n",
      "10:\tlearn: 1826.9547575\ttotal: 1.65s\tremaining: 13.4s\n",
      "20:\tlearn: 1705.5238236\ttotal: 3.14s\tremaining: 11.8s\n",
      "30:\tlearn: 1622.9421425\ttotal: 4.61s\tremaining: 10.3s\n",
      "40:\tlearn: 1570.3548194\ttotal: 6.08s\tremaining: 8.76s\n",
      "50:\tlearn: 1530.6654454\ttotal: 7.54s\tremaining: 7.24s\n",
      "60:\tlearn: 1501.4522601\ttotal: 8.99s\tremaining: 5.75s\n",
      "70:\tlearn: 1477.1354607\ttotal: 10.4s\tremaining: 4.26s\n",
      "80:\tlearn: 1454.5142442\ttotal: 11.9s\tremaining: 2.79s\n",
      "90:\tlearn: 1440.5342323\ttotal: 13.4s\tremaining: 1.32s\n",
      "99:\tlearn: 1418.9631787\ttotal: 14.7s\tremaining: 0us\n",
      "CPU times: user 14.9 s, sys: 28 ms, total: 14.9 s\n",
      "Wall time: 15.1 s\n"
     ]
    },
    {
     "data": {
      "text/plain": [
       "<catboost.core.CatBoostRegressor at 0x7f4374e31760>"
      ]
     },
     "execution_count": 84,
     "metadata": {},
     "output_type": "execute_result"
    }
   ],
   "source": [
    "%%time\n",
    "cat_model_best.fit(x_train_cat, y_train_cat, cat_features = cat_features_cat, verbose =10)\n"
   ]
  },
  {
   "cell_type": "code",
   "execution_count": 85,
   "metadata": {},
   "outputs": [
    {
     "name": "stdout",
     "output_type": "stream",
     "text": [
      "CPU times: user 85.4 ms, sys: 3.98 ms, total: 89.4 ms\n",
      "Wall time: 88.6 ms\n"
     ]
    }
   ],
   "source": [
    "%%time\n",
    "y_predict_cat_valid = cat_model_best.predict(x_valid_cat)\n"
   ]
  },
  {
   "cell_type": "code",
   "execution_count": 86,
   "metadata": {},
   "outputs": [
    {
     "name": "stdout",
     "output_type": "stream",
     "text": [
      "RMSE 1787.2128233741967\n"
     ]
    }
   ],
   "source": [
    "RMSE_cat_ns = mean_squared_error(y_valid_cat, y_predict_cat_valid)**0.5\n",
    "print('RMSE' , RMSE_cat_ns)"
   ]
  },
  {
   "cell_type": "markdown",
   "metadata": {},
   "source": [
    "### Linear Regression Model"
   ]
  },
  {
   "cell_type": "code",
   "execution_count": 90,
   "metadata": {},
   "outputs": [
    {
     "name": "stdout",
     "output_type": "stream",
     "text": [
      "features_train dimensions (212535, 312)\n",
      "\n",
      "features_test dimensions (70845, 312)\n",
      "\n",
      "features_valid dimensions (70845, 312)\n",
      "\n",
      "target_train dimensions (212535,)\n",
      "\n",
      "target_test dimensions (70845,)\n",
      "\n",
      "target_valid dimensions (70845,)\n"
     ]
    }
   ],
   "source": [
    "\n",
    "x_lr = data_ohe\n",
    "y_lr = data['price']\n",
    "\n",
    "x_train_lr, x_remaining_lr, y_train_lr, y_remaining_lr =  train_test_split(\n",
    "    x_lr, y_lr , test_size=0.4, random_state = 12345)\n",
    "\n",
    "x_valid_lr, x_test_lr, y_valid_lr, y_test_lr =  train_test_split(\n",
    "    x_remaining_lr, y_remaining_lr , test_size=0.5, random_state = 12345)\n",
    "\n",
    "print('features_train dimensions', x_train_lr.shape)\n",
    "print()\n",
    "print('features_test dimensions', x_test_lr.shape)\n",
    "print()\n",
    "print('features_valid dimensions', x_valid_lr.shape)\n",
    "print()\n",
    "print('target_train dimensions', y_train_lr.shape)\n",
    "print()\n",
    "print('target_test dimensions', y_test_lr.shape)\n",
    "print()\n",
    "print('target_valid dimensions', y_valid_lr.shape)"
   ]
  },
  {
   "cell_type": "code",
   "execution_count": 91,
   "metadata": {
    "scrolled": true
   },
   "outputs": [],
   "source": [
    "model_lr = LinearRegression()\n"
   ]
  },
  {
   "cell_type": "code",
   "execution_count": null,
   "metadata": {},
   "outputs": [],
   "source": [
    "%%time\n",
    "model_lr.fit(x_train_lr, y_train_lr)"
   ]
  },
  {
   "cell_type": "code",
   "execution_count": null,
   "metadata": {},
   "outputs": [],
   "source": [
    "%%time\n",
    "y_predict_lr_remaining = model_lr.predict(x_valid_lr)\n"
   ]
  },
  {
   "cell_type": "code",
   "execution_count": null,
   "metadata": {},
   "outputs": [],
   "source": [
    "RMSE_lr =  mean_squared_error(y_valid_lr, y_predict_lr_remaining)**0.5\n",
    "print('RMSE for model', RMSE_lr)"
   ]
  },
  {
   "cell_type": "markdown",
   "metadata": {},
   "source": [
    "### Conclusion From Model Training "
   ]
  },
  {
   "cell_type": "markdown",
   "metadata": {},
   "source": [
    "The models perfomed better than a Lnear Regression Model. The models that performed the best in terms of RMSE score were RandomForestRegressor models that had with non-scaled and scaled data, with RMSE scores of 1731.98  and 1755.95 USD, respectively. The models that performed the fastest for predicting new data was DecisionTreeRegressor models that had non-scaled and scaled data, with predicting time of 2e-6 s and 0.02 s, respectively. The model we selected for model analysis was RandomForestRegressor with non-scaled data. "
   ]
  },
  {
   "cell_type": "markdown",
   "metadata": {},
   "source": [
    "|Model Name                              | RMSE score      | total time training | Total time Predicting | \n",
    "|----------------------------------------|-----------------|----------------------| ---------------------|\n",
    "|RandomForestRegressor, non-scaled data  |    1731.98 USD   |  7.22 s              |   0.55 s | \n",
    "|RandomForestRegressor, scaled data      |    1755.95 USD   |   7.86 s            | 0.64 s | \n",
    "|DecisionTreeRegressor, non-scaled data  |   2120.63 USD    |   0.21 s             | 2e-6 s | \n",
    "|DecisionTreeRegressor, scaled data      |    2023.83 USD   |    0.56 s            | 0.02 s | \n",
    "|CatBoostRegressor, non-scaled data      |    1835.71 USD   |     30.10 s          | 0.12 s | \n",
    "|LinearRegression, ohe data              |   3057.79 USD    |      16.9 s           |  0.28 s |"
   ]
  },
  {
   "cell_type": "markdown",
   "metadata": {},
   "source": [
    "## Model analysis\n",
    "In this section, we analyzed the RMSE and time of predicting of our selected model, RandomForestRegressor with non-scaled data,  with the testing data. "
   ]
  },
  {
   "cell_type": "code",
   "execution_count": 87,
   "metadata": {},
   "outputs": [
    {
     "name": "stdout",
     "output_type": "stream",
     "text": [
      "CPU times: user 564 ms, sys: 7.87 ms, total: 572 ms\n",
      "Wall time: 736 ms\n"
     ]
    }
   ],
   "source": [
    "%%time\n",
    "y_predict_rf_test = rf_model_best_params.predict(x_test_rf)\n"
   ]
  },
  {
   "cell_type": "code",
   "execution_count": 88,
   "metadata": {},
   "outputs": [
    {
     "name": "stdout",
     "output_type": "stream",
     "text": [
      "RMSE for model :  1751.3583174997361\n"
     ]
    }
   ],
   "source": [
    "RMSE_rf_ns_test = mean_squared_error(y_test_rf, y_predict_rf_test)**0.5\n",
    "print ('RMSE for model : ', RMSE_rf_ns_test)"
   ]
  },
  {
   "cell_type": "markdown",
   "metadata": {},
   "source": [
    "## Conclusion \n",
    "Below is the description of how our RandomForestRegressor, Non-Scaled data model performed with the test set. "
   ]
  },
  {
   "cell_type": "markdown",
   "metadata": {},
   "source": [
    "|Model Name                              | RMSE score      | total time predictig |\n",
    "|----------------------------------------|-----------------|----------------------|\n",
    "|RandomForestRegressor, non-scaled data  |   1758.58  USD   |  0.51 s              |   \n"
   ]
  }
 ],
 "metadata": {
  "ExecuteTimeLog": [
   {
    "duration": 413,
    "start_time": "2022-07-28T14:34:01.787Z"
   },
   {
    "duration": 903,
    "start_time": "2022-07-28T14:34:04.338Z"
   },
   {
    "duration": 621,
    "start_time": "2022-07-28T14:34:13.718Z"
   },
   {
    "duration": 5,
    "start_time": "2022-07-28T14:35:48.266Z"
   },
   {
    "duration": 64,
    "start_time": "2022-07-28T14:36:01.776Z"
   },
   {
    "duration": 7,
    "start_time": "2022-07-28T14:36:09.024Z"
   },
   {
    "duration": 8,
    "start_time": "2022-07-28T14:36:24.452Z"
   },
   {
    "duration": 5,
    "start_time": "2022-07-28T14:36:59.177Z"
   },
   {
    "duration": 4,
    "start_time": "2022-07-28T14:37:10.427Z"
   },
   {
    "duration": 4,
    "start_time": "2022-07-28T14:37:20.337Z"
   },
   {
    "duration": 57,
    "start_time": "2022-07-28T14:41:42.939Z"
   },
   {
    "duration": 99,
    "start_time": "2022-07-28T14:42:08.599Z"
   },
   {
    "duration": 703,
    "start_time": "2022-07-28T14:46:29.321Z"
   },
   {
    "duration": 50,
    "start_time": "2022-07-28T14:46:37.883Z"
   },
   {
    "duration": 8,
    "start_time": "2022-07-28T14:47:11.237Z"
   },
   {
    "duration": 23,
    "start_time": "2022-07-28T14:47:32.379Z"
   },
   {
    "duration": 14,
    "start_time": "2022-07-28T14:47:37.053Z"
   },
   {
    "duration": 14,
    "start_time": "2022-07-28T14:47:41.481Z"
   },
   {
    "duration": 11,
    "start_time": "2022-07-28T14:48:45.038Z"
   },
   {
    "duration": 474,
    "start_time": "2022-07-28T14:50:18.049Z"
   },
   {
    "duration": 24,
    "start_time": "2022-07-28T14:50:51.704Z"
   },
   {
    "duration": 2,
    "start_time": "2022-07-28T14:51:16.631Z"
   },
   {
    "duration": 134,
    "start_time": "2022-07-28T14:51:20.373Z"
   },
   {
    "duration": 19,
    "start_time": "2022-07-28T14:52:00.448Z"
   },
   {
    "duration": 169,
    "start_time": "2022-07-28T14:53:42.356Z"
   },
   {
    "duration": 44,
    "start_time": "2022-07-28T15:17:10.610Z"
   },
   {
    "duration": 27,
    "start_time": "2022-07-28T15:17:41.845Z"
   },
   {
    "duration": 27,
    "start_time": "2022-07-28T15:17:48.885Z"
   },
   {
    "duration": 27,
    "start_time": "2022-07-28T15:17:56.102Z"
   },
   {
    "duration": 70,
    "start_time": "2022-07-28T15:18:14.261Z"
   },
   {
    "duration": 19,
    "start_time": "2022-07-28T15:18:40.789Z"
   },
   {
    "duration": 101,
    "start_time": "2022-07-28T15:19:03.267Z"
   },
   {
    "duration": 97,
    "start_time": "2022-07-28T15:19:22.705Z"
   },
   {
    "duration": 114,
    "start_time": "2022-07-28T15:19:48.553Z"
   },
   {
    "duration": 113,
    "start_time": "2022-07-28T15:19:56.409Z"
   },
   {
    "duration": 5,
    "start_time": "2022-07-28T15:21:02.466Z"
   },
   {
    "duration": 7,
    "start_time": "2022-07-28T15:21:10.519Z"
   },
   {
    "duration": 9,
    "start_time": "2022-07-28T15:21:22.542Z"
   },
   {
    "duration": 10,
    "start_time": "2022-07-28T15:21:26.194Z"
   },
   {
    "duration": 10,
    "start_time": "2022-07-28T15:21:30.302Z"
   },
   {
    "duration": 10,
    "start_time": "2022-07-28T15:21:31.264Z"
   },
   {
    "duration": 7,
    "start_time": "2022-07-28T15:21:37.010Z"
   },
   {
    "duration": 6,
    "start_time": "2022-07-28T15:25:10.957Z"
   },
   {
    "duration": 16,
    "start_time": "2022-07-28T15:25:25.861Z"
   },
   {
    "duration": 11,
    "start_time": "2022-07-28T15:30:53.087Z"
   },
   {
    "duration": 9,
    "start_time": "2022-07-28T15:31:05.480Z"
   },
   {
    "duration": 8,
    "start_time": "2022-07-28T15:31:24.118Z"
   },
   {
    "duration": 8,
    "start_time": "2022-07-28T15:31:47.084Z"
   },
   {
    "duration": 8,
    "start_time": "2022-07-28T15:31:52.684Z"
   },
   {
    "duration": 8,
    "start_time": "2022-07-28T15:32:00.249Z"
   },
   {
    "duration": 61,
    "start_time": "2022-07-28T15:34:15.236Z"
   },
   {
    "duration": 5,
    "start_time": "2022-07-28T15:34:32.722Z"
   },
   {
    "duration": 96,
    "start_time": "2022-07-28T15:34:41.306Z"
   },
   {
    "duration": 115,
    "start_time": "2022-07-28T15:35:03.355Z"
   },
   {
    "duration": 122,
    "start_time": "2022-07-28T15:35:12.181Z"
   },
   {
    "duration": 6,
    "start_time": "2022-07-28T15:35:22.059Z"
   },
   {
    "duration": 7,
    "start_time": "2022-07-28T15:35:58.058Z"
   },
   {
    "duration": 20,
    "start_time": "2022-07-28T15:36:48.093Z"
   },
   {
    "duration": 18,
    "start_time": "2022-07-28T15:37:20.090Z"
   },
   {
    "duration": 123,
    "start_time": "2022-07-28T15:37:25.635Z"
   },
   {
    "duration": 38,
    "start_time": "2022-07-28T15:37:47.767Z"
   },
   {
    "duration": 30,
    "start_time": "2022-07-28T15:38:33.758Z"
   },
   {
    "duration": 7,
    "start_time": "2022-07-28T15:40:12.336Z"
   },
   {
    "duration": 16,
    "start_time": "2022-07-28T15:40:42.235Z"
   },
   {
    "duration": 137,
    "start_time": "2022-07-28T15:41:15.236Z"
   },
   {
    "duration": 155,
    "start_time": "2022-07-28T15:41:55.906Z"
   },
   {
    "duration": 40,
    "start_time": "2022-07-28T15:45:40.136Z"
   },
   {
    "duration": 33,
    "start_time": "2022-07-28T15:46:44.458Z"
   },
   {
    "duration": 36,
    "start_time": "2022-07-28T15:47:04.576Z"
   },
   {
    "duration": 30,
    "start_time": "2022-07-28T15:47:11.340Z"
   },
   {
    "duration": 105,
    "start_time": "2022-07-28T15:49:21.396Z"
   },
   {
    "duration": 5,
    "start_time": "2022-07-28T15:50:12.946Z"
   },
   {
    "duration": 5,
    "start_time": "2022-07-28T15:51:15.961Z"
   },
   {
    "duration": 5,
    "start_time": "2022-07-28T15:51:30.412Z"
   },
   {
    "duration": 5,
    "start_time": "2022-07-28T15:51:33.320Z"
   },
   {
    "duration": 5,
    "start_time": "2022-07-28T15:51:39.739Z"
   },
   {
    "duration": 5,
    "start_time": "2022-07-28T15:51:47.116Z"
   },
   {
    "duration": 41,
    "start_time": "2022-07-28T15:53:02.294Z"
   },
   {
    "duration": 34,
    "start_time": "2022-07-28T15:56:05.549Z"
   },
   {
    "duration": 20,
    "start_time": "2022-07-28T15:56:44.758Z"
   },
   {
    "duration": 48,
    "start_time": "2022-07-28T15:59:16.450Z"
   },
   {
    "duration": 32,
    "start_time": "2022-07-28T16:00:55.018Z"
   },
   {
    "duration": 21,
    "start_time": "2022-07-28T16:01:39.559Z"
   },
   {
    "duration": 65,
    "start_time": "2022-07-28T16:02:36.274Z"
   },
   {
    "duration": 25,
    "start_time": "2022-07-28T16:02:48.945Z"
   },
   {
    "duration": 5,
    "start_time": "2022-07-28T16:03:39.722Z"
   },
   {
    "duration": 5,
    "start_time": "2022-07-28T16:03:45.465Z"
   },
   {
    "duration": 6,
    "start_time": "2022-07-28T16:04:11.221Z"
   },
   {
    "duration": 7,
    "start_time": "2022-07-28T16:04:43.690Z"
   },
   {
    "duration": 6,
    "start_time": "2022-07-28T16:05:59.850Z"
   },
   {
    "duration": 722,
    "start_time": "2022-07-28T16:06:36.525Z"
   },
   {
    "duration": 13,
    "start_time": "2022-07-28T16:06:41.764Z"
   },
   {
    "duration": 14,
    "start_time": "2022-07-28T16:07:26.820Z"
   },
   {
    "duration": 73,
    "start_time": "2022-07-28T16:07:35.202Z"
   },
   {
    "duration": 1471,
    "start_time": "2022-07-28T21:27:46.739Z"
   },
   {
    "duration": 2559,
    "start_time": "2022-07-28T21:27:48.212Z"
   },
   {
    "duration": 109,
    "start_time": "2022-07-28T21:27:50.773Z"
   },
   {
    "duration": 5,
    "start_time": "2022-07-28T21:27:50.884Z"
   },
   {
    "duration": 755,
    "start_time": "2022-07-28T21:27:50.890Z"
   },
   {
    "duration": 17,
    "start_time": "2022-07-28T21:27:51.646Z"
   },
   {
    "duration": 11,
    "start_time": "2022-07-28T21:27:51.665Z"
   },
   {
    "duration": 208,
    "start_time": "2022-07-28T21:27:51.678Z"
   },
   {
    "duration": 74,
    "start_time": "2022-07-28T21:27:51.889Z"
   },
   {
    "duration": 130,
    "start_time": "2022-07-28T21:27:51.966Z"
   },
   {
    "duration": 16,
    "start_time": "2022-07-28T21:27:52.098Z"
   },
   {
    "duration": 18,
    "start_time": "2022-07-28T21:27:52.116Z"
   },
   {
    "duration": 40,
    "start_time": "2022-07-28T21:27:52.136Z"
   },
   {
    "duration": 56,
    "start_time": "2022-07-28T21:27:52.178Z"
   },
   {
    "duration": 9,
    "start_time": "2022-07-28T21:27:52.236Z"
   },
   {
    "duration": 176,
    "start_time": "2022-07-28T21:27:52.247Z"
   },
   {
    "duration": 46,
    "start_time": "2022-07-28T21:27:52.431Z"
   },
   {
    "duration": 34,
    "start_time": "2022-07-28T21:27:52.479Z"
   },
   {
    "duration": 118,
    "start_time": "2022-07-28T21:27:52.515Z"
   },
   {
    "duration": 5,
    "start_time": "2022-07-28T21:27:52.635Z"
   },
   {
    "duration": 12,
    "start_time": "2022-07-28T21:27:52.641Z"
   },
   {
    "duration": 50,
    "start_time": "2022-07-28T21:27:52.655Z"
   },
   {
    "duration": 41,
    "start_time": "2022-07-28T21:27:52.707Z"
   },
   {
    "duration": 23,
    "start_time": "2022-07-28T21:27:52.750Z"
   },
   {
    "duration": 72,
    "start_time": "2022-07-28T21:27:52.775Z"
   },
   {
    "duration": 33,
    "start_time": "2022-07-28T21:27:52.849Z"
   },
   {
    "duration": 92,
    "start_time": "2022-07-28T21:27:52.883Z"
   },
   {
    "duration": 5,
    "start_time": "2022-07-28T21:27:52.978Z"
   },
   {
    "duration": 10,
    "start_time": "2022-07-28T21:27:52.985Z"
   },
   {
    "duration": 7,
    "start_time": "2022-07-28T21:27:52.996Z"
   },
   {
    "duration": 738,
    "start_time": "2022-07-28T21:27:53.004Z"
   },
   {
    "duration": 14,
    "start_time": "2022-07-28T21:27:53.744Z"
   },
   {
    "duration": 86,
    "start_time": "2022-07-28T21:27:53.760Z"
   },
   {
    "duration": 1086,
    "start_time": "2022-07-28T21:31:54.459Z"
   },
   {
    "duration": 15,
    "start_time": "2022-07-28T21:32:55.324Z"
   },
   {
    "duration": 1221,
    "start_time": "2022-07-28T21:43:32.106Z"
   },
   {
    "duration": 630,
    "start_time": "2022-07-28T21:43:33.329Z"
   },
   {
    "duration": 100,
    "start_time": "2022-07-28T21:43:33.960Z"
   },
   {
    "duration": 4,
    "start_time": "2022-07-28T21:43:34.062Z"
   },
   {
    "duration": 778,
    "start_time": "2022-07-28T21:43:34.068Z"
   },
   {
    "duration": 13,
    "start_time": "2022-07-28T21:43:34.847Z"
   },
   {
    "duration": 10,
    "start_time": "2022-07-28T21:43:34.861Z"
   },
   {
    "duration": 191,
    "start_time": "2022-07-28T21:43:34.873Z"
   },
   {
    "duration": 66,
    "start_time": "2022-07-28T21:43:35.066Z"
   },
   {
    "duration": 127,
    "start_time": "2022-07-28T21:43:35.135Z"
   },
   {
    "duration": 15,
    "start_time": "2022-07-28T21:43:35.263Z"
   },
   {
    "duration": 4,
    "start_time": "2022-07-28T21:43:35.279Z"
   },
   {
    "duration": 54,
    "start_time": "2022-07-28T21:43:35.285Z"
   },
   {
    "duration": 32,
    "start_time": "2022-07-28T21:43:35.340Z"
   },
   {
    "duration": 7,
    "start_time": "2022-07-28T21:43:35.373Z"
   },
   {
    "duration": 176,
    "start_time": "2022-07-28T21:43:35.382Z"
   },
   {
    "duration": 40,
    "start_time": "2022-07-28T21:43:35.560Z"
   },
   {
    "duration": 55,
    "start_time": "2022-07-28T21:43:35.601Z"
   },
   {
    "duration": 108,
    "start_time": "2022-07-28T21:43:35.658Z"
   },
   {
    "duration": 7,
    "start_time": "2022-07-28T21:43:35.768Z"
   },
   {
    "duration": 7,
    "start_time": "2022-07-28T21:43:35.776Z"
   },
   {
    "duration": 63,
    "start_time": "2022-07-28T21:43:35.784Z"
   },
   {
    "duration": 35,
    "start_time": "2022-07-28T21:43:35.849Z"
   },
   {
    "duration": 23,
    "start_time": "2022-07-28T21:43:35.885Z"
   },
   {
    "duration": 64,
    "start_time": "2022-07-28T21:43:35.910Z"
   },
   {
    "duration": 33,
    "start_time": "2022-07-28T21:43:35.975Z"
   },
   {
    "duration": 96,
    "start_time": "2022-07-28T21:43:36.010Z"
   },
   {
    "duration": 5,
    "start_time": "2022-07-28T21:43:36.110Z"
   },
   {
    "duration": 20,
    "start_time": "2022-07-28T21:43:36.116Z"
   },
   {
    "duration": 5,
    "start_time": "2022-07-28T21:43:36.138Z"
   },
   {
    "duration": 728,
    "start_time": "2022-07-28T21:43:36.144Z"
   },
   {
    "duration": 14,
    "start_time": "2022-07-28T21:43:36.873Z"
   },
   {
    "duration": 88,
    "start_time": "2022-07-28T21:43:36.888Z"
   },
   {
    "duration": 1171,
    "start_time": "2022-07-28T21:43:36.978Z"
   },
   {
    "duration": 12,
    "start_time": "2022-07-28T21:43:38.150Z"
   },
   {
    "duration": 85,
    "start_time": "2022-07-28T21:54:20.300Z"
   },
   {
    "duration": 33,
    "start_time": "2022-07-28T21:55:30.276Z"
   },
   {
    "duration": 36,
    "start_time": "2022-07-28T22:23:08.441Z"
   },
   {
    "duration": 89,
    "start_time": "2022-07-28T22:24:32.536Z"
   },
   {
    "duration": 29,
    "start_time": "2022-07-28T22:24:43.738Z"
   },
   {
    "duration": 787,
    "start_time": "2022-07-28T22:24:44.711Z"
   },
   {
    "duration": 753,
    "start_time": "2022-07-28T22:24:53.706Z"
   },
   {
    "duration": 12,
    "start_time": "2022-07-28T22:26:58.330Z"
   },
   {
    "duration": 731,
    "start_time": "2022-07-28T22:28:26.235Z"
   },
   {
    "duration": 745,
    "start_time": "2022-07-28T22:28:59.000Z"
   },
   {
    "duration": 143,
    "start_time": "2022-07-28T22:32:45.885Z"
   },
   {
    "duration": 750,
    "start_time": "2022-07-28T22:33:20.567Z"
   },
   {
    "duration": 672,
    "start_time": "2022-07-28T22:34:50.482Z"
   },
   {
    "duration": 673,
    "start_time": "2022-07-28T22:35:33.458Z"
   },
   {
    "duration": 690,
    "start_time": "2022-07-28T22:35:40.755Z"
   },
   {
    "duration": 685,
    "start_time": "2022-07-28T22:36:35.801Z"
   },
   {
    "duration": 3,
    "start_time": "2022-07-28T22:43:22.812Z"
   },
   {
    "duration": 877,
    "start_time": "2022-07-28T22:46:02.345Z"
   },
   {
    "duration": 9,
    "start_time": "2022-07-28T22:46:23.553Z"
   },
   {
    "duration": 852,
    "start_time": "2022-07-28T22:46:30.349Z"
   },
   {
    "duration": 4,
    "start_time": "2022-07-28T22:46:32.240Z"
   },
   {
    "duration": 962,
    "start_time": "2022-07-28T22:47:36.678Z"
   },
   {
    "duration": 877,
    "start_time": "2022-07-28T22:48:00.837Z"
   },
   {
    "duration": 710,
    "start_time": "2022-07-28T22:48:20.528Z"
   },
   {
    "duration": 1237,
    "start_time": "2022-07-28T22:48:48.001Z"
   },
   {
    "duration": 602,
    "start_time": "2022-07-28T22:48:49.239Z"
   },
   {
    "duration": 115,
    "start_time": "2022-07-28T22:48:49.843Z"
   },
   {
    "duration": 4,
    "start_time": "2022-07-28T22:48:49.960Z"
   },
   {
    "duration": 725,
    "start_time": "2022-07-28T22:48:49.965Z"
   },
   {
    "duration": 14,
    "start_time": "2022-07-28T22:48:50.691Z"
   },
   {
    "duration": 10,
    "start_time": "2022-07-28T22:48:50.706Z"
   },
   {
    "duration": 172,
    "start_time": "2022-07-28T22:48:50.731Z"
   },
   {
    "duration": 64,
    "start_time": "2022-07-28T22:48:50.905Z"
   },
   {
    "duration": 122,
    "start_time": "2022-07-28T22:48:50.971Z"
   },
   {
    "duration": 14,
    "start_time": "2022-07-28T22:48:51.095Z"
   },
   {
    "duration": 4,
    "start_time": "2022-07-28T22:48:51.111Z"
   },
   {
    "duration": 36,
    "start_time": "2022-07-28T22:48:51.131Z"
   },
   {
    "duration": 31,
    "start_time": "2022-07-28T22:48:51.168Z"
   },
   {
    "duration": 7,
    "start_time": "2022-07-28T22:48:51.201Z"
   },
   {
    "duration": 173,
    "start_time": "2022-07-28T22:48:51.210Z"
   },
   {
    "duration": 38,
    "start_time": "2022-07-28T22:48:51.384Z"
   },
   {
    "duration": 33,
    "start_time": "2022-07-28T22:48:51.431Z"
   },
   {
    "duration": 97,
    "start_time": "2022-07-28T22:48:51.466Z"
   },
   {
    "duration": 5,
    "start_time": "2022-07-28T22:48:51.565Z"
   },
   {
    "duration": 6,
    "start_time": "2022-07-28T22:48:51.571Z"
   },
   {
    "duration": 54,
    "start_time": "2022-07-28T22:48:51.578Z"
   },
   {
    "duration": 32,
    "start_time": "2022-07-28T22:48:51.633Z"
   },
   {
    "duration": 22,
    "start_time": "2022-07-28T22:48:51.666Z"
   },
   {
    "duration": 62,
    "start_time": "2022-07-28T22:48:51.690Z"
   },
   {
    "duration": 31,
    "start_time": "2022-07-28T22:48:51.754Z"
   },
   {
    "duration": 90,
    "start_time": "2022-07-28T22:48:51.786Z"
   },
   {
    "duration": 5,
    "start_time": "2022-07-28T22:48:51.879Z"
   },
   {
    "duration": 8,
    "start_time": "2022-07-28T22:48:51.885Z"
   },
   {
    "duration": 5,
    "start_time": "2022-07-28T22:48:51.894Z"
   },
   {
    "duration": 718,
    "start_time": "2022-07-28T22:48:51.900Z"
   },
   {
    "duration": 14,
    "start_time": "2022-07-28T22:48:52.620Z"
   },
   {
    "duration": 78,
    "start_time": "2022-07-28T22:48:52.636Z"
   },
   {
    "duration": 43,
    "start_time": "2022-07-28T22:48:52.716Z"
   },
   {
    "duration": 733,
    "start_time": "2022-07-28T22:48:52.760Z"
   },
   {
    "duration": 683,
    "start_time": "2022-07-28T22:48:53.494Z"
   },
   {
    "duration": 891,
    "start_time": "2022-07-28T22:48:54.178Z"
   },
   {
    "duration": 16,
    "start_time": "2022-07-28T22:48:55.070Z"
   },
   {
    "duration": 2,
    "start_time": "2022-07-28T22:58:47.786Z"
   },
   {
    "duration": 420,
    "start_time": "2022-07-28T23:01:50.980Z"
   },
   {
    "duration": 426,
    "start_time": "2022-07-28T23:02:03.464Z"
   },
   {
    "duration": 344,
    "start_time": "2022-07-28T23:03:35.373Z"
   },
   {
    "duration": 6,
    "start_time": "2022-07-28T23:09:30.835Z"
   },
   {
    "duration": 82,
    "start_time": "2022-07-28T23:19:23.285Z"
   },
   {
    "duration": 81,
    "start_time": "2022-07-28T23:19:29.231Z"
   },
   {
    "duration": 73,
    "start_time": "2022-07-28T23:19:38.809Z"
   },
   {
    "duration": 10,
    "start_time": "2022-07-28T23:19:57.602Z"
   },
   {
    "duration": 3,
    "start_time": "2022-07-28T23:20:10.431Z"
   },
   {
    "duration": 12,
    "start_time": "2022-07-28T23:20:14.814Z"
   },
   {
    "duration": 77,
    "start_time": "2022-07-28T23:21:22.484Z"
   },
   {
    "duration": 3,
    "start_time": "2022-07-28T23:21:33.651Z"
   },
   {
    "duration": 3,
    "start_time": "2022-07-28T23:21:42.599Z"
   },
   {
    "duration": 3,
    "start_time": "2022-07-28T23:21:47.357Z"
   },
   {
    "duration": 3,
    "start_time": "2022-07-28T23:21:53.182Z"
   },
   {
    "duration": 4,
    "start_time": "2022-07-28T23:21:59.429Z"
   },
   {
    "duration": 4,
    "start_time": "2022-07-28T23:22:04.558Z"
   },
   {
    "duration": 73,
    "start_time": "2022-07-28T23:23:59.218Z"
   },
   {
    "duration": 3,
    "start_time": "2022-07-28T23:27:57.550Z"
   },
   {
    "duration": 9358,
    "start_time": "2022-07-28T23:38:45.263Z"
   },
   {
    "duration": 1153,
    "start_time": "2022-07-28T23:40:10.492Z"
   },
   {
    "duration": 594,
    "start_time": "2022-07-28T23:40:11.646Z"
   },
   {
    "duration": 104,
    "start_time": "2022-07-28T23:40:12.242Z"
   },
   {
    "duration": 3,
    "start_time": "2022-07-28T23:40:12.348Z"
   },
   {
    "duration": 716,
    "start_time": "2022-07-28T23:40:12.353Z"
   },
   {
    "duration": 11,
    "start_time": "2022-07-28T23:40:13.070Z"
   },
   {
    "duration": 9,
    "start_time": "2022-07-28T23:40:13.082Z"
   },
   {
    "duration": 181,
    "start_time": "2022-07-28T23:40:13.092Z"
   },
   {
    "duration": 68,
    "start_time": "2022-07-28T23:40:13.274Z"
   },
   {
    "duration": 129,
    "start_time": "2022-07-28T23:40:13.344Z"
   },
   {
    "duration": 14,
    "start_time": "2022-07-28T23:40:13.475Z"
   },
   {
    "duration": 4,
    "start_time": "2022-07-28T23:40:13.490Z"
   },
   {
    "duration": 52,
    "start_time": "2022-07-28T23:40:13.496Z"
   },
   {
    "duration": 31,
    "start_time": "2022-07-28T23:40:13.550Z"
   },
   {
    "duration": 7,
    "start_time": "2022-07-28T23:40:13.583Z"
   },
   {
    "duration": 173,
    "start_time": "2022-07-28T23:40:13.592Z"
   },
   {
    "duration": 37,
    "start_time": "2022-07-28T23:40:13.766Z"
   },
   {
    "duration": 43,
    "start_time": "2022-07-28T23:40:13.804Z"
   },
   {
    "duration": 98,
    "start_time": "2022-07-28T23:40:13.848Z"
   },
   {
    "duration": 5,
    "start_time": "2022-07-28T23:40:13.947Z"
   },
   {
    "duration": 10,
    "start_time": "2022-07-28T23:40:13.953Z"
   },
   {
    "duration": 40,
    "start_time": "2022-07-28T23:40:13.964Z"
   },
   {
    "duration": 46,
    "start_time": "2022-07-28T23:40:14.005Z"
   },
   {
    "duration": 21,
    "start_time": "2022-07-28T23:40:14.053Z"
   },
   {
    "duration": 59,
    "start_time": "2022-07-28T23:40:14.075Z"
   },
   {
    "duration": 33,
    "start_time": "2022-07-28T23:40:14.135Z"
   },
   {
    "duration": 90,
    "start_time": "2022-07-28T23:40:14.170Z"
   },
   {
    "duration": 5,
    "start_time": "2022-07-28T23:40:14.262Z"
   },
   {
    "duration": 7,
    "start_time": "2022-07-28T23:40:14.268Z"
   },
   {
    "duration": 5,
    "start_time": "2022-07-28T23:40:14.276Z"
   },
   {
    "duration": 698,
    "start_time": "2022-07-28T23:40:14.282Z"
   },
   {
    "duration": 14,
    "start_time": "2022-07-28T23:40:14.982Z"
   },
   {
    "duration": 81,
    "start_time": "2022-07-28T23:40:14.998Z"
   },
   {
    "duration": 32,
    "start_time": "2022-07-28T23:40:15.081Z"
   },
   {
    "duration": 752,
    "start_time": "2022-07-28T23:40:15.114Z"
   },
   {
    "duration": 676,
    "start_time": "2022-07-28T23:40:15.868Z"
   },
   {
    "duration": 888,
    "start_time": "2022-07-28T23:40:16.545Z"
   },
   {
    "duration": 448,
    "start_time": "2022-07-28T23:40:17.435Z"
   },
   {
    "duration": 5,
    "start_time": "2022-07-28T23:40:17.884Z"
   },
   {
    "duration": 9526,
    "start_time": "2022-07-28T23:40:17.891Z"
   },
   {
    "duration": 3,
    "start_time": "2022-07-28T23:49:06.737Z"
   },
   {
    "duration": 765,
    "start_time": "2022-07-28T23:50:34.596Z"
   },
   {
    "duration": 11,
    "start_time": "2022-07-29T00:05:49.245Z"
   },
   {
    "duration": 9,
    "start_time": "2022-07-29T00:06:24.409Z"
   },
   {
    "duration": 10,
    "start_time": "2022-07-29T00:06:30.641Z"
   },
   {
    "duration": 10,
    "start_time": "2022-07-29T00:06:52.898Z"
   },
   {
    "duration": 5,
    "start_time": "2022-07-29T00:09:03.154Z"
   },
   {
    "duration": 17,
    "start_time": "2022-07-29T00:09:15.064Z"
   },
   {
    "duration": 174,
    "start_time": "2022-07-29T00:10:52.964Z"
   },
   {
    "duration": 1585,
    "start_time": "2022-07-29T05:01:11.289Z"
   },
   {
    "duration": 3258,
    "start_time": "2022-07-29T05:01:12.876Z"
   },
   {
    "duration": 145,
    "start_time": "2022-07-29T05:01:16.136Z"
   },
   {
    "duration": 48,
    "start_time": "2022-07-29T05:01:16.283Z"
   },
   {
    "duration": 994,
    "start_time": "2022-07-29T05:01:16.333Z"
   },
   {
    "duration": 29,
    "start_time": "2022-07-29T05:01:17.329Z"
   },
   {
    "duration": 38,
    "start_time": "2022-07-29T05:01:17.365Z"
   },
   {
    "duration": 209,
    "start_time": "2022-07-29T05:01:17.405Z"
   },
   {
    "duration": 100,
    "start_time": "2022-07-29T05:01:17.616Z"
   },
   {
    "duration": 168,
    "start_time": "2022-07-29T05:01:17.720Z"
   },
   {
    "duration": 17,
    "start_time": "2022-07-29T05:01:17.897Z"
   },
   {
    "duration": 5,
    "start_time": "2022-07-29T05:01:17.916Z"
   },
   {
    "duration": 54,
    "start_time": "2022-07-29T05:01:17.923Z"
   },
   {
    "duration": 44,
    "start_time": "2022-07-29T05:01:17.982Z"
   },
   {
    "duration": 11,
    "start_time": "2022-07-29T05:01:18.028Z"
   },
   {
    "duration": 246,
    "start_time": "2022-07-29T05:01:18.041Z"
   },
   {
    "duration": 59,
    "start_time": "2022-07-29T05:01:18.289Z"
   },
   {
    "duration": 53,
    "start_time": "2022-07-29T05:01:18.353Z"
   },
   {
    "duration": 128,
    "start_time": "2022-07-29T05:01:18.410Z"
   },
   {
    "duration": 22,
    "start_time": "2022-07-29T05:01:18.540Z"
   },
   {
    "duration": 44,
    "start_time": "2022-07-29T05:01:18.563Z"
   },
   {
    "duration": 74,
    "start_time": "2022-07-29T05:01:18.609Z"
   },
   {
    "duration": 53,
    "start_time": "2022-07-29T05:01:18.684Z"
   },
   {
    "duration": 38,
    "start_time": "2022-07-29T05:01:18.739Z"
   },
   {
    "duration": 80,
    "start_time": "2022-07-29T05:01:18.779Z"
   },
   {
    "duration": 45,
    "start_time": "2022-07-29T05:01:18.860Z"
   },
   {
    "duration": 115,
    "start_time": "2022-07-29T05:01:18.907Z"
   },
   {
    "duration": 6,
    "start_time": "2022-07-29T05:01:19.024Z"
   },
   {
    "duration": 31,
    "start_time": "2022-07-29T05:01:19.031Z"
   },
   {
    "duration": 34,
    "start_time": "2022-07-29T05:01:19.064Z"
   },
   {
    "duration": 890,
    "start_time": "2022-07-29T05:01:19.099Z"
   },
   {
    "duration": 17,
    "start_time": "2022-07-29T05:01:19.990Z"
   },
   {
    "duration": 96,
    "start_time": "2022-07-29T05:01:20.008Z"
   },
   {
    "duration": 48,
    "start_time": "2022-07-29T05:01:20.105Z"
   },
   {
    "duration": 837,
    "start_time": "2022-07-29T05:01:20.155Z"
   },
   {
    "duration": 2344,
    "start_time": "2022-07-29T17:39:21.769Z"
   },
   {
    "duration": 3169,
    "start_time": "2022-07-29T17:39:24.116Z"
   },
   {
    "duration": 173,
    "start_time": "2022-07-29T17:39:27.287Z"
   },
   {
    "duration": 7,
    "start_time": "2022-07-29T17:39:27.463Z"
   },
   {
    "duration": 1070,
    "start_time": "2022-07-29T17:39:27.472Z"
   },
   {
    "duration": 17,
    "start_time": "2022-07-29T17:39:28.544Z"
   },
   {
    "duration": 14,
    "start_time": "2022-07-29T17:39:28.564Z"
   },
   {
    "duration": 268,
    "start_time": "2022-07-29T17:39:28.580Z"
   },
   {
    "duration": 99,
    "start_time": "2022-07-29T17:39:28.850Z"
   },
   {
    "duration": 215,
    "start_time": "2022-07-29T17:39:28.952Z"
   },
   {
    "duration": 18,
    "start_time": "2022-07-29T17:39:29.169Z"
   },
   {
    "duration": 27,
    "start_time": "2022-07-29T17:39:29.189Z"
   },
   {
    "duration": 60,
    "start_time": "2022-07-29T17:39:29.218Z"
   },
   {
    "duration": 72,
    "start_time": "2022-07-29T17:39:29.279Z"
   },
   {
    "duration": 9,
    "start_time": "2022-07-29T17:39:29.353Z"
   },
   {
    "duration": 240,
    "start_time": "2022-07-29T17:39:29.364Z"
   },
   {
    "duration": 72,
    "start_time": "2022-07-29T17:39:29.606Z"
   },
   {
    "duration": 77,
    "start_time": "2022-07-29T17:39:29.680Z"
   },
   {
    "duration": 158,
    "start_time": "2022-07-29T17:39:29.759Z"
   },
   {
    "duration": 11,
    "start_time": "2022-07-29T17:39:29.920Z"
   },
   {
    "duration": 18,
    "start_time": "2022-07-29T17:39:29.934Z"
   },
   {
    "duration": 68,
    "start_time": "2022-07-29T17:39:29.954Z"
   },
   {
    "duration": 53,
    "start_time": "2022-07-29T17:39:30.025Z"
   },
   {
    "duration": 48,
    "start_time": "2022-07-29T17:39:30.080Z"
   },
   {
    "duration": 68,
    "start_time": "2022-07-29T17:39:30.131Z"
   },
   {
    "duration": 58,
    "start_time": "2022-07-29T17:39:30.201Z"
   },
   {
    "duration": 136,
    "start_time": "2022-07-29T17:39:30.261Z"
   },
   {
    "duration": 12,
    "start_time": "2022-07-29T17:39:30.401Z"
   },
   {
    "duration": 54,
    "start_time": "2022-07-29T17:39:30.416Z"
   },
   {
    "duration": 24,
    "start_time": "2022-07-29T17:39:30.473Z"
   },
   {
    "duration": 1042,
    "start_time": "2022-07-29T17:39:30.499Z"
   },
   {
    "duration": 17,
    "start_time": "2022-07-29T17:39:31.544Z"
   },
   {
    "duration": 158,
    "start_time": "2022-07-29T17:39:31.564Z"
   },
   {
    "duration": 55,
    "start_time": "2022-07-29T17:39:31.737Z"
   },
   {
    "duration": 1468,
    "start_time": "2022-07-29T17:39:31.794Z"
   },
   {
    "duration": 1034,
    "start_time": "2022-07-29T17:39:33.264Z"
   },
   {
    "duration": 1397,
    "start_time": "2022-07-29T17:39:34.300Z"
   },
   {
    "duration": 790,
    "start_time": "2022-07-29T17:39:35.699Z"
   },
   {
    "duration": 24,
    "start_time": "2022-07-29T17:39:36.491Z"
   },
   {
    "duration": 12186,
    "start_time": "2022-07-29T17:39:36.517Z"
   },
   {
    "duration": 60,
    "start_time": "2022-07-29T17:44:08.552Z"
   },
   {
    "duration": 13,
    "start_time": "2022-07-29T17:44:19.339Z"
   },
   {
    "duration": 20,
    "start_time": "2022-07-29T17:44:23.705Z"
   },
   {
    "duration": 11,
    "start_time": "2022-07-29T17:44:57.104Z"
   },
   {
    "duration": 47,
    "start_time": "2022-07-29T17:45:00.913Z"
   },
   {
    "duration": 36,
    "start_time": "2022-07-29T17:45:18.467Z"
   },
   {
    "duration": 12,
    "start_time": "2022-07-29T17:49:08.856Z"
   },
   {
    "duration": 14,
    "start_time": "2022-07-29T17:49:17.511Z"
   },
   {
    "duration": 56,
    "start_time": "2022-07-29T17:49:32.092Z"
   },
   {
    "duration": 35,
    "start_time": "2022-07-29T17:49:49.464Z"
   },
   {
    "duration": 72,
    "start_time": "2022-07-29T17:49:57.244Z"
   },
   {
    "duration": 85,
    "start_time": "2022-07-29T17:50:40.566Z"
   },
   {
    "duration": 43,
    "start_time": "2022-07-29T17:50:50.830Z"
   },
   {
    "duration": 1703,
    "start_time": "2022-07-29T17:51:01.559Z"
   },
   {
    "duration": 895,
    "start_time": "2022-07-29T17:51:03.264Z"
   },
   {
    "duration": 172,
    "start_time": "2022-07-29T17:51:04.161Z"
   },
   {
    "duration": 8,
    "start_time": "2022-07-29T17:51:04.337Z"
   },
   {
    "duration": 1084,
    "start_time": "2022-07-29T17:51:04.348Z"
   },
   {
    "duration": 17,
    "start_time": "2022-07-29T17:51:05.438Z"
   },
   {
    "duration": 12,
    "start_time": "2022-07-29T17:51:05.458Z"
   },
   {
    "duration": 259,
    "start_time": "2022-07-29T17:51:05.472Z"
   },
   {
    "duration": 100,
    "start_time": "2022-07-29T17:51:05.734Z"
   },
   {
    "duration": 219,
    "start_time": "2022-07-29T17:51:05.839Z"
   },
   {
    "duration": 18,
    "start_time": "2022-07-29T17:51:06.060Z"
   },
   {
    "duration": 6,
    "start_time": "2022-07-29T17:51:06.080Z"
   },
   {
    "duration": 83,
    "start_time": "2022-07-29T17:51:06.088Z"
   },
   {
    "duration": 63,
    "start_time": "2022-07-29T17:51:06.173Z"
   },
   {
    "duration": 15,
    "start_time": "2022-07-29T17:51:06.239Z"
   },
   {
    "duration": 231,
    "start_time": "2022-07-29T17:51:06.256Z"
   },
   {
    "duration": 71,
    "start_time": "2022-07-29T17:51:06.489Z"
   },
   {
    "duration": 62,
    "start_time": "2022-07-29T17:51:06.562Z"
   },
   {
    "duration": 152,
    "start_time": "2022-07-29T17:51:06.626Z"
   },
   {
    "duration": 6,
    "start_time": "2022-07-29T17:51:06.780Z"
   },
   {
    "duration": 30,
    "start_time": "2022-07-29T17:51:06.787Z"
   },
   {
    "duration": 73,
    "start_time": "2022-07-29T17:51:06.819Z"
   },
   {
    "duration": 57,
    "start_time": "2022-07-29T17:51:06.894Z"
   },
   {
    "duration": 28,
    "start_time": "2022-07-29T17:51:06.953Z"
   },
   {
    "duration": 88,
    "start_time": "2022-07-29T17:51:06.983Z"
   },
   {
    "duration": 63,
    "start_time": "2022-07-29T17:51:07.073Z"
   },
   {
    "duration": 124,
    "start_time": "2022-07-29T17:51:07.139Z"
   },
   {
    "duration": 6,
    "start_time": "2022-07-29T17:51:07.267Z"
   },
   {
    "duration": 9,
    "start_time": "2022-07-29T17:51:07.274Z"
   },
   {
    "duration": 6,
    "start_time": "2022-07-29T17:51:07.285Z"
   },
   {
    "duration": 1078,
    "start_time": "2022-07-29T17:51:07.313Z"
   },
   {
    "duration": 36,
    "start_time": "2022-07-29T17:51:08.393Z"
   },
   {
    "duration": 154,
    "start_time": "2022-07-29T17:51:08.432Z"
   },
   {
    "duration": 60,
    "start_time": "2022-07-29T17:51:08.588Z"
   },
   {
    "duration": 1237,
    "start_time": "2022-07-29T17:51:08.651Z"
   },
   {
    "duration": 207,
    "start_time": "2022-07-29T17:51:09.890Z"
   },
   {
    "duration": 0,
    "start_time": "2022-07-29T17:51:10.099Z"
   },
   {
    "duration": 0,
    "start_time": "2022-07-29T17:51:10.101Z"
   },
   {
    "duration": 0,
    "start_time": "2022-07-29T17:51:10.103Z"
   },
   {
    "duration": 0,
    "start_time": "2022-07-29T17:51:10.110Z"
   },
   {
    "duration": 0,
    "start_time": "2022-07-29T17:51:10.111Z"
   },
   {
    "duration": 26,
    "start_time": "2022-07-29T17:51:27.300Z"
   },
   {
    "duration": 47,
    "start_time": "2022-07-29T17:53:11.685Z"
   },
   {
    "duration": 58,
    "start_time": "2022-07-29T17:54:22.494Z"
   },
   {
    "duration": 56,
    "start_time": "2022-07-29T17:54:29.707Z"
   },
   {
    "duration": 1582,
    "start_time": "2022-07-29T18:00:56.720Z"
   },
   {
    "duration": 926,
    "start_time": "2022-07-29T18:00:58.304Z"
   },
   {
    "duration": 225,
    "start_time": "2022-07-29T18:00:59.232Z"
   },
   {
    "duration": 11,
    "start_time": "2022-07-29T18:00:59.460Z"
   },
   {
    "duration": 1194,
    "start_time": "2022-07-29T18:00:59.473Z"
   },
   {
    "duration": 15,
    "start_time": "2022-07-29T18:01:00.669Z"
   },
   {
    "duration": 26,
    "start_time": "2022-07-29T18:01:00.685Z"
   },
   {
    "duration": 277,
    "start_time": "2022-07-29T18:01:00.713Z"
   },
   {
    "duration": 103,
    "start_time": "2022-07-29T18:01:00.992Z"
   },
   {
    "duration": 247,
    "start_time": "2022-07-29T18:01:01.098Z"
   },
   {
    "duration": 20,
    "start_time": "2022-07-29T18:01:01.350Z"
   },
   {
    "duration": 6,
    "start_time": "2022-07-29T18:01:01.372Z"
   },
   {
    "duration": 82,
    "start_time": "2022-07-29T18:01:01.380Z"
   },
   {
    "duration": 61,
    "start_time": "2022-07-29T18:01:01.464Z"
   },
   {
    "duration": 34,
    "start_time": "2022-07-29T18:01:01.531Z"
   },
   {
    "duration": 262,
    "start_time": "2022-07-29T18:01:01.567Z"
   },
   {
    "duration": 81,
    "start_time": "2022-07-29T18:01:01.831Z"
   },
   {
    "duration": 80,
    "start_time": "2022-07-29T18:01:01.913Z"
   },
   {
    "duration": 208,
    "start_time": "2022-07-29T18:01:01.996Z"
   },
   {
    "duration": 56,
    "start_time": "2022-07-29T18:01:02.211Z"
   },
   {
    "duration": 43,
    "start_time": "2022-07-29T18:01:02.270Z"
   },
   {
    "duration": 153,
    "start_time": "2022-07-29T18:01:02.315Z"
   },
   {
    "duration": 77,
    "start_time": "2022-07-29T18:01:02.470Z"
   },
   {
    "duration": 50,
    "start_time": "2022-07-29T18:01:02.550Z"
   },
   {
    "duration": 105,
    "start_time": "2022-07-29T18:01:02.609Z"
   },
   {
    "duration": 66,
    "start_time": "2022-07-29T18:01:02.717Z"
   },
   {
    "duration": 151,
    "start_time": "2022-07-29T18:01:02.785Z"
   },
   {
    "duration": 11,
    "start_time": "2022-07-29T18:01:02.942Z"
   },
   {
    "duration": 15,
    "start_time": "2022-07-29T18:01:02.955Z"
   },
   {
    "duration": 8,
    "start_time": "2022-07-29T18:01:02.972Z"
   },
   {
    "duration": 1122,
    "start_time": "2022-07-29T18:01:02.982Z"
   },
   {
    "duration": 39,
    "start_time": "2022-07-29T18:01:04.110Z"
   },
   {
    "duration": 133,
    "start_time": "2022-07-29T18:01:04.152Z"
   },
   {
    "duration": 55,
    "start_time": "2022-07-29T18:01:04.287Z"
   },
   {
    "duration": 1311,
    "start_time": "2022-07-29T18:01:04.344Z"
   },
   {
    "duration": 162,
    "start_time": "2022-07-29T18:01:05.656Z"
   },
   {
    "duration": 184,
    "start_time": "2022-07-29T18:01:05.821Z"
   },
   {
    "duration": 0,
    "start_time": "2022-07-29T18:01:06.011Z"
   },
   {
    "duration": 0,
    "start_time": "2022-07-29T18:01:06.012Z"
   },
   {
    "duration": 0,
    "start_time": "2022-07-29T18:01:06.013Z"
   },
   {
    "duration": 0,
    "start_time": "2022-07-29T18:01:06.014Z"
   },
   {
    "duration": 0,
    "start_time": "2022-07-29T18:01:06.015Z"
   },
   {
    "duration": 91,
    "start_time": "2022-07-29T18:02:20.894Z"
   },
   {
    "duration": 19,
    "start_time": "2022-07-29T18:02:26.444Z"
   },
   {
    "duration": 1640,
    "start_time": "2022-07-29T18:02:34.175Z"
   },
   {
    "duration": 919,
    "start_time": "2022-07-29T18:02:35.818Z"
   },
   {
    "duration": 160,
    "start_time": "2022-07-29T18:02:36.739Z"
   },
   {
    "duration": 4,
    "start_time": "2022-07-29T18:02:36.902Z"
   },
   {
    "duration": 1116,
    "start_time": "2022-07-29T18:02:36.908Z"
   },
   {
    "duration": 31,
    "start_time": "2022-07-29T18:02:38.026Z"
   },
   {
    "duration": 13,
    "start_time": "2022-07-29T18:02:38.059Z"
   },
   {
    "duration": 279,
    "start_time": "2022-07-29T18:02:38.074Z"
   },
   {
    "duration": 106,
    "start_time": "2022-07-29T18:02:38.356Z"
   },
   {
    "duration": 209,
    "start_time": "2022-07-29T18:02:38.465Z"
   },
   {
    "duration": 18,
    "start_time": "2022-07-29T18:02:38.676Z"
   },
   {
    "duration": 12,
    "start_time": "2022-07-29T18:02:38.714Z"
   },
   {
    "duration": 126,
    "start_time": "2022-07-29T18:02:38.728Z"
   },
   {
    "duration": 54,
    "start_time": "2022-07-29T18:02:38.855Z"
   },
   {
    "duration": 14,
    "start_time": "2022-07-29T18:02:38.914Z"
   },
   {
    "duration": 327,
    "start_time": "2022-07-29T18:02:38.931Z"
   },
   {
    "duration": 76,
    "start_time": "2022-07-29T18:02:39.261Z"
   },
   {
    "duration": 51,
    "start_time": "2022-07-29T18:02:39.339Z"
   },
   {
    "duration": 196,
    "start_time": "2022-07-29T18:02:39.393Z"
   },
   {
    "duration": 6,
    "start_time": "2022-07-29T18:02:39.591Z"
   },
   {
    "duration": 24,
    "start_time": "2022-07-29T18:02:39.598Z"
   },
   {
    "duration": 77,
    "start_time": "2022-07-29T18:02:39.625Z"
   },
   {
    "duration": 69,
    "start_time": "2022-07-29T18:02:39.703Z"
   },
   {
    "duration": 27,
    "start_time": "2022-07-29T18:02:39.774Z"
   },
   {
    "duration": 88,
    "start_time": "2022-07-29T18:02:39.803Z"
   },
   {
    "duration": 82,
    "start_time": "2022-07-29T18:02:39.893Z"
   },
   {
    "duration": 126,
    "start_time": "2022-07-29T18:02:39.977Z"
   },
   {
    "duration": 9,
    "start_time": "2022-07-29T18:02:40.107Z"
   },
   {
    "duration": 40,
    "start_time": "2022-07-29T18:02:40.118Z"
   },
   {
    "duration": 6,
    "start_time": "2022-07-29T18:02:40.160Z"
   },
   {
    "duration": 1110,
    "start_time": "2022-07-29T18:02:40.168Z"
   },
   {
    "duration": 17,
    "start_time": "2022-07-29T18:02:41.279Z"
   },
   {
    "duration": 134,
    "start_time": "2022-07-29T18:02:41.311Z"
   },
   {
    "duration": 37,
    "start_time": "2022-07-29T18:02:41.447Z"
   },
   {
    "duration": 1212,
    "start_time": "2022-07-29T18:02:41.486Z"
   },
   {
    "duration": 166,
    "start_time": "2022-07-29T18:02:42.700Z"
   },
   {
    "duration": 230,
    "start_time": "2022-07-29T18:02:42.869Z"
   },
   {
    "duration": 1057,
    "start_time": "2022-07-29T18:02:43.100Z"
   },
   {
    "duration": 1377,
    "start_time": "2022-07-29T18:02:44.159Z"
   },
   {
    "duration": 696,
    "start_time": "2022-07-29T18:02:45.539Z"
   },
   {
    "duration": 10,
    "start_time": "2022-07-29T18:02:46.237Z"
   },
   {
    "duration": 3779,
    "start_time": "2022-07-29T18:27:10.536Z"
   },
   {
    "duration": 2578,
    "start_time": "2022-07-29T18:27:14.317Z"
   },
   {
    "duration": 143,
    "start_time": "2022-07-29T18:27:16.897Z"
   },
   {
    "duration": 5,
    "start_time": "2022-07-29T18:27:17.042Z"
   },
   {
    "duration": 928,
    "start_time": "2022-07-29T18:27:17.049Z"
   },
   {
    "duration": 20,
    "start_time": "2022-07-29T18:27:17.979Z"
   },
   {
    "duration": 14,
    "start_time": "2022-07-29T18:27:18.011Z"
   },
   {
    "duration": 276,
    "start_time": "2022-07-29T18:27:18.028Z"
   },
   {
    "duration": 77,
    "start_time": "2022-07-29T18:27:18.306Z"
   },
   {
    "duration": 180,
    "start_time": "2022-07-29T18:27:18.385Z"
   },
   {
    "duration": 17,
    "start_time": "2022-07-29T18:27:18.567Z"
   },
   {
    "duration": 24,
    "start_time": "2022-07-29T18:27:18.586Z"
   },
   {
    "duration": 47,
    "start_time": "2022-07-29T18:27:18.612Z"
   },
   {
    "duration": 59,
    "start_time": "2022-07-29T18:27:18.662Z"
   },
   {
    "duration": 9,
    "start_time": "2022-07-29T18:27:18.723Z"
   },
   {
    "duration": 220,
    "start_time": "2022-07-29T18:27:18.734Z"
   },
   {
    "duration": 58,
    "start_time": "2022-07-29T18:27:18.955Z"
   },
   {
    "duration": 44,
    "start_time": "2022-07-29T18:27:19.015Z"
   },
   {
    "duration": 142,
    "start_time": "2022-07-29T18:27:19.061Z"
   },
   {
    "duration": 6,
    "start_time": "2022-07-29T18:27:19.210Z"
   },
   {
    "duration": 10,
    "start_time": "2022-07-29T18:27:19.218Z"
   },
   {
    "duration": 50,
    "start_time": "2022-07-29T18:27:19.230Z"
   },
   {
    "duration": 64,
    "start_time": "2022-07-29T18:27:19.282Z"
   },
   {
    "duration": 29,
    "start_time": "2022-07-29T18:27:19.348Z"
   },
   {
    "duration": 81,
    "start_time": "2022-07-29T18:27:19.378Z"
   },
   {
    "duration": 59,
    "start_time": "2022-07-29T18:27:19.461Z"
   },
   {
    "duration": 107,
    "start_time": "2022-07-29T18:27:19.522Z"
   },
   {
    "duration": 6,
    "start_time": "2022-07-29T18:27:19.631Z"
   },
   {
    "duration": 9,
    "start_time": "2022-07-29T18:27:19.638Z"
   },
   {
    "duration": 6,
    "start_time": "2022-07-29T18:27:19.649Z"
   },
   {
    "duration": 879,
    "start_time": "2022-07-29T18:27:19.657Z"
   },
   {
    "duration": 17,
    "start_time": "2022-07-29T18:27:20.538Z"
   },
   {
    "duration": 118,
    "start_time": "2022-07-29T18:27:20.557Z"
   },
   {
    "duration": 47,
    "start_time": "2022-07-29T18:27:20.676Z"
   },
   {
    "duration": 1132,
    "start_time": "2022-07-29T18:27:20.725Z"
   },
   {
    "duration": 172,
    "start_time": "2022-07-29T18:27:21.859Z"
   },
   {
    "duration": 202,
    "start_time": "2022-07-29T18:27:22.033Z"
   },
   {
    "duration": 902,
    "start_time": "2022-07-29T18:27:22.237Z"
   },
   {
    "duration": 1131,
    "start_time": "2022-07-29T18:27:23.141Z"
   },
   {
    "duration": 479,
    "start_time": "2022-07-29T18:27:24.274Z"
   },
   {
    "duration": 7,
    "start_time": "2022-07-29T18:27:24.757Z"
   },
   {
    "duration": 1380,
    "start_time": "2022-07-29T18:29:06.662Z"
   },
   {
    "duration": 782,
    "start_time": "2022-07-29T18:29:08.044Z"
   },
   {
    "duration": 161,
    "start_time": "2022-07-29T18:29:08.828Z"
   },
   {
    "duration": 5,
    "start_time": "2022-07-29T18:29:08.992Z"
   },
   {
    "duration": 852,
    "start_time": "2022-07-29T18:29:09.014Z"
   },
   {
    "duration": 14,
    "start_time": "2022-07-29T18:29:09.868Z"
   },
   {
    "duration": 27,
    "start_time": "2022-07-29T18:29:09.884Z"
   },
   {
    "duration": 217,
    "start_time": "2022-07-29T18:29:09.913Z"
   },
   {
    "duration": 89,
    "start_time": "2022-07-29T18:29:10.132Z"
   },
   {
    "duration": 170,
    "start_time": "2022-07-29T18:29:10.224Z"
   },
   {
    "duration": 27,
    "start_time": "2022-07-29T18:29:10.396Z"
   },
   {
    "duration": 7,
    "start_time": "2022-07-29T18:29:10.425Z"
   },
   {
    "duration": 50,
    "start_time": "2022-07-29T18:29:10.433Z"
   },
   {
    "duration": 60,
    "start_time": "2022-07-29T18:29:10.485Z"
   },
   {
    "duration": 8,
    "start_time": "2022-07-29T18:29:10.547Z"
   },
   {
    "duration": 194,
    "start_time": "2022-07-29T18:29:10.556Z"
   },
   {
    "duration": 45,
    "start_time": "2022-07-29T18:29:10.752Z"
   },
   {
    "duration": 52,
    "start_time": "2022-07-29T18:29:10.799Z"
   },
   {
    "duration": 132,
    "start_time": "2022-07-29T18:29:10.852Z"
   },
   {
    "duration": 6,
    "start_time": "2022-07-29T18:29:10.986Z"
   },
   {
    "duration": 22,
    "start_time": "2022-07-29T18:29:10.993Z"
   },
   {
    "duration": 49,
    "start_time": "2022-07-29T18:29:11.017Z"
   },
   {
    "duration": 59,
    "start_time": "2022-07-29T18:29:11.068Z"
   },
   {
    "duration": 26,
    "start_time": "2022-07-29T18:29:11.129Z"
   },
   {
    "duration": 73,
    "start_time": "2022-07-29T18:29:11.157Z"
   },
   {
    "duration": 42,
    "start_time": "2022-07-29T18:29:11.232Z"
   },
   {
    "duration": 112,
    "start_time": "2022-07-29T18:29:11.275Z"
   },
   {
    "duration": 6,
    "start_time": "2022-07-29T18:29:11.390Z"
   },
   {
    "duration": 18,
    "start_time": "2022-07-29T18:29:11.398Z"
   },
   {
    "duration": 6,
    "start_time": "2022-07-29T18:29:11.418Z"
   },
   {
    "duration": 919,
    "start_time": "2022-07-29T18:29:11.426Z"
   },
   {
    "duration": 16,
    "start_time": "2022-07-29T18:29:12.347Z"
   },
   {
    "duration": 125,
    "start_time": "2022-07-29T18:29:12.366Z"
   },
   {
    "duration": 48,
    "start_time": "2022-07-29T18:29:12.493Z"
   },
   {
    "duration": 1065,
    "start_time": "2022-07-29T18:29:12.543Z"
   },
   {
    "duration": 145,
    "start_time": "2022-07-29T18:29:13.610Z"
   },
   {
    "duration": 200,
    "start_time": "2022-07-29T18:29:13.757Z"
   },
   {
    "duration": 897,
    "start_time": "2022-07-29T18:29:13.959Z"
   },
   {
    "duration": 1137,
    "start_time": "2022-07-29T18:29:14.858Z"
   },
   {
    "duration": 487,
    "start_time": "2022-07-29T18:29:15.996Z"
   },
   {
    "duration": 7,
    "start_time": "2022-07-29T18:29:16.485Z"
   },
   {
    "duration": 1772,
    "start_time": "2022-07-30T17:39:50.331Z"
   },
   {
    "duration": 4,
    "start_time": "2022-07-30T17:40:36.873Z"
   },
   {
    "duration": 113,
    "start_time": "2022-07-30T17:51:07.329Z"
   },
   {
    "duration": 1471,
    "start_time": "2022-07-30T17:51:24.777Z"
   },
   {
    "duration": 2568,
    "start_time": "2022-07-30T17:51:26.250Z"
   },
   {
    "duration": 152,
    "start_time": "2022-07-30T17:51:28.819Z"
   },
   {
    "duration": 6,
    "start_time": "2022-07-30T17:51:28.973Z"
   },
   {
    "duration": 853,
    "start_time": "2022-07-30T17:51:28.981Z"
   },
   {
    "duration": 18,
    "start_time": "2022-07-30T17:51:29.836Z"
   },
   {
    "duration": 13,
    "start_time": "2022-07-30T17:51:29.855Z"
   },
   {
    "duration": 234,
    "start_time": "2022-07-30T17:51:29.870Z"
   },
   {
    "duration": 78,
    "start_time": "2022-07-30T17:51:30.105Z"
   },
   {
    "duration": 184,
    "start_time": "2022-07-30T17:51:30.186Z"
   },
   {
    "duration": 19,
    "start_time": "2022-07-30T17:51:30.373Z"
   },
   {
    "duration": 20,
    "start_time": "2022-07-30T17:51:30.394Z"
   },
   {
    "duration": 51,
    "start_time": "2022-07-30T17:51:30.416Z"
   },
   {
    "duration": 61,
    "start_time": "2022-07-30T17:51:30.469Z"
   },
   {
    "duration": 9,
    "start_time": "2022-07-30T17:51:30.532Z"
   },
   {
    "duration": 215,
    "start_time": "2022-07-30T17:51:30.543Z"
   },
   {
    "duration": 57,
    "start_time": "2022-07-30T17:51:30.760Z"
   },
   {
    "duration": 59,
    "start_time": "2022-07-30T17:51:30.819Z"
   },
   {
    "duration": 128,
    "start_time": "2022-07-30T17:51:30.880Z"
   },
   {
    "duration": 6,
    "start_time": "2022-07-30T17:51:31.011Z"
   },
   {
    "duration": 33,
    "start_time": "2022-07-30T17:51:31.019Z"
   },
   {
    "duration": 101,
    "start_time": "2022-07-30T17:51:31.054Z"
   },
   {
    "duration": 51,
    "start_time": "2022-07-30T17:51:31.157Z"
   },
   {
    "duration": 37,
    "start_time": "2022-07-30T17:51:31.210Z"
   },
   {
    "duration": 64,
    "start_time": "2022-07-30T17:51:31.251Z"
   },
   {
    "duration": 42,
    "start_time": "2022-07-30T17:51:31.317Z"
   },
   {
    "duration": 116,
    "start_time": "2022-07-30T17:51:31.361Z"
   },
   {
    "duration": 6,
    "start_time": "2022-07-30T17:51:31.480Z"
   },
   {
    "duration": 10,
    "start_time": "2022-07-30T17:51:31.487Z"
   },
   {
    "duration": 6,
    "start_time": "2022-07-30T17:51:31.510Z"
   },
   {
    "duration": 970,
    "start_time": "2022-07-30T17:51:31.518Z"
   },
   {
    "duration": 22,
    "start_time": "2022-07-30T17:51:32.490Z"
   },
   {
    "duration": 128,
    "start_time": "2022-07-30T17:51:32.514Z"
   },
   {
    "duration": 39,
    "start_time": "2022-07-30T17:51:32.645Z"
   },
   {
    "duration": 1064,
    "start_time": "2022-07-30T17:51:32.686Z"
   },
   {
    "duration": 178,
    "start_time": "2022-07-30T17:51:33.752Z"
   },
   {
    "duration": 203,
    "start_time": "2022-07-30T17:51:33.933Z"
   },
   {
    "duration": 944,
    "start_time": "2022-07-30T17:51:34.138Z"
   },
   {
    "duration": 1176,
    "start_time": "2022-07-30T17:51:35.084Z"
   },
   {
    "duration": 484,
    "start_time": "2022-07-30T17:51:36.261Z"
   },
   {
    "duration": 115,
    "start_time": "2022-07-30T17:51:36.747Z"
   },
   {
    "duration": 0,
    "start_time": "2022-07-30T17:51:36.864Z"
   },
   {
    "duration": 0,
    "start_time": "2022-07-30T17:51:36.865Z"
   },
   {
    "duration": 891,
    "start_time": "2022-07-30T17:52:54.497Z"
   },
   {
    "duration": 1106,
    "start_time": "2022-07-30T17:53:15.231Z"
   },
   {
    "duration": 20,
    "start_time": "2022-07-30T17:54:37.454Z"
   },
   {
    "duration": 45,
    "start_time": "2022-07-30T17:54:43.539Z"
   },
   {
    "duration": 16,
    "start_time": "2022-07-30T17:55:16.445Z"
   },
   {
    "duration": 75,
    "start_time": "2022-07-30T17:57:26.538Z"
   },
   {
    "duration": 3,
    "start_time": "2022-07-30T17:57:34.131Z"
   },
   {
    "duration": 93,
    "start_time": "2022-07-30T17:58:27.766Z"
   },
   {
    "duration": 73,
    "start_time": "2022-07-30T17:59:27.655Z"
   },
   {
    "duration": 141,
    "start_time": "2022-07-30T17:59:50.131Z"
   },
   {
    "duration": 12,
    "start_time": "2022-07-30T18:01:38.572Z"
   },
   {
    "duration": 6,
    "start_time": "2022-07-30T18:01:42.076Z"
   },
   {
    "duration": 22,
    "start_time": "2022-07-30T18:01:43.186Z"
   },
   {
    "duration": 10,
    "start_time": "2022-07-30T18:03:17.239Z"
   },
   {
    "duration": 1639,
    "start_time": "2022-07-30T18:21:11.162Z"
   },
   {
    "duration": 0,
    "start_time": "2022-07-30T18:21:12.806Z"
   },
   {
    "duration": 0,
    "start_time": "2022-07-30T18:21:12.808Z"
   },
   {
    "duration": 0,
    "start_time": "2022-07-30T18:21:12.809Z"
   },
   {
    "duration": 0,
    "start_time": "2022-07-30T18:21:12.810Z"
   },
   {
    "duration": 0,
    "start_time": "2022-07-30T18:21:12.811Z"
   },
   {
    "duration": 0,
    "start_time": "2022-07-30T18:21:12.812Z"
   },
   {
    "duration": 0,
    "start_time": "2022-07-30T18:21:12.813Z"
   },
   {
    "duration": 0,
    "start_time": "2022-07-30T18:21:12.814Z"
   },
   {
    "duration": 0,
    "start_time": "2022-07-30T18:21:12.815Z"
   },
   {
    "duration": 0,
    "start_time": "2022-07-30T18:21:12.817Z"
   },
   {
    "duration": 0,
    "start_time": "2022-07-30T18:21:12.818Z"
   },
   {
    "duration": 0,
    "start_time": "2022-07-30T18:21:12.819Z"
   },
   {
    "duration": 0,
    "start_time": "2022-07-30T18:21:12.820Z"
   },
   {
    "duration": 0,
    "start_time": "2022-07-30T18:21:12.821Z"
   },
   {
    "duration": 0,
    "start_time": "2022-07-30T18:21:12.822Z"
   },
   {
    "duration": 0,
    "start_time": "2022-07-30T18:21:12.823Z"
   },
   {
    "duration": 0,
    "start_time": "2022-07-30T18:21:12.828Z"
   },
   {
    "duration": 0,
    "start_time": "2022-07-30T18:21:12.829Z"
   },
   {
    "duration": 0,
    "start_time": "2022-07-30T18:21:12.830Z"
   },
   {
    "duration": 0,
    "start_time": "2022-07-30T18:21:12.833Z"
   },
   {
    "duration": 0,
    "start_time": "2022-07-30T18:21:12.834Z"
   },
   {
    "duration": 0,
    "start_time": "2022-07-30T18:21:12.835Z"
   },
   {
    "duration": 0,
    "start_time": "2022-07-30T18:21:12.836Z"
   },
   {
    "duration": 0,
    "start_time": "2022-07-30T18:21:12.837Z"
   },
   {
    "duration": 0,
    "start_time": "2022-07-30T18:21:12.839Z"
   },
   {
    "duration": 0,
    "start_time": "2022-07-30T18:21:12.840Z"
   },
   {
    "duration": 0,
    "start_time": "2022-07-30T18:21:12.841Z"
   },
   {
    "duration": 0,
    "start_time": "2022-07-30T18:21:12.843Z"
   },
   {
    "duration": 0,
    "start_time": "2022-07-30T18:21:12.847Z"
   },
   {
    "duration": 0,
    "start_time": "2022-07-30T18:21:12.848Z"
   },
   {
    "duration": 0,
    "start_time": "2022-07-30T18:21:12.851Z"
   },
   {
    "duration": 0,
    "start_time": "2022-07-30T18:21:12.920Z"
   },
   {
    "duration": 0,
    "start_time": "2022-07-30T18:21:12.925Z"
   },
   {
    "duration": 0,
    "start_time": "2022-07-30T18:21:12.927Z"
   },
   {
    "duration": 0,
    "start_time": "2022-07-30T18:21:12.929Z"
   },
   {
    "duration": 0,
    "start_time": "2022-07-30T18:21:12.930Z"
   },
   {
    "duration": 0,
    "start_time": "2022-07-30T18:21:12.932Z"
   },
   {
    "duration": 0,
    "start_time": "2022-07-30T18:21:12.933Z"
   },
   {
    "duration": 0,
    "start_time": "2022-07-30T18:21:12.934Z"
   },
   {
    "duration": 0,
    "start_time": "2022-07-30T18:21:12.936Z"
   },
   {
    "duration": 0,
    "start_time": "2022-07-30T18:21:12.937Z"
   },
   {
    "duration": 1,
    "start_time": "2022-07-30T18:21:12.937Z"
   },
   {
    "duration": 0,
    "start_time": "2022-07-30T18:21:12.939Z"
   },
   {
    "duration": 4,
    "start_time": "2022-07-30T18:21:37.727Z"
   },
   {
    "duration": 10,
    "start_time": "2022-07-30T18:24:14.913Z"
   },
   {
    "duration": 5,
    "start_time": "2022-07-30T18:26:21.865Z"
   },
   {
    "duration": 1439,
    "start_time": "2022-07-30T18:26:44.515Z"
   },
   {
    "duration": 728,
    "start_time": "2022-07-30T18:26:45.956Z"
   },
   {
    "duration": 155,
    "start_time": "2022-07-30T18:26:46.686Z"
   },
   {
    "duration": 5,
    "start_time": "2022-07-30T18:26:46.843Z"
   },
   {
    "duration": 841,
    "start_time": "2022-07-30T18:26:46.850Z"
   },
   {
    "duration": 23,
    "start_time": "2022-07-30T18:26:47.693Z"
   },
   {
    "duration": 12,
    "start_time": "2022-07-30T18:26:47.717Z"
   },
   {
    "duration": 243,
    "start_time": "2022-07-30T18:26:47.731Z"
   },
   {
    "duration": 80,
    "start_time": "2022-07-30T18:26:47.976Z"
   },
   {
    "duration": 174,
    "start_time": "2022-07-30T18:26:48.059Z"
   },
   {
    "duration": 17,
    "start_time": "2022-07-30T18:26:48.235Z"
   },
   {
    "duration": 45,
    "start_time": "2022-07-30T18:26:48.253Z"
   },
   {
    "duration": 59,
    "start_time": "2022-07-30T18:26:48.300Z"
   },
   {
    "duration": 41,
    "start_time": "2022-07-30T18:26:48.360Z"
   },
   {
    "duration": 9,
    "start_time": "2022-07-30T18:26:48.410Z"
   },
   {
    "duration": 194,
    "start_time": "2022-07-30T18:26:48.420Z"
   },
   {
    "duration": 44,
    "start_time": "2022-07-30T18:26:48.615Z"
   },
   {
    "duration": 59,
    "start_time": "2022-07-30T18:26:48.661Z"
   },
   {
    "duration": 144,
    "start_time": "2022-07-30T18:26:48.722Z"
   },
   {
    "duration": 6,
    "start_time": "2022-07-30T18:26:48.867Z"
   },
   {
    "duration": 18,
    "start_time": "2022-07-30T18:26:48.875Z"
   },
   {
    "duration": 60,
    "start_time": "2022-07-30T18:26:48.894Z"
   },
   {
    "duration": 43,
    "start_time": "2022-07-30T18:26:48.955Z"
   },
   {
    "duration": 28,
    "start_time": "2022-07-30T18:26:49.011Z"
   },
   {
    "duration": 70,
    "start_time": "2022-07-30T18:26:49.041Z"
   },
   {
    "duration": 41,
    "start_time": "2022-07-30T18:26:49.113Z"
   },
   {
    "duration": 113,
    "start_time": "2022-07-30T18:26:49.156Z"
   },
   {
    "duration": 6,
    "start_time": "2022-07-30T18:26:49.272Z"
   },
   {
    "duration": 14,
    "start_time": "2022-07-30T18:26:49.280Z"
   },
   {
    "duration": 16,
    "start_time": "2022-07-30T18:26:49.295Z"
   },
   {
    "duration": 843,
    "start_time": "2022-07-30T18:26:49.313Z"
   },
   {
    "duration": 16,
    "start_time": "2022-07-30T18:26:50.158Z"
   },
   {
    "duration": 114,
    "start_time": "2022-07-30T18:26:50.176Z"
   },
   {
    "duration": 49,
    "start_time": "2022-07-30T18:26:50.292Z"
   },
   {
    "duration": 1001,
    "start_time": "2022-07-30T18:26:50.343Z"
   },
   {
    "duration": 142,
    "start_time": "2022-07-30T18:26:51.346Z"
   },
   {
    "duration": 186,
    "start_time": "2022-07-30T18:26:51.490Z"
   },
   {
    "duration": 969,
    "start_time": "2022-07-30T18:26:51.678Z"
   },
   {
    "duration": 1142,
    "start_time": "2022-07-30T18:26:52.649Z"
   },
   {
    "duration": 477,
    "start_time": "2022-07-30T18:26:53.793Z"
   },
   {
    "duration": 3,
    "start_time": "2022-07-30T18:26:54.272Z"
   },
   {
    "duration": 101,
    "start_time": "2022-07-30T18:26:54.276Z"
   },
   {
    "duration": 4,
    "start_time": "2022-07-30T18:26:54.379Z"
   },
   {
    "duration": 23,
    "start_time": "2022-07-30T18:26:54.385Z"
   },
   {
    "duration": 1490,
    "start_time": "2022-07-30T18:29:07.794Z"
   },
   {
    "duration": 752,
    "start_time": "2022-07-30T18:29:09.286Z"
   },
   {
    "duration": 132,
    "start_time": "2022-07-30T18:29:10.040Z"
   },
   {
    "duration": 10,
    "start_time": "2022-07-30T18:29:10.175Z"
   },
   {
    "duration": 874,
    "start_time": "2022-07-30T18:29:10.187Z"
   },
   {
    "duration": 14,
    "start_time": "2022-07-30T18:29:11.063Z"
   },
   {
    "duration": 11,
    "start_time": "2022-07-30T18:29:11.079Z"
   },
   {
    "duration": 233,
    "start_time": "2022-07-30T18:29:11.092Z"
   },
   {
    "duration": 85,
    "start_time": "2022-07-30T18:29:11.327Z"
   },
   {
    "duration": 166,
    "start_time": "2022-07-30T18:29:11.414Z"
   },
   {
    "duration": 31,
    "start_time": "2022-07-30T18:29:11.582Z"
   },
   {
    "duration": 5,
    "start_time": "2022-07-30T18:29:11.614Z"
   },
   {
    "duration": 50,
    "start_time": "2022-07-30T18:29:11.621Z"
   },
   {
    "duration": 59,
    "start_time": "2022-07-30T18:29:11.673Z"
   },
   {
    "duration": 9,
    "start_time": "2022-07-30T18:29:11.734Z"
   },
   {
    "duration": 249,
    "start_time": "2022-07-30T18:29:11.744Z"
   },
   {
    "duration": 64,
    "start_time": "2022-07-30T18:29:11.996Z"
   },
   {
    "duration": 63,
    "start_time": "2022-07-30T18:29:12.062Z"
   },
   {
    "duration": 137,
    "start_time": "2022-07-30T18:29:12.127Z"
   },
   {
    "duration": 8,
    "start_time": "2022-07-30T18:29:12.266Z"
   },
   {
    "duration": 8,
    "start_time": "2022-07-30T18:29:12.275Z"
   },
   {
    "duration": 72,
    "start_time": "2022-07-30T18:29:12.285Z"
   },
   {
    "duration": 61,
    "start_time": "2022-07-30T18:29:12.359Z"
   },
   {
    "duration": 27,
    "start_time": "2022-07-30T18:29:12.422Z"
   },
   {
    "duration": 72,
    "start_time": "2022-07-30T18:29:12.451Z"
   },
   {
    "duration": 41,
    "start_time": "2022-07-30T18:29:12.524Z"
   },
   {
    "duration": 115,
    "start_time": "2022-07-30T18:29:12.566Z"
   },
   {
    "duration": 6,
    "start_time": "2022-07-30T18:29:12.685Z"
   },
   {
    "duration": 21,
    "start_time": "2022-07-30T18:29:12.693Z"
   },
   {
    "duration": 6,
    "start_time": "2022-07-30T18:29:12.717Z"
   },
   {
    "duration": 818,
    "start_time": "2022-07-30T18:29:12.725Z"
   },
   {
    "duration": 16,
    "start_time": "2022-07-30T18:29:13.545Z"
   },
   {
    "duration": 113,
    "start_time": "2022-07-30T18:29:13.562Z"
   },
   {
    "duration": 45,
    "start_time": "2022-07-30T18:29:13.677Z"
   },
   {
    "duration": 978,
    "start_time": "2022-07-30T18:29:13.724Z"
   },
   {
    "duration": 148,
    "start_time": "2022-07-30T18:29:14.703Z"
   },
   {
    "duration": 194,
    "start_time": "2022-07-30T18:29:14.852Z"
   },
   {
    "duration": 954,
    "start_time": "2022-07-30T18:29:15.048Z"
   },
   {
    "duration": 1117,
    "start_time": "2022-07-30T18:29:16.004Z"
   },
   {
    "duration": 470,
    "start_time": "2022-07-30T18:29:17.123Z"
   },
   {
    "duration": 3,
    "start_time": "2022-07-30T18:29:17.595Z"
   },
   {
    "duration": 89,
    "start_time": "2022-07-30T18:29:17.610Z"
   },
   {
    "duration": 10,
    "start_time": "2022-07-30T18:29:17.701Z"
   },
   {
    "duration": 10,
    "start_time": "2022-07-30T18:29:17.712Z"
   },
   {
    "duration": 1573,
    "start_time": "2022-07-30T18:32:59.714Z"
   },
   {
    "duration": 888,
    "start_time": "2022-07-30T18:33:01.289Z"
   },
   {
    "duration": 154,
    "start_time": "2022-07-30T18:33:02.179Z"
   },
   {
    "duration": 5,
    "start_time": "2022-07-30T18:33:02.336Z"
   },
   {
    "duration": 911,
    "start_time": "2022-07-30T18:33:02.342Z"
   },
   {
    "duration": 19,
    "start_time": "2022-07-30T18:33:03.255Z"
   },
   {
    "duration": 13,
    "start_time": "2022-07-30T18:33:03.275Z"
   },
   {
    "duration": 225,
    "start_time": "2022-07-30T18:33:03.311Z"
   },
   {
    "duration": 91,
    "start_time": "2022-07-30T18:33:03.537Z"
   },
   {
    "duration": 186,
    "start_time": "2022-07-30T18:33:03.631Z"
   },
   {
    "duration": 19,
    "start_time": "2022-07-30T18:33:03.818Z"
   },
   {
    "duration": 26,
    "start_time": "2022-07-30T18:33:03.839Z"
   },
   {
    "duration": 65,
    "start_time": "2022-07-30T18:33:03.867Z"
   },
   {
    "duration": 44,
    "start_time": "2022-07-30T18:33:03.933Z"
   },
   {
    "duration": 35,
    "start_time": "2022-07-30T18:33:03.980Z"
   },
   {
    "duration": 217,
    "start_time": "2022-07-30T18:33:04.017Z"
   },
   {
    "duration": 50,
    "start_time": "2022-07-30T18:33:04.237Z"
   },
   {
    "duration": 67,
    "start_time": "2022-07-30T18:33:04.288Z"
   },
   {
    "duration": 150,
    "start_time": "2022-07-30T18:33:04.357Z"
   },
   {
    "duration": 8,
    "start_time": "2022-07-30T18:33:04.510Z"
   },
   {
    "duration": 18,
    "start_time": "2022-07-30T18:33:04.519Z"
   },
   {
    "duration": 81,
    "start_time": "2022-07-30T18:33:04.538Z"
   },
   {
    "duration": 45,
    "start_time": "2022-07-30T18:33:04.621Z"
   },
   {
    "duration": 47,
    "start_time": "2022-07-30T18:33:04.668Z"
   },
   {
    "duration": 62,
    "start_time": "2022-07-30T18:33:04.717Z"
   },
   {
    "duration": 68,
    "start_time": "2022-07-30T18:33:04.782Z"
   },
   {
    "duration": 129,
    "start_time": "2022-07-30T18:33:04.852Z"
   },
   {
    "duration": 7,
    "start_time": "2022-07-30T18:33:04.986Z"
   },
   {
    "duration": 49,
    "start_time": "2022-07-30T18:33:04.995Z"
   },
   {
    "duration": 24,
    "start_time": "2022-07-30T18:33:05.046Z"
   },
   {
    "duration": 955,
    "start_time": "2022-07-30T18:33:05.072Z"
   },
   {
    "duration": 17,
    "start_time": "2022-07-30T18:33:06.029Z"
   },
   {
    "duration": 147,
    "start_time": "2022-07-30T18:33:06.047Z"
   },
   {
    "duration": 43,
    "start_time": "2022-07-30T18:33:06.196Z"
   },
   {
    "duration": 1164,
    "start_time": "2022-07-30T18:33:06.241Z"
   },
   {
    "duration": 141,
    "start_time": "2022-07-30T18:33:07.407Z"
   },
   {
    "duration": 191,
    "start_time": "2022-07-30T18:33:07.550Z"
   },
   {
    "duration": 882,
    "start_time": "2022-07-30T18:33:07.743Z"
   },
   {
    "duration": 1148,
    "start_time": "2022-07-30T18:33:08.626Z"
   },
   {
    "duration": 476,
    "start_time": "2022-07-30T18:33:09.775Z"
   },
   {
    "duration": 3,
    "start_time": "2022-07-30T18:33:10.253Z"
   },
   {
    "duration": 105,
    "start_time": "2022-07-30T18:33:10.258Z"
   },
   {
    "duration": 4,
    "start_time": "2022-07-30T18:33:10.365Z"
   },
   {
    "duration": 10,
    "start_time": "2022-07-30T18:33:10.371Z"
   },
   {
    "duration": 1565,
    "start_time": "2022-07-30T18:41:51.283Z"
   },
   {
    "duration": 762,
    "start_time": "2022-07-30T18:41:52.850Z"
   },
   {
    "duration": 155,
    "start_time": "2022-07-30T18:41:53.614Z"
   },
   {
    "duration": 7,
    "start_time": "2022-07-30T18:41:53.771Z"
   },
   {
    "duration": 902,
    "start_time": "2022-07-30T18:41:53.779Z"
   },
   {
    "duration": 28,
    "start_time": "2022-07-30T18:41:54.683Z"
   },
   {
    "duration": 13,
    "start_time": "2022-07-30T18:41:54.712Z"
   },
   {
    "duration": 238,
    "start_time": "2022-07-30T18:41:54.727Z"
   },
   {
    "duration": 87,
    "start_time": "2022-07-30T18:41:54.967Z"
   },
   {
    "duration": 187,
    "start_time": "2022-07-30T18:41:55.057Z"
   },
   {
    "duration": 20,
    "start_time": "2022-07-30T18:41:55.246Z"
   },
   {
    "duration": 6,
    "start_time": "2022-07-30T18:41:55.268Z"
   },
   {
    "duration": 103,
    "start_time": "2022-07-30T18:41:55.276Z"
   },
   {
    "duration": 52,
    "start_time": "2022-07-30T18:41:55.381Z"
   },
   {
    "duration": 9,
    "start_time": "2022-07-30T18:41:55.434Z"
   },
   {
    "duration": 217,
    "start_time": "2022-07-30T18:41:55.445Z"
   },
   {
    "duration": 63,
    "start_time": "2022-07-30T18:41:55.664Z"
   },
   {
    "duration": 45,
    "start_time": "2022-07-30T18:41:55.728Z"
   },
   {
    "duration": 150,
    "start_time": "2022-07-30T18:41:55.775Z"
   },
   {
    "duration": 9,
    "start_time": "2022-07-30T18:41:55.926Z"
   },
   {
    "duration": 33,
    "start_time": "2022-07-30T18:41:55.937Z"
   },
   {
    "duration": 74,
    "start_time": "2022-07-30T18:41:55.971Z"
   },
   {
    "duration": 43,
    "start_time": "2022-07-30T18:41:56.046Z"
   },
   {
    "duration": 39,
    "start_time": "2022-07-30T18:41:56.091Z"
   },
   {
    "duration": 55,
    "start_time": "2022-07-30T18:41:56.132Z"
   },
   {
    "duration": 59,
    "start_time": "2022-07-30T18:41:56.189Z"
   },
   {
    "duration": 124,
    "start_time": "2022-07-30T18:41:56.251Z"
   },
   {
    "duration": 8,
    "start_time": "2022-07-30T18:41:56.379Z"
   },
   {
    "duration": 24,
    "start_time": "2022-07-30T18:41:56.389Z"
   },
   {
    "duration": 9,
    "start_time": "2022-07-30T18:41:56.415Z"
   },
   {
    "duration": 908,
    "start_time": "2022-07-30T18:41:56.425Z"
   },
   {
    "duration": 18,
    "start_time": "2022-07-30T18:41:57.335Z"
   },
   {
    "duration": 162,
    "start_time": "2022-07-30T18:41:57.354Z"
   },
   {
    "duration": 40,
    "start_time": "2022-07-30T18:41:57.519Z"
   },
   {
    "duration": 1219,
    "start_time": "2022-07-30T18:41:57.560Z"
   },
   {
    "duration": 174,
    "start_time": "2022-07-30T18:41:58.781Z"
   },
   {
    "duration": 195,
    "start_time": "2022-07-30T18:41:58.957Z"
   },
   {
    "duration": 943,
    "start_time": "2022-07-30T18:41:59.155Z"
   },
   {
    "duration": 1158,
    "start_time": "2022-07-30T18:42:00.101Z"
   },
   {
    "duration": 497,
    "start_time": "2022-07-30T18:42:01.261Z"
   },
   {
    "duration": 4,
    "start_time": "2022-07-30T18:42:01.759Z"
   },
   {
    "duration": 130,
    "start_time": "2022-07-30T18:42:01.764Z"
   },
   {
    "duration": 13,
    "start_time": "2022-07-30T18:42:01.897Z"
   },
   {
    "duration": 29,
    "start_time": "2022-07-30T18:42:01.913Z"
   },
   {
    "duration": 28,
    "start_time": "2022-07-30T18:42:01.945Z"
   },
   {
    "duration": 1585,
    "start_time": "2022-07-30T18:48:09.738Z"
   },
   {
    "duration": 921,
    "start_time": "2022-07-30T18:48:11.326Z"
   },
   {
    "duration": 145,
    "start_time": "2022-07-30T18:48:12.249Z"
   },
   {
    "duration": 13,
    "start_time": "2022-07-30T18:48:12.398Z"
   },
   {
    "duration": 939,
    "start_time": "2022-07-30T18:48:12.413Z"
   },
   {
    "duration": 15,
    "start_time": "2022-07-30T18:48:13.354Z"
   },
   {
    "duration": 13,
    "start_time": "2022-07-30T18:48:13.371Z"
   },
   {
    "duration": 245,
    "start_time": "2022-07-30T18:48:13.386Z"
   },
   {
    "duration": 87,
    "start_time": "2022-07-30T18:48:13.633Z"
   },
   {
    "duration": 175,
    "start_time": "2022-07-30T18:48:13.723Z"
   },
   {
    "duration": 27,
    "start_time": "2022-07-30T18:48:13.899Z"
   },
   {
    "duration": 7,
    "start_time": "2022-07-30T18:48:13.928Z"
   },
   {
    "duration": 58,
    "start_time": "2022-07-30T18:48:13.936Z"
   },
   {
    "duration": 51,
    "start_time": "2022-07-30T18:48:13.996Z"
   },
   {
    "duration": 8,
    "start_time": "2022-07-30T18:48:14.048Z"
   },
   {
    "duration": 206,
    "start_time": "2022-07-30T18:48:14.057Z"
   },
   {
    "duration": 55,
    "start_time": "2022-07-30T18:48:14.265Z"
   },
   {
    "duration": 42,
    "start_time": "2022-07-30T18:48:14.322Z"
   },
   {
    "duration": 151,
    "start_time": "2022-07-30T18:48:14.366Z"
   },
   {
    "duration": 6,
    "start_time": "2022-07-30T18:48:14.518Z"
   },
   {
    "duration": 7,
    "start_time": "2022-07-30T18:48:14.525Z"
   },
   {
    "duration": 47,
    "start_time": "2022-07-30T18:48:14.533Z"
   },
   {
    "duration": 80,
    "start_time": "2022-07-30T18:48:14.582Z"
   },
   {
    "duration": 28,
    "start_time": "2022-07-30T18:48:14.664Z"
   },
   {
    "duration": 72,
    "start_time": "2022-07-30T18:48:14.694Z"
   },
   {
    "duration": 62,
    "start_time": "2022-07-30T18:48:14.768Z"
   },
   {
    "duration": 135,
    "start_time": "2022-07-30T18:48:14.832Z"
   },
   {
    "duration": 6,
    "start_time": "2022-07-30T18:48:14.970Z"
   },
   {
    "duration": 13,
    "start_time": "2022-07-30T18:48:14.978Z"
   },
   {
    "duration": 22,
    "start_time": "2022-07-30T18:48:14.992Z"
   },
   {
    "duration": 924,
    "start_time": "2022-07-30T18:48:15.016Z"
   },
   {
    "duration": 17,
    "start_time": "2022-07-30T18:48:15.942Z"
   },
   {
    "duration": 118,
    "start_time": "2022-07-30T18:48:15.960Z"
   },
   {
    "duration": 38,
    "start_time": "2022-07-30T18:48:16.080Z"
   },
   {
    "duration": 1029,
    "start_time": "2022-07-30T18:48:16.120Z"
   },
   {
    "duration": 139,
    "start_time": "2022-07-30T18:48:17.151Z"
   },
   {
    "duration": 184,
    "start_time": "2022-07-30T18:48:17.292Z"
   },
   {
    "duration": 886,
    "start_time": "2022-07-30T18:48:17.478Z"
   },
   {
    "duration": 1083,
    "start_time": "2022-07-30T18:48:18.366Z"
   },
   {
    "duration": 469,
    "start_time": "2022-07-30T18:48:19.451Z"
   },
   {
    "duration": 3,
    "start_time": "2022-07-30T18:48:19.922Z"
   },
   {
    "duration": 103,
    "start_time": "2022-07-30T18:48:19.926Z"
   },
   {
    "duration": 5,
    "start_time": "2022-07-30T18:48:20.031Z"
   },
   {
    "duration": 20,
    "start_time": "2022-07-30T18:48:20.038Z"
   },
   {
    "duration": 418102,
    "start_time": "2022-07-30T18:48:20.060Z"
   },
   {
    "duration": 1417,
    "start_time": "2022-07-30T18:57:45.450Z"
   },
   {
    "duration": 754,
    "start_time": "2022-07-30T18:57:46.869Z"
   },
   {
    "duration": 149,
    "start_time": "2022-07-30T18:57:47.625Z"
   },
   {
    "duration": 6,
    "start_time": "2022-07-30T18:57:47.777Z"
   },
   {
    "duration": 872,
    "start_time": "2022-07-30T18:57:47.785Z"
   },
   {
    "duration": 14,
    "start_time": "2022-07-30T18:57:48.659Z"
   },
   {
    "duration": 11,
    "start_time": "2022-07-30T18:57:48.675Z"
   },
   {
    "duration": 236,
    "start_time": "2022-07-30T18:57:48.688Z"
   },
   {
    "duration": 85,
    "start_time": "2022-07-30T18:57:48.926Z"
   },
   {
    "duration": 162,
    "start_time": "2022-07-30T18:57:49.014Z"
   },
   {
    "duration": 16,
    "start_time": "2022-07-30T18:57:49.178Z"
   },
   {
    "duration": 7,
    "start_time": "2022-07-30T18:57:49.211Z"
   },
   {
    "duration": 49,
    "start_time": "2022-07-30T18:57:49.220Z"
   },
   {
    "duration": 61,
    "start_time": "2022-07-30T18:57:49.272Z"
   },
   {
    "duration": 8,
    "start_time": "2022-07-30T18:57:49.335Z"
   },
   {
    "duration": 197,
    "start_time": "2022-07-30T18:57:49.345Z"
   },
   {
    "duration": 46,
    "start_time": "2022-07-30T18:57:49.543Z"
   },
   {
    "duration": 56,
    "start_time": "2022-07-30T18:57:49.591Z"
   },
   {
    "duration": 139,
    "start_time": "2022-07-30T18:57:49.649Z"
   },
   {
    "duration": 20,
    "start_time": "2022-07-30T18:57:49.790Z"
   },
   {
    "duration": 6,
    "start_time": "2022-07-30T18:57:49.812Z"
   },
   {
    "duration": 50,
    "start_time": "2022-07-30T18:57:49.820Z"
   },
   {
    "duration": 64,
    "start_time": "2022-07-30T18:57:49.872Z"
   },
   {
    "duration": 29,
    "start_time": "2022-07-30T18:57:49.938Z"
   },
   {
    "duration": 72,
    "start_time": "2022-07-30T18:57:49.968Z"
   },
   {
    "duration": 44,
    "start_time": "2022-07-30T18:57:50.042Z"
   },
   {
    "duration": 123,
    "start_time": "2022-07-30T18:57:50.088Z"
   },
   {
    "duration": 7,
    "start_time": "2022-07-30T18:57:50.214Z"
   },
   {
    "duration": 23,
    "start_time": "2022-07-30T18:57:50.222Z"
   },
   {
    "duration": 5,
    "start_time": "2022-07-30T18:57:50.247Z"
   },
   {
    "duration": 859,
    "start_time": "2022-07-30T18:57:50.254Z"
   },
   {
    "duration": 16,
    "start_time": "2022-07-30T18:57:51.114Z"
   },
   {
    "duration": 121,
    "start_time": "2022-07-30T18:57:51.132Z"
   },
   {
    "duration": 39,
    "start_time": "2022-07-30T18:57:51.255Z"
   },
   {
    "duration": 1074,
    "start_time": "2022-07-30T18:57:51.295Z"
   },
   {
    "duration": 146,
    "start_time": "2022-07-30T18:57:52.370Z"
   },
   {
    "duration": 205,
    "start_time": "2022-07-30T18:57:52.518Z"
   },
   {
    "duration": 901,
    "start_time": "2022-07-30T18:57:52.725Z"
   },
   {
    "duration": 1107,
    "start_time": "2022-07-30T18:57:53.628Z"
   },
   {
    "duration": 497,
    "start_time": "2022-07-30T18:57:54.736Z"
   },
   {
    "duration": 3,
    "start_time": "2022-07-30T18:57:55.235Z"
   },
   {
    "duration": 138,
    "start_time": "2022-07-30T18:57:55.240Z"
   },
   {
    "duration": 4,
    "start_time": "2022-07-30T18:57:55.380Z"
   },
   {
    "duration": 28,
    "start_time": "2022-07-30T18:57:55.386Z"
   },
   {
    "duration": 315290,
    "start_time": "2022-07-30T18:57:55.416Z"
   },
   {
    "duration": 5,
    "start_time": "2022-07-30T19:03:47.849Z"
   },
   {
    "duration": 3,
    "start_time": "2022-07-30T19:07:36.670Z"
   },
   {
    "duration": 3,
    "start_time": "2022-07-30T19:08:25.898Z"
   },
   {
    "duration": 5,
    "start_time": "2022-07-30T19:08:36.189Z"
   },
   {
    "duration": 4,
    "start_time": "2022-07-30T19:10:18.604Z"
   },
   {
    "duration": 89,
    "start_time": "2022-07-30T19:13:34.843Z"
   },
   {
    "duration": 117,
    "start_time": "2022-07-30T19:14:33.318Z"
   },
   {
    "duration": 5,
    "start_time": "2022-07-30T19:14:39.149Z"
   },
   {
    "duration": 4,
    "start_time": "2022-07-30T19:14:40.241Z"
   },
   {
    "duration": 6622,
    "start_time": "2022-07-30T19:15:03.944Z"
   },
   {
    "duration": 72,
    "start_time": "2022-07-30T19:17:23.686Z"
   },
   {
    "duration": 6832,
    "start_time": "2022-07-30T19:17:31.139Z"
   },
   {
    "duration": 6665,
    "start_time": "2022-07-30T19:18:02.255Z"
   },
   {
    "duration": 1531,
    "start_time": "2022-07-30T19:28:38.444Z"
   },
   {
    "duration": 795,
    "start_time": "2022-07-30T19:28:39.978Z"
   },
   {
    "duration": 215,
    "start_time": "2022-07-30T19:28:40.775Z"
   },
   {
    "duration": 6,
    "start_time": "2022-07-30T19:28:40.992Z"
   },
   {
    "duration": 951,
    "start_time": "2022-07-30T19:28:41.010Z"
   },
   {
    "duration": 21,
    "start_time": "2022-07-30T19:28:41.964Z"
   },
   {
    "duration": 36,
    "start_time": "2022-07-30T19:28:41.988Z"
   },
   {
    "duration": 306,
    "start_time": "2022-07-30T19:28:42.026Z"
   },
   {
    "duration": 108,
    "start_time": "2022-07-30T19:28:42.334Z"
   },
   {
    "duration": 181,
    "start_time": "2022-07-30T19:28:42.446Z"
   },
   {
    "duration": 17,
    "start_time": "2022-07-30T19:28:42.629Z"
   },
   {
    "duration": 6,
    "start_time": "2022-07-30T19:28:42.648Z"
   },
   {
    "duration": 72,
    "start_time": "2022-07-30T19:28:42.656Z"
   },
   {
    "duration": 42,
    "start_time": "2022-07-30T19:28:42.730Z"
   },
   {
    "duration": 13,
    "start_time": "2022-07-30T19:28:42.774Z"
   },
   {
    "duration": 261,
    "start_time": "2022-07-30T19:28:42.789Z"
   },
   {
    "duration": 46,
    "start_time": "2022-07-30T19:28:43.052Z"
   },
   {
    "duration": 44,
    "start_time": "2022-07-30T19:28:43.111Z"
   },
   {
    "duration": 161,
    "start_time": "2022-07-30T19:28:43.157Z"
   },
   {
    "duration": 7,
    "start_time": "2022-07-30T19:28:43.321Z"
   },
   {
    "duration": 10,
    "start_time": "2022-07-30T19:28:43.330Z"
   },
   {
    "duration": 69,
    "start_time": "2022-07-30T19:28:43.342Z"
   },
   {
    "duration": 45,
    "start_time": "2022-07-30T19:28:43.414Z"
   },
   {
    "duration": 50,
    "start_time": "2022-07-30T19:28:43.461Z"
   },
   {
    "duration": 57,
    "start_time": "2022-07-30T19:28:43.513Z"
   },
   {
    "duration": 60,
    "start_time": "2022-07-30T19:28:43.573Z"
   },
   {
    "duration": 106,
    "start_time": "2022-07-30T19:28:43.635Z"
   },
   {
    "duration": 6,
    "start_time": "2022-07-30T19:28:43.745Z"
   },
   {
    "duration": 9,
    "start_time": "2022-07-30T19:28:43.752Z"
   },
   {
    "duration": 6,
    "start_time": "2022-07-30T19:28:43.763Z"
   },
   {
    "duration": 896,
    "start_time": "2022-07-30T19:28:43.771Z"
   },
   {
    "duration": 17,
    "start_time": "2022-07-30T19:28:44.669Z"
   },
   {
    "duration": 122,
    "start_time": "2022-07-30T19:28:44.688Z"
   },
   {
    "duration": 36,
    "start_time": "2022-07-30T19:28:44.812Z"
   },
   {
    "duration": 1086,
    "start_time": "2022-07-30T19:28:44.850Z"
   },
   {
    "duration": 148,
    "start_time": "2022-07-30T19:28:45.938Z"
   },
   {
    "duration": 199,
    "start_time": "2022-07-30T19:28:46.088Z"
   },
   {
    "duration": 937,
    "start_time": "2022-07-30T19:28:46.289Z"
   },
   {
    "duration": 1165,
    "start_time": "2022-07-30T19:28:47.227Z"
   },
   {
    "duration": 489,
    "start_time": "2022-07-30T19:28:48.394Z"
   },
   {
    "duration": 4,
    "start_time": "2022-07-30T19:28:48.885Z"
   },
   {
    "duration": 105,
    "start_time": "2022-07-30T19:28:48.891Z"
   },
   {
    "duration": 15,
    "start_time": "2022-07-30T19:28:48.999Z"
   },
   {
    "duration": 6,
    "start_time": "2022-07-30T19:28:49.017Z"
   },
   {
    "duration": 3324,
    "start_time": "2022-07-30T19:28:49.025Z"
   },
   {
    "duration": 0,
    "start_time": "2022-07-30T19:28:52.351Z"
   },
   {
    "duration": 0,
    "start_time": "2022-07-30T19:28:52.352Z"
   },
   {
    "duration": 5,
    "start_time": "2022-07-30T19:29:51.518Z"
   },
   {
    "duration": 3,
    "start_time": "2022-07-30T19:29:52.587Z"
   },
   {
    "duration": 3052,
    "start_time": "2022-07-30T19:29:54.222Z"
   },
   {
    "duration": 4,
    "start_time": "2022-07-30T19:30:27.563Z"
   },
   {
    "duration": 9,
    "start_time": "2022-07-30T19:30:35.605Z"
   },
   {
    "duration": 4,
    "start_time": "2022-07-30T19:30:46.154Z"
   },
   {
    "duration": 5,
    "start_time": "2022-07-30T19:30:55.770Z"
   },
   {
    "duration": 5,
    "start_time": "2022-07-30T19:31:53.455Z"
   },
   {
    "duration": 6,
    "start_time": "2022-07-30T19:31:54.683Z"
   },
   {
    "duration": 4,
    "start_time": "2022-07-30T19:31:55.949Z"
   },
   {
    "duration": 1540,
    "start_time": "2022-07-30T19:32:35.250Z"
   },
   {
    "duration": 766,
    "start_time": "2022-07-30T19:32:36.792Z"
   },
   {
    "duration": 185,
    "start_time": "2022-07-30T19:32:37.560Z"
   },
   {
    "duration": 6,
    "start_time": "2022-07-30T19:32:37.747Z"
   },
   {
    "duration": 946,
    "start_time": "2022-07-30T19:32:37.756Z"
   },
   {
    "duration": 23,
    "start_time": "2022-07-30T19:32:38.704Z"
   },
   {
    "duration": 17,
    "start_time": "2022-07-30T19:32:38.730Z"
   },
   {
    "duration": 256,
    "start_time": "2022-07-30T19:32:38.749Z"
   },
   {
    "duration": 82,
    "start_time": "2022-07-30T19:32:39.010Z"
   },
   {
    "duration": 182,
    "start_time": "2022-07-30T19:32:39.112Z"
   },
   {
    "duration": 28,
    "start_time": "2022-07-30T19:32:39.295Z"
   },
   {
    "duration": 6,
    "start_time": "2022-07-30T19:32:39.325Z"
   },
   {
    "duration": 49,
    "start_time": "2022-07-30T19:32:39.333Z"
   },
   {
    "duration": 44,
    "start_time": "2022-07-30T19:32:39.410Z"
   },
   {
    "duration": 10,
    "start_time": "2022-07-30T19:32:39.455Z"
   },
   {
    "duration": 254,
    "start_time": "2022-07-30T19:32:39.467Z"
   },
   {
    "duration": 59,
    "start_time": "2022-07-30T19:32:39.723Z"
   },
   {
    "duration": 66,
    "start_time": "2022-07-30T19:32:39.785Z"
   },
   {
    "duration": 149,
    "start_time": "2022-07-30T19:32:39.853Z"
   },
   {
    "duration": 8,
    "start_time": "2022-07-30T19:32:40.004Z"
   },
   {
    "duration": 8,
    "start_time": "2022-07-30T19:32:40.014Z"
   },
   {
    "duration": 51,
    "start_time": "2022-07-30T19:32:40.024Z"
   },
   {
    "duration": 70,
    "start_time": "2022-07-30T19:32:40.077Z"
   },
   {
    "duration": 29,
    "start_time": "2022-07-30T19:32:40.149Z"
   },
   {
    "duration": 78,
    "start_time": "2022-07-30T19:32:40.180Z"
   },
   {
    "duration": 63,
    "start_time": "2022-07-30T19:32:40.260Z"
   },
   {
    "duration": 125,
    "start_time": "2022-07-30T19:32:40.326Z"
   },
   {
    "duration": 8,
    "start_time": "2022-07-30T19:32:40.456Z"
   },
   {
    "duration": 16,
    "start_time": "2022-07-30T19:32:40.466Z"
   },
   {
    "duration": 27,
    "start_time": "2022-07-30T19:32:40.484Z"
   },
   {
    "duration": 893,
    "start_time": "2022-07-30T19:32:40.514Z"
   },
   {
    "duration": 16,
    "start_time": "2022-07-30T19:32:41.411Z"
   },
   {
    "duration": 126,
    "start_time": "2022-07-30T19:32:41.429Z"
   },
   {
    "duration": 37,
    "start_time": "2022-07-30T19:32:41.558Z"
   },
   {
    "duration": 1139,
    "start_time": "2022-07-30T19:32:41.597Z"
   },
   {
    "duration": 149,
    "start_time": "2022-07-30T19:32:42.738Z"
   },
   {
    "duration": 195,
    "start_time": "2022-07-30T19:32:42.889Z"
   },
   {
    "duration": 920,
    "start_time": "2022-07-30T19:32:43.085Z"
   },
   {
    "duration": 1183,
    "start_time": "2022-07-30T19:32:44.007Z"
   },
   {
    "duration": 514,
    "start_time": "2022-07-30T19:32:45.191Z"
   },
   {
    "duration": 3,
    "start_time": "2022-07-30T19:32:45.711Z"
   },
   {
    "duration": 136,
    "start_time": "2022-07-30T19:32:45.716Z"
   },
   {
    "duration": 4,
    "start_time": "2022-07-30T19:32:45.855Z"
   },
   {
    "duration": 13,
    "start_time": "2022-07-30T19:32:45.861Z"
   },
   {
    "duration": 99606,
    "start_time": "2022-07-30T19:32:45.876Z"
   },
   {
    "duration": 6,
    "start_time": "2022-07-30T19:34:25.484Z"
   },
   {
    "duration": 4753,
    "start_time": "2022-07-30T19:34:25.492Z"
   },
   {
    "duration": 1501,
    "start_time": "2022-07-30T19:47:29.487Z"
   },
   {
    "duration": 797,
    "start_time": "2022-07-30T19:47:30.990Z"
   },
   {
    "duration": 206,
    "start_time": "2022-07-30T19:47:31.790Z"
   },
   {
    "duration": 7,
    "start_time": "2022-07-30T19:47:32.010Z"
   },
   {
    "duration": 899,
    "start_time": "2022-07-30T19:47:32.019Z"
   },
   {
    "duration": 17,
    "start_time": "2022-07-30T19:47:32.919Z"
   },
   {
    "duration": 26,
    "start_time": "2022-07-30T19:47:32.938Z"
   },
   {
    "duration": 218,
    "start_time": "2022-07-30T19:47:32.966Z"
   },
   {
    "duration": 84,
    "start_time": "2022-07-30T19:47:33.186Z"
   },
   {
    "duration": 187,
    "start_time": "2022-07-30T19:47:33.273Z"
   },
   {
    "duration": 19,
    "start_time": "2022-07-30T19:47:33.462Z"
   },
   {
    "duration": 7,
    "start_time": "2022-07-30T19:47:33.483Z"
   },
   {
    "duration": 71,
    "start_time": "2022-07-30T19:47:33.491Z"
   },
   {
    "duration": 80,
    "start_time": "2022-07-30T19:47:33.564Z"
   },
   {
    "duration": 10,
    "start_time": "2022-07-30T19:47:33.646Z"
   },
   {
    "duration": 214,
    "start_time": "2022-07-30T19:47:33.658Z"
   },
   {
    "duration": 53,
    "start_time": "2022-07-30T19:47:33.874Z"
   },
   {
    "duration": 45,
    "start_time": "2022-07-30T19:47:33.929Z"
   },
   {
    "duration": 148,
    "start_time": "2022-07-30T19:47:33.976Z"
   },
   {
    "duration": 6,
    "start_time": "2022-07-30T19:47:34.126Z"
   },
   {
    "duration": 26,
    "start_time": "2022-07-30T19:47:34.134Z"
   },
   {
    "duration": 53,
    "start_time": "2022-07-30T19:47:34.162Z"
   },
   {
    "duration": 43,
    "start_time": "2022-07-30T19:47:34.217Z"
   },
   {
    "duration": 29,
    "start_time": "2022-07-30T19:47:34.261Z"
   },
   {
    "duration": 72,
    "start_time": "2022-07-30T19:47:34.292Z"
   },
   {
    "duration": 63,
    "start_time": "2022-07-30T19:47:34.366Z"
   },
   {
    "duration": 111,
    "start_time": "2022-07-30T19:47:34.430Z"
   },
   {
    "duration": 18,
    "start_time": "2022-07-30T19:47:34.545Z"
   },
   {
    "duration": 17,
    "start_time": "2022-07-30T19:47:34.564Z"
   },
   {
    "duration": 7,
    "start_time": "2022-07-30T19:47:34.583Z"
   },
   {
    "duration": 863,
    "start_time": "2022-07-30T19:47:34.591Z"
   },
   {
    "duration": 17,
    "start_time": "2022-07-30T19:47:35.456Z"
   },
   {
    "duration": 122,
    "start_time": "2022-07-30T19:47:35.474Z"
   },
   {
    "duration": 45,
    "start_time": "2022-07-30T19:47:35.598Z"
   },
   {
    "duration": 1126,
    "start_time": "2022-07-30T19:47:35.645Z"
   },
   {
    "duration": 142,
    "start_time": "2022-07-30T19:47:36.773Z"
   },
   {
    "duration": 194,
    "start_time": "2022-07-30T19:47:36.917Z"
   },
   {
    "duration": 925,
    "start_time": "2022-07-30T19:47:37.113Z"
   },
   {
    "duration": 1139,
    "start_time": "2022-07-30T19:47:38.040Z"
   },
   {
    "duration": 505,
    "start_time": "2022-07-30T19:47:39.181Z"
   },
   {
    "duration": 4,
    "start_time": "2022-07-30T19:47:39.687Z"
   },
   {
    "duration": 133,
    "start_time": "2022-07-30T19:47:39.694Z"
   },
   {
    "duration": 5,
    "start_time": "2022-07-30T19:47:39.829Z"
   },
   {
    "duration": 32,
    "start_time": "2022-07-30T19:47:39.837Z"
   },
   {
    "duration": 126560,
    "start_time": "2022-07-30T19:47:39.871Z"
   },
   {
    "duration": 6,
    "start_time": "2022-07-30T19:49:46.433Z"
   },
   {
    "duration": 5166,
    "start_time": "2022-07-30T19:49:46.441Z"
   },
   {
    "duration": 1671,
    "start_time": "2022-07-30T19:51:40.468Z"
   },
   {
    "duration": 861,
    "start_time": "2022-07-30T19:51:42.142Z"
   },
   {
    "duration": 154,
    "start_time": "2022-07-30T19:51:43.005Z"
   },
   {
    "duration": 6,
    "start_time": "2022-07-30T19:51:43.161Z"
   },
   {
    "duration": 1277,
    "start_time": "2022-07-30T19:51:43.169Z"
   },
   {
    "duration": 25,
    "start_time": "2022-07-30T19:51:44.449Z"
   },
   {
    "duration": 36,
    "start_time": "2022-07-30T19:51:44.476Z"
   },
   {
    "duration": 234,
    "start_time": "2022-07-30T19:51:44.515Z"
   },
   {
    "duration": 120,
    "start_time": "2022-07-30T19:51:44.752Z"
   },
   {
    "duration": 186,
    "start_time": "2022-07-30T19:51:44.877Z"
   },
   {
    "duration": 20,
    "start_time": "2022-07-30T19:51:45.066Z"
   },
   {
    "duration": 37,
    "start_time": "2022-07-30T19:51:45.088Z"
   },
   {
    "duration": 72,
    "start_time": "2022-07-30T19:51:45.127Z"
   },
   {
    "duration": 55,
    "start_time": "2022-07-30T19:51:45.201Z"
   },
   {
    "duration": 10,
    "start_time": "2022-07-30T19:51:45.258Z"
   },
   {
    "duration": 228,
    "start_time": "2022-07-30T19:51:45.270Z"
   },
   {
    "duration": 57,
    "start_time": "2022-07-30T19:51:45.500Z"
   },
   {
    "duration": 74,
    "start_time": "2022-07-30T19:51:45.559Z"
   },
   {
    "duration": 146,
    "start_time": "2022-07-30T19:51:45.635Z"
   },
   {
    "duration": 7,
    "start_time": "2022-07-30T19:51:45.783Z"
   },
   {
    "duration": 28,
    "start_time": "2022-07-30T19:51:45.792Z"
   },
   {
    "duration": 73,
    "start_time": "2022-07-30T19:51:45.822Z"
   },
   {
    "duration": 44,
    "start_time": "2022-07-30T19:51:45.898Z"
   },
   {
    "duration": 28,
    "start_time": "2022-07-30T19:51:45.944Z"
   },
   {
    "duration": 74,
    "start_time": "2022-07-30T19:51:45.974Z"
   },
   {
    "duration": 45,
    "start_time": "2022-07-30T19:51:46.050Z"
   },
   {
    "duration": 108,
    "start_time": "2022-07-30T19:51:46.113Z"
   },
   {
    "duration": 7,
    "start_time": "2022-07-30T19:51:46.225Z"
   },
   {
    "duration": 9,
    "start_time": "2022-07-30T19:51:46.233Z"
   },
   {
    "duration": 8,
    "start_time": "2022-07-30T19:51:46.245Z"
   },
   {
    "duration": 1073,
    "start_time": "2022-07-30T19:51:46.255Z"
   },
   {
    "duration": 25,
    "start_time": "2022-07-30T19:51:47.330Z"
   },
   {
    "duration": 182,
    "start_time": "2022-07-30T19:51:47.358Z"
   },
   {
    "duration": 42,
    "start_time": "2022-07-30T19:51:47.542Z"
   },
   {
    "duration": 1204,
    "start_time": "2022-07-30T19:51:47.586Z"
   },
   {
    "duration": 150,
    "start_time": "2022-07-30T19:51:48.792Z"
   },
   {
    "duration": 235,
    "start_time": "2022-07-30T19:51:48.944Z"
   },
   {
    "duration": 1025,
    "start_time": "2022-07-30T19:51:49.182Z"
   },
   {
    "duration": 1232,
    "start_time": "2022-07-30T19:51:50.210Z"
   },
   {
    "duration": 552,
    "start_time": "2022-07-30T19:51:51.444Z"
   },
   {
    "duration": 4,
    "start_time": "2022-07-30T19:51:51.999Z"
   },
   {
    "duration": 170,
    "start_time": "2022-07-30T19:51:52.011Z"
   },
   {
    "duration": 6,
    "start_time": "2022-07-30T19:51:52.186Z"
   },
   {
    "duration": 31,
    "start_time": "2022-07-30T19:51:52.195Z"
   },
   {
    "duration": 1909,
    "start_time": "2022-07-30T19:54:32.495Z"
   },
   {
    "duration": 999,
    "start_time": "2022-07-30T19:54:34.409Z"
   },
   {
    "duration": 151,
    "start_time": "2022-07-30T19:54:35.410Z"
   },
   {
    "duration": 9,
    "start_time": "2022-07-30T19:54:35.564Z"
   },
   {
    "duration": 994,
    "start_time": "2022-07-30T19:54:35.575Z"
   },
   {
    "duration": 15,
    "start_time": "2022-07-30T19:54:36.572Z"
   },
   {
    "duration": 29,
    "start_time": "2022-07-30T19:54:36.589Z"
   },
   {
    "duration": 234,
    "start_time": "2022-07-30T19:54:36.620Z"
   },
   {
    "duration": 91,
    "start_time": "2022-07-30T19:54:36.856Z"
   },
   {
    "duration": 186,
    "start_time": "2022-07-30T19:54:36.950Z"
   },
   {
    "duration": 21,
    "start_time": "2022-07-30T19:54:37.138Z"
   },
   {
    "duration": 7,
    "start_time": "2022-07-30T19:54:37.161Z"
   },
   {
    "duration": 84,
    "start_time": "2022-07-30T19:54:37.171Z"
   },
   {
    "duration": 55,
    "start_time": "2022-07-30T19:54:37.257Z"
   },
   {
    "duration": 9,
    "start_time": "2022-07-30T19:54:37.315Z"
   },
   {
    "duration": 286,
    "start_time": "2022-07-30T19:54:37.327Z"
   },
   {
    "duration": 60,
    "start_time": "2022-07-30T19:54:37.615Z"
   },
   {
    "duration": 66,
    "start_time": "2022-07-30T19:54:37.677Z"
   },
   {
    "duration": 173,
    "start_time": "2022-07-30T19:54:37.745Z"
   },
   {
    "duration": 7,
    "start_time": "2022-07-30T19:54:37.919Z"
   },
   {
    "duration": 7,
    "start_time": "2022-07-30T19:54:37.927Z"
   },
   {
    "duration": 75,
    "start_time": "2022-07-30T19:54:37.936Z"
   },
   {
    "duration": 45,
    "start_time": "2022-07-30T19:54:38.013Z"
   },
   {
    "duration": 52,
    "start_time": "2022-07-30T19:54:38.059Z"
   },
   {
    "duration": 62,
    "start_time": "2022-07-30T19:54:38.114Z"
   },
   {
    "duration": 74,
    "start_time": "2022-07-30T19:54:38.178Z"
   },
   {
    "duration": 150,
    "start_time": "2022-07-30T19:54:38.254Z"
   },
   {
    "duration": 8,
    "start_time": "2022-07-30T19:54:38.414Z"
   },
   {
    "duration": 14,
    "start_time": "2022-07-30T19:54:38.425Z"
   },
   {
    "duration": 8,
    "start_time": "2022-07-30T19:54:38.442Z"
   },
   {
    "duration": 1016,
    "start_time": "2022-07-30T19:54:38.452Z"
   },
   {
    "duration": 18,
    "start_time": "2022-07-30T19:54:39.470Z"
   },
   {
    "duration": 123,
    "start_time": "2022-07-30T19:54:39.491Z"
   },
   {
    "duration": 39,
    "start_time": "2022-07-30T19:54:39.616Z"
   },
   {
    "duration": 1246,
    "start_time": "2022-07-30T19:54:39.656Z"
   },
   {
    "duration": 155,
    "start_time": "2022-07-30T19:54:40.905Z"
   },
   {
    "duration": 198,
    "start_time": "2022-07-30T19:54:41.062Z"
   },
   {
    "duration": 1086,
    "start_time": "2022-07-30T19:54:41.262Z"
   },
   {
    "duration": 1416,
    "start_time": "2022-07-30T19:54:42.351Z"
   },
   {
    "duration": 529,
    "start_time": "2022-07-30T19:54:43.769Z"
   },
   {
    "duration": 4,
    "start_time": "2022-07-30T19:54:44.301Z"
   },
   {
    "duration": 139,
    "start_time": "2022-07-30T19:54:44.311Z"
   },
   {
    "duration": 9,
    "start_time": "2022-07-30T19:54:44.452Z"
   },
   {
    "duration": 20,
    "start_time": "2022-07-30T19:54:44.463Z"
   },
   {
    "duration": 84,
    "start_time": "2022-07-30T19:54:57.681Z"
   },
   {
    "duration": 1610,
    "start_time": "2022-07-30T19:55:27.154Z"
   },
   {
    "duration": 2896,
    "start_time": "2022-07-30T19:55:28.766Z"
   },
   {
    "duration": 171,
    "start_time": "2022-07-30T19:55:31.665Z"
   },
   {
    "duration": 9,
    "start_time": "2022-07-30T19:55:31.839Z"
   },
   {
    "duration": 1012,
    "start_time": "2022-07-30T19:55:31.851Z"
   },
   {
    "duration": 25,
    "start_time": "2022-07-30T19:55:32.865Z"
   },
   {
    "duration": 31,
    "start_time": "2022-07-30T19:55:32.892Z"
   },
   {
    "duration": 260,
    "start_time": "2022-07-30T19:55:32.925Z"
   },
   {
    "duration": 125,
    "start_time": "2022-07-30T19:55:33.187Z"
   },
   {
    "duration": 225,
    "start_time": "2022-07-30T19:55:33.314Z"
   },
   {
    "duration": 25,
    "start_time": "2022-07-30T19:55:33.541Z"
   },
   {
    "duration": 8,
    "start_time": "2022-07-30T19:55:33.568Z"
   },
   {
    "duration": 91,
    "start_time": "2022-07-30T19:55:33.578Z"
   },
   {
    "duration": 53,
    "start_time": "2022-07-30T19:55:33.673Z"
   },
   {
    "duration": 10,
    "start_time": "2022-07-30T19:55:33.728Z"
   },
   {
    "duration": 254,
    "start_time": "2022-07-30T19:55:33.740Z"
   },
   {
    "duration": 60,
    "start_time": "2022-07-30T19:55:33.996Z"
   },
   {
    "duration": 80,
    "start_time": "2022-07-30T19:55:34.058Z"
   },
   {
    "duration": 220,
    "start_time": "2022-07-30T19:55:34.140Z"
   },
   {
    "duration": 8,
    "start_time": "2022-07-30T19:55:34.363Z"
   },
   {
    "duration": 39,
    "start_time": "2022-07-30T19:55:34.374Z"
   },
   {
    "duration": 84,
    "start_time": "2022-07-30T19:55:34.415Z"
   },
   {
    "duration": 79,
    "start_time": "2022-07-30T19:55:34.502Z"
   },
   {
    "duration": 36,
    "start_time": "2022-07-30T19:55:34.583Z"
   },
   {
    "duration": 96,
    "start_time": "2022-07-30T19:55:34.621Z"
   },
   {
    "duration": 61,
    "start_time": "2022-07-30T19:55:34.722Z"
   },
   {
    "duration": 153,
    "start_time": "2022-07-30T19:55:34.788Z"
   },
   {
    "duration": 7,
    "start_time": "2022-07-30T19:55:34.943Z"
   },
   {
    "duration": 11,
    "start_time": "2022-07-30T19:55:34.953Z"
   },
   {
    "duration": 8,
    "start_time": "2022-07-30T19:55:34.966Z"
   },
   {
    "duration": 994,
    "start_time": "2022-07-30T19:55:34.977Z"
   },
   {
    "duration": 18,
    "start_time": "2022-07-30T19:55:35.974Z"
   },
   {
    "duration": 135,
    "start_time": "2022-07-30T19:55:36.010Z"
   },
   {
    "duration": 74,
    "start_time": "2022-07-30T19:55:36.147Z"
   },
   {
    "duration": 1272,
    "start_time": "2022-07-30T19:55:36.223Z"
   },
   {
    "duration": 186,
    "start_time": "2022-07-30T19:55:37.498Z"
   },
   {
    "duration": 229,
    "start_time": "2022-07-30T19:55:37.686Z"
   },
   {
    "duration": 961,
    "start_time": "2022-07-30T19:55:37.917Z"
   },
   {
    "duration": 1335,
    "start_time": "2022-07-30T19:55:38.880Z"
   },
   {
    "duration": 529,
    "start_time": "2022-07-30T19:55:40.217Z"
   },
   {
    "duration": 13,
    "start_time": "2022-07-30T19:55:40.751Z"
   },
   {
    "duration": 130,
    "start_time": "2022-07-30T19:55:40.766Z"
   },
   {
    "duration": 5,
    "start_time": "2022-07-30T19:55:40.898Z"
   },
   {
    "duration": 5,
    "start_time": "2022-07-30T19:55:40.910Z"
   },
   {
    "duration": 1709,
    "start_time": "2022-07-30T19:57:57.526Z"
   },
   {
    "duration": 828,
    "start_time": "2022-07-30T19:57:59.237Z"
   },
   {
    "duration": 160,
    "start_time": "2022-07-30T19:58:00.067Z"
   },
   {
    "duration": 6,
    "start_time": "2022-07-30T19:58:00.229Z"
   },
   {
    "duration": 938,
    "start_time": "2022-07-30T19:58:00.237Z"
   },
   {
    "duration": 20,
    "start_time": "2022-07-30T19:58:01.177Z"
   },
   {
    "duration": 27,
    "start_time": "2022-07-30T19:58:01.198Z"
   },
   {
    "duration": 244,
    "start_time": "2022-07-30T19:58:01.227Z"
   },
   {
    "duration": 94,
    "start_time": "2022-07-30T19:58:01.473Z"
   },
   {
    "duration": 191,
    "start_time": "2022-07-30T19:58:01.570Z"
   },
   {
    "duration": 21,
    "start_time": "2022-07-30T19:58:01.763Z"
   },
   {
    "duration": 33,
    "start_time": "2022-07-30T19:58:01.786Z"
   },
   {
    "duration": 67,
    "start_time": "2022-07-30T19:58:01.821Z"
   },
   {
    "duration": 69,
    "start_time": "2022-07-30T19:58:01.890Z"
   },
   {
    "duration": 15,
    "start_time": "2022-07-30T19:58:01.961Z"
   },
   {
    "duration": 288,
    "start_time": "2022-07-30T19:58:01.979Z"
   },
   {
    "duration": 60,
    "start_time": "2022-07-30T19:58:02.269Z"
   },
   {
    "duration": 46,
    "start_time": "2022-07-30T19:58:02.332Z"
   },
   {
    "duration": 157,
    "start_time": "2022-07-30T19:58:02.380Z"
   },
   {
    "duration": 7,
    "start_time": "2022-07-30T19:58:02.539Z"
   },
   {
    "duration": 7,
    "start_time": "2022-07-30T19:58:02.548Z"
   },
   {
    "duration": 74,
    "start_time": "2022-07-30T19:58:02.557Z"
   },
   {
    "duration": 44,
    "start_time": "2022-07-30T19:58:02.633Z"
   },
   {
    "duration": 45,
    "start_time": "2022-07-30T19:58:02.679Z"
   },
   {
    "duration": 58,
    "start_time": "2022-07-30T19:58:02.726Z"
   },
   {
    "duration": 64,
    "start_time": "2022-07-30T19:58:02.786Z"
   },
   {
    "duration": 120,
    "start_time": "2022-07-30T19:58:02.852Z"
   },
   {
    "duration": 7,
    "start_time": "2022-07-30T19:58:02.976Z"
   },
   {
    "duration": 26,
    "start_time": "2022-07-30T19:58:02.985Z"
   },
   {
    "duration": 9,
    "start_time": "2022-07-30T19:58:03.013Z"
   },
   {
    "duration": 866,
    "start_time": "2022-07-30T19:58:03.023Z"
   },
   {
    "duration": 21,
    "start_time": "2022-07-30T19:58:03.891Z"
   },
   {
    "duration": 114,
    "start_time": "2022-07-30T19:58:03.914Z"
   },
   {
    "duration": 41,
    "start_time": "2022-07-30T19:58:04.030Z"
   },
   {
    "duration": 1173,
    "start_time": "2022-07-30T19:58:04.073Z"
   },
   {
    "duration": 159,
    "start_time": "2022-07-30T19:58:05.248Z"
   },
   {
    "duration": 201,
    "start_time": "2022-07-30T19:58:05.411Z"
   },
   {
    "duration": 947,
    "start_time": "2022-07-30T19:58:05.614Z"
   },
   {
    "duration": 1189,
    "start_time": "2022-07-30T19:58:06.564Z"
   },
   {
    "duration": 495,
    "start_time": "2022-07-30T19:58:07.755Z"
   },
   {
    "duration": 3,
    "start_time": "2022-07-30T19:58:08.251Z"
   },
   {
    "duration": 123,
    "start_time": "2022-07-30T19:58:08.256Z"
   },
   {
    "duration": 6,
    "start_time": "2022-07-30T19:58:08.382Z"
   },
   {
    "duration": 14,
    "start_time": "2022-07-30T19:58:08.391Z"
   },
   {
    "duration": 1588,
    "start_time": "2022-07-30T20:11:00.942Z"
   },
   {
    "duration": 820,
    "start_time": "2022-07-30T20:11:02.532Z"
   },
   {
    "duration": 142,
    "start_time": "2022-07-30T20:11:03.353Z"
   },
   {
    "duration": 5,
    "start_time": "2022-07-30T20:11:03.510Z"
   },
   {
    "duration": 887,
    "start_time": "2022-07-30T20:11:03.517Z"
   },
   {
    "duration": 16,
    "start_time": "2022-07-30T20:11:04.411Z"
   },
   {
    "duration": 13,
    "start_time": "2022-07-30T20:11:04.429Z"
   },
   {
    "duration": 253,
    "start_time": "2022-07-30T20:11:04.444Z"
   },
   {
    "duration": 80,
    "start_time": "2022-07-30T20:11:04.699Z"
   },
   {
    "duration": 182,
    "start_time": "2022-07-30T20:11:04.781Z"
   },
   {
    "duration": 18,
    "start_time": "2022-07-30T20:11:04.964Z"
   },
   {
    "duration": 28,
    "start_time": "2022-07-30T20:11:04.983Z"
   },
   {
    "duration": 50,
    "start_time": "2022-07-30T20:11:05.012Z"
   },
   {
    "duration": 65,
    "start_time": "2022-07-30T20:11:05.064Z"
   },
   {
    "duration": 10,
    "start_time": "2022-07-30T20:11:05.130Z"
   },
   {
    "duration": 242,
    "start_time": "2022-07-30T20:11:05.142Z"
   },
   {
    "duration": 61,
    "start_time": "2022-07-30T20:11:05.386Z"
   },
   {
    "duration": 47,
    "start_time": "2022-07-30T20:11:05.449Z"
   },
   {
    "duration": 157,
    "start_time": "2022-07-30T20:11:05.510Z"
   },
   {
    "duration": 7,
    "start_time": "2022-07-30T20:11:05.669Z"
   },
   {
    "duration": 6,
    "start_time": "2022-07-30T20:11:05.678Z"
   },
   {
    "duration": 71,
    "start_time": "2022-07-30T20:11:05.686Z"
   },
   {
    "duration": 55,
    "start_time": "2022-07-30T20:11:05.759Z"
   },
   {
    "duration": 27,
    "start_time": "2022-07-30T20:11:05.816Z"
   },
   {
    "duration": 78,
    "start_time": "2022-07-30T20:11:05.845Z"
   },
   {
    "duration": 42,
    "start_time": "2022-07-30T20:11:05.926Z"
   },
   {
    "duration": 124,
    "start_time": "2022-07-30T20:11:05.969Z"
   },
   {
    "duration": 15,
    "start_time": "2022-07-30T20:11:06.096Z"
   },
   {
    "duration": 9,
    "start_time": "2022-07-30T20:11:06.112Z"
   },
   {
    "duration": 6,
    "start_time": "2022-07-30T20:11:06.122Z"
   },
   {
    "duration": 895,
    "start_time": "2022-07-30T20:11:06.130Z"
   },
   {
    "duration": 16,
    "start_time": "2022-07-30T20:11:07.027Z"
   },
   {
    "duration": 128,
    "start_time": "2022-07-30T20:11:07.045Z"
   },
   {
    "duration": 49,
    "start_time": "2022-07-30T20:11:07.174Z"
   },
   {
    "duration": 1089,
    "start_time": "2022-07-30T20:11:07.225Z"
   },
   {
    "duration": 148,
    "start_time": "2022-07-30T20:11:08.316Z"
   },
   {
    "duration": 194,
    "start_time": "2022-07-30T20:11:08.466Z"
   },
   {
    "duration": 926,
    "start_time": "2022-07-30T20:11:08.661Z"
   },
   {
    "duration": 1144,
    "start_time": "2022-07-30T20:11:09.589Z"
   },
   {
    "duration": 493,
    "start_time": "2022-07-30T20:11:10.735Z"
   },
   {
    "duration": 3,
    "start_time": "2022-07-30T20:11:11.230Z"
   },
   {
    "duration": 108,
    "start_time": "2022-07-30T20:11:11.235Z"
   },
   {
    "duration": 5,
    "start_time": "2022-07-30T20:11:11.345Z"
   },
   {
    "duration": 6,
    "start_time": "2022-07-30T20:11:11.352Z"
   },
   {
    "duration": 1436024,
    "start_time": "2022-07-30T20:11:11.360Z"
   },
   {
    "duration": 6,
    "start_time": "2022-07-30T20:35:07.386Z"
   },
   {
    "duration": 15783,
    "start_time": "2022-07-30T20:35:07.395Z"
   },
   {
    "duration": 127,
    "start_time": "2022-07-30T20:39:07.171Z"
   },
   {
    "duration": 5,
    "start_time": "2022-07-30T20:39:56.488Z"
   },
   {
    "duration": 1305924,
    "start_time": "2022-07-30T20:43:47.945Z"
   },
   {
    "duration": 6,
    "start_time": "2022-07-30T21:05:33.871Z"
   },
   {
    "duration": 95412,
    "start_time": "2022-07-30T21:05:33.879Z"
   },
   {
    "duration": 1494,
    "start_time": "2022-08-02T16:37:09.541Z"
   },
   {
    "duration": 913,
    "start_time": "2022-08-02T16:37:11.037Z"
   },
   {
    "duration": 112,
    "start_time": "2022-08-02T16:37:11.952Z"
   },
   {
    "duration": 5,
    "start_time": "2022-08-02T16:37:12.066Z"
   },
   {
    "duration": 780,
    "start_time": "2022-08-02T16:37:12.072Z"
   },
   {
    "duration": 14,
    "start_time": "2022-08-02T16:37:12.857Z"
   },
   {
    "duration": 9,
    "start_time": "2022-08-02T16:37:12.873Z"
   },
   {
    "duration": 197,
    "start_time": "2022-08-02T16:37:12.883Z"
   },
   {
    "duration": 60,
    "start_time": "2022-08-02T16:37:13.081Z"
   },
   {
    "duration": 149,
    "start_time": "2022-08-02T16:37:13.143Z"
   },
   {
    "duration": 16,
    "start_time": "2022-08-02T16:37:13.293Z"
   },
   {
    "duration": 5,
    "start_time": "2022-08-02T16:37:13.311Z"
   },
   {
    "duration": 55,
    "start_time": "2022-08-02T16:37:13.317Z"
   },
   {
    "duration": 35,
    "start_time": "2022-08-02T16:37:13.373Z"
   },
   {
    "duration": 8,
    "start_time": "2022-08-02T16:37:13.410Z"
   },
   {
    "duration": 190,
    "start_time": "2022-08-02T16:37:13.420Z"
   },
   {
    "duration": 46,
    "start_time": "2022-08-02T16:37:13.612Z"
   },
   {
    "duration": 34,
    "start_time": "2022-08-02T16:37:13.660Z"
   },
   {
    "duration": 108,
    "start_time": "2022-08-02T16:37:13.696Z"
   },
   {
    "duration": 5,
    "start_time": "2022-08-02T16:37:13.805Z"
   },
   {
    "duration": 9,
    "start_time": "2022-08-02T16:37:13.811Z"
   },
   {
    "duration": 70,
    "start_time": "2022-08-02T16:37:13.821Z"
   },
   {
    "duration": 34,
    "start_time": "2022-08-02T16:37:13.892Z"
   },
   {
    "duration": 31,
    "start_time": "2022-08-02T16:37:13.928Z"
   },
   {
    "duration": 44,
    "start_time": "2022-08-02T16:37:13.961Z"
   },
   {
    "duration": 35,
    "start_time": "2022-08-02T16:37:14.007Z"
   },
   {
    "duration": 82,
    "start_time": "2022-08-02T16:37:14.058Z"
   },
   {
    "duration": 15,
    "start_time": "2022-08-02T16:37:14.143Z"
   },
   {
    "duration": 7,
    "start_time": "2022-08-02T16:37:14.159Z"
   },
   {
    "duration": 5,
    "start_time": "2022-08-02T16:37:14.168Z"
   },
   {
    "duration": 747,
    "start_time": "2022-08-02T16:37:14.174Z"
   },
   {
    "duration": 14,
    "start_time": "2022-08-02T16:37:14.923Z"
   },
   {
    "duration": 86,
    "start_time": "2022-08-02T16:37:14.938Z"
   },
   {
    "duration": 42,
    "start_time": "2022-08-02T16:37:15.025Z"
   },
   {
    "duration": 823,
    "start_time": "2022-08-02T16:37:15.069Z"
   },
   {
    "duration": 126,
    "start_time": "2022-08-02T16:37:15.893Z"
   },
   {
    "duration": 164,
    "start_time": "2022-08-02T16:37:16.021Z"
   },
   {
    "duration": 748,
    "start_time": "2022-08-02T16:37:16.187Z"
   },
   {
    "duration": 955,
    "start_time": "2022-08-02T16:37:16.937Z"
   },
   {
    "duration": 464,
    "start_time": "2022-08-02T16:37:17.894Z"
   },
   {
    "duration": 2,
    "start_time": "2022-08-02T16:37:18.361Z"
   },
   {
    "duration": 102,
    "start_time": "2022-08-02T16:37:18.365Z"
   },
   {
    "duration": 4,
    "start_time": "2022-08-02T16:37:18.468Z"
   },
   {
    "duration": 9,
    "start_time": "2022-08-02T16:37:18.474Z"
   },
   {
    "duration": 654044,
    "start_time": "2022-08-02T16:37:18.484Z"
   },
   {
    "duration": 4,
    "start_time": "2022-08-02T16:48:12.529Z"
   },
   {
    "duration": 36287,
    "start_time": "2022-08-02T16:48:12.534Z"
   },
   {
    "duration": 99,
    "start_time": "2022-08-02T16:48:48.823Z"
   },
   {
    "duration": 4,
    "start_time": "2022-08-02T16:48:48.924Z"
   },
   {
    "duration": 1397401,
    "start_time": "2022-08-02T16:48:48.931Z"
   },
   {
    "duration": 4,
    "start_time": "2022-08-02T17:12:06.334Z"
   },
   {
    "duration": 15031,
    "start_time": "2022-08-02T17:12:06.340Z"
   },
   {
    "duration": 4,
    "start_time": "2022-08-02T17:17:46.470Z"
   },
   {
    "duration": 77,
    "start_time": "2022-08-02T17:19:12.330Z"
   },
   {
    "duration": 4,
    "start_time": "2022-08-02T17:19:31.734Z"
   },
   {
    "duration": 4,
    "start_time": "2022-08-02T17:19:51.528Z"
   },
   {
    "duration": 4,
    "start_time": "2022-08-02T17:21:34.327Z"
   },
   {
    "duration": 123,
    "start_time": "2022-08-02T17:22:48.564Z"
   },
   {
    "duration": 4,
    "start_time": "2022-08-02T17:27:14.872Z"
   },
   {
    "duration": 4,
    "start_time": "2022-08-02T17:30:11.388Z"
   },
   {
    "duration": 29008,
    "start_time": "2022-08-02T17:30:12.582Z"
   },
   {
    "duration": 9,
    "start_time": "2022-08-02T17:32:48.889Z"
   },
   {
    "duration": 9,
    "start_time": "2022-08-02T17:33:03.725Z"
   },
   {
    "duration": 4,
    "start_time": "2022-08-02T17:33:16.926Z"
   },
   {
    "duration": 13,
    "start_time": "2022-08-02T17:34:45.361Z"
   },
   {
    "duration": 10,
    "start_time": "2022-08-02T17:35:26.579Z"
   },
   {
    "duration": 10,
    "start_time": "2022-08-02T17:35:51.026Z"
   },
   {
    "duration": 45,
    "start_time": "2022-08-02T17:36:02.349Z"
   },
   {
    "duration": 5,
    "start_time": "2022-08-02T17:36:17.285Z"
   },
   {
    "duration": 11,
    "start_time": "2022-08-02T17:36:18.951Z"
   },
   {
    "duration": 0,
    "start_time": "2022-08-02T17:38:47.015Z"
   },
   {
    "duration": 2422,
    "start_time": "2022-08-02T17:38:53.555Z"
   },
   {
    "duration": 36381,
    "start_time": "2022-08-02T17:39:51.973Z"
   },
   {
    "duration": 13854,
    "start_time": "2022-08-02T17:40:28.357Z"
   },
   {
    "duration": 2145,
    "start_time": "2022-08-02T17:40:59.721Z"
   },
   {
    "duration": 87,
    "start_time": "2022-08-02T17:42:24.887Z"
   },
   {
    "duration": 5,
    "start_time": "2022-08-02T17:42:57.355Z"
   },
   {
    "duration": 22327,
    "start_time": "2022-08-02T17:43:37.813Z"
   },
   {
    "duration": 5,
    "start_time": "2022-08-02T17:44:20.467Z"
   },
   {
    "duration": 2386,
    "start_time": "2022-08-02T17:45:17.262Z"
   },
   {
    "duration": 4,
    "start_time": "2022-08-02T18:08:48.987Z"
   },
   {
    "duration": 3,
    "start_time": "2022-08-02T18:08:58.482Z"
   },
   {
    "duration": 19,
    "start_time": "2022-08-02T18:17:30.448Z"
   },
   {
    "duration": 121,
    "start_time": "2022-08-03T00:27:39.422Z"
   },
   {
    "duration": 119,
    "start_time": "2022-08-03T00:28:35.435Z"
   },
   {
    "duration": 5,
    "start_time": "2022-08-03T00:44:27.495Z"
   },
   {
    "duration": 9,
    "start_time": "2022-08-03T00:46:56.184Z"
   },
   {
    "duration": 3,
    "start_time": "2022-08-03T00:47:08.098Z"
   },
   {
    "duration": 9,
    "start_time": "2022-08-03T00:47:14.929Z"
   },
   {
    "duration": 4,
    "start_time": "2022-08-03T00:47:16.534Z"
   },
   {
    "duration": 9,
    "start_time": "2022-08-03T00:47:18.074Z"
   },
   {
    "duration": 10,
    "start_time": "2022-08-03T00:47:24.021Z"
   },
   {
    "duration": 10,
    "start_time": "2022-08-03T00:49:15.786Z"
   },
   {
    "duration": 10,
    "start_time": "2022-08-03T00:49:22.852Z"
   },
   {
    "duration": 4971,
    "start_time": "2022-08-03T00:49:37.620Z"
   },
   {
    "duration": 3,
    "start_time": "2022-08-03T00:50:26.944Z"
   },
   {
    "duration": 6,
    "start_time": "2022-08-03T00:51:13.794Z"
   },
   {
    "duration": 4120,
    "start_time": "2022-08-03T00:51:15.067Z"
   },
   {
    "duration": 4,
    "start_time": "2022-08-03T01:03:26.725Z"
   },
   {
    "duration": 3225,
    "start_time": "2022-08-03T01:03:27.780Z"
   },
   {
    "duration": 5,
    "start_time": "2022-08-03T01:03:51.587Z"
   },
   {
    "duration": 3008,
    "start_time": "2022-08-03T01:03:53.084Z"
   },
   {
    "duration": 5,
    "start_time": "2022-08-03T01:04:49.591Z"
   },
   {
    "duration": 3117,
    "start_time": "2022-08-03T01:04:50.770Z"
   },
   {
    "duration": 9,
    "start_time": "2022-08-03T01:06:52.819Z"
   },
   {
    "duration": 4,
    "start_time": "2022-08-03T01:06:54.338Z"
   },
   {
    "duration": 3066,
    "start_time": "2022-08-03T01:06:55.320Z"
   },
   {
    "duration": 3110,
    "start_time": "2022-08-03T01:12:30.420Z"
   },
   {
    "duration": 3178,
    "start_time": "2022-08-03T01:13:43.171Z"
   },
   {
    "duration": 3202,
    "start_time": "2022-08-03T01:13:59.872Z"
   },
   {
    "duration": 1807,
    "start_time": "2022-08-03T01:14:34.519Z"
   },
   {
    "duration": 1764,
    "start_time": "2022-08-03T01:14:46.617Z"
   },
   {
    "duration": 3094,
    "start_time": "2022-08-03T01:14:57.019Z"
   },
   {
    "duration": 112,
    "start_time": "2022-08-03T01:21:10.443Z"
   },
   {
    "duration": 98,
    "start_time": "2022-08-03T01:22:32.017Z"
   },
   {
    "duration": 4,
    "start_time": "2022-08-03T01:22:56.479Z"
   },
   {
    "duration": 3,
    "start_time": "2022-08-03T01:25:52.229Z"
   },
   {
    "duration": 1338,
    "start_time": "2022-08-03T01:29:38.816Z"
   },
   {
    "duration": 10,
    "start_time": "2022-08-03T01:34:55.748Z"
   },
   {
    "duration": 95,
    "start_time": "2022-08-03T01:35:17.554Z"
   },
   {
    "duration": 69,
    "start_time": "2022-08-03T01:35:42.220Z"
   },
   {
    "duration": 143,
    "start_time": "2022-08-03T01:36:15.078Z"
   },
   {
    "duration": 3482,
    "start_time": "2022-08-03T01:36:16.538Z"
   },
   {
    "duration": 106,
    "start_time": "2022-08-03T01:36:48.713Z"
   },
   {
    "duration": 3,
    "start_time": "2022-08-03T01:36:50.387Z"
   },
   {
    "duration": 3098,
    "start_time": "2022-08-03T01:36:52.377Z"
   },
   {
    "duration": 1796,
    "start_time": "2022-08-03T01:37:31.123Z"
   },
   {
    "duration": 1696,
    "start_time": "2022-08-03T01:37:42.621Z"
   },
   {
    "duration": 2988,
    "start_time": "2022-08-03T01:39:06.825Z"
   },
   {
    "duration": 218,
    "start_time": "2022-08-03T01:42:40.060Z"
   },
   {
    "duration": 3,
    "start_time": "2022-08-03T01:42:44.332Z"
   },
   {
    "duration": 3,
    "start_time": "2022-08-03T01:56:04.066Z"
   },
   {
    "duration": 70,
    "start_time": "2022-08-03T01:56:04.070Z"
   },
   {
    "duration": 1881,
    "start_time": "2022-08-04T00:42:27.644Z"
   },
   {
    "duration": 1197,
    "start_time": "2022-08-04T00:42:29.528Z"
   },
   {
    "duration": 136,
    "start_time": "2022-08-04T00:42:30.727Z"
   },
   {
    "duration": 8,
    "start_time": "2022-08-04T00:42:30.866Z"
   },
   {
    "duration": 972,
    "start_time": "2022-08-04T00:42:30.876Z"
   },
   {
    "duration": 48,
    "start_time": "2022-08-04T00:42:31.851Z"
   },
   {
    "duration": 14,
    "start_time": "2022-08-04T00:42:31.902Z"
   },
   {
    "duration": 245,
    "start_time": "2022-08-04T00:42:31.917Z"
   },
   {
    "duration": 86,
    "start_time": "2022-08-04T00:42:32.164Z"
   },
   {
    "duration": 175,
    "start_time": "2022-08-04T00:42:32.253Z"
   },
   {
    "duration": 20,
    "start_time": "2022-08-04T00:42:32.430Z"
   },
   {
    "duration": 10,
    "start_time": "2022-08-04T00:42:32.453Z"
   },
   {
    "duration": 66,
    "start_time": "2022-08-04T00:42:32.464Z"
   },
   {
    "duration": 37,
    "start_time": "2022-08-04T00:42:32.531Z"
   },
   {
    "duration": 10,
    "start_time": "2022-08-04T00:42:32.570Z"
   },
   {
    "duration": 215,
    "start_time": "2022-08-04T00:42:32.604Z"
   },
   {
    "duration": 42,
    "start_time": "2022-08-04T00:42:32.823Z"
   },
   {
    "duration": 47,
    "start_time": "2022-08-04T00:42:32.867Z"
   },
   {
    "duration": 119,
    "start_time": "2022-08-04T00:42:32.916Z"
   },
   {
    "duration": 11,
    "start_time": "2022-08-04T00:42:33.037Z"
   },
   {
    "duration": 8,
    "start_time": "2022-08-04T00:42:33.050Z"
   },
   {
    "duration": 83,
    "start_time": "2022-08-04T00:42:33.060Z"
   },
   {
    "duration": 38,
    "start_time": "2022-08-04T00:42:33.145Z"
   },
   {
    "duration": 47,
    "start_time": "2022-08-04T00:42:33.185Z"
   },
   {
    "duration": 57,
    "start_time": "2022-08-04T00:42:33.235Z"
   },
   {
    "duration": 55,
    "start_time": "2022-08-04T00:42:33.294Z"
   },
   {
    "duration": 113,
    "start_time": "2022-08-04T00:42:33.350Z"
   },
   {
    "duration": 7,
    "start_time": "2022-08-04T00:42:33.467Z"
   },
   {
    "duration": 13,
    "start_time": "2022-08-04T00:42:33.476Z"
   },
   {
    "duration": 34,
    "start_time": "2022-08-04T00:42:33.491Z"
   },
   {
    "duration": 917,
    "start_time": "2022-08-04T00:42:33.527Z"
   },
   {
    "duration": 17,
    "start_time": "2022-08-04T00:42:34.446Z"
   },
   {
    "duration": 105,
    "start_time": "2022-08-04T00:42:34.465Z"
   },
   {
    "duration": 45,
    "start_time": "2022-08-04T00:42:34.572Z"
   },
   {
    "duration": 997,
    "start_time": "2022-08-04T00:42:34.618Z"
   },
   {
    "duration": 139,
    "start_time": "2022-08-04T00:42:35.617Z"
   },
   {
    "duration": 188,
    "start_time": "2022-08-04T00:42:35.758Z"
   },
   {
    "duration": 875,
    "start_time": "2022-08-04T00:42:35.948Z"
   },
   {
    "duration": 1095,
    "start_time": "2022-08-04T00:42:36.824Z"
   },
   {
    "duration": 117,
    "start_time": "2022-08-04T00:42:37.920Z"
   },
   {
    "duration": 90,
    "start_time": "2022-08-04T00:42:38.038Z"
   },
   {
    "duration": 525,
    "start_time": "2022-08-04T00:42:38.130Z"
   },
   {
    "duration": 3,
    "start_time": "2022-08-04T00:42:38.657Z"
   },
   {
    "duration": 113,
    "start_time": "2022-08-04T00:42:38.662Z"
   },
   {
    "duration": 4,
    "start_time": "2022-08-04T00:42:38.777Z"
   },
   {
    "duration": 8,
    "start_time": "2022-08-04T00:42:38.783Z"
   },
   {
    "duration": 1464,
    "start_time": "2022-08-04T00:43:32.585Z"
   },
   {
    "duration": 702,
    "start_time": "2022-08-04T00:43:34.050Z"
   },
   {
    "duration": 114,
    "start_time": "2022-08-04T00:43:34.753Z"
   },
   {
    "duration": 4,
    "start_time": "2022-08-04T00:43:34.870Z"
   },
   {
    "duration": 838,
    "start_time": "2022-08-04T00:43:34.876Z"
   },
   {
    "duration": 15,
    "start_time": "2022-08-04T00:43:35.715Z"
   },
   {
    "duration": 14,
    "start_time": "2022-08-04T00:43:35.733Z"
   },
   {
    "duration": 225,
    "start_time": "2022-08-04T00:43:35.749Z"
   },
   {
    "duration": 80,
    "start_time": "2022-08-04T00:43:35.976Z"
   },
   {
    "duration": 144,
    "start_time": "2022-08-04T00:43:36.058Z"
   },
   {
    "duration": 17,
    "start_time": "2022-08-04T00:43:36.204Z"
   },
   {
    "duration": 6,
    "start_time": "2022-08-04T00:43:36.223Z"
   },
   {
    "duration": 48,
    "start_time": "2022-08-04T00:43:36.231Z"
   },
   {
    "duration": 60,
    "start_time": "2022-08-04T00:43:36.281Z"
   },
   {
    "duration": 10,
    "start_time": "2022-08-04T00:43:36.343Z"
   },
   {
    "duration": 217,
    "start_time": "2022-08-04T00:43:36.355Z"
   },
   {
    "duration": 52,
    "start_time": "2022-08-04T00:43:36.573Z"
   },
   {
    "duration": 42,
    "start_time": "2022-08-04T00:43:36.627Z"
   },
   {
    "duration": 119,
    "start_time": "2022-08-04T00:43:36.672Z"
   },
   {
    "duration": 11,
    "start_time": "2022-08-04T00:43:36.793Z"
   },
   {
    "duration": 5,
    "start_time": "2022-08-04T00:43:36.806Z"
   },
   {
    "duration": 41,
    "start_time": "2022-08-04T00:43:36.812Z"
   },
   {
    "duration": 63,
    "start_time": "2022-08-04T00:43:36.854Z"
   },
   {
    "duration": 31,
    "start_time": "2022-08-04T00:43:36.919Z"
   },
   {
    "duration": 71,
    "start_time": "2022-08-04T00:43:36.952Z"
   },
   {
    "duration": 38,
    "start_time": "2022-08-04T00:43:37.025Z"
   },
   {
    "duration": 111,
    "start_time": "2022-08-04T00:43:37.064Z"
   },
   {
    "duration": 7,
    "start_time": "2022-08-04T00:43:37.180Z"
   },
   {
    "duration": 21,
    "start_time": "2022-08-04T00:43:37.188Z"
   },
   {
    "duration": 6,
    "start_time": "2022-08-04T00:43:37.210Z"
   },
   {
    "duration": 843,
    "start_time": "2022-08-04T00:43:37.218Z"
   },
   {
    "duration": 16,
    "start_time": "2022-08-04T00:43:38.063Z"
   },
   {
    "duration": 94,
    "start_time": "2022-08-04T00:43:38.080Z"
   },
   {
    "duration": 43,
    "start_time": "2022-08-04T00:43:38.177Z"
   },
   {
    "duration": 933,
    "start_time": "2022-08-04T00:43:38.222Z"
   },
   {
    "duration": 150,
    "start_time": "2022-08-04T00:43:39.157Z"
   },
   {
    "duration": 198,
    "start_time": "2022-08-04T00:43:39.309Z"
   },
   {
    "duration": 794,
    "start_time": "2022-08-04T00:43:39.509Z"
   },
   {
    "duration": 1028,
    "start_time": "2022-08-04T00:43:40.305Z"
   },
   {
    "duration": 126,
    "start_time": "2022-08-04T00:43:41.334Z"
   },
   {
    "duration": 88,
    "start_time": "2022-08-04T00:43:41.462Z"
   },
   {
    "duration": 476,
    "start_time": "2022-08-04T00:43:41.551Z"
   },
   {
    "duration": 3,
    "start_time": "2022-08-04T00:43:42.029Z"
   },
   {
    "duration": 102,
    "start_time": "2022-08-04T00:43:42.034Z"
   },
   {
    "duration": 5,
    "start_time": "2022-08-04T00:43:42.138Z"
   },
   {
    "duration": 8,
    "start_time": "2022-08-04T00:43:42.145Z"
   },
   {
    "duration": 44,
    "start_time": "2022-08-04T17:09:50.821Z"
   },
   {
    "duration": 1707,
    "start_time": "2022-08-04T17:09:59.312Z"
   },
   {
    "duration": 1072,
    "start_time": "2022-08-04T17:10:01.021Z"
   },
   {
    "duration": 137,
    "start_time": "2022-08-04T17:10:02.094Z"
   },
   {
    "duration": 6,
    "start_time": "2022-08-04T17:10:02.234Z"
   },
   {
    "duration": 825,
    "start_time": "2022-08-04T17:10:02.242Z"
   },
   {
    "duration": 16,
    "start_time": "2022-08-04T17:10:03.069Z"
   },
   {
    "duration": 26,
    "start_time": "2022-08-04T17:10:03.086Z"
   },
   {
    "duration": 197,
    "start_time": "2022-08-04T17:10:03.114Z"
   },
   {
    "duration": 68,
    "start_time": "2022-08-04T17:10:03.313Z"
   },
   {
    "duration": 169,
    "start_time": "2022-08-04T17:10:03.383Z"
   },
   {
    "duration": 16,
    "start_time": "2022-08-04T17:10:03.554Z"
   },
   {
    "duration": 23,
    "start_time": "2022-08-04T17:10:03.571Z"
   },
   {
    "duration": 50,
    "start_time": "2022-08-04T17:10:03.596Z"
   },
   {
    "duration": 39,
    "start_time": "2022-08-04T17:10:03.648Z"
   },
   {
    "duration": 24,
    "start_time": "2022-08-04T17:10:03.689Z"
   },
   {
    "duration": 179,
    "start_time": "2022-08-04T17:10:03.715Z"
   },
   {
    "duration": 57,
    "start_time": "2022-08-04T17:10:03.896Z"
   },
   {
    "duration": 57,
    "start_time": "2022-08-04T17:10:03.956Z"
   },
   {
    "duration": 122,
    "start_time": "2022-08-04T17:10:04.015Z"
   },
   {
    "duration": 6,
    "start_time": "2022-08-04T17:10:04.140Z"
   },
   {
    "duration": 7,
    "start_time": "2022-08-04T17:10:04.148Z"
   },
   {
    "duration": 62,
    "start_time": "2022-08-04T17:10:04.157Z"
   },
   {
    "duration": 39,
    "start_time": "2022-08-04T17:10:04.221Z"
   },
   {
    "duration": 24,
    "start_time": "2022-08-04T17:10:04.262Z"
   },
   {
    "duration": 51,
    "start_time": "2022-08-04T17:10:04.309Z"
   },
   {
    "duration": 52,
    "start_time": "2022-08-04T17:10:04.362Z"
   },
   {
    "duration": 96,
    "start_time": "2022-08-04T17:10:04.416Z"
   },
   {
    "duration": 6,
    "start_time": "2022-08-04T17:10:04.516Z"
   },
   {
    "duration": 11,
    "start_time": "2022-08-04T17:10:04.523Z"
   },
   {
    "duration": 7,
    "start_time": "2022-08-04T17:10:04.536Z"
   },
   {
    "duration": 756,
    "start_time": "2022-08-04T17:10:04.544Z"
   },
   {
    "duration": 26,
    "start_time": "2022-08-04T17:10:05.303Z"
   },
   {
    "duration": 115,
    "start_time": "2022-08-04T17:10:05.331Z"
   },
   {
    "duration": 38,
    "start_time": "2022-08-04T17:10:05.448Z"
   },
   {
    "duration": 921,
    "start_time": "2022-08-04T17:10:05.488Z"
   },
   {
    "duration": 125,
    "start_time": "2022-08-04T17:10:06.410Z"
   },
   {
    "duration": 178,
    "start_time": "2022-08-04T17:10:06.537Z"
   },
   {
    "duration": 994,
    "start_time": "2022-08-04T17:10:06.717Z"
   },
   {
    "duration": 1209,
    "start_time": "2022-08-04T17:10:07.713Z"
   },
   {
    "duration": 118,
    "start_time": "2022-08-04T17:10:08.924Z"
   },
   {
    "duration": 92,
    "start_time": "2022-08-04T17:10:09.044Z"
   },
   {
    "duration": 535,
    "start_time": "2022-08-04T17:10:09.138Z"
   },
   {
    "duration": 3,
    "start_time": "2022-08-04T17:10:09.675Z"
   },
   {
    "duration": 110,
    "start_time": "2022-08-04T17:10:09.680Z"
   },
   {
    "duration": 5,
    "start_time": "2022-08-04T17:10:09.792Z"
   },
   {
    "duration": 12,
    "start_time": "2022-08-04T17:10:09.799Z"
   },
   {
    "duration": 1904293,
    "start_time": "2022-08-04T17:10:09.813Z"
   },
   {
    "duration": 10,
    "start_time": "2022-08-04T17:41:54.110Z"
   },
   {
    "duration": 30432,
    "start_time": "2022-08-04T17:41:54.122Z"
   },
   {
    "duration": 112,
    "start_time": "2022-08-04T17:42:24.556Z"
   },
   {
    "duration": 4,
    "start_time": "2022-08-04T17:42:24.670Z"
   },
   {
    "duration": 1466,
    "start_time": "2022-08-04T17:54:27.522Z"
   },
   {
    "duration": 744,
    "start_time": "2022-08-04T17:54:28.990Z"
   },
   {
    "duration": 144,
    "start_time": "2022-08-04T17:54:29.735Z"
   },
   {
    "duration": 4,
    "start_time": "2022-08-04T17:54:29.881Z"
   },
   {
    "duration": 845,
    "start_time": "2022-08-04T17:54:29.887Z"
   },
   {
    "duration": 17,
    "start_time": "2022-08-04T17:54:30.733Z"
   },
   {
    "duration": 12,
    "start_time": "2022-08-04T17:54:30.751Z"
   },
   {
    "duration": 212,
    "start_time": "2022-08-04T17:54:30.765Z"
   },
   {
    "duration": 86,
    "start_time": "2022-08-04T17:54:30.978Z"
   },
   {
    "duration": 177,
    "start_time": "2022-08-04T17:54:31.066Z"
   },
   {
    "duration": 16,
    "start_time": "2022-08-04T17:54:31.244Z"
   },
   {
    "duration": 6,
    "start_time": "2022-08-04T17:54:31.262Z"
   },
   {
    "duration": 88,
    "start_time": "2022-08-04T17:54:31.270Z"
   },
   {
    "duration": 54,
    "start_time": "2022-08-04T17:54:31.361Z"
   },
   {
    "duration": 14,
    "start_time": "2022-08-04T17:54:31.417Z"
   },
   {
    "duration": 194,
    "start_time": "2022-08-04T17:54:31.432Z"
   },
   {
    "duration": 42,
    "start_time": "2022-08-04T17:54:31.628Z"
   },
   {
    "duration": 70,
    "start_time": "2022-08-04T17:54:31.671Z"
   },
   {
    "duration": 142,
    "start_time": "2022-08-04T17:54:31.744Z"
   },
   {
    "duration": 5,
    "start_time": "2022-08-04T17:54:31.888Z"
   },
   {
    "duration": 23,
    "start_time": "2022-08-04T17:54:31.895Z"
   },
   {
    "duration": 67,
    "start_time": "2022-08-04T17:54:31.924Z"
   },
   {
    "duration": 53,
    "start_time": "2022-08-04T17:54:31.993Z"
   },
   {
    "duration": 25,
    "start_time": "2022-08-04T17:54:32.048Z"
   },
   {
    "duration": 75,
    "start_time": "2022-08-04T17:54:32.074Z"
   },
   {
    "duration": 39,
    "start_time": "2022-08-04T17:54:32.150Z"
   },
   {
    "duration": 110,
    "start_time": "2022-08-04T17:54:32.191Z"
   },
   {
    "duration": 8,
    "start_time": "2022-08-04T17:54:32.310Z"
   },
   {
    "duration": 15,
    "start_time": "2022-08-04T17:54:32.321Z"
   },
   {
    "duration": 6,
    "start_time": "2022-08-04T17:54:32.338Z"
   },
   {
    "duration": 811,
    "start_time": "2022-08-04T17:54:32.346Z"
   },
   {
    "duration": 15,
    "start_time": "2022-08-04T17:54:33.159Z"
   },
   {
    "duration": 113,
    "start_time": "2022-08-04T17:54:33.176Z"
   },
   {
    "duration": 44,
    "start_time": "2022-08-04T17:54:33.290Z"
   },
   {
    "duration": 837,
    "start_time": "2022-08-04T17:54:33.336Z"
   },
   {
    "duration": 137,
    "start_time": "2022-08-04T17:54:34.175Z"
   },
   {
    "duration": 190,
    "start_time": "2022-08-04T17:54:34.314Z"
   },
   {
    "duration": 868,
    "start_time": "2022-08-04T17:54:34.505Z"
   },
   {
    "duration": 1121,
    "start_time": "2022-08-04T17:54:35.375Z"
   },
   {
    "duration": 119,
    "start_time": "2022-08-04T17:54:36.498Z"
   },
   {
    "duration": 101,
    "start_time": "2022-08-04T17:54:36.622Z"
   },
   {
    "duration": 512,
    "start_time": "2022-08-04T17:54:36.726Z"
   },
   {
    "duration": 3,
    "start_time": "2022-08-04T17:54:37.241Z"
   },
   {
    "duration": 122,
    "start_time": "2022-08-04T17:54:37.246Z"
   },
   {
    "duration": 5,
    "start_time": "2022-08-04T17:54:37.371Z"
   },
   {
    "duration": 17,
    "start_time": "2022-08-04T17:54:37.379Z"
   },
   {
    "duration": 408489,
    "start_time": "2022-08-04T17:54:37.399Z"
   },
   {
    "duration": 5,
    "start_time": "2022-08-04T18:01:25.890Z"
   },
   {
    "duration": 14811,
    "start_time": "2022-08-04T18:01:25.910Z"
   },
   {
    "duration": 110,
    "start_time": "2022-08-04T18:01:40.723Z"
   },
   {
    "duration": 4,
    "start_time": "2022-08-04T18:01:40.835Z"
   },
   {
    "duration": 1321535,
    "start_time": "2022-08-04T18:01:40.841Z"
   },
   {
    "duration": 4,
    "start_time": "2022-08-04T18:23:42.379Z"
   },
   {
    "duration": 15278,
    "start_time": "2022-08-04T18:23:42.385Z"
   },
   {
    "duration": 113,
    "start_time": "2022-08-04T18:23:57.666Z"
   },
   {
    "duration": 4,
    "start_time": "2022-08-04T18:23:57.781Z"
   },
   {
    "duration": 44155,
    "start_time": "2022-08-04T18:23:57.787Z"
   },
   {
    "duration": 4,
    "start_time": "2022-08-04T18:24:41.944Z"
   },
   {
    "duration": 2479,
    "start_time": "2022-08-04T18:24:41.949Z"
   },
   {
    "duration": 97,
    "start_time": "2022-08-04T18:24:44.429Z"
   },
   {
    "duration": 3,
    "start_time": "2022-08-04T18:24:44.528Z"
   },
   {
    "duration": 15536,
    "start_time": "2022-08-04T18:24:44.533Z"
   },
   {
    "duration": 4,
    "start_time": "2022-08-04T18:25:00.072Z"
   },
   {
    "duration": 747,
    "start_time": "2022-08-04T18:25:00.079Z"
   },
   {
    "duration": 167,
    "start_time": "2022-08-04T18:25:00.828Z"
   },
   {
    "duration": 4240,
    "start_time": "2022-08-04T18:25:00.997Z"
   },
   {
    "duration": 289,
    "start_time": "2022-08-04T18:25:05.239Z"
   },
   {
    "duration": 5,
    "start_time": "2022-08-04T18:25:05.530Z"
   },
   {
    "duration": 84,
    "start_time": "2022-08-04T18:25:05.537Z"
   },
   {
    "duration": 112,
    "start_time": "2022-08-04T21:17:26.349Z"
   },
   {
    "duration": 10,
    "start_time": "2022-08-04T21:17:43.524Z"
   },
   {
    "duration": 9,
    "start_time": "2022-08-04T21:17:54.175Z"
   },
   {
    "duration": 15,
    "start_time": "2022-08-04T21:18:03.009Z"
   },
   {
    "duration": 4,
    "start_time": "2022-08-04T21:18:06.065Z"
   },
   {
    "duration": 6,
    "start_time": "2022-08-04T21:24:53.827Z"
   },
   {
    "duration": 20816,
    "start_time": "2022-08-04T21:27:32.465Z"
   },
   {
    "duration": 64,
    "start_time": "2022-08-04T21:33:37.843Z"
   },
   {
    "duration": 12,
    "start_time": "2022-08-04T21:33:51.686Z"
   },
   {
    "duration": 6,
    "start_time": "2022-08-04T21:35:42.723Z"
   },
   {
    "duration": 12,
    "start_time": "2022-08-04T21:36:01.522Z"
   },
   {
    "duration": 10,
    "start_time": "2022-08-04T21:36:12.460Z"
   },
   {
    "duration": 9,
    "start_time": "2022-08-04T21:36:21.381Z"
   },
   {
    "duration": 10,
    "start_time": "2022-08-04T21:36:29.452Z"
   },
   {
    "duration": 4,
    "start_time": "2022-08-04T21:36:49.223Z"
   },
   {
    "duration": 4194,
    "start_time": "2022-08-04T21:39:17.085Z"
   },
   {
    "duration": 21923,
    "start_time": "2022-08-04T21:40:18.827Z"
   },
   {
    "duration": 22103,
    "start_time": "2022-08-04T21:46:04.322Z"
   },
   {
    "duration": 45,
    "start_time": "2022-08-04T21:47:41.114Z"
   },
   {
    "duration": 9,
    "start_time": "2022-08-04T21:47:49.729Z"
   },
   {
    "duration": 9,
    "start_time": "2022-08-04T21:47:57.325Z"
   },
   {
    "duration": 4,
    "start_time": "2022-08-04T21:48:03.429Z"
   },
   {
    "duration": 21,
    "start_time": "2022-08-04T21:57:06.830Z"
   },
   {
    "duration": 16,
    "start_time": "2022-08-04T21:58:05.152Z"
   },
   {
    "duration": 4,
    "start_time": "2022-08-04T21:58:38.550Z"
   },
   {
    "duration": 16,
    "start_time": "2022-08-04T21:58:39.873Z"
   },
   {
    "duration": 16,
    "start_time": "2022-08-04T22:02:42.042Z"
   },
   {
    "duration": 15,
    "start_time": "2022-08-04T22:02:46.284Z"
   },
   {
    "duration": 22,
    "start_time": "2022-08-04T22:03:13.943Z"
   },
   {
    "duration": 16,
    "start_time": "2022-08-04T22:03:50.752Z"
   },
   {
    "duration": 47,
    "start_time": "2022-08-04T22:11:02.139Z"
   },
   {
    "duration": 1414,
    "start_time": "2022-08-04T22:11:12.040Z"
   },
   {
    "duration": 969,
    "start_time": "2022-08-04T22:11:20.690Z"
   },
   {
    "duration": 1470,
    "start_time": "2022-08-04T22:11:28.971Z"
   },
   {
    "duration": 728,
    "start_time": "2022-08-04T22:11:30.444Z"
   },
   {
    "duration": 126,
    "start_time": "2022-08-04T22:11:31.174Z"
   },
   {
    "duration": 5,
    "start_time": "2022-08-04T22:11:31.310Z"
   },
   {
    "duration": 766,
    "start_time": "2022-08-04T22:11:31.316Z"
   },
   {
    "duration": 26,
    "start_time": "2022-08-04T22:11:32.083Z"
   },
   {
    "duration": 14,
    "start_time": "2022-08-04T22:11:32.111Z"
   },
   {
    "duration": 203,
    "start_time": "2022-08-04T22:11:32.127Z"
   },
   {
    "duration": 84,
    "start_time": "2022-08-04T22:11:32.332Z"
   },
   {
    "duration": 155,
    "start_time": "2022-08-04T22:11:32.418Z"
   },
   {
    "duration": 16,
    "start_time": "2022-08-04T22:11:32.575Z"
   },
   {
    "duration": 19,
    "start_time": "2022-08-04T22:11:32.593Z"
   },
   {
    "duration": 49,
    "start_time": "2022-08-04T22:11:32.613Z"
   },
   {
    "duration": 54,
    "start_time": "2022-08-04T22:11:32.663Z"
   },
   {
    "duration": 9,
    "start_time": "2022-08-04T22:11:32.719Z"
   },
   {
    "duration": 195,
    "start_time": "2022-08-04T22:11:32.729Z"
   },
   {
    "duration": 45,
    "start_time": "2022-08-04T22:11:32.926Z"
   },
   {
    "duration": 57,
    "start_time": "2022-08-04T22:11:32.973Z"
   },
   {
    "duration": 127,
    "start_time": "2022-08-04T22:11:33.032Z"
   },
   {
    "duration": 5,
    "start_time": "2022-08-04T22:11:33.161Z"
   },
   {
    "duration": 11,
    "start_time": "2022-08-04T22:11:33.168Z"
   },
   {
    "duration": 56,
    "start_time": "2022-08-04T22:11:33.181Z"
   },
   {
    "duration": 40,
    "start_time": "2022-08-04T22:11:33.239Z"
   },
   {
    "duration": 41,
    "start_time": "2022-08-04T22:11:33.281Z"
   },
   {
    "duration": 55,
    "start_time": "2022-08-04T22:11:33.324Z"
   },
   {
    "duration": 53,
    "start_time": "2022-08-04T22:11:33.381Z"
   },
   {
    "duration": 103,
    "start_time": "2022-08-04T22:11:33.436Z"
   },
   {
    "duration": 6,
    "start_time": "2022-08-04T22:11:33.542Z"
   },
   {
    "duration": 7,
    "start_time": "2022-08-04T22:11:33.550Z"
   },
   {
    "duration": 6,
    "start_time": "2022-08-04T22:11:33.558Z"
   },
   {
    "duration": 787,
    "start_time": "2022-08-04T22:11:33.566Z"
   },
   {
    "duration": 15,
    "start_time": "2022-08-04T22:11:34.355Z"
   },
   {
    "duration": 97,
    "start_time": "2022-08-04T22:11:34.371Z"
   },
   {
    "duration": 41,
    "start_time": "2022-08-04T22:11:34.470Z"
   },
   {
    "duration": 928,
    "start_time": "2022-08-04T22:11:34.512Z"
   },
   {
    "duration": 136,
    "start_time": "2022-08-04T22:11:35.442Z"
   },
   {
    "duration": 199,
    "start_time": "2022-08-04T22:11:35.581Z"
   },
   {
    "duration": 837,
    "start_time": "2022-08-04T22:11:35.783Z"
   },
   {
    "duration": 1094,
    "start_time": "2022-08-04T22:11:36.622Z"
   },
   {
    "duration": 117,
    "start_time": "2022-08-04T22:11:37.719Z"
   },
   {
    "duration": 93,
    "start_time": "2022-08-04T22:11:37.838Z"
   },
   {
    "duration": 485,
    "start_time": "2022-08-04T22:11:37.933Z"
   },
   {
    "duration": 3,
    "start_time": "2022-08-04T22:11:38.420Z"
   },
   {
    "duration": 95,
    "start_time": "2022-08-04T22:11:38.425Z"
   },
   {
    "duration": 4,
    "start_time": "2022-08-04T22:11:38.522Z"
   },
   {
    "duration": 12,
    "start_time": "2022-08-04T22:11:38.528Z"
   },
   {
    "duration": 955637,
    "start_time": "2022-08-04T22:11:38.542Z"
   },
   {
    "duration": 4,
    "start_time": "2022-08-04T22:27:34.181Z"
   },
   {
    "duration": 32639,
    "start_time": "2022-08-04T22:27:34.187Z"
   },
   {
    "duration": 88,
    "start_time": "2022-08-04T22:28:06.827Z"
   },
   {
    "duration": 4,
    "start_time": "2022-08-04T22:28:06.917Z"
   },
   {
    "duration": 1016495,
    "start_time": "2022-08-04T22:28:06.922Z"
   },
   {
    "duration": 3,
    "start_time": "2022-08-04T22:45:03.419Z"
   },
   {
    "duration": 26595,
    "start_time": "2022-08-04T22:45:03.424Z"
   },
   {
    "duration": 103,
    "start_time": "2022-08-04T22:45:30.021Z"
   },
   {
    "duration": 4,
    "start_time": "2022-08-04T22:45:30.127Z"
   },
   {
    "duration": 20399,
    "start_time": "2022-08-04T22:45:30.133Z"
   },
   {
    "duration": 3,
    "start_time": "2022-08-04T22:45:50.534Z"
   },
   {
    "duration": 581,
    "start_time": "2022-08-04T22:45:50.538Z"
   },
   {
    "duration": 91,
    "start_time": "2022-08-04T22:45:51.123Z"
   },
   {
    "duration": 7,
    "start_time": "2022-08-04T22:45:51.216Z"
   },
   {
    "duration": 41898,
    "start_time": "2022-08-04T22:45:51.225Z"
   },
   {
    "duration": 3,
    "start_time": "2022-08-04T22:46:33.125Z"
   },
   {
    "duration": 2456,
    "start_time": "2022-08-04T22:46:33.130Z"
   },
   {
    "duration": 150,
    "start_time": "2022-08-04T22:46:35.587Z"
   },
   {
    "duration": 4,
    "start_time": "2022-08-04T22:46:35.739Z"
   },
   {
    "duration": 139,
    "start_time": "2022-08-04T22:46:35.744Z"
   },
   {
    "duration": 0,
    "start_time": "2022-08-04T22:46:35.885Z"
   },
   {
    "duration": 0,
    "start_time": "2022-08-04T22:46:35.886Z"
   },
   {
    "duration": 0,
    "start_time": "2022-08-04T22:46:35.888Z"
   },
   {
    "duration": 0,
    "start_time": "2022-08-04T22:46:35.889Z"
   },
   {
    "duration": 0,
    "start_time": "2022-08-04T22:46:35.890Z"
   },
   {
    "duration": 850,
    "start_time": "2022-08-04T22:48:33.989Z"
   },
   {
    "duration": 3836,
    "start_time": "2022-08-04T22:48:44.367Z"
   },
   {
    "duration": 4,
    "start_time": "2022-08-04T22:49:28.785Z"
   },
   {
    "duration": 895,
    "start_time": "2022-08-04T22:52:53.068Z"
   },
   {
    "duration": 4,
    "start_time": "2022-08-04T22:53:28.115Z"
   },
   {
    "duration": 11,
    "start_time": "2022-08-04T22:53:59.855Z"
   },
   {
    "duration": 1362,
    "start_time": "2022-08-04T22:58:21.921Z"
   },
   {
    "duration": 669,
    "start_time": "2022-08-04T22:58:23.285Z"
   },
   {
    "duration": 122,
    "start_time": "2022-08-04T22:58:23.955Z"
   },
   {
    "duration": 5,
    "start_time": "2022-08-04T22:58:24.079Z"
   },
   {
    "duration": 743,
    "start_time": "2022-08-04T22:58:24.085Z"
   },
   {
    "duration": 12,
    "start_time": "2022-08-04T22:58:24.829Z"
   },
   {
    "duration": 13,
    "start_time": "2022-08-04T22:58:24.843Z"
   },
   {
    "duration": 197,
    "start_time": "2022-08-04T22:58:24.858Z"
   },
   {
    "duration": 76,
    "start_time": "2022-08-04T22:58:25.056Z"
   },
   {
    "duration": 149,
    "start_time": "2022-08-04T22:58:25.134Z"
   },
   {
    "duration": 24,
    "start_time": "2022-08-04T22:58:25.285Z"
   },
   {
    "duration": 5,
    "start_time": "2022-08-04T22:58:25.311Z"
   },
   {
    "duration": 45,
    "start_time": "2022-08-04T22:58:25.317Z"
   },
   {
    "duration": 56,
    "start_time": "2022-08-04T22:58:25.363Z"
   },
   {
    "duration": 6,
    "start_time": "2022-08-04T22:58:25.421Z"
   },
   {
    "duration": 188,
    "start_time": "2022-08-04T22:58:25.428Z"
   },
   {
    "duration": 44,
    "start_time": "2022-08-04T22:58:25.618Z"
   },
   {
    "duration": 67,
    "start_time": "2022-08-04T22:58:25.663Z"
   },
   {
    "duration": 116,
    "start_time": "2022-08-04T22:58:25.732Z"
   },
   {
    "duration": 5,
    "start_time": "2022-08-04T22:58:25.850Z"
   },
   {
    "duration": 23,
    "start_time": "2022-08-04T22:58:25.857Z"
   },
   {
    "duration": 59,
    "start_time": "2022-08-04T22:58:25.882Z"
   },
   {
    "duration": 44,
    "start_time": "2022-08-04T22:58:25.943Z"
   },
   {
    "duration": 42,
    "start_time": "2022-08-04T22:58:25.990Z"
   },
   {
    "duration": 51,
    "start_time": "2022-08-04T22:58:26.034Z"
   },
   {
    "duration": 49,
    "start_time": "2022-08-04T22:58:26.087Z"
   },
   {
    "duration": 101,
    "start_time": "2022-08-04T22:58:26.138Z"
   },
   {
    "duration": 5,
    "start_time": "2022-08-04T22:58:26.243Z"
   },
   {
    "duration": 20,
    "start_time": "2022-08-04T22:58:26.249Z"
   },
   {
    "duration": 11,
    "start_time": "2022-08-04T22:58:26.271Z"
   },
   {
    "duration": 709,
    "start_time": "2022-08-04T22:58:26.283Z"
   },
   {
    "duration": 18,
    "start_time": "2022-08-04T22:58:26.994Z"
   },
   {
    "duration": 104,
    "start_time": "2022-08-04T22:58:27.013Z"
   },
   {
    "duration": 44,
    "start_time": "2022-08-04T22:58:27.120Z"
   },
   {
    "duration": 890,
    "start_time": "2022-08-04T22:58:27.166Z"
   },
   {
    "duration": 129,
    "start_time": "2022-08-04T22:58:28.058Z"
   },
   {
    "duration": 160,
    "start_time": "2022-08-04T22:58:28.190Z"
   },
   {
    "duration": 780,
    "start_time": "2022-08-04T22:58:28.352Z"
   },
   {
    "duration": 999,
    "start_time": "2022-08-04T22:58:29.134Z"
   },
   {
    "duration": 111,
    "start_time": "2022-08-04T22:58:30.135Z"
   },
   {
    "duration": 93,
    "start_time": "2022-08-04T22:58:30.248Z"
   },
   {
    "duration": 461,
    "start_time": "2022-08-04T22:58:30.342Z"
   },
   {
    "duration": 5,
    "start_time": "2022-08-04T22:58:30.804Z"
   },
   {
    "duration": 97,
    "start_time": "2022-08-04T22:58:30.810Z"
   },
   {
    "duration": 4,
    "start_time": "2022-08-04T22:58:30.908Z"
   },
   {
    "duration": 14,
    "start_time": "2022-08-04T22:58:30.914Z"
   },
   {
    "duration": 1118676,
    "start_time": "2022-08-04T23:09:20.414Z"
   },
   {
    "duration": 3,
    "start_time": "2022-08-04T23:27:59.092Z"
   },
   {
    "duration": 32434,
    "start_time": "2022-08-04T23:27:59.097Z"
   },
   {
    "duration": 96,
    "start_time": "2022-08-04T23:28:31.533Z"
   },
   {
    "duration": 4,
    "start_time": "2022-08-04T23:28:31.630Z"
   },
   {
    "duration": 26288,
    "start_time": "2022-08-04T23:28:31.636Z"
   },
   {
    "duration": 4,
    "start_time": "2022-08-04T23:28:57.925Z"
   },
   {
    "duration": 2494,
    "start_time": "2022-08-04T23:28:57.930Z"
   },
   {
    "duration": 93,
    "start_time": "2022-08-04T23:29:00.426Z"
   },
   {
    "duration": 8,
    "start_time": "2022-08-04T23:29:00.521Z"
   },
   {
    "duration": 42887,
    "start_time": "2022-08-04T23:29:00.531Z"
   },
   {
    "duration": 4,
    "start_time": "2022-08-04T23:29:43.425Z"
   },
   {
    "duration": 2171,
    "start_time": "2022-08-04T23:29:43.430Z"
   },
   {
    "duration": 157,
    "start_time": "2022-08-04T23:29:45.603Z"
   },
   {
    "duration": 3,
    "start_time": "2022-08-04T23:29:45.762Z"
   },
   {
    "duration": 1397,
    "start_time": "2022-08-05T00:17:32.737Z"
   },
   {
    "duration": 702,
    "start_time": "2022-08-05T00:17:34.136Z"
   },
   {
    "duration": 147,
    "start_time": "2022-08-05T00:17:34.840Z"
   },
   {
    "duration": 4,
    "start_time": "2022-08-05T00:17:34.990Z"
   },
   {
    "duration": 835,
    "start_time": "2022-08-05T00:17:34.996Z"
   },
   {
    "duration": 16,
    "start_time": "2022-08-05T00:17:35.833Z"
   },
   {
    "duration": 11,
    "start_time": "2022-08-05T00:17:35.851Z"
   },
   {
    "duration": 243,
    "start_time": "2022-08-05T00:17:35.863Z"
   },
   {
    "duration": 72,
    "start_time": "2022-08-05T00:17:36.110Z"
   },
   {
    "duration": 175,
    "start_time": "2022-08-05T00:17:36.185Z"
   },
   {
    "duration": 15,
    "start_time": "2022-08-05T00:17:36.362Z"
   },
   {
    "duration": 6,
    "start_time": "2022-08-05T00:17:36.379Z"
   },
   {
    "duration": 65,
    "start_time": "2022-08-05T00:17:36.386Z"
   },
   {
    "duration": 35,
    "start_time": "2022-08-05T00:17:36.453Z"
   },
   {
    "duration": 33,
    "start_time": "2022-08-05T00:17:36.489Z"
   },
   {
    "duration": 167,
    "start_time": "2022-08-05T00:17:36.525Z"
   },
   {
    "duration": 59,
    "start_time": "2022-08-05T00:17:36.694Z"
   },
   {
    "duration": 57,
    "start_time": "2022-08-05T00:17:36.755Z"
   },
   {
    "duration": 120,
    "start_time": "2022-08-05T00:17:36.818Z"
   },
   {
    "duration": 5,
    "start_time": "2022-08-05T00:17:36.940Z"
   },
   {
    "duration": 6,
    "start_time": "2022-08-05T00:17:36.946Z"
   },
   {
    "duration": 66,
    "start_time": "2022-08-05T00:17:36.954Z"
   },
   {
    "duration": 39,
    "start_time": "2022-08-05T00:17:37.022Z"
   },
   {
    "duration": 24,
    "start_time": "2022-08-05T00:17:37.062Z"
   },
   {
    "duration": 90,
    "start_time": "2022-08-05T00:17:37.087Z"
   },
   {
    "duration": 61,
    "start_time": "2022-08-05T00:17:37.179Z"
   },
   {
    "duration": 100,
    "start_time": "2022-08-05T00:17:37.242Z"
   },
   {
    "duration": 6,
    "start_time": "2022-08-05T00:17:37.345Z"
   },
   {
    "duration": 8,
    "start_time": "2022-08-05T00:17:37.352Z"
   },
   {
    "duration": 5,
    "start_time": "2022-08-05T00:17:37.362Z"
   },
   {
    "duration": 793,
    "start_time": "2022-08-05T00:17:37.369Z"
   },
   {
    "duration": 14,
    "start_time": "2022-08-05T00:17:38.164Z"
   },
   {
    "duration": 114,
    "start_time": "2022-08-05T00:17:38.179Z"
   },
   {
    "duration": 46,
    "start_time": "2022-08-05T00:17:38.295Z"
   },
   {
    "duration": 926,
    "start_time": "2022-08-05T00:17:38.343Z"
   },
   {
    "duration": 129,
    "start_time": "2022-08-05T00:17:39.271Z"
   },
   {
    "duration": 175,
    "start_time": "2022-08-05T00:17:39.402Z"
   },
   {
    "duration": 860,
    "start_time": "2022-08-05T00:17:39.579Z"
   },
   {
    "duration": 1038,
    "start_time": "2022-08-05T00:17:40.440Z"
   },
   {
    "duration": 112,
    "start_time": "2022-08-05T00:17:41.480Z"
   },
   {
    "duration": 106,
    "start_time": "2022-08-05T00:17:41.593Z"
   },
   {
    "duration": 484,
    "start_time": "2022-08-05T00:17:41.701Z"
   },
   {
    "duration": 3,
    "start_time": "2022-08-05T00:17:42.187Z"
   },
   {
    "duration": 93,
    "start_time": "2022-08-05T00:17:42.191Z"
   },
   {
    "duration": 4,
    "start_time": "2022-08-05T00:17:42.286Z"
   },
   {
    "duration": 6,
    "start_time": "2022-08-05T00:17:42.291Z"
   },
   {
    "duration": 1228355,
    "start_time": "2022-08-05T00:17:42.299Z"
   },
   {
    "duration": 4,
    "start_time": "2022-08-05T00:38:10.655Z"
   },
   {
    "duration": 39105,
    "start_time": "2022-08-05T00:38:10.660Z"
   },
   {
    "duration": 91,
    "start_time": "2022-08-05T00:38:49.767Z"
   },
   {
    "duration": 4,
    "start_time": "2022-08-05T00:38:49.859Z"
   },
   {
    "duration": 1089482,
    "start_time": "2022-08-05T00:38:49.864Z"
   },
   {
    "duration": 4,
    "start_time": "2022-08-05T00:56:59.347Z"
   },
   {
    "duration": 55129,
    "start_time": "2022-08-05T00:56:59.352Z"
   },
   {
    "duration": 80,
    "start_time": "2022-08-05T00:57:54.483Z"
   },
   {
    "duration": 4,
    "start_time": "2022-08-05T00:57:54.565Z"
   },
   {
    "duration": 52478,
    "start_time": "2022-08-05T00:57:54.570Z"
   },
   {
    "duration": 3,
    "start_time": "2022-08-05T00:58:47.050Z"
   },
   {
    "duration": 2475,
    "start_time": "2022-08-05T00:58:47.055Z"
   },
   {
    "duration": 90,
    "start_time": "2022-08-05T00:58:49.531Z"
   },
   {
    "duration": 4,
    "start_time": "2022-08-05T00:58:49.623Z"
   },
   {
    "duration": 32877,
    "start_time": "2022-08-05T00:58:49.628Z"
   },
   {
    "duration": 12,
    "start_time": "2022-08-05T00:59:22.509Z"
   },
   {
    "duration": 2240,
    "start_time": "2022-08-05T00:59:22.522Z"
   },
   {
    "duration": 157,
    "start_time": "2022-08-05T00:59:24.764Z"
   },
   {
    "duration": 5,
    "start_time": "2022-08-05T00:59:24.923Z"
   },
   {
    "duration": 0,
    "start_time": "2022-08-05T01:01:29.250Z"
   },
   {
    "duration": 0,
    "start_time": "2022-08-05T01:01:29.251Z"
   },
   {
    "duration": 0,
    "start_time": "2022-08-05T01:01:29.252Z"
   },
   {
    "duration": 0,
    "start_time": "2022-08-05T01:01:29.253Z"
   },
   {
    "duration": 0,
    "start_time": "2022-08-05T01:01:29.254Z"
   },
   {
    "duration": 0,
    "start_time": "2022-08-05T01:01:29.255Z"
   },
   {
    "duration": 0,
    "start_time": "2022-08-05T01:01:29.257Z"
   },
   {
    "duration": 22103,
    "start_time": "2022-08-05T01:01:32.683Z"
   },
   {
    "duration": 21227,
    "start_time": "2022-08-05T01:03:28.374Z"
   },
   {
    "duration": 9,
    "start_time": "2022-08-05T01:09:24.269Z"
   },
   {
    "duration": 11,
    "start_time": "2022-08-05T01:09:35.960Z"
   },
   {
    "duration": 1027,
    "start_time": "2022-08-05T01:10:04.063Z"
   },
   {
    "duration": 660671,
    "start_time": "2022-08-05T01:10:45.371Z"
   },
   {
    "duration": 4,
    "start_time": "2022-08-05T01:23:04.832Z"
   },
   {
    "duration": 57,
    "start_time": "2022-08-05T01:25:41.531Z"
   },
   {
    "duration": 11,
    "start_time": "2022-08-05T01:26:18.264Z"
   },
   {
    "duration": 59,
    "start_time": "2022-08-05T01:27:14.759Z"
   },
   {
    "duration": 50,
    "start_time": "2022-08-05T01:27:23.763Z"
   },
   {
    "duration": 12,
    "start_time": "2022-08-05T01:28:02.834Z"
   },
   {
    "duration": 11,
    "start_time": "2022-08-05T01:28:03.090Z"
   },
   {
    "duration": 11,
    "start_time": "2022-08-05T01:28:35.462Z"
   },
   {
    "duration": 11,
    "start_time": "2022-08-05T01:28:57.592Z"
   },
   {
    "duration": 28531,
    "start_time": "2022-08-05T01:29:13.856Z"
   },
   {
    "duration": 35,
    "start_time": "2022-08-05T01:31:06.637Z"
   },
   {
    "duration": 23260,
    "start_time": "2022-08-05T01:31:29.707Z"
   },
   {
    "duration": 484524,
    "start_time": "2022-08-05T01:32:43.706Z"
   },
   {
    "duration": 32470,
    "start_time": "2022-08-05T01:48:17.405Z"
   },
   {
    "duration": 4,
    "start_time": "2022-08-05T01:55:46.815Z"
   },
   {
    "duration": 10,
    "start_time": "2022-08-05T01:55:49.188Z"
   },
   {
    "duration": 219,
    "start_time": "2022-08-05T01:55:56.376Z"
   },
   {
    "duration": 9,
    "start_time": "2022-08-05T01:55:59.433Z"
   },
   {
    "duration": 105228,
    "start_time": "2022-08-05T01:56:25.489Z"
   },
   {
    "duration": 4,
    "start_time": "2022-08-05T01:58:36.863Z"
   },
   {
    "duration": 2,
    "start_time": "2022-08-05T02:00:52.376Z"
   },
   {
    "duration": 47,
    "start_time": "2022-08-05T02:02:19.151Z"
   },
   {
    "duration": 52,
    "start_time": "2022-08-05T02:07:28.014Z"
   },
   {
    "duration": 8213,
    "start_time": "2022-08-05T02:07:44.599Z"
   },
   {
    "duration": 107433,
    "start_time": "2022-08-05T02:07:59.683Z"
   },
   {
    "duration": 5,
    "start_time": "2022-08-05T02:09:47.118Z"
   },
   {
    "duration": 10317,
    "start_time": "2022-08-05T02:09:47.125Z"
   },
   {
    "duration": 5,
    "start_time": "2022-08-05T02:12:16.942Z"
   },
   {
    "duration": 214693,
    "start_time": "2022-08-05T02:12:18.038Z"
   },
   {
    "duration": 4,
    "start_time": "2022-08-05T02:15:52.732Z"
   },
   {
    "duration": 6490,
    "start_time": "2022-08-05T02:15:52.737Z"
   },
   {
    "duration": 109,
    "start_time": "2022-08-05T02:18:59.297Z"
   },
   {
    "duration": 3,
    "start_time": "2022-08-05T02:19:08.881Z"
   },
   {
    "duration": 41,
    "start_time": "2022-08-05T02:20:34.734Z"
   },
   {
    "duration": 753,
    "start_time": "2022-08-05T02:20:56.052Z"
   },
   {
    "duration": 11,
    "start_time": "2022-08-05T02:21:24.403Z"
   },
   {
    "duration": 41,
    "start_time": "2022-08-05T02:21:28.499Z"
   },
   {
    "duration": 5,
    "start_time": "2022-08-05T02:22:42.545Z"
   },
   {
    "duration": 44,
    "start_time": "2022-08-05T02:22:59.005Z"
   },
   {
    "duration": 3,
    "start_time": "2022-08-05T02:23:24.356Z"
   },
   {
    "duration": 328,
    "start_time": "2022-08-05T02:24:02.417Z"
   },
   {
    "duration": 344,
    "start_time": "2022-08-05T02:24:39.427Z"
   },
   {
    "duration": 9,
    "start_time": "2022-08-05T02:26:11.530Z"
   },
   {
    "duration": 10,
    "start_time": "2022-08-05T02:26:45.475Z"
   },
   {
    "duration": 3,
    "start_time": "2022-08-05T02:27:04.371Z"
   },
   {
    "duration": 9,
    "start_time": "2022-08-05T02:27:11.603Z"
   },
   {
    "duration": 3,
    "start_time": "2022-08-05T02:27:33.813Z"
   },
   {
    "duration": 3,
    "start_time": "2022-08-05T02:27:38.235Z"
   },
   {
    "duration": 3,
    "start_time": "2022-08-05T02:36:24.835Z"
   },
   {
    "duration": 3,
    "start_time": "2022-08-05T02:36:49.996Z"
   },
   {
    "duration": 18,
    "start_time": "2022-08-05T02:37:20.690Z"
   },
   {
    "duration": 259567,
    "start_time": "2022-08-05T02:38:02.064Z"
   },
   {
    "duration": 3,
    "start_time": "2022-08-05T02:43:33.956Z"
   },
   {
    "duration": 48,
    "start_time": "2022-08-05T02:43:48.517Z"
   },
   {
    "duration": 1449,
    "start_time": "2022-08-05T02:49:34.458Z"
   },
   {
    "duration": 941,
    "start_time": "2022-08-05T02:49:35.909Z"
   },
   {
    "duration": 120,
    "start_time": "2022-08-05T02:49:36.851Z"
   },
   {
    "duration": 5,
    "start_time": "2022-08-05T02:49:36.973Z"
   },
   {
    "duration": 811,
    "start_time": "2022-08-05T02:49:36.979Z"
   },
   {
    "duration": 18,
    "start_time": "2022-08-05T02:49:37.792Z"
   },
   {
    "duration": 10,
    "start_time": "2022-08-05T02:49:37.811Z"
   },
   {
    "duration": 189,
    "start_time": "2022-08-05T02:49:37.823Z"
   },
   {
    "duration": 67,
    "start_time": "2022-08-05T02:49:38.013Z"
   },
   {
    "duration": 162,
    "start_time": "2022-08-05T02:49:38.083Z"
   },
   {
    "duration": 15,
    "start_time": "2022-08-05T02:49:38.247Z"
   },
   {
    "duration": 5,
    "start_time": "2022-08-05T02:49:38.263Z"
   },
   {
    "duration": 64,
    "start_time": "2022-08-05T02:49:38.270Z"
   },
   {
    "duration": 38,
    "start_time": "2022-08-05T02:49:38.336Z"
   },
   {
    "duration": 9,
    "start_time": "2022-08-05T02:49:38.375Z"
   },
   {
    "duration": 196,
    "start_time": "2022-08-05T02:49:38.386Z"
   },
   {
    "duration": 52,
    "start_time": "2022-08-05T02:49:38.584Z"
   },
   {
    "duration": 40,
    "start_time": "2022-08-05T02:49:38.637Z"
   },
   {
    "duration": 131,
    "start_time": "2022-08-05T02:49:38.679Z"
   },
   {
    "duration": 6,
    "start_time": "2022-08-05T02:49:38.811Z"
   },
   {
    "duration": 7,
    "start_time": "2022-08-05T02:49:38.818Z"
   },
   {
    "duration": 46,
    "start_time": "2022-08-05T02:49:38.827Z"
   },
   {
    "duration": 62,
    "start_time": "2022-08-05T02:49:38.874Z"
   },
   {
    "duration": 26,
    "start_time": "2022-08-05T02:49:38.938Z"
   },
   {
    "duration": 72,
    "start_time": "2022-08-05T02:49:38.966Z"
   },
   {
    "duration": 39,
    "start_time": "2022-08-05T02:49:39.039Z"
   },
   {
    "duration": 103,
    "start_time": "2022-08-05T02:49:39.080Z"
   },
   {
    "duration": 6,
    "start_time": "2022-08-05T02:49:39.187Z"
   },
   {
    "duration": 20,
    "start_time": "2022-08-05T02:49:39.195Z"
   },
   {
    "duration": 17,
    "start_time": "2022-08-05T02:49:39.217Z"
   },
   {
    "duration": 729,
    "start_time": "2022-08-05T02:49:39.236Z"
   },
   {
    "duration": 14,
    "start_time": "2022-08-05T02:49:39.967Z"
   },
   {
    "duration": 103,
    "start_time": "2022-08-05T02:49:39.983Z"
   },
   {
    "duration": 43,
    "start_time": "2022-08-05T02:49:40.088Z"
   },
   {
    "duration": 804,
    "start_time": "2022-08-05T02:49:40.133Z"
   },
   {
    "duration": 122,
    "start_time": "2022-08-05T02:49:40.939Z"
   },
   {
    "duration": 163,
    "start_time": "2022-08-05T02:49:41.063Z"
   },
   {
    "duration": 789,
    "start_time": "2022-08-05T02:49:41.228Z"
   },
   {
    "duration": 1003,
    "start_time": "2022-08-05T02:49:42.019Z"
   },
   {
    "duration": 105,
    "start_time": "2022-08-05T02:49:43.023Z"
   },
   {
    "duration": 96,
    "start_time": "2022-08-05T02:49:43.129Z"
   },
   {
    "duration": 463,
    "start_time": "2022-08-05T02:49:43.226Z"
   },
   {
    "duration": 3,
    "start_time": "2022-08-05T02:49:43.691Z"
   },
   {
    "duration": 91,
    "start_time": "2022-08-05T02:49:43.695Z"
   },
   {
    "duration": 4,
    "start_time": "2022-08-05T02:49:43.788Z"
   },
   {
    "duration": 4,
    "start_time": "2022-08-05T02:49:43.809Z"
   },
   {
    "duration": 1401051,
    "start_time": "2022-08-05T02:49:43.814Z"
   },
   {
    "duration": 3,
    "start_time": "2022-08-05T03:13:04.867Z"
   },
   {
    "duration": 18403,
    "start_time": "2022-08-05T03:13:04.872Z"
   },
   {
    "duration": 87,
    "start_time": "2022-08-05T03:13:23.277Z"
   },
   {
    "duration": 4,
    "start_time": "2022-08-05T03:13:23.366Z"
   },
   {
    "duration": 828491,
    "start_time": "2022-08-05T03:13:23.371Z"
   },
   {
    "duration": 4,
    "start_time": "2022-08-05T03:27:11.863Z"
   },
   {
    "duration": 36648,
    "start_time": "2022-08-05T03:27:11.869Z"
   },
   {
    "duration": 94,
    "start_time": "2022-08-05T03:27:48.519Z"
   },
   {
    "duration": 4,
    "start_time": "2022-08-05T03:27:48.614Z"
   },
   {
    "duration": 39371,
    "start_time": "2022-08-05T03:27:48.619Z"
   },
   {
    "duration": 3,
    "start_time": "2022-08-05T03:28:27.992Z"
   },
   {
    "duration": 2288,
    "start_time": "2022-08-05T03:28:27.997Z"
   },
   {
    "duration": 91,
    "start_time": "2022-08-05T03:28:30.287Z"
   },
   {
    "duration": 4,
    "start_time": "2022-08-05T03:28:30.380Z"
   },
   {
    "duration": 33660,
    "start_time": "2022-08-05T03:28:30.385Z"
   },
   {
    "duration": 3,
    "start_time": "2022-08-05T03:29:04.047Z"
   },
   {
    "duration": 2174,
    "start_time": "2022-08-05T03:29:04.052Z"
   },
   {
    "duration": 146,
    "start_time": "2022-08-05T03:29:06.228Z"
   },
   {
    "duration": 303825,
    "start_time": "2022-08-05T03:29:06.376Z"
   },
   {
    "duration": 4,
    "start_time": "2022-08-05T03:34:10.203Z"
   },
   {
    "duration": 19353,
    "start_time": "2022-08-05T03:34:10.208Z"
   },
   {
    "duration": 236,
    "start_time": "2022-08-05T03:34:29.562Z"
   },
   {
    "duration": 9,
    "start_time": "2022-08-05T03:34:29.800Z"
   },
   {
    "duration": 171422,
    "start_time": "2022-08-05T03:34:29.811Z"
   },
   {
    "duration": 76,
    "start_time": "2022-08-05T03:37:21.235Z"
   },
   {
    "duration": 6507,
    "start_time": "2022-08-05T03:37:21.312Z"
   },
   {
    "duration": 371,
    "start_time": "2022-08-05T03:37:27.821Z"
   },
   {
    "duration": 8049,
    "start_time": "2022-08-05T03:41:20.871Z"
   },
   {
    "duration": 1413,
    "start_time": "2022-08-05T03:45:11.982Z"
   },
   {
    "duration": 664,
    "start_time": "2022-08-05T03:45:13.398Z"
   },
   {
    "duration": 129,
    "start_time": "2022-08-05T03:45:14.063Z"
   },
   {
    "duration": 15,
    "start_time": "2022-08-05T03:45:14.194Z"
   },
   {
    "duration": 750,
    "start_time": "2022-08-05T03:45:14.210Z"
   },
   {
    "duration": 14,
    "start_time": "2022-08-05T03:45:14.962Z"
   },
   {
    "duration": 10,
    "start_time": "2022-08-05T03:45:14.977Z"
   },
   {
    "duration": 196,
    "start_time": "2022-08-05T03:45:14.988Z"
   },
   {
    "duration": 78,
    "start_time": "2022-08-05T03:45:15.185Z"
   },
   {
    "duration": 148,
    "start_time": "2022-08-05T03:45:15.265Z"
   },
   {
    "duration": 17,
    "start_time": "2022-08-05T03:45:15.415Z"
   },
   {
    "duration": 5,
    "start_time": "2022-08-05T03:45:15.434Z"
   },
   {
    "duration": 43,
    "start_time": "2022-08-05T03:45:15.440Z"
   },
   {
    "duration": 54,
    "start_time": "2022-08-05T03:45:15.485Z"
   },
   {
    "duration": 6,
    "start_time": "2022-08-05T03:45:15.541Z"
   },
   {
    "duration": 181,
    "start_time": "2022-08-05T03:45:15.548Z"
   },
   {
    "duration": 40,
    "start_time": "2022-08-05T03:45:15.730Z"
   },
   {
    "duration": 53,
    "start_time": "2022-08-05T03:45:15.772Z"
   },
   {
    "duration": 116,
    "start_time": "2022-08-05T03:45:15.827Z"
   },
   {
    "duration": 8,
    "start_time": "2022-08-05T03:45:15.945Z"
   },
   {
    "duration": 14,
    "start_time": "2022-08-05T03:45:15.955Z"
   },
   {
    "duration": 65,
    "start_time": "2022-08-05T03:45:15.974Z"
   },
   {
    "duration": 38,
    "start_time": "2022-08-05T03:45:16.041Z"
   },
   {
    "duration": 37,
    "start_time": "2022-08-05T03:45:16.081Z"
   },
   {
    "duration": 48,
    "start_time": "2022-08-05T03:45:16.120Z"
   },
   {
    "duration": 53,
    "start_time": "2022-08-05T03:45:16.170Z"
   },
   {
    "duration": 99,
    "start_time": "2022-08-05T03:45:16.225Z"
   },
   {
    "duration": 5,
    "start_time": "2022-08-05T03:45:16.328Z"
   },
   {
    "duration": 7,
    "start_time": "2022-08-05T03:45:16.335Z"
   },
   {
    "duration": 4,
    "start_time": "2022-08-05T03:45:16.344Z"
   },
   {
    "duration": 743,
    "start_time": "2022-08-05T03:45:16.350Z"
   },
   {
    "duration": 21,
    "start_time": "2022-08-05T03:45:17.095Z"
   },
   {
    "duration": 126,
    "start_time": "2022-08-05T03:45:17.118Z"
   },
   {
    "duration": 37,
    "start_time": "2022-08-05T03:45:17.245Z"
   },
   {
    "duration": 826,
    "start_time": "2022-08-05T03:45:17.284Z"
   },
   {
    "duration": 129,
    "start_time": "2022-08-05T03:45:18.111Z"
   },
   {
    "duration": 167,
    "start_time": "2022-08-05T03:45:18.242Z"
   },
   {
    "duration": 777,
    "start_time": "2022-08-05T03:45:18.410Z"
   },
   {
    "duration": 1015,
    "start_time": "2022-08-05T03:45:19.188Z"
   },
   {
    "duration": 114,
    "start_time": "2022-08-05T03:45:20.205Z"
   },
   {
    "duration": 95,
    "start_time": "2022-08-05T03:45:20.321Z"
   },
   {
    "duration": 476,
    "start_time": "2022-08-05T03:45:20.418Z"
   },
   {
    "duration": 90,
    "start_time": "2022-08-05T03:45:20.895Z"
   },
   {
    "duration": 5,
    "start_time": "2022-08-05T03:45:20.986Z"
   },
   {
    "duration": 16,
    "start_time": "2022-08-05T03:45:20.993Z"
   },
   {
    "duration": 532430,
    "start_time": "2022-08-05T03:45:21.010Z"
   },
   {
    "duration": 0,
    "start_time": "2022-08-05T03:54:13.441Z"
   },
   {
    "duration": 0,
    "start_time": "2022-08-05T03:54:13.443Z"
   },
   {
    "duration": 0,
    "start_time": "2022-08-05T03:54:13.444Z"
   },
   {
    "duration": 0,
    "start_time": "2022-08-05T03:54:13.445Z"
   },
   {
    "duration": 1,
    "start_time": "2022-08-05T03:54:13.446Z"
   },
   {
    "duration": 0,
    "start_time": "2022-08-05T03:54:13.448Z"
   },
   {
    "duration": 0,
    "start_time": "2022-08-05T03:54:13.449Z"
   },
   {
    "duration": 0,
    "start_time": "2022-08-05T03:54:13.450Z"
   },
   {
    "duration": 0,
    "start_time": "2022-08-05T03:54:13.451Z"
   },
   {
    "duration": 0,
    "start_time": "2022-08-05T03:54:13.452Z"
   },
   {
    "duration": 0,
    "start_time": "2022-08-05T03:54:13.453Z"
   },
   {
    "duration": 0,
    "start_time": "2022-08-05T03:54:13.454Z"
   },
   {
    "duration": 0,
    "start_time": "2022-08-05T03:54:13.455Z"
   },
   {
    "duration": 0,
    "start_time": "2022-08-05T03:54:13.456Z"
   },
   {
    "duration": 0,
    "start_time": "2022-08-05T03:54:13.457Z"
   },
   {
    "duration": 0,
    "start_time": "2022-08-05T03:54:13.458Z"
   },
   {
    "duration": 0,
    "start_time": "2022-08-05T03:54:13.459Z"
   },
   {
    "duration": 0,
    "start_time": "2022-08-05T03:54:13.460Z"
   },
   {
    "duration": 0,
    "start_time": "2022-08-05T03:54:13.461Z"
   },
   {
    "duration": 0,
    "start_time": "2022-08-05T03:54:13.462Z"
   },
   {
    "duration": 0,
    "start_time": "2022-08-05T03:54:13.464Z"
   },
   {
    "duration": 0,
    "start_time": "2022-08-05T03:54:13.464Z"
   },
   {
    "duration": 0,
    "start_time": "2022-08-05T03:54:13.465Z"
   },
   {
    "duration": 0,
    "start_time": "2022-08-05T03:54:13.466Z"
   },
   {
    "duration": 0,
    "start_time": "2022-08-05T03:54:13.467Z"
   },
   {
    "duration": 0,
    "start_time": "2022-08-05T03:54:13.509Z"
   },
   {
    "duration": 0,
    "start_time": "2022-08-05T03:54:13.511Z"
   },
   {
    "duration": 123783,
    "start_time": "2022-08-05T03:54:16.489Z"
   },
   {
    "duration": 1439,
    "start_time": "2022-08-05T03:56:31.149Z"
   },
   {
    "duration": 653,
    "start_time": "2022-08-05T03:56:32.590Z"
   },
   {
    "duration": 128,
    "start_time": "2022-08-05T03:56:33.244Z"
   },
   {
    "duration": 4,
    "start_time": "2022-08-05T03:56:33.374Z"
   },
   {
    "duration": 752,
    "start_time": "2022-08-05T03:56:33.380Z"
   },
   {
    "duration": 12,
    "start_time": "2022-08-05T03:56:34.134Z"
   },
   {
    "duration": 9,
    "start_time": "2022-08-05T03:56:34.148Z"
   },
   {
    "duration": 203,
    "start_time": "2022-08-05T03:56:34.159Z"
   },
   {
    "duration": 73,
    "start_time": "2022-08-05T03:56:34.363Z"
   },
   {
    "duration": 160,
    "start_time": "2022-08-05T03:56:34.439Z"
   },
   {
    "duration": 19,
    "start_time": "2022-08-05T03:56:34.600Z"
   },
   {
    "duration": 5,
    "start_time": "2022-08-05T03:56:34.620Z"
   },
   {
    "duration": 43,
    "start_time": "2022-08-05T03:56:34.626Z"
   },
   {
    "duration": 53,
    "start_time": "2022-08-05T03:56:34.670Z"
   },
   {
    "duration": 8,
    "start_time": "2022-08-05T03:56:34.724Z"
   },
   {
    "duration": 177,
    "start_time": "2022-08-05T03:56:34.733Z"
   },
   {
    "duration": 42,
    "start_time": "2022-08-05T03:56:34.911Z"
   },
   {
    "duration": 39,
    "start_time": "2022-08-05T03:56:34.954Z"
   },
   {
    "duration": 118,
    "start_time": "2022-08-05T03:56:35.009Z"
   },
   {
    "duration": 6,
    "start_time": "2022-08-05T03:56:35.128Z"
   },
   {
    "duration": 8,
    "start_time": "2022-08-05T03:56:35.135Z"
   },
   {
    "duration": 48,
    "start_time": "2022-08-05T03:56:35.145Z"
   },
   {
    "duration": 37,
    "start_time": "2022-08-05T03:56:35.208Z"
   },
   {
    "duration": 25,
    "start_time": "2022-08-05T03:56:35.247Z"
   },
   {
    "duration": 74,
    "start_time": "2022-08-05T03:56:35.274Z"
   },
   {
    "duration": 38,
    "start_time": "2022-08-05T03:56:35.350Z"
   },
   {
    "duration": 95,
    "start_time": "2022-08-05T03:56:35.390Z"
   },
   {
    "duration": 5,
    "start_time": "2022-08-05T03:56:35.489Z"
   },
   {
    "duration": 7,
    "start_time": "2022-08-05T03:56:35.508Z"
   },
   {
    "duration": 5,
    "start_time": "2022-08-05T03:56:35.516Z"
   },
   {
    "duration": 770,
    "start_time": "2022-08-05T03:56:35.522Z"
   },
   {
    "duration": 18,
    "start_time": "2022-08-05T03:56:36.293Z"
   },
   {
    "duration": 97,
    "start_time": "2022-08-05T03:56:36.313Z"
   },
   {
    "duration": 36,
    "start_time": "2022-08-05T03:56:36.411Z"
   },
   {
    "duration": 830,
    "start_time": "2022-08-05T03:56:36.448Z"
   },
   {
    "duration": 129,
    "start_time": "2022-08-05T03:56:37.280Z"
   },
   {
    "duration": 156,
    "start_time": "2022-08-05T03:56:37.411Z"
   },
   {
    "duration": 774,
    "start_time": "2022-08-05T03:56:37.569Z"
   },
   {
    "duration": 993,
    "start_time": "2022-08-05T03:56:38.345Z"
   },
   {
    "duration": 108,
    "start_time": "2022-08-05T03:56:39.339Z"
   },
   {
    "duration": 90,
    "start_time": "2022-08-05T03:56:39.449Z"
   },
   {
    "duration": 470,
    "start_time": "2022-08-05T03:56:39.540Z"
   },
   {
    "duration": 83,
    "start_time": "2022-08-05T03:56:40.011Z"
   },
   {
    "duration": 4,
    "start_time": "2022-08-05T03:56:40.108Z"
   },
   {
    "duration": 9,
    "start_time": "2022-08-05T03:56:40.114Z"
   },
   {
    "duration": 752307,
    "start_time": "2022-08-05T03:56:40.124Z"
   },
   {
    "duration": 4,
    "start_time": "2022-08-05T04:09:12.433Z"
   },
   {
    "duration": 20641,
    "start_time": "2022-08-05T04:09:12.438Z"
   },
   {
    "duration": 91,
    "start_time": "2022-08-05T04:09:33.080Z"
   },
   {
    "duration": 4,
    "start_time": "2022-08-05T04:09:33.173Z"
   },
   {
    "duration": 593767,
    "start_time": "2022-08-05T04:09:33.179Z"
   },
   {
    "duration": 4,
    "start_time": "2022-08-05T04:19:26.947Z"
   },
   {
    "duration": 45406,
    "start_time": "2022-08-05T04:19:26.953Z"
   },
   {
    "duration": 93,
    "start_time": "2022-08-05T04:20:12.360Z"
   },
   {
    "duration": 4,
    "start_time": "2022-08-05T04:20:12.455Z"
   },
   {
    "duration": 15116,
    "start_time": "2022-08-05T04:20:12.460Z"
   },
   {
    "duration": 3,
    "start_time": "2022-08-05T04:20:27.578Z"
   },
   {
    "duration": 2351,
    "start_time": "2022-08-05T04:20:27.583Z"
   },
   {
    "duration": 92,
    "start_time": "2022-08-05T04:20:29.936Z"
   },
   {
    "duration": 4,
    "start_time": "2022-08-05T04:20:30.030Z"
   },
   {
    "duration": 36626,
    "start_time": "2022-08-05T04:20:30.036Z"
   },
   {
    "duration": 4,
    "start_time": "2022-08-05T04:21:06.663Z"
   },
   {
    "duration": 2259,
    "start_time": "2022-08-05T04:21:06.668Z"
   },
   {
    "duration": 153,
    "start_time": "2022-08-05T04:21:08.929Z"
   },
   {
    "duration": 1963,
    "start_time": "2022-08-05T16:41:43.176Z"
   },
   {
    "duration": 3314,
    "start_time": "2022-08-05T16:41:45.141Z"
   },
   {
    "duration": 173,
    "start_time": "2022-08-05T16:41:48.457Z"
   },
   {
    "duration": 5,
    "start_time": "2022-08-05T16:41:48.632Z"
   },
   {
    "duration": 2064,
    "start_time": "2022-08-05T16:41:48.639Z"
   },
   {
    "duration": 22,
    "start_time": "2022-08-05T16:41:50.705Z"
   },
   {
    "duration": 69,
    "start_time": "2022-08-05T16:41:50.729Z"
   },
   {
    "duration": 507,
    "start_time": "2022-08-05T16:41:50.802Z"
   },
   {
    "duration": 200,
    "start_time": "2022-08-05T16:41:51.311Z"
   },
   {
    "duration": 447,
    "start_time": "2022-08-05T16:41:51.514Z"
   },
   {
    "duration": 45,
    "start_time": "2022-08-05T16:41:51.967Z"
   },
   {
    "duration": 8,
    "start_time": "2022-08-05T16:41:52.015Z"
   },
   {
    "duration": 71,
    "start_time": "2022-08-05T16:41:52.025Z"
   },
   {
    "duration": 57,
    "start_time": "2022-08-05T16:41:52.099Z"
   },
   {
    "duration": 13,
    "start_time": "2022-08-05T16:41:52.158Z"
   },
   {
    "duration": 441,
    "start_time": "2022-08-05T16:41:52.173Z"
   },
   {
    "duration": 110,
    "start_time": "2022-08-05T16:41:52.617Z"
   },
   {
    "duration": 165,
    "start_time": "2022-08-05T16:41:52.729Z"
   },
   {
    "duration": 433,
    "start_time": "2022-08-05T16:41:52.899Z"
   },
   {
    "duration": 64,
    "start_time": "2022-08-05T16:41:53.334Z"
   },
   {
    "duration": 24,
    "start_time": "2022-08-05T16:41:53.399Z"
   },
   {
    "duration": 117,
    "start_time": "2022-08-05T16:41:53.425Z"
   },
   {
    "duration": 129,
    "start_time": "2022-08-05T16:41:53.592Z"
   },
   {
    "duration": 91,
    "start_time": "2022-08-05T16:41:53.724Z"
   },
   {
    "duration": 181,
    "start_time": "2022-08-05T16:41:53.817Z"
   },
   {
    "duration": 108,
    "start_time": "2022-08-05T16:41:54.004Z"
   },
   {
    "duration": 177,
    "start_time": "2022-08-05T16:41:54.115Z"
   },
   {
    "duration": 7,
    "start_time": "2022-08-05T16:41:54.307Z"
   },
   {
    "duration": 12,
    "start_time": "2022-08-05T16:41:54.316Z"
   },
   {
    "duration": 8,
    "start_time": "2022-08-05T16:41:54.330Z"
   },
   {
    "duration": 1088,
    "start_time": "2022-08-05T16:41:54.339Z"
   },
   {
    "duration": 65,
    "start_time": "2022-08-05T16:41:55.429Z"
   },
   {
    "duration": 147,
    "start_time": "2022-08-05T16:41:55.498Z"
   },
   {
    "duration": 45,
    "start_time": "2022-08-05T16:41:55.691Z"
   },
   {
    "duration": 1091,
    "start_time": "2022-08-05T16:41:55.738Z"
   },
   {
    "duration": 148,
    "start_time": "2022-08-05T16:41:56.831Z"
   },
   {
    "duration": 191,
    "start_time": "2022-08-05T16:41:56.981Z"
   },
   {
    "duration": 950,
    "start_time": "2022-08-05T16:41:57.173Z"
   },
   {
    "duration": 1122,
    "start_time": "2022-08-05T16:41:58.125Z"
   },
   {
    "duration": 131,
    "start_time": "2022-08-05T16:41:59.249Z"
   },
   {
    "duration": 135,
    "start_time": "2022-08-05T16:41:59.383Z"
   },
   {
    "duration": 528,
    "start_time": "2022-08-05T16:41:59.520Z"
   },
   {
    "duration": 99,
    "start_time": "2022-08-05T16:42:00.051Z"
   },
   {
    "duration": 5,
    "start_time": "2022-08-05T16:42:00.152Z"
   },
   {
    "duration": 28,
    "start_time": "2022-08-05T16:42:00.159Z"
   },
   {
    "duration": 1102985,
    "start_time": "2022-08-05T16:42:00.189Z"
   },
   {
    "duration": 4,
    "start_time": "2022-08-05T17:00:23.176Z"
   },
   {
    "duration": 41430,
    "start_time": "2022-08-05T17:00:23.182Z"
   },
   {
    "duration": 98,
    "start_time": "2022-08-05T17:01:04.613Z"
   },
   {
    "duration": 149,
    "start_time": "2022-08-05T17:01:04.715Z"
   },
   {
    "duration": 0,
    "start_time": "2022-08-05T17:01:04.866Z"
   },
   {
    "duration": 0,
    "start_time": "2022-08-05T17:01:04.868Z"
   },
   {
    "duration": 0,
    "start_time": "2022-08-05T17:01:04.869Z"
   },
   {
    "duration": 0,
    "start_time": "2022-08-05T17:01:04.870Z"
   },
   {
    "duration": 1,
    "start_time": "2022-08-05T17:01:04.871Z"
   },
   {
    "duration": 0,
    "start_time": "2022-08-05T17:01:04.873Z"
   },
   {
    "duration": 0,
    "start_time": "2022-08-05T17:01:04.874Z"
   },
   {
    "duration": 0,
    "start_time": "2022-08-05T17:01:04.875Z"
   },
   {
    "duration": 0,
    "start_time": "2022-08-05T17:01:04.897Z"
   },
   {
    "duration": 0,
    "start_time": "2022-08-05T17:01:04.898Z"
   },
   {
    "duration": 0,
    "start_time": "2022-08-05T17:01:04.899Z"
   },
   {
    "duration": 0,
    "start_time": "2022-08-05T17:01:04.900Z"
   },
   {
    "duration": 0,
    "start_time": "2022-08-05T17:01:04.901Z"
   },
   {
    "duration": 0,
    "start_time": "2022-08-05T17:01:04.902Z"
   },
   {
    "duration": 0,
    "start_time": "2022-08-05T17:01:04.904Z"
   },
   {
    "duration": 0,
    "start_time": "2022-08-05T17:01:04.905Z"
   },
   {
    "duration": 0,
    "start_time": "2022-08-05T17:01:04.906Z"
   },
   {
    "duration": 0,
    "start_time": "2022-08-05T17:01:04.907Z"
   },
   {
    "duration": 0,
    "start_time": "2022-08-05T17:01:04.908Z"
   },
   {
    "duration": 0,
    "start_time": "2022-08-05T17:01:04.909Z"
   },
   {
    "duration": 0,
    "start_time": "2022-08-05T17:01:04.910Z"
   },
   {
    "duration": 0,
    "start_time": "2022-08-05T17:01:04.911Z"
   },
   {
    "duration": 0,
    "start_time": "2022-08-05T17:01:04.912Z"
   },
   {
    "duration": 32,
    "start_time": "2022-08-05T17:04:35.077Z"
   },
   {
    "duration": 7,
    "start_time": "2022-08-05T17:04:53.218Z"
   },
   {
    "duration": 2053,
    "start_time": "2022-08-05T17:05:05.253Z"
   },
   {
    "duration": 1159,
    "start_time": "2022-08-05T17:05:07.308Z"
   },
   {
    "duration": 182,
    "start_time": "2022-08-05T17:05:08.468Z"
   },
   {
    "duration": 5,
    "start_time": "2022-08-05T17:05:08.654Z"
   },
   {
    "duration": 1172,
    "start_time": "2022-08-05T17:05:08.661Z"
   },
   {
    "duration": 14,
    "start_time": "2022-08-05T17:05:09.835Z"
   },
   {
    "duration": 14,
    "start_time": "2022-08-05T17:05:09.851Z"
   },
   {
    "duration": 328,
    "start_time": "2022-08-05T17:05:09.867Z"
   },
   {
    "duration": 119,
    "start_time": "2022-08-05T17:05:10.197Z"
   },
   {
    "duration": 223,
    "start_time": "2022-08-05T17:05:10.321Z"
   },
   {
    "duration": 19,
    "start_time": "2022-08-05T17:05:10.547Z"
   },
   {
    "duration": 28,
    "start_time": "2022-08-05T17:05:10.569Z"
   },
   {
    "duration": 79,
    "start_time": "2022-08-05T17:05:10.599Z"
   },
   {
    "duration": 57,
    "start_time": "2022-08-05T17:05:10.680Z"
   },
   {
    "duration": 13,
    "start_time": "2022-08-05T17:05:10.739Z"
   },
   {
    "duration": 219,
    "start_time": "2022-08-05T17:05:10.754Z"
   },
   {
    "duration": 96,
    "start_time": "2022-08-05T17:05:10.975Z"
   },
   {
    "duration": 68,
    "start_time": "2022-08-05T17:05:11.073Z"
   },
   {
    "duration": 188,
    "start_time": "2022-08-05T17:05:11.144Z"
   },
   {
    "duration": 10,
    "start_time": "2022-08-05T17:05:11.334Z"
   },
   {
    "duration": 9,
    "start_time": "2022-08-05T17:05:11.346Z"
   },
   {
    "duration": 54,
    "start_time": "2022-08-05T17:05:11.357Z"
   },
   {
    "duration": 54,
    "start_time": "2022-08-05T17:05:11.415Z"
   },
   {
    "duration": 62,
    "start_time": "2022-08-05T17:05:11.471Z"
   },
   {
    "duration": 74,
    "start_time": "2022-08-05T17:05:11.535Z"
   },
   {
    "duration": 58,
    "start_time": "2022-08-05T17:05:11.611Z"
   },
   {
    "duration": 138,
    "start_time": "2022-08-05T17:05:11.671Z"
   },
   {
    "duration": 33,
    "start_time": "2022-08-05T17:05:11.830Z"
   },
   {
    "duration": 13,
    "start_time": "2022-08-05T17:05:11.865Z"
   },
   {
    "duration": 15,
    "start_time": "2022-08-05T17:05:11.882Z"
   },
   {
    "duration": 1204,
    "start_time": "2022-08-05T17:05:11.899Z"
   },
   {
    "duration": 24,
    "start_time": "2022-08-05T17:05:13.106Z"
   },
   {
    "duration": 157,
    "start_time": "2022-08-05T17:05:13.133Z"
   },
   {
    "duration": 49,
    "start_time": "2022-08-05T17:05:13.300Z"
   },
   {
    "duration": 1210,
    "start_time": "2022-08-05T17:05:13.351Z"
   },
   {
    "duration": 196,
    "start_time": "2022-08-05T17:05:14.564Z"
   },
   {
    "duration": 204,
    "start_time": "2022-08-05T17:05:14.762Z"
   },
   {
    "duration": 1017,
    "start_time": "2022-08-05T17:05:14.967Z"
   },
   {
    "duration": 1275,
    "start_time": "2022-08-05T17:05:15.986Z"
   },
   {
    "duration": 125,
    "start_time": "2022-08-05T17:05:17.263Z"
   },
   {
    "duration": 145,
    "start_time": "2022-08-05T17:05:17.391Z"
   },
   {
    "duration": 735,
    "start_time": "2022-08-05T17:05:17.538Z"
   },
   {
    "duration": 0,
    "start_time": "2022-08-05T17:05:18.275Z"
   },
   {
    "duration": 0,
    "start_time": "2022-08-05T17:05:18.276Z"
   },
   {
    "duration": 0,
    "start_time": "2022-08-05T17:05:18.278Z"
   },
   {
    "duration": 0,
    "start_time": "2022-08-05T17:05:18.279Z"
   },
   {
    "duration": 0,
    "start_time": "2022-08-05T17:05:18.280Z"
   },
   {
    "duration": 0,
    "start_time": "2022-08-05T17:05:18.281Z"
   },
   {
    "duration": 0,
    "start_time": "2022-08-05T17:05:18.282Z"
   },
   {
    "duration": 0,
    "start_time": "2022-08-05T17:05:18.283Z"
   },
   {
    "duration": 0,
    "start_time": "2022-08-05T17:05:18.284Z"
   },
   {
    "duration": 0,
    "start_time": "2022-08-05T17:05:18.284Z"
   },
   {
    "duration": 0,
    "start_time": "2022-08-05T17:05:18.286Z"
   },
   {
    "duration": 0,
    "start_time": "2022-08-05T17:05:18.287Z"
   },
   {
    "duration": 0,
    "start_time": "2022-08-05T17:05:18.288Z"
   },
   {
    "duration": 0,
    "start_time": "2022-08-05T17:05:18.289Z"
   },
   {
    "duration": 0,
    "start_time": "2022-08-05T17:05:18.294Z"
   },
   {
    "duration": 0,
    "start_time": "2022-08-05T17:05:18.295Z"
   },
   {
    "duration": 0,
    "start_time": "2022-08-05T17:05:18.296Z"
   },
   {
    "duration": 0,
    "start_time": "2022-08-05T17:05:18.297Z"
   },
   {
    "duration": 0,
    "start_time": "2022-08-05T17:05:18.299Z"
   },
   {
    "duration": 0,
    "start_time": "2022-08-05T17:05:18.299Z"
   },
   {
    "duration": 0,
    "start_time": "2022-08-05T17:05:18.300Z"
   },
   {
    "duration": 0,
    "start_time": "2022-08-05T17:05:18.301Z"
   },
   {
    "duration": 0,
    "start_time": "2022-08-05T17:05:18.304Z"
   },
   {
    "duration": 0,
    "start_time": "2022-08-05T17:05:18.307Z"
   },
   {
    "duration": 0,
    "start_time": "2022-08-05T17:05:18.308Z"
   },
   {
    "duration": 0,
    "start_time": "2022-08-05T17:05:18.315Z"
   },
   {
    "duration": 0,
    "start_time": "2022-08-05T17:05:18.316Z"
   },
   {
    "duration": 0,
    "start_time": "2022-08-05T17:05:18.317Z"
   },
   {
    "duration": 0,
    "start_time": "2022-08-05T17:05:18.319Z"
   },
   {
    "duration": 0,
    "start_time": "2022-08-05T17:05:18.326Z"
   },
   {
    "duration": 0,
    "start_time": "2022-08-05T17:05:18.327Z"
   },
   {
    "duration": 1712,
    "start_time": "2022-08-05T17:05:36.492Z"
   },
   {
    "duration": 823,
    "start_time": "2022-08-05T17:05:38.208Z"
   },
   {
    "duration": 164,
    "start_time": "2022-08-05T17:05:39.033Z"
   },
   {
    "duration": 7,
    "start_time": "2022-08-05T17:05:39.200Z"
   },
   {
    "duration": 1132,
    "start_time": "2022-08-05T17:05:39.210Z"
   },
   {
    "duration": 23,
    "start_time": "2022-08-05T17:05:40.344Z"
   },
   {
    "duration": 15,
    "start_time": "2022-08-05T17:05:40.369Z"
   },
   {
    "duration": 267,
    "start_time": "2022-08-05T17:05:40.386Z"
   },
   {
    "duration": 94,
    "start_time": "2022-08-05T17:05:40.655Z"
   },
   {
    "duration": 208,
    "start_time": "2022-08-05T17:05:40.752Z"
   },
   {
    "duration": 44,
    "start_time": "2022-08-05T17:05:40.962Z"
   },
   {
    "duration": 8,
    "start_time": "2022-08-05T17:05:41.008Z"
   },
   {
    "duration": 61,
    "start_time": "2022-08-05T17:05:41.019Z"
   },
   {
    "duration": 63,
    "start_time": "2022-08-05T17:05:41.081Z"
   },
   {
    "duration": 8,
    "start_time": "2022-08-05T17:05:41.146Z"
   },
   {
    "duration": 253,
    "start_time": "2022-08-05T17:05:41.156Z"
   },
   {
    "duration": 58,
    "start_time": "2022-08-05T17:05:41.415Z"
   },
   {
    "duration": 62,
    "start_time": "2022-08-05T17:05:41.474Z"
   },
   {
    "duration": 168,
    "start_time": "2022-08-05T17:05:41.538Z"
   },
   {
    "duration": 6,
    "start_time": "2022-08-05T17:05:41.708Z"
   },
   {
    "duration": 16,
    "start_time": "2022-08-05T17:05:41.716Z"
   },
   {
    "duration": 70,
    "start_time": "2022-08-05T17:05:41.734Z"
   },
   {
    "duration": 64,
    "start_time": "2022-08-05T17:05:41.811Z"
   },
   {
    "duration": 55,
    "start_time": "2022-08-05T17:05:41.878Z"
   },
   {
    "duration": 117,
    "start_time": "2022-08-05T17:05:41.937Z"
   },
   {
    "duration": 74,
    "start_time": "2022-08-05T17:05:42.056Z"
   },
   {
    "duration": 125,
    "start_time": "2022-08-05T17:05:42.132Z"
   },
   {
    "duration": 8,
    "start_time": "2022-08-05T17:05:42.263Z"
   },
   {
    "duration": 27,
    "start_time": "2022-08-05T17:05:42.273Z"
   },
   {
    "duration": 33,
    "start_time": "2022-08-05T17:05:42.303Z"
   },
   {
    "duration": 972,
    "start_time": "2022-08-05T17:05:42.338Z"
   },
   {
    "duration": 19,
    "start_time": "2022-08-05T17:05:43.313Z"
   },
   {
    "duration": 134,
    "start_time": "2022-08-05T17:05:43.334Z"
   },
   {
    "duration": 58,
    "start_time": "2022-08-05T17:05:43.470Z"
   },
   {
    "duration": 1178,
    "start_time": "2022-08-05T17:05:43.530Z"
   },
   {
    "duration": 150,
    "start_time": "2022-08-05T17:05:44.709Z"
   },
   {
    "duration": 198,
    "start_time": "2022-08-05T17:05:44.861Z"
   },
   {
    "duration": 1103,
    "start_time": "2022-08-05T17:05:45.061Z"
   },
   {
    "duration": 1306,
    "start_time": "2022-08-05T17:05:46.166Z"
   },
   {
    "duration": 152,
    "start_time": "2022-08-05T17:05:47.474Z"
   },
   {
    "duration": 147,
    "start_time": "2022-08-05T17:05:47.629Z"
   },
   {
    "duration": 579,
    "start_time": "2022-08-05T17:05:47.778Z"
   },
   {
    "duration": 95,
    "start_time": "2022-08-05T17:05:48.360Z"
   },
   {
    "duration": 5,
    "start_time": "2022-08-05T17:05:48.457Z"
   },
   {
    "duration": 14,
    "start_time": "2022-08-05T17:05:48.464Z"
   },
   {
    "duration": 1317097,
    "start_time": "2022-08-05T17:05:48.479Z"
   },
   {
    "duration": 5,
    "start_time": "2022-08-05T17:27:45.578Z"
   },
   {
    "duration": 52175,
    "start_time": "2022-08-05T17:27:45.585Z"
   },
   {
    "duration": 110,
    "start_time": "2022-08-05T17:28:37.762Z"
   },
   {
    "duration": 116,
    "start_time": "2022-08-05T17:28:37.874Z"
   },
   {
    "duration": 1630930,
    "start_time": "2022-08-05T17:28:37.992Z"
   },
   {
    "duration": 4,
    "start_time": "2022-08-05T17:55:48.924Z"
   },
   {
    "duration": 52597,
    "start_time": "2022-08-05T17:55:48.929Z"
   },
   {
    "duration": 96,
    "start_time": "2022-08-05T17:56:41.528Z"
   },
   {
    "duration": 4,
    "start_time": "2022-08-05T17:56:41.626Z"
   },
   {
    "duration": 29135,
    "start_time": "2022-08-05T17:56:41.631Z"
   },
   {
    "duration": 4,
    "start_time": "2022-08-05T17:57:10.768Z"
   },
   {
    "duration": 2659,
    "start_time": "2022-08-05T17:57:10.774Z"
   },
   {
    "duration": 109,
    "start_time": "2022-08-05T17:57:13.435Z"
   },
   {
    "duration": 5,
    "start_time": "2022-08-05T17:57:13.546Z"
   },
   {
    "duration": 19469,
    "start_time": "2022-08-05T17:57:13.553Z"
   },
   {
    "duration": 5,
    "start_time": "2022-08-05T17:57:33.023Z"
   },
   {
    "duration": 2634,
    "start_time": "2022-08-05T17:57:33.030Z"
   },
   {
    "duration": 159,
    "start_time": "2022-08-05T17:57:35.666Z"
   },
   {
    "duration": 791459,
    "start_time": "2022-08-05T17:57:35.826Z"
   },
   {
    "duration": 0,
    "start_time": "2022-08-05T18:10:47.289Z"
   },
   {
    "duration": 0,
    "start_time": "2022-08-05T18:10:47.290Z"
   },
   {
    "duration": 0,
    "start_time": "2022-08-05T18:10:47.300Z"
   },
   {
    "duration": 0,
    "start_time": "2022-08-05T18:10:47.302Z"
   },
   {
    "duration": 0,
    "start_time": "2022-08-05T18:10:47.303Z"
   },
   {
    "duration": 0,
    "start_time": "2022-08-05T18:10:47.304Z"
   },
   {
    "duration": 0,
    "start_time": "2022-08-05T18:10:47.305Z"
   },
   {
    "duration": 0,
    "start_time": "2022-08-05T18:10:47.305Z"
   },
   {
    "duration": 0,
    "start_time": "2022-08-05T18:10:47.306Z"
   },
   {
    "duration": 31,
    "start_time": "2022-08-05T18:14:08.891Z"
   },
   {
    "duration": 21,
    "start_time": "2022-08-05T18:14:30.785Z"
   },
   {
    "duration": 27,
    "start_time": "2022-08-05T18:14:37.189Z"
   },
   {
    "duration": 26,
    "start_time": "2022-08-05T18:16:39.801Z"
   },
   {
    "duration": 20,
    "start_time": "2022-08-05T18:22:17.580Z"
   },
   {
    "duration": 16,
    "start_time": "2022-08-05T18:22:33.507Z"
   },
   {
    "duration": 10,
    "start_time": "2022-08-05T18:22:38.409Z"
   },
   {
    "duration": 64,
    "start_time": "2022-08-05T18:22:55.803Z"
   },
   {
    "duration": 183,
    "start_time": "2022-08-05T18:23:27.689Z"
   },
   {
    "duration": 10,
    "start_time": "2022-08-05T18:29:30.723Z"
   },
   {
    "duration": 43,
    "start_time": "2022-08-05T18:31:30.164Z"
   },
   {
    "duration": 55,
    "start_time": "2022-08-05T18:31:46.779Z"
   },
   {
    "duration": 25,
    "start_time": "2022-08-05T18:32:46.566Z"
   },
   {
    "duration": 1724,
    "start_time": "2022-08-05T18:32:54.804Z"
   },
   {
    "duration": 1087,
    "start_time": "2022-08-05T18:32:56.530Z"
   },
   {
    "duration": 154,
    "start_time": "2022-08-05T18:32:57.618Z"
   },
   {
    "duration": 6,
    "start_time": "2022-08-05T18:32:57.775Z"
   },
   {
    "duration": 968,
    "start_time": "2022-08-05T18:32:57.791Z"
   },
   {
    "duration": 18,
    "start_time": "2022-08-05T18:32:58.761Z"
   },
   {
    "duration": 17,
    "start_time": "2022-08-05T18:32:58.793Z"
   },
   {
    "duration": 230,
    "start_time": "2022-08-05T18:32:58.812Z"
   },
   {
    "duration": 97,
    "start_time": "2022-08-05T18:32:59.043Z"
   },
   {
    "duration": 191,
    "start_time": "2022-08-05T18:32:59.143Z"
   },
   {
    "duration": 18,
    "start_time": "2022-08-05T18:32:59.336Z"
   },
   {
    "duration": 12,
    "start_time": "2022-08-05T18:32:59.356Z"
   },
   {
    "duration": 54,
    "start_time": "2022-08-05T18:32:59.370Z"
   },
   {
    "duration": 239,
    "start_time": "2022-08-05T18:32:59.426Z"
   },
   {
    "duration": 72,
    "start_time": "2022-08-05T18:32:59.667Z"
   },
   {
    "duration": 59,
    "start_time": "2022-08-05T18:32:59.741Z"
   },
   {
    "duration": 18,
    "start_time": "2022-08-05T18:32:59.801Z"
   },
   {
    "duration": 198,
    "start_time": "2022-08-05T18:32:59.821Z"
   },
   {
    "duration": 47,
    "start_time": "2022-08-05T18:33:00.021Z"
   },
   {
    "duration": 63,
    "start_time": "2022-08-05T18:33:00.070Z"
   },
   {
    "duration": 136,
    "start_time": "2022-08-05T18:33:00.135Z"
   },
   {
    "duration": 22,
    "start_time": "2022-08-05T18:33:00.273Z"
   },
   {
    "duration": 16,
    "start_time": "2022-08-05T18:33:00.299Z"
   },
   {
    "duration": 51,
    "start_time": "2022-08-05T18:33:00.317Z"
   },
   {
    "duration": 52,
    "start_time": "2022-08-05T18:33:00.369Z"
   },
   {
    "duration": 27,
    "start_time": "2022-08-05T18:33:00.423Z"
   },
   {
    "duration": 69,
    "start_time": "2022-08-05T18:33:00.452Z"
   },
   {
    "duration": 43,
    "start_time": "2022-08-05T18:33:00.526Z"
   },
   {
    "duration": 107,
    "start_time": "2022-08-05T18:33:00.570Z"
   },
   {
    "duration": 19,
    "start_time": "2022-08-05T18:33:00.678Z"
   },
   {
    "duration": 33,
    "start_time": "2022-08-05T18:33:00.698Z"
   },
   {
    "duration": 18,
    "start_time": "2022-08-05T18:33:00.733Z"
   },
   {
    "duration": 901,
    "start_time": "2022-08-05T18:33:00.753Z"
   },
   {
    "duration": 18,
    "start_time": "2022-08-05T18:33:01.656Z"
   },
   {
    "duration": 149,
    "start_time": "2022-08-05T18:33:01.693Z"
   },
   {
    "duration": 49,
    "start_time": "2022-08-05T18:33:01.844Z"
   },
   {
    "duration": 1124,
    "start_time": "2022-08-05T18:33:01.900Z"
   },
   {
    "duration": 142,
    "start_time": "2022-08-05T18:33:03.027Z"
   },
   {
    "duration": 209,
    "start_time": "2022-08-05T18:33:03.171Z"
   },
   {
    "duration": 1049,
    "start_time": "2022-08-05T18:33:03.382Z"
   },
   {
    "duration": 1252,
    "start_time": "2022-08-05T18:33:04.432Z"
   },
   {
    "duration": 131,
    "start_time": "2022-08-05T18:33:05.686Z"
   },
   {
    "duration": 114,
    "start_time": "2022-08-05T18:33:05.819Z"
   },
   {
    "duration": 500,
    "start_time": "2022-08-05T18:33:05.935Z"
   },
   {
    "duration": 217,
    "start_time": "2022-08-05T18:33:06.437Z"
   },
   {
    "duration": 4,
    "start_time": "2022-08-05T18:33:06.656Z"
   },
   {
    "duration": 13,
    "start_time": "2022-08-05T18:33:06.662Z"
   },
   {
    "duration": 1372,
    "start_time": "2022-08-05T18:33:06.676Z"
   },
   {
    "duration": 0,
    "start_time": "2022-08-05T18:33:08.050Z"
   },
   {
    "duration": 0,
    "start_time": "2022-08-05T18:33:08.051Z"
   },
   {
    "duration": 0,
    "start_time": "2022-08-05T18:33:08.052Z"
   },
   {
    "duration": 0,
    "start_time": "2022-08-05T18:33:08.054Z"
   },
   {
    "duration": 0,
    "start_time": "2022-08-05T18:33:08.055Z"
   },
   {
    "duration": 0,
    "start_time": "2022-08-05T18:33:08.056Z"
   },
   {
    "duration": 0,
    "start_time": "2022-08-05T18:33:08.057Z"
   },
   {
    "duration": 0,
    "start_time": "2022-08-05T18:33:08.058Z"
   },
   {
    "duration": 0,
    "start_time": "2022-08-05T18:33:08.059Z"
   },
   {
    "duration": 0,
    "start_time": "2022-08-05T18:33:08.060Z"
   },
   {
    "duration": 0,
    "start_time": "2022-08-05T18:33:08.062Z"
   },
   {
    "duration": 0,
    "start_time": "2022-08-05T18:33:08.063Z"
   },
   {
    "duration": 0,
    "start_time": "2022-08-05T18:33:08.064Z"
   },
   {
    "duration": 0,
    "start_time": "2022-08-05T18:33:08.064Z"
   },
   {
    "duration": 0,
    "start_time": "2022-08-05T18:33:08.095Z"
   },
   {
    "duration": 0,
    "start_time": "2022-08-05T18:33:08.096Z"
   },
   {
    "duration": 0,
    "start_time": "2022-08-05T18:33:08.097Z"
   },
   {
    "duration": 0,
    "start_time": "2022-08-05T18:33:08.097Z"
   },
   {
    "duration": 0,
    "start_time": "2022-08-05T18:33:08.099Z"
   },
   {
    "duration": 0,
    "start_time": "2022-08-05T18:33:08.100Z"
   },
   {
    "duration": 0,
    "start_time": "2022-08-05T18:33:08.102Z"
   },
   {
    "duration": 0,
    "start_time": "2022-08-05T18:33:08.103Z"
   },
   {
    "duration": 0,
    "start_time": "2022-08-05T18:33:08.104Z"
   },
   {
    "duration": 0,
    "start_time": "2022-08-05T18:33:08.106Z"
   },
   {
    "duration": 0,
    "start_time": "2022-08-05T18:33:08.108Z"
   },
   {
    "duration": 0,
    "start_time": "2022-08-05T18:33:08.109Z"
   },
   {
    "duration": 0,
    "start_time": "2022-08-05T18:33:08.110Z"
   },
   {
    "duration": 10,
    "start_time": "2022-08-05T18:52:50.223Z"
   },
   {
    "duration": 1645,
    "start_time": "2022-08-05T18:53:08.136Z"
   },
   {
    "duration": 823,
    "start_time": "2022-08-05T18:53:09.783Z"
   },
   {
    "duration": 149,
    "start_time": "2022-08-05T18:53:10.608Z"
   },
   {
    "duration": 5,
    "start_time": "2022-08-05T18:53:10.759Z"
   },
   {
    "duration": 856,
    "start_time": "2022-08-05T18:53:10.765Z"
   },
   {
    "duration": 19,
    "start_time": "2022-08-05T18:53:11.623Z"
   },
   {
    "duration": 11,
    "start_time": "2022-08-05T18:53:11.644Z"
   },
   {
    "duration": 264,
    "start_time": "2022-08-05T18:53:11.657Z"
   },
   {
    "duration": 108,
    "start_time": "2022-08-05T18:53:11.923Z"
   },
   {
    "duration": 182,
    "start_time": "2022-08-05T18:53:12.035Z"
   },
   {
    "duration": 17,
    "start_time": "2022-08-05T18:53:12.219Z"
   },
   {
    "duration": 6,
    "start_time": "2022-08-05T18:53:12.238Z"
   },
   {
    "duration": 50,
    "start_time": "2022-08-05T18:53:12.245Z"
   },
   {
    "duration": 191,
    "start_time": "2022-08-05T18:53:12.297Z"
   },
   {
    "duration": 46,
    "start_time": "2022-08-05T18:53:12.491Z"
   },
   {
    "duration": 60,
    "start_time": "2022-08-05T18:53:12.539Z"
   },
   {
    "duration": 11,
    "start_time": "2022-08-05T18:53:12.601Z"
   },
   {
    "duration": 204,
    "start_time": "2022-08-05T18:53:12.614Z"
   },
   {
    "duration": 48,
    "start_time": "2022-08-05T18:53:12.820Z"
   },
   {
    "duration": 52,
    "start_time": "2022-08-05T18:53:12.869Z"
   },
   {
    "duration": 132,
    "start_time": "2022-08-05T18:53:12.923Z"
   },
   {
    "duration": 7,
    "start_time": "2022-08-05T18:53:13.057Z"
   },
   {
    "duration": 27,
    "start_time": "2022-08-05T18:53:13.066Z"
   },
   {
    "duration": 52,
    "start_time": "2022-08-05T18:53:13.095Z"
   },
   {
    "duration": 61,
    "start_time": "2022-08-05T18:53:13.149Z"
   },
   {
    "duration": 30,
    "start_time": "2022-08-05T18:53:13.212Z"
   },
   {
    "duration": 75,
    "start_time": "2022-08-05T18:53:13.244Z"
   },
   {
    "duration": 43,
    "start_time": "2022-08-05T18:53:13.324Z"
   },
   {
    "duration": 103,
    "start_time": "2022-08-05T18:53:13.370Z"
   },
   {
    "duration": 18,
    "start_time": "2022-08-05T18:53:13.475Z"
   },
   {
    "duration": 9,
    "start_time": "2022-08-05T18:53:13.495Z"
   },
   {
    "duration": 10,
    "start_time": "2022-08-05T18:53:13.505Z"
   },
   {
    "duration": 836,
    "start_time": "2022-08-05T18:53:13.517Z"
   },
   {
    "duration": 19,
    "start_time": "2022-08-05T18:53:14.355Z"
   },
   {
    "duration": 122,
    "start_time": "2022-08-05T18:53:14.376Z"
   },
   {
    "duration": 48,
    "start_time": "2022-08-05T18:53:14.500Z"
   },
   {
    "duration": 1156,
    "start_time": "2022-08-05T18:53:14.550Z"
   },
   {
    "duration": 135,
    "start_time": "2022-08-05T18:53:15.708Z"
   },
   {
    "duration": 193,
    "start_time": "2022-08-05T18:53:15.845Z"
   },
   {
    "duration": 951,
    "start_time": "2022-08-05T18:53:16.039Z"
   },
   {
    "duration": 1205,
    "start_time": "2022-08-05T18:53:16.992Z"
   },
   {
    "duration": 126,
    "start_time": "2022-08-05T18:53:18.200Z"
   },
   {
    "duration": 107,
    "start_time": "2022-08-05T18:53:18.328Z"
   },
   {
    "duration": 499,
    "start_time": "2022-08-05T18:53:18.437Z"
   },
   {
    "duration": 216,
    "start_time": "2022-08-05T18:53:18.938Z"
   },
   {
    "duration": 5,
    "start_time": "2022-08-05T18:53:19.155Z"
   },
   {
    "duration": 14,
    "start_time": "2022-08-05T18:53:19.161Z"
   },
   {
    "duration": 1277,
    "start_time": "2022-08-05T18:53:19.177Z"
   },
   {
    "duration": 1,
    "start_time": "2022-08-05T18:53:20.455Z"
   },
   {
    "duration": 0,
    "start_time": "2022-08-05T18:53:20.457Z"
   },
   {
    "duration": 0,
    "start_time": "2022-08-05T18:53:20.458Z"
   },
   {
    "duration": 0,
    "start_time": "2022-08-05T18:53:20.460Z"
   },
   {
    "duration": 0,
    "start_time": "2022-08-05T18:53:20.461Z"
   },
   {
    "duration": 0,
    "start_time": "2022-08-05T18:53:20.462Z"
   },
   {
    "duration": 0,
    "start_time": "2022-08-05T18:53:20.463Z"
   },
   {
    "duration": 0,
    "start_time": "2022-08-05T18:53:20.464Z"
   },
   {
    "duration": 0,
    "start_time": "2022-08-05T18:53:20.465Z"
   },
   {
    "duration": 0,
    "start_time": "2022-08-05T18:53:20.466Z"
   },
   {
    "duration": 0,
    "start_time": "2022-08-05T18:53:20.492Z"
   },
   {
    "duration": 0,
    "start_time": "2022-08-05T18:53:20.494Z"
   },
   {
    "duration": 0,
    "start_time": "2022-08-05T18:53:20.496Z"
   },
   {
    "duration": 0,
    "start_time": "2022-08-05T18:53:20.497Z"
   },
   {
    "duration": 0,
    "start_time": "2022-08-05T18:53:20.498Z"
   },
   {
    "duration": 0,
    "start_time": "2022-08-05T18:53:20.500Z"
   },
   {
    "duration": 0,
    "start_time": "2022-08-05T18:53:20.501Z"
   },
   {
    "duration": 0,
    "start_time": "2022-08-05T18:53:20.502Z"
   },
   {
    "duration": 0,
    "start_time": "2022-08-05T18:53:20.504Z"
   },
   {
    "duration": 0,
    "start_time": "2022-08-05T18:53:20.505Z"
   },
   {
    "duration": 0,
    "start_time": "2022-08-05T18:53:20.507Z"
   },
   {
    "duration": 0,
    "start_time": "2022-08-05T18:53:20.508Z"
   },
   {
    "duration": 0,
    "start_time": "2022-08-05T18:53:20.510Z"
   },
   {
    "duration": 0,
    "start_time": "2022-08-05T18:53:20.511Z"
   },
   {
    "duration": 0,
    "start_time": "2022-08-05T18:53:20.512Z"
   },
   {
    "duration": 0,
    "start_time": "2022-08-05T18:53:20.513Z"
   },
   {
    "duration": 0,
    "start_time": "2022-08-05T18:53:20.514Z"
   },
   {
    "duration": 1175,
    "start_time": "2022-08-05T18:54:02.535Z"
   },
   {
    "duration": 1723,
    "start_time": "2022-08-05T18:54:34.860Z"
   },
   {
    "duration": 814,
    "start_time": "2022-08-05T18:54:36.585Z"
   },
   {
    "duration": 148,
    "start_time": "2022-08-05T18:54:37.401Z"
   },
   {
    "duration": 6,
    "start_time": "2022-08-05T18:54:37.552Z"
   },
   {
    "duration": 914,
    "start_time": "2022-08-05T18:54:37.560Z"
   },
   {
    "duration": 24,
    "start_time": "2022-08-05T18:54:38.477Z"
   },
   {
    "duration": 16,
    "start_time": "2022-08-05T18:54:38.503Z"
   },
   {
    "duration": 237,
    "start_time": "2022-08-05T18:54:38.521Z"
   },
   {
    "duration": 100,
    "start_time": "2022-08-05T18:54:38.760Z"
   },
   {
    "duration": 182,
    "start_time": "2022-08-05T18:54:38.862Z"
   },
   {
    "duration": 18,
    "start_time": "2022-08-05T18:54:39.046Z"
   },
   {
    "duration": 6,
    "start_time": "2022-08-05T18:54:39.066Z"
   },
   {
    "duration": 45,
    "start_time": "2022-08-05T18:54:39.073Z"
   },
   {
    "duration": 196,
    "start_time": "2022-08-05T18:54:39.120Z"
   },
   {
    "duration": 52,
    "start_time": "2022-08-05T18:54:39.318Z"
   },
   {
    "duration": 55,
    "start_time": "2022-08-05T18:54:39.372Z"
   },
   {
    "duration": 10,
    "start_time": "2022-08-05T18:54:39.429Z"
   },
   {
    "duration": 215,
    "start_time": "2022-08-05T18:54:39.441Z"
   },
   {
    "duration": 56,
    "start_time": "2022-08-05T18:54:39.658Z"
   },
   {
    "duration": 42,
    "start_time": "2022-08-05T18:54:39.715Z"
   },
   {
    "duration": 148,
    "start_time": "2022-08-05T18:54:39.759Z"
   },
   {
    "duration": 8,
    "start_time": "2022-08-05T18:54:39.910Z"
   },
   {
    "duration": 13,
    "start_time": "2022-08-05T18:54:39.920Z"
   },
   {
    "duration": 73,
    "start_time": "2022-08-05T18:54:39.935Z"
   },
   {
    "duration": 42,
    "start_time": "2022-08-05T18:54:40.010Z"
   },
   {
    "duration": 45,
    "start_time": "2022-08-05T18:54:40.054Z"
   },
   {
    "duration": 54,
    "start_time": "2022-08-05T18:54:40.101Z"
   },
   {
    "duration": 58,
    "start_time": "2022-08-05T18:54:40.159Z"
   },
   {
    "duration": 146,
    "start_time": "2022-08-05T18:54:40.219Z"
   },
   {
    "duration": 9,
    "start_time": "2022-08-05T18:54:40.367Z"
   },
   {
    "duration": 26,
    "start_time": "2022-08-05T18:54:40.378Z"
   },
   {
    "duration": 23,
    "start_time": "2022-08-05T18:54:40.406Z"
   },
   {
    "duration": 964,
    "start_time": "2022-08-05T18:54:40.431Z"
   },
   {
    "duration": 19,
    "start_time": "2022-08-05T18:54:41.398Z"
   },
   {
    "duration": 150,
    "start_time": "2022-08-05T18:54:41.419Z"
   },
   {
    "duration": 53,
    "start_time": "2022-08-05T18:54:41.571Z"
   },
   {
    "duration": 1221,
    "start_time": "2022-08-05T18:54:41.625Z"
   },
   {
    "duration": 136,
    "start_time": "2022-08-05T18:54:42.849Z"
   },
   {
    "duration": 190,
    "start_time": "2022-08-05T18:54:42.987Z"
   },
   {
    "duration": 1044,
    "start_time": "2022-08-05T18:54:43.179Z"
   },
   {
    "duration": 1179,
    "start_time": "2022-08-05T18:54:44.224Z"
   },
   {
    "duration": 121,
    "start_time": "2022-08-05T18:54:45.405Z"
   },
   {
    "duration": 98,
    "start_time": "2022-08-05T18:54:45.528Z"
   },
   {
    "duration": 488,
    "start_time": "2022-08-05T18:54:45.628Z"
   },
   {
    "duration": 213,
    "start_time": "2022-08-05T18:54:46.118Z"
   },
   {
    "duration": 4,
    "start_time": "2022-08-05T18:54:46.333Z"
   },
   {
    "duration": 10,
    "start_time": "2022-08-05T18:54:46.339Z"
   },
   {
    "duration": 1231,
    "start_time": "2022-08-05T18:54:46.350Z"
   },
   {
    "duration": 0,
    "start_time": "2022-08-05T18:54:47.591Z"
   },
   {
    "duration": 0,
    "start_time": "2022-08-05T18:54:47.592Z"
   },
   {
    "duration": 0,
    "start_time": "2022-08-05T18:54:47.593Z"
   },
   {
    "duration": 0,
    "start_time": "2022-08-05T18:54:47.594Z"
   },
   {
    "duration": 0,
    "start_time": "2022-08-05T18:54:47.595Z"
   },
   {
    "duration": 0,
    "start_time": "2022-08-05T18:54:47.596Z"
   },
   {
    "duration": 0,
    "start_time": "2022-08-05T18:54:47.598Z"
   },
   {
    "duration": 0,
    "start_time": "2022-08-05T18:54:47.599Z"
   },
   {
    "duration": 0,
    "start_time": "2022-08-05T18:54:47.600Z"
   },
   {
    "duration": 0,
    "start_time": "2022-08-05T18:54:47.601Z"
   },
   {
    "duration": 0,
    "start_time": "2022-08-05T18:54:47.602Z"
   },
   {
    "duration": 0,
    "start_time": "2022-08-05T18:54:47.604Z"
   },
   {
    "duration": 0,
    "start_time": "2022-08-05T18:54:47.605Z"
   },
   {
    "duration": 0,
    "start_time": "2022-08-05T18:54:47.607Z"
   },
   {
    "duration": 0,
    "start_time": "2022-08-05T18:54:47.608Z"
   },
   {
    "duration": 0,
    "start_time": "2022-08-05T18:54:47.610Z"
   },
   {
    "duration": 0,
    "start_time": "2022-08-05T18:54:47.611Z"
   },
   {
    "duration": 0,
    "start_time": "2022-08-05T18:54:47.613Z"
   },
   {
    "duration": 0,
    "start_time": "2022-08-05T18:54:47.614Z"
   },
   {
    "duration": 0,
    "start_time": "2022-08-05T18:54:47.615Z"
   },
   {
    "duration": 0,
    "start_time": "2022-08-05T18:54:47.617Z"
   },
   {
    "duration": 0,
    "start_time": "2022-08-05T18:54:47.618Z"
   },
   {
    "duration": 0,
    "start_time": "2022-08-05T18:54:47.620Z"
   },
   {
    "duration": 0,
    "start_time": "2022-08-05T18:54:47.621Z"
   },
   {
    "duration": 0,
    "start_time": "2022-08-05T18:54:47.622Z"
   },
   {
    "duration": 0,
    "start_time": "2022-08-05T18:54:47.624Z"
   },
   {
    "duration": 0,
    "start_time": "2022-08-05T18:54:47.625Z"
   },
   {
    "duration": 4,
    "start_time": "2022-08-05T18:58:50.435Z"
   },
   {
    "duration": 1071,
    "start_time": "2022-08-05T18:58:52.278Z"
   },
   {
    "duration": 128,
    "start_time": "2022-08-05T18:59:18.783Z"
   },
   {
    "duration": 5,
    "start_time": "2022-08-05T18:59:20.489Z"
   },
   {
    "duration": 1108,
    "start_time": "2022-08-05T18:59:22.470Z"
   },
   {
    "duration": 1708,
    "start_time": "2022-08-05T19:02:31.374Z"
   },
   {
    "duration": 751,
    "start_time": "2022-08-05T19:02:33.084Z"
   },
   {
    "duration": 146,
    "start_time": "2022-08-05T19:02:33.837Z"
   },
   {
    "duration": 5,
    "start_time": "2022-08-05T19:02:33.992Z"
   },
   {
    "duration": 812,
    "start_time": "2022-08-05T19:02:33.998Z"
   },
   {
    "duration": 19,
    "start_time": "2022-08-05T19:02:34.812Z"
   },
   {
    "duration": 11,
    "start_time": "2022-08-05T19:02:34.832Z"
   },
   {
    "duration": 224,
    "start_time": "2022-08-05T19:02:34.845Z"
   },
   {
    "duration": 85,
    "start_time": "2022-08-05T19:02:35.071Z"
   },
   {
    "duration": 170,
    "start_time": "2022-08-05T19:02:35.159Z"
   },
   {
    "duration": 16,
    "start_time": "2022-08-05T19:02:35.331Z"
   },
   {
    "duration": 6,
    "start_time": "2022-08-05T19:02:35.349Z"
   },
   {
    "duration": 48,
    "start_time": "2022-08-05T19:02:35.356Z"
   },
   {
    "duration": 3,
    "start_time": "2022-08-05T19:02:35.406Z"
   },
   {
    "duration": 55,
    "start_time": "2022-08-05T19:02:35.410Z"
   },
   {
    "duration": 45,
    "start_time": "2022-08-05T19:02:35.467Z"
   },
   {
    "duration": 9,
    "start_time": "2022-08-05T19:02:35.514Z"
   },
   {
    "duration": 212,
    "start_time": "2022-08-05T19:02:35.524Z"
   },
   {
    "duration": 57,
    "start_time": "2022-08-05T19:02:35.738Z"
   },
   {
    "duration": 43,
    "start_time": "2022-08-05T19:02:35.797Z"
   },
   {
    "duration": 136,
    "start_time": "2022-08-05T19:02:35.841Z"
   },
   {
    "duration": 16,
    "start_time": "2022-08-05T19:02:35.979Z"
   },
   {
    "duration": 6,
    "start_time": "2022-08-05T19:02:35.996Z"
   },
   {
    "duration": 72,
    "start_time": "2022-08-05T19:02:36.004Z"
   },
   {
    "duration": 41,
    "start_time": "2022-08-05T19:02:36.078Z"
   },
   {
    "duration": 29,
    "start_time": "2022-08-05T19:02:36.122Z"
   },
   {
    "duration": 66,
    "start_time": "2022-08-05T19:02:36.153Z"
   },
   {
    "duration": 40,
    "start_time": "2022-08-05T19:02:36.223Z"
   },
   {
    "duration": 109,
    "start_time": "2022-08-05T19:02:36.265Z"
   },
   {
    "duration": 5,
    "start_time": "2022-08-05T19:02:36.376Z"
   },
   {
    "duration": 15,
    "start_time": "2022-08-05T19:02:36.392Z"
   },
   {
    "duration": 5,
    "start_time": "2022-08-05T19:02:36.409Z"
   },
   {
    "duration": 823,
    "start_time": "2022-08-05T19:02:36.415Z"
   },
   {
    "duration": 15,
    "start_time": "2022-08-05T19:02:37.240Z"
   },
   {
    "duration": 112,
    "start_time": "2022-08-05T19:02:37.257Z"
   },
   {
    "duration": 47,
    "start_time": "2022-08-05T19:02:37.370Z"
   },
   {
    "duration": 1016,
    "start_time": "2022-08-05T19:02:37.419Z"
   },
   {
    "duration": 137,
    "start_time": "2022-08-05T19:02:38.437Z"
   },
   {
    "duration": 188,
    "start_time": "2022-08-05T19:02:38.576Z"
   },
   {
    "duration": 890,
    "start_time": "2022-08-05T19:02:38.765Z"
   },
   {
    "duration": 1123,
    "start_time": "2022-08-05T19:02:39.657Z"
   },
   {
    "duration": 117,
    "start_time": "2022-08-05T19:02:40.782Z"
   },
   {
    "duration": 107,
    "start_time": "2022-08-05T19:02:40.901Z"
   },
   {
    "duration": 102,
    "start_time": "2022-08-05T19:02:41.010Z"
   },
   {
    "duration": 3,
    "start_time": "2022-08-05T19:02:41.114Z"
   },
   {
    "duration": 19,
    "start_time": "2022-08-05T19:02:41.119Z"
   },
   {
    "duration": 1041782,
    "start_time": "2022-08-05T19:02:41.139Z"
   },
   {
    "duration": 4,
    "start_time": "2022-08-05T19:20:02.923Z"
   },
   {
    "duration": 5914,
    "start_time": "2022-08-05T19:20:02.929Z"
   },
   {
    "duration": 0,
    "start_time": "2022-08-05T19:20:08.845Z"
   },
   {
    "duration": 0,
    "start_time": "2022-08-05T19:20:08.846Z"
   },
   {
    "duration": 0,
    "start_time": "2022-08-05T19:20:08.848Z"
   },
   {
    "duration": 0,
    "start_time": "2022-08-05T19:20:08.849Z"
   },
   {
    "duration": 0,
    "start_time": "2022-08-05T19:20:08.851Z"
   },
   {
    "duration": 0,
    "start_time": "2022-08-05T19:20:08.852Z"
   },
   {
    "duration": 0,
    "start_time": "2022-08-05T19:20:08.854Z"
   },
   {
    "duration": 0,
    "start_time": "2022-08-05T19:20:08.855Z"
   },
   {
    "duration": 0,
    "start_time": "2022-08-05T19:20:08.857Z"
   },
   {
    "duration": 0,
    "start_time": "2022-08-05T19:20:08.858Z"
   },
   {
    "duration": 0,
    "start_time": "2022-08-05T19:20:08.860Z"
   },
   {
    "duration": 0,
    "start_time": "2022-08-05T19:20:08.862Z"
   },
   {
    "duration": 0,
    "start_time": "2022-08-05T19:20:08.863Z"
   },
   {
    "duration": 0,
    "start_time": "2022-08-05T19:20:08.864Z"
   },
   {
    "duration": 0,
    "start_time": "2022-08-05T19:20:08.892Z"
   },
   {
    "duration": 0,
    "start_time": "2022-08-05T19:20:08.894Z"
   },
   {
    "duration": 0,
    "start_time": "2022-08-05T19:20:08.896Z"
   },
   {
    "duration": 0,
    "start_time": "2022-08-05T19:20:08.897Z"
   },
   {
    "duration": 0,
    "start_time": "2022-08-05T19:20:08.899Z"
   },
   {
    "duration": 0,
    "start_time": "2022-08-05T19:20:08.900Z"
   },
   {
    "duration": 0,
    "start_time": "2022-08-05T19:20:08.901Z"
   },
   {
    "duration": 0,
    "start_time": "2022-08-05T19:20:08.903Z"
   },
   {
    "duration": 0,
    "start_time": "2022-08-05T19:20:08.904Z"
   },
   {
    "duration": 0,
    "start_time": "2022-08-05T19:20:08.905Z"
   },
   {
    "duration": 0,
    "start_time": "2022-08-05T19:20:08.907Z"
   },
   {
    "duration": 58728,
    "start_time": "2022-08-05T19:20:16.758Z"
   },
   {
    "duration": 1542,
    "start_time": "2022-08-05T19:24:55.280Z"
   },
   {
    "duration": 743,
    "start_time": "2022-08-05T19:24:56.824Z"
   },
   {
    "duration": 132,
    "start_time": "2022-08-05T19:24:57.568Z"
   },
   {
    "duration": 5,
    "start_time": "2022-08-05T19:24:57.701Z"
   },
   {
    "duration": 822,
    "start_time": "2022-08-05T19:24:57.708Z"
   },
   {
    "duration": 16,
    "start_time": "2022-08-05T19:24:58.532Z"
   },
   {
    "duration": 12,
    "start_time": "2022-08-05T19:24:58.550Z"
   },
   {
    "duration": 215,
    "start_time": "2022-08-05T19:24:58.563Z"
   },
   {
    "duration": 80,
    "start_time": "2022-08-05T19:24:58.779Z"
   },
   {
    "duration": 166,
    "start_time": "2022-08-05T19:24:58.862Z"
   },
   {
    "duration": 17,
    "start_time": "2022-08-05T19:24:59.029Z"
   },
   {
    "duration": 5,
    "start_time": "2022-08-05T19:24:59.048Z"
   },
   {
    "duration": 53,
    "start_time": "2022-08-05T19:24:59.055Z"
   },
   {
    "duration": 2,
    "start_time": "2022-08-05T19:24:59.110Z"
   },
   {
    "duration": 49,
    "start_time": "2022-08-05T19:24:59.114Z"
   },
   {
    "duration": 52,
    "start_time": "2022-08-05T19:24:59.165Z"
   },
   {
    "duration": 8,
    "start_time": "2022-08-05T19:24:59.219Z"
   },
   {
    "duration": 211,
    "start_time": "2022-08-05T19:24:59.229Z"
   },
   {
    "duration": 51,
    "start_time": "2022-08-05T19:24:59.443Z"
   },
   {
    "duration": 47,
    "start_time": "2022-08-05T19:24:59.496Z"
   },
   {
    "duration": 139,
    "start_time": "2022-08-05T19:24:59.545Z"
   },
   {
    "duration": 6,
    "start_time": "2022-08-05T19:24:59.692Z"
   },
   {
    "duration": 7,
    "start_time": "2022-08-05T19:24:59.699Z"
   },
   {
    "duration": 46,
    "start_time": "2022-08-05T19:24:59.708Z"
   },
   {
    "duration": 64,
    "start_time": "2022-08-05T19:24:59.755Z"
   },
   {
    "duration": 27,
    "start_time": "2022-08-05T19:24:59.820Z"
   },
   {
    "duration": 75,
    "start_time": "2022-08-05T19:24:59.848Z"
   },
   {
    "duration": 40,
    "start_time": "2022-08-05T19:24:59.927Z"
   },
   {
    "duration": 124,
    "start_time": "2022-08-05T19:24:59.969Z"
   },
   {
    "duration": 6,
    "start_time": "2022-08-05T19:25:00.095Z"
   },
   {
    "duration": 9,
    "start_time": "2022-08-05T19:25:00.102Z"
   },
   {
    "duration": 6,
    "start_time": "2022-08-05T19:25:00.113Z"
   },
   {
    "duration": 807,
    "start_time": "2022-08-05T19:25:00.120Z"
   },
   {
    "duration": 16,
    "start_time": "2022-08-05T19:25:00.928Z"
   },
   {
    "duration": 114,
    "start_time": "2022-08-05T19:25:00.946Z"
   },
   {
    "duration": 42,
    "start_time": "2022-08-05T19:25:01.062Z"
   },
   {
    "duration": 1096,
    "start_time": "2022-08-05T19:25:01.105Z"
   },
   {
    "duration": 140,
    "start_time": "2022-08-05T19:25:02.202Z"
   },
   {
    "duration": 196,
    "start_time": "2022-08-05T19:25:02.343Z"
   },
   {
    "duration": 845,
    "start_time": "2022-08-05T19:25:02.540Z"
   },
   {
    "duration": 1059,
    "start_time": "2022-08-05T19:25:03.386Z"
   },
   {
    "duration": 116,
    "start_time": "2022-08-05T19:25:04.447Z"
   },
   {
    "duration": 100,
    "start_time": "2022-08-05T19:25:04.565Z"
   },
   {
    "duration": 106,
    "start_time": "2022-08-05T19:25:04.667Z"
   },
   {
    "duration": 4,
    "start_time": "2022-08-05T19:25:04.774Z"
   },
   {
    "duration": 13,
    "start_time": "2022-08-05T19:25:04.779Z"
   },
   {
    "duration": 1343678,
    "start_time": "2022-08-05T19:25:04.793Z"
   },
   {
    "duration": 4,
    "start_time": "2022-08-05T19:47:28.472Z"
   },
   {
    "duration": 24839,
    "start_time": "2022-08-05T19:47:28.478Z"
   },
   {
    "duration": 87,
    "start_time": "2022-08-05T19:47:53.319Z"
   },
   {
    "duration": 4,
    "start_time": "2022-08-05T19:47:53.408Z"
   },
   {
    "duration": 936301,
    "start_time": "2022-08-05T19:47:53.413Z"
   },
   {
    "duration": 5,
    "start_time": "2022-08-05T20:03:29.715Z"
   },
   {
    "duration": 22708,
    "start_time": "2022-08-05T20:03:29.722Z"
   },
   {
    "duration": 96,
    "start_time": "2022-08-05T20:03:52.432Z"
   },
   {
    "duration": 5,
    "start_time": "2022-08-05T20:03:52.530Z"
   },
   {
    "duration": 33147,
    "start_time": "2022-08-05T20:03:52.536Z"
   },
   {
    "duration": 3,
    "start_time": "2022-08-05T20:04:25.685Z"
   },
   {
    "duration": 2483,
    "start_time": "2022-08-05T20:04:25.692Z"
   },
   {
    "duration": 88,
    "start_time": "2022-08-05T20:04:28.177Z"
   },
   {
    "duration": 4,
    "start_time": "2022-08-05T20:04:28.267Z"
   },
   {
    "duration": 29854,
    "start_time": "2022-08-05T20:04:28.272Z"
   },
   {
    "duration": 3,
    "start_time": "2022-08-05T20:04:58.128Z"
   },
   {
    "duration": 2438,
    "start_time": "2022-08-05T20:04:58.133Z"
   },
   {
    "duration": 148,
    "start_time": "2022-08-05T20:05:00.572Z"
   },
   {
    "duration": 127,
    "start_time": "2022-08-05T20:05:00.722Z"
   },
   {
    "duration": 0,
    "start_time": "2022-08-05T20:05:00.851Z"
   },
   {
    "duration": 0,
    "start_time": "2022-08-05T20:05:00.852Z"
   },
   {
    "duration": 0,
    "start_time": "2022-08-05T20:05:00.853Z"
   },
   {
    "duration": 0,
    "start_time": "2022-08-05T20:05:00.854Z"
   },
   {
    "duration": 0,
    "start_time": "2022-08-05T20:05:00.855Z"
   },
   {
    "duration": 0,
    "start_time": "2022-08-05T20:05:00.856Z"
   },
   {
    "duration": 0,
    "start_time": "2022-08-05T20:05:00.858Z"
   },
   {
    "duration": 0,
    "start_time": "2022-08-05T20:05:00.859Z"
   },
   {
    "duration": 498072,
    "start_time": "2022-08-05T20:06:30.880Z"
   },
   {
    "duration": 3,
    "start_time": "2022-08-05T20:14:48.954Z"
   },
   {
    "duration": 29675,
    "start_time": "2022-08-05T20:14:48.959Z"
   },
   {
    "duration": 249,
    "start_time": "2022-08-05T20:15:18.636Z"
   },
   {
    "duration": 4,
    "start_time": "2022-08-05T20:15:18.892Z"
   },
   {
    "duration": 619033,
    "start_time": "2022-08-05T20:15:18.898Z"
   },
   {
    "duration": 0,
    "start_time": "2022-08-05T20:25:37.933Z"
   },
   {
    "duration": 0,
    "start_time": "2022-08-05T20:25:37.934Z"
   },
   {
    "duration": 4,
    "start_time": "2022-08-05T20:26:48.066Z"
   },
   {
    "duration": 55120,
    "start_time": "2022-08-05T20:26:49.508Z"
   },
   {
    "duration": 67582,
    "start_time": "2022-08-05T20:27:52.548Z"
   },
   {
    "duration": 33923,
    "start_time": "2022-08-05T20:29:08.771Z"
   },
   {
    "duration": 245,
    "start_time": "2022-08-05T20:29:44.721Z"
   },
   {
    "duration": 7,
    "start_time": "2022-08-05T20:29:47.914Z"
   },
   {
    "duration": 450466,
    "start_time": "2022-08-05T20:29:50.846Z"
   },
   {
    "duration": 0,
    "start_time": "2022-08-05T20:37:21.316Z"
   },
   {
    "duration": 0,
    "start_time": "2022-08-05T20:37:21.318Z"
   },
   {
    "duration": 5,
    "start_time": "2022-08-05T20:38:50.027Z"
   },
   {
    "duration": 115502,
    "start_time": "2022-08-05T20:38:52.922Z"
   },
   {
    "duration": 0,
    "start_time": "2022-08-05T20:40:48.432Z"
   },
   {
    "duration": 4,
    "start_time": "2022-08-05T20:41:08.172Z"
   },
   {
    "duration": 46243,
    "start_time": "2022-08-05T20:41:09.079Z"
   },
   {
    "duration": 15309,
    "start_time": "2022-08-05T20:41:57.420Z"
   },
   {
    "duration": 0,
    "start_time": "2022-08-05T20:42:29.707Z"
   },
   {
    "duration": 0,
    "start_time": "2022-08-05T20:43:09.451Z"
   },
   {
    "duration": 5,
    "start_time": "2022-08-05T20:43:20.839Z"
   },
   {
    "duration": 79603,
    "start_time": "2022-08-05T20:43:22.020Z"
   },
   {
    "duration": 4,
    "start_time": "2022-08-05T20:44:46.712Z"
   },
   {
    "duration": 363685,
    "start_time": "2022-08-05T20:44:47.909Z"
   },
   {
    "duration": 3,
    "start_time": "2022-08-05T20:51:49.471Z"
   },
   {
    "duration": 22264,
    "start_time": "2022-08-05T20:51:51.542Z"
   },
   {
    "duration": 11,
    "start_time": "2022-08-05T20:52:29.262Z"
   },
   {
    "duration": 52418,
    "start_time": "2022-08-05T20:52:39.912Z"
   },
   {
    "duration": 283,
    "start_time": "2022-08-05T20:53:35.033Z"
   },
   {
    "duration": 5,
    "start_time": "2022-08-05T20:53:37.679Z"
   },
   {
    "duration": 18,
    "start_time": "2022-08-05T20:53:39.605Z"
   },
   {
    "duration": 22,
    "start_time": "2022-08-05T20:53:43.409Z"
   },
   {
    "duration": 26869,
    "start_time": "2022-08-05T20:54:03.033Z"
   },
   {
    "duration": 66421,
    "start_time": "2022-08-05T20:54:32.401Z"
   },
   {
    "duration": 109,
    "start_time": "2022-08-05T20:56:51.880Z"
   },
   {
    "duration": 112,
    "start_time": "2022-08-05T20:56:57.508Z"
   },
   {
    "duration": 7,
    "start_time": "2022-08-05T20:57:03.635Z"
   },
   {
    "duration": 3,
    "start_time": "2022-08-05T20:57:51.518Z"
   },
   {
    "duration": 91,
    "start_time": "2022-08-05T20:57:56.359Z"
   },
   {
    "duration": 1357,
    "start_time": "2022-08-05T20:58:07.804Z"
   },
   {
    "duration": 3,
    "start_time": "2022-08-05T20:58:31.243Z"
   },
   {
    "duration": 469,
    "start_time": "2022-08-05T20:59:07.291Z"
   },
   {
    "duration": 385,
    "start_time": "2022-08-05T20:59:37.482Z"
   },
   {
    "duration": 12,
    "start_time": "2022-08-05T21:04:57.608Z"
   },
   {
    "duration": 11,
    "start_time": "2022-08-05T21:06:26.365Z"
   },
   {
    "duration": 12,
    "start_time": "2022-08-05T21:06:58.137Z"
   },
   {
    "duration": 10,
    "start_time": "2022-08-05T21:07:06.208Z"
   },
   {
    "duration": 126,
    "start_time": "2022-08-05T21:07:44.705Z"
   },
   {
    "duration": 3,
    "start_time": "2022-08-05T21:08:16.271Z"
   },
   {
    "duration": 58,
    "start_time": "2022-08-05T21:08:51.460Z"
   },
   {
    "duration": 2194,
    "start_time": "2022-08-05T21:09:58.088Z"
   },
   {
    "duration": 3490,
    "start_time": "2022-08-05T21:10:00.284Z"
   },
   {
    "duration": 172,
    "start_time": "2022-08-05T21:10:03.776Z"
   },
   {
    "duration": 6,
    "start_time": "2022-08-05T21:10:03.950Z"
   },
   {
    "duration": 1112,
    "start_time": "2022-08-05T21:10:03.958Z"
   },
   {
    "duration": 30,
    "start_time": "2022-08-05T21:10:05.072Z"
   },
   {
    "duration": 22,
    "start_time": "2022-08-05T21:10:05.103Z"
   },
   {
    "duration": 289,
    "start_time": "2022-08-05T21:10:05.127Z"
   },
   {
    "duration": 108,
    "start_time": "2022-08-05T21:10:05.418Z"
   },
   {
    "duration": 224,
    "start_time": "2022-08-05T21:10:05.529Z"
   },
   {
    "duration": 18,
    "start_time": "2022-08-05T21:10:05.755Z"
   },
   {
    "duration": 27,
    "start_time": "2022-08-05T21:10:05.775Z"
   },
   {
    "duration": 35,
    "start_time": "2022-08-05T21:10:05.805Z"
   },
   {
    "duration": 68,
    "start_time": "2022-08-05T21:10:05.841Z"
   },
   {
    "duration": 52,
    "start_time": "2022-08-05T21:10:05.912Z"
   },
   {
    "duration": 31,
    "start_time": "2022-08-05T21:10:05.966Z"
   },
   {
    "duration": 243,
    "start_time": "2022-08-05T21:10:05.999Z"
   },
   {
    "duration": 72,
    "start_time": "2022-08-05T21:10:06.244Z"
   },
   {
    "duration": 49,
    "start_time": "2022-08-05T21:10:06.318Z"
   },
   {
    "duration": 185,
    "start_time": "2022-08-05T21:10:06.369Z"
   },
   {
    "duration": 5,
    "start_time": "2022-08-05T21:10:06.556Z"
   },
   {
    "duration": 29,
    "start_time": "2022-08-05T21:10:06.563Z"
   },
   {
    "duration": 66,
    "start_time": "2022-08-05T21:10:06.599Z"
   },
   {
    "duration": 67,
    "start_time": "2022-08-05T21:10:06.666Z"
   },
   {
    "duration": 31,
    "start_time": "2022-08-05T21:10:06.735Z"
   },
   {
    "duration": 87,
    "start_time": "2022-08-05T21:10:06.768Z"
   },
   {
    "duration": 76,
    "start_time": "2022-08-05T21:10:06.858Z"
   },
   {
    "duration": 112,
    "start_time": "2022-08-05T21:10:06.939Z"
   },
   {
    "duration": 6,
    "start_time": "2022-08-05T21:10:07.052Z"
   },
   {
    "duration": 33,
    "start_time": "2022-08-05T21:10:07.060Z"
   },
   {
    "duration": 8,
    "start_time": "2022-08-05T21:10:07.095Z"
   },
   {
    "duration": 1021,
    "start_time": "2022-08-05T21:10:07.105Z"
   },
   {
    "duration": 25,
    "start_time": "2022-08-05T21:10:08.128Z"
   },
   {
    "duration": 152,
    "start_time": "2022-08-05T21:10:08.156Z"
   },
   {
    "duration": 44,
    "start_time": "2022-08-05T21:10:08.311Z"
   },
   {
    "duration": 1090,
    "start_time": "2022-08-05T21:10:08.357Z"
   },
   {
    "duration": 170,
    "start_time": "2022-08-05T21:10:09.450Z"
   },
   {
    "duration": 209,
    "start_time": "2022-08-05T21:10:09.623Z"
   },
   {
    "duration": 992,
    "start_time": "2022-08-05T21:10:09.833Z"
   },
   {
    "duration": 1212,
    "start_time": "2022-08-05T21:10:10.827Z"
   },
   {
    "duration": 165,
    "start_time": "2022-08-05T21:10:12.041Z"
   },
   {
    "duration": 126,
    "start_time": "2022-08-05T21:10:12.208Z"
   },
   {
    "duration": 116,
    "start_time": "2022-08-05T21:10:12.336Z"
   },
   {
    "duration": 5,
    "start_time": "2022-08-05T21:10:12.454Z"
   },
   {
    "duration": 7,
    "start_time": "2022-08-05T21:10:12.461Z"
   },
   {
    "duration": 105143,
    "start_time": "2022-08-05T21:10:12.470Z"
   },
   {
    "duration": 0,
    "start_time": "2022-08-05T21:11:57.615Z"
   },
   {
    "duration": 0,
    "start_time": "2022-08-05T21:11:57.616Z"
   },
   {
    "duration": 0,
    "start_time": "2022-08-05T21:11:57.617Z"
   },
   {
    "duration": 0,
    "start_time": "2022-08-05T21:11:57.618Z"
   },
   {
    "duration": 0,
    "start_time": "2022-08-05T21:11:57.619Z"
   },
   {
    "duration": 0,
    "start_time": "2022-08-05T21:11:57.620Z"
   },
   {
    "duration": 0,
    "start_time": "2022-08-05T21:11:57.621Z"
   },
   {
    "duration": 0,
    "start_time": "2022-08-05T21:11:57.622Z"
   },
   {
    "duration": 0,
    "start_time": "2022-08-05T21:11:57.623Z"
   },
   {
    "duration": 0,
    "start_time": "2022-08-05T21:11:57.623Z"
   },
   {
    "duration": 0,
    "start_time": "2022-08-05T21:11:57.624Z"
   },
   {
    "duration": 0,
    "start_time": "2022-08-05T21:11:57.625Z"
   },
   {
    "duration": 0,
    "start_time": "2022-08-05T21:11:57.626Z"
   },
   {
    "duration": 0,
    "start_time": "2022-08-05T21:11:57.628Z"
   },
   {
    "duration": 0,
    "start_time": "2022-08-05T21:11:57.629Z"
   },
   {
    "duration": 0,
    "start_time": "2022-08-05T21:11:57.630Z"
   },
   {
    "duration": 0,
    "start_time": "2022-08-05T21:11:57.631Z"
   },
   {
    "duration": 0,
    "start_time": "2022-08-05T21:11:57.632Z"
   },
   {
    "duration": 0,
    "start_time": "2022-08-05T21:11:57.634Z"
   },
   {
    "duration": 0,
    "start_time": "2022-08-05T21:11:57.634Z"
   },
   {
    "duration": 0,
    "start_time": "2022-08-05T21:11:57.635Z"
   },
   {
    "duration": 0,
    "start_time": "2022-08-05T21:11:57.636Z"
   },
   {
    "duration": 0,
    "start_time": "2022-08-05T21:11:57.637Z"
   },
   {
    "duration": 0,
    "start_time": "2022-08-05T21:11:57.639Z"
   },
   {
    "duration": 0,
    "start_time": "2022-08-05T21:11:57.640Z"
   },
   {
    "duration": 0,
    "start_time": "2022-08-05T21:11:57.641Z"
   },
   {
    "duration": 0,
    "start_time": "2022-08-05T21:11:57.642Z"
   },
   {
    "duration": 0,
    "start_time": "2022-08-05T21:11:57.697Z"
   },
   {
    "duration": 0,
    "start_time": "2022-08-05T21:11:57.698Z"
   },
   {
    "duration": 8,
    "start_time": "2022-08-05T21:12:31.474Z"
   },
   {
    "duration": 534,
    "start_time": "2022-08-05T21:12:33.675Z"
   },
   {
    "duration": 33666,
    "start_time": "2022-08-05T21:12:36.138Z"
   },
   {
    "duration": 10,
    "start_time": "2022-08-05T21:13:16.071Z"
   },
   {
    "duration": 40170,
    "start_time": "2022-08-05T21:13:26.840Z"
   },
   {
    "duration": 11,
    "start_time": "2022-08-05T21:14:36.651Z"
   },
   {
    "duration": 5,
    "start_time": "2022-08-05T21:14:54.334Z"
   },
   {
    "duration": 61246,
    "start_time": "2022-08-05T21:15:30.770Z"
   },
   {
    "duration": 2027,
    "start_time": "2022-08-05T21:17:57.481Z"
   },
   {
    "duration": 1760,
    "start_time": "2022-08-05T21:18:07.759Z"
   },
   {
    "duration": 1840,
    "start_time": "2022-08-05T21:20:49.249Z"
   },
   {
    "duration": 955,
    "start_time": "2022-08-05T21:20:51.091Z"
   },
   {
    "duration": 219,
    "start_time": "2022-08-05T21:20:52.047Z"
   },
   {
    "duration": 23,
    "start_time": "2022-08-05T21:20:52.269Z"
   },
   {
    "duration": 1038,
    "start_time": "2022-08-05T21:20:52.296Z"
   },
   {
    "duration": 15,
    "start_time": "2022-08-05T21:20:53.336Z"
   },
   {
    "duration": 12,
    "start_time": "2022-08-05T21:20:53.353Z"
   },
   {
    "duration": 285,
    "start_time": "2022-08-05T21:20:53.367Z"
   },
   {
    "duration": 107,
    "start_time": "2022-08-05T21:20:53.654Z"
   },
   {
    "duration": 207,
    "start_time": "2022-08-05T21:20:53.764Z"
   },
   {
    "duration": 36,
    "start_time": "2022-08-05T21:20:53.973Z"
   },
   {
    "duration": 20,
    "start_time": "2022-08-05T21:20:54.011Z"
   },
   {
    "duration": 29,
    "start_time": "2022-08-05T21:20:54.033Z"
   },
   {
    "duration": 77,
    "start_time": "2022-08-05T21:20:54.064Z"
   },
   {
    "duration": 54,
    "start_time": "2022-08-05T21:20:54.143Z"
   },
   {
    "duration": 18,
    "start_time": "2022-08-05T21:20:54.198Z"
   },
   {
    "duration": 227,
    "start_time": "2022-08-05T21:20:54.218Z"
   },
   {
    "duration": 71,
    "start_time": "2022-08-05T21:20:54.447Z"
   },
   {
    "duration": 53,
    "start_time": "2022-08-05T21:20:54.520Z"
   },
   {
    "duration": 178,
    "start_time": "2022-08-05T21:20:54.575Z"
   },
   {
    "duration": 6,
    "start_time": "2022-08-05T21:20:54.755Z"
   },
   {
    "duration": 44,
    "start_time": "2022-08-05T21:20:54.762Z"
   },
   {
    "duration": 63,
    "start_time": "2022-08-05T21:20:54.808Z"
   },
   {
    "duration": 60,
    "start_time": "2022-08-05T21:20:54.873Z"
   },
   {
    "duration": 28,
    "start_time": "2022-08-05T21:20:54.935Z"
   },
   {
    "duration": 91,
    "start_time": "2022-08-05T21:20:54.964Z"
   },
   {
    "duration": 75,
    "start_time": "2022-08-05T21:20:55.057Z"
   },
   {
    "duration": 114,
    "start_time": "2022-08-05T21:20:55.137Z"
   },
   {
    "duration": 7,
    "start_time": "2022-08-05T21:20:55.253Z"
   },
   {
    "duration": 9,
    "start_time": "2022-08-05T21:20:55.261Z"
   },
   {
    "duration": 10,
    "start_time": "2022-08-05T21:20:55.291Z"
   },
   {
    "duration": 1023,
    "start_time": "2022-08-05T21:20:55.303Z"
   },
   {
    "duration": 27,
    "start_time": "2022-08-05T21:20:56.330Z"
   },
   {
    "duration": 134,
    "start_time": "2022-08-05T21:20:56.359Z"
   },
   {
    "duration": 48,
    "start_time": "2022-08-05T21:20:56.495Z"
   },
   {
    "duration": 1269,
    "start_time": "2022-08-05T21:20:56.545Z"
   },
   {
    "duration": 159,
    "start_time": "2022-08-05T21:20:57.824Z"
   },
   {
    "duration": 236,
    "start_time": "2022-08-05T21:20:57.985Z"
   },
   {
    "duration": 1017,
    "start_time": "2022-08-05T21:20:58.224Z"
   },
   {
    "duration": 1302,
    "start_time": "2022-08-05T21:20:59.243Z"
   },
   {
    "duration": 135,
    "start_time": "2022-08-05T21:21:00.547Z"
   },
   {
    "duration": 120,
    "start_time": "2022-08-05T21:21:00.693Z"
   },
   {
    "duration": 133,
    "start_time": "2022-08-05T21:21:00.816Z"
   },
   {
    "duration": 4,
    "start_time": "2022-08-05T21:21:00.951Z"
   },
   {
    "duration": 22,
    "start_time": "2022-08-05T21:21:00.956Z"
   },
   {
    "duration": 1944,
    "start_time": "2022-08-05T21:22:49.053Z"
   },
   {
    "duration": 970,
    "start_time": "2022-08-05T21:22:51.008Z"
   },
   {
    "duration": 253,
    "start_time": "2022-08-05T21:22:51.979Z"
   },
   {
    "duration": 10,
    "start_time": "2022-08-05T21:22:52.238Z"
   },
   {
    "duration": 1257,
    "start_time": "2022-08-05T21:22:52.251Z"
   },
   {
    "duration": 24,
    "start_time": "2022-08-05T21:22:53.510Z"
   },
   {
    "duration": 17,
    "start_time": "2022-08-05T21:22:53.537Z"
   },
   {
    "duration": 290,
    "start_time": "2022-08-05T21:22:53.556Z"
   },
   {
    "duration": 122,
    "start_time": "2022-08-05T21:22:53.849Z"
   },
   {
    "duration": 228,
    "start_time": "2022-08-05T21:22:53.981Z"
   },
   {
    "duration": 22,
    "start_time": "2022-08-05T21:22:54.216Z"
   },
   {
    "duration": 8,
    "start_time": "2022-08-05T21:22:54.241Z"
   },
   {
    "duration": 65,
    "start_time": "2022-08-05T21:22:54.252Z"
   },
   {
    "duration": 92,
    "start_time": "2022-08-05T21:22:54.319Z"
   },
   {
    "duration": 67,
    "start_time": "2022-08-05T21:22:54.413Z"
   },
   {
    "duration": 19,
    "start_time": "2022-08-05T21:22:54.483Z"
   },
   {
    "duration": 272,
    "start_time": "2022-08-05T21:22:54.509Z"
   },
   {
    "duration": 82,
    "start_time": "2022-08-05T21:22:54.784Z"
   },
   {
    "duration": 78,
    "start_time": "2022-08-05T21:22:54.869Z"
   },
   {
    "duration": 169,
    "start_time": "2022-08-05T21:22:54.950Z"
   },
   {
    "duration": 10,
    "start_time": "2022-08-05T21:22:55.122Z"
   },
   {
    "duration": 16,
    "start_time": "2022-08-05T21:22:55.134Z"
   },
   {
    "duration": 90,
    "start_time": "2022-08-05T21:22:55.152Z"
   },
   {
    "duration": 53,
    "start_time": "2022-08-05T21:22:55.244Z"
   },
   {
    "duration": 38,
    "start_time": "2022-08-05T21:22:55.300Z"
   },
   {
    "duration": 91,
    "start_time": "2022-08-05T21:22:55.341Z"
   },
   {
    "duration": 63,
    "start_time": "2022-08-05T21:22:55.434Z"
   },
   {
    "duration": 158,
    "start_time": "2022-08-05T21:22:55.503Z"
   },
   {
    "duration": 6,
    "start_time": "2022-08-05T21:22:55.663Z"
   },
   {
    "duration": 40,
    "start_time": "2022-08-05T21:22:55.671Z"
   },
   {
    "duration": 8,
    "start_time": "2022-08-05T21:22:55.713Z"
   },
   {
    "duration": 977,
    "start_time": "2022-08-05T21:22:55.724Z"
   },
   {
    "duration": 19,
    "start_time": "2022-08-05T21:22:56.702Z"
   },
   {
    "duration": 124,
    "start_time": "2022-08-05T21:22:56.723Z"
   },
   {
    "duration": 68,
    "start_time": "2022-08-05T21:22:56.850Z"
   },
   {
    "duration": 1167,
    "start_time": "2022-08-05T21:22:56.923Z"
   },
   {
    "duration": 167,
    "start_time": "2022-08-05T21:22:58.091Z"
   },
   {
    "duration": 218,
    "start_time": "2022-08-05T21:22:58.261Z"
   },
   {
    "duration": 997,
    "start_time": "2022-08-05T21:22:58.481Z"
   },
   {
    "duration": 1234,
    "start_time": "2022-08-05T21:22:59.479Z"
   },
   {
    "duration": 124,
    "start_time": "2022-08-05T21:23:00.715Z"
   },
   {
    "duration": 116,
    "start_time": "2022-08-05T21:23:00.841Z"
   },
   {
    "duration": 119,
    "start_time": "2022-08-05T21:23:00.958Z"
   },
   {
    "duration": 4,
    "start_time": "2022-08-05T21:23:01.079Z"
   },
   {
    "duration": 27,
    "start_time": "2022-08-05T21:23:01.091Z"
   },
   {
    "duration": 283479,
    "start_time": "2022-08-05T21:23:01.120Z"
   },
   {
    "duration": 0,
    "start_time": "2022-08-05T21:27:44.606Z"
   },
   {
    "duration": 0,
    "start_time": "2022-08-05T21:27:44.608Z"
   },
   {
    "duration": 0,
    "start_time": "2022-08-05T21:27:44.612Z"
   },
   {
    "duration": 0,
    "start_time": "2022-08-05T21:27:44.614Z"
   },
   {
    "duration": 0,
    "start_time": "2022-08-05T21:27:44.616Z"
   },
   {
    "duration": 0,
    "start_time": "2022-08-05T21:27:44.617Z"
   },
   {
    "duration": 0,
    "start_time": "2022-08-05T21:27:44.619Z"
   },
   {
    "duration": 0,
    "start_time": "2022-08-05T21:27:44.620Z"
   },
   {
    "duration": 0,
    "start_time": "2022-08-05T21:27:44.621Z"
   },
   {
    "duration": 0,
    "start_time": "2022-08-05T21:27:44.622Z"
   },
   {
    "duration": 0,
    "start_time": "2022-08-05T21:27:44.624Z"
   },
   {
    "duration": 0,
    "start_time": "2022-08-05T21:27:44.625Z"
   },
   {
    "duration": 0,
    "start_time": "2022-08-05T21:27:44.626Z"
   },
   {
    "duration": 0,
    "start_time": "2022-08-05T21:27:44.627Z"
   },
   {
    "duration": 0,
    "start_time": "2022-08-05T21:27:44.628Z"
   },
   {
    "duration": 0,
    "start_time": "2022-08-05T21:27:44.630Z"
   },
   {
    "duration": 0,
    "start_time": "2022-08-05T21:27:44.631Z"
   },
   {
    "duration": 0,
    "start_time": "2022-08-05T21:27:44.632Z"
   },
   {
    "duration": 0,
    "start_time": "2022-08-05T21:27:44.634Z"
   },
   {
    "duration": 0,
    "start_time": "2022-08-05T21:27:44.635Z"
   },
   {
    "duration": 0,
    "start_time": "2022-08-05T21:27:44.636Z"
   },
   {
    "duration": 0,
    "start_time": "2022-08-05T21:27:44.638Z"
   },
   {
    "duration": 0,
    "start_time": "2022-08-05T21:27:44.640Z"
   },
   {
    "duration": 0,
    "start_time": "2022-08-05T21:27:44.641Z"
   },
   {
    "duration": 0,
    "start_time": "2022-08-05T21:27:44.643Z"
   },
   {
    "duration": 0,
    "start_time": "2022-08-05T21:27:44.644Z"
   },
   {
    "duration": 0,
    "start_time": "2022-08-05T21:27:44.644Z"
   },
   {
    "duration": 0,
    "start_time": "2022-08-05T21:27:44.646Z"
   },
   {
    "duration": 0,
    "start_time": "2022-08-05T21:27:44.707Z"
   },
   {
    "duration": 38,
    "start_time": "2022-08-05T21:27:55.957Z"
   },
   {
    "duration": 63,
    "start_time": "2022-08-05T21:28:18.000Z"
   },
   {
    "duration": 43,
    "start_time": "2022-08-05T21:28:22.609Z"
   },
   {
    "duration": 43,
    "start_time": "2022-08-05T21:28:23.485Z"
   },
   {
    "duration": 44,
    "start_time": "2022-08-05T21:28:24.633Z"
   },
   {
    "duration": 38,
    "start_time": "2022-08-05T21:28:25.743Z"
   },
   {
    "duration": 28,
    "start_time": "2022-08-05T21:28:27.427Z"
   },
   {
    "duration": 36,
    "start_time": "2022-08-05T21:28:30.682Z"
   },
   {
    "duration": 91,
    "start_time": "2022-08-05T21:28:49.760Z"
   },
   {
    "duration": 87,
    "start_time": "2022-08-05T21:28:54.872Z"
   },
   {
    "duration": 873,
    "start_time": "2022-08-05T21:29:00.913Z"
   },
   {
    "duration": 796,
    "start_time": "2022-08-05T21:30:20.215Z"
   },
   {
    "duration": 29,
    "start_time": "2022-08-05T21:31:09.993Z"
   },
   {
    "duration": 1671,
    "start_time": "2022-08-05T21:38:05.817Z"
   },
   {
    "duration": 860,
    "start_time": "2022-08-05T21:38:07.490Z"
   },
   {
    "duration": 180,
    "start_time": "2022-08-05T21:38:08.352Z"
   },
   {
    "duration": 6,
    "start_time": "2022-08-05T21:38:08.535Z"
   },
   {
    "duration": 943,
    "start_time": "2022-08-05T21:38:08.543Z"
   },
   {
    "duration": 23,
    "start_time": "2022-08-05T21:38:09.495Z"
   },
   {
    "duration": 17,
    "start_time": "2022-08-05T21:38:09.520Z"
   },
   {
    "duration": 272,
    "start_time": "2022-08-05T21:38:09.539Z"
   },
   {
    "duration": 103,
    "start_time": "2022-08-05T21:38:09.813Z"
   },
   {
    "duration": 192,
    "start_time": "2022-08-05T21:38:09.919Z"
   },
   {
    "duration": 25,
    "start_time": "2022-08-05T21:38:10.114Z"
   },
   {
    "duration": 7,
    "start_time": "2022-08-05T21:38:10.141Z"
   },
   {
    "duration": 67,
    "start_time": "2022-08-05T21:38:10.151Z"
   },
   {
    "duration": 56,
    "start_time": "2022-08-05T21:38:10.220Z"
   },
   {
    "duration": 52,
    "start_time": "2022-08-05T21:38:10.298Z"
   },
   {
    "duration": 11,
    "start_time": "2022-08-05T21:38:10.353Z"
   },
   {
    "duration": 220,
    "start_time": "2022-08-05T21:38:10.366Z"
   },
   {
    "duration": 58,
    "start_time": "2022-08-05T21:38:10.588Z"
   },
   {
    "duration": 66,
    "start_time": "2022-08-05T21:38:10.648Z"
   },
   {
    "duration": 143,
    "start_time": "2022-08-05T21:38:10.716Z"
   },
   {
    "duration": 9,
    "start_time": "2022-08-05T21:38:10.861Z"
   },
   {
    "duration": 26,
    "start_time": "2022-08-05T21:38:10.872Z"
   },
   {
    "duration": 72,
    "start_time": "2022-08-05T21:38:10.903Z"
   },
   {
    "duration": 73,
    "start_time": "2022-08-05T21:38:10.977Z"
   },
   {
    "duration": 27,
    "start_time": "2022-08-05T21:38:11.052Z"
   },
   {
    "duration": 88,
    "start_time": "2022-08-05T21:38:11.091Z"
   },
   {
    "duration": 68,
    "start_time": "2022-08-05T21:38:11.181Z"
   },
   {
    "duration": 127,
    "start_time": "2022-08-05T21:38:11.256Z"
   },
   {
    "duration": 22,
    "start_time": "2022-08-05T21:38:11.385Z"
   },
   {
    "duration": 19,
    "start_time": "2022-08-05T21:38:11.410Z"
   },
   {
    "duration": 6,
    "start_time": "2022-08-05T21:38:11.431Z"
   },
   {
    "duration": 1073,
    "start_time": "2022-08-05T21:38:11.439Z"
   },
   {
    "duration": 18,
    "start_time": "2022-08-05T21:38:12.514Z"
   },
   {
    "duration": 122,
    "start_time": "2022-08-05T21:38:12.534Z"
   },
   {
    "duration": 58,
    "start_time": "2022-08-05T21:38:12.659Z"
   },
   {
    "duration": 1139,
    "start_time": "2022-08-05T21:38:12.719Z"
   },
   {
    "duration": 170,
    "start_time": "2022-08-05T21:38:13.860Z"
   },
   {
    "duration": 208,
    "start_time": "2022-08-05T21:38:14.032Z"
   },
   {
    "duration": 942,
    "start_time": "2022-08-05T21:38:14.243Z"
   },
   {
    "duration": 1168,
    "start_time": "2022-08-05T21:38:15.187Z"
   },
   {
    "duration": 120,
    "start_time": "2022-08-05T21:38:16.357Z"
   },
   {
    "duration": 128,
    "start_time": "2022-08-05T21:38:16.479Z"
   },
   {
    "duration": 114,
    "start_time": "2022-08-05T21:38:16.627Z"
   },
   {
    "duration": 4,
    "start_time": "2022-08-05T21:38:16.743Z"
   },
   {
    "duration": 6,
    "start_time": "2022-08-05T21:38:16.749Z"
   },
   {
    "duration": 1872104,
    "start_time": "2022-08-05T21:38:16.757Z"
   },
   {
    "duration": 4,
    "start_time": "2022-08-05T22:09:28.863Z"
   },
   {
    "duration": 9,
    "start_time": "2022-08-05T22:09:28.868Z"
   },
   {
    "duration": 67529,
    "start_time": "2022-08-05T22:09:28.879Z"
   },
   {
    "duration": 3155,
    "start_time": "2022-08-05T22:10:36.411Z"
   },
   {
    "duration": 7,
    "start_time": "2022-08-05T22:10:39.568Z"
   },
   {
    "duration": 139,
    "start_time": "2022-08-05T22:10:39.577Z"
   },
   {
    "duration": 5,
    "start_time": "2022-08-05T22:10:39.717Z"
   },
   {
    "duration": 1412042,
    "start_time": "2022-08-05T22:10:39.725Z"
   },
   {
    "duration": 3,
    "start_time": "2022-08-05T22:34:11.769Z"
   },
   {
    "duration": 15693,
    "start_time": "2022-08-05T22:34:11.774Z"
   },
   {
    "duration": 91,
    "start_time": "2022-08-05T22:34:27.468Z"
   },
   {
    "duration": 4,
    "start_time": "2022-08-05T22:34:27.561Z"
   },
   {
    "duration": 21269,
    "start_time": "2022-08-05T22:34:27.566Z"
   },
   {
    "duration": 4,
    "start_time": "2022-08-05T22:34:48.837Z"
   },
   {
    "duration": 8,
    "start_time": "2022-08-05T22:34:48.843Z"
   },
   {
    "duration": 562,
    "start_time": "2022-08-05T22:34:48.853Z"
   },
   {
    "duration": 90,
    "start_time": "2022-08-05T22:34:49.417Z"
   },
   {
    "duration": 9,
    "start_time": "2022-08-05T22:34:49.510Z"
   },
   {
    "duration": 124,
    "start_time": "2022-08-05T22:34:49.521Z"
   },
   {
    "duration": 4,
    "start_time": "2022-08-05T22:34:49.647Z"
   },
   {
    "duration": 23650,
    "start_time": "2022-08-05T22:34:49.653Z"
   },
   {
    "duration": 4,
    "start_time": "2022-08-05T22:35:13.305Z"
   },
   {
    "duration": 7,
    "start_time": "2022-08-05T22:35:13.311Z"
   },
   {
    "duration": 2271,
    "start_time": "2022-08-05T22:35:13.319Z"
   },
   {
    "duration": 58,
    "start_time": "2022-08-05T22:35:15.591Z"
   },
   {
    "duration": 6,
    "start_time": "2022-08-05T22:35:15.650Z"
   },
   {
    "duration": 156,
    "start_time": "2022-08-05T22:35:15.658Z"
   },
   {
    "duration": 40557,
    "start_time": "2022-08-05T22:35:15.815Z"
   },
   {
    "duration": 0,
    "start_time": "2022-08-05T22:35:56.375Z"
   },
   {
    "duration": 0,
    "start_time": "2022-08-05T22:35:56.376Z"
   },
   {
    "duration": 0,
    "start_time": "2022-08-05T22:35:56.377Z"
   },
   {
    "duration": 0,
    "start_time": "2022-08-05T22:35:56.378Z"
   },
   {
    "duration": 0,
    "start_time": "2022-08-05T22:35:56.379Z"
   },
   {
    "duration": 0,
    "start_time": "2022-08-05T22:35:56.381Z"
   },
   {
    "duration": 0,
    "start_time": "2022-08-05T22:35:56.381Z"
   },
   {
    "duration": 0,
    "start_time": "2022-08-05T22:35:56.382Z"
   },
   {
    "duration": 0,
    "start_time": "2022-08-05T22:35:56.384Z"
   },
   {
    "duration": 0,
    "start_time": "2022-08-05T22:35:56.384Z"
   },
   {
    "duration": 0,
    "start_time": "2022-08-05T22:35:56.386Z"
   },
   {
    "duration": 0,
    "start_time": "2022-08-05T22:35:56.387Z"
   },
   {
    "duration": 0,
    "start_time": "2022-08-05T22:35:56.388Z"
   },
   {
    "duration": 0,
    "start_time": "2022-08-05T22:35:56.389Z"
   },
   {
    "duration": 0,
    "start_time": "2022-08-05T22:35:56.390Z"
   },
   {
    "duration": 0,
    "start_time": "2022-08-05T22:35:56.391Z"
   },
   {
    "duration": 0,
    "start_time": "2022-08-05T22:35:56.392Z"
   },
   {
    "duration": 0,
    "start_time": "2022-08-05T22:35:56.393Z"
   },
   {
    "duration": 9,
    "start_time": "2022-08-05T22:36:39.742Z"
   },
   {
    "duration": 81306,
    "start_time": "2022-08-05T22:36:42.288Z"
   },
   {
    "duration": 0,
    "start_time": "2022-08-05T22:38:03.597Z"
   },
   {
    "duration": 0,
    "start_time": "2022-08-05T22:38:03.600Z"
   },
   {
    "duration": 0,
    "start_time": "2022-08-05T22:38:03.601Z"
   },
   {
    "duration": 0,
    "start_time": "2022-08-05T22:38:03.602Z"
   },
   {
    "duration": 0,
    "start_time": "2022-08-05T22:38:03.603Z"
   },
   {
    "duration": 0,
    "start_time": "2022-08-05T22:38:03.604Z"
   },
   {
    "duration": 0,
    "start_time": "2022-08-05T22:38:03.605Z"
   },
   {
    "duration": 0,
    "start_time": "2022-08-05T22:38:03.606Z"
   },
   {
    "duration": 0,
    "start_time": "2022-08-05T22:38:03.607Z"
   },
   {
    "duration": 0,
    "start_time": "2022-08-05T22:38:03.608Z"
   },
   {
    "duration": 14828,
    "start_time": "2022-08-05T22:38:09.683Z"
   },
   {
    "duration": 96159,
    "start_time": "2022-08-05T22:39:19.286Z"
   },
   {
    "duration": 0,
    "start_time": "2022-08-05T22:40:55.448Z"
   },
   {
    "duration": 0,
    "start_time": "2022-08-05T22:40:55.449Z"
   },
   {
    "duration": 0,
    "start_time": "2022-08-05T22:40:55.451Z"
   },
   {
    "duration": 0,
    "start_time": "2022-08-05T22:40:55.452Z"
   },
   {
    "duration": 0,
    "start_time": "2022-08-05T22:40:55.453Z"
   },
   {
    "duration": 0,
    "start_time": "2022-08-05T22:40:55.455Z"
   },
   {
    "duration": 0,
    "start_time": "2022-08-05T22:40:55.456Z"
   },
   {
    "duration": 0,
    "start_time": "2022-08-05T22:40:55.458Z"
   },
   {
    "duration": 0,
    "start_time": "2022-08-05T22:40:55.459Z"
   },
   {
    "duration": 0,
    "start_time": "2022-08-05T22:40:55.461Z"
   },
   {
    "duration": 0,
    "start_time": "2022-08-05T22:40:55.462Z"
   },
   {
    "duration": 2352,
    "start_time": "2022-08-05T22:40:58.628Z"
   },
   {
    "duration": 14,
    "start_time": "2022-08-05T22:41:00.982Z"
   },
   {
    "duration": 720554,
    "start_time": "2022-08-05T22:41:54.825Z"
   },
   {
    "duration": 5,
    "start_time": "2022-08-05T22:53:55.381Z"
   },
   {
    "duration": 11,
    "start_time": "2022-08-05T22:53:55.388Z"
   },
   {
    "duration": 19254,
    "start_time": "2022-08-05T22:53:55.404Z"
   },
   {
    "duration": 773,
    "start_time": "2022-08-05T22:54:14.660Z"
   },
   {
    "duration": 5,
    "start_time": "2022-08-05T22:54:15.435Z"
   },
   {
    "duration": 507,
    "start_time": "2022-08-05T22:54:15.442Z"
   },
   {
    "duration": 4,
    "start_time": "2022-08-05T22:54:15.952Z"
   },
   {
    "duration": 175,
    "start_time": "2022-08-05T22:57:18.059Z"
   },
   {
    "duration": 8,
    "start_time": "2022-08-05T22:57:36.057Z"
   },
   {
    "duration": 1815,
    "start_time": "2022-08-05T22:57:46.154Z"
   },
   {
    "duration": 3106,
    "start_time": "2022-08-05T22:57:50.908Z"
   },
   {
    "duration": 141,
    "start_time": "2022-08-05T22:57:55.575Z"
   },
   {
    "duration": 6,
    "start_time": "2022-08-05T22:57:57.843Z"
   },
   {
    "duration": 941,
    "start_time": "2022-08-05T22:57:59.648Z"
   },
   {
    "duration": 17,
    "start_time": "2022-08-05T22:58:02.270Z"
   },
   {
    "duration": 15,
    "start_time": "2022-08-05T22:58:04.024Z"
   },
   {
    "duration": 214,
    "start_time": "2022-08-05T22:58:05.719Z"
   },
   {
    "duration": 93,
    "start_time": "2022-08-05T22:58:08.503Z"
   },
   {
    "duration": 159,
    "start_time": "2022-08-05T22:58:10.731Z"
   },
   {
    "duration": 17,
    "start_time": "2022-08-05T22:58:14.554Z"
   },
   {
    "duration": 11,
    "start_time": "2022-08-05T22:58:17.005Z"
   },
   {
    "duration": 34,
    "start_time": "2022-08-05T22:58:18.226Z"
   },
   {
    "duration": 44,
    "start_time": "2022-08-05T22:58:20.326Z"
   },
   {
    "duration": 42,
    "start_time": "2022-08-05T22:58:22.462Z"
   },
   {
    "duration": 9,
    "start_time": "2022-08-05T22:58:24.056Z"
   },
   {
    "duration": 199,
    "start_time": "2022-08-05T22:58:26.755Z"
   },
   {
    "duration": 58,
    "start_time": "2022-08-05T22:58:29.365Z"
   },
   {
    "duration": 54,
    "start_time": "2022-08-05T22:58:31.314Z"
   },
   {
    "duration": 161,
    "start_time": "2022-08-05T22:58:32.776Z"
   },
   {
    "duration": 18,
    "start_time": "2022-08-05T22:58:35.286Z"
   },
   {
    "duration": 6,
    "start_time": "2022-08-05T22:58:36.927Z"
   },
   {
    "duration": 54,
    "start_time": "2022-08-05T22:58:38.574Z"
   },
   {
    "duration": 50,
    "start_time": "2022-08-05T22:58:40.570Z"
   },
   {
    "duration": 25,
    "start_time": "2022-08-05T22:58:42.126Z"
   },
   {
    "duration": 55,
    "start_time": "2022-08-05T22:58:44.149Z"
   },
   {
    "duration": 47,
    "start_time": "2022-08-05T22:58:46.300Z"
   },
   {
    "duration": 104,
    "start_time": "2022-08-05T22:58:48.060Z"
   },
   {
    "duration": 8,
    "start_time": "2022-08-05T22:58:49.798Z"
   },
   {
    "duration": 7,
    "start_time": "2022-08-05T22:58:51.363Z"
   },
   {
    "duration": 7,
    "start_time": "2022-08-05T22:58:53.030Z"
   },
   {
    "duration": 931,
    "start_time": "2022-08-05T22:58:54.583Z"
   },
   {
    "duration": 18,
    "start_time": "2022-08-05T22:58:58.621Z"
   },
   {
    "duration": 124,
    "start_time": "2022-08-05T22:59:01.340Z"
   },
   {
    "duration": 37,
    "start_time": "2022-08-05T22:59:28.853Z"
   },
   {
    "duration": 1177,
    "start_time": "2022-08-05T22:59:29.878Z"
   },
   {
    "duration": 160,
    "start_time": "2022-08-05T22:59:31.843Z"
   },
   {
    "duration": 176,
    "start_time": "2022-08-05T22:59:33.406Z"
   },
   {
    "duration": 853,
    "start_time": "2022-08-05T22:59:35.982Z"
   },
   {
    "duration": 1007,
    "start_time": "2022-08-05T22:59:38.606Z"
   },
   {
    "duration": 128,
    "start_time": "2022-08-05T22:59:41.776Z"
   },
   {
    "duration": 108,
    "start_time": "2022-08-05T22:59:43.627Z"
   },
   {
    "duration": 462,
    "start_time": "2022-08-05T22:59:57.135Z"
   },
   {
    "duration": 3,
    "start_time": "2022-08-05T22:59:59.280Z"
   },
   {
    "duration": 32563,
    "start_time": "2022-08-05T23:00:00.830Z"
   },
   {
    "duration": 793,
    "start_time": "2022-08-05T23:00:36.203Z"
   },
   {
    "duration": 5,
    "start_time": "2022-08-05T23:00:38.345Z"
   },
   {
    "duration": 3,
    "start_time": "2022-08-05T23:11:49.228Z"
   },
   {
    "duration": 187,
    "start_time": "2022-08-05T23:12:23.486Z"
   },
   {
    "duration": 88,
    "start_time": "2022-08-05T23:12:34.328Z"
   },
   {
    "duration": 102,
    "start_time": "2022-08-05T23:12:46.986Z"
   },
   {
    "duration": 114,
    "start_time": "2022-08-05T23:12:53.410Z"
   },
   {
    "duration": 166,
    "start_time": "2022-08-05T23:12:57.416Z"
   },
   {
    "duration": 404,
    "start_time": "2022-08-05T23:13:02.018Z"
   },
   {
    "duration": 5443,
    "start_time": "2022-08-05T23:13:06.284Z"
   },
   {
    "duration": 638,
    "start_time": "2022-08-05T23:13:32.295Z"
   },
   {
    "duration": 644,
    "start_time": "2022-08-05T23:14:38.642Z"
   },
   {
    "duration": 648,
    "start_time": "2022-08-05T23:14:49.598Z"
   },
   {
    "duration": 621,
    "start_time": "2022-08-05T23:14:59.112Z"
   },
   {
    "duration": 3,
    "start_time": "2022-08-05T23:15:28.466Z"
   },
   {
    "duration": 4,
    "start_time": "2022-08-05T23:15:35.209Z"
   },
   {
    "duration": 621,
    "start_time": "2022-08-05T23:15:55.351Z"
   },
   {
    "duration": 5,
    "start_time": "2022-08-05T23:15:57.616Z"
   },
   {
    "duration": 74,
    "start_time": "2022-08-05T23:22:12.160Z"
   },
   {
    "duration": 4,
    "start_time": "2022-08-05T23:22:17.090Z"
   },
   {
    "duration": 1542,
    "start_time": "2022-08-05T23:22:19.310Z"
   },
   {
    "duration": 83,
    "start_time": "2022-08-05T23:22:22.713Z"
   },
   {
    "duration": 6,
    "start_time": "2022-08-05T23:22:25.091Z"
   },
   {
    "duration": 3,
    "start_time": "2022-08-05T23:22:27.870Z"
   },
   {
    "duration": 1554,
    "start_time": "2022-08-05T23:22:29.748Z"
   },
   {
    "duration": 83,
    "start_time": "2022-08-05T23:22:32.920Z"
   },
   {
    "duration": 5,
    "start_time": "2022-08-05T23:22:40.298Z"
   },
   {
    "duration": 3,
    "start_time": "2022-08-05T23:23:06.297Z"
   },
   {
    "duration": 87,
    "start_time": "2022-08-05T23:23:37.027Z"
   },
   {
    "duration": 92,
    "start_time": "2022-08-05T23:23:54.693Z"
   },
   {
    "duration": 6343,
    "start_time": "2022-08-05T23:24:05.162Z"
   },
   {
    "duration": 792,
    "start_time": "2022-08-05T23:24:43.948Z"
   },
   {
    "duration": 6,
    "start_time": "2022-08-05T23:25:32.231Z"
   },
   {
    "duration": 3,
    "start_time": "2022-08-05T23:26:07.566Z"
   },
   {
    "duration": 5396,
    "start_time": "2022-08-05T23:26:08.740Z"
   },
   {
    "duration": 618,
    "start_time": "2022-08-05T23:26:15.666Z"
   },
   {
    "duration": 5,
    "start_time": "2022-08-05T23:26:17.947Z"
   },
   {
    "duration": 3,
    "start_time": "2022-08-05T23:26:30.269Z"
   },
   {
    "duration": 1667,
    "start_time": "2022-08-05T23:26:31.364Z"
   },
   {
    "duration": 89,
    "start_time": "2022-08-05T23:26:34.619Z"
   },
   {
    "duration": 6,
    "start_time": "2022-08-05T23:26:37.430Z"
   },
   {
    "duration": 6,
    "start_time": "2022-08-05T23:26:47.544Z"
   },
   {
    "duration": 5,
    "start_time": "2022-08-05T23:26:54.263Z"
   },
   {
    "duration": 3,
    "start_time": "2022-08-05T23:29:35.738Z"
   },
   {
    "duration": 150,
    "start_time": "2022-08-05T23:31:55.715Z"
   },
   {
    "duration": 33,
    "start_time": "2022-08-05T23:32:29.886Z"
   },
   {
    "duration": 5,
    "start_time": "2022-08-05T23:33:09.912Z"
   },
   {
    "duration": 8,
    "start_time": "2022-08-05T23:33:18.203Z"
   },
   {
    "duration": 3,
    "start_time": "2022-08-05T23:34:39.216Z"
   },
   {
    "duration": 660,
    "start_time": "2022-08-05T23:35:08.660Z"
   },
   {
    "duration": 19,
    "start_time": "2022-08-05T23:36:33.406Z"
   },
   {
    "duration": 6,
    "start_time": "2022-08-05T23:36:42.675Z"
   },
   {
    "duration": 5,
    "start_time": "2022-08-05T23:37:09.258Z"
   },
   {
    "duration": 3,
    "start_time": "2022-08-05T23:38:41.080Z"
   },
   {
    "duration": 2939,
    "start_time": "2022-08-05T23:39:35.945Z"
   },
   {
    "duration": 3,
    "start_time": "2022-08-05T23:40:29.325Z"
   },
   {
    "duration": 7620,
    "start_time": "2022-08-05T23:40:47.439Z"
   },
   {
    "duration": 210,
    "start_time": "2022-08-05T23:41:54.376Z"
   },
   {
    "duration": 5,
    "start_time": "2022-08-05T23:43:15.333Z"
   },
   {
    "duration": 5,
    "start_time": "2022-08-05T23:43:24.366Z"
   },
   {
    "duration": 1658,
    "start_time": "2022-08-06T18:47:26.651Z"
   },
   {
    "duration": 2481,
    "start_time": "2022-08-06T18:47:28.311Z"
   },
   {
    "duration": 104,
    "start_time": "2022-08-06T18:47:30.794Z"
   },
   {
    "duration": 4,
    "start_time": "2022-08-06T18:47:30.900Z"
   },
   {
    "duration": 749,
    "start_time": "2022-08-06T18:47:30.906Z"
   },
   {
    "duration": 15,
    "start_time": "2022-08-06T18:47:31.656Z"
   },
   {
    "duration": 9,
    "start_time": "2022-08-06T18:47:31.673Z"
   },
   {
    "duration": 188,
    "start_time": "2022-08-06T18:47:31.683Z"
   },
   {
    "duration": 59,
    "start_time": "2022-08-06T18:47:31.873Z"
   },
   {
    "duration": 133,
    "start_time": "2022-08-06T18:47:31.934Z"
   },
   {
    "duration": 14,
    "start_time": "2022-08-06T18:47:32.068Z"
   },
   {
    "duration": 4,
    "start_time": "2022-08-06T18:47:32.084Z"
   },
   {
    "duration": 23,
    "start_time": "2022-08-06T18:47:32.089Z"
   },
   {
    "duration": 59,
    "start_time": "2022-08-06T18:47:32.113Z"
   },
   {
    "duration": 32,
    "start_time": "2022-08-06T18:47:32.174Z"
   },
   {
    "duration": 8,
    "start_time": "2022-08-06T18:47:32.208Z"
   },
   {
    "duration": 177,
    "start_time": "2022-08-06T18:47:32.217Z"
   },
   {
    "duration": 40,
    "start_time": "2022-08-06T18:47:32.395Z"
   },
   {
    "duration": 45,
    "start_time": "2022-08-06T18:47:32.437Z"
   },
   {
    "duration": 98,
    "start_time": "2022-08-06T18:47:32.484Z"
   },
   {
    "duration": 5,
    "start_time": "2022-08-06T18:47:32.584Z"
   },
   {
    "duration": 5,
    "start_time": "2022-08-06T18:47:32.590Z"
   },
   {
    "duration": 38,
    "start_time": "2022-08-06T18:47:32.596Z"
   },
   {
    "duration": 50,
    "start_time": "2022-08-06T18:47:32.635Z"
   },
   {
    "duration": 21,
    "start_time": "2022-08-06T18:47:32.687Z"
   },
   {
    "duration": 63,
    "start_time": "2022-08-06T18:47:32.709Z"
   },
   {
    "duration": 32,
    "start_time": "2022-08-06T18:47:32.773Z"
   },
   {
    "duration": 96,
    "start_time": "2022-08-06T18:47:32.809Z"
   },
   {
    "duration": 5,
    "start_time": "2022-08-06T18:47:32.906Z"
   },
   {
    "duration": 7,
    "start_time": "2022-08-06T18:47:32.913Z"
   },
   {
    "duration": 4,
    "start_time": "2022-08-06T18:47:32.921Z"
   },
   {
    "duration": 766,
    "start_time": "2022-08-06T18:47:32.926Z"
   },
   {
    "duration": 14,
    "start_time": "2022-08-06T18:47:33.693Z"
   },
   {
    "duration": 85,
    "start_time": "2022-08-06T18:47:33.709Z"
   },
   {
    "duration": 35,
    "start_time": "2022-08-06T18:47:33.796Z"
   },
   {
    "duration": 738,
    "start_time": "2022-08-06T18:47:33.832Z"
   },
   {
    "duration": 120,
    "start_time": "2022-08-06T18:47:34.571Z"
   },
   {
    "duration": 164,
    "start_time": "2022-08-06T18:47:34.692Z"
   },
   {
    "duration": 693,
    "start_time": "2022-08-06T18:47:34.857Z"
   },
   {
    "duration": 907,
    "start_time": "2022-08-06T18:47:35.551Z"
   },
   {
    "duration": 99,
    "start_time": "2022-08-06T18:47:36.460Z"
   },
   {
    "duration": 69,
    "start_time": "2022-08-06T18:47:36.560Z"
   },
   {
    "duration": 106,
    "start_time": "2022-08-06T18:47:36.630Z"
   },
   {
    "duration": 4,
    "start_time": "2022-08-06T18:47:36.738Z"
   },
   {
    "duration": 13,
    "start_time": "2022-08-06T18:47:36.755Z"
   },
   {
    "duration": 38876,
    "start_time": "2022-08-06T18:47:36.770Z"
   },
   {
    "duration": 0,
    "start_time": "2022-08-06T18:48:15.655Z"
   },
   {
    "duration": 0,
    "start_time": "2022-08-06T18:48:15.656Z"
   },
   {
    "duration": 0,
    "start_time": "2022-08-06T18:48:15.657Z"
   },
   {
    "duration": 0,
    "start_time": "2022-08-06T18:48:15.659Z"
   },
   {
    "duration": 0,
    "start_time": "2022-08-06T18:48:15.660Z"
   },
   {
    "duration": 0,
    "start_time": "2022-08-06T18:48:15.661Z"
   },
   {
    "duration": 0,
    "start_time": "2022-08-06T18:48:15.662Z"
   },
   {
    "duration": 0,
    "start_time": "2022-08-06T18:48:15.663Z"
   },
   {
    "duration": 0,
    "start_time": "2022-08-06T18:48:15.664Z"
   },
   {
    "duration": 0,
    "start_time": "2022-08-06T18:48:15.665Z"
   },
   {
    "duration": 0,
    "start_time": "2022-08-06T18:48:15.666Z"
   },
   {
    "duration": 0,
    "start_time": "2022-08-06T18:48:15.667Z"
   },
   {
    "duration": 0,
    "start_time": "2022-08-06T18:48:15.668Z"
   },
   {
    "duration": 0,
    "start_time": "2022-08-06T18:48:15.670Z"
   },
   {
    "duration": 0,
    "start_time": "2022-08-06T18:48:15.671Z"
   },
   {
    "duration": 0,
    "start_time": "2022-08-06T18:48:15.671Z"
   },
   {
    "duration": 0,
    "start_time": "2022-08-06T18:48:15.672Z"
   },
   {
    "duration": 0,
    "start_time": "2022-08-06T18:48:15.673Z"
   },
   {
    "duration": 0,
    "start_time": "2022-08-06T18:48:15.674Z"
   },
   {
    "duration": 0,
    "start_time": "2022-08-06T18:48:15.675Z"
   },
   {
    "duration": 0,
    "start_time": "2022-08-06T18:48:15.676Z"
   },
   {
    "duration": 0,
    "start_time": "2022-08-06T18:48:15.677Z"
   },
   {
    "duration": 0,
    "start_time": "2022-08-06T18:48:15.678Z"
   },
   {
    "duration": 0,
    "start_time": "2022-08-06T18:48:15.680Z"
   },
   {
    "duration": 0,
    "start_time": "2022-08-06T18:48:15.681Z"
   },
   {
    "duration": 0,
    "start_time": "2022-08-06T18:48:15.682Z"
   },
   {
    "duration": 0,
    "start_time": "2022-08-06T18:48:15.683Z"
   },
   {
    "duration": 0,
    "start_time": "2022-08-06T18:48:15.684Z"
   },
   {
    "duration": 0,
    "start_time": "2022-08-06T18:48:15.685Z"
   },
   {
    "duration": 0,
    "start_time": "2022-08-06T18:48:15.686Z"
   },
   {
    "duration": 0,
    "start_time": "2022-08-06T18:48:15.687Z"
   },
   {
    "duration": 0,
    "start_time": "2022-08-06T18:48:15.687Z"
   },
   {
    "duration": 0,
    "start_time": "2022-08-06T18:48:15.688Z"
   },
   {
    "duration": 0,
    "start_time": "2022-08-06T18:48:15.689Z"
   },
   {
    "duration": 0,
    "start_time": "2022-08-06T18:48:15.690Z"
   },
   {
    "duration": 0,
    "start_time": "2022-08-06T18:48:15.691Z"
   },
   {
    "duration": 0,
    "start_time": "2022-08-06T18:48:15.692Z"
   },
   {
    "duration": 0,
    "start_time": "2022-08-06T18:48:15.754Z"
   },
   {
    "duration": 0,
    "start_time": "2022-08-06T18:48:15.756Z"
   },
   {
    "duration": 0,
    "start_time": "2022-08-06T18:48:15.757Z"
   },
   {
    "duration": 0,
    "start_time": "2022-08-06T18:48:15.757Z"
   },
   {
    "duration": 0,
    "start_time": "2022-08-06T18:48:15.759Z"
   },
   {
    "duration": 0,
    "start_time": "2022-08-06T18:48:15.759Z"
   },
   {
    "duration": 0,
    "start_time": "2022-08-06T18:48:15.760Z"
   },
   {
    "duration": 0,
    "start_time": "2022-08-06T18:48:15.761Z"
   },
   {
    "duration": 0,
    "start_time": "2022-08-06T18:48:15.762Z"
   },
   {
    "duration": 0,
    "start_time": "2022-08-06T18:48:15.762Z"
   },
   {
    "duration": 0,
    "start_time": "2022-08-06T18:48:15.764Z"
   },
   {
    "duration": 0,
    "start_time": "2022-08-06T18:48:15.764Z"
   },
   {
    "duration": 0,
    "start_time": "2022-08-06T18:48:15.765Z"
   },
   {
    "duration": 0,
    "start_time": "2022-08-06T18:48:15.766Z"
   },
   {
    "duration": 0,
    "start_time": "2022-08-06T18:48:15.767Z"
   },
   {
    "duration": 0,
    "start_time": "2022-08-06T18:48:15.768Z"
   },
   {
    "duration": 0,
    "start_time": "2022-08-06T18:48:15.769Z"
   },
   {
    "duration": 0,
    "start_time": "2022-08-06T18:48:15.769Z"
   },
   {
    "duration": 0,
    "start_time": "2022-08-06T18:48:15.770Z"
   },
   {
    "duration": 0,
    "start_time": "2022-08-06T18:48:15.771Z"
   },
   {
    "duration": 0,
    "start_time": "2022-08-06T18:48:15.772Z"
   },
   {
    "duration": 0,
    "start_time": "2022-08-06T18:48:15.773Z"
   },
   {
    "duration": 0,
    "start_time": "2022-08-06T18:48:15.774Z"
   },
   {
    "duration": 0,
    "start_time": "2022-08-06T18:48:15.775Z"
   },
   {
    "duration": 0,
    "start_time": "2022-08-06T18:48:15.776Z"
   },
   {
    "duration": 14,
    "start_time": "2022-08-06T18:54:13.100Z"
   },
   {
    "duration": 1522,
    "start_time": "2022-08-09T00:50:06.116Z"
   },
   {
    "duration": 866,
    "start_time": "2022-08-09T00:50:08.453Z"
   },
   {
    "duration": 98,
    "start_time": "2022-08-09T00:50:11.175Z"
   },
   {
    "duration": 4,
    "start_time": "2022-08-09T00:50:13.677Z"
   },
   {
    "duration": 729,
    "start_time": "2022-08-09T00:50:15.417Z"
   },
   {
    "duration": 14,
    "start_time": "2022-08-09T00:50:18.292Z"
   },
   {
    "duration": 168,
    "start_time": "2022-08-09T00:50:25.219Z"
   },
   {
    "duration": 72,
    "start_time": "2022-08-09T00:50:28.961Z"
   },
   {
    "duration": 115,
    "start_time": "2022-08-09T00:50:33.546Z"
   },
   {
    "duration": 1434,
    "start_time": "2022-08-09T00:50:39.382Z"
   },
   {
    "duration": 666,
    "start_time": "2022-08-09T00:50:40.818Z"
   },
   {
    "duration": 148,
    "start_time": "2022-08-09T00:50:41.486Z"
   },
   {
    "duration": 10,
    "start_time": "2022-08-09T00:50:41.637Z"
   },
   {
    "duration": 738,
    "start_time": "2022-08-09T00:50:41.649Z"
   },
   {
    "duration": 23,
    "start_time": "2022-08-09T00:50:42.389Z"
   },
   {
    "duration": 11,
    "start_time": "2022-08-09T00:50:42.413Z"
   },
   {
    "duration": 191,
    "start_time": "2022-08-09T00:50:42.426Z"
   },
   {
    "duration": 83,
    "start_time": "2022-08-09T00:50:42.618Z"
   },
   {
    "duration": 128,
    "start_time": "2022-08-09T00:50:42.703Z"
   },
   {
    "duration": 16,
    "start_time": "2022-08-09T00:50:42.833Z"
   },
   {
    "duration": 5,
    "start_time": "2022-08-09T00:50:42.851Z"
   },
   {
    "duration": 43,
    "start_time": "2022-08-09T00:50:42.857Z"
   },
   {
    "duration": 42,
    "start_time": "2022-08-09T00:50:42.901Z"
   },
   {
    "duration": 34,
    "start_time": "2022-08-09T00:50:42.944Z"
   },
   {
    "duration": 33,
    "start_time": "2022-08-09T00:50:42.979Z"
   },
   {
    "duration": 169,
    "start_time": "2022-08-09T00:50:43.013Z"
   },
   {
    "duration": 49,
    "start_time": "2022-08-09T00:50:43.184Z"
   },
   {
    "duration": 35,
    "start_time": "2022-08-09T00:50:43.235Z"
   },
   {
    "duration": 111,
    "start_time": "2022-08-09T00:50:43.272Z"
   },
   {
    "duration": 15,
    "start_time": "2022-08-09T00:50:43.385Z"
   },
   {
    "duration": 5,
    "start_time": "2022-08-09T00:50:43.402Z"
   },
   {
    "duration": 44,
    "start_time": "2022-08-09T00:50:43.408Z"
   },
   {
    "duration": 50,
    "start_time": "2022-08-09T00:50:43.454Z"
   },
   {
    "duration": 22,
    "start_time": "2022-08-09T00:50:43.506Z"
   },
   {
    "duration": 47,
    "start_time": "2022-08-09T00:50:43.529Z"
   },
   {
    "duration": 46,
    "start_time": "2022-08-09T00:50:43.578Z"
   },
   {
    "duration": 95,
    "start_time": "2022-08-09T00:50:43.627Z"
   },
   {
    "duration": 5,
    "start_time": "2022-08-09T00:50:43.724Z"
   },
   {
    "duration": 9,
    "start_time": "2022-08-09T00:50:43.730Z"
   },
   {
    "duration": 10,
    "start_time": "2022-08-09T00:50:43.740Z"
   },
   {
    "duration": 697,
    "start_time": "2022-08-09T00:50:43.751Z"
   },
   {
    "duration": 14,
    "start_time": "2022-08-09T00:50:44.449Z"
   },
   {
    "duration": 84,
    "start_time": "2022-08-09T00:50:44.465Z"
   },
   {
    "duration": 36,
    "start_time": "2022-08-09T00:50:44.550Z"
   },
   {
    "duration": 976,
    "start_time": "2022-08-09T00:50:44.587Z"
   },
   {
    "duration": 121,
    "start_time": "2022-08-09T00:50:45.564Z"
   },
   {
    "duration": 175,
    "start_time": "2022-08-09T00:50:45.686Z"
   },
   {
    "duration": 771,
    "start_time": "2022-08-09T00:50:45.863Z"
   },
   {
    "duration": 969,
    "start_time": "2022-08-09T00:50:46.636Z"
   },
   {
    "duration": 103,
    "start_time": "2022-08-09T00:50:47.607Z"
   },
   {
    "duration": 69,
    "start_time": "2022-08-09T00:50:47.712Z"
   },
   {
    "duration": 112,
    "start_time": "2022-08-09T00:50:47.782Z"
   },
   {
    "duration": 3,
    "start_time": "2022-08-09T00:50:47.900Z"
   },
   {
    "duration": 16,
    "start_time": "2022-08-09T00:50:47.905Z"
   },
   {
    "duration": 25038,
    "start_time": "2022-08-09T00:50:47.922Z"
   },
   {
    "duration": 0,
    "start_time": "2022-08-09T00:51:12.963Z"
   },
   {
    "duration": 0,
    "start_time": "2022-08-09T00:51:12.964Z"
   },
   {
    "duration": 0,
    "start_time": "2022-08-09T00:51:12.965Z"
   },
   {
    "duration": 0,
    "start_time": "2022-08-09T00:51:12.965Z"
   },
   {
    "duration": 0,
    "start_time": "2022-08-09T00:51:12.966Z"
   },
   {
    "duration": 0,
    "start_time": "2022-08-09T00:51:12.967Z"
   },
   {
    "duration": 0,
    "start_time": "2022-08-09T00:51:12.969Z"
   },
   {
    "duration": 0,
    "start_time": "2022-08-09T00:51:12.970Z"
   },
   {
    "duration": 0,
    "start_time": "2022-08-09T00:51:12.971Z"
   },
   {
    "duration": 0,
    "start_time": "2022-08-09T00:51:12.972Z"
   },
   {
    "duration": 0,
    "start_time": "2022-08-09T00:51:12.973Z"
   },
   {
    "duration": 0,
    "start_time": "2022-08-09T00:51:12.974Z"
   },
   {
    "duration": 0,
    "start_time": "2022-08-09T00:51:12.975Z"
   },
   {
    "duration": 0,
    "start_time": "2022-08-09T00:51:13.000Z"
   },
   {
    "duration": 0,
    "start_time": "2022-08-09T00:51:13.001Z"
   },
   {
    "duration": 0,
    "start_time": "2022-08-09T00:51:13.002Z"
   },
   {
    "duration": 0,
    "start_time": "2022-08-09T00:51:13.003Z"
   },
   {
    "duration": 0,
    "start_time": "2022-08-09T00:51:13.004Z"
   },
   {
    "duration": 0,
    "start_time": "2022-08-09T00:51:13.005Z"
   },
   {
    "duration": 0,
    "start_time": "2022-08-09T00:51:13.007Z"
   },
   {
    "duration": 0,
    "start_time": "2022-08-09T00:51:13.008Z"
   },
   {
    "duration": 0,
    "start_time": "2022-08-09T00:51:13.009Z"
   },
   {
    "duration": 0,
    "start_time": "2022-08-09T00:51:13.010Z"
   },
   {
    "duration": 0,
    "start_time": "2022-08-09T00:51:13.011Z"
   },
   {
    "duration": 0,
    "start_time": "2022-08-09T00:51:13.012Z"
   },
   {
    "duration": 0,
    "start_time": "2022-08-09T00:51:13.013Z"
   },
   {
    "duration": 0,
    "start_time": "2022-08-09T00:51:13.014Z"
   },
   {
    "duration": 0,
    "start_time": "2022-08-09T00:51:13.015Z"
   },
   {
    "duration": 0,
    "start_time": "2022-08-09T00:51:13.016Z"
   },
   {
    "duration": 0,
    "start_time": "2022-08-09T00:51:13.017Z"
   },
   {
    "duration": 0,
    "start_time": "2022-08-09T00:51:13.018Z"
   },
   {
    "duration": 0,
    "start_time": "2022-08-09T00:51:13.019Z"
   },
   {
    "duration": 0,
    "start_time": "2022-08-09T00:51:13.020Z"
   },
   {
    "duration": 0,
    "start_time": "2022-08-09T00:51:13.021Z"
   },
   {
    "duration": 0,
    "start_time": "2022-08-09T00:51:13.022Z"
   },
   {
    "duration": 0,
    "start_time": "2022-08-09T00:51:13.023Z"
   },
   {
    "duration": 0,
    "start_time": "2022-08-09T00:51:13.024Z"
   },
   {
    "duration": 0,
    "start_time": "2022-08-09T00:51:13.024Z"
   },
   {
    "duration": 0,
    "start_time": "2022-08-09T00:51:13.025Z"
   },
   {
    "duration": 0,
    "start_time": "2022-08-09T00:51:13.026Z"
   },
   {
    "duration": 0,
    "start_time": "2022-08-09T00:51:13.028Z"
   },
   {
    "duration": 0,
    "start_time": "2022-08-09T00:51:13.028Z"
   },
   {
    "duration": 0,
    "start_time": "2022-08-09T00:51:13.029Z"
   },
   {
    "duration": 0,
    "start_time": "2022-08-09T00:51:13.030Z"
   },
   {
    "duration": 0,
    "start_time": "2022-08-09T00:51:13.031Z"
   },
   {
    "duration": 0,
    "start_time": "2022-08-09T00:51:13.032Z"
   },
   {
    "duration": 0,
    "start_time": "2022-08-09T00:51:13.033Z"
   },
   {
    "duration": 0,
    "start_time": "2022-08-09T00:51:13.034Z"
   },
   {
    "duration": 0,
    "start_time": "2022-08-09T00:51:13.035Z"
   },
   {
    "duration": 0,
    "start_time": "2022-08-09T00:51:13.036Z"
   },
   {
    "duration": 0,
    "start_time": "2022-08-09T00:51:13.037Z"
   },
   {
    "duration": 0,
    "start_time": "2022-08-09T00:51:13.038Z"
   },
   {
    "duration": 0,
    "start_time": "2022-08-09T00:51:13.039Z"
   },
   {
    "duration": 0,
    "start_time": "2022-08-09T00:51:13.100Z"
   },
   {
    "duration": 0,
    "start_time": "2022-08-09T00:51:13.101Z"
   },
   {
    "duration": 0,
    "start_time": "2022-08-09T00:51:13.102Z"
   },
   {
    "duration": 0,
    "start_time": "2022-08-09T00:51:13.103Z"
   },
   {
    "duration": 0,
    "start_time": "2022-08-09T00:51:13.104Z"
   },
   {
    "duration": 0,
    "start_time": "2022-08-09T00:51:13.105Z"
   },
   {
    "duration": 0,
    "start_time": "2022-08-09T00:51:13.106Z"
   },
   {
    "duration": 0,
    "start_time": "2022-08-09T00:51:13.107Z"
   },
   {
    "duration": 0,
    "start_time": "2022-08-09T00:51:13.108Z"
   },
   {
    "duration": 59,
    "start_time": "2022-08-09T01:34:17.945Z"
   },
   {
    "duration": 22,
    "start_time": "2022-08-09T01:35:36.220Z"
   },
   {
    "duration": 38,
    "start_time": "2022-08-09T01:36:11.933Z"
   },
   {
    "duration": 251,
    "start_time": "2022-08-09T01:36:38.003Z"
   },
   {
    "duration": 39,
    "start_time": "2022-08-09T01:38:49.046Z"
   },
   {
    "duration": 44,
    "start_time": "2022-08-09T01:39:11.769Z"
   },
   {
    "duration": 43,
    "start_time": "2022-08-09T01:43:45.564Z"
   },
   {
    "duration": 43,
    "start_time": "2022-08-09T01:44:43.978Z"
   },
   {
    "duration": 42,
    "start_time": "2022-08-09T01:45:25.902Z"
   },
   {
    "duration": 40,
    "start_time": "2022-08-09T01:45:59.014Z"
   },
   {
    "duration": 27,
    "start_time": "2022-08-09T01:47:29.111Z"
   },
   {
    "duration": 1011,
    "start_time": "2022-08-09T01:47:30.232Z"
   },
   {
    "duration": 17,
    "start_time": "2022-08-09T01:47:32.052Z"
   },
   {
    "duration": 1465,
    "start_time": "2022-08-09T01:49:06.459Z"
   },
   {
    "duration": 670,
    "start_time": "2022-08-09T01:49:07.926Z"
   },
   {
    "duration": 104,
    "start_time": "2022-08-09T01:49:08.598Z"
   },
   {
    "duration": 4,
    "start_time": "2022-08-09T01:49:08.704Z"
   },
   {
    "duration": 739,
    "start_time": "2022-08-09T01:49:08.710Z"
   },
   {
    "duration": 15,
    "start_time": "2022-08-09T01:49:09.451Z"
   },
   {
    "duration": 73,
    "start_time": "2022-08-09T01:49:09.467Z"
   },
   {
    "duration": 11,
    "start_time": "2022-08-09T01:49:09.542Z"
   },
   {
    "duration": 184,
    "start_time": "2022-08-09T01:49:09.554Z"
   },
   {
    "duration": 66,
    "start_time": "2022-08-09T01:49:09.741Z"
   },
   {
    "duration": 126,
    "start_time": "2022-08-09T01:49:09.809Z"
   },
   {
    "duration": 17,
    "start_time": "2022-08-09T01:49:09.937Z"
   },
   {
    "duration": 5,
    "start_time": "2022-08-09T01:49:09.956Z"
   },
   {
    "duration": 52,
    "start_time": "2022-08-09T01:49:09.963Z"
   },
   {
    "duration": 43,
    "start_time": "2022-08-09T01:49:10.017Z"
   },
   {
    "duration": 47,
    "start_time": "2022-08-09T01:49:10.062Z"
   },
   {
    "duration": 12,
    "start_time": "2022-08-09T01:49:10.111Z"
   },
   {
    "duration": 54,
    "start_time": "2022-08-09T01:49:10.124Z"
   },
   {
    "duration": 170,
    "start_time": "2022-08-09T01:49:10.199Z"
   },
   {
    "duration": 48,
    "start_time": "2022-08-09T01:49:10.370Z"
   },
   {
    "duration": 34,
    "start_time": "2022-08-09T01:49:10.420Z"
   },
   {
    "duration": 106,
    "start_time": "2022-08-09T01:49:10.456Z"
   },
   {
    "duration": 5,
    "start_time": "2022-08-09T01:49:10.563Z"
   },
   {
    "duration": 6,
    "start_time": "2022-08-09T01:49:10.569Z"
   },
   {
    "duration": 55,
    "start_time": "2022-08-09T01:49:10.577Z"
   },
   {
    "duration": 32,
    "start_time": "2022-08-09T01:49:10.634Z"
   },
   {
    "duration": 34,
    "start_time": "2022-08-09T01:49:10.668Z"
   },
   {
    "duration": 40,
    "start_time": "2022-08-09T01:49:10.706Z"
   },
   {
    "duration": 55,
    "start_time": "2022-08-09T01:49:10.747Z"
   },
   {
    "duration": 73,
    "start_time": "2022-08-09T01:49:10.804Z"
   },
   {
    "duration": 64,
    "start_time": "2022-08-09T01:49:10.879Z"
   },
   {
    "duration": 5,
    "start_time": "2022-08-09T01:49:10.945Z"
   },
   {
    "duration": 67,
    "start_time": "2022-08-09T01:49:10.952Z"
   },
   {
    "duration": 11,
    "start_time": "2022-08-09T01:49:11.020Z"
   },
   {
    "duration": 41,
    "start_time": "2022-08-09T01:49:11.033Z"
   },
   {
    "duration": 4,
    "start_time": "2022-08-09T01:49:11.076Z"
   },
   {
    "duration": 774,
    "start_time": "2022-08-09T01:49:11.099Z"
   },
   {
    "duration": 46,
    "start_time": "2022-08-09T01:49:11.875Z"
   },
   {
    "duration": 9,
    "start_time": "2022-08-09T01:49:11.923Z"
   },
   {
    "duration": 89,
    "start_time": "2022-08-09T01:49:11.934Z"
   },
   {
    "duration": 25,
    "start_time": "2022-08-09T01:49:12.024Z"
   },
   {
    "duration": 1097,
    "start_time": "2022-08-09T01:49:12.051Z"
   },
   {
    "duration": 503,
    "start_time": "2022-08-09T01:49:13.150Z"
   },
   {
    "duration": 646,
    "start_time": "2022-08-09T01:49:13.654Z"
   },
   {
    "duration": 9,
    "start_time": "2022-08-09T01:49:14.302Z"
   },
   {
    "duration": 88,
    "start_time": "2022-08-09T01:49:14.313Z"
   },
   {
    "duration": 131,
    "start_time": "2022-08-09T01:49:14.403Z"
   },
   {
    "duration": 4,
    "start_time": "2022-08-09T01:49:14.536Z"
   },
   {
    "duration": 10,
    "start_time": "2022-08-09T01:49:14.541Z"
   },
   {
    "duration": 1004,
    "start_time": "2022-08-09T01:49:14.552Z"
   },
   {
    "duration": 0,
    "start_time": "2022-08-09T01:49:15.558Z"
   },
   {
    "duration": 0,
    "start_time": "2022-08-09T01:49:15.559Z"
   },
   {
    "duration": 0,
    "start_time": "2022-08-09T01:49:15.560Z"
   },
   {
    "duration": 0,
    "start_time": "2022-08-09T01:49:15.561Z"
   },
   {
    "duration": 0,
    "start_time": "2022-08-09T01:49:15.562Z"
   },
   {
    "duration": 0,
    "start_time": "2022-08-09T01:49:15.563Z"
   },
   {
    "duration": 0,
    "start_time": "2022-08-09T01:49:15.564Z"
   },
   {
    "duration": 0,
    "start_time": "2022-08-09T01:49:15.565Z"
   },
   {
    "duration": 0,
    "start_time": "2022-08-09T01:49:15.566Z"
   },
   {
    "duration": 0,
    "start_time": "2022-08-09T01:49:15.567Z"
   },
   {
    "duration": 0,
    "start_time": "2022-08-09T01:49:15.568Z"
   },
   {
    "duration": 0,
    "start_time": "2022-08-09T01:49:15.568Z"
   },
   {
    "duration": 0,
    "start_time": "2022-08-09T01:49:15.569Z"
   },
   {
    "duration": 0,
    "start_time": "2022-08-09T01:49:15.571Z"
   },
   {
    "duration": 0,
    "start_time": "2022-08-09T01:49:15.599Z"
   },
   {
    "duration": 0,
    "start_time": "2022-08-09T01:49:15.600Z"
   },
   {
    "duration": 1,
    "start_time": "2022-08-09T01:49:15.601Z"
   },
   {
    "duration": 0,
    "start_time": "2022-08-09T01:49:15.603Z"
   },
   {
    "duration": 0,
    "start_time": "2022-08-09T01:49:15.605Z"
   },
   {
    "duration": 0,
    "start_time": "2022-08-09T01:49:15.606Z"
   },
   {
    "duration": 0,
    "start_time": "2022-08-09T01:49:15.607Z"
   },
   {
    "duration": 0,
    "start_time": "2022-08-09T01:49:15.609Z"
   },
   {
    "duration": 0,
    "start_time": "2022-08-09T01:49:15.610Z"
   },
   {
    "duration": 0,
    "start_time": "2022-08-09T01:49:15.611Z"
   },
   {
    "duration": 0,
    "start_time": "2022-08-09T01:49:15.613Z"
   },
   {
    "duration": 0,
    "start_time": "2022-08-09T01:49:15.614Z"
   },
   {
    "duration": 0,
    "start_time": "2022-08-09T01:49:15.615Z"
   },
   {
    "duration": 0,
    "start_time": "2022-08-09T01:49:15.616Z"
   },
   {
    "duration": 0,
    "start_time": "2022-08-09T01:49:15.618Z"
   },
   {
    "duration": 0,
    "start_time": "2022-08-09T01:49:15.619Z"
   },
   {
    "duration": 0,
    "start_time": "2022-08-09T01:49:15.620Z"
   },
   {
    "duration": 0,
    "start_time": "2022-08-09T01:49:15.622Z"
   },
   {
    "duration": 0,
    "start_time": "2022-08-09T01:49:15.623Z"
   },
   {
    "duration": 0,
    "start_time": "2022-08-09T01:49:15.624Z"
   },
   {
    "duration": 0,
    "start_time": "2022-08-09T01:49:15.625Z"
   },
   {
    "duration": 0,
    "start_time": "2022-08-09T01:49:15.627Z"
   },
   {
    "duration": 0,
    "start_time": "2022-08-09T01:49:15.628Z"
   },
   {
    "duration": 0,
    "start_time": "2022-08-09T01:49:15.630Z"
   },
   {
    "duration": 0,
    "start_time": "2022-08-09T01:49:15.631Z"
   },
   {
    "duration": 0,
    "start_time": "2022-08-09T01:49:15.632Z"
   },
   {
    "duration": 0,
    "start_time": "2022-08-09T01:49:15.634Z"
   },
   {
    "duration": 0,
    "start_time": "2022-08-09T01:49:15.635Z"
   },
   {
    "duration": 0,
    "start_time": "2022-08-09T01:49:15.636Z"
   },
   {
    "duration": 0,
    "start_time": "2022-08-09T01:49:15.638Z"
   },
   {
    "duration": 0,
    "start_time": "2022-08-09T01:49:15.639Z"
   },
   {
    "duration": 0,
    "start_time": "2022-08-09T01:49:15.700Z"
   },
   {
    "duration": 0,
    "start_time": "2022-08-09T01:49:15.702Z"
   },
   {
    "duration": 0,
    "start_time": "2022-08-09T01:49:15.702Z"
   },
   {
    "duration": 0,
    "start_time": "2022-08-09T01:49:15.703Z"
   },
   {
    "duration": 0,
    "start_time": "2022-08-09T01:49:15.704Z"
   },
   {
    "duration": 0,
    "start_time": "2022-08-09T01:49:15.705Z"
   },
   {
    "duration": 0,
    "start_time": "2022-08-09T01:49:15.706Z"
   },
   {
    "duration": 0,
    "start_time": "2022-08-09T01:49:15.707Z"
   },
   {
    "duration": 0,
    "start_time": "2022-08-09T01:49:15.708Z"
   },
   {
    "duration": 0,
    "start_time": "2022-08-09T01:49:15.709Z"
   },
   {
    "duration": 0,
    "start_time": "2022-08-09T01:49:15.710Z"
   },
   {
    "duration": 0,
    "start_time": "2022-08-09T01:49:15.711Z"
   },
   {
    "duration": 0,
    "start_time": "2022-08-09T01:49:15.712Z"
   },
   {
    "duration": 0,
    "start_time": "2022-08-09T01:49:15.713Z"
   },
   {
    "duration": 0,
    "start_time": "2022-08-09T01:49:15.714Z"
   },
   {
    "duration": 0,
    "start_time": "2022-08-09T01:49:15.715Z"
   },
   {
    "duration": 0,
    "start_time": "2022-08-09T01:49:15.715Z"
   },
   {
    "duration": 1492,
    "start_time": "2022-08-09T02:04:08.403Z"
   },
   {
    "duration": 629,
    "start_time": "2022-08-09T02:04:09.897Z"
   },
   {
    "duration": 97,
    "start_time": "2022-08-09T02:04:10.528Z"
   },
   {
    "duration": 4,
    "start_time": "2022-08-09T02:04:10.627Z"
   },
   {
    "duration": 714,
    "start_time": "2022-08-09T02:04:10.633Z"
   },
   {
    "duration": 14,
    "start_time": "2022-08-09T02:04:11.349Z"
   },
   {
    "duration": 80,
    "start_time": "2022-08-09T02:04:11.364Z"
   },
   {
    "duration": 13,
    "start_time": "2022-08-09T02:04:11.446Z"
   },
   {
    "duration": 210,
    "start_time": "2022-08-09T02:04:11.461Z"
   },
   {
    "duration": 72,
    "start_time": "2022-08-09T02:04:11.673Z"
   },
   {
    "duration": 125,
    "start_time": "2022-08-09T02:04:11.746Z"
   },
   {
    "duration": 16,
    "start_time": "2022-08-09T02:04:11.873Z"
   },
   {
    "duration": 5,
    "start_time": "2022-08-09T02:04:11.900Z"
   },
   {
    "duration": 26,
    "start_time": "2022-08-09T02:04:11.906Z"
   },
   {
    "duration": 38,
    "start_time": "2022-08-09T02:04:11.933Z"
   },
   {
    "duration": 54,
    "start_time": "2022-08-09T02:04:11.972Z"
   },
   {
    "duration": 13,
    "start_time": "2022-08-09T02:04:12.027Z"
   },
   {
    "duration": 72,
    "start_time": "2022-08-09T02:04:12.041Z"
   },
   {
    "duration": 153,
    "start_time": "2022-08-09T02:04:12.115Z"
   },
   {
    "duration": 49,
    "start_time": "2022-08-09T02:04:12.269Z"
   },
   {
    "duration": 34,
    "start_time": "2022-08-09T02:04:12.319Z"
   },
   {
    "duration": 93,
    "start_time": "2022-08-09T02:04:12.354Z"
   },
   {
    "duration": 5,
    "start_time": "2022-08-09T02:04:12.449Z"
   },
   {
    "duration": 15,
    "start_time": "2022-08-09T02:04:12.455Z"
   },
   {
    "duration": 57,
    "start_time": "2022-08-09T02:04:12.472Z"
   },
   {
    "duration": 32,
    "start_time": "2022-08-09T02:04:12.530Z"
   },
   {
    "duration": 20,
    "start_time": "2022-08-09T02:04:12.564Z"
   },
   {
    "duration": 40,
    "start_time": "2022-08-09T02:04:12.603Z"
   },
   {
    "duration": 32,
    "start_time": "2022-08-09T02:04:12.645Z"
   },
   {
    "duration": 85,
    "start_time": "2022-08-09T02:04:12.679Z"
   },
   {
    "duration": 54,
    "start_time": "2022-08-09T02:04:12.765Z"
   },
   {
    "duration": 6,
    "start_time": "2022-08-09T02:04:12.821Z"
   },
   {
    "duration": 48,
    "start_time": "2022-08-09T02:04:12.828Z"
   },
   {
    "duration": 27,
    "start_time": "2022-08-09T02:04:12.878Z"
   },
   {
    "duration": 43,
    "start_time": "2022-08-09T02:04:12.906Z"
   },
   {
    "duration": 4,
    "start_time": "2022-08-09T02:04:12.951Z"
   },
   {
    "duration": 711,
    "start_time": "2022-08-09T02:04:12.957Z"
   },
   {
    "duration": 44,
    "start_time": "2022-08-09T02:04:13.670Z"
   },
   {
    "duration": 14,
    "start_time": "2022-08-09T02:04:13.716Z"
   },
   {
    "duration": 80,
    "start_time": "2022-08-09T02:04:13.732Z"
   },
   {
    "duration": 24,
    "start_time": "2022-08-09T02:04:13.814Z"
   },
   {
    "duration": 865,
    "start_time": "2022-08-09T02:04:13.840Z"
   },
   {
    "duration": 487,
    "start_time": "2022-08-09T02:04:14.706Z"
   },
   {
    "duration": 596,
    "start_time": "2022-08-09T02:04:15.200Z"
   },
   {
    "duration": 9,
    "start_time": "2022-08-09T02:04:15.798Z"
   },
   {
    "duration": 69,
    "start_time": "2022-08-09T02:04:15.808Z"
   },
   {
    "duration": 143,
    "start_time": "2022-08-09T02:04:15.878Z"
   },
   {
    "duration": 3,
    "start_time": "2022-08-09T02:04:16.023Z"
   },
   {
    "duration": 6,
    "start_time": "2022-08-09T02:04:16.027Z"
   },
   {
    "duration": 1008,
    "start_time": "2022-08-09T02:04:16.034Z"
   },
   {
    "duration": 0,
    "start_time": "2022-08-09T02:04:17.044Z"
   },
   {
    "duration": 0,
    "start_time": "2022-08-09T02:04:17.045Z"
   },
   {
    "duration": 0,
    "start_time": "2022-08-09T02:04:17.046Z"
   },
   {
    "duration": 0,
    "start_time": "2022-08-09T02:04:17.047Z"
   },
   {
    "duration": 0,
    "start_time": "2022-08-09T02:04:17.047Z"
   },
   {
    "duration": 0,
    "start_time": "2022-08-09T02:04:17.048Z"
   },
   {
    "duration": 0,
    "start_time": "2022-08-09T02:04:17.050Z"
   },
   {
    "duration": 0,
    "start_time": "2022-08-09T02:04:17.051Z"
   },
   {
    "duration": 0,
    "start_time": "2022-08-09T02:04:17.052Z"
   },
   {
    "duration": 0,
    "start_time": "2022-08-09T02:04:17.053Z"
   },
   {
    "duration": 0,
    "start_time": "2022-08-09T02:04:17.054Z"
   },
   {
    "duration": 0,
    "start_time": "2022-08-09T02:04:17.055Z"
   },
   {
    "duration": 0,
    "start_time": "2022-08-09T02:04:17.056Z"
   },
   {
    "duration": 0,
    "start_time": "2022-08-09T02:04:17.057Z"
   },
   {
    "duration": 0,
    "start_time": "2022-08-09T02:04:17.058Z"
   },
   {
    "duration": 0,
    "start_time": "2022-08-09T02:04:17.059Z"
   },
   {
    "duration": 0,
    "start_time": "2022-08-09T02:04:17.060Z"
   },
   {
    "duration": 0,
    "start_time": "2022-08-09T02:04:17.061Z"
   },
   {
    "duration": 0,
    "start_time": "2022-08-09T02:04:17.062Z"
   },
   {
    "duration": 0,
    "start_time": "2022-08-09T02:04:17.063Z"
   },
   {
    "duration": 0,
    "start_time": "2022-08-09T02:04:17.064Z"
   },
   {
    "duration": 0,
    "start_time": "2022-08-09T02:04:17.100Z"
   },
   {
    "duration": 0,
    "start_time": "2022-08-09T02:04:17.102Z"
   },
   {
    "duration": 0,
    "start_time": "2022-08-09T02:04:17.103Z"
   },
   {
    "duration": 0,
    "start_time": "2022-08-09T02:04:17.104Z"
   },
   {
    "duration": 0,
    "start_time": "2022-08-09T02:04:17.105Z"
   },
   {
    "duration": 0,
    "start_time": "2022-08-09T02:04:17.106Z"
   },
   {
    "duration": 0,
    "start_time": "2022-08-09T02:04:17.107Z"
   },
   {
    "duration": 0,
    "start_time": "2022-08-09T02:04:17.109Z"
   },
   {
    "duration": 0,
    "start_time": "2022-08-09T02:04:17.110Z"
   },
   {
    "duration": 0,
    "start_time": "2022-08-09T02:04:17.111Z"
   },
   {
    "duration": 0,
    "start_time": "2022-08-09T02:04:17.112Z"
   },
   {
    "duration": 0,
    "start_time": "2022-08-09T02:04:17.113Z"
   },
   {
    "duration": 0,
    "start_time": "2022-08-09T02:04:17.114Z"
   },
   {
    "duration": 0,
    "start_time": "2022-08-09T02:04:17.115Z"
   },
   {
    "duration": 0,
    "start_time": "2022-08-09T02:04:17.116Z"
   },
   {
    "duration": 0,
    "start_time": "2022-08-09T02:04:17.117Z"
   },
   {
    "duration": 0,
    "start_time": "2022-08-09T02:04:17.118Z"
   },
   {
    "duration": 0,
    "start_time": "2022-08-09T02:04:17.119Z"
   },
   {
    "duration": 0,
    "start_time": "2022-08-09T02:04:17.120Z"
   },
   {
    "duration": 0,
    "start_time": "2022-08-09T02:04:17.122Z"
   },
   {
    "duration": 0,
    "start_time": "2022-08-09T02:04:17.123Z"
   },
   {
    "duration": 0,
    "start_time": "2022-08-09T02:04:17.124Z"
   },
   {
    "duration": 0,
    "start_time": "2022-08-09T02:04:17.125Z"
   },
   {
    "duration": 0,
    "start_time": "2022-08-09T02:04:17.126Z"
   },
   {
    "duration": 0,
    "start_time": "2022-08-09T02:04:17.127Z"
   },
   {
    "duration": 0,
    "start_time": "2022-08-09T02:04:17.129Z"
   },
   {
    "duration": 0,
    "start_time": "2022-08-09T02:04:17.130Z"
   },
   {
    "duration": 0,
    "start_time": "2022-08-09T02:04:17.131Z"
   },
   {
    "duration": 0,
    "start_time": "2022-08-09T02:04:17.133Z"
   },
   {
    "duration": 0,
    "start_time": "2022-08-09T02:04:17.134Z"
   },
   {
    "duration": 0,
    "start_time": "2022-08-09T02:04:17.135Z"
   },
   {
    "duration": 0,
    "start_time": "2022-08-09T02:04:17.137Z"
   },
   {
    "duration": 0,
    "start_time": "2022-08-09T02:04:17.200Z"
   },
   {
    "duration": 0,
    "start_time": "2022-08-09T02:04:17.202Z"
   },
   {
    "duration": 0,
    "start_time": "2022-08-09T02:04:17.203Z"
   },
   {
    "duration": 0,
    "start_time": "2022-08-09T02:04:17.204Z"
   },
   {
    "duration": 0,
    "start_time": "2022-08-09T02:04:17.205Z"
   },
   {
    "duration": 0,
    "start_time": "2022-08-09T02:04:17.206Z"
   },
   {
    "duration": 0,
    "start_time": "2022-08-09T02:04:17.207Z"
   },
   {
    "duration": 0,
    "start_time": "2022-08-09T02:04:17.208Z"
   },
   {
    "duration": 0,
    "start_time": "2022-08-09T02:04:17.209Z"
   },
   {
    "duration": 889,
    "start_time": "2022-08-09T02:04:47.290Z"
   },
   {
    "duration": 41,
    "start_time": "2022-08-09T02:09:46.812Z"
   },
   {
    "duration": 1452,
    "start_time": "2022-08-09T02:09:56.536Z"
   },
   {
    "duration": 661,
    "start_time": "2022-08-09T02:09:57.990Z"
   },
   {
    "duration": 115,
    "start_time": "2022-08-09T02:09:58.653Z"
   },
   {
    "duration": 5,
    "start_time": "2022-08-09T02:09:58.770Z"
   },
   {
    "duration": 774,
    "start_time": "2022-08-09T02:09:58.776Z"
   },
   {
    "duration": 17,
    "start_time": "2022-08-09T02:09:59.552Z"
   },
   {
    "duration": 71,
    "start_time": "2022-08-09T02:09:59.571Z"
   },
   {
    "duration": 10,
    "start_time": "2022-08-09T02:09:59.644Z"
   },
   {
    "duration": 188,
    "start_time": "2022-08-09T02:09:59.656Z"
   },
   {
    "duration": 72,
    "start_time": "2022-08-09T02:09:59.847Z"
   },
   {
    "duration": 134,
    "start_time": "2022-08-09T02:09:59.920Z"
   },
   {
    "duration": 19,
    "start_time": "2022-08-09T02:10:00.055Z"
   },
   {
    "duration": 29,
    "start_time": "2022-08-09T02:10:00.075Z"
   },
   {
    "duration": 40,
    "start_time": "2022-08-09T02:10:00.106Z"
   },
   {
    "duration": 46,
    "start_time": "2022-08-09T02:10:00.148Z"
   },
   {
    "duration": 32,
    "start_time": "2022-08-09T02:10:00.195Z"
   },
   {
    "duration": 25,
    "start_time": "2022-08-09T02:10:00.229Z"
   },
   {
    "duration": 71,
    "start_time": "2022-08-09T02:10:00.256Z"
   },
   {
    "duration": 176,
    "start_time": "2022-08-09T02:10:00.329Z"
   },
   {
    "duration": 40,
    "start_time": "2022-08-09T02:10:00.507Z"
   },
   {
    "duration": 51,
    "start_time": "2022-08-09T02:10:00.549Z"
   },
   {
    "duration": 131,
    "start_time": "2022-08-09T02:10:00.602Z"
   },
   {
    "duration": 5,
    "start_time": "2022-08-09T02:10:00.735Z"
   },
   {
    "duration": 119,
    "start_time": "2022-08-09T02:10:00.742Z"
   },
   {
    "duration": 93,
    "start_time": "2022-08-09T02:10:00.863Z"
   },
   {
    "duration": 98,
    "start_time": "2022-08-09T02:10:00.958Z"
   },
   {
    "duration": 143,
    "start_time": "2022-08-09T02:10:01.058Z"
   },
   {
    "duration": 89,
    "start_time": "2022-08-09T02:10:01.205Z"
   },
   {
    "duration": 58,
    "start_time": "2022-08-09T02:10:01.295Z"
   },
   {
    "duration": 128,
    "start_time": "2022-08-09T02:10:01.354Z"
   },
   {
    "duration": 92,
    "start_time": "2022-08-09T02:10:01.484Z"
   },
   {
    "duration": 65,
    "start_time": "2022-08-09T02:10:01.578Z"
   },
   {
    "duration": 154,
    "start_time": "2022-08-09T02:10:01.644Z"
   },
   {
    "duration": 92,
    "start_time": "2022-08-09T02:10:01.799Z"
   },
   {
    "duration": 99,
    "start_time": "2022-08-09T02:10:01.892Z"
   },
   {
    "duration": 27,
    "start_time": "2022-08-09T02:10:01.993Z"
   },
   {
    "duration": 817,
    "start_time": "2022-08-09T02:10:02.022Z"
   },
   {
    "duration": 39,
    "start_time": "2022-08-09T02:10:02.841Z"
   },
   {
    "duration": 28,
    "start_time": "2022-08-09T02:10:02.882Z"
   },
   {
    "duration": 92,
    "start_time": "2022-08-09T02:10:02.912Z"
   },
   {
    "duration": 52,
    "start_time": "2022-08-09T02:10:03.006Z"
   },
   {
    "duration": 1075,
    "start_time": "2022-08-09T02:10:03.059Z"
   },
   {
    "duration": 438,
    "start_time": "2022-08-09T02:10:04.136Z"
   },
   {
    "duration": 581,
    "start_time": "2022-08-09T02:10:04.575Z"
   },
   {
    "duration": 11,
    "start_time": "2022-08-09T02:10:05.157Z"
   },
   {
    "duration": 82,
    "start_time": "2022-08-09T02:10:05.169Z"
   },
   {
    "duration": 77,
    "start_time": "2022-08-09T02:10:05.253Z"
   },
   {
    "duration": 19,
    "start_time": "2022-08-09T02:10:05.333Z"
   },
   {
    "duration": 74,
    "start_time": "2022-08-09T02:10:05.353Z"
   },
   {
    "duration": 465822,
    "start_time": "2022-08-09T02:10:05.428Z"
   },
   {
    "duration": 4,
    "start_time": "2022-08-09T02:17:51.251Z"
   },
   {
    "duration": 34,
    "start_time": "2022-08-09T02:17:51.256Z"
   },
   {
    "duration": 11859,
    "start_time": "2022-08-09T02:17:51.291Z"
   },
   {
    "duration": 2427,
    "start_time": "2022-08-09T02:18:03.152Z"
   },
   {
    "duration": 8,
    "start_time": "2022-08-09T02:18:05.581Z"
   },
   {
    "duration": 75,
    "start_time": "2022-08-09T02:18:05.600Z"
   },
   {
    "duration": 4,
    "start_time": "2022-08-09T02:18:05.677Z"
   },
   {
    "duration": 1484,
    "start_time": "2022-08-09T02:33:00.609Z"
   },
   {
    "duration": 105,
    "start_time": "2022-08-09T02:33:02.747Z"
   },
   {
    "duration": 13,
    "start_time": "2022-08-09T02:33:02.854Z"
   },
   {
    "duration": 745,
    "start_time": "2022-08-09T02:33:02.868Z"
   },
   {
    "duration": 13,
    "start_time": "2022-08-09T02:33:03.615Z"
   },
   {
    "duration": 78,
    "start_time": "2022-08-09T02:33:03.630Z"
   },
   {
    "duration": 19,
    "start_time": "2022-08-09T02:33:03.710Z"
   },
   {
    "duration": 190,
    "start_time": "2022-08-09T02:33:03.730Z"
   },
   {
    "duration": 77,
    "start_time": "2022-08-09T02:33:03.924Z"
   },
   {
    "duration": 126,
    "start_time": "2022-08-09T02:33:04.002Z"
   },
   {
    "duration": 15,
    "start_time": "2022-08-09T02:33:04.130Z"
   },
   {
    "duration": 20,
    "start_time": "2022-08-09T02:33:04.146Z"
   },
   {
    "duration": 47,
    "start_time": "2022-08-09T02:33:04.168Z"
   },
   {
    "duration": 39,
    "start_time": "2022-08-09T02:33:04.216Z"
   },
   {
    "duration": 45,
    "start_time": "2022-08-09T02:33:04.257Z"
   },
   {
    "duration": 13,
    "start_time": "2022-08-09T02:33:04.304Z"
   },
   {
    "duration": 74,
    "start_time": "2022-08-09T02:33:04.319Z"
   },
   {
    "duration": 163,
    "start_time": "2022-08-09T02:33:04.394Z"
   },
   {
    "duration": 50,
    "start_time": "2022-08-09T02:33:04.559Z"
   },
   {
    "duration": 33,
    "start_time": "2022-08-09T02:33:04.611Z"
   },
   {
    "duration": 101,
    "start_time": "2022-08-09T02:33:04.646Z"
   },
   {
    "duration": 6,
    "start_time": "2022-08-09T02:33:04.749Z"
   },
   {
    "duration": 28,
    "start_time": "2022-08-09T02:33:04.757Z"
   },
   {
    "duration": 66,
    "start_time": "2022-08-09T02:33:04.787Z"
   },
   {
    "duration": 33,
    "start_time": "2022-08-09T02:33:04.855Z"
   },
   {
    "duration": 34,
    "start_time": "2022-08-09T02:33:04.890Z"
   },
   {
    "duration": 59,
    "start_time": "2022-08-09T02:33:04.928Z"
   },
   {
    "duration": 33,
    "start_time": "2022-08-09T02:33:04.989Z"
   },
   {
    "duration": 84,
    "start_time": "2022-08-09T02:33:05.024Z"
   },
   {
    "duration": 44,
    "start_time": "2022-08-09T02:33:05.110Z"
   },
   {
    "duration": 25,
    "start_time": "2022-08-09T02:33:05.156Z"
   },
   {
    "duration": 76,
    "start_time": "2022-08-09T02:33:05.183Z"
   },
   {
    "duration": 17,
    "start_time": "2022-08-09T02:33:05.260Z"
   },
   {
    "duration": 68,
    "start_time": "2022-08-09T02:33:05.278Z"
   },
   {
    "duration": 22,
    "start_time": "2022-08-09T02:33:05.347Z"
   },
   {
    "duration": 690,
    "start_time": "2022-08-09T02:33:05.371Z"
   },
   {
    "duration": 44,
    "start_time": "2022-08-09T02:33:06.063Z"
   },
   {
    "duration": 10,
    "start_time": "2022-08-09T02:33:06.108Z"
   },
   {
    "duration": 84,
    "start_time": "2022-08-09T02:33:06.120Z"
   },
   {
    "duration": 26,
    "start_time": "2022-08-09T02:33:06.205Z"
   },
   {
    "duration": 933,
    "start_time": "2022-08-09T02:33:06.232Z"
   },
   {
    "duration": 432,
    "start_time": "2022-08-09T02:33:07.167Z"
   },
   {
    "duration": 580,
    "start_time": "2022-08-09T02:33:07.600Z"
   },
   {
    "duration": 19,
    "start_time": "2022-08-09T02:33:08.182Z"
   },
   {
    "duration": 90,
    "start_time": "2022-08-09T02:33:08.203Z"
   },
   {
    "duration": 72,
    "start_time": "2022-08-09T02:33:08.295Z"
   },
   {
    "duration": 4,
    "start_time": "2022-08-09T02:33:08.368Z"
   },
   {
    "duration": 15,
    "start_time": "2022-08-09T02:33:08.373Z"
   },
   {
    "duration": 517892,
    "start_time": "2022-08-09T02:33:08.390Z"
   },
   {
    "duration": 3,
    "start_time": "2022-08-09T02:41:46.284Z"
   },
   {
    "duration": 13,
    "start_time": "2022-08-09T02:41:46.288Z"
   },
   {
    "duration": 5964,
    "start_time": "2022-08-09T02:41:46.302Z"
   },
   {
    "duration": 1676,
    "start_time": "2022-08-09T02:41:52.267Z"
   },
   {
    "duration": 7,
    "start_time": "2022-08-09T02:41:53.944Z"
   },
   {
    "duration": 79,
    "start_time": "2022-08-09T02:41:53.953Z"
   },
   {
    "duration": 5,
    "start_time": "2022-08-09T02:41:54.033Z"
   },
   {
    "duration": 439739,
    "start_time": "2022-08-09T02:41:54.039Z"
   },
   {
    "duration": 4,
    "start_time": "2022-08-09T02:49:13.780Z"
   },
   {
    "duration": 8,
    "start_time": "2022-08-09T02:49:13.785Z"
   },
   {
    "duration": 7269,
    "start_time": "2022-08-09T02:49:13.800Z"
   },
   {
    "duration": 1977,
    "start_time": "2022-08-09T02:49:21.071Z"
   },
   {
    "duration": 7,
    "start_time": "2022-08-09T02:49:23.050Z"
   },
   {
    "duration": 94,
    "start_time": "2022-08-09T02:49:23.058Z"
   },
   {
    "duration": 4,
    "start_time": "2022-08-09T02:49:23.154Z"
   },
   {
    "duration": 13989,
    "start_time": "2022-08-09T02:49:23.160Z"
   },
   {
    "duration": 3,
    "start_time": "2022-08-09T02:49:37.151Z"
   },
   {
    "duration": 6,
    "start_time": "2022-08-09T02:49:37.156Z"
   },
   {
    "duration": 762,
    "start_time": "2022-08-09T02:49:37.163Z"
   },
   {
    "duration": 61,
    "start_time": "2022-08-09T02:49:37.927Z"
   },
   {
    "duration": 7,
    "start_time": "2022-08-09T02:49:37.999Z"
   },
   {
    "duration": 87,
    "start_time": "2022-08-09T02:49:38.008Z"
   },
   {
    "duration": 4,
    "start_time": "2022-08-09T02:49:38.096Z"
   },
   {
    "duration": 15368,
    "start_time": "2022-08-09T02:49:38.102Z"
   },
   {
    "duration": 3,
    "start_time": "2022-08-09T02:49:53.472Z"
   },
   {
    "duration": 11,
    "start_time": "2022-08-09T02:49:53.477Z"
   },
   {
    "duration": 835,
    "start_time": "2022-08-09T02:49:53.489Z"
   },
   {
    "duration": 53,
    "start_time": "2022-08-09T02:49:54.325Z"
   },
   {
    "duration": 21,
    "start_time": "2022-08-09T02:49:54.380Z"
   },
   {
    "duration": 105,
    "start_time": "2022-08-09T02:49:54.402Z"
   },
   {
    "duration": 1052,
    "start_time": "2022-08-09T02:49:54.509Z"
   },
   {
    "duration": 0,
    "start_time": "2022-08-09T02:49:55.563Z"
   },
   {
    "duration": 0,
    "start_time": "2022-08-09T02:49:55.565Z"
   },
   {
    "duration": 0,
    "start_time": "2022-08-09T02:49:55.566Z"
   },
   {
    "duration": 0,
    "start_time": "2022-08-09T02:49:55.567Z"
   },
   {
    "duration": 0,
    "start_time": "2022-08-09T02:49:55.568Z"
   },
   {
    "duration": 0,
    "start_time": "2022-08-09T02:49:55.569Z"
   },
   {
    "duration": 0,
    "start_time": "2022-08-09T02:49:55.570Z"
   },
   {
    "duration": 0,
    "start_time": "2022-08-09T02:49:55.571Z"
   },
   {
    "duration": 0,
    "start_time": "2022-08-09T02:49:55.572Z"
   },
   {
    "duration": 0,
    "start_time": "2022-08-09T02:49:55.573Z"
   },
   {
    "duration": 0,
    "start_time": "2022-08-09T02:49:55.574Z"
   },
   {
    "duration": 0,
    "start_time": "2022-08-09T02:49:55.575Z"
   },
   {
    "duration": 0,
    "start_time": "2022-08-09T02:49:55.576Z"
   },
   {
    "duration": 0,
    "start_time": "2022-08-09T02:49:55.577Z"
   },
   {
    "duration": 0,
    "start_time": "2022-08-09T02:49:55.602Z"
   },
   {
    "duration": 0,
    "start_time": "2022-08-09T02:49:55.603Z"
   },
   {
    "duration": 0,
    "start_time": "2022-08-09T02:49:55.604Z"
   },
   {
    "duration": 0,
    "start_time": "2022-08-09T02:49:55.605Z"
   },
   {
    "duration": 0,
    "start_time": "2022-08-09T02:49:55.607Z"
   },
   {
    "duration": 0,
    "start_time": "2022-08-09T02:49:55.608Z"
   },
   {
    "duration": 0,
    "start_time": "2022-08-09T02:49:55.609Z"
   },
   {
    "duration": 0,
    "start_time": "2022-08-09T02:49:55.610Z"
   },
   {
    "duration": 0,
    "start_time": "2022-08-09T02:49:55.611Z"
   },
   {
    "duration": 0,
    "start_time": "2022-08-09T02:49:55.612Z"
   },
   {
    "duration": 0,
    "start_time": "2022-08-09T02:49:55.613Z"
   },
   {
    "duration": 0,
    "start_time": "2022-08-09T02:49:55.614Z"
   },
   {
    "duration": 0,
    "start_time": "2022-08-09T02:49:55.615Z"
   },
   {
    "duration": 0,
    "start_time": "2022-08-09T02:49:55.615Z"
   },
   {
    "duration": 1,
    "start_time": "2022-08-09T02:49:55.616Z"
   },
   {
    "duration": 0,
    "start_time": "2022-08-09T02:49:55.617Z"
   },
   {
    "duration": 0,
    "start_time": "2022-08-09T02:49:55.618Z"
   },
   {
    "duration": 916,
    "start_time": "2022-08-09T02:51:00.262Z"
   },
   {
    "duration": 97,
    "start_time": "2022-08-09T02:53:11.670Z"
   },
   {
    "duration": 929,
    "start_time": "2022-08-09T02:53:13.830Z"
   },
   {
    "duration": 9,
    "start_time": "2022-08-09T02:54:06.890Z"
   },
   {
    "duration": 380402,
    "start_time": "2022-08-09T02:57:51.099Z"
   },
   {
    "duration": 4,
    "start_time": "2022-08-09T03:13:37.089Z"
   },
   {
    "duration": 4,
    "start_time": "2022-08-09T03:13:39.713Z"
   },
   {
    "duration": 586,
    "start_time": "2022-08-09T03:21:17.455Z"
   },
   {
    "duration": 3,
    "start_time": "2022-08-09T03:21:20.079Z"
   },
   {
    "duration": 5,
    "start_time": "2022-08-09T03:21:29.980Z"
   },
   {
    "duration": 5,
    "start_time": "2022-08-09T03:21:50.843Z"
   },
   {
    "duration": 676,
    "start_time": "2022-08-09T03:25:47.604Z"
   },
   {
    "duration": 4,
    "start_time": "2022-08-09T03:25:51.195Z"
   },
   {
    "duration": 5,
    "start_time": "2022-08-09T03:26:11.366Z"
   },
   {
    "duration": 61,
    "start_time": "2022-08-09T03:35:23.065Z"
   },
   {
    "duration": 21,
    "start_time": "2022-08-09T03:35:34.110Z"
   },
   {
    "duration": 8,
    "start_time": "2022-08-09T03:35:35.432Z"
   },
   {
    "duration": 16,
    "start_time": "2022-08-09T03:35:43.535Z"
   },
   {
    "duration": 4,
    "start_time": "2022-08-09T03:35:55.228Z"
   },
   {
    "duration": 5,
    "start_time": "2022-08-09T03:36:04.831Z"
   },
   {
    "duration": 5,
    "start_time": "2022-08-09T03:36:12.779Z"
   },
   {
    "duration": 1600,
    "start_time": "2022-08-09T14:53:02.772Z"
   },
   {
    "duration": 2455,
    "start_time": "2022-08-09T14:53:04.374Z"
   },
   {
    "duration": 105,
    "start_time": "2022-08-09T14:53:06.831Z"
   },
   {
    "duration": 4,
    "start_time": "2022-08-09T14:53:06.938Z"
   },
   {
    "duration": 732,
    "start_time": "2022-08-09T14:53:06.944Z"
   },
   {
    "duration": 15,
    "start_time": "2022-08-09T14:53:07.677Z"
   },
   {
    "duration": 62,
    "start_time": "2022-08-09T14:53:07.693Z"
   },
   {
    "duration": 10,
    "start_time": "2022-08-09T14:53:07.756Z"
   },
   {
    "duration": 188,
    "start_time": "2022-08-09T14:53:07.767Z"
   },
   {
    "duration": 63,
    "start_time": "2022-08-09T14:53:07.958Z"
   },
   {
    "duration": 121,
    "start_time": "2022-08-09T14:53:08.022Z"
   },
   {
    "duration": 15,
    "start_time": "2022-08-09T14:53:08.145Z"
   },
   {
    "duration": 4,
    "start_time": "2022-08-09T14:53:08.162Z"
   },
   {
    "duration": 47,
    "start_time": "2022-08-09T14:53:08.167Z"
   },
   {
    "duration": 37,
    "start_time": "2022-08-09T14:53:08.216Z"
   },
   {
    "duration": 32,
    "start_time": "2022-08-09T14:53:08.255Z"
   },
   {
    "duration": 13,
    "start_time": "2022-08-09T14:53:08.305Z"
   },
   {
    "duration": 51,
    "start_time": "2022-08-09T14:53:08.320Z"
   },
   {
    "duration": 169,
    "start_time": "2022-08-09T14:53:08.373Z"
   },
   {
    "duration": 35,
    "start_time": "2022-08-09T14:53:08.544Z"
   },
   {
    "duration": 43,
    "start_time": "2022-08-09T14:53:08.580Z"
   },
   {
    "duration": 93,
    "start_time": "2022-08-09T14:53:08.624Z"
   },
   {
    "duration": 5,
    "start_time": "2022-08-09T14:53:08.719Z"
   },
   {
    "duration": 6,
    "start_time": "2022-08-09T14:53:08.725Z"
   },
   {
    "duration": 35,
    "start_time": "2022-08-09T14:53:08.732Z"
   },
   {
    "duration": 55,
    "start_time": "2022-08-09T14:53:08.768Z"
   },
   {
    "duration": 22,
    "start_time": "2022-08-09T14:53:08.824Z"
   },
   {
    "duration": 57,
    "start_time": "2022-08-09T14:53:08.850Z"
   },
   {
    "duration": 32,
    "start_time": "2022-08-09T14:53:08.908Z"
   },
   {
    "duration": 77,
    "start_time": "2022-08-09T14:53:08.941Z"
   },
   {
    "duration": 41,
    "start_time": "2022-08-09T14:53:09.019Z"
   },
   {
    "duration": 5,
    "start_time": "2022-08-09T14:53:09.061Z"
   },
   {
    "duration": 64,
    "start_time": "2022-08-09T14:53:09.067Z"
   },
   {
    "duration": 8,
    "start_time": "2022-08-09T14:53:09.132Z"
   },
   {
    "duration": 38,
    "start_time": "2022-08-09T14:53:09.141Z"
   },
   {
    "duration": 4,
    "start_time": "2022-08-09T14:53:09.181Z"
   },
   {
    "duration": 709,
    "start_time": "2022-08-09T14:53:09.206Z"
   },
   {
    "duration": 36,
    "start_time": "2022-08-09T14:53:09.916Z"
   },
   {
    "duration": 10,
    "start_time": "2022-08-09T14:53:09.953Z"
   },
   {
    "duration": 89,
    "start_time": "2022-08-09T14:53:09.964Z"
   },
   {
    "duration": 26,
    "start_time": "2022-08-09T14:53:10.055Z"
   },
   {
    "duration": 791,
    "start_time": "2022-08-09T14:53:10.083Z"
   },
   {
    "duration": 431,
    "start_time": "2022-08-09T14:53:10.876Z"
   },
   {
    "duration": 555,
    "start_time": "2022-08-09T14:53:11.309Z"
   },
   {
    "duration": 9,
    "start_time": "2022-08-09T14:53:11.865Z"
   },
   {
    "duration": 73,
    "start_time": "2022-08-09T14:53:11.876Z"
   },
   {
    "duration": 60,
    "start_time": "2022-08-09T14:53:11.951Z"
   },
   {
    "duration": 4,
    "start_time": "2022-08-09T14:53:12.013Z"
   },
   {
    "duration": 8,
    "start_time": "2022-08-09T14:53:12.018Z"
   },
   {
    "duration": 386456,
    "start_time": "2022-08-09T14:53:12.028Z"
   },
   {
    "duration": 4,
    "start_time": "2022-08-09T14:59:38.486Z"
   },
   {
    "duration": 22,
    "start_time": "2022-08-09T14:59:38.491Z"
   },
   {
    "duration": 10058,
    "start_time": "2022-08-09T14:59:38.514Z"
   },
   {
    "duration": 2111,
    "start_time": "2022-08-09T14:59:48.573Z"
   },
   {
    "duration": 6,
    "start_time": "2022-08-09T14:59:50.685Z"
   },
   {
    "duration": 77,
    "start_time": "2022-08-09T14:59:50.692Z"
   },
   {
    "duration": 4,
    "start_time": "2022-08-09T14:59:50.771Z"
   },
   {
    "duration": 719081,
    "start_time": "2022-08-09T14:59:50.777Z"
   },
   {
    "duration": 4,
    "start_time": "2022-08-09T15:11:49.860Z"
   },
   {
    "duration": 4,
    "start_time": "2022-08-09T15:11:49.866Z"
   },
   {
    "duration": 11280,
    "start_time": "2022-08-09T15:11:49.872Z"
   },
   {
    "duration": 2411,
    "start_time": "2022-08-09T15:12:01.153Z"
   },
   {
    "duration": 6,
    "start_time": "2022-08-09T15:12:03.565Z"
   },
   {
    "duration": 77,
    "start_time": "2022-08-09T15:12:03.572Z"
   },
   {
    "duration": 4,
    "start_time": "2022-08-09T15:12:03.650Z"
   },
   {
    "duration": 13013,
    "start_time": "2022-08-09T15:12:03.656Z"
   },
   {
    "duration": 4,
    "start_time": "2022-08-09T15:12:16.670Z"
   },
   {
    "duration": 4,
    "start_time": "2022-08-09T15:12:16.676Z"
   },
   {
    "duration": 282,
    "start_time": "2022-08-09T15:12:16.682Z"
   },
   {
    "duration": 61,
    "start_time": "2022-08-09T15:12:16.966Z"
   },
   {
    "duration": 7,
    "start_time": "2022-08-09T15:12:17.029Z"
   },
   {
    "duration": 80,
    "start_time": "2022-08-09T15:12:17.037Z"
   },
   {
    "duration": 4,
    "start_time": "2022-08-09T15:12:17.119Z"
   },
   {
    "duration": 16320,
    "start_time": "2022-08-09T15:12:17.125Z"
   },
   {
    "duration": 3,
    "start_time": "2022-08-09T15:12:33.446Z"
   },
   {
    "duration": 7,
    "start_time": "2022-08-09T15:12:33.451Z"
   },
   {
    "duration": 800,
    "start_time": "2022-08-09T15:12:33.459Z"
   },
   {
    "duration": 60,
    "start_time": "2022-08-09T15:12:34.261Z"
   },
   {
    "duration": 6,
    "start_time": "2022-08-09T15:12:34.323Z"
   },
   {
    "duration": 96,
    "start_time": "2022-08-09T15:12:34.330Z"
   },
   {
    "duration": 183734,
    "start_time": "2022-08-09T15:12:34.427Z"
   },
   {
    "duration": 4,
    "start_time": "2022-08-09T15:15:38.165Z"
   },
   {
    "duration": 4,
    "start_time": "2022-08-09T15:15:38.170Z"
   },
   {
    "duration": 172,
    "start_time": "2022-08-09T15:15:38.176Z"
   },
   {
    "duration": 87,
    "start_time": "2022-08-09T15:15:38.350Z"
   },
   {
    "duration": 9,
    "start_time": "2022-08-09T15:15:38.438Z"
   },
   {
    "duration": 0,
    "start_time": "2022-08-09T15:15:38.449Z"
   },
   {
    "duration": 0,
    "start_time": "2022-08-09T15:15:38.450Z"
   },
   {
    "duration": 0,
    "start_time": "2022-08-09T15:15:38.451Z"
   },
   {
    "duration": 1,
    "start_time": "2022-08-09T15:15:38.452Z"
   },
   {
    "duration": 0,
    "start_time": "2022-08-09T15:15:38.454Z"
   },
   {
    "duration": 0,
    "start_time": "2022-08-09T15:15:38.455Z"
   },
   {
    "duration": 0,
    "start_time": "2022-08-09T15:15:38.455Z"
   },
   {
    "duration": 0,
    "start_time": "2022-08-09T15:15:38.457Z"
   },
   {
    "duration": 0,
    "start_time": "2022-08-09T15:15:38.458Z"
   },
   {
    "duration": 0,
    "start_time": "2022-08-09T15:15:38.459Z"
   },
   {
    "duration": 0,
    "start_time": "2022-08-09T15:15:38.460Z"
   },
   {
    "duration": 3,
    "start_time": "2022-08-09T16:09:11.608Z"
   },
   {
    "duration": 3,
    "start_time": "2022-08-09T16:09:17.339Z"
   },
   {
    "duration": 4,
    "start_time": "2022-08-09T16:09:18.385Z"
   },
   {
    "duration": 1615,
    "start_time": "2022-08-09T16:09:27.641Z"
   },
   {
    "duration": 614,
    "start_time": "2022-08-09T16:09:29.258Z"
   },
   {
    "duration": 116,
    "start_time": "2022-08-09T16:09:29.873Z"
   },
   {
    "duration": 4,
    "start_time": "2022-08-09T16:09:29.991Z"
   },
   {
    "duration": 789,
    "start_time": "2022-08-09T16:09:30.006Z"
   },
   {
    "duration": 22,
    "start_time": "2022-08-09T16:09:30.796Z"
   },
   {
    "duration": 57,
    "start_time": "2022-08-09T16:09:30.820Z"
   },
   {
    "duration": 28,
    "start_time": "2022-08-09T16:09:30.878Z"
   },
   {
    "duration": 175,
    "start_time": "2022-08-09T16:09:30.908Z"
   },
   {
    "duration": 71,
    "start_time": "2022-08-09T16:09:31.085Z"
   },
   {
    "duration": 128,
    "start_time": "2022-08-09T16:09:31.158Z"
   },
   {
    "duration": 22,
    "start_time": "2022-08-09T16:09:31.288Z"
   },
   {
    "duration": 5,
    "start_time": "2022-08-09T16:09:31.312Z"
   },
   {
    "duration": 29,
    "start_time": "2022-08-09T16:09:31.318Z"
   },
   {
    "duration": 38,
    "start_time": "2022-08-09T16:09:31.349Z"
   },
   {
    "duration": 50,
    "start_time": "2022-08-09T16:09:31.388Z"
   },
   {
    "duration": 15,
    "start_time": "2022-08-09T16:09:31.440Z"
   },
   {
    "duration": 70,
    "start_time": "2022-08-09T16:09:31.456Z"
   },
   {
    "duration": 180,
    "start_time": "2022-08-09T16:09:31.528Z"
   },
   {
    "duration": 38,
    "start_time": "2022-08-09T16:09:31.710Z"
   },
   {
    "duration": 36,
    "start_time": "2022-08-09T16:09:31.749Z"
   },
   {
    "duration": 111,
    "start_time": "2022-08-09T16:09:31.786Z"
   },
   {
    "duration": 6,
    "start_time": "2022-08-09T16:09:31.905Z"
   },
   {
    "duration": 20,
    "start_time": "2022-08-09T16:09:31.912Z"
   },
   {
    "duration": 45,
    "start_time": "2022-08-09T16:09:31.933Z"
   },
   {
    "duration": 36,
    "start_time": "2022-08-09T16:09:31.980Z"
   },
   {
    "duration": 35,
    "start_time": "2022-08-09T16:09:32.017Z"
   },
   {
    "duration": 45,
    "start_time": "2022-08-09T16:09:32.057Z"
   },
   {
    "duration": 35,
    "start_time": "2022-08-09T16:09:32.103Z"
   },
   {
    "duration": 99,
    "start_time": "2022-08-09T16:09:32.140Z"
   },
   {
    "duration": 48,
    "start_time": "2022-08-09T16:09:32.241Z"
   },
   {
    "duration": 20,
    "start_time": "2022-08-09T16:09:32.290Z"
   },
   {
    "duration": 54,
    "start_time": "2022-08-09T16:09:32.312Z"
   },
   {
    "duration": 8,
    "start_time": "2022-08-09T16:09:32.368Z"
   },
   {
    "duration": 54,
    "start_time": "2022-08-09T16:09:32.378Z"
   },
   {
    "duration": 6,
    "start_time": "2022-08-09T16:09:32.433Z"
   },
   {
    "duration": 757,
    "start_time": "2022-08-09T16:09:32.440Z"
   },
   {
    "duration": 43,
    "start_time": "2022-08-09T16:09:33.198Z"
   },
   {
    "duration": 10,
    "start_time": "2022-08-09T16:09:33.243Z"
   },
   {
    "duration": 91,
    "start_time": "2022-08-09T16:09:33.255Z"
   },
   {
    "duration": 24,
    "start_time": "2022-08-09T16:09:33.348Z"
   },
   {
    "duration": 764,
    "start_time": "2022-08-09T16:09:33.374Z"
   },
   {
    "duration": 455,
    "start_time": "2022-08-09T16:09:34.140Z"
   },
   {
    "duration": 579,
    "start_time": "2022-08-09T16:09:34.596Z"
   },
   {
    "duration": 9,
    "start_time": "2022-08-09T16:09:35.177Z"
   },
   {
    "duration": 85,
    "start_time": "2022-08-09T16:09:35.187Z"
   },
   {
    "duration": 62,
    "start_time": "2022-08-09T16:09:35.274Z"
   },
   {
    "duration": 3,
    "start_time": "2022-08-09T16:09:35.338Z"
   },
   {
    "duration": 11,
    "start_time": "2022-08-09T16:09:35.343Z"
   },
   {
    "duration": 744073,
    "start_time": "2022-08-09T16:09:35.355Z"
   },
   {
    "duration": 3,
    "start_time": "2022-08-09T16:21:59.429Z"
   },
   {
    "duration": 7,
    "start_time": "2022-08-09T16:21:59.434Z"
   },
   {
    "duration": 12177,
    "start_time": "2022-08-09T16:21:59.442Z"
   },
   {
    "duration": 2886,
    "start_time": "2022-08-09T16:22:11.620Z"
   },
   {
    "duration": 6,
    "start_time": "2022-08-09T16:22:14.507Z"
   },
   {
    "duration": 64,
    "start_time": "2022-08-09T16:22:14.515Z"
   },
   {
    "duration": 4,
    "start_time": "2022-08-09T16:22:14.580Z"
   },
   {
    "duration": 597742,
    "start_time": "2022-08-09T16:22:14.585Z"
   },
   {
    "duration": 4,
    "start_time": "2022-08-09T16:32:12.328Z"
   },
   {
    "duration": 10,
    "start_time": "2022-08-09T16:32:12.333Z"
   },
   {
    "duration": 9120,
    "start_time": "2022-08-09T16:32:12.344Z"
   },
   {
    "duration": 1905,
    "start_time": "2022-08-09T16:32:21.466Z"
   },
   {
    "duration": 6,
    "start_time": "2022-08-09T16:32:23.372Z"
   },
   {
    "duration": 77,
    "start_time": "2022-08-09T16:32:23.380Z"
   },
   {
    "duration": 4,
    "start_time": "2022-08-09T16:32:23.458Z"
   },
   {
    "duration": 13282,
    "start_time": "2022-08-09T16:32:23.464Z"
   },
   {
    "duration": 4,
    "start_time": "2022-08-09T16:32:36.747Z"
   },
   {
    "duration": 7,
    "start_time": "2022-08-09T16:32:36.752Z"
   },
   {
    "duration": 747,
    "start_time": "2022-08-09T16:32:36.761Z"
   },
   {
    "duration": 55,
    "start_time": "2022-08-09T16:32:37.509Z"
   },
   {
    "duration": 6,
    "start_time": "2022-08-09T16:32:37.565Z"
   },
   {
    "duration": 79,
    "start_time": "2022-08-09T16:32:37.572Z"
   },
   {
    "duration": 3,
    "start_time": "2022-08-09T16:32:37.653Z"
   },
   {
    "duration": 11520,
    "start_time": "2022-08-09T16:32:37.658Z"
   },
   {
    "duration": 3,
    "start_time": "2022-08-09T16:32:49.180Z"
   },
   {
    "duration": 6,
    "start_time": "2022-08-09T16:32:49.185Z"
   },
   {
    "duration": 851,
    "start_time": "2022-08-09T16:32:49.193Z"
   },
   {
    "duration": 77,
    "start_time": "2022-08-09T16:32:50.047Z"
   },
   {
    "duration": 7,
    "start_time": "2022-08-09T16:32:50.127Z"
   },
   {
    "duration": 108,
    "start_time": "2022-08-09T16:32:50.135Z"
   },
   {
    "duration": 205219,
    "start_time": "2022-08-09T16:32:50.245Z"
   },
   {
    "duration": 3,
    "start_time": "2022-08-09T16:36:15.469Z"
   },
   {
    "duration": 8,
    "start_time": "2022-08-09T16:36:15.474Z"
   },
   {
    "duration": 281,
    "start_time": "2022-08-09T16:36:15.483Z"
   },
   {
    "duration": 120,
    "start_time": "2022-08-09T16:36:15.766Z"
   },
   {
    "duration": 8,
    "start_time": "2022-08-09T16:36:15.888Z"
   },
   {
    "duration": 0,
    "start_time": "2022-08-09T16:36:15.898Z"
   },
   {
    "duration": 0,
    "start_time": "2022-08-09T16:36:15.899Z"
   },
   {
    "duration": 0,
    "start_time": "2022-08-09T16:36:15.900Z"
   },
   {
    "duration": 0,
    "start_time": "2022-08-09T16:36:15.901Z"
   },
   {
    "duration": 0,
    "start_time": "2022-08-09T16:36:15.902Z"
   },
   {
    "duration": 0,
    "start_time": "2022-08-09T16:36:15.903Z"
   },
   {
    "duration": 0,
    "start_time": "2022-08-09T16:36:15.904Z"
   },
   {
    "duration": 0,
    "start_time": "2022-08-09T16:36:15.905Z"
   },
   {
    "duration": 0,
    "start_time": "2022-08-09T16:36:15.906Z"
   },
   {
    "duration": 0,
    "start_time": "2022-08-09T16:36:15.906Z"
   },
   {
    "duration": 0,
    "start_time": "2022-08-09T16:36:15.911Z"
   },
   {
    "duration": 4,
    "start_time": "2022-08-09T16:39:37.366Z"
   },
   {
    "duration": 3145,
    "start_time": "2022-08-09T16:39:39.749Z"
   },
   {
    "duration": 284,
    "start_time": "2022-08-09T16:39:46.864Z"
   },
   {
    "duration": 5,
    "start_time": "2022-08-09T16:39:49.053Z"
   },
   {
    "duration": 428,
    "start_time": "2022-08-09T16:39:55.077Z"
   },
   {
    "duration": 3,
    "start_time": "2022-08-09T16:39:57.638Z"
   },
   {
    "duration": 22623,
    "start_time": "2022-08-09T16:39:58.589Z"
   },
   {
    "duration": 793,
    "start_time": "2022-08-09T16:40:21.214Z"
   },
   {
    "duration": 4,
    "start_time": "2022-08-09T16:40:22.009Z"
   },
   {
    "duration": 1052,
    "start_time": "2022-08-09T16:41:12.410Z"
   },
   {
    "duration": 5,
    "start_time": "2022-08-09T16:41:15.368Z"
   },
   {
    "duration": 743,
    "start_time": "2022-08-09T16:41:17.576Z"
   },
   {
    "duration": 5,
    "start_time": "2022-08-09T16:41:19.393Z"
   },
   {
    "duration": 22,
    "start_time": "2022-08-09T16:41:22.520Z"
   },
   {
    "duration": 5,
    "start_time": "2022-08-09T16:41:23.822Z"
   },
   {
    "duration": 24,
    "start_time": "2022-08-09T16:42:23.243Z"
   },
   {
    "duration": 6,
    "start_time": "2022-08-09T16:42:46.787Z"
   },
   {
    "duration": 384,
    "start_time": "2022-08-09T16:43:38.522Z"
   },
   {
    "duration": 5,
    "start_time": "2022-08-09T16:45:01.452Z"
   },
   {
    "duration": 108,
    "start_time": "2022-08-09T16:54:57.774Z"
   },
   {
    "duration": 5,
    "start_time": "2022-08-09T16:55:43.596Z"
   },
   {
    "duration": 1633,
    "start_time": "2022-08-11T18:48:37.943Z"
   },
   {
    "duration": 984,
    "start_time": "2022-08-11T18:48:39.578Z"
   },
   {
    "duration": 126,
    "start_time": "2022-08-11T18:48:40.563Z"
   },
   {
    "duration": 4,
    "start_time": "2022-08-11T18:48:40.691Z"
   },
   {
    "duration": 970,
    "start_time": "2022-08-11T18:48:40.697Z"
   },
   {
    "duration": 17,
    "start_time": "2022-08-11T18:48:41.668Z"
   },
   {
    "duration": 57,
    "start_time": "2022-08-11T18:48:41.698Z"
   },
   {
    "duration": 10,
    "start_time": "2022-08-11T18:48:41.757Z"
   },
   {
    "duration": 216,
    "start_time": "2022-08-11T18:48:41.768Z"
   },
   {
    "duration": 72,
    "start_time": "2022-08-11T18:48:41.987Z"
   },
   {
    "duration": 152,
    "start_time": "2022-08-11T18:48:42.061Z"
   },
   {
    "duration": 17,
    "start_time": "2022-08-11T18:48:42.214Z"
   },
   {
    "duration": 4,
    "start_time": "2022-08-11T18:48:42.233Z"
   },
   {
    "duration": 26,
    "start_time": "2022-08-11T18:48:42.238Z"
   },
   {
    "duration": 70,
    "start_time": "2022-08-11T18:48:42.266Z"
   },
   {
    "duration": 36,
    "start_time": "2022-08-11T18:48:42.338Z"
   },
   {
    "duration": 36,
    "start_time": "2022-08-11T18:48:42.376Z"
   },
   {
    "duration": 48,
    "start_time": "2022-08-11T18:48:42.414Z"
   },
   {
    "duration": 186,
    "start_time": "2022-08-11T18:48:42.463Z"
   },
   {
    "duration": 58,
    "start_time": "2022-08-11T18:48:42.651Z"
   },
   {
    "duration": 40,
    "start_time": "2022-08-11T18:48:42.710Z"
   },
   {
    "duration": 115,
    "start_time": "2022-08-11T18:48:42.752Z"
   },
   {
    "duration": 6,
    "start_time": "2022-08-11T18:48:42.868Z"
   },
   {
    "duration": 12,
    "start_time": "2022-08-11T18:48:42.875Z"
   },
   {
    "duration": 47,
    "start_time": "2022-08-11T18:48:42.889Z"
   },
   {
    "duration": 40,
    "start_time": "2022-08-11T18:48:42.938Z"
   },
   {
    "duration": 26,
    "start_time": "2022-08-11T18:48:43.004Z"
   },
   {
    "duration": 40,
    "start_time": "2022-08-11T18:48:43.035Z"
   },
   {
    "duration": 57,
    "start_time": "2022-08-11T18:48:43.077Z"
   },
   {
    "duration": 88,
    "start_time": "2022-08-11T18:48:43.135Z"
   },
   {
    "duration": 42,
    "start_time": "2022-08-11T18:48:43.225Z"
   },
   {
    "duration": 5,
    "start_time": "2022-08-11T18:48:43.269Z"
   },
   {
    "duration": 68,
    "start_time": "2022-08-11T18:48:43.275Z"
   },
   {
    "duration": 7,
    "start_time": "2022-08-11T18:48:43.345Z"
   },
   {
    "duration": 56,
    "start_time": "2022-08-11T18:48:43.354Z"
   },
   {
    "duration": 7,
    "start_time": "2022-08-11T18:48:43.412Z"
   },
   {
    "duration": 968,
    "start_time": "2022-08-11T18:48:43.420Z"
   },
   {
    "duration": 56,
    "start_time": "2022-08-11T18:48:44.390Z"
   },
   {
    "duration": 13,
    "start_time": "2022-08-11T18:48:44.448Z"
   },
   {
    "duration": 109,
    "start_time": "2022-08-11T18:48:44.462Z"
   },
   {
    "duration": 41,
    "start_time": "2022-08-11T18:48:44.573Z"
   },
   {
    "duration": 576,
    "start_time": "2022-08-11T18:48:44.615Z"
   },
   {
    "duration": 527,
    "start_time": "2022-08-11T18:48:45.193Z"
   },
   {
    "duration": 649,
    "start_time": "2022-08-11T18:48:45.721Z"
   },
   {
    "duration": 9,
    "start_time": "2022-08-11T18:48:46.372Z"
   },
   {
    "duration": 93,
    "start_time": "2022-08-11T18:48:46.383Z"
   },
   {
    "duration": 64,
    "start_time": "2022-08-11T18:48:46.478Z"
   },
   {
    "duration": 5,
    "start_time": "2022-08-11T18:48:46.543Z"
   },
   {
    "duration": 6,
    "start_time": "2022-08-11T18:48:46.549Z"
   },
   {
    "duration": 33132,
    "start_time": "2022-08-11T18:48:46.556Z"
   },
   {
    "duration": 0,
    "start_time": "2022-08-11T18:49:19.701Z"
   },
   {
    "duration": 0,
    "start_time": "2022-08-11T18:49:19.701Z"
   },
   {
    "duration": 0,
    "start_time": "2022-08-11T18:49:19.702Z"
   },
   {
    "duration": 0,
    "start_time": "2022-08-11T18:49:19.703Z"
   },
   {
    "duration": 0,
    "start_time": "2022-08-11T18:49:19.703Z"
   },
   {
    "duration": 0,
    "start_time": "2022-08-11T18:49:19.704Z"
   },
   {
    "duration": 0,
    "start_time": "2022-08-11T18:49:19.706Z"
   },
   {
    "duration": 0,
    "start_time": "2022-08-11T18:49:19.707Z"
   },
   {
    "duration": 0,
    "start_time": "2022-08-11T18:49:19.707Z"
   },
   {
    "duration": 0,
    "start_time": "2022-08-11T18:49:19.708Z"
   },
   {
    "duration": 0,
    "start_time": "2022-08-11T18:49:19.711Z"
   },
   {
    "duration": 0,
    "start_time": "2022-08-11T18:49:19.713Z"
   },
   {
    "duration": 0,
    "start_time": "2022-08-11T18:49:19.714Z"
   },
   {
    "duration": 0,
    "start_time": "2022-08-11T18:49:19.716Z"
   },
   {
    "duration": 0,
    "start_time": "2022-08-11T18:49:19.717Z"
   },
   {
    "duration": 0,
    "start_time": "2022-08-11T18:49:19.718Z"
   },
   {
    "duration": 0,
    "start_time": "2022-08-11T18:49:19.720Z"
   },
   {
    "duration": 0,
    "start_time": "2022-08-11T18:49:19.721Z"
   },
   {
    "duration": 0,
    "start_time": "2022-08-11T18:49:19.722Z"
   },
   {
    "duration": 0,
    "start_time": "2022-08-11T18:49:19.723Z"
   },
   {
    "duration": 0,
    "start_time": "2022-08-11T18:49:19.724Z"
   },
   {
    "duration": 0,
    "start_time": "2022-08-11T18:49:19.725Z"
   },
   {
    "duration": 0,
    "start_time": "2022-08-11T18:49:19.726Z"
   },
   {
    "duration": 0,
    "start_time": "2022-08-11T18:49:19.728Z"
   },
   {
    "duration": 0,
    "start_time": "2022-08-11T18:49:19.729Z"
   },
   {
    "duration": 0,
    "start_time": "2022-08-11T18:49:19.730Z"
   },
   {
    "duration": 0,
    "start_time": "2022-08-11T18:49:19.731Z"
   },
   {
    "duration": 0,
    "start_time": "2022-08-11T18:49:19.732Z"
   },
   {
    "duration": 1,
    "start_time": "2022-08-11T18:49:19.733Z"
   },
   {
    "duration": 0,
    "start_time": "2022-08-11T18:49:19.734Z"
   },
   {
    "duration": 0,
    "start_time": "2022-08-11T18:49:19.735Z"
   },
   {
    "duration": 0,
    "start_time": "2022-08-11T18:49:19.737Z"
   },
   {
    "duration": 0,
    "start_time": "2022-08-11T18:49:19.738Z"
   },
   {
    "duration": 0,
    "start_time": "2022-08-11T18:49:19.740Z"
   },
   {
    "duration": 0,
    "start_time": "2022-08-11T18:49:19.741Z"
   },
   {
    "duration": 0,
    "start_time": "2022-08-11T18:49:19.742Z"
   },
   {
    "duration": 0,
    "start_time": "2022-08-11T18:49:19.743Z"
   },
   {
    "duration": 0,
    "start_time": "2022-08-11T18:49:19.744Z"
   },
   {
    "duration": 0,
    "start_time": "2022-08-11T18:49:19.745Z"
   },
   {
    "duration": 0,
    "start_time": "2022-08-11T18:49:19.746Z"
   },
   {
    "duration": 0,
    "start_time": "2022-08-11T18:49:19.798Z"
   },
   {
    "duration": 0,
    "start_time": "2022-08-11T18:49:19.799Z"
   },
   {
    "duration": 0,
    "start_time": "2022-08-11T18:49:19.801Z"
   },
   {
    "duration": 0,
    "start_time": "2022-08-11T18:49:19.802Z"
   },
   {
    "duration": 0,
    "start_time": "2022-08-11T18:49:19.803Z"
   },
   {
    "duration": 0,
    "start_time": "2022-08-11T18:49:19.804Z"
   },
   {
    "duration": 0,
    "start_time": "2022-08-11T18:49:19.805Z"
   },
   {
    "duration": 0,
    "start_time": "2022-08-11T18:49:19.806Z"
   },
   {
    "duration": 0,
    "start_time": "2022-08-11T18:49:19.807Z"
   },
   {
    "duration": 0,
    "start_time": "2022-08-11T18:49:19.808Z"
   },
   {
    "duration": 0,
    "start_time": "2022-08-11T18:49:19.809Z"
   },
   {
    "duration": 0,
    "start_time": "2022-08-11T18:49:19.810Z"
   },
   {
    "duration": 0,
    "start_time": "2022-08-11T18:49:19.811Z"
   },
   {
    "duration": 108,
    "start_time": "2022-08-11T18:53:37.688Z"
   },
   {
    "duration": 76,
    "start_time": "2022-08-11T18:53:52.485Z"
   },
   {
    "duration": 69,
    "start_time": "2022-08-11T18:55:28.317Z"
   },
   {
    "duration": 61,
    "start_time": "2022-08-11T18:57:51.334Z"
   },
   {
    "duration": 66,
    "start_time": "2022-08-11T18:59:33.910Z"
   },
   {
    "duration": 1574,
    "start_time": "2022-08-12T01:07:18.597Z"
   },
   {
    "duration": 3024,
    "start_time": "2022-08-12T01:07:20.173Z"
   },
   {
    "duration": 96,
    "start_time": "2022-08-12T01:07:23.198Z"
   },
   {
    "duration": 4,
    "start_time": "2022-08-12T01:07:23.297Z"
   },
   {
    "duration": 741,
    "start_time": "2022-08-12T01:07:23.302Z"
   },
   {
    "duration": 13,
    "start_time": "2022-08-12T01:07:24.045Z"
   },
   {
    "duration": 69,
    "start_time": "2022-08-12T01:07:24.060Z"
   },
   {
    "duration": 10,
    "start_time": "2022-08-12T01:07:24.131Z"
   },
   {
    "duration": 176,
    "start_time": "2022-08-12T01:07:24.142Z"
   },
   {
    "duration": 61,
    "start_time": "2022-08-12T01:07:24.320Z"
   },
   {
    "duration": 127,
    "start_time": "2022-08-12T01:07:24.382Z"
   },
   {
    "duration": 15,
    "start_time": "2022-08-12T01:07:24.511Z"
   },
   {
    "duration": 4,
    "start_time": "2022-08-12T01:07:24.527Z"
   },
   {
    "duration": 25,
    "start_time": "2022-08-12T01:07:24.532Z"
   },
   {
    "duration": 58,
    "start_time": "2022-08-12T01:07:24.558Z"
   },
   {
    "duration": 30,
    "start_time": "2022-08-12T01:07:24.618Z"
   },
   {
    "duration": 13,
    "start_time": "2022-08-12T01:07:24.649Z"
   },
   {
    "duration": 70,
    "start_time": "2022-08-12T01:07:24.663Z"
   },
   {
    "duration": 153,
    "start_time": "2022-08-12T01:07:24.734Z"
   },
   {
    "duration": 44,
    "start_time": "2022-08-12T01:07:24.889Z"
   },
   {
    "duration": 33,
    "start_time": "2022-08-12T01:07:24.934Z"
   },
   {
    "duration": 106,
    "start_time": "2022-08-12T01:07:24.969Z"
   },
   {
    "duration": 5,
    "start_time": "2022-08-12T01:07:25.076Z"
   },
   {
    "duration": 5,
    "start_time": "2022-08-12T01:07:25.082Z"
   },
   {
    "duration": 36,
    "start_time": "2022-08-12T01:07:25.105Z"
   },
   {
    "duration": 30,
    "start_time": "2022-08-12T01:07:25.143Z"
   },
   {
    "duration": 33,
    "start_time": "2022-08-12T01:07:25.175Z"
   },
   {
    "duration": 38,
    "start_time": "2022-08-12T01:07:25.212Z"
   },
   {
    "duration": 32,
    "start_time": "2022-08-12T01:07:25.251Z"
   },
   {
    "duration": 89,
    "start_time": "2022-08-12T01:07:25.284Z"
   },
   {
    "duration": 47,
    "start_time": "2022-08-12T01:07:25.374Z"
   },
   {
    "duration": 7,
    "start_time": "2022-08-12T01:07:25.422Z"
   },
   {
    "duration": 43,
    "start_time": "2022-08-12T01:07:25.430Z"
   },
   {
    "duration": 8,
    "start_time": "2022-08-12T01:07:25.474Z"
   },
   {
    "duration": 57,
    "start_time": "2022-08-12T01:07:25.483Z"
   },
   {
    "duration": 13,
    "start_time": "2022-08-12T01:07:25.542Z"
   },
   {
    "duration": 758,
    "start_time": "2022-08-12T01:07:25.557Z"
   },
   {
    "duration": 38,
    "start_time": "2022-08-12T01:07:26.317Z"
   },
   {
    "duration": 12,
    "start_time": "2022-08-12T01:07:26.357Z"
   },
   {
    "duration": 83,
    "start_time": "2022-08-12T01:07:26.371Z"
   },
   {
    "duration": 24,
    "start_time": "2022-08-12T01:07:26.456Z"
   },
   {
    "duration": 743,
    "start_time": "2022-08-12T01:07:26.482Z"
   },
   {
    "duration": 423,
    "start_time": "2022-08-12T01:07:27.226Z"
   },
   {
    "duration": 542,
    "start_time": "2022-08-12T01:07:27.650Z"
   },
   {
    "duration": 14,
    "start_time": "2022-08-12T01:07:28.193Z"
   },
   {
    "duration": 86,
    "start_time": "2022-08-12T01:07:28.209Z"
   },
   {
    "duration": 147,
    "start_time": "2022-08-12T01:07:28.297Z"
   },
   {
    "duration": 0,
    "start_time": "2022-08-12T01:07:28.446Z"
   },
   {
    "duration": 0,
    "start_time": "2022-08-12T01:07:28.447Z"
   },
   {
    "duration": 0,
    "start_time": "2022-08-12T01:07:28.448Z"
   },
   {
    "duration": 0,
    "start_time": "2022-08-12T01:07:28.449Z"
   },
   {
    "duration": 0,
    "start_time": "2022-08-12T01:07:28.450Z"
   },
   {
    "duration": 0,
    "start_time": "2022-08-12T01:07:28.450Z"
   },
   {
    "duration": 0,
    "start_time": "2022-08-12T01:07:28.451Z"
   },
   {
    "duration": 0,
    "start_time": "2022-08-12T01:07:28.452Z"
   },
   {
    "duration": 0,
    "start_time": "2022-08-12T01:07:28.453Z"
   },
   {
    "duration": 0,
    "start_time": "2022-08-12T01:07:28.453Z"
   },
   {
    "duration": 0,
    "start_time": "2022-08-12T01:07:28.454Z"
   },
   {
    "duration": 0,
    "start_time": "2022-08-12T01:07:28.455Z"
   },
   {
    "duration": 0,
    "start_time": "2022-08-12T01:07:28.456Z"
   },
   {
    "duration": 0,
    "start_time": "2022-08-12T01:07:28.457Z"
   },
   {
    "duration": 0,
    "start_time": "2022-08-12T01:07:28.457Z"
   },
   {
    "duration": 0,
    "start_time": "2022-08-12T01:07:28.458Z"
   },
   {
    "duration": 0,
    "start_time": "2022-08-12T01:07:28.459Z"
   },
   {
    "duration": 0,
    "start_time": "2022-08-12T01:07:28.460Z"
   },
   {
    "duration": 0,
    "start_time": "2022-08-12T01:07:28.461Z"
   },
   {
    "duration": 0,
    "start_time": "2022-08-12T01:07:28.461Z"
   },
   {
    "duration": 0,
    "start_time": "2022-08-12T01:07:28.462Z"
   },
   {
    "duration": 0,
    "start_time": "2022-08-12T01:07:28.463Z"
   },
   {
    "duration": 0,
    "start_time": "2022-08-12T01:07:28.464Z"
   },
   {
    "duration": 0,
    "start_time": "2022-08-12T01:07:28.465Z"
   },
   {
    "duration": 0,
    "start_time": "2022-08-12T01:07:28.466Z"
   },
   {
    "duration": 0,
    "start_time": "2022-08-12T01:07:28.467Z"
   },
   {
    "duration": 0,
    "start_time": "2022-08-12T01:07:28.506Z"
   },
   {
    "duration": 0,
    "start_time": "2022-08-12T01:07:28.507Z"
   },
   {
    "duration": 0,
    "start_time": "2022-08-12T01:07:28.508Z"
   },
   {
    "duration": 0,
    "start_time": "2022-08-12T01:07:28.509Z"
   },
   {
    "duration": 0,
    "start_time": "2022-08-12T01:07:28.510Z"
   },
   {
    "duration": 0,
    "start_time": "2022-08-12T01:07:28.511Z"
   },
   {
    "duration": 0,
    "start_time": "2022-08-12T01:07:28.512Z"
   },
   {
    "duration": 0,
    "start_time": "2022-08-12T01:07:28.512Z"
   },
   {
    "duration": 0,
    "start_time": "2022-08-12T01:07:28.514Z"
   },
   {
    "duration": 0,
    "start_time": "2022-08-12T01:07:28.514Z"
   },
   {
    "duration": 0,
    "start_time": "2022-08-12T01:07:28.515Z"
   },
   {
    "duration": 0,
    "start_time": "2022-08-12T01:07:28.516Z"
   },
   {
    "duration": 0,
    "start_time": "2022-08-12T01:07:28.517Z"
   },
   {
    "duration": 0,
    "start_time": "2022-08-12T01:07:28.518Z"
   },
   {
    "duration": 0,
    "start_time": "2022-08-12T01:07:28.519Z"
   },
   {
    "duration": 0,
    "start_time": "2022-08-12T01:07:28.520Z"
   },
   {
    "duration": 0,
    "start_time": "2022-08-12T01:07:28.521Z"
   },
   {
    "duration": 0,
    "start_time": "2022-08-12T01:07:28.522Z"
   },
   {
    "duration": 0,
    "start_time": "2022-08-12T01:07:28.522Z"
   },
   {
    "duration": 0,
    "start_time": "2022-08-12T01:07:28.523Z"
   },
   {
    "duration": 0,
    "start_time": "2022-08-12T01:07:28.524Z"
   },
   {
    "duration": 0,
    "start_time": "2022-08-12T01:07:28.525Z"
   },
   {
    "duration": 0,
    "start_time": "2022-08-12T01:07:28.526Z"
   },
   {
    "duration": 0,
    "start_time": "2022-08-12T01:07:28.526Z"
   },
   {
    "duration": 0,
    "start_time": "2022-08-12T01:07:28.527Z"
   },
   {
    "duration": 0,
    "start_time": "2022-08-12T01:07:28.528Z"
   },
   {
    "duration": 0,
    "start_time": "2022-08-12T01:07:28.529Z"
   },
   {
    "duration": 0,
    "start_time": "2022-08-12T01:07:28.530Z"
   },
   {
    "duration": 0,
    "start_time": "2022-08-12T01:07:28.531Z"
   },
   {
    "duration": 0,
    "start_time": "2022-08-12T01:07:28.532Z"
   },
   {
    "duration": 84,
    "start_time": "2022-08-12T01:12:25.765Z"
   },
   {
    "duration": 72,
    "start_time": "2022-08-12T01:12:56.680Z"
   },
   {
    "duration": 9,
    "start_time": "2022-08-12T01:24:28.919Z"
   },
   {
    "duration": 117,
    "start_time": "2022-08-12T01:26:07.555Z"
   },
   {
    "duration": 66,
    "start_time": "2022-08-12T01:27:30.142Z"
   },
   {
    "duration": 78,
    "start_time": "2022-08-12T01:27:47.619Z"
   },
   {
    "duration": 11,
    "start_time": "2022-08-12T01:28:46.155Z"
   },
   {
    "duration": 53,
    "start_time": "2022-08-12T01:53:49.173Z"
   },
   {
    "duration": 70,
    "start_time": "2022-08-12T01:54:07.162Z"
   },
   {
    "duration": 8,
    "start_time": "2022-08-12T01:55:12.565Z"
   },
   {
    "duration": 100,
    "start_time": "2022-08-12T01:56:44.919Z"
   },
   {
    "duration": 90,
    "start_time": "2022-08-12T01:57:46.080Z"
   },
   {
    "duration": 122,
    "start_time": "2022-08-12T02:00:35.011Z"
   },
   {
    "duration": 8,
    "start_time": "2022-08-12T02:01:05.866Z"
   },
   {
    "duration": 537,
    "start_time": "2022-08-12T02:02:06.167Z"
   },
   {
    "duration": 454,
    "start_time": "2022-08-12T02:02:33.635Z"
   },
   {
    "duration": 1324,
    "start_time": "2022-08-12T02:04:10.253Z"
   },
   {
    "duration": 635,
    "start_time": "2022-08-12T02:04:11.579Z"
   },
   {
    "duration": 102,
    "start_time": "2022-08-12T02:04:12.215Z"
   },
   {
    "duration": 4,
    "start_time": "2022-08-12T02:04:12.319Z"
   },
   {
    "duration": 709,
    "start_time": "2022-08-12T02:04:12.324Z"
   },
   {
    "duration": 12,
    "start_time": "2022-08-12T02:04:13.034Z"
   },
   {
    "duration": 63,
    "start_time": "2022-08-12T02:04:13.048Z"
   },
   {
    "duration": 10,
    "start_time": "2022-08-12T02:04:13.113Z"
   },
   {
    "duration": 172,
    "start_time": "2022-08-12T02:04:13.125Z"
   },
   {
    "duration": 58,
    "start_time": "2022-08-12T02:04:13.306Z"
   },
   {
    "duration": 128,
    "start_time": "2022-08-12T02:04:13.366Z"
   },
   {
    "duration": 23,
    "start_time": "2022-08-12T02:04:13.495Z"
   },
   {
    "duration": 4,
    "start_time": "2022-08-12T02:04:13.520Z"
   },
   {
    "duration": 23,
    "start_time": "2022-08-12T02:04:13.525Z"
   },
   {
    "duration": 35,
    "start_time": "2022-08-12T02:04:13.549Z"
   },
   {
    "duration": 48,
    "start_time": "2022-08-12T02:04:13.585Z"
   },
   {
    "duration": 11,
    "start_time": "2022-08-12T02:04:13.635Z"
   },
   {
    "duration": 69,
    "start_time": "2022-08-12T02:04:13.647Z"
   },
   {
    "duration": 147,
    "start_time": "2022-08-12T02:04:13.717Z"
   },
   {
    "duration": 46,
    "start_time": "2022-08-12T02:04:13.866Z"
   },
   {
    "duration": 31,
    "start_time": "2022-08-12T02:04:13.913Z"
   },
   {
    "duration": 101,
    "start_time": "2022-08-12T02:04:13.946Z"
   },
   {
    "duration": 5,
    "start_time": "2022-08-12T02:04:14.049Z"
   },
   {
    "duration": 7,
    "start_time": "2022-08-12T02:04:14.055Z"
   },
   {
    "duration": 50,
    "start_time": "2022-08-12T02:04:14.064Z"
   },
   {
    "duration": 31,
    "start_time": "2022-08-12T02:04:14.116Z"
   },
   {
    "duration": 20,
    "start_time": "2022-08-12T02:04:14.148Z"
   },
   {
    "duration": 61,
    "start_time": "2022-08-12T02:04:14.171Z"
   },
   {
    "duration": 31,
    "start_time": "2022-08-12T02:04:14.233Z"
   },
   {
    "duration": 79,
    "start_time": "2022-08-12T02:04:14.266Z"
   },
   {
    "duration": 41,
    "start_time": "2022-08-12T02:04:14.346Z"
   },
   {
    "duration": 19,
    "start_time": "2022-08-12T02:04:14.388Z"
   },
   {
    "duration": 46,
    "start_time": "2022-08-12T02:04:14.408Z"
   },
   {
    "duration": 8,
    "start_time": "2022-08-12T02:04:14.455Z"
   },
   {
    "duration": 62,
    "start_time": "2022-08-12T02:04:14.465Z"
   },
   {
    "duration": 4,
    "start_time": "2022-08-12T02:04:14.528Z"
   },
   {
    "duration": 696,
    "start_time": "2022-08-12T02:04:14.533Z"
   },
   {
    "duration": 38,
    "start_time": "2022-08-12T02:04:15.230Z"
   },
   {
    "duration": 10,
    "start_time": "2022-08-12T02:04:15.269Z"
   },
   {
    "duration": 84,
    "start_time": "2022-08-12T02:04:15.280Z"
   },
   {
    "duration": 23,
    "start_time": "2022-08-12T02:04:15.366Z"
   },
   {
    "duration": 781,
    "start_time": "2022-08-12T02:04:15.391Z"
   },
   {
    "duration": 469,
    "start_time": "2022-08-12T02:04:16.175Z"
   },
   {
    "duration": 551,
    "start_time": "2022-08-12T02:04:16.645Z"
   },
   {
    "duration": 11,
    "start_time": "2022-08-12T02:04:17.198Z"
   },
   {
    "duration": 69,
    "start_time": "2022-08-12T02:04:17.210Z"
   },
   {
    "duration": 88,
    "start_time": "2022-08-12T02:04:17.280Z"
   },
   {
    "duration": 4,
    "start_time": "2022-08-12T02:04:17.369Z"
   },
   {
    "duration": 8,
    "start_time": "2022-08-12T02:04:17.374Z"
   },
   {
    "duration": 458934,
    "start_time": "2022-08-12T02:04:17.383Z"
   },
   {
    "duration": 3,
    "start_time": "2022-08-12T02:11:56.319Z"
   },
   {
    "duration": 7,
    "start_time": "2022-08-12T02:11:56.323Z"
   },
   {
    "duration": 7236,
    "start_time": "2022-08-12T02:11:56.331Z"
   },
   {
    "duration": 560,
    "start_time": "2022-08-12T02:12:03.569Z"
   },
   {
    "duration": 5,
    "start_time": "2022-08-12T02:12:04.130Z"
   },
   {
    "duration": 105,
    "start_time": "2022-08-12T02:12:04.136Z"
   },
   {
    "duration": 4,
    "start_time": "2022-08-12T02:12:04.242Z"
   },
   {
    "duration": 323668,
    "start_time": "2022-08-12T02:12:04.248Z"
   },
   {
    "duration": 3,
    "start_time": "2022-08-12T02:17:27.917Z"
   },
   {
    "duration": 5,
    "start_time": "2022-08-12T02:17:27.922Z"
   },
   {
    "duration": 7878,
    "start_time": "2022-08-12T02:17:27.929Z"
   },
   {
    "duration": 650,
    "start_time": "2022-08-12T02:17:35.808Z"
   },
   {
    "duration": 4,
    "start_time": "2022-08-12T02:17:36.460Z"
   },
   {
    "duration": 125,
    "start_time": "2022-08-12T02:17:36.466Z"
   },
   {
    "duration": 4,
    "start_time": "2022-08-12T02:17:36.593Z"
   },
   {
    "duration": 8979,
    "start_time": "2022-08-12T02:17:36.598Z"
   },
   {
    "duration": 3,
    "start_time": "2022-08-12T02:17:45.578Z"
   },
   {
    "duration": 8,
    "start_time": "2022-08-12T02:17:45.582Z"
   },
   {
    "duration": 221,
    "start_time": "2022-08-12T02:17:45.591Z"
   },
   {
    "duration": 17,
    "start_time": "2022-08-12T02:17:45.814Z"
   },
   {
    "duration": 5,
    "start_time": "2022-08-12T02:17:45.832Z"
   },
   {
    "duration": 102,
    "start_time": "2022-08-12T02:17:45.838Z"
   },
   {
    "duration": 4,
    "start_time": "2022-08-12T02:17:45.941Z"
   },
   {
    "duration": 9454,
    "start_time": "2022-08-12T02:17:45.946Z"
   },
   {
    "duration": 6,
    "start_time": "2022-08-12T02:17:55.401Z"
   },
   {
    "duration": 6,
    "start_time": "2022-08-12T02:17:55.408Z"
   },
   {
    "duration": 573,
    "start_time": "2022-08-12T02:17:55.415Z"
   },
   {
    "duration": 20,
    "start_time": "2022-08-12T02:17:55.990Z"
   },
   {
    "duration": 4,
    "start_time": "2022-08-12T02:17:56.012Z"
   },
   {
    "duration": 171,
    "start_time": "2022-08-12T02:17:56.018Z"
   },
   {
    "duration": 672167,
    "start_time": "2022-08-12T02:17:56.190Z"
   },
   {
    "duration": 3,
    "start_time": "2022-08-12T02:29:08.362Z"
   },
   {
    "duration": 5,
    "start_time": "2022-08-12T02:29:08.366Z"
   },
   {
    "duration": 30100,
    "start_time": "2022-08-12T02:29:08.372Z"
   },
   {
    "duration": 120,
    "start_time": "2022-08-12T02:29:38.473Z"
   },
   {
    "duration": 12,
    "start_time": "2022-08-12T02:29:38.595Z"
   },
   {
    "duration": 569,
    "start_time": "2022-08-12T02:29:38.609Z"
   },
   {
    "duration": 2,
    "start_time": "2022-08-12T02:29:39.180Z"
   },
   {
    "duration": 16833,
    "start_time": "2022-08-12T02:29:39.184Z"
   },
   {
    "duration": 301,
    "start_time": "2022-08-12T02:29:56.107Z"
   },
   {
    "duration": 94,
    "start_time": "2022-08-12T02:29:56.413Z"
   },
   {
    "duration": 519,
    "start_time": "2022-08-12T02:29:56.508Z"
   },
   {
    "duration": 5,
    "start_time": "2022-08-12T02:29:57.028Z"
   },
   {
    "duration": 512,
    "start_time": "2022-08-12T02:29:57.035Z"
   },
   {
    "duration": 6,
    "start_time": "2022-08-12T02:29:57.548Z"
   },
   {
    "duration": 21,
    "start_time": "2022-08-12T02:29:57.555Z"
   },
   {
    "duration": 5,
    "start_time": "2022-08-12T02:29:57.578Z"
   },
   {
    "duration": 35,
    "start_time": "2022-08-12T02:29:57.584Z"
   },
   {
    "duration": 5,
    "start_time": "2022-08-12T02:29:57.621Z"
   },
   {
    "duration": 124,
    "start_time": "2022-08-12T02:29:57.627Z"
   },
   {
    "duration": 5,
    "start_time": "2022-08-12T02:29:57.753Z"
   },
   {
    "duration": 251,
    "start_time": "2022-08-12T02:29:57.759Z"
   },
   {
    "duration": 5,
    "start_time": "2022-08-12T02:29:58.011Z"
   },
   {
    "duration": 72,
    "start_time": "2022-08-12T02:38:52.655Z"
   },
   {
    "duration": 514,
    "start_time": "2022-08-12T02:53:47.409Z"
   },
   {
    "duration": 4,
    "start_time": "2022-08-12T02:54:08.552Z"
   }
  ],
  "kernelspec": {
   "display_name": "Python 3 (ipykernel)",
   "language": "python",
   "name": "python3"
  },
  "language_info": {
   "codemirror_mode": {
    "name": "ipython",
    "version": 3
   },
   "file_extension": ".py",
   "mimetype": "text/x-python",
   "name": "python",
   "nbconvert_exporter": "python",
   "pygments_lexer": "ipython3",
   "version": "3.9.5"
  },
  "toc": {
   "base_numbering": 1,
   "nav_menu": {},
   "number_sections": true,
   "sideBar": true,
   "skip_h1_title": true,
   "title_cell": "Table of Contents",
   "title_sidebar": "Contents",
   "toc_cell": false,
   "toc_position": {},
   "toc_section_display": true,
   "toc_window_display": false
  }
 },
 "nbformat": 4,
 "nbformat_minor": 2
}
