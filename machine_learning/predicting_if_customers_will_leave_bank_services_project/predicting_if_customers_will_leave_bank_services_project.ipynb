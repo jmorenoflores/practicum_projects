{
 "cells": [
  {
   "cell_type": "markdown",
   "metadata": {},
   "source": [
    "# Project: Will Costumers leave soon? \n",
    "\n",
    "Beta Bank customers are leaving: little by little, chipping away every month. The bankers figured out it’s cheaper to save the existing customers rather than to attract new ones.\n",
    "This project was used to create the best machine learning model that predicts whether a customer will leave the bank soon based on the data of clients’ past behavior and termination of contracts with the bank.\n",
    "\n",
    "The project consisted of creating a DecissionTreeClassifier and a RandomForestClassifier model from the data;  tuning each of the models' hyperparameters to obtain the highest F1 score, accuracy score, and AUC value from the ROC curve;  The best model with the highest F1, accuracy, and AUC values was picked for the findings of task research. The threshold for the F1 score was a score of at least 0.59.\n"
   ]
  },
  {
   "cell_type": "markdown",
   "metadata": {},
   "source": [
    "## Libraries Used for Analysis"
   ]
  },
  {
   "cell_type": "code",
   "execution_count": 1,
   "metadata": {},
   "outputs": [],
   "source": [
    "import pandas as pd\n",
    "import numpy as np\n",
    "from sklearn.tree import DecisionTreeClassifier\n",
    "from sklearn.ensemble import RandomForestClassifier\n",
    "from sklearn.model_selection import train_test_split\n",
    "import matplotlib.pyplot as plt\n",
    "from sklearn.preprocessing import OrdinalEncoder, StandardScaler\n",
    "from sklearn.metrics import f1_score, roc_curve, accuracy_score, roc_auc_score\n",
    "from sklearn.utils import shuffle\n",
    "from sklearn.model_selection import RandomizedSearchCV, GridSearchCV, cross_val_score\n",
    "from sklearn import metrics, linear_model\n",
    "import warnings \n",
    "\n",
    "\n",
    "%config InlineBackend.figure_format = 'retina'\n",
    "\n",
    "plt.style.use('seaborn')"
   ]
  },
  {
   "cell_type": "markdown",
   "metadata": {},
   "source": [
    "## Description of Data\n",
    "The data file was saved in the variable `data`. "
   ]
  },
  {
   "cell_type": "code",
   "execution_count": 2,
   "metadata": {},
   "outputs": [],
   "source": [
    "data= pd.read_csv('/datasets/Churn.csv')"
   ]
  },
  {
   "cell_type": "code",
   "execution_count": 3,
   "metadata": {
    "scrolled": true
   },
   "outputs": [
    {
     "data": {
      "text/html": [
       "<div>\n",
       "<style scoped>\n",
       "    .dataframe tbody tr th:only-of-type {\n",
       "        vertical-align: middle;\n",
       "    }\n",
       "\n",
       "    .dataframe tbody tr th {\n",
       "        vertical-align: top;\n",
       "    }\n",
       "\n",
       "    .dataframe thead th {\n",
       "        text-align: right;\n",
       "    }\n",
       "</style>\n",
       "<table border=\"1\" class=\"dataframe\">\n",
       "  <thead>\n",
       "    <tr style=\"text-align: right;\">\n",
       "      <th></th>\n",
       "      <th>RowNumber</th>\n",
       "      <th>CustomerId</th>\n",
       "      <th>Surname</th>\n",
       "      <th>CreditScore</th>\n",
       "      <th>Geography</th>\n",
       "      <th>Gender</th>\n",
       "      <th>Age</th>\n",
       "      <th>Tenure</th>\n",
       "      <th>Balance</th>\n",
       "      <th>NumOfProducts</th>\n",
       "      <th>HasCrCard</th>\n",
       "      <th>IsActiveMember</th>\n",
       "      <th>EstimatedSalary</th>\n",
       "      <th>Exited</th>\n",
       "    </tr>\n",
       "  </thead>\n",
       "  <tbody>\n",
       "    <tr>\n",
       "      <th>0</th>\n",
       "      <td>1</td>\n",
       "      <td>15634602</td>\n",
       "      <td>Hargrave</td>\n",
       "      <td>619</td>\n",
       "      <td>France</td>\n",
       "      <td>Female</td>\n",
       "      <td>42</td>\n",
       "      <td>2.0</td>\n",
       "      <td>0.00</td>\n",
       "      <td>1</td>\n",
       "      <td>1</td>\n",
       "      <td>1</td>\n",
       "      <td>101348.88</td>\n",
       "      <td>1</td>\n",
       "    </tr>\n",
       "    <tr>\n",
       "      <th>1</th>\n",
       "      <td>2</td>\n",
       "      <td>15647311</td>\n",
       "      <td>Hill</td>\n",
       "      <td>608</td>\n",
       "      <td>Spain</td>\n",
       "      <td>Female</td>\n",
       "      <td>41</td>\n",
       "      <td>1.0</td>\n",
       "      <td>83807.86</td>\n",
       "      <td>1</td>\n",
       "      <td>0</td>\n",
       "      <td>1</td>\n",
       "      <td>112542.58</td>\n",
       "      <td>0</td>\n",
       "    </tr>\n",
       "    <tr>\n",
       "      <th>2</th>\n",
       "      <td>3</td>\n",
       "      <td>15619304</td>\n",
       "      <td>Onio</td>\n",
       "      <td>502</td>\n",
       "      <td>France</td>\n",
       "      <td>Female</td>\n",
       "      <td>42</td>\n",
       "      <td>8.0</td>\n",
       "      <td>159660.80</td>\n",
       "      <td>3</td>\n",
       "      <td>1</td>\n",
       "      <td>0</td>\n",
       "      <td>113931.57</td>\n",
       "      <td>1</td>\n",
       "    </tr>\n",
       "    <tr>\n",
       "      <th>3</th>\n",
       "      <td>4</td>\n",
       "      <td>15701354</td>\n",
       "      <td>Boni</td>\n",
       "      <td>699</td>\n",
       "      <td>France</td>\n",
       "      <td>Female</td>\n",
       "      <td>39</td>\n",
       "      <td>1.0</td>\n",
       "      <td>0.00</td>\n",
       "      <td>2</td>\n",
       "      <td>0</td>\n",
       "      <td>0</td>\n",
       "      <td>93826.63</td>\n",
       "      <td>0</td>\n",
       "    </tr>\n",
       "    <tr>\n",
       "      <th>4</th>\n",
       "      <td>5</td>\n",
       "      <td>15737888</td>\n",
       "      <td>Mitchell</td>\n",
       "      <td>850</td>\n",
       "      <td>Spain</td>\n",
       "      <td>Female</td>\n",
       "      <td>43</td>\n",
       "      <td>2.0</td>\n",
       "      <td>125510.82</td>\n",
       "      <td>1</td>\n",
       "      <td>1</td>\n",
       "      <td>1</td>\n",
       "      <td>79084.10</td>\n",
       "      <td>0</td>\n",
       "    </tr>\n",
       "  </tbody>\n",
       "</table>\n",
       "</div>"
      ],
      "text/plain": [
       "   RowNumber  CustomerId   Surname  CreditScore Geography  Gender  Age  \\\n",
       "0          1    15634602  Hargrave          619    France  Female   42   \n",
       "1          2    15647311      Hill          608     Spain  Female   41   \n",
       "2          3    15619304      Onio          502    France  Female   42   \n",
       "3          4    15701354      Boni          699    France  Female   39   \n",
       "4          5    15737888  Mitchell          850     Spain  Female   43   \n",
       "\n",
       "   Tenure    Balance  NumOfProducts  HasCrCard  IsActiveMember  \\\n",
       "0     2.0       0.00              1          1               1   \n",
       "1     1.0   83807.86              1          0               1   \n",
       "2     8.0  159660.80              3          1               0   \n",
       "3     1.0       0.00              2          0               0   \n",
       "4     2.0  125510.82              1          1               1   \n",
       "\n",
       "   EstimatedSalary  Exited  \n",
       "0        101348.88       1  \n",
       "1        112542.58       0  \n",
       "2        113931.57       1  \n",
       "3         93826.63       0  \n",
       "4         79084.10       0  "
      ]
     },
     "execution_count": 3,
     "metadata": {},
     "output_type": "execute_result"
    }
   ],
   "source": [
    "data.head()"
   ]
  },
  {
   "cell_type": "markdown",
   "metadata": {},
   "source": [
    "The data had the following columns described below: "
   ]
  },
  {
   "cell_type": "markdown",
   "metadata": {},
   "source": [
    "- `RowNumber` — data string index\n",
    "- `CustomerId` — unique customer identifier\n",
    "- `Surname` — surname\n",
    "- `CreditScore` — credit score\n",
    "- `Geography` — country of residence\n",
    "- `Gender` — gender\n",
    "- `Age` — age\n",
    "- `Tenure` — period of maturation for a customer’s fixed deposit (years)\n",
    "- `Balance` — account balance\n",
    "- `NumOfProducts` — number of banking products used by the customer\n",
    "- `HasCrCard` — customer has a credit card\n",
    "- `IsActiveMember` — customer’s activeness\n",
    "- `EstimatedSalary` — estimated salary\n",
    "- `Exited` — сustomer has left"
   ]
  },
  {
   "cell_type": "markdown",
   "metadata": {},
   "source": [
    "The data had a total of 14 columns and 10,000 row entries, each entry describing the behavior of a costumer. The column that presented missing data was the column `Tenure`. "
   ]
  },
  {
   "cell_type": "code",
   "execution_count": 4,
   "metadata": {
    "scrolled": false
   },
   "outputs": [
    {
     "name": "stdout",
     "output_type": "stream",
     "text": [
      "<class 'pandas.core.frame.DataFrame'>\n",
      "RangeIndex: 10000 entries, 0 to 9999\n",
      "Data columns (total 14 columns):\n",
      " #   Column           Non-Null Count  Dtype  \n",
      "---  ------           --------------  -----  \n",
      " 0   RowNumber        10000 non-null  int64  \n",
      " 1   CustomerId       10000 non-null  int64  \n",
      " 2   Surname          10000 non-null  object \n",
      " 3   CreditScore      10000 non-null  int64  \n",
      " 4   Geography        10000 non-null  object \n",
      " 5   Gender           10000 non-null  object \n",
      " 6   Age              10000 non-null  int64  \n",
      " 7   Tenure           9091 non-null   float64\n",
      " 8   Balance          10000 non-null  float64\n",
      " 9   NumOfProducts    10000 non-null  int64  \n",
      " 10  HasCrCard        10000 non-null  int64  \n",
      " 11  IsActiveMember   10000 non-null  int64  \n",
      " 12  EstimatedSalary  10000 non-null  float64\n",
      " 13  Exited           10000 non-null  int64  \n",
      "dtypes: float64(3), int64(8), object(3)\n",
      "memory usage: 1.1+ MB\n"
     ]
    }
   ],
   "source": [
    "data.info()"
   ]
  },
  {
   "cell_type": "markdown",
   "metadata": {},
   "source": [
    "## Preparing the data for Analysis \n",
    "\n",
    "In this section, we analysed the columns' data type and fixed the missing data, duplicates, and other errors in data. "
   ]
  },
  {
   "cell_type": "markdown",
   "metadata": {},
   "source": [
    "### `column names` in data\n",
    "The column names were changed to all lowercase."
   ]
  },
  {
   "cell_type": "code",
   "execution_count": 5,
   "metadata": {
    "scrolled": true
   },
   "outputs": [
    {
     "data": {
      "text/plain": [
       "Index(['rownumber', 'customerid', 'surname', 'creditscore', 'geography',\n",
       "       'gender', 'age', 'tenure', 'balance', 'numofproducts', 'hascrcard',\n",
       "       'isactivemember', 'estimatedsalary', 'exited'],\n",
       "      dtype='object')"
      ]
     },
     "execution_count": 5,
     "metadata": {},
     "output_type": "execute_result"
    }
   ],
   "source": [
    "data= data.rename(columns=str.lower)\n",
    "data.columns"
   ]
  },
  {
   "cell_type": "markdown",
   "metadata": {},
   "source": [
    "### `rownumber` column\n",
    "The section below was used to determine if there were any duplicates in the column `rownumber`. This number had Int64 data type, with 10,000 unique values that ranged from 1 to 10,000. No errors were found in this column. Each unique value in this column is associated with one costumer. "
   ]
  },
  {
   "cell_type": "code",
   "execution_count": 6,
   "metadata": {},
   "outputs": [
    {
     "name": "stdout",
     "output_type": "stream",
     "text": [
      "[    1     2     3 ...  9998  9999 10000]\n",
      "1\n",
      "10000\n"
     ]
    },
    {
     "data": {
      "text/plain": [
       "10000"
      ]
     },
     "execution_count": 6,
     "metadata": {},
     "output_type": "execute_result"
    }
   ],
   "source": [
    "print(data.rownumber.unique())\n",
    "print(data.rownumber.min())\n",
    "print(data.rownumber.max())\n",
    "len(data.rownumber.unique())"
   ]
  },
  {
   "cell_type": "markdown",
   "metadata": {},
   "source": [
    "### `customerid` column \n",
    "The `customerid` column had a total of 10,000 unique IDs the costumers. The datatype for this column is Int64 and there were no errors in the data for this column. "
   ]
  },
  {
   "cell_type": "code",
   "execution_count": 7,
   "metadata": {},
   "outputs": [
    {
     "name": "stdout",
     "output_type": "stream",
     "text": [
      "10000\n"
     ]
    },
    {
     "data": {
      "text/plain": [
       "0    15634602\n",
       "1    15647311\n",
       "2    15619304\n",
       "3    15701354\n",
       "4    15737888\n",
       "5    15574012\n",
       "6    15592531\n",
       "7    15656148\n",
       "8    15792365\n",
       "9    15592389\n",
       "Name: customerid, dtype: int64"
      ]
     },
     "execution_count": 7,
     "metadata": {},
     "output_type": "execute_result"
    }
   ],
   "source": [
    "print(len(data.customerid.unique()))\n",
    "data.customerid.head(10)\n"
   ]
  },
  {
   "cell_type": "markdown",
   "metadata": {},
   "source": [
    "### `surname` column\n",
    "The `surname` column had a total of 2,032 unique surnames for all of the costumers in the data. The datatype is object, and there were no missing or errors in the data. "
   ]
  },
  {
   "cell_type": "code",
   "execution_count": 8,
   "metadata": {},
   "outputs": [
    {
     "name": "stdout",
     "output_type": "stream",
     "text": [
      "2932\n"
     ]
    },
    {
     "data": {
      "text/plain": [
       "0"
      ]
     },
     "execution_count": 8,
     "metadata": {},
     "output_type": "execute_result"
    }
   ],
   "source": [
    "print(len(data.surname.unique()))\n",
    "len(data.query('surname.isna()'))\n"
   ]
  },
  {
   "cell_type": "markdown",
   "metadata": {},
   "source": [
    "### `creditscore` column\n",
    "The `creditscore` column has 460 unique values and Int64 datatype. There weren't any missing values or errors in the data. "
   ]
  },
  {
   "cell_type": "code",
   "execution_count": 9,
   "metadata": {},
   "outputs": [
    {
     "name": "stdout",
     "output_type": "stream",
     "text": [
      "460\n",
      "int64\n"
     ]
    },
    {
     "data": {
      "text/plain": [
       "0"
      ]
     },
     "execution_count": 9,
     "metadata": {},
     "output_type": "execute_result"
    }
   ],
   "source": [
    "print(len(data.creditscore.unique()))\n",
    "print(data.creditscore.dtype)\n",
    "len(data.query('creditscore.isna()'))\n"
   ]
  },
  {
   "cell_type": "markdown",
   "metadata": {},
   "source": [
    "### `geography` column\n",
    "The `geography` column has 3 unique values, and the data type was object. There weren't any errors or missing data in the column. "
   ]
  },
  {
   "cell_type": "code",
   "execution_count": 10,
   "metadata": {},
   "outputs": [
    {
     "name": "stdout",
     "output_type": "stream",
     "text": [
      "['France' 'Spain' 'Germany']\n",
      "object\n"
     ]
    },
    {
     "data": {
      "text/plain": [
       "0"
      ]
     },
     "execution_count": 10,
     "metadata": {},
     "output_type": "execute_result"
    }
   ],
   "source": [
    "print(data.geography.unique())\n",
    "print(data.geography.dtype)\n",
    "len(data.query('geography.isna()'))"
   ]
  },
  {
   "cell_type": "markdown",
   "metadata": {},
   "source": [
    "### `gender` column \n",
    "The gender column had 2 unique values and the data type was object. There weren't any errors or missing values in the data. "
   ]
  },
  {
   "cell_type": "code",
   "execution_count": 11,
   "metadata": {},
   "outputs": [
    {
     "name": "stdout",
     "output_type": "stream",
     "text": [
      "['Female' 'Male']\n",
      "object\n"
     ]
    },
    {
     "data": {
      "text/plain": [
       "0"
      ]
     },
     "execution_count": 11,
     "metadata": {},
     "output_type": "execute_result"
    }
   ],
   "source": [
    "print(data.gender.unique())\n",
    "print(data.gender.dtype)\n",
    "len(data.query('gender.isna()'))"
   ]
  },
  {
   "cell_type": "markdown",
   "metadata": {},
   "source": [
    "### `age` column\n",
    "The age column had a total of 70 unique values and the data type was int64. There were no errors or missing data in the column. "
   ]
  },
  {
   "cell_type": "code",
   "execution_count": 12,
   "metadata": {
    "scrolled": true
   },
   "outputs": [
    {
     "name": "stdout",
     "output_type": "stream",
     "text": [
      "[42 41 39 43 44 50 29 27 31 24 34 25 35 45 58 32 38 46 36 33 40 51 61 49\n",
      " 37 19 66 56 26 21 55 75 22 30 28 65 48 52 57 73 47 54 72 20 67 79 62 53\n",
      " 80 59 68 23 60 70 63 64 18 82 69 74 71 76 77 88 85 84 78 81 92 83]\n",
      "70\n",
      "int64\n"
     ]
    },
    {
     "data": {
      "text/plain": [
       "0"
      ]
     },
     "execution_count": 12,
     "metadata": {},
     "output_type": "execute_result"
    }
   ],
   "source": [
    "print(data.age.unique())\n",
    "print(len(data.age.unique()))\n",
    "print(data.age.dtype)\n",
    "len(data.query('age.isna()'))"
   ]
  },
  {
   "cell_type": "markdown",
   "metadata": {},
   "source": [
    "### `tenure` column \n",
    "The `tenure` column had a total of 11 values, ranging from 0 to 10. The data type was float64, and there were a total of 909 missing values in this column, which account for 9.1% of the data for this column; therefore, dropping the rows with missing values would cause a significant loss of data. "
   ]
  },
  {
   "cell_type": "code",
   "execution_count": 13,
   "metadata": {
    "scrolled": true
   },
   "outputs": [
    {
     "name": "stdout",
     "output_type": "stream",
     "text": [
      "[ 2.  1.  8.  7.  4.  6.  3. 10.  5.  9.  0. nan]\n",
      "12\n",
      "float64\n"
     ]
    },
    {
     "data": {
      "text/plain": [
       "9.09"
      ]
     },
     "execution_count": 13,
     "metadata": {},
     "output_type": "execute_result"
    }
   ],
   "source": [
    "print(data.tenure.unique())\n",
    "print(len(data.tenure.unique()))\n",
    "print(data.tenure.dtype)\n",
    "#percentage of missing values from entire data\n",
    "len(data.query('tenure.isna()'))/len(data) *100"
   ]
  },
  {
   "cell_type": "markdown",
   "metadata": {},
   "source": [
    "The `tenure` column presented a mean value of 4.99 years, median value of 5.00 years, and standard deviation of 2.89 years. The distribution was normally distributed, and there were no outliers. To replace the missing values in the `tenure` column, the mean value was used to replace the NaN values in the column."
   ]
  },
  {
   "cell_type": "code",
   "execution_count": 14,
   "metadata": {},
   "outputs": [
    {
     "data": {
      "image/png": "[encoded data removed]",
      "text/plain": [
       "<Figure size 504x504 with 1 Axes>"
      ]
     },
     "metadata": {
      "image/png": {
       "height": 425,
       "width": 437
      }
     },
     "output_type": "display_data"
    },
    {
     "data": {
      "text/plain": [
       "count    9091.000000\n",
       "mean        4.997690\n",
       "std         2.894723\n",
       "min         0.000000\n",
       "25%         2.000000\n",
       "50%         5.000000\n",
       "75%         7.000000\n",
       "max        10.000000\n",
       "Name: tenure, dtype: float64"
      ]
     },
     "execution_count": 14,
     "metadata": {},
     "output_type": "execute_result"
    }
   ],
   "source": [
    "data.tenure.plot(kind='box', figsize=(7,7))\n",
    "plt.title('Distribution of values in tenure column')\n",
    "plt.ylabel('years')\n",
    "plt.show()\n",
    "\n",
    "data.tenure.describe()"
   ]
  },
  {
   "cell_type": "code",
   "execution_count": 15,
   "metadata": {},
   "outputs": [
    {
     "data": {
      "text/plain": [
       "array([ 2.,  1.,  8.,  7.,  4.,  6.,  3., 10.,  5.,  9.,  0.])"
      ]
     },
     "execution_count": 15,
     "metadata": {},
     "output_type": "execute_result"
    }
   ],
   "source": [
    "data.tenure.fillna(data.tenure.mean(), inplace=True)\n",
    "#checking the column after fixing missing values \n",
    "data['tenure']=data.tenure.round(decimals=1)\n",
    "data.tenure.unique()\n"
   ]
  },
  {
   "cell_type": "markdown",
   "metadata": {},
   "source": [
    "### `balance` column\n",
    "The `balance` column had a total of 6,382 unique values, and a data type is float64. There were not any missing or errors in the column. "
   ]
  },
  {
   "cell_type": "code",
   "execution_count": 16,
   "metadata": {},
   "outputs": [
    {
     "name": "stdout",
     "output_type": "stream",
     "text": [
      "[     0.    83807.86 159660.8  ...  57369.61  75075.31 130142.79]\n",
      "6382\n",
      "float64\n"
     ]
    },
    {
     "data": {
      "text/plain": [
       "0"
      ]
     },
     "execution_count": 16,
     "metadata": {},
     "output_type": "execute_result"
    }
   ],
   "source": [
    "print(data.balance.unique())\n",
    "print(len(data.balance.unique()))\n",
    "print(data.balance.dtype)\n",
    "len(data.query('balance.isna()'))"
   ]
  },
  {
   "cell_type": "markdown",
   "metadata": {},
   "source": [
    "### `numofproducts` column \n",
    "The `numofproducts` column had a total of 4 unique values, and a dat type is int64. There were not any errors or missing values in the column. "
   ]
  },
  {
   "cell_type": "code",
   "execution_count": 17,
   "metadata": {},
   "outputs": [
    {
     "name": "stdout",
     "output_type": "stream",
     "text": [
      "[1 3 2 4]\n",
      "4\n",
      "int64\n"
     ]
    },
    {
     "data": {
      "text/plain": [
       "0"
      ]
     },
     "execution_count": 17,
     "metadata": {},
     "output_type": "execute_result"
    }
   ],
   "source": [
    "print(data.numofproducts.unique())\n",
    "print(len(data.numofproducts.unique()))\n",
    "print(data.numofproducts.dtype)\n",
    "len(data.query('numofproducts.isna()'))"
   ]
  },
  {
   "cell_type": "markdown",
   "metadata": {},
   "source": [
    "### `hascrcard` column\n",
    "The `hascrcard` has a total of 2 unique values in the column , and the data type is int64. There were not any errors or missing values in the column. "
   ]
  },
  {
   "cell_type": "code",
   "execution_count": 18,
   "metadata": {},
   "outputs": [
    {
     "name": "stdout",
     "output_type": "stream",
     "text": [
      "[1 0]\n",
      "2\n",
      "int64\n"
     ]
    },
    {
     "data": {
      "text/plain": [
       "0"
      ]
     },
     "execution_count": 18,
     "metadata": {},
     "output_type": "execute_result"
    }
   ],
   "source": [
    "print(data.hascrcard.unique())\n",
    "print(len(data.hascrcard.unique()))\n",
    "print(data.hascrcard.dtype)\n",
    "len(data.query('hascrcard.isna()'))"
   ]
  },
  {
   "cell_type": "markdown",
   "metadata": {},
   "source": [
    "### `isactivemember` column \n",
    "The `isactivemember` has a total of 2 unique values in the column , and the data type is int64. There were not any errors or missing values in the column. "
   ]
  },
  {
   "cell_type": "code",
   "execution_count": 19,
   "metadata": {},
   "outputs": [
    {
     "name": "stdout",
     "output_type": "stream",
     "text": [
      "[1 0]\n",
      "2\n",
      "int64\n"
     ]
    },
    {
     "data": {
      "text/plain": [
       "0"
      ]
     },
     "execution_count": 19,
     "metadata": {},
     "output_type": "execute_result"
    }
   ],
   "source": [
    "print(data.isactivemember.unique())\n",
    "print(len(data.isactivemember.unique()))\n",
    "print(data.isactivemember.dtype)\n",
    "len(data.query('isactivemember.isna()'))"
   ]
  },
  {
   "cell_type": "markdown",
   "metadata": {},
   "source": [
    "### `estimatedsalary` column\n",
    "The `estimatedsalary` column had a total of 9,999 unique values in the column, and the data type was float64. There were not any errors or missing values in the data. "
   ]
  },
  {
   "cell_type": "code",
   "execution_count": 20,
   "metadata": {},
   "outputs": [
    {
     "name": "stdout",
     "output_type": "stream",
     "text": [
      "[101348.88 112542.58 113931.57 ...  42085.58  92888.52  38190.78]\n",
      "9999\n",
      "float64\n"
     ]
    },
    {
     "data": {
      "text/plain": [
       "0"
      ]
     },
     "execution_count": 20,
     "metadata": {},
     "output_type": "execute_result"
    }
   ],
   "source": [
    "print(data.estimatedsalary.unique())\n",
    "print(len(data.estimatedsalary.unique()))\n",
    "print(data.estimatedsalary.dtype)\n",
    "len(data.query('estimatedsalary.isna()'))"
   ]
  },
  {
   "cell_type": "markdown",
   "metadata": {},
   "source": [
    "## Model 1: DecisionTreeClassifier \n",
    "In this section we split the `data` into training, validation, and testing dataset in 2:1:1 ratio, or 60%, 20%, and 20%, respectively. The data was transformed with means of OrdinalEncoder, as shown below. However, the columns that were cardinal features were kept as they were originally present in the data, and then transformed with means of feature scaling, as shown below. The resulting dimensions for features and target for the training, validation, and testing set were prited below. "
   ]
  },
  {
   "cell_type": "code",
   "execution_count": 21,
   "metadata": {
    "scrolled": false
   },
   "outputs": [
    {
     "name": "stdout",
     "output_type": "stream",
     "text": [
      "features_train:      (6000, 13)\n",
      "target_train:        (6000,)\n",
      "features_validation: (2000, 13)\n",
      "target_validation:   (2000,)\n",
      "features_test:       (2000, 13)\n",
      "target_test:         (2000,)\n"
     ]
    },
    {
     "name": "stderr",
     "output_type": "stream",
     "text": [
      "/tmp/ipykernel_84/4049604055.py:22: SettingWithCopyWarning: \n",
      "A value is trying to be set on a copy of a slice from a DataFrame.\n",
      "Try using .loc[row_indexer,col_indexer] = value instead\n",
      "\n",
      "See the caveats in the documentation: https://pandas.pydata.org/pandas-docs/stable/user_guide/indexing.html#returning-a-view-versus-a-copy\n",
      "  features_train[numeric]=scaler.transform(features_train[numeric])\n",
      "/opt/conda/lib/python3.9/site-packages/pandas/core/indexing.py:1738: SettingWithCopyWarning: \n",
      "A value is trying to be set on a copy of a slice from a DataFrame.\n",
      "Try using .loc[row_indexer,col_indexer] = value instead\n",
      "\n",
      "See the caveats in the documentation: https://pandas.pydata.org/pandas-docs/stable/user_guide/indexing.html#returning-a-view-versus-a-copy\n",
      "  self._setitem_single_column(loc, value[:, i].tolist(), pi)\n",
      "/tmp/ipykernel_84/4049604055.py:23: SettingWithCopyWarning: \n",
      "A value is trying to be set on a copy of a slice from a DataFrame.\n",
      "Try using .loc[row_indexer,col_indexer] = value instead\n",
      "\n",
      "See the caveats in the documentation: https://pandas.pydata.org/pandas-docs/stable/user_guide/indexing.html#returning-a-view-versus-a-copy\n",
      "  features_valid[numeric]=scaler.transform(features_valid[numeric])\n",
      "/opt/conda/lib/python3.9/site-packages/pandas/core/indexing.py:1738: SettingWithCopyWarning: \n",
      "A value is trying to be set on a copy of a slice from a DataFrame.\n",
      "Try using .loc[row_indexer,col_indexer] = value instead\n",
      "\n",
      "See the caveats in the documentation: https://pandas.pydata.org/pandas-docs/stable/user_guide/indexing.html#returning-a-view-versus-a-copy\n",
      "  self._setitem_single_column(loc, value[:, i].tolist(), pi)\n",
      "/tmp/ipykernel_84/4049604055.py:24: SettingWithCopyWarning: \n",
      "A value is trying to be set on a copy of a slice from a DataFrame.\n",
      "Try using .loc[row_indexer,col_indexer] = value instead\n",
      "\n",
      "See the caveats in the documentation: https://pandas.pydata.org/pandas-docs/stable/user_guide/indexing.html#returning-a-view-versus-a-copy\n",
      "  features_test_dr[numeric]=scaler.transform(features_test_dr[numeric])\n",
      "/opt/conda/lib/python3.9/site-packages/pandas/core/indexing.py:1738: SettingWithCopyWarning: \n",
      "A value is trying to be set on a copy of a slice from a DataFrame.\n",
      "Try using .loc[row_indexer,col_indexer] = value instead\n",
      "\n",
      "See the caveats in the documentation: https://pandas.pydata.org/pandas-docs/stable/user_guide/indexing.html#returning-a-view-versus-a-copy\n",
      "  self._setitem_single_column(loc, value[:, i].tolist(), pi)\n"
     ]
    }
   ],
   "source": [
    "encoder= OrdinalEncoder()\n",
    "data_ordinal=pd.DataFrame(encoder.fit_transform(data),columns=data.columns)\n",
    "data_ordinal['creditscore']=data['creditscore']\n",
    "data_ordinal['age']=data['age']\n",
    "data_ordinal['tenure']=data['tenure']\n",
    "data_ordinal['balance']=data['balance']\n",
    "data_ordinal['numofproducts']=data['numofproducts']\n",
    "data_ordinal['estimatedsalary']=data['estimatedsalary']\n",
    "\n",
    "features = data_ordinal.drop('exited',axis=1)\n",
    "target = data_ordinal['exited']\n",
    "\n",
    "features_train, features_rem, target_train, target_rem = train_test_split(\n",
    "    features, target, train_size=0.6, random_state=12345)\n",
    "\n",
    "features_valid, features_test_dr, target_valid, target_test_dr = train_test_split(\n",
    "    features_rem, target_rem, test_size=0.5,random_state=12345)\n",
    "\n",
    "numeric=['creditscore', 'age', 'tenure','balance','numofproducts', 'estimatedsalary']\n",
    "scaler=StandardScaler()\n",
    "scaler.fit(features_train[numeric])\n",
    "features_train[numeric]=scaler.transform(features_train[numeric])\n",
    "features_valid[numeric]=scaler.transform(features_valid[numeric])\n",
    "features_test_dr[numeric]=scaler.transform(features_test_dr[numeric])\n",
    "\n",
    "\n",
    "print(f'features_train:      {features_train.shape}')\n",
    "print(f'target_train:        {target_train.shape}')\n",
    "\n",
    "print(f'features_validation: {features_valid.shape}')\n",
    "print(f'target_validation:   {target_valid.shape}')\n",
    "\n",
    "print(f'features_test:       {features_test_dr.shape}')\n",
    "print(f'target_test:         {target_test_dr.shape}')"
   ]
  },
  {
   "cell_type": "markdown",
   "metadata": {},
   "source": [
    "This section was used to find the optimal value for the hyperparameter `max_depth` that would give us the highest F1 score for the DecissionTreeClassifier model. From the loop function, we found that the `max_depth` value for this model was 5, which resulted in an F1 score of 0.584 for the training dataset."
   ]
  },
  {
   "cell_type": "code",
   "execution_count": 22,
   "metadata": {},
   "outputs": [
    {
     "name": "stdout",
     "output_type": "stream",
     "text": [
      " depth= 5 with F1  0.5839572192513369\n"
     ]
    }
   ],
   "source": [
    "best_score = 0 \n",
    "best_depth = 0\n",
    "\n",
    "for depth in range(1,10):\n",
    "    model= DecisionTreeClassifier(random_state=12345, max_depth=depth, class_weight='balanced')\n",
    "    model.fit(features_train, target_train)\n",
    "    predicted_valid=model.predict(features_valid)\n",
    "    score= f1_score(target_valid,predicted_valid)\n",
    "    if score > best_score:\n",
    "        best_score= score\n",
    "        best_depth = depth\n",
    "\n",
    "print(f' depth= {best_depth} with F1  {best_score}')"
   ]
  },
  {
   "cell_type": "markdown",
   "metadata": {},
   "source": [
    "In this section, we analyzed the balance of classes in the target column `exited`. We found out that there were was an inbalance of classes, and that class 0 had 79.6% of data, while class 1 had 20.4%. The techniques used to improve the quality of the model by fixing the inbalance of classes were `upsampling` of the class 1, and `downsampling` of the class 0. These techniques are shown below. From these techniques, we found that upsampling class 1 with a factor of 3 was the optimal factor for usampling. The F1 score we obtained from upsampling class 1 was 0.605. However, we did not see an improvement from downsampling class 0 because we obtained an F1 score of 0.587. The optimal frac value for downsampling was 0.45. Another technique we used to improve the quality of our model was the `class_weight` parameter. We found that when `class_weight='balanced` with the usampled class 1, we obtained a f1_score of 0.515 and an accuracy score of 0.805. In contrast, when the `class_weight` was set to default 'None', then we obtained a f1_score of 0.605 and an accuracy score of 0.826. Therefore, the the model with upsampled class 1 with factor of 3, 'class_weight'=None, and 'max_depth'=5 was selected for AUC of the ROC curve analysis. "
   ]
  },
  {
   "cell_type": "code",
   "execution_count": 23,
   "metadata": {},
   "outputs": [
    {
     "name": "stdout",
     "output_type": "stream",
     "text": [
      "0    0.7963\n",
      "1    0.2037\n",
      "Name: exited, dtype: float64\n"
     ]
    },
    {
     "data": {
      "image/png": "[encoded data removed]",
      "text/plain": [
       "<Figure size 576x576 with 1 Axes>"
      ]
     },
     "metadata": {
      "image/png": {
       "height": 490,
       "width": 496
      }
     },
     "output_type": "display_data"
    }
   ],
   "source": [
    "#checking frequency of classes\n",
    "class_frequency=data['exited'].value_counts(normalize=True)\n",
    "print(class_frequency)\n",
    "class_frequency.plot(kind='bar',figsize=(8,8))\n",
    "plt.title('Class frequencies')\n",
    "plt.ylabel('frequency')\n",
    "plt.xlabel('class')\n",
    "plt.show()"
   ]
  },
  {
   "cell_type": "code",
   "execution_count": 24,
   "metadata": {},
   "outputs": [
    {
     "name": "stdout",
     "output_type": "stream",
     "text": [
      "F1 score:  0.6054421768707483\n",
      "repeat value:  3\n"
     ]
    }
   ],
   "source": [
    "def upsample(features, target, repeat):\n",
    "    features_zeros=features[target==0]\n",
    "    features_ones =features[target==1]\n",
    "    target_zeros =target[target==0]\n",
    "    target_ones =target[target==1]\n",
    "    \n",
    "    features_upsampled=pd.concat([features_zeros] + [features_ones]*repeat)\n",
    "    target_upsampled=pd.concat([target_zeros]+[target_ones]*repeat)\n",
    "    \n",
    "    features_upsampled, target_upsampled = shuffle(features_upsampled,\n",
    "                                                  target_upsampled, random_state=12345)\n",
    "    return features_upsampled, target_upsampled\n",
    "\n",
    "best_f1_score=0\n",
    "best_value_up=0\n",
    "for value in range(0,10):\n",
    "    features_upsampled, target_upsampled=upsample(features_train,target_train,value)\n",
    "    model= DecisionTreeClassifier(random_state=12345, max_depth=5)\n",
    "    model.fit(features_upsampled, target_upsampled)\n",
    "    predicted_valid=model.predict(features_valid)\n",
    "    score=f1_score(target_valid, predicted_valid)\n",
    "    if score> best_f1_score:\n",
    "        best_f1_score=score\n",
    "        best_value_up=value\n",
    "        \n",
    "print('F1 score: ',best_f1_score) \n",
    "print('repeat value: ',best_value_up)\n",
    "features_upsampled, target_upsampled=upsample(features_train,target_train,best_value_up)\n"
   ]
  },
  {
   "cell_type": "code",
   "execution_count": 25,
   "metadata": {},
   "outputs": [
    {
     "name": "stdout",
     "output_type": "stream",
     "text": [
      "F1 score:  0.5879828326180258\n",
      "frac value 0.45\n"
     ]
    }
   ],
   "source": [
    "def downsample(features, target, fraction):\n",
    "    features_zeros=features[target==0]\n",
    "    features_ones =features[target==1]\n",
    "    target_zeros =target[target==0]\n",
    "    target_ones =target[target==1]\n",
    "    \n",
    "    features_downsampled=pd.concat([features_zeros.sample(frac=fraction, random_state=12345)] + [features_ones])\n",
    "    target_downsampled=pd.concat([target_zeros.sample(frac=fraction, random_state=12345)]+[target_ones])\n",
    "    \n",
    "    features_downsampled, target_downsampled = shuffle(features_downsampled,\n",
    "                                                  target_downsampled, random_state=12345)\n",
    "    return features_downsampled, target_downsampled\n",
    "\n",
    "best_f1_score=0\n",
    "best_value_d=0\n",
    "for value in np.arange(0,1.05,0.05):\n",
    "    features_downsampled, target_downsampled=downsample(features_train,target_train,value)\n",
    "    model= DecisionTreeClassifier(random_state=12345, max_depth=5)\n",
    "    model.fit(features_downsampled, target_downsampled)\n",
    "    predicted_valid=model.predict(features_valid)\n",
    "    score=f1_score(target_valid, predicted_valid)\n",
    "    if score> best_f1_score:\n",
    "        best_f1_score=score\n",
    "        best_value_d=value\n",
    "        \n",
    "print('F1 score: ',best_f1_score) \n",
    "print('frac value',best_value_d)\n",
    "features_downsampled, target_downsampled=downsample(features_train,target_train,best_value_d)"
   ]
  },
  {
   "cell_type": "code",
   "execution_count": 26,
   "metadata": {},
   "outputs": [
    {
     "name": "stdout",
     "output_type": "stream",
     "text": [
      "f1_score:  0.5153970826580228\n",
      "accuracy: 0.8055\n"
     ]
    }
   ],
   "source": [
    "model= DecisionTreeClassifier(random_state=12345, max_depth=best_depth, class_weight='balanced')\n",
    "model.fit(features_upsampled,target_upsampled)\n",
    "predict_valid=model.predict(features_valid)\n",
    "\n",
    "print('f1_score: ',f1_score(target_valid,predicted_valid))\n",
    "print('accuracy:', model.score(features_valid, target_valid))"
   ]
  },
  {
   "cell_type": "code",
   "execution_count": 27,
   "metadata": {
    "scrolled": true
   },
   "outputs": [
    {
     "name": "stdout",
     "output_type": "stream",
     "text": [
      "f1_score:  0.6054421768707483\n",
      "accuracy: 0.826\n"
     ]
    }
   ],
   "source": [
    "model_decisiontree_final= DecisionTreeClassifier(random_state=12345, max_depth=best_depth)\n",
    "model_decisiontree_final.fit(features_upsampled,target_upsampled)\n",
    "predict_valid=model_decisiontree_final.predict(features_valid)\n",
    "\n",
    "model_decisiontree_f1=f1_score(target_valid,predict_valid)\n",
    "model_decisiontree_acc= model_decisiontree_final.score(features_valid, target_valid)\n",
    "print('f1_score: ',f1_score(target_valid,predict_valid))\n",
    "print('accuracy:', model_decisiontree_final.score(features_valid, target_valid))\n"
   ]
  },
  {
   "cell_type": "markdown",
   "metadata": {},
   "source": [
    "In this section, we analysed the AUC for the ROC curve. For the DecissionTreeClassifier selected, we observed a value of 0.82, which means that our model performed better and obtained hight TPR values than the random model. "
   ]
  },
  {
   "cell_type": "code",
   "execution_count": 28,
   "metadata": {},
   "outputs": [
    {
     "data": {
      "text/plain": [
       "<Figure size 576x396 with 0 Axes>"
      ]
     },
     "metadata": {},
     "output_type": "display_data"
    },
    {
     "data": {
      "image/png": "[encoded data removed]",
      "text/plain": [
       "<Figure size 576x396 with 1 Axes>"
      ]
     },
     "metadata": {
      "image/png": {
       "height": 358,
       "width": 503
      }
     },
     "output_type": "display_data"
    }
   ],
   "source": [
    "#AUC_ROC \n",
    "\n",
    "probabilities_valid=model_decisiontree_final.predict_proba(features_valid)\n",
    "probabilities_one_valid=probabilities_valid[:,1]\n",
    "fpr,tpr, thresholds =roc_curve(target_valid,probabilities_one_valid)\n",
    "plt.figure()\n",
    "plt.figure()\n",
    "plt.plot(fpr,tpr)\n",
    "plt.plot([0,1],[0,1], linestyle='--')\n",
    "plt.xlim([0.0,1.0])\n",
    "plt.ylim([0.0,1.0])\n",
    "plt.xlabel('FPR')\n",
    "plt.ylabel('TPR')\n",
    "plt.title('ROC Curve')\n",
    "plt.show()\n",
    "plt.show()\n",
    "\n"
   ]
  },
  {
   "cell_type": "code",
   "execution_count": 29,
   "metadata": {},
   "outputs": [
    {
     "name": "stdout",
     "output_type": "stream",
     "text": [
      "0.8206921164536441\n"
     ]
    }
   ],
   "source": [
    "#AUC\n",
    "auc_model_1=roc_auc_score(target_valid,probabilities_one_valid)\n",
    "print(auc_model_1)"
   ]
  },
  {
   "cell_type": "markdown",
   "metadata": {},
   "source": [
    "## Model 2: RandomForest\n",
    "In this section we split the `data` into training, validation, and testing dataset in 2:1:1 ratio, or 60%, 20%, and 20%, respectively. The data was transformed with means of OrdinalEncoder, as shown below. However, the columns that were cardinal features were kept as they were originally present in the data, and then transformed with means of feature scaling, as shown below. The resulting dimensions for features and target for the training, validation, and testing set were prited below. "
   ]
  },
  {
   "cell_type": "code",
   "execution_count": 30,
   "metadata": {
    "scrolled": false
   },
   "outputs": [
    {
     "name": "stdout",
     "output_type": "stream",
     "text": [
      "features_train:      (6000, 13)\n",
      "target_train:        (6000,)\n",
      "features_validation: (2000, 13)\n",
      "target_validation:   (2000,)\n",
      "features_test:       (2000, 13)\n",
      "target_test:         (2000,)\n"
     ]
    },
    {
     "name": "stderr",
     "output_type": "stream",
     "text": [
      "/tmp/ipykernel_84/1252073535.py:22: SettingWithCopyWarning: \n",
      "A value is trying to be set on a copy of a slice from a DataFrame.\n",
      "Try using .loc[row_indexer,col_indexer] = value instead\n",
      "\n",
      "See the caveats in the documentation: https://pandas.pydata.org/pandas-docs/stable/user_guide/indexing.html#returning-a-view-versus-a-copy\n",
      "  features_train[numeric]=scaler.transform(features_train[numeric])\n",
      "/opt/conda/lib/python3.9/site-packages/pandas/core/indexing.py:1738: SettingWithCopyWarning: \n",
      "A value is trying to be set on a copy of a slice from a DataFrame.\n",
      "Try using .loc[row_indexer,col_indexer] = value instead\n",
      "\n",
      "See the caveats in the documentation: https://pandas.pydata.org/pandas-docs/stable/user_guide/indexing.html#returning-a-view-versus-a-copy\n",
      "  self._setitem_single_column(loc, value[:, i].tolist(), pi)\n",
      "/tmp/ipykernel_84/1252073535.py:23: SettingWithCopyWarning: \n",
      "A value is trying to be set on a copy of a slice from a DataFrame.\n",
      "Try using .loc[row_indexer,col_indexer] = value instead\n",
      "\n",
      "See the caveats in the documentation: https://pandas.pydata.org/pandas-docs/stable/user_guide/indexing.html#returning-a-view-versus-a-copy\n",
      "  features_valid[numeric]=scaler.transform(features_valid[numeric])\n",
      "/opt/conda/lib/python3.9/site-packages/pandas/core/indexing.py:1738: SettingWithCopyWarning: \n",
      "A value is trying to be set on a copy of a slice from a DataFrame.\n",
      "Try using .loc[row_indexer,col_indexer] = value instead\n",
      "\n",
      "See the caveats in the documentation: https://pandas.pydata.org/pandas-docs/stable/user_guide/indexing.html#returning-a-view-versus-a-copy\n",
      "  self._setitem_single_column(loc, value[:, i].tolist(), pi)\n",
      "/tmp/ipykernel_84/1252073535.py:24: SettingWithCopyWarning: \n",
      "A value is trying to be set on a copy of a slice from a DataFrame.\n",
      "Try using .loc[row_indexer,col_indexer] = value instead\n",
      "\n",
      "See the caveats in the documentation: https://pandas.pydata.org/pandas-docs/stable/user_guide/indexing.html#returning-a-view-versus-a-copy\n",
      "  features_test[numeric]=scaler.transform(features_test[numeric])\n",
      "/opt/conda/lib/python3.9/site-packages/pandas/core/indexing.py:1738: SettingWithCopyWarning: \n",
      "A value is trying to be set on a copy of a slice from a DataFrame.\n",
      "Try using .loc[row_indexer,col_indexer] = value instead\n",
      "\n",
      "See the caveats in the documentation: https://pandas.pydata.org/pandas-docs/stable/user_guide/indexing.html#returning-a-view-versus-a-copy\n",
      "  self._setitem_single_column(loc, value[:, i].tolist(), pi)\n"
     ]
    }
   ],
   "source": [
    "encoder= OrdinalEncoder()\n",
    "data_ordinal=pd.DataFrame(encoder.fit_transform(data),columns=data.columns)\n",
    "data_ordinal['creditscore']=data['creditscore']\n",
    "data_ordinal['age']=data['age']\n",
    "data_ordinal['tenure']=data['tenure']\n",
    "data_ordinal['balance']=data['balance']\n",
    "data_ordinal['numofproducts']=data['numofproducts']\n",
    "data_ordinal['estimatedsalary']=data['estimatedsalary']\n",
    "\n",
    "features = data_ordinal.drop('exited',axis=1)\n",
    "target = data_ordinal['exited']\n",
    "\n",
    "features_train, features_rem, target_train, target_rem = train_test_split(\n",
    "    features, target, train_size=0.6, random_state=12345)\n",
    "\n",
    "features_valid, features_test, target_valid, target_test = train_test_split(\n",
    "    features_rem, target_rem, test_size=0.5,random_state=12345)\n",
    "\n",
    "numeric=['creditscore', 'age', 'tenure','balance','numofproducts', 'estimatedsalary']\n",
    "scaler=StandardScaler()\n",
    "scaler.fit(features_train[numeric])\n",
    "features_train[numeric]=scaler.transform(features_train[numeric])\n",
    "features_valid[numeric]=scaler.transform(features_valid[numeric])\n",
    "features_test[numeric]=scaler.transform(features_test[numeric])\n",
    "\n",
    "\n",
    "print(f'features_train:      {features_train.shape}')\n",
    "print(f'target_train:        {target_train.shape}')\n",
    "\n",
    "print(f'features_validation: {features_valid.shape}')\n",
    "print(f'target_validation:   {target_valid.shape}')\n",
    "\n",
    "print(f'features_test:       {features_test.shape}')\n",
    "print(f'target_test:         {target_test.shape}')"
   ]
  },
  {
   "cell_type": "markdown",
   "metadata": {},
   "source": [
    "In this section, we used the GridSearchCV function to find the optimal value combinations for the hyperparameters `max_depth, min_samples_split,`and `min_samples_leaf`, that would give us the highest F1 score. From the GridSearchCV function, we found that the optimal value combinations for these hyperparamets were 'max_depth': None, 'min_samples_leaf': 2, 'min_samples_split': 3 and  'n_estimators' paramater and we found that the optimal value was 47, which resulted in a F1 score of 0.605 and accuracy score of 0.857. "
   ]
  },
  {
   "cell_type": "code",
   "execution_count": 31,
   "metadata": {
    "scrolled": false
   },
   "outputs": [
    {
     "name": "stdout",
     "output_type": "stream",
     "text": [
      "Number of combinations:  900\n"
     ]
    }
   ],
   "source": [
    "n_estimators=list(range(1,50,2))\n",
    "max_depth_list=list(range(1,3))\n",
    "max_depth_list.append(None)\n",
    "min_samples_split_list= [x for x in list(range(0,4))]\n",
    "min_samples_leaf_list=[x for x in list(range(1,4))]\n",
    "\n",
    "\n",
    "params_grid= {\n",
    "    'n_estimators':n_estimators,\n",
    "    'max_depth' : max_depth_list,\n",
    "    'min_samples_split' : min_samples_split_list,\n",
    "    'min_samples_leaf' : min_samples_leaf_list,\n",
    "    \n",
    "}\n",
    "\n",
    "num_combinations =1 \n",
    "for k in params_grid.keys(): num_combinations *=len(params_grid[k])\n",
    "print('Number of combinations: ', num_combinations)\n"
   ]
  },
  {
   "cell_type": "code",
   "execution_count": 32,
   "metadata": {
    "scrolled": false
   },
   "outputs": [
    {
     "name": "stderr",
     "output_type": "stream",
     "text": [
      "/opt/conda/lib/python3.9/site-packages/sklearn/model_selection/_search.py:918: UserWarning: One or more of the test scores are non-finite: [       nan        nan        nan        nan        nan        nan\n",
      "        nan        nan        nan        nan        nan        nan\n",
      "        nan        nan        nan        nan        nan        nan\n",
      "        nan        nan        nan        nan        nan        nan\n",
      "        nan        nan        nan        nan        nan        nan\n",
      "        nan        nan        nan        nan        nan        nan\n",
      "        nan        nan        nan        nan        nan        nan\n",
      "        nan        nan        nan        nan        nan        nan\n",
      "        nan        nan 0.60983333 0.74166667 0.69866667 0.68116667\n",
      " 0.70183333 0.73533333 0.7135     0.71383333 0.73383333 0.72333333\n",
      " 0.7455     0.76816667 0.74816667 0.72183333 0.74       0.75616667\n",
      " 0.742      0.741      0.75583333 0.75683333 0.73783333 0.76183333\n",
      " 0.73916667 0.75083333 0.7525     0.617      0.741      0.69033333\n",
      " 0.67633333 0.7255     0.732      0.73166667 0.72183333 0.7465\n",
      " 0.74016667 0.75283333 0.75       0.74       0.75433333 0.751\n",
      " 0.74183333 0.747      0.74533333 0.77633333 0.74633333 0.74233333\n",
      " 0.7535     0.74533333 0.76766667 0.74816667        nan        nan\n",
      "        nan        nan        nan        nan        nan        nan\n",
      "        nan        nan        nan        nan        nan        nan\n",
      "        nan        nan        nan        nan        nan        nan\n",
      "        nan        nan        nan        nan        nan        nan\n",
      "        nan        nan        nan        nan        nan        nan\n",
      "        nan        nan        nan        nan        nan        nan\n",
      "        nan        nan        nan        nan        nan        nan\n",
      "        nan        nan        nan        nan        nan        nan\n",
      " 0.70533333 0.62666667 0.704      0.74033333 0.71433333 0.73983333\n",
      " 0.727      0.72416667 0.73816667 0.7375     0.7515     0.75066667\n",
      " 0.72883333 0.75033333 0.74866667 0.75666667 0.75133333 0.758\n",
      " 0.7575     0.7355     0.74416667 0.765      0.75866667 0.7605\n",
      " 0.73783333 0.71666667 0.62833333 0.615      0.7085     0.65966667\n",
      " 0.716      0.74516667 0.74       0.73866667 0.72866667 0.72733333\n",
      " 0.72116667 0.7185     0.7335     0.74216667 0.725      0.75616667\n",
      " 0.73833333 0.73733333 0.734      0.74616667 0.7335     0.7465\n",
      " 0.7415     0.753             nan        nan        nan        nan\n",
      "        nan        nan        nan        nan        nan        nan\n",
      "        nan        nan        nan        nan        nan        nan\n",
      "        nan        nan        nan        nan        nan        nan\n",
      "        nan        nan        nan        nan        nan        nan\n",
      "        nan        nan        nan        nan        nan        nan\n",
      "        nan        nan        nan        nan        nan        nan\n",
      "        nan        nan        nan        nan        nan        nan\n",
      "        nan        nan        nan        nan 0.6135     0.6615\n",
      " 0.69866667 0.69916667 0.7125     0.693      0.75       0.72916667\n",
      " 0.737      0.73716667 0.753      0.74816667 0.7255     0.73733333\n",
      " 0.747      0.76566667 0.7475     0.7595     0.76933333 0.75016667\n",
      " 0.74266667 0.7215     0.748      0.753      0.7615     0.699\n",
      " 0.642      0.751      0.67966667 0.73633333 0.6845     0.6905\n",
      " 0.74116667 0.7505     0.72566667 0.74416667 0.74883333 0.75466667\n",
      " 0.74716667 0.751      0.76066667 0.7415     0.73783333 0.73583333\n",
      " 0.7465     0.74433333 0.751      0.7405     0.74433333 0.75133333\n",
      "        nan        nan        nan        nan        nan        nan\n",
      "        nan        nan        nan        nan        nan        nan\n",
      "        nan        nan        nan        nan        nan        nan\n",
      "        nan        nan        nan        nan        nan        nan\n",
      "        nan        nan        nan        nan        nan        nan\n",
      "        nan        nan        nan        nan        nan        nan\n",
      "        nan        nan        nan        nan        nan        nan\n",
      "        nan        nan        nan        nan        nan        nan\n",
      "        nan        nan 0.7145     0.72616667 0.75016667 0.757\n",
      " 0.75516667 0.75316667 0.7215     0.74816667 0.74566667 0.74933333\n",
      " 0.7685     0.76533333 0.75183333 0.77383333 0.75733333 0.74183333\n",
      " 0.75733333 0.75816667 0.77833333 0.7675     0.75783333 0.75816667\n",
      " 0.7605     0.7725     0.768      0.62283333 0.70816667 0.70566667\n",
      " 0.74183333 0.74016667 0.7315     0.77233333 0.74766667 0.76383333\n",
      " 0.75633333 0.77183333 0.75033333 0.76716667 0.755      0.776\n",
      " 0.76866667 0.7495     0.76333333 0.75933333 0.765      0.75383333\n",
      " 0.7705     0.76383333 0.76883333 0.743             nan        nan\n",
      "        nan        nan        nan        nan        nan        nan\n",
      "        nan        nan        nan        nan        nan        nan\n",
      "        nan        nan        nan        nan        nan        nan\n",
      "        nan        nan        nan        nan        nan        nan\n",
      "        nan        nan        nan        nan        nan        nan\n",
      "        nan        nan        nan        nan        nan        nan\n",
      "        nan        nan        nan        nan        nan        nan\n",
      "        nan        nan        nan        nan        nan        nan\n",
      " 0.64066667 0.70866667 0.74333333 0.73116667 0.781      0.77283333\n",
      " 0.725      0.75283333 0.75916667 0.76483333 0.7715     0.74183333\n",
      " 0.7495     0.77083333 0.765      0.76266667 0.78483333 0.762\n",
      " 0.75016667 0.76933333 0.75016667 0.75433333 0.75933333 0.77516667\n",
      " 0.76216667 0.5325     0.7385     0.75033333 0.75783333 0.74766667\n",
      " 0.7465     0.76816667 0.76716667 0.74116667 0.76766667 0.742\n",
      " 0.76116667 0.775      0.75616667 0.75816667 0.7595     0.76683333\n",
      " 0.75366667 0.768      0.76966667 0.7615     0.7585     0.75066667\n",
      " 0.76533333 0.76566667        nan        nan        nan        nan\n",
      "        nan        nan        nan        nan        nan        nan\n",
      "        nan        nan        nan        nan        nan        nan\n",
      "        nan        nan        nan        nan        nan        nan\n",
      "        nan        nan        nan        nan        nan        nan\n",
      "        nan        nan        nan        nan        nan        nan\n",
      "        nan        nan        nan        nan        nan        nan\n",
      "        nan        nan        nan        nan        nan        nan\n",
      "        nan        nan        nan        nan 0.62783333 0.72566667\n",
      " 0.76466667 0.75833333 0.7565     0.72333333 0.761      0.75616667\n",
      " 0.76166667 0.7605     0.76016667 0.76016667 0.76116667 0.76916667\n",
      " 0.75133333 0.76216667 0.76666667 0.76783333 0.75616667 0.77366667\n",
      " 0.76366667 0.7735     0.758      0.76483333 0.76183333 0.61216667\n",
      " 0.68433333 0.73883333 0.76166667 0.745      0.7455     0.74866667\n",
      " 0.737      0.73883333 0.77583333 0.76066667 0.77133333 0.78266667\n",
      " 0.747      0.76966667 0.76516667 0.74416667 0.776      0.76833333\n",
      " 0.75466667 0.76066667 0.745      0.76266667 0.7535     0.763\n",
      "        nan        nan        nan        nan        nan        nan\n",
      "        nan        nan        nan        nan        nan        nan\n",
      "        nan        nan        nan        nan        nan        nan\n",
      "        nan        nan        nan        nan        nan        nan\n",
      "        nan        nan        nan        nan        nan        nan\n",
      "        nan        nan        nan        nan        nan        nan\n",
      "        nan        nan        nan        nan        nan        nan\n",
      "        nan        nan        nan        nan        nan        nan\n",
      "        nan        nan 0.77       0.81766667 0.8325     0.83866667\n",
      " 0.83983333 0.849      0.847      0.8505     0.85583333 0.84966667\n",
      " 0.855      0.85483333 0.85233333 0.85483333 0.8555     0.85383333\n",
      " 0.8535     0.85633333 0.85483333 0.85466667 0.857      0.858\n",
      " 0.85766667 0.85783333 0.85783333 0.7675     0.81316667 0.83016667\n",
      " 0.83533333 0.84716667 0.84583333 0.84866667 0.84866667 0.85033333\n",
      " 0.8535     0.85566667 0.85233333 0.85133333 0.85533333 0.85433333\n",
      " 0.8575     0.8555     0.8515     0.855      0.85633333 0.85533333\n",
      " 0.85583333 0.857      0.85833333 0.85483333        nan        nan\n",
      "        nan        nan        nan        nan        nan        nan\n",
      "        nan        nan        nan        nan        nan        nan\n",
      "        nan        nan        nan        nan        nan        nan\n",
      "        nan        nan        nan        nan        nan        nan\n",
      "        nan        nan        nan        nan        nan        nan\n",
      "        nan        nan        nan        nan        nan        nan\n",
      "        nan        nan        nan        nan        nan        nan\n",
      "        nan        nan        nan        nan        nan        nan\n",
      " 0.746      0.80383333 0.82483333 0.83483333 0.84016667 0.842\n",
      " 0.84566667 0.85216667 0.84433333 0.85633333 0.85666667 0.84966667\n",
      " 0.85616667 0.8525     0.85483333 0.85816667 0.859      0.85616667\n",
      " 0.85783333 0.85583333 0.856      0.85866667 0.85766667 0.8605\n",
      " 0.857      0.74033333 0.80433333 0.83116667 0.828      0.84316667\n",
      " 0.841      0.85       0.85066667 0.85       0.85216667 0.8565\n",
      " 0.857      0.85166667 0.85633333 0.85583333 0.8575     0.85416667\n",
      " 0.856      0.85916667 0.855      0.85733333 0.86033333 0.85833333\n",
      " 0.85716667 0.85916667        nan        nan        nan        nan\n",
      "        nan        nan        nan        nan        nan        nan\n",
      "        nan        nan        nan        nan        nan        nan\n",
      "        nan        nan        nan        nan        nan        nan\n",
      "        nan        nan        nan        nan        nan        nan\n",
      "        nan        nan        nan        nan        nan        nan\n",
      "        nan        nan        nan        nan        nan        nan\n",
      "        nan        nan        nan        nan        nan        nan\n",
      "        nan        nan        nan        nan 0.722      0.80733333\n",
      " 0.8275     0.82716667 0.8395     0.84616667 0.84466667 0.84833333\n",
      " 0.8505     0.8495     0.848      0.85166667 0.8525     0.85466667\n",
      " 0.85483333 0.85633333 0.85483333 0.853      0.8535     0.855\n",
      " 0.85433333 0.8555     0.857      0.85683333 0.85433333 0.703\n",
      " 0.8        0.817      0.83116667 0.8405     0.84133333 0.8455\n",
      " 0.84633333 0.852      0.85483333 0.85383333 0.85183333 0.8535\n",
      " 0.852      0.85366667 0.858      0.853      0.85733333 0.85233333\n",
      " 0.8535     0.8555     0.85166667 0.85183333 0.85266667 0.85583333]\n",
      "  warnings.warn(\n",
      "/opt/conda/lib/python3.9/site-packages/sklearn/model_selection/_search.py:918: UserWarning: One or more of the train scores are non-finite: [       nan        nan        nan        nan        nan        nan\n",
      "        nan        nan        nan        nan        nan        nan\n",
      "        nan        nan        nan        nan        nan        nan\n",
      "        nan        nan        nan        nan        nan        nan\n",
      "        nan        nan        nan        nan        nan        nan\n",
      "        nan        nan        nan        nan        nan        nan\n",
      "        nan        nan        nan        nan        nan        nan\n",
      "        nan        nan        nan        nan        nan        nan\n",
      "        nan        nan 0.60375    0.75125    0.70216667 0.67733333\n",
      " 0.711      0.73691667 0.71466667 0.71408333 0.73233333 0.72441667\n",
      " 0.74733333 0.76875    0.7485     0.72241667 0.73758333 0.75983333\n",
      " 0.74191667 0.742      0.75816667 0.75666667 0.73758333 0.75875\n",
      " 0.74683333 0.75516667 0.76233333 0.61791667 0.74158333 0.69925\n",
      " 0.68166667 0.72391667 0.7345     0.73533333 0.71908333 0.75033333\n",
      " 0.74258333 0.76233333 0.75591667 0.74058333 0.76266667 0.75208333\n",
      " 0.74133333 0.74808333 0.74883333 0.77941667 0.743      0.74183333\n",
      " 0.75983333 0.7455     0.77633333 0.74741667        nan        nan\n",
      "        nan        nan        nan        nan        nan        nan\n",
      "        nan        nan        nan        nan        nan        nan\n",
      "        nan        nan        nan        nan        nan        nan\n",
      "        nan        nan        nan        nan        nan        nan\n",
      "        nan        nan        nan        nan        nan        nan\n",
      "        nan        nan        nan        nan        nan        nan\n",
      "        nan        nan        nan        nan        nan        nan\n",
      "        nan        nan        nan        nan        nan        nan\n",
      " 0.70983333 0.63416667 0.70591667 0.75466667 0.72933333 0.74625\n",
      " 0.73158333 0.72525    0.73533333 0.73775    0.75391667 0.75733333\n",
      " 0.73808333 0.75808333 0.75183333 0.76408333 0.75616667 0.76516667\n",
      " 0.76341667 0.73666667 0.747      0.76491667 0.75916667 0.76075\n",
      " 0.73775    0.7245     0.63425    0.61333333 0.71025    0.67008333\n",
      " 0.71375    0.74991667 0.741      0.73933333 0.73325    0.73108333\n",
      " 0.734      0.72266667 0.73391667 0.74566667 0.72533333 0.76141667\n",
      " 0.74175    0.74533333 0.73533333 0.74808333 0.73458333 0.7485\n",
      " 0.74358333 0.753             nan        nan        nan        nan\n",
      "        nan        nan        nan        nan        nan        nan\n",
      "        nan        nan        nan        nan        nan        nan\n",
      "        nan        nan        nan        nan        nan        nan\n",
      "        nan        nan        nan        nan        nan        nan\n",
      "        nan        nan        nan        nan        nan        nan\n",
      "        nan        nan        nan        nan        nan        nan\n",
      "        nan        nan        nan        nan        nan        nan\n",
      "        nan        nan        nan        nan 0.60191667 0.66466667\n",
      " 0.70708333 0.70141667 0.71808333 0.6995     0.75525    0.72841667\n",
      " 0.73666667 0.73733333 0.75433333 0.75133333 0.73183333 0.7385\n",
      " 0.7465     0.7735     0.74733333 0.76816667 0.77758333 0.75566667\n",
      " 0.75033333 0.73075    0.74525    0.755      0.76391667 0.70408333\n",
      " 0.64283333 0.75116667 0.6865     0.736      0.68116667 0.70683333\n",
      " 0.74166667 0.75558333 0.73325    0.75008333 0.74375    0.75875\n",
      " 0.74866667 0.74508333 0.76025    0.75083333 0.74575    0.74058333\n",
      " 0.75266667 0.744      0.75141667 0.73491667 0.7565     0.76275\n",
      "        nan        nan        nan        nan        nan        nan\n",
      "        nan        nan        nan        nan        nan        nan\n",
      "        nan        nan        nan        nan        nan        nan\n",
      "        nan        nan        nan        nan        nan        nan\n",
      "        nan        nan        nan        nan        nan        nan\n",
      "        nan        nan        nan        nan        nan        nan\n",
      "        nan        nan        nan        nan        nan        nan\n",
      "        nan        nan        nan        nan        nan        nan\n",
      "        nan        nan 0.72108333 0.73316667 0.7565     0.75891667\n",
      " 0.75783333 0.75683333 0.71991667 0.753      0.74608333 0.74683333\n",
      " 0.77191667 0.76633333 0.75425    0.77733333 0.75783333 0.74966667\n",
      " 0.76283333 0.75858333 0.77625    0.77616667 0.75933333 0.75608333\n",
      " 0.76416667 0.773      0.77483333 0.62225    0.7145     0.70958333\n",
      " 0.74141667 0.74483333 0.73833333 0.77925    0.75325    0.76158333\n",
      " 0.766      0.78191667 0.74808333 0.77033333 0.75841667 0.77583333\n",
      " 0.76608333 0.75783333 0.76283333 0.76466667 0.76908333 0.75741667\n",
      " 0.77725    0.76858333 0.77108333 0.74725           nan        nan\n",
      "        nan        nan        nan        nan        nan        nan\n",
      "        nan        nan        nan        nan        nan        nan\n",
      "        nan        nan        nan        nan        nan        nan\n",
      "        nan        nan        nan        nan        nan        nan\n",
      "        nan        nan        nan        nan        nan        nan\n",
      "        nan        nan        nan        nan        nan        nan\n",
      "        nan        nan        nan        nan        nan        nan\n",
      "        nan        nan        nan        nan        nan        nan\n",
      " 0.63825    0.713      0.74675    0.73416667 0.78308333 0.76941667\n",
      " 0.72975    0.75866667 0.75633333 0.76783333 0.783      0.74616667\n",
      " 0.755      0.77483333 0.77475    0.76283333 0.77891667 0.76833333\n",
      " 0.75716667 0.77041667 0.75233333 0.757      0.76175    0.77966667\n",
      " 0.76475    0.53666667 0.73583333 0.75541667 0.76325    0.74141667\n",
      " 0.75366667 0.766      0.7705     0.74408333 0.7785     0.74816667\n",
      " 0.76333333 0.77883333 0.76741667 0.77225    0.76975    0.77141667\n",
      " 0.76625    0.76883333 0.77116667 0.765      0.76566667 0.75975\n",
      " 0.77083333 0.76841667        nan        nan        nan        nan\n",
      "        nan        nan        nan        nan        nan        nan\n",
      "        nan        nan        nan        nan        nan        nan\n",
      "        nan        nan        nan        nan        nan        nan\n",
      "        nan        nan        nan        nan        nan        nan\n",
      "        nan        nan        nan        nan        nan        nan\n",
      "        nan        nan        nan        nan        nan        nan\n",
      "        nan        nan        nan        nan        nan        nan\n",
      "        nan        nan        nan        nan 0.63175    0.72441667\n",
      " 0.77433333 0.75833333 0.75741667 0.72983333 0.76116667 0.75741667\n",
      " 0.76841667 0.75875    0.75925    0.76141667 0.76866667 0.77266667\n",
      " 0.75816667 0.7665     0.76941667 0.76883333 0.75783333 0.77333333\n",
      " 0.76058333 0.77416667 0.76175    0.76183333 0.768      0.62308333\n",
      " 0.6925     0.74308333 0.77258333 0.7545     0.74925    0.74866667\n",
      " 0.73675    0.74083333 0.77758333 0.768      0.76991667 0.77925\n",
      " 0.75058333 0.77233333 0.77166667 0.74608333 0.77541667 0.76908333\n",
      " 0.75891667 0.76216667 0.75066667 0.76341667 0.7535     0.76125\n",
      "        nan        nan        nan        nan        nan        nan\n",
      "        nan        nan        nan        nan        nan        nan\n",
      "        nan        nan        nan        nan        nan        nan\n",
      "        nan        nan        nan        nan        nan        nan\n",
      "        nan        nan        nan        nan        nan        nan\n",
      "        nan        nan        nan        nan        nan        nan\n",
      "        nan        nan        nan        nan        nan        nan\n",
      "        nan        nan        nan        nan        nan        nan\n",
      "        nan        nan 0.916      0.96166667 0.97866667 0.98341667\n",
      " 0.98891667 0.99033333 0.99325    0.995      0.99591667 0.99633333\n",
      " 0.99575    0.99758333 0.99808333 0.99833333 0.99841667 0.99866667\n",
      " 0.99933333 0.99883333 0.99916667 0.99925    0.99958333 0.9995\n",
      " 0.99933333 0.99933333 0.99966667 0.90708333 0.95975    0.97366667\n",
      " 0.9835     0.98708333 0.99008333 0.9925     0.99516667 0.99441667\n",
      " 0.99516667 0.99533333 0.99675    0.997      0.9965     0.998\n",
      " 0.99825    0.998      0.99883333 0.99825    0.99866667 0.99866667\n",
      " 0.99933333 0.99916667 0.99916667 0.99941667        nan        nan\n",
      "        nan        nan        nan        nan        nan        nan\n",
      "        nan        nan        nan        nan        nan        nan\n",
      "        nan        nan        nan        nan        nan        nan\n",
      "        nan        nan        nan        nan        nan        nan\n",
      "        nan        nan        nan        nan        nan        nan\n",
      "        nan        nan        nan        nan        nan        nan\n",
      "        nan        nan        nan        nan        nan        nan\n",
      "        nan        nan        nan        nan        nan        nan\n",
      " 0.871      0.938      0.9575     0.97258333 0.977      0.98008333\n",
      " 0.98066667 0.98566667 0.98658333 0.98833333 0.98866667 0.98966667\n",
      " 0.98916667 0.9905     0.9915     0.99141667 0.99133333 0.99075\n",
      " 0.99316667 0.99325    0.99208333 0.99316667 0.99433333 0.99366667\n",
      " 0.9925     0.86183333 0.93941667 0.95983333 0.97191667 0.97616667\n",
      " 0.97825    0.98341667 0.98433333 0.98516667 0.98625    0.98916667\n",
      " 0.98841667 0.99008333 0.991      0.99158333 0.99241667 0.99141667\n",
      " 0.9925     0.99258333 0.99216667 0.99283333 0.9935     0.99325\n",
      " 0.99416667 0.99358333        nan        nan        nan        nan\n",
      "        nan        nan        nan        nan        nan        nan\n",
      "        nan        nan        nan        nan        nan        nan\n",
      "        nan        nan        nan        nan        nan        nan\n",
      "        nan        nan        nan        nan        nan        nan\n",
      "        nan        nan        nan        nan        nan        nan\n",
      "        nan        nan        nan        nan        nan        nan\n",
      "        nan        nan        nan        nan        nan        nan\n",
      "        nan        nan        nan        nan 0.82116667 0.91408333\n",
      " 0.94183333 0.95608333 0.9625     0.965      0.96575    0.97041667\n",
      " 0.97308333 0.9735     0.97508333 0.97458333 0.97633333 0.97525\n",
      " 0.97683333 0.97883333 0.97816667 0.97716667 0.97941667 0.98141667\n",
      " 0.98091667 0.979      0.98183333 0.98108333 0.98066667 0.81766667\n",
      " 0.91675    0.94033333 0.953      0.95908333 0.96483333 0.967\n",
      " 0.97025    0.97291667 0.97316667 0.974      0.97508333 0.97516667\n",
      " 0.97741667 0.97641667 0.97716667 0.97883333 0.9795     0.97816667\n",
      " 0.97891667 0.98125    0.97966667 0.98033333 0.98141667 0.97975   ]\n",
      "  warnings.warn(\n"
     ]
    },
    {
     "data": {
      "text/plain": [
       "{'max_depth': None,\n",
       " 'min_samples_leaf': 2,\n",
       " 'min_samples_split': 2,\n",
       " 'n_estimators': 47}"
      ]
     },
     "execution_count": 32,
     "metadata": {},
     "output_type": "execute_result"
    }
   ],
   "source": [
    "import warnings\n",
    "warnings.filterwarnings(\"ignore\", category=RuntimeWarning) \n",
    "\n",
    "model_rf=GridSearchCV(estimator=RandomForestClassifier(class_weight='balanced'),\n",
    "                                                            param_grid=params_grid,\n",
    "                                                            cv=3,\n",
    "                                                            scoring='f1_micro',\n",
    "                                                            return_train_score=True,\n",
    "                                                            verbose=0,\n",
    "                                                            n_jobs=1)\n",
    "                    \n",
    "\n",
    "model_rf.fit(features_train, target_train)\n",
    "model_rf.best_params_"
   ]
  },
  {
   "cell_type": "code",
   "execution_count": 33,
   "metadata": {},
   "outputs": [
    {
     "data": {
      "text/plain": [
       "{'max_depth': None,\n",
       " 'min_samples_leaf': 2,\n",
       " 'min_samples_split': 2,\n",
       " 'n_estimators': 47}"
      ]
     },
     "execution_count": 33,
     "metadata": {},
     "output_type": "execute_result"
    }
   ],
   "source": [
    "best_params=model_rf.best_params_\n",
    "n_estimator_result=best_params['n_estimators']\n",
    "max_depth_result=best_params['max_depth']\n",
    "min_leaf_result=best_params['min_samples_leaf']\n",
    "min_split_result=best_params['min_samples_split']\n",
    "best_params"
   ]
  },
  {
   "cell_type": "markdown",
   "metadata": {},
   "source": [
    "below is the RandomForestClassifier model with the tuned hyperparameters. "
   ]
  },
  {
   "cell_type": "code",
   "execution_count": 34,
   "metadata": {
    "scrolled": true
   },
   "outputs": [
    {
     "name": "stdout",
     "output_type": "stream",
     "text": [
      "f1_score:  0.5611285266457681\n",
      "accuracy: 0.86\n"
     ]
    }
   ],
   "source": [
    "model_randomforest=RandomForestClassifier(n_estimators=n_estimator_result,\n",
    "         min_samples_split=min_split_result,\n",
    "         min_samples_leaf=min_leaf_result,\n",
    "         max_features='sqrt',\n",
    "         max_depth=max_depth_result,\n",
    "         criterion= 'gini', random_state=12345)\n",
    "    \n",
    "model_randomforest.fit(features_train,target_train)\n",
    "predict_valid=model_randomforest.predict(features_valid)\n",
    "\n",
    "print('f1_score: ',f1_score(target_valid,predict_valid))\n",
    "print('accuracy:', model_randomforest.score(features_valid, target_valid))\n"
   ]
  },
  {
   "cell_type": "markdown",
   "metadata": {},
   "source": [
    "In this section, we analyzed the balance of classes in the target column `exited`. We found out that there were was an inbalance of classes, and that class 0 had 79.6% of data, while class 1 had 20.4%. The techniques used to improve the quality of the model by fixing the inbalance of classes were `upsampling` of the class 1, and `downsampling` of the class 0. These techniques are shown below. From these techniques, we found that upsampling class 1 with a factor of 6 was the optimal factor for usampling. The F1 score we obtained from upsampling class 1 was 0.597. However, we did not see an improvement from upsampling of class 1, but downsampling class 0  we obtained an F1 score of 0.608 from donwsampling class 0. The optimal frac value for downsampling was 0.4. Another technique we used to improve the quality of our model was the `class_weight` parameter. We found that when `class_weight='balanced`, we obtained a f1_score of 0.53 and an accuracy score of 0.857. In contrast, when the `class_weight` was set to default 'None', then we obtained a f1_score of 0.605 and an accuracy score of 0.857. Therefore, the the model with 'class_weight'=None, 'max_depth': None, 'min_samples_leaf': 2, 'min_samples_split': 3, 'n_estimators'=33, and class zero donwsampled with frac value of 0.4, was selected for AUC of the ROC curve analysis. "
   ]
  },
  {
   "cell_type": "code",
   "execution_count": 35,
   "metadata": {},
   "outputs": [
    {
     "name": "stdout",
     "output_type": "stream",
     "text": [
      "F1 score:  0.6079182630906769\n",
      "repeat value:  6\n"
     ]
    }
   ],
   "source": [
    "#upsampling\n",
    "best_f1_score=0\n",
    "best_value_up=0\n",
    "for value in range(0,10):\n",
    "    features_upsampled, target_upsampled=upsample(features_train,target_train,value)\n",
    "    model=RandomForestClassifier(n_estimators=n_estimator_result,\n",
    "         min_samples_split=min_split_result,\n",
    "         min_samples_leaf=min_leaf_result,\n",
    "         max_features='sqrt',\n",
    "         max_depth=max_depth_result,\n",
    "         criterion= 'gini', random_state=12345)\n",
    "    model.fit(features_upsampled, target_upsampled)\n",
    "    predicted_valid=model.predict(features_valid)\n",
    "    score=f1_score(target_valid, predicted_valid)\n",
    "    if score> best_f1_score:\n",
    "        best_f1_score=score\n",
    "        best_value_up=value\n",
    "        \n",
    "print('F1 score: ',best_f1_score) \n",
    "print('repeat value: ',best_value_up)\n",
    "\n",
    "features_upsampled, target_upsampled=upsample(features_train,target_train,best_value_up)"
   ]
  },
  {
   "cell_type": "code",
   "execution_count": 36,
   "metadata": {},
   "outputs": [
    {
     "name": "stdout",
     "output_type": "stream",
     "text": [
      "F1 score:  0.6139534883720931\n",
      "frac value 0.4\n"
     ]
    }
   ],
   "source": [
    "best_f1_score_d=0\n",
    "best_value_d=0\n",
    "for value in np.arange(0,1.05,0.05):\n",
    "    features_downsampled, target_downsampled=downsample(features_train,target_train,value)\n",
    "    model= RandomForestClassifier(n_estimators=n_estimator_result,\n",
    "         min_samples_split=min_split_result,\n",
    "         min_samples_leaf=min_leaf_result,\n",
    "         max_features='sqrt',\n",
    "         max_depth=max_depth_result,\n",
    "         criterion= 'gini', random_state=12345)\n",
    "    model.fit(features_downsampled, target_downsampled)\n",
    "    predicted_valid=model.predict(features_valid)\n",
    "    score=f1_score(target_valid, predicted_valid)\n",
    "    if score> best_f1_score_d:\n",
    "        best_f1_score_d=score\n",
    "        best_value_d=value\n",
    "        \n",
    "print('F1 score: ',best_f1_score_d) \n",
    "print('frac value',best_value_d)\n",
    "features_downsampled, target_downsampled=downsample(features_train,target_train,best_value_d)"
   ]
  },
  {
   "cell_type": "code",
   "execution_count": 37,
   "metadata": {
    "scrolled": true
   },
   "outputs": [
    {
     "name": "stdout",
     "output_type": "stream",
     "text": [
      "f1_score:  0.5814977973568282\n",
      "accuracy: 0.8575\n"
     ]
    }
   ],
   "source": [
    "model_randomforest_class=RandomForestClassifier(n_estimators=n_estimator_result,\n",
    "         min_samples_split=min_split_result,\n",
    "         min_samples_leaf=min_leaf_result,\n",
    "         max_features='sqrt',\n",
    "         max_depth=max_depth_result,\n",
    "         criterion= 'gini', random_state=12345, class_weight='balanced')\n",
    "    \n",
    "model_randomforest_class.fit(features_train,target_train)\n",
    "predict_valid=model_randomforest_class.predict(features_valid)\n",
    "\n",
    "print('f1_score: ',f1_score(target_valid,predict_valid))\n",
    "print('accuracy:', model_randomforest_class.score(features_valid, target_valid))\n"
   ]
  },
  {
   "cell_type": "code",
   "execution_count": 38,
   "metadata": {},
   "outputs": [
    {
     "name": "stdout",
     "output_type": "stream",
     "text": [
      "f1_score:  0.6139534883720931\n",
      "accuracy: 0.834\n"
     ]
    }
   ],
   "source": [
    "model_randomforest_final=RandomForestClassifier(n_estimators=n_estimator_result,\n",
    "         min_samples_split=min_split_result,\n",
    "         min_samples_leaf=min_leaf_result,\n",
    "         max_features='sqrt',\n",
    "         max_depth=max_depth_result,\n",
    "         criterion= 'gini', random_state=12345)\n",
    "    \n",
    "model_randomforest_final.fit(features_downsampled, target_downsampled)\n",
    "predict_valid=model_randomforest_final.predict(features_valid)\n",
    "\n",
    "model_randomforest_f1=f1_score(target_valid,predict_valid)\n",
    "model_randomforest_acc=model_randomforest_final.score(features_valid, target_valid)\n",
    "\n",
    "print('f1_score: ',f1_score(target_valid,predict_valid))\n",
    "print('accuracy:', model_randomforest_final.score(features_valid, target_valid))"
   ]
  },
  {
   "cell_type": "markdown",
   "metadata": {},
   "source": [
    "In this section, we analysed the AUC for the ROC curve. For the RandomForestClassifier selected, we observed a value of 0.84, which means that our model performed better and obtained hight TPR values than the random model."
   ]
  },
  {
   "cell_type": "code",
   "execution_count": 39,
   "metadata": {},
   "outputs": [
    {
     "data": {
      "text/plain": [
       "<Figure size 576x396 with 0 Axes>"
      ]
     },
     "metadata": {},
     "output_type": "display_data"
    },
    {
     "data": {
      "image/png": "[encoded data removed]",
      "text/plain": [
       "<Figure size 576x396 with 1 Axes>"
      ]
     },
     "metadata": {
      "image/png": {
       "height": 358,
       "width": 503
      }
     },
     "output_type": "display_data"
    }
   ],
   "source": [
    "#AUC_ROC \n",
    "\n",
    "probabilities_valid=model_randomforest_final.predict_proba(features_valid)\n",
    "probabilities_one_valid=probabilities_valid[:,1]\n",
    "fpr,tpr, thresholds =roc_curve(target_valid,probabilities_one_valid)\n",
    "plt.figure()\n",
    "plt.figure()\n",
    "plt.plot(fpr,tpr)\n",
    "plt.plot([0,1],[0,1], linestyle='--')\n",
    "plt.xlim([0.0,1.0])\n",
    "plt.ylim([0.0,1.0])\n",
    "plt.xlabel('FPR')\n",
    "plt.ylabel('TPR')\n",
    "plt.title('ROC Curve')\n",
    "plt.show()\n",
    "plt.show()"
   ]
  },
  {
   "cell_type": "code",
   "execution_count": 40,
   "metadata": {
    "scrolled": true
   },
   "outputs": [
    {
     "name": "stdout",
     "output_type": "stream",
     "text": [
      "0.8439411077976517\n"
     ]
    }
   ],
   "source": [
    "auc_model_2=roc_auc_score(target_valid,probabilities_one_valid)\n",
    "print(auc_model_2)"
   ]
  },
  {
   "cell_type": "markdown",
   "metadata": {},
   "source": [
    "In this section, we selected the best model based on the highest F1 score from our model. We found that tthe RandomForestClassifier model perfomed better with an F1 score of 0.61, and accuracy score f 0.83, and an AUC value for the ROC curve of 0.84. Below is a summary of both models' performance with the validation test. "
   ]
  },
  {
   "cell_type": "markdown",
   "metadata": {},
   "source": [
    "## Selecting Best model\n"
   ]
  },
  {
   "cell_type": "code",
   "execution_count": 41,
   "metadata": {
    "scrolled": true
   },
   "outputs": [
    {
     "name": "stdout",
     "output_type": "stream",
     "text": [
      "DecisionTreeClassifier F1 score:       0.6054421768707483\n",
      "DecisionTreeClassider Accuracy score:  0.826\n",
      "DecisionTreeClassifier AUC score       0.8206921164536441\n",
      "\n",
      "RandomForestClassifier F1 score:       0.6139534883720931\n",
      "RandomForestClassifier Accuracy score: 0.834\n",
      "RandomForestClassifier AUC score       0.8439411077976517\n",
      "\n",
      "RandomForestClassifier model selected for further analysis\n"
     ]
    }
   ],
   "source": [
    "print('DecisionTreeClassifier F1 score:      ',model_decisiontree_f1)\n",
    "print('DecisionTreeClassider Accuracy score: ',model_decisiontree_acc)\n",
    "print('DecisionTreeClassifier AUC score      ',auc_model_1)\n",
    "print()\n",
    "\n",
    "print('RandomForestClassifier F1 score:      ',model_randomforest_f1)\n",
    "print('RandomForestClassifier Accuracy score:',model_randomforest_acc)\n",
    "print('RandomForestClassifier AUC score      ',auc_model_2)\n",
    "print()\n",
    "\n",
    "if model_decisiontree_f1>model_randomforest_f1:\n",
    "    \n",
    "    print(\"DecisionTreeClassifier model selected for further analysis\")\n",
    "if model_decisiontree_f1<model_randomforest_f1:\n",
    "    \n",
    "    print(\"RandomForestClassifier model selected for further analysis\")"
   ]
  },
  {
   "cell_type": "markdown",
   "metadata": {},
   "source": [
    "Below is the final testing of the testing data using the RandomForestClassifier model we selected as our best mode. From the final testing, we obtained an F1 score for the testing data of 0.591, an accuracy score of 0.825, and an AUC value for the ROC curve of 0.843."
   ]
  },
  {
   "cell_type": "code",
   "execution_count": 42,
   "metadata": {},
   "outputs": [
    {
     "name": "stdout",
     "output_type": "stream",
     "text": [
      "test data F1 score:  0.5906499429874573\n",
      "test data accuracy score: 0.8205\n"
     ]
    }
   ],
   "source": [
    "predict_test=model_randomforest_final.predict(features_test)\n",
    "print('test data F1 score: ',f1_score(target_test,predict_test))\n",
    "print('test data accuracy score:', model_randomforest_final.score(features_test, target_test))"
   ]
  },
  {
   "cell_type": "code",
   "execution_count": 43,
   "metadata": {},
   "outputs": [
    {
     "data": {
      "text/plain": [
       "<Figure size 576x396 with 0 Axes>"
      ]
     },
     "metadata": {},
     "output_type": "display_data"
    },
    {
     "data": {
      "image/png": "[encoded data removed]",
      "text/plain": [
       "<Figure size 576x396 with 1 Axes>"
      ]
     },
     "metadata": {
      "image/png": {
       "height": 358,
       "width": 503
      }
     },
     "output_type": "display_data"
    }
   ],
   "source": [
    "probabilities_test=model_randomforest_final.predict_proba(features_test)\n",
    "probabilities_one_test=probabilities_test[:,1]\n",
    "fpr,tpr, thresholds =roc_curve(target_test,probabilities_one_test)\n",
    "plt.figure()\n",
    "plt.figure()\n",
    "plt.plot(fpr,tpr)\n",
    "plt.plot([0,1],[0,1], linestyle='--')\n",
    "plt.xlim([0.0,1.0])\n",
    "plt.ylim([0.0,1.0])\n",
    "plt.xlabel('FPR')\n",
    "plt.ylabel('TPR')\n",
    "plt.title('ROC Curve')\n",
    "plt.show()\n",
    "plt.show()"
   ]
  },
  {
   "cell_type": "code",
   "execution_count": 44,
   "metadata": {
    "scrolled": true
   },
   "outputs": [
    {
     "name": "stdout",
     "output_type": "stream",
     "text": [
      "0.8439411077976517\n"
     ]
    }
   ],
   "source": [
    "auc_model_2=roc_auc_score(target_valid,probabilities_one_valid)\n",
    "print(auc_model_2)"
   ]
  },
  {
   "cell_type": "markdown",
   "metadata": {},
   "source": [
    "## Conclusion \n",
    "We concluded that the best model for predicting whether a client will leave Beta bank was a RandomForestClassifier model with the following tuned hyperparameters: 'max_depth': None, 'min_samples_leaf': 2,'min_samples_split': 3, and 'n_estimators': 47. We also found that downsampling class 0 from the `exiting` column to a fraction of 0.4 resulted in an F1 score of 0.591, accuracy score of 0.821, and and AUC score for the ROC curve of 0.844, for the testing data. "
   ]
  }
 ],
 "metadata": {
  "ExecuteTimeLog": [
   {
    "duration": 3,
    "start_time": "2022-06-04T16:57:42.052Z"
   },
   {
    "duration": 40,
    "start_time": "2022-06-04T16:58:00.446Z"
   },
   {
    "duration": 12,
    "start_time": "2022-06-04T16:58:12.368Z"
   },
   {
    "duration": 622,
    "start_time": "2022-06-04T17:08:32.609Z"
   },
   {
    "duration": 23,
    "start_time": "2022-06-04T17:17:17.644Z"
   },
   {
    "duration": 12,
    "start_time": "2022-06-04T17:24:45.893Z"
   },
   {
    "duration": 55,
    "start_time": "2022-06-04T21:57:04.292Z"
   },
   {
    "duration": 1051,
    "start_time": "2022-06-04T21:57:11.679Z"
   },
   {
    "duration": 79,
    "start_time": "2022-06-04T21:57:12.732Z"
   },
   {
    "duration": 20,
    "start_time": "2022-06-04T21:57:12.813Z"
   },
   {
    "duration": 12,
    "start_time": "2022-06-04T21:57:12.834Z"
   },
   {
    "duration": 4,
    "start_time": "2022-06-04T21:57:12.848Z"
   },
   {
    "duration": 105,
    "start_time": "2022-06-04T21:57:37.283Z"
   },
   {
    "duration": 8,
    "start_time": "2022-06-04T21:57:45.444Z"
   },
   {
    "duration": 5,
    "start_time": "2022-06-04T21:58:10.030Z"
   },
   {
    "duration": 5,
    "start_time": "2022-06-04T21:58:18.790Z"
   },
   {
    "duration": 5,
    "start_time": "2022-06-04T22:09:33.163Z"
   },
   {
    "duration": 5,
    "start_time": "2022-06-04T22:09:41.341Z"
   },
   {
    "duration": 8,
    "start_time": "2022-06-04T22:19:15.261Z"
   },
   {
    "duration": 21,
    "start_time": "2022-06-04T22:19:47.757Z"
   },
   {
    "duration": 103,
    "start_time": "2022-06-04T22:25:02.514Z"
   },
   {
    "duration": 17,
    "start_time": "2022-06-04T22:25:14.233Z"
   },
   {
    "duration": 11,
    "start_time": "2022-06-04T22:25:29.856Z"
   },
   {
    "duration": 25,
    "start_time": "2022-06-04T22:25:38.612Z"
   },
   {
    "duration": 10,
    "start_time": "2022-06-04T22:28:10.754Z"
   },
   {
    "duration": 3,
    "start_time": "2022-06-04T22:30:40.219Z"
   },
   {
    "duration": 1236,
    "start_time": "2022-06-04T22:31:03.706Z"
   },
   {
    "duration": 116,
    "start_time": "2022-06-04T22:31:04.943Z"
   },
   {
    "duration": 16,
    "start_time": "2022-06-04T22:31:05.061Z"
   },
   {
    "duration": 18,
    "start_time": "2022-06-04T22:31:05.079Z"
   },
   {
    "duration": 109746,
    "start_time": "2022-06-04T22:31:05.098Z"
   },
   {
    "duration": 32,
    "start_time": "2022-06-06T02:17:48.159Z"
   },
   {
    "duration": 20,
    "start_time": "2022-06-06T02:17:58.090Z"
   },
   {
    "duration": 28,
    "start_time": "2022-06-06T02:18:04.360Z"
   },
   {
    "duration": 29,
    "start_time": "2022-06-06T02:18:14.396Z"
   },
   {
    "duration": 68,
    "start_time": "2022-06-06T02:18:18.893Z"
   },
   {
    "duration": 1284,
    "start_time": "2022-06-06T02:18:24.680Z"
   },
   {
    "duration": 162,
    "start_time": "2022-06-06T02:18:25.966Z"
   },
   {
    "duration": 17,
    "start_time": "2022-06-06T02:18:26.130Z"
   },
   {
    "duration": 12,
    "start_time": "2022-06-06T02:18:26.149Z"
   },
   {
    "duration": 4,
    "start_time": "2022-06-06T02:18:26.162Z"
   },
   {
    "duration": 128,
    "start_time": "2022-06-06T02:18:26.167Z"
   },
   {
    "duration": 4,
    "start_time": "2022-06-06T02:18:32.270Z"
   },
   {
    "duration": 5,
    "start_time": "2022-06-06T02:19:54.806Z"
   },
   {
    "duration": 5,
    "start_time": "2022-06-06T02:20:19.433Z"
   },
   {
    "duration": 9,
    "start_time": "2022-06-06T02:20:24.986Z"
   },
   {
    "duration": 10,
    "start_time": "2022-06-06T02:20:41.811Z"
   },
   {
    "duration": 5,
    "start_time": "2022-06-06T02:21:44.302Z"
   },
   {
    "duration": 6,
    "start_time": "2022-06-06T02:21:54.501Z"
   },
   {
    "duration": 5,
    "start_time": "2022-06-06T02:22:03.711Z"
   },
   {
    "duration": 5,
    "start_time": "2022-06-06T02:22:20.156Z"
   },
   {
    "duration": 5,
    "start_time": "2022-06-06T02:22:36.691Z"
   },
   {
    "duration": 48,
    "start_time": "2022-06-08T18:25:57.558Z"
   },
   {
    "duration": 1753,
    "start_time": "2022-06-08T18:26:03.921Z"
   },
   {
    "duration": 111,
    "start_time": "2022-06-08T18:26:05.676Z"
   },
   {
    "duration": 20,
    "start_time": "2022-06-08T18:26:05.789Z"
   },
   {
    "duration": 17,
    "start_time": "2022-06-08T18:26:05.812Z"
   },
   {
    "duration": 35,
    "start_time": "2022-06-08T18:26:05.830Z"
   },
   {
    "duration": 23,
    "start_time": "2022-06-08T18:26:05.867Z"
   },
   {
    "duration": 15,
    "start_time": "2022-06-08T18:28:26.318Z"
   },
   {
    "duration": 13,
    "start_time": "2022-06-08T18:30:49.646Z"
   },
   {
    "duration": 115,
    "start_time": "2022-06-08T18:31:22.951Z"
   },
   {
    "duration": 11,
    "start_time": "2022-06-08T18:31:36.290Z"
   },
   {
    "duration": 14,
    "start_time": "2022-06-08T18:32:23.882Z"
   },
   {
    "duration": 20,
    "start_time": "2022-06-08T18:33:20.845Z"
   },
   {
    "duration": 15,
    "start_time": "2022-06-08T18:33:27.675Z"
   },
   {
    "duration": 12,
    "start_time": "2022-06-08T18:33:35.275Z"
   },
   {
    "duration": 10,
    "start_time": "2022-06-08T18:34:04.167Z"
   },
   {
    "duration": 13,
    "start_time": "2022-06-08T18:34:54.878Z"
   },
   {
    "duration": 14,
    "start_time": "2022-06-08T18:35:34.307Z"
   },
   {
    "duration": 383,
    "start_time": "2022-06-08T18:53:11.001Z"
   },
   {
    "duration": 3,
    "start_time": "2022-06-08T18:58:47.466Z"
   },
   {
    "duration": 30,
    "start_time": "2022-06-08T19:04:19.546Z"
   },
   {
    "duration": 3,
    "start_time": "2022-06-08T19:04:41.277Z"
   },
   {
    "duration": 22,
    "start_time": "2022-06-08T19:04:43.991Z"
   },
   {
    "duration": 28,
    "start_time": "2022-06-08T19:04:54.958Z"
   },
   {
    "duration": 41,
    "start_time": "2022-06-08T19:05:02.697Z"
   },
   {
    "duration": 10,
    "start_time": "2022-06-08T19:05:19.767Z"
   },
   {
    "duration": 18,
    "start_time": "2022-06-08T19:05:37.912Z"
   },
   {
    "duration": 16,
    "start_time": "2022-06-08T19:09:19.950Z"
   },
   {
    "duration": 1612,
    "start_time": "2022-06-08T20:01:31.329Z"
   },
   {
    "duration": 90,
    "start_time": "2022-06-08T20:01:32.943Z"
   },
   {
    "duration": 20,
    "start_time": "2022-06-08T20:01:33.036Z"
   },
   {
    "duration": 24,
    "start_time": "2022-06-08T20:01:33.059Z"
   },
   {
    "duration": 14,
    "start_time": "2022-06-08T20:01:33.089Z"
   },
   {
    "duration": 18,
    "start_time": "2022-06-08T20:01:33.105Z"
   },
   {
    "duration": 412,
    "start_time": "2022-06-08T20:01:33.124Z"
   },
   {
    "duration": 181,
    "start_time": "2022-06-08T20:01:33.538Z"
   },
   {
    "duration": 1521,
    "start_time": "2022-06-08T20:01:40.792Z"
   },
   {
    "duration": 44,
    "start_time": "2022-06-08T20:01:42.315Z"
   },
   {
    "duration": 19,
    "start_time": "2022-06-08T20:01:42.361Z"
   },
   {
    "duration": 21,
    "start_time": "2022-06-08T20:01:42.382Z"
   },
   {
    "duration": 5,
    "start_time": "2022-06-08T20:01:42.405Z"
   },
   {
    "duration": 13,
    "start_time": "2022-06-08T20:01:42.412Z"
   },
   {
    "duration": 412,
    "start_time": "2022-06-08T20:01:42.428Z"
   },
   {
    "duration": 132,
    "start_time": "2022-06-08T20:01:42.842Z"
   },
   {
    "duration": 6,
    "start_time": "2022-06-08T20:56:14.514Z"
   },
   {
    "duration": 4,
    "start_time": "2022-06-08T20:56:22.105Z"
   },
   {
    "duration": 5,
    "start_time": "2022-06-08T20:56:47.985Z"
   },
   {
    "duration": 9,
    "start_time": "2022-06-08T21:04:55.332Z"
   },
   {
    "duration": 8,
    "start_time": "2022-06-08T21:05:14.261Z"
   },
   {
    "duration": 33,
    "start_time": "2022-06-08T21:05:29.964Z"
   },
   {
    "duration": 10,
    "start_time": "2022-06-08T21:05:35.214Z"
   },
   {
    "duration": 11,
    "start_time": "2022-06-08T21:06:57.042Z"
   },
   {
    "duration": 10,
    "start_time": "2022-06-08T21:07:06.546Z"
   },
   {
    "duration": 10,
    "start_time": "2022-06-08T21:07:32.118Z"
   },
   {
    "duration": 1634,
    "start_time": "2022-06-08T21:11:16.007Z"
   },
   {
    "duration": 53,
    "start_time": "2022-06-08T21:11:17.643Z"
   },
   {
    "duration": 22,
    "start_time": "2022-06-08T21:11:17.699Z"
   },
   {
    "duration": 17,
    "start_time": "2022-06-08T21:11:17.724Z"
   },
   {
    "duration": 8,
    "start_time": "2022-06-08T21:11:17.743Z"
   },
   {
    "duration": 12,
    "start_time": "2022-06-08T21:11:17.766Z"
   },
   {
    "duration": 18,
    "start_time": "2022-06-08T21:11:17.781Z"
   },
   {
    "duration": 456,
    "start_time": "2022-06-08T21:11:17.801Z"
   },
   {
    "duration": 178,
    "start_time": "2022-06-08T21:11:18.259Z"
   },
   {
    "duration": 4,
    "start_time": "2022-06-08T21:14:28.686Z"
   },
   {
    "duration": 21,
    "start_time": "2022-06-08T21:14:49.110Z"
   },
   {
    "duration": 13,
    "start_time": "2022-06-08T21:14:53.678Z"
   },
   {
    "duration": 9,
    "start_time": "2022-06-08T21:15:12.938Z"
   },
   {
    "duration": 15,
    "start_time": "2022-06-08T21:26:06.726Z"
   },
   {
    "duration": 16,
    "start_time": "2022-06-08T21:26:19.106Z"
   },
   {
    "duration": 13,
    "start_time": "2022-06-08T21:26:47.637Z"
   },
   {
    "duration": 14,
    "start_time": "2022-06-08T21:27:00.212Z"
   },
   {
    "duration": 7,
    "start_time": "2022-06-08T21:27:27.629Z"
   },
   {
    "duration": 1600,
    "start_time": "2022-06-09T17:56:50.329Z"
   },
   {
    "duration": 80,
    "start_time": "2022-06-09T17:56:51.932Z"
   },
   {
    "duration": 23,
    "start_time": "2022-06-09T17:56:52.014Z"
   },
   {
    "duration": 19,
    "start_time": "2022-06-09T17:56:52.040Z"
   },
   {
    "duration": 7,
    "start_time": "2022-06-09T17:56:52.062Z"
   },
   {
    "duration": 48,
    "start_time": "2022-06-09T17:56:52.071Z"
   },
   {
    "duration": 20,
    "start_time": "2022-06-09T17:56:52.124Z"
   },
   {
    "duration": 18,
    "start_time": "2022-06-09T17:56:52.146Z"
   },
   {
    "duration": 403,
    "start_time": "2022-06-09T17:56:52.166Z"
   },
   {
    "duration": 5,
    "start_time": "2022-06-09T18:01:04.907Z"
   },
   {
    "duration": 118,
    "start_time": "2022-06-09T18:02:10.991Z"
   },
   {
    "duration": 4,
    "start_time": "2022-06-09T18:02:20.156Z"
   },
   {
    "duration": 5,
    "start_time": "2022-06-09T18:02:57.053Z"
   },
   {
    "duration": 4,
    "start_time": "2022-06-09T18:03:07.745Z"
   },
   {
    "duration": 13,
    "start_time": "2022-06-09T18:03:26.354Z"
   },
   {
    "duration": 7,
    "start_time": "2022-06-09T18:03:33.176Z"
   },
   {
    "duration": 40,
    "start_time": "2022-06-09T18:05:03.083Z"
   },
   {
    "duration": 5,
    "start_time": "2022-06-09T18:06:07.827Z"
   },
   {
    "duration": 4,
    "start_time": "2022-06-09T18:06:18.047Z"
   },
   {
    "duration": 4,
    "start_time": "2022-06-09T18:06:42.815Z"
   },
   {
    "duration": 9,
    "start_time": "2022-06-09T18:34:33.670Z"
   },
   {
    "duration": 9,
    "start_time": "2022-06-09T18:36:19.254Z"
   },
   {
    "duration": 9,
    "start_time": "2022-06-09T18:38:16.314Z"
   },
   {
    "duration": 1288,
    "start_time": "2022-06-09T18:39:33.139Z"
   },
   {
    "duration": 41,
    "start_time": "2022-06-09T18:39:34.429Z"
   },
   {
    "duration": 17,
    "start_time": "2022-06-09T18:39:34.472Z"
   },
   {
    "duration": 21,
    "start_time": "2022-06-09T18:39:34.492Z"
   },
   {
    "duration": 5,
    "start_time": "2022-06-09T18:39:34.515Z"
   },
   {
    "duration": 6,
    "start_time": "2022-06-09T18:39:34.522Z"
   },
   {
    "duration": 6,
    "start_time": "2022-06-09T18:39:34.530Z"
   },
   {
    "duration": 9,
    "start_time": "2022-06-09T18:39:34.538Z"
   },
   {
    "duration": 7,
    "start_time": "2022-06-09T18:39:34.548Z"
   },
   {
    "duration": 14,
    "start_time": "2022-06-09T18:39:34.595Z"
   },
   {
    "duration": 12,
    "start_time": "2022-06-09T18:39:34.610Z"
   },
   {
    "duration": 15,
    "start_time": "2022-06-09T18:39:34.623Z"
   },
   {
    "duration": 350,
    "start_time": "2022-06-09T18:39:34.640Z"
   },
   {
    "duration": 10,
    "start_time": "2022-06-09T20:13:41.240Z"
   },
   {
    "duration": 14,
    "start_time": "2022-06-09T20:13:54.890Z"
   },
   {
    "duration": 10,
    "start_time": "2022-06-09T20:14:22.730Z"
   },
   {
    "duration": 10,
    "start_time": "2022-06-09T20:46:45.819Z"
   },
   {
    "duration": 10,
    "start_time": "2022-06-09T20:49:04.078Z"
   },
   {
    "duration": 12,
    "start_time": "2022-06-09T20:49:10.635Z"
   },
   {
    "duration": 10,
    "start_time": "2022-06-09T20:50:50.837Z"
   },
   {
    "duration": 122,
    "start_time": "2022-06-09T20:51:08.227Z"
   },
   {
    "duration": 90,
    "start_time": "2022-06-09T20:51:17.453Z"
   },
   {
    "duration": 131,
    "start_time": "2022-06-09T20:51:38.837Z"
   },
   {
    "duration": 129,
    "start_time": "2022-06-09T20:51:55.048Z"
   },
   {
    "duration": 105,
    "start_time": "2022-06-09T20:52:03.159Z"
   },
   {
    "duration": 122,
    "start_time": "2022-06-09T20:52:34.676Z"
   },
   {
    "duration": 289,
    "start_time": "2022-06-09T20:52:54.756Z"
   },
   {
    "duration": 122,
    "start_time": "2022-06-09T20:53:03.680Z"
   },
   {
    "duration": 116,
    "start_time": "2022-06-09T20:53:11.282Z"
   },
   {
    "duration": 6,
    "start_time": "2022-06-09T21:02:35.524Z"
   },
   {
    "duration": 7,
    "start_time": "2022-06-09T21:03:04.709Z"
   },
   {
    "duration": 4,
    "start_time": "2022-06-09T21:03:26.357Z"
   },
   {
    "duration": 6,
    "start_time": "2022-06-09T21:03:59.453Z"
   },
   {
    "duration": 6,
    "start_time": "2022-06-09T21:17:04.238Z"
   },
   {
    "duration": 20,
    "start_time": "2022-06-09T21:17:12.033Z"
   },
   {
    "duration": 6,
    "start_time": "2022-06-09T21:17:25.044Z"
   },
   {
    "duration": 7,
    "start_time": "2022-06-09T21:17:29.817Z"
   },
   {
    "duration": 5,
    "start_time": "2022-06-09T21:17:42.659Z"
   },
   {
    "duration": 8,
    "start_time": "2022-06-09T21:17:47.677Z"
   },
   {
    "duration": 7,
    "start_time": "2022-06-09T21:18:03.652Z"
   },
   {
    "duration": 7,
    "start_time": "2022-06-09T21:18:15.637Z"
   },
   {
    "duration": 7,
    "start_time": "2022-06-09T21:18:19.512Z"
   },
   {
    "duration": 8,
    "start_time": "2022-06-09T21:18:23.819Z"
   },
   {
    "duration": 1272,
    "start_time": "2022-06-09T21:18:30.148Z"
   },
   {
    "duration": 39,
    "start_time": "2022-06-09T21:18:31.422Z"
   },
   {
    "duration": 16,
    "start_time": "2022-06-09T21:18:31.462Z"
   },
   {
    "duration": 19,
    "start_time": "2022-06-09T21:18:31.479Z"
   },
   {
    "duration": 22,
    "start_time": "2022-06-09T21:18:31.500Z"
   },
   {
    "duration": 17,
    "start_time": "2022-06-09T21:18:31.524Z"
   },
   {
    "duration": 9,
    "start_time": "2022-06-09T21:18:31.542Z"
   },
   {
    "duration": 21,
    "start_time": "2022-06-09T21:18:31.553Z"
   },
   {
    "duration": 16,
    "start_time": "2022-06-09T21:18:31.576Z"
   },
   {
    "duration": 28,
    "start_time": "2022-06-09T21:18:31.594Z"
   },
   {
    "duration": 31,
    "start_time": "2022-06-09T21:18:31.624Z"
   },
   {
    "duration": 13,
    "start_time": "2022-06-09T21:18:31.657Z"
   },
   {
    "duration": 9,
    "start_time": "2022-06-09T21:18:31.672Z"
   },
   {
    "duration": 144,
    "start_time": "2022-06-09T21:18:31.684Z"
   },
   {
    "duration": 8,
    "start_time": "2022-06-09T21:18:31.830Z"
   },
   {
    "duration": 25,
    "start_time": "2022-06-09T21:18:31.840Z"
   },
   {
    "duration": 380,
    "start_time": "2022-06-09T21:18:31.867Z"
   },
   {
    "duration": 1242,
    "start_time": "2022-06-09T21:18:51.062Z"
   },
   {
    "duration": 39,
    "start_time": "2022-06-09T21:18:52.308Z"
   },
   {
    "duration": 16,
    "start_time": "2022-06-09T21:18:52.349Z"
   },
   {
    "duration": 13,
    "start_time": "2022-06-09T21:18:52.367Z"
   },
   {
    "duration": 17,
    "start_time": "2022-06-09T21:18:52.382Z"
   },
   {
    "duration": 12,
    "start_time": "2022-06-09T21:18:52.400Z"
   },
   {
    "duration": 7,
    "start_time": "2022-06-09T21:18:52.415Z"
   },
   {
    "duration": 11,
    "start_time": "2022-06-09T21:18:52.424Z"
   },
   {
    "duration": 21,
    "start_time": "2022-06-09T21:18:52.437Z"
   },
   {
    "duration": 44,
    "start_time": "2022-06-09T21:18:52.461Z"
   },
   {
    "duration": 12,
    "start_time": "2022-06-09T21:18:52.508Z"
   },
   {
    "duration": 13,
    "start_time": "2022-06-09T21:18:52.521Z"
   },
   {
    "duration": 13,
    "start_time": "2022-06-09T21:18:52.536Z"
   },
   {
    "duration": 160,
    "start_time": "2022-06-09T21:18:52.551Z"
   },
   {
    "duration": 8,
    "start_time": "2022-06-09T21:18:52.713Z"
   },
   {
    "duration": 12,
    "start_time": "2022-06-09T21:18:52.722Z"
   },
   {
    "duration": 377,
    "start_time": "2022-06-09T21:18:52.736Z"
   },
   {
    "duration": 1221,
    "start_time": "2022-06-09T21:19:13.741Z"
   },
   {
    "duration": 45,
    "start_time": "2022-06-09T21:19:14.964Z"
   },
   {
    "duration": 17,
    "start_time": "2022-06-09T21:19:15.011Z"
   },
   {
    "duration": 13,
    "start_time": "2022-06-09T21:19:15.030Z"
   },
   {
    "duration": 5,
    "start_time": "2022-06-09T21:19:15.046Z"
   },
   {
    "duration": 18,
    "start_time": "2022-06-09T21:19:15.053Z"
   },
   {
    "duration": 36,
    "start_time": "2022-06-09T21:19:15.073Z"
   },
   {
    "duration": 24,
    "start_time": "2022-06-09T21:19:15.111Z"
   },
   {
    "duration": 9,
    "start_time": "2022-06-09T21:19:15.137Z"
   },
   {
    "duration": 8,
    "start_time": "2022-06-09T21:19:15.147Z"
   },
   {
    "duration": 9,
    "start_time": "2022-06-09T21:19:15.157Z"
   },
   {
    "duration": 8,
    "start_time": "2022-06-09T21:19:15.168Z"
   },
   {
    "duration": 26,
    "start_time": "2022-06-09T21:19:15.177Z"
   },
   {
    "duration": 141,
    "start_time": "2022-06-09T21:19:15.208Z"
   },
   {
    "duration": 7,
    "start_time": "2022-06-09T21:19:15.351Z"
   },
   {
    "duration": 11,
    "start_time": "2022-06-09T21:19:15.359Z"
   },
   {
    "duration": 374,
    "start_time": "2022-06-09T21:19:15.372Z"
   },
   {
    "duration": 1309,
    "start_time": "2022-06-09T21:19:18.563Z"
   },
   {
    "duration": 42,
    "start_time": "2022-06-09T21:19:19.874Z"
   },
   {
    "duration": 16,
    "start_time": "2022-06-09T21:19:19.918Z"
   },
   {
    "duration": 13,
    "start_time": "2022-06-09T21:19:19.936Z"
   },
   {
    "duration": 5,
    "start_time": "2022-06-09T21:19:19.950Z"
   },
   {
    "duration": 13,
    "start_time": "2022-06-09T21:19:19.956Z"
   },
   {
    "duration": 30,
    "start_time": "2022-06-09T21:19:19.971Z"
   },
   {
    "duration": 19,
    "start_time": "2022-06-09T21:19:20.003Z"
   },
   {
    "duration": 12,
    "start_time": "2022-06-09T21:19:20.023Z"
   },
   {
    "duration": 10,
    "start_time": "2022-06-09T21:19:20.038Z"
   },
   {
    "duration": 10,
    "start_time": "2022-06-09T21:19:20.049Z"
   },
   {
    "duration": 40,
    "start_time": "2022-06-09T21:19:20.061Z"
   },
   {
    "duration": 10,
    "start_time": "2022-06-09T21:19:20.106Z"
   },
   {
    "duration": 142,
    "start_time": "2022-06-09T21:19:20.118Z"
   },
   {
    "duration": 7,
    "start_time": "2022-06-09T21:19:20.263Z"
   },
   {
    "duration": 34,
    "start_time": "2022-06-09T21:19:20.272Z"
   },
   {
    "duration": 374,
    "start_time": "2022-06-09T21:19:20.307Z"
   },
   {
    "duration": 7,
    "start_time": "2022-06-09T21:19:54.656Z"
   },
   {
    "duration": 1302,
    "start_time": "2022-06-09T21:19:59.614Z"
   },
   {
    "duration": 39,
    "start_time": "2022-06-09T21:20:00.918Z"
   },
   {
    "duration": 16,
    "start_time": "2022-06-09T21:20:00.959Z"
   },
   {
    "duration": 13,
    "start_time": "2022-06-09T21:20:00.978Z"
   },
   {
    "duration": 24,
    "start_time": "2022-06-09T21:20:00.993Z"
   },
   {
    "duration": 22,
    "start_time": "2022-06-09T21:20:01.018Z"
   },
   {
    "duration": 13,
    "start_time": "2022-06-09T21:20:01.041Z"
   },
   {
    "duration": 27,
    "start_time": "2022-06-09T21:20:01.056Z"
   },
   {
    "duration": 28,
    "start_time": "2022-06-09T21:20:01.085Z"
   },
   {
    "duration": 15,
    "start_time": "2022-06-09T21:20:01.116Z"
   },
   {
    "duration": 18,
    "start_time": "2022-06-09T21:20:01.133Z"
   },
   {
    "duration": 35,
    "start_time": "2022-06-09T21:20:01.153Z"
   },
   {
    "duration": 26,
    "start_time": "2022-06-09T21:20:01.190Z"
   },
   {
    "duration": 147,
    "start_time": "2022-06-09T21:20:01.218Z"
   },
   {
    "duration": 6,
    "start_time": "2022-06-09T21:20:01.367Z"
   },
   {
    "duration": 32,
    "start_time": "2022-06-09T21:20:01.375Z"
   },
   {
    "duration": 379,
    "start_time": "2022-06-09T21:20:01.409Z"
   },
   {
    "duration": 7,
    "start_time": "2022-06-09T21:20:52.015Z"
   },
   {
    "duration": 1302,
    "start_time": "2022-06-09T21:20:56.978Z"
   },
   {
    "duration": 45,
    "start_time": "2022-06-09T21:20:58.282Z"
   },
   {
    "duration": 18,
    "start_time": "2022-06-09T21:20:58.329Z"
   },
   {
    "duration": 14,
    "start_time": "2022-06-09T21:20:58.349Z"
   },
   {
    "duration": 8,
    "start_time": "2022-06-09T21:20:58.364Z"
   },
   {
    "duration": 6,
    "start_time": "2022-06-09T21:20:58.373Z"
   },
   {
    "duration": 19,
    "start_time": "2022-06-09T21:20:58.381Z"
   },
   {
    "duration": 10,
    "start_time": "2022-06-09T21:20:58.408Z"
   },
   {
    "duration": 8,
    "start_time": "2022-06-09T21:20:58.420Z"
   },
   {
    "duration": 9,
    "start_time": "2022-06-09T21:20:58.430Z"
   },
   {
    "duration": 10,
    "start_time": "2022-06-09T21:20:58.441Z"
   },
   {
    "duration": 8,
    "start_time": "2022-06-09T21:20:58.453Z"
   },
   {
    "duration": 47,
    "start_time": "2022-06-09T21:20:58.463Z"
   },
   {
    "duration": 129,
    "start_time": "2022-06-09T21:20:58.511Z"
   },
   {
    "duration": 7,
    "start_time": "2022-06-09T21:20:58.642Z"
   },
   {
    "duration": 13,
    "start_time": "2022-06-09T21:20:58.650Z"
   },
   {
    "duration": 409,
    "start_time": "2022-06-09T21:20:58.665Z"
   },
   {
    "duration": 1215,
    "start_time": "2022-06-09T21:21:25.445Z"
   },
   {
    "duration": 45,
    "start_time": "2022-06-09T21:21:26.662Z"
   },
   {
    "duration": 18,
    "start_time": "2022-06-09T21:21:26.710Z"
   },
   {
    "duration": 14,
    "start_time": "2022-06-09T21:21:26.730Z"
   },
   {
    "duration": 6,
    "start_time": "2022-06-09T21:21:26.746Z"
   },
   {
    "duration": 8,
    "start_time": "2022-06-09T21:21:26.753Z"
   },
   {
    "duration": 43,
    "start_time": "2022-06-09T21:21:26.762Z"
   },
   {
    "duration": 16,
    "start_time": "2022-06-09T21:21:26.806Z"
   },
   {
    "duration": 8,
    "start_time": "2022-06-09T21:21:26.824Z"
   },
   {
    "duration": 10,
    "start_time": "2022-06-09T21:21:26.834Z"
   },
   {
    "duration": 9,
    "start_time": "2022-06-09T21:21:26.846Z"
   },
   {
    "duration": 42,
    "start_time": "2022-06-09T21:21:26.857Z"
   },
   {
    "duration": 11,
    "start_time": "2022-06-09T21:21:26.901Z"
   },
   {
    "duration": 142,
    "start_time": "2022-06-09T21:21:26.914Z"
   },
   {
    "duration": 8,
    "start_time": "2022-06-09T21:21:27.057Z"
   },
   {
    "duration": 11,
    "start_time": "2022-06-09T21:21:27.066Z"
   },
   {
    "duration": 381,
    "start_time": "2022-06-09T21:21:27.094Z"
   },
   {
    "duration": 10,
    "start_time": "2022-06-09T21:22:59.516Z"
   },
   {
    "duration": 1361,
    "start_time": "2022-06-10T02:14:20.206Z"
   },
   {
    "duration": 94,
    "start_time": "2022-06-10T02:14:21.569Z"
   },
   {
    "duration": 16,
    "start_time": "2022-06-10T02:14:21.665Z"
   },
   {
    "duration": 11,
    "start_time": "2022-06-10T02:14:21.683Z"
   },
   {
    "duration": 4,
    "start_time": "2022-06-10T02:14:21.696Z"
   },
   {
    "duration": 8,
    "start_time": "2022-06-10T02:14:21.701Z"
   },
   {
    "duration": 5,
    "start_time": "2022-06-10T02:14:21.711Z"
   },
   {
    "duration": 17,
    "start_time": "2022-06-10T02:14:21.717Z"
   },
   {
    "duration": 8,
    "start_time": "2022-06-10T02:14:21.735Z"
   },
   {
    "duration": 8,
    "start_time": "2022-06-10T02:14:21.745Z"
   },
   {
    "duration": 7,
    "start_time": "2022-06-10T02:14:21.755Z"
   },
   {
    "duration": 8,
    "start_time": "2022-06-10T02:14:21.763Z"
   },
   {
    "duration": 10,
    "start_time": "2022-06-10T02:14:21.772Z"
   },
   {
    "duration": 151,
    "start_time": "2022-06-10T02:14:21.784Z"
   },
   {
    "duration": 6,
    "start_time": "2022-06-10T02:14:21.936Z"
   },
   {
    "duration": 10,
    "start_time": "2022-06-10T02:14:21.944Z"
   },
   {
    "duration": 11,
    "start_time": "2022-06-10T02:14:21.955Z"
   },
   {
    "duration": 359,
    "start_time": "2022-06-10T02:14:21.968Z"
   },
   {
    "duration": 8,
    "start_time": "2022-06-10T02:19:54.733Z"
   },
   {
    "duration": 8,
    "start_time": "2022-06-10T02:22:12.871Z"
   },
   {
    "duration": 8,
    "start_time": "2022-06-10T02:24:52.952Z"
   },
   {
    "duration": 11,
    "start_time": "2022-06-10T02:26:13.074Z"
   },
   {
    "duration": 1095,
    "start_time": "2022-06-10T02:27:40.786Z"
   },
   {
    "duration": 42,
    "start_time": "2022-06-10T02:27:41.883Z"
   },
   {
    "duration": 17,
    "start_time": "2022-06-10T02:27:41.926Z"
   },
   {
    "duration": 11,
    "start_time": "2022-06-10T02:27:41.945Z"
   },
   {
    "duration": 7,
    "start_time": "2022-06-10T02:27:41.958Z"
   },
   {
    "duration": 8,
    "start_time": "2022-06-10T02:27:41.967Z"
   },
   {
    "duration": 17,
    "start_time": "2022-06-10T02:27:41.976Z"
   },
   {
    "duration": 9,
    "start_time": "2022-06-10T02:27:41.995Z"
   },
   {
    "duration": 27,
    "start_time": "2022-06-10T02:27:42.006Z"
   },
   {
    "duration": 8,
    "start_time": "2022-06-10T02:27:42.035Z"
   },
   {
    "duration": 19,
    "start_time": "2022-06-10T02:27:42.044Z"
   },
   {
    "duration": 11,
    "start_time": "2022-06-10T02:27:42.065Z"
   },
   {
    "duration": 15,
    "start_time": "2022-06-10T02:27:42.077Z"
   },
   {
    "duration": 124,
    "start_time": "2022-06-10T02:27:42.094Z"
   },
   {
    "duration": 11,
    "start_time": "2022-06-10T02:27:42.220Z"
   },
   {
    "duration": 17,
    "start_time": "2022-06-10T02:27:42.232Z"
   },
   {
    "duration": 8,
    "start_time": "2022-06-10T02:27:42.251Z"
   },
   {
    "duration": 16,
    "start_time": "2022-06-10T02:27:42.261Z"
   },
   {
    "duration": 15,
    "start_time": "2022-06-10T02:27:42.278Z"
   },
   {
    "duration": 12,
    "start_time": "2022-06-10T02:27:42.294Z"
   },
   {
    "duration": 23,
    "start_time": "2022-06-10T02:27:42.307Z"
   },
   {
    "duration": 324,
    "start_time": "2022-06-10T02:27:42.331Z"
   },
   {
    "duration": 297,
    "start_time": "2022-06-10T02:34:08.083Z"
   },
   {
    "duration": 35,
    "start_time": "2022-06-10T02:45:03.613Z"
   },
   {
    "duration": 48,
    "start_time": "2022-06-10T02:45:14.967Z"
   },
   {
    "duration": 38,
    "start_time": "2022-06-10T02:47:08.053Z"
   },
   {
    "duration": 18,
    "start_time": "2022-06-10T02:49:10.942Z"
   },
   {
    "duration": 12,
    "start_time": "2022-06-10T02:49:35.555Z"
   },
   {
    "duration": 6,
    "start_time": "2022-06-10T02:54:19.795Z"
   },
   {
    "duration": 5,
    "start_time": "2022-06-10T02:54:22.714Z"
   },
   {
    "duration": 4,
    "start_time": "2022-06-10T02:54:28.583Z"
   },
   {
    "duration": 49,
    "start_time": "2022-06-10T03:00:03.858Z"
   },
   {
    "duration": 16,
    "start_time": "2022-06-10T03:00:13.408Z"
   },
   {
    "duration": 15,
    "start_time": "2022-06-10T03:09:49.074Z"
   },
   {
    "duration": 6,
    "start_time": "2022-06-10T03:14:13.396Z"
   },
   {
    "duration": 16,
    "start_time": "2022-06-10T03:14:26.162Z"
   },
   {
    "duration": 100,
    "start_time": "2022-06-10T03:18:56.887Z"
   },
   {
    "duration": 3,
    "start_time": "2022-06-10T03:19:56.627Z"
   },
   {
    "duration": 55,
    "start_time": "2022-06-10T03:23:06.024Z"
   },
   {
    "duration": 57,
    "start_time": "2022-06-10T03:23:20.479Z"
   },
   {
    "duration": 95,
    "start_time": "2022-06-10T03:24:03.007Z"
   },
   {
    "duration": 298,
    "start_time": "2022-06-10T03:24:25.378Z"
   },
   {
    "duration": 62,
    "start_time": "2022-06-10T03:26:55.853Z"
   },
   {
    "duration": 3,
    "start_time": "2022-06-10T03:35:02.487Z"
   },
   {
    "duration": 64,
    "start_time": "2022-06-10T03:35:26.207Z"
   },
   {
    "duration": 56,
    "start_time": "2022-06-10T03:35:49.137Z"
   },
   {
    "duration": 53,
    "start_time": "2022-06-10T03:35:53.407Z"
   },
   {
    "duration": 27,
    "start_time": "2022-06-10T03:35:58.972Z"
   },
   {
    "duration": 11,
    "start_time": "2022-06-10T03:36:06.369Z"
   },
   {
    "duration": 12,
    "start_time": "2022-06-10T03:36:13.486Z"
   },
   {
    "duration": 53,
    "start_time": "2022-06-10T03:36:21.364Z"
   },
   {
    "duration": 54,
    "start_time": "2022-06-10T03:36:30.327Z"
   },
   {
    "duration": 54,
    "start_time": "2022-06-10T03:36:33.692Z"
   },
   {
    "duration": 68,
    "start_time": "2022-06-10T03:40:04.599Z"
   },
   {
    "duration": 5501,
    "start_time": "2022-06-10T03:50:38.501Z"
   },
   {
    "duration": 5306,
    "start_time": "2022-06-10T03:51:26.487Z"
   },
   {
    "duration": 107,
    "start_time": "2022-06-10T04:02:25.427Z"
   },
   {
    "duration": 97,
    "start_time": "2022-06-10T04:02:35.799Z"
   },
   {
    "duration": 117,
    "start_time": "2022-06-10T04:08:14.964Z"
   },
   {
    "duration": 124,
    "start_time": "2022-06-10T04:08:30.931Z"
   },
   {
    "duration": 1185,
    "start_time": "2022-06-10T04:12:17.647Z"
   },
   {
    "duration": 42,
    "start_time": "2022-06-10T04:12:18.834Z"
   },
   {
    "duration": 16,
    "start_time": "2022-06-10T04:12:18.877Z"
   },
   {
    "duration": 20,
    "start_time": "2022-06-10T04:12:18.895Z"
   },
   {
    "duration": 5,
    "start_time": "2022-06-10T04:12:18.917Z"
   },
   {
    "duration": 8,
    "start_time": "2022-06-10T04:12:18.924Z"
   },
   {
    "duration": 5,
    "start_time": "2022-06-10T04:12:18.933Z"
   },
   {
    "duration": 9,
    "start_time": "2022-06-10T04:12:18.939Z"
   },
   {
    "duration": 6,
    "start_time": "2022-06-10T04:12:18.950Z"
   },
   {
    "duration": 12,
    "start_time": "2022-06-10T04:12:18.958Z"
   },
   {
    "duration": 8,
    "start_time": "2022-06-10T04:12:18.971Z"
   },
   {
    "duration": 7,
    "start_time": "2022-06-10T04:12:18.980Z"
   },
   {
    "duration": 47,
    "start_time": "2022-06-10T04:12:18.988Z"
   },
   {
    "duration": 130,
    "start_time": "2022-06-10T04:12:19.036Z"
   },
   {
    "duration": 8,
    "start_time": "2022-06-10T04:12:19.167Z"
   },
   {
    "duration": 14,
    "start_time": "2022-06-10T04:12:19.176Z"
   },
   {
    "duration": 8,
    "start_time": "2022-06-10T04:12:19.191Z"
   },
   {
    "duration": 30,
    "start_time": "2022-06-10T04:12:19.201Z"
   },
   {
    "duration": 8,
    "start_time": "2022-06-10T04:12:19.233Z"
   },
   {
    "duration": 11,
    "start_time": "2022-06-10T04:12:19.243Z"
   },
   {
    "duration": 13,
    "start_time": "2022-06-10T04:12:19.255Z"
   },
   {
    "duration": 160,
    "start_time": "2022-06-10T04:12:19.269Z"
   },
   {
    "duration": 360,
    "start_time": "2022-06-10T04:12:19.431Z"
   },
   {
    "duration": 55407,
    "start_time": "2022-06-10T04:12:19.792Z"
   },
   {
    "duration": 69,
    "start_time": "2022-06-10T04:13:15.201Z"
   },
   {
    "duration": 80,
    "start_time": "2022-06-10T04:13:15.272Z"
   },
   {
    "duration": 109,
    "start_time": "2022-06-10T04:13:15.354Z"
   },
   {
    "duration": 124,
    "start_time": "2022-06-10T04:13:52.938Z"
   },
   {
    "duration": 4,
    "start_time": "2022-06-10T04:21:10.464Z"
   },
   {
    "duration": 5029,
    "start_time": "2022-06-10T04:22:10.543Z"
   },
   {
    "duration": 1124,
    "start_time": "2022-06-10T04:23:58.183Z"
   },
   {
    "duration": 41,
    "start_time": "2022-06-10T04:23:59.309Z"
   },
   {
    "duration": 15,
    "start_time": "2022-06-10T04:23:59.351Z"
   },
   {
    "duration": 20,
    "start_time": "2022-06-10T04:23:59.367Z"
   },
   {
    "duration": 16,
    "start_time": "2022-06-10T04:23:59.389Z"
   },
   {
    "duration": 19,
    "start_time": "2022-06-10T04:23:59.407Z"
   },
   {
    "duration": 11,
    "start_time": "2022-06-10T04:23:59.427Z"
   },
   {
    "duration": 17,
    "start_time": "2022-06-10T04:23:59.439Z"
   },
   {
    "duration": 15,
    "start_time": "2022-06-10T04:23:59.458Z"
   },
   {
    "duration": 13,
    "start_time": "2022-06-10T04:23:59.475Z"
   },
   {
    "duration": 8,
    "start_time": "2022-06-10T04:23:59.489Z"
   },
   {
    "duration": 11,
    "start_time": "2022-06-10T04:23:59.498Z"
   },
   {
    "duration": 8,
    "start_time": "2022-06-10T04:23:59.510Z"
   },
   {
    "duration": 119,
    "start_time": "2022-06-10T04:23:59.527Z"
   },
   {
    "duration": 6,
    "start_time": "2022-06-10T04:23:59.648Z"
   },
   {
    "duration": 11,
    "start_time": "2022-06-10T04:23:59.655Z"
   },
   {
    "duration": 11,
    "start_time": "2022-06-10T04:23:59.667Z"
   },
   {
    "duration": 17,
    "start_time": "2022-06-10T04:23:59.679Z"
   },
   {
    "duration": 20,
    "start_time": "2022-06-10T04:23:59.697Z"
   },
   {
    "duration": 8,
    "start_time": "2022-06-10T04:23:59.727Z"
   },
   {
    "duration": 17,
    "start_time": "2022-06-10T04:23:59.736Z"
   },
   {
    "duration": 380,
    "start_time": "2022-06-10T04:23:59.754Z"
   },
   {
    "duration": 2729,
    "start_time": "2022-06-10T04:24:00.135Z"
   },
   {
    "duration": 118,
    "start_time": "2022-06-10T04:24:02.865Z"
   },
   {
    "duration": 162,
    "start_time": "2022-06-10T04:24:02.985Z"
   },
   {
    "duration": 0,
    "start_time": "2022-06-10T04:24:03.149Z"
   },
   {
    "duration": 0,
    "start_time": "2022-06-10T04:24:03.150Z"
   },
   {
    "duration": 0,
    "start_time": "2022-06-10T04:24:03.152Z"
   },
   {
    "duration": 74,
    "start_time": "2022-06-10T04:24:27.466Z"
   },
   {
    "duration": 3,
    "start_time": "2022-06-10T04:25:06.752Z"
   },
   {
    "duration": 1222,
    "start_time": "2022-06-10T04:25:11.322Z"
   },
   {
    "duration": 42,
    "start_time": "2022-06-10T04:25:12.547Z"
   },
   {
    "duration": 17,
    "start_time": "2022-06-10T04:25:12.591Z"
   },
   {
    "duration": 12,
    "start_time": "2022-06-10T04:25:12.610Z"
   },
   {
    "duration": 5,
    "start_time": "2022-06-10T04:25:12.624Z"
   },
   {
    "duration": 10,
    "start_time": "2022-06-10T04:25:12.630Z"
   },
   {
    "duration": 5,
    "start_time": "2022-06-10T04:25:12.642Z"
   },
   {
    "duration": 10,
    "start_time": "2022-06-10T04:25:12.649Z"
   },
   {
    "duration": 11,
    "start_time": "2022-06-10T04:25:12.660Z"
   },
   {
    "duration": 26,
    "start_time": "2022-06-10T04:25:12.673Z"
   },
   {
    "duration": 28,
    "start_time": "2022-06-10T04:25:12.700Z"
   },
   {
    "duration": 10,
    "start_time": "2022-06-10T04:25:12.730Z"
   },
   {
    "duration": 18,
    "start_time": "2022-06-10T04:25:12.742Z"
   },
   {
    "duration": 149,
    "start_time": "2022-06-10T04:25:12.763Z"
   },
   {
    "duration": 17,
    "start_time": "2022-06-10T04:25:12.914Z"
   },
   {
    "duration": 12,
    "start_time": "2022-06-10T04:25:12.933Z"
   },
   {
    "duration": 9,
    "start_time": "2022-06-10T04:25:12.946Z"
   },
   {
    "duration": 13,
    "start_time": "2022-06-10T04:25:12.957Z"
   },
   {
    "duration": 8,
    "start_time": "2022-06-10T04:25:12.971Z"
   },
   {
    "duration": 11,
    "start_time": "2022-06-10T04:25:12.980Z"
   },
   {
    "duration": 12,
    "start_time": "2022-06-10T04:25:13.028Z"
   },
   {
    "duration": 373,
    "start_time": "2022-06-10T04:25:13.041Z"
   },
   {
    "duration": 2807,
    "start_time": "2022-06-10T04:25:13.416Z"
   },
   {
    "duration": 160,
    "start_time": "2022-06-10T04:25:16.225Z"
   },
   {
    "duration": 462,
    "start_time": "2022-06-10T04:25:16.387Z"
   },
   {
    "duration": 65,
    "start_time": "2022-06-10T04:25:16.850Z"
   },
   {
    "duration": 59,
    "start_time": "2022-06-10T04:25:16.926Z"
   },
   {
    "duration": 113,
    "start_time": "2022-06-10T04:25:16.987Z"
   },
   {
    "duration": 37,
    "start_time": "2022-06-10T04:26:25.358Z"
   },
   {
    "duration": 34,
    "start_time": "2022-06-10T04:26:36.118Z"
   },
   {
    "duration": 35,
    "start_time": "2022-06-10T04:26:42.516Z"
   },
   {
    "duration": 35,
    "start_time": "2022-06-10T04:26:47.577Z"
   },
   {
    "duration": 47,
    "start_time": "2022-06-10T04:26:55.443Z"
   },
   {
    "duration": 34,
    "start_time": "2022-06-10T04:26:59.924Z"
   },
   {
    "duration": 3522,
    "start_time": "2022-06-10T04:33:25.256Z"
   },
   {
    "duration": 3262,
    "start_time": "2022-06-10T04:35:45.226Z"
   },
   {
    "duration": 212,
    "start_time": "2022-06-10T04:36:03.756Z"
   },
   {
    "duration": 233,
    "start_time": "2022-06-10T04:36:13.679Z"
   },
   {
    "duration": 4,
    "start_time": "2022-06-10T04:41:44.110Z"
   },
   {
    "duration": 3,
    "start_time": "2022-06-10T04:43:21.025Z"
   },
   {
    "duration": 20,
    "start_time": "2022-06-10T04:45:03.931Z"
   },
   {
    "duration": 396,
    "start_time": "2022-06-10T04:45:19.875Z"
   },
   {
    "duration": 1197,
    "start_time": "2022-06-10T04:45:36.445Z"
   },
   {
    "duration": 40,
    "start_time": "2022-06-10T04:45:37.644Z"
   },
   {
    "duration": 16,
    "start_time": "2022-06-10T04:45:37.686Z"
   },
   {
    "duration": 15,
    "start_time": "2022-06-10T04:45:37.704Z"
   },
   {
    "duration": 6,
    "start_time": "2022-06-10T04:45:37.720Z"
   },
   {
    "duration": 6,
    "start_time": "2022-06-10T04:45:37.728Z"
   },
   {
    "duration": 5,
    "start_time": "2022-06-10T04:45:37.735Z"
   },
   {
    "duration": 10,
    "start_time": "2022-06-10T04:45:37.742Z"
   },
   {
    "duration": 7,
    "start_time": "2022-06-10T04:45:37.753Z"
   },
   {
    "duration": 13,
    "start_time": "2022-06-10T04:45:37.762Z"
   },
   {
    "duration": 7,
    "start_time": "2022-06-10T04:45:37.776Z"
   },
   {
    "duration": 10,
    "start_time": "2022-06-10T04:45:37.784Z"
   },
   {
    "duration": 8,
    "start_time": "2022-06-10T04:45:37.828Z"
   },
   {
    "duration": 120,
    "start_time": "2022-06-10T04:45:37.838Z"
   },
   {
    "duration": 5,
    "start_time": "2022-06-10T04:45:37.960Z"
   },
   {
    "duration": 12,
    "start_time": "2022-06-10T04:45:37.966Z"
   },
   {
    "duration": 7,
    "start_time": "2022-06-10T04:45:37.980Z"
   },
   {
    "duration": 10,
    "start_time": "2022-06-10T04:45:37.989Z"
   },
   {
    "duration": 31,
    "start_time": "2022-06-10T04:45:38.000Z"
   },
   {
    "duration": 19,
    "start_time": "2022-06-10T04:45:38.032Z"
   },
   {
    "duration": 11,
    "start_time": "2022-06-10T04:45:38.052Z"
   },
   {
    "duration": 341,
    "start_time": "2022-06-10T04:45:38.064Z"
   },
   {
    "duration": 2598,
    "start_time": "2022-06-10T04:45:38.407Z"
   },
   {
    "duration": 120,
    "start_time": "2022-06-10T04:45:41.007Z"
   },
   {
    "duration": 1303,
    "start_time": "2022-06-10T04:47:04.514Z"
   },
   {
    "duration": 40,
    "start_time": "2022-06-10T04:47:05.820Z"
   },
   {
    "duration": 15,
    "start_time": "2022-06-10T04:47:05.861Z"
   },
   {
    "duration": 13,
    "start_time": "2022-06-10T04:47:05.878Z"
   },
   {
    "duration": 5,
    "start_time": "2022-06-10T04:47:05.892Z"
   },
   {
    "duration": 8,
    "start_time": "2022-06-10T04:47:05.898Z"
   },
   {
    "duration": 7,
    "start_time": "2022-06-10T04:47:05.908Z"
   },
   {
    "duration": 16,
    "start_time": "2022-06-10T04:47:05.916Z"
   },
   {
    "duration": 6,
    "start_time": "2022-06-10T04:47:05.934Z"
   },
   {
    "duration": 7,
    "start_time": "2022-06-10T04:47:05.942Z"
   },
   {
    "duration": 7,
    "start_time": "2022-06-10T04:47:05.951Z"
   },
   {
    "duration": 12,
    "start_time": "2022-06-10T04:47:05.959Z"
   },
   {
    "duration": 8,
    "start_time": "2022-06-10T04:47:05.972Z"
   },
   {
    "duration": 159,
    "start_time": "2022-06-10T04:47:05.982Z"
   },
   {
    "duration": 7,
    "start_time": "2022-06-10T04:47:06.142Z"
   },
   {
    "duration": 11,
    "start_time": "2022-06-10T04:47:06.151Z"
   },
   {
    "duration": 10,
    "start_time": "2022-06-10T04:47:06.163Z"
   },
   {
    "duration": 8,
    "start_time": "2022-06-10T04:47:06.174Z"
   },
   {
    "duration": 7,
    "start_time": "2022-06-10T04:47:06.184Z"
   },
   {
    "duration": 42,
    "start_time": "2022-06-10T04:47:06.192Z"
   },
   {
    "duration": 11,
    "start_time": "2022-06-10T04:47:06.236Z"
   },
   {
    "duration": 400,
    "start_time": "2022-06-10T04:47:06.248Z"
   },
   {
    "duration": 2773,
    "start_time": "2022-06-10T04:47:06.650Z"
   },
   {
    "duration": 125,
    "start_time": "2022-06-10T04:47:09.424Z"
   },
   {
    "duration": 1217,
    "start_time": "2022-06-10T04:47:35.839Z"
   },
   {
    "duration": 41,
    "start_time": "2022-06-10T04:47:37.057Z"
   },
   {
    "duration": 16,
    "start_time": "2022-06-10T04:47:37.099Z"
   },
   {
    "duration": 11,
    "start_time": "2022-06-10T04:47:37.116Z"
   },
   {
    "duration": 4,
    "start_time": "2022-06-10T04:47:37.129Z"
   },
   {
    "duration": 6,
    "start_time": "2022-06-10T04:47:37.134Z"
   },
   {
    "duration": 6,
    "start_time": "2022-06-10T04:47:37.142Z"
   },
   {
    "duration": 9,
    "start_time": "2022-06-10T04:47:37.149Z"
   },
   {
    "duration": 6,
    "start_time": "2022-06-10T04:47:37.160Z"
   },
   {
    "duration": 8,
    "start_time": "2022-06-10T04:47:37.168Z"
   },
   {
    "duration": 7,
    "start_time": "2022-06-10T04:47:37.177Z"
   },
   {
    "duration": 49,
    "start_time": "2022-06-10T04:47:37.185Z"
   },
   {
    "duration": 9,
    "start_time": "2022-06-10T04:47:37.236Z"
   },
   {
    "duration": 138,
    "start_time": "2022-06-10T04:47:37.247Z"
   },
   {
    "duration": 6,
    "start_time": "2022-06-10T04:47:37.386Z"
   },
   {
    "duration": 9,
    "start_time": "2022-06-10T04:47:37.394Z"
   },
   {
    "duration": 26,
    "start_time": "2022-06-10T04:47:37.404Z"
   },
   {
    "duration": 14,
    "start_time": "2022-06-10T04:47:37.432Z"
   },
   {
    "duration": 8,
    "start_time": "2022-06-10T04:47:37.447Z"
   },
   {
    "duration": 7,
    "start_time": "2022-06-10T04:47:37.457Z"
   },
   {
    "duration": 10,
    "start_time": "2022-06-10T04:47:37.466Z"
   },
   {
    "duration": 384,
    "start_time": "2022-06-10T04:47:37.478Z"
   },
   {
    "duration": 2649,
    "start_time": "2022-06-10T04:47:37.864Z"
   },
   {
    "duration": 116,
    "start_time": "2022-06-10T04:47:40.514Z"
   },
   {
    "duration": 5613,
    "start_time": "2022-06-10T04:47:40.631Z"
   },
   {
    "duration": 4721,
    "start_time": "2022-06-10T04:47:46.245Z"
   },
   {
    "duration": 69,
    "start_time": "2022-06-10T04:47:50.967Z"
   },
   {
    "duration": 60,
    "start_time": "2022-06-10T04:47:51.039Z"
   },
   {
    "duration": 115,
    "start_time": "2022-06-10T04:47:51.100Z"
   },
   {
    "duration": 405,
    "start_time": "2022-06-10T04:49:04.225Z"
   },
   {
    "duration": 352,
    "start_time": "2022-06-10T04:49:21.980Z"
   },
   {
    "duration": 325,
    "start_time": "2022-06-10T04:49:30.373Z"
   },
   {
    "duration": 1161,
    "start_time": "2022-06-10T04:49:41.984Z"
   },
   {
    "duration": 40,
    "start_time": "2022-06-10T04:49:43.148Z"
   },
   {
    "duration": 15,
    "start_time": "2022-06-10T04:49:43.190Z"
   },
   {
    "duration": 12,
    "start_time": "2022-06-10T04:49:43.207Z"
   },
   {
    "duration": 4,
    "start_time": "2022-06-10T04:49:43.220Z"
   },
   {
    "duration": 6,
    "start_time": "2022-06-10T04:49:43.226Z"
   },
   {
    "duration": 5,
    "start_time": "2022-06-10T04:49:43.234Z"
   },
   {
    "duration": 14,
    "start_time": "2022-06-10T04:49:43.240Z"
   },
   {
    "duration": 9,
    "start_time": "2022-06-10T04:49:43.257Z"
   },
   {
    "duration": 9,
    "start_time": "2022-06-10T04:49:43.268Z"
   },
   {
    "duration": 10,
    "start_time": "2022-06-10T04:49:43.278Z"
   },
   {
    "duration": 42,
    "start_time": "2022-06-10T04:49:43.289Z"
   },
   {
    "duration": 8,
    "start_time": "2022-06-10T04:49:43.332Z"
   },
   {
    "duration": 126,
    "start_time": "2022-06-10T04:49:43.341Z"
   },
   {
    "duration": 8,
    "start_time": "2022-06-10T04:49:43.469Z"
   },
   {
    "duration": 10,
    "start_time": "2022-06-10T04:49:43.479Z"
   },
   {
    "duration": 7,
    "start_time": "2022-06-10T04:49:43.491Z"
   },
   {
    "duration": 34,
    "start_time": "2022-06-10T04:49:43.499Z"
   },
   {
    "duration": 8,
    "start_time": "2022-06-10T04:49:43.535Z"
   },
   {
    "duration": 8,
    "start_time": "2022-06-10T04:49:43.545Z"
   },
   {
    "duration": 10,
    "start_time": "2022-06-10T04:49:43.555Z"
   },
   {
    "duration": 374,
    "start_time": "2022-06-10T04:49:43.566Z"
   },
   {
    "duration": 2659,
    "start_time": "2022-06-10T04:49:43.941Z"
   },
   {
    "duration": 117,
    "start_time": "2022-06-10T04:49:46.602Z"
   },
   {
    "duration": 5647,
    "start_time": "2022-06-10T04:49:46.721Z"
   },
   {
    "duration": 4586,
    "start_time": "2022-06-10T04:49:52.369Z"
   },
   {
    "duration": 59,
    "start_time": "2022-06-10T04:49:56.956Z"
   },
   {
    "duration": 58,
    "start_time": "2022-06-10T04:49:57.027Z"
   },
   {
    "duration": 107,
    "start_time": "2022-06-10T04:49:57.086Z"
   },
   {
    "duration": 394,
    "start_time": "2022-06-10T04:50:08.513Z"
   },
   {
    "duration": 394,
    "start_time": "2022-06-10T04:50:10.196Z"
   },
   {
    "duration": 380,
    "start_time": "2022-06-10T04:50:18.493Z"
   },
   {
    "duration": 1204,
    "start_time": "2022-06-10T04:50:26.437Z"
   },
   {
    "duration": 41,
    "start_time": "2022-06-10T04:50:27.643Z"
   },
   {
    "duration": 15,
    "start_time": "2022-06-10T04:50:27.685Z"
   },
   {
    "duration": 11,
    "start_time": "2022-06-10T04:50:27.702Z"
   },
   {
    "duration": 10,
    "start_time": "2022-06-10T04:50:27.714Z"
   },
   {
    "duration": 8,
    "start_time": "2022-06-10T04:50:27.725Z"
   },
   {
    "duration": 11,
    "start_time": "2022-06-10T04:50:27.734Z"
   },
   {
    "duration": 13,
    "start_time": "2022-06-10T04:50:27.746Z"
   },
   {
    "duration": 9,
    "start_time": "2022-06-10T04:50:27.760Z"
   },
   {
    "duration": 10,
    "start_time": "2022-06-10T04:50:27.771Z"
   },
   {
    "duration": 8,
    "start_time": "2022-06-10T04:50:27.783Z"
   },
   {
    "duration": 10,
    "start_time": "2022-06-10T04:50:27.792Z"
   },
   {
    "duration": 26,
    "start_time": "2022-06-10T04:50:27.804Z"
   },
   {
    "duration": 123,
    "start_time": "2022-06-10T04:50:27.831Z"
   },
   {
    "duration": 6,
    "start_time": "2022-06-10T04:50:27.956Z"
   },
   {
    "duration": 9,
    "start_time": "2022-06-10T04:50:27.963Z"
   },
   {
    "duration": 8,
    "start_time": "2022-06-10T04:50:27.973Z"
   },
   {
    "duration": 9,
    "start_time": "2022-06-10T04:50:27.983Z"
   },
   {
    "duration": 9,
    "start_time": "2022-06-10T04:50:28.026Z"
   },
   {
    "duration": 9,
    "start_time": "2022-06-10T04:50:28.037Z"
   },
   {
    "duration": 13,
    "start_time": "2022-06-10T04:50:28.048Z"
   },
   {
    "duration": 375,
    "start_time": "2022-06-10T04:50:28.063Z"
   },
   {
    "duration": 2656,
    "start_time": "2022-06-10T04:50:28.440Z"
   },
   {
    "duration": 115,
    "start_time": "2022-06-10T04:50:31.099Z"
   },
   {
    "duration": 5664,
    "start_time": "2022-06-10T04:50:31.215Z"
   },
   {
    "duration": 4511,
    "start_time": "2022-06-10T04:50:36.880Z"
   },
   {
    "duration": 63,
    "start_time": "2022-06-10T04:50:41.392Z"
   },
   {
    "duration": 69,
    "start_time": "2022-06-10T04:50:41.458Z"
   },
   {
    "duration": 99,
    "start_time": "2022-06-10T04:50:41.529Z"
   },
   {
    "duration": 8,
    "start_time": "2022-06-10T04:54:11.553Z"
   },
   {
    "duration": 329,
    "start_time": "2022-06-10T04:56:07.805Z"
   },
   {
    "duration": 337,
    "start_time": "2022-06-10T04:56:11.121Z"
   },
   {
    "duration": 332,
    "start_time": "2022-06-10T04:56:12.599Z"
   },
   {
    "duration": 349,
    "start_time": "2022-06-10T04:56:13.770Z"
   },
   {
    "duration": 481,
    "start_time": "2022-06-10T04:56:50.115Z"
   },
   {
    "duration": 504,
    "start_time": "2022-06-10T04:58:29.287Z"
   },
   {
    "duration": 507,
    "start_time": "2022-06-10T04:59:58.883Z"
   },
   {
    "duration": 504,
    "start_time": "2022-06-10T05:00:20.392Z"
   },
   {
    "duration": 528,
    "start_time": "2022-06-10T05:00:35.311Z"
   },
   {
    "duration": 497,
    "start_time": "2022-06-10T05:00:40.141Z"
   },
   {
    "duration": 413,
    "start_time": "2022-06-10T05:02:01.323Z"
   },
   {
    "duration": 1186,
    "start_time": "2022-06-10T05:02:13.804Z"
   },
   {
    "duration": 44,
    "start_time": "2022-06-10T05:02:14.991Z"
   },
   {
    "duration": 16,
    "start_time": "2022-06-10T05:02:15.037Z"
   },
   {
    "duration": 13,
    "start_time": "2022-06-10T05:02:15.055Z"
   },
   {
    "duration": 4,
    "start_time": "2022-06-10T05:02:15.069Z"
   },
   {
    "duration": 10,
    "start_time": "2022-06-10T05:02:15.075Z"
   },
   {
    "duration": 5,
    "start_time": "2022-06-10T05:02:15.086Z"
   },
   {
    "duration": 35,
    "start_time": "2022-06-10T05:02:15.092Z"
   },
   {
    "duration": 6,
    "start_time": "2022-06-10T05:02:15.129Z"
   },
   {
    "duration": 18,
    "start_time": "2022-06-10T05:02:15.138Z"
   },
   {
    "duration": 7,
    "start_time": "2022-06-10T05:02:15.158Z"
   },
   {
    "duration": 9,
    "start_time": "2022-06-10T05:02:15.166Z"
   },
   {
    "duration": 18,
    "start_time": "2022-06-10T05:02:15.176Z"
   },
   {
    "duration": 142,
    "start_time": "2022-06-10T05:02:15.195Z"
   },
   {
    "duration": 6,
    "start_time": "2022-06-10T05:02:15.338Z"
   },
   {
    "duration": 9,
    "start_time": "2022-06-10T05:02:15.346Z"
   },
   {
    "duration": 8,
    "start_time": "2022-06-10T05:02:15.357Z"
   },
   {
    "duration": 10,
    "start_time": "2022-06-10T05:02:15.366Z"
   },
   {
    "duration": 11,
    "start_time": "2022-06-10T05:02:15.378Z"
   },
   {
    "duration": 43,
    "start_time": "2022-06-10T05:02:15.391Z"
   },
   {
    "duration": 12,
    "start_time": "2022-06-10T05:02:15.436Z"
   },
   {
    "duration": 366,
    "start_time": "2022-06-10T05:02:15.450Z"
   },
   {
    "duration": 2711,
    "start_time": "2022-06-10T05:02:15.818Z"
   },
   {
    "duration": 126,
    "start_time": "2022-06-10T05:02:18.531Z"
   },
   {
    "duration": 4959,
    "start_time": "2022-06-10T05:02:18.659Z"
   },
   {
    "duration": 5727,
    "start_time": "2022-06-10T05:02:23.620Z"
   },
   {
    "duration": 100,
    "start_time": "2022-06-10T05:02:29.349Z"
   },
   {
    "duration": 0,
    "start_time": "2022-06-10T05:02:29.450Z"
   },
   {
    "duration": 0,
    "start_time": "2022-06-10T05:02:29.451Z"
   },
   {
    "duration": 0,
    "start_time": "2022-06-10T05:02:29.452Z"
   },
   {
    "duration": 5097,
    "start_time": "2022-06-10T05:03:06.979Z"
   },
   {
    "duration": 3172,
    "start_time": "2022-06-10T05:03:28.013Z"
   },
   {
    "duration": 5919,
    "start_time": "2022-06-10T05:05:42.924Z"
   },
   {
    "duration": 5223,
    "start_time": "2022-06-10T05:05:57.564Z"
   },
   {
    "duration": 428,
    "start_time": "2022-06-10T05:07:28.325Z"
   },
   {
    "duration": 480,
    "start_time": "2022-06-10T05:08:36.956Z"
   },
   {
    "duration": 477,
    "start_time": "2022-06-10T05:08:49.476Z"
   },
   {
    "duration": 1243,
    "start_time": "2022-06-10T05:08:56.223Z"
   },
   {
    "duration": 40,
    "start_time": "2022-06-10T05:08:57.468Z"
   },
   {
    "duration": 15,
    "start_time": "2022-06-10T05:08:57.509Z"
   },
   {
    "duration": 11,
    "start_time": "2022-06-10T05:08:57.526Z"
   },
   {
    "duration": 7,
    "start_time": "2022-06-10T05:08:57.538Z"
   },
   {
    "duration": 8,
    "start_time": "2022-06-10T05:08:57.546Z"
   },
   {
    "duration": 5,
    "start_time": "2022-06-10T05:08:57.555Z"
   },
   {
    "duration": 11,
    "start_time": "2022-06-10T05:08:57.562Z"
   },
   {
    "duration": 7,
    "start_time": "2022-06-10T05:08:57.574Z"
   },
   {
    "duration": 9,
    "start_time": "2022-06-10T05:08:57.583Z"
   },
   {
    "duration": 40,
    "start_time": "2022-06-10T05:08:57.593Z"
   },
   {
    "duration": 8,
    "start_time": "2022-06-10T05:08:57.634Z"
   },
   {
    "duration": 8,
    "start_time": "2022-06-10T05:08:57.643Z"
   },
   {
    "duration": 140,
    "start_time": "2022-06-10T05:08:57.653Z"
   },
   {
    "duration": 7,
    "start_time": "2022-06-10T05:08:57.795Z"
   },
   {
    "duration": 32,
    "start_time": "2022-06-10T05:08:57.803Z"
   },
   {
    "duration": 10,
    "start_time": "2022-06-10T05:08:57.837Z"
   },
   {
    "duration": 9,
    "start_time": "2022-06-10T05:08:57.849Z"
   },
   {
    "duration": 10,
    "start_time": "2022-06-10T05:08:57.860Z"
   },
   {
    "duration": 8,
    "start_time": "2022-06-10T05:08:57.872Z"
   },
   {
    "duration": 51,
    "start_time": "2022-06-10T05:08:57.882Z"
   },
   {
    "duration": 369,
    "start_time": "2022-06-10T05:08:57.935Z"
   },
   {
    "duration": 2815,
    "start_time": "2022-06-10T05:08:58.306Z"
   },
   {
    "duration": 190,
    "start_time": "2022-06-10T05:09:01.123Z"
   },
   {
    "duration": 6013,
    "start_time": "2022-06-10T05:09:01.315Z"
   },
   {
    "duration": 5191,
    "start_time": "2022-06-10T05:09:07.330Z"
   },
   {
    "duration": 467,
    "start_time": "2022-06-10T05:09:12.522Z"
   },
   {
    "duration": 65,
    "start_time": "2022-06-10T05:09:12.992Z"
   },
   {
    "duration": 68,
    "start_time": "2022-06-10T05:09:13.059Z"
   },
   {
    "duration": 113,
    "start_time": "2022-06-10T05:09:13.129Z"
   },
   {
    "duration": 28,
    "start_time": "2022-06-10T05:10:36.941Z"
   },
   {
    "duration": 31,
    "start_time": "2022-06-10T05:11:11.604Z"
   },
   {
    "duration": 459,
    "start_time": "2022-06-10T05:11:30.190Z"
   },
   {
    "duration": 1287,
    "start_time": "2022-06-10T05:11:55.001Z"
   },
   {
    "duration": 54,
    "start_time": "2022-06-10T05:11:56.290Z"
   },
   {
    "duration": 19,
    "start_time": "2022-06-10T05:11:56.345Z"
   },
   {
    "duration": 17,
    "start_time": "2022-06-10T05:11:56.367Z"
   },
   {
    "duration": 6,
    "start_time": "2022-06-10T05:11:56.386Z"
   },
   {
    "duration": 38,
    "start_time": "2022-06-10T05:11:56.394Z"
   },
   {
    "duration": 36,
    "start_time": "2022-06-10T05:11:56.434Z"
   },
   {
    "duration": 19,
    "start_time": "2022-06-10T05:11:56.472Z"
   },
   {
    "duration": 39,
    "start_time": "2022-06-10T05:11:56.493Z"
   },
   {
    "duration": 19,
    "start_time": "2022-06-10T05:11:56.536Z"
   },
   {
    "duration": 18,
    "start_time": "2022-06-10T05:11:56.557Z"
   },
   {
    "duration": 14,
    "start_time": "2022-06-10T05:11:56.579Z"
   },
   {
    "duration": 17,
    "start_time": "2022-06-10T05:11:56.595Z"
   },
   {
    "duration": 135,
    "start_time": "2022-06-10T05:11:56.629Z"
   },
   {
    "duration": 9,
    "start_time": "2022-06-10T05:11:56.766Z"
   },
   {
    "duration": 11,
    "start_time": "2022-06-10T05:11:56.776Z"
   },
   {
    "duration": 38,
    "start_time": "2022-06-10T05:11:56.789Z"
   },
   {
    "duration": 9,
    "start_time": "2022-06-10T05:11:56.829Z"
   },
   {
    "duration": 14,
    "start_time": "2022-06-10T05:11:56.840Z"
   },
   {
    "duration": 12,
    "start_time": "2022-06-10T05:11:56.856Z"
   },
   {
    "duration": 11,
    "start_time": "2022-06-10T05:11:56.870Z"
   },
   {
    "duration": 433,
    "start_time": "2022-06-10T05:11:56.883Z"
   },
   {
    "duration": 2686,
    "start_time": "2022-06-10T05:11:57.326Z"
   },
   {
    "duration": 126,
    "start_time": "2022-06-10T05:12:00.013Z"
   },
   {
    "duration": 6166,
    "start_time": "2022-06-10T05:12:00.141Z"
   },
   {
    "duration": 5270,
    "start_time": "2022-06-10T05:12:06.309Z"
   },
   {
    "duration": 500,
    "start_time": "2022-06-10T05:12:11.581Z"
   },
   {
    "duration": 70,
    "start_time": "2022-06-10T05:12:12.084Z"
   },
   {
    "duration": 76,
    "start_time": "2022-06-10T05:12:12.156Z"
   },
   {
    "duration": 146,
    "start_time": "2022-06-10T05:12:12.234Z"
   },
   {
    "duration": 30,
    "start_time": "2022-06-10T05:13:09.458Z"
   },
   {
    "duration": 29,
    "start_time": "2022-06-10T05:13:21.774Z"
   },
   {
    "duration": 21,
    "start_time": "2022-06-10T05:13:26.468Z"
   },
   {
    "duration": 45,
    "start_time": "2022-06-10T05:13:30.878Z"
   },
   {
    "duration": 50,
    "start_time": "2022-06-10T05:13:37.124Z"
   },
   {
    "duration": 48,
    "start_time": "2022-06-10T05:13:44.878Z"
   },
   {
    "duration": 48,
    "start_time": "2022-06-10T05:13:50.734Z"
   },
   {
    "duration": 49,
    "start_time": "2022-06-10T05:14:19.941Z"
   },
   {
    "duration": 49,
    "start_time": "2022-06-10T05:14:24.147Z"
   },
   {
    "duration": 28,
    "start_time": "2022-06-10T05:14:28.862Z"
   },
   {
    "duration": 29,
    "start_time": "2022-06-10T05:14:39.303Z"
   },
   {
    "duration": 446,
    "start_time": "2022-06-10T05:14:51.482Z"
   },
   {
    "duration": 1154,
    "start_time": "2022-06-10T05:15:18.282Z"
   },
   {
    "duration": 41,
    "start_time": "2022-06-10T05:15:19.437Z"
   },
   {
    "duration": 15,
    "start_time": "2022-06-10T05:15:19.480Z"
   },
   {
    "duration": 12,
    "start_time": "2022-06-10T05:15:19.497Z"
   },
   {
    "duration": 4,
    "start_time": "2022-06-10T05:15:19.511Z"
   },
   {
    "duration": 11,
    "start_time": "2022-06-10T05:15:19.517Z"
   },
   {
    "duration": 9,
    "start_time": "2022-06-10T05:15:19.529Z"
   },
   {
    "duration": 10,
    "start_time": "2022-06-10T05:15:19.539Z"
   },
   {
    "duration": 8,
    "start_time": "2022-06-10T05:15:19.550Z"
   },
   {
    "duration": 12,
    "start_time": "2022-06-10T05:15:19.561Z"
   },
   {
    "duration": 7,
    "start_time": "2022-06-10T05:15:19.574Z"
   },
   {
    "duration": 7,
    "start_time": "2022-06-10T05:15:19.582Z"
   },
   {
    "duration": 9,
    "start_time": "2022-06-10T05:15:19.627Z"
   },
   {
    "duration": 129,
    "start_time": "2022-06-10T05:15:19.637Z"
   },
   {
    "duration": 6,
    "start_time": "2022-06-10T05:15:19.767Z"
   },
   {
    "duration": 13,
    "start_time": "2022-06-10T05:15:19.775Z"
   },
   {
    "duration": 8,
    "start_time": "2022-06-10T05:15:19.790Z"
   },
   {
    "duration": 31,
    "start_time": "2022-06-10T05:15:19.799Z"
   },
   {
    "duration": 7,
    "start_time": "2022-06-10T05:15:19.831Z"
   },
   {
    "duration": 11,
    "start_time": "2022-06-10T05:15:19.839Z"
   },
   {
    "duration": 11,
    "start_time": "2022-06-10T05:15:19.851Z"
   },
   {
    "duration": 374,
    "start_time": "2022-06-10T05:15:19.863Z"
   },
   {
    "duration": 2681,
    "start_time": "2022-06-10T05:15:20.239Z"
   },
   {
    "duration": 124,
    "start_time": "2022-06-10T05:15:22.922Z"
   },
   {
    "duration": 5750,
    "start_time": "2022-06-10T05:15:23.047Z"
   },
   {
    "duration": 5202,
    "start_time": "2022-06-10T05:15:28.799Z"
   },
   {
    "duration": 471,
    "start_time": "2022-06-10T05:15:34.003Z"
   },
   {
    "duration": 72,
    "start_time": "2022-06-10T05:15:34.477Z"
   },
   {
    "duration": 80,
    "start_time": "2022-06-10T05:15:34.551Z"
   },
   {
    "duration": 110,
    "start_time": "2022-06-10T05:15:34.633Z"
   },
   {
    "duration": 457,
    "start_time": "2022-06-10T05:16:03.757Z"
   },
   {
    "duration": 1119,
    "start_time": "2022-06-10T05:16:13.280Z"
   },
   {
    "duration": 41,
    "start_time": "2022-06-10T05:16:14.401Z"
   },
   {
    "duration": 16,
    "start_time": "2022-06-10T05:16:14.443Z"
   },
   {
    "duration": 11,
    "start_time": "2022-06-10T05:16:14.461Z"
   },
   {
    "duration": 4,
    "start_time": "2022-06-10T05:16:14.474Z"
   },
   {
    "duration": 7,
    "start_time": "2022-06-10T05:16:14.479Z"
   },
   {
    "duration": 5,
    "start_time": "2022-06-10T05:16:14.487Z"
   },
   {
    "duration": 39,
    "start_time": "2022-06-10T05:16:14.494Z"
   },
   {
    "duration": 8,
    "start_time": "2022-06-10T05:16:14.534Z"
   },
   {
    "duration": 11,
    "start_time": "2022-06-10T05:16:14.543Z"
   },
   {
    "duration": 7,
    "start_time": "2022-06-10T05:16:14.555Z"
   },
   {
    "duration": 9,
    "start_time": "2022-06-10T05:16:14.564Z"
   },
   {
    "duration": 8,
    "start_time": "2022-06-10T05:16:14.574Z"
   },
   {
    "duration": 155,
    "start_time": "2022-06-10T05:16:14.585Z"
   },
   {
    "duration": 6,
    "start_time": "2022-06-10T05:16:14.742Z"
   },
   {
    "duration": 12,
    "start_time": "2022-06-10T05:16:14.750Z"
   },
   {
    "duration": 8,
    "start_time": "2022-06-10T05:16:14.763Z"
   },
   {
    "duration": 19,
    "start_time": "2022-06-10T05:16:14.773Z"
   },
   {
    "duration": 34,
    "start_time": "2022-06-10T05:16:14.794Z"
   },
   {
    "duration": 9,
    "start_time": "2022-06-10T05:16:14.830Z"
   },
   {
    "duration": 10,
    "start_time": "2022-06-10T05:16:14.840Z"
   },
   {
    "duration": 367,
    "start_time": "2022-06-10T05:16:14.852Z"
   },
   {
    "duration": 2702,
    "start_time": "2022-06-10T05:16:15.220Z"
   },
   {
    "duration": 117,
    "start_time": "2022-06-10T05:16:17.926Z"
   },
   {
    "duration": 5861,
    "start_time": "2022-06-10T05:16:18.044Z"
   },
   {
    "duration": 5135,
    "start_time": "2022-06-10T05:16:23.906Z"
   },
   {
    "duration": 473,
    "start_time": "2022-06-10T05:16:29.043Z"
   },
   {
    "duration": 65,
    "start_time": "2022-06-10T05:16:29.518Z"
   },
   {
    "duration": 76,
    "start_time": "2022-06-10T05:16:29.584Z"
   },
   {
    "duration": 108,
    "start_time": "2022-06-10T05:16:29.661Z"
   },
   {
    "duration": 1482,
    "start_time": "2022-06-11T20:27:01.332Z"
   },
   {
    "duration": 74,
    "start_time": "2022-06-11T20:27:02.816Z"
   },
   {
    "duration": 16,
    "start_time": "2022-06-11T20:27:02.891Z"
   },
   {
    "duration": 22,
    "start_time": "2022-06-11T20:27:02.909Z"
   },
   {
    "duration": 8,
    "start_time": "2022-06-11T20:27:02.933Z"
   },
   {
    "duration": 10,
    "start_time": "2022-06-11T20:27:02.942Z"
   },
   {
    "duration": 16,
    "start_time": "2022-06-11T20:27:02.953Z"
   },
   {
    "duration": 11,
    "start_time": "2022-06-11T20:27:02.971Z"
   },
   {
    "duration": 10,
    "start_time": "2022-06-11T20:27:02.983Z"
   },
   {
    "duration": 14,
    "start_time": "2022-06-11T20:27:02.996Z"
   },
   {
    "duration": 9,
    "start_time": "2022-06-11T20:27:03.012Z"
   },
   {
    "duration": 31,
    "start_time": "2022-06-11T20:27:03.023Z"
   },
   {
    "duration": 10,
    "start_time": "2022-06-11T20:27:03.056Z"
   },
   {
    "duration": 145,
    "start_time": "2022-06-11T20:27:03.068Z"
   },
   {
    "duration": 7,
    "start_time": "2022-06-11T20:27:03.215Z"
   },
   {
    "duration": 31,
    "start_time": "2022-06-11T20:27:03.224Z"
   },
   {
    "duration": 8,
    "start_time": "2022-06-11T20:27:03.257Z"
   },
   {
    "duration": 13,
    "start_time": "2022-06-11T20:27:03.267Z"
   },
   {
    "duration": 10,
    "start_time": "2022-06-11T20:27:03.281Z"
   },
   {
    "duration": 13,
    "start_time": "2022-06-11T20:27:03.292Z"
   },
   {
    "duration": 12,
    "start_time": "2022-06-11T20:27:03.306Z"
   },
   {
    "duration": 393,
    "start_time": "2022-06-11T20:27:03.320Z"
   },
   {
    "duration": 2751,
    "start_time": "2022-06-11T20:27:03.715Z"
   },
   {
    "duration": 125,
    "start_time": "2022-06-11T20:27:06.468Z"
   },
   {
    "duration": 6005,
    "start_time": "2022-06-11T20:27:06.595Z"
   },
   {
    "duration": 5522,
    "start_time": "2022-06-11T20:27:12.603Z"
   },
   {
    "duration": 488,
    "start_time": "2022-06-11T20:27:18.127Z"
   },
   {
    "duration": 68,
    "start_time": "2022-06-11T20:27:18.617Z"
   },
   {
    "duration": 71,
    "start_time": "2022-06-11T20:27:18.686Z"
   },
   {
    "duration": 116,
    "start_time": "2022-06-11T20:27:18.759Z"
   },
   {
    "duration": 458,
    "start_time": "2022-06-11T20:28:58.268Z"
   },
   {
    "duration": 1162,
    "start_time": "2022-06-11T20:29:06.005Z"
   },
   {
    "duration": 37,
    "start_time": "2022-06-11T20:29:07.169Z"
   },
   {
    "duration": 15,
    "start_time": "2022-06-11T20:29:07.208Z"
   },
   {
    "duration": 17,
    "start_time": "2022-06-11T20:29:07.225Z"
   },
   {
    "duration": 6,
    "start_time": "2022-06-11T20:29:07.244Z"
   },
   {
    "duration": 11,
    "start_time": "2022-06-11T20:29:07.251Z"
   },
   {
    "duration": 18,
    "start_time": "2022-06-11T20:29:07.266Z"
   },
   {
    "duration": 11,
    "start_time": "2022-06-11T20:29:07.285Z"
   },
   {
    "duration": 13,
    "start_time": "2022-06-11T20:29:07.298Z"
   },
   {
    "duration": 8,
    "start_time": "2022-06-11T20:29:07.313Z"
   },
   {
    "duration": 7,
    "start_time": "2022-06-11T20:29:07.323Z"
   },
   {
    "duration": 22,
    "start_time": "2022-06-11T20:29:07.331Z"
   },
   {
    "duration": 12,
    "start_time": "2022-06-11T20:29:07.356Z"
   },
   {
    "duration": 137,
    "start_time": "2022-06-11T20:29:07.370Z"
   },
   {
    "duration": 6,
    "start_time": "2022-06-11T20:29:07.508Z"
   },
   {
    "duration": 12,
    "start_time": "2022-06-11T20:29:07.515Z"
   },
   {
    "duration": 34,
    "start_time": "2022-06-11T20:29:07.529Z"
   },
   {
    "duration": 15,
    "start_time": "2022-06-11T20:29:07.565Z"
   },
   {
    "duration": 8,
    "start_time": "2022-06-11T20:29:07.582Z"
   },
   {
    "duration": 9,
    "start_time": "2022-06-11T20:29:07.592Z"
   },
   {
    "duration": 11,
    "start_time": "2022-06-11T20:29:07.602Z"
   },
   {
    "duration": 382,
    "start_time": "2022-06-11T20:29:07.615Z"
   },
   {
    "duration": 2796,
    "start_time": "2022-06-11T20:29:07.999Z"
   },
   {
    "duration": 133,
    "start_time": "2022-06-11T20:29:10.796Z"
   },
   {
    "duration": 6225,
    "start_time": "2022-06-11T20:29:10.931Z"
   },
   {
    "duration": 5413,
    "start_time": "2022-06-11T20:29:17.159Z"
   },
   {
    "duration": 547,
    "start_time": "2022-06-11T20:29:22.575Z"
   },
   {
    "duration": 75,
    "start_time": "2022-06-11T20:29:23.125Z"
   },
   {
    "duration": 78,
    "start_time": "2022-06-11T20:29:23.201Z"
   },
   {
    "duration": 116,
    "start_time": "2022-06-11T20:29:23.280Z"
   },
   {
    "duration": 356,
    "start_time": "2022-06-11T20:31:52.247Z"
   },
   {
    "duration": 469,
    "start_time": "2022-06-11T20:32:41.831Z"
   },
   {
    "duration": 39,
    "start_time": "2022-06-11T20:32:47.138Z"
   },
   {
    "duration": 36,
    "start_time": "2022-06-11T20:35:34.486Z"
   },
   {
    "duration": 1183,
    "start_time": "2022-06-11T20:35:48.020Z"
   },
   {
    "duration": 37,
    "start_time": "2022-06-11T20:35:49.205Z"
   },
   {
    "duration": 16,
    "start_time": "2022-06-11T20:35:49.243Z"
   },
   {
    "duration": 19,
    "start_time": "2022-06-11T20:35:49.261Z"
   },
   {
    "duration": 4,
    "start_time": "2022-06-11T20:35:49.282Z"
   },
   {
    "duration": 6,
    "start_time": "2022-06-11T20:35:49.288Z"
   },
   {
    "duration": 5,
    "start_time": "2022-06-11T20:35:49.296Z"
   },
   {
    "duration": 10,
    "start_time": "2022-06-11T20:35:49.302Z"
   },
   {
    "duration": 6,
    "start_time": "2022-06-11T20:35:49.314Z"
   },
   {
    "duration": 39,
    "start_time": "2022-06-11T20:35:49.322Z"
   },
   {
    "duration": 8,
    "start_time": "2022-06-11T20:35:49.363Z"
   },
   {
    "duration": 11,
    "start_time": "2022-06-11T20:35:49.372Z"
   },
   {
    "duration": 8,
    "start_time": "2022-06-11T20:35:49.385Z"
   },
   {
    "duration": 147,
    "start_time": "2022-06-11T20:35:49.394Z"
   },
   {
    "duration": 13,
    "start_time": "2022-06-11T20:35:49.543Z"
   },
   {
    "duration": 16,
    "start_time": "2022-06-11T20:35:49.558Z"
   },
   {
    "duration": 7,
    "start_time": "2022-06-11T20:35:49.575Z"
   },
   {
    "duration": 11,
    "start_time": "2022-06-11T20:35:49.584Z"
   },
   {
    "duration": 7,
    "start_time": "2022-06-11T20:35:49.596Z"
   },
   {
    "duration": 8,
    "start_time": "2022-06-11T20:35:49.604Z"
   },
   {
    "duration": 48,
    "start_time": "2022-06-11T20:35:49.613Z"
   },
   {
    "duration": 392,
    "start_time": "2022-06-11T20:35:49.662Z"
   },
   {
    "duration": 2812,
    "start_time": "2022-06-11T20:35:50.056Z"
   },
   {
    "duration": 136,
    "start_time": "2022-06-11T20:35:52.869Z"
   },
   {
    "duration": 6336,
    "start_time": "2022-06-11T20:35:53.007Z"
   },
   {
    "duration": 5815,
    "start_time": "2022-06-11T20:35:59.344Z"
   },
   {
    "duration": 559,
    "start_time": "2022-06-11T20:36:05.161Z"
   },
   {
    "duration": 546,
    "start_time": "2022-06-11T20:36:05.723Z"
   },
   {
    "duration": 60,
    "start_time": "2022-06-11T20:36:06.271Z"
   },
   {
    "duration": 82,
    "start_time": "2022-06-11T20:36:06.333Z"
   },
   {
    "duration": 107,
    "start_time": "2022-06-11T20:36:06.416Z"
   },
   {
    "duration": 11,
    "start_time": "2022-06-11T20:51:06.944Z"
   },
   {
    "duration": 4,
    "start_time": "2022-06-11T20:51:39.629Z"
   },
   {
    "duration": 4,
    "start_time": "2022-06-11T21:06:29.296Z"
   },
   {
    "duration": 10,
    "start_time": "2022-06-11T21:19:34.848Z"
   },
   {
    "duration": 5,
    "start_time": "2022-06-11T21:19:57.724Z"
   },
   {
    "duration": 10,
    "start_time": "2022-06-11T21:24:22.529Z"
   },
   {
    "duration": 3,
    "start_time": "2022-06-11T21:24:35.947Z"
   },
   {
    "duration": 29,
    "start_time": "2022-06-11T21:29:55.240Z"
   },
   {
    "duration": 1160,
    "start_time": "2022-06-11T21:30:23.824Z"
   },
   {
    "duration": 39,
    "start_time": "2022-06-11T21:30:24.985Z"
   },
   {
    "duration": 15,
    "start_time": "2022-06-11T21:30:25.026Z"
   },
   {
    "duration": 19,
    "start_time": "2022-06-11T21:30:25.043Z"
   },
   {
    "duration": 10,
    "start_time": "2022-06-11T21:30:25.064Z"
   },
   {
    "duration": 22,
    "start_time": "2022-06-11T21:30:25.075Z"
   },
   {
    "duration": 14,
    "start_time": "2022-06-11T21:30:25.099Z"
   },
   {
    "duration": 16,
    "start_time": "2022-06-11T21:30:25.114Z"
   },
   {
    "duration": 7,
    "start_time": "2022-06-11T21:30:25.132Z"
   },
   {
    "duration": 21,
    "start_time": "2022-06-11T21:30:25.141Z"
   },
   {
    "duration": 13,
    "start_time": "2022-06-11T21:30:25.164Z"
   },
   {
    "duration": 13,
    "start_time": "2022-06-11T21:30:25.179Z"
   },
   {
    "duration": 35,
    "start_time": "2022-06-11T21:30:25.194Z"
   },
   {
    "duration": 151,
    "start_time": "2022-06-11T21:30:25.231Z"
   },
   {
    "duration": 7,
    "start_time": "2022-06-11T21:30:25.383Z"
   },
   {
    "duration": 10,
    "start_time": "2022-06-11T21:30:25.391Z"
   },
   {
    "duration": 10,
    "start_time": "2022-06-11T21:30:25.403Z"
   },
   {
    "duration": 13,
    "start_time": "2022-06-11T21:30:25.414Z"
   },
   {
    "duration": 30,
    "start_time": "2022-06-11T21:30:25.428Z"
   },
   {
    "duration": 83,
    "start_time": "2022-06-11T21:30:25.459Z"
   },
   {
    "duration": 10,
    "start_time": "2022-06-11T21:30:25.543Z"
   },
   {
    "duration": 352,
    "start_time": "2022-06-11T21:30:25.555Z"
   },
   {
    "duration": 2674,
    "start_time": "2022-06-11T21:30:25.909Z"
   },
   {
    "duration": 124,
    "start_time": "2022-06-11T21:30:28.586Z"
   },
   {
    "duration": 5849,
    "start_time": "2022-06-11T21:30:28.711Z"
   },
   {
    "duration": 5276,
    "start_time": "2022-06-11T21:30:34.562Z"
   },
   {
    "duration": 547,
    "start_time": "2022-06-11T21:30:39.840Z"
   },
   {
    "duration": 541,
    "start_time": "2022-06-11T21:30:40.392Z"
   },
   {
    "duration": 76,
    "start_time": "2022-06-11T21:30:40.936Z"
   },
   {
    "duration": 5,
    "start_time": "2022-06-11T21:30:41.014Z"
   },
   {
    "duration": 8,
    "start_time": "2022-06-11T21:30:41.020Z"
   },
   {
    "duration": 6,
    "start_time": "2022-06-11T21:30:41.051Z"
   },
   {
    "duration": 0,
    "start_time": "2022-06-11T21:30:41.059Z"
   },
   {
    "duration": 0,
    "start_time": "2022-06-11T21:30:41.060Z"
   },
   {
    "duration": 5,
    "start_time": "2022-06-11T21:31:20.049Z"
   },
   {
    "duration": 25,
    "start_time": "2022-06-11T21:32:03.399Z"
   },
   {
    "duration": 18,
    "start_time": "2022-06-11T21:32:40.733Z"
   },
   {
    "duration": 19,
    "start_time": "2022-06-11T21:32:45.605Z"
   },
   {
    "duration": 99,
    "start_time": "2022-06-11T21:33:17.063Z"
   },
   {
    "duration": 11,
    "start_time": "2022-06-11T21:33:43.712Z"
   },
   {
    "duration": 89708,
    "start_time": "2022-06-11T21:34:28.229Z"
   },
   {
    "duration": 9,
    "start_time": "2022-06-11T21:41:59.021Z"
   },
   {
    "duration": 4,
    "start_time": "2022-06-11T21:42:06.169Z"
   },
   {
    "duration": 746,
    "start_time": "2022-06-11T21:49:10.228Z"
   },
   {
    "duration": 738,
    "start_time": "2022-06-11T21:49:28.342Z"
   },
   {
    "duration": 1240,
    "start_time": "2022-06-11T21:49:34.089Z"
   },
   {
    "duration": 40,
    "start_time": "2022-06-11T21:49:35.330Z"
   },
   {
    "duration": 16,
    "start_time": "2022-06-11T21:49:35.372Z"
   },
   {
    "duration": 13,
    "start_time": "2022-06-11T21:49:35.391Z"
   },
   {
    "duration": 5,
    "start_time": "2022-06-11T21:49:35.405Z"
   },
   {
    "duration": 9,
    "start_time": "2022-06-11T21:49:35.411Z"
   },
   {
    "duration": 32,
    "start_time": "2022-06-11T21:49:35.422Z"
   },
   {
    "duration": 10,
    "start_time": "2022-06-11T21:49:35.456Z"
   },
   {
    "duration": 7,
    "start_time": "2022-06-11T21:49:35.468Z"
   },
   {
    "duration": 8,
    "start_time": "2022-06-11T21:49:35.479Z"
   },
   {
    "duration": 9,
    "start_time": "2022-06-11T21:49:35.489Z"
   },
   {
    "duration": 8,
    "start_time": "2022-06-11T21:49:35.500Z"
   },
   {
    "duration": 54,
    "start_time": "2022-06-11T21:49:35.509Z"
   },
   {
    "duration": 133,
    "start_time": "2022-06-11T21:49:35.565Z"
   },
   {
    "duration": 7,
    "start_time": "2022-06-11T21:49:35.699Z"
   },
   {
    "duration": 11,
    "start_time": "2022-06-11T21:49:35.708Z"
   },
   {
    "duration": 36,
    "start_time": "2022-06-11T21:49:35.720Z"
   },
   {
    "duration": 12,
    "start_time": "2022-06-11T21:49:35.758Z"
   },
   {
    "duration": 8,
    "start_time": "2022-06-11T21:49:35.771Z"
   },
   {
    "duration": 8,
    "start_time": "2022-06-11T21:49:35.781Z"
   },
   {
    "duration": 11,
    "start_time": "2022-06-11T21:49:35.790Z"
   },
   {
    "duration": 394,
    "start_time": "2022-06-11T21:49:35.803Z"
   },
   {
    "duration": 2716,
    "start_time": "2022-06-11T21:49:36.198Z"
   },
   {
    "duration": 125,
    "start_time": "2022-06-11T21:49:38.915Z"
   },
   {
    "duration": 6170,
    "start_time": "2022-06-11T21:49:39.041Z"
   },
   {
    "duration": 5316,
    "start_time": "2022-06-11T21:49:45.212Z"
   },
   {
    "duration": 534,
    "start_time": "2022-06-11T21:49:50.530Z"
   },
   {
    "duration": 525,
    "start_time": "2022-06-11T21:49:51.067Z"
   },
   {
    "duration": 68,
    "start_time": "2022-06-11T21:49:51.593Z"
   },
   {
    "duration": 6,
    "start_time": "2022-06-11T21:49:51.662Z"
   },
   {
    "duration": 12,
    "start_time": "2022-06-11T21:49:51.669Z"
   },
   {
    "duration": 84029,
    "start_time": "2022-06-11T21:49:51.683Z"
   },
   {
    "duration": 4,
    "start_time": "2022-06-11T21:51:15.715Z"
   },
   {
    "duration": 869,
    "start_time": "2022-06-11T21:51:15.720Z"
   },
   {
    "duration": 91,
    "start_time": "2022-06-11T21:51:16.591Z"
   },
   {
    "duration": 115,
    "start_time": "2022-06-11T21:51:16.684Z"
   },
   {
    "duration": 616,
    "start_time": "2022-06-11T21:51:44.024Z"
   },
   {
    "duration": 5,
    "start_time": "2022-06-11T21:56:10.982Z"
   },
   {
    "duration": 13,
    "start_time": "2022-06-11T22:00:10.110Z"
   },
   {
    "duration": 47,
    "start_time": "2022-06-11T22:01:05.813Z"
   },
   {
    "duration": 1338,
    "start_time": "2022-06-11T22:01:17.346Z"
   },
   {
    "duration": 74,
    "start_time": "2022-06-11T22:01:18.687Z"
   },
   {
    "duration": 19,
    "start_time": "2022-06-11T22:01:18.763Z"
   },
   {
    "duration": 12,
    "start_time": "2022-06-11T22:01:18.784Z"
   },
   {
    "duration": 5,
    "start_time": "2022-06-11T22:01:18.798Z"
   },
   {
    "duration": 10,
    "start_time": "2022-06-11T22:01:18.804Z"
   },
   {
    "duration": 5,
    "start_time": "2022-06-11T22:01:18.816Z"
   },
   {
    "duration": 39,
    "start_time": "2022-06-11T22:01:18.822Z"
   },
   {
    "duration": 11,
    "start_time": "2022-06-11T22:01:18.863Z"
   },
   {
    "duration": 12,
    "start_time": "2022-06-11T22:01:18.877Z"
   },
   {
    "duration": 8,
    "start_time": "2022-06-11T22:01:18.891Z"
   },
   {
    "duration": 10,
    "start_time": "2022-06-11T22:01:18.901Z"
   },
   {
    "duration": 42,
    "start_time": "2022-06-11T22:01:18.912Z"
   },
   {
    "duration": 143,
    "start_time": "2022-06-11T22:01:18.956Z"
   },
   {
    "duration": 6,
    "start_time": "2022-06-11T22:01:19.100Z"
   },
   {
    "duration": 11,
    "start_time": "2022-06-11T22:01:19.108Z"
   },
   {
    "duration": 8,
    "start_time": "2022-06-11T22:01:19.120Z"
   },
   {
    "duration": 35,
    "start_time": "2022-06-11T22:01:19.130Z"
   },
   {
    "duration": 16,
    "start_time": "2022-06-11T22:01:19.169Z"
   },
   {
    "duration": 10,
    "start_time": "2022-06-11T22:01:19.186Z"
   },
   {
    "duration": 12,
    "start_time": "2022-06-11T22:01:19.197Z"
   },
   {
    "duration": 415,
    "start_time": "2022-06-11T22:01:19.210Z"
   },
   {
    "duration": 3021,
    "start_time": "2022-06-11T22:01:19.626Z"
   },
   {
    "duration": 146,
    "start_time": "2022-06-11T22:01:22.651Z"
   },
   {
    "duration": 6414,
    "start_time": "2022-06-11T22:01:22.799Z"
   },
   {
    "duration": 5730,
    "start_time": "2022-06-11T22:01:29.225Z"
   },
   {
    "duration": 600,
    "start_time": "2022-06-11T22:01:34.957Z"
   },
   {
    "duration": 570,
    "start_time": "2022-06-11T22:01:35.561Z"
   },
   {
    "duration": 74,
    "start_time": "2022-06-11T22:01:36.133Z"
   },
   {
    "duration": 4,
    "start_time": "2022-06-11T22:01:36.208Z"
   },
   {
    "duration": 9,
    "start_time": "2022-06-11T22:01:36.213Z"
   },
   {
    "duration": 56,
    "start_time": "2022-06-11T22:02:13.886Z"
   },
   {
    "duration": 1342,
    "start_time": "2022-06-11T22:02:21.447Z"
   },
   {
    "duration": 76,
    "start_time": "2022-06-11T22:02:22.791Z"
   },
   {
    "duration": 18,
    "start_time": "2022-06-11T22:02:22.869Z"
   },
   {
    "duration": 13,
    "start_time": "2022-06-11T22:02:22.889Z"
   },
   {
    "duration": 6,
    "start_time": "2022-06-11T22:02:22.904Z"
   },
   {
    "duration": 28,
    "start_time": "2022-06-11T22:02:22.912Z"
   },
   {
    "duration": 15,
    "start_time": "2022-06-11T22:02:22.942Z"
   },
   {
    "duration": 28,
    "start_time": "2022-06-11T22:02:22.960Z"
   },
   {
    "duration": 19,
    "start_time": "2022-06-11T22:02:22.990Z"
   },
   {
    "duration": 15,
    "start_time": "2022-06-11T22:02:23.013Z"
   },
   {
    "duration": 23,
    "start_time": "2022-06-11T22:02:23.030Z"
   },
   {
    "duration": 11,
    "start_time": "2022-06-11T22:02:23.056Z"
   },
   {
    "duration": 26,
    "start_time": "2022-06-11T22:02:23.068Z"
   },
   {
    "duration": 161,
    "start_time": "2022-06-11T22:02:23.096Z"
   },
   {
    "duration": 8,
    "start_time": "2022-06-11T22:02:23.259Z"
   },
   {
    "duration": 16,
    "start_time": "2022-06-11T22:02:23.269Z"
   },
   {
    "duration": 9,
    "start_time": "2022-06-11T22:02:23.287Z"
   },
   {
    "duration": 16,
    "start_time": "2022-06-11T22:02:23.297Z"
   },
   {
    "duration": 9,
    "start_time": "2022-06-11T22:02:23.315Z"
   },
   {
    "duration": 11,
    "start_time": "2022-06-11T22:02:23.355Z"
   },
   {
    "duration": 17,
    "start_time": "2022-06-11T22:02:23.370Z"
   },
   {
    "duration": 398,
    "start_time": "2022-06-11T22:02:23.389Z"
   },
   {
    "duration": 3015,
    "start_time": "2022-06-11T22:02:23.789Z"
   },
   {
    "duration": 127,
    "start_time": "2022-06-11T22:02:26.806Z"
   },
   {
    "duration": 6383,
    "start_time": "2022-06-11T22:02:26.935Z"
   },
   {
    "duration": 5758,
    "start_time": "2022-06-11T22:02:33.320Z"
   },
   {
    "duration": 557,
    "start_time": "2022-06-11T22:02:39.080Z"
   },
   {
    "duration": 616,
    "start_time": "2022-06-11T22:02:39.640Z"
   },
   {
    "duration": 73,
    "start_time": "2022-06-11T22:02:40.258Z"
   },
   {
    "duration": 24,
    "start_time": "2022-06-11T22:02:40.332Z"
   },
   {
    "duration": 14,
    "start_time": "2022-06-11T22:02:40.358Z"
   },
   {
    "duration": 13,
    "start_time": "2022-06-11T22:03:19.919Z"
   },
   {
    "duration": 5,
    "start_time": "2022-06-11T22:03:28.023Z"
   },
   {
    "duration": 7,
    "start_time": "2022-06-11T22:03:40.695Z"
   },
   {
    "duration": 52,
    "start_time": "2022-06-11T22:03:42.158Z"
   },
   {
    "duration": 1266,
    "start_time": "2022-06-11T22:03:53.889Z"
   },
   {
    "duration": 90,
    "start_time": "2022-06-11T22:03:55.158Z"
   },
   {
    "duration": 62,
    "start_time": "2022-06-11T22:03:55.251Z"
   },
   {
    "duration": 21,
    "start_time": "2022-06-11T22:03:55.316Z"
   },
   {
    "duration": 6,
    "start_time": "2022-06-11T22:03:55.339Z"
   },
   {
    "duration": 30,
    "start_time": "2022-06-11T22:03:55.347Z"
   },
   {
    "duration": 10,
    "start_time": "2022-06-11T22:03:55.379Z"
   },
   {
    "duration": 14,
    "start_time": "2022-06-11T22:03:55.390Z"
   },
   {
    "duration": 8,
    "start_time": "2022-06-11T22:03:55.405Z"
   },
   {
    "duration": 10,
    "start_time": "2022-06-11T22:03:55.416Z"
   },
   {
    "duration": 7,
    "start_time": "2022-06-11T22:03:55.428Z"
   },
   {
    "duration": 25,
    "start_time": "2022-06-11T22:03:55.436Z"
   },
   {
    "duration": 14,
    "start_time": "2022-06-11T22:03:55.463Z"
   },
   {
    "duration": 145,
    "start_time": "2022-06-11T22:03:55.479Z"
   },
   {
    "duration": 7,
    "start_time": "2022-06-11T22:03:55.625Z"
   },
   {
    "duration": 29,
    "start_time": "2022-06-11T22:03:55.634Z"
   },
   {
    "duration": 16,
    "start_time": "2022-06-11T22:03:55.664Z"
   },
   {
    "duration": 13,
    "start_time": "2022-06-11T22:03:55.681Z"
   },
   {
    "duration": 22,
    "start_time": "2022-06-11T22:03:55.696Z"
   },
   {
    "duration": 13,
    "start_time": "2022-06-11T22:03:55.720Z"
   },
   {
    "duration": 22,
    "start_time": "2022-06-11T22:03:55.734Z"
   },
   {
    "duration": 374,
    "start_time": "2022-06-11T22:03:55.758Z"
   },
   {
    "duration": 2977,
    "start_time": "2022-06-11T22:03:56.134Z"
   },
   {
    "duration": 154,
    "start_time": "2022-06-11T22:03:59.114Z"
   },
   {
    "duration": 6641,
    "start_time": "2022-06-11T22:03:59.272Z"
   },
   {
    "duration": 5910,
    "start_time": "2022-06-11T22:04:05.915Z"
   },
   {
    "duration": 597,
    "start_time": "2022-06-11T22:04:11.827Z"
   },
   {
    "duration": 586,
    "start_time": "2022-06-11T22:04:12.427Z"
   },
   {
    "duration": 81,
    "start_time": "2022-06-11T22:04:13.014Z"
   },
   {
    "duration": 6,
    "start_time": "2022-06-11T22:04:13.097Z"
   },
   {
    "duration": 12,
    "start_time": "2022-06-11T22:04:13.104Z"
   },
   {
    "duration": 1174,
    "start_time": "2022-06-11T22:23:26.815Z"
   },
   {
    "duration": 39,
    "start_time": "2022-06-11T22:23:27.991Z"
   },
   {
    "duration": 22,
    "start_time": "2022-06-11T22:23:28.031Z"
   },
   {
    "duration": 12,
    "start_time": "2022-06-11T22:23:28.055Z"
   },
   {
    "duration": 5,
    "start_time": "2022-06-11T22:23:28.068Z"
   },
   {
    "duration": 7,
    "start_time": "2022-06-11T22:23:28.075Z"
   },
   {
    "duration": 6,
    "start_time": "2022-06-11T22:23:28.083Z"
   },
   {
    "duration": 12,
    "start_time": "2022-06-11T22:23:28.091Z"
   },
   {
    "duration": 7,
    "start_time": "2022-06-11T22:23:28.104Z"
   },
   {
    "duration": 43,
    "start_time": "2022-06-11T22:23:28.113Z"
   },
   {
    "duration": 24,
    "start_time": "2022-06-11T22:23:28.157Z"
   },
   {
    "duration": 30,
    "start_time": "2022-06-11T22:23:28.183Z"
   },
   {
    "duration": 42,
    "start_time": "2022-06-11T22:23:28.214Z"
   },
   {
    "duration": 153,
    "start_time": "2022-06-11T22:23:28.257Z"
   },
   {
    "duration": 7,
    "start_time": "2022-06-11T22:23:28.411Z"
   },
   {
    "duration": 18,
    "start_time": "2022-06-11T22:23:28.420Z"
   },
   {
    "duration": 18,
    "start_time": "2022-06-11T22:23:28.440Z"
   },
   {
    "duration": 9,
    "start_time": "2022-06-11T22:23:28.460Z"
   },
   {
    "duration": 8,
    "start_time": "2022-06-11T22:23:28.471Z"
   },
   {
    "duration": 9,
    "start_time": "2022-06-11T22:23:28.481Z"
   },
   {
    "duration": 12,
    "start_time": "2022-06-11T22:23:28.492Z"
   },
   {
    "duration": 414,
    "start_time": "2022-06-11T22:23:28.505Z"
   },
   {
    "duration": 2815,
    "start_time": "2022-06-11T22:23:28.921Z"
   },
   {
    "duration": 129,
    "start_time": "2022-06-11T22:23:31.738Z"
   },
   {
    "duration": 6244,
    "start_time": "2022-06-11T22:23:31.869Z"
   },
   {
    "duration": 5482,
    "start_time": "2022-06-11T22:23:38.114Z"
   },
   {
    "duration": 540,
    "start_time": "2022-06-11T22:23:43.598Z"
   },
   {
    "duration": 513,
    "start_time": "2022-06-11T22:23:44.141Z"
   },
   {
    "duration": 64,
    "start_time": "2022-06-11T22:23:44.656Z"
   },
   {
    "duration": 5,
    "start_time": "2022-06-11T22:23:44.722Z"
   },
   {
    "duration": 26,
    "start_time": "2022-06-11T22:23:44.729Z"
   },
   {
    "duration": 6,
    "start_time": "2022-06-11T22:23:44.757Z"
   },
   {
    "duration": 107,
    "start_time": "2022-06-11T22:23:44.765Z"
   },
   {
    "duration": 0,
    "start_time": "2022-06-11T22:23:44.874Z"
   },
   {
    "duration": 0,
    "start_time": "2022-06-11T22:23:44.876Z"
   },
   {
    "duration": 0,
    "start_time": "2022-06-11T22:23:44.877Z"
   },
   {
    "duration": 5,
    "start_time": "2022-06-11T22:25:36.875Z"
   },
   {
    "duration": 5,
    "start_time": "2022-06-11T22:26:01.743Z"
   },
   {
    "duration": 1254,
    "start_time": "2022-06-11T23:00:25.783Z"
   },
   {
    "duration": 38,
    "start_time": "2022-06-11T23:00:27.039Z"
   },
   {
    "duration": 15,
    "start_time": "2022-06-11T23:00:27.078Z"
   },
   {
    "duration": 14,
    "start_time": "2022-06-11T23:00:27.095Z"
   },
   {
    "duration": 4,
    "start_time": "2022-06-11T23:00:27.111Z"
   },
   {
    "duration": 14,
    "start_time": "2022-06-11T23:00:27.117Z"
   },
   {
    "duration": 7,
    "start_time": "2022-06-11T23:00:27.133Z"
   },
   {
    "duration": 17,
    "start_time": "2022-06-11T23:00:27.142Z"
   },
   {
    "duration": 7,
    "start_time": "2022-06-11T23:00:27.160Z"
   },
   {
    "duration": 13,
    "start_time": "2022-06-11T23:00:27.169Z"
   },
   {
    "duration": 12,
    "start_time": "2022-06-11T23:00:27.183Z"
   },
   {
    "duration": 15,
    "start_time": "2022-06-11T23:00:27.196Z"
   },
   {
    "duration": 9,
    "start_time": "2022-06-11T23:00:27.213Z"
   },
   {
    "duration": 146,
    "start_time": "2022-06-11T23:00:27.223Z"
   },
   {
    "duration": 6,
    "start_time": "2022-06-11T23:00:27.371Z"
   },
   {
    "duration": 10,
    "start_time": "2022-06-11T23:00:27.378Z"
   },
   {
    "duration": 7,
    "start_time": "2022-06-11T23:00:27.390Z"
   },
   {
    "duration": 9,
    "start_time": "2022-06-11T23:00:27.398Z"
   },
   {
    "duration": 45,
    "start_time": "2022-06-11T23:00:27.409Z"
   },
   {
    "duration": 11,
    "start_time": "2022-06-11T23:00:27.456Z"
   },
   {
    "duration": 11,
    "start_time": "2022-06-11T23:00:27.469Z"
   },
   {
    "duration": 383,
    "start_time": "2022-06-11T23:00:27.481Z"
   },
   {
    "duration": 2763,
    "start_time": "2022-06-11T23:00:27.866Z"
   },
   {
    "duration": 130,
    "start_time": "2022-06-11T23:00:30.630Z"
   },
   {
    "duration": 5965,
    "start_time": "2022-06-11T23:00:30.762Z"
   },
   {
    "duration": 5433,
    "start_time": "2022-06-11T23:00:36.729Z"
   },
   {
    "duration": 567,
    "start_time": "2022-06-11T23:00:42.163Z"
   },
   {
    "duration": 550,
    "start_time": "2022-06-11T23:00:42.733Z"
   },
   {
    "duration": 78,
    "start_time": "2022-06-11T23:00:43.285Z"
   },
   {
    "duration": 5,
    "start_time": "2022-06-11T23:00:43.365Z"
   },
   {
    "duration": 11,
    "start_time": "2022-06-11T23:00:43.372Z"
   },
   {
    "duration": 7,
    "start_time": "2022-06-11T23:00:43.385Z"
   },
   {
    "duration": 132,
    "start_time": "2022-06-11T23:00:43.394Z"
   },
   {
    "duration": 0,
    "start_time": "2022-06-11T23:00:43.527Z"
   },
   {
    "duration": 0,
    "start_time": "2022-06-11T23:00:43.529Z"
   },
   {
    "duration": 0,
    "start_time": "2022-06-11T23:00:43.530Z"
   },
   {
    "duration": 5,
    "start_time": "2022-06-11T23:02:09.912Z"
   },
   {
    "duration": 958685,
    "start_time": "2022-06-11T23:02:23.687Z"
   },
   {
    "duration": 4,
    "start_time": "2022-06-11T23:18:22.374Z"
   },
   {
    "duration": 108,
    "start_time": "2022-06-12T00:15:25.225Z"
   },
   {
    "duration": 1579,
    "start_time": "2022-06-14T16:35:33.505Z"
   },
   {
    "duration": 322,
    "start_time": "2022-06-14T16:35:35.087Z"
   },
   {
    "duration": 21,
    "start_time": "2022-06-14T16:35:35.410Z"
   },
   {
    "duration": 16,
    "start_time": "2022-06-14T16:35:35.434Z"
   },
   {
    "duration": 21,
    "start_time": "2022-06-14T16:35:35.453Z"
   },
   {
    "duration": 30,
    "start_time": "2022-06-14T16:35:35.476Z"
   },
   {
    "duration": 14,
    "start_time": "2022-06-14T16:35:35.509Z"
   },
   {
    "duration": 16,
    "start_time": "2022-06-14T16:35:35.525Z"
   },
   {
    "duration": 19,
    "start_time": "2022-06-14T16:35:35.543Z"
   },
   {
    "duration": 25,
    "start_time": "2022-06-14T16:35:35.566Z"
   },
   {
    "duration": 10,
    "start_time": "2022-06-14T16:35:35.593Z"
   },
   {
    "duration": 11,
    "start_time": "2022-06-14T16:35:35.605Z"
   },
   {
    "duration": 16,
    "start_time": "2022-06-14T16:35:35.617Z"
   },
   {
    "duration": 160,
    "start_time": "2022-06-14T16:35:35.635Z"
   },
   {
    "duration": 7,
    "start_time": "2022-06-14T16:35:35.797Z"
   },
   {
    "duration": 12,
    "start_time": "2022-06-14T16:35:35.806Z"
   },
   {
    "duration": 39,
    "start_time": "2022-06-14T16:35:35.820Z"
   },
   {
    "duration": 10,
    "start_time": "2022-06-14T16:35:35.863Z"
   },
   {
    "duration": 9,
    "start_time": "2022-06-14T16:35:35.875Z"
   },
   {
    "duration": 19,
    "start_time": "2022-06-14T16:35:35.886Z"
   },
   {
    "duration": 53,
    "start_time": "2022-06-14T16:35:35.907Z"
   },
   {
    "duration": 424,
    "start_time": "2022-06-14T16:35:35.962Z"
   },
   {
    "duration": 3050,
    "start_time": "2022-06-14T16:35:36.388Z"
   },
   {
    "duration": 147,
    "start_time": "2022-06-14T16:35:39.440Z"
   },
   {
    "duration": 6818,
    "start_time": "2022-06-14T16:35:39.589Z"
   },
   {
    "duration": 6076,
    "start_time": "2022-06-14T16:35:46.409Z"
   },
   {
    "duration": 568,
    "start_time": "2022-06-14T16:35:52.487Z"
   },
   {
    "duration": 605,
    "start_time": "2022-06-14T16:35:53.060Z"
   },
   {
    "duration": 97,
    "start_time": "2022-06-14T16:35:53.667Z"
   },
   {
    "duration": 6,
    "start_time": "2022-06-14T16:35:53.766Z"
   },
   {
    "duration": 18,
    "start_time": "2022-06-14T16:35:53.774Z"
   },
   {
    "duration": 1371,
    "start_time": "2022-06-14T16:36:53.364Z"
   },
   {
    "duration": 40,
    "start_time": "2022-06-14T16:36:54.737Z"
   },
   {
    "duration": 19,
    "start_time": "2022-06-14T16:36:54.779Z"
   },
   {
    "duration": 19,
    "start_time": "2022-06-14T16:36:54.800Z"
   },
   {
    "duration": 7,
    "start_time": "2022-06-14T16:36:54.822Z"
   },
   {
    "duration": 31,
    "start_time": "2022-06-14T16:36:54.831Z"
   },
   {
    "duration": 10,
    "start_time": "2022-06-14T16:36:54.865Z"
   },
   {
    "duration": 20,
    "start_time": "2022-06-14T16:36:54.878Z"
   },
   {
    "duration": 12,
    "start_time": "2022-06-14T16:36:54.900Z"
   },
   {
    "duration": 43,
    "start_time": "2022-06-14T16:36:54.917Z"
   },
   {
    "duration": 13,
    "start_time": "2022-06-14T16:36:54.962Z"
   },
   {
    "duration": 11,
    "start_time": "2022-06-14T16:36:54.977Z"
   },
   {
    "duration": 13,
    "start_time": "2022-06-14T16:36:54.991Z"
   },
   {
    "duration": 205,
    "start_time": "2022-06-14T16:36:55.006Z"
   },
   {
    "duration": 7,
    "start_time": "2022-06-14T16:36:55.213Z"
   },
   {
    "duration": 15,
    "start_time": "2022-06-14T16:36:55.222Z"
   },
   {
    "duration": 28,
    "start_time": "2022-06-14T16:36:55.239Z"
   },
   {
    "duration": 15,
    "start_time": "2022-06-14T16:36:55.269Z"
   },
   {
    "duration": 11,
    "start_time": "2022-06-14T16:36:55.286Z"
   },
   {
    "duration": 14,
    "start_time": "2022-06-14T16:36:55.299Z"
   },
   {
    "duration": 47,
    "start_time": "2022-06-14T16:36:55.315Z"
   },
   {
    "duration": 419,
    "start_time": "2022-06-14T16:36:55.364Z"
   },
   {
    "duration": 3006,
    "start_time": "2022-06-14T16:36:55.785Z"
   },
   {
    "duration": 154,
    "start_time": "2022-06-14T16:36:58.793Z"
   },
   {
    "duration": 6492,
    "start_time": "2022-06-14T16:36:58.949Z"
   },
   {
    "duration": 5943,
    "start_time": "2022-06-14T16:37:05.443Z"
   },
   {
    "duration": 613,
    "start_time": "2022-06-14T16:37:11.388Z"
   },
   {
    "duration": 575,
    "start_time": "2022-06-14T16:37:12.004Z"
   },
   {
    "duration": 84,
    "start_time": "2022-06-14T16:37:12.581Z"
   },
   {
    "duration": 4,
    "start_time": "2022-06-14T16:37:12.667Z"
   },
   {
    "duration": 23,
    "start_time": "2022-06-14T16:37:12.673Z"
   },
   {
    "duration": 1373,
    "start_time": "2022-06-14T16:42:16.831Z"
   },
   {
    "duration": 47,
    "start_time": "2022-06-14T16:42:18.206Z"
   },
   {
    "duration": 18,
    "start_time": "2022-06-14T16:42:18.255Z"
   },
   {
    "duration": 30,
    "start_time": "2022-06-14T16:42:18.276Z"
   },
   {
    "duration": 7,
    "start_time": "2022-06-14T16:42:18.308Z"
   },
   {
    "duration": 11,
    "start_time": "2022-06-14T16:42:18.317Z"
   },
   {
    "duration": 10,
    "start_time": "2022-06-14T16:42:18.330Z"
   },
   {
    "duration": 25,
    "start_time": "2022-06-14T16:42:18.342Z"
   },
   {
    "duration": 10,
    "start_time": "2022-06-14T16:42:18.369Z"
   },
   {
    "duration": 11,
    "start_time": "2022-06-14T16:42:18.382Z"
   },
   {
    "duration": 13,
    "start_time": "2022-06-14T16:42:18.395Z"
   },
   {
    "duration": 48,
    "start_time": "2022-06-14T16:42:18.410Z"
   },
   {
    "duration": 12,
    "start_time": "2022-06-14T16:42:18.461Z"
   },
   {
    "duration": 160,
    "start_time": "2022-06-14T16:42:18.475Z"
   },
   {
    "duration": 7,
    "start_time": "2022-06-14T16:42:18.637Z"
   },
   {
    "duration": 12,
    "start_time": "2022-06-14T16:42:18.658Z"
   },
   {
    "duration": 11,
    "start_time": "2022-06-14T16:42:18.671Z"
   },
   {
    "duration": 12,
    "start_time": "2022-06-14T16:42:18.683Z"
   },
   {
    "duration": 10,
    "start_time": "2022-06-14T16:42:18.696Z"
   },
   {
    "duration": 11,
    "start_time": "2022-06-14T16:42:18.707Z"
   },
   {
    "duration": 49,
    "start_time": "2022-06-14T16:42:18.720Z"
   },
   {
    "duration": 408,
    "start_time": "2022-06-14T16:42:18.771Z"
   },
   {
    "duration": 3087,
    "start_time": "2022-06-14T16:42:19.181Z"
   },
   {
    "duration": 152,
    "start_time": "2022-06-14T16:42:22.271Z"
   },
   {
    "duration": 6309,
    "start_time": "2022-06-14T16:42:22.426Z"
   },
   {
    "duration": 6090,
    "start_time": "2022-06-14T16:42:28.737Z"
   },
   {
    "duration": 574,
    "start_time": "2022-06-14T16:42:34.829Z"
   },
   {
    "duration": 573,
    "start_time": "2022-06-14T16:42:35.407Z"
   },
   {
    "duration": 86,
    "start_time": "2022-06-14T16:42:35.982Z"
   },
   {
    "duration": 4,
    "start_time": "2022-06-14T16:42:36.070Z"
   },
   {
    "duration": 9,
    "start_time": "2022-06-14T16:42:36.076Z"
   },
   {
    "duration": 1310,
    "start_time": "2022-06-14T16:59:51.652Z"
   },
   {
    "duration": 39,
    "start_time": "2022-06-14T16:59:52.964Z"
   },
   {
    "duration": 18,
    "start_time": "2022-06-14T16:59:53.005Z"
   },
   {
    "duration": 43,
    "start_time": "2022-06-14T16:59:53.025Z"
   },
   {
    "duration": 29,
    "start_time": "2022-06-14T16:59:53.069Z"
   },
   {
    "duration": 27,
    "start_time": "2022-06-14T16:59:53.100Z"
   },
   {
    "duration": 62,
    "start_time": "2022-06-14T16:59:53.129Z"
   },
   {
    "duration": 43,
    "start_time": "2022-06-14T16:59:53.192Z"
   },
   {
    "duration": 28,
    "start_time": "2022-06-14T16:59:53.236Z"
   },
   {
    "duration": 31,
    "start_time": "2022-06-14T16:59:53.267Z"
   },
   {
    "duration": 21,
    "start_time": "2022-06-14T16:59:53.299Z"
   },
   {
    "duration": 22,
    "start_time": "2022-06-14T16:59:53.322Z"
   },
   {
    "duration": 23,
    "start_time": "2022-06-14T16:59:53.346Z"
   },
   {
    "duration": 150,
    "start_time": "2022-06-14T16:59:53.371Z"
   },
   {
    "duration": 7,
    "start_time": "2022-06-14T16:59:53.522Z"
   },
   {
    "duration": 26,
    "start_time": "2022-06-14T16:59:53.531Z"
   },
   {
    "duration": 8,
    "start_time": "2022-06-14T16:59:53.558Z"
   },
   {
    "duration": 16,
    "start_time": "2022-06-14T16:59:53.568Z"
   },
   {
    "duration": 17,
    "start_time": "2022-06-14T16:59:53.586Z"
   },
   {
    "duration": 13,
    "start_time": "2022-06-14T16:59:53.605Z"
   },
   {
    "duration": 25,
    "start_time": "2022-06-14T16:59:53.620Z"
   },
   {
    "duration": 406,
    "start_time": "2022-06-14T16:59:53.646Z"
   },
   {
    "duration": 2962,
    "start_time": "2022-06-14T16:59:54.054Z"
   },
   {
    "duration": 141,
    "start_time": "2022-06-14T16:59:57.017Z"
   },
   {
    "duration": 6417,
    "start_time": "2022-06-14T16:59:57.160Z"
   },
   {
    "duration": 6058,
    "start_time": "2022-06-14T17:00:03.579Z"
   },
   {
    "duration": 573,
    "start_time": "2022-06-14T17:00:09.640Z"
   },
   {
    "duration": 572,
    "start_time": "2022-06-14T17:00:10.216Z"
   },
   {
    "duration": 95,
    "start_time": "2022-06-14T17:00:10.789Z"
   },
   {
    "duration": 6,
    "start_time": "2022-06-14T17:00:10.886Z"
   },
   {
    "duration": 14,
    "start_time": "2022-06-14T17:00:10.893Z"
   },
   {
    "duration": 132,
    "start_time": "2022-06-14T17:00:10.909Z"
   },
   {
    "duration": 0,
    "start_time": "2022-06-14T17:00:11.042Z"
   },
   {
    "duration": 0,
    "start_time": "2022-06-14T17:00:11.044Z"
   },
   {
    "duration": 0,
    "start_time": "2022-06-14T17:00:11.045Z"
   },
   {
    "duration": 0,
    "start_time": "2022-06-14T17:00:11.046Z"
   },
   {
    "duration": 6,
    "start_time": "2022-06-14T19:30:09.509Z"
   },
   {
    "duration": 5,
    "start_time": "2022-06-14T19:30:30.947Z"
   },
   {
    "duration": 5,
    "start_time": "2022-06-14T19:33:28.311Z"
   },
   {
    "duration": 6,
    "start_time": "2022-06-14T19:34:03.695Z"
   },
   {
    "duration": 6,
    "start_time": "2022-06-14T19:34:21.581Z"
   },
   {
    "duration": 1509,
    "start_time": "2022-06-14T19:34:34.877Z"
   },
   {
    "duration": 40,
    "start_time": "2022-06-14T19:34:36.392Z"
   },
   {
    "duration": 18,
    "start_time": "2022-06-14T19:34:36.434Z"
   },
   {
    "duration": 28,
    "start_time": "2022-06-14T19:34:36.454Z"
   },
   {
    "duration": 14,
    "start_time": "2022-06-14T19:34:36.485Z"
   },
   {
    "duration": 9,
    "start_time": "2022-06-14T19:34:36.501Z"
   },
   {
    "duration": 10,
    "start_time": "2022-06-14T19:34:36.513Z"
   },
   {
    "duration": 11,
    "start_time": "2022-06-14T19:34:36.524Z"
   },
   {
    "duration": 51,
    "start_time": "2022-06-14T19:34:36.537Z"
   },
   {
    "duration": 17,
    "start_time": "2022-06-14T19:34:36.590Z"
   },
   {
    "duration": 35,
    "start_time": "2022-06-14T19:34:36.609Z"
   },
   {
    "duration": 48,
    "start_time": "2022-06-14T19:34:36.646Z"
   },
   {
    "duration": 12,
    "start_time": "2022-06-14T19:34:36.696Z"
   },
   {
    "duration": 184,
    "start_time": "2022-06-14T19:34:36.712Z"
   },
   {
    "duration": 8,
    "start_time": "2022-06-14T19:34:36.898Z"
   },
   {
    "duration": 23,
    "start_time": "2022-06-14T19:34:36.908Z"
   },
   {
    "duration": 24,
    "start_time": "2022-06-14T19:34:36.933Z"
   },
   {
    "duration": 25,
    "start_time": "2022-06-14T19:34:36.970Z"
   },
   {
    "duration": 14,
    "start_time": "2022-06-14T19:34:36.997Z"
   },
   {
    "duration": 14,
    "start_time": "2022-06-14T19:34:37.014Z"
   },
   {
    "duration": 14,
    "start_time": "2022-06-14T19:34:37.030Z"
   },
   {
    "duration": 426,
    "start_time": "2022-06-14T19:34:37.068Z"
   },
   {
    "duration": 3501,
    "start_time": "2022-06-14T19:34:37.496Z"
   },
   {
    "duration": 156,
    "start_time": "2022-06-14T19:34:40.999Z"
   },
   {
    "duration": 7557,
    "start_time": "2022-06-14T19:34:41.158Z"
   },
   {
    "duration": 6934,
    "start_time": "2022-06-14T19:34:48.717Z"
   },
   {
    "duration": 678,
    "start_time": "2022-06-14T19:34:55.653Z"
   },
   {
    "duration": 654,
    "start_time": "2022-06-14T19:34:56.333Z"
   },
   {
    "duration": 87,
    "start_time": "2022-06-14T19:34:56.989Z"
   },
   {
    "duration": 6,
    "start_time": "2022-06-14T19:34:57.090Z"
   },
   {
    "duration": 5,
    "start_time": "2022-06-14T19:34:57.098Z"
   },
   {
    "duration": 1415,
    "start_time": "2022-06-14T19:35:59.009Z"
   },
   {
    "duration": 54,
    "start_time": "2022-06-14T19:36:00.428Z"
   },
   {
    "duration": 21,
    "start_time": "2022-06-14T19:36:00.485Z"
   },
   {
    "duration": 13,
    "start_time": "2022-06-14T19:36:00.508Z"
   },
   {
    "duration": 21,
    "start_time": "2022-06-14T19:36:00.522Z"
   },
   {
    "duration": 25,
    "start_time": "2022-06-14T19:36:00.545Z"
   },
   {
    "duration": 31,
    "start_time": "2022-06-14T19:36:00.571Z"
   },
   {
    "duration": 15,
    "start_time": "2022-06-14T19:36:00.604Z"
   },
   {
    "duration": 12,
    "start_time": "2022-06-14T19:36:00.620Z"
   },
   {
    "duration": 10,
    "start_time": "2022-06-14T19:36:00.634Z"
   },
   {
    "duration": 11,
    "start_time": "2022-06-14T19:36:00.646Z"
   },
   {
    "duration": 13,
    "start_time": "2022-06-14T19:36:00.661Z"
   },
   {
    "duration": 18,
    "start_time": "2022-06-14T19:36:00.676Z"
   },
   {
    "duration": 190,
    "start_time": "2022-06-14T19:36:00.696Z"
   },
   {
    "duration": 6,
    "start_time": "2022-06-14T19:36:00.888Z"
   },
   {
    "duration": 12,
    "start_time": "2022-06-14T19:36:00.896Z"
   },
   {
    "duration": 9,
    "start_time": "2022-06-14T19:36:00.910Z"
   },
   {
    "duration": 19,
    "start_time": "2022-06-14T19:36:00.920Z"
   },
   {
    "duration": 28,
    "start_time": "2022-06-14T19:36:00.941Z"
   },
   {
    "duration": 18,
    "start_time": "2022-06-14T19:36:00.971Z"
   },
   {
    "duration": 24,
    "start_time": "2022-06-14T19:36:00.991Z"
   },
   {
    "duration": 473,
    "start_time": "2022-06-14T19:36:01.017Z"
   },
   {
    "duration": 3418,
    "start_time": "2022-06-14T19:36:01.492Z"
   },
   {
    "duration": 174,
    "start_time": "2022-06-14T19:36:04.912Z"
   },
   {
    "duration": 7235,
    "start_time": "2022-06-14T19:36:05.087Z"
   },
   {
    "duration": 6609,
    "start_time": "2022-06-14T19:36:12.324Z"
   },
   {
    "duration": 660,
    "start_time": "2022-06-14T19:36:18.934Z"
   },
   {
    "duration": 653,
    "start_time": "2022-06-14T19:36:19.598Z"
   },
   {
    "duration": 95,
    "start_time": "2022-06-14T19:36:20.253Z"
   },
   {
    "duration": 10,
    "start_time": "2022-06-14T19:36:20.364Z"
   },
   {
    "duration": 15,
    "start_time": "2022-06-14T19:36:20.377Z"
   },
   {
    "duration": 5,
    "start_time": "2022-06-14T20:26:02.546Z"
   },
   {
    "duration": 7,
    "start_time": "2022-06-14T20:26:31.803Z"
   },
   {
    "duration": 5,
    "start_time": "2022-06-14T20:26:37.454Z"
   },
   {
    "duration": 5,
    "start_time": "2022-06-14T20:26:44.279Z"
   },
   {
    "duration": 5,
    "start_time": "2022-06-14T20:26:51.512Z"
   },
   {
    "duration": 4101,
    "start_time": "2022-06-14T20:26:53.547Z"
   },
   {
    "duration": 4,
    "start_time": "2022-06-14T20:27:24.412Z"
   },
   {
    "duration": 9,
    "start_time": "2022-06-14T20:27:57.293Z"
   },
   {
    "duration": 5,
    "start_time": "2022-06-14T20:28:03.109Z"
   },
   {
    "duration": 9,
    "start_time": "2022-06-14T20:28:13.985Z"
   },
   {
    "duration": 4,
    "start_time": "2022-06-14T20:28:24.483Z"
   },
   {
    "duration": 4,
    "start_time": "2022-06-14T20:29:58.395Z"
   },
   {
    "duration": 5,
    "start_time": "2022-06-14T20:30:19.137Z"
   },
   {
    "duration": 16,
    "start_time": "2022-06-14T20:31:51.706Z"
   },
   {
    "duration": 8,
    "start_time": "2022-06-14T20:32:03.993Z"
   },
   {
    "duration": 17,
    "start_time": "2022-06-14T20:32:05.185Z"
   },
   {
    "duration": 6,
    "start_time": "2022-06-14T20:32:38.456Z"
   },
   {
    "duration": 15035,
    "start_time": "2022-06-14T20:32:44.889Z"
   },
   {
    "duration": 8,
    "start_time": "2022-06-14T20:33:15.061Z"
   },
   {
    "duration": 59,
    "start_time": "2022-06-14T20:33:18.828Z"
   },
   {
    "duration": 7,
    "start_time": "2022-06-14T20:33:43.281Z"
   },
   {
    "duration": 13483,
    "start_time": "2022-06-14T20:33:46.491Z"
   },
   {
    "duration": 12,
    "start_time": "2022-06-14T20:33:59.976Z"
   },
   {
    "duration": 93,
    "start_time": "2022-06-14T20:34:02.962Z"
   },
   {
    "duration": 5,
    "start_time": "2022-06-14T20:34:54.542Z"
   },
   {
    "duration": 26755,
    "start_time": "2022-06-14T20:34:55.879Z"
   },
   {
    "duration": 7,
    "start_time": "2022-06-14T20:35:22.636Z"
   },
   {
    "duration": 94,
    "start_time": "2022-06-14T20:35:28.336Z"
   },
   {
    "duration": 26095,
    "start_time": "2022-06-14T20:36:12.902Z"
   },
   {
    "duration": 6,
    "start_time": "2022-06-14T20:36:39.000Z"
   },
   {
    "duration": 75,
    "start_time": "2022-06-14T20:36:52.117Z"
   },
   {
    "duration": 5,
    "start_time": "2022-06-14T20:38:28.834Z"
   },
   {
    "duration": 46892,
    "start_time": "2022-06-14T20:38:30.439Z"
   },
   {
    "duration": 5,
    "start_time": "2022-06-14T20:39:17.334Z"
   },
   {
    "duration": 86,
    "start_time": "2022-06-14T20:39:36.737Z"
   },
   {
    "duration": 5,
    "start_time": "2022-06-14T20:41:14.076Z"
   },
   {
    "duration": 67336,
    "start_time": "2022-06-14T20:41:17.175Z"
   },
   {
    "duration": 6,
    "start_time": "2022-06-14T20:42:24.513Z"
   },
   {
    "duration": 95,
    "start_time": "2022-06-14T20:43:11.819Z"
   },
   {
    "duration": 80,
    "start_time": "2022-06-14T20:43:58.220Z"
   },
   {
    "duration": 91,
    "start_time": "2022-06-14T20:43:59.447Z"
   },
   {
    "duration": 91,
    "start_time": "2022-06-14T20:44:00.682Z"
   },
   {
    "duration": 106,
    "start_time": "2022-06-14T20:44:01.920Z"
   },
   {
    "duration": 87,
    "start_time": "2022-06-14T20:44:03.118Z"
   },
   {
    "duration": 87,
    "start_time": "2022-06-14T20:44:09.648Z"
   },
   {
    "duration": 88,
    "start_time": "2022-06-14T20:44:11.227Z"
   },
   {
    "duration": 5,
    "start_time": "2022-06-14T20:44:27.125Z"
   },
   {
    "duration": 5,
    "start_time": "2022-06-14T20:44:28.124Z"
   },
   {
    "duration": 5,
    "start_time": "2022-06-14T20:44:29.024Z"
   },
   {
    "duration": 83,
    "start_time": "2022-06-14T20:45:04.032Z"
   },
   {
    "duration": 84,
    "start_time": "2022-06-14T20:45:05.986Z"
   },
   {
    "duration": 88,
    "start_time": "2022-06-14T20:45:07.026Z"
   },
   {
    "duration": 1405,
    "start_time": "2022-06-14T20:45:22.429Z"
   },
   {
    "duration": 40,
    "start_time": "2022-06-14T20:45:23.836Z"
   },
   {
    "duration": 19,
    "start_time": "2022-06-14T20:45:23.878Z"
   },
   {
    "duration": 14,
    "start_time": "2022-06-14T20:45:23.899Z"
   },
   {
    "duration": 5,
    "start_time": "2022-06-14T20:45:23.915Z"
   },
   {
    "duration": 7,
    "start_time": "2022-06-14T20:45:23.922Z"
   },
   {
    "duration": 35,
    "start_time": "2022-06-14T20:45:23.931Z"
   },
   {
    "duration": 22,
    "start_time": "2022-06-14T20:45:23.970Z"
   },
   {
    "duration": 8,
    "start_time": "2022-06-14T20:45:23.994Z"
   },
   {
    "duration": 9,
    "start_time": "2022-06-14T20:45:24.004Z"
   },
   {
    "duration": 44,
    "start_time": "2022-06-14T20:45:24.015Z"
   },
   {
    "duration": 12,
    "start_time": "2022-06-14T20:45:24.061Z"
   },
   {
    "duration": 13,
    "start_time": "2022-06-14T20:45:24.074Z"
   },
   {
    "duration": 175,
    "start_time": "2022-06-14T20:45:24.091Z"
   },
   {
    "duration": 9,
    "start_time": "2022-06-14T20:45:24.269Z"
   },
   {
    "duration": 14,
    "start_time": "2022-06-14T20:45:24.279Z"
   },
   {
    "duration": 9,
    "start_time": "2022-06-14T20:45:24.295Z"
   },
   {
    "duration": 11,
    "start_time": "2022-06-14T20:45:24.306Z"
   },
   {
    "duration": 45,
    "start_time": "2022-06-14T20:45:24.319Z"
   },
   {
    "duration": 21,
    "start_time": "2022-06-14T20:45:24.366Z"
   },
   {
    "duration": 13,
    "start_time": "2022-06-14T20:45:24.389Z"
   },
   {
    "duration": 417,
    "start_time": "2022-06-14T20:45:24.403Z"
   },
   {
    "duration": 3068,
    "start_time": "2022-06-14T20:45:24.821Z"
   },
   {
    "duration": 148,
    "start_time": "2022-06-14T20:45:27.891Z"
   },
   {
    "duration": 6563,
    "start_time": "2022-06-14T20:45:28.041Z"
   },
   {
    "duration": 6100,
    "start_time": "2022-06-14T20:45:34.606Z"
   },
   {
    "duration": 570,
    "start_time": "2022-06-14T20:45:40.708Z"
   },
   {
    "duration": 582,
    "start_time": "2022-06-14T20:45:41.280Z"
   },
   {
    "duration": 83,
    "start_time": "2022-06-14T20:45:41.864Z"
   },
   {
    "duration": 14,
    "start_time": "2022-06-14T20:45:41.949Z"
   },
   {
    "duration": 43,
    "start_time": "2022-06-14T20:45:41.965Z"
   },
   {
    "duration": 68631,
    "start_time": "2022-06-14T20:45:42.010Z"
   },
   {
    "duration": 5,
    "start_time": "2022-06-14T20:46:50.642Z"
   },
   {
    "duration": 73,
    "start_time": "2022-06-14T20:46:50.659Z"
   },
   {
    "duration": 102,
    "start_time": "2022-06-14T20:46:50.734Z"
   },
   {
    "duration": 167,
    "start_time": "2022-06-14T20:46:50.838Z"
   },
   {
    "duration": 73,
    "start_time": "2022-06-14T20:51:08.921Z"
   },
   {
    "duration": 70,
    "start_time": "2022-06-14T20:51:15.788Z"
   },
   {
    "duration": 71,
    "start_time": "2022-06-14T20:51:16.828Z"
   },
   {
    "duration": 67,
    "start_time": "2022-06-14T20:51:17.646Z"
   },
   {
    "duration": 68,
    "start_time": "2022-06-14T20:51:19.270Z"
   },
   {
    "duration": 67,
    "start_time": "2022-06-14T20:51:20.724Z"
   },
   {
    "duration": 68,
    "start_time": "2022-06-14T20:51:21.258Z"
   },
   {
    "duration": 92,
    "start_time": "2022-06-14T20:51:21.828Z"
   },
   {
    "duration": 70,
    "start_time": "2022-06-14T20:51:22.328Z"
   },
   {
    "duration": 76,
    "start_time": "2022-06-14T20:51:22.768Z"
   },
   {
    "duration": 66,
    "start_time": "2022-06-14T20:51:24.183Z"
   },
   {
    "duration": 93,
    "start_time": "2022-06-14T20:52:32.113Z"
   },
   {
    "duration": 86,
    "start_time": "2022-06-14T20:52:33.858Z"
   },
   {
    "duration": 86,
    "start_time": "2022-06-14T20:52:35.052Z"
   },
   {
    "duration": 5,
    "start_time": "2022-06-14T20:53:56.316Z"
   },
   {
    "duration": 6,
    "start_time": "2022-06-14T20:54:01.139Z"
   },
   {
    "duration": 7,
    "start_time": "2022-06-14T20:54:05.629Z"
   },
   {
    "duration": 7,
    "start_time": "2022-06-14T20:54:48.624Z"
   },
   {
    "duration": 101242,
    "start_time": "2022-06-14T20:54:51.366Z"
   },
   {
    "duration": 5,
    "start_time": "2022-06-14T20:56:32.610Z"
   },
   {
    "duration": 84,
    "start_time": "2022-06-14T20:56:32.617Z"
   },
   {
    "duration": 6,
    "start_time": "2022-06-14T20:56:58.883Z"
   },
   {
    "duration": 1336,
    "start_time": "2022-06-14T20:57:10.570Z"
   },
   {
    "duration": 47,
    "start_time": "2022-06-14T20:57:11.909Z"
   },
   {
    "duration": 23,
    "start_time": "2022-06-14T20:57:11.958Z"
   },
   {
    "duration": 16,
    "start_time": "2022-06-14T20:57:11.983Z"
   },
   {
    "duration": 6,
    "start_time": "2022-06-14T20:57:12.002Z"
   },
   {
    "duration": 13,
    "start_time": "2022-06-14T20:57:12.010Z"
   },
   {
    "duration": 14,
    "start_time": "2022-06-14T20:57:12.060Z"
   },
   {
    "duration": 11,
    "start_time": "2022-06-14T20:57:12.076Z"
   },
   {
    "duration": 19,
    "start_time": "2022-06-14T20:57:12.088Z"
   },
   {
    "duration": 20,
    "start_time": "2022-06-14T20:57:12.109Z"
   },
   {
    "duration": 11,
    "start_time": "2022-06-14T20:57:12.131Z"
   },
   {
    "duration": 21,
    "start_time": "2022-06-14T20:57:12.144Z"
   },
   {
    "duration": 10,
    "start_time": "2022-06-14T20:57:12.166Z"
   },
   {
    "duration": 152,
    "start_time": "2022-06-14T20:57:12.177Z"
   },
   {
    "duration": 7,
    "start_time": "2022-06-14T20:57:12.331Z"
   },
   {
    "duration": 27,
    "start_time": "2022-06-14T20:57:12.340Z"
   },
   {
    "duration": 10,
    "start_time": "2022-06-14T20:57:12.369Z"
   },
   {
    "duration": 15,
    "start_time": "2022-06-14T20:57:12.381Z"
   },
   {
    "duration": 8,
    "start_time": "2022-06-14T20:57:12.398Z"
   },
   {
    "duration": 9,
    "start_time": "2022-06-14T20:57:12.408Z"
   },
   {
    "duration": 51,
    "start_time": "2022-06-14T20:57:12.419Z"
   },
   {
    "duration": 413,
    "start_time": "2022-06-14T20:57:12.472Z"
   },
   {
    "duration": 3007,
    "start_time": "2022-06-14T20:57:12.886Z"
   },
   {
    "duration": 141,
    "start_time": "2022-06-14T20:57:15.894Z"
   },
   {
    "duration": 6354,
    "start_time": "2022-06-14T20:57:16.036Z"
   },
   {
    "duration": 5733,
    "start_time": "2022-06-14T20:57:22.392Z"
   },
   {
    "duration": 563,
    "start_time": "2022-06-14T20:57:28.127Z"
   },
   {
    "duration": 557,
    "start_time": "2022-06-14T20:57:28.693Z"
   },
   {
    "duration": 73,
    "start_time": "2022-06-14T20:57:29.252Z"
   },
   {
    "duration": 5,
    "start_time": "2022-06-14T20:57:29.327Z"
   },
   {
    "duration": 26,
    "start_time": "2022-06-14T20:57:29.334Z"
   },
   {
    "duration": 165731,
    "start_time": "2022-06-14T20:57:29.363Z"
   },
   {
    "duration": 5,
    "start_time": "2022-06-14T21:00:15.096Z"
   },
   {
    "duration": 107,
    "start_time": "2022-06-14T21:00:15.102Z"
   },
   {
    "duration": 100,
    "start_time": "2022-06-14T21:00:15.211Z"
   },
   {
    "duration": 145,
    "start_time": "2022-06-14T21:00:15.313Z"
   },
   {
    "duration": 5,
    "start_time": "2022-06-14T21:09:59.519Z"
   },
   {
    "duration": 6,
    "start_time": "2022-06-14T21:10:37.816Z"
   },
   {
    "duration": 6,
    "start_time": "2022-06-14T21:10:46.155Z"
   },
   {
    "duration": 1365,
    "start_time": "2022-06-14T21:16:23.140Z"
   },
   {
    "duration": 40,
    "start_time": "2022-06-14T21:16:24.507Z"
   },
   {
    "duration": 26,
    "start_time": "2022-06-14T21:16:24.549Z"
   },
   {
    "duration": 34,
    "start_time": "2022-06-14T21:16:24.577Z"
   },
   {
    "duration": 24,
    "start_time": "2022-06-14T21:16:24.613Z"
   },
   {
    "duration": 23,
    "start_time": "2022-06-14T21:16:24.639Z"
   },
   {
    "duration": 22,
    "start_time": "2022-06-14T21:16:24.666Z"
   },
   {
    "duration": 25,
    "start_time": "2022-06-14T21:16:24.690Z"
   },
   {
    "duration": 15,
    "start_time": "2022-06-14T21:16:24.717Z"
   },
   {
    "duration": 13,
    "start_time": "2022-06-14T21:16:24.735Z"
   },
   {
    "duration": 31,
    "start_time": "2022-06-14T21:16:24.750Z"
   },
   {
    "duration": 19,
    "start_time": "2022-06-14T21:16:24.782Z"
   },
   {
    "duration": 21,
    "start_time": "2022-06-14T21:16:24.803Z"
   },
   {
    "duration": 174,
    "start_time": "2022-06-14T21:16:24.826Z"
   },
   {
    "duration": 7,
    "start_time": "2022-06-14T21:16:25.002Z"
   },
   {
    "duration": 13,
    "start_time": "2022-06-14T21:16:25.011Z"
   },
   {
    "duration": 12,
    "start_time": "2022-06-14T21:16:25.026Z"
   },
   {
    "duration": 34,
    "start_time": "2022-06-14T21:16:25.039Z"
   },
   {
    "duration": 19,
    "start_time": "2022-06-14T21:16:25.075Z"
   },
   {
    "duration": 13,
    "start_time": "2022-06-14T21:16:25.096Z"
   },
   {
    "duration": 16,
    "start_time": "2022-06-14T21:16:25.111Z"
   },
   {
    "duration": 441,
    "start_time": "2022-06-14T21:16:25.129Z"
   },
   {
    "duration": 2985,
    "start_time": "2022-06-14T21:16:25.572Z"
   },
   {
    "duration": 135,
    "start_time": "2022-06-14T21:16:28.570Z"
   },
   {
    "duration": 6520,
    "start_time": "2022-06-14T21:16:28.707Z"
   },
   {
    "duration": 5894,
    "start_time": "2022-06-14T21:16:35.229Z"
   },
   {
    "duration": 571,
    "start_time": "2022-06-14T21:16:41.125Z"
   },
   {
    "duration": 607,
    "start_time": "2022-06-14T21:16:41.699Z"
   },
   {
    "duration": 85,
    "start_time": "2022-06-14T21:16:42.308Z"
   },
   {
    "duration": 4,
    "start_time": "2022-06-14T21:16:42.395Z"
   },
   {
    "duration": 16,
    "start_time": "2022-06-14T21:16:42.401Z"
   },
   {
    "duration": 169089,
    "start_time": "2022-06-14T21:16:42.419Z"
   },
   {
    "duration": 5,
    "start_time": "2022-06-14T21:19:31.511Z"
   },
   {
    "duration": 117,
    "start_time": "2022-06-14T21:19:31.518Z"
   },
   {
    "duration": 85,
    "start_time": "2022-06-14T21:19:31.637Z"
   },
   {
    "duration": 153,
    "start_time": "2022-06-14T21:19:31.724Z"
   },
   {
    "duration": 109,
    "start_time": "2022-06-14T21:19:42.234Z"
   },
   {
    "duration": 1379,
    "start_time": "2022-06-14T21:19:54.509Z"
   },
   {
    "duration": 41,
    "start_time": "2022-06-14T21:19:55.890Z"
   },
   {
    "duration": 19,
    "start_time": "2022-06-14T21:19:55.933Z"
   },
   {
    "duration": 14,
    "start_time": "2022-06-14T21:19:55.954Z"
   },
   {
    "duration": 6,
    "start_time": "2022-06-14T21:19:55.970Z"
   },
   {
    "duration": 9,
    "start_time": "2022-06-14T21:19:55.977Z"
   },
   {
    "duration": 6,
    "start_time": "2022-06-14T21:19:55.987Z"
   },
   {
    "duration": 24,
    "start_time": "2022-06-14T21:19:55.995Z"
   },
   {
    "duration": 9,
    "start_time": "2022-06-14T21:19:56.021Z"
   },
   {
    "duration": 10,
    "start_time": "2022-06-14T21:19:56.059Z"
   },
   {
    "duration": 11,
    "start_time": "2022-06-14T21:19:56.071Z"
   },
   {
    "duration": 10,
    "start_time": "2022-06-14T21:19:56.083Z"
   },
   {
    "duration": 11,
    "start_time": "2022-06-14T21:19:56.095Z"
   },
   {
    "duration": 189,
    "start_time": "2022-06-14T21:19:56.110Z"
   },
   {
    "duration": 8,
    "start_time": "2022-06-14T21:19:56.302Z"
   },
   {
    "duration": 14,
    "start_time": "2022-06-14T21:19:56.313Z"
   },
   {
    "duration": 39,
    "start_time": "2022-06-14T21:19:56.329Z"
   },
   {
    "duration": 13,
    "start_time": "2022-06-14T21:19:56.370Z"
   },
   {
    "duration": 11,
    "start_time": "2022-06-14T21:19:56.385Z"
   },
   {
    "duration": 13,
    "start_time": "2022-06-14T21:19:56.397Z"
   },
   {
    "duration": 12,
    "start_time": "2022-06-14T21:19:56.412Z"
   },
   {
    "duration": 434,
    "start_time": "2022-06-14T21:19:56.459Z"
   },
   {
    "duration": 2959,
    "start_time": "2022-06-14T21:19:56.895Z"
   },
   {
    "duration": 148,
    "start_time": "2022-06-14T21:19:59.856Z"
   },
   {
    "duration": 6786,
    "start_time": "2022-06-14T21:20:00.007Z"
   },
   {
    "duration": 5931,
    "start_time": "2022-06-14T21:20:06.795Z"
   },
   {
    "duration": 577,
    "start_time": "2022-06-14T21:20:12.728Z"
   },
   {
    "duration": 585,
    "start_time": "2022-06-14T21:20:13.307Z"
   },
   {
    "duration": 81,
    "start_time": "2022-06-14T21:20:13.894Z"
   },
   {
    "duration": 6,
    "start_time": "2022-06-14T21:20:13.976Z"
   },
   {
    "duration": 7,
    "start_time": "2022-06-14T21:20:13.983Z"
   },
   {
    "duration": 168680,
    "start_time": "2022-06-14T21:20:13.991Z"
   },
   {
    "duration": 4,
    "start_time": "2022-06-14T21:23:02.673Z"
   },
   {
    "duration": 221,
    "start_time": "2022-06-14T21:23:02.678Z"
   },
   {
    "duration": 1,
    "start_time": "2022-06-14T21:23:02.901Z"
   },
   {
    "duration": 0,
    "start_time": "2022-06-14T21:23:02.903Z"
   },
   {
    "duration": 97,
    "start_time": "2022-06-14T21:23:54.524Z"
   },
   {
    "duration": 1369,
    "start_time": "2022-06-14T21:24:06.923Z"
   },
   {
    "duration": 42,
    "start_time": "2022-06-14T21:24:08.294Z"
   },
   {
    "duration": 19,
    "start_time": "2022-06-14T21:24:08.338Z"
   },
   {
    "duration": 12,
    "start_time": "2022-06-14T21:24:08.359Z"
   },
   {
    "duration": 5,
    "start_time": "2022-06-14T21:24:08.373Z"
   },
   {
    "duration": 10,
    "start_time": "2022-06-14T21:24:08.379Z"
   },
   {
    "duration": 6,
    "start_time": "2022-06-14T21:24:08.390Z"
   },
   {
    "duration": 11,
    "start_time": "2022-06-14T21:24:08.397Z"
   },
   {
    "duration": 9,
    "start_time": "2022-06-14T21:24:08.409Z"
   },
   {
    "duration": 47,
    "start_time": "2022-06-14T21:24:08.419Z"
   },
   {
    "duration": 11,
    "start_time": "2022-06-14T21:24:08.468Z"
   },
   {
    "duration": 8,
    "start_time": "2022-06-14T21:24:08.481Z"
   },
   {
    "duration": 9,
    "start_time": "2022-06-14T21:24:08.491Z"
   },
   {
    "duration": 172,
    "start_time": "2022-06-14T21:24:08.502Z"
   },
   {
    "duration": 6,
    "start_time": "2022-06-14T21:24:08.676Z"
   },
   {
    "duration": 10,
    "start_time": "2022-06-14T21:24:08.684Z"
   },
   {
    "duration": 8,
    "start_time": "2022-06-14T21:24:08.696Z"
   },
   {
    "duration": 13,
    "start_time": "2022-06-14T21:24:08.706Z"
   },
   {
    "duration": 37,
    "start_time": "2022-06-14T21:24:08.721Z"
   },
   {
    "duration": 10,
    "start_time": "2022-06-14T21:24:08.760Z"
   },
   {
    "duration": 11,
    "start_time": "2022-06-14T21:24:08.771Z"
   },
   {
    "duration": 409,
    "start_time": "2022-06-14T21:24:08.784Z"
   },
   {
    "duration": 2993,
    "start_time": "2022-06-14T21:24:09.194Z"
   },
   {
    "duration": 142,
    "start_time": "2022-06-14T21:24:12.188Z"
   },
   {
    "duration": 6406,
    "start_time": "2022-06-14T21:24:12.331Z"
   },
   {
    "duration": 5785,
    "start_time": "2022-06-14T21:24:18.738Z"
   },
   {
    "duration": 561,
    "start_time": "2022-06-14T21:24:24.525Z"
   },
   {
    "duration": 570,
    "start_time": "2022-06-14T21:24:25.089Z"
   },
   {
    "duration": 74,
    "start_time": "2022-06-14T21:24:25.661Z"
   },
   {
    "duration": 5,
    "start_time": "2022-06-14T21:24:25.736Z"
   },
   {
    "duration": 6,
    "start_time": "2022-06-14T21:24:25.759Z"
   },
   {
    "duration": 161738,
    "start_time": "2022-06-14T21:24:25.767Z"
   },
   {
    "duration": 4,
    "start_time": "2022-06-14T21:27:07.507Z"
   },
   {
    "duration": 106,
    "start_time": "2022-06-14T21:27:07.513Z"
   },
   {
    "duration": 79,
    "start_time": "2022-06-14T21:27:07.621Z"
   },
   {
    "duration": 124,
    "start_time": "2022-06-14T21:27:07.702Z"
   },
   {
    "duration": 5,
    "start_time": "2022-06-14T21:32:12.940Z"
   },
   {
    "duration": 16,
    "start_time": "2022-06-14T21:35:09.496Z"
   },
   {
    "duration": 1270,
    "start_time": "2022-06-14T21:35:16.505Z"
   },
   {
    "duration": 40,
    "start_time": "2022-06-14T21:35:17.777Z"
   },
   {
    "duration": 18,
    "start_time": "2022-06-14T21:35:17.819Z"
   },
   {
    "duration": 13,
    "start_time": "2022-06-14T21:35:17.839Z"
   },
   {
    "duration": 9,
    "start_time": "2022-06-14T21:35:17.853Z"
   },
   {
    "duration": 7,
    "start_time": "2022-06-14T21:35:17.863Z"
   },
   {
    "duration": 7,
    "start_time": "2022-06-14T21:35:17.872Z"
   },
   {
    "duration": 9,
    "start_time": "2022-06-14T21:35:17.881Z"
   },
   {
    "duration": 7,
    "start_time": "2022-06-14T21:35:17.892Z"
   },
   {
    "duration": 14,
    "start_time": "2022-06-14T21:35:17.902Z"
   },
   {
    "duration": 47,
    "start_time": "2022-06-14T21:35:17.918Z"
   },
   {
    "duration": 11,
    "start_time": "2022-06-14T21:35:17.966Z"
   },
   {
    "duration": 11,
    "start_time": "2022-06-14T21:35:17.979Z"
   },
   {
    "duration": 168,
    "start_time": "2022-06-14T21:35:17.992Z"
   },
   {
    "duration": 8,
    "start_time": "2022-06-14T21:35:18.163Z"
   },
   {
    "duration": 11,
    "start_time": "2022-06-14T21:35:18.173Z"
   },
   {
    "duration": 10,
    "start_time": "2022-06-14T21:35:18.186Z"
   },
   {
    "duration": 10,
    "start_time": "2022-06-14T21:35:18.198Z"
   },
   {
    "duration": 54,
    "start_time": "2022-06-14T21:35:18.210Z"
   },
   {
    "duration": 10,
    "start_time": "2022-06-14T21:35:18.265Z"
   },
   {
    "duration": 13,
    "start_time": "2022-06-14T21:35:18.276Z"
   },
   {
    "duration": 416,
    "start_time": "2022-06-14T21:35:18.291Z"
   },
   {
    "duration": 2943,
    "start_time": "2022-06-14T21:35:18.708Z"
   },
   {
    "duration": 145,
    "start_time": "2022-06-14T21:35:21.653Z"
   },
   {
    "duration": 6434,
    "start_time": "2022-06-14T21:35:21.800Z"
   },
   {
    "duration": 6012,
    "start_time": "2022-06-14T21:35:28.236Z"
   },
   {
    "duration": 570,
    "start_time": "2022-06-14T21:35:34.250Z"
   },
   {
    "duration": 570,
    "start_time": "2022-06-14T21:35:34.823Z"
   },
   {
    "duration": 83,
    "start_time": "2022-06-14T21:35:35.395Z"
   },
   {
    "duration": 5,
    "start_time": "2022-06-14T21:35:35.480Z"
   },
   {
    "duration": 22,
    "start_time": "2022-06-14T21:35:35.487Z"
   },
   {
    "duration": 1385,
    "start_time": "2022-06-14T21:40:38.739Z"
   },
   {
    "duration": 42,
    "start_time": "2022-06-14T21:40:40.126Z"
   },
   {
    "duration": 22,
    "start_time": "2022-06-14T21:40:40.170Z"
   },
   {
    "duration": 17,
    "start_time": "2022-06-14T21:40:40.196Z"
   },
   {
    "duration": 7,
    "start_time": "2022-06-14T21:40:40.216Z"
   },
   {
    "duration": 12,
    "start_time": "2022-06-14T21:40:40.225Z"
   },
   {
    "duration": 9,
    "start_time": "2022-06-14T21:40:40.260Z"
   },
   {
    "duration": 17,
    "start_time": "2022-06-14T21:40:40.271Z"
   },
   {
    "duration": 13,
    "start_time": "2022-06-14T21:40:40.291Z"
   },
   {
    "duration": 10,
    "start_time": "2022-06-14T21:40:40.308Z"
   },
   {
    "duration": 49,
    "start_time": "2022-06-14T21:40:40.319Z"
   },
   {
    "duration": 11,
    "start_time": "2022-06-14T21:40:40.370Z"
   },
   {
    "duration": 12,
    "start_time": "2022-06-14T21:40:40.382Z"
   },
   {
    "duration": 169,
    "start_time": "2022-06-14T21:40:40.396Z"
   },
   {
    "duration": 7,
    "start_time": "2022-06-14T21:40:40.567Z"
   },
   {
    "duration": 19,
    "start_time": "2022-06-14T21:40:40.576Z"
   },
   {
    "duration": 10,
    "start_time": "2022-06-14T21:40:40.596Z"
   },
   {
    "duration": 12,
    "start_time": "2022-06-14T21:40:40.607Z"
   },
   {
    "duration": 39,
    "start_time": "2022-06-14T21:40:40.621Z"
   },
   {
    "duration": 25,
    "start_time": "2022-06-14T21:40:40.662Z"
   },
   {
    "duration": 12,
    "start_time": "2022-06-14T21:40:40.689Z"
   },
   {
    "duration": 405,
    "start_time": "2022-06-14T21:40:40.703Z"
   },
   {
    "duration": 2994,
    "start_time": "2022-06-14T21:40:41.110Z"
   },
   {
    "duration": 138,
    "start_time": "2022-06-14T21:40:44.106Z"
   },
   {
    "duration": 6303,
    "start_time": "2022-06-14T21:40:44.245Z"
   },
   {
    "duration": 5705,
    "start_time": "2022-06-14T21:40:50.550Z"
   },
   {
    "duration": 565,
    "start_time": "2022-06-14T21:40:56.258Z"
   },
   {
    "duration": 551,
    "start_time": "2022-06-14T21:40:56.826Z"
   },
   {
    "duration": 85,
    "start_time": "2022-06-14T21:40:57.379Z"
   },
   {
    "duration": 6,
    "start_time": "2022-06-14T21:40:57.466Z"
   },
   {
    "duration": 11,
    "start_time": "2022-06-14T21:40:57.474Z"
   },
   {
    "duration": 1335,
    "start_time": "2022-06-14T21:41:44.943Z"
   },
   {
    "duration": 43,
    "start_time": "2022-06-14T21:41:46.280Z"
   },
   {
    "duration": 17,
    "start_time": "2022-06-14T21:41:46.325Z"
   },
   {
    "duration": 12,
    "start_time": "2022-06-14T21:41:46.344Z"
   },
   {
    "duration": 6,
    "start_time": "2022-06-14T21:41:46.357Z"
   },
   {
    "duration": 7,
    "start_time": "2022-06-14T21:41:46.364Z"
   },
   {
    "duration": 7,
    "start_time": "2022-06-14T21:41:46.372Z"
   },
   {
    "duration": 10,
    "start_time": "2022-06-14T21:41:46.380Z"
   },
   {
    "duration": 9,
    "start_time": "2022-06-14T21:41:46.391Z"
   },
   {
    "duration": 9,
    "start_time": "2022-06-14T21:41:46.402Z"
   },
   {
    "duration": 51,
    "start_time": "2022-06-14T21:41:46.413Z"
   },
   {
    "duration": 8,
    "start_time": "2022-06-14T21:41:46.466Z"
   },
   {
    "duration": 10,
    "start_time": "2022-06-14T21:41:46.476Z"
   },
   {
    "duration": 162,
    "start_time": "2022-06-14T21:41:46.487Z"
   },
   {
    "duration": 12,
    "start_time": "2022-06-14T21:41:46.651Z"
   },
   {
    "duration": 10,
    "start_time": "2022-06-14T21:41:46.665Z"
   },
   {
    "duration": 8,
    "start_time": "2022-06-14T21:41:46.677Z"
   },
   {
    "duration": 9,
    "start_time": "2022-06-14T21:41:46.687Z"
   },
   {
    "duration": 8,
    "start_time": "2022-06-14T21:41:46.698Z"
   },
   {
    "duration": 9,
    "start_time": "2022-06-14T21:41:46.707Z"
   },
   {
    "duration": 15,
    "start_time": "2022-06-14T21:41:46.759Z"
   },
   {
    "duration": 407,
    "start_time": "2022-06-14T21:41:46.775Z"
   },
   {
    "duration": 2964,
    "start_time": "2022-06-14T21:41:47.184Z"
   },
   {
    "duration": 143,
    "start_time": "2022-06-14T21:41:50.150Z"
   },
   {
    "duration": 6309,
    "start_time": "2022-06-14T21:41:50.295Z"
   },
   {
    "duration": 5738,
    "start_time": "2022-06-14T21:41:56.605Z"
   },
   {
    "duration": 548,
    "start_time": "2022-06-14T21:42:02.345Z"
   },
   {
    "duration": 547,
    "start_time": "2022-06-14T21:42:02.897Z"
   },
   {
    "duration": 72,
    "start_time": "2022-06-14T21:42:03.446Z"
   },
   {
    "duration": 5,
    "start_time": "2022-06-14T21:42:03.519Z"
   },
   {
    "duration": 9,
    "start_time": "2022-06-14T21:42:03.525Z"
   },
   {
    "duration": 126,
    "start_time": "2022-06-14T21:42:03.536Z"
   },
   {
    "duration": 0,
    "start_time": "2022-06-14T21:42:03.663Z"
   },
   {
    "duration": 0,
    "start_time": "2022-06-14T21:42:03.665Z"
   },
   {
    "duration": 0,
    "start_time": "2022-06-14T21:42:03.666Z"
   },
   {
    "duration": 0,
    "start_time": "2022-06-14T21:42:03.667Z"
   },
   {
    "duration": 5,
    "start_time": "2022-06-14T21:43:09.970Z"
   },
   {
    "duration": 5,
    "start_time": "2022-06-14T21:43:20.865Z"
   },
   {
    "duration": 5,
    "start_time": "2022-06-14T21:43:34.726Z"
   },
   {
    "duration": 8,
    "start_time": "2022-06-14T21:43:43.807Z"
   },
   {
    "duration": 1345,
    "start_time": "2022-06-14T21:43:54.829Z"
   },
   {
    "duration": 41,
    "start_time": "2022-06-14T21:43:56.176Z"
   },
   {
    "duration": 19,
    "start_time": "2022-06-14T21:43:56.219Z"
   },
   {
    "duration": 15,
    "start_time": "2022-06-14T21:43:56.240Z"
   },
   {
    "duration": 5,
    "start_time": "2022-06-14T21:43:56.257Z"
   },
   {
    "duration": 13,
    "start_time": "2022-06-14T21:43:56.264Z"
   },
   {
    "duration": 9,
    "start_time": "2022-06-14T21:43:56.279Z"
   },
   {
    "duration": 10,
    "start_time": "2022-06-14T21:43:56.290Z"
   },
   {
    "duration": 8,
    "start_time": "2022-06-14T21:43:56.302Z"
   },
   {
    "duration": 9,
    "start_time": "2022-06-14T21:43:56.312Z"
   },
   {
    "duration": 10,
    "start_time": "2022-06-14T21:43:56.359Z"
   },
   {
    "duration": 10,
    "start_time": "2022-06-14T21:43:56.371Z"
   },
   {
    "duration": 10,
    "start_time": "2022-06-14T21:43:56.383Z"
   },
   {
    "duration": 172,
    "start_time": "2022-06-14T21:43:56.395Z"
   },
   {
    "duration": 6,
    "start_time": "2022-06-14T21:43:56.569Z"
   },
   {
    "duration": 29,
    "start_time": "2022-06-14T21:43:56.577Z"
   },
   {
    "duration": 28,
    "start_time": "2022-06-14T21:43:56.608Z"
   },
   {
    "duration": 29,
    "start_time": "2022-06-14T21:43:56.638Z"
   },
   {
    "duration": 37,
    "start_time": "2022-06-14T21:43:56.669Z"
   },
   {
    "duration": 21,
    "start_time": "2022-06-14T21:43:56.707Z"
   },
   {
    "duration": 13,
    "start_time": "2022-06-14T21:43:56.729Z"
   },
   {
    "duration": 396,
    "start_time": "2022-06-14T21:43:56.743Z"
   },
   {
    "duration": 2894,
    "start_time": "2022-06-14T21:43:57.141Z"
   },
   {
    "duration": 152,
    "start_time": "2022-06-14T21:44:00.037Z"
   },
   {
    "duration": 6438,
    "start_time": "2022-06-14T21:44:00.191Z"
   },
   {
    "duration": 5680,
    "start_time": "2022-06-14T21:44:06.631Z"
   },
   {
    "duration": 581,
    "start_time": "2022-06-14T21:44:12.313Z"
   },
   {
    "duration": 547,
    "start_time": "2022-06-14T21:44:12.898Z"
   },
   {
    "duration": 78,
    "start_time": "2022-06-14T21:44:13.447Z"
   },
   {
    "duration": 5,
    "start_time": "2022-06-14T21:44:13.527Z"
   },
   {
    "duration": 28,
    "start_time": "2022-06-14T21:44:13.533Z"
   },
   {
    "duration": 308319,
    "start_time": "2022-06-14T21:44:13.562Z"
   },
   {
    "duration": 5,
    "start_time": "2022-06-14T21:49:21.883Z"
   },
   {
    "duration": 908,
    "start_time": "2022-06-14T21:49:21.890Z"
   },
   {
    "duration": 79,
    "start_time": "2022-06-14T21:49:22.800Z"
   },
   {
    "duration": 124,
    "start_time": "2022-06-14T21:49:22.881Z"
   },
   {
    "duration": 5,
    "start_time": "2022-06-14T21:51:19.814Z"
   },
   {
    "duration": 1301,
    "start_time": "2022-06-14T21:51:29.083Z"
   },
   {
    "duration": 41,
    "start_time": "2022-06-14T21:51:30.386Z"
   },
   {
    "duration": 19,
    "start_time": "2022-06-14T21:51:30.429Z"
   },
   {
    "duration": 31,
    "start_time": "2022-06-14T21:51:30.450Z"
   },
   {
    "duration": 21,
    "start_time": "2022-06-14T21:51:30.483Z"
   },
   {
    "duration": 11,
    "start_time": "2022-06-14T21:51:30.506Z"
   },
   {
    "duration": 20,
    "start_time": "2022-06-14T21:51:30.519Z"
   },
   {
    "duration": 26,
    "start_time": "2022-06-14T21:51:30.541Z"
   },
   {
    "duration": 18,
    "start_time": "2022-06-14T21:51:30.569Z"
   },
   {
    "duration": 23,
    "start_time": "2022-06-14T21:51:30.590Z"
   },
   {
    "duration": 38,
    "start_time": "2022-06-14T21:51:30.615Z"
   },
   {
    "duration": 45,
    "start_time": "2022-06-14T21:51:30.654Z"
   },
   {
    "duration": 28,
    "start_time": "2022-06-14T21:51:30.702Z"
   },
   {
    "duration": 164,
    "start_time": "2022-06-14T21:51:30.732Z"
   },
   {
    "duration": 7,
    "start_time": "2022-06-14T21:51:30.898Z"
   },
   {
    "duration": 21,
    "start_time": "2022-06-14T21:51:30.907Z"
   },
   {
    "duration": 10,
    "start_time": "2022-06-14T21:51:30.930Z"
   },
   {
    "duration": 10,
    "start_time": "2022-06-14T21:51:30.958Z"
   },
   {
    "duration": 19,
    "start_time": "2022-06-14T21:51:30.970Z"
   },
   {
    "duration": 11,
    "start_time": "2022-06-14T21:51:30.991Z"
   },
   {
    "duration": 16,
    "start_time": "2022-06-14T21:51:31.005Z"
   },
   {
    "duration": 424,
    "start_time": "2022-06-14T21:51:31.023Z"
   },
   {
    "duration": 3022,
    "start_time": "2022-06-14T21:51:31.449Z"
   },
   {
    "duration": 226,
    "start_time": "2022-06-14T21:51:34.473Z"
   },
   {
    "duration": 6677,
    "start_time": "2022-06-14T21:51:34.701Z"
   },
   {
    "duration": 5807,
    "start_time": "2022-06-14T21:51:41.380Z"
   },
   {
    "duration": 566,
    "start_time": "2022-06-14T21:51:47.189Z"
   },
   {
    "duration": 551,
    "start_time": "2022-06-14T21:51:47.760Z"
   },
   {
    "duration": 79,
    "start_time": "2022-06-14T21:51:48.313Z"
   },
   {
    "duration": 4,
    "start_time": "2022-06-14T21:51:48.394Z"
   },
   {
    "duration": 5,
    "start_time": "2022-06-14T21:51:48.400Z"
   },
   {
    "duration": 561185,
    "start_time": "2022-06-14T21:51:48.406Z"
   },
   {
    "duration": 4,
    "start_time": "2022-06-14T22:01:09.593Z"
   },
   {
    "duration": 759,
    "start_time": "2022-06-14T22:01:09.599Z"
   },
   {
    "duration": 72,
    "start_time": "2022-06-14T22:01:10.360Z"
   },
   {
    "duration": 127,
    "start_time": "2022-06-14T22:01:10.433Z"
   },
   {
    "duration": 6,
    "start_time": "2022-06-14T22:01:42.144Z"
   },
   {
    "duration": 144532,
    "start_time": "2022-06-14T22:01:43.864Z"
   },
   {
    "duration": 4,
    "start_time": "2022-06-14T22:04:08.398Z"
   },
   {
    "duration": 5,
    "start_time": "2022-06-14T22:04:33.767Z"
   },
   {
    "duration": 343810,
    "start_time": "2022-06-14T22:04:35.346Z"
   },
   {
    "duration": 4,
    "start_time": "2022-06-14T22:10:19.159Z"
   },
   {
    "duration": 780,
    "start_time": "2022-06-14T22:10:19.164Z"
   },
   {
    "duration": 5,
    "start_time": "2022-06-14T22:18:00.093Z"
   },
   {
    "duration": 1269,
    "start_time": "2022-06-14T22:24:30.111Z"
   },
   {
    "duration": 40,
    "start_time": "2022-06-14T22:24:31.382Z"
   },
   {
    "duration": 17,
    "start_time": "2022-06-14T22:24:31.424Z"
   },
   {
    "duration": 16,
    "start_time": "2022-06-14T22:24:31.443Z"
   },
   {
    "duration": 7,
    "start_time": "2022-06-14T22:24:31.460Z"
   },
   {
    "duration": 11,
    "start_time": "2022-06-14T22:24:31.469Z"
   },
   {
    "duration": 11,
    "start_time": "2022-06-14T22:24:31.481Z"
   },
   {
    "duration": 9,
    "start_time": "2022-06-14T22:24:31.494Z"
   },
   {
    "duration": 8,
    "start_time": "2022-06-14T22:24:31.505Z"
   },
   {
    "duration": 18,
    "start_time": "2022-06-14T22:24:31.517Z"
   },
   {
    "duration": 11,
    "start_time": "2022-06-14T22:24:31.559Z"
   },
   {
    "duration": 10,
    "start_time": "2022-06-14T22:24:31.572Z"
   },
   {
    "duration": 12,
    "start_time": "2022-06-14T22:24:31.584Z"
   },
   {
    "duration": 168,
    "start_time": "2022-06-14T22:24:31.598Z"
   },
   {
    "duration": 7,
    "start_time": "2022-06-14T22:24:31.768Z"
   },
   {
    "duration": 16,
    "start_time": "2022-06-14T22:24:31.777Z"
   },
   {
    "duration": 24,
    "start_time": "2022-06-14T22:24:31.795Z"
   },
   {
    "duration": 64,
    "start_time": "2022-06-14T22:24:31.821Z"
   },
   {
    "duration": 18,
    "start_time": "2022-06-14T22:24:31.887Z"
   },
   {
    "duration": 18,
    "start_time": "2022-06-14T22:24:31.907Z"
   },
   {
    "duration": 15,
    "start_time": "2022-06-14T22:24:31.928Z"
   },
   {
    "duration": 405,
    "start_time": "2022-06-14T22:24:31.946Z"
   },
   {
    "duration": 2977,
    "start_time": "2022-06-14T22:24:32.352Z"
   },
   {
    "duration": 138,
    "start_time": "2022-06-14T22:24:35.330Z"
   },
   {
    "duration": 6179,
    "start_time": "2022-06-14T22:24:35.470Z"
   },
   {
    "duration": 5699,
    "start_time": "2022-06-14T22:24:41.650Z"
   },
   {
    "duration": 586,
    "start_time": "2022-06-14T22:24:47.351Z"
   },
   {
    "duration": 552,
    "start_time": "2022-06-14T22:24:47.942Z"
   },
   {
    "duration": 78,
    "start_time": "2022-06-14T22:24:48.496Z"
   },
   {
    "duration": 5,
    "start_time": "2022-06-14T22:24:48.577Z"
   },
   {
    "duration": 6,
    "start_time": "2022-06-14T22:24:48.584Z"
   },
   {
    "duration": 66209,
    "start_time": "2022-06-14T22:24:48.592Z"
   },
   {
    "duration": 4,
    "start_time": "2022-06-14T22:25:54.803Z"
   },
   {
    "duration": 124,
    "start_time": "2022-06-14T22:25:54.808Z"
   },
   {
    "duration": 0,
    "start_time": "2022-06-14T22:25:54.934Z"
   },
   {
    "duration": 0,
    "start_time": "2022-06-14T22:25:54.935Z"
   },
   {
    "duration": 51,
    "start_time": "2022-06-14T22:27:23.326Z"
   },
   {
    "duration": 30,
    "start_time": "2022-06-14T22:28:02.670Z"
   },
   {
    "duration": 1343,
    "start_time": "2022-06-14T22:28:17.860Z"
   },
   {
    "duration": 41,
    "start_time": "2022-06-14T22:28:19.205Z"
   },
   {
    "duration": 18,
    "start_time": "2022-06-14T22:28:19.247Z"
   },
   {
    "duration": 14,
    "start_time": "2022-06-14T22:28:19.267Z"
   },
   {
    "duration": 6,
    "start_time": "2022-06-14T22:28:19.283Z"
   },
   {
    "duration": 8,
    "start_time": "2022-06-14T22:28:19.291Z"
   },
   {
    "duration": 7,
    "start_time": "2022-06-14T22:28:19.301Z"
   },
   {
    "duration": 12,
    "start_time": "2022-06-14T22:28:19.309Z"
   },
   {
    "duration": 43,
    "start_time": "2022-06-14T22:28:19.323Z"
   },
   {
    "duration": 9,
    "start_time": "2022-06-14T22:28:19.369Z"
   },
   {
    "duration": 20,
    "start_time": "2022-06-14T22:28:19.380Z"
   },
   {
    "duration": 9,
    "start_time": "2022-06-14T22:28:19.401Z"
   },
   {
    "duration": 11,
    "start_time": "2022-06-14T22:28:19.412Z"
   },
   {
    "duration": 168,
    "start_time": "2022-06-14T22:28:19.425Z"
   },
   {
    "duration": 7,
    "start_time": "2022-06-14T22:28:19.595Z"
   },
   {
    "duration": 12,
    "start_time": "2022-06-14T22:28:19.603Z"
   },
   {
    "duration": 10,
    "start_time": "2022-06-14T22:28:19.617Z"
   },
   {
    "duration": 38,
    "start_time": "2022-06-14T22:28:19.628Z"
   },
   {
    "duration": 9,
    "start_time": "2022-06-14T22:28:19.668Z"
   },
   {
    "duration": 10,
    "start_time": "2022-06-14T22:28:19.679Z"
   },
   {
    "duration": 12,
    "start_time": "2022-06-14T22:28:19.691Z"
   },
   {
    "duration": 432,
    "start_time": "2022-06-14T22:28:19.705Z"
   },
   {
    "duration": 2957,
    "start_time": "2022-06-14T22:28:20.139Z"
   },
   {
    "duration": 137,
    "start_time": "2022-06-14T22:28:23.098Z"
   },
   {
    "duration": 6214,
    "start_time": "2022-06-14T22:28:23.237Z"
   },
   {
    "duration": 5672,
    "start_time": "2022-06-14T22:28:29.453Z"
   },
   {
    "duration": 564,
    "start_time": "2022-06-14T22:28:35.126Z"
   },
   {
    "duration": 532,
    "start_time": "2022-06-14T22:28:35.693Z"
   },
   {
    "duration": 92,
    "start_time": "2022-06-14T22:28:36.227Z"
   },
   {
    "duration": 5,
    "start_time": "2022-06-14T22:28:36.321Z"
   },
   {
    "duration": 8,
    "start_time": "2022-06-14T22:28:36.328Z"
   },
   {
    "duration": 65696,
    "start_time": "2022-06-14T22:28:36.338Z"
   },
   {
    "duration": 5,
    "start_time": "2022-06-14T22:29:42.035Z"
   },
   {
    "duration": 135,
    "start_time": "2022-06-14T22:29:42.042Z"
   },
   {
    "duration": 0,
    "start_time": "2022-06-14T22:29:42.179Z"
   },
   {
    "duration": 0,
    "start_time": "2022-06-14T22:29:42.181Z"
   },
   {
    "duration": 42,
    "start_time": "2022-06-15T01:36:01.150Z"
   },
   {
    "duration": 2,
    "start_time": "2022-06-15T01:48:41.503Z"
   },
   {
    "duration": 22,
    "start_time": "2022-06-15T02:07:16.018Z"
   },
   {
    "duration": 16,
    "start_time": "2022-06-15T02:07:33.034Z"
   },
   {
    "duration": 15,
    "start_time": "2022-06-15T02:07:50.620Z"
   },
   {
    "duration": 1397,
    "start_time": "2022-06-15T02:08:24.936Z"
   },
   {
    "duration": 40,
    "start_time": "2022-06-15T02:08:26.335Z"
   },
   {
    "duration": 19,
    "start_time": "2022-06-15T02:08:26.377Z"
   },
   {
    "duration": 14,
    "start_time": "2022-06-15T02:08:26.398Z"
   },
   {
    "duration": 6,
    "start_time": "2022-06-15T02:08:26.414Z"
   },
   {
    "duration": 37,
    "start_time": "2022-06-15T02:08:26.421Z"
   },
   {
    "duration": 7,
    "start_time": "2022-06-15T02:08:26.461Z"
   },
   {
    "duration": 11,
    "start_time": "2022-06-15T02:08:26.470Z"
   },
   {
    "duration": 9,
    "start_time": "2022-06-15T02:08:26.483Z"
   },
   {
    "duration": 16,
    "start_time": "2022-06-15T02:08:26.495Z"
   },
   {
    "duration": 53,
    "start_time": "2022-06-15T02:08:26.513Z"
   },
   {
    "duration": 90,
    "start_time": "2022-06-15T02:08:26.568Z"
   },
   {
    "duration": 35,
    "start_time": "2022-06-15T02:08:26.660Z"
   },
   {
    "duration": 134,
    "start_time": "2022-06-15T02:08:26.697Z"
   },
   {
    "duration": 8,
    "start_time": "2022-06-15T02:08:26.833Z"
   },
   {
    "duration": 22,
    "start_time": "2022-06-15T02:08:26.843Z"
   },
   {
    "duration": 9,
    "start_time": "2022-06-15T02:08:26.867Z"
   },
   {
    "duration": 10,
    "start_time": "2022-06-15T02:08:26.878Z"
   },
   {
    "duration": 8,
    "start_time": "2022-06-15T02:08:26.889Z"
   },
   {
    "duration": 14,
    "start_time": "2022-06-15T02:08:26.899Z"
   },
   {
    "duration": 46,
    "start_time": "2022-06-15T02:08:26.914Z"
   },
   {
    "duration": 401,
    "start_time": "2022-06-15T02:08:26.961Z"
   },
   {
    "duration": 128,
    "start_time": "2022-06-15T02:08:27.365Z"
   },
   {
    "duration": 0,
    "start_time": "2022-06-15T02:08:27.495Z"
   },
   {
    "duration": 0,
    "start_time": "2022-06-15T02:08:27.497Z"
   },
   {
    "duration": 0,
    "start_time": "2022-06-15T02:08:27.499Z"
   },
   {
    "duration": 0,
    "start_time": "2022-06-15T02:08:27.500Z"
   },
   {
    "duration": 0,
    "start_time": "2022-06-15T02:08:27.502Z"
   },
   {
    "duration": 0,
    "start_time": "2022-06-15T02:08:27.503Z"
   },
   {
    "duration": 0,
    "start_time": "2022-06-15T02:08:27.505Z"
   },
   {
    "duration": 0,
    "start_time": "2022-06-15T02:08:27.507Z"
   },
   {
    "duration": 0,
    "start_time": "2022-06-15T02:08:27.508Z"
   },
   {
    "duration": 0,
    "start_time": "2022-06-15T02:08:27.509Z"
   },
   {
    "duration": 0,
    "start_time": "2022-06-15T02:08:27.511Z"
   },
   {
    "duration": 0,
    "start_time": "2022-06-15T02:08:27.512Z"
   },
   {
    "duration": 0,
    "start_time": "2022-06-15T02:08:27.514Z"
   },
   {
    "duration": 0,
    "start_time": "2022-06-15T02:08:27.516Z"
   },
   {
    "duration": 16,
    "start_time": "2022-06-15T02:09:03.215Z"
   },
   {
    "duration": 16,
    "start_time": "2022-06-15T02:09:19.364Z"
   },
   {
    "duration": 1366,
    "start_time": "2022-06-15T02:09:46.523Z"
   },
   {
    "duration": 40,
    "start_time": "2022-06-15T02:09:47.891Z"
   },
   {
    "duration": 18,
    "start_time": "2022-06-15T02:09:47.933Z"
   },
   {
    "duration": 12,
    "start_time": "2022-06-15T02:09:47.954Z"
   },
   {
    "duration": 5,
    "start_time": "2022-06-15T02:09:47.968Z"
   },
   {
    "duration": 7,
    "start_time": "2022-06-15T02:09:47.975Z"
   },
   {
    "duration": 6,
    "start_time": "2022-06-15T02:09:47.983Z"
   },
   {
    "duration": 10,
    "start_time": "2022-06-15T02:09:47.990Z"
   },
   {
    "duration": 8,
    "start_time": "2022-06-15T02:09:48.002Z"
   },
   {
    "duration": 49,
    "start_time": "2022-06-15T02:09:48.012Z"
   },
   {
    "duration": 9,
    "start_time": "2022-06-15T02:09:48.063Z"
   },
   {
    "duration": 9,
    "start_time": "2022-06-15T02:09:48.073Z"
   },
   {
    "duration": 11,
    "start_time": "2022-06-15T02:09:48.084Z"
   },
   {
    "duration": 167,
    "start_time": "2022-06-15T02:09:48.097Z"
   },
   {
    "duration": 6,
    "start_time": "2022-06-15T02:09:48.266Z"
   },
   {
    "duration": 10,
    "start_time": "2022-06-15T02:09:48.274Z"
   },
   {
    "duration": 8,
    "start_time": "2022-06-15T02:09:48.286Z"
   },
   {
    "duration": 9,
    "start_time": "2022-06-15T02:09:48.296Z"
   },
   {
    "duration": 11,
    "start_time": "2022-06-15T02:09:48.306Z"
   },
   {
    "duration": 10,
    "start_time": "2022-06-15T02:09:48.360Z"
   },
   {
    "duration": 12,
    "start_time": "2022-06-15T02:09:48.372Z"
   },
   {
    "duration": 406,
    "start_time": "2022-06-15T02:09:48.386Z"
   },
   {
    "duration": 126,
    "start_time": "2022-06-15T02:09:48.794Z"
   },
   {
    "duration": 0,
    "start_time": "2022-06-15T02:09:48.922Z"
   },
   {
    "duration": 0,
    "start_time": "2022-06-15T02:09:48.923Z"
   },
   {
    "duration": 0,
    "start_time": "2022-06-15T02:09:48.924Z"
   },
   {
    "duration": 0,
    "start_time": "2022-06-15T02:09:48.925Z"
   },
   {
    "duration": 0,
    "start_time": "2022-06-15T02:09:48.926Z"
   },
   {
    "duration": 0,
    "start_time": "2022-06-15T02:09:48.927Z"
   },
   {
    "duration": 0,
    "start_time": "2022-06-15T02:09:48.928Z"
   },
   {
    "duration": 0,
    "start_time": "2022-06-15T02:09:48.930Z"
   },
   {
    "duration": 0,
    "start_time": "2022-06-15T02:09:48.930Z"
   },
   {
    "duration": 0,
    "start_time": "2022-06-15T02:09:48.932Z"
   },
   {
    "duration": 0,
    "start_time": "2022-06-15T02:09:48.932Z"
   },
   {
    "duration": 0,
    "start_time": "2022-06-15T02:09:48.958Z"
   },
   {
    "duration": 0,
    "start_time": "2022-06-15T02:09:48.960Z"
   },
   {
    "duration": 0,
    "start_time": "2022-06-15T02:09:48.961Z"
   },
   {
    "duration": 1320,
    "start_time": "2022-06-15T02:12:02.616Z"
   },
   {
    "duration": 42,
    "start_time": "2022-06-15T02:12:03.938Z"
   },
   {
    "duration": 17,
    "start_time": "2022-06-15T02:12:03.982Z"
   },
   {
    "duration": 15,
    "start_time": "2022-06-15T02:12:04.002Z"
   },
   {
    "duration": 5,
    "start_time": "2022-06-15T02:12:04.019Z"
   },
   {
    "duration": 17,
    "start_time": "2022-06-15T02:12:04.025Z"
   },
   {
    "duration": 20,
    "start_time": "2022-06-15T02:12:04.044Z"
   },
   {
    "duration": 12,
    "start_time": "2022-06-15T02:12:04.065Z"
   },
   {
    "duration": 8,
    "start_time": "2022-06-15T02:12:04.079Z"
   },
   {
    "duration": 14,
    "start_time": "2022-06-15T02:12:04.089Z"
   },
   {
    "duration": 25,
    "start_time": "2022-06-15T02:12:04.104Z"
   },
   {
    "duration": 34,
    "start_time": "2022-06-15T02:12:04.131Z"
   },
   {
    "duration": 10,
    "start_time": "2022-06-15T02:12:04.167Z"
   },
   {
    "duration": 170,
    "start_time": "2022-06-15T02:12:04.178Z"
   },
   {
    "duration": 13,
    "start_time": "2022-06-15T02:12:04.350Z"
   },
   {
    "duration": 15,
    "start_time": "2022-06-15T02:12:04.364Z"
   },
   {
    "duration": 9,
    "start_time": "2022-06-15T02:12:04.381Z"
   },
   {
    "duration": 9,
    "start_time": "2022-06-15T02:12:04.391Z"
   },
   {
    "duration": 9,
    "start_time": "2022-06-15T02:12:04.401Z"
   },
   {
    "duration": 10,
    "start_time": "2022-06-15T02:12:04.411Z"
   },
   {
    "duration": 13,
    "start_time": "2022-06-15T02:12:04.458Z"
   },
   {
    "duration": 409,
    "start_time": "2022-06-15T02:12:04.473Z"
   },
   {
    "duration": 1336,
    "start_time": "2022-06-15T02:25:37.359Z"
   },
   {
    "duration": 40,
    "start_time": "2022-06-15T02:25:38.697Z"
   },
   {
    "duration": 18,
    "start_time": "2022-06-15T02:25:38.739Z"
   },
   {
    "duration": 15,
    "start_time": "2022-06-15T02:25:38.759Z"
   },
   {
    "duration": 6,
    "start_time": "2022-06-15T02:25:38.776Z"
   },
   {
    "duration": 8,
    "start_time": "2022-06-15T02:25:38.783Z"
   },
   {
    "duration": 7,
    "start_time": "2022-06-15T02:25:38.793Z"
   },
   {
    "duration": 11,
    "start_time": "2022-06-15T02:25:38.802Z"
   },
   {
    "duration": 51,
    "start_time": "2022-06-15T02:25:38.815Z"
   },
   {
    "duration": 9,
    "start_time": "2022-06-15T02:25:38.870Z"
   },
   {
    "duration": 8,
    "start_time": "2022-06-15T02:25:38.881Z"
   },
   {
    "duration": 9,
    "start_time": "2022-06-15T02:25:38.891Z"
   },
   {
    "duration": 13,
    "start_time": "2022-06-15T02:25:38.902Z"
   },
   {
    "duration": 184,
    "start_time": "2022-06-15T02:25:38.917Z"
   },
   {
    "duration": 7,
    "start_time": "2022-06-15T02:25:39.103Z"
   },
   {
    "duration": 10,
    "start_time": "2022-06-15T02:25:39.112Z"
   },
   {
    "duration": 42,
    "start_time": "2022-06-15T02:25:39.124Z"
   },
   {
    "duration": 20,
    "start_time": "2022-06-15T02:25:39.168Z"
   },
   {
    "duration": 10,
    "start_time": "2022-06-15T02:25:39.191Z"
   },
   {
    "duration": 19,
    "start_time": "2022-06-15T02:25:39.203Z"
   },
   {
    "duration": 14,
    "start_time": "2022-06-15T02:25:39.224Z"
   },
   {
    "duration": 407,
    "start_time": "2022-06-15T02:25:39.259Z"
   },
   {
    "duration": 2000,
    "start_time": "2022-06-15T02:25:39.668Z"
   },
   {
    "duration": 0,
    "start_time": "2022-06-15T02:25:41.670Z"
   },
   {
    "duration": 0,
    "start_time": "2022-06-15T02:25:41.672Z"
   },
   {
    "duration": 0,
    "start_time": "2022-06-15T02:25:41.674Z"
   },
   {
    "duration": 0,
    "start_time": "2022-06-15T02:25:41.675Z"
   },
   {
    "duration": 0,
    "start_time": "2022-06-15T02:25:41.676Z"
   },
   {
    "duration": 0,
    "start_time": "2022-06-15T02:25:41.677Z"
   },
   {
    "duration": 0,
    "start_time": "2022-06-15T02:25:41.679Z"
   },
   {
    "duration": 0,
    "start_time": "2022-06-15T02:25:41.681Z"
   },
   {
    "duration": 0,
    "start_time": "2022-06-15T02:25:41.682Z"
   },
   {
    "duration": 0,
    "start_time": "2022-06-15T02:25:41.683Z"
   },
   {
    "duration": 0,
    "start_time": "2022-06-15T02:25:41.685Z"
   },
   {
    "duration": 0,
    "start_time": "2022-06-15T02:25:41.687Z"
   },
   {
    "duration": 0,
    "start_time": "2022-06-15T02:25:41.689Z"
   },
   {
    "duration": 0,
    "start_time": "2022-06-15T02:25:41.690Z"
   },
   {
    "duration": 0,
    "start_time": "2022-06-15T02:25:41.692Z"
   },
   {
    "duration": 1946,
    "start_time": "2022-06-15T02:25:51.643Z"
   },
   {
    "duration": 1953,
    "start_time": "2022-06-15T02:26:23.736Z"
   },
   {
    "duration": 1357,
    "start_time": "2022-06-15T02:27:06.887Z"
   },
   {
    "duration": 42,
    "start_time": "2022-06-15T02:27:08.245Z"
   },
   {
    "duration": 19,
    "start_time": "2022-06-15T02:27:08.289Z"
   },
   {
    "duration": 16,
    "start_time": "2022-06-15T02:27:08.310Z"
   },
   {
    "duration": 6,
    "start_time": "2022-06-15T02:27:08.328Z"
   },
   {
    "duration": 9,
    "start_time": "2022-06-15T02:27:08.335Z"
   },
   {
    "duration": 6,
    "start_time": "2022-06-15T02:27:08.359Z"
   },
   {
    "duration": 20,
    "start_time": "2022-06-15T02:27:08.367Z"
   },
   {
    "duration": 9,
    "start_time": "2022-06-15T02:27:08.388Z"
   },
   {
    "duration": 11,
    "start_time": "2022-06-15T02:27:08.399Z"
   },
   {
    "duration": 9,
    "start_time": "2022-06-15T02:27:08.411Z"
   },
   {
    "duration": 43,
    "start_time": "2022-06-15T02:27:08.422Z"
   },
   {
    "duration": 10,
    "start_time": "2022-06-15T02:27:08.467Z"
   },
   {
    "duration": 158,
    "start_time": "2022-06-15T02:27:08.478Z"
   },
   {
    "duration": 7,
    "start_time": "2022-06-15T02:27:08.638Z"
   },
   {
    "duration": 11,
    "start_time": "2022-06-15T02:27:08.659Z"
   },
   {
    "duration": 12,
    "start_time": "2022-06-15T02:27:08.671Z"
   },
   {
    "duration": 10,
    "start_time": "2022-06-15T02:27:08.685Z"
   },
   {
    "duration": 12,
    "start_time": "2022-06-15T02:27:08.697Z"
   },
   {
    "duration": 10,
    "start_time": "2022-06-15T02:27:08.711Z"
   },
   {
    "duration": 13,
    "start_time": "2022-06-15T02:27:08.759Z"
   },
   {
    "duration": 419,
    "start_time": "2022-06-15T02:27:08.775Z"
   },
   {
    "duration": 1996,
    "start_time": "2022-06-15T02:27:09.196Z"
   },
   {
    "duration": 4,
    "start_time": "2022-06-15T02:27:11.260Z"
   },
   {
    "duration": 169,
    "start_time": "2022-06-15T02:27:11.266Z"
   },
   {
    "duration": 266,
    "start_time": "2022-06-15T02:27:11.437Z"
   },
   {
    "duration": 156,
    "start_time": "2022-06-15T02:27:11.706Z"
   },
   {
    "duration": 385,
    "start_time": "2022-06-15T02:27:11.867Z"
   },
   {
    "duration": 476,
    "start_time": "2022-06-15T02:27:12.254Z"
   },
   {
    "duration": 51,
    "start_time": "2022-06-15T02:27:12.731Z"
   },
   {
    "duration": 39,
    "start_time": "2022-06-15T02:27:12.783Z"
   },
   {
    "duration": 86,
    "start_time": "2022-06-15T02:27:12.823Z"
   },
   {
    "duration": 4,
    "start_time": "2022-06-15T02:27:12.911Z"
   },
   {
    "duration": 9,
    "start_time": "2022-06-15T02:27:12.917Z"
   },
   {
    "duration": 124,
    "start_time": "2022-06-15T02:27:12.928Z"
   },
   {
    "duration": 0,
    "start_time": "2022-06-15T02:27:13.060Z"
   },
   {
    "duration": 0,
    "start_time": "2022-06-15T02:27:13.061Z"
   },
   {
    "duration": 0,
    "start_time": "2022-06-15T02:27:13.062Z"
   },
   {
    "duration": 361,
    "start_time": "2022-06-15T02:28:25.478Z"
   },
   {
    "duration": 1978,
    "start_time": "2022-06-15T02:28:32.509Z"
   },
   {
    "duration": 143,
    "start_time": "2022-06-15T02:31:21.975Z"
   },
   {
    "duration": 134,
    "start_time": "2022-06-15T02:31:47.469Z"
   },
   {
    "duration": 2107,
    "start_time": "2022-06-15T02:32:48.483Z"
   },
   {
    "duration": 313,
    "start_time": "2022-06-15T02:33:31.399Z"
   },
   {
    "duration": 1318,
    "start_time": "2022-06-15T02:34:16.098Z"
   },
   {
    "duration": 40,
    "start_time": "2022-06-15T02:34:17.419Z"
   },
   {
    "duration": 19,
    "start_time": "2022-06-15T02:34:17.461Z"
   },
   {
    "duration": 22,
    "start_time": "2022-06-15T02:34:17.483Z"
   },
   {
    "duration": 6,
    "start_time": "2022-06-15T02:34:17.508Z"
   },
   {
    "duration": 17,
    "start_time": "2022-06-15T02:34:17.516Z"
   },
   {
    "duration": 27,
    "start_time": "2022-06-15T02:34:17.536Z"
   },
   {
    "duration": 17,
    "start_time": "2022-06-15T02:34:17.565Z"
   },
   {
    "duration": 10,
    "start_time": "2022-06-15T02:34:17.584Z"
   },
   {
    "duration": 10,
    "start_time": "2022-06-15T02:34:17.597Z"
   },
   {
    "duration": 10,
    "start_time": "2022-06-15T02:34:17.609Z"
   },
   {
    "duration": 45,
    "start_time": "2022-06-15T02:34:17.621Z"
   },
   {
    "duration": 11,
    "start_time": "2022-06-15T02:34:17.668Z"
   },
   {
    "duration": 158,
    "start_time": "2022-06-15T02:34:17.681Z"
   },
   {
    "duration": 18,
    "start_time": "2022-06-15T02:34:17.841Z"
   },
   {
    "duration": 15,
    "start_time": "2022-06-15T02:34:17.861Z"
   },
   {
    "duration": 9,
    "start_time": "2022-06-15T02:34:17.878Z"
   },
   {
    "duration": 8,
    "start_time": "2022-06-15T02:34:17.889Z"
   },
   {
    "duration": 12,
    "start_time": "2022-06-15T02:34:17.898Z"
   },
   {
    "duration": 9,
    "start_time": "2022-06-15T02:34:17.912Z"
   },
   {
    "duration": 46,
    "start_time": "2022-06-15T02:34:17.923Z"
   },
   {
    "duration": 398,
    "start_time": "2022-06-15T02:34:17.970Z"
   },
   {
    "duration": 2022,
    "start_time": "2022-06-15T02:34:18.369Z"
   },
   {
    "duration": 240,
    "start_time": "2022-06-15T02:34:20.460Z"
   },
   {
    "duration": 438,
    "start_time": "2022-06-15T02:34:20.702Z"
   },
   {
    "duration": 0,
    "start_time": "2022-06-15T02:34:21.142Z"
   },
   {
    "duration": 0,
    "start_time": "2022-06-15T02:34:21.143Z"
   },
   {
    "duration": 0,
    "start_time": "2022-06-15T02:34:21.144Z"
   },
   {
    "duration": 0,
    "start_time": "2022-06-15T02:34:21.146Z"
   },
   {
    "duration": 0,
    "start_time": "2022-06-15T02:34:21.147Z"
   },
   {
    "duration": 0,
    "start_time": "2022-06-15T02:34:21.148Z"
   },
   {
    "duration": 0,
    "start_time": "2022-06-15T02:34:21.159Z"
   },
   {
    "duration": 0,
    "start_time": "2022-06-15T02:34:21.160Z"
   },
   {
    "duration": 0,
    "start_time": "2022-06-15T02:34:21.162Z"
   },
   {
    "duration": 0,
    "start_time": "2022-06-15T02:34:21.163Z"
   },
   {
    "duration": 0,
    "start_time": "2022-06-15T02:34:21.164Z"
   },
   {
    "duration": 0,
    "start_time": "2022-06-15T02:34:21.165Z"
   },
   {
    "duration": 0,
    "start_time": "2022-06-15T02:34:21.166Z"
   },
   {
    "duration": 0,
    "start_time": "2022-06-15T02:34:21.168Z"
   },
   {
    "duration": 1309,
    "start_time": "2022-06-15T02:37:57.577Z"
   },
   {
    "duration": 39,
    "start_time": "2022-06-15T02:37:58.889Z"
   },
   {
    "duration": 17,
    "start_time": "2022-06-15T02:37:58.930Z"
   },
   {
    "duration": 14,
    "start_time": "2022-06-15T02:37:58.950Z"
   },
   {
    "duration": 5,
    "start_time": "2022-06-15T02:37:58.965Z"
   },
   {
    "duration": 10,
    "start_time": "2022-06-15T02:37:58.972Z"
   },
   {
    "duration": 7,
    "start_time": "2022-06-15T02:37:58.983Z"
   },
   {
    "duration": 10,
    "start_time": "2022-06-15T02:37:58.991Z"
   },
   {
    "duration": 7,
    "start_time": "2022-06-15T02:37:59.002Z"
   },
   {
    "duration": 8,
    "start_time": "2022-06-15T02:37:59.012Z"
   },
   {
    "duration": 9,
    "start_time": "2022-06-15T02:37:59.059Z"
   },
   {
    "duration": 14,
    "start_time": "2022-06-15T02:37:59.070Z"
   },
   {
    "duration": 8,
    "start_time": "2022-06-15T02:37:59.086Z"
   },
   {
    "duration": 150,
    "start_time": "2022-06-15T02:37:59.096Z"
   },
   {
    "duration": 16,
    "start_time": "2022-06-15T02:37:59.247Z"
   },
   {
    "duration": 10,
    "start_time": "2022-06-15T02:37:59.264Z"
   },
   {
    "duration": 8,
    "start_time": "2022-06-15T02:37:59.276Z"
   },
   {
    "duration": 9,
    "start_time": "2022-06-15T02:37:59.286Z"
   },
   {
    "duration": 10,
    "start_time": "2022-06-15T02:37:59.296Z"
   },
   {
    "duration": 52,
    "start_time": "2022-06-15T02:37:59.307Z"
   },
   {
    "duration": 71,
    "start_time": "2022-06-15T02:37:59.360Z"
   },
   {
    "duration": 256,
    "start_time": "2022-06-15T02:37:59.433Z"
   },
   {
    "duration": 140,
    "start_time": "2022-06-15T02:37:59.691Z"
   },
   {
    "duration": 387,
    "start_time": "2022-06-15T02:37:59.833Z"
   },
   {
    "duration": 483,
    "start_time": "2022-06-15T02:38:00.222Z"
   },
   {
    "duration": 40,
    "start_time": "2022-06-15T02:38:00.707Z"
   },
   {
    "duration": 39,
    "start_time": "2022-06-15T02:38:00.758Z"
   },
   {
    "duration": 85,
    "start_time": "2022-06-15T02:38:00.800Z"
   },
   {
    "duration": 5,
    "start_time": "2022-06-15T02:38:00.887Z"
   },
   {
    "duration": 11,
    "start_time": "2022-06-15T02:38:00.893Z"
   },
   {
    "duration": 126,
    "start_time": "2022-06-15T02:38:00.906Z"
   },
   {
    "duration": 0,
    "start_time": "2022-06-15T02:38:01.034Z"
   },
   {
    "duration": 0,
    "start_time": "2022-06-15T02:38:01.035Z"
   },
   {
    "duration": 1,
    "start_time": "2022-06-15T02:38:01.036Z"
   },
   {
    "duration": 5,
    "start_time": "2022-06-15T02:39:32.254Z"
   },
   {
    "duration": 429705,
    "start_time": "2022-06-15T02:39:34.910Z"
   },
   {
    "duration": 4,
    "start_time": "2022-06-15T02:46:44.617Z"
   },
   {
    "duration": 67849,
    "start_time": "2022-06-15T02:46:44.622Z"
   },
   {
    "duration": 16,
    "start_time": "2022-06-15T03:16:18.876Z"
   },
   {
    "duration": 15,
    "start_time": "2022-06-15T03:16:29.722Z"
   },
   {
    "duration": 26,
    "start_time": "2022-06-15T03:16:53.678Z"
   },
   {
    "duration": 1365,
    "start_time": "2022-06-15T03:17:58.229Z"
   },
   {
    "duration": 40,
    "start_time": "2022-06-15T03:17:59.596Z"
   },
   {
    "duration": 18,
    "start_time": "2022-06-15T03:17:59.637Z"
   },
   {
    "duration": 13,
    "start_time": "2022-06-15T03:17:59.657Z"
   },
   {
    "duration": 4,
    "start_time": "2022-06-15T03:17:59.671Z"
   },
   {
    "duration": 9,
    "start_time": "2022-06-15T03:17:59.677Z"
   },
   {
    "duration": 5,
    "start_time": "2022-06-15T03:17:59.688Z"
   },
   {
    "duration": 19,
    "start_time": "2022-06-15T03:17:59.695Z"
   },
   {
    "duration": 8,
    "start_time": "2022-06-15T03:17:59.716Z"
   },
   {
    "duration": 38,
    "start_time": "2022-06-15T03:17:59.726Z"
   },
   {
    "duration": 9,
    "start_time": "2022-06-15T03:17:59.765Z"
   },
   {
    "duration": 13,
    "start_time": "2022-06-15T03:17:59.776Z"
   },
   {
    "duration": 9,
    "start_time": "2022-06-15T03:17:59.791Z"
   },
   {
    "duration": 161,
    "start_time": "2022-06-15T03:17:59.802Z"
   },
   {
    "duration": 7,
    "start_time": "2022-06-15T03:17:59.964Z"
   },
   {
    "duration": 11,
    "start_time": "2022-06-15T03:17:59.973Z"
   },
   {
    "duration": 7,
    "start_time": "2022-06-15T03:17:59.986Z"
   },
   {
    "duration": 10,
    "start_time": "2022-06-15T03:17:59.995Z"
   },
   {
    "duration": 14,
    "start_time": "2022-06-15T03:18:00.007Z"
   },
   {
    "duration": 43,
    "start_time": "2022-06-15T03:18:00.023Z"
   },
   {
    "duration": 75,
    "start_time": "2022-06-15T03:18:00.068Z"
   },
   {
    "duration": 268,
    "start_time": "2022-06-15T03:18:00.145Z"
   },
   {
    "duration": 147,
    "start_time": "2022-06-15T03:18:00.414Z"
   },
   {
    "duration": 390,
    "start_time": "2022-06-15T03:18:00.563Z"
   },
   {
    "duration": 489,
    "start_time": "2022-06-15T03:18:00.955Z"
   },
   {
    "duration": 45,
    "start_time": "2022-06-15T03:18:01.445Z"
   },
   {
    "duration": 38,
    "start_time": "2022-06-15T03:18:01.492Z"
   },
   {
    "duration": 86,
    "start_time": "2022-06-15T03:18:01.533Z"
   },
   {
    "duration": 5,
    "start_time": "2022-06-15T03:18:01.621Z"
   },
   {
    "duration": 429154,
    "start_time": "2022-06-15T03:18:01.628Z"
   },
   {
    "duration": 4,
    "start_time": "2022-06-15T03:25:10.784Z"
   },
   {
    "duration": 67912,
    "start_time": "2022-06-15T03:25:10.790Z"
   },
   {
    "duration": 4,
    "start_time": "2022-06-15T03:37:27.367Z"
   },
   {
    "duration": 222,
    "start_time": "2022-06-15T03:51:04.308Z"
   },
   {
    "duration": 114,
    "start_time": "2022-06-15T03:52:22.211Z"
   },
   {
    "duration": 237,
    "start_time": "2022-06-15T03:52:38.240Z"
   },
   {
    "duration": 117,
    "start_time": "2022-06-15T03:53:02.265Z"
   },
   {
    "duration": 193,
    "start_time": "2022-06-15T03:53:10.753Z"
   },
   {
    "duration": 39,
    "start_time": "2022-06-15T03:53:59.261Z"
   },
   {
    "duration": 119,
    "start_time": "2022-06-15T03:54:05.189Z"
   },
   {
    "duration": 117,
    "start_time": "2022-06-15T03:54:13.007Z"
   },
   {
    "duration": 19,
    "start_time": "2022-06-15T03:54:20.040Z"
   },
   {
    "duration": 117,
    "start_time": "2022-06-15T03:54:26.499Z"
   },
   {
    "duration": 122,
    "start_time": "2022-06-15T03:54:37.825Z"
   },
   {
    "duration": 226,
    "start_time": "2022-06-15T03:54:56.211Z"
   },
   {
    "duration": 121,
    "start_time": "2022-06-15T03:55:04.711Z"
   },
   {
    "duration": 4,
    "start_time": "2022-06-15T03:56:01.143Z"
   },
   {
    "duration": 6,
    "start_time": "2022-06-15T03:57:00.514Z"
   },
   {
    "duration": 6,
    "start_time": "2022-06-15T03:57:09.087Z"
   },
   {
    "duration": 1486,
    "start_time": "2022-06-15T16:02:23.491Z"
   },
   {
    "duration": 77,
    "start_time": "2022-06-15T16:02:24.979Z"
   },
   {
    "duration": 17,
    "start_time": "2022-06-15T16:02:25.058Z"
   },
   {
    "duration": 13,
    "start_time": "2022-06-15T16:02:25.077Z"
   },
   {
    "duration": 5,
    "start_time": "2022-06-15T16:02:25.091Z"
   },
   {
    "duration": 13,
    "start_time": "2022-06-15T16:02:25.098Z"
   },
   {
    "duration": 5,
    "start_time": "2022-06-15T16:02:25.113Z"
   },
   {
    "duration": 14,
    "start_time": "2022-06-15T16:02:25.119Z"
   },
   {
    "duration": 8,
    "start_time": "2022-06-15T16:02:25.135Z"
   },
   {
    "duration": 18,
    "start_time": "2022-06-15T16:02:25.145Z"
   },
   {
    "duration": 32,
    "start_time": "2022-06-15T16:02:25.165Z"
   },
   {
    "duration": 9,
    "start_time": "2022-06-15T16:02:25.199Z"
   },
   {
    "duration": 13,
    "start_time": "2022-06-15T16:02:25.209Z"
   },
   {
    "duration": 150,
    "start_time": "2022-06-15T16:02:25.224Z"
   },
   {
    "duration": 20,
    "start_time": "2022-06-15T16:02:25.376Z"
   },
   {
    "duration": 10,
    "start_time": "2022-06-15T16:02:25.397Z"
   },
   {
    "duration": 8,
    "start_time": "2022-06-15T16:02:25.409Z"
   },
   {
    "duration": 16,
    "start_time": "2022-06-15T16:02:25.418Z"
   },
   {
    "duration": 8,
    "start_time": "2022-06-15T16:02:25.436Z"
   },
   {
    "duration": 9,
    "start_time": "2022-06-15T16:02:25.446Z"
   },
   {
    "duration": 106,
    "start_time": "2022-06-15T16:02:25.457Z"
   },
   {
    "duration": 255,
    "start_time": "2022-06-15T16:02:25.565Z"
   },
   {
    "duration": 138,
    "start_time": "2022-06-15T16:02:25.822Z"
   },
   {
    "duration": 379,
    "start_time": "2022-06-15T16:02:25.961Z"
   },
   {
    "duration": 454,
    "start_time": "2022-06-15T16:02:26.341Z"
   },
   {
    "duration": 37,
    "start_time": "2022-06-15T16:02:26.797Z"
   },
   {
    "duration": 38,
    "start_time": "2022-06-15T16:02:26.836Z"
   },
   {
    "duration": 139,
    "start_time": "2022-06-15T16:02:26.893Z"
   },
   {
    "duration": 6,
    "start_time": "2022-06-15T16:02:27.033Z"
   },
   {
    "duration": 90,
    "start_time": "2022-06-15T16:02:27.040Z"
   },
   {
    "duration": 6,
    "start_time": "2022-06-15T16:02:27.132Z"
   },
   {
    "duration": 423705,
    "start_time": "2022-06-15T16:02:27.140Z"
   },
   {
    "duration": 4,
    "start_time": "2022-06-15T16:09:30.847Z"
   },
   {
    "duration": 64045,
    "start_time": "2022-06-15T16:09:30.853Z"
   },
   {
    "duration": 25,
    "start_time": "2022-06-15T16:13:22.648Z"
   },
   {
    "duration": 25,
    "start_time": "2022-06-15T16:13:43.137Z"
   },
   {
    "duration": 238,
    "start_time": "2022-06-15T16:16:00.229Z"
   },
   {
    "duration": 343,
    "start_time": "2022-06-15T16:18:14.382Z"
   },
   {
    "duration": 478,
    "start_time": "2022-06-15T16:18:39.059Z"
   },
   {
    "duration": 337,
    "start_time": "2022-06-15T16:19:02.352Z"
   },
   {
    "duration": 124,
    "start_time": "2022-06-15T16:19:59.081Z"
   },
   {
    "duration": 6,
    "start_time": "2022-06-15T16:20:24.453Z"
   },
   {
    "duration": 5,
    "start_time": "2022-06-15T16:29:23.974Z"
   },
   {
    "duration": 5,
    "start_time": "2022-06-15T16:30:09.553Z"
   },
   {
    "duration": 6,
    "start_time": "2022-06-15T16:30:14.788Z"
   },
   {
    "duration": 5,
    "start_time": "2022-06-15T16:30:19.749Z"
   },
   {
    "duration": 4,
    "start_time": "2022-06-15T16:30:29.780Z"
   },
   {
    "duration": 5,
    "start_time": "2022-06-15T16:30:39.717Z"
   },
   {
    "duration": 5,
    "start_time": "2022-06-15T16:30:44.726Z"
   },
   {
    "duration": 5,
    "start_time": "2022-06-15T16:30:50.250Z"
   },
   {
    "duration": 4,
    "start_time": "2022-06-15T16:30:54.592Z"
   },
   {
    "duration": 6,
    "start_time": "2022-06-15T16:31:00.713Z"
   },
   {
    "duration": 5,
    "start_time": "2022-06-15T16:31:10.349Z"
   },
   {
    "duration": 5,
    "start_time": "2022-06-15T16:31:40.120Z"
   },
   {
    "duration": 36076,
    "start_time": "2022-06-15T16:42:44.342Z"
   },
   {
    "duration": 5,
    "start_time": "2022-06-15T16:43:20.419Z"
   },
   {
    "duration": 64949,
    "start_time": "2022-06-15T16:45:02.446Z"
   },
   {
    "duration": 29,
    "start_time": "2022-06-15T16:46:07.397Z"
   },
   {
    "duration": 285,
    "start_time": "2022-06-15T16:46:07.428Z"
   },
   {
    "duration": 354,
    "start_time": "2022-06-15T16:46:07.715Z"
   },
   {
    "duration": 136,
    "start_time": "2022-06-15T16:46:08.071Z"
   },
   {
    "duration": 5,
    "start_time": "2022-06-15T16:46:08.209Z"
   },
   {
    "duration": 578,
    "start_time": "2022-06-15T16:47:06.825Z"
   },
   {
    "duration": 5,
    "start_time": "2022-06-15T16:48:08.110Z"
   },
   {
    "duration": 5,
    "start_time": "2022-06-15T16:48:15.892Z"
   },
   {
    "duration": 5,
    "start_time": "2022-06-15T16:48:21.795Z"
   },
   {
    "duration": 20576,
    "start_time": "2022-06-15T16:48:30.079Z"
   },
   {
    "duration": 1325,
    "start_time": "2022-06-15T16:49:25.626Z"
   },
   {
    "duration": 39,
    "start_time": "2022-06-15T16:49:26.953Z"
   },
   {
    "duration": 18,
    "start_time": "2022-06-15T16:49:26.993Z"
   },
   {
    "duration": 25,
    "start_time": "2022-06-15T16:49:27.013Z"
   },
   {
    "duration": 6,
    "start_time": "2022-06-15T16:49:27.041Z"
   },
   {
    "duration": 10,
    "start_time": "2022-06-15T16:49:27.049Z"
   },
   {
    "duration": 33,
    "start_time": "2022-06-15T16:49:27.061Z"
   },
   {
    "duration": 11,
    "start_time": "2022-06-15T16:49:27.096Z"
   },
   {
    "duration": 9,
    "start_time": "2022-06-15T16:49:27.109Z"
   },
   {
    "duration": 10,
    "start_time": "2022-06-15T16:49:27.120Z"
   },
   {
    "duration": 10,
    "start_time": "2022-06-15T16:49:27.131Z"
   },
   {
    "duration": 12,
    "start_time": "2022-06-15T16:49:27.143Z"
   },
   {
    "duration": 49,
    "start_time": "2022-06-15T16:49:27.157Z"
   },
   {
    "duration": 145,
    "start_time": "2022-06-15T16:49:27.209Z"
   },
   {
    "duration": 7,
    "start_time": "2022-06-15T16:49:27.356Z"
   },
   {
    "duration": 29,
    "start_time": "2022-06-15T16:49:27.365Z"
   },
   {
    "duration": 9,
    "start_time": "2022-06-15T16:49:27.396Z"
   },
   {
    "duration": 11,
    "start_time": "2022-06-15T16:49:27.407Z"
   },
   {
    "duration": 11,
    "start_time": "2022-06-15T16:49:27.420Z"
   },
   {
    "duration": 14,
    "start_time": "2022-06-15T16:49:27.433Z"
   },
   {
    "duration": 117,
    "start_time": "2022-06-15T16:49:27.449Z"
   },
   {
    "duration": 258,
    "start_time": "2022-06-15T16:49:27.568Z"
   },
   {
    "duration": 143,
    "start_time": "2022-06-15T16:49:27.828Z"
   },
   {
    "duration": 399,
    "start_time": "2022-06-15T16:49:27.973Z"
   },
   {
    "duration": 463,
    "start_time": "2022-06-15T16:49:28.374Z"
   },
   {
    "duration": 43,
    "start_time": "2022-06-15T16:49:28.839Z"
   },
   {
    "duration": 57,
    "start_time": "2022-06-15T16:49:28.884Z"
   },
   {
    "duration": 188,
    "start_time": "2022-06-15T16:49:28.944Z"
   },
   {
    "duration": 8,
    "start_time": "2022-06-15T16:49:29.134Z"
   },
   {
    "duration": 102,
    "start_time": "2022-06-15T16:49:29.144Z"
   },
   {
    "duration": 5,
    "start_time": "2022-06-15T16:49:29.248Z"
   },
   {
    "duration": 21078,
    "start_time": "2022-06-15T16:49:29.254Z"
   },
   {
    "duration": 5,
    "start_time": "2022-06-15T16:49:50.334Z"
   },
   {
    "duration": 66025,
    "start_time": "2022-06-15T16:49:50.340Z"
   },
   {
    "duration": 39,
    "start_time": "2022-06-15T16:50:56.367Z"
   },
   {
    "duration": 249,
    "start_time": "2022-06-15T16:50:56.407Z"
   },
   {
    "duration": 377,
    "start_time": "2022-06-15T16:50:56.657Z"
   },
   {
    "duration": 128,
    "start_time": "2022-06-15T16:50:57.036Z"
   },
   {
    "duration": 5,
    "start_time": "2022-06-15T16:50:57.166Z"
   },
   {
    "duration": 53,
    "start_time": "2022-06-15T17:06:17.217Z"
   },
   {
    "duration": 26,
    "start_time": "2022-06-15T17:06:21.574Z"
   },
   {
    "duration": 26,
    "start_time": "2022-06-15T17:06:24.716Z"
   },
   {
    "duration": 26,
    "start_time": "2022-06-15T17:06:26.038Z"
   },
   {
    "duration": 24,
    "start_time": "2022-06-15T17:06:27.057Z"
   },
   {
    "duration": 24,
    "start_time": "2022-06-15T17:06:40.961Z"
   },
   {
    "duration": 1310,
    "start_time": "2022-06-15T17:06:47.737Z"
   },
   {
    "duration": 43,
    "start_time": "2022-06-15T17:06:49.049Z"
   },
   {
    "duration": 22,
    "start_time": "2022-06-15T17:06:49.094Z"
   },
   {
    "duration": 22,
    "start_time": "2022-06-15T17:06:49.119Z"
   },
   {
    "duration": 7,
    "start_time": "2022-06-15T17:06:49.143Z"
   },
   {
    "duration": 17,
    "start_time": "2022-06-15T17:06:49.152Z"
   },
   {
    "duration": 8,
    "start_time": "2022-06-15T17:06:49.195Z"
   },
   {
    "duration": 21,
    "start_time": "2022-06-15T17:06:49.205Z"
   },
   {
    "duration": 18,
    "start_time": "2022-06-15T17:06:49.229Z"
   },
   {
    "duration": 21,
    "start_time": "2022-06-15T17:06:49.250Z"
   },
   {
    "duration": 28,
    "start_time": "2022-06-15T17:06:49.273Z"
   },
   {
    "duration": 11,
    "start_time": "2022-06-15T17:06:49.304Z"
   },
   {
    "duration": 16,
    "start_time": "2022-06-15T17:06:49.317Z"
   },
   {
    "duration": 174,
    "start_time": "2022-06-15T17:06:49.336Z"
   },
   {
    "duration": 6,
    "start_time": "2022-06-15T17:06:49.512Z"
   },
   {
    "duration": 10,
    "start_time": "2022-06-15T17:06:49.520Z"
   },
   {
    "duration": 8,
    "start_time": "2022-06-15T17:06:49.532Z"
   },
   {
    "duration": 13,
    "start_time": "2022-06-15T17:06:49.541Z"
   },
   {
    "duration": 40,
    "start_time": "2022-06-15T17:06:49.556Z"
   },
   {
    "duration": 13,
    "start_time": "2022-06-15T17:06:49.597Z"
   },
   {
    "duration": 86,
    "start_time": "2022-06-15T17:06:49.611Z"
   },
   {
    "duration": 264,
    "start_time": "2022-06-15T17:06:49.698Z"
   },
   {
    "duration": 185,
    "start_time": "2022-06-15T17:06:49.964Z"
   },
   {
    "duration": 407,
    "start_time": "2022-06-15T17:06:50.151Z"
   },
   {
    "duration": 474,
    "start_time": "2022-06-15T17:06:50.559Z"
   },
   {
    "duration": 41,
    "start_time": "2022-06-15T17:06:51.034Z"
   },
   {
    "duration": 55,
    "start_time": "2022-06-15T17:06:51.077Z"
   },
   {
    "duration": 138,
    "start_time": "2022-06-15T17:06:51.135Z"
   },
   {
    "duration": 6,
    "start_time": "2022-06-15T17:06:51.275Z"
   },
   {
    "duration": 79,
    "start_time": "2022-06-15T17:06:51.282Z"
   },
   {
    "duration": 4,
    "start_time": "2022-06-15T17:06:51.363Z"
   },
   {
    "duration": 20829,
    "start_time": "2022-06-15T17:06:51.369Z"
   },
   {
    "duration": 5,
    "start_time": "2022-06-15T17:07:12.200Z"
   },
   {
    "duration": 65608,
    "start_time": "2022-06-15T17:07:12.206Z"
   },
   {
    "duration": 26,
    "start_time": "2022-06-15T17:08:17.817Z"
   },
   {
    "duration": 256,
    "start_time": "2022-06-15T17:08:17.845Z"
   },
   {
    "duration": 365,
    "start_time": "2022-06-15T17:08:18.104Z"
   },
   {
    "duration": 127,
    "start_time": "2022-06-15T17:08:18.471Z"
   },
   {
    "duration": 5,
    "start_time": "2022-06-15T17:08:18.600Z"
   },
   {
    "duration": 1257,
    "start_time": "2022-06-16T00:51:35.249Z"
   },
   {
    "duration": 39,
    "start_time": "2022-06-16T00:51:36.508Z"
   },
   {
    "duration": 16,
    "start_time": "2022-06-16T00:51:36.549Z"
   },
   {
    "duration": 14,
    "start_time": "2022-06-16T00:51:36.567Z"
   },
   {
    "duration": 5,
    "start_time": "2022-06-16T00:51:36.583Z"
   },
   {
    "duration": 9,
    "start_time": "2022-06-16T00:51:36.589Z"
   },
   {
    "duration": 6,
    "start_time": "2022-06-16T00:51:36.600Z"
   },
   {
    "duration": 12,
    "start_time": "2022-06-16T00:51:36.608Z"
   },
   {
    "duration": 10,
    "start_time": "2022-06-16T00:51:36.621Z"
   },
   {
    "duration": 9,
    "start_time": "2022-06-16T00:51:36.633Z"
   },
   {
    "duration": 7,
    "start_time": "2022-06-16T00:51:36.644Z"
   },
   {
    "duration": 45,
    "start_time": "2022-06-16T00:51:36.653Z"
   },
   {
    "duration": 9,
    "start_time": "2022-06-16T00:51:36.700Z"
   },
   {
    "duration": 144,
    "start_time": "2022-06-16T00:51:36.710Z"
   },
   {
    "duration": 7,
    "start_time": "2022-06-16T00:51:36.856Z"
   },
   {
    "duration": 17,
    "start_time": "2022-06-16T00:51:36.864Z"
   },
   {
    "duration": 18,
    "start_time": "2022-06-16T00:51:36.883Z"
   },
   {
    "duration": 7,
    "start_time": "2022-06-16T00:51:36.903Z"
   },
   {
    "duration": 11,
    "start_time": "2022-06-16T00:51:36.912Z"
   },
   {
    "duration": 9,
    "start_time": "2022-06-16T00:51:36.925Z"
   },
   {
    "duration": 104,
    "start_time": "2022-06-16T00:51:36.935Z"
   },
   {
    "duration": 237,
    "start_time": "2022-06-16T00:51:37.040Z"
   },
   {
    "duration": 129,
    "start_time": "2022-06-16T00:51:37.279Z"
   },
   {
    "duration": 359,
    "start_time": "2022-06-16T00:51:37.409Z"
   },
   {
    "duration": 445,
    "start_time": "2022-06-16T00:51:37.770Z"
   },
   {
    "duration": 38,
    "start_time": "2022-06-16T00:51:38.216Z"
   },
   {
    "duration": 51,
    "start_time": "2022-06-16T00:51:38.256Z"
   },
   {
    "duration": 124,
    "start_time": "2022-06-16T00:51:38.310Z"
   },
   {
    "duration": 6,
    "start_time": "2022-06-16T00:51:38.436Z"
   },
   {
    "duration": 81,
    "start_time": "2022-06-16T00:51:38.444Z"
   },
   {
    "duration": 5,
    "start_time": "2022-06-16T00:51:38.527Z"
   },
   {
    "duration": 18724,
    "start_time": "2022-06-16T00:51:38.534Z"
   },
   {
    "duration": 4,
    "start_time": "2022-06-16T00:51:57.260Z"
   },
   {
    "duration": 65105,
    "start_time": "2022-06-16T00:51:57.265Z"
   },
   {
    "duration": 36,
    "start_time": "2022-06-16T00:53:02.372Z"
   },
   {
    "duration": 276,
    "start_time": "2022-06-16T00:53:02.410Z"
   },
   {
    "duration": 339,
    "start_time": "2022-06-16T00:53:02.694Z"
   },
   {
    "duration": 126,
    "start_time": "2022-06-16T00:53:03.035Z"
   },
   {
    "duration": 6,
    "start_time": "2022-06-16T00:53:03.163Z"
   },
   {
    "duration": 24,
    "start_time": "2022-06-16T03:06:43.322Z"
   },
   {
    "duration": 26,
    "start_time": "2022-06-16T03:11:19.622Z"
   },
   {
    "duration": 66366,
    "start_time": "2022-06-16T03:12:26.535Z"
   },
   {
    "duration": 336,
    "start_time": "2022-06-16T03:14:03.193Z"
   },
   {
    "duration": 319,
    "start_time": "2022-06-16T03:14:06.173Z"
   },
   {
    "duration": 54,
    "start_time": "2022-06-16T03:14:33.085Z"
   },
   {
    "duration": 319,
    "start_time": "2022-06-16T03:14:42.156Z"
   },
   {
    "duration": 65750,
    "start_time": "2022-06-16T03:15:12.730Z"
   },
   {
    "duration": 5,
    "start_time": "2022-06-16T03:16:18.482Z"
   },
   {
    "duration": 5,
    "start_time": "2022-06-16T03:16:28.003Z"
   },
   {
    "duration": 1214,
    "start_time": "2022-06-16T03:16:39.561Z"
   },
   {
    "duration": 38,
    "start_time": "2022-06-16T03:16:40.776Z"
   },
   {
    "duration": 16,
    "start_time": "2022-06-16T03:16:40.815Z"
   },
   {
    "duration": 11,
    "start_time": "2022-06-16T03:16:40.832Z"
   },
   {
    "duration": 6,
    "start_time": "2022-06-16T03:16:40.845Z"
   },
   {
    "duration": 12,
    "start_time": "2022-06-16T03:16:40.852Z"
   },
   {
    "duration": 11,
    "start_time": "2022-06-16T03:16:40.865Z"
   },
   {
    "duration": 22,
    "start_time": "2022-06-16T03:16:40.877Z"
   },
   {
    "duration": 7,
    "start_time": "2022-06-16T03:16:40.900Z"
   },
   {
    "duration": 8,
    "start_time": "2022-06-16T03:16:40.909Z"
   },
   {
    "duration": 16,
    "start_time": "2022-06-16T03:16:40.918Z"
   },
   {
    "duration": 11,
    "start_time": "2022-06-16T03:16:40.935Z"
   },
   {
    "duration": 13,
    "start_time": "2022-06-16T03:16:40.948Z"
   },
   {
    "duration": 142,
    "start_time": "2022-06-16T03:16:40.963Z"
   },
   {
    "duration": 6,
    "start_time": "2022-06-16T03:16:41.107Z"
   },
   {
    "duration": 17,
    "start_time": "2022-06-16T03:16:41.115Z"
   },
   {
    "duration": 9,
    "start_time": "2022-06-16T03:16:41.134Z"
   },
   {
    "duration": 12,
    "start_time": "2022-06-16T03:16:41.144Z"
   },
   {
    "duration": 37,
    "start_time": "2022-06-16T03:16:41.157Z"
   },
   {
    "duration": 8,
    "start_time": "2022-06-16T03:16:41.196Z"
   },
   {
    "duration": 169,
    "start_time": "2022-06-16T03:16:41.206Z"
   },
   {
    "duration": 0,
    "start_time": "2022-06-16T03:16:41.377Z"
   },
   {
    "duration": 0,
    "start_time": "2022-06-16T03:16:41.378Z"
   },
   {
    "duration": 0,
    "start_time": "2022-06-16T03:16:41.378Z"
   },
   {
    "duration": 0,
    "start_time": "2022-06-16T03:16:41.380Z"
   },
   {
    "duration": 0,
    "start_time": "2022-06-16T03:16:41.381Z"
   },
   {
    "duration": 0,
    "start_time": "2022-06-16T03:16:41.394Z"
   },
   {
    "duration": 0,
    "start_time": "2022-06-16T03:16:41.395Z"
   },
   {
    "duration": 0,
    "start_time": "2022-06-16T03:16:41.396Z"
   },
   {
    "duration": 0,
    "start_time": "2022-06-16T03:16:41.396Z"
   },
   {
    "duration": 0,
    "start_time": "2022-06-16T03:16:41.398Z"
   },
   {
    "duration": 0,
    "start_time": "2022-06-16T03:16:41.399Z"
   },
   {
    "duration": 0,
    "start_time": "2022-06-16T03:16:41.400Z"
   },
   {
    "duration": 0,
    "start_time": "2022-06-16T03:16:41.400Z"
   },
   {
    "duration": 0,
    "start_time": "2022-06-16T03:16:41.401Z"
   },
   {
    "duration": 0,
    "start_time": "2022-06-16T03:16:41.402Z"
   },
   {
    "duration": 0,
    "start_time": "2022-06-16T03:16:41.403Z"
   },
   {
    "duration": 0,
    "start_time": "2022-06-16T03:16:41.405Z"
   },
   {
    "duration": 0,
    "start_time": "2022-06-16T03:16:41.405Z"
   },
   {
    "duration": 0,
    "start_time": "2022-06-16T03:16:41.406Z"
   },
   {
    "duration": 1247,
    "start_time": "2022-06-16T03:19:10.511Z"
   },
   {
    "duration": 39,
    "start_time": "2022-06-16T03:19:11.759Z"
   },
   {
    "duration": 16,
    "start_time": "2022-06-16T03:19:11.800Z"
   },
   {
    "duration": 15,
    "start_time": "2022-06-16T03:19:11.818Z"
   },
   {
    "duration": 5,
    "start_time": "2022-06-16T03:19:11.834Z"
   },
   {
    "duration": 10,
    "start_time": "2022-06-16T03:19:11.841Z"
   },
   {
    "duration": 8,
    "start_time": "2022-06-16T03:19:11.853Z"
   },
   {
    "duration": 32,
    "start_time": "2022-06-16T03:19:11.863Z"
   },
   {
    "duration": 8,
    "start_time": "2022-06-16T03:19:11.897Z"
   },
   {
    "duration": 8,
    "start_time": "2022-06-16T03:19:11.908Z"
   },
   {
    "duration": 8,
    "start_time": "2022-06-16T03:19:11.918Z"
   },
   {
    "duration": 8,
    "start_time": "2022-06-16T03:19:11.928Z"
   },
   {
    "duration": 9,
    "start_time": "2022-06-16T03:19:11.938Z"
   },
   {
    "duration": 129,
    "start_time": "2022-06-16T03:19:11.995Z"
   },
   {
    "duration": 6,
    "start_time": "2022-06-16T03:19:12.126Z"
   },
   {
    "duration": 9,
    "start_time": "2022-06-16T03:19:12.134Z"
   },
   {
    "duration": 8,
    "start_time": "2022-06-16T03:19:12.145Z"
   },
   {
    "duration": 41,
    "start_time": "2022-06-16T03:19:12.155Z"
   },
   {
    "duration": 10,
    "start_time": "2022-06-16T03:19:12.198Z"
   },
   {
    "duration": 10,
    "start_time": "2022-06-16T03:19:12.210Z"
   },
   {
    "duration": 187,
    "start_time": "2022-06-16T03:19:12.222Z"
   },
   {
    "duration": 0,
    "start_time": "2022-06-16T03:19:12.411Z"
   },
   {
    "duration": 0,
    "start_time": "2022-06-16T03:19:12.412Z"
   },
   {
    "duration": 0,
    "start_time": "2022-06-16T03:19:12.413Z"
   },
   {
    "duration": 0,
    "start_time": "2022-06-16T03:19:12.414Z"
   },
   {
    "duration": 0,
    "start_time": "2022-06-16T03:19:12.415Z"
   },
   {
    "duration": 0,
    "start_time": "2022-06-16T03:19:12.416Z"
   },
   {
    "duration": 0,
    "start_time": "2022-06-16T03:19:12.417Z"
   },
   {
    "duration": 0,
    "start_time": "2022-06-16T03:19:12.418Z"
   },
   {
    "duration": 0,
    "start_time": "2022-06-16T03:19:12.420Z"
   },
   {
    "duration": 0,
    "start_time": "2022-06-16T03:19:12.421Z"
   },
   {
    "duration": 0,
    "start_time": "2022-06-16T03:19:12.421Z"
   },
   {
    "duration": 0,
    "start_time": "2022-06-16T03:19:12.423Z"
   },
   {
    "duration": 0,
    "start_time": "2022-06-16T03:19:12.423Z"
   },
   {
    "duration": 0,
    "start_time": "2022-06-16T03:19:12.424Z"
   },
   {
    "duration": 0,
    "start_time": "2022-06-16T03:19:12.425Z"
   },
   {
    "duration": 0,
    "start_time": "2022-06-16T03:19:12.426Z"
   },
   {
    "duration": 0,
    "start_time": "2022-06-16T03:19:12.428Z"
   },
   {
    "duration": 0,
    "start_time": "2022-06-16T03:19:12.429Z"
   },
   {
    "duration": 0,
    "start_time": "2022-06-16T03:19:12.430Z"
   },
   {
    "duration": 1261,
    "start_time": "2022-06-16T03:19:51.009Z"
   },
   {
    "duration": 40,
    "start_time": "2022-06-16T03:19:52.272Z"
   },
   {
    "duration": 17,
    "start_time": "2022-06-16T03:19:52.313Z"
   },
   {
    "duration": 13,
    "start_time": "2022-06-16T03:19:52.332Z"
   },
   {
    "duration": 6,
    "start_time": "2022-06-16T03:19:52.346Z"
   },
   {
    "duration": 8,
    "start_time": "2022-06-16T03:19:52.353Z"
   },
   {
    "duration": 33,
    "start_time": "2022-06-16T03:19:52.362Z"
   },
   {
    "duration": 10,
    "start_time": "2022-06-16T03:19:52.397Z"
   },
   {
    "duration": 13,
    "start_time": "2022-06-16T03:19:52.409Z"
   },
   {
    "duration": 10,
    "start_time": "2022-06-16T03:19:52.425Z"
   },
   {
    "duration": 14,
    "start_time": "2022-06-16T03:19:52.437Z"
   },
   {
    "duration": 9,
    "start_time": "2022-06-16T03:19:52.452Z"
   },
   {
    "duration": 11,
    "start_time": "2022-06-16T03:19:52.495Z"
   },
   {
    "duration": 143,
    "start_time": "2022-06-16T03:19:52.508Z"
   },
   {
    "duration": 6,
    "start_time": "2022-06-16T03:19:52.653Z"
   },
   {
    "duration": 13,
    "start_time": "2022-06-16T03:19:52.660Z"
   },
   {
    "duration": 23,
    "start_time": "2022-06-16T03:19:52.675Z"
   },
   {
    "duration": 14,
    "start_time": "2022-06-16T03:19:52.700Z"
   },
   {
    "duration": 7,
    "start_time": "2022-06-16T03:19:52.716Z"
   },
   {
    "duration": 12,
    "start_time": "2022-06-16T03:19:52.725Z"
   },
   {
    "duration": 86,
    "start_time": "2022-06-16T03:19:52.738Z"
   },
   {
    "duration": 4,
    "start_time": "2022-06-16T03:19:52.826Z"
   },
   {
    "duration": 0,
    "start_time": "2022-06-16T03:19:52.832Z"
   },
   {
    "duration": 0,
    "start_time": "2022-06-16T03:19:52.833Z"
   },
   {
    "duration": 0,
    "start_time": "2022-06-16T03:19:52.834Z"
   },
   {
    "duration": 0,
    "start_time": "2022-06-16T03:19:52.835Z"
   },
   {
    "duration": 0,
    "start_time": "2022-06-16T03:19:52.836Z"
   },
   {
    "duration": 0,
    "start_time": "2022-06-16T03:19:52.837Z"
   },
   {
    "duration": 0,
    "start_time": "2022-06-16T03:19:52.838Z"
   },
   {
    "duration": 0,
    "start_time": "2022-06-16T03:19:52.840Z"
   },
   {
    "duration": 0,
    "start_time": "2022-06-16T03:19:52.840Z"
   },
   {
    "duration": 0,
    "start_time": "2022-06-16T03:19:52.841Z"
   },
   {
    "duration": 0,
    "start_time": "2022-06-16T03:19:52.843Z"
   },
   {
    "duration": 0,
    "start_time": "2022-06-16T03:19:52.844Z"
   },
   {
    "duration": 0,
    "start_time": "2022-06-16T03:19:52.845Z"
   },
   {
    "duration": 0,
    "start_time": "2022-06-16T03:19:52.847Z"
   },
   {
    "duration": 0,
    "start_time": "2022-06-16T03:19:52.848Z"
   },
   {
    "duration": 0,
    "start_time": "2022-06-16T03:19:52.850Z"
   },
   {
    "duration": 0,
    "start_time": "2022-06-16T03:19:52.851Z"
   },
   {
    "duration": 0,
    "start_time": "2022-06-16T03:19:52.895Z"
   },
   {
    "duration": 1213,
    "start_time": "2022-06-16T03:20:14.155Z"
   },
   {
    "duration": 38,
    "start_time": "2022-06-16T03:20:15.370Z"
   },
   {
    "duration": 16,
    "start_time": "2022-06-16T03:20:15.410Z"
   },
   {
    "duration": 11,
    "start_time": "2022-06-16T03:20:15.428Z"
   },
   {
    "duration": 5,
    "start_time": "2022-06-16T03:20:15.440Z"
   },
   {
    "duration": 7,
    "start_time": "2022-06-16T03:20:15.447Z"
   },
   {
    "duration": 5,
    "start_time": "2022-06-16T03:20:15.455Z"
   },
   {
    "duration": 39,
    "start_time": "2022-06-16T03:20:15.462Z"
   },
   {
    "duration": 7,
    "start_time": "2022-06-16T03:20:15.503Z"
   },
   {
    "duration": 10,
    "start_time": "2022-06-16T03:20:15.512Z"
   },
   {
    "duration": 7,
    "start_time": "2022-06-16T03:20:15.524Z"
   },
   {
    "duration": 10,
    "start_time": "2022-06-16T03:20:15.533Z"
   },
   {
    "duration": 11,
    "start_time": "2022-06-16T03:20:15.545Z"
   },
   {
    "duration": 159,
    "start_time": "2022-06-16T03:20:15.557Z"
   },
   {
    "duration": 8,
    "start_time": "2022-06-16T03:20:15.718Z"
   },
   {
    "duration": 11,
    "start_time": "2022-06-16T03:20:15.728Z"
   },
   {
    "duration": 9,
    "start_time": "2022-06-16T03:20:15.741Z"
   },
   {
    "duration": 50,
    "start_time": "2022-06-16T03:20:15.751Z"
   },
   {
    "duration": 15,
    "start_time": "2022-06-16T03:20:15.803Z"
   },
   {
    "duration": 10,
    "start_time": "2022-06-16T03:20:15.820Z"
   },
   {
    "duration": 163,
    "start_time": "2022-06-16T03:20:15.832Z"
   },
   {
    "duration": 330,
    "start_time": "2022-06-16T03:20:15.997Z"
   },
   {
    "duration": 130,
    "start_time": "2022-06-16T03:20:16.329Z"
   },
   {
    "duration": 370,
    "start_time": "2022-06-16T03:20:16.460Z"
   },
   {
    "duration": 433,
    "start_time": "2022-06-16T03:20:16.831Z"
   },
   {
    "duration": 43,
    "start_time": "2022-06-16T03:20:17.266Z"
   },
   {
    "duration": 36,
    "start_time": "2022-06-16T03:20:17.311Z"
   },
   {
    "duration": 123,
    "start_time": "2022-06-16T03:20:17.350Z"
   },
   {
    "duration": 5,
    "start_time": "2022-06-16T03:20:17.475Z"
   },
   {
    "duration": 66,
    "start_time": "2022-06-16T03:20:17.493Z"
   },
   {
    "duration": 5,
    "start_time": "2022-06-16T03:20:17.560Z"
   },
   {
    "duration": 1272,
    "start_time": "2022-06-16T03:26:12.702Z"
   },
   {
    "duration": 39,
    "start_time": "2022-06-16T03:26:13.975Z"
   },
   {
    "duration": 16,
    "start_time": "2022-06-16T03:26:14.016Z"
   },
   {
    "duration": 14,
    "start_time": "2022-06-16T03:26:14.034Z"
   },
   {
    "duration": 5,
    "start_time": "2022-06-16T03:26:14.050Z"
   },
   {
    "duration": 7,
    "start_time": "2022-06-16T03:26:14.056Z"
   },
   {
    "duration": 5,
    "start_time": "2022-06-16T03:26:14.064Z"
   },
   {
    "duration": 10,
    "start_time": "2022-06-16T03:26:14.095Z"
   },
   {
    "duration": 8,
    "start_time": "2022-06-16T03:26:14.106Z"
   },
   {
    "duration": 8,
    "start_time": "2022-06-16T03:26:14.116Z"
   },
   {
    "duration": 10,
    "start_time": "2022-06-16T03:26:14.126Z"
   },
   {
    "duration": 8,
    "start_time": "2022-06-16T03:26:14.137Z"
   },
   {
    "duration": 48,
    "start_time": "2022-06-16T03:26:14.146Z"
   },
   {
    "duration": 132,
    "start_time": "2022-06-16T03:26:14.196Z"
   },
   {
    "duration": 7,
    "start_time": "2022-06-16T03:26:14.330Z"
   },
   {
    "duration": 11,
    "start_time": "2022-06-16T03:26:14.338Z"
   },
   {
    "duration": 8,
    "start_time": "2022-06-16T03:26:14.350Z"
   },
   {
    "duration": 40,
    "start_time": "2022-06-16T03:26:14.359Z"
   },
   {
    "duration": 8,
    "start_time": "2022-06-16T03:26:14.400Z"
   },
   {
    "duration": 9,
    "start_time": "2022-06-16T03:26:14.410Z"
   },
   {
    "duration": 92,
    "start_time": "2022-06-16T03:26:14.421Z"
   },
   {
    "duration": 236,
    "start_time": "2022-06-16T03:26:14.515Z"
   },
   {
    "duration": 126,
    "start_time": "2022-06-16T03:26:14.752Z"
   },
   {
    "duration": 359,
    "start_time": "2022-06-16T03:26:14.880Z"
   },
   {
    "duration": 444,
    "start_time": "2022-06-16T03:26:15.241Z"
   },
   {
    "duration": 42,
    "start_time": "2022-06-16T03:26:15.687Z"
   },
   {
    "duration": 35,
    "start_time": "2022-06-16T03:26:15.731Z"
   },
   {
    "duration": 137,
    "start_time": "2022-06-16T03:26:15.769Z"
   },
   {
    "duration": 5,
    "start_time": "2022-06-16T03:26:15.908Z"
   },
   {
    "duration": 82,
    "start_time": "2022-06-16T03:26:15.914Z"
   },
   {
    "duration": 5,
    "start_time": "2022-06-16T03:26:15.997Z"
   },
   {
    "duration": 78774,
    "start_time": "2022-06-16T03:26:16.003Z"
   },
   {
    "duration": 5,
    "start_time": "2022-06-16T03:27:34.778Z"
   },
   {
    "duration": 2,
    "start_time": "2022-06-16T03:27:34.795Z"
   },
   {
    "duration": 60,
    "start_time": "2022-06-16T03:27:34.798Z"
   },
   {
    "duration": 576,
    "start_time": "2022-06-16T03:27:34.860Z"
   },
   {
    "duration": 733,
    "start_time": "2022-06-16T03:27:35.438Z"
   },
   {
    "duration": 121,
    "start_time": "2022-06-16T03:27:36.173Z"
   },
   {
    "duration": 0,
    "start_time": "2022-06-16T03:27:36.296Z"
   },
   {
    "duration": 0,
    "start_time": "2022-06-16T03:27:36.297Z"
   },
   {
    "duration": 282,
    "start_time": "2022-06-16T03:29:14.229Z"
   },
   {
    "duration": 48,
    "start_time": "2022-06-16T03:29:23.799Z"
   },
   {
    "duration": 5,
    "start_time": "2022-06-16T03:29:53.326Z"
   },
   {
    "duration": 247,
    "start_time": "2022-06-16T03:31:09.257Z"
   },
   {
    "duration": 245,
    "start_time": "2022-06-16T03:31:45.838Z"
   },
   {
    "duration": 288,
    "start_time": "2022-06-16T03:31:59.106Z"
   },
   {
    "duration": 1293,
    "start_time": "2022-06-16T03:32:13.771Z"
   },
   {
    "duration": 40,
    "start_time": "2022-06-16T03:32:15.066Z"
   },
   {
    "duration": 16,
    "start_time": "2022-06-16T03:32:15.108Z"
   },
   {
    "duration": 13,
    "start_time": "2022-06-16T03:32:15.126Z"
   },
   {
    "duration": 5,
    "start_time": "2022-06-16T03:32:15.140Z"
   },
   {
    "duration": 7,
    "start_time": "2022-06-16T03:32:15.147Z"
   },
   {
    "duration": 7,
    "start_time": "2022-06-16T03:32:15.155Z"
   },
   {
    "duration": 40,
    "start_time": "2022-06-16T03:32:15.163Z"
   },
   {
    "duration": 8,
    "start_time": "2022-06-16T03:32:15.205Z"
   },
   {
    "duration": 11,
    "start_time": "2022-06-16T03:32:15.215Z"
   },
   {
    "duration": 9,
    "start_time": "2022-06-16T03:32:15.228Z"
   },
   {
    "duration": 8,
    "start_time": "2022-06-16T03:32:15.238Z"
   },
   {
    "duration": 10,
    "start_time": "2022-06-16T03:32:15.247Z"
   },
   {
    "duration": 131,
    "start_time": "2022-06-16T03:32:15.294Z"
   },
   {
    "duration": 6,
    "start_time": "2022-06-16T03:32:15.427Z"
   },
   {
    "duration": 10,
    "start_time": "2022-06-16T03:32:15.434Z"
   },
   {
    "duration": 6,
    "start_time": "2022-06-16T03:32:15.446Z"
   },
   {
    "duration": 23,
    "start_time": "2022-06-16T03:32:15.453Z"
   },
   {
    "duration": 23,
    "start_time": "2022-06-16T03:32:15.478Z"
   },
   {
    "duration": 10,
    "start_time": "2022-06-16T03:32:15.503Z"
   },
   {
    "duration": 97,
    "start_time": "2022-06-16T03:32:15.515Z"
   },
   {
    "duration": 238,
    "start_time": "2022-06-16T03:32:15.614Z"
   },
   {
    "duration": 141,
    "start_time": "2022-06-16T03:32:15.853Z"
   },
   {
    "duration": 375,
    "start_time": "2022-06-16T03:32:15.995Z"
   },
   {
    "duration": 435,
    "start_time": "2022-06-16T03:32:16.372Z"
   },
   {
    "duration": 37,
    "start_time": "2022-06-16T03:32:16.808Z"
   },
   {
    "duration": 51,
    "start_time": "2022-06-16T03:32:16.846Z"
   },
   {
    "duration": 127,
    "start_time": "2022-06-16T03:32:16.901Z"
   },
   {
    "duration": 6,
    "start_time": "2022-06-16T03:32:17.030Z"
   },
   {
    "duration": 85,
    "start_time": "2022-06-16T03:32:17.037Z"
   },
   {
    "duration": 4,
    "start_time": "2022-06-16T03:32:17.124Z"
   },
   {
    "duration": 162486,
    "start_time": "2022-06-16T03:32:17.130Z"
   },
   {
    "duration": 5,
    "start_time": "2022-06-16T03:34:59.617Z"
   },
   {
    "duration": 8,
    "start_time": "2022-06-16T03:34:59.623Z"
   },
   {
    "duration": 329,
    "start_time": "2022-06-16T03:34:59.633Z"
   },
   {
    "duration": 124,
    "start_time": "2022-06-16T03:34:59.963Z"
   },
   {
    "duration": 0,
    "start_time": "2022-06-16T03:35:00.089Z"
   },
   {
    "duration": 0,
    "start_time": "2022-06-16T03:35:00.090Z"
   },
   {
    "duration": 0,
    "start_time": "2022-06-16T03:35:00.094Z"
   },
   {
    "duration": 0,
    "start_time": "2022-06-16T03:35:00.095Z"
   },
   {
    "duration": 4091,
    "start_time": "2022-06-16T03:42:04.475Z"
   },
   {
    "duration": 17,
    "start_time": "2022-06-16T03:42:16.629Z"
   },
   {
    "duration": 3812,
    "start_time": "2022-06-16T03:42:42.025Z"
   },
   {
    "duration": 298,
    "start_time": "2022-06-16T03:42:59.007Z"
   },
   {
    "duration": 12,
    "start_time": "2022-06-16T04:05:58.412Z"
   },
   {
    "duration": 193,
    "start_time": "2022-06-16T04:06:26.983Z"
   },
   {
    "duration": 201,
    "start_time": "2022-06-16T04:06:31.936Z"
   },
   {
    "duration": 198,
    "start_time": "2022-06-16T04:06:32.996Z"
   },
   {
    "duration": 198,
    "start_time": "2022-06-16T04:06:34.296Z"
   },
   {
    "duration": 1283,
    "start_time": "2022-06-16T04:07:47.669Z"
   },
   {
    "duration": 38,
    "start_time": "2022-06-16T04:07:48.954Z"
   },
   {
    "duration": 16,
    "start_time": "2022-06-16T04:07:48.993Z"
   },
   {
    "duration": 12,
    "start_time": "2022-06-16T04:07:49.012Z"
   },
   {
    "duration": 5,
    "start_time": "2022-06-16T04:07:49.026Z"
   },
   {
    "duration": 7,
    "start_time": "2022-06-16T04:07:49.033Z"
   },
   {
    "duration": 7,
    "start_time": "2022-06-16T04:07:49.041Z"
   },
   {
    "duration": 9,
    "start_time": "2022-06-16T04:07:49.049Z"
   },
   {
    "duration": 8,
    "start_time": "2022-06-16T04:07:49.094Z"
   },
   {
    "duration": 10,
    "start_time": "2022-06-16T04:07:49.104Z"
   },
   {
    "duration": 8,
    "start_time": "2022-06-16T04:07:49.115Z"
   },
   {
    "duration": 7,
    "start_time": "2022-06-16T04:07:49.125Z"
   },
   {
    "duration": 10,
    "start_time": "2022-06-16T04:07:49.133Z"
   },
   {
    "duration": 174,
    "start_time": "2022-06-16T04:07:49.145Z"
   },
   {
    "duration": 6,
    "start_time": "2022-06-16T04:07:49.321Z"
   },
   {
    "duration": 10,
    "start_time": "2022-06-16T04:07:49.328Z"
   },
   {
    "duration": 8,
    "start_time": "2022-06-16T04:07:49.339Z"
   },
   {
    "duration": 12,
    "start_time": "2022-06-16T04:07:49.349Z"
   },
   {
    "duration": 37,
    "start_time": "2022-06-16T04:07:49.362Z"
   },
   {
    "duration": 13,
    "start_time": "2022-06-16T04:07:49.400Z"
   },
   {
    "duration": 89,
    "start_time": "2022-06-16T04:07:49.414Z"
   },
   {
    "duration": 236,
    "start_time": "2022-06-16T04:07:49.505Z"
   },
   {
    "duration": 132,
    "start_time": "2022-06-16T04:07:49.743Z"
   },
   {
    "duration": 373,
    "start_time": "2022-06-16T04:07:49.877Z"
   },
   {
    "duration": 438,
    "start_time": "2022-06-16T04:07:50.252Z"
   },
   {
    "duration": 41,
    "start_time": "2022-06-16T04:07:50.694Z"
   },
   {
    "duration": 35,
    "start_time": "2022-06-16T04:07:50.736Z"
   },
   {
    "duration": 111,
    "start_time": "2022-06-16T04:07:50.794Z"
   },
   {
    "duration": 5,
    "start_time": "2022-06-16T04:07:50.907Z"
   },
   {
    "duration": 70,
    "start_time": "2022-06-16T04:07:50.914Z"
   },
   {
    "duration": 5,
    "start_time": "2022-06-16T04:07:50.995Z"
   },
   {
    "duration": 156945,
    "start_time": "2022-06-16T04:07:51.001Z"
   },
   {
    "duration": 4,
    "start_time": "2022-06-16T04:10:27.948Z"
   },
   {
    "duration": 422,
    "start_time": "2022-06-16T04:10:27.953Z"
   },
   {
    "duration": 5087,
    "start_time": "2022-06-16T04:10:28.377Z"
   },
   {
    "duration": 5343,
    "start_time": "2022-06-16T04:10:33.466Z"
   },
   {
    "duration": 428,
    "start_time": "2022-06-16T04:10:38.810Z"
   },
   {
    "duration": 430,
    "start_time": "2022-06-16T04:10:39.240Z"
   },
   {
    "duration": 145,
    "start_time": "2022-06-16T04:10:39.671Z"
   },
   {
    "duration": 5,
    "start_time": "2022-06-16T04:10:39.818Z"
   },
   {
    "duration": 5185,
    "start_time": "2022-06-16T04:15:20.952Z"
   },
   {
    "duration": 5081,
    "start_time": "2022-06-16T04:15:31.461Z"
   },
   {
    "duration": 1244,
    "start_time": "2022-06-16T04:16:13.630Z"
   },
   {
    "duration": 40,
    "start_time": "2022-06-16T04:16:14.876Z"
   },
   {
    "duration": 16,
    "start_time": "2022-06-16T04:16:14.918Z"
   },
   {
    "duration": 12,
    "start_time": "2022-06-16T04:16:14.936Z"
   },
   {
    "duration": 5,
    "start_time": "2022-06-16T04:16:14.949Z"
   },
   {
    "duration": 8,
    "start_time": "2022-06-16T04:16:14.956Z"
   },
   {
    "duration": 29,
    "start_time": "2022-06-16T04:16:14.966Z"
   },
   {
    "duration": 9,
    "start_time": "2022-06-16T04:16:14.997Z"
   },
   {
    "duration": 10,
    "start_time": "2022-06-16T04:16:15.007Z"
   },
   {
    "duration": 13,
    "start_time": "2022-06-16T04:16:15.019Z"
   },
   {
    "duration": 9,
    "start_time": "2022-06-16T04:16:15.034Z"
   },
   {
    "duration": 8,
    "start_time": "2022-06-16T04:16:15.045Z"
   },
   {
    "duration": 43,
    "start_time": "2022-06-16T04:16:15.055Z"
   },
   {
    "duration": 127,
    "start_time": "2022-06-16T04:16:15.099Z"
   },
   {
    "duration": 6,
    "start_time": "2022-06-16T04:16:15.228Z"
   },
   {
    "duration": 10,
    "start_time": "2022-06-16T04:16:15.235Z"
   },
   {
    "duration": 8,
    "start_time": "2022-06-16T04:16:15.246Z"
   },
   {
    "duration": 44,
    "start_time": "2022-06-16T04:16:15.256Z"
   },
   {
    "duration": 10,
    "start_time": "2022-06-16T04:16:15.302Z"
   },
   {
    "duration": 10,
    "start_time": "2022-06-16T04:16:15.313Z"
   },
   {
    "duration": 96,
    "start_time": "2022-06-16T04:16:15.325Z"
   },
   {
    "duration": 245,
    "start_time": "2022-06-16T04:16:15.423Z"
   },
   {
    "duration": 131,
    "start_time": "2022-06-16T04:16:15.669Z"
   },
   {
    "duration": 377,
    "start_time": "2022-06-16T04:16:15.802Z"
   },
   {
    "duration": 460,
    "start_time": "2022-06-16T04:16:16.180Z"
   },
   {
    "duration": 37,
    "start_time": "2022-06-16T04:16:16.642Z"
   },
   {
    "duration": 49,
    "start_time": "2022-06-16T04:16:16.681Z"
   },
   {
    "duration": 132,
    "start_time": "2022-06-16T04:16:16.733Z"
   },
   {
    "duration": 7,
    "start_time": "2022-06-16T04:16:16.867Z"
   },
   {
    "duration": 81,
    "start_time": "2022-06-16T04:16:16.875Z"
   },
   {
    "duration": 5,
    "start_time": "2022-06-16T04:16:16.958Z"
   },
   {
    "duration": 155679,
    "start_time": "2022-06-16T04:16:16.964Z"
   },
   {
    "duration": 4,
    "start_time": "2022-06-16T04:18:52.645Z"
   },
   {
    "duration": 415,
    "start_time": "2022-06-16T04:18:52.650Z"
   },
   {
    "duration": 4828,
    "start_time": "2022-06-16T04:18:53.066Z"
   },
   {
    "duration": 5124,
    "start_time": "2022-06-16T04:18:57.896Z"
   },
   {
    "duration": 410,
    "start_time": "2022-06-16T04:19:03.022Z"
   },
   {
    "duration": 257,
    "start_time": "2022-06-16T04:19:03.434Z"
   },
   {
    "duration": 147,
    "start_time": "2022-06-16T04:19:03.693Z"
   },
   {
    "duration": 6,
    "start_time": "2022-06-16T04:19:03.842Z"
   },
   {
    "duration": 5198,
    "start_time": "2022-06-16T04:19:31.925Z"
   },
   {
    "duration": 238,
    "start_time": "2022-06-16T04:22:37.629Z"
   },
   {
    "duration": 236,
    "start_time": "2022-06-16T04:23:02.497Z"
   },
   {
    "duration": 237,
    "start_time": "2022-06-16T04:23:46.933Z"
   },
   {
    "duration": 232,
    "start_time": "2022-06-16T04:24:11.242Z"
   },
   {
    "duration": 1240,
    "start_time": "2022-06-16T04:24:17.577Z"
   },
   {
    "duration": 41,
    "start_time": "2022-06-16T04:24:18.819Z"
   },
   {
    "duration": 20,
    "start_time": "2022-06-16T04:24:18.862Z"
   },
   {
    "duration": 16,
    "start_time": "2022-06-16T04:24:18.885Z"
   },
   {
    "duration": 5,
    "start_time": "2022-06-16T04:24:18.903Z"
   },
   {
    "duration": 7,
    "start_time": "2022-06-16T04:24:18.909Z"
   },
   {
    "duration": 6,
    "start_time": "2022-06-16T04:24:18.918Z"
   },
   {
    "duration": 19,
    "start_time": "2022-06-16T04:24:18.926Z"
   },
   {
    "duration": 8,
    "start_time": "2022-06-16T04:24:18.947Z"
   },
   {
    "duration": 40,
    "start_time": "2022-06-16T04:24:18.958Z"
   },
   {
    "duration": 10,
    "start_time": "2022-06-16T04:24:19.000Z"
   },
   {
    "duration": 9,
    "start_time": "2022-06-16T04:24:19.012Z"
   },
   {
    "duration": 10,
    "start_time": "2022-06-16T04:24:19.023Z"
   },
   {
    "duration": 167,
    "start_time": "2022-06-16T04:24:19.035Z"
   },
   {
    "duration": 8,
    "start_time": "2022-06-16T04:24:19.204Z"
   },
   {
    "duration": 11,
    "start_time": "2022-06-16T04:24:19.213Z"
   },
   {
    "duration": 9,
    "start_time": "2022-06-16T04:24:19.225Z"
   },
   {
    "duration": 12,
    "start_time": "2022-06-16T04:24:19.236Z"
   },
   {
    "duration": 8,
    "start_time": "2022-06-16T04:24:19.250Z"
   },
   {
    "duration": 42,
    "start_time": "2022-06-16T04:24:19.260Z"
   },
   {
    "duration": 68,
    "start_time": "2022-06-16T04:24:19.304Z"
   },
   {
    "duration": 262,
    "start_time": "2022-06-16T04:24:19.374Z"
   },
   {
    "duration": 131,
    "start_time": "2022-06-16T04:24:19.637Z"
   },
   {
    "duration": 360,
    "start_time": "2022-06-16T04:24:19.769Z"
   },
   {
    "duration": 442,
    "start_time": "2022-06-16T04:24:20.131Z"
   },
   {
    "duration": 44,
    "start_time": "2022-06-16T04:24:20.575Z"
   },
   {
    "duration": 38,
    "start_time": "2022-06-16T04:24:20.621Z"
   },
   {
    "duration": 132,
    "start_time": "2022-06-16T04:24:20.662Z"
   },
   {
    "duration": 5,
    "start_time": "2022-06-16T04:24:20.796Z"
   },
   {
    "duration": 64,
    "start_time": "2022-06-16T04:24:20.802Z"
   },
   {
    "duration": 4,
    "start_time": "2022-06-16T04:24:20.868Z"
   },
   {
    "duration": 1252,
    "start_time": "2022-06-16T04:25:10.122Z"
   },
   {
    "duration": 39,
    "start_time": "2022-06-16T04:25:11.376Z"
   },
   {
    "duration": 16,
    "start_time": "2022-06-16T04:25:11.416Z"
   },
   {
    "duration": 22,
    "start_time": "2022-06-16T04:25:11.434Z"
   },
   {
    "duration": 5,
    "start_time": "2022-06-16T04:25:11.458Z"
   },
   {
    "duration": 9,
    "start_time": "2022-06-16T04:25:11.465Z"
   },
   {
    "duration": 19,
    "start_time": "2022-06-16T04:25:11.475Z"
   },
   {
    "duration": 9,
    "start_time": "2022-06-16T04:25:11.496Z"
   },
   {
    "duration": 9,
    "start_time": "2022-06-16T04:25:11.507Z"
   },
   {
    "duration": 14,
    "start_time": "2022-06-16T04:25:11.519Z"
   },
   {
    "duration": 9,
    "start_time": "2022-06-16T04:25:11.534Z"
   },
   {
    "duration": 9,
    "start_time": "2022-06-16T04:25:11.545Z"
   },
   {
    "duration": 43,
    "start_time": "2022-06-16T04:25:11.556Z"
   },
   {
    "duration": 126,
    "start_time": "2022-06-16T04:25:11.601Z"
   },
   {
    "duration": 6,
    "start_time": "2022-06-16T04:25:11.729Z"
   },
   {
    "duration": 12,
    "start_time": "2022-06-16T04:25:11.737Z"
   },
   {
    "duration": 8,
    "start_time": "2022-06-16T04:25:11.750Z"
   },
   {
    "duration": 37,
    "start_time": "2022-06-16T04:25:11.759Z"
   },
   {
    "duration": 8,
    "start_time": "2022-06-16T04:25:11.798Z"
   },
   {
    "duration": 11,
    "start_time": "2022-06-16T04:25:11.807Z"
   },
   {
    "duration": 86,
    "start_time": "2022-06-16T04:25:11.820Z"
   },
   {
    "duration": 235,
    "start_time": "2022-06-16T04:25:11.908Z"
   },
   {
    "duration": 133,
    "start_time": "2022-06-16T04:25:12.145Z"
   },
   {
    "duration": 378,
    "start_time": "2022-06-16T04:25:12.280Z"
   },
   {
    "duration": 450,
    "start_time": "2022-06-16T04:25:12.660Z"
   },
   {
    "duration": 38,
    "start_time": "2022-06-16T04:25:13.111Z"
   },
   {
    "duration": 50,
    "start_time": "2022-06-16T04:25:13.150Z"
   },
   {
    "duration": 121,
    "start_time": "2022-06-16T04:25:13.203Z"
   },
   {
    "duration": 5,
    "start_time": "2022-06-16T04:25:13.326Z"
   },
   {
    "duration": 79,
    "start_time": "2022-06-16T04:25:13.333Z"
   },
   {
    "duration": 5,
    "start_time": "2022-06-16T04:25:13.414Z"
   },
   {
    "duration": 158174,
    "start_time": "2022-06-16T04:25:13.420Z"
   },
   {
    "duration": 4,
    "start_time": "2022-06-16T04:27:51.595Z"
   },
   {
    "duration": 401,
    "start_time": "2022-06-16T04:27:51.601Z"
   },
   {
    "duration": 4859,
    "start_time": "2022-06-16T04:27:52.004Z"
   },
   {
    "duration": 5102,
    "start_time": "2022-06-16T04:27:56.865Z"
   },
   {
    "duration": 384,
    "start_time": "2022-06-16T04:28:01.968Z"
   },
   {
    "duration": 258,
    "start_time": "2022-06-16T04:28:02.354Z"
   },
   {
    "duration": 133,
    "start_time": "2022-06-16T04:28:02.613Z"
   },
   {
    "duration": 5,
    "start_time": "2022-06-16T04:28:02.748Z"
   },
   {
    "duration": 401,
    "start_time": "2022-06-16T04:33:31.173Z"
   },
   {
    "duration": 4904,
    "start_time": "2022-06-16T04:35:31.656Z"
   },
   {
    "duration": 1286,
    "start_time": "2022-06-16T04:35:49.897Z"
   },
   {
    "duration": 38,
    "start_time": "2022-06-16T04:35:51.185Z"
   },
   {
    "duration": 18,
    "start_time": "2022-06-16T04:35:51.225Z"
   },
   {
    "duration": 12,
    "start_time": "2022-06-16T04:35:51.245Z"
   },
   {
    "duration": 5,
    "start_time": "2022-06-16T04:35:51.258Z"
   },
   {
    "duration": 12,
    "start_time": "2022-06-16T04:35:51.265Z"
   },
   {
    "duration": 22,
    "start_time": "2022-06-16T04:35:51.278Z"
   },
   {
    "duration": 12,
    "start_time": "2022-06-16T04:35:51.301Z"
   },
   {
    "duration": 7,
    "start_time": "2022-06-16T04:35:51.315Z"
   },
   {
    "duration": 12,
    "start_time": "2022-06-16T04:35:51.325Z"
   },
   {
    "duration": 8,
    "start_time": "2022-06-16T04:35:51.338Z"
   },
   {
    "duration": 8,
    "start_time": "2022-06-16T04:35:51.347Z"
   },
   {
    "duration": 44,
    "start_time": "2022-06-16T04:35:51.357Z"
   },
   {
    "duration": 136,
    "start_time": "2022-06-16T04:35:51.402Z"
   },
   {
    "duration": 7,
    "start_time": "2022-06-16T04:35:51.539Z"
   },
   {
    "duration": 10,
    "start_time": "2022-06-16T04:35:51.547Z"
   },
   {
    "duration": 8,
    "start_time": "2022-06-16T04:35:51.558Z"
   },
   {
    "duration": 36,
    "start_time": "2022-06-16T04:35:51.567Z"
   },
   {
    "duration": 9,
    "start_time": "2022-06-16T04:35:51.605Z"
   },
   {
    "duration": 10,
    "start_time": "2022-06-16T04:35:51.616Z"
   },
   {
    "duration": 100,
    "start_time": "2022-06-16T04:35:51.627Z"
   },
   {
    "duration": 245,
    "start_time": "2022-06-16T04:35:51.728Z"
   },
   {
    "duration": 137,
    "start_time": "2022-06-16T04:35:51.974Z"
   },
   {
    "duration": 374,
    "start_time": "2022-06-16T04:35:52.113Z"
   },
   {
    "duration": 465,
    "start_time": "2022-06-16T04:35:52.490Z"
   },
   {
    "duration": 46,
    "start_time": "2022-06-16T04:35:52.957Z"
   },
   {
    "duration": 38,
    "start_time": "2022-06-16T04:35:53.004Z"
   },
   {
    "duration": 136,
    "start_time": "2022-06-16T04:35:53.047Z"
   },
   {
    "duration": 13,
    "start_time": "2022-06-16T04:35:53.185Z"
   },
   {
    "duration": 70,
    "start_time": "2022-06-16T04:35:53.200Z"
   },
   {
    "duration": 23,
    "start_time": "2022-06-16T04:35:53.272Z"
   },
   {
    "duration": 1201,
    "start_time": "2022-06-16T04:36:27.059Z"
   },
   {
    "duration": 40,
    "start_time": "2022-06-16T04:36:28.262Z"
   },
   {
    "duration": 15,
    "start_time": "2022-06-16T04:36:28.304Z"
   },
   {
    "duration": 11,
    "start_time": "2022-06-16T04:36:28.321Z"
   },
   {
    "duration": 5,
    "start_time": "2022-06-16T04:36:28.334Z"
   },
   {
    "duration": 6,
    "start_time": "2022-06-16T04:36:28.341Z"
   },
   {
    "duration": 5,
    "start_time": "2022-06-16T04:36:28.349Z"
   },
   {
    "duration": 47,
    "start_time": "2022-06-16T04:36:28.356Z"
   },
   {
    "duration": 8,
    "start_time": "2022-06-16T04:36:28.405Z"
   },
   {
    "duration": 10,
    "start_time": "2022-06-16T04:36:28.415Z"
   },
   {
    "duration": 9,
    "start_time": "2022-06-16T04:36:28.427Z"
   },
   {
    "duration": 11,
    "start_time": "2022-06-16T04:36:28.437Z"
   },
   {
    "duration": 49,
    "start_time": "2022-06-16T04:36:28.450Z"
   },
   {
    "duration": 130,
    "start_time": "2022-06-16T04:36:28.500Z"
   },
   {
    "duration": 6,
    "start_time": "2022-06-16T04:36:28.631Z"
   },
   {
    "duration": 9,
    "start_time": "2022-06-16T04:36:28.639Z"
   },
   {
    "duration": 8,
    "start_time": "2022-06-16T04:36:28.649Z"
   },
   {
    "duration": 37,
    "start_time": "2022-06-16T04:36:28.658Z"
   },
   {
    "duration": 8,
    "start_time": "2022-06-16T04:36:28.696Z"
   },
   {
    "duration": 9,
    "start_time": "2022-06-16T04:36:28.706Z"
   },
   {
    "duration": 90,
    "start_time": "2022-06-16T04:36:28.717Z"
   },
   {
    "duration": 248,
    "start_time": "2022-06-16T04:36:28.809Z"
   },
   {
    "duration": 135,
    "start_time": "2022-06-16T04:36:29.060Z"
   },
   {
    "duration": 431,
    "start_time": "2022-06-16T04:36:29.197Z"
   },
   {
    "duration": 617,
    "start_time": "2022-06-16T04:36:29.630Z"
   },
   {
    "duration": 52,
    "start_time": "2022-06-16T04:36:30.249Z"
   },
   {
    "duration": 39,
    "start_time": "2022-06-16T04:36:30.303Z"
   },
   {
    "duration": 149,
    "start_time": "2022-06-16T04:36:30.345Z"
   },
   {
    "duration": 7,
    "start_time": "2022-06-16T04:36:30.496Z"
   },
   {
    "duration": 91,
    "start_time": "2022-06-16T04:36:30.506Z"
   },
   {
    "duration": 11,
    "start_time": "2022-06-16T04:36:30.599Z"
   },
   {
    "duration": 157615,
    "start_time": "2022-06-16T04:36:30.612Z"
   },
   {
    "duration": 4,
    "start_time": "2022-06-16T04:39:08.229Z"
   },
   {
    "duration": 412,
    "start_time": "2022-06-16T04:39:08.235Z"
   },
   {
    "duration": 4661,
    "start_time": "2022-06-16T04:39:08.648Z"
   },
   {
    "duration": 4834,
    "start_time": "2022-06-16T04:39:13.311Z"
   },
   {
    "duration": 384,
    "start_time": "2022-06-16T04:39:18.147Z"
   },
   {
    "duration": 222,
    "start_time": "2022-06-16T04:39:18.533Z"
   },
   {
    "duration": 148,
    "start_time": "2022-06-16T04:39:18.756Z"
   },
   {
    "duration": 6,
    "start_time": "2022-06-16T04:39:18.905Z"
   },
   {
    "duration": 141,
    "start_time": "2022-06-16T04:41:09.958Z"
   },
   {
    "duration": 105,
    "start_time": "2022-06-16T04:46:12.494Z"
   },
   {
    "duration": 9,
    "start_time": "2022-06-16T04:49:45.350Z"
   },
   {
    "duration": 1303,
    "start_time": "2022-06-16T04:50:02.972Z"
   },
   {
    "duration": 39,
    "start_time": "2022-06-16T04:50:04.277Z"
   },
   {
    "duration": 16,
    "start_time": "2022-06-16T04:50:04.318Z"
   },
   {
    "duration": 14,
    "start_time": "2022-06-16T04:50:04.337Z"
   },
   {
    "duration": 5,
    "start_time": "2022-06-16T04:50:04.353Z"
   },
   {
    "duration": 11,
    "start_time": "2022-06-16T04:50:04.359Z"
   },
   {
    "duration": 25,
    "start_time": "2022-06-16T04:50:04.372Z"
   },
   {
    "duration": 11,
    "start_time": "2022-06-16T04:50:04.398Z"
   },
   {
    "duration": 8,
    "start_time": "2022-06-16T04:50:04.410Z"
   },
   {
    "duration": 9,
    "start_time": "2022-06-16T04:50:04.420Z"
   },
   {
    "duration": 8,
    "start_time": "2022-06-16T04:50:04.431Z"
   },
   {
    "duration": 9,
    "start_time": "2022-06-16T04:50:04.440Z"
   },
   {
    "duration": 57,
    "start_time": "2022-06-16T04:50:04.450Z"
   },
   {
    "duration": 127,
    "start_time": "2022-06-16T04:50:04.509Z"
   },
   {
    "duration": 7,
    "start_time": "2022-06-16T04:50:04.637Z"
   },
   {
    "duration": 29,
    "start_time": "2022-06-16T04:50:04.645Z"
   },
   {
    "duration": 8,
    "start_time": "2022-06-16T04:50:04.675Z"
   },
   {
    "duration": 8,
    "start_time": "2022-06-16T04:50:04.694Z"
   },
   {
    "duration": 9,
    "start_time": "2022-06-16T04:50:04.704Z"
   },
   {
    "duration": 9,
    "start_time": "2022-06-16T04:50:04.714Z"
   },
   {
    "duration": 90,
    "start_time": "2022-06-16T04:50:04.724Z"
   },
   {
    "duration": 234,
    "start_time": "2022-06-16T04:50:04.815Z"
   },
   {
    "duration": 127,
    "start_time": "2022-06-16T04:50:05.051Z"
   },
   {
    "duration": 361,
    "start_time": "2022-06-16T04:50:05.179Z"
   },
   {
    "duration": 444,
    "start_time": "2022-06-16T04:50:05.542Z"
   },
   {
    "duration": 40,
    "start_time": "2022-06-16T04:50:05.988Z"
   },
   {
    "duration": 42,
    "start_time": "2022-06-16T04:50:06.030Z"
   },
   {
    "duration": 125,
    "start_time": "2022-06-16T04:50:06.093Z"
   },
   {
    "duration": 7,
    "start_time": "2022-06-16T04:50:06.219Z"
   },
   {
    "duration": 86,
    "start_time": "2022-06-16T04:50:06.228Z"
   },
   {
    "duration": 6,
    "start_time": "2022-06-16T04:50:06.316Z"
   },
   {
    "duration": 159927,
    "start_time": "2022-06-16T04:50:06.323Z"
   },
   {
    "duration": 5,
    "start_time": "2022-06-16T04:52:46.252Z"
   },
   {
    "duration": 394,
    "start_time": "2022-06-16T04:52:46.258Z"
   },
   {
    "duration": 4592,
    "start_time": "2022-06-16T04:52:46.654Z"
   },
   {
    "duration": 4795,
    "start_time": "2022-06-16T04:52:51.248Z"
   },
   {
    "duration": 380,
    "start_time": "2022-06-16T04:52:56.045Z"
   },
   {
    "duration": 254,
    "start_time": "2022-06-16T04:52:56.427Z"
   },
   {
    "duration": 143,
    "start_time": "2022-06-16T04:52:56.682Z"
   },
   {
    "duration": 6,
    "start_time": "2022-06-16T04:52:56.827Z"
   },
   {
    "duration": 9,
    "start_time": "2022-06-16T04:52:56.834Z"
   },
   {
    "duration": 28,
    "start_time": "2022-06-16T04:56:32.330Z"
   },
   {
    "duration": 26,
    "start_time": "2022-06-16T04:56:38.460Z"
   },
   {
    "duration": 20,
    "start_time": "2022-06-16T04:56:51.677Z"
   },
   {
    "duration": 19,
    "start_time": "2022-06-16T04:56:56.833Z"
   },
   {
    "duration": 22,
    "start_time": "2022-06-16T04:57:14.250Z"
   },
   {
    "duration": 6,
    "start_time": "2022-06-16T04:57:53.954Z"
   },
   {
    "duration": 6,
    "start_time": "2022-06-16T04:58:19.565Z"
   },
   {
    "duration": 6,
    "start_time": "2022-06-16T04:58:27.347Z"
   },
   {
    "duration": 1256,
    "start_time": "2022-06-16T05:06:18.831Z"
   },
   {
    "duration": 38,
    "start_time": "2022-06-16T05:06:20.089Z"
   },
   {
    "duration": 16,
    "start_time": "2022-06-16T05:06:20.129Z"
   },
   {
    "duration": 13,
    "start_time": "2022-06-16T05:06:20.147Z"
   },
   {
    "duration": 5,
    "start_time": "2022-06-16T05:06:20.162Z"
   },
   {
    "duration": 7,
    "start_time": "2022-06-16T05:06:20.169Z"
   },
   {
    "duration": 18,
    "start_time": "2022-06-16T05:06:20.178Z"
   },
   {
    "duration": 22,
    "start_time": "2022-06-16T05:06:20.197Z"
   },
   {
    "duration": 8,
    "start_time": "2022-06-16T05:06:20.221Z"
   },
   {
    "duration": 17,
    "start_time": "2022-06-16T05:06:20.232Z"
   },
   {
    "duration": 9,
    "start_time": "2022-06-16T05:06:20.251Z"
   },
   {
    "duration": 9,
    "start_time": "2022-06-16T05:06:20.262Z"
   },
   {
    "duration": 10,
    "start_time": "2022-06-16T05:06:20.295Z"
   },
   {
    "duration": 142,
    "start_time": "2022-06-16T05:06:20.306Z"
   },
   {
    "duration": 6,
    "start_time": "2022-06-16T05:06:20.450Z"
   },
   {
    "duration": 17,
    "start_time": "2022-06-16T05:06:20.457Z"
   },
   {
    "duration": 9,
    "start_time": "2022-06-16T05:06:20.495Z"
   },
   {
    "duration": 12,
    "start_time": "2022-06-16T05:06:20.506Z"
   },
   {
    "duration": 9,
    "start_time": "2022-06-16T05:06:20.520Z"
   },
   {
    "duration": 10,
    "start_time": "2022-06-16T05:06:20.531Z"
   },
   {
    "duration": 105,
    "start_time": "2022-06-16T05:06:20.543Z"
   },
   {
    "duration": 254,
    "start_time": "2022-06-16T05:06:20.649Z"
   },
   {
    "duration": 128,
    "start_time": "2022-06-16T05:06:20.905Z"
   },
   {
    "duration": 369,
    "start_time": "2022-06-16T05:06:21.034Z"
   },
   {
    "duration": 450,
    "start_time": "2022-06-16T05:06:21.405Z"
   },
   {
    "duration": 44,
    "start_time": "2022-06-16T05:06:21.856Z"
   },
   {
    "duration": 39,
    "start_time": "2022-06-16T05:06:21.902Z"
   },
   {
    "duration": 126,
    "start_time": "2022-06-16T05:06:21.944Z"
   },
   {
    "duration": 5,
    "start_time": "2022-06-16T05:06:22.072Z"
   },
   {
    "duration": 75,
    "start_time": "2022-06-16T05:06:22.079Z"
   },
   {
    "duration": 4,
    "start_time": "2022-06-16T05:06:22.155Z"
   },
   {
    "duration": 161440,
    "start_time": "2022-06-16T05:06:22.161Z"
   },
   {
    "duration": 5,
    "start_time": "2022-06-16T05:09:03.602Z"
   },
   {
    "duration": 396,
    "start_time": "2022-06-16T05:09:03.609Z"
   },
   {
    "duration": 4620,
    "start_time": "2022-06-16T05:09:04.007Z"
   },
   {
    "duration": 4738,
    "start_time": "2022-06-16T05:09:08.629Z"
   },
   {
    "duration": 349,
    "start_time": "2022-06-16T05:09:13.369Z"
   },
   {
    "duration": 250,
    "start_time": "2022-06-16T05:09:13.720Z"
   },
   {
    "duration": 153,
    "start_time": "2022-06-16T05:09:13.971Z"
   },
   {
    "duration": 6,
    "start_time": "2022-06-16T05:09:14.125Z"
   },
   {
    "duration": 6,
    "start_time": "2022-06-16T05:09:14.133Z"
   },
   {
    "duration": 7,
    "start_time": "2022-06-16T05:09:14.140Z"
   },
   {
    "duration": 84,
    "start_time": "2022-06-16T05:11:33.876Z"
   },
   {
    "duration": 82,
    "start_time": "2022-06-16T05:11:35.204Z"
   },
   {
    "duration": 82,
    "start_time": "2022-06-16T05:11:36.279Z"
   },
   {
    "duration": 64,
    "start_time": "2022-06-16T05:12:14.398Z"
   },
   {
    "duration": 144,
    "start_time": "2022-06-16T05:12:34.617Z"
   },
   {
    "duration": 45,
    "start_time": "2022-06-16T05:12:40.073Z"
   },
   {
    "duration": 1242,
    "start_time": "2022-06-16T05:13:02.146Z"
   },
   {
    "duration": 39,
    "start_time": "2022-06-16T05:13:03.390Z"
   },
   {
    "duration": 16,
    "start_time": "2022-06-16T05:13:03.431Z"
   },
   {
    "duration": 12,
    "start_time": "2022-06-16T05:13:03.449Z"
   },
   {
    "duration": 6,
    "start_time": "2022-06-16T05:13:03.463Z"
   },
   {
    "duration": 9,
    "start_time": "2022-06-16T05:13:03.470Z"
   },
   {
    "duration": 16,
    "start_time": "2022-06-16T05:13:03.480Z"
   },
   {
    "duration": 9,
    "start_time": "2022-06-16T05:13:03.498Z"
   },
   {
    "duration": 12,
    "start_time": "2022-06-16T05:13:03.509Z"
   },
   {
    "duration": 15,
    "start_time": "2022-06-16T05:13:03.523Z"
   },
   {
    "duration": 9,
    "start_time": "2022-06-16T05:13:03.539Z"
   },
   {
    "duration": 8,
    "start_time": "2022-06-16T05:13:03.550Z"
   },
   {
    "duration": 41,
    "start_time": "2022-06-16T05:13:03.559Z"
   },
   {
    "duration": 135,
    "start_time": "2022-06-16T05:13:03.601Z"
   },
   {
    "duration": 7,
    "start_time": "2022-06-16T05:13:03.738Z"
   },
   {
    "duration": 12,
    "start_time": "2022-06-16T05:13:03.746Z"
   },
   {
    "duration": 8,
    "start_time": "2022-06-16T05:13:03.760Z"
   },
   {
    "duration": 32,
    "start_time": "2022-06-16T05:13:03.769Z"
   },
   {
    "duration": 8,
    "start_time": "2022-06-16T05:13:03.803Z"
   },
   {
    "duration": 10,
    "start_time": "2022-06-16T05:13:03.812Z"
   },
   {
    "duration": 101,
    "start_time": "2022-06-16T05:13:03.823Z"
   },
   {
    "duration": 255,
    "start_time": "2022-06-16T05:13:03.926Z"
   },
   {
    "duration": 139,
    "start_time": "2022-06-16T05:13:04.183Z"
   },
   {
    "duration": 390,
    "start_time": "2022-06-16T05:13:04.324Z"
   },
   {
    "duration": 452,
    "start_time": "2022-06-16T05:13:04.716Z"
   },
   {
    "duration": 45,
    "start_time": "2022-06-16T05:13:05.170Z"
   },
   {
    "duration": 40,
    "start_time": "2022-06-16T05:13:05.217Z"
   },
   {
    "duration": 135,
    "start_time": "2022-06-16T05:13:05.261Z"
   },
   {
    "duration": 6,
    "start_time": "2022-06-16T05:13:05.398Z"
   },
   {
    "duration": 69,
    "start_time": "2022-06-16T05:13:05.405Z"
   },
   {
    "duration": 20,
    "start_time": "2022-06-16T05:13:05.476Z"
   },
   {
    "duration": 162015,
    "start_time": "2022-06-16T05:13:05.498Z"
   },
   {
    "duration": 5,
    "start_time": "2022-06-16T05:15:47.514Z"
   },
   {
    "duration": 370,
    "start_time": "2022-06-16T05:15:47.520Z"
   },
   {
    "duration": 4469,
    "start_time": "2022-06-16T05:15:47.893Z"
   },
   {
    "duration": 4608,
    "start_time": "2022-06-16T05:15:52.364Z"
   },
   {
    "duration": 351,
    "start_time": "2022-06-16T05:15:56.973Z"
   },
   {
    "duration": 245,
    "start_time": "2022-06-16T05:15:57.326Z"
   },
   {
    "duration": 134,
    "start_time": "2022-06-16T05:15:57.573Z"
   },
   {
    "duration": 5,
    "start_time": "2022-06-16T05:15:57.708Z"
   },
   {
    "duration": 18,
    "start_time": "2022-06-16T05:15:57.715Z"
   },
   {
    "duration": 21,
    "start_time": "2022-06-16T05:15:57.734Z"
   },
   {
    "duration": 1372,
    "start_time": "2022-06-17T02:59:52.005Z"
   },
   {
    "duration": 78,
    "start_time": "2022-06-17T02:59:53.379Z"
   },
   {
    "duration": 16,
    "start_time": "2022-06-17T02:59:53.459Z"
   },
   {
    "duration": 13,
    "start_time": "2022-06-17T02:59:53.477Z"
   },
   {
    "duration": 11,
    "start_time": "2022-06-17T02:59:53.491Z"
   },
   {
    "duration": 7,
    "start_time": "2022-06-17T02:59:53.503Z"
   },
   {
    "duration": 10,
    "start_time": "2022-06-17T02:59:53.511Z"
   },
   {
    "duration": 9,
    "start_time": "2022-06-17T02:59:53.522Z"
   },
   {
    "duration": 7,
    "start_time": "2022-06-17T02:59:53.533Z"
   },
   {
    "duration": 8,
    "start_time": "2022-06-17T02:59:53.566Z"
   },
   {
    "duration": 10,
    "start_time": "2022-06-17T02:59:53.575Z"
   },
   {
    "duration": 8,
    "start_time": "2022-06-17T02:59:53.586Z"
   },
   {
    "duration": 9,
    "start_time": "2022-06-17T02:59:53.596Z"
   },
   {
    "duration": 166,
    "start_time": "2022-06-17T02:59:53.607Z"
   },
   {
    "duration": 5,
    "start_time": "2022-06-17T02:59:53.775Z"
   },
   {
    "duration": 10,
    "start_time": "2022-06-17T02:59:53.782Z"
   },
   {
    "duration": 7,
    "start_time": "2022-06-17T02:59:53.793Z"
   },
   {
    "duration": 9,
    "start_time": "2022-06-17T02:59:53.801Z"
   },
   {
    "duration": 7,
    "start_time": "2022-06-17T02:59:53.812Z"
   },
   {
    "duration": 48,
    "start_time": "2022-06-17T02:59:53.820Z"
   },
   {
    "duration": 66,
    "start_time": "2022-06-17T02:59:53.869Z"
   },
   {
    "duration": 237,
    "start_time": "2022-06-17T02:59:53.936Z"
   },
   {
    "duration": 126,
    "start_time": "2022-06-17T02:59:54.174Z"
   },
   {
    "duration": 352,
    "start_time": "2022-06-17T02:59:54.302Z"
   },
   {
    "duration": 417,
    "start_time": "2022-06-17T02:59:54.656Z"
   },
   {
    "duration": 36,
    "start_time": "2022-06-17T02:59:55.075Z"
   },
   {
    "duration": 54,
    "start_time": "2022-06-17T02:59:55.112Z"
   },
   {
    "duration": 113,
    "start_time": "2022-06-17T02:59:55.169Z"
   },
   {
    "duration": 5,
    "start_time": "2022-06-17T02:59:55.284Z"
   },
   {
    "duration": 82,
    "start_time": "2022-06-17T02:59:55.291Z"
   },
   {
    "duration": 5,
    "start_time": "2022-06-17T02:59:55.374Z"
   },
   {
    "duration": 158501,
    "start_time": "2022-06-17T02:59:55.380Z"
   },
   {
    "duration": 4,
    "start_time": "2022-06-17T03:02:33.883Z"
   },
   {
    "duration": 390,
    "start_time": "2022-06-17T03:02:33.888Z"
   },
   {
    "duration": 4618,
    "start_time": "2022-06-17T03:02:34.280Z"
   },
   {
    "duration": 4845,
    "start_time": "2022-06-17T03:02:38.900Z"
   },
   {
    "duration": 369,
    "start_time": "2022-06-17T03:02:43.746Z"
   },
   {
    "duration": 255,
    "start_time": "2022-06-17T03:02:44.116Z"
   },
   {
    "duration": 132,
    "start_time": "2022-06-17T03:02:44.374Z"
   },
   {
    "duration": 6,
    "start_time": "2022-06-17T03:02:44.508Z"
   },
   {
    "duration": 6,
    "start_time": "2022-06-17T03:02:44.516Z"
   },
   {
    "duration": 6,
    "start_time": "2022-06-17T03:02:44.523Z"
   },
   {
    "duration": 6,
    "start_time": "2022-06-17T03:10:38.717Z"
   },
   {
    "duration": 45,
    "start_time": "2022-06-17T03:14:18.929Z"
   },
   {
    "duration": 41,
    "start_time": "2022-06-17T03:14:25.834Z"
   },
   {
    "duration": 42,
    "start_time": "2022-06-17T03:14:26.830Z"
   },
   {
    "duration": 1226,
    "start_time": "2022-06-17T03:14:41.388Z"
   },
   {
    "duration": 41,
    "start_time": "2022-06-17T03:14:42.615Z"
   },
   {
    "duration": 16,
    "start_time": "2022-06-17T03:14:42.658Z"
   },
   {
    "duration": 12,
    "start_time": "2022-06-17T03:14:42.676Z"
   },
   {
    "duration": 5,
    "start_time": "2022-06-17T03:14:42.690Z"
   },
   {
    "duration": 8,
    "start_time": "2022-06-17T03:14:42.697Z"
   },
   {
    "duration": 6,
    "start_time": "2022-06-17T03:14:42.707Z"
   },
   {
    "duration": 51,
    "start_time": "2022-06-17T03:14:42.715Z"
   },
   {
    "duration": 10,
    "start_time": "2022-06-17T03:14:42.767Z"
   },
   {
    "duration": 11,
    "start_time": "2022-06-17T03:14:42.780Z"
   },
   {
    "duration": 9,
    "start_time": "2022-06-17T03:14:42.793Z"
   },
   {
    "duration": 9,
    "start_time": "2022-06-17T03:14:42.804Z"
   },
   {
    "duration": 53,
    "start_time": "2022-06-17T03:14:42.814Z"
   },
   {
    "duration": 132,
    "start_time": "2022-06-17T03:14:42.869Z"
   },
   {
    "duration": 8,
    "start_time": "2022-06-17T03:14:43.003Z"
   },
   {
    "duration": 12,
    "start_time": "2022-06-17T03:14:43.012Z"
   },
   {
    "duration": 7,
    "start_time": "2022-06-17T03:14:43.026Z"
   },
   {
    "duration": 36,
    "start_time": "2022-06-17T03:14:43.035Z"
   },
   {
    "duration": 8,
    "start_time": "2022-06-17T03:14:43.072Z"
   },
   {
    "duration": 9,
    "start_time": "2022-06-17T03:14:43.081Z"
   },
   {
    "duration": 88,
    "start_time": "2022-06-17T03:14:43.091Z"
   },
   {
    "duration": 228,
    "start_time": "2022-06-17T03:14:43.180Z"
   },
   {
    "duration": 132,
    "start_time": "2022-06-17T03:14:43.409Z"
   },
   {
    "duration": 368,
    "start_time": "2022-06-17T03:14:43.542Z"
   },
   {
    "duration": 419,
    "start_time": "2022-06-17T03:14:43.912Z"
   },
   {
    "duration": 44,
    "start_time": "2022-06-17T03:14:44.333Z"
   },
   {
    "duration": 40,
    "start_time": "2022-06-17T03:14:44.378Z"
   },
   {
    "duration": 121,
    "start_time": "2022-06-17T03:14:44.421Z"
   },
   {
    "duration": 5,
    "start_time": "2022-06-17T03:14:44.543Z"
   },
   {
    "duration": 74,
    "start_time": "2022-06-17T03:14:44.550Z"
   },
   {
    "duration": 4,
    "start_time": "2022-06-17T03:14:44.626Z"
   },
   {
    "duration": 154562,
    "start_time": "2022-06-17T03:14:44.631Z"
   },
   {
    "duration": 4,
    "start_time": "2022-06-17T03:17:19.195Z"
   },
   {
    "duration": 459,
    "start_time": "2022-06-17T03:17:19.201Z"
   },
   {
    "duration": 5375,
    "start_time": "2022-06-17T03:17:19.664Z"
   },
   {
    "duration": 5673,
    "start_time": "2022-06-17T03:17:25.041Z"
   },
   {
    "duration": 467,
    "start_time": "2022-06-17T03:17:30.716Z"
   },
   {
    "duration": 359,
    "start_time": "2022-06-17T03:17:31.185Z"
   },
   {
    "duration": 142,
    "start_time": "2022-06-17T03:17:31.545Z"
   },
   {
    "duration": 6,
    "start_time": "2022-06-17T03:17:31.688Z"
   },
   {
    "duration": 7,
    "start_time": "2022-06-17T03:17:31.696Z"
   },
   {
    "duration": 67,
    "start_time": "2022-06-17T03:17:31.704Z"
   },
   {
    "duration": 51,
    "start_time": "2022-06-17T03:19:57.966Z"
   },
   {
    "duration": 5,
    "start_time": "2022-06-17T03:20:00.889Z"
   },
   {
    "duration": 55,
    "start_time": "2022-06-17T03:20:03.422Z"
   },
   {
    "duration": 1261,
    "start_time": "2022-06-17T03:20:09.753Z"
   },
   {
    "duration": 41,
    "start_time": "2022-06-17T03:20:11.016Z"
   },
   {
    "duration": 17,
    "start_time": "2022-06-17T03:20:11.058Z"
   },
   {
    "duration": 13,
    "start_time": "2022-06-17T03:20:11.076Z"
   },
   {
    "duration": 7,
    "start_time": "2022-06-17T03:20:11.090Z"
   },
   {
    "duration": 15,
    "start_time": "2022-06-17T03:20:11.098Z"
   },
   {
    "duration": 6,
    "start_time": "2022-06-17T03:20:11.115Z"
   },
   {
    "duration": 13,
    "start_time": "2022-06-17T03:20:11.122Z"
   },
   {
    "duration": 7,
    "start_time": "2022-06-17T03:20:11.136Z"
   },
   {
    "duration": 8,
    "start_time": "2022-06-17T03:20:11.166Z"
   },
   {
    "duration": 15,
    "start_time": "2022-06-17T03:20:11.175Z"
   },
   {
    "duration": 12,
    "start_time": "2022-06-17T03:20:11.192Z"
   },
   {
    "duration": 18,
    "start_time": "2022-06-17T03:20:11.206Z"
   },
   {
    "duration": 141,
    "start_time": "2022-06-17T03:20:11.226Z"
   },
   {
    "duration": 6,
    "start_time": "2022-06-17T03:20:11.368Z"
   },
   {
    "duration": 14,
    "start_time": "2022-06-17T03:20:11.376Z"
   },
   {
    "duration": 12,
    "start_time": "2022-06-17T03:20:11.392Z"
   },
   {
    "duration": 8,
    "start_time": "2022-06-17T03:20:11.405Z"
   },
   {
    "duration": 15,
    "start_time": "2022-06-17T03:20:11.415Z"
   },
   {
    "duration": 34,
    "start_time": "2022-06-17T03:20:11.432Z"
   },
   {
    "duration": 67,
    "start_time": "2022-06-17T03:20:11.468Z"
   },
   {
    "duration": 240,
    "start_time": "2022-06-17T03:20:11.536Z"
   },
   {
    "duration": 126,
    "start_time": "2022-06-17T03:20:11.778Z"
   },
   {
    "duration": 362,
    "start_time": "2022-06-17T03:20:11.906Z"
   },
   {
    "duration": 447,
    "start_time": "2022-06-17T03:20:12.270Z"
   },
   {
    "duration": 37,
    "start_time": "2022-06-17T03:20:12.719Z"
   },
   {
    "duration": 39,
    "start_time": "2022-06-17T03:20:12.765Z"
   },
   {
    "duration": 127,
    "start_time": "2022-06-17T03:20:12.807Z"
   },
   {
    "duration": 5,
    "start_time": "2022-06-17T03:20:12.936Z"
   },
   {
    "duration": 78,
    "start_time": "2022-06-17T03:20:12.943Z"
   },
   {
    "duration": 6,
    "start_time": "2022-06-17T03:20:13.023Z"
   },
   {
    "duration": 155863,
    "start_time": "2022-06-17T03:20:13.030Z"
   },
   {
    "duration": 5,
    "start_time": "2022-06-17T03:22:48.895Z"
   },
   {
    "duration": 437,
    "start_time": "2022-06-17T03:22:48.902Z"
   },
   {
    "duration": 5057,
    "start_time": "2022-06-17T03:22:49.340Z"
   },
   {
    "duration": 5244,
    "start_time": "2022-06-17T03:22:54.399Z"
   },
   {
    "duration": 400,
    "start_time": "2022-06-17T03:22:59.644Z"
   },
   {
    "duration": 287,
    "start_time": "2022-06-17T03:23:00.046Z"
   },
   {
    "duration": 143,
    "start_time": "2022-06-17T03:23:00.335Z"
   },
   {
    "duration": 7,
    "start_time": "2022-06-17T03:23:00.480Z"
   },
   {
    "duration": 15,
    "start_time": "2022-06-17T03:23:00.489Z"
   },
   {
    "duration": 138,
    "start_time": "2022-06-17T03:23:00.506Z"
   },
   {
    "duration": 49,
    "start_time": "2022-06-17T03:23:42.447Z"
   },
   {
    "duration": 127,
    "start_time": "2022-06-17T03:29:10.123Z"
   },
   {
    "duration": 7,
    "start_time": "2022-06-17T03:29:24.351Z"
   }
  ],
  "kernelspec": {
   "display_name": "Python 3 (ipykernel)",
   "language": "python",
   "name": "python3"
  },
  "language_info": {
   "codemirror_mode": {
    "name": "ipython",
    "version": 3
   },
   "file_extension": ".py",
   "mimetype": "text/x-python",
   "name": "python",
   "nbconvert_exporter": "python",
   "pygments_lexer": "ipython3",
   "version": "3.9.5"
  },
  "toc": {
   "base_numbering": 1,
   "nav_menu": {},
   "number_sections": true,
   "sideBar": true,
   "skip_h1_title": true,
   "title_cell": "Table of Contents",
   "title_sidebar": "Contents",
   "toc_cell": false,
   "toc_position": {},
   "toc_section_display": true,
   "toc_window_display": false
  }
 },
 "nbformat": 4,
 "nbformat_minor": 2
}
