{
 "cells": [
  {
   "cell_type": "markdown",
   "metadata": {},
   "source": [
    "# ML project for Sure Tomorrow Insurance Company"
   ]
  },
  {
   "cell_type": "markdown",
   "metadata": {},
   "source": [
    "The Sure Tomorrow insurance company wants to solve several tasks with the help of Machine Learning. The purpose of this project was to to evaluate that possibility, and solve the following tasks: \n",
    "\n",
    "- Task 1: Find customers who are similar to a given customer. This will help the company's agents with marketing.\n",
    "- Task 2: Predict whether a new customer is likely to receive an insurance benefit. Can a prediction model do better than a dummy model?\n",
    "- Task 3: Predict the number of insurance benefits a new customer is likely to receive using a linear regression model.\n",
    "- Task 4: Protect clients' personal data without breaking the model from the previous task. It's necessary to develop a data transformation algorithm that would make it hard to recover personal information if the data fell into the wrong hands. This is called data masking, or data obfuscation. But the data should be protected in such a way that the quality of machine learning models doesn't suffer. You don't need to pick the best model, just prove that the algorithm works correctly."
   ]
  },
  {
   "cell_type": "markdown",
   "metadata": {},
   "source": [
    "# Data Preprocessing & Exploration\n",
    "\n",
    "## Initialization\n",
    "\n",
    "Below are the libraries used for analysis. "
   ]
  },
  {
   "cell_type": "code",
   "execution_count": 1,
   "metadata": {},
   "outputs": [],
   "source": [
    "import numpy as np\n",
    "import pandas as pd\n",
    "import seaborn as sns\n",
    "import sklearn.linear_model\n",
    "import sklearn.metrics\n",
    "from sklearn.metrics import f1_score\n",
    "from  sklearn.neighbors import KNeighborsClassifier\n",
    "import sklearn.preprocessing\n",
    "from sklearn.model_selection import train_test_split\n",
    "from IPython.display import display\n",
    "import matplotlib.pyplot as plt\n",
    "import math \n",
    "\n",
    "%config InlineBackend.figure_format = 'retina'\n",
    "\n",
    "plt.style.use('seaborn')\n",
    "\n",
    "\n",
    "import warnings\n",
    "warnings.filterwarnings(\"ignore\", category=RuntimeWarning)"
   ]
  },
  {
   "cell_type": "markdown",
   "metadata": {},
   "source": [
    "## Load Data"
   ]
  },
  {
   "cell_type": "markdown",
   "metadata": {},
   "source": [
    "The data provided by the Sure Tomorrow insurance company was saved in the `df` variable. "
   ]
  },
  {
   "cell_type": "code",
   "execution_count": 2,
   "metadata": {},
   "outputs": [],
   "source": [
    "df = pd.read_csv('/datasets/insurance_us.csv')"
   ]
  },
  {
   "cell_type": "markdown",
   "metadata": {},
   "source": [
    "We renamed the columns to make the code more consistent with its style."
   ]
  },
  {
   "cell_type": "code",
   "execution_count": 3,
   "metadata": {},
   "outputs": [],
   "source": [
    "df = df.rename(columns={'Gender': 'gender', 'Age': 'age', 'Salary': 'income', 'Family members': 'family_members', 'Insurance benefits': 'insurance_benefits'})"
   ]
  },
  {
   "cell_type": "code",
   "execution_count": 4,
   "metadata": {},
   "outputs": [
    {
     "data": {
      "text/html": [
       "<div>\n",
       "<style scoped>\n",
       "    .dataframe tbody tr th:only-of-type {\n",
       "        vertical-align: middle;\n",
       "    }\n",
       "\n",
       "    .dataframe tbody tr th {\n",
       "        vertical-align: top;\n",
       "    }\n",
       "\n",
       "    .dataframe thead th {\n",
       "        text-align: right;\n",
       "    }\n",
       "</style>\n",
       "<table border=\"1\" class=\"dataframe\">\n",
       "  <thead>\n",
       "    <tr style=\"text-align: right;\">\n",
       "      <th></th>\n",
       "      <th>gender</th>\n",
       "      <th>age</th>\n",
       "      <th>income</th>\n",
       "      <th>family_members</th>\n",
       "      <th>insurance_benefits</th>\n",
       "    </tr>\n",
       "  </thead>\n",
       "  <tbody>\n",
       "    <tr>\n",
       "      <th>0</th>\n",
       "      <td>1</td>\n",
       "      <td>41.0</td>\n",
       "      <td>49600.0</td>\n",
       "      <td>1</td>\n",
       "      <td>0</td>\n",
       "    </tr>\n",
       "    <tr>\n",
       "      <th>1</th>\n",
       "      <td>0</td>\n",
       "      <td>46.0</td>\n",
       "      <td>38000.0</td>\n",
       "      <td>1</td>\n",
       "      <td>1</td>\n",
       "    </tr>\n",
       "    <tr>\n",
       "      <th>2</th>\n",
       "      <td>0</td>\n",
       "      <td>29.0</td>\n",
       "      <td>21000.0</td>\n",
       "      <td>0</td>\n",
       "      <td>0</td>\n",
       "    </tr>\n",
       "    <tr>\n",
       "      <th>3</th>\n",
       "      <td>0</td>\n",
       "      <td>21.0</td>\n",
       "      <td>41700.0</td>\n",
       "      <td>2</td>\n",
       "      <td>0</td>\n",
       "    </tr>\n",
       "    <tr>\n",
       "      <th>4</th>\n",
       "      <td>1</td>\n",
       "      <td>28.0</td>\n",
       "      <td>26100.0</td>\n",
       "      <td>0</td>\n",
       "      <td>0</td>\n",
       "    </tr>\n",
       "    <tr>\n",
       "      <th>5</th>\n",
       "      <td>1</td>\n",
       "      <td>43.0</td>\n",
       "      <td>41000.0</td>\n",
       "      <td>2</td>\n",
       "      <td>1</td>\n",
       "    </tr>\n",
       "    <tr>\n",
       "      <th>6</th>\n",
       "      <td>1</td>\n",
       "      <td>39.0</td>\n",
       "      <td>39700.0</td>\n",
       "      <td>2</td>\n",
       "      <td>0</td>\n",
       "    </tr>\n",
       "    <tr>\n",
       "      <th>7</th>\n",
       "      <td>1</td>\n",
       "      <td>25.0</td>\n",
       "      <td>38600.0</td>\n",
       "      <td>4</td>\n",
       "      <td>0</td>\n",
       "    </tr>\n",
       "    <tr>\n",
       "      <th>8</th>\n",
       "      <td>1</td>\n",
       "      <td>36.0</td>\n",
       "      <td>49700.0</td>\n",
       "      <td>1</td>\n",
       "      <td>0</td>\n",
       "    </tr>\n",
       "    <tr>\n",
       "      <th>9</th>\n",
       "      <td>1</td>\n",
       "      <td>32.0</td>\n",
       "      <td>51700.0</td>\n",
       "      <td>1</td>\n",
       "      <td>0</td>\n",
       "    </tr>\n",
       "  </tbody>\n",
       "</table>\n",
       "</div>"
      ],
      "text/plain": [
       "   gender   age   income  family_members  insurance_benefits\n",
       "0       1  41.0  49600.0               1                   0\n",
       "1       0  46.0  38000.0               1                   1\n",
       "2       0  29.0  21000.0               0                   0\n",
       "3       0  21.0  41700.0               2                   0\n",
       "4       1  28.0  26100.0               0                   0\n",
       "5       1  43.0  41000.0               2                   1\n",
       "6       1  39.0  39700.0               2                   0\n",
       "7       1  25.0  38600.0               4                   0\n",
       "8       1  36.0  49700.0               1                   0\n",
       "9       1  32.0  51700.0               1                   0"
      ]
     },
     "execution_count": 4,
     "metadata": {},
     "output_type": "execute_result"
    }
   ],
   "source": [
    "df.head(10)"
   ]
  },
  {
   "cell_type": "markdown",
   "metadata": {},
   "source": [
    "The `df` table contains a total of 5,000 entries (no null values), each describing one costumer; and 5 columns, which are described below: \n",
    "- `gender`: gender of costumer\n",
    "- `age`: age of costumer \n",
    "- `income`: anual income of costumer \n",
    "- `family_members`: number of family members under costumer's account\n",
    "- `insurance_benefits`: number of insurance benefits received by an insured person over the last five years."
   ]
  },
  {
   "cell_type": "code",
   "execution_count": 5,
   "metadata": {},
   "outputs": [
    {
     "name": "stdout",
     "output_type": "stream",
     "text": [
      "<class 'pandas.core.frame.DataFrame'>\n",
      "RangeIndex: 5000 entries, 0 to 4999\n",
      "Data columns (total 5 columns):\n",
      " #   Column              Non-Null Count  Dtype  \n",
      "---  ------              --------------  -----  \n",
      " 0   gender              5000 non-null   int64  \n",
      " 1   age                 5000 non-null   float64\n",
      " 2   income              5000 non-null   float64\n",
      " 3   family_members      5000 non-null   int64  \n",
      " 4   insurance_benefits  5000 non-null   int64  \n",
      "dtypes: float64(2), int64(3)\n",
      "memory usage: 195.4 KB\n"
     ]
    }
   ],
   "source": [
    "df.info()"
   ]
  },
  {
   "cell_type": "markdown",
   "metadata": {},
   "source": [
    "## Processing Data for Analysis\n",
    "In this section, we processed the data to ensure that there were not errors in data type, anomalies in values, or duplicates. "
   ]
  },
  {
   "cell_type": "markdown",
   "metadata": {},
   "source": [
    "### Processing `gender` column\n",
    "The `gender` column had a data type of int64, which is an appropriate datatype. There were two unique integer values for `gender` including 1 and 0. The correspondence of gender to a value (0 or 1) was not provided by Sure Tomorrow. "
   ]
  },
  {
   "cell_type": "code",
   "execution_count": 6,
   "metadata": {},
   "outputs": [
    {
     "data": {
      "text/plain": [
       "array([1, 0])"
      ]
     },
     "execution_count": 6,
     "metadata": {},
     "output_type": "execute_result"
    }
   ],
   "source": [
    "df.gender.unique()"
   ]
  },
  {
   "cell_type": "markdown",
   "metadata": {},
   "source": [
    "### Processing `age` column\n",
    "The `age` column had a datatype of float64, which was changed to int64 datatype, shown below. There were no errors in the values for age, e.g. no negative numbers. There were a total of 12 outliers for the age, which were greater than 1.5*IQR. THese values were removed from the `df` dataframe. "
   ]
  },
  {
   "cell_type": "code",
   "execution_count": 7,
   "metadata": {},
   "outputs": [
    {
     "data": {
      "text/plain": [
       "0    41\n",
       "1    46\n",
       "2    29\n",
       "3    21\n",
       "4    28\n",
       "5    43\n",
       "6    39\n",
       "7    25\n",
       "8    36\n",
       "9    32\n",
       "Name: age, dtype: int64"
      ]
     },
     "execution_count": 7,
     "metadata": {},
     "output_type": "execute_result"
    }
   ],
   "source": [
    "#changing data type float64 to int64\n",
    "df['age']=df.age.astype('int')\n",
    "df.age.head(10)"
   ]
  },
  {
   "cell_type": "code",
   "execution_count": 8,
   "metadata": {
    "scrolled": true
   },
   "outputs": [
    {
     "name": "stdout",
     "output_type": "stream",
     "text": [
      "[18, 19, 20, 21, 22, 23, 24, 25, 26, 27, 28, 29, 30, 31, 32, 33, 34, 35, 36, 37, 38, 39, 40, 41, 42, 43, 44, 45, 46, 47, 48, 49, 50, 51, 52, 53, 54, 55, 56, 57, 58, 59, 60, 61, 62, 65]\n"
     ]
    }
   ],
   "source": [
    "#checking for unique values \n",
    "print(sorted(df.age.unique()))"
   ]
  },
  {
   "cell_type": "code",
   "execution_count": 9,
   "metadata": {},
   "outputs": [
    {
     "name": "stdout",
     "output_type": "stream",
     "text": [
      "12\n"
     ]
    },
    {
     "data": {
      "text/html": [
       "<div>\n",
       "<style scoped>\n",
       "    .dataframe tbody tr th:only-of-type {\n",
       "        vertical-align: middle;\n",
       "    }\n",
       "\n",
       "    .dataframe tbody tr th {\n",
       "        vertical-align: top;\n",
       "    }\n",
       "\n",
       "    .dataframe thead th {\n",
       "        text-align: right;\n",
       "    }\n",
       "</style>\n",
       "<table border=\"1\" class=\"dataframe\">\n",
       "  <thead>\n",
       "    <tr style=\"text-align: right;\">\n",
       "      <th></th>\n",
       "      <th>gender</th>\n",
       "      <th>age</th>\n",
       "      <th>income</th>\n",
       "      <th>family_members</th>\n",
       "      <th>insurance_benefits</th>\n",
       "    </tr>\n",
       "  </thead>\n",
       "  <tbody>\n",
       "    <tr>\n",
       "      <th>228</th>\n",
       "      <td>1</td>\n",
       "      <td>65</td>\n",
       "      <td>39700.0</td>\n",
       "      <td>1</td>\n",
       "      <td>5</td>\n",
       "    </tr>\n",
       "    <tr>\n",
       "      <th>256</th>\n",
       "      <td>0</td>\n",
       "      <td>57</td>\n",
       "      <td>28100.0</td>\n",
       "      <td>2</td>\n",
       "      <td>3</td>\n",
       "    </tr>\n",
       "    <tr>\n",
       "      <th>1126</th>\n",
       "      <td>1</td>\n",
       "      <td>58</td>\n",
       "      <td>28300.0</td>\n",
       "      <td>1</td>\n",
       "      <td>3</td>\n",
       "    </tr>\n",
       "    <tr>\n",
       "      <th>1215</th>\n",
       "      <td>1</td>\n",
       "      <td>58</td>\n",
       "      <td>26500.0</td>\n",
       "      <td>0</td>\n",
       "      <td>3</td>\n",
       "    </tr>\n",
       "    <tr>\n",
       "      <th>1568</th>\n",
       "      <td>1</td>\n",
       "      <td>59</td>\n",
       "      <td>32100.0</td>\n",
       "      <td>0</td>\n",
       "      <td>4</td>\n",
       "    </tr>\n",
       "    <tr>\n",
       "      <th>2240</th>\n",
       "      <td>0</td>\n",
       "      <td>60</td>\n",
       "      <td>27900.0</td>\n",
       "      <td>0</td>\n",
       "      <td>4</td>\n",
       "    </tr>\n",
       "    <tr>\n",
       "      <th>3102</th>\n",
       "      <td>0</td>\n",
       "      <td>57</td>\n",
       "      <td>22600.0</td>\n",
       "      <td>2</td>\n",
       "      <td>3</td>\n",
       "    </tr>\n",
       "    <tr>\n",
       "      <th>3117</th>\n",
       "      <td>0</td>\n",
       "      <td>60</td>\n",
       "      <td>43400.0</td>\n",
       "      <td>2</td>\n",
       "      <td>4</td>\n",
       "    </tr>\n",
       "    <tr>\n",
       "      <th>3209</th>\n",
       "      <td>1</td>\n",
       "      <td>59</td>\n",
       "      <td>51700.0</td>\n",
       "      <td>2</td>\n",
       "      <td>4</td>\n",
       "    </tr>\n",
       "    <tr>\n",
       "      <th>3674</th>\n",
       "      <td>1</td>\n",
       "      <td>59</td>\n",
       "      <td>29600.0</td>\n",
       "      <td>0</td>\n",
       "      <td>4</td>\n",
       "    </tr>\n",
       "    <tr>\n",
       "      <th>3907</th>\n",
       "      <td>1</td>\n",
       "      <td>61</td>\n",
       "      <td>39600.0</td>\n",
       "      <td>1</td>\n",
       "      <td>4</td>\n",
       "    </tr>\n",
       "    <tr>\n",
       "      <th>4019</th>\n",
       "      <td>0</td>\n",
       "      <td>62</td>\n",
       "      <td>14100.0</td>\n",
       "      <td>0</td>\n",
       "      <td>4</td>\n",
       "    </tr>\n",
       "  </tbody>\n",
       "</table>\n",
       "</div>"
      ],
      "text/plain": [
       "      gender  age   income  family_members  insurance_benefits\n",
       "228        1   65  39700.0               1                   5\n",
       "256        0   57  28100.0               2                   3\n",
       "1126       1   58  28300.0               1                   3\n",
       "1215       1   58  26500.0               0                   3\n",
       "1568       1   59  32100.0               0                   4\n",
       "2240       0   60  27900.0               0                   4\n",
       "3102       0   57  22600.0               2                   3\n",
       "3117       0   60  43400.0               2                   4\n",
       "3209       1   59  51700.0               2                   4\n",
       "3674       1   59  29600.0               0                   4\n",
       "3907       1   61  39600.0               1                   4\n",
       "4019       0   62  14100.0               0                   4"
      ]
     },
     "execution_count": 9,
     "metadata": {},
     "output_type": "execute_result"
    }
   ],
   "source": [
    "#looking for outliers\n",
    "q1_age = df.age.quantile(0.25)\n",
    "q3_age = df.age.quantile(0.75)\n",
    "iqr_age = q3_age - q1_age\n",
    "\n",
    "outlier_age = df.query('age > (@q3_age + (1.5 * @iqr_age)) or age < (@q1_age - (1.5 * @iqr_age))')\n",
    "print(len(outlier_age))\n",
    "outlier_age"
   ]
  },
  {
   "cell_type": "code",
   "execution_count": 10,
   "metadata": {},
   "outputs": [
    {
     "name": "stdout",
     "output_type": "stream",
     "text": [
      "<class 'pandas.core.frame.DataFrame'>\n",
      "Int64Index: 4988 entries, 0 to 4999\n",
      "Data columns (total 5 columns):\n",
      " #   Column              Non-Null Count  Dtype  \n",
      "---  ------              --------------  -----  \n",
      " 0   gender              4988 non-null   int64  \n",
      " 1   age                 4988 non-null   int64  \n",
      " 2   income              4988 non-null   float64\n",
      " 3   family_members      4988 non-null   int64  \n",
      " 4   insurance_benefits  4988 non-null   int64  \n",
      "dtypes: float64(1), int64(4)\n",
      "memory usage: 233.8 KB\n"
     ]
    }
   ],
   "source": [
    "#saving changes in df\n",
    "df=df.drop(outlier_age.index)\n",
    "df.info()"
   ]
  },
  {
   "cell_type": "markdown",
   "metadata": {},
   "source": [
    "### Processing `income` column\n",
    "The income column has data type as float64, and was changed to int64 data type, so we could have values to the nearest dollar. There were no error in the income values, such as negative values. There were a total of 37 values that were outliers greater and smaller than 1.5*iqr. "
   ]
  },
  {
   "cell_type": "code",
   "execution_count": 11,
   "metadata": {},
   "outputs": [
    {
     "name": "stdout",
     "output_type": "stream",
     "text": [
      "[5300, 6000, 7400, 8900, 9800, 10000, 10600, 10800, 11000, 11200, 11300, 12200, 12900, 13000, 13200, 13300, 13400, 13500, 13800, 13900, 14100, 14300, 14400, 14500, 14600, 14700, 15000, 15100, 15200, 15600, 15700, 15900, 16000, 16200, 16300, 16400, 16500, 16600, 16700, 17000, 17100, 17300, 17400, 17500, 17600, 17700, 17800, 17900, 18100, 18200, 18300, 18400, 18600, 18700, 18800, 18900, 19000, 19100, 19200, 19300, 19400, 19600, 19700, 19900, 20000, 20100, 20200, 20300, 20400, 20500, 20600, 20700, 20800, 20900, 21000, 21100, 21200, 21300, 21400, 21500, 21600, 21700, 21800, 21900, 22000, 22100, 22200, 22300, 22500, 22600, 22700, 22800, 22900, 23000, 23100, 23200, 23300, 23400, 23500, 23600, 23700, 23800, 23900, 24000, 24100, 24200, 24300, 24400, 24500, 24600, 24700, 24800, 24900, 25000, 25100, 25200, 25300, 25400, 25500, 25600, 25700, 25800, 25900, 26000, 26100, 26200, 26300, 26400, 26500, 26600, 26700, 26800, 26900, 27000, 27100, 27200, 27300, 27400, 27500, 27600, 27700, 27800, 27900, 28000, 28100, 28200, 28300, 28400, 28500, 28600, 28700, 28800, 28900, 29000, 29100, 29200, 29300, 29400, 29500, 29600, 29700, 29800, 29900, 30000, 30100, 30200, 30300, 30400, 30500, 30600, 30700, 30800, 30900, 31000, 31100, 31200, 31300, 31400, 31500, 31600, 31700, 31800, 31900, 32000, 32100, 32200, 32300, 32400, 32500, 32600, 32700, 32800, 32900, 33000, 33100, 33200, 33300, 33400, 33500, 33600, 33700, 33800, 33900, 34000, 34100, 34200, 34300, 34400, 34500, 34600, 34700, 34800, 34900, 35000, 35100, 35200, 35300, 35400, 35500, 35600, 35700, 35800, 35900, 36000, 36100, 36200, 36300, 36400, 36500, 36600, 36700, 36800, 36900, 37000, 37100, 37200, 37300, 37400, 37500, 37600, 37700, 37800, 37900, 38000, 38100, 38200, 38300, 38400, 38500, 38600, 38700, 38800, 38900, 39000, 39100, 39200, 39300, 39400, 39500, 39600, 39700, 39800, 39900, 40000, 40100, 40200, 40300, 40400, 40500, 40600, 40700, 40800, 40900, 41000, 41100, 41200, 41300, 41400, 41500, 41600, 41700, 41800, 41900, 42000, 42100, 42200, 42300, 42400, 42500, 42600, 42700, 42800, 42900, 43000, 43100, 43200, 43300, 43400, 43500, 43600, 43700, 43800, 43900, 44000, 44100, 44200, 44300, 44400, 44500, 44600, 44700, 44800, 44900, 45000, 45100, 45200, 45300, 45400, 45500, 45600, 45700, 45800, 45900, 46000, 46100, 46200, 46300, 46400, 46500, 46600, 46700, 46800, 46900, 47000, 47100, 47200, 47300, 47400, 47500, 47600, 47700, 47800, 47900, 48000, 48100, 48200, 48300, 48400, 48500, 48600, 48700, 48800, 48900, 49000, 49100, 49200, 49300, 49400, 49500, 49600, 49700, 49800, 49900, 50000, 50100, 50200, 50300, 50400, 50500, 50600, 50700, 50800, 50900, 51000, 51100, 51200, 51300, 51400, 51500, 51600, 51700, 51800, 51900, 52000, 52100, 52200, 52300, 52400, 52500, 52600, 52700, 52800, 52900, 53000, 53100, 53200, 53300, 53400, 53500, 53600, 53700, 53800, 53900, 54000, 54100, 54200, 54300, 54400, 54500, 54600, 54700, 54800, 54900, 55000, 55100, 55200, 55300, 55400, 55500, 55600, 55700, 55800, 55900, 56000, 56100, 56200, 56300, 56400, 56500, 56600, 56700, 56800, 56900, 57000, 57100, 57200, 57300, 57400, 57500, 57600, 57700, 57800, 57900, 58000, 58100, 58200, 58300, 58400, 58500, 58600, 58700, 58800, 58900, 59000, 59100, 59200, 59300, 59500, 59600, 59700, 59800, 59900, 60000, 60100, 60200, 60300, 60400, 60500, 60600, 60700, 60900, 61000, 61200, 61300, 61400, 61500, 61700, 61800, 61900, 62000, 62100, 62200, 62300, 62400, 62500, 62600, 62700, 62800, 63100, 63200, 63300, 63400, 63500, 63600, 63700, 63800, 64000, 64099, 64400, 64800, 64900, 65099, 65200, 65300, 65900, 66100, 66300, 67100, 67200, 67700, 68000, 68400, 68500, 68900, 69200, 69400, 70000, 70500, 70600, 71400, 71600, 74800, 75200, 79000]\n"
     ]
    }
   ],
   "source": [
    "df['income']=df.income.astype('int')\n",
    "print(sorted(df.income.unique()))"
   ]
  },
  {
   "cell_type": "code",
   "execution_count": 12,
   "metadata": {},
   "outputs": [
    {
     "name": "stdout",
     "output_type": "stream",
     "text": [
      "37\n"
     ]
    },
    {
     "data": {
      "text/html": [
       "<div>\n",
       "<style scoped>\n",
       "    .dataframe tbody tr th:only-of-type {\n",
       "        vertical-align: middle;\n",
       "    }\n",
       "\n",
       "    .dataframe tbody tr th {\n",
       "        vertical-align: top;\n",
       "    }\n",
       "\n",
       "    .dataframe thead th {\n",
       "        text-align: right;\n",
       "    }\n",
       "</style>\n",
       "<table border=\"1\" class=\"dataframe\">\n",
       "  <thead>\n",
       "    <tr style=\"text-align: right;\">\n",
       "      <th></th>\n",
       "      <th>gender</th>\n",
       "      <th>age</th>\n",
       "      <th>income</th>\n",
       "      <th>family_members</th>\n",
       "      <th>insurance_benefits</th>\n",
       "    </tr>\n",
       "  </thead>\n",
       "  <tbody>\n",
       "    <tr>\n",
       "      <th>42</th>\n",
       "      <td>1</td>\n",
       "      <td>42</td>\n",
       "      <td>69200</td>\n",
       "      <td>0</td>\n",
       "      <td>1</td>\n",
       "    </tr>\n",
       "    <tr>\n",
       "      <th>425</th>\n",
       "      <td>1</td>\n",
       "      <td>30</td>\n",
       "      <td>67700</td>\n",
       "      <td>0</td>\n",
       "      <td>0</td>\n",
       "    </tr>\n",
       "    <tr>\n",
       "      <th>437</th>\n",
       "      <td>0</td>\n",
       "      <td>28</td>\n",
       "      <td>8900</td>\n",
       "      <td>4</td>\n",
       "      <td>0</td>\n",
       "    </tr>\n",
       "    <tr>\n",
       "      <th>483</th>\n",
       "      <td>0</td>\n",
       "      <td>29</td>\n",
       "      <td>9800</td>\n",
       "      <td>2</td>\n",
       "      <td>0</td>\n",
       "    </tr>\n",
       "    <tr>\n",
       "      <th>726</th>\n",
       "      <td>1</td>\n",
       "      <td>20</td>\n",
       "      <td>5300</td>\n",
       "      <td>1</td>\n",
       "      <td>0</td>\n",
       "    </tr>\n",
       "    <tr>\n",
       "      <th>1095</th>\n",
       "      <td>0</td>\n",
       "      <td>25</td>\n",
       "      <td>11300</td>\n",
       "      <td>2</td>\n",
       "      <td>0</td>\n",
       "    </tr>\n",
       "    <tr>\n",
       "      <th>1309</th>\n",
       "      <td>0</td>\n",
       "      <td>34</td>\n",
       "      <td>12900</td>\n",
       "      <td>2</td>\n",
       "      <td>0</td>\n",
       "    </tr>\n",
       "    <tr>\n",
       "      <th>1545</th>\n",
       "      <td>1</td>\n",
       "      <td>28</td>\n",
       "      <td>13000</td>\n",
       "      <td>1</td>\n",
       "      <td>0</td>\n",
       "    </tr>\n",
       "    <tr>\n",
       "      <th>1891</th>\n",
       "      <td>1</td>\n",
       "      <td>30</td>\n",
       "      <td>70600</td>\n",
       "      <td>0</td>\n",
       "      <td>0</td>\n",
       "    </tr>\n",
       "    <tr>\n",
       "      <th>2087</th>\n",
       "      <td>1</td>\n",
       "      <td>21</td>\n",
       "      <td>68000</td>\n",
       "      <td>2</td>\n",
       "      <td>0</td>\n",
       "    </tr>\n",
       "    <tr>\n",
       "      <th>2193</th>\n",
       "      <td>1</td>\n",
       "      <td>26</td>\n",
       "      <td>71400</td>\n",
       "      <td>0</td>\n",
       "      <td>0</td>\n",
       "    </tr>\n",
       "    <tr>\n",
       "      <th>2221</th>\n",
       "      <td>0</td>\n",
       "      <td>32</td>\n",
       "      <td>10000</td>\n",
       "      <td>1</td>\n",
       "      <td>0</td>\n",
       "    </tr>\n",
       "    <tr>\n",
       "      <th>2233</th>\n",
       "      <td>1</td>\n",
       "      <td>27</td>\n",
       "      <td>11300</td>\n",
       "      <td>0</td>\n",
       "      <td>0</td>\n",
       "    </tr>\n",
       "    <tr>\n",
       "      <th>2499</th>\n",
       "      <td>0</td>\n",
       "      <td>34</td>\n",
       "      <td>11000</td>\n",
       "      <td>3</td>\n",
       "      <td>0</td>\n",
       "    </tr>\n",
       "    <tr>\n",
       "      <th>2966</th>\n",
       "      <td>0</td>\n",
       "      <td>27</td>\n",
       "      <td>68400</td>\n",
       "      <td>0</td>\n",
       "      <td>0</td>\n",
       "    </tr>\n",
       "    <tr>\n",
       "      <th>3001</th>\n",
       "      <td>1</td>\n",
       "      <td>18</td>\n",
       "      <td>13300</td>\n",
       "      <td>1</td>\n",
       "      <td>0</td>\n",
       "    </tr>\n",
       "    <tr>\n",
       "      <th>3011</th>\n",
       "      <td>1</td>\n",
       "      <td>36</td>\n",
       "      <td>68500</td>\n",
       "      <td>1</td>\n",
       "      <td>0</td>\n",
       "    </tr>\n",
       "    <tr>\n",
       "      <th>3093</th>\n",
       "      <td>1</td>\n",
       "      <td>29</td>\n",
       "      <td>67200</td>\n",
       "      <td>1</td>\n",
       "      <td>0</td>\n",
       "    </tr>\n",
       "    <tr>\n",
       "      <th>3255</th>\n",
       "      <td>1</td>\n",
       "      <td>41</td>\n",
       "      <td>79000</td>\n",
       "      <td>2</td>\n",
       "      <td>0</td>\n",
       "    </tr>\n",
       "    <tr>\n",
       "      <th>3325</th>\n",
       "      <td>1</td>\n",
       "      <td>46</td>\n",
       "      <td>11200</td>\n",
       "      <td>2</td>\n",
       "      <td>1</td>\n",
       "    </tr>\n",
       "    <tr>\n",
       "      <th>3328</th>\n",
       "      <td>0</td>\n",
       "      <td>34</td>\n",
       "      <td>71600</td>\n",
       "      <td>2</td>\n",
       "      <td>0</td>\n",
       "    </tr>\n",
       "    <tr>\n",
       "      <th>3367</th>\n",
       "      <td>1</td>\n",
       "      <td>50</td>\n",
       "      <td>70500</td>\n",
       "      <td>0</td>\n",
       "      <td>2</td>\n",
       "    </tr>\n",
       "    <tr>\n",
       "      <th>3377</th>\n",
       "      <td>0</td>\n",
       "      <td>32</td>\n",
       "      <td>11200</td>\n",
       "      <td>2</td>\n",
       "      <td>0</td>\n",
       "    </tr>\n",
       "    <tr>\n",
       "      <th>3398</th>\n",
       "      <td>1</td>\n",
       "      <td>28</td>\n",
       "      <td>67100</td>\n",
       "      <td>1</td>\n",
       "      <td>0</td>\n",
       "    </tr>\n",
       "    <tr>\n",
       "      <th>3770</th>\n",
       "      <td>1</td>\n",
       "      <td>28</td>\n",
       "      <td>70000</td>\n",
       "      <td>2</td>\n",
       "      <td>0</td>\n",
       "    </tr>\n",
       "    <tr>\n",
       "      <th>3925</th>\n",
       "      <td>1</td>\n",
       "      <td>29</td>\n",
       "      <td>13200</td>\n",
       "      <td>3</td>\n",
       "      <td>0</td>\n",
       "    </tr>\n",
       "    <tr>\n",
       "      <th>3929</th>\n",
       "      <td>0</td>\n",
       "      <td>31</td>\n",
       "      <td>13200</td>\n",
       "      <td>1</td>\n",
       "      <td>0</td>\n",
       "    </tr>\n",
       "    <tr>\n",
       "      <th>4029</th>\n",
       "      <td>0</td>\n",
       "      <td>33</td>\n",
       "      <td>68900</td>\n",
       "      <td>1</td>\n",
       "      <td>0</td>\n",
       "    </tr>\n",
       "    <tr>\n",
       "      <th>4159</th>\n",
       "      <td>1</td>\n",
       "      <td>35</td>\n",
       "      <td>12200</td>\n",
       "      <td>1</td>\n",
       "      <td>0</td>\n",
       "    </tr>\n",
       "    <tr>\n",
       "      <th>4164</th>\n",
       "      <td>1</td>\n",
       "      <td>40</td>\n",
       "      <td>6000</td>\n",
       "      <td>1</td>\n",
       "      <td>0</td>\n",
       "    </tr>\n",
       "    <tr>\n",
       "      <th>4360</th>\n",
       "      <td>1</td>\n",
       "      <td>27</td>\n",
       "      <td>74800</td>\n",
       "      <td>0</td>\n",
       "      <td>0</td>\n",
       "    </tr>\n",
       "    <tr>\n",
       "      <th>4407</th>\n",
       "      <td>0</td>\n",
       "      <td>41</td>\n",
       "      <td>10800</td>\n",
       "      <td>1</td>\n",
       "      <td>0</td>\n",
       "    </tr>\n",
       "    <tr>\n",
       "      <th>4442</th>\n",
       "      <td>1</td>\n",
       "      <td>38</td>\n",
       "      <td>10600</td>\n",
       "      <td>4</td>\n",
       "      <td>0</td>\n",
       "    </tr>\n",
       "    <tr>\n",
       "      <th>4459</th>\n",
       "      <td>0</td>\n",
       "      <td>18</td>\n",
       "      <td>11000</td>\n",
       "      <td>0</td>\n",
       "      <td>0</td>\n",
       "    </tr>\n",
       "    <tr>\n",
       "      <th>4493</th>\n",
       "      <td>0</td>\n",
       "      <td>45</td>\n",
       "      <td>69400</td>\n",
       "      <td>1</td>\n",
       "      <td>1</td>\n",
       "    </tr>\n",
       "    <tr>\n",
       "      <th>4512</th>\n",
       "      <td>0</td>\n",
       "      <td>35</td>\n",
       "      <td>75200</td>\n",
       "      <td>0</td>\n",
       "      <td>0</td>\n",
       "    </tr>\n",
       "    <tr>\n",
       "      <th>4623</th>\n",
       "      <td>0</td>\n",
       "      <td>41</td>\n",
       "      <td>7400</td>\n",
       "      <td>0</td>\n",
       "      <td>0</td>\n",
       "    </tr>\n",
       "  </tbody>\n",
       "</table>\n",
       "</div>"
      ],
      "text/plain": [
       "      gender  age  income  family_members  insurance_benefits\n",
       "42         1   42   69200               0                   1\n",
       "425        1   30   67700               0                   0\n",
       "437        0   28    8900               4                   0\n",
       "483        0   29    9800               2                   0\n",
       "726        1   20    5300               1                   0\n",
       "1095       0   25   11300               2                   0\n",
       "1309       0   34   12900               2                   0\n",
       "1545       1   28   13000               1                   0\n",
       "1891       1   30   70600               0                   0\n",
       "2087       1   21   68000               2                   0\n",
       "2193       1   26   71400               0                   0\n",
       "2221       0   32   10000               1                   0\n",
       "2233       1   27   11300               0                   0\n",
       "2499       0   34   11000               3                   0\n",
       "2966       0   27   68400               0                   0\n",
       "3001       1   18   13300               1                   0\n",
       "3011       1   36   68500               1                   0\n",
       "3093       1   29   67200               1                   0\n",
       "3255       1   41   79000               2                   0\n",
       "3325       1   46   11200               2                   1\n",
       "3328       0   34   71600               2                   0\n",
       "3367       1   50   70500               0                   2\n",
       "3377       0   32   11200               2                   0\n",
       "3398       1   28   67100               1                   0\n",
       "3770       1   28   70000               2                   0\n",
       "3925       1   29   13200               3                   0\n",
       "3929       0   31   13200               1                   0\n",
       "4029       0   33   68900               1                   0\n",
       "4159       1   35   12200               1                   0\n",
       "4164       1   40    6000               1                   0\n",
       "4360       1   27   74800               0                   0\n",
       "4407       0   41   10800               1                   0\n",
       "4442       1   38   10600               4                   0\n",
       "4459       0   18   11000               0                   0\n",
       "4493       0   45   69400               1                   1\n",
       "4512       0   35   75200               0                   0\n",
       "4623       0   41    7400               0                   0"
      ]
     },
     "execution_count": 12,
     "metadata": {},
     "output_type": "execute_result"
    }
   ],
   "source": [
    "#looking for outliers\n",
    "q1_inc = df.income.quantile(0.25)\n",
    "q3_inc = df.income.quantile(0.75)\n",
    "iqr_inc = q3_inc - q1_inc\n",
    "\n",
    "outlier_inc = df.query('income > (@q3_inc + (1.5 * @iqr_inc)) or income < (@q1_inc - (1.5 * @iqr_inc))')\n",
    "print(len(outlier_inc))\n",
    "outlier_inc"
   ]
  },
  {
   "cell_type": "code",
   "execution_count": 13,
   "metadata": {},
   "outputs": [
    {
     "name": "stdout",
     "output_type": "stream",
     "text": [
      "<class 'pandas.core.frame.DataFrame'>\n",
      "Int64Index: 4951 entries, 0 to 4999\n",
      "Data columns (total 5 columns):\n",
      " #   Column              Non-Null Count  Dtype\n",
      "---  ------              --------------  -----\n",
      " 0   gender              4951 non-null   int64\n",
      " 1   age                 4951 non-null   int64\n",
      " 2   income              4951 non-null   int64\n",
      " 3   family_members      4951 non-null   int64\n",
      " 4   insurance_benefits  4951 non-null   int64\n",
      "dtypes: int64(5)\n",
      "memory usage: 232.1 KB\n"
     ]
    }
   ],
   "source": [
    "#saving changes to df dataframe\n",
    "df=df.drop(outlier_inc.index)\n",
    "df.info()"
   ]
  },
  {
   "cell_type": "markdown",
   "metadata": {},
   "source": [
    "### Processing `family_members` column\n",
    "For the family members column, there were a total of 7 unique values, and none of these values were errors, such as negative values. The data type for this column was int64, which is appropriate."
   ]
  },
  {
   "cell_type": "code",
   "execution_count": 14,
   "metadata": {},
   "outputs": [
    {
     "data": {
      "text/plain": [
       "array([1, 0, 2, 4, 3, 5, 6])"
      ]
     },
     "execution_count": 14,
     "metadata": {},
     "output_type": "execute_result"
    }
   ],
   "source": [
    "df.family_members.unique()"
   ]
  },
  {
   "cell_type": "markdown",
   "metadata": {},
   "source": [
    "### Processing `insurance_benefits` column\n",
    "The insurance_benefits column had a data type of int64, which was an appropriate data type. There were no errors in data values for this column. "
   ]
  },
  {
   "cell_type": "code",
   "execution_count": 15,
   "metadata": {},
   "outputs": [
    {
     "data": {
      "text/plain": [
       "array([0, 1, 2, 3])"
      ]
     },
     "execution_count": 15,
     "metadata": {},
     "output_type": "execute_result"
    }
   ],
   "source": [
    "df.insurance_benefits.unique()"
   ]
  },
  {
   "cell_type": "markdown",
   "metadata": {},
   "source": [
    "### Description of `df` after data processing \n",
    "After data processing, the resulting `df` used for analysis, had a total of 4,951 entries, which did not contain any outliers for age and income values. The data type for all of the columns was int64. "
   ]
  },
  {
   "cell_type": "code",
   "execution_count": 16,
   "metadata": {
    "scrolled": false
   },
   "outputs": [
    {
     "name": "stdout",
     "output_type": "stream",
     "text": [
      "      gender  age  income  family_members  insurance_benefits\n",
      "0          1   41   49600               1                   0\n",
      "1          0   46   38000               1                   1\n",
      "2          0   29   21000               0                   0\n",
      "3          0   21   41700               2                   0\n",
      "4          1   28   26100               0                   0\n",
      "...      ...  ...     ...             ...                 ...\n",
      "4946       0   28   35700               2                   0\n",
      "4947       0   34   52400               1                   0\n",
      "4948       0   20   33900               2                   0\n",
      "4949       1   22   32700               3                   0\n",
      "4950       1   28   40600               1                   0\n",
      "\n",
      "[4951 rows x 5 columns]\n",
      "<class 'pandas.core.frame.DataFrame'>\n",
      "RangeIndex: 4951 entries, 0 to 4950\n",
      "Data columns (total 5 columns):\n",
      " #   Column              Non-Null Count  Dtype\n",
      "---  ------              --------------  -----\n",
      " 0   gender              4951 non-null   int64\n",
      " 1   age                 4951 non-null   int64\n",
      " 2   income              4951 non-null   int64\n",
      " 3   family_members      4951 non-null   int64\n",
      " 4   insurance_benefits  4951 non-null   int64\n",
      "dtypes: int64(5)\n",
      "memory usage: 193.5 KB\n"
     ]
    }
   ],
   "source": [
    "df.reset_index(drop=True, inplace=True)\n",
    "print(df)\n",
    "df.info()"
   ]
  },
  {
   "cell_type": "markdown",
   "metadata": {},
   "source": [
    "## EDA"
   ]
  },
  {
   "cell_type": "markdown",
   "metadata": {},
   "source": [
    "In this section, we examined whether there are certain groups of customers by looking at the pair plot.\n",
    "\n",
    "From the pair plot below, we observed the following groups of costumers: \n",
    "- gender vs. gender: There's a balanace in gender classes, as 50.1% of the entries are 0 and 49.8% are 1. \n",
    "- gender vs. age: the pair plot illustrates higher density of entries for clients that are younger than 40 years of age, independently of geder. \n",
    "- gender vs. income: "
   ]
  },
  {
   "cell_type": "code",
   "execution_count": 17,
   "metadata": {},
   "outputs": [
    {
     "data": {
      "text/plain": [
       "0.4982831751161382"
      ]
     },
     "execution_count": 17,
     "metadata": {},
     "output_type": "execute_result"
    }
   ],
   "source": [
    "len(df.query('gender ==1'))/len(df)"
   ]
  },
  {
   "cell_type": "code",
   "execution_count": 18,
   "metadata": {},
   "outputs": [
    {
     "data": {
      "image/png": "[encoded data removed]",
      "text/plain": [
       "<Figure size 864x864 with 30 Axes>"
      ]
     },
     "metadata": {
      "image/png": {
       "height": 852,
       "width": 853
      }
     },
     "output_type": "display_data"
    }
   ],
   "source": [
    "g = sns.pairplot(df, kind='hist')\n",
    "g.fig.set_size_inches(12, 12)"
   ]
  },
  {
   "cell_type": "markdown",
   "metadata": {},
   "source": [
    "## Task 1. Similar Customers"
   ]
  },
  {
   "cell_type": "markdown",
   "metadata": {},
   "source": [
    "For this section, we created a function that returned the __k__ nearest neighbors for an $n^{th}$ object based on a specified distance metric. The received insurance benefits were not take into account to find the __k__ nearest neighbors. For this project, the $n^{th}$ object selected was the client that had an income value equals to the median income distribution and the smallest index number from that selection. In this case we selected index 40 as our $n^{th}$ value, and 10 as our k neighbors value. For this section, analyzed the 10 nearest neighbors by using the 4 different combinations: \n",
    "- using non-scaled data and Euclidean distance to calculate the 10 nearest neighbors. \n",
    "- using non-scaled data and Manhattan distance to calculate the 10 nearest neighbors. \n",
    "- using scaled data and Euclidean distance to calculate the 10 nearest neighbors. \n",
    "- using scaled data and Manhattan distance to calculate the 10 nearest neighbors. \n",
    "\n",
    "The resulting 10 nearest neighbors and distances were analyzed for each combination, and the following questions were answered in the conclusion of this section: \n",
    "\n",
    "- Does the data being not scaled affect the kNN algorithm? If so, how does that appear?\n",
    "- How similar are the results using the Manhattan distance metric (regardless of the scaling)?"
   ]
  },
  {
   "cell_type": "code",
   "execution_count": 19,
   "metadata": {},
   "outputs": [
    {
     "data": {
      "text/plain": [
       "40"
      ]
     },
     "execution_count": 19,
     "metadata": {},
     "output_type": "execute_result"
    }
   ],
   "source": [
    "selected_nth= df.query('income == income.quantile(0.5)').head(1).index.tolist()[0]\n",
    "\n",
    "selected_k =11\n",
    "selected_nth"
   ]
  },
  {
   "cell_type": "code",
   "execution_count": 20,
   "metadata": {},
   "outputs": [],
   "source": [
    "feature_names = ['gender', 'age', 'income', 'family_members']"
   ]
  },
  {
   "cell_type": "code",
   "execution_count": 21,
   "metadata": {},
   "outputs": [],
   "source": [
    "def get_knn(df, n, k, metric):\n",
    "    \n",
    "    \"\"\"\n",
    "    Returns k nearest neighbors\n",
    "\n",
    "    :param df: pandas DataFrame used to find similar objects within\n",
    "    :param n: object no for which the nearest neighbours are looked for\n",
    "    :param k: the number of the nearest neighbours to return\n",
    "    :param metric: name of distance metric\n",
    "    \"\"\"\n",
    "\n",
    "    nbrs = sklearn.neighbors.NearestNeighbors(n_neighbors=n, metric=metric, algorithm='brute')\n",
    "    nbrs.fit(df[feature_names])\n",
    "    nbrs_distances, nbrs_indices = nbrs.kneighbors([df.iloc[n][feature_names]], k, return_distance=True)\n",
    "    \n",
    "    df_res = pd.concat([\n",
    "        df.iloc[nbrs_indices[0]], \n",
    "        pd.DataFrame(nbrs_distances.T, index=nbrs_indices[0], columns=['distance'])\n",
    "        ], axis=1)\n",
    "    \n",
    "    return df_res"
   ]
  },
  {
   "cell_type": "markdown",
   "metadata": {},
   "source": [
    "### Non-scaled `df` , finding 10 nearest neighbors using dist. metrics: Euclidean and Manhattan\n",
    "\n",
    "In this section, we found the 10 nearest neighbors to the client with index 40 using two distance metrics: Euclidean and Manhattan, with our non-scaled `df` dataframe. From the resulting datadrames, we observed that both metrics calculated the same indices for the 10 nearest neighbors; however, clients with index 947 and 3861 had 3rd and 4th position, respectively, as the closest neighbors with the distance metrix, euclidean. However, clients 947 and 2861 had 4th and 3rd positions, respectively, as the closest neighbors with the distance metrix, manhattan. The rest of the clients had the same position in both dataframes of each distance metric. \n",
    "\n",
    "\n",
    "The distance for the non-scaled, Euclidean metric had a mean distance of 6.52 distance units compared to 7.45 distance units for the Manhattan metric; the Euclidean metric distance distribution had a standard deviation value of 3.31 distance units compared to 3.61 distance units for the distance distributon of Manhattan metric; and the Euclidean had a median distance value of 6.08 distance units compared 7.00 distance units for the distance distribution of Manhattan metric. "
   ]
  },
  {
   "cell_type": "code",
   "execution_count": 22,
   "metadata": {},
   "outputs": [
    {
     "name": "stdout",
     "output_type": "stream",
     "text": [
      "count    11.000000\n",
      "mean      6.523393\n",
      "std       3.315099\n",
      "min       0.000000\n",
      "25%       4.561553\n",
      "50%       6.082763\n",
      "75%       8.558821\n",
      "max      12.041595\n",
      "Name: distance, dtype: float64\n"
     ]
    },
    {
     "data": {
      "text/html": [
       "<div>\n",
       "<style scoped>\n",
       "    .dataframe tbody tr th:only-of-type {\n",
       "        vertical-align: middle;\n",
       "    }\n",
       "\n",
       "    .dataframe tbody tr th {\n",
       "        vertical-align: top;\n",
       "    }\n",
       "\n",
       "    .dataframe thead th {\n",
       "        text-align: right;\n",
       "    }\n",
       "</style>\n",
       "<table border=\"1\" class=\"dataframe\">\n",
       "  <thead>\n",
       "    <tr style=\"text-align: right;\">\n",
       "      <th></th>\n",
       "      <th>gender</th>\n",
       "      <th>age</th>\n",
       "      <th>income</th>\n",
       "      <th>family_members</th>\n",
       "      <th>insurance_benefits</th>\n",
       "      <th>distance</th>\n",
       "    </tr>\n",
       "  </thead>\n",
       "  <tbody>\n",
       "    <tr>\n",
       "      <th>40</th>\n",
       "      <td>1</td>\n",
       "      <td>42</td>\n",
       "      <td>40200</td>\n",
       "      <td>0</td>\n",
       "      <td>1</td>\n",
       "      <td>0.000000</td>\n",
       "    </tr>\n",
       "    <tr>\n",
       "      <th>1537</th>\n",
       "      <td>0</td>\n",
       "      <td>38</td>\n",
       "      <td>40200</td>\n",
       "      <td>0</td>\n",
       "      <td>0</td>\n",
       "      <td>4.123106</td>\n",
       "    </tr>\n",
       "    <tr>\n",
       "      <th>2570</th>\n",
       "      <td>0</td>\n",
       "      <td>38</td>\n",
       "      <td>40200</td>\n",
       "      <td>0</td>\n",
       "      <td>0</td>\n",
       "      <td>4.123106</td>\n",
       "    </tr>\n",
       "    <tr>\n",
       "      <th>947</th>\n",
       "      <td>1</td>\n",
       "      <td>46</td>\n",
       "      <td>40200</td>\n",
       "      <td>3</td>\n",
       "      <td>1</td>\n",
       "      <td>5.000000</td>\n",
       "    </tr>\n",
       "    <tr>\n",
       "      <th>3861</th>\n",
       "      <td>1</td>\n",
       "      <td>36</td>\n",
       "      <td>40200</td>\n",
       "      <td>0</td>\n",
       "      <td>0</td>\n",
       "      <td>6.000000</td>\n",
       "    </tr>\n",
       "    <tr>\n",
       "      <th>264</th>\n",
       "      <td>0</td>\n",
       "      <td>36</td>\n",
       "      <td>40200</td>\n",
       "      <td>0</td>\n",
       "      <td>0</td>\n",
       "      <td>6.082763</td>\n",
       "    </tr>\n",
       "    <tr>\n",
       "      <th>3880</th>\n",
       "      <td>1</td>\n",
       "      <td>35</td>\n",
       "      <td>40200</td>\n",
       "      <td>1</td>\n",
       "      <td>0</td>\n",
       "      <td>7.071068</td>\n",
       "    </tr>\n",
       "    <tr>\n",
       "      <th>4835</th>\n",
       "      <td>0</td>\n",
       "      <td>34</td>\n",
       "      <td>40200</td>\n",
       "      <td>0</td>\n",
       "      <td>0</td>\n",
       "      <td>8.062258</td>\n",
       "    </tr>\n",
       "    <tr>\n",
       "      <th>2965</th>\n",
       "      <td>1</td>\n",
       "      <td>33</td>\n",
       "      <td>40200</td>\n",
       "      <td>1</td>\n",
       "      <td>0</td>\n",
       "      <td>9.055385</td>\n",
       "    </tr>\n",
       "    <tr>\n",
       "      <th>3218</th>\n",
       "      <td>1</td>\n",
       "      <td>32</td>\n",
       "      <td>40200</td>\n",
       "      <td>2</td>\n",
       "      <td>0</td>\n",
       "      <td>10.198039</td>\n",
       "    </tr>\n",
       "    <tr>\n",
       "      <th>3888</th>\n",
       "      <td>1</td>\n",
       "      <td>30</td>\n",
       "      <td>40200</td>\n",
       "      <td>1</td>\n",
       "      <td>0</td>\n",
       "      <td>12.041595</td>\n",
       "    </tr>\n",
       "  </tbody>\n",
       "</table>\n",
       "</div>"
      ],
      "text/plain": [
       "      gender  age  income  family_members  insurance_benefits   distance\n",
       "40         1   42   40200               0                   1   0.000000\n",
       "1537       0   38   40200               0                   0   4.123106\n",
       "2570       0   38   40200               0                   0   4.123106\n",
       "947        1   46   40200               3                   1   5.000000\n",
       "3861       1   36   40200               0                   0   6.000000\n",
       "264        0   36   40200               0                   0   6.082763\n",
       "3880       1   35   40200               1                   0   7.071068\n",
       "4835       0   34   40200               0                   0   8.062258\n",
       "2965       1   33   40200               1                   0   9.055385\n",
       "3218       1   32   40200               2                   0  10.198039\n",
       "3888       1   30   40200               1                   0  12.041595"
      ]
     },
     "execution_count": 22,
     "metadata": {},
     "output_type": "execute_result"
    }
   ],
   "source": [
    "#Euclidean metric \n",
    "not_scaled_euclidean = get_knn(df=df, n=selected_nth, k=selected_k, metric='euclidean')\n",
    "print(not_scaled_euclidean.distance.describe())\n",
    "not_scaled_euclidean.sort_values('distance')"
   ]
  },
  {
   "cell_type": "code",
   "execution_count": 23,
   "metadata": {},
   "outputs": [
    {
     "name": "stdout",
     "output_type": "stream",
     "text": [
      "count    11.000000\n",
      "mean      7.454545\n",
      "std       3.615623\n",
      "min       0.000000\n",
      "25%       5.500000\n",
      "50%       7.000000\n",
      "75%       9.500000\n",
      "max      13.000000\n",
      "Name: distance, dtype: float64\n"
     ]
    },
    {
     "data": {
      "text/html": [
       "<div>\n",
       "<style scoped>\n",
       "    .dataframe tbody tr th:only-of-type {\n",
       "        vertical-align: middle;\n",
       "    }\n",
       "\n",
       "    .dataframe tbody tr th {\n",
       "        vertical-align: top;\n",
       "    }\n",
       "\n",
       "    .dataframe thead th {\n",
       "        text-align: right;\n",
       "    }\n",
       "</style>\n",
       "<table border=\"1\" class=\"dataframe\">\n",
       "  <thead>\n",
       "    <tr style=\"text-align: right;\">\n",
       "      <th></th>\n",
       "      <th>gender</th>\n",
       "      <th>age</th>\n",
       "      <th>income</th>\n",
       "      <th>family_members</th>\n",
       "      <th>insurance_benefits</th>\n",
       "      <th>distance</th>\n",
       "    </tr>\n",
       "  </thead>\n",
       "  <tbody>\n",
       "    <tr>\n",
       "      <th>40</th>\n",
       "      <td>1</td>\n",
       "      <td>42</td>\n",
       "      <td>40200</td>\n",
       "      <td>0</td>\n",
       "      <td>1</td>\n",
       "      <td>0.0</td>\n",
       "    </tr>\n",
       "    <tr>\n",
       "      <th>1537</th>\n",
       "      <td>0</td>\n",
       "      <td>38</td>\n",
       "      <td>40200</td>\n",
       "      <td>0</td>\n",
       "      <td>0</td>\n",
       "      <td>5.0</td>\n",
       "    </tr>\n",
       "    <tr>\n",
       "      <th>2570</th>\n",
       "      <td>0</td>\n",
       "      <td>38</td>\n",
       "      <td>40200</td>\n",
       "      <td>0</td>\n",
       "      <td>0</td>\n",
       "      <td>5.0</td>\n",
       "    </tr>\n",
       "    <tr>\n",
       "      <th>3861</th>\n",
       "      <td>1</td>\n",
       "      <td>36</td>\n",
       "      <td>40200</td>\n",
       "      <td>0</td>\n",
       "      <td>0</td>\n",
       "      <td>6.0</td>\n",
       "    </tr>\n",
       "    <tr>\n",
       "      <th>947</th>\n",
       "      <td>1</td>\n",
       "      <td>46</td>\n",
       "      <td>40200</td>\n",
       "      <td>3</td>\n",
       "      <td>1</td>\n",
       "      <td>7.0</td>\n",
       "    </tr>\n",
       "    <tr>\n",
       "      <th>264</th>\n",
       "      <td>0</td>\n",
       "      <td>36</td>\n",
       "      <td>40200</td>\n",
       "      <td>0</td>\n",
       "      <td>0</td>\n",
       "      <td>7.0</td>\n",
       "    </tr>\n",
       "    <tr>\n",
       "      <th>3880</th>\n",
       "      <td>1</td>\n",
       "      <td>35</td>\n",
       "      <td>40200</td>\n",
       "      <td>1</td>\n",
       "      <td>0</td>\n",
       "      <td>8.0</td>\n",
       "    </tr>\n",
       "    <tr>\n",
       "      <th>4835</th>\n",
       "      <td>0</td>\n",
       "      <td>34</td>\n",
       "      <td>40200</td>\n",
       "      <td>0</td>\n",
       "      <td>0</td>\n",
       "      <td>9.0</td>\n",
       "    </tr>\n",
       "    <tr>\n",
       "      <th>2965</th>\n",
       "      <td>1</td>\n",
       "      <td>33</td>\n",
       "      <td>40200</td>\n",
       "      <td>1</td>\n",
       "      <td>0</td>\n",
       "      <td>10.0</td>\n",
       "    </tr>\n",
       "    <tr>\n",
       "      <th>3218</th>\n",
       "      <td>1</td>\n",
       "      <td>32</td>\n",
       "      <td>40200</td>\n",
       "      <td>2</td>\n",
       "      <td>0</td>\n",
       "      <td>12.0</td>\n",
       "    </tr>\n",
       "    <tr>\n",
       "      <th>3888</th>\n",
       "      <td>1</td>\n",
       "      <td>30</td>\n",
       "      <td>40200</td>\n",
       "      <td>1</td>\n",
       "      <td>0</td>\n",
       "      <td>13.0</td>\n",
       "    </tr>\n",
       "  </tbody>\n",
       "</table>\n",
       "</div>"
      ],
      "text/plain": [
       "      gender  age  income  family_members  insurance_benefits  distance\n",
       "40         1   42   40200               0                   1       0.0\n",
       "1537       0   38   40200               0                   0       5.0\n",
       "2570       0   38   40200               0                   0       5.0\n",
       "3861       1   36   40200               0                   0       6.0\n",
       "947        1   46   40200               3                   1       7.0\n",
       "264        0   36   40200               0                   0       7.0\n",
       "3880       1   35   40200               1                   0       8.0\n",
       "4835       0   34   40200               0                   0       9.0\n",
       "2965       1   33   40200               1                   0      10.0\n",
       "3218       1   32   40200               2                   0      12.0\n",
       "3888       1   30   40200               1                   0      13.0"
      ]
     },
     "execution_count": 23,
     "metadata": {},
     "output_type": "execute_result"
    }
   ],
   "source": [
    "#Manhattan Metric\n",
    "not_scaled_manhattan = get_knn(df=df, n=selected_nth, k=selected_k, metric='manhattan')\n",
    "print(not_scaled_manhattan.distance.describe())\n",
    "not_scaled_manhattan.sort_values('distance')"
   ]
  },
  {
   "cell_type": "code",
   "execution_count": 24,
   "metadata": {},
   "outputs": [
    {
     "name": "stdout",
     "output_type": "stream",
     "text": [
      "[40, 1537, 2570, 3861, 947, 264, 3880, 4835, 2965, 3218, 3888]\n"
     ]
    },
    {
     "data": {
      "text/plain": [
       "[40, 1537, 2570, 947, 3861, 264, 3880, 4835, 2965, 3218, 3888]"
      ]
     },
     "execution_count": 24,
     "metadata": {},
     "output_type": "execute_result"
    }
   ],
   "source": [
    "# comparing indices of both metrics \n",
    "print(not_scaled_manhattan.sort_values('distance').index.tolist())\n",
    "not_scaled_euclidean.sort_values('distance').index.tolist()"
   ]
  },
  {
   "cell_type": "markdown",
   "metadata": {},
   "source": [
    "### Scaled `df` , finding 10 nearest neighbors using dist. metrics: Euclidean and Manhattan\n",
    "\n",
    "In this section, we found the 10 nearest neighbors to the client with index 40 using two distance metrics: Euclidean and Manhattan, with our scaled `df` dataframe saved as `df_scaled`. \n",
    "\n",
    "From the resulting datadrames, we observed that both metrics calculated the same 9 indices, with the exception that Manhattan metric calculated index 1340 as one of the 10 nearest neighbors, which is not part from the list using Euclidean metric; and Euclidean metric calculated index 578 as one of the 10 nearest neighbors, which is not part from the list using Manhattan metric\n",
    "\n",
    "\n",
    "The distance for the scaled df, Euclidean metric had a mean distance of 0.027 distance units compared to 0.033 distance units for the Manhattan metric; the Euclidean metric distance distribution had a standard deviation value of 0.014 distance units compared to 0.017 distance units for the distance distributon of Manhattan metric; and the Euclidean had a median distance value of 0.033 distance units compared 0.043 distance units for the distance distribution of Manhattan metric. "
   ]
  },
  {
   "cell_type": "code",
   "execution_count": 25,
   "metadata": {},
   "outputs": [],
   "source": [
    "feature_names = ['gender', 'age', 'income', 'family_members']\n",
    "\n",
    "transformer_mas = sklearn.preprocessing.MaxAbsScaler().fit(df[feature_names].to_numpy())\n",
    "\n",
    "df_scaled = df.copy()\n",
    "df_scaled.loc[:, feature_names] = transformer_mas.transform(df[feature_names].to_numpy())"
   ]
  },
  {
   "cell_type": "code",
   "execution_count": 26,
   "metadata": {},
   "outputs": [
    {
     "data": {
      "text/html": [
       "<div>\n",
       "<style scoped>\n",
       "    .dataframe tbody tr th:only-of-type {\n",
       "        vertical-align: middle;\n",
       "    }\n",
       "\n",
       "    .dataframe tbody tr th {\n",
       "        vertical-align: top;\n",
       "    }\n",
       "\n",
       "    .dataframe thead th {\n",
       "        text-align: right;\n",
       "    }\n",
       "</style>\n",
       "<table border=\"1\" class=\"dataframe\">\n",
       "  <thead>\n",
       "    <tr style=\"text-align: right;\">\n",
       "      <th></th>\n",
       "      <th>gender</th>\n",
       "      <th>age</th>\n",
       "      <th>income</th>\n",
       "      <th>family_members</th>\n",
       "      <th>insurance_benefits</th>\n",
       "    </tr>\n",
       "  </thead>\n",
       "  <tbody>\n",
       "    <tr>\n",
       "      <th>2049</th>\n",
       "      <td>1.0</td>\n",
       "      <td>0.410714</td>\n",
       "      <td>0.648567</td>\n",
       "      <td>0.166667</td>\n",
       "      <td>0</td>\n",
       "    </tr>\n",
       "    <tr>\n",
       "      <th>559</th>\n",
       "      <td>1.0</td>\n",
       "      <td>0.500000</td>\n",
       "      <td>0.654600</td>\n",
       "      <td>0.000000</td>\n",
       "      <td>0</td>\n",
       "    </tr>\n",
       "    <tr>\n",
       "      <th>4930</th>\n",
       "      <td>1.0</td>\n",
       "      <td>0.821429</td>\n",
       "      <td>0.867270</td>\n",
       "      <td>0.333333</td>\n",
       "      <td>1</td>\n",
       "    </tr>\n",
       "    <tr>\n",
       "      <th>641</th>\n",
       "      <td>1.0</td>\n",
       "      <td>0.589286</td>\n",
       "      <td>0.595777</td>\n",
       "      <td>0.166667</td>\n",
       "      <td>0</td>\n",
       "    </tr>\n",
       "    <tr>\n",
       "      <th>1680</th>\n",
       "      <td>0.0</td>\n",
       "      <td>0.321429</td>\n",
       "      <td>0.453997</td>\n",
       "      <td>0.000000</td>\n",
       "      <td>0</td>\n",
       "    </tr>\n",
       "  </tbody>\n",
       "</table>\n",
       "</div>"
      ],
      "text/plain": [
       "      gender       age    income  family_members  insurance_benefits\n",
       "2049     1.0  0.410714  0.648567        0.166667                   0\n",
       "559      1.0  0.500000  0.654600        0.000000                   0\n",
       "4930     1.0  0.821429  0.867270        0.333333                   1\n",
       "641      1.0  0.589286  0.595777        0.166667                   0\n",
       "1680     0.0  0.321429  0.453997        0.000000                   0"
      ]
     },
     "execution_count": 26,
     "metadata": {},
     "output_type": "execute_result"
    }
   ],
   "source": [
    "df_scaled.sample(5)"
   ]
  },
  {
   "cell_type": "code",
   "execution_count": 27,
   "metadata": {},
   "outputs": [
    {
     "name": "stdout",
     "output_type": "stream",
     "text": [
      "count    11.000000\n",
      "mean      0.027574\n",
      "std       0.014588\n",
      "min       0.000000\n",
      "25%       0.020065\n",
      "50%       0.033766\n",
      "75%       0.038207\n",
      "max       0.043741\n",
      "Name: distance, dtype: float64\n"
     ]
    },
    {
     "data": {
      "text/html": [
       "<div>\n",
       "<style scoped>\n",
       "    .dataframe tbody tr th:only-of-type {\n",
       "        vertical-align: middle;\n",
       "    }\n",
       "\n",
       "    .dataframe tbody tr th {\n",
       "        vertical-align: top;\n",
       "    }\n",
       "\n",
       "    .dataframe thead th {\n",
       "        text-align: right;\n",
       "    }\n",
       "</style>\n",
       "<table border=\"1\" class=\"dataframe\">\n",
       "  <thead>\n",
       "    <tr style=\"text-align: right;\">\n",
       "      <th></th>\n",
       "      <th>gender</th>\n",
       "      <th>age</th>\n",
       "      <th>income</th>\n",
       "      <th>family_members</th>\n",
       "      <th>insurance_benefits</th>\n",
       "      <th>distance</th>\n",
       "    </tr>\n",
       "  </thead>\n",
       "  <tbody>\n",
       "    <tr>\n",
       "      <th>40</th>\n",
       "      <td>1.0</td>\n",
       "      <td>0.750000</td>\n",
       "      <td>0.606335</td>\n",
       "      <td>0.0</td>\n",
       "      <td>1</td>\n",
       "      <td>0.000000</td>\n",
       "    </tr>\n",
       "    <tr>\n",
       "      <th>1539</th>\n",
       "      <td>1.0</td>\n",
       "      <td>0.750000</td>\n",
       "      <td>0.610860</td>\n",
       "      <td>0.0</td>\n",
       "      <td>1</td>\n",
       "      <td>0.004525</td>\n",
       "    </tr>\n",
       "    <tr>\n",
       "      <th>4928</th>\n",
       "      <td>1.0</td>\n",
       "      <td>0.732143</td>\n",
       "      <td>0.598793</td>\n",
       "      <td>0.0</td>\n",
       "      <td>0</td>\n",
       "      <td>0.019384</td>\n",
       "    </tr>\n",
       "    <tr>\n",
       "      <th>1861</th>\n",
       "      <td>1.0</td>\n",
       "      <td>0.732143</td>\n",
       "      <td>0.616893</td>\n",
       "      <td>0.0</td>\n",
       "      <td>0</td>\n",
       "      <td>0.020745</td>\n",
       "    </tr>\n",
       "    <tr>\n",
       "      <th>3305</th>\n",
       "      <td>1.0</td>\n",
       "      <td>0.750000</td>\n",
       "      <td>0.636501</td>\n",
       "      <td>0.0</td>\n",
       "      <td>1</td>\n",
       "      <td>0.030166</td>\n",
       "    </tr>\n",
       "    <tr>\n",
       "      <th>953</th>\n",
       "      <td>1.0</td>\n",
       "      <td>0.732143</td>\n",
       "      <td>0.634992</td>\n",
       "      <td>0.0</td>\n",
       "      <td>0</td>\n",
       "      <td>0.033766</td>\n",
       "    </tr>\n",
       "    <tr>\n",
       "      <th>578</th>\n",
       "      <td>1.0</td>\n",
       "      <td>0.767857</td>\n",
       "      <td>0.638009</td>\n",
       "      <td>0.0</td>\n",
       "      <td>1</td>\n",
       "      <td>0.036361</td>\n",
       "    </tr>\n",
       "    <tr>\n",
       "      <th>4217</th>\n",
       "      <td>1.0</td>\n",
       "      <td>0.714286</td>\n",
       "      <td>0.592760</td>\n",
       "      <td>0.0</td>\n",
       "      <td>0</td>\n",
       "      <td>0.038207</td>\n",
       "    </tr>\n",
       "    <tr>\n",
       "      <th>4381</th>\n",
       "      <td>1.0</td>\n",
       "      <td>0.714286</td>\n",
       "      <td>0.592760</td>\n",
       "      <td>0.0</td>\n",
       "      <td>0</td>\n",
       "      <td>0.038207</td>\n",
       "    </tr>\n",
       "    <tr>\n",
       "      <th>2264</th>\n",
       "      <td>1.0</td>\n",
       "      <td>0.714286</td>\n",
       "      <td>0.619910</td>\n",
       "      <td>0.0</td>\n",
       "      <td>0</td>\n",
       "      <td>0.038207</td>\n",
       "    </tr>\n",
       "    <tr>\n",
       "      <th>4166</th>\n",
       "      <td>1.0</td>\n",
       "      <td>0.750000</td>\n",
       "      <td>0.650075</td>\n",
       "      <td>0.0</td>\n",
       "      <td>1</td>\n",
       "      <td>0.043741</td>\n",
       "    </tr>\n",
       "  </tbody>\n",
       "</table>\n",
       "</div>"
      ],
      "text/plain": [
       "      gender       age    income  family_members  insurance_benefits  distance\n",
       "40       1.0  0.750000  0.606335             0.0                   1  0.000000\n",
       "1539     1.0  0.750000  0.610860             0.0                   1  0.004525\n",
       "4928     1.0  0.732143  0.598793             0.0                   0  0.019384\n",
       "1861     1.0  0.732143  0.616893             0.0                   0  0.020745\n",
       "3305     1.0  0.750000  0.636501             0.0                   1  0.030166\n",
       "953      1.0  0.732143  0.634992             0.0                   0  0.033766\n",
       "578      1.0  0.767857  0.638009             0.0                   1  0.036361\n",
       "4217     1.0  0.714286  0.592760             0.0                   0  0.038207\n",
       "4381     1.0  0.714286  0.592760             0.0                   0  0.038207\n",
       "2264     1.0  0.714286  0.619910             0.0                   0  0.038207\n",
       "4166     1.0  0.750000  0.650075             0.0                   1  0.043741"
      ]
     },
     "execution_count": 27,
     "metadata": {},
     "output_type": "execute_result"
    }
   ],
   "source": [
    "#Euclidean metric \n",
    "scaled_euclidean = get_knn(df=df_scaled, n=selected_nth, k=selected_k, metric='euclidean')\n",
    "print(scaled_euclidean.distance.describe())\n",
    "scaled_euclidean.sort_values('distance')"
   ]
  },
  {
   "cell_type": "code",
   "execution_count": 28,
   "metadata": {},
   "outputs": [
    {
     "name": "stdout",
     "output_type": "stream",
     "text": [
      "count    11.000000\n",
      "mean      0.033807\n",
      "std       0.017954\n",
      "min       0.000000\n",
      "25%       0.026907\n",
      "50%       0.043741\n",
      "75%       0.047902\n",
      "max       0.049289\n",
      "Name: distance, dtype: float64\n"
     ]
    },
    {
     "data": {
      "text/html": [
       "<div>\n",
       "<style scoped>\n",
       "    .dataframe tbody tr th:only-of-type {\n",
       "        vertical-align: middle;\n",
       "    }\n",
       "\n",
       "    .dataframe tbody tr th {\n",
       "        vertical-align: top;\n",
       "    }\n",
       "\n",
       "    .dataframe thead th {\n",
       "        text-align: right;\n",
       "    }\n",
       "</style>\n",
       "<table border=\"1\" class=\"dataframe\">\n",
       "  <thead>\n",
       "    <tr style=\"text-align: right;\">\n",
       "      <th></th>\n",
       "      <th>gender</th>\n",
       "      <th>age</th>\n",
       "      <th>income</th>\n",
       "      <th>family_members</th>\n",
       "      <th>insurance_benefits</th>\n",
       "      <th>distance</th>\n",
       "    </tr>\n",
       "  </thead>\n",
       "  <tbody>\n",
       "    <tr>\n",
       "      <th>40</th>\n",
       "      <td>1.0</td>\n",
       "      <td>0.750000</td>\n",
       "      <td>0.606335</td>\n",
       "      <td>0.0</td>\n",
       "      <td>1</td>\n",
       "      <td>0.000000</td>\n",
       "    </tr>\n",
       "    <tr>\n",
       "      <th>1539</th>\n",
       "      <td>1.0</td>\n",
       "      <td>0.750000</td>\n",
       "      <td>0.610860</td>\n",
       "      <td>0.0</td>\n",
       "      <td>1</td>\n",
       "      <td>0.004525</td>\n",
       "    </tr>\n",
       "    <tr>\n",
       "      <th>4928</th>\n",
       "      <td>1.0</td>\n",
       "      <td>0.732143</td>\n",
       "      <td>0.598793</td>\n",
       "      <td>0.0</td>\n",
       "      <td>0</td>\n",
       "      <td>0.025399</td>\n",
       "    </tr>\n",
       "    <tr>\n",
       "      <th>1861</th>\n",
       "      <td>1.0</td>\n",
       "      <td>0.732143</td>\n",
       "      <td>0.616893</td>\n",
       "      <td>0.0</td>\n",
       "      <td>0</td>\n",
       "      <td>0.028415</td>\n",
       "    </tr>\n",
       "    <tr>\n",
       "      <th>3305</th>\n",
       "      <td>1.0</td>\n",
       "      <td>0.750000</td>\n",
       "      <td>0.636501</td>\n",
       "      <td>0.0</td>\n",
       "      <td>1</td>\n",
       "      <td>0.030166</td>\n",
       "    </tr>\n",
       "    <tr>\n",
       "      <th>4166</th>\n",
       "      <td>1.0</td>\n",
       "      <td>0.750000</td>\n",
       "      <td>0.650075</td>\n",
       "      <td>0.0</td>\n",
       "      <td>1</td>\n",
       "      <td>0.043741</td>\n",
       "    </tr>\n",
       "    <tr>\n",
       "      <th>1340</th>\n",
       "      <td>1.0</td>\n",
       "      <td>0.750000</td>\n",
       "      <td>0.561086</td>\n",
       "      <td>0.0</td>\n",
       "      <td>1</td>\n",
       "      <td>0.045249</td>\n",
       "    </tr>\n",
       "    <tr>\n",
       "      <th>953</th>\n",
       "      <td>1.0</td>\n",
       "      <td>0.732143</td>\n",
       "      <td>0.634992</td>\n",
       "      <td>0.0</td>\n",
       "      <td>0</td>\n",
       "      <td>0.046515</td>\n",
       "    </tr>\n",
       "    <tr>\n",
       "      <th>4217</th>\n",
       "      <td>1.0</td>\n",
       "      <td>0.714286</td>\n",
       "      <td>0.592760</td>\n",
       "      <td>0.0</td>\n",
       "      <td>0</td>\n",
       "      <td>0.049289</td>\n",
       "    </tr>\n",
       "    <tr>\n",
       "      <th>4381</th>\n",
       "      <td>1.0</td>\n",
       "      <td>0.714286</td>\n",
       "      <td>0.592760</td>\n",
       "      <td>0.0</td>\n",
       "      <td>0</td>\n",
       "      <td>0.049289</td>\n",
       "    </tr>\n",
       "    <tr>\n",
       "      <th>2264</th>\n",
       "      <td>1.0</td>\n",
       "      <td>0.714286</td>\n",
       "      <td>0.619910</td>\n",
       "      <td>0.0</td>\n",
       "      <td>0</td>\n",
       "      <td>0.049289</td>\n",
       "    </tr>\n",
       "  </tbody>\n",
       "</table>\n",
       "</div>"
      ],
      "text/plain": [
       "      gender       age    income  family_members  insurance_benefits  distance\n",
       "40       1.0  0.750000  0.606335             0.0                   1  0.000000\n",
       "1539     1.0  0.750000  0.610860             0.0                   1  0.004525\n",
       "4928     1.0  0.732143  0.598793             0.0                   0  0.025399\n",
       "1861     1.0  0.732143  0.616893             0.0                   0  0.028415\n",
       "3305     1.0  0.750000  0.636501             0.0                   1  0.030166\n",
       "4166     1.0  0.750000  0.650075             0.0                   1  0.043741\n",
       "1340     1.0  0.750000  0.561086             0.0                   1  0.045249\n",
       "953      1.0  0.732143  0.634992             0.0                   0  0.046515\n",
       "4217     1.0  0.714286  0.592760             0.0                   0  0.049289\n",
       "4381     1.0  0.714286  0.592760             0.0                   0  0.049289\n",
       "2264     1.0  0.714286  0.619910             0.0                   0  0.049289"
      ]
     },
     "execution_count": 28,
     "metadata": {},
     "output_type": "execute_result"
    }
   ],
   "source": [
    "#Manhattan metric \n",
    "scaled_manhattan = get_knn(df=df_scaled, n=selected_nth, k=selected_k, metric='manhattan')\n",
    "print(scaled_manhattan.distance.describe())\n",
    "scaled_manhattan.sort_values('distance')"
   ]
  },
  {
   "cell_type": "code",
   "execution_count": 29,
   "metadata": {},
   "outputs": [
    {
     "name": "stdout",
     "output_type": "stream",
     "text": [
      "[40, 1539, 4928, 1861, 3305, 4166, 1340, 953, 4217, 4381, 2264]\n"
     ]
    },
    {
     "data": {
      "text/plain": [
       "[40, 1539, 4928, 1861, 3305, 953, 578, 4217, 4381, 2264, 4166]"
      ]
     },
     "execution_count": 29,
     "metadata": {},
     "output_type": "execute_result"
    }
   ],
   "source": [
    "# comparing indices of both metrics \n",
    "print(scaled_manhattan.sort_values('distance').index.tolist())\n",
    "scaled_euclidean.sort_values('distance').index.tolist()"
   ]
  },
  {
   "cell_type": "markdown",
   "metadata": {},
   "source": [
    "### Conclusions From calculating the 10 Nearest Neighbors\n",
    "From calculating the 10 nearest neighbors, we found data not being scaled results is larger distance distributions compared to scaled data. For instance, the euclidean distances using non-scaled data produced a mean, standard deviation, and median distance values of 6.52, 3.31, and 6.08, respectively; compared to euclidean distances from scaled data that produced a mean, standard deviation, and median distances values of 0.027, 0.014, and 0.033, respectively. The same patter showed with Manhattan distances using non-scaled data, which produced a mean, standard deviation, and median distance values 7.45, 3.61, and 7.00, respectively; compared to manhattan distances using scaled data that produces mean, standard deviation, and median values of 0.033, 0.017, and 0.043, respectively. \n",
    "\n",
    "Another observation we noticed from this section is that calculating manhattan distances, does not affect the distribution of distances significantly, independently of scaling the data. The pattern we noticed is that the distribution, compared to euclidean distance distribution, is shifted to the right. In other words, manhattan distances share a similar distribution to euclidean distances, but its center of distribution is located at a higher distance value. "
   ]
  },
  {
   "cell_type": "code",
   "execution_count": 30,
   "metadata": {
    "scrolled": false
   },
   "outputs": [
    {
     "data": {
      "image/png": "[encoded data removed]",
      "text/plain": [
       "<Figure size 720x720 with 1 Axes>"
      ]
     },
     "metadata": {
      "image/png": {
       "height": 603,
       "width": 613
      }
     },
     "output_type": "display_data"
    }
   ],
   "source": [
    "plt.figure(figsize=(10,10))\n",
    "not_scaled_euclidean.distance.plot.kde(label='not_scaled_euclidean')\n",
    "not_scaled_manhattan.distance.plot.kde(label='not_scaled_manhattan')\n",
    "plt.title('KDE Distribution of distances from non-scaled data, Euclidean and Manhattan metrics')\n",
    "plt.xlabel('distance units')\n",
    "plt.legend(loc='best')\n",
    "plt.show()"
   ]
  },
  {
   "cell_type": "code",
   "execution_count": 31,
   "metadata": {},
   "outputs": [
    {
     "data": {
      "image/png": "[encoded data removed]",
      "text/plain": [
       "<Figure size 720x720 with 1 Axes>"
      ]
     },
     "metadata": {
      "image/png": {
       "height": 603,
       "width": 605
      }
     },
     "output_type": "display_data"
    }
   ],
   "source": [
    "#distance distribution from scaled data\n",
    "plt.figure(figsize=(10,10))\n",
    "scaled_euclidean.distance.plot.kde(label='scaled_euclidean')\n",
    "scaled_manhattan.distance.plot.kde(label='scaled_manhattan')\n",
    "plt.title('KDE Distribution of distances from scaled data, Euclidean and Manhattan metrics')\n",
    "plt.xlabel('distance units')\n",
    "plt.legend(loc='best')\n",
    "plt.show()"
   ]
  },
  {
   "cell_type": "markdown",
   "metadata": {},
   "source": [
    "From the resulting 10 nearest neighbors, we observed that scaled and non-scaled data selected different neighbors for each distance. For instance, non-scaled and scaled euclidean did not share any neighor in common; similarly, non-scaled and scaled manhattan did not share any neighbor in common. We can conclude that with unscaled data, if some feature has a much bigger magnitude than others (for example, income), it is weighed much more in the distance calculation than other features. Scaling makes all features weighed equally."
   ]
  },
  {
   "cell_type": "code",
   "execution_count": 32,
   "metadata": {},
   "outputs": [
    {
     "name": "stdout",
     "output_type": "stream",
     "text": [
      "not_scaled_euclidean indices\n",
      "[40, 264, 947, 1537, 2570, 2965, 3218, 3861, 3880, 3888, 4835]\n",
      "scaled_euclidean indices\n",
      "[40, 578, 953, 1539, 1861, 2264, 3305, 4166, 4217, 4381, 4928]\n",
      "Neighbors sahred by non-scaled and scaled euclidean distance\n",
      "{40}\n",
      "\n",
      "\n",
      "not_scaled_manhattan indices\n",
      "[40, 264, 947, 1537, 2570, 2965, 3218, 3861, 3880, 3888, 4835]\n",
      "scaled_manhattan indices\n",
      "[40, 953, 1340, 1539, 1861, 2264, 3305, 4166, 4217, 4381, 4928]\n",
      "Neighbors sahred by non-scaled and scaled manhattan distance\n"
     ]
    },
    {
     "data": {
      "text/plain": [
       "{40}"
      ]
     },
     "execution_count": 32,
     "metadata": {},
     "output_type": "execute_result"
    }
   ],
   "source": [
    "list_A = sorted(not_scaled_euclidean.index.to_list())\n",
    "list_B = sorted(scaled_euclidean.index.to_list())\n",
    "print('not_scaled_euclidean indices')\n",
    "print(list_A)\n",
    "print('scaled_euclidean indices')\n",
    "print(list_B)\n",
    "print('Neighbors sahred by non-scaled and scaled euclidean distance')\n",
    "print(set(list_A).intersection(list_B))\n",
    "print()\n",
    "print()\n",
    "list_a = sorted(not_scaled_manhattan.index.to_list())\n",
    "list_b = sorted(scaled_manhattan.index.to_list())\n",
    "print('not_scaled_manhattan indices')\n",
    "print(list_a)\n",
    "print('scaled_manhattan indices')\n",
    "print(list_b)\n",
    "print('Neighbors sahred by non-scaled and scaled manhattan distance')\n",
    "set(list_a).intersection(list_b)"
   ]
  },
  {
   "cell_type": "markdown",
   "metadata": {},
   "source": [
    "# Task 2. Is Customer Likely to Receive Insurance Benefit?"
   ]
  },
  {
   "cell_type": "markdown",
   "metadata": {},
   "source": [
    "In this section, we created a KNN-based classifier to test how the value of __K__ (Number of neighbors) affects the F1 score metric, as well to observe whether scaling the data makes any difference. Since the values in the `insurance_benefits` column have more values of zero as the target, we wanted to evaluate if out KNN classifier model could perform between than a dummy model. For the KNN classifer model and the dummy model, we added a new column to `df` called __insurance_benefits_received__, which takes the values from the __insurance_benefits__ column. If a value in the __insurance_benefits__ column has a value greater than 0, then it takes a value of 1 in the __insurance_benefis_received__ column; if a value in the __insurance_benefits__ column has a value equals to 0, then it takes a value of 0 in the __insurance_benefis_received__ column. The purpose of the dummy model is to calculate the different probabilities of getting 1, or insurance benefits, at random. Different probalities tested were 0, the probability of paying any insurance benefit, 0.5, 1.\n",
    "\n",
    "The probability of paying any insurance benefit can be defined as\n",
    "\n",
    "$$\n",
    "P\\{\\text{insurance benefit received}\\}=\\frac{\\text{number of clients received any insurance benefit}}{\\text{total number of clients}}.\n",
    "$$\n"
   ]
  },
  {
   "cell_type": "code",
   "execution_count": 33,
   "metadata": {
    "scrolled": true
   },
   "outputs": [],
   "source": [
    "# calculate the target\n",
    "df['insurance_benefits_received'] = (df['insurance_benefits'] > 0).astype('int')\n"
   ]
  },
  {
   "cell_type": "markdown",
   "metadata": {},
   "source": [
    "As mentioned previously, there was an inbalance in the classes for the __insurance_benefits_received__ target. The class 0 presented 88.93%, while class 1 presented 11.06% of the values in the __insurance_benefits_received__ column. "
   ]
  },
  {
   "cell_type": "code",
   "execution_count": 34,
   "metadata": {},
   "outputs": [
    {
     "data": {
      "image/png": "[encoded data removed]",
      "text/plain": [
       "<Figure size 576x576 with 1 Axes>"
      ]
     },
     "metadata": {
      "image/png": {
       "height": 494,
       "width": 487
      }
     },
     "output_type": "display_data"
    },
    {
     "data": {
      "text/plain": [
       "0    0.889315\n",
       "1    0.110685\n",
       "Name: insurance_benefits_received, dtype: float64"
      ]
     },
     "execution_count": 34,
     "metadata": {},
     "output_type": "execute_result"
    }
   ],
   "source": [
    "# check for the class imbalance with value_counts()\n",
    "df.insurance_benefits_received.value_counts().plot(kind = 'barh', figsize=(8,8))\n",
    "plt.xlabel('Value Counts')\n",
    "plt.ylabel('Insurance_benefits_received')\n",
    "plt.title('Distribution of classes for insurance_benefits_received')\n",
    "plt.show ()\n",
    "df.insurance_benefits_received.value_counts(normalize=True)"
   ]
  },
  {
   "cell_type": "markdown",
   "metadata": {},
   "source": [
    "For the dummy model, we printed the probabilities of obtaining 1, at random, from the __insurance_benefits_received__ target; as well, as the F1 score and the confusion matrix for each probabilitiy. The results are shown below: "
   ]
  },
  {
   "cell_type": "code",
   "execution_count": 35,
   "metadata": {},
   "outputs": [],
   "source": [
    "def eval_classifier(y_true, y_pred):\n",
    "    \n",
    "    f1_score = sklearn.metrics.f1_score(y_true, y_pred)\n",
    "    print(f'F1: {f1_score:.2f}')\n",
    "    \n",
    "# if you have an issue with the following line, restart the kernel and run the notebook again\n",
    "    cm = sklearn.metrics.confusion_matrix(y_true, y_pred, normalize='all')\n",
    "    print('Confusion Matrix')\n",
    "    print(cm)"
   ]
  },
  {
   "cell_type": "code",
   "execution_count": 36,
   "metadata": {},
   "outputs": [],
   "source": [
    "# generating output of a random model\n",
    "\n",
    "def rnd_model_predict(P, size, seed=42):\n",
    "\n",
    "    rng = np.random.default_rng(seed=seed)\n",
    "    return rng.binomial(n=1, p=P, size=size)"
   ]
  },
  {
   "cell_type": "code",
   "execution_count": 37,
   "metadata": {},
   "outputs": [
    {
     "name": "stdout",
     "output_type": "stream",
     "text": [
      "The probability: 0.00\n",
      "F1: 0.00\n",
      "Confusion Matrix\n",
      "[[0.88931529 0.        ]\n",
      " [0.11068471 0.        ]]\n",
      "\n",
      "The probability: 0.11\n",
      "F1: 0.10\n",
      "Confusion Matrix\n",
      "[[0.79256716 0.09674813]\n",
      " [0.10018178 0.01050293]]\n",
      "\n",
      "The probability: 0.50\n",
      "F1: 0.17\n",
      "Confusion Matrix\n",
      "[[0.44920218 0.44011311]\n",
      " [0.05837205 0.05231266]]\n",
      "\n",
      "The probability: 1.00\n",
      "F1: 0.20\n",
      "Confusion Matrix\n",
      "[[0.         0.88931529]\n",
      " [0.         0.11068471]]\n",
      "\n"
     ]
    }
   ],
   "source": [
    "for P in [0, df['insurance_benefits_received'].sum() / len(df), 0.5, 1]:\n",
    "\n",
    "    print(f'The probability: {P:.2f}')\n",
    "    y_pred_rnd = rnd_model_predict(P, len(df))\n",
    "        \n",
    "    eval_classifier(df['insurance_benefits_received'], y_pred_rnd)\n",
    "    \n",
    "    print()"
   ]
  },
  {
   "cell_type": "markdown",
   "metadata": {},
   "source": [
    "For the KNN-based classifier model, we split the `df` and `df_scaled` dataframes into training and testing datasets, in a 70:30 ratio. The dimensions of each dataset are described below. "
   ]
  },
  {
   "cell_type": "code",
   "execution_count": 38,
   "metadata": {},
   "outputs": [
    {
     "name": "stdout",
     "output_type": "stream",
     "text": [
      "train_features shape (3465, 4)\n",
      "\n",
      "test_features shape (1486, 4)\n",
      "\n",
      "train_target shape (3465,)\n",
      "\n",
      "test_target shape (1486,)\n"
     ]
    }
   ],
   "source": [
    "# Split df for train and testing in a 70:30 ratio\n",
    "\n",
    "features = df[feature_names]\n",
    "target= df['insurance_benefits_received']\n",
    "\n",
    "train_features, test_features, train_target, test_target = train_test_split(\n",
    "    features, target, test_size=0.3, random_state=12345)\n",
    "\n",
    "print('train_features shape', train_features.shape)\n",
    "print()\n",
    "print('test_features shape', test_features.shape)\n",
    "print()\n",
    "print('train_target shape', train_target.shape)\n",
    "print()\n",
    "print('test_target shape', test_target.shape)"
   ]
  },
  {
   "cell_type": "code",
   "execution_count": 39,
   "metadata": {},
   "outputs": [
    {
     "name": "stdout",
     "output_type": "stream",
     "text": [
      "train_features shape (3465, 4)\n",
      "\n",
      "test_features shape (1486, 4)\n",
      "\n",
      "train_target shape (3465,)\n",
      "\n",
      "test_target shape (1486,)\n"
     ]
    }
   ],
   "source": [
    "# Split df_scaled for train and testing in a 70:30 ratio\n",
    "df_scaled['insurance_benefits_received']=df['insurance_benefits_received']\n",
    "scaled_features = df_scaled[feature_names]\n",
    "scaled_target= df_scaled['insurance_benefits_received']\n",
    "\n",
    "s_train_features, s_test_features, s_train_target, s_test_target = train_test_split(\n",
    "    scaled_features, scaled_target, test_size=0.3, random_state=12345)\n",
    "\n",
    "print('train_features shape', s_train_features.shape)\n",
    "print()\n",
    "print('test_features shape', s_test_features.shape)\n",
    "print()\n",
    "print('train_target shape', s_train_target.shape)\n",
    "print()\n",
    "print('test_target shape', s_test_target.shape)"
   ]
  },
  {
   "cell_type": "markdown",
   "metadata": {},
   "source": [
    "## Conclusion for task 2\n",
    "To test how __k__ number of neighbors and metric distance affect the F1 score, we used the class KNeighborsClassifier from sklearn to obtain the F1 scores for each combination possible. For the non-sclaed data, we found that the F1 score tends to decrease when the __k__ number of neighbors increase, for both manhattan and euclidean distances. The distribution of F1 for scaled data, on the other hand, has a more uniform distribution, with k=1 having the highest F1 score for both euclidean and manhattan distances. The combination that had the highest F1 score was scaled_df, manhattan distance, and k=1 with an F1 score of 0.984985, compared to the hihest combination of non_scaled data (k=1, manhattan distance) which had a F1 score of 0.653199. To conclude, the KNN classifier model performed better than the Dummy model.  "
   ]
  },
  {
   "cell_type": "code",
   "execution_count": 40,
   "metadata": {},
   "outputs": [],
   "source": [
    "# testing how k affects F1 score for predicting \n",
    "\n",
    "results=[]\n",
    "results_scaled=[]\n",
    "for k in range(1,11):\n",
    "    for metric in list(['euclidean', 'manhattan']):\n",
    "        model = KNeighborsClassifier(n_neighbors = k, metric=metric)\n",
    "        model.fit(train_features, train_target)\n",
    "        predictions = model.predict(test_features)\n",
    "        score = f1_score(test_target, predictions)\n",
    "        results.append(list([metric, k, score]))\n",
    "        \n",
    "    for metric in list(['euclidean', 'manhattan']):\n",
    "        model_scaled = KNeighborsClassifier(n_neighbors = k, metric=metric)\n",
    "        model_scaled.fit(s_train_features, s_train_target)\n",
    "        s_predictions = model_scaled.predict(s_test_features)\n",
    "        s_score = f1_score(s_test_target, s_predictions)\n",
    "        results_scaled.append(list([metric, k, s_score]))\n"
   ]
  },
  {
   "cell_type": "code",
   "execution_count": 41,
   "metadata": {},
   "outputs": [
    {
     "data": {
      "text/html": [
       "<div>\n",
       "<style scoped>\n",
       "    .dataframe tbody tr th:only-of-type {\n",
       "        vertical-align: middle;\n",
       "    }\n",
       "\n",
       "    .dataframe tbody tr th {\n",
       "        vertical-align: top;\n",
       "    }\n",
       "\n",
       "    .dataframe thead th {\n",
       "        text-align: right;\n",
       "    }\n",
       "</style>\n",
       "<table border=\"1\" class=\"dataframe\">\n",
       "  <thead>\n",
       "    <tr style=\"text-align: right;\">\n",
       "      <th></th>\n",
       "      <th>metric</th>\n",
       "      <th>k</th>\n",
       "      <th>f1_score</th>\n",
       "    </tr>\n",
       "  </thead>\n",
       "  <tbody>\n",
       "    <tr>\n",
       "      <th>0</th>\n",
       "      <td>euclidean</td>\n",
       "      <td>1</td>\n",
       "      <td>0.653061</td>\n",
       "    </tr>\n",
       "    <tr>\n",
       "      <th>2</th>\n",
       "      <td>euclidean</td>\n",
       "      <td>2</td>\n",
       "      <td>0.366972</td>\n",
       "    </tr>\n",
       "    <tr>\n",
       "      <th>4</th>\n",
       "      <td>euclidean</td>\n",
       "      <td>3</td>\n",
       "      <td>0.389831</td>\n",
       "    </tr>\n",
       "    <tr>\n",
       "      <th>6</th>\n",
       "      <td>euclidean</td>\n",
       "      <td>4</td>\n",
       "      <td>0.170213</td>\n",
       "    </tr>\n",
       "    <tr>\n",
       "      <th>8</th>\n",
       "      <td>euclidean</td>\n",
       "      <td>5</td>\n",
       "      <td>0.187500</td>\n",
       "    </tr>\n",
       "    <tr>\n",
       "      <th>10</th>\n",
       "      <td>euclidean</td>\n",
       "      <td>6</td>\n",
       "      <td>0.022989</td>\n",
       "    </tr>\n",
       "    <tr>\n",
       "      <th>12</th>\n",
       "      <td>euclidean</td>\n",
       "      <td>7</td>\n",
       "      <td>0.022989</td>\n",
       "    </tr>\n",
       "    <tr>\n",
       "      <th>14</th>\n",
       "      <td>euclidean</td>\n",
       "      <td>8</td>\n",
       "      <td>0.023392</td>\n",
       "    </tr>\n",
       "    <tr>\n",
       "      <th>16</th>\n",
       "      <td>euclidean</td>\n",
       "      <td>9</td>\n",
       "      <td>0.023392</td>\n",
       "    </tr>\n",
       "    <tr>\n",
       "      <th>18</th>\n",
       "      <td>euclidean</td>\n",
       "      <td>10</td>\n",
       "      <td>0.011765</td>\n",
       "    </tr>\n",
       "    <tr>\n",
       "      <th>1</th>\n",
       "      <td>manhattan</td>\n",
       "      <td>1</td>\n",
       "      <td>0.653199</td>\n",
       "    </tr>\n",
       "    <tr>\n",
       "      <th>3</th>\n",
       "      <td>manhattan</td>\n",
       "      <td>2</td>\n",
       "      <td>0.361111</td>\n",
       "    </tr>\n",
       "    <tr>\n",
       "      <th>5</th>\n",
       "      <td>manhattan</td>\n",
       "      <td>3</td>\n",
       "      <td>0.384615</td>\n",
       "    </tr>\n",
       "    <tr>\n",
       "      <th>7</th>\n",
       "      <td>manhattan</td>\n",
       "      <td>4</td>\n",
       "      <td>0.170213</td>\n",
       "    </tr>\n",
       "    <tr>\n",
       "      <th>9</th>\n",
       "      <td>manhattan</td>\n",
       "      <td>5</td>\n",
       "      <td>0.187500</td>\n",
       "    </tr>\n",
       "    <tr>\n",
       "      <th>11</th>\n",
       "      <td>manhattan</td>\n",
       "      <td>6</td>\n",
       "      <td>0.023121</td>\n",
       "    </tr>\n",
       "    <tr>\n",
       "      <th>13</th>\n",
       "      <td>manhattan</td>\n",
       "      <td>7</td>\n",
       "      <td>0.022989</td>\n",
       "    </tr>\n",
       "    <tr>\n",
       "      <th>15</th>\n",
       "      <td>manhattan</td>\n",
       "      <td>8</td>\n",
       "      <td>0.023392</td>\n",
       "    </tr>\n",
       "    <tr>\n",
       "      <th>17</th>\n",
       "      <td>manhattan</td>\n",
       "      <td>9</td>\n",
       "      <td>0.023392</td>\n",
       "    </tr>\n",
       "    <tr>\n",
       "      <th>19</th>\n",
       "      <td>manhattan</td>\n",
       "      <td>10</td>\n",
       "      <td>0.011765</td>\n",
       "    </tr>\n",
       "  </tbody>\n",
       "</table>\n",
       "</div>"
      ],
      "text/plain": [
       "       metric   k  f1_score\n",
       "0   euclidean   1  0.653061\n",
       "2   euclidean   2  0.366972\n",
       "4   euclidean   3  0.389831\n",
       "6   euclidean   4  0.170213\n",
       "8   euclidean   5  0.187500\n",
       "10  euclidean   6  0.022989\n",
       "12  euclidean   7  0.022989\n",
       "14  euclidean   8  0.023392\n",
       "16  euclidean   9  0.023392\n",
       "18  euclidean  10  0.011765\n",
       "1   manhattan   1  0.653199\n",
       "3   manhattan   2  0.361111\n",
       "5   manhattan   3  0.384615\n",
       "7   manhattan   4  0.170213\n",
       "9   manhattan   5  0.187500\n",
       "11  manhattan   6  0.023121\n",
       "13  manhattan   7  0.022989\n",
       "15  manhattan   8  0.023392\n",
       "17  manhattan   9  0.023392\n",
       "19  manhattan  10  0.011765"
      ]
     },
     "execution_count": 41,
     "metadata": {},
     "output_type": "execute_result"
    }
   ],
   "source": [
    "non_scaled_results = pd.DataFrame(results, columns=['metric', 'k', 'f1_score'])\n",
    "non_scaled_results.sort_values(['metric','k'])"
   ]
  },
  {
   "cell_type": "code",
   "execution_count": 42,
   "metadata": {},
   "outputs": [
    {
     "data": {
      "text/html": [
       "<div>\n",
       "<style scoped>\n",
       "    .dataframe tbody tr th:only-of-type {\n",
       "        vertical-align: middle;\n",
       "    }\n",
       "\n",
       "    .dataframe tbody tr th {\n",
       "        vertical-align: top;\n",
       "    }\n",
       "\n",
       "    .dataframe thead th {\n",
       "        text-align: right;\n",
       "    }\n",
       "</style>\n",
       "<table border=\"1\" class=\"dataframe\">\n",
       "  <thead>\n",
       "    <tr style=\"text-align: right;\">\n",
       "      <th></th>\n",
       "      <th>metric</th>\n",
       "      <th>k</th>\n",
       "      <th>f1_score</th>\n",
       "    </tr>\n",
       "  </thead>\n",
       "  <tbody>\n",
       "    <tr>\n",
       "      <th>0</th>\n",
       "      <td>euclidean</td>\n",
       "      <td>1</td>\n",
       "      <td>0.970060</td>\n",
       "    </tr>\n",
       "    <tr>\n",
       "      <th>2</th>\n",
       "      <td>euclidean</td>\n",
       "      <td>2</td>\n",
       "      <td>0.937107</td>\n",
       "    </tr>\n",
       "    <tr>\n",
       "      <th>4</th>\n",
       "      <td>euclidean</td>\n",
       "      <td>3</td>\n",
       "      <td>0.946108</td>\n",
       "    </tr>\n",
       "    <tr>\n",
       "      <th>6</th>\n",
       "      <td>euclidean</td>\n",
       "      <td>4</td>\n",
       "      <td>0.931250</td>\n",
       "    </tr>\n",
       "    <tr>\n",
       "      <th>8</th>\n",
       "      <td>euclidean</td>\n",
       "      <td>5</td>\n",
       "      <td>0.929664</td>\n",
       "    </tr>\n",
       "    <tr>\n",
       "      <th>10</th>\n",
       "      <td>euclidean</td>\n",
       "      <td>6</td>\n",
       "      <td>0.924528</td>\n",
       "    </tr>\n",
       "    <tr>\n",
       "      <th>12</th>\n",
       "      <td>euclidean</td>\n",
       "      <td>7</td>\n",
       "      <td>0.935780</td>\n",
       "    </tr>\n",
       "    <tr>\n",
       "      <th>14</th>\n",
       "      <td>euclidean</td>\n",
       "      <td>8</td>\n",
       "      <td>0.925000</td>\n",
       "    </tr>\n",
       "    <tr>\n",
       "      <th>16</th>\n",
       "      <td>euclidean</td>\n",
       "      <td>9</td>\n",
       "      <td>0.932099</td>\n",
       "    </tr>\n",
       "    <tr>\n",
       "      <th>18</th>\n",
       "      <td>euclidean</td>\n",
       "      <td>10</td>\n",
       "      <td>0.920635</td>\n",
       "    </tr>\n",
       "    <tr>\n",
       "      <th>1</th>\n",
       "      <td>manhattan</td>\n",
       "      <td>1</td>\n",
       "      <td>0.984985</td>\n",
       "    </tr>\n",
       "    <tr>\n",
       "      <th>3</th>\n",
       "      <td>manhattan</td>\n",
       "      <td>2</td>\n",
       "      <td>0.937107</td>\n",
       "    </tr>\n",
       "    <tr>\n",
       "      <th>5</th>\n",
       "      <td>manhattan</td>\n",
       "      <td>3</td>\n",
       "      <td>0.948949</td>\n",
       "    </tr>\n",
       "    <tr>\n",
       "      <th>7</th>\n",
       "      <td>manhattan</td>\n",
       "      <td>4</td>\n",
       "      <td>0.931250</td>\n",
       "    </tr>\n",
       "    <tr>\n",
       "      <th>9</th>\n",
       "      <td>manhattan</td>\n",
       "      <td>5</td>\n",
       "      <td>0.939394</td>\n",
       "    </tr>\n",
       "    <tr>\n",
       "      <th>11</th>\n",
       "      <td>manhattan</td>\n",
       "      <td>6</td>\n",
       "      <td>0.930818</td>\n",
       "    </tr>\n",
       "    <tr>\n",
       "      <th>13</th>\n",
       "      <td>manhattan</td>\n",
       "      <td>7</td>\n",
       "      <td>0.939024</td>\n",
       "    </tr>\n",
       "    <tr>\n",
       "      <th>15</th>\n",
       "      <td>manhattan</td>\n",
       "      <td>8</td>\n",
       "      <td>0.931250</td>\n",
       "    </tr>\n",
       "    <tr>\n",
       "      <th>17</th>\n",
       "      <td>manhattan</td>\n",
       "      <td>9</td>\n",
       "      <td>0.938272</td>\n",
       "    </tr>\n",
       "    <tr>\n",
       "      <th>19</th>\n",
       "      <td>manhattan</td>\n",
       "      <td>10</td>\n",
       "      <td>0.933754</td>\n",
       "    </tr>\n",
       "  </tbody>\n",
       "</table>\n",
       "</div>"
      ],
      "text/plain": [
       "       metric   k  f1_score\n",
       "0   euclidean   1  0.970060\n",
       "2   euclidean   2  0.937107\n",
       "4   euclidean   3  0.946108\n",
       "6   euclidean   4  0.931250\n",
       "8   euclidean   5  0.929664\n",
       "10  euclidean   6  0.924528\n",
       "12  euclidean   7  0.935780\n",
       "14  euclidean   8  0.925000\n",
       "16  euclidean   9  0.932099\n",
       "18  euclidean  10  0.920635\n",
       "1   manhattan   1  0.984985\n",
       "3   manhattan   2  0.937107\n",
       "5   manhattan   3  0.948949\n",
       "7   manhattan   4  0.931250\n",
       "9   manhattan   5  0.939394\n",
       "11  manhattan   6  0.930818\n",
       "13  manhattan   7  0.939024\n",
       "15  manhattan   8  0.931250\n",
       "17  manhattan   9  0.938272\n",
       "19  manhattan  10  0.933754"
      ]
     },
     "execution_count": 42,
     "metadata": {},
     "output_type": "execute_result"
    }
   ],
   "source": [
    "scaled_results = pd.DataFrame(results_scaled, columns=['metric', 'k', 'f1_score'])\n",
    "scaled_results.sort_values(['metric','k'])"
   ]
  },
  {
   "cell_type": "code",
   "execution_count": 43,
   "metadata": {},
   "outputs": [
    {
     "data": {
      "image/png": "[encoded data removed]",
      "text/plain": [
       "<Figure size 720x720 with 1 Axes>"
      ]
     },
     "metadata": {
      "image/png": {
       "height": 605,
       "width": 607
      }
     },
     "output_type": "display_data"
    },
    {
     "data": {
      "image/png": "[encoded data removed]",
      "text/plain": [
       "<Figure size 720x720 with 1 Axes>"
      ]
     },
     "metadata": {
      "image/png": {
       "height": 605,
       "width": 607
      }
     },
     "output_type": "display_data"
    }
   ],
   "source": [
    "#plotting non_scaled_results\n",
    "non_scaled_results.query('metric ==\"euclidean\"').plot(kind='bar', x='k', y='f1_score', figsize=(10,10))\n",
    "plt.ylabel('f1_score')\n",
    "plt.title('F1 scores for different K values using euclidean distance')\n",
    "plt.show()\n",
    "non_scaled_results.query('metric ==\"manhattan\"').plot(kind='bar', x='k', y='f1_score', figsize=(10,10))\n",
    "plt.ylabel('f1_score')\n",
    "plt.title('F1 scores for different K values using manhattan distance')\n",
    "plt.show()"
   ]
  },
  {
   "cell_type": "code",
   "execution_count": 44,
   "metadata": {},
   "outputs": [
    {
     "data": {
      "image/png": "[encoded data removed]",
      "text/plain": [
       "<Figure size 720x720 with 1 Axes>"
      ]
     },
     "metadata": {
      "image/png": {
       "height": 605,
       "width": 607
      }
     },
     "output_type": "display_data"
    },
    {
     "data": {
      "image/png": "[encoded data removed]",
      "text/plain": [
       "<Figure size 720x720 with 1 Axes>"
      ]
     },
     "metadata": {
      "image/png": {
       "height": 605,
       "width": 607
      }
     },
     "output_type": "display_data"
    }
   ],
   "source": [
    "#plotting scaled_results\n",
    "scaled_results.query('metric ==\"euclidean\"').plot(kind='bar', x='k', y='f1_score', figsize=(10,10))\n",
    "plt.ylabel('f1_score')\n",
    "plt.title('F1 scores for different K values using euclidean distance and scaled data')\n",
    "plt.show()\n",
    "scaled_results.query('metric ==\"manhattan\"').plot(kind='bar', x='k', y='f1_score', figsize=(10,10))\n",
    "plt.ylabel('f1_score')\n",
    "plt.title('F1 scores for different K values using manhattan distance and scaled data')\n",
    "plt.show()"
   ]
  },
  {
   "cell_type": "markdown",
   "metadata": {},
   "source": [
    "# Task 3. Regression (with Linear Regression)"
   ]
  },
  {
   "cell_type": "markdown",
   "metadata": {},
   "source": [
    "We built our own implementation of linear regression and checked the RMSE for a Linear Regression model, wtih `insurance_benefits` as the target. For that, we used the the principles of linear regression to  check RMSE for both the original data and the scaled one and observed where there were any differences in RMSE between these two cases. \n",
    "\n",
    "Let's denote\n",
    "- $X$ — feature matrix, each row is a case, each column is a feature, the first column consists of unities\n",
    "- $y$ — target (a vector)\n",
    "- $\\hat{y}$ — estimated tagret (a vector)\n",
    "- $w$ — weight vector\n",
    "\n",
    "The task of linear regression in the language of matrices can be formulated as\n",
    "\n",
    "$$\n",
    "y = Xw\n",
    "$$\n",
    "\n",
    "The training objective then is to find such $w$ that it would minimize the L2-distance (MSE) between $Xw$ and $y$:\n",
    "\n",
    "$$\n",
    "\\min_w d_2(Xw, y) \\quad \\text{or} \\quad \\min_w \\text{MSE}(Xw, y)\n",
    "$$\n",
    "\n",
    "It appears that there is analytical solution for the above:\n",
    "\n",
    "$$\n",
    "w = (X^T X)^{-1} X^T y\n",
    "$$\n",
    "\n",
    "The formula above can be used to find the weights $w$ and the latter can be used to calculate predicted values\n",
    "\n",
    "$$\n",
    "\\hat{y} = X_{val}w\n",
    "$$"
   ]
  },
  {
   "cell_type": "markdown",
   "metadata": {},
   "source": [
    "## Conclucion for Task 3\n",
    "We split the whole data in a 70:30 ratio for the training/validation parts, and used the RMSE metric for the model evaluation. From this section, we found the that using an implementation of linear regression for non-scaled, resulted in an RMSE value of 0.34 and R2 values of 0.66. The scaled_df data also resulted in the same values for both metrics. This mean that our model, for both scaled and non-scaled data, the predictions are off by 0.34 points, on average, from the real values of insurance_benefits. We conclude that there is no difference in RMSE between scaled and non-scaled data after implementation of a Linear Regression model. "
   ]
  },
  {
   "cell_type": "code",
   "execution_count": 45,
   "metadata": {},
   "outputs": [],
   "source": [
    "class MyLinearRegression: \n",
    "    def __init__(self): \n",
    "        self.weights = None   \n",
    "    def fit(self, X, y):\n",
    "        \n",
    "        # adding the unities\n",
    "        X2 = np.append(np.ones([len(X), 1]), X, axis=1)\n",
    "        self.weights = np.linalg.inv(X2.T @ X2) @ X2.T @ y     \n",
    "    def predict(self, X):\n",
    "        \n",
    "        # adding the unities\n",
    "        X2 = np.append(np.ones([len(X), 1]), X, axis=1)\n",
    "        y_pred = X2 @ self.weights\n",
    "        \n",
    "        return y_pred"
   ]
  },
  {
   "cell_type": "code",
   "execution_count": 46,
   "metadata": {},
   "outputs": [],
   "source": [
    "def eval_regressor(y_true, y_pred):\n",
    "    \n",
    "    rmse = math.sqrt(sklearn.metrics.mean_squared_error(y_true, y_pred))\n",
    "    print(f'RMSE: {rmse:.2f}')\n",
    "    \n",
    "    r2_score = math.sqrt(sklearn.metrics.r2_score(y_true, y_pred))\n",
    "    print(f'R2: {r2_score:.2f}')    "
   ]
  },
  {
   "cell_type": "code",
   "execution_count": 47,
   "metadata": {},
   "outputs": [
    {
     "name": "stdout",
     "output_type": "stream",
     "text": [
      "[-8.49446296e-01  3.20158119e-02 -2.74142577e-04  2.95775015e-07\n",
      " -1.29893643e-02]\n",
      "RMSE: 0.34\n",
      "R2: 0.66\n"
     ]
    }
   ],
   "source": [
    "#checking RMSE and R2 for non_scaled data \n",
    "X = df[['age', 'gender', 'income', 'family_members']].to_numpy()\n",
    "y = df['insurance_benefits'].to_numpy()\n",
    "\n",
    "X_train, X_test, y_train, y_test = train_test_split(X, y, test_size=0.3, random_state=12345)\n",
    "\n",
    "lr = MyLinearRegression()\n",
    "\n",
    "lr.fit(X_train, y_train)\n",
    "print(lr.weights)\n",
    "\n",
    "y_test_pred = lr.predict(X_test)\n",
    "eval_regressor(y_test, y_test_pred)"
   ]
  },
  {
   "cell_type": "code",
   "execution_count": 48,
   "metadata": {},
   "outputs": [
    {
     "name": "stdout",
     "output_type": "stream",
     "text": [
      "[-8.49446296e-01  1.79288547e+00 -2.74142577e-04  1.96098835e-02\n",
      " -7.79361856e-02]\n",
      "RMSE: 0.34\n",
      "R2: 0.66\n"
     ]
    }
   ],
   "source": [
    "#checking RMSE and R2 for scaled data \n",
    "X_s = df_scaled[['age', 'gender', 'income', 'family_members']].to_numpy()\n",
    "y_s = df_scaled['insurance_benefits'].to_numpy()\n",
    "\n",
    "X_train_s, X_test_s, y_train_s, y_test_s = train_test_split(X_s, y_s, test_size=0.3, random_state=12345)\n",
    "\n",
    "lr_s = MyLinearRegression()\n",
    "\n",
    "lr_s.fit(X_train_s, y_train_s)\n",
    "print(lr_s.weights)\n",
    "\n",
    "y_test_pred_s = lr_s.predict(X_test_s)\n",
    "eval_regressor(y_test_s, y_test_pred_s)"
   ]
  },
  {
   "cell_type": "markdown",
   "metadata": {},
   "source": [
    "# Task 4. Obfuscating Data"
   ]
  },
  {
   "cell_type": "markdown",
   "metadata": {},
   "source": [
    "For this task, we obfuscated the data by multiplying the numerical features (seen as the matrix $X$) by an invertible matrix $P$ , as shown below:\n",
    "\n",
    "$$\n",
    "X' = X \\times P\n",
    "$$\n",
    "\n",
    "Note that the intertible property is important here so make sure that $P$ is indeed invertible.\n"
   ]
  },
  {
   "cell_type": "code",
   "execution_count": 49,
   "metadata": {},
   "outputs": [],
   "source": [
    "#saving features in df_pn dataframe\n",
    "personal_info_column_list = ['gender', 'age', 'income', 'family_members']\n",
    "df_pn = df[personal_info_column_list]"
   ]
  },
  {
   "cell_type": "code",
   "execution_count": 50,
   "metadata": {},
   "outputs": [
    {
     "data": {
      "text/plain": [
       "array([[    1,    41, 49600,     1],\n",
       "       [    0,    46, 38000,     1],\n",
       "       [    0,    29, 21000,     0],\n",
       "       ...,\n",
       "       [    0,    20, 33900,     2],\n",
       "       [    1,    22, 32700,     3],\n",
       "       [    1,    28, 40600,     1]])"
      ]
     },
     "execution_count": 50,
     "metadata": {},
     "output_type": "execute_result"
    }
   ],
   "source": [
    "#saving df_pn as a numpy vector\n",
    "X = df_pn.to_numpy()\n",
    "X"
   ]
  },
  {
   "cell_type": "markdown",
   "metadata": {},
   "source": [
    "Generating a random matrix $P$."
   ]
  },
  {
   "cell_type": "code",
   "execution_count": 51,
   "metadata": {},
   "outputs": [
    {
     "data": {
      "text/plain": [
       "array([[0.77395605, 0.43887844, 0.85859792, 0.69736803],\n",
       "       [0.09417735, 0.97562235, 0.7611397 , 0.78606431],\n",
       "       [0.12811363, 0.45038594, 0.37079802, 0.92676499],\n",
       "       [0.64386512, 0.82276161, 0.4434142 , 0.22723872]])"
      ]
     },
     "execution_count": 51,
     "metadata": {},
     "output_type": "execute_result"
    }
   ],
   "source": [
    "rng = np.random.default_rng(seed=42)\n",
    "P = rng.random(size=(X.shape[1], X.shape[1]))\n",
    "P"
   ]
  },
  {
   "cell_type": "markdown",
   "metadata": {},
   "source": [
    "Checking the matrix $P$ is invertible"
   ]
  },
  {
   "cell_type": "code",
   "execution_count": 52,
   "metadata": {},
   "outputs": [
    {
     "name": "stdout",
     "output_type": "stream",
     "text": [
      "P is invertible!\n"
     ]
    }
   ],
   "source": [
    "np.linalg.inv(P)\n",
    "print('P is invertible!')"
   ]
  },
  {
   "cell_type": "markdown",
   "metadata": {},
   "source": [
    "In this part of the task, we obfuscated the clients' feature data by multiplying the matrix X times matrix P. "
   ]
  },
  {
   "cell_type": "code",
   "execution_count": 53,
   "metadata": {},
   "outputs": [
    {
     "data": {
      "text/plain": [
       "array([[ 6359.71527314, 22380.40467609, 18424.09074184, 46000.69669016],\n",
       "       [ 4873.29406479, 17160.36702982, 14125.78076133, 35253.45577301],\n",
       "       [ 2693.11742928,  9486.397744  ,  7808.83156024, 19484.86063067],\n",
       "       ...,\n",
       "       [ 4346.2234249 , 15289.24126492, 12586.16264392, 31433.50888552],\n",
       "       [ 4194.09324155, 14751.9910242 , 12144.02930637, 30323.88763426],\n",
       "       [ 5205.46827354, 18314.24814446, 15077.01370762, 37649.59295455]])"
      ]
     },
     "execution_count": 53,
     "metadata": {},
     "output_type": "execute_result"
    }
   ],
   "source": [
    "X_obfuscated = X @ P\n",
    "X_obfuscated"
   ]
  },
  {
   "cell_type": "markdown",
   "metadata": {},
   "source": [
    "We recovered the original data from $X'$ by multiplying __X_obfuscated__ by the inverse of  $P$. The results still contain the information from the X, but the in `recovered_X` would need to be cleaned, e.g. round values. "
   ]
  },
  {
   "cell_type": "code",
   "execution_count": 54,
   "metadata": {},
   "outputs": [
    {
     "data": {
      "text/plain": [
       "array([[ 1.00000000e+00,  4.10000000e+01,  4.96000000e+04,\n",
       "         1.00000000e+00],\n",
       "       [ 1.67952800e-12,  4.60000000e+01,  3.80000000e+04,\n",
       "         1.00000000e+00],\n",
       "       [-6.23021448e-13,  2.90000000e+01,  2.10000000e+04,\n",
       "        -2.03032656e-13],\n",
       "       ...,\n",
       "       [ 1.57996161e-12,  2.00000000e+01,  3.39000000e+04,\n",
       "         2.00000000e+00],\n",
       "       [ 1.00000000e+00,  2.20000000e+01,  3.27000000e+04,\n",
       "         3.00000000e+00],\n",
       "       [ 1.00000000e+00,  2.80000000e+01,  4.06000000e+04,\n",
       "         1.00000000e+00]])"
      ]
     },
     "execution_count": 54,
     "metadata": {},
     "output_type": "execute_result"
    }
   ],
   "source": [
    "recovered_X = (X_obfuscated @ np.linalg.inv(P))\n",
    "recovered_X"
   ]
  },
  {
   "cell_type": "markdown",
   "metadata": {},
   "source": [
    "In this part of the task, we printed  all three cases (__X, X_obfuscated, and recovered_X__)  for a few customers\n",
    "- The original data\n",
    "- The transformed one\n",
    "- The reversed (recovered) one"
   ]
  },
  {
   "cell_type": "code",
   "execution_count": 55,
   "metadata": {},
   "outputs": [
    {
     "name": "stdout",
     "output_type": "stream",
     "text": [
      "[[    1    41 49600     1]\n",
      " [    0    46 38000     1]\n",
      " [    0    29 21000     0]\n",
      " [    0    21 41700     2]\n",
      " [    1    28 26100     0]\n",
      " [    1    43 41000     2]]\n",
      "\n",
      "Obfuscated Clients's Data\n",
      "[[ 6359.71527314 22380.40467609 18424.09074184 46000.69669016]\n",
      " [ 4873.29406479 17160.36702982 14125.78076133 35253.45577301]\n",
      " [ 2693.11742928  9486.397744    7808.83156024 19484.86063067]\n",
      " [ 5345.60393712 18803.22720286 15479.14837264 38663.06186284]\n",
      " [ 3347.17673462 11782.82928336  9699.99894205 24211.27337753]\n",
      " [ 5258.77025195 18509.8596165  15237.19342704 38032.31715339]]\n",
      "\n",
      "Recovered Clients's Data \n"
     ]
    },
    {
     "name": "stderr",
     "output_type": "stream",
     "text": [
      "/tmp/ipykernel_206/2572236212.py:2: FutureWarning: Using a non-tuple sequence for multidimensional indexing is deprecated; use `arr[tuple(seq)]` instead of `arr[seq]`. In the future this will be interpreted as an array index, `arr[np.array(seq)]`, which will result either in an error or a different result.\n",
      "  print(X[[range(0,6)]])\n",
      "/tmp/ipykernel_206/2572236212.py:5: FutureWarning: Using a non-tuple sequence for multidimensional indexing is deprecated; use `arr[tuple(seq)]` instead of `arr[seq]`. In the future this will be interpreted as an array index, `arr[np.array(seq)]`, which will result either in an error or a different result.\n",
      "  print(X_obfuscated[[range(0,6)]])\n",
      "/tmp/ipykernel_206/2572236212.py:8: FutureWarning: Using a non-tuple sequence for multidimensional indexing is deprecated; use `arr[tuple(seq)]` instead of `arr[seq]`. In the future this will be interpreted as an array index, `arr[np.array(seq)]`, which will result either in an error or a different result.\n",
      "  recovered_X[[range(0,6)]]\n"
     ]
    },
    {
     "data": {
      "text/plain": [
       "array([[ 1.00000000e+00,  4.10000000e+01,  4.96000000e+04,\n",
       "         1.00000000e+00],\n",
       "       [ 1.67952800e-12,  4.60000000e+01,  3.80000000e+04,\n",
       "         1.00000000e+00],\n",
       "       [-6.23021448e-13,  2.90000000e+01,  2.10000000e+04,\n",
       "        -2.03032656e-13],\n",
       "       [-1.08907770e-12,  2.10000000e+01,  4.17000000e+04,\n",
       "         2.00000000e+00],\n",
       "       [ 1.00000000e+00,  2.80000000e+01,  2.61000000e+04,\n",
       "        -1.52424205e-12],\n",
       "       [ 1.00000000e+00,  4.30000000e+01,  4.10000000e+04,\n",
       "         2.00000000e+00]])"
      ]
     },
     "execution_count": 55,
     "metadata": {},
     "output_type": "execute_result"
    }
   ],
   "source": [
    "##### print('Original Clients\\'s Data')\n",
    "print(X[[range(0,6)]])\n",
    "print()\n",
    "print('Obfuscated Clients\\'s Data')\n",
    "print(X_obfuscated[[range(0,6)]])\n",
    "print()\n",
    "print('Recovered Clients\\'s Data ')\n",
    "recovered_X[[range(0,6)]]"
   ]
  },
  {
   "cell_type": "markdown",
   "metadata": {},
   "source": [
    "## Proof That Data Obfuscation Can Work with LR"
   ]
  },
  {
   "cell_type": "markdown",
   "metadata": {},
   "source": [
    "In this section, we proved _analytically_ that the given obfuscation method won't affect linear regression in terms of predicted values i.e. their values will remain the same. "
   ]
  },
  {
   "cell_type": "markdown",
   "metadata": {},
   "source": [
    "**Answer**\n",
    "The reason that $w$ and $w_p$ are linked if we simplify the $w_p$ formula, shown below,\n",
    "$$\n",
    "w = (X^T X)^{-1} X^T y \\quad \\Rightarrow \\quad w_P = [(XP)^T XP]^{-1} (XP)^T y\n",
    "$$\n",
    "\n",
    "is because $w$ and $w_p$ are both weight vectors. The former is in a simpe linear regression equation $Xw = y$. The latter is the weigh vector in a similar linear regression equation, $(XP)w_p = y_p$, where the featture matrix X is dot multiplied by matrix P. Similarly, $y_p$ in in the equation $(XP)w_p = y_p$ will be the predicted values. The predictions of the obfuscated trained data are exactly the same as the predictions of the model trained on the original data $ŷ_p = Xw = y $, and therefore the RMSE cannot change. "
   ]
  },
  {
   "cell_type": "markdown",
   "metadata": {},
   "source": [
    "**Analytical proof**"
   ]
  },
  {
   "cell_type": "markdown",
   "metadata": {},
   "source": [
    "$$\n",
    "\\quad w_P = [(XP)^T XP]^{-1} (XP)^T y\n",
    "$$\n",
    "$$\n",
    "\\quad w_P = [P^TX^TXP]^{-1} (XP)^T y\n",
    "$$\n",
    "$$\n",
    "\\quad w_P = [P^{-1} (X^TX)^{-1} (P^T)^{-1}](P^TX^T) y\n",
    "$$\n",
    "$$\n",
    "\\quad w_P = P^{-1} (X^TX)^{-1} (p^T)^{-1} (P^TX^T) y ...... (P^T)^{-1}P^T = I (square)$$\n",
    "\n",
    "$$\n",
    "\\quad w_P = P^{-1} (X^TX) X^T y ......(X^TX)^{-1}X^Ty=w\n",
    "$$\n",
    "$\n",
    "\\quad w_P = P^{-1}w\n",
    "$\n",
    "Expressing $w_p$ in terms of $w$. Then we can plug the above into predictions of the model trained on the obfuscated matrix below:\n",
    "$$\n",
    "\\quad ŷ_p = XPW_p\n",
    "$$\n",
    "\n",
    "$\n",
    "\\quad ŷ_p = XPW_p \n",
    "$, where $W_p = P^{-1}W$\n",
    "\n",
    "\n",
    "$\n",
    "\\quad ŷ_p = XPP^{-1}W\n",
    "$, where $PP^{-1}=1$ because it is a square\n",
    "\n",
    "\n",
    "$\n",
    "\\quad ŷ_p = XW=y \n",
    "$. \n",
    "\n",
    "The predictions of the model trained with obfuscated data are exactly the ame as the predictions of the model traine on the original data; therefore, the RMSE value cannot change. "
   ]
  },
  {
   "cell_type": "markdown",
   "metadata": {},
   "source": [
    "## Test Linear Regression With Data Obfuscation"
   ]
  },
  {
   "cell_type": "markdown",
   "metadata": {},
   "source": [
    "Now, let's prove Linear Regression can work computationally with the chosen obfuscation transformation.\n",
    "\n",
    "Build a procedure or a class that runs Linear Regression optionally with the obfuscation. You can use either a ready implementation of Linear Regression from sciki-learn or your own.\n",
    "\n",
    "Run Linear Regression for the original data and the obfuscated one, compare the predicted values and the RMSE, $R^2$ metric values. Is there any difference?"
   ]
  },
  {
   "cell_type": "markdown",
   "metadata": {},
   "source": [
    "**Procedure**\n",
    "\n",
    "- Create a square matrix $P$ of random numbers.\n",
    "- Check that it is invertible. If not, repeat the first point until we get an invertible matrix.\n",
    "- <! your comment here !>\n",
    "- Use $XP$ as the new feature matrix"
   ]
  },
  {
   "cell_type": "code",
   "execution_count": 56,
   "metadata": {},
   "outputs": [
    {
     "name": "stdout",
     "output_type": "stream",
     "text": [
      "[[0.22245154 0.51857997 0.07965397 0.57743971]\n",
      " [0.08612039 0.45528948 0.66768663 0.1285718 ]\n",
      " [0.92637048 0.93160417 0.47456721 0.71170853]\n",
      " [0.1434757  0.17340274 0.76906971 0.38564899]]\n",
      "\n",
      "inverse of P\n",
      "[[-1.88975286 -1.23841772  1.60495523  0.28052353]\n",
      " [ 0.92904537  2.115467   -0.13312874 -1.85066794]\n",
      " [-0.72193779  0.50223532 -0.02074704  0.95181914]\n",
      " [ 1.72502742 -1.49202748 -0.49586872  1.4226598 ]]\n",
      "Obsfucation Matrix is invertible!\n"
     ]
    }
   ],
   "source": [
    "#creating matrix of data\n",
    "personal_info_column_list = ['gender', 'age', 'income', 'family_members']\n",
    "df_pn = df[personal_info_column_list]\n",
    "df_X = df_pn.to_numpy()\n",
    "\n",
    "#creating obfuscation Matrix P\n",
    "rng = np.random.default_rng(seed=54)\n",
    "P = rng.random(size=(df_X.shape[1], df_X.shape[1]))\n",
    "print(P)\n",
    "print()\n",
    "#checking if obfuscaton matrix is invertible \n",
    "print('inverse of P')\n",
    "print(np.linalg.inv(P))\n",
    "print('Obsfucation Matrix is invertible!')"
   ]
  },
  {
   "cell_type": "code",
   "execution_count": 57,
   "metadata": {},
   "outputs": [],
   "source": [
    "class MyLinearRegression: \n",
    "    def __init__(self): \n",
    "        self.weights = None   \n",
    "    def fit(self, X, y):\n",
    "        \n",
    "        # adding the unities\n",
    "        X2 = np.append(np.ones([len(X), 1]), X, axis=1)\n",
    "        self.weights = np.linalg.inv(X2.T @ X2) @ X2.T @ y     \n",
    "    def predict(self, X):\n",
    "        \n",
    "        # adding the unities\n",
    "        X2 = np.append(np.ones([len(X), 1]), X, axis=1)\n",
    "        y_pred = X2 @ self.weights\n",
    "        \n",
    "        return y_pred"
   ]
  },
  {
   "cell_type": "code",
   "execution_count": 58,
   "metadata": {},
   "outputs": [],
   "source": [
    "def eval_regressor(y_true, y_pred):\n",
    "    \n",
    "    rmse = math.sqrt(sklearn.metrics.mean_squared_error(y_true, y_pred))\n",
    "    print(f'RMSE: {rmse:.2f}')\n",
    "    \n",
    "    r2_score = math.sqrt(sklearn.metrics.r2_score(y_true, y_pred))\n",
    "    print(f'R2: {r2_score:.2f}')    "
   ]
  },
  {
   "cell_type": "code",
   "execution_count": 59,
   "metadata": {},
   "outputs": [
    {
     "name": "stdout",
     "output_type": "stream",
     "text": [
      "[-0.84944635 -0.06380576  0.05320308 -0.03561467  0.03715765]\n",
      "RMSE: 0.34\n",
      "R2: 0.66\n"
     ]
    }
   ],
   "source": [
    "X = df[['age', 'gender', 'income', 'family_members']].to_numpy()\n",
    "y = df['insurance_benefits'].to_numpy()\n",
    "\n",
    "X_train, X_test, y_train, y_test = train_test_split(X, y, test_size=0.3, random_state=12345)\n",
    "\n",
    "X_train = X_train @ P\n",
    "X_test = X_test @ P\n",
    "\n",
    "\n",
    "lr = MyLinearRegression()\n",
    "\n",
    "lr.fit(X_train, y_train)\n",
    "print(lr.weights)\n",
    "\n",
    "y_test_pred = lr.predict(X_test)\n",
    "eval_regressor(y_test, y_test_pred)"
   ]
  },
  {
   "cell_type": "markdown",
   "metadata": {},
   "source": [
    "# Conclusions"
   ]
  },
  {
   "cell_type": "markdown",
   "metadata": {},
   "source": [
    "From task one we concluded that calculating manhattan distances, does not affect the distribution of distances significantly, independently of scaling the data. The pattern we noticed is that the distribution, compared to euclidean distance distribution, is shifted to the right. In other words, manhattan distances share a similar distribution to euclidean distances, but its center of distribution is located at a higher distance value. Similarly, from the resulting 10 nearest neighbors, we observed that scaled and non-scaled data selected different neighbors for each distance. For instance, non-scaled and scaled euclidean did not share any neighor in common; similarly, non-scaled and scaled manhattan did not share any neighbor in common. We can conclude that with unscaled data, if some feature has a much bigger magnitude than others (for example, income), it is weighed much more in the distance calculation than other features. Scaling makes all features weighed equally.\n",
    "\n",
    "\n",
    "From task 2, we concluded that for the non-sclaed data, we found that the F1 score tends to decrease when the __k__ number of neighbors increase, for both manhattan and euclidean distances. The distribution of F1 for scaled data, on the other hand, has a more uniform distribution, with k=1 having the highest F1 score for both euclidean and manhattan distances. The combination that had the highest F1 score was scaled_df, manhattan distance, and k=1 with an F1 score of 0.984985, compared to the hihest combination of non_scaled data (k=1, manhattan distance) which had a F1 score of 0.653199. To conclude, the KNN classifier model performed better than the Dummy model.  \n",
    "\n",
    "From task 3, we concluded that using an implementation of linear regression for non-scaled, resulted in an RMSE value of 0.34 and R2 values of 0.66. The scaled_df data also resulted in the same values for both metrics. This mean that our model, for both scaled and non-scaled data, the predictions are off by 0.34 points, on average, from the real values of insurance_benefits. We conclude that there is no difference in RMSE between scaled and non-scaled data after implementation of a Linear Regression model. Similarly, from task 4 we concluded that obfuscating the data does not change the RMSE metric value for our trained model compared to using the original data. The proof is show in section 'Proof That Data Obfuscation Can Work with LR'. "
   ]
  },
  {
   "cell_type": "markdown",
   "metadata": {},
   "source": [
    "# Appendices \n"
   ]
  },
  {
   "cell_type": "markdown",
   "metadata": {},
   "source": [
    "## Appendix B: Properties of Matrices"
   ]
  },
  {
   "cell_type": "markdown",
   "metadata": {},
   "source": [
    "Matrices have many properties in Linear Algebra. A few of them are listed here which can help with the analytical proof in this project."
   ]
  },
  {
   "cell_type": "markdown",
   "metadata": {},
   "source": [
    "<table>\n",
    "<tr>\n",
    "<td>Distributivity</td><td>$A(B+C)=AB+AC$</td>\n",
    "</tr>\n",
    "<tr>\n",
    "<td>Non-commutativity</td><td>$AB \\neq BA$</td>\n",
    "</tr>\n",
    "<tr>\n",
    "<td>Associative property of multiplication</td><td>$(AB)C = A(BC)$</td>\n",
    "</tr>\n",
    "<tr>\n",
    "<td>Multiplicative identity property</td><td>$IA = AI = A$</td>\n",
    "</tr>\n",
    "<tr>\n",
    "<td></td><td>$A^{-1}A = AA^{-1} = I$\n",
    "</td>\n",
    "</tr>    \n",
    "<tr>\n",
    "<td></td><td>$(AB)^{-1} = B^{-1}A^{-1}$</td>\n",
    "</tr>    \n",
    "<tr>\n",
    "<td>Reversivity of the transpose of a product of matrices,</td><td>$(AB)^T = B^TA^T$</td>\n",
    "</tr>    \n",
    "</table>"
   ]
  }
 ],
 "metadata": {
  "ExecuteTimeLog": [
   {
    "duration": 43,
    "start_time": "2022-07-12T20:44:31.398Z"
   },
   {
    "duration": 1634,
    "start_time": "2022-07-12T20:44:38.780Z"
   },
   {
    "duration": 145,
    "start_time": "2022-07-12T20:44:40.415Z"
   },
   {
    "duration": 4,
    "start_time": "2022-07-12T20:44:40.562Z"
   },
   {
    "duration": 21,
    "start_time": "2022-07-12T20:44:40.569Z"
   },
   {
    "duration": 15,
    "start_time": "2022-07-12T20:44:40.592Z"
   },
   {
    "duration": 7,
    "start_time": "2022-07-12T20:44:40.609Z"
   },
   {
    "duration": 11,
    "start_time": "2022-07-12T20:44:40.618Z"
   },
   {
    "duration": 7,
    "start_time": "2022-07-12T20:44:40.631Z"
   },
   {
    "duration": 3550,
    "start_time": "2022-07-12T20:44:40.640Z"
   },
   {
    "duration": 4,
    "start_time": "2022-07-12T20:44:44.197Z"
   },
   {
    "duration": 80,
    "start_time": "2022-07-12T20:44:44.203Z"
   },
   {
    "duration": 0,
    "start_time": "2022-07-12T20:44:44.286Z"
   },
   {
    "duration": 0,
    "start_time": "2022-07-12T20:44:44.288Z"
   },
   {
    "duration": 0,
    "start_time": "2022-07-12T20:44:44.290Z"
   },
   {
    "duration": 0,
    "start_time": "2022-07-12T20:44:44.292Z"
   },
   {
    "duration": 0,
    "start_time": "2022-07-12T20:44:44.294Z"
   },
   {
    "duration": 0,
    "start_time": "2022-07-12T20:44:44.296Z"
   },
   {
    "duration": 0,
    "start_time": "2022-07-12T20:44:44.299Z"
   },
   {
    "duration": 0,
    "start_time": "2022-07-12T20:44:44.300Z"
   },
   {
    "duration": 0,
    "start_time": "2022-07-12T20:44:44.302Z"
   },
   {
    "duration": 0,
    "start_time": "2022-07-12T20:44:44.304Z"
   },
   {
    "duration": 0,
    "start_time": "2022-07-12T20:44:44.306Z"
   },
   {
    "duration": 0,
    "start_time": "2022-07-12T20:44:44.307Z"
   },
   {
    "duration": 0,
    "start_time": "2022-07-12T20:44:44.309Z"
   },
   {
    "duration": 7,
    "start_time": "2022-07-12T20:55:43.730Z"
   },
   {
    "duration": 13,
    "start_time": "2022-07-12T20:56:04.128Z"
   },
   {
    "duration": 15,
    "start_time": "2022-07-12T20:57:07.519Z"
   },
   {
    "duration": 114,
    "start_time": "2022-07-12T20:57:40.779Z"
   },
   {
    "duration": 18,
    "start_time": "2022-07-12T20:57:45.359Z"
   },
   {
    "duration": 14,
    "start_time": "2022-07-12T20:59:06.704Z"
   },
   {
    "duration": 15,
    "start_time": "2022-07-12T20:59:35.338Z"
   },
   {
    "duration": 5,
    "start_time": "2022-07-12T21:01:21.721Z"
   },
   {
    "duration": 12,
    "start_time": "2022-07-12T21:06:50.519Z"
   },
   {
    "duration": 12,
    "start_time": "2022-07-12T21:07:11.514Z"
   },
   {
    "duration": 12,
    "start_time": "2022-07-12T21:07:25.772Z"
   },
   {
    "duration": 11,
    "start_time": "2022-07-12T21:07:31.788Z"
   },
   {
    "duration": 8,
    "start_time": "2022-07-12T21:07:58.821Z"
   },
   {
    "duration": 4,
    "start_time": "2022-07-12T21:08:04.582Z"
   },
   {
    "duration": 16,
    "start_time": "2022-07-12T21:08:08.647Z"
   },
   {
    "duration": 16,
    "start_time": "2022-07-12T21:08:22.519Z"
   },
   {
    "duration": 5,
    "start_time": "2022-07-12T21:09:06.145Z"
   },
   {
    "duration": 1343,
    "start_time": "2022-07-12T21:09:18.551Z"
   },
   {
    "duration": 30,
    "start_time": "2022-07-12T21:09:19.896Z"
   },
   {
    "duration": 3,
    "start_time": "2022-07-12T21:09:19.928Z"
   },
   {
    "duration": 17,
    "start_time": "2022-07-12T21:09:19.933Z"
   },
   {
    "duration": 12,
    "start_time": "2022-07-12T21:09:19.952Z"
   },
   {
    "duration": 14,
    "start_time": "2022-07-12T21:09:19.966Z"
   },
   {
    "duration": 21,
    "start_time": "2022-07-12T21:09:19.982Z"
   },
   {
    "duration": 13,
    "start_time": "2022-07-12T21:09:20.005Z"
   },
   {
    "duration": 8,
    "start_time": "2022-07-12T21:09:20.020Z"
   },
   {
    "duration": 3589,
    "start_time": "2022-07-12T21:09:20.031Z"
   },
   {
    "duration": 2,
    "start_time": "2022-07-12T21:09:23.622Z"
   },
   {
    "duration": 75,
    "start_time": "2022-07-12T21:09:23.626Z"
   },
   {
    "duration": 0,
    "start_time": "2022-07-12T21:09:23.703Z"
   },
   {
    "duration": 0,
    "start_time": "2022-07-12T21:09:23.704Z"
   },
   {
    "duration": 0,
    "start_time": "2022-07-12T21:09:23.705Z"
   },
   {
    "duration": 0,
    "start_time": "2022-07-12T21:09:23.706Z"
   },
   {
    "duration": 0,
    "start_time": "2022-07-12T21:09:23.707Z"
   },
   {
    "duration": 0,
    "start_time": "2022-07-12T21:09:23.708Z"
   },
   {
    "duration": 0,
    "start_time": "2022-07-12T21:09:23.709Z"
   },
   {
    "duration": 0,
    "start_time": "2022-07-12T21:09:23.711Z"
   },
   {
    "duration": 0,
    "start_time": "2022-07-12T21:09:23.712Z"
   },
   {
    "duration": 0,
    "start_time": "2022-07-12T21:09:23.713Z"
   },
   {
    "duration": 0,
    "start_time": "2022-07-12T21:09:23.714Z"
   },
   {
    "duration": 0,
    "start_time": "2022-07-12T21:09:23.716Z"
   },
   {
    "duration": 0,
    "start_time": "2022-07-12T21:09:23.717Z"
   },
   {
    "duration": 6,
    "start_time": "2022-07-12T21:09:32.748Z"
   },
   {
    "duration": 1721,
    "start_time": "2022-07-13T18:02:07.174Z"
   },
   {
    "duration": 112,
    "start_time": "2022-07-13T18:02:08.897Z"
   },
   {
    "duration": 6,
    "start_time": "2022-07-13T18:02:09.015Z"
   },
   {
    "duration": 19,
    "start_time": "2022-07-13T18:02:09.023Z"
   },
   {
    "duration": 13,
    "start_time": "2022-07-13T18:02:09.043Z"
   },
   {
    "duration": 16,
    "start_time": "2022-07-13T18:02:09.057Z"
   },
   {
    "duration": 9,
    "start_time": "2022-07-13T18:02:09.075Z"
   },
   {
    "duration": 5,
    "start_time": "2022-07-13T18:02:09.085Z"
   },
   {
    "duration": 12,
    "start_time": "2022-07-13T18:02:09.092Z"
   },
   {
    "duration": 16,
    "start_time": "2022-07-13T18:02:09.107Z"
   },
   {
    "duration": 3852,
    "start_time": "2022-07-13T18:02:09.125Z"
   },
   {
    "duration": 2,
    "start_time": "2022-07-13T18:02:12.979Z"
   },
   {
    "duration": 80,
    "start_time": "2022-07-13T18:02:12.983Z"
   },
   {
    "duration": 0,
    "start_time": "2022-07-13T18:02:13.064Z"
   },
   {
    "duration": 0,
    "start_time": "2022-07-13T18:02:13.065Z"
   },
   {
    "duration": 0,
    "start_time": "2022-07-13T18:02:13.066Z"
   },
   {
    "duration": 0,
    "start_time": "2022-07-13T18:02:13.067Z"
   },
   {
    "duration": 0,
    "start_time": "2022-07-13T18:02:13.069Z"
   },
   {
    "duration": 0,
    "start_time": "2022-07-13T18:02:13.070Z"
   },
   {
    "duration": 0,
    "start_time": "2022-07-13T18:02:13.072Z"
   },
   {
    "duration": 0,
    "start_time": "2022-07-13T18:02:13.073Z"
   },
   {
    "duration": 0,
    "start_time": "2022-07-13T18:02:13.074Z"
   },
   {
    "duration": 0,
    "start_time": "2022-07-13T18:02:13.075Z"
   },
   {
    "duration": 0,
    "start_time": "2022-07-13T18:02:13.076Z"
   },
   {
    "duration": 0,
    "start_time": "2022-07-13T18:02:13.077Z"
   },
   {
    "duration": 0,
    "start_time": "2022-07-13T18:02:13.078Z"
   },
   {
    "duration": 5,
    "start_time": "2022-07-13T18:02:30.517Z"
   },
   {
    "duration": 111,
    "start_time": "2022-07-13T18:02:38.349Z"
   },
   {
    "duration": 10,
    "start_time": "2022-07-13T18:02:46.754Z"
   },
   {
    "duration": 11,
    "start_time": "2022-07-13T18:02:56.471Z"
   },
   {
    "duration": 6,
    "start_time": "2022-07-13T18:02:59.302Z"
   },
   {
    "duration": 9,
    "start_time": "2022-07-13T18:03:19.240Z"
   },
   {
    "duration": 11,
    "start_time": "2022-07-13T18:03:27.776Z"
   },
   {
    "duration": 4,
    "start_time": "2022-07-13T18:03:34.578Z"
   },
   {
    "duration": 4,
    "start_time": "2022-07-13T18:03:45.551Z"
   },
   {
    "duration": 5,
    "start_time": "2022-07-13T18:04:16.562Z"
   },
   {
    "duration": 11,
    "start_time": "2022-07-13T18:05:06.581Z"
   },
   {
    "duration": 5,
    "start_time": "2022-07-13T18:05:26.746Z"
   },
   {
    "duration": 43,
    "start_time": "2022-07-13T18:21:48.428Z"
   },
   {
    "duration": 14,
    "start_time": "2022-07-13T18:21:58.658Z"
   },
   {
    "duration": 17,
    "start_time": "2022-07-13T18:22:05.339Z"
   },
   {
    "duration": 1619,
    "start_time": "2022-07-13T19:27:52.117Z"
   },
   {
    "duration": 32,
    "start_time": "2022-07-13T19:27:53.739Z"
   },
   {
    "duration": 4,
    "start_time": "2022-07-13T19:27:53.774Z"
   },
   {
    "duration": 48,
    "start_time": "2022-07-13T19:27:53.780Z"
   },
   {
    "duration": 16,
    "start_time": "2022-07-13T19:27:53.829Z"
   },
   {
    "duration": 5,
    "start_time": "2022-07-13T19:27:53.847Z"
   },
   {
    "duration": 24,
    "start_time": "2022-07-13T19:27:53.855Z"
   },
   {
    "duration": 14,
    "start_time": "2022-07-13T19:27:53.881Z"
   },
   {
    "duration": 30,
    "start_time": "2022-07-13T19:27:53.897Z"
   },
   {
    "duration": 8,
    "start_time": "2022-07-13T19:27:53.930Z"
   },
   {
    "duration": 4246,
    "start_time": "2022-07-13T19:27:53.939Z"
   },
   {
    "duration": 3,
    "start_time": "2022-07-13T19:27:58.187Z"
   },
   {
    "duration": 73,
    "start_time": "2022-07-13T19:27:58.192Z"
   },
   {
    "duration": 0,
    "start_time": "2022-07-13T19:27:58.266Z"
   },
   {
    "duration": 0,
    "start_time": "2022-07-13T19:27:58.268Z"
   },
   {
    "duration": 0,
    "start_time": "2022-07-13T19:27:58.268Z"
   },
   {
    "duration": 0,
    "start_time": "2022-07-13T19:27:58.269Z"
   },
   {
    "duration": 0,
    "start_time": "2022-07-13T19:27:58.270Z"
   },
   {
    "duration": 0,
    "start_time": "2022-07-13T19:27:58.271Z"
   },
   {
    "duration": 0,
    "start_time": "2022-07-13T19:27:58.272Z"
   },
   {
    "duration": 0,
    "start_time": "2022-07-13T19:27:58.273Z"
   },
   {
    "duration": 0,
    "start_time": "2022-07-13T19:27:58.274Z"
   },
   {
    "duration": 0,
    "start_time": "2022-07-13T19:27:58.275Z"
   },
   {
    "duration": 0,
    "start_time": "2022-07-13T19:27:58.276Z"
   },
   {
    "duration": 0,
    "start_time": "2022-07-13T19:27:58.278Z"
   },
   {
    "duration": 0,
    "start_time": "2022-07-13T19:27:58.279Z"
   },
   {
    "duration": 18,
    "start_time": "2022-07-13T19:29:04.064Z"
   },
   {
    "duration": 16,
    "start_time": "2022-07-13T19:30:35.435Z"
   },
   {
    "duration": 5,
    "start_time": "2022-07-13T19:30:44.246Z"
   },
   {
    "duration": 148,
    "start_time": "2022-07-13T19:31:15.178Z"
   },
   {
    "duration": 1617,
    "start_time": "2022-07-13T19:31:28.071Z"
   },
   {
    "duration": 47,
    "start_time": "2022-07-13T19:31:29.690Z"
   },
   {
    "duration": 4,
    "start_time": "2022-07-13T19:31:29.739Z"
   },
   {
    "duration": 23,
    "start_time": "2022-07-13T19:31:29.745Z"
   },
   {
    "duration": 16,
    "start_time": "2022-07-13T19:31:29.771Z"
   },
   {
    "duration": 17,
    "start_time": "2022-07-13T19:31:29.789Z"
   },
   {
    "duration": 33,
    "start_time": "2022-07-13T19:31:29.808Z"
   },
   {
    "duration": 11,
    "start_time": "2022-07-13T19:31:29.843Z"
   },
   {
    "duration": 31,
    "start_time": "2022-07-13T19:31:29.856Z"
   },
   {
    "duration": 36,
    "start_time": "2022-07-13T19:31:29.889Z"
   },
   {
    "duration": 18,
    "start_time": "2022-07-13T19:31:29.928Z"
   },
   {
    "duration": 4423,
    "start_time": "2022-07-13T19:31:29.948Z"
   },
   {
    "duration": 3,
    "start_time": "2022-07-13T19:31:34.373Z"
   },
   {
    "duration": 88,
    "start_time": "2022-07-13T19:31:34.378Z"
   },
   {
    "duration": 0,
    "start_time": "2022-07-13T19:31:34.468Z"
   },
   {
    "duration": 0,
    "start_time": "2022-07-13T19:31:34.469Z"
   },
   {
    "duration": 0,
    "start_time": "2022-07-13T19:31:34.470Z"
   },
   {
    "duration": 0,
    "start_time": "2022-07-13T19:31:34.471Z"
   },
   {
    "duration": 0,
    "start_time": "2022-07-13T19:31:34.472Z"
   },
   {
    "duration": 0,
    "start_time": "2022-07-13T19:31:34.474Z"
   },
   {
    "duration": 0,
    "start_time": "2022-07-13T19:31:34.475Z"
   },
   {
    "duration": 0,
    "start_time": "2022-07-13T19:31:34.476Z"
   },
   {
    "duration": 0,
    "start_time": "2022-07-13T19:31:34.477Z"
   },
   {
    "duration": 0,
    "start_time": "2022-07-13T19:31:34.478Z"
   },
   {
    "duration": 0,
    "start_time": "2022-07-13T19:31:34.479Z"
   },
   {
    "duration": 0,
    "start_time": "2022-07-13T19:31:34.481Z"
   },
   {
    "duration": 0,
    "start_time": "2022-07-13T19:31:34.482Z"
   },
   {
    "duration": 1638,
    "start_time": "2022-07-13T19:31:56.334Z"
   },
   {
    "duration": 32,
    "start_time": "2022-07-13T19:31:57.974Z"
   },
   {
    "duration": 5,
    "start_time": "2022-07-13T19:31:58.008Z"
   },
   {
    "duration": 40,
    "start_time": "2022-07-13T19:31:58.018Z"
   },
   {
    "duration": 11,
    "start_time": "2022-07-13T19:31:58.060Z"
   },
   {
    "duration": 4,
    "start_time": "2022-07-13T19:31:58.073Z"
   },
   {
    "duration": 8,
    "start_time": "2022-07-13T19:31:58.079Z"
   },
   {
    "duration": 6,
    "start_time": "2022-07-13T19:31:58.089Z"
   },
   {
    "duration": 50,
    "start_time": "2022-07-13T19:31:58.097Z"
   },
   {
    "duration": 13,
    "start_time": "2022-07-13T19:31:58.151Z"
   },
   {
    "duration": 2,
    "start_time": "2022-07-13T19:31:58.166Z"
   },
   {
    "duration": 4711,
    "start_time": "2022-07-13T19:31:58.170Z"
   },
   {
    "duration": 4,
    "start_time": "2022-07-13T19:32:02.882Z"
   },
   {
    "duration": 86,
    "start_time": "2022-07-13T19:32:02.888Z"
   },
   {
    "duration": 0,
    "start_time": "2022-07-13T19:32:02.977Z"
   },
   {
    "duration": 0,
    "start_time": "2022-07-13T19:32:02.979Z"
   },
   {
    "duration": 0,
    "start_time": "2022-07-13T19:32:02.981Z"
   },
   {
    "duration": 0,
    "start_time": "2022-07-13T19:32:02.983Z"
   },
   {
    "duration": 0,
    "start_time": "2022-07-13T19:32:02.984Z"
   },
   {
    "duration": 0,
    "start_time": "2022-07-13T19:32:02.986Z"
   },
   {
    "duration": 0,
    "start_time": "2022-07-13T19:32:02.988Z"
   },
   {
    "duration": 0,
    "start_time": "2022-07-13T19:32:02.990Z"
   },
   {
    "duration": 0,
    "start_time": "2022-07-13T19:32:02.992Z"
   },
   {
    "duration": 0,
    "start_time": "2022-07-13T19:32:02.993Z"
   },
   {
    "duration": 1,
    "start_time": "2022-07-13T19:32:02.994Z"
   },
   {
    "duration": 0,
    "start_time": "2022-07-13T19:32:02.996Z"
   },
   {
    "duration": 0,
    "start_time": "2022-07-13T19:32:02.997Z"
   },
   {
    "duration": 5,
    "start_time": "2022-07-13T19:36:04.387Z"
   },
   {
    "duration": 4,
    "start_time": "2022-07-13T19:37:59.960Z"
   },
   {
    "duration": 5,
    "start_time": "2022-07-13T19:38:14.666Z"
   },
   {
    "duration": 20,
    "start_time": "2022-07-13T19:39:51.326Z"
   },
   {
    "duration": 15,
    "start_time": "2022-07-13T19:41:32.130Z"
   },
   {
    "duration": 6,
    "start_time": "2022-07-13T19:42:15.026Z"
   },
   {
    "duration": 20,
    "start_time": "2022-07-13T19:45:08.973Z"
   },
   {
    "duration": 8,
    "start_time": "2022-07-13T19:47:29.604Z"
   },
   {
    "duration": 14,
    "start_time": "2022-07-13T19:49:16.663Z"
   },
   {
    "duration": 4,
    "start_time": "2022-07-13T20:14:18.074Z"
   },
   {
    "duration": 5,
    "start_time": "2022-07-13T20:17:06.916Z"
   },
   {
    "duration": 31,
    "start_time": "2022-07-13T20:18:34.477Z"
   },
   {
    "duration": 17,
    "start_time": "2022-07-13T20:21:32.159Z"
   },
   {
    "duration": 44,
    "start_time": "2022-07-13T20:23:08.562Z"
   },
   {
    "duration": 1509,
    "start_time": "2022-07-13T20:23:30.822Z"
   },
   {
    "duration": 31,
    "start_time": "2022-07-13T20:23:32.333Z"
   },
   {
    "duration": 4,
    "start_time": "2022-07-13T20:23:32.365Z"
   },
   {
    "duration": 30,
    "start_time": "2022-07-13T20:23:32.371Z"
   },
   {
    "duration": 27,
    "start_time": "2022-07-13T20:23:32.403Z"
   },
   {
    "duration": 4,
    "start_time": "2022-07-13T20:23:32.432Z"
   },
   {
    "duration": 10,
    "start_time": "2022-07-13T20:23:32.438Z"
   },
   {
    "duration": 6,
    "start_time": "2022-07-13T20:23:32.449Z"
   },
   {
    "duration": 20,
    "start_time": "2022-07-13T20:23:32.456Z"
   },
   {
    "duration": 12,
    "start_time": "2022-07-13T20:23:32.479Z"
   },
   {
    "duration": 6,
    "start_time": "2022-07-13T20:23:32.506Z"
   },
   {
    "duration": 28,
    "start_time": "2022-07-13T20:23:32.514Z"
   },
   {
    "duration": 11,
    "start_time": "2022-07-13T20:23:32.543Z"
   },
   {
    "duration": 9,
    "start_time": "2022-07-13T20:23:32.556Z"
   },
   {
    "duration": 12,
    "start_time": "2022-07-13T20:23:32.566Z"
   },
   {
    "duration": 25,
    "start_time": "2022-07-13T20:23:32.580Z"
   },
   {
    "duration": 4028,
    "start_time": "2022-07-13T20:23:32.607Z"
   },
   {
    "duration": 4,
    "start_time": "2022-07-13T20:23:36.638Z"
   },
   {
    "duration": 12,
    "start_time": "2022-07-13T20:23:36.643Z"
   },
   {
    "duration": 54,
    "start_time": "2022-07-13T20:23:36.656Z"
   },
   {
    "duration": 108,
    "start_time": "2022-07-13T20:23:36.712Z"
   },
   {
    "duration": 14,
    "start_time": "2022-07-13T20:23:36.822Z"
   },
   {
    "duration": 10,
    "start_time": "2022-07-13T20:23:36.837Z"
   },
   {
    "duration": 78,
    "start_time": "2022-07-13T20:23:36.849Z"
   },
   {
    "duration": 0,
    "start_time": "2022-07-13T20:23:36.929Z"
   },
   {
    "duration": 0,
    "start_time": "2022-07-13T20:23:36.930Z"
   },
   {
    "duration": 0,
    "start_time": "2022-07-13T20:23:36.931Z"
   },
   {
    "duration": 0,
    "start_time": "2022-07-13T20:23:36.932Z"
   },
   {
    "duration": 0,
    "start_time": "2022-07-13T20:23:36.933Z"
   },
   {
    "duration": 0,
    "start_time": "2022-07-13T20:23:36.934Z"
   },
   {
    "duration": 0,
    "start_time": "2022-07-13T20:23:36.935Z"
   },
   {
    "duration": 0,
    "start_time": "2022-07-13T20:23:36.936Z"
   },
   {
    "duration": 0,
    "start_time": "2022-07-13T20:23:36.938Z"
   },
   {
    "duration": 0,
    "start_time": "2022-07-13T20:23:36.939Z"
   },
   {
    "duration": 64,
    "start_time": "2022-07-13T20:27:26.557Z"
   },
   {
    "duration": 76,
    "start_time": "2022-07-13T20:27:31.929Z"
   },
   {
    "duration": 9,
    "start_time": "2022-07-13T20:28:23.479Z"
   },
   {
    "duration": 14,
    "start_time": "2022-07-13T20:28:40.988Z"
   },
   {
    "duration": 13,
    "start_time": "2022-07-13T20:29:18.285Z"
   },
   {
    "duration": 1484,
    "start_time": "2022-07-13T20:29:26.215Z"
   },
   {
    "duration": 41,
    "start_time": "2022-07-13T20:29:27.701Z"
   },
   {
    "duration": 4,
    "start_time": "2022-07-13T20:29:27.743Z"
   },
   {
    "duration": 16,
    "start_time": "2022-07-13T20:29:27.749Z"
   },
   {
    "duration": 11,
    "start_time": "2022-07-13T20:29:27.767Z"
   },
   {
    "duration": 9,
    "start_time": "2022-07-13T20:29:27.779Z"
   },
   {
    "duration": 32,
    "start_time": "2022-07-13T20:29:27.789Z"
   },
   {
    "duration": 8,
    "start_time": "2022-07-13T20:29:27.823Z"
   },
   {
    "duration": 18,
    "start_time": "2022-07-13T20:29:27.832Z"
   },
   {
    "duration": 9,
    "start_time": "2022-07-13T20:29:27.852Z"
   },
   {
    "duration": 4,
    "start_time": "2022-07-13T20:29:27.863Z"
   },
   {
    "duration": 23,
    "start_time": "2022-07-13T20:29:27.868Z"
   },
   {
    "duration": 19,
    "start_time": "2022-07-13T20:29:27.893Z"
   },
   {
    "duration": 11,
    "start_time": "2022-07-13T20:29:27.914Z"
   },
   {
    "duration": 4,
    "start_time": "2022-07-13T20:29:27.927Z"
   },
   {
    "duration": 15,
    "start_time": "2022-07-13T20:29:27.933Z"
   },
   {
    "duration": 3970,
    "start_time": "2022-07-13T20:29:27.949Z"
   },
   {
    "duration": 3,
    "start_time": "2022-07-13T20:29:31.921Z"
   },
   {
    "duration": 11,
    "start_time": "2022-07-13T20:29:31.926Z"
   },
   {
    "duration": 74,
    "start_time": "2022-07-13T20:29:31.938Z"
   },
   {
    "duration": 0,
    "start_time": "2022-07-13T20:29:32.015Z"
   },
   {
    "duration": 0,
    "start_time": "2022-07-13T20:29:32.017Z"
   },
   {
    "duration": 0,
    "start_time": "2022-07-13T20:29:32.019Z"
   },
   {
    "duration": 0,
    "start_time": "2022-07-13T20:29:32.020Z"
   },
   {
    "duration": 0,
    "start_time": "2022-07-13T20:29:32.021Z"
   },
   {
    "duration": 0,
    "start_time": "2022-07-13T20:29:32.023Z"
   },
   {
    "duration": 0,
    "start_time": "2022-07-13T20:29:32.024Z"
   },
   {
    "duration": 0,
    "start_time": "2022-07-13T20:29:32.025Z"
   },
   {
    "duration": 0,
    "start_time": "2022-07-13T20:29:32.027Z"
   },
   {
    "duration": 0,
    "start_time": "2022-07-13T20:29:32.029Z"
   },
   {
    "duration": 0,
    "start_time": "2022-07-13T20:29:32.030Z"
   },
   {
    "duration": 0,
    "start_time": "2022-07-13T20:29:32.031Z"
   },
   {
    "duration": 0,
    "start_time": "2022-07-13T20:29:32.032Z"
   },
   {
    "duration": 0,
    "start_time": "2022-07-13T20:29:32.034Z"
   },
   {
    "duration": 82,
    "start_time": "2022-07-13T20:29:48.239Z"
   },
   {
    "duration": 64,
    "start_time": "2022-07-13T22:44:22.982Z"
   },
   {
    "duration": 1855,
    "start_time": "2022-07-13T22:44:31.188Z"
   },
   {
    "duration": 116,
    "start_time": "2022-07-13T22:44:33.045Z"
   },
   {
    "duration": 5,
    "start_time": "2022-07-13T22:44:33.162Z"
   },
   {
    "duration": 24,
    "start_time": "2022-07-13T22:44:33.170Z"
   },
   {
    "duration": 19,
    "start_time": "2022-07-13T22:44:33.196Z"
   },
   {
    "duration": 31,
    "start_time": "2022-07-13T22:44:33.218Z"
   },
   {
    "duration": 10,
    "start_time": "2022-07-13T22:44:33.251Z"
   },
   {
    "duration": 5,
    "start_time": "2022-07-13T22:44:33.263Z"
   },
   {
    "duration": 23,
    "start_time": "2022-07-13T22:44:33.270Z"
   },
   {
    "duration": 16,
    "start_time": "2022-07-13T22:44:33.296Z"
   },
   {
    "duration": 15,
    "start_time": "2022-07-13T22:44:33.315Z"
   },
   {
    "duration": 20,
    "start_time": "2022-07-13T22:44:33.332Z"
   },
   {
    "duration": 11,
    "start_time": "2022-07-13T22:44:33.354Z"
   },
   {
    "duration": 34,
    "start_time": "2022-07-13T22:44:33.368Z"
   },
   {
    "duration": 20,
    "start_time": "2022-07-13T22:44:33.404Z"
   },
   {
    "duration": 15,
    "start_time": "2022-07-13T22:44:33.425Z"
   },
   {
    "duration": 4848,
    "start_time": "2022-07-13T22:44:33.442Z"
   },
   {
    "duration": 11,
    "start_time": "2022-07-13T22:44:38.292Z"
   },
   {
    "duration": 29,
    "start_time": "2022-07-13T22:44:38.304Z"
   },
   {
    "duration": 6,
    "start_time": "2022-07-13T22:44:38.336Z"
   },
   {
    "duration": 87,
    "start_time": "2022-07-13T22:44:38.344Z"
   },
   {
    "duration": 111,
    "start_time": "2022-07-13T22:44:38.434Z"
   },
   {
    "duration": 13,
    "start_time": "2022-07-13T22:44:38.546Z"
   },
   {
    "duration": 15,
    "start_time": "2022-07-13T22:44:38.561Z"
   },
   {
    "duration": 84,
    "start_time": "2022-07-13T22:44:38.578Z"
   },
   {
    "duration": 0,
    "start_time": "2022-07-13T22:44:38.665Z"
   },
   {
    "duration": 0,
    "start_time": "2022-07-13T22:44:38.667Z"
   },
   {
    "duration": 0,
    "start_time": "2022-07-13T22:44:38.669Z"
   },
   {
    "duration": 0,
    "start_time": "2022-07-13T22:44:38.670Z"
   },
   {
    "duration": 0,
    "start_time": "2022-07-13T22:44:38.672Z"
   },
   {
    "duration": 0,
    "start_time": "2022-07-13T22:44:38.674Z"
   },
   {
    "duration": 0,
    "start_time": "2022-07-13T22:44:38.675Z"
   },
   {
    "duration": 0,
    "start_time": "2022-07-13T22:44:38.677Z"
   },
   {
    "duration": 0,
    "start_time": "2022-07-13T22:44:38.679Z"
   },
   {
    "duration": 0,
    "start_time": "2022-07-13T22:44:38.680Z"
   },
   {
    "duration": 10,
    "start_time": "2022-07-13T22:44:54.712Z"
   },
   {
    "duration": 13,
    "start_time": "2022-07-13T22:45:09.842Z"
   },
   {
    "duration": 12,
    "start_time": "2022-07-13T22:46:33.847Z"
   },
   {
    "duration": 9,
    "start_time": "2022-07-13T22:46:42.109Z"
   },
   {
    "duration": 122,
    "start_time": "2022-07-13T22:46:53.794Z"
   },
   {
    "duration": 10,
    "start_time": "2022-07-13T22:46:59.152Z"
   },
   {
    "duration": 18,
    "start_time": "2022-07-13T22:47:07.838Z"
   },
   {
    "duration": 11,
    "start_time": "2022-07-13T22:47:14.594Z"
   },
   {
    "duration": 12,
    "start_time": "2022-07-13T22:48:07.442Z"
   },
   {
    "duration": 9,
    "start_time": "2022-07-13T22:48:14.478Z"
   },
   {
    "duration": 9,
    "start_time": "2022-07-13T22:48:20.167Z"
   },
   {
    "duration": 19,
    "start_time": "2022-07-13T22:48:26.395Z"
   },
   {
    "duration": 9,
    "start_time": "2022-07-13T22:48:30.287Z"
   },
   {
    "duration": 8,
    "start_time": "2022-07-13T22:48:34.882Z"
   },
   {
    "duration": 8,
    "start_time": "2022-07-13T22:48:41.815Z"
   },
   {
    "duration": 12,
    "start_time": "2022-07-13T22:48:45.399Z"
   },
   {
    "duration": 9,
    "start_time": "2022-07-13T22:48:49.055Z"
   },
   {
    "duration": 11,
    "start_time": "2022-07-13T22:49:27.586Z"
   },
   {
    "duration": 9,
    "start_time": "2022-07-13T22:49:33.390Z"
   },
   {
    "duration": 11,
    "start_time": "2022-07-13T22:49:44.395Z"
   },
   {
    "duration": 9,
    "start_time": "2022-07-13T22:49:54.149Z"
   },
   {
    "duration": 8,
    "start_time": "2022-07-13T22:50:52.642Z"
   },
   {
    "duration": 15,
    "start_time": "2022-07-13T22:50:58.363Z"
   },
   {
    "duration": 9,
    "start_time": "2022-07-13T22:51:28.935Z"
   },
   {
    "duration": 16,
    "start_time": "2022-07-13T22:51:35.223Z"
   },
   {
    "duration": 11,
    "start_time": "2022-07-13T22:51:41.323Z"
   },
   {
    "duration": 10,
    "start_time": "2022-07-13T22:51:46.784Z"
   },
   {
    "duration": 16,
    "start_time": "2022-07-13T22:52:04.236Z"
   },
   {
    "duration": 17,
    "start_time": "2022-07-13T22:52:08.379Z"
   },
   {
    "duration": 15,
    "start_time": "2022-07-13T22:52:12.336Z"
   },
   {
    "duration": 14,
    "start_time": "2022-07-13T22:52:43.447Z"
   },
   {
    "duration": 184,
    "start_time": "2022-07-13T22:53:10.714Z"
   },
   {
    "duration": 13,
    "start_time": "2022-07-13T22:53:17.230Z"
   },
   {
    "duration": 13,
    "start_time": "2022-07-13T22:53:26.554Z"
   },
   {
    "duration": 9,
    "start_time": "2022-07-13T22:53:40.082Z"
   },
   {
    "duration": 13,
    "start_time": "2022-07-13T22:53:48.341Z"
   },
   {
    "duration": 1317,
    "start_time": "2022-07-13T22:53:53.545Z"
   },
   {
    "duration": 9,
    "start_time": "2022-07-13T22:53:59.480Z"
   },
   {
    "duration": 12,
    "start_time": "2022-07-13T22:56:31.019Z"
   },
   {
    "duration": 11,
    "start_time": "2022-07-13T22:56:46.643Z"
   },
   {
    "duration": 15,
    "start_time": "2022-07-13T22:56:51.279Z"
   },
   {
    "duration": 9,
    "start_time": "2022-07-13T22:56:57.082Z"
   },
   {
    "duration": 10,
    "start_time": "2022-07-13T22:57:21.859Z"
   },
   {
    "duration": 13,
    "start_time": "2022-07-13T22:57:26.889Z"
   },
   {
    "duration": 13,
    "start_time": "2022-07-13T22:57:35.376Z"
   },
   {
    "duration": 8,
    "start_time": "2022-07-13T22:57:37.650Z"
   },
   {
    "duration": 13,
    "start_time": "2022-07-13T22:57:42.334Z"
   },
   {
    "duration": 14,
    "start_time": "2022-07-13T22:57:45.731Z"
   },
   {
    "duration": 9,
    "start_time": "2022-07-13T22:57:48.767Z"
   },
   {
    "duration": 8,
    "start_time": "2022-07-13T22:58:03.220Z"
   },
   {
    "duration": 13,
    "start_time": "2022-07-13T22:58:14.199Z"
   },
   {
    "duration": 14,
    "start_time": "2022-07-13T22:58:16.366Z"
   },
   {
    "duration": 15,
    "start_time": "2022-07-13T22:58:18.972Z"
   },
   {
    "duration": 8,
    "start_time": "2022-07-13T22:58:49.968Z"
   },
   {
    "duration": 19,
    "start_time": "2022-07-13T22:59:06.753Z"
   },
   {
    "duration": 14,
    "start_time": "2022-07-13T22:59:18.964Z"
   },
   {
    "duration": 9,
    "start_time": "2022-07-13T22:59:23.415Z"
   },
   {
    "duration": 10,
    "start_time": "2022-07-13T22:59:30.310Z"
   },
   {
    "duration": 14,
    "start_time": "2022-07-13T22:59:37.250Z"
   },
   {
    "duration": 9,
    "start_time": "2022-07-13T22:59:40.560Z"
   },
   {
    "duration": 18,
    "start_time": "2022-07-13T22:59:58.595Z"
   },
   {
    "duration": 7,
    "start_time": "2022-07-13T23:02:40.274Z"
   },
   {
    "duration": 10,
    "start_time": "2022-07-13T23:02:44.814Z"
   },
   {
    "duration": 8,
    "start_time": "2022-07-13T23:04:02.037Z"
   },
   {
    "duration": 8,
    "start_time": "2022-07-13T23:04:13.442Z"
   },
   {
    "duration": 6,
    "start_time": "2022-07-13T23:04:34.935Z"
   },
   {
    "duration": 8,
    "start_time": "2022-07-13T23:04:39.067Z"
   },
   {
    "duration": 9,
    "start_time": "2022-07-13T23:04:48.315Z"
   },
   {
    "duration": 14,
    "start_time": "2022-07-13T23:04:55.067Z"
   },
   {
    "duration": 14,
    "start_time": "2022-07-13T23:05:01.556Z"
   },
   {
    "duration": 14,
    "start_time": "2022-07-13T23:05:10.001Z"
   },
   {
    "duration": 15,
    "start_time": "2022-07-13T23:05:12.250Z"
   },
   {
    "duration": 8,
    "start_time": "2022-07-13T23:05:16.221Z"
   },
   {
    "duration": 9,
    "start_time": "2022-07-13T23:06:50.552Z"
   },
   {
    "duration": 10,
    "start_time": "2022-07-13T23:06:58.042Z"
   },
   {
    "duration": 8,
    "start_time": "2022-07-13T23:07:56.459Z"
   },
   {
    "duration": 9,
    "start_time": "2022-07-13T23:08:03.258Z"
   },
   {
    "duration": 82,
    "start_time": "2022-07-13T23:09:00.817Z"
   },
   {
    "duration": 15,
    "start_time": "2022-07-13T23:09:17.199Z"
   },
   {
    "duration": 17,
    "start_time": "2022-07-13T23:10:04.555Z"
   },
   {
    "duration": 15,
    "start_time": "2022-07-13T23:10:32.520Z"
   },
   {
    "duration": 8,
    "start_time": "2022-07-13T23:13:26.594Z"
   },
   {
    "duration": 27,
    "start_time": "2022-07-13T23:13:28.572Z"
   },
   {
    "duration": 43,
    "start_time": "2022-07-13T23:15:57.555Z"
   },
   {
    "duration": 16,
    "start_time": "2022-07-13T23:16:04.980Z"
   },
   {
    "duration": 218,
    "start_time": "2022-07-13T23:22:34.182Z"
   },
   {
    "duration": 54,
    "start_time": "2022-07-13T23:22:54.745Z"
   },
   {
    "duration": 26,
    "start_time": "2022-07-13T23:24:46.377Z"
   },
   {
    "duration": 19,
    "start_time": "2022-07-13T23:24:58.368Z"
   },
   {
    "duration": 81,
    "start_time": "2022-07-13T23:42:32.119Z"
   },
   {
    "duration": 22,
    "start_time": "2022-07-13T23:43:38.123Z"
   },
   {
    "duration": 23,
    "start_time": "2022-07-13T23:43:42.082Z"
   },
   {
    "duration": 1413,
    "start_time": "2022-07-13T23:43:50.729Z"
   },
   {
    "duration": 32,
    "start_time": "2022-07-13T23:43:52.144Z"
   },
   {
    "duration": 4,
    "start_time": "2022-07-13T23:43:52.178Z"
   },
   {
    "duration": 15,
    "start_time": "2022-07-13T23:43:52.185Z"
   },
   {
    "duration": 11,
    "start_time": "2022-07-13T23:43:52.202Z"
   },
   {
    "duration": 4,
    "start_time": "2022-07-13T23:43:52.215Z"
   },
   {
    "duration": 7,
    "start_time": "2022-07-13T23:43:52.221Z"
   },
   {
    "duration": 3,
    "start_time": "2022-07-13T23:43:52.229Z"
   },
   {
    "duration": 23,
    "start_time": "2022-07-13T23:43:52.234Z"
   },
   {
    "duration": 37,
    "start_time": "2022-07-13T23:43:52.261Z"
   },
   {
    "duration": 7,
    "start_time": "2022-07-13T23:43:52.300Z"
   },
   {
    "duration": 18,
    "start_time": "2022-07-13T23:43:52.309Z"
   },
   {
    "duration": 11,
    "start_time": "2022-07-13T23:43:52.328Z"
   },
   {
    "duration": 10,
    "start_time": "2022-07-13T23:43:52.340Z"
   },
   {
    "duration": 20,
    "start_time": "2022-07-13T23:43:52.352Z"
   },
   {
    "duration": 33,
    "start_time": "2022-07-13T23:43:52.374Z"
   },
   {
    "duration": 3947,
    "start_time": "2022-07-13T23:43:52.409Z"
   },
   {
    "duration": 8,
    "start_time": "2022-07-13T23:43:56.357Z"
   },
   {
    "duration": 6,
    "start_time": "2022-07-13T23:43:56.367Z"
   },
   {
    "duration": 8,
    "start_time": "2022-07-13T23:43:56.374Z"
   },
   {
    "duration": 116,
    "start_time": "2022-07-13T23:43:56.384Z"
   },
   {
    "duration": 116,
    "start_time": "2022-07-13T23:43:56.502Z"
   },
   {
    "duration": 14,
    "start_time": "2022-07-13T23:43:56.620Z"
   },
   {
    "duration": 24,
    "start_time": "2022-07-13T23:43:56.636Z"
   },
   {
    "duration": 151,
    "start_time": "2022-07-13T23:43:56.664Z"
   },
   {
    "duration": 99,
    "start_time": "2022-07-13T23:43:56.817Z"
   },
   {
    "duration": 73,
    "start_time": "2022-07-13T23:43:56.918Z"
   },
   {
    "duration": 0,
    "start_time": "2022-07-13T23:43:56.993Z"
   },
   {
    "duration": 0,
    "start_time": "2022-07-13T23:43:56.995Z"
   },
   {
    "duration": 0,
    "start_time": "2022-07-13T23:43:56.996Z"
   },
   {
    "duration": 0,
    "start_time": "2022-07-13T23:43:56.997Z"
   },
   {
    "duration": 0,
    "start_time": "2022-07-13T23:43:56.999Z"
   },
   {
    "duration": 0,
    "start_time": "2022-07-13T23:43:57.000Z"
   },
   {
    "duration": 0,
    "start_time": "2022-07-13T23:43:57.001Z"
   },
   {
    "duration": 0,
    "start_time": "2022-07-13T23:43:57.002Z"
   },
   {
    "duration": 0,
    "start_time": "2022-07-13T23:43:57.003Z"
   },
   {
    "duration": 0,
    "start_time": "2022-07-13T23:43:57.004Z"
   },
   {
    "duration": 5,
    "start_time": "2022-07-13T23:47:41.471Z"
   },
   {
    "duration": 126,
    "start_time": "2022-07-13T23:48:07.504Z"
   },
   {
    "duration": 12,
    "start_time": "2022-07-13T23:48:40.970Z"
   },
   {
    "duration": 1612,
    "start_time": "2022-07-14T01:01:26.593Z"
   },
   {
    "duration": 44,
    "start_time": "2022-07-14T01:01:28.207Z"
   },
   {
    "duration": 5,
    "start_time": "2022-07-14T01:01:28.253Z"
   },
   {
    "duration": 17,
    "start_time": "2022-07-14T01:01:28.260Z"
   },
   {
    "duration": 10,
    "start_time": "2022-07-14T01:01:28.279Z"
   },
   {
    "duration": 5,
    "start_time": "2022-07-14T01:01:28.290Z"
   },
   {
    "duration": 8,
    "start_time": "2022-07-14T01:01:28.296Z"
   },
   {
    "duration": 7,
    "start_time": "2022-07-14T01:01:28.305Z"
   },
   {
    "duration": 24,
    "start_time": "2022-07-14T01:01:28.313Z"
   },
   {
    "duration": 11,
    "start_time": "2022-07-14T01:01:28.339Z"
   },
   {
    "duration": 5,
    "start_time": "2022-07-14T01:01:28.351Z"
   },
   {
    "duration": 16,
    "start_time": "2022-07-14T01:01:28.358Z"
   },
   {
    "duration": 10,
    "start_time": "2022-07-14T01:01:28.400Z"
   },
   {
    "duration": 8,
    "start_time": "2022-07-14T01:01:28.412Z"
   },
   {
    "duration": 10,
    "start_time": "2022-07-14T01:01:28.421Z"
   },
   {
    "duration": 18,
    "start_time": "2022-07-14T01:01:28.432Z"
   },
   {
    "duration": 3646,
    "start_time": "2022-07-14T01:01:28.451Z"
   },
   {
    "duration": 8,
    "start_time": "2022-07-14T01:01:32.098Z"
   },
   {
    "duration": 11,
    "start_time": "2022-07-14T01:01:32.108Z"
   },
   {
    "duration": 10,
    "start_time": "2022-07-14T01:01:32.121Z"
   },
   {
    "duration": 70,
    "start_time": "2022-07-14T01:01:32.132Z"
   },
   {
    "duration": 105,
    "start_time": "2022-07-14T01:01:32.204Z"
   },
   {
    "duration": 32,
    "start_time": "2022-07-14T01:01:32.310Z"
   },
   {
    "duration": 14,
    "start_time": "2022-07-14T01:01:32.344Z"
   },
   {
    "duration": 143,
    "start_time": "2022-07-14T01:01:32.360Z"
   },
   {
    "duration": 21,
    "start_time": "2022-07-14T01:01:32.505Z"
   },
   {
    "duration": 7,
    "start_time": "2022-07-14T01:01:32.528Z"
   },
   {
    "duration": 45,
    "start_time": "2022-07-14T01:01:32.539Z"
   },
   {
    "duration": 0,
    "start_time": "2022-07-14T01:01:32.586Z"
   },
   {
    "duration": 0,
    "start_time": "2022-07-14T01:01:32.587Z"
   },
   {
    "duration": 0,
    "start_time": "2022-07-14T01:01:32.588Z"
   },
   {
    "duration": 0,
    "start_time": "2022-07-14T01:01:32.590Z"
   },
   {
    "duration": 0,
    "start_time": "2022-07-14T01:01:32.591Z"
   },
   {
    "duration": 0,
    "start_time": "2022-07-14T01:01:32.593Z"
   },
   {
    "duration": 0,
    "start_time": "2022-07-14T01:01:32.594Z"
   },
   {
    "duration": 0,
    "start_time": "2022-07-14T01:01:32.600Z"
   },
   {
    "duration": 0,
    "start_time": "2022-07-14T01:01:32.601Z"
   },
   {
    "duration": 0,
    "start_time": "2022-07-14T01:01:32.603Z"
   },
   {
    "duration": 103,
    "start_time": "2022-07-14T01:29:51.632Z"
   },
   {
    "duration": 7,
    "start_time": "2022-07-14T01:29:58.270Z"
   },
   {
    "duration": 20,
    "start_time": "2022-07-14T01:59:02.145Z"
   },
   {
    "duration": 7,
    "start_time": "2022-07-14T01:59:07.987Z"
   },
   {
    "duration": 9,
    "start_time": "2022-07-14T02:00:03.578Z"
   },
   {
    "duration": 3,
    "start_time": "2022-07-14T02:00:42.536Z"
   },
   {
    "duration": 187,
    "start_time": "2022-07-14T02:00:52.054Z"
   },
   {
    "duration": 137,
    "start_time": "2022-07-14T02:01:11.308Z"
   },
   {
    "duration": 161,
    "start_time": "2022-07-14T02:01:52.152Z"
   },
   {
    "duration": 159,
    "start_time": "2022-07-14T02:02:44.157Z"
   },
   {
    "duration": 0,
    "start_time": "2022-07-14T17:40:48.657Z"
   },
   {
    "duration": 0,
    "start_time": "2022-07-14T17:40:52.631Z"
   },
   {
    "duration": 1330,
    "start_time": "2022-07-14T17:40:54.481Z"
   },
   {
    "duration": 63,
    "start_time": "2022-07-14T17:40:55.813Z"
   },
   {
    "duration": 4,
    "start_time": "2022-07-14T17:40:55.878Z"
   },
   {
    "duration": 18,
    "start_time": "2022-07-14T17:40:55.884Z"
   },
   {
    "duration": 15,
    "start_time": "2022-07-14T17:40:55.904Z"
   },
   {
    "duration": 4,
    "start_time": "2022-07-14T17:40:55.921Z"
   },
   {
    "duration": 15,
    "start_time": "2022-07-14T17:40:55.926Z"
   },
   {
    "duration": 3,
    "start_time": "2022-07-14T17:40:55.943Z"
   },
   {
    "duration": 19,
    "start_time": "2022-07-14T17:40:55.948Z"
   },
   {
    "duration": 10,
    "start_time": "2022-07-14T17:40:55.970Z"
   },
   {
    "duration": 4,
    "start_time": "2022-07-14T17:40:55.981Z"
   },
   {
    "duration": 22,
    "start_time": "2022-07-14T17:40:55.987Z"
   },
   {
    "duration": 15,
    "start_time": "2022-07-14T17:40:56.011Z"
   },
   {
    "duration": 4,
    "start_time": "2022-07-14T17:40:56.027Z"
   },
   {
    "duration": 11,
    "start_time": "2022-07-14T17:40:56.033Z"
   },
   {
    "duration": 19,
    "start_time": "2022-07-14T17:40:56.045Z"
   },
   {
    "duration": 3553,
    "start_time": "2022-07-14T17:40:56.066Z"
   },
   {
    "duration": 9,
    "start_time": "2022-07-14T17:40:59.620Z"
   },
   {
    "duration": 7,
    "start_time": "2022-07-14T17:40:59.630Z"
   },
   {
    "duration": 11,
    "start_time": "2022-07-14T17:40:59.638Z"
   },
   {
    "duration": 181,
    "start_time": "2022-07-14T17:40:59.651Z"
   },
   {
    "duration": 17,
    "start_time": "2022-07-14T17:40:59.833Z"
   },
   {
    "duration": 5,
    "start_time": "2022-07-14T17:40:59.852Z"
   },
   {
    "duration": 11,
    "start_time": "2022-07-14T17:40:59.859Z"
   },
   {
    "duration": 9,
    "start_time": "2022-07-14T17:40:59.871Z"
   },
   {
    "duration": 150,
    "start_time": "2022-07-14T17:40:59.882Z"
   },
   {
    "duration": 106,
    "start_time": "2022-07-14T17:41:00.035Z"
   },
   {
    "duration": 6,
    "start_time": "2022-07-14T17:41:00.144Z"
   },
   {
    "duration": 291,
    "start_time": "2022-07-14T17:41:00.152Z"
   },
   {
    "duration": 0,
    "start_time": "2022-07-14T17:41:00.445Z"
   },
   {
    "duration": 0,
    "start_time": "2022-07-14T17:41:00.446Z"
   },
   {
    "duration": 0,
    "start_time": "2022-07-14T17:41:00.447Z"
   },
   {
    "duration": 0,
    "start_time": "2022-07-14T17:41:00.448Z"
   },
   {
    "duration": 0,
    "start_time": "2022-07-14T17:41:00.449Z"
   },
   {
    "duration": 0,
    "start_time": "2022-07-14T17:41:00.451Z"
   },
   {
    "duration": 0,
    "start_time": "2022-07-14T17:41:00.452Z"
   },
   {
    "duration": 1,
    "start_time": "2022-07-14T17:41:00.452Z"
   },
   {
    "duration": 1,
    "start_time": "2022-07-14T17:41:00.453Z"
   },
   {
    "duration": 0,
    "start_time": "2022-07-14T17:41:00.454Z"
   },
   {
    "duration": 0,
    "start_time": "2022-07-14T17:41:00.456Z"
   },
   {
    "duration": 317,
    "start_time": "2022-07-14T17:45:01.299Z"
   },
   {
    "duration": 150,
    "start_time": "2022-07-14T17:45:23.211Z"
   },
   {
    "duration": 267,
    "start_time": "2022-07-14T17:45:40.848Z"
   },
   {
    "duration": 155,
    "start_time": "2022-07-14T17:45:51.955Z"
   },
   {
    "duration": 140,
    "start_time": "2022-07-14T17:46:25.935Z"
   },
   {
    "duration": 110,
    "start_time": "2022-07-14T17:47:41.015Z"
   },
   {
    "duration": 179,
    "start_time": "2022-07-14T17:47:53.941Z"
   },
   {
    "duration": 154,
    "start_time": "2022-07-14T17:48:02.037Z"
   },
   {
    "duration": 138,
    "start_time": "2022-07-14T17:48:09.540Z"
   },
   {
    "duration": 147,
    "start_time": "2022-07-14T17:49:35.680Z"
   },
   {
    "duration": 147,
    "start_time": "2022-07-14T17:49:41.226Z"
   },
   {
    "duration": 162,
    "start_time": "2022-07-14T17:50:06.341Z"
   },
   {
    "duration": 190,
    "start_time": "2022-07-14T17:50:39.156Z"
   },
   {
    "duration": 177,
    "start_time": "2022-07-14T17:51:42.013Z"
   },
   {
    "duration": 1322,
    "start_time": "2022-07-14T18:26:15.777Z"
   },
   {
    "duration": 51,
    "start_time": "2022-07-14T18:26:17.101Z"
   },
   {
    "duration": 5,
    "start_time": "2022-07-14T18:26:17.155Z"
   },
   {
    "duration": 29,
    "start_time": "2022-07-14T18:26:17.163Z"
   },
   {
    "duration": 12,
    "start_time": "2022-07-14T18:26:17.195Z"
   },
   {
    "duration": 12,
    "start_time": "2022-07-14T18:26:17.210Z"
   },
   {
    "duration": 25,
    "start_time": "2022-07-14T18:26:17.225Z"
   },
   {
    "duration": 8,
    "start_time": "2022-07-14T18:26:17.252Z"
   },
   {
    "duration": 22,
    "start_time": "2022-07-14T18:26:17.262Z"
   },
   {
    "duration": 15,
    "start_time": "2022-07-14T18:26:17.287Z"
   },
   {
    "duration": 5,
    "start_time": "2022-07-14T18:26:17.305Z"
   },
   {
    "duration": 35,
    "start_time": "2022-07-14T18:26:17.312Z"
   },
   {
    "duration": 19,
    "start_time": "2022-07-14T18:26:17.351Z"
   },
   {
    "duration": 5,
    "start_time": "2022-07-14T18:26:17.372Z"
   },
   {
    "duration": 17,
    "start_time": "2022-07-14T18:26:17.379Z"
   },
   {
    "duration": 36,
    "start_time": "2022-07-14T18:26:17.398Z"
   },
   {
    "duration": 3699,
    "start_time": "2022-07-14T18:26:17.440Z"
   },
   {
    "duration": 9,
    "start_time": "2022-07-14T18:26:21.141Z"
   },
   {
    "duration": 5,
    "start_time": "2022-07-14T18:26:21.152Z"
   },
   {
    "duration": 7,
    "start_time": "2022-07-14T18:26:21.158Z"
   },
   {
    "duration": 75,
    "start_time": "2022-07-14T18:26:21.166Z"
   },
   {
    "duration": 22,
    "start_time": "2022-07-14T18:26:21.326Z"
   },
   {
    "duration": 6,
    "start_time": "2022-07-14T18:26:21.350Z"
   },
   {
    "duration": 14,
    "start_time": "2022-07-14T18:26:21.358Z"
   },
   {
    "duration": 9,
    "start_time": "2022-07-14T18:26:21.374Z"
   },
   {
    "duration": 56,
    "start_time": "2022-07-14T18:26:21.385Z"
   },
   {
    "duration": 115,
    "start_time": "2022-07-14T18:26:21.442Z"
   },
   {
    "duration": 5,
    "start_time": "2022-07-14T18:26:21.561Z"
   },
   {
    "duration": 213,
    "start_time": "2022-07-14T18:26:21.568Z"
   },
   {
    "duration": 210,
    "start_time": "2022-07-14T18:26:21.783Z"
   },
   {
    "duration": 63,
    "start_time": "2022-07-14T18:26:21.994Z"
   },
   {
    "duration": 0,
    "start_time": "2022-07-14T18:26:22.059Z"
   },
   {
    "duration": 0,
    "start_time": "2022-07-14T18:26:22.060Z"
   },
   {
    "duration": 0,
    "start_time": "2022-07-14T18:26:22.061Z"
   },
   {
    "duration": 0,
    "start_time": "2022-07-14T18:26:22.062Z"
   },
   {
    "duration": 0,
    "start_time": "2022-07-14T18:26:22.064Z"
   },
   {
    "duration": 0,
    "start_time": "2022-07-14T18:26:22.066Z"
   },
   {
    "duration": 0,
    "start_time": "2022-07-14T18:26:22.067Z"
   },
   {
    "duration": 0,
    "start_time": "2022-07-14T18:26:22.069Z"
   },
   {
    "duration": 0,
    "start_time": "2022-07-14T18:26:22.070Z"
   },
   {
    "duration": 0,
    "start_time": "2022-07-14T18:26:22.072Z"
   },
   {
    "duration": 12,
    "start_time": "2022-07-14T18:35:14.264Z"
   },
   {
    "duration": 6,
    "start_time": "2022-07-14T18:35:34.397Z"
   },
   {
    "duration": 7,
    "start_time": "2022-07-14T18:36:35.147Z"
   },
   {
    "duration": 11,
    "start_time": "2022-07-14T18:37:24.256Z"
   },
   {
    "duration": 18,
    "start_time": "2022-07-14T18:41:25.413Z"
   },
   {
    "duration": 10,
    "start_time": "2022-07-14T18:41:49.960Z"
   },
   {
    "duration": 111,
    "start_time": "2022-07-14T18:42:06.650Z"
   },
   {
    "duration": 12,
    "start_time": "2022-07-14T18:42:10.985Z"
   },
   {
    "duration": 14,
    "start_time": "2022-07-14T18:42:47.184Z"
   },
   {
    "duration": 15,
    "start_time": "2022-07-14T18:42:50.906Z"
   },
   {
    "duration": 15,
    "start_time": "2022-07-14T18:42:58.356Z"
   },
   {
    "duration": 8,
    "start_time": "2022-07-14T18:43:21.286Z"
   },
   {
    "duration": 4,
    "start_time": "2022-07-14T18:43:28.837Z"
   },
   {
    "duration": 14,
    "start_time": "2022-07-14T18:45:41.221Z"
   },
   {
    "duration": 12,
    "start_time": "2022-07-14T18:48:45.081Z"
   },
   {
    "duration": 93,
    "start_time": "2022-07-14T18:49:09.718Z"
   },
   {
    "duration": 114,
    "start_time": "2022-07-14T18:49:22.174Z"
   },
   {
    "duration": 218,
    "start_time": "2022-07-14T18:49:31.440Z"
   },
   {
    "duration": 104,
    "start_time": "2022-07-14T18:49:36.050Z"
   },
   {
    "duration": 133,
    "start_time": "2022-07-14T18:50:51.349Z"
   },
   {
    "duration": 13,
    "start_time": "2022-07-14T18:52:36.042Z"
   },
   {
    "duration": 3,
    "start_time": "2022-07-14T18:52:43.965Z"
   },
   {
    "duration": 4,
    "start_time": "2022-07-14T18:52:45.142Z"
   },
   {
    "duration": 45,
    "start_time": "2022-07-14T18:52:46.309Z"
   },
   {
    "duration": 29,
    "start_time": "2022-07-14T19:02:11.922Z"
   },
   {
    "duration": 28,
    "start_time": "2022-07-14T19:02:16.086Z"
   },
   {
    "duration": 9,
    "start_time": "2022-07-14T19:16:23.023Z"
   },
   {
    "duration": 402,
    "start_time": "2022-07-14T19:16:31.765Z"
   },
   {
    "duration": 5,
    "start_time": "2022-07-14T19:16:44.637Z"
   },
   {
    "duration": 11,
    "start_time": "2022-07-14T19:16:50.453Z"
   },
   {
    "duration": 5,
    "start_time": "2022-07-14T19:17:46.423Z"
   },
   {
    "duration": 11,
    "start_time": "2022-07-14T19:17:50.142Z"
   },
   {
    "duration": 7,
    "start_time": "2022-07-14T19:18:21.208Z"
   },
   {
    "duration": 9,
    "start_time": "2022-07-14T19:19:13.356Z"
   },
   {
    "duration": 5,
    "start_time": "2022-07-14T19:19:20.507Z"
   },
   {
    "duration": 7,
    "start_time": "2022-07-14T19:19:26.435Z"
   },
   {
    "duration": 6,
    "start_time": "2022-07-14T19:22:15.289Z"
   },
   {
    "duration": 8,
    "start_time": "2022-07-14T19:23:44.257Z"
   },
   {
    "duration": 9,
    "start_time": "2022-07-14T19:26:12.007Z"
   },
   {
    "duration": 9,
    "start_time": "2022-07-14T19:26:16.158Z"
   },
   {
    "duration": 4,
    "start_time": "2022-07-14T19:26:44.821Z"
   },
   {
    "duration": 1374,
    "start_time": "2022-07-14T19:26:50.389Z"
   },
   {
    "duration": 29,
    "start_time": "2022-07-14T19:26:51.765Z"
   },
   {
    "duration": 4,
    "start_time": "2022-07-14T19:26:51.795Z"
   },
   {
    "duration": 26,
    "start_time": "2022-07-14T19:26:51.800Z"
   },
   {
    "duration": 10,
    "start_time": "2022-07-14T19:26:51.827Z"
   },
   {
    "duration": 12,
    "start_time": "2022-07-14T19:26:51.839Z"
   },
   {
    "duration": 10,
    "start_time": "2022-07-14T19:26:51.852Z"
   },
   {
    "duration": 4,
    "start_time": "2022-07-14T19:26:51.863Z"
   },
   {
    "duration": 26,
    "start_time": "2022-07-14T19:26:51.868Z"
   },
   {
    "duration": 9,
    "start_time": "2022-07-14T19:26:51.897Z"
   },
   {
    "duration": 17,
    "start_time": "2022-07-14T19:26:51.908Z"
   },
   {
    "duration": 16,
    "start_time": "2022-07-14T19:26:51.926Z"
   },
   {
    "duration": 10,
    "start_time": "2022-07-14T19:26:51.944Z"
   },
   {
    "duration": 6,
    "start_time": "2022-07-14T19:26:51.955Z"
   },
   {
    "duration": 6,
    "start_time": "2022-07-14T19:26:51.963Z"
   },
   {
    "duration": 15,
    "start_time": "2022-07-14T19:26:51.970Z"
   },
   {
    "duration": 3582,
    "start_time": "2022-07-14T19:26:51.986Z"
   },
   {
    "duration": 8,
    "start_time": "2022-07-14T19:26:55.569Z"
   },
   {
    "duration": 10,
    "start_time": "2022-07-14T19:26:55.578Z"
   },
   {
    "duration": 12,
    "start_time": "2022-07-14T19:26:55.589Z"
   },
   {
    "duration": 129,
    "start_time": "2022-07-14T19:26:55.602Z"
   },
   {
    "duration": 108,
    "start_time": "2022-07-14T19:26:55.734Z"
   },
   {
    "duration": 10,
    "start_time": "2022-07-14T19:26:55.844Z"
   },
   {
    "duration": 12,
    "start_time": "2022-07-14T19:26:55.856Z"
   },
   {
    "duration": 10,
    "start_time": "2022-07-14T19:26:55.869Z"
   },
   {
    "duration": 145,
    "start_time": "2022-07-14T19:26:55.880Z"
   },
   {
    "duration": 20,
    "start_time": "2022-07-14T19:26:56.027Z"
   },
   {
    "duration": 6,
    "start_time": "2022-07-14T19:26:56.051Z"
   },
   {
    "duration": 233,
    "start_time": "2022-07-14T19:26:56.058Z"
   },
   {
    "duration": 204,
    "start_time": "2022-07-14T19:26:56.293Z"
   },
   {
    "duration": 4,
    "start_time": "2022-07-14T19:26:56.499Z"
   },
   {
    "duration": 137,
    "start_time": "2022-07-14T19:26:56.505Z"
   },
   {
    "duration": 4,
    "start_time": "2022-07-14T19:26:56.644Z"
   },
   {
    "duration": 8,
    "start_time": "2022-07-14T19:26:56.649Z"
   },
   {
    "duration": 32,
    "start_time": "2022-07-14T19:26:56.658Z"
   },
   {
    "duration": 32,
    "start_time": "2022-07-14T19:26:56.692Z"
   },
   {
    "duration": 3,
    "start_time": "2022-07-14T19:26:56.726Z"
   },
   {
    "duration": 48,
    "start_time": "2022-07-14T19:26:56.731Z"
   },
   {
    "duration": 0,
    "start_time": "2022-07-14T19:26:56.781Z"
   },
   {
    "duration": 0,
    "start_time": "2022-07-14T19:26:56.783Z"
   },
   {
    "duration": 0,
    "start_time": "2022-07-14T19:26:56.785Z"
   },
   {
    "duration": 0,
    "start_time": "2022-07-14T19:26:56.786Z"
   },
   {
    "duration": 0,
    "start_time": "2022-07-14T19:26:56.788Z"
   },
   {
    "duration": 8,
    "start_time": "2022-07-14T19:32:54.221Z"
   },
   {
    "duration": 102,
    "start_time": "2022-07-14T19:39:08.622Z"
   },
   {
    "duration": 4,
    "start_time": "2022-07-14T19:39:19.523Z"
   },
   {
    "duration": 3,
    "start_time": "2022-07-14T19:43:58.922Z"
   },
   {
    "duration": 60,
    "start_time": "2022-07-14T19:46:39.644Z"
   },
   {
    "duration": 9,
    "start_time": "2022-07-14T19:47:49.199Z"
   },
   {
    "duration": 1119,
    "start_time": "2022-07-14T19:47:56.243Z"
   },
   {
    "duration": 780,
    "start_time": "2022-07-14T19:48:05.819Z"
   },
   {
    "duration": 785,
    "start_time": "2022-07-14T19:48:14.687Z"
   },
   {
    "duration": 782,
    "start_time": "2022-07-14T19:48:42.787Z"
   },
   {
    "duration": 764,
    "start_time": "2022-07-14T19:50:28.061Z"
   },
   {
    "duration": 5,
    "start_time": "2022-07-14T19:50:34.582Z"
   },
   {
    "duration": 123,
    "start_time": "2022-07-14T19:50:47.126Z"
   },
   {
    "duration": 86,
    "start_time": "2022-07-14T19:50:57.325Z"
   },
   {
    "duration": 6,
    "start_time": "2022-07-14T19:51:03.133Z"
   },
   {
    "duration": 4,
    "start_time": "2022-07-14T19:51:06.264Z"
   },
   {
    "duration": 7,
    "start_time": "2022-07-14T19:51:32.124Z"
   },
   {
    "duration": 5,
    "start_time": "2022-07-14T19:52:20.892Z"
   },
   {
    "duration": 6,
    "start_time": "2022-07-14T19:52:27.500Z"
   },
   {
    "duration": 9,
    "start_time": "2022-07-14T19:52:35.960Z"
   },
   {
    "duration": 9,
    "start_time": "2022-07-14T19:53:20.783Z"
   },
   {
    "duration": 5,
    "start_time": "2022-07-14T19:53:51.632Z"
   },
   {
    "duration": 11,
    "start_time": "2022-07-14T19:54:34.373Z"
   },
   {
    "duration": 177,
    "start_time": "2022-07-14T19:55:17.030Z"
   },
   {
    "duration": 325,
    "start_time": "2022-07-14T19:55:31.517Z"
   },
   {
    "duration": 466,
    "start_time": "2022-07-14T19:55:57.131Z"
   },
   {
    "duration": 419,
    "start_time": "2022-07-14T19:56:28.618Z"
   },
   {
    "duration": 69,
    "start_time": "2022-07-14T19:57:05.753Z"
   },
   {
    "duration": 10,
    "start_time": "2022-07-14T19:57:17.951Z"
   },
   {
    "duration": 1742,
    "start_time": "2022-07-14T19:58:41.420Z"
   },
   {
    "duration": 1901,
    "start_time": "2022-07-14T19:58:56.113Z"
   },
   {
    "duration": 1764,
    "start_time": "2022-07-14T19:59:11.532Z"
   },
   {
    "duration": 13,
    "start_time": "2022-07-14T19:59:43.558Z"
   },
   {
    "duration": 21,
    "start_time": "2022-07-14T20:00:01.425Z"
   },
   {
    "duration": 14,
    "start_time": "2022-07-14T20:00:10.547Z"
   },
   {
    "duration": 15,
    "start_time": "2022-07-14T20:01:02.759Z"
   },
   {
    "duration": 200,
    "start_time": "2022-07-14T20:03:00.081Z"
   },
   {
    "duration": 407,
    "start_time": "2022-07-14T20:03:12.850Z"
   },
   {
    "duration": 408,
    "start_time": "2022-07-14T20:04:26.472Z"
   },
   {
    "duration": 1501,
    "start_time": "2022-07-15T00:16:17.032Z"
   },
   {
    "duration": 74,
    "start_time": "2022-07-15T00:16:18.536Z"
   },
   {
    "duration": 4,
    "start_time": "2022-07-15T00:16:18.611Z"
   },
   {
    "duration": 17,
    "start_time": "2022-07-15T00:16:18.617Z"
   },
   {
    "duration": 10,
    "start_time": "2022-07-15T00:16:18.636Z"
   },
   {
    "duration": 5,
    "start_time": "2022-07-15T00:16:18.648Z"
   },
   {
    "duration": 8,
    "start_time": "2022-07-15T00:16:18.654Z"
   },
   {
    "duration": 6,
    "start_time": "2022-07-15T00:16:18.663Z"
   },
   {
    "duration": 43,
    "start_time": "2022-07-15T00:16:18.670Z"
   },
   {
    "duration": 10,
    "start_time": "2022-07-15T00:16:18.715Z"
   },
   {
    "duration": 4,
    "start_time": "2022-07-15T00:16:18.727Z"
   },
   {
    "duration": 19,
    "start_time": "2022-07-15T00:16:18.732Z"
   },
   {
    "duration": 8,
    "start_time": "2022-07-15T00:16:18.753Z"
   },
   {
    "duration": 3,
    "start_time": "2022-07-15T00:16:18.762Z"
   },
   {
    "duration": 5,
    "start_time": "2022-07-15T00:16:18.767Z"
   },
   {
    "duration": 46,
    "start_time": "2022-07-15T00:16:18.774Z"
   },
   {
    "duration": 3556,
    "start_time": "2022-07-15T00:16:18.822Z"
   },
   {
    "duration": 8,
    "start_time": "2022-07-15T00:16:22.380Z"
   },
   {
    "duration": 4,
    "start_time": "2022-07-15T00:16:22.390Z"
   },
   {
    "duration": 21,
    "start_time": "2022-07-15T00:16:22.396Z"
   },
   {
    "duration": 98,
    "start_time": "2022-07-15T00:16:22.419Z"
   },
   {
    "duration": 109,
    "start_time": "2022-07-15T00:16:22.519Z"
   },
   {
    "duration": 5,
    "start_time": "2022-07-15T00:16:22.629Z"
   },
   {
    "duration": 10,
    "start_time": "2022-07-15T00:16:22.636Z"
   },
   {
    "duration": 9,
    "start_time": "2022-07-15T00:16:22.647Z"
   },
   {
    "duration": 158,
    "start_time": "2022-07-15T00:16:22.658Z"
   },
   {
    "duration": 18,
    "start_time": "2022-07-15T00:16:22.818Z"
   },
   {
    "duration": 13,
    "start_time": "2022-07-15T00:16:22.839Z"
   },
   {
    "duration": 209,
    "start_time": "2022-07-15T00:16:22.854Z"
   },
   {
    "duration": 192,
    "start_time": "2022-07-15T00:16:23.065Z"
   },
   {
    "duration": 4,
    "start_time": "2022-07-15T00:16:23.259Z"
   },
   {
    "duration": 120,
    "start_time": "2022-07-15T00:16:23.264Z"
   },
   {
    "duration": 4,
    "start_time": "2022-07-15T00:16:23.386Z"
   },
   {
    "duration": 17,
    "start_time": "2022-07-15T00:16:23.392Z"
   },
   {
    "duration": 27,
    "start_time": "2022-07-15T00:16:23.411Z"
   },
   {
    "duration": 7,
    "start_time": "2022-07-15T00:16:23.440Z"
   },
   {
    "duration": 10,
    "start_time": "2022-07-15T00:16:23.449Z"
   },
   {
    "duration": 1546,
    "start_time": "2022-07-15T00:16:23.460Z"
   },
   {
    "duration": 12,
    "start_time": "2022-07-15T00:16:25.009Z"
   },
   {
    "duration": 18,
    "start_time": "2022-07-15T00:16:25.022Z"
   },
   {
    "duration": 470,
    "start_time": "2022-07-15T00:16:25.042Z"
   },
   {
    "duration": 352,
    "start_time": "2022-07-15T00:16:25.514Z"
   },
   {
    "duration": 60,
    "start_time": "2022-07-15T00:16:25.868Z"
   },
   {
    "duration": 0,
    "start_time": "2022-07-15T00:16:25.929Z"
   },
   {
    "duration": 0,
    "start_time": "2022-07-15T00:16:25.931Z"
   },
   {
    "duration": 0,
    "start_time": "2022-07-15T00:16:25.932Z"
   },
   {
    "duration": 0,
    "start_time": "2022-07-15T00:16:25.932Z"
   },
   {
    "duration": 0,
    "start_time": "2022-07-15T00:16:25.934Z"
   },
   {
    "duration": 5,
    "start_time": "2022-07-15T00:45:40.789Z"
   },
   {
    "duration": 3,
    "start_time": "2022-07-15T00:45:52.199Z"
   },
   {
    "duration": 262,
    "start_time": "2022-07-15T00:46:06.685Z"
   },
   {
    "duration": 6,
    "start_time": "2022-07-15T00:46:53.345Z"
   },
   {
    "duration": 4,
    "start_time": "2022-07-15T00:46:55.622Z"
   },
   {
    "duration": 25,
    "start_time": "2022-07-15T00:46:56.827Z"
   },
   {
    "duration": 7,
    "start_time": "2022-07-15T00:58:35.965Z"
   },
   {
    "duration": 4,
    "start_time": "2022-07-15T00:58:37.674Z"
   },
   {
    "duration": 28,
    "start_time": "2022-07-15T00:58:38.854Z"
   },
   {
    "duration": 5,
    "start_time": "2022-07-15T00:58:58.404Z"
   },
   {
    "duration": 25,
    "start_time": "2022-07-15T00:59:00.028Z"
   },
   {
    "duration": 6,
    "start_time": "2022-07-15T00:59:15.544Z"
   },
   {
    "duration": 18,
    "start_time": "2022-07-15T00:59:17.294Z"
   },
   {
    "duration": 5,
    "start_time": "2022-07-15T01:02:16.271Z"
   },
   {
    "duration": 44,
    "start_time": "2022-07-15T01:02:19.268Z"
   },
   {
    "duration": 5,
    "start_time": "2022-07-15T01:02:42.049Z"
   },
   {
    "duration": 17,
    "start_time": "2022-07-15T01:02:43.185Z"
   },
   {
    "duration": 7,
    "start_time": "2022-07-15T01:03:02.559Z"
   },
   {
    "duration": 24,
    "start_time": "2022-07-15T01:03:03.480Z"
   },
   {
    "duration": 1397,
    "start_time": "2022-07-15T17:02:09.805Z"
   },
   {
    "duration": 30,
    "start_time": "2022-07-15T17:02:11.203Z"
   },
   {
    "duration": 4,
    "start_time": "2022-07-15T17:02:11.235Z"
   },
   {
    "duration": 15,
    "start_time": "2022-07-15T17:02:11.241Z"
   },
   {
    "duration": 12,
    "start_time": "2022-07-15T17:02:11.258Z"
   },
   {
    "duration": 8,
    "start_time": "2022-07-15T17:02:11.272Z"
   },
   {
    "duration": 7,
    "start_time": "2022-07-15T17:02:11.281Z"
   },
   {
    "duration": 5,
    "start_time": "2022-07-15T17:02:11.290Z"
   },
   {
    "duration": 19,
    "start_time": "2022-07-15T17:02:11.296Z"
   },
   {
    "duration": 37,
    "start_time": "2022-07-15T17:02:11.318Z"
   },
   {
    "duration": 5,
    "start_time": "2022-07-15T17:02:11.357Z"
   },
   {
    "duration": 21,
    "start_time": "2022-07-15T17:02:11.364Z"
   },
   {
    "duration": 9,
    "start_time": "2022-07-15T17:02:11.387Z"
   },
   {
    "duration": 4,
    "start_time": "2022-07-15T17:02:11.398Z"
   },
   {
    "duration": 6,
    "start_time": "2022-07-15T17:02:11.404Z"
   },
   {
    "duration": 46,
    "start_time": "2022-07-15T17:02:11.411Z"
   },
   {
    "duration": 3754,
    "start_time": "2022-07-15T17:02:11.460Z"
   },
   {
    "duration": 9,
    "start_time": "2022-07-15T17:02:15.216Z"
   },
   {
    "duration": 4,
    "start_time": "2022-07-15T17:02:15.227Z"
   },
   {
    "duration": 14,
    "start_time": "2022-07-15T17:02:15.246Z"
   },
   {
    "duration": 93,
    "start_time": "2022-07-15T17:02:15.261Z"
   },
   {
    "duration": 105,
    "start_time": "2022-07-15T17:02:15.356Z"
   },
   {
    "duration": 5,
    "start_time": "2022-07-15T17:02:15.464Z"
   },
   {
    "duration": 13,
    "start_time": "2022-07-15T17:02:15.471Z"
   },
   {
    "duration": 12,
    "start_time": "2022-07-15T17:02:15.485Z"
   },
   {
    "duration": 148,
    "start_time": "2022-07-15T17:02:15.499Z"
   },
   {
    "duration": 20,
    "start_time": "2022-07-15T17:02:15.649Z"
   },
   {
    "duration": 5,
    "start_time": "2022-07-15T17:02:15.673Z"
   },
   {
    "duration": 225,
    "start_time": "2022-07-15T17:02:15.680Z"
   },
   {
    "duration": 205,
    "start_time": "2022-07-15T17:02:15.907Z"
   },
   {
    "duration": 4,
    "start_time": "2022-07-15T17:02:16.114Z"
   },
   {
    "duration": 139,
    "start_time": "2022-07-15T17:02:16.120Z"
   },
   {
    "duration": 4,
    "start_time": "2022-07-15T17:02:16.260Z"
   },
   {
    "duration": 9,
    "start_time": "2022-07-15T17:02:16.265Z"
   },
   {
    "duration": 35,
    "start_time": "2022-07-15T17:02:16.276Z"
   },
   {
    "duration": 8,
    "start_time": "2022-07-15T17:02:16.313Z"
   },
   {
    "duration": 23,
    "start_time": "2022-07-15T17:02:16.322Z"
   },
   {
    "duration": 1678,
    "start_time": "2022-07-15T17:02:16.347Z"
   },
   {
    "duration": 19,
    "start_time": "2022-07-15T17:02:18.027Z"
   },
   {
    "duration": 12,
    "start_time": "2022-07-15T17:02:18.048Z"
   },
   {
    "duration": 517,
    "start_time": "2022-07-15T17:02:18.061Z"
   },
   {
    "duration": 430,
    "start_time": "2022-07-15T17:02:18.580Z"
   },
   {
    "duration": 5,
    "start_time": "2022-07-15T17:02:19.013Z"
   },
   {
    "duration": 14,
    "start_time": "2022-07-15T17:02:19.020Z"
   },
   {
    "duration": 287,
    "start_time": "2022-07-15T17:02:19.037Z"
   },
   {
    "duration": 0,
    "start_time": "2022-07-15T17:02:19.327Z"
   },
   {
    "duration": 0,
    "start_time": "2022-07-15T17:02:19.328Z"
   },
   {
    "duration": 0,
    "start_time": "2022-07-15T17:02:19.346Z"
   },
   {
    "duration": 5,
    "start_time": "2022-07-15T17:03:09.526Z"
   },
   {
    "duration": 19,
    "start_time": "2022-07-15T17:03:11.290Z"
   },
   {
    "duration": 4,
    "start_time": "2022-07-15T17:04:02.627Z"
   },
   {
    "duration": 31,
    "start_time": "2022-07-15T17:04:03.517Z"
   },
   {
    "duration": 6,
    "start_time": "2022-07-15T17:04:08.702Z"
   },
   {
    "duration": 5,
    "start_time": "2022-07-15T17:04:08.864Z"
   },
   {
    "duration": 26,
    "start_time": "2022-07-15T17:04:09.086Z"
   },
   {
    "duration": 1407,
    "start_time": "2022-07-15T17:04:14.434Z"
   },
   {
    "duration": 30,
    "start_time": "2022-07-15T17:04:15.843Z"
   },
   {
    "duration": 5,
    "start_time": "2022-07-15T17:04:15.875Z"
   },
   {
    "duration": 36,
    "start_time": "2022-07-15T17:04:15.882Z"
   },
   {
    "duration": 36,
    "start_time": "2022-07-15T17:04:15.920Z"
   },
   {
    "duration": 8,
    "start_time": "2022-07-15T17:04:15.959Z"
   },
   {
    "duration": 12,
    "start_time": "2022-07-15T17:04:15.970Z"
   },
   {
    "duration": 15,
    "start_time": "2022-07-15T17:04:15.984Z"
   },
   {
    "duration": 28,
    "start_time": "2022-07-15T17:04:16.001Z"
   },
   {
    "duration": 21,
    "start_time": "2022-07-15T17:04:16.032Z"
   },
   {
    "duration": 9,
    "start_time": "2022-07-15T17:04:16.055Z"
   },
   {
    "duration": 26,
    "start_time": "2022-07-15T17:04:16.066Z"
   },
   {
    "duration": 17,
    "start_time": "2022-07-15T17:04:16.093Z"
   },
   {
    "duration": 9,
    "start_time": "2022-07-15T17:04:16.112Z"
   },
   {
    "duration": 19,
    "start_time": "2022-07-15T17:04:16.123Z"
   },
   {
    "duration": 31,
    "start_time": "2022-07-15T17:04:16.145Z"
   },
   {
    "duration": 4082,
    "start_time": "2022-07-15T17:04:16.177Z"
   },
   {
    "duration": 10,
    "start_time": "2022-07-15T17:04:20.262Z"
   },
   {
    "duration": 6,
    "start_time": "2022-07-15T17:04:20.273Z"
   },
   {
    "duration": 5,
    "start_time": "2022-07-15T17:04:20.281Z"
   },
   {
    "duration": 161,
    "start_time": "2022-07-15T17:04:20.287Z"
   },
   {
    "duration": 28,
    "start_time": "2022-07-15T17:04:20.451Z"
   },
   {
    "duration": 6,
    "start_time": "2022-07-15T17:04:20.480Z"
   },
   {
    "duration": 14,
    "start_time": "2022-07-15T17:04:20.488Z"
   },
   {
    "duration": 52,
    "start_time": "2022-07-15T17:04:20.503Z"
   },
   {
    "duration": 198,
    "start_time": "2022-07-15T17:04:20.558Z"
   },
   {
    "duration": 28,
    "start_time": "2022-07-15T17:04:20.759Z"
   },
   {
    "duration": 6,
    "start_time": "2022-07-15T17:04:20.790Z"
   },
   {
    "duration": 257,
    "start_time": "2022-07-15T17:04:20.797Z"
   },
   {
    "duration": 238,
    "start_time": "2022-07-15T17:04:21.056Z"
   },
   {
    "duration": 4,
    "start_time": "2022-07-15T17:04:21.296Z"
   },
   {
    "duration": 142,
    "start_time": "2022-07-15T17:04:21.302Z"
   },
   {
    "duration": 4,
    "start_time": "2022-07-15T17:04:21.447Z"
   },
   {
    "duration": 15,
    "start_time": "2022-07-15T17:04:21.452Z"
   },
   {
    "duration": 35,
    "start_time": "2022-07-15T17:04:21.469Z"
   },
   {
    "duration": 23,
    "start_time": "2022-07-15T17:04:21.506Z"
   },
   {
    "duration": 33,
    "start_time": "2022-07-15T17:04:21.531Z"
   },
   {
    "duration": 1666,
    "start_time": "2022-07-15T17:04:21.566Z"
   },
   {
    "duration": 15,
    "start_time": "2022-07-15T17:04:23.235Z"
   },
   {
    "duration": 18,
    "start_time": "2022-07-15T17:04:23.251Z"
   },
   {
    "duration": 509,
    "start_time": "2022-07-15T17:04:23.271Z"
   },
   {
    "duration": 409,
    "start_time": "2022-07-15T17:04:23.781Z"
   },
   {
    "duration": 4,
    "start_time": "2022-07-15T17:04:24.191Z"
   },
   {
    "duration": 7,
    "start_time": "2022-07-15T17:04:24.197Z"
   },
   {
    "duration": 249,
    "start_time": "2022-07-15T17:04:24.205Z"
   },
   {
    "duration": 0,
    "start_time": "2022-07-15T17:04:24.456Z"
   },
   {
    "duration": 0,
    "start_time": "2022-07-15T17:04:24.457Z"
   },
   {
    "duration": 0,
    "start_time": "2022-07-15T17:04:24.459Z"
   },
   {
    "duration": 5,
    "start_time": "2022-07-15T17:05:26.122Z"
   },
   {
    "duration": 6,
    "start_time": "2022-07-15T17:05:27.356Z"
   },
   {
    "duration": 82,
    "start_time": "2022-07-15T17:05:28.366Z"
   },
   {
    "duration": 1601,
    "start_time": "2022-07-15T17:05:35.349Z"
   },
   {
    "duration": 33,
    "start_time": "2022-07-15T17:05:36.953Z"
   },
   {
    "duration": 4,
    "start_time": "2022-07-15T17:05:36.988Z"
   },
   {
    "duration": 17,
    "start_time": "2022-07-15T17:05:36.993Z"
   },
   {
    "duration": 12,
    "start_time": "2022-07-15T17:05:37.012Z"
   },
   {
    "duration": 5,
    "start_time": "2022-07-15T17:05:37.025Z"
   },
   {
    "duration": 21,
    "start_time": "2022-07-15T17:05:37.032Z"
   },
   {
    "duration": 9,
    "start_time": "2022-07-15T17:05:37.055Z"
   },
   {
    "duration": 28,
    "start_time": "2022-07-15T17:05:37.067Z"
   },
   {
    "duration": 12,
    "start_time": "2022-07-15T17:05:37.098Z"
   },
   {
    "duration": 12,
    "start_time": "2022-07-15T17:05:37.111Z"
   },
   {
    "duration": 36,
    "start_time": "2022-07-15T17:05:37.124Z"
   },
   {
    "duration": 11,
    "start_time": "2022-07-15T17:05:37.162Z"
   },
   {
    "duration": 4,
    "start_time": "2022-07-15T17:05:37.175Z"
   },
   {
    "duration": 11,
    "start_time": "2022-07-15T17:05:37.181Z"
   },
   {
    "duration": 18,
    "start_time": "2022-07-15T17:05:37.194Z"
   },
   {
    "duration": 4216,
    "start_time": "2022-07-15T17:05:37.214Z"
   },
   {
    "duration": 16,
    "start_time": "2022-07-15T17:05:41.432Z"
   },
   {
    "duration": 6,
    "start_time": "2022-07-15T17:05:41.451Z"
   },
   {
    "duration": 11,
    "start_time": "2022-07-15T17:05:41.460Z"
   },
   {
    "duration": 177,
    "start_time": "2022-07-15T17:05:41.472Z"
   },
   {
    "duration": 29,
    "start_time": "2022-07-15T17:05:41.651Z"
   },
   {
    "duration": 6,
    "start_time": "2022-07-15T17:05:41.682Z"
   },
   {
    "duration": 19,
    "start_time": "2022-07-15T17:05:41.690Z"
   },
   {
    "duration": 44,
    "start_time": "2022-07-15T17:05:41.711Z"
   },
   {
    "duration": 102,
    "start_time": "2022-07-15T17:05:41.758Z"
   },
   {
    "duration": 109,
    "start_time": "2022-07-15T17:05:41.862Z"
   },
   {
    "duration": 6,
    "start_time": "2022-07-15T17:05:41.974Z"
   },
   {
    "duration": 256,
    "start_time": "2022-07-15T17:05:41.982Z"
   },
   {
    "duration": 238,
    "start_time": "2022-07-15T17:05:42.245Z"
   },
   {
    "duration": 4,
    "start_time": "2022-07-15T17:05:42.485Z"
   },
   {
    "duration": 147,
    "start_time": "2022-07-15T17:05:42.491Z"
   },
   {
    "duration": 5,
    "start_time": "2022-07-15T17:05:42.647Z"
   },
   {
    "duration": 20,
    "start_time": "2022-07-15T17:05:42.654Z"
   },
   {
    "duration": 32,
    "start_time": "2022-07-15T17:05:42.676Z"
   },
   {
    "duration": 10,
    "start_time": "2022-07-15T17:05:42.709Z"
   },
   {
    "duration": 11,
    "start_time": "2022-07-15T17:05:42.721Z"
   },
   {
    "duration": 1760,
    "start_time": "2022-07-15T17:05:42.748Z"
   },
   {
    "duration": 12,
    "start_time": "2022-07-15T17:05:44.510Z"
   },
   {
    "duration": 23,
    "start_time": "2022-07-15T17:05:44.524Z"
   },
   {
    "duration": 569,
    "start_time": "2022-07-15T17:05:44.550Z"
   },
   {
    "duration": 419,
    "start_time": "2022-07-15T17:05:45.121Z"
   },
   {
    "duration": 8,
    "start_time": "2022-07-15T17:05:45.552Z"
   },
   {
    "duration": 7,
    "start_time": "2022-07-15T17:05:45.562Z"
   },
   {
    "duration": 303,
    "start_time": "2022-07-15T17:05:45.571Z"
   },
   {
    "duration": 0,
    "start_time": "2022-07-15T17:05:45.876Z"
   },
   {
    "duration": 0,
    "start_time": "2022-07-15T17:05:45.877Z"
   },
   {
    "duration": 0,
    "start_time": "2022-07-15T17:05:45.879Z"
   },
   {
    "duration": 1505,
    "start_time": "2022-07-15T17:07:03.808Z"
   },
   {
    "duration": 29,
    "start_time": "2022-07-15T17:07:05.315Z"
   },
   {
    "duration": 8,
    "start_time": "2022-07-15T17:07:05.347Z"
   },
   {
    "duration": 21,
    "start_time": "2022-07-15T17:07:05.359Z"
   },
   {
    "duration": 11,
    "start_time": "2022-07-15T17:07:05.381Z"
   },
   {
    "duration": 7,
    "start_time": "2022-07-15T17:07:05.394Z"
   },
   {
    "duration": 8,
    "start_time": "2022-07-15T17:07:05.402Z"
   },
   {
    "duration": 35,
    "start_time": "2022-07-15T17:07:05.413Z"
   },
   {
    "duration": 27,
    "start_time": "2022-07-15T17:07:05.450Z"
   },
   {
    "duration": 33,
    "start_time": "2022-07-15T17:07:05.479Z"
   },
   {
    "duration": 6,
    "start_time": "2022-07-15T17:07:05.514Z"
   },
   {
    "duration": 53,
    "start_time": "2022-07-15T17:07:05.522Z"
   },
   {
    "duration": 11,
    "start_time": "2022-07-15T17:07:05.576Z"
   },
   {
    "duration": 5,
    "start_time": "2022-07-15T17:07:05.589Z"
   },
   {
    "duration": 9,
    "start_time": "2022-07-15T17:07:05.596Z"
   },
   {
    "duration": 14,
    "start_time": "2022-07-15T17:07:05.607Z"
   },
   {
    "duration": 3932,
    "start_time": "2022-07-15T17:07:05.623Z"
   },
   {
    "duration": 14,
    "start_time": "2022-07-15T17:07:09.557Z"
   },
   {
    "duration": 16,
    "start_time": "2022-07-15T17:07:09.573Z"
   },
   {
    "duration": 10,
    "start_time": "2022-07-15T17:07:09.591Z"
   },
   {
    "duration": 161,
    "start_time": "2022-07-15T17:07:09.602Z"
   },
   {
    "duration": 19,
    "start_time": "2022-07-15T17:07:09.766Z"
   },
   {
    "duration": 5,
    "start_time": "2022-07-15T17:07:09.787Z"
   },
   {
    "duration": 17,
    "start_time": "2022-07-15T17:07:09.794Z"
   },
   {
    "duration": 47,
    "start_time": "2022-07-15T17:07:09.813Z"
   },
   {
    "duration": 186,
    "start_time": "2022-07-15T17:07:09.863Z"
   },
   {
    "duration": 30,
    "start_time": "2022-07-15T17:07:10.052Z"
   },
   {
    "duration": 6,
    "start_time": "2022-07-15T17:07:10.085Z"
   },
   {
    "duration": 241,
    "start_time": "2022-07-15T17:07:10.092Z"
   },
   {
    "duration": 229,
    "start_time": "2022-07-15T17:07:10.335Z"
   },
   {
    "duration": 4,
    "start_time": "2022-07-15T17:07:10.566Z"
   },
   {
    "duration": 144,
    "start_time": "2022-07-15T17:07:10.572Z"
   },
   {
    "duration": 3,
    "start_time": "2022-07-15T17:07:10.718Z"
   },
   {
    "duration": 41,
    "start_time": "2022-07-15T17:07:10.722Z"
   },
   {
    "duration": 51,
    "start_time": "2022-07-15T17:07:10.766Z"
   },
   {
    "duration": 8,
    "start_time": "2022-07-15T17:07:10.818Z"
   },
   {
    "duration": 33,
    "start_time": "2022-07-15T17:07:10.827Z"
   },
   {
    "duration": 1830,
    "start_time": "2022-07-15T17:07:10.863Z"
   },
   {
    "duration": 12,
    "start_time": "2022-07-15T17:07:12.694Z"
   },
   {
    "duration": 27,
    "start_time": "2022-07-15T17:07:12.707Z"
   },
   {
    "duration": 522,
    "start_time": "2022-07-15T17:07:12.736Z"
   },
   {
    "duration": 389,
    "start_time": "2022-07-15T17:07:13.260Z"
   },
   {
    "duration": 6,
    "start_time": "2022-07-15T17:07:13.652Z"
   },
   {
    "duration": 32,
    "start_time": "2022-07-15T17:07:13.660Z"
   },
   {
    "duration": 27,
    "start_time": "2022-07-15T17:07:13.694Z"
   },
   {
    "duration": 101,
    "start_time": "2022-07-15T17:07:13.748Z"
   },
   {
    "duration": 18,
    "start_time": "2022-07-15T17:07:13.851Z"
   },
   {
    "duration": 10,
    "start_time": "2022-07-15T17:07:13.871Z"
   },
   {
    "duration": 13,
    "start_time": "2022-07-15T17:07:57.472Z"
   },
   {
    "duration": 16,
    "start_time": "2022-07-15T17:08:28.151Z"
   },
   {
    "duration": 10,
    "start_time": "2022-07-15T17:08:42.397Z"
   },
   {
    "duration": 15,
    "start_time": "2022-07-15T17:08:48.160Z"
   },
   {
    "duration": 10,
    "start_time": "2022-07-15T17:24:18.353Z"
   },
   {
    "duration": 1408,
    "start_time": "2022-07-15T17:24:43.109Z"
   },
   {
    "duration": 29,
    "start_time": "2022-07-15T17:24:44.519Z"
   },
   {
    "duration": 3,
    "start_time": "2022-07-15T17:24:44.550Z"
   },
   {
    "duration": 25,
    "start_time": "2022-07-15T17:24:44.555Z"
   },
   {
    "duration": 11,
    "start_time": "2022-07-15T17:24:44.582Z"
   },
   {
    "duration": 3,
    "start_time": "2022-07-15T17:24:44.595Z"
   },
   {
    "duration": 9,
    "start_time": "2022-07-15T17:24:44.600Z"
   },
   {
    "duration": 3,
    "start_time": "2022-07-15T17:24:44.611Z"
   },
   {
    "duration": 32,
    "start_time": "2022-07-15T17:24:44.616Z"
   },
   {
    "duration": 10,
    "start_time": "2022-07-15T17:24:44.651Z"
   },
   {
    "duration": 7,
    "start_time": "2022-07-15T17:24:44.662Z"
   },
   {
    "duration": 20,
    "start_time": "2022-07-15T17:24:44.670Z"
   },
   {
    "duration": 10,
    "start_time": "2022-07-15T17:24:44.691Z"
   },
   {
    "duration": 4,
    "start_time": "2022-07-15T17:24:44.702Z"
   },
   {
    "duration": 39,
    "start_time": "2022-07-15T17:24:44.708Z"
   },
   {
    "duration": 13,
    "start_time": "2022-07-15T17:24:44.749Z"
   },
   {
    "duration": 3541,
    "start_time": "2022-07-15T17:24:44.764Z"
   },
   {
    "duration": 8,
    "start_time": "2022-07-15T17:24:48.307Z"
   },
   {
    "duration": 7,
    "start_time": "2022-07-15T17:24:48.317Z"
   },
   {
    "duration": 6,
    "start_time": "2022-07-15T17:24:48.325Z"
   },
   {
    "duration": 202,
    "start_time": "2022-07-15T17:24:48.346Z"
   },
   {
    "duration": 19,
    "start_time": "2022-07-15T17:24:48.550Z"
   },
   {
    "duration": 6,
    "start_time": "2022-07-15T17:24:48.571Z"
   },
   {
    "duration": 11,
    "start_time": "2022-07-15T17:24:48.579Z"
   },
   {
    "duration": 10,
    "start_time": "2022-07-15T17:24:48.592Z"
   },
   {
    "duration": 247,
    "start_time": "2022-07-15T17:24:48.603Z"
   },
   {
    "duration": 33,
    "start_time": "2022-07-15T17:24:48.860Z"
   },
   {
    "duration": 13,
    "start_time": "2022-07-15T17:24:48.898Z"
   },
   {
    "duration": 257,
    "start_time": "2022-07-15T17:24:48.914Z"
   },
   {
    "duration": 189,
    "start_time": "2022-07-15T17:24:49.173Z"
   },
   {
    "duration": 4,
    "start_time": "2022-07-15T17:24:49.364Z"
   },
   {
    "duration": 128,
    "start_time": "2022-07-15T17:24:49.370Z"
   },
   {
    "duration": 4,
    "start_time": "2022-07-15T17:24:49.500Z"
   },
   {
    "duration": 8,
    "start_time": "2022-07-15T17:24:49.506Z"
   },
   {
    "duration": 41,
    "start_time": "2022-07-15T17:24:49.516Z"
   },
   {
    "duration": 9,
    "start_time": "2022-07-15T17:24:49.559Z"
   },
   {
    "duration": 9,
    "start_time": "2022-07-15T17:24:49.570Z"
   },
   {
    "duration": 1603,
    "start_time": "2022-07-15T17:24:49.581Z"
   },
   {
    "duration": 12,
    "start_time": "2022-07-15T17:24:51.186Z"
   },
   {
    "duration": 13,
    "start_time": "2022-07-15T17:24:51.200Z"
   },
   {
    "duration": 507,
    "start_time": "2022-07-15T17:24:51.215Z"
   },
   {
    "duration": 373,
    "start_time": "2022-07-15T17:24:51.725Z"
   },
   {
    "duration": 5,
    "start_time": "2022-07-15T17:24:52.099Z"
   },
   {
    "duration": 9,
    "start_time": "2022-07-15T17:24:52.105Z"
   },
   {
    "duration": 33,
    "start_time": "2022-07-15T17:24:52.115Z"
   },
   {
    "duration": 109,
    "start_time": "2022-07-15T17:24:52.152Z"
   },
   {
    "duration": 86,
    "start_time": "2022-07-15T17:24:52.263Z"
   },
   {
    "duration": 10,
    "start_time": "2022-07-15T17:24:52.351Z"
   },
   {
    "duration": 83,
    "start_time": "2022-07-15T17:24:52.364Z"
   },
   {
    "duration": 6,
    "start_time": "2022-07-15T17:33:57.953Z"
   },
   {
    "duration": 4,
    "start_time": "2022-07-15T17:34:54.058Z"
   },
   {
    "duration": 5,
    "start_time": "2022-07-15T17:35:03.792Z"
   },
   {
    "duration": 108,
    "start_time": "2022-07-15T17:36:27.119Z"
   },
   {
    "duration": 6,
    "start_time": "2022-07-15T17:37:17.390Z"
   },
   {
    "duration": 4,
    "start_time": "2022-07-15T17:38:27.708Z"
   },
   {
    "duration": 6,
    "start_time": "2022-07-15T17:39:00.573Z"
   },
   {
    "duration": 5,
    "start_time": "2022-07-15T17:39:55.380Z"
   },
   {
    "duration": 5,
    "start_time": "2022-07-15T17:39:56.291Z"
   },
   {
    "duration": 5,
    "start_time": "2022-07-15T17:39:57.038Z"
   },
   {
    "duration": 5,
    "start_time": "2022-07-15T17:46:56.901Z"
   },
   {
    "duration": 9,
    "start_time": "2022-07-15T17:47:35.834Z"
   },
   {
    "duration": 9,
    "start_time": "2022-07-15T17:47:42.208Z"
   },
   {
    "duration": 4,
    "start_time": "2022-07-15T17:47:45.664Z"
   },
   {
    "duration": 5,
    "start_time": "2022-07-15T17:48:08.595Z"
   },
   {
    "duration": 367,
    "start_time": "2022-07-15T17:48:21.096Z"
   },
   {
    "duration": 352,
    "start_time": "2022-07-15T17:48:29.099Z"
   },
   {
    "duration": 5,
    "start_time": "2022-07-15T17:54:15.482Z"
   },
   {
    "duration": 11,
    "start_time": "2022-07-15T17:54:25.043Z"
   },
   {
    "duration": 5,
    "start_time": "2022-07-15T17:54:27.689Z"
   },
   {
    "duration": 10,
    "start_time": "2022-07-15T17:54:43.405Z"
   },
   {
    "duration": 10,
    "start_time": "2022-07-15T17:54:47.755Z"
   },
   {
    "duration": 6,
    "start_time": "2022-07-15T17:54:51.958Z"
   },
   {
    "duration": 13,
    "start_time": "2022-07-15T18:05:49.087Z"
   },
   {
    "duration": 5,
    "start_time": "2022-07-15T18:05:54.827Z"
   },
   {
    "duration": 6,
    "start_time": "2022-07-15T18:06:13.894Z"
   },
   {
    "duration": 4,
    "start_time": "2022-07-15T18:08:27.080Z"
   },
   {
    "duration": 6,
    "start_time": "2022-07-15T18:11:32.891Z"
   },
   {
    "duration": 5,
    "start_time": "2022-07-15T18:11:46.008Z"
   },
   {
    "duration": 4,
    "start_time": "2022-07-15T18:12:07.505Z"
   },
   {
    "duration": 7,
    "start_time": "2022-07-15T18:12:09.676Z"
   },
   {
    "duration": 6,
    "start_time": "2022-07-15T18:12:18.949Z"
   },
   {
    "duration": 7,
    "start_time": "2022-07-15T18:13:09.960Z"
   },
   {
    "duration": 189,
    "start_time": "2022-07-15T18:13:18.011Z"
   },
   {
    "duration": 7,
    "start_time": "2022-07-15T18:13:54.511Z"
   },
   {
    "duration": 10,
    "start_time": "2022-07-15T18:23:04.841Z"
   },
   {
    "duration": 9,
    "start_time": "2022-07-15T18:23:20.188Z"
   },
   {
    "duration": 9,
    "start_time": "2022-07-15T18:23:26.782Z"
   },
   {
    "duration": 9,
    "start_time": "2022-07-15T18:23:35.702Z"
   },
   {
    "duration": 5,
    "start_time": "2022-07-15T18:24:00.305Z"
   },
   {
    "duration": 9,
    "start_time": "2022-07-15T18:24:10.454Z"
   },
   {
    "duration": 5,
    "start_time": "2022-07-15T18:24:17.180Z"
   },
   {
    "duration": 6,
    "start_time": "2022-07-15T18:25:04.959Z"
   },
   {
    "duration": 5,
    "start_time": "2022-07-15T18:25:49.260Z"
   },
   {
    "duration": 8,
    "start_time": "2022-07-15T18:25:55.470Z"
   },
   {
    "duration": 9,
    "start_time": "2022-07-15T18:26:58.970Z"
   },
   {
    "duration": 10,
    "start_time": "2022-07-15T18:27:18.979Z"
   },
   {
    "duration": 1487,
    "start_time": "2022-07-15T21:17:43.163Z"
   },
   {
    "duration": 72,
    "start_time": "2022-07-15T21:17:44.652Z"
   },
   {
    "duration": 6,
    "start_time": "2022-07-15T21:17:44.726Z"
   },
   {
    "duration": 22,
    "start_time": "2022-07-15T21:17:44.734Z"
   },
   {
    "duration": 12,
    "start_time": "2022-07-15T21:17:44.757Z"
   },
   {
    "duration": 14,
    "start_time": "2022-07-15T21:17:44.770Z"
   },
   {
    "duration": 10,
    "start_time": "2022-07-15T21:17:44.786Z"
   },
   {
    "duration": 6,
    "start_time": "2022-07-15T21:17:44.798Z"
   },
   {
    "duration": 21,
    "start_time": "2022-07-15T21:17:44.809Z"
   },
   {
    "duration": 12,
    "start_time": "2022-07-15T21:17:44.832Z"
   },
   {
    "duration": 5,
    "start_time": "2022-07-15T21:17:44.845Z"
   },
   {
    "duration": 15,
    "start_time": "2022-07-15T21:17:44.853Z"
   },
   {
    "duration": 39,
    "start_time": "2022-07-15T21:17:44.870Z"
   },
   {
    "duration": 5,
    "start_time": "2022-07-15T21:17:44.911Z"
   },
   {
    "duration": 14,
    "start_time": "2022-07-15T21:17:44.918Z"
   },
   {
    "duration": 22,
    "start_time": "2022-07-15T21:17:44.933Z"
   },
   {
    "duration": 3707,
    "start_time": "2022-07-15T21:17:44.957Z"
   },
   {
    "duration": 8,
    "start_time": "2022-07-15T21:17:48.666Z"
   },
   {
    "duration": 7,
    "start_time": "2022-07-15T21:17:48.676Z"
   },
   {
    "duration": 6,
    "start_time": "2022-07-15T21:17:48.684Z"
   },
   {
    "duration": 121,
    "start_time": "2022-07-15T21:17:48.691Z"
   },
   {
    "duration": 102,
    "start_time": "2022-07-15T21:17:48.814Z"
   },
   {
    "duration": 13,
    "start_time": "2022-07-15T21:17:48.918Z"
   },
   {
    "duration": 16,
    "start_time": "2022-07-15T21:17:48.933Z"
   },
   {
    "duration": 14,
    "start_time": "2022-07-15T21:17:48.952Z"
   },
   {
    "duration": 143,
    "start_time": "2022-07-15T21:17:48.968Z"
   },
   {
    "duration": 20,
    "start_time": "2022-07-15T21:17:49.113Z"
   },
   {
    "duration": 6,
    "start_time": "2022-07-15T21:17:49.138Z"
   },
   {
    "duration": 243,
    "start_time": "2022-07-15T21:17:49.145Z"
   },
   {
    "duration": 190,
    "start_time": "2022-07-15T21:17:49.391Z"
   },
   {
    "duration": 4,
    "start_time": "2022-07-15T21:17:49.583Z"
   },
   {
    "duration": 139,
    "start_time": "2022-07-15T21:17:49.589Z"
   },
   {
    "duration": 4,
    "start_time": "2022-07-15T21:17:49.729Z"
   },
   {
    "duration": 7,
    "start_time": "2022-07-15T21:17:49.734Z"
   },
   {
    "duration": 30,
    "start_time": "2022-07-15T21:17:49.742Z"
   },
   {
    "duration": 8,
    "start_time": "2022-07-15T21:17:49.774Z"
   },
   {
    "duration": 30,
    "start_time": "2022-07-15T21:17:49.783Z"
   },
   {
    "duration": 1550,
    "start_time": "2022-07-15T21:17:49.815Z"
   },
   {
    "duration": 12,
    "start_time": "2022-07-15T21:17:51.366Z"
   },
   {
    "duration": 15,
    "start_time": "2022-07-15T21:17:51.379Z"
   },
   {
    "duration": 522,
    "start_time": "2022-07-15T21:17:51.395Z"
   },
   {
    "duration": 362,
    "start_time": "2022-07-15T21:17:51.919Z"
   },
   {
    "duration": 4,
    "start_time": "2022-07-15T21:17:52.283Z"
   },
   {
    "duration": 5,
    "start_time": "2022-07-15T21:17:52.289Z"
   },
   {
    "duration": 21,
    "start_time": "2022-07-15T21:17:52.296Z"
   },
   {
    "duration": 108,
    "start_time": "2022-07-15T21:17:52.319Z"
   },
   {
    "duration": 86,
    "start_time": "2022-07-15T21:17:52.429Z"
   },
   {
    "duration": 11,
    "start_time": "2022-07-15T21:17:52.517Z"
   },
   {
    "duration": 7,
    "start_time": "2022-07-15T21:17:52.610Z"
   },
   {
    "duration": 10,
    "start_time": "2022-07-15T21:17:52.619Z"
   },
   {
    "duration": 81,
    "start_time": "2022-07-15T21:17:52.632Z"
   },
   {
    "duration": 6,
    "start_time": "2022-07-15T21:17:52.715Z"
   },
   {
    "duration": 91,
    "start_time": "2022-07-15T21:17:52.723Z"
   },
   {
    "duration": 5,
    "start_time": "2022-07-15T21:18:29.311Z"
   },
   {
    "duration": 4,
    "start_time": "2022-07-15T21:18:30.632Z"
   },
   {
    "duration": 10,
    "start_time": "2022-07-15T21:18:31.698Z"
   },
   {
    "duration": 9,
    "start_time": "2022-07-15T21:18:39.617Z"
   },
   {
    "duration": 7,
    "start_time": "2022-07-15T21:24:25.150Z"
   },
   {
    "duration": 7,
    "start_time": "2022-07-15T21:27:05.238Z"
   },
   {
    "duration": 14,
    "start_time": "2022-07-15T21:28:01.557Z"
   },
   {
    "duration": 7,
    "start_time": "2022-07-15T21:28:26.303Z"
   },
   {
    "duration": 10,
    "start_time": "2022-07-15T21:29:09.572Z"
   },
   {
    "duration": 10,
    "start_time": "2022-07-15T21:33:33.392Z"
   },
   {
    "duration": 1329,
    "start_time": "2022-07-15T21:34:04.967Z"
   },
   {
    "duration": 38,
    "start_time": "2022-07-15T21:34:06.298Z"
   },
   {
    "duration": 4,
    "start_time": "2022-07-15T21:34:06.337Z"
   },
   {
    "duration": 17,
    "start_time": "2022-07-15T21:34:06.344Z"
   },
   {
    "duration": 15,
    "start_time": "2022-07-15T21:34:06.363Z"
   },
   {
    "duration": 4,
    "start_time": "2022-07-15T21:34:06.380Z"
   },
   {
    "duration": 8,
    "start_time": "2022-07-15T21:34:06.386Z"
   },
   {
    "duration": 6,
    "start_time": "2022-07-15T21:34:06.395Z"
   },
   {
    "duration": 30,
    "start_time": "2022-07-15T21:34:06.403Z"
   },
   {
    "duration": 9,
    "start_time": "2022-07-15T21:34:06.436Z"
   },
   {
    "duration": 4,
    "start_time": "2022-07-15T21:34:06.447Z"
   },
   {
    "duration": 16,
    "start_time": "2022-07-15T21:34:06.452Z"
   },
   {
    "duration": 9,
    "start_time": "2022-07-15T21:34:06.469Z"
   },
   {
    "duration": 7,
    "start_time": "2022-07-15T21:34:06.479Z"
   },
   {
    "duration": 33,
    "start_time": "2022-07-15T21:34:06.487Z"
   },
   {
    "duration": 14,
    "start_time": "2022-07-15T21:34:06.522Z"
   },
   {
    "duration": 3556,
    "start_time": "2022-07-15T21:34:06.537Z"
   },
   {
    "duration": 25,
    "start_time": "2022-07-15T21:34:10.094Z"
   },
   {
    "duration": 3,
    "start_time": "2022-07-15T21:34:10.124Z"
   },
   {
    "duration": 8,
    "start_time": "2022-07-15T21:34:10.128Z"
   },
   {
    "duration": 175,
    "start_time": "2022-07-15T21:34:10.137Z"
   },
   {
    "duration": 23,
    "start_time": "2022-07-15T21:34:10.314Z"
   },
   {
    "duration": 6,
    "start_time": "2022-07-15T21:34:10.338Z"
   },
   {
    "duration": 14,
    "start_time": "2022-07-15T21:34:10.345Z"
   },
   {
    "duration": 10,
    "start_time": "2022-07-15T21:34:10.361Z"
   },
   {
    "duration": 138,
    "start_time": "2022-07-15T21:34:10.373Z"
   },
   {
    "duration": 27,
    "start_time": "2022-07-15T21:34:10.514Z"
   },
   {
    "duration": 6,
    "start_time": "2022-07-15T21:34:10.544Z"
   },
   {
    "duration": 221,
    "start_time": "2022-07-15T21:34:10.551Z"
   },
   {
    "duration": 195,
    "start_time": "2022-07-15T21:34:10.774Z"
   },
   {
    "duration": 4,
    "start_time": "2022-07-15T21:34:10.971Z"
   },
   {
    "duration": 146,
    "start_time": "2022-07-15T21:34:10.977Z"
   },
   {
    "duration": 4,
    "start_time": "2022-07-15T21:34:11.125Z"
   },
   {
    "duration": 5,
    "start_time": "2022-07-15T21:34:11.131Z"
   },
   {
    "duration": 29,
    "start_time": "2022-07-15T21:34:11.137Z"
   },
   {
    "duration": 8,
    "start_time": "2022-07-15T21:34:11.168Z"
   },
   {
    "duration": 8,
    "start_time": "2022-07-15T21:34:11.177Z"
   },
   {
    "duration": 1712,
    "start_time": "2022-07-15T21:34:11.187Z"
   },
   {
    "duration": 28,
    "start_time": "2022-07-15T21:34:12.901Z"
   },
   {
    "duration": 21,
    "start_time": "2022-07-15T21:34:12.931Z"
   },
   {
    "duration": 472,
    "start_time": "2022-07-15T21:34:12.953Z"
   },
   {
    "duration": 398,
    "start_time": "2022-07-15T21:34:13.427Z"
   },
   {
    "duration": 5,
    "start_time": "2022-07-15T21:34:13.827Z"
   },
   {
    "duration": 5,
    "start_time": "2022-07-15T21:34:13.833Z"
   },
   {
    "duration": 13,
    "start_time": "2022-07-15T21:34:13.840Z"
   },
   {
    "duration": 69,
    "start_time": "2022-07-15T21:34:13.855Z"
   },
   {
    "duration": 89,
    "start_time": "2022-07-15T21:34:13.926Z"
   },
   {
    "duration": 107,
    "start_time": "2022-07-15T21:34:14.018Z"
   },
   {
    "duration": 8,
    "start_time": "2022-07-15T21:34:14.126Z"
   },
   {
    "duration": 7,
    "start_time": "2022-07-15T21:34:14.136Z"
   },
   {
    "duration": 10,
    "start_time": "2022-07-15T21:34:14.145Z"
   },
   {
    "duration": 61,
    "start_time": "2022-07-15T21:34:14.157Z"
   },
   {
    "duration": 90,
    "start_time": "2022-07-15T21:34:14.220Z"
   },
   {
    "duration": 11,
    "start_time": "2022-07-15T21:34:14.312Z"
   },
   {
    "duration": 8,
    "start_time": "2022-07-15T21:34:14.326Z"
   },
   {
    "duration": 77,
    "start_time": "2022-07-15T21:34:14.336Z"
   },
   {
    "duration": 112,
    "start_time": "2022-07-15T21:34:14.415Z"
   },
   {
    "duration": 1766,
    "start_time": "2022-07-17T18:11:26.718Z"
   },
   {
    "duration": 56,
    "start_time": "2022-07-17T18:11:28.486Z"
   },
   {
    "duration": 3,
    "start_time": "2022-07-17T18:11:28.544Z"
   },
   {
    "duration": 19,
    "start_time": "2022-07-17T18:11:28.549Z"
   },
   {
    "duration": 10,
    "start_time": "2022-07-17T18:11:28.570Z"
   },
   {
    "duration": 3,
    "start_time": "2022-07-17T18:11:28.582Z"
   },
   {
    "duration": 10,
    "start_time": "2022-07-17T18:11:28.587Z"
   },
   {
    "duration": 9,
    "start_time": "2022-07-17T18:11:28.599Z"
   },
   {
    "duration": 28,
    "start_time": "2022-07-17T18:11:28.609Z"
   },
   {
    "duration": 10,
    "start_time": "2022-07-17T18:11:28.639Z"
   },
   {
    "duration": 15,
    "start_time": "2022-07-17T18:11:28.650Z"
   },
   {
    "duration": 24,
    "start_time": "2022-07-17T18:11:28.667Z"
   },
   {
    "duration": 9,
    "start_time": "2022-07-17T18:11:28.692Z"
   },
   {
    "duration": 3,
    "start_time": "2022-07-17T18:11:28.703Z"
   },
   {
    "duration": 5,
    "start_time": "2022-07-17T18:11:28.708Z"
   },
   {
    "duration": 13,
    "start_time": "2022-07-17T18:11:28.714Z"
   },
   {
    "duration": 4108,
    "start_time": "2022-07-17T18:11:28.728Z"
   },
   {
    "duration": 7,
    "start_time": "2022-07-17T18:11:32.838Z"
   },
   {
    "duration": 14,
    "start_time": "2022-07-17T18:11:32.847Z"
   },
   {
    "duration": 6,
    "start_time": "2022-07-17T18:11:32.864Z"
   },
   {
    "duration": 98,
    "start_time": "2022-07-17T18:11:32.871Z"
   },
   {
    "duration": 116,
    "start_time": "2022-07-17T18:11:32.971Z"
   },
   {
    "duration": 5,
    "start_time": "2022-07-17T18:11:33.089Z"
   },
   {
    "duration": 10,
    "start_time": "2022-07-17T18:11:33.096Z"
   },
   {
    "duration": 12,
    "start_time": "2022-07-17T18:11:33.108Z"
   },
   {
    "duration": 51,
    "start_time": "2022-07-17T18:11:33.121Z"
   },
   {
    "duration": 109,
    "start_time": "2022-07-17T18:11:33.174Z"
   },
   {
    "duration": 5,
    "start_time": "2022-07-17T18:11:33.287Z"
   },
   {
    "duration": 228,
    "start_time": "2022-07-17T18:11:33.294Z"
   },
   {
    "duration": 187,
    "start_time": "2022-07-17T18:11:33.523Z"
   },
   {
    "duration": 4,
    "start_time": "2022-07-17T18:11:33.712Z"
   },
   {
    "duration": 128,
    "start_time": "2022-07-17T18:11:33.717Z"
   },
   {
    "duration": 3,
    "start_time": "2022-07-17T18:11:33.847Z"
   },
   {
    "duration": 13,
    "start_time": "2022-07-17T18:11:33.851Z"
   },
   {
    "duration": 44,
    "start_time": "2022-07-17T18:11:33.866Z"
   },
   {
    "duration": 8,
    "start_time": "2022-07-17T18:11:33.912Z"
   },
   {
    "duration": 23,
    "start_time": "2022-07-17T18:11:33.922Z"
   },
   {
    "duration": 1525,
    "start_time": "2022-07-17T18:11:33.947Z"
   },
   {
    "duration": 13,
    "start_time": "2022-07-17T18:11:35.473Z"
   },
   {
    "duration": 13,
    "start_time": "2022-07-17T18:11:35.487Z"
   },
   {
    "duration": 472,
    "start_time": "2022-07-17T18:11:35.501Z"
   },
   {
    "duration": 340,
    "start_time": "2022-07-17T18:11:35.975Z"
   },
   {
    "duration": 4,
    "start_time": "2022-07-17T18:11:36.316Z"
   },
   {
    "duration": 7,
    "start_time": "2022-07-17T18:11:36.321Z"
   },
   {
    "duration": 36,
    "start_time": "2022-07-17T18:11:36.329Z"
   },
   {
    "duration": 97,
    "start_time": "2022-07-17T18:11:36.367Z"
   },
   {
    "duration": 5,
    "start_time": "2022-07-17T18:11:36.467Z"
   },
   {
    "duration": 91,
    "start_time": "2022-07-17T18:11:36.474Z"
   },
   {
    "duration": 10,
    "start_time": "2022-07-17T18:11:36.566Z"
   },
   {
    "duration": 7,
    "start_time": "2022-07-17T18:11:36.577Z"
   },
   {
    "duration": 9,
    "start_time": "2022-07-17T18:11:36.586Z"
   },
   {
    "duration": 72,
    "start_time": "2022-07-17T18:11:36.596Z"
   },
   {
    "duration": 11,
    "start_time": "2022-07-17T18:11:36.671Z"
   },
   {
    "duration": 8,
    "start_time": "2022-07-17T18:11:36.764Z"
   },
   {
    "duration": 90,
    "start_time": "2022-07-17T18:11:36.774Z"
   },
   {
    "duration": 12,
    "start_time": "2022-07-17T18:11:36.866Z"
   },
   {
    "duration": 90,
    "start_time": "2022-07-17T18:11:36.880Z"
   },
   {
    "duration": 15,
    "start_time": "2022-07-17T18:52:14.580Z"
   },
   {
    "duration": 11,
    "start_time": "2022-07-17T18:52:20.788Z"
   },
   {
    "duration": 13,
    "start_time": "2022-07-17T18:52:26.654Z"
   },
   {
    "duration": 11,
    "start_time": "2022-07-17T18:52:31.018Z"
   },
   {
    "duration": 12,
    "start_time": "2022-07-17T18:52:51.720Z"
   },
   {
    "duration": 16,
    "start_time": "2022-07-17T18:54:38.369Z"
   },
   {
    "duration": 7,
    "start_time": "2022-07-17T18:55:06.026Z"
   },
   {
    "duration": 7,
    "start_time": "2022-07-17T18:55:12.935Z"
   },
   {
    "duration": 6,
    "start_time": "2022-07-17T18:55:49.521Z"
   },
   {
    "duration": 8,
    "start_time": "2022-07-17T18:56:52.737Z"
   },
   {
    "duration": 122,
    "start_time": "2022-07-17T19:55:07.078Z"
   },
   {
    "duration": 1522,
    "start_time": "2022-07-19T03:31:39.122Z"
   },
   {
    "duration": 58,
    "start_time": "2022-07-19T03:31:40.646Z"
   },
   {
    "duration": 3,
    "start_time": "2022-07-19T03:31:40.706Z"
   },
   {
    "duration": 21,
    "start_time": "2022-07-19T03:31:40.711Z"
   },
   {
    "duration": 12,
    "start_time": "2022-07-19T03:31:40.734Z"
   },
   {
    "duration": 4,
    "start_time": "2022-07-19T03:31:40.747Z"
   },
   {
    "duration": 8,
    "start_time": "2022-07-19T03:31:40.752Z"
   },
   {
    "duration": 3,
    "start_time": "2022-07-19T03:31:40.762Z"
   },
   {
    "duration": 17,
    "start_time": "2022-07-19T03:31:40.767Z"
   },
   {
    "duration": 10,
    "start_time": "2022-07-19T03:31:40.786Z"
   },
   {
    "duration": 4,
    "start_time": "2022-07-19T03:31:40.797Z"
   },
   {
    "duration": 46,
    "start_time": "2022-07-19T03:31:40.803Z"
   },
   {
    "duration": 10,
    "start_time": "2022-07-19T03:31:40.851Z"
   },
   {
    "duration": 7,
    "start_time": "2022-07-19T03:31:40.863Z"
   },
   {
    "duration": 5,
    "start_time": "2022-07-19T03:31:40.872Z"
   },
   {
    "duration": 14,
    "start_time": "2022-07-19T03:31:40.878Z"
   },
   {
    "duration": 7,
    "start_time": "2022-07-19T03:31:40.893Z"
   },
   {
    "duration": 3390,
    "start_time": "2022-07-19T03:31:40.902Z"
   },
   {
    "duration": 8,
    "start_time": "2022-07-19T03:31:44.293Z"
   },
   {
    "duration": 7,
    "start_time": "2022-07-19T03:31:44.303Z"
   },
   {
    "duration": 5,
    "start_time": "2022-07-19T03:31:44.312Z"
   },
   {
    "duration": 133,
    "start_time": "2022-07-19T03:31:44.319Z"
   },
   {
    "duration": 101,
    "start_time": "2022-07-19T03:31:44.456Z"
   },
   {
    "duration": 5,
    "start_time": "2022-07-19T03:31:44.559Z"
   },
   {
    "duration": 17,
    "start_time": "2022-07-19T03:31:44.566Z"
   },
   {
    "duration": 8,
    "start_time": "2022-07-19T03:31:44.585Z"
   },
   {
    "duration": 152,
    "start_time": "2022-07-19T03:31:44.595Z"
   },
   {
    "duration": 19,
    "start_time": "2022-07-19T03:31:44.751Z"
   },
   {
    "duration": 6,
    "start_time": "2022-07-19T03:31:44.771Z"
   },
   {
    "duration": 206,
    "start_time": "2022-07-19T03:31:44.778Z"
   },
   {
    "duration": 188,
    "start_time": "2022-07-19T03:31:44.986Z"
   },
   {
    "duration": 4,
    "start_time": "2022-07-19T03:31:45.175Z"
   },
   {
    "duration": 129,
    "start_time": "2022-07-19T03:31:45.180Z"
   },
   {
    "duration": 3,
    "start_time": "2022-07-19T03:31:45.310Z"
   },
   {
    "duration": 7,
    "start_time": "2022-07-19T03:31:45.315Z"
   },
   {
    "duration": 39,
    "start_time": "2022-07-19T03:31:45.323Z"
   },
   {
    "duration": 7,
    "start_time": "2022-07-19T03:31:45.364Z"
   },
   {
    "duration": 8,
    "start_time": "2022-07-19T03:31:45.373Z"
   },
   {
    "duration": 1506,
    "start_time": "2022-07-19T03:31:45.383Z"
   },
   {
    "duration": 11,
    "start_time": "2022-07-19T03:31:46.891Z"
   },
   {
    "duration": 12,
    "start_time": "2022-07-19T03:31:46.904Z"
   },
   {
    "duration": 460,
    "start_time": "2022-07-19T03:31:46.917Z"
   },
   {
    "duration": 350,
    "start_time": "2022-07-19T03:31:47.378Z"
   },
   {
    "duration": 5,
    "start_time": "2022-07-19T03:31:47.730Z"
   },
   {
    "duration": 10,
    "start_time": "2022-07-19T03:31:47.745Z"
   },
   {
    "duration": 14,
    "start_time": "2022-07-19T03:31:47.756Z"
   },
   {
    "duration": 78,
    "start_time": "2022-07-19T03:31:47.772Z"
   },
   {
    "duration": 4,
    "start_time": "2022-07-19T03:31:47.853Z"
   },
   {
    "duration": 89,
    "start_time": "2022-07-19T03:31:47.859Z"
   },
   {
    "duration": 11,
    "start_time": "2022-07-19T03:31:47.950Z"
   },
   {
    "duration": 6,
    "start_time": "2022-07-19T03:31:48.046Z"
   },
   {
    "duration": 9,
    "start_time": "2022-07-19T03:31:48.054Z"
   },
   {
    "duration": 84,
    "start_time": "2022-07-19T03:31:48.065Z"
   },
   {
    "duration": 14,
    "start_time": "2022-07-19T03:31:48.151Z"
   },
   {
    "duration": 8,
    "start_time": "2022-07-19T03:31:48.247Z"
   },
   {
    "duration": 13,
    "start_time": "2022-07-19T03:31:48.256Z"
   },
   {
    "duration": 5,
    "start_time": "2022-07-19T03:31:48.345Z"
   },
   {
    "duration": 99,
    "start_time": "2022-07-19T03:31:48.351Z"
   },
   {
    "duration": 1324,
    "start_time": "2022-07-19T03:32:09.938Z"
   },
   {
    "duration": 27,
    "start_time": "2022-07-19T03:32:11.263Z"
   },
   {
    "duration": 4,
    "start_time": "2022-07-19T03:32:11.291Z"
   },
   {
    "duration": 16,
    "start_time": "2022-07-19T03:32:11.296Z"
   },
   {
    "duration": 9,
    "start_time": "2022-07-19T03:32:11.314Z"
   },
   {
    "duration": 5,
    "start_time": "2022-07-19T03:32:11.325Z"
   },
   {
    "duration": 11,
    "start_time": "2022-07-19T03:32:11.332Z"
   },
   {
    "duration": 5,
    "start_time": "2022-07-19T03:32:11.344Z"
   },
   {
    "duration": 18,
    "start_time": "2022-07-19T03:32:11.350Z"
   },
   {
    "duration": 10,
    "start_time": "2022-07-19T03:32:11.370Z"
   },
   {
    "duration": 5,
    "start_time": "2022-07-19T03:32:11.381Z"
   },
   {
    "duration": 21,
    "start_time": "2022-07-19T03:32:11.388Z"
   },
   {
    "duration": 10,
    "start_time": "2022-07-19T03:32:11.410Z"
   },
   {
    "duration": 4,
    "start_time": "2022-07-19T03:32:11.446Z"
   },
   {
    "duration": 7,
    "start_time": "2022-07-19T03:32:11.451Z"
   },
   {
    "duration": 14,
    "start_time": "2022-07-19T03:32:11.459Z"
   },
   {
    "duration": 6,
    "start_time": "2022-07-19T03:32:11.474Z"
   },
   {
    "duration": 3239,
    "start_time": "2022-07-19T03:32:11.481Z"
   },
   {
    "duration": 7,
    "start_time": "2022-07-19T03:32:14.721Z"
   },
   {
    "duration": 16,
    "start_time": "2022-07-19T03:32:14.730Z"
   },
   {
    "duration": 4,
    "start_time": "2022-07-19T03:32:14.747Z"
   },
   {
    "duration": 102,
    "start_time": "2022-07-19T03:32:14.752Z"
   },
   {
    "duration": 19,
    "start_time": "2022-07-19T03:32:14.946Z"
   },
   {
    "duration": 5,
    "start_time": "2022-07-19T03:32:14.967Z"
   },
   {
    "duration": 12,
    "start_time": "2022-07-19T03:32:14.974Z"
   },
   {
    "duration": 11,
    "start_time": "2022-07-19T03:32:14.987Z"
   },
   {
    "duration": 146,
    "start_time": "2022-07-19T03:32:15.000Z"
   },
   {
    "duration": 20,
    "start_time": "2022-07-19T03:32:15.149Z"
   },
   {
    "duration": 6,
    "start_time": "2022-07-19T03:32:15.170Z"
   },
   {
    "duration": 207,
    "start_time": "2022-07-19T03:32:15.177Z"
   },
   {
    "duration": 189,
    "start_time": "2022-07-19T03:32:15.386Z"
   },
   {
    "duration": 5,
    "start_time": "2022-07-19T03:32:15.576Z"
   },
   {
    "duration": 126,
    "start_time": "2022-07-19T03:32:15.582Z"
   },
   {
    "duration": 3,
    "start_time": "2022-07-19T03:32:15.710Z"
   },
   {
    "duration": 13,
    "start_time": "2022-07-19T03:32:15.714Z"
   },
   {
    "duration": 37,
    "start_time": "2022-07-19T03:32:15.729Z"
   },
   {
    "duration": 8,
    "start_time": "2022-07-19T03:32:15.768Z"
   },
   {
    "duration": 45,
    "start_time": "2022-07-19T03:32:15.777Z"
   },
   {
    "duration": 1481,
    "start_time": "2022-07-19T03:32:15.824Z"
   },
   {
    "duration": 12,
    "start_time": "2022-07-19T03:32:17.307Z"
   },
   {
    "duration": 24,
    "start_time": "2022-07-19T03:32:17.320Z"
   },
   {
    "duration": 453,
    "start_time": "2022-07-19T03:32:17.346Z"
   },
   {
    "duration": 348,
    "start_time": "2022-07-19T03:32:17.801Z"
   },
   {
    "duration": 5,
    "start_time": "2022-07-19T03:32:18.151Z"
   },
   {
    "duration": 10,
    "start_time": "2022-07-19T03:32:18.157Z"
   },
   {
    "duration": 10,
    "start_time": "2022-07-19T03:32:18.168Z"
   },
   {
    "duration": 71,
    "start_time": "2022-07-19T03:32:18.180Z"
   },
   {
    "duration": 5,
    "start_time": "2022-07-19T03:32:18.253Z"
   },
   {
    "duration": 89,
    "start_time": "2022-07-19T03:32:18.259Z"
   },
   {
    "duration": 97,
    "start_time": "2022-07-19T03:32:18.350Z"
   },
   {
    "duration": 5,
    "start_time": "2022-07-19T03:32:18.449Z"
   },
   {
    "duration": 93,
    "start_time": "2022-07-19T03:32:18.456Z"
   },
   {
    "duration": 6,
    "start_time": "2022-07-19T03:32:18.551Z"
   },
   {
    "duration": 92,
    "start_time": "2022-07-19T03:32:18.559Z"
   },
   {
    "duration": 93,
    "start_time": "2022-07-19T03:32:18.653Z"
   },
   {
    "duration": 9,
    "start_time": "2022-07-19T03:32:18.749Z"
   },
   {
    "duration": 86,
    "start_time": "2022-07-19T03:32:18.760Z"
   },
   {
    "duration": 20,
    "start_time": "2022-07-19T03:32:18.849Z"
   },
   {
    "duration": 1616,
    "start_time": "2022-07-20T00:25:37.306Z"
   },
   {
    "duration": 65,
    "start_time": "2022-07-20T00:25:38.924Z"
   },
   {
    "duration": 4,
    "start_time": "2022-07-20T00:25:38.991Z"
   },
   {
    "duration": 21,
    "start_time": "2022-07-20T00:25:38.997Z"
   },
   {
    "duration": 14,
    "start_time": "2022-07-20T00:25:39.020Z"
   },
   {
    "duration": 4,
    "start_time": "2022-07-20T00:25:39.036Z"
   },
   {
    "duration": 12,
    "start_time": "2022-07-20T00:25:39.042Z"
   },
   {
    "duration": 5,
    "start_time": "2022-07-20T00:25:39.056Z"
   },
   {
    "duration": 21,
    "start_time": "2022-07-20T00:25:39.063Z"
   },
   {
    "duration": 30,
    "start_time": "2022-07-20T00:25:39.088Z"
   },
   {
    "duration": 5,
    "start_time": "2022-07-20T00:25:39.120Z"
   },
   {
    "duration": 20,
    "start_time": "2022-07-20T00:25:39.127Z"
   },
   {
    "duration": 9,
    "start_time": "2022-07-20T00:25:39.149Z"
   },
   {
    "duration": 4,
    "start_time": "2022-07-20T00:25:39.159Z"
   },
   {
    "duration": 17,
    "start_time": "2022-07-20T00:25:39.165Z"
   },
   {
    "duration": 13,
    "start_time": "2022-07-20T00:25:39.209Z"
   },
   {
    "duration": 8,
    "start_time": "2022-07-20T00:25:39.224Z"
   },
   {
    "duration": 3710,
    "start_time": "2022-07-20T00:25:39.234Z"
   },
   {
    "duration": 8,
    "start_time": "2022-07-20T00:25:42.946Z"
   },
   {
    "duration": 6,
    "start_time": "2022-07-20T00:25:42.955Z"
   },
   {
    "duration": 6,
    "start_time": "2022-07-20T00:25:42.962Z"
   },
   {
    "duration": 142,
    "start_time": "2022-07-20T00:25:42.969Z"
   },
   {
    "duration": 18,
    "start_time": "2022-07-20T00:25:43.113Z"
   },
   {
    "duration": 5,
    "start_time": "2022-07-20T00:25:43.132Z"
   },
   {
    "duration": 11,
    "start_time": "2022-07-20T00:25:43.139Z"
   },
   {
    "duration": 9,
    "start_time": "2022-07-20T00:25:43.152Z"
   },
   {
    "duration": 150,
    "start_time": "2022-07-20T00:25:43.163Z"
   },
   {
    "duration": 26,
    "start_time": "2022-07-20T00:25:43.319Z"
   },
   {
    "duration": 5,
    "start_time": "2022-07-20T00:25:43.347Z"
   },
   {
    "duration": 266,
    "start_time": "2022-07-20T00:25:43.353Z"
   },
   {
    "duration": 202,
    "start_time": "2022-07-20T00:25:43.620Z"
   },
   {
    "duration": 4,
    "start_time": "2022-07-20T00:25:43.823Z"
   },
   {
    "duration": 131,
    "start_time": "2022-07-20T00:25:43.829Z"
   },
   {
    "duration": 3,
    "start_time": "2022-07-20T00:25:43.961Z"
   },
   {
    "duration": 8,
    "start_time": "2022-07-20T00:25:43.965Z"
   },
   {
    "duration": 46,
    "start_time": "2022-07-20T00:25:43.974Z"
   },
   {
    "duration": 8,
    "start_time": "2022-07-20T00:25:44.021Z"
   },
   {
    "duration": 9,
    "start_time": "2022-07-20T00:25:44.031Z"
   },
   {
    "duration": 1668,
    "start_time": "2022-07-20T00:25:44.041Z"
   },
   {
    "duration": 12,
    "start_time": "2022-07-20T00:25:45.711Z"
   },
   {
    "duration": 28,
    "start_time": "2022-07-20T00:25:45.724Z"
   },
   {
    "duration": 512,
    "start_time": "2022-07-20T00:25:45.754Z"
   },
   {
    "duration": 372,
    "start_time": "2022-07-20T00:25:46.268Z"
   },
   {
    "duration": 6,
    "start_time": "2022-07-20T00:25:46.642Z"
   },
   {
    "duration": 36,
    "start_time": "2022-07-20T00:25:46.650Z"
   },
   {
    "duration": 30,
    "start_time": "2022-07-20T00:25:46.688Z"
   },
   {
    "duration": 99,
    "start_time": "2022-07-20T00:25:46.721Z"
   },
   {
    "duration": 88,
    "start_time": "2022-07-20T00:25:46.822Z"
   },
   {
    "duration": 97,
    "start_time": "2022-07-20T00:25:46.913Z"
   },
   {
    "duration": 6,
    "start_time": "2022-07-20T00:25:47.012Z"
   },
   {
    "duration": 36,
    "start_time": "2022-07-20T00:25:47.020Z"
   },
   {
    "duration": 54,
    "start_time": "2022-07-20T00:25:47.058Z"
   },
   {
    "duration": 8,
    "start_time": "2022-07-20T00:25:47.114Z"
   },
   {
    "duration": 187,
    "start_time": "2022-07-20T00:25:47.124Z"
   },
   {
    "duration": 11,
    "start_time": "2022-07-20T00:25:47.313Z"
   },
   {
    "duration": 85,
    "start_time": "2022-07-20T00:25:47.326Z"
   },
   {
    "duration": 98,
    "start_time": "2022-07-20T00:25:47.413Z"
   },
   {
    "duration": 29,
    "start_time": "2022-07-20T00:25:47.513Z"
   },
   {
    "duration": 1368,
    "start_time": "2022-07-20T00:25:51.806Z"
   },
   {
    "duration": 30,
    "start_time": "2022-07-20T00:25:53.176Z"
   },
   {
    "duration": 4,
    "start_time": "2022-07-20T00:25:53.207Z"
   },
   {
    "duration": 64,
    "start_time": "2022-07-20T00:25:53.213Z"
   },
   {
    "duration": 33,
    "start_time": "2022-07-20T00:25:53.278Z"
   },
   {
    "duration": 21,
    "start_time": "2022-07-20T00:25:53.313Z"
   },
   {
    "duration": 29,
    "start_time": "2022-07-20T00:25:53.336Z"
   },
   {
    "duration": 10,
    "start_time": "2022-07-20T00:25:53.368Z"
   },
   {
    "duration": 43,
    "start_time": "2022-07-20T00:25:53.380Z"
   },
   {
    "duration": 20,
    "start_time": "2022-07-20T00:25:53.426Z"
   },
   {
    "duration": 21,
    "start_time": "2022-07-20T00:25:53.448Z"
   },
   {
    "duration": 51,
    "start_time": "2022-07-20T00:25:53.470Z"
   },
   {
    "duration": 10,
    "start_time": "2022-07-20T00:25:53.522Z"
   },
   {
    "duration": 26,
    "start_time": "2022-07-20T00:25:53.534Z"
   },
   {
    "duration": 17,
    "start_time": "2022-07-20T00:25:53.562Z"
   },
   {
    "duration": 31,
    "start_time": "2022-07-20T00:25:53.580Z"
   },
   {
    "duration": 20,
    "start_time": "2022-07-20T00:25:53.612Z"
   },
   {
    "duration": 3541,
    "start_time": "2022-07-20T00:25:53.634Z"
   },
   {
    "duration": 9,
    "start_time": "2022-07-20T00:25:57.177Z"
   },
   {
    "duration": 30,
    "start_time": "2022-07-20T00:25:57.189Z"
   },
   {
    "duration": 22,
    "start_time": "2022-07-20T00:25:57.221Z"
   },
   {
    "duration": 69,
    "start_time": "2022-07-20T00:25:57.245Z"
   },
   {
    "duration": 109,
    "start_time": "2022-07-20T00:25:57.318Z"
   },
   {
    "duration": 15,
    "start_time": "2022-07-20T00:25:57.428Z"
   },
   {
    "duration": 26,
    "start_time": "2022-07-20T00:25:57.445Z"
   },
   {
    "duration": 34,
    "start_time": "2022-07-20T00:25:57.473Z"
   },
   {
    "duration": 101,
    "start_time": "2022-07-20T00:25:57.510Z"
   },
   {
    "duration": 116,
    "start_time": "2022-07-20T00:25:57.617Z"
   },
   {
    "duration": 21,
    "start_time": "2022-07-20T00:25:57.734Z"
   },
   {
    "duration": 235,
    "start_time": "2022-07-20T00:25:57.757Z"
   },
   {
    "duration": 219,
    "start_time": "2022-07-20T00:25:57.994Z"
   },
   {
    "duration": 5,
    "start_time": "2022-07-20T00:25:58.215Z"
   },
   {
    "duration": 139,
    "start_time": "2022-07-20T00:25:58.222Z"
   },
   {
    "duration": 3,
    "start_time": "2022-07-20T00:25:58.362Z"
   },
   {
    "duration": 38,
    "start_time": "2022-07-20T00:25:58.367Z"
   },
   {
    "duration": 49,
    "start_time": "2022-07-20T00:25:58.406Z"
   },
   {
    "duration": 21,
    "start_time": "2022-07-20T00:25:58.456Z"
   },
   {
    "duration": 29,
    "start_time": "2022-07-20T00:25:58.479Z"
   },
   {
    "duration": 1644,
    "start_time": "2022-07-20T00:25:58.510Z"
   },
   {
    "duration": 13,
    "start_time": "2022-07-20T00:26:00.155Z"
   },
   {
    "duration": 24,
    "start_time": "2022-07-20T00:26:00.169Z"
   },
   {
    "duration": 504,
    "start_time": "2022-07-20T00:26:00.194Z"
   },
   {
    "duration": 386,
    "start_time": "2022-07-20T00:26:00.700Z"
   },
   {
    "duration": 5,
    "start_time": "2022-07-20T00:26:01.088Z"
   },
   {
    "duration": 38,
    "start_time": "2022-07-20T00:26:01.095Z"
   },
   {
    "duration": 28,
    "start_time": "2022-07-20T00:26:01.136Z"
   },
   {
    "duration": 149,
    "start_time": "2022-07-20T00:26:01.166Z"
   },
   {
    "duration": 93,
    "start_time": "2022-07-20T00:26:01.318Z"
   },
   {
    "duration": 10,
    "start_time": "2022-07-20T00:26:01.413Z"
   },
   {
    "duration": 43,
    "start_time": "2022-07-20T00:26:01.426Z"
   },
   {
    "duration": 21,
    "start_time": "2022-07-20T00:26:01.509Z"
   },
   {
    "duration": 81,
    "start_time": "2022-07-20T00:26:01.532Z"
   },
   {
    "duration": 98,
    "start_time": "2022-07-20T00:26:01.615Z"
   },
   {
    "duration": 15,
    "start_time": "2022-07-20T00:26:01.715Z"
   },
   {
    "duration": 8,
    "start_time": "2022-07-20T00:26:01.811Z"
   },
   {
    "duration": 89,
    "start_time": "2022-07-20T00:26:01.821Z"
   },
   {
    "duration": 12,
    "start_time": "2022-07-20T00:26:01.912Z"
   },
   {
    "duration": 89,
    "start_time": "2022-07-20T00:26:01.926Z"
   },
   {
    "duration": 1385,
    "start_time": "2022-07-20T00:26:14.425Z"
   },
   {
    "duration": 30,
    "start_time": "2022-07-20T00:26:15.811Z"
   },
   {
    "duration": 4,
    "start_time": "2022-07-20T00:26:15.842Z"
   },
   {
    "duration": 23,
    "start_time": "2022-07-20T00:26:15.849Z"
   },
   {
    "duration": 14,
    "start_time": "2022-07-20T00:26:15.873Z"
   },
   {
    "duration": 5,
    "start_time": "2022-07-20T00:26:15.889Z"
   },
   {
    "duration": 9,
    "start_time": "2022-07-20T00:26:15.895Z"
   },
   {
    "duration": 5,
    "start_time": "2022-07-20T00:26:15.905Z"
   },
   {
    "duration": 18,
    "start_time": "2022-07-20T00:26:15.911Z"
   },
   {
    "duration": 10,
    "start_time": "2022-07-20T00:26:15.931Z"
   },
   {
    "duration": 5,
    "start_time": "2022-07-20T00:26:15.942Z"
   },
   {
    "duration": 19,
    "start_time": "2022-07-20T00:26:15.948Z"
   },
   {
    "duration": 41,
    "start_time": "2022-07-20T00:26:15.969Z"
   },
   {
    "duration": 5,
    "start_time": "2022-07-20T00:26:16.011Z"
   },
   {
    "duration": 27,
    "start_time": "2022-07-20T00:26:16.018Z"
   },
   {
    "duration": 17,
    "start_time": "2022-07-20T00:26:16.046Z"
   },
   {
    "duration": 6,
    "start_time": "2022-07-20T00:26:16.065Z"
   },
   {
    "duration": 3562,
    "start_time": "2022-07-20T00:26:16.073Z"
   },
   {
    "duration": 8,
    "start_time": "2022-07-20T00:26:19.637Z"
   },
   {
    "duration": 8,
    "start_time": "2022-07-20T00:26:19.646Z"
   },
   {
    "duration": 7,
    "start_time": "2022-07-20T00:26:19.655Z"
   },
   {
    "duration": 155,
    "start_time": "2022-07-20T00:26:19.663Z"
   },
   {
    "duration": 17,
    "start_time": "2022-07-20T00:26:19.819Z"
   },
   {
    "duration": 6,
    "start_time": "2022-07-20T00:26:19.838Z"
   },
   {
    "duration": 14,
    "start_time": "2022-07-20T00:26:19.845Z"
   },
   {
    "duration": 9,
    "start_time": "2022-07-20T00:26:19.861Z"
   },
   {
    "duration": 147,
    "start_time": "2022-07-20T00:26:19.871Z"
   },
   {
    "duration": 24,
    "start_time": "2022-07-20T00:26:20.110Z"
   },
   {
    "duration": 7,
    "start_time": "2022-07-20T00:26:20.136Z"
   },
   {
    "duration": 238,
    "start_time": "2022-07-20T00:26:20.145Z"
   },
   {
    "duration": 208,
    "start_time": "2022-07-20T00:26:20.385Z"
   },
   {
    "duration": 5,
    "start_time": "2022-07-20T00:26:20.595Z"
   },
   {
    "duration": 133,
    "start_time": "2022-07-20T00:26:20.610Z"
   },
   {
    "duration": 4,
    "start_time": "2022-07-20T00:26:20.745Z"
   },
   {
    "duration": 10,
    "start_time": "2022-07-20T00:26:20.750Z"
   },
   {
    "duration": 34,
    "start_time": "2022-07-20T00:26:20.761Z"
   },
   {
    "duration": 10,
    "start_time": "2022-07-20T00:26:20.809Z"
   },
   {
    "duration": 9,
    "start_time": "2022-07-20T00:26:20.820Z"
   },
   {
    "duration": 1646,
    "start_time": "2022-07-20T00:26:20.830Z"
   },
   {
    "duration": 12,
    "start_time": "2022-07-20T00:26:22.479Z"
   },
   {
    "duration": 27,
    "start_time": "2022-07-20T00:26:22.493Z"
   },
   {
    "duration": 486,
    "start_time": "2022-07-20T00:26:22.521Z"
   },
   {
    "duration": 362,
    "start_time": "2022-07-20T00:26:23.010Z"
   },
   {
    "duration": 4,
    "start_time": "2022-07-20T00:26:23.374Z"
   },
   {
    "duration": 11,
    "start_time": "2022-07-20T00:26:23.379Z"
   },
   {
    "duration": 20,
    "start_time": "2022-07-20T00:26:23.391Z"
   },
   {
    "duration": 97,
    "start_time": "2022-07-20T00:26:23.413Z"
   },
   {
    "duration": 8,
    "start_time": "2022-07-20T00:26:23.513Z"
   },
   {
    "duration": 88,
    "start_time": "2022-07-20T00:26:23.524Z"
   },
   {
    "duration": 12,
    "start_time": "2022-07-20T00:26:23.614Z"
   },
   {
    "duration": 8,
    "start_time": "2022-07-20T00:26:23.628Z"
   },
   {
    "duration": 71,
    "start_time": "2022-07-20T00:26:23.639Z"
   },
   {
    "duration": 8,
    "start_time": "2022-07-20T00:26:23.712Z"
   },
   {
    "duration": 93,
    "start_time": "2022-07-20T00:26:23.723Z"
   },
   {
    "duration": 96,
    "start_time": "2022-07-20T00:26:23.819Z"
   },
   {
    "duration": 102,
    "start_time": "2022-07-20T00:26:23.917Z"
   },
   {
    "duration": 89,
    "start_time": "2022-07-20T00:26:24.021Z"
   },
   {
    "duration": 27,
    "start_time": "2022-07-20T00:26:24.112Z"
   },
   {
    "duration": 1802,
    "start_time": "2022-07-20T00:34:50.108Z"
   },
   {
    "duration": 1356,
    "start_time": "2022-07-20T00:34:57.573Z"
   },
   {
    "duration": 30,
    "start_time": "2022-07-20T00:34:58.931Z"
   },
   {
    "duration": 4,
    "start_time": "2022-07-20T00:34:58.962Z"
   },
   {
    "duration": 16,
    "start_time": "2022-07-20T00:34:58.969Z"
   },
   {
    "duration": 12,
    "start_time": "2022-07-20T00:34:58.986Z"
   },
   {
    "duration": 5,
    "start_time": "2022-07-20T00:34:59.000Z"
   },
   {
    "duration": 26,
    "start_time": "2022-07-20T00:34:59.006Z"
   },
   {
    "duration": 6,
    "start_time": "2022-07-20T00:34:59.034Z"
   },
   {
    "duration": 25,
    "start_time": "2022-07-20T00:34:59.041Z"
   },
   {
    "duration": 12,
    "start_time": "2022-07-20T00:34:59.070Z"
   },
   {
    "duration": 5,
    "start_time": "2022-07-20T00:34:59.083Z"
   },
   {
    "duration": 29,
    "start_time": "2022-07-20T00:34:59.089Z"
   },
   {
    "duration": 11,
    "start_time": "2022-07-20T00:34:59.120Z"
   },
   {
    "duration": 5,
    "start_time": "2022-07-20T00:34:59.132Z"
   },
   {
    "duration": 8,
    "start_time": "2022-07-20T00:34:59.138Z"
   },
   {
    "duration": 16,
    "start_time": "2022-07-20T00:34:59.148Z"
   },
   {
    "duration": 6,
    "start_time": "2022-07-20T00:34:59.166Z"
   },
   {
    "duration": 3948,
    "start_time": "2022-07-20T00:34:59.173Z"
   },
   {
    "duration": 7,
    "start_time": "2022-07-20T00:35:03.127Z"
   },
   {
    "duration": 6,
    "start_time": "2022-07-20T00:35:03.136Z"
   },
   {
    "duration": 15,
    "start_time": "2022-07-20T00:35:03.143Z"
   },
   {
    "duration": 66,
    "start_time": "2022-07-20T00:35:03.159Z"
   },
   {
    "duration": 117,
    "start_time": "2022-07-20T00:35:03.227Z"
   },
   {
    "duration": 6,
    "start_time": "2022-07-20T00:35:03.346Z"
   },
   {
    "duration": 20,
    "start_time": "2022-07-20T00:35:03.353Z"
   },
   {
    "duration": 11,
    "start_time": "2022-07-20T00:35:03.375Z"
   },
   {
    "duration": 150,
    "start_time": "2022-07-20T00:35:03.387Z"
   },
   {
    "duration": 76,
    "start_time": "2022-07-20T00:35:03.540Z"
   },
   {
    "duration": 9,
    "start_time": "2022-07-20T00:35:03.618Z"
   },
   {
    "duration": 237,
    "start_time": "2022-07-20T00:35:03.629Z"
   },
   {
    "duration": 216,
    "start_time": "2022-07-20T00:35:03.868Z"
   },
   {
    "duration": 6,
    "start_time": "2022-07-20T00:35:04.085Z"
   },
   {
    "duration": 168,
    "start_time": "2022-07-20T00:35:04.092Z"
   },
   {
    "duration": 3,
    "start_time": "2022-07-20T00:35:04.262Z"
   },
   {
    "duration": 17,
    "start_time": "2022-07-20T00:35:04.266Z"
   },
   {
    "duration": 53,
    "start_time": "2022-07-20T00:35:04.285Z"
   },
   {
    "duration": 10,
    "start_time": "2022-07-20T00:35:04.340Z"
   },
   {
    "duration": 9,
    "start_time": "2022-07-20T00:35:04.352Z"
   },
   {
    "duration": 1867,
    "start_time": "2022-07-20T00:35:04.363Z"
   },
   {
    "duration": 12,
    "start_time": "2022-07-20T00:35:06.232Z"
   },
   {
    "duration": 18,
    "start_time": "2022-07-20T00:35:06.246Z"
   },
   {
    "duration": 508,
    "start_time": "2022-07-20T00:35:06.266Z"
   },
   {
    "duration": 390,
    "start_time": "2022-07-20T00:35:06.776Z"
   },
   {
    "duration": 5,
    "start_time": "2022-07-20T00:35:07.168Z"
   },
   {
    "duration": 6,
    "start_time": "2022-07-20T00:35:07.174Z"
   },
   {
    "duration": 40,
    "start_time": "2022-07-20T00:35:07.182Z"
   },
   {
    "duration": 124,
    "start_time": "2022-07-20T00:35:07.225Z"
   },
   {
    "duration": 62,
    "start_time": "2022-07-20T00:35:07.352Z"
   },
   {
    "duration": 110,
    "start_time": "2022-07-20T00:35:07.416Z"
   },
   {
    "duration": 7,
    "start_time": "2022-07-20T00:35:07.528Z"
   },
   {
    "duration": 6,
    "start_time": "2022-07-20T00:35:07.537Z"
   },
   {
    "duration": 68,
    "start_time": "2022-07-20T00:35:07.546Z"
   },
   {
    "duration": 102,
    "start_time": "2022-07-20T00:35:07.616Z"
   },
   {
    "duration": 98,
    "start_time": "2022-07-20T00:35:07.722Z"
   },
   {
    "duration": 21,
    "start_time": "2022-07-20T00:35:07.822Z"
   },
   {
    "duration": 71,
    "start_time": "2022-07-20T00:35:07.846Z"
   },
   {
    "duration": 20,
    "start_time": "2022-07-20T00:35:07.923Z"
   },
   {
    "duration": 20,
    "start_time": "2022-07-20T00:35:08.009Z"
   },
   {
    "duration": 3,
    "start_time": "2022-07-20T01:17:26.566Z"
   },
   {
    "duration": 66,
    "start_time": "2022-07-20T01:24:27.338Z"
   },
   {
    "duration": 52,
    "start_time": "2022-07-20T01:24:38.323Z"
   },
   {
    "duration": 8,
    "start_time": "2022-07-20T01:24:46.440Z"
   },
   {
    "duration": 58,
    "start_time": "2022-07-20T01:26:54.122Z"
   },
   {
    "duration": 6,
    "start_time": "2022-07-20T01:27:06.973Z"
   },
   {
    "duration": 8,
    "start_time": "2022-07-20T01:27:14.729Z"
   },
   {
    "duration": 7,
    "start_time": "2022-07-20T01:27:19.393Z"
   },
   {
    "duration": 7,
    "start_time": "2022-07-20T01:27:26.151Z"
   },
   {
    "duration": 9,
    "start_time": "2022-07-20T01:27:31.458Z"
   },
   {
    "duration": 9,
    "start_time": "2022-07-20T01:27:35.855Z"
   },
   {
    "duration": 9,
    "start_time": "2022-07-20T01:27:40.050Z"
   },
   {
    "duration": 8,
    "start_time": "2022-07-20T01:27:55.983Z"
   },
   {
    "duration": 5,
    "start_time": "2022-07-20T01:28:12.243Z"
   },
   {
    "duration": 7,
    "start_time": "2022-07-20T01:29:28.600Z"
   },
   {
    "duration": 8,
    "start_time": "2022-07-20T01:29:37.156Z"
   },
   {
    "duration": 10,
    "start_time": "2022-07-20T01:29:52.684Z"
   },
   {
    "duration": 1543,
    "start_time": "2022-07-26T17:58:01.049Z"
   },
   {
    "duration": 62,
    "start_time": "2022-07-26T17:58:02.594Z"
   },
   {
    "duration": 4,
    "start_time": "2022-07-26T17:58:02.658Z"
   },
   {
    "duration": 21,
    "start_time": "2022-07-26T17:58:02.664Z"
   },
   {
    "duration": 11,
    "start_time": "2022-07-26T17:58:02.687Z"
   },
   {
    "duration": 5,
    "start_time": "2022-07-26T17:58:02.700Z"
   },
   {
    "duration": 13,
    "start_time": "2022-07-26T17:58:02.707Z"
   },
   {
    "duration": 3,
    "start_time": "2022-07-26T17:58:02.721Z"
   },
   {
    "duration": 26,
    "start_time": "2022-07-26T17:58:02.726Z"
   },
   {
    "duration": 10,
    "start_time": "2022-07-26T17:58:02.760Z"
   },
   {
    "duration": 7,
    "start_time": "2022-07-26T17:58:02.772Z"
   },
   {
    "duration": 22,
    "start_time": "2022-07-26T17:58:02.780Z"
   },
   {
    "duration": 9,
    "start_time": "2022-07-26T17:58:02.804Z"
   },
   {
    "duration": 9,
    "start_time": "2022-07-26T17:58:02.814Z"
   },
   {
    "duration": 10,
    "start_time": "2022-07-26T17:58:02.825Z"
   },
   {
    "duration": 34,
    "start_time": "2022-07-26T17:58:02.836Z"
   },
   {
    "duration": 6,
    "start_time": "2022-07-26T17:58:02.872Z"
   },
   {
    "duration": 3536,
    "start_time": "2022-07-26T17:58:02.879Z"
   },
   {
    "duration": 10,
    "start_time": "2022-07-26T17:58:06.417Z"
   },
   {
    "duration": 13,
    "start_time": "2022-07-26T17:58:06.430Z"
   },
   {
    "duration": 17,
    "start_time": "2022-07-26T17:58:06.446Z"
   },
   {
    "duration": 101,
    "start_time": "2022-07-26T17:58:06.465Z"
   },
   {
    "duration": 107,
    "start_time": "2022-07-26T17:58:06.568Z"
   },
   {
    "duration": 6,
    "start_time": "2022-07-26T17:58:06.677Z"
   },
   {
    "duration": 15,
    "start_time": "2022-07-26T17:58:06.685Z"
   },
   {
    "duration": 11,
    "start_time": "2022-07-26T17:58:06.701Z"
   },
   {
    "duration": 56,
    "start_time": "2022-07-26T17:58:06.714Z"
   },
   {
    "duration": 20,
    "start_time": "2022-07-26T17:58:06.865Z"
   },
   {
    "duration": 7,
    "start_time": "2022-07-26T17:58:06.887Z"
   },
   {
    "duration": 252,
    "start_time": "2022-07-26T17:58:06.896Z"
   },
   {
    "duration": 180,
    "start_time": "2022-07-26T17:58:07.150Z"
   },
   {
    "duration": 4,
    "start_time": "2022-07-26T17:58:07.332Z"
   },
   {
    "duration": 128,
    "start_time": "2022-07-26T17:58:07.337Z"
   },
   {
    "duration": 3,
    "start_time": "2022-07-26T17:58:07.467Z"
   },
   {
    "duration": 6,
    "start_time": "2022-07-26T17:58:07.471Z"
   },
   {
    "duration": 33,
    "start_time": "2022-07-26T17:58:07.479Z"
   },
   {
    "duration": 8,
    "start_time": "2022-07-26T17:58:07.513Z"
   },
   {
    "duration": 8,
    "start_time": "2022-07-26T17:58:07.523Z"
   },
   {
    "duration": 1607,
    "start_time": "2022-07-26T17:58:07.532Z"
   },
   {
    "duration": 12,
    "start_time": "2022-07-26T17:58:09.141Z"
   },
   {
    "duration": 16,
    "start_time": "2022-07-26T17:58:09.154Z"
   },
   {
    "duration": 475,
    "start_time": "2022-07-26T17:58:09.171Z"
   },
   {
    "duration": 358,
    "start_time": "2022-07-26T17:58:09.647Z"
   },
   {
    "duration": 5,
    "start_time": "2022-07-26T17:58:10.006Z"
   },
   {
    "duration": 10,
    "start_time": "2022-07-26T17:58:10.012Z"
   },
   {
    "duration": 38,
    "start_time": "2022-07-26T17:58:10.024Z"
   },
   {
    "duration": 10,
    "start_time": "2022-07-26T17:58:10.064Z"
   },
   {
    "duration": 5,
    "start_time": "2022-07-26T17:58:10.160Z"
   },
   {
    "duration": 8,
    "start_time": "2022-07-26T17:58:10.167Z"
   },
   {
    "duration": 6,
    "start_time": "2022-07-26T17:58:10.261Z"
   },
   {
    "duration": 6,
    "start_time": "2022-07-26T17:58:10.268Z"
   },
   {
    "duration": 8,
    "start_time": "2022-07-26T17:58:10.275Z"
   },
   {
    "duration": 80,
    "start_time": "2022-07-26T17:58:10.285Z"
   },
   {
    "duration": 12,
    "start_time": "2022-07-26T17:58:10.367Z"
   },
   {
    "duration": 90,
    "start_time": "2022-07-26T17:58:10.381Z"
   },
   {
    "duration": 7,
    "start_time": "2022-07-26T17:58:10.473Z"
   },
   {
    "duration": 82,
    "start_time": "2022-07-26T17:58:10.481Z"
   },
   {
    "duration": 12,
    "start_time": "2022-07-26T17:58:10.564Z"
   },
   {
    "duration": 1427,
    "start_time": "2022-07-27T00:49:06.929Z"
   },
   {
    "duration": 63,
    "start_time": "2022-07-27T00:49:08.358Z"
   },
   {
    "duration": 4,
    "start_time": "2022-07-27T00:49:08.422Z"
   },
   {
    "duration": 15,
    "start_time": "2022-07-27T00:49:08.428Z"
   },
   {
    "duration": 10,
    "start_time": "2022-07-27T00:49:08.445Z"
   },
   {
    "duration": 6,
    "start_time": "2022-07-27T00:49:08.457Z"
   },
   {
    "duration": 10,
    "start_time": "2022-07-27T00:49:08.464Z"
   },
   {
    "duration": 7,
    "start_time": "2022-07-27T00:49:08.476Z"
   },
   {
    "duration": 18,
    "start_time": "2022-07-27T00:49:08.484Z"
   },
   {
    "duration": 10,
    "start_time": "2022-07-27T00:49:08.504Z"
   },
   {
    "duration": 5,
    "start_time": "2022-07-27T00:49:08.515Z"
   },
   {
    "duration": 28,
    "start_time": "2022-07-27T00:49:08.521Z"
   },
   {
    "duration": 11,
    "start_time": "2022-07-27T00:49:08.573Z"
   },
   {
    "duration": 8,
    "start_time": "2022-07-27T00:49:08.586Z"
   },
   {
    "duration": 11,
    "start_time": "2022-07-27T00:49:08.595Z"
   },
   {
    "duration": 13,
    "start_time": "2022-07-27T00:49:08.608Z"
   },
   {
    "duration": 8,
    "start_time": "2022-07-27T00:49:08.623Z"
   },
   {
    "duration": 3603,
    "start_time": "2022-07-27T00:49:08.632Z"
   },
   {
    "duration": 10,
    "start_time": "2022-07-27T00:49:12.237Z"
   },
   {
    "duration": 3,
    "start_time": "2022-07-27T00:49:12.248Z"
   },
   {
    "duration": 20,
    "start_time": "2022-07-27T00:49:12.253Z"
   },
   {
    "duration": 108,
    "start_time": "2022-07-27T00:49:12.275Z"
   },
   {
    "duration": 106,
    "start_time": "2022-07-27T00:49:12.384Z"
   },
   {
    "duration": 6,
    "start_time": "2022-07-27T00:49:12.492Z"
   },
   {
    "duration": 14,
    "start_time": "2022-07-27T00:49:12.501Z"
   },
   {
    "duration": 12,
    "start_time": "2022-07-27T00:49:12.517Z"
   },
   {
    "duration": 144,
    "start_time": "2022-07-27T00:49:12.531Z"
   },
   {
    "duration": 123,
    "start_time": "2022-07-27T00:49:12.680Z"
   },
   {
    "duration": 6,
    "start_time": "2022-07-27T00:49:12.805Z"
   },
   {
    "duration": 210,
    "start_time": "2022-07-27T00:49:12.813Z"
   },
   {
    "duration": 224,
    "start_time": "2022-07-27T00:49:13.025Z"
   },
   {
    "duration": 5,
    "start_time": "2022-07-27T00:49:13.251Z"
   },
   {
    "duration": 147,
    "start_time": "2022-07-27T00:49:13.258Z"
   },
   {
    "duration": 3,
    "start_time": "2022-07-27T00:49:13.407Z"
   },
   {
    "duration": 5,
    "start_time": "2022-07-27T00:49:13.412Z"
   },
   {
    "duration": 34,
    "start_time": "2022-07-27T00:49:13.419Z"
   },
   {
    "duration": 23,
    "start_time": "2022-07-27T00:49:13.455Z"
   },
   {
    "duration": 9,
    "start_time": "2022-07-27T00:49:13.480Z"
   },
   {
    "duration": 1645,
    "start_time": "2022-07-27T00:49:13.490Z"
   },
   {
    "duration": 13,
    "start_time": "2022-07-27T00:49:15.136Z"
   },
   {
    "duration": 23,
    "start_time": "2022-07-27T00:49:15.150Z"
   },
   {
    "duration": 507,
    "start_time": "2022-07-27T00:49:15.175Z"
   },
   {
    "duration": 384,
    "start_time": "2022-07-27T00:49:15.683Z"
   },
   {
    "duration": 6,
    "start_time": "2022-07-27T00:49:16.069Z"
   },
   {
    "duration": 10,
    "start_time": "2022-07-27T00:49:16.077Z"
   },
   {
    "duration": 11,
    "start_time": "2022-07-27T00:49:16.089Z"
   },
   {
    "duration": 78,
    "start_time": "2022-07-27T00:49:16.102Z"
   },
   {
    "duration": 4,
    "start_time": "2022-07-27T00:49:16.182Z"
   },
   {
    "duration": 98,
    "start_time": "2022-07-27T00:49:16.188Z"
   },
   {
    "duration": 86,
    "start_time": "2022-07-27T00:49:16.288Z"
   },
   {
    "duration": 4,
    "start_time": "2022-07-27T00:49:16.376Z"
   },
   {
    "duration": 11,
    "start_time": "2022-07-27T00:49:16.382Z"
   },
   {
    "duration": 82,
    "start_time": "2022-07-27T00:49:16.394Z"
   },
   {
    "duration": 15,
    "start_time": "2022-07-27T00:49:16.478Z"
   },
   {
    "duration": 88,
    "start_time": "2022-07-27T00:49:16.494Z"
   },
   {
    "duration": 9,
    "start_time": "2022-07-27T00:49:16.584Z"
   },
   {
    "duration": 4,
    "start_time": "2022-07-27T00:49:16.674Z"
   },
   {
    "duration": 96,
    "start_time": "2022-07-27T00:49:16.680Z"
   },
   {
    "duration": 4,
    "start_time": "2022-07-27T00:53:00.773Z"
   },
   {
    "duration": 4,
    "start_time": "2022-07-27T00:53:08.418Z"
   },
   {
    "duration": 4,
    "start_time": "2022-07-27T00:53:53.400Z"
   },
   {
    "duration": 47,
    "start_time": "2022-07-27T00:54:48.669Z"
   },
   {
    "duration": 5,
    "start_time": "2022-07-27T00:54:56.645Z"
   },
   {
    "duration": 6,
    "start_time": "2022-07-27T00:57:03.279Z"
   },
   {
    "duration": 5,
    "start_time": "2022-07-27T01:03:40.131Z"
   },
   {
    "duration": 5,
    "start_time": "2022-07-27T01:05:31.148Z"
   },
   {
    "duration": 102,
    "start_time": "2022-07-27T01:06:11.151Z"
   },
   {
    "duration": 12,
    "start_time": "2022-07-27T01:06:20.361Z"
   },
   {
    "duration": 11,
    "start_time": "2022-07-27T01:06:36.312Z"
   },
   {
    "duration": 11,
    "start_time": "2022-07-27T01:06:43.564Z"
   },
   {
    "duration": 14,
    "start_time": "2022-07-27T01:06:59.404Z"
   },
   {
    "duration": 5,
    "start_time": "2022-07-27T01:07:12.142Z"
   },
   {
    "duration": 12,
    "start_time": "2022-07-27T01:07:22.231Z"
   },
   {
    "duration": 5,
    "start_time": "2022-07-27T01:07:26.533Z"
   },
   {
    "duration": 5,
    "start_time": "2022-07-27T01:08:07.769Z"
   },
   {
    "duration": 5,
    "start_time": "2022-07-27T01:08:33.242Z"
   },
   {
    "duration": 6,
    "start_time": "2022-07-27T01:10:54.442Z"
   },
   {
    "duration": 7,
    "start_time": "2022-07-27T01:14:42.173Z"
   },
   {
    "duration": 8,
    "start_time": "2022-07-27T01:14:50.897Z"
   },
   {
    "duration": 7,
    "start_time": "2022-07-27T01:15:57.697Z"
   },
   {
    "duration": 1373,
    "start_time": "2022-07-27T02:29:50.588Z"
   },
   {
    "duration": 30,
    "start_time": "2022-07-27T02:29:51.963Z"
   },
   {
    "duration": 4,
    "start_time": "2022-07-27T02:29:51.995Z"
   },
   {
    "duration": 16,
    "start_time": "2022-07-27T02:29:52.000Z"
   },
   {
    "duration": 11,
    "start_time": "2022-07-27T02:29:52.017Z"
   },
   {
    "duration": 5,
    "start_time": "2022-07-27T02:29:52.029Z"
   },
   {
    "duration": 13,
    "start_time": "2022-07-27T02:29:52.035Z"
   },
   {
    "duration": 4,
    "start_time": "2022-07-27T02:29:52.049Z"
   },
   {
    "duration": 32,
    "start_time": "2022-07-27T02:29:52.055Z"
   },
   {
    "duration": 12,
    "start_time": "2022-07-27T02:29:52.089Z"
   },
   {
    "duration": 4,
    "start_time": "2022-07-27T02:29:52.103Z"
   },
   {
    "duration": 25,
    "start_time": "2022-07-27T02:29:52.109Z"
   },
   {
    "duration": 10,
    "start_time": "2022-07-27T02:29:52.135Z"
   },
   {
    "duration": 27,
    "start_time": "2022-07-27T02:29:52.147Z"
   },
   {
    "duration": 7,
    "start_time": "2022-07-27T02:29:52.176Z"
   },
   {
    "duration": 15,
    "start_time": "2022-07-27T02:29:52.185Z"
   },
   {
    "duration": 5,
    "start_time": "2022-07-27T02:29:52.201Z"
   },
   {
    "duration": 3415,
    "start_time": "2022-07-27T02:29:52.208Z"
   },
   {
    "duration": 8,
    "start_time": "2022-07-27T02:29:55.624Z"
   },
   {
    "duration": 15,
    "start_time": "2022-07-27T02:29:55.633Z"
   },
   {
    "duration": 23,
    "start_time": "2022-07-27T02:29:55.649Z"
   },
   {
    "duration": 101,
    "start_time": "2022-07-27T02:29:55.674Z"
   },
   {
    "duration": 134,
    "start_time": "2022-07-27T02:29:55.777Z"
   },
   {
    "duration": 13,
    "start_time": "2022-07-27T02:29:55.912Z"
   },
   {
    "duration": 14,
    "start_time": "2022-07-27T02:29:55.927Z"
   },
   {
    "duration": 24,
    "start_time": "2022-07-27T02:29:55.943Z"
   },
   {
    "duration": 108,
    "start_time": "2022-07-27T02:29:55.969Z"
   },
   {
    "duration": 130,
    "start_time": "2022-07-27T02:29:56.081Z"
   },
   {
    "duration": 20,
    "start_time": "2022-07-27T02:29:56.213Z"
   },
   {
    "duration": 210,
    "start_time": "2022-07-27T02:29:56.235Z"
   },
   {
    "duration": 178,
    "start_time": "2022-07-27T02:29:56.447Z"
   },
   {
    "duration": 7,
    "start_time": "2022-07-27T02:29:56.627Z"
   },
   {
    "duration": 9,
    "start_time": "2022-07-27T02:29:56.636Z"
   },
   {
    "duration": 138,
    "start_time": "2022-07-27T02:29:56.646Z"
   },
   {
    "duration": 3,
    "start_time": "2022-07-27T02:29:56.785Z"
   },
   {
    "duration": 16,
    "start_time": "2022-07-27T02:29:56.789Z"
   },
   {
    "duration": 42,
    "start_time": "2022-07-27T02:29:56.807Z"
   },
   {
    "duration": 8,
    "start_time": "2022-07-27T02:29:56.851Z"
   },
   {
    "duration": 17,
    "start_time": "2022-07-27T02:29:56.861Z"
   },
   {
    "duration": 1577,
    "start_time": "2022-07-27T02:29:56.880Z"
   },
   {
    "duration": 18,
    "start_time": "2022-07-27T02:29:58.459Z"
   },
   {
    "duration": 22,
    "start_time": "2022-07-27T02:29:58.478Z"
   },
   {
    "duration": 446,
    "start_time": "2022-07-27T02:29:58.502Z"
   },
   {
    "duration": 355,
    "start_time": "2022-07-27T02:29:58.949Z"
   },
   {
    "duration": 4,
    "start_time": "2022-07-27T02:29:59.305Z"
   },
   {
    "duration": 10,
    "start_time": "2022-07-27T02:29:59.311Z"
   },
   {
    "duration": 11,
    "start_time": "2022-07-27T02:29:59.323Z"
   },
   {
    "duration": 45,
    "start_time": "2022-07-27T02:29:59.335Z"
   },
   {
    "duration": 91,
    "start_time": "2022-07-27T02:29:59.383Z"
   },
   {
    "duration": 99,
    "start_time": "2022-07-27T02:29:59.476Z"
   },
   {
    "duration": 5,
    "start_time": "2022-07-27T02:29:59.576Z"
   },
   {
    "duration": 5,
    "start_time": "2022-07-27T02:29:59.583Z"
   },
   {
    "duration": 87,
    "start_time": "2022-07-27T02:29:59.589Z"
   },
   {
    "duration": 5,
    "start_time": "2022-07-27T02:29:59.677Z"
   },
   {
    "duration": 91,
    "start_time": "2022-07-27T02:29:59.684Z"
   },
   {
    "duration": 8,
    "start_time": "2022-07-27T02:29:59.777Z"
   },
   {
    "duration": 87,
    "start_time": "2022-07-27T02:29:59.787Z"
   },
   {
    "duration": 22,
    "start_time": "2022-07-27T02:29:59.876Z"
   },
   {
    "duration": 10,
    "start_time": "2022-07-27T02:29:59.974Z"
   }
  ],
  "kernelspec": {
   "display_name": "Python 3 (ipykernel)",
   "language": "python",
   "name": "python3"
  },
  "language_info": {
   "codemirror_mode": {
    "name": "ipython",
    "version": 3
   },
   "file_extension": ".py",
   "mimetype": "text/x-python",
   "name": "python",
   "nbconvert_exporter": "python",
   "pygments_lexer": "ipython3",
   "version": "3.9.5"
  },
  "toc": {
   "base_numbering": 1,
   "nav_menu": {},
   "number_sections": true,
   "sideBar": true,
   "skip_h1_title": true,
   "title_cell": "Table of Contents",
   "title_sidebar": "Contents",
   "toc_cell": false,
   "toc_position": {},
   "toc_section_display": true,
   "toc_window_display": false
  }
 },
 "nbformat": 4,
 "nbformat_minor": 4
}
