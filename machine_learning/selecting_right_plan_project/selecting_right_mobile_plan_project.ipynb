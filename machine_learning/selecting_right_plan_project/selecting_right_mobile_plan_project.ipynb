{
 "cells": [
  {
   "cell_type": "markdown",
   "metadata": {},
   "source": [
    "# Project: Creating a Model to Pick the Right Mobile Plan\n",
    "\n",
    "Mobile carrier Megaline has found out that many of their subscribers use legacy plans. They want to develop a model that would analyze subscribers' behavior and recommend one of Megaline's newer plans: Smart or Ultra.\n",
    "In this project, we analyzed the behavior data about subscribers who have already switched to the new plans. For this classification task, we developed a model that will pick the right plan and picked the model with the highest possible accuracy score. The threshold for accuracy was 0.75. "
   ]
  },
  {
   "cell_type": "markdown",
   "metadata": {},
   "source": [
    "# Libraries used for Analysis "
   ]
  },
  {
   "cell_type": "code",
   "execution_count": 1,
   "metadata": {},
   "outputs": [],
   "source": [
    "import pandas as pd\n",
    "from sklearn.tree import DecisionTreeClassifier\n",
    "from sklearn.ensemble import RandomForestClassifier\n",
    "from sklearn.metrics import accuracy_score\n",
    "from sklearn.model_selection import train_test_split"
   ]
  },
  {
   "cell_type": "markdown",
   "metadata": {},
   "source": [
    "# Description of users' behavior data\n",
    "\n",
    "The users' behavior data was saved in teh variable __data__, which contains 5 columns, and 3214 rows, each representing an observation for an user. The description of the columns in listed below: \n",
    "\n",
    "- `сalls` — number of calls,\n",
    "- `minutes` — total call duration in minutes,\n",
    "- `messages` — number of text messages,\n",
    "- `mb_used` — Internet traffic used in MB,\n",
    "- `is_ultra` — plan for the current month (Ultra - 1, Smart - 0)."
   ]
  },
  {
   "cell_type": "code",
   "execution_count": 2,
   "metadata": {
    "scrolled": false
   },
   "outputs": [
    {
     "name": "stdout",
     "output_type": "stream",
     "text": [
      "<class 'pandas.core.frame.DataFrame'>\n",
      "RangeIndex: 3214 entries, 0 to 3213\n",
      "Data columns (total 5 columns):\n",
      " #   Column    Non-Null Count  Dtype  \n",
      "---  ------    --------------  -----  \n",
      " 0   calls     3214 non-null   float64\n",
      " 1   minutes   3214 non-null   float64\n",
      " 2   messages  3214 non-null   float64\n",
      " 3   mb_used   3214 non-null   float64\n",
      " 4   is_ultra  3214 non-null   int64  \n",
      "dtypes: float64(4), int64(1)\n",
      "memory usage: 125.7 KB\n"
     ]
    }
   ],
   "source": [
    "data= pd.read_csv('/datasets/users_behavior.csv')\n",
    "data.info()"
   ]
  },
  {
   "cell_type": "markdown",
   "metadata": {},
   "source": [
    "# Model 1: Decision tree\n",
    "\n",
    "For the decision tree model, we split the data into three data sets: training, validation, and testing, in a 3:1:1 ratio, respectively. "
   ]
  },
  {
   "cell_type": "code",
   "execution_count": 3,
   "metadata": {},
   "outputs": [
    {
     "name": "stdout",
     "output_type": "stream",
     "text": [
      "training data set features shape: (1928, 4)\n",
      "training data set target shape: (1928,)\n",
      "validation data set features shape: (643, 4)\n",
      "validation data set target shape: (643,)\n",
      "testing data set features shape: (643, 4)\n",
      "testing data set target shape: (643,)\n"
     ]
    },
    {
     "data": {
      "text/plain": [
       "(None, None)"
      ]
     },
     "execution_count": 3,
     "metadata": {},
     "output_type": "execute_result"
    }
   ],
   "source": [
    "#splitting the data into training, validation, and test in a 3:1:1 ratio, respectively\n",
    "\n",
    "train_size=0.6\n",
    "\n",
    "x = data.drop(columns = ['is_ultra'], axis=1)\n",
    "y = data['is_ultra']\n",
    "\n",
    "# In the first step we will split the data in training and remaining dataset\n",
    "x_train, x_rem, y_train, y_rem = train_test_split(x,y, train_size=0.6, random_state=12345)\n",
    "\n",
    "# Now since we want the valid and test size to be equal (20% each of overall data). \n",
    "# we have to define valid_size=0.5 (that is 50% of remaining data)\n",
    "\n",
    "test_size = 0.5\n",
    "x_valid, x_test, y_valid, y_test = train_test_split(x_rem,y_rem, test_size=0.5, random_state=12345)\n",
    "\n",
    "\n",
    "print(\"training data set features shape:\", x_train.shape), print(\"training data set target shape:\",y_train.shape)\n",
    "print(\"validation data set features shape:\",x_valid.shape), print(\"validation data set target shape:\",y_valid.shape)\n",
    "print(\"testing data set features shape:\",x_test.shape), print(\"testing data set target shape:\",y_test.shape)"
   ]
  },
  {
   "cell_type": "markdown",
   "metadata": {},
   "source": [
    "For the decision tree model, we created a loop to determine the optimal __max_depth__ hyperparameter value for the model. We found that the best __max_depth__ value was 3. After applying the trained model to the test data set, we obtained an accuracy score of 77.91% for the test data set. "
   ]
  },
  {
   "cell_type": "code",
   "execution_count": 4,
   "metadata": {},
   "outputs": [
    {
     "name": "stdout",
     "output_type": "stream",
     "text": [
      " depth= 3 with accuracy 0.7853810264385692\n"
     ]
    }
   ],
   "source": [
    "#creating a loop to see which depth has highest accuracy \n",
    "best_score = 0 \n",
    "best_depth = 0\n",
    "\n",
    "for depth in range(1,120):\n",
    "    model= DecisionTreeClassifier(random_state=12345, max_depth=depth)\n",
    "    model.fit(x_train, y_train)\n",
    "    score= model.score(x_valid, y_valid)\n",
    "    if score > best_score:\n",
    "        best_score= score\n",
    "        best_depth = depth\n",
    "\n",
    "print(f' depth= {best_depth} with accuracy {best_score}')"
   ]
  },
  {
   "cell_type": "code",
   "execution_count": 5,
   "metadata": {
    "scrolled": true
   },
   "outputs": [
    {
     "name": "stdout",
     "output_type": "stream",
     "text": [
      "Accuracy Score for Train Data:  0.8075726141078838\n",
      "Accuracy Score for Test Data: 0.7791601866251944\n"
     ]
    }
   ],
   "source": [
    "model= DecisionTreeClassifier(random_state=12345, max_depth=3)\n",
    "model.fit(x_train, y_train)\n",
    "\n",
    "train_predictions = model.predict(x_train)\n",
    "test_predictions = model.predict(x_test)\n",
    "\n",
    "print(\"Accuracy Score for Train Data: \", accuracy_score(y_train, train_predictions))\n",
    "print(\"Accuracy Score for Test Data:\", accuracy_score(y_test, test_predictions))"
   ]
  },
  {
   "cell_type": "markdown",
   "metadata": {},
   "source": [
    "## Model 1: sanity check\n",
    "\n",
    "For the sanity check, we tested against predicting a model randomly. Since each plan has an equal chance, 50% probability, of being selected randomly; then our accuracy from selecting a plan randomly would be 0.50. Our decision tree model passed the sanity check for predicting a model from the testing data set since its accuracy score is higher than the accuracy score of selecting a plan randomly. "
   ]
  },
  {
   "cell_type": "code",
   "execution_count": 6,
   "metadata": {},
   "outputs": [
    {
     "name": "stdout",
     "output_type": "stream",
     "text": [
      "sanity check passed!\n"
     ]
    }
   ],
   "source": [
    "sanity_accuracy_random= y_test.value_counts(normalize=True)*0.5\n",
    "if sanity_accuracy_random.sum() >=  accuracy_score(y_test, test_predictions): \n",
    "    print('sanity check failed!')\n",
    "if sanity_accuracy_random.sum() <  accuracy_score(y_test, test_predictions): \n",
    "    print('sanity check passed!')"
   ]
  },
  {
   "cell_type": "markdown",
   "metadata": {},
   "source": [
    "# Model 2: Random Forest \n",
    "\n",
    "For the random forest model, we split the data into three data sets: training, validation, and testing, in a 3:1:1 ratio, respectively. The loop below was used to find the optimal value for the hyperparameter __n_stimators__. We found that this optimal value was 23 and it produced an accuracy score of 78.07% for predicing our testing data set. "
   ]
  },
  {
   "cell_type": "code",
   "execution_count": 7,
   "metadata": {},
   "outputs": [
    {
     "name": "stdout",
     "output_type": "stream",
     "text": [
      "Best estimmator for model is 23  with an accuracy score of 0.7947122861586314\n"
     ]
    }
   ],
   "source": [
    "best_score = 0\n",
    "best_est = 0\n",
    "for est in range (1,100):\n",
    "    model= RandomForestClassifier(random_state=12345, n_estimators=est)\n",
    "    model.fit(x_train, y_train)\n",
    "    score= model.score(x_valid,y_valid)\n",
    "    if score > best_score:\n",
    "        best_score = score \n",
    "        best_est = est\n",
    "print (f'Best estimmator for model is {best_est}  with an accuracy score of {best_score}')"
   ]
  },
  {
   "cell_type": "code",
   "execution_count": 8,
   "metadata": {},
   "outputs": [
    {
     "name": "stdout",
     "output_type": "stream",
     "text": [
      "Accuracy Score for Train Data:  0.9937759336099585\n",
      "Accuracy Score for Test Data: 0.7807153965785381\n"
     ]
    }
   ],
   "source": [
    "model= RandomForestClassifier(random_state=12345, n_estimators=23)\n",
    "model.fit(x_train, y_train)\n",
    "\n",
    "train_predictions = model.predict(x_train)\n",
    "test_predictions = model.predict(x_test)\n",
    "\n",
    "print(\"Accuracy Score for Train Data: \", accuracy_score(y_train, train_predictions))\n",
    "print(\"Accuracy Score for Test Data:\", accuracy_score(y_test, test_predictions))"
   ]
  },
  {
   "cell_type": "markdown",
   "metadata": {},
   "source": [
    "## Model 2: sanity check\n",
    "\n",
    "For the sanity check, we tested against predicting a model randomly. Since each plan has an equal chance, 50% probability, of being selected randomly; then our accuracy from selecting a plan randomly would be 0.50. Our random forest model passed the sanity check for predicting a model from the testing data set since its accuracy score is higher than the accuracy score of selecting a plan randomly. "
   ]
  },
  {
   "cell_type": "code",
   "execution_count": 9,
   "metadata": {
    "scrolled": true
   },
   "outputs": [
    {
     "name": "stdout",
     "output_type": "stream",
     "text": [
      "sanity check passed!\n"
     ]
    }
   ],
   "source": [
    "sanity_accuracy_random= y_test.value_counts(normalize=True)*0.5\n",
    "if sanity_accuracy_random.sum() >=  accuracy_score(y_test, test_predictions): \n",
    "    print('sanity check failed!')\n",
    "if sanity_accuracy_random.sum() <  accuracy_score(y_test, test_predictions): \n",
    "    print('sanity check passed!')"
   ]
  },
  {
   "cell_type": "markdown",
   "metadata": {},
   "source": [
    "# General Conclusion\n",
    "\n",
    "The model that we selected was the random forest with a __n_stimators__ hyperparamater value of 23. The model produced a 78.07% accuracy score, compared to our decision tree model that produced an accuracy score of 77.91%, for our test data set. "
   ]
  }
 ],
 "metadata": {
  "ExecuteTimeLog": [
   {
    "duration": 452,
    "start_time": "2022-05-20T20:57:43.529Z"
   },
   {
    "duration": 107,
    "start_time": "2022-05-20T20:58:00.195Z"
   },
   {
    "duration": 46,
    "start_time": "2022-05-20T20:58:08.011Z"
   },
   {
    "duration": 42,
    "start_time": "2022-05-20T20:58:19.208Z"
   },
   {
    "duration": 792,
    "start_time": "2022-05-20T21:06:08.979Z"
   },
   {
    "duration": 44,
    "start_time": "2022-05-20T21:12:59.214Z"
   },
   {
    "duration": 197,
    "start_time": "2022-05-20T21:13:03.221Z"
   },
   {
    "duration": 187,
    "start_time": "2022-05-20T21:14:37.347Z"
   },
   {
    "duration": 4,
    "start_time": "2022-05-20T21:15:31.768Z"
   },
   {
    "duration": 10,
    "start_time": "2022-05-20T21:17:46.109Z"
   },
   {
    "duration": 12,
    "start_time": "2022-05-20T21:18:08.260Z"
   },
   {
    "duration": 11,
    "start_time": "2022-05-20T21:20:10.828Z"
   },
   {
    "duration": 26,
    "start_time": "2022-05-20T21:20:23.280Z"
   },
   {
    "duration": 13,
    "start_time": "2022-05-20T21:23:17.888Z"
   },
   {
    "duration": 11,
    "start_time": "2022-05-20T21:24:04.703Z"
   },
   {
    "duration": 13,
    "start_time": "2022-05-20T21:25:01.318Z"
   },
   {
    "duration": 448,
    "start_time": "2022-05-20T21:33:55.111Z"
   },
   {
    "duration": 9922,
    "start_time": "2022-05-20T21:34:07.968Z"
   },
   {
    "duration": 10,
    "start_time": "2022-05-20T21:34:50.330Z"
   },
   {
    "duration": 13,
    "start_time": "2022-05-20T21:34:55.608Z"
   },
   {
    "duration": 52,
    "start_time": "2022-05-20T21:35:14.267Z"
   },
   {
    "duration": 658,
    "start_time": "2022-05-20T21:35:27.164Z"
   },
   {
    "duration": 273,
    "start_time": "2022-05-20T21:35:42.437Z"
   },
   {
    "duration": 220,
    "start_time": "2022-05-20T21:36:15.389Z"
   },
   {
    "duration": 202,
    "start_time": "2022-05-20T21:36:37.108Z"
   },
   {
    "duration": 708,
    "start_time": "2022-05-20T21:36:45.604Z"
   },
   {
    "duration": 1203,
    "start_time": "2022-05-20T21:37:04.467Z"
   },
   {
    "duration": 1051,
    "start_time": "2022-05-23T15:01:55.652Z"
   },
   {
    "duration": 146,
    "start_time": "2022-05-23T15:01:56.706Z"
   },
   {
    "duration": 22,
    "start_time": "2022-05-23T15:01:56.854Z"
   },
   {
    "duration": 1639,
    "start_time": "2022-05-23T15:01:56.878Z"
   },
   {
    "duration": 1418,
    "start_time": "2022-05-23T15:02:14.654Z"
   },
   {
    "duration": 1397,
    "start_time": "2022-05-23T15:02:18.576Z"
   },
   {
    "duration": 1519,
    "start_time": "2022-05-23T15:02:49.630Z"
   },
   {
    "duration": 1460,
    "start_time": "2022-05-23T15:02:54.455Z"
   },
   {
    "duration": 1369,
    "start_time": "2022-05-23T15:03:19.080Z"
   },
   {
    "duration": 64,
    "start_time": "2022-05-23T16:02:50.510Z"
   },
   {
    "duration": 1043,
    "start_time": "2022-05-23T16:03:00.631Z"
   },
   {
    "duration": 116,
    "start_time": "2022-05-23T16:03:01.676Z"
   },
   {
    "duration": 21,
    "start_time": "2022-05-23T16:03:01.794Z"
   },
   {
    "duration": 1366,
    "start_time": "2022-05-23T16:03:01.817Z"
   },
   {
    "duration": 1027,
    "start_time": "2022-05-23T16:06:16.674Z"
   },
   {
    "duration": 37,
    "start_time": "2022-05-23T16:06:17.703Z"
   },
   {
    "duration": 15,
    "start_time": "2022-05-23T16:06:17.742Z"
   },
   {
    "duration": 1225,
    "start_time": "2022-05-23T16:06:17.759Z"
   },
   {
    "duration": 962,
    "start_time": "2022-05-23T16:21:34.662Z"
   },
   {
    "duration": 40,
    "start_time": "2022-05-23T16:21:35.626Z"
   },
   {
    "duration": 16,
    "start_time": "2022-05-23T16:21:35.667Z"
   },
   {
    "duration": 1167,
    "start_time": "2022-05-23T16:21:35.685Z"
   },
   {
    "duration": 103,
    "start_time": "2022-05-23T16:21:36.854Z"
   },
   {
    "duration": 66,
    "start_time": "2022-05-23T16:24:15.022Z"
   },
   {
    "duration": 22,
    "start_time": "2022-05-23T16:24:20.689Z"
   },
   {
    "duration": 22,
    "start_time": "2022-05-23T16:24:59.704Z"
   },
   {
    "duration": 21,
    "start_time": "2022-05-23T16:25:09.719Z"
   },
   {
    "duration": 947,
    "start_time": "2022-05-23T16:26:04.232Z"
   },
   {
    "duration": 37,
    "start_time": "2022-05-23T16:26:05.181Z"
   },
   {
    "duration": 16,
    "start_time": "2022-05-23T16:26:05.220Z"
   },
   {
    "duration": 1143,
    "start_time": "2022-05-23T16:26:05.238Z"
   },
   {
    "duration": 123,
    "start_time": "2022-05-23T16:26:06.382Z"
   },
   {
    "duration": 5,
    "start_time": "2022-05-23T16:27:07.453Z"
   },
   {
    "duration": 13,
    "start_time": "2022-05-23T16:27:13.485Z"
   },
   {
    "duration": 5,
    "start_time": "2022-05-23T16:27:20.702Z"
   },
   {
    "duration": 10,
    "start_time": "2022-05-23T16:27:36.398Z"
   },
   {
    "duration": 22,
    "start_time": "2022-05-23T16:28:53.904Z"
   },
   {
    "duration": 8,
    "start_time": "2022-05-23T16:29:25.095Z"
   },
   {
    "duration": 10,
    "start_time": "2022-05-23T16:29:43.275Z"
   },
   {
    "duration": 9,
    "start_time": "2022-05-23T16:30:58.194Z"
   },
   {
    "duration": 12,
    "start_time": "2022-05-23T16:34:05.398Z"
   },
   {
    "duration": 28,
    "start_time": "2022-05-23T16:34:22.711Z"
   },
   {
    "duration": 12,
    "start_time": "2022-05-23T16:34:29.189Z"
   },
   {
    "duration": 14,
    "start_time": "2022-05-23T16:35:42.653Z"
   },
   {
    "duration": 12,
    "start_time": "2022-05-23T16:36:00.264Z"
   },
   {
    "duration": 13,
    "start_time": "2022-05-23T16:36:02.980Z"
   },
   {
    "duration": 1133,
    "start_time": "2022-05-23T16:36:28.513Z"
   },
   {
    "duration": 12,
    "start_time": "2022-05-23T16:36:33.676Z"
   },
   {
    "duration": 10,
    "start_time": "2022-05-23T16:36:39.737Z"
   },
   {
    "duration": 5,
    "start_time": "2022-05-23T17:02:29.351Z"
   },
   {
    "duration": 472,
    "start_time": "2022-05-23T17:02:46.045Z"
   },
   {
    "duration": 5,
    "start_time": "2022-05-23T17:03:18.032Z"
   },
   {
    "duration": 6,
    "start_time": "2022-05-23T17:03:25.369Z"
   },
   {
    "duration": 6,
    "start_time": "2022-05-23T17:03:37.651Z"
   },
   {
    "duration": 30,
    "start_time": "2022-05-23T17:03:50.256Z"
   },
   {
    "duration": 6,
    "start_time": "2022-05-23T17:03:54.486Z"
   },
   {
    "duration": 12,
    "start_time": "2022-05-23T17:04:13.446Z"
   },
   {
    "duration": 6,
    "start_time": "2022-05-23T17:04:18.385Z"
   },
   {
    "duration": 6,
    "start_time": "2022-05-23T17:04:37.321Z"
   },
   {
    "duration": 10,
    "start_time": "2022-05-23T17:11:08.698Z"
   },
   {
    "duration": 10,
    "start_time": "2022-05-23T17:11:16.478Z"
   },
   {
    "duration": 11,
    "start_time": "2022-05-23T17:12:00.066Z"
   },
   {
    "duration": 6,
    "start_time": "2022-05-23T17:12:04.513Z"
   },
   {
    "duration": 5,
    "start_time": "2022-05-23T17:12:57.519Z"
   },
   {
    "duration": 4,
    "start_time": "2022-05-23T17:13:22.384Z"
   },
   {
    "duration": 5,
    "start_time": "2022-05-23T17:13:32.681Z"
   },
   {
    "duration": 5,
    "start_time": "2022-05-23T17:13:37.507Z"
   },
   {
    "duration": 6,
    "start_time": "2022-05-23T17:13:52.340Z"
   },
   {
    "duration": 6,
    "start_time": "2022-05-23T17:16:32.054Z"
   },
   {
    "duration": 57,
    "start_time": "2022-05-23T17:19:16.457Z"
   },
   {
    "duration": 68,
    "start_time": "2022-05-23T17:19:28.620Z"
   },
   {
    "duration": 6,
    "start_time": "2022-05-23T17:19:40.509Z"
   },
   {
    "duration": 7,
    "start_time": "2022-05-23T17:19:48.557Z"
   },
   {
    "duration": 329,
    "start_time": "2022-05-23T17:22:32.731Z"
   },
   {
    "duration": 12,
    "start_time": "2022-05-23T17:22:39.002Z"
   },
   {
    "duration": 12,
    "start_time": "2022-05-23T17:26:12.004Z"
   },
   {
    "duration": 18592,
    "start_time": "2022-05-23T17:26:46.191Z"
   },
   {
    "duration": 18888,
    "start_time": "2022-05-23T17:28:57.314Z"
   },
   {
    "duration": 868,
    "start_time": "2022-05-23T17:36:27.051Z"
   },
   {
    "duration": 39,
    "start_time": "2022-05-23T17:36:27.921Z"
   },
   {
    "duration": 17,
    "start_time": "2022-05-23T17:36:27.961Z"
   },
   {
    "duration": 1185,
    "start_time": "2022-05-23T17:36:27.980Z"
   },
   {
    "duration": 11,
    "start_time": "2022-05-23T17:36:29.166Z"
   },
   {
    "duration": 7,
    "start_time": "2022-05-23T17:36:29.179Z"
   },
   {
    "duration": 19677,
    "start_time": "2022-05-23T17:36:29.187Z"
   },
   {
    "duration": 3,
    "start_time": "2022-05-23T17:36:48.866Z"
   },
   {
    "duration": 873,
    "start_time": "2022-05-23T17:38:01.851Z"
   },
   {
    "duration": 38,
    "start_time": "2022-05-23T17:38:02.726Z"
   },
   {
    "duration": 15,
    "start_time": "2022-05-23T17:38:02.766Z"
   },
   {
    "duration": 1206,
    "start_time": "2022-05-23T17:38:02.783Z"
   },
   {
    "duration": 15,
    "start_time": "2022-05-23T17:38:03.991Z"
   },
   {
    "duration": 7,
    "start_time": "2022-05-23T17:38:04.007Z"
   },
   {
    "duration": 19188,
    "start_time": "2022-05-23T17:38:04.016Z"
   },
   {
    "duration": 112,
    "start_time": "2022-05-23T17:38:23.206Z"
   },
   {
    "duration": 1072,
    "start_time": "2022-05-23T17:39:44.277Z"
   },
   {
    "duration": 38,
    "start_time": "2022-05-23T17:39:45.351Z"
   },
   {
    "duration": 16,
    "start_time": "2022-05-23T17:39:45.390Z"
   },
   {
    "duration": 1221,
    "start_time": "2022-05-23T17:39:45.409Z"
   },
   {
    "duration": 13,
    "start_time": "2022-05-23T17:39:46.632Z"
   },
   {
    "duration": 7,
    "start_time": "2022-05-23T17:39:46.647Z"
   },
   {
    "duration": 19600,
    "start_time": "2022-05-23T17:39:46.656Z"
   },
   {
    "duration": 119,
    "start_time": "2022-05-23T17:40:06.258Z"
   },
   {
    "duration": 7,
    "start_time": "2022-05-23T17:40:06.378Z"
   },
   {
    "duration": 971,
    "start_time": "2022-05-23T17:47:23.544Z"
   },
   {
    "duration": 38,
    "start_time": "2022-05-23T17:47:24.517Z"
   },
   {
    "duration": 15,
    "start_time": "2022-05-23T17:47:24.557Z"
   },
   {
    "duration": 1252,
    "start_time": "2022-05-23T17:47:24.573Z"
   },
   {
    "duration": 16,
    "start_time": "2022-05-23T17:47:25.827Z"
   },
   {
    "duration": 6,
    "start_time": "2022-05-23T17:47:25.845Z"
   },
   {
    "duration": 20430,
    "start_time": "2022-05-23T17:47:25.853Z"
   },
   {
    "duration": 117,
    "start_time": "2022-05-23T17:47:46.285Z"
   },
   {
    "duration": 6,
    "start_time": "2022-05-23T17:47:46.404Z"
   }
  ],
  "kernelspec": {
   "display_name": "Python 3 (ipykernel)",
   "language": "python",
   "name": "python3"
  },
  "language_info": {
   "codemirror_mode": {
    "name": "ipython",
    "version": 3
   },
   "file_extension": ".py",
   "mimetype": "text/x-python",
   "name": "python",
   "nbconvert_exporter": "python",
   "pygments_lexer": "ipython3",
   "version": "3.9.5"
  },
  "toc": {
   "base_numbering": 1,
   "nav_menu": {},
   "number_sections": true,
   "sideBar": true,
   "skip_h1_title": true,
   "title_cell": "Table of Contents",
   "title_sidebar": "Contents",
   "toc_cell": false,
   "toc_position": {},
   "toc_section_display": true,
   "toc_window_display": false
  }
 },
 "nbformat": 4,
 "nbformat_minor": 2
}
